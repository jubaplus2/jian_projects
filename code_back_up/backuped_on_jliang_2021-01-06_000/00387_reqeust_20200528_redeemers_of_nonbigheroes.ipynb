{
 "cells": [
  {
   "cell_type": "code",
   "execution_count": 1,
   "metadata": {},
   "outputs": [
    {
     "name": "stdout",
     "output_type": "stream",
     "text": [
      "/home/jian/Projects/Big_Lots/Analysis/2020_Q1/bigheroes_segments_matching\n"
     ]
    }
   ],
   "source": [
    "# all 2nd version of non-bh campaigns\n",
    "\n",
    "import pandas as pd\n",
    "import numpy as np\n",
    "import datetime\n",
    "import paramiko\n",
    "import os\n",
    "\n",
    "print(os.getcwd())"
   ]
  },
  {
   "cell_type": "code",
   "execution_count": 2,
   "metadata": {},
   "outputs": [],
   "source": [
    "host = \"107.191.32.220\" #hard-coded\n",
    "port = 22\n",
    "transport = paramiko.Transport((host, port))\n",
    "\n",
    "password = \"vgn5UucsUNHL4n9R\" #hard-coded\n",
    "username = \"biglots_data\" #hard-coded\n",
    "transport.connect(username = username, password = password)\n",
    "sftp = paramiko.SFTPClient.from_transport(transport)"
   ]
  },
  {
   "cell_type": "code",
   "execution_count": 3,
   "metadata": {},
   "outputs": [
    {
     "data": {
      "text/plain": [
       "['non_bh_post_0502.txt', 'non_bh_thru_0502.txt']"
      ]
     },
     "execution_count": 3,
     "metadata": {},
     "output_type": "execute_result"
    }
   ],
   "source": [
    "list_files_need=sftp.listdir(\"./\")\n",
    "list_files_need=[x for x in list_files_need if \"bh\" in x]\n",
    "list_files_need"
   ]
  },
  {
   "cell_type": "code",
   "execution_count": 4,
   "metadata": {},
   "outputs": [],
   "source": [
    "for file in list_files_need:\n",
    "    sftp.get(file,\"./\"+file)\n",
    "sftp.close()\n",
    "transport.close()"
   ]
  },
  {
   "cell_type": "code",
   "execution_count": 5,
   "metadata": {},
   "outputs": [
    {
     "name": "stdout",
     "output_type": "stream",
     "text": [
      "(3751024, 1)\n",
      "(3751024, 1)\n"
     ]
    }
   ],
   "source": [
    "df_1_thru0502=pd.read_table(\"./non_bh_thru_0502.txt\")\n",
    "print(df_1_thru0502.shape)\n",
    "df_1_thru0502=df_1_thru0502.drop_duplicates()\n",
    "print(df_1_thru0502.shape)\n"
   ]
  },
  {
   "cell_type": "code",
   "execution_count": 6,
   "metadata": {},
   "outputs": [
    {
     "name": "stdout",
     "output_type": "stream",
     "text": [
      "(3845568, 1)\n",
      "(3845568, 1)\n"
     ]
    }
   ],
   "source": [
    "df_2_post0502=pd.read_table(\"./non_bh_post_0502.txt\")\n",
    "print(df_2_post0502.shape)\n",
    "df_2_post0502=df_2_post0502.drop_duplicates()\n",
    "print(df_2_post0502.shape)"
   ]
  },
  {
   "cell_type": "code",
   "execution_count": 7,
   "metadata": {},
   "outputs": [
    {
     "name": "stdout",
     "output_type": "stream",
     "text": [
      "(19400952, 2) 19400952\n"
     ]
    }
   ],
   "source": [
    "df_q1_segments=pd.read_csv(\"/home/jian/Projects/Big_Lots/Live_Ramp/Mapping_Files/2020_Q1/BL_2020Q1_all_segments_aggregated_duplicated_JL_2020-05-13.csv\",\n",
    "                           usecols=['customer_id_hashed','segment'])\n",
    "# remove the rows that the values str starts with \"C\"\n",
    "df_q1_segments=df_q1_segments[df_q1_segments['segment'].apply(lambda x: x[:2]!=\"C_\")]\n",
    "print(df_q1_segments.shape,df_q1_segments['customer_id_hashed'].nunique())"
   ]
  },
  {
   "cell_type": "code",
   "execution_count": 8,
   "metadata": {},
   "outputs": [
    {
     "data": {
      "text/plain": [
       "(293, 2)"
      ]
     },
     "execution_count": 8,
     "metadata": {},
     "output_type": "execute_result"
    }
   ],
   "source": [
    "list_q1_seg=df_q1_segments['segment'].unique().tolist()\n",
    "df_q1_seg=pd.DataFrame({\"segment\":list_q1_seg})\n",
    "df_q1_seg['status']=df_q1_seg['segment'].apply(lambda x: x.split(\"_\")[2])\n",
    "df_q1_seg['status']=df_q1_seg['status'].replace(\"RFM20Q1\",\"others_aggregated_small\")\n",
    "df_q1_seg['status']=df_q1_seg['status'].replace(\"P\",\"new_signed_in_Q1\").replace(\"S\",\"new_signed_in_Q1\").replace(\"T\",\"new_signed_in_Q1\")\n",
    "df_q1_seg.shape"
   ]
  },
  {
   "cell_type": "code",
   "execution_count": 9,
   "metadata": {},
   "outputs": [],
   "source": [
    "df_q1_segments=pd.merge(df_q1_segments,df_q1_seg,on=\"segment\",how=\"left\")\n",
    "df_q1_segments_summary=df_q1_segments.groupby(\"status\")['customer_id_hashed'].count().to_frame().reset_index()\n"
   ]
  },
  {
   "cell_type": "code",
   "execution_count": 10,
   "metadata": {},
   "outputs": [
    {
     "data": {
      "text/html": [
       "<div>\n",
       "<style scoped>\n",
       "    .dataframe tbody tr th:only-of-type {\n",
       "        vertical-align: middle;\n",
       "    }\n",
       "\n",
       "    .dataframe tbody tr th {\n",
       "        vertical-align: top;\n",
       "    }\n",
       "\n",
       "    .dataframe thead th {\n",
       "        text-align: right;\n",
       "    }\n",
       "</style>\n",
       "<table border=\"1\" class=\"dataframe\">\n",
       "  <thead>\n",
       "    <tr style=\"text-align: right;\">\n",
       "      <th></th>\n",
       "      <th>hashed_customer_num</th>\n",
       "      <th>customer_id_hashed</th>\n",
       "      <th>segment</th>\n",
       "      <th>status</th>\n",
       "    </tr>\n",
       "  </thead>\n",
       "  <tbody>\n",
       "    <tr>\n",
       "      <th>0</th>\n",
       "      <td>41448b7946e03d434fb9efe139eff9d64d0a97b58ca15b...</td>\n",
       "      <td>41448b7946e03d434fb9efe139eff9d64d0a97b58ca15b...</td>\n",
       "      <td>T_Legacy_Active_H_P_Above50K_SingleFamily_Comp...</td>\n",
       "      <td>Active</td>\n",
       "    </tr>\n",
       "    <tr>\n",
       "      <th>1</th>\n",
       "      <td>273339cf26d1ae86261da36baa30389abda316fc305034...</td>\n",
       "      <td>273339cf26d1ae86261da36baa30389abda316fc305034...</td>\n",
       "      <td>T_SOTF_Active_H_P_Unknown_Unknown_CompetitorsH...</td>\n",
       "      <td>Active</td>\n",
       "    </tr>\n",
       "    <tr>\n",
       "      <th>2</th>\n",
       "      <td>fcc5788b6f0a54469ad47e42fbd6a60fc2b0818b23e92f...</td>\n",
       "      <td>fcc5788b6f0a54469ad47e42fbd6a60fc2b0818b23e92f...</td>\n",
       "      <td>NewReward_041820_P</td>\n",
       "      <td>new_signed_in_Q1</td>\n",
       "    </tr>\n",
       "  </tbody>\n",
       "</table>\n",
       "</div>"
      ],
      "text/plain": [
       "                                 hashed_customer_num  \\\n",
       "0  41448b7946e03d434fb9efe139eff9d64d0a97b58ca15b...   \n",
       "1  273339cf26d1ae86261da36baa30389abda316fc305034...   \n",
       "2  fcc5788b6f0a54469ad47e42fbd6a60fc2b0818b23e92f...   \n",
       "\n",
       "                                  customer_id_hashed  \\\n",
       "0  41448b7946e03d434fb9efe139eff9d64d0a97b58ca15b...   \n",
       "1  273339cf26d1ae86261da36baa30389abda316fc305034...   \n",
       "2  fcc5788b6f0a54469ad47e42fbd6a60fc2b0818b23e92f...   \n",
       "\n",
       "                                             segment            status  \n",
       "0  T_Legacy_Active_H_P_Above50K_SingleFamily_Comp...            Active  \n",
       "1  T_SOTF_Active_H_P_Unknown_Unknown_CompetitorsH...            Active  \n",
       "2                                 NewReward_041820_P  new_signed_in_Q1  "
      ]
     },
     "execution_count": 10,
     "metadata": {},
     "output_type": "execute_result"
    }
   ],
   "source": [
    "df_1_thru0502=pd.merge(df_1_thru0502,df_q1_segments,left_on=\"hashed_customer_num\",right_on=\"customer_id_hashed\",how=\"left\")\n",
    "df_1_thru0502['status']=df_1_thru0502['status'].fillna(\"balanced\")\n",
    "df_1_thru0502.head(3)"
   ]
  },
  {
   "cell_type": "code",
   "execution_count": 11,
   "metadata": {},
   "outputs": [],
   "source": [
    "df_1_thru0502_summary=df_1_thru0502.groupby(\"status\")['hashed_customer_num'].count().to_frame().reset_index()"
   ]
  },
  {
   "cell_type": "code",
   "execution_count": null,
   "metadata": {},
   "outputs": [],
   "source": []
  },
  {
   "cell_type": "code",
   "execution_count": 12,
   "metadata": {},
   "outputs": [
    {
     "data": {
      "text/plain": [
       "80"
      ]
     },
     "execution_count": 12,
     "metadata": {},
     "output_type": "execute_result"
    }
   ],
   "source": [
    "import glob\n",
    "\n",
    "list_q2_segs=glob.glob(\"/home/jian/Projects/Big_Lots/Live_Ramp/Quarterly_Update_2020Q2/upload_files/*.csv\")\n",
    "list_q2_segs=[x for x in list_q2_segs if \"renamed\" not in x]\n",
    "list_q2_segs=[x for x in list_q2_segs if os.path.basename(x)[0].lower()!=\"c\"]\n",
    "\n",
    "len(list_q2_segs)"
   ]
  },
  {
   "cell_type": "code",
   "execution_count": 13,
   "metadata": {},
   "outputs": [
    {
     "data": {
      "text/plain": [
       "((17493297, 2), 17493297)"
      ]
     },
     "execution_count": 13,
     "metadata": {},
     "output_type": "execute_result"
    }
   ],
   "source": [
    "df_q2_segments=pd.DataFrame()\n",
    "list_cols=[]\n",
    "for file in list_q2_segs:\n",
    "    df=pd.read_csv(file,usecols=['customer_id_hashed','segment_2020Q2'])\n",
    "    df_q2_segments=df_q2_segments.append(df)\n",
    "df_q2_segments.shape,df_q2_segments['customer_id_hashed'].nunique()"
   ]
  },
  {
   "cell_type": "code",
   "execution_count": 14,
   "metadata": {},
   "outputs": [],
   "source": [
    "list_q2_seg=df_q2_segments['segment_2020Q2'].unique().tolist()\n",
    "df_q2_seg=pd.DataFrame({\"segment_2020Q2\":list_q2_seg})\n",
    "df_q2_seg['status']=df_q2_seg['segment_2020Q2'].apply(lambda x: x.split(\"_\")[2])\n",
    "df_q2_seg['status']=df_q2_seg['status'].replace(\"RFM20Q2\",\"others_aggregated_small\")\n",
    "# to append new sign_ups "
   ]
  },
  {
   "cell_type": "code",
   "execution_count": 15,
   "metadata": {},
   "outputs": [],
   "source": [
    "df_q2_segments=pd.merge(df_q2_segments,df_q2_seg,on=\"segment_2020Q2\",how=\"left\")"
   ]
  },
  {
   "cell_type": "code",
   "execution_count": 16,
   "metadata": {},
   "outputs": [],
   "source": [
    "def recursive_files(root_p):\n",
    "    for root, dirs, files in os.walk(root_p):\n",
    "        for file in files:\n",
    "            yield os.path.join(root,file)"
   ]
  },
  {
   "cell_type": "code",
   "execution_count": 17,
   "metadata": {},
   "outputs": [
    {
     "name": "stderr",
     "output_type": "stream",
     "text": [
      "/home/jian/.local/lib/python3.6/site-packages/pandas/core/frame.py:7138: FutureWarning: Sorting because non-concatenation axis is not aligned. A future version\n",
      "of pandas will change to not sort by default.\n",
      "\n",
      "To accept the future behavior, pass 'sort=False'.\n",
      "\n",
      "To retain the current behavior and silence the warning, pass 'sort=True'.\n",
      "\n",
      "  sort=sort,\n"
     ]
    }
   ],
   "source": [
    "list_files_new_sign_ups_Q2=list(recursive_files(\"/home/jian/BigLots/2020_by_weeks/\"))\n",
    "list_files_new_sign_ups_Q2=[x for x in list_files_new_sign_ups_Q2 if \"master\" in x.lower()]\n",
    "list_files_new_sign_ups_Q2=[x for x in list_files_new_sign_ups_Q2 if x.split(\"Storm_\")[1][:10]>\"2020-05-02\"]\n",
    "df_new_sing_ups=pd.DataFrame()\n",
    "\n",
    "for file in list_files_new_sign_ups_Q2:\n",
    "    df=pd.read_csv(file,usecols=['customer_id_hashed'],sep=\"|\")\n",
    "    df_new_sing_ups=df_new_sing_ups.append(df)\n",
    "df_new_sing_ups['status']='new_signed_in_Q2'\n",
    "\n",
    "df_q2_segments=df_q2_segments.append(df_new_sing_ups)"
   ]
  },
  {
   "cell_type": "code",
   "execution_count": 18,
   "metadata": {},
   "outputs": [],
   "source": [
    "df_q2_segments_summary=df_q2_segments.groupby(\"status\")['customer_id_hashed'].count().to_frame().reset_index()"
   ]
  },
  {
   "cell_type": "code",
   "execution_count": 19,
   "metadata": {},
   "outputs": [],
   "source": [
    "df_2_post0502=pd.merge(df_2_post0502,df_q2_segments,left_on=\"hashed_customer_num\",right_on=\"customer_id_hashed\",how=\"left\")\n",
    "df_2_post0502['status']=df_2_post0502['status'].fillna(\"balanced\")\n",
    "df_2_post0502_summary=df_2_post0502.groupby(\"status\")['hashed_customer_num'].count().to_frame().reset_index()"
   ]
  },
  {
   "cell_type": "code",
   "execution_count": 20,
   "metadata": {},
   "outputs": [],
   "source": [
    "writer=pd.ExcelWriter(\"./BL_Non_bigheroes_matched_with_target_IDs_JL_\"+str(datetime.datetime.now().date())+\".xlsx\",engine=\"xlsxwriter\")\n",
    "df_q1_segments_summary.to_excel(writer,\"q1_segs\",index=False)\n",
    "df_1_thru0502_summary.to_excel(writer,\"thru0502_summary\",index=False)\n",
    "\n",
    "df_q2_segments_summary.to_excel(writer,\"q2_segs\",index=False)\n",
    "df_2_post0502_summary.to_excel(writer,\"post0502_summary\",index=False)\n",
    "writer.save()"
   ]
  },
  {
   "cell_type": "code",
   "execution_count": null,
   "metadata": {},
   "outputs": [],
   "source": []
  }
 ],
 "metadata": {
  "kernelspec": {
   "display_name": "Python 3",
   "language": "python",
   "name": "python3"
  },
  "language_info": {
   "codemirror_mode": {
    "name": "ipython",
    "version": 3
   },
   "file_extension": ".py",
   "mimetype": "text/x-python",
   "name": "python",
   "nbconvert_exporter": "python",
   "pygments_lexer": "ipython3",
   "version": "3.6.1"
  }
 },
 "nbformat": 4,
 "nbformat_minor": 2
}
