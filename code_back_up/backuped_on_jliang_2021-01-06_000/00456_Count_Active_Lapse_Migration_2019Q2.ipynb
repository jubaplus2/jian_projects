{
 "cells": [
  {
   "cell_type": "code",
   "execution_count": 5,
   "metadata": {},
   "outputs": [
    {
     "data": {
      "text/plain": [
       "'/home/jian/Projects/Big_Lots/Analysis/2019_Q2/ID_Migration'"
      ]
     },
     "execution_count": 5,
     "metadata": {},
     "output_type": "execute_result"
    }
   ],
   "source": [
    "import pandas as pd\n",
    "import os\n",
    "import datetime\n",
    "import numpy as np\n",
    "import gc\n",
    "\n",
    "os.getcwd()\n",
    "\n",
    "# To check about the 2019 weekly file path df week filter for the rolling later"
   ]
  },
  {
   "cell_type": "code",
   "execution_count": 6,
   "metadata": {},
   "outputs": [
    {
     "name": "stdout",
     "output_type": "stream",
     "text": [
      "prior_quarter_End 2019-05-04\n",
      "recent_complete_quarter_End 2019-08-03\n",
      "lapsed_date_begin 2015-04-28\n"
     ]
    }
   ],
   "source": [
    "prior_quarter_End=datetime.date(2019,5,4)\n",
    "recent_complete_quarter_End=prior_quarter_End+datetime.timedelta(days=7*13)\n",
    "\n",
    "print(\"prior_quarter_End\",prior_quarter_End)\n",
    "print(\"recent_complete_quarter_End\",recent_complete_quarter_End)\n",
    "\n",
    "lapsed_date_begin=prior_quarter_End-datetime.timedelta(days=(4*365+1+6))\n",
    "print(\"lapsed_date_begin\",lapsed_date_begin)\n"
   ]
  },
  {
   "cell_type": "code",
   "execution_count": 7,
   "metadata": {},
   "outputs": [
    {
     "name": "stdout",
     "output_type": "stream",
     "text": [
      "2015-04-28\n",
      "2017-02-26\n"
     ]
    }
   ],
   "source": [
    "lapsed=pd.read_table(\"/home/jian/Projects/Big_Lots/Loyal_members/loyalty_sales_data/lapsed20140826_20170226/MediaStormLapsedCustDtl.txt\",\n",
    "                     sep=\",\",usecols=['customer_id_hashed','transaction_date'],dtype=str).drop_duplicates()\n",
    "lapsed=lapsed[lapsed['transaction_date']>=str(lapsed_date_begin)]\n",
    "\n",
    "print(lapsed['transaction_date'].min())\n",
    "print(lapsed['transaction_date'].max())"
   ]
  },
  {
   "cell_type": "code",
   "execution_count": 8,
   "metadata": {},
   "outputs": [
    {
     "name": "stdout",
     "output_type": "stream",
     "text": [
      "1 2019-08-07 21:31:26.616446\n",
      "2 2019-08-07 21:31:53.074990\n",
      "3 2019-08-07 21:32:17.830312\n",
      "4 2019-08-07 21:32:45.387263\n",
      "5 2019-08-07 21:33:14.569063\n",
      "6 2019-08-07 21:33:43.638857\n",
      "7 2019-08-07 21:34:18.338592\n",
      "8 2019-08-07 21:34:54.313731\n",
      "9 2019-08-07 21:35:29.273823\n",
      "10 2019-08-07 21:36:08.936892\n",
      "11 2019-08-07 21:36:44.150872\n",
      "12 2019-08-07 21:37:21.970902\n",
      "13 2019-08-07 21:38:00.639112\n",
      "14 2019-08-07 21:38:38.509468\n",
      "15 2019-08-07 21:39:15.204128\n"
     ]
    }
   ],
   "source": [
    "chunksize_num = 10**7\n",
    "filename='/home/jian/Projects/Big_Lots/Live_Ramp/Quarterly_Update_2019Q1/crm_newscore_0922/combinedtransactions_0922.csv'\n",
    "dftrans_before_20180922=pd.DataFrame()\n",
    "count_i=0\n",
    "\n",
    "for chunk in pd.read_csv(filename, chunksize=chunksize_num,dtype=str,usecols=['customer_id_hashed','transaction_date']):\n",
    "    chunk = chunk.drop_duplicates()\n",
    "    chunk=chunk[chunk['transaction_date']>=str(lapsed_date_begin)]\n",
    "    dftrans_before_20180922=dftrans_before_20180922.append(chunk)\n",
    "    count_i+=1\n",
    "    print(count_i,datetime.datetime.now())\n",
    "dftrans_before_20180922=dftrans_before_20180922.drop_duplicates()    "
   ]
  },
  {
   "cell_type": "code",
   "execution_count": 9,
   "metadata": {},
   "outputs": [
    {
     "name": "stdout",
     "output_type": "stream",
     "text": [
      "(22943190, 2)\n"
     ]
    },
    {
     "data": {
      "text/plain": [
       "84"
      ]
     },
     "execution_count": 9,
     "metadata": {},
     "output_type": "execute_result"
    }
   ],
   "source": [
    "all_rewards_most_recent=dftrans_before_20180922.append(lapsed)\n",
    "all_rewards_most_recent=all_rewards_most_recent.sort_values([\"customer_id_hashed\",\"transaction_date\"],ascending=[True,False])\n",
    "all_rewards_most_recent=all_rewards_most_recent.drop_duplicates(['customer_id_hashed'])\n",
    "print(all_rewards_most_recent.shape)\n",
    "\n",
    "del chunk\n",
    "del dftrans_before_20180922\n",
    "gc.collect()"
   ]
  },
  {
   "cell_type": "code",
   "execution_count": 10,
   "metadata": {
    "collapsed": true
   },
   "outputs": [],
   "source": [
    "def recursive_file_gen(root_path):\n",
    "    for root, dirs, files in os.walk(root_path):\n",
    "        for file in files:\n",
    "            yield os.path.join(root,file)"
   ]
  },
  {
   "cell_type": "code",
   "execution_count": 11,
   "metadata": {},
   "outputs": [
    {
     "name": "stdout",
     "output_type": "stream",
     "text": [
      "(20, 2)\n"
     ]
    },
    {
     "data": {
      "text/html": [
       "<div>\n",
       "<style>\n",
       "    .dataframe thead tr:only-child th {\n",
       "        text-align: right;\n",
       "    }\n",
       "\n",
       "    .dataframe thead th {\n",
       "        text-align: left;\n",
       "    }\n",
       "\n",
       "    .dataframe tbody tr th {\n",
       "        vertical-align: top;\n",
       "    }\n",
       "</style>\n",
       "<table border=\"1\" class=\"dataframe\">\n",
       "  <thead>\n",
       "    <tr style=\"text-align: right;\">\n",
       "      <th></th>\n",
       "      <th>file_path</th>\n",
       "      <th>week_end_dt</th>\n",
       "    </tr>\n",
       "  </thead>\n",
       "  <tbody>\n",
       "    <tr>\n",
       "      <th>24</th>\n",
       "      <td>/home/jian/BigLots/hist_daily_data_itemlevel_d...</td>\n",
       "      <td>2019-01-26</td>\n",
       "    </tr>\n",
       "    <tr>\n",
       "      <th>25</th>\n",
       "      <td>/home/jian/BigLots/hist_daily_data_itemlevel_d...</td>\n",
       "      <td>2019-02-02</td>\n",
       "    </tr>\n",
       "    <tr>\n",
       "      <th>26</th>\n",
       "      <td>/home/jian/BigLots/hist_daily_data_itemlevel_d...</td>\n",
       "      <td>2019-02-09</td>\n",
       "    </tr>\n",
       "  </tbody>\n",
       "</table>\n",
       "</div>"
      ],
      "text/plain": [
       "                                            file_path week_end_dt\n",
       "24  /home/jian/BigLots/hist_daily_data_itemlevel_d...  2019-01-26\n",
       "25  /home/jian/BigLots/hist_daily_data_itemlevel_d...  2019-02-02\n",
       "26  /home/jian/BigLots/hist_daily_data_itemlevel_d...  2019-02-09"
      ]
     },
     "execution_count": 11,
     "metadata": {},
     "output_type": "execute_result"
    }
   ],
   "source": [
    "# Before the end of 2019Q1           \n",
    "historical_daily_data_folder=\"/home/jian/BigLots/hist_daily_data_itemlevel_decompressed/\"\n",
    "historical_daily_data_list=list(recursive_file_gen(historical_daily_data_folder))\n",
    "historical_daily_data_list=[x for x in historical_daily_data_list if (\".txt\" in x) & (\"DailySales\" in x)]\n",
    "historical_daily_df=pd.DataFrame({\"file_path\":historical_daily_data_list})\n",
    "historical_daily_df['week_end_dt']=historical_daily_df['file_path'].apply(lambda x: x.split(\".\")[0].split(\"MediaStormDailySalesHistory\")[1])\n",
    "historical_daily_df['week_end_dt']=historical_daily_df['week_end_dt'].apply(lambda x: datetime.datetime.strptime(x,\"%Y%m%d\").date())\n",
    "historical_daily_df=historical_daily_df[historical_daily_df['week_end_dt']<=datetime.date(2019,5,4)] # hard-code due to the 1st week of daily in item available\n",
    "historical_daily_df=historical_daily_df[historical_daily_df['week_end_dt']>datetime.date(2018,9,22)] # hard-code\n",
    "historical_daily_df=historical_daily_df.sort_values(\"week_end_dt\")\n",
    "print(historical_daily_df.shape)\n",
    "historical_daily_df.tail(3)"
   ]
  },
  {
   "cell_type": "code",
   "execution_count": 12,
   "metadata": {},
   "outputs": [
    {
     "data": {
      "text/plain": [
       "datetime.date(2019, 5, 4)"
      ]
     },
     "execution_count": 12,
     "metadata": {},
     "output_type": "execute_result"
    }
   ],
   "source": [
    "prior_quarter_End"
   ]
  },
  {
   "cell_type": "code",
   "execution_count": 13,
   "metadata": {},
   "outputs": [
    {
     "data": {
      "text/plain": [
       "datetime.date(2019, 8, 3)"
      ]
     },
     "execution_count": 13,
     "metadata": {},
     "output_type": "execute_result"
    }
   ],
   "source": [
    "recent_complete_quarter_End"
   ]
  },
  {
   "cell_type": "code",
   "execution_count": 14,
   "metadata": {},
   "outputs": [
    {
     "name": "stdout",
     "output_type": "stream",
     "text": [
      "(20, 2)\n",
      "(0, 2)\n"
     ]
    }
   ],
   "source": [
    "df_historical_daily_20180929_to_before_Q=historical_daily_df[historical_daily_df['week_end_dt']<=prior_quarter_End]\n",
    "df_historical_daily_in_recent_Q=historical_daily_df[(historical_daily_df['week_end_dt']>prior_quarter_End) & (historical_daily_df['week_end_dt']<=recent_complete_quarter_End)]\n",
    "print(df_historical_daily_20180929_to_before_Q.shape)\n",
    "print(df_historical_daily_in_recent_Q.shape)\n"
   ]
  },
  {
   "cell_type": "code",
   "execution_count": 15,
   "metadata": {},
   "outputs": [
    {
     "name": "stdout",
     "output_type": "stream",
     "text": [
      "(31, 2)\n",
      "(13, 2)\n",
      "(12, 2)\n"
     ]
    }
   ],
   "source": [
    "weekly_2019_daily_df=list(recursive_file_gen(\"/home/jian/BigLots/\"))\n",
    "\n",
    "weekly_2019_daily_df=[x for x in weekly_2019_daily_df if \"2018\" not in x]\n",
    "weekly_2019_daily_df=[x for x in weekly_2019_daily_df if \"2017\" not in x]\n",
    "weekly_2019_daily_df=[x for x in weekly_2019_daily_df if \"2016\" not in x]\n",
    "weekly_2019_daily_df=[x for x in weekly_2019_daily_df if \"2016\" not in x]\n",
    "weekly_2019_daily_df=[x for x in weekly_2019_daily_df if \"Historical\" not in x]\n",
    "weekly_2019_daily_df=[x for x in weekly_2019_daily_df if \"hist_daily_data_itemlevel_decompressed\" not in x]\n",
    "weekly_2019_daily_df=[x for x in weekly_2019_daily_df if \".txt\" in x]\n",
    "weekly_2019_daily_df=[x for x in weekly_2019_daily_df if \"aily\" in x]\n",
    "weekly_2019_daily_df=pd.DataFrame({\"file_path\":weekly_2019_daily_df})\n",
    "weekly_2019_daily_df['week_end_dt']=weekly_2019_daily_df['file_path'].apply(lambda x: x.split(\"/MediaStorm_\")[1][:10])\n",
    "\n",
    "weekly_2019_daily_df['week_end_dt']=weekly_2019_daily_df['week_end_dt'].apply(lambda x: datetime.datetime.strptime(x,\"%Y-%m-%d\").date())\n",
    "print(weekly_2019_daily_df.shape)\n",
    "weekly_2019_daily_df.head(2)\n",
    "\n",
    "weekly_2019_daily_df_in_recent_Q=weekly_2019_daily_df[(weekly_2019_daily_df['week_end_dt']>prior_quarter_End) & (weekly_2019_daily_df['week_end_dt']<=recent_complete_quarter_End)]\n",
    "# Change to > prior_quarter_End for the next quarter\n",
    "print(weekly_2019_daily_df_in_recent_Q.shape)\n",
    "\n",
    "\n",
    "weekly_2019_daily_df_before_Q=weekly_2019_daily_df[weekly_2019_daily_df['week_end_dt']<=prior_quarter_End]\n",
    "weekly_2019_daily_df_before_Q=weekly_2019_daily_df_before_Q[weekly_2019_daily_df_before_Q['week_end_dt']>df_historical_daily_20180929_to_before_Q['week_end_dt'].max()]\n",
    "print(weekly_2019_daily_df_before_Q.shape) # Q1 should be 0, and Q2&after not\n"
   ]
  },
  {
   "cell_type": "code",
   "execution_count": 16,
   "metadata": {},
   "outputs": [
    {
     "data": {
      "text/plain": [
       "(13, 2)"
      ]
     },
     "execution_count": 16,
     "metadata": {},
     "output_type": "execute_result"
    }
   ],
   "source": [
    "weekly_2019_daily_df_in_recent_Q.shape"
   ]
  },
  {
   "cell_type": "code",
   "execution_count": 17,
   "metadata": {},
   "outputs": [
    {
     "data": {
      "text/plain": [
       "(12, 2)"
      ]
     },
     "execution_count": 17,
     "metadata": {},
     "output_type": "execute_result"
    }
   ],
   "source": [
    "weekly_2019_daily_df_before_Q.shape"
   ]
  },
  {
   "cell_type": "code",
   "execution_count": 18,
   "metadata": {
    "collapsed": true
   },
   "outputs": [],
   "source": [
    "df_all_daily_files_20190922_before_quarter=df_historical_daily_20180929_to_before_Q.append(weekly_2019_daily_df_before_Q)\n",
    "\n",
    "df_all_daily_files_in_recent_quarter=df_historical_daily_in_recent_Q.append(weekly_2019_daily_df_in_recent_Q)\n"
   ]
  },
  {
   "cell_type": "code",
   "execution_count": 19,
   "metadata": {},
   "outputs": [
    {
     "name": "stdout",
     "output_type": "stream",
     "text": [
      "(32, 2)\n"
     ]
    },
    {
     "data": {
      "text/html": [
       "<div>\n",
       "<style>\n",
       "    .dataframe thead tr:only-child th {\n",
       "        text-align: right;\n",
       "    }\n",
       "\n",
       "    .dataframe thead th {\n",
       "        text-align: left;\n",
       "    }\n",
       "\n",
       "    .dataframe tbody tr th {\n",
       "        vertical-align: top;\n",
       "    }\n",
       "</style>\n",
       "<table border=\"1\" class=\"dataframe\">\n",
       "  <thead>\n",
       "    <tr style=\"text-align: right;\">\n",
       "      <th></th>\n",
       "      <th>file_path</th>\n",
       "      <th>week_end_dt</th>\n",
       "    </tr>\n",
       "  </thead>\n",
       "  <tbody>\n",
       "    <tr>\n",
       "      <th>7</th>\n",
       "      <td>/home/jian/BigLots/hist_daily_data_itemlevel_d...</td>\n",
       "      <td>2018-09-29</td>\n",
       "    </tr>\n",
       "    <tr>\n",
       "      <th>8</th>\n",
       "      <td>/home/jian/BigLots/hist_daily_data_itemlevel_d...</td>\n",
       "      <td>2018-10-06</td>\n",
       "    </tr>\n",
       "    <tr>\n",
       "      <th>9</th>\n",
       "      <td>/home/jian/BigLots/hist_daily_data_itemlevel_d...</td>\n",
       "      <td>2018-10-13</td>\n",
       "    </tr>\n",
       "    <tr>\n",
       "      <th>10</th>\n",
       "      <td>/home/jian/BigLots/hist_daily_data_itemlevel_d...</td>\n",
       "      <td>2018-10-20</td>\n",
       "    </tr>\n",
       "    <tr>\n",
       "      <th>11</th>\n",
       "      <td>/home/jian/BigLots/hist_daily_data_itemlevel_d...</td>\n",
       "      <td>2018-10-27</td>\n",
       "    </tr>\n",
       "    <tr>\n",
       "      <th>12</th>\n",
       "      <td>/home/jian/BigLots/hist_daily_data_itemlevel_d...</td>\n",
       "      <td>2018-11-03</td>\n",
       "    </tr>\n",
       "    <tr>\n",
       "      <th>13</th>\n",
       "      <td>/home/jian/BigLots/hist_daily_data_itemlevel_d...</td>\n",
       "      <td>2018-11-10</td>\n",
       "    </tr>\n",
       "    <tr>\n",
       "      <th>14</th>\n",
       "      <td>/home/jian/BigLots/hist_daily_data_itemlevel_d...</td>\n",
       "      <td>2018-11-17</td>\n",
       "    </tr>\n",
       "    <tr>\n",
       "      <th>15</th>\n",
       "      <td>/home/jian/BigLots/hist_daily_data_itemlevel_d...</td>\n",
       "      <td>2018-11-24</td>\n",
       "    </tr>\n",
       "    <tr>\n",
       "      <th>16</th>\n",
       "      <td>/home/jian/BigLots/hist_daily_data_itemlevel_d...</td>\n",
       "      <td>2018-12-01</td>\n",
       "    </tr>\n",
       "    <tr>\n",
       "      <th>17</th>\n",
       "      <td>/home/jian/BigLots/hist_daily_data_itemlevel_d...</td>\n",
       "      <td>2018-12-08</td>\n",
       "    </tr>\n",
       "    <tr>\n",
       "      <th>18</th>\n",
       "      <td>/home/jian/BigLots/hist_daily_data_itemlevel_d...</td>\n",
       "      <td>2018-12-15</td>\n",
       "    </tr>\n",
       "    <tr>\n",
       "      <th>19</th>\n",
       "      <td>/home/jian/BigLots/hist_daily_data_itemlevel_d...</td>\n",
       "      <td>2018-12-22</td>\n",
       "    </tr>\n",
       "    <tr>\n",
       "      <th>20</th>\n",
       "      <td>/home/jian/BigLots/hist_daily_data_itemlevel_d...</td>\n",
       "      <td>2018-12-29</td>\n",
       "    </tr>\n",
       "    <tr>\n",
       "      <th>21</th>\n",
       "      <td>/home/jian/BigLots/hist_daily_data_itemlevel_d...</td>\n",
       "      <td>2019-01-05</td>\n",
       "    </tr>\n",
       "    <tr>\n",
       "      <th>22</th>\n",
       "      <td>/home/jian/BigLots/hist_daily_data_itemlevel_d...</td>\n",
       "      <td>2019-01-12</td>\n",
       "    </tr>\n",
       "    <tr>\n",
       "      <th>23</th>\n",
       "      <td>/home/jian/BigLots/hist_daily_data_itemlevel_d...</td>\n",
       "      <td>2019-01-19</td>\n",
       "    </tr>\n",
       "    <tr>\n",
       "      <th>24</th>\n",
       "      <td>/home/jian/BigLots/hist_daily_data_itemlevel_d...</td>\n",
       "      <td>2019-01-26</td>\n",
       "    </tr>\n",
       "    <tr>\n",
       "      <th>25</th>\n",
       "      <td>/home/jian/BigLots/hist_daily_data_itemlevel_d...</td>\n",
       "      <td>2019-02-02</td>\n",
       "    </tr>\n",
       "    <tr>\n",
       "      <th>26</th>\n",
       "      <td>/home/jian/BigLots/hist_daily_data_itemlevel_d...</td>\n",
       "      <td>2019-02-09</td>\n",
       "    </tr>\n",
       "    <tr>\n",
       "      <th>6</th>\n",
       "      <td>/home/jian/BigLots/2019_by_weeks/MediaStorm_20...</td>\n",
       "      <td>2019-02-16</td>\n",
       "    </tr>\n",
       "    <tr>\n",
       "      <th>7</th>\n",
       "      <td>/home/jian/BigLots/2019_by_weeks/MediaStorm_20...</td>\n",
       "      <td>2019-02-23</td>\n",
       "    </tr>\n",
       "    <tr>\n",
       "      <th>8</th>\n",
       "      <td>/home/jian/BigLots/2019_by_weeks/MediaStorm_20...</td>\n",
       "      <td>2019-03-02</td>\n",
       "    </tr>\n",
       "    <tr>\n",
       "      <th>9</th>\n",
       "      <td>/home/jian/BigLots/2019_by_weeks/MediaStorm_20...</td>\n",
       "      <td>2019-03-09</td>\n",
       "    </tr>\n",
       "    <tr>\n",
       "      <th>10</th>\n",
       "      <td>/home/jian/BigLots/2019_by_weeks/MediaStorm_20...</td>\n",
       "      <td>2019-03-16</td>\n",
       "    </tr>\n",
       "    <tr>\n",
       "      <th>11</th>\n",
       "      <td>/home/jian/BigLots/2019_by_weeks/MediaStorm_20...</td>\n",
       "      <td>2019-03-23</td>\n",
       "    </tr>\n",
       "    <tr>\n",
       "      <th>12</th>\n",
       "      <td>/home/jian/BigLots/2019_by_weeks/MediaStorm_20...</td>\n",
       "      <td>2019-03-30</td>\n",
       "    </tr>\n",
       "    <tr>\n",
       "      <th>13</th>\n",
       "      <td>/home/jian/BigLots/2019_by_weeks/MediaStorm_20...</td>\n",
       "      <td>2019-04-06</td>\n",
       "    </tr>\n",
       "    <tr>\n",
       "      <th>14</th>\n",
       "      <td>/home/jian/BigLots/2019_by_weeks/MediaStorm_20...</td>\n",
       "      <td>2019-04-13</td>\n",
       "    </tr>\n",
       "    <tr>\n",
       "      <th>15</th>\n",
       "      <td>/home/jian/BigLots/2019_by_weeks/MediaStorm_20...</td>\n",
       "      <td>2019-04-20</td>\n",
       "    </tr>\n",
       "    <tr>\n",
       "      <th>16</th>\n",
       "      <td>/home/jian/BigLots/2019_by_weeks/MediaStorm_20...</td>\n",
       "      <td>2019-04-27</td>\n",
       "    </tr>\n",
       "    <tr>\n",
       "      <th>17</th>\n",
       "      <td>/home/jian/BigLots/2019_by_weeks/MediaStorm_20...</td>\n",
       "      <td>2019-05-04</td>\n",
       "    </tr>\n",
       "  </tbody>\n",
       "</table>\n",
       "</div>"
      ],
      "text/plain": [
       "                                            file_path week_end_dt\n",
       "7   /home/jian/BigLots/hist_daily_data_itemlevel_d...  2018-09-29\n",
       "8   /home/jian/BigLots/hist_daily_data_itemlevel_d...  2018-10-06\n",
       "9   /home/jian/BigLots/hist_daily_data_itemlevel_d...  2018-10-13\n",
       "10  /home/jian/BigLots/hist_daily_data_itemlevel_d...  2018-10-20\n",
       "11  /home/jian/BigLots/hist_daily_data_itemlevel_d...  2018-10-27\n",
       "12  /home/jian/BigLots/hist_daily_data_itemlevel_d...  2018-11-03\n",
       "13  /home/jian/BigLots/hist_daily_data_itemlevel_d...  2018-11-10\n",
       "14  /home/jian/BigLots/hist_daily_data_itemlevel_d...  2018-11-17\n",
       "15  /home/jian/BigLots/hist_daily_data_itemlevel_d...  2018-11-24\n",
       "16  /home/jian/BigLots/hist_daily_data_itemlevel_d...  2018-12-01\n",
       "17  /home/jian/BigLots/hist_daily_data_itemlevel_d...  2018-12-08\n",
       "18  /home/jian/BigLots/hist_daily_data_itemlevel_d...  2018-12-15\n",
       "19  /home/jian/BigLots/hist_daily_data_itemlevel_d...  2018-12-22\n",
       "20  /home/jian/BigLots/hist_daily_data_itemlevel_d...  2018-12-29\n",
       "21  /home/jian/BigLots/hist_daily_data_itemlevel_d...  2019-01-05\n",
       "22  /home/jian/BigLots/hist_daily_data_itemlevel_d...  2019-01-12\n",
       "23  /home/jian/BigLots/hist_daily_data_itemlevel_d...  2019-01-19\n",
       "24  /home/jian/BigLots/hist_daily_data_itemlevel_d...  2019-01-26\n",
       "25  /home/jian/BigLots/hist_daily_data_itemlevel_d...  2019-02-02\n",
       "26  /home/jian/BigLots/hist_daily_data_itemlevel_d...  2019-02-09\n",
       "6   /home/jian/BigLots/2019_by_weeks/MediaStorm_20...  2019-02-16\n",
       "7   /home/jian/BigLots/2019_by_weeks/MediaStorm_20...  2019-02-23\n",
       "8   /home/jian/BigLots/2019_by_weeks/MediaStorm_20...  2019-03-02\n",
       "9   /home/jian/BigLots/2019_by_weeks/MediaStorm_20...  2019-03-09\n",
       "10  /home/jian/BigLots/2019_by_weeks/MediaStorm_20...  2019-03-16\n",
       "11  /home/jian/BigLots/2019_by_weeks/MediaStorm_20...  2019-03-23\n",
       "12  /home/jian/BigLots/2019_by_weeks/MediaStorm_20...  2019-03-30\n",
       "13  /home/jian/BigLots/2019_by_weeks/MediaStorm_20...  2019-04-06\n",
       "14  /home/jian/BigLots/2019_by_weeks/MediaStorm_20...  2019-04-13\n",
       "15  /home/jian/BigLots/2019_by_weeks/MediaStorm_20...  2019-04-20\n",
       "16  /home/jian/BigLots/2019_by_weeks/MediaStorm_20...  2019-04-27\n",
       "17  /home/jian/BigLots/2019_by_weeks/MediaStorm_20...  2019-05-04"
      ]
     },
     "execution_count": 19,
     "metadata": {},
     "output_type": "execute_result"
    }
   ],
   "source": [
    "print(df_all_daily_files_20190922_before_quarter.shape)\n",
    "df_all_daily_files_20190922_before_quarter.sort_values(\"week_end_dt\")"
   ]
  },
  {
   "cell_type": "code",
   "execution_count": 20,
   "metadata": {},
   "outputs": [
    {
     "name": "stdout",
     "output_type": "stream",
     "text": [
      "(13, 2)\n"
     ]
    },
    {
     "data": {
      "text/html": [
       "<div>\n",
       "<style>\n",
       "    .dataframe thead tr:only-child th {\n",
       "        text-align: right;\n",
       "    }\n",
       "\n",
       "    .dataframe thead th {\n",
       "        text-align: left;\n",
       "    }\n",
       "\n",
       "    .dataframe tbody tr th {\n",
       "        vertical-align: top;\n",
       "    }\n",
       "</style>\n",
       "<table border=\"1\" class=\"dataframe\">\n",
       "  <thead>\n",
       "    <tr style=\"text-align: right;\">\n",
       "      <th></th>\n",
       "      <th>file_path</th>\n",
       "      <th>week_end_dt</th>\n",
       "    </tr>\n",
       "  </thead>\n",
       "  <tbody>\n",
       "    <tr>\n",
       "      <th>18</th>\n",
       "      <td>/home/jian/BigLots/2019_by_weeks/MediaStorm_20...</td>\n",
       "      <td>2019-05-11</td>\n",
       "    </tr>\n",
       "    <tr>\n",
       "      <th>19</th>\n",
       "      <td>/home/jian/BigLots/2019_by_weeks/MediaStorm_20...</td>\n",
       "      <td>2019-05-18</td>\n",
       "    </tr>\n",
       "    <tr>\n",
       "      <th>20</th>\n",
       "      <td>/home/jian/BigLots/2019_by_weeks/MediaStorm_20...</td>\n",
       "      <td>2019-05-25</td>\n",
       "    </tr>\n",
       "    <tr>\n",
       "      <th>21</th>\n",
       "      <td>/home/jian/BigLots/2019_by_weeks/MediaStorm_20...</td>\n",
       "      <td>2019-06-01</td>\n",
       "    </tr>\n",
       "    <tr>\n",
       "      <th>22</th>\n",
       "      <td>/home/jian/BigLots/2019_by_weeks/MediaStorm_20...</td>\n",
       "      <td>2019-06-08</td>\n",
       "    </tr>\n",
       "    <tr>\n",
       "      <th>23</th>\n",
       "      <td>/home/jian/BigLots/2019_by_weeks/MediaStorm_20...</td>\n",
       "      <td>2019-06-15</td>\n",
       "    </tr>\n",
       "    <tr>\n",
       "      <th>24</th>\n",
       "      <td>/home/jian/BigLots/2019_by_weeks/MediaStorm_20...</td>\n",
       "      <td>2019-06-22</td>\n",
       "    </tr>\n",
       "    <tr>\n",
       "      <th>25</th>\n",
       "      <td>/home/jian/BigLots/2019_by_weeks/MediaStorm_20...</td>\n",
       "      <td>2019-06-29</td>\n",
       "    </tr>\n",
       "    <tr>\n",
       "      <th>26</th>\n",
       "      <td>/home/jian/BigLots/2019_by_weeks/MediaStorm_20...</td>\n",
       "      <td>2019-07-06</td>\n",
       "    </tr>\n",
       "    <tr>\n",
       "      <th>27</th>\n",
       "      <td>/home/jian/BigLots/2019_by_weeks/MediaStorm_20...</td>\n",
       "      <td>2019-07-13</td>\n",
       "    </tr>\n",
       "    <tr>\n",
       "      <th>28</th>\n",
       "      <td>/home/jian/BigLots/2019_by_weeks/MediaStorm_20...</td>\n",
       "      <td>2019-07-20</td>\n",
       "    </tr>\n",
       "    <tr>\n",
       "      <th>29</th>\n",
       "      <td>/home/jian/BigLots/2019_by_weeks/MediaStorm_20...</td>\n",
       "      <td>2019-07-27</td>\n",
       "    </tr>\n",
       "    <tr>\n",
       "      <th>30</th>\n",
       "      <td>/home/jian/BigLots/2019_by_weeks/MediaStorm_20...</td>\n",
       "      <td>2019-08-03</td>\n",
       "    </tr>\n",
       "  </tbody>\n",
       "</table>\n",
       "</div>"
      ],
      "text/plain": [
       "                                            file_path week_end_dt\n",
       "18  /home/jian/BigLots/2019_by_weeks/MediaStorm_20...  2019-05-11\n",
       "19  /home/jian/BigLots/2019_by_weeks/MediaStorm_20...  2019-05-18\n",
       "20  /home/jian/BigLots/2019_by_weeks/MediaStorm_20...  2019-05-25\n",
       "21  /home/jian/BigLots/2019_by_weeks/MediaStorm_20...  2019-06-01\n",
       "22  /home/jian/BigLots/2019_by_weeks/MediaStorm_20...  2019-06-08\n",
       "23  /home/jian/BigLots/2019_by_weeks/MediaStorm_20...  2019-06-15\n",
       "24  /home/jian/BigLots/2019_by_weeks/MediaStorm_20...  2019-06-22\n",
       "25  /home/jian/BigLots/2019_by_weeks/MediaStorm_20...  2019-06-29\n",
       "26  /home/jian/BigLots/2019_by_weeks/MediaStorm_20...  2019-07-06\n",
       "27  /home/jian/BigLots/2019_by_weeks/MediaStorm_20...  2019-07-13\n",
       "28  /home/jian/BigLots/2019_by_weeks/MediaStorm_20...  2019-07-20\n",
       "29  /home/jian/BigLots/2019_by_weeks/MediaStorm_20...  2019-07-27\n",
       "30  /home/jian/BigLots/2019_by_weeks/MediaStorm_20...  2019-08-03"
      ]
     },
     "execution_count": 20,
     "metadata": {},
     "output_type": "execute_result"
    }
   ],
   "source": [
    "print(df_all_daily_files_in_recent_quarter.shape)\n",
    "df_all_daily_files_in_recent_quarter.sort_values(\"week_end_dt\")"
   ]
  },
  {
   "cell_type": "code",
   "execution_count": 21,
   "metadata": {},
   "outputs": [
    {
     "name": "stdout",
     "output_type": "stream",
     "text": [
      "/home/jian/BigLots/hist_daily_data_itemlevel_decompressed/MediaStormDailySalesHistory20180929.txt 2019-08-07 21:58:49.860162\n",
      "/home/jian/BigLots/hist_daily_data_itemlevel_decompressed/MediaStormDailySalesHistory20181006.txt 2019-08-07 21:59:18.376651\n",
      "/home/jian/BigLots/hist_daily_data_itemlevel_decompressed/MediaStormDailySalesHistory20181013.txt 2019-08-07 21:59:39.915444\n",
      "/home/jian/BigLots/hist_daily_data_itemlevel_decompressed/MediaStormDailySalesHistory20181020.txt 2019-08-07 22:00:01.396450\n",
      "/home/jian/BigLots/hist_daily_data_itemlevel_decompressed/MediaStormDailySalesHistory20181027.txt 2019-08-07 22:00:25.081618\n",
      "/home/jian/BigLots/hist_daily_data_itemlevel_decompressed/MediaStormDailySalesHistory20181103.txt 2019-08-07 22:00:48.920847\n",
      "/home/jian/BigLots/hist_daily_data_itemlevel_decompressed/MediaStormDailySalesHistory20181110.txt 2019-08-07 22:01:14.973013\n",
      "/home/jian/BigLots/hist_daily_data_itemlevel_decompressed/MediaStormDailySalesHistory20181117.txt 2019-08-07 22:01:44.741439\n",
      "/home/jian/BigLots/hist_daily_data_itemlevel_decompressed/MediaStormDailySalesHistory20181124.txt 2019-08-07 22:02:25.896164\n",
      "/home/jian/BigLots/hist_daily_data_itemlevel_decompressed/MediaStormDailySalesHistory20181201.txt 2019-08-07 22:03:06.836343\n",
      "/home/jian/BigLots/hist_daily_data_itemlevel_decompressed/MediaStormDailySalesHistory20181208.txt 2019-08-07 22:03:51.770883\n",
      "/home/jian/BigLots/hist_daily_data_itemlevel_decompressed/MediaStormDailySalesHistory20181215.txt 2019-08-07 22:04:39.051965\n",
      "/home/jian/BigLots/hist_daily_data_itemlevel_decompressed/MediaStormDailySalesHistory20181222.txt 2019-08-07 22:05:32.691185\n",
      "/home/jian/BigLots/hist_daily_data_itemlevel_decompressed/MediaStormDailySalesHistory20181229.txt 2019-08-07 22:06:07.965726\n",
      "/home/jian/BigLots/hist_daily_data_itemlevel_decompressed/MediaStormDailySalesHistory20190105.txt 2019-08-07 22:06:34.646937\n",
      "/home/jian/BigLots/hist_daily_data_itemlevel_decompressed/MediaStormDailySalesHistory20190112.txt 2019-08-07 22:07:00.445305\n",
      "/home/jian/BigLots/hist_daily_data_itemlevel_decompressed/MediaStormDailySalesHistory20190119.txt 2019-08-07 22:07:31.381316\n",
      "/home/jian/BigLots/hist_daily_data_itemlevel_decompressed/MediaStormDailySalesHistory20190126.txt 2019-08-07 22:08:01.275566\n",
      "/home/jian/BigLots/hist_daily_data_itemlevel_decompressed/MediaStormDailySalesHistory20190202.txt 2019-08-07 22:08:25.513092\n",
      "/home/jian/BigLots/hist_daily_data_itemlevel_decompressed/MediaStormDailySalesHistory20190209.txt 2019-08-07 22:08:50.288399\n",
      "/home/jian/BigLots/2019_by_weeks/MediaStorm_2019-02-16/MediaStormDailySales20190219-113605-481.txt 2019-08-07 22:09:15.933397\n",
      "/home/jian/BigLots/2019_by_weeks/MediaStorm_2019-02-23/MediaStormDailySales20190226-112611-940.txt 2019-08-07 22:09:42.565287\n",
      "/home/jian/BigLots/2019_by_weeks/MediaStorm_2019-03-02/MediaStormDailySales20190305-112738-899.txt 2019-08-07 22:10:11.157284\n",
      "/home/jian/BigLots/2019_by_weeks/MediaStorm_2019-03-09/MediaStormDailySales20190312-121205-996.txt 2019-08-07 22:10:40.394101\n",
      "/home/jian/BigLots/2019_by_weeks/MediaStorm_2019-03-16/MediaStormDailySales20190319-112334-057.txt 2019-08-07 22:11:07.414222\n",
      "/home/jian/BigLots/2019_by_weeks/MediaStorm_2019-03-23/MediaStormDailySales20190326-112740-903.txt 2019-08-07 22:11:36.149705\n",
      "/home/jian/BigLots/2019_by_weeks/MediaStorm_2019-03-30/MediaStormDailySales20190402-112556-551.txt 2019-08-07 22:12:03.429841\n",
      "/home/jian/BigLots/2019_by_weeks/MediaStorm_2019-04-06/MediaStormDailySales20190409-122759-093.txt 2019-08-07 22:12:39.570198\n",
      "/home/jian/BigLots/2019_by_weeks/MediaStorm_2019-04-13/MediaStormDailySales20190416-112824-908.txt 2019-08-07 22:13:14.568186\n",
      "/home/jian/BigLots/2019_by_weeks/MediaStorm_2019-04-20/MediaStormDailySales20190423-112124-771.txt 2019-08-07 22:13:45.177945\n",
      "/home/jian/BigLots/2019_by_weeks/MediaStorm_2019-04-27/MediaStormDailySales20190430-112453-448.txt 2019-08-07 22:14:12.262483\n",
      "/home/jian/BigLots/2019_by_weeks/MediaStorm_2019-05-04/MediaStormDailySales20190507-113110-141.txt 2019-08-07 22:14:41.480813\n",
      "/home/jian/BigLots/2019_by_weeks/MediaStorm_2019-05-11/MediaStormDailySales20190514-121223-405.txt 2019-08-07 22:15:04.019605\n",
      "/home/jian/BigLots/2019_by_weeks/MediaStorm_2019-05-18/MediaStormDailySales20190521-111232-391.txt 2019-08-07 22:15:25.204625\n",
      "/home/jian/BigLots/2019_by_weeks/MediaStorm_2019-05-25/MediaStormDailySales20190528-111211-863.txt 2019-08-07 22:15:49.310067\n",
      "/home/jian/BigLots/2019_by_weeks/MediaStorm_2019-06-01/MediaStormDailySales20190604-111936-950.txt 2019-08-07 22:16:13.757637\n",
      "/home/jian/BigLots/2019_by_weeks/MediaStorm_2019-06-08/MediaStormDailySales20190611-122013-442.txt 2019-08-07 22:16:38.220816\n",
      "/home/jian/BigLots/2019_by_weeks/MediaStorm_2019-06-15/MediaStormDailySales20190618-112500-846.txt 2019-08-07 22:17:02.195693\n",
      "/home/jian/BigLots/2019_by_weeks/MediaStorm_2019-06-22/MediaStormDailySales20190625-111927-257.txt 2019-08-07 22:17:25.423599\n",
      "/home/jian/BigLots/2019_by_weeks/MediaStorm_2019-06-29/MediaStormDailySales20190702-113523-928.txt 2019-08-07 22:17:50.117487\n",
      "/home/jian/BigLots/2019_by_weeks/MediaStorm_2019-07-06/MediaStormDailySales20190709-115715-409.txt 2019-08-07 22:18:17.135891\n",
      "/home/jian/BigLots/2019_by_weeks/MediaStorm_2019-07-13/MediaStormDailySales20190716-122903-926.txt 2019-08-07 22:18:48.352707\n",
      "/home/jian/BigLots/2019_by_weeks/MediaStorm_2019-07-20/MediaStormDailySales20190723-112837-593.txt 2019-08-07 22:19:20.653968\n",
      "/home/jian/BigLots/2019_by_weeks/MediaStorm_2019-07-27/MediaStormDailySales20190730-113653-224.txt 2019-08-07 22:19:46.628270\n",
      "/home/jian/BigLots/2019_by_weeks/MediaStorm_2019-08-03/MediaStormDailySales20190806-113917-862.txt 2019-08-07 22:20:12.561181\n"
     ]
    }
   ],
   "source": [
    "rew_df_after_20180929_before_quarter=pd.DataFrame()\n",
    "rew_df_after_recent_quarter_only=pd.DataFrame()\n",
    "\n",
    "\n",
    "for file in df_all_daily_files_20190922_before_quarter['file_path'].tolist():\n",
    "    df=pd.read_table(file,sep=\"|\",dtype=str,usecols=[\"customer_id_hashed\",\"transaction_dt\"]).drop_duplicates().rename(columns={\"transaction_dt\":\"transaction_date\"})\n",
    "    df=df[~pd.isnull(df['customer_id_hashed'])]\n",
    "    rew_df_after_20180929_before_quarter=rew_df_after_20180929_before_quarter.append(df)\n",
    "    print(file,datetime.datetime.now())\n",
    "\n",
    "for file in df_all_daily_files_in_recent_quarter['file_path'].tolist():\n",
    "    df=pd.read_table(file,sep=\"|\",dtype=str,usecols=[\"customer_id_hashed\",\"transaction_dt\"]).drop_duplicates().rename(columns={\"transaction_dt\":\"transaction_date\"})\n",
    "    df=df[~pd.isnull(df['customer_id_hashed'])]\n",
    "    rew_df_after_recent_quarter_only=rew_df_after_recent_quarter_only.append(df)\n",
    "    print(file,datetime.datetime.now())\n"
   ]
  },
  {
   "cell_type": "code",
   "execution_count": null,
   "metadata": {
    "collapsed": true
   },
   "outputs": [],
   "source": []
  },
  {
   "cell_type": "code",
   "execution_count": 22,
   "metadata": {},
   "outputs": [
    {
     "data": {
      "text/plain": [
       "79"
      ]
     },
     "execution_count": 22,
     "metadata": {},
     "output_type": "execute_result"
    }
   ],
   "source": [
    "all_rewards_most_recent=all_rewards_most_recent.append(rew_df_after_20180929_before_quarter)\n",
    "all_rewards_most_recent=all_rewards_most_recent.sort_values([\"customer_id_hashed\",\"transaction_date\"],ascending=[True,False])\n",
    "all_rewards_most_recent=all_rewards_most_recent.drop_duplicates(['customer_id_hashed'])\n",
    "all_rewards_most_recent['transaction_date_before_the_Quarter']=all_rewards_most_recent['transaction_date']\n",
    "\n",
    "all_rewards_most_recent_After=all_rewards_most_recent[['customer_id_hashed','transaction_date']].append(rew_df_after_recent_quarter_only)\n",
    "all_rewards_most_recent_After=all_rewards_most_recent_After.sort_values([\"customer_id_hashed\",\"transaction_date\"],ascending=[True,False])\n",
    "all_rewards_most_recent_After=all_rewards_most_recent_After.drop_duplicates(['customer_id_hashed']).rename(columns={\"transaction_date\":\"transaction_date_after_the_Quarter\"})\n",
    "\n",
    "all_rewards_most_recent=pd.merge(all_rewards_most_recent,all_rewards_most_recent_After,on=\"customer_id_hashed\",how=\"outer\")\n",
    "del all_rewards_most_recent_After\n",
    "\n",
    "gc.collect()"
   ]
  },
  {
   "cell_type": "code",
   "execution_count": 23,
   "metadata": {},
   "outputs": [
    {
     "data": {
      "text/html": [
       "<div>\n",
       "<style>\n",
       "    .dataframe thead tr:only-child th {\n",
       "        text-align: right;\n",
       "    }\n",
       "\n",
       "    .dataframe thead th {\n",
       "        text-align: left;\n",
       "    }\n",
       "\n",
       "    .dataframe tbody tr th {\n",
       "        vertical-align: top;\n",
       "    }\n",
       "</style>\n",
       "<table border=\"1\" class=\"dataframe\">\n",
       "  <thead>\n",
       "    <tr style=\"text-align: right;\">\n",
       "      <th></th>\n",
       "      <th>transaction_date</th>\n",
       "      <th>customer_id_hashed</th>\n",
       "    </tr>\n",
       "  </thead>\n",
       "  <tbody>\n",
       "    <tr>\n",
       "      <th>12959879</th>\n",
       "      <td>2019-05-03</td>\n",
       "      <td>da09831b5743ecd5b42ffc59c4155df6ff2ea8a320be94...</td>\n",
       "    </tr>\n",
       "    <tr>\n",
       "      <th>12960022</th>\n",
       "      <td>2019-05-04</td>\n",
       "      <td>fd437b6358f7476efbd4af9c423a7ca7cff605f1a4e054...</td>\n",
       "    </tr>\n",
       "  </tbody>\n",
       "</table>\n",
       "</div>"
      ],
      "text/plain": [
       "         transaction_date                                 customer_id_hashed\n",
       "12959879       2019-05-03  da09831b5743ecd5b42ffc59c4155df6ff2ea8a320be94...\n",
       "12960022       2019-05-04  fd437b6358f7476efbd4af9c423a7ca7cff605f1a4e054..."
      ]
     },
     "execution_count": 23,
     "metadata": {},
     "output_type": "execute_result"
    }
   ],
   "source": [
    "rew_df_after_20180929_before_quarter.tail(2)"
   ]
  },
  {
   "cell_type": "code",
   "execution_count": 24,
   "metadata": {},
   "outputs": [
    {
     "data": {
      "text/html": [
       "<div>\n",
       "<style>\n",
       "    .dataframe thead tr:only-child th {\n",
       "        text-align: right;\n",
       "    }\n",
       "\n",
       "    .dataframe thead th {\n",
       "        text-align: left;\n",
       "    }\n",
       "\n",
       "    .dataframe tbody tr th {\n",
       "        vertical-align: top;\n",
       "    }\n",
       "</style>\n",
       "<table border=\"1\" class=\"dataframe\">\n",
       "  <thead>\n",
       "    <tr style=\"text-align: right;\">\n",
       "      <th></th>\n",
       "      <th>transaction_date</th>\n",
       "      <th>customer_id_hashed</th>\n",
       "    </tr>\n",
       "  </thead>\n",
       "  <tbody>\n",
       "    <tr>\n",
       "      <th>12889781</th>\n",
       "      <td>2019-07-31</td>\n",
       "      <td>44bc77f7dde6f9207299a4c167da50d358571c2c9251eb...</td>\n",
       "    </tr>\n",
       "    <tr>\n",
       "      <th>12889786</th>\n",
       "      <td>2019-08-02</td>\n",
       "      <td>c7e952dcfccd75a749f43482de2ae83aee7291047ca21e...</td>\n",
       "    </tr>\n",
       "  </tbody>\n",
       "</table>\n",
       "</div>"
      ],
      "text/plain": [
       "         transaction_date                                 customer_id_hashed\n",
       "12889781       2019-07-31  44bc77f7dde6f9207299a4c167da50d358571c2c9251eb...\n",
       "12889786       2019-08-02  c7e952dcfccd75a749f43482de2ae83aee7291047ca21e..."
      ]
     },
     "execution_count": 24,
     "metadata": {},
     "output_type": "execute_result"
    }
   ],
   "source": [
    "rew_df_after_recent_quarter_only.tail(2)"
   ]
  },
  {
   "cell_type": "code",
   "execution_count": 25,
   "metadata": {},
   "outputs": [
    {
     "name": "stdout",
     "output_type": "stream",
     "text": [
      "2019-08-07 22:43:03.838910\n"
     ]
    }
   ],
   "source": [
    "all_rewards_most_recent['transaction_date_before_the_Quarter']=all_rewards_most_recent['transaction_date_before_the_Quarter'].fillna(\"2099-12-31\")\n",
    "all_rewards_most_recent['transaction_date_before_the_Quarter']=pd.to_datetime(all_rewards_most_recent['transaction_date_before_the_Quarter'],format='%Y-%m-%d')\n",
    "all_rewards_most_recent['Days_to_pre_Quarter_End']=prior_quarter_End-all_rewards_most_recent['transaction_date_before_the_Quarter']\n",
    "# Filled the na before with a later adte 2019-12-31\n",
    "\n",
    "\n",
    "all_rewards_most_recent['transaction_date_after_the_Quarter']=pd.to_datetime(all_rewards_most_recent['transaction_date_after_the_Quarter'],format='%Y-%m-%d')\n",
    "all_rewards_most_recent['Days_to_recentt_Quarter_End']=recent_complete_quarter_End-all_rewards_most_recent['transaction_date_after_the_Quarter']\n",
    "print(datetime.datetime.now())"
   ]
  },
  {
   "cell_type": "code",
   "execution_count": 26,
   "metadata": {},
   "outputs": [
    {
     "name": "stdout",
     "output_type": "stream",
     "text": [
      "2019-08-07 22:53:15.883422\n"
     ]
    }
   ],
   "source": [
    "all_rewards_most_recent['Month_to_pre_Quarter_End']=all_rewards_most_recent['Days_to_pre_Quarter_End'].apply(lambda x: x.days/(365.25/12))\n",
    "all_rewards_most_recent['Month_to_recent_Quarter_End']=all_rewards_most_recent['Days_to_recentt_Quarter_End'].apply(lambda x: x.days/(365.25/12))\n",
    "print(datetime.datetime.now())"
   ]
  },
  {
   "cell_type": "code",
   "execution_count": null,
   "metadata": {
    "collapsed": true
   },
   "outputs": [],
   "source": []
  },
  {
   "cell_type": "code",
   "execution_count": 27,
   "metadata": {
    "collapsed": true
   },
   "outputs": [],
   "source": [
    "all_rewards_most_recent['Group_before_the_Quarter']=np.where((all_rewards_most_recent['Month_to_pre_Quarter_End']>12) & (all_rewards_most_recent['Month_to_pre_Quarter_End']<=48),\"Lapsed_13_48\",\n",
    "                                                   np.where(all_rewards_most_recent['Month_to_pre_Quarter_End']>48,\"WD_48+\",\n",
    "                                                            np.where((all_rewards_most_recent['Month_to_pre_Quarter_End']>=0) & (all_rewards_most_recent['Month_to_pre_Quarter_End']<=12),\"Active\",\n",
    "                                                                    np.where(all_rewards_most_recent['Month_to_pre_Quarter_End']<0,\"NotAvailable_Before_Quarter\",\"NaN\")\n",
    "                                                                    )\n",
    "                                                           )\n",
    "                                                   )\n",
    "all_rewards_most_recent['Group_after_the_Quarter']=np.where((all_rewards_most_recent['Month_to_recent_Quarter_End']>12) & (all_rewards_most_recent['Month_to_recent_Quarter_End']<=48),\"Lapsed_13_48\",\n",
    "                                                   np.where(all_rewards_most_recent['Month_to_recent_Quarter_End']>48,\"WD_48+\",\n",
    "                                                            np.where((all_rewards_most_recent['Month_to_recent_Quarter_End']>=0) & (all_rewards_most_recent['Month_to_recent_Quarter_End']<=12),\"Active\",\n",
    "                                                                    np.where(all_rewards_most_recent['Month_to_recent_Quarter_End']<0,\"NotAvailable_Before_Q4\",\"NaN\")\n",
    "                                                                    )\n",
    "                                                           )\n",
    "                                                   )"
   ]
  },
  {
   "cell_type": "code",
   "execution_count": 28,
   "metadata": {},
   "outputs": [
    {
     "data": {
      "text/plain": [
       "['Active', 'Lapsed_13_48', 'WD_48+', 'NotAvailable_Before_Quarter']"
      ]
     },
     "execution_count": 28,
     "metadata": {},
     "output_type": "execute_result"
    }
   ],
   "source": [
    "all_rewards_most_recent['Group_before_the_Quarter'].unique().tolist()"
   ]
  },
  {
   "cell_type": "code",
   "execution_count": 29,
   "metadata": {},
   "outputs": [
    {
     "data": {
      "text/plain": [
       "array(['Active', 'Lapsed_13_48', 'WD_48+'], dtype=object)"
      ]
     },
     "execution_count": 29,
     "metadata": {},
     "output_type": "execute_result"
    }
   ],
   "source": [
    "all_rewards_most_recent['Group_after_the_Quarter'].unique()"
   ]
  },
  {
   "cell_type": "code",
   "execution_count": 30,
   "metadata": {},
   "outputs": [
    {
     "name": "stdout",
     "output_type": "stream",
     "text": [
      "/home/jian/BigLots/2019_by_weeks/MediaStorm_2019-05-11/MediaStormDailySales20190514-121223-405.txt 2019-08-07 22:55:05.818165\n",
      "/home/jian/BigLots/2019_by_weeks/MediaStorm_2019-05-18/MediaStormDailySales20190521-111232-391.txt 2019-08-07 22:55:55.616834\n",
      "/home/jian/BigLots/2019_by_weeks/MediaStorm_2019-05-25/MediaStormDailySales20190528-111211-863.txt 2019-08-07 22:56:52.154281\n",
      "/home/jian/BigLots/2019_by_weeks/MediaStorm_2019-06-01/MediaStormDailySales20190604-111936-950.txt 2019-08-07 22:57:44.010926\n",
      "/home/jian/BigLots/2019_by_weeks/MediaStorm_2019-06-08/MediaStormDailySales20190611-122013-442.txt 2019-08-07 22:58:39.443402\n",
      "/home/jian/BigLots/2019_by_weeks/MediaStorm_2019-06-15/MediaStormDailySales20190618-112500-846.txt 2019-08-07 22:59:33.133105\n",
      "/home/jian/BigLots/2019_by_weeks/MediaStorm_2019-06-22/MediaStormDailySales20190625-111927-257.txt 2019-08-07 23:00:26.820045\n",
      "/home/jian/BigLots/2019_by_weeks/MediaStorm_2019-06-29/MediaStormDailySales20190702-113523-928.txt 2019-08-07 23:01:23.249657\n",
      "/home/jian/BigLots/2019_by_weeks/MediaStorm_2019-07-06/MediaStormDailySales20190709-115715-409.txt 2019-08-07 23:02:26.937157\n",
      "/home/jian/BigLots/2019_by_weeks/MediaStorm_2019-07-13/MediaStormDailySales20190716-122903-926.txt 2019-08-07 23:03:36.441943\n",
      "/home/jian/BigLots/2019_by_weeks/MediaStorm_2019-07-20/MediaStormDailySales20190723-112837-593.txt 2019-08-07 23:04:49.021434\n",
      "/home/jian/BigLots/2019_by_weeks/MediaStorm_2019-07-27/MediaStormDailySales20190730-113653-224.txt 2019-08-07 23:05:46.163624\n",
      "/home/jian/BigLots/2019_by_weeks/MediaStorm_2019-08-03/MediaStormDailySales20190806-113917-862.txt 2019-08-07 23:06:48.294975\n"
     ]
    }
   ],
   "source": [
    "RecentQuarter_sales_by_id=pd.DataFrame()\n",
    "\n",
    "for file in df_all_daily_files_in_recent_quarter['file_path'].tolist():\n",
    "    df=pd.read_table(file,sep=\"|\",dtype=str,\n",
    "                     usecols=['location_id','transaction_dt','transaction_id','customer_id_hashed','item_transaction_amt'])\n",
    "    df=df[~pd.isnull(df['customer_id_hashed'])]\n",
    "    df['item_transaction_amt']=df['item_transaction_amt'].astype(float)\n",
    "    df_sales=df.groupby(['customer_id_hashed'])['item_transaction_amt'].sum().to_frame().reset_index().rename(columns={\"item_transaction_amt\":\"sales_recent_Quarter\"})\n",
    "    \n",
    "    df_trans=df[['location_id','transaction_dt','transaction_id','customer_id_hashed']].drop_duplicates()\n",
    "    df_trans=df_trans.groupby([\"customer_id_hashed\"])['transaction_id'].count().to_frame().reset_index().rename(columns={\"transaction_id\":\"trans_recent_Quarter\"})\n",
    "    \n",
    "    df=pd.merge(df_sales,df_trans,on=\"customer_id_hashed\",how=\"outer\")\n",
    "    \n",
    "    RecentQuarter_sales_by_id=RecentQuarter_sales_by_id.append(df)\n",
    "    print(file,datetime.datetime.now())\n",
    "RecentQuarter_sales_by_id=RecentQuarter_sales_by_id.groupby(\"customer_id_hashed\")['sales_recent_Quarter','trans_recent_Quarter'].sum().reset_index()\n",
    "RecentQuarter_sales_by_id['Recent_Quarter_Shopping_Group']=\"Recent_Quarter_Shopped\""
   ]
  },
  {
   "cell_type": "code",
   "execution_count": 31,
   "metadata": {},
   "outputs": [
    {
     "data": {
      "text/plain": [
       "(28427573, 13)"
      ]
     },
     "execution_count": 31,
     "metadata": {},
     "output_type": "execute_result"
    }
   ],
   "source": [
    "all_rewards_most_recent=pd.merge(all_rewards_most_recent,RecentQuarter_sales_by_id,on=\"customer_id_hashed\",how=\"outer\")\n",
    "all_rewards_most_recent.shape"
   ]
  },
  {
   "cell_type": "code",
   "execution_count": null,
   "metadata": {
    "collapsed": true
   },
   "outputs": [],
   "source": [
    "# Stop here"
   ]
  },
  {
   "cell_type": "code",
   "execution_count": null,
   "metadata": {
    "collapsed": true
   },
   "outputs": [],
   "source": []
  },
  {
   "cell_type": "code",
   "execution_count": 32,
   "metadata": {},
   "outputs": [
    {
     "name": "stdout",
     "output_type": "stream",
     "text": [
      "(13, 2)\n"
     ]
    },
    {
     "data": {
      "text/html": [
       "<div>\n",
       "<style>\n",
       "    .dataframe thead tr:only-child th {\n",
       "        text-align: right;\n",
       "    }\n",
       "\n",
       "    .dataframe thead th {\n",
       "        text-align: left;\n",
       "    }\n",
       "\n",
       "    .dataframe tbody tr th {\n",
       "        vertical-align: top;\n",
       "    }\n",
       "</style>\n",
       "<table border=\"1\" class=\"dataframe\">\n",
       "  <thead>\n",
       "    <tr style=\"text-align: right;\">\n",
       "      <th></th>\n",
       "      <th>file_path</th>\n",
       "      <th>week_end_dt</th>\n",
       "    </tr>\n",
       "  </thead>\n",
       "  <tbody>\n",
       "    <tr>\n",
       "      <th>16</th>\n",
       "      <td>/home/jian/BigLots/2019_by_weeks/MediaStorm_20...</td>\n",
       "      <td>2019-05-11</td>\n",
       "    </tr>\n",
       "    <tr>\n",
       "      <th>17</th>\n",
       "      <td>/home/jian/BigLots/2019_by_weeks/MediaStorm_20...</td>\n",
       "      <td>2019-05-18</td>\n",
       "    </tr>\n",
       "  </tbody>\n",
       "</table>\n",
       "</div>"
      ],
      "text/plain": [
       "                                            file_path week_end_dt\n",
       "16  /home/jian/BigLots/2019_by_weeks/MediaStorm_20...  2019-05-11\n",
       "17  /home/jian/BigLots/2019_by_weeks/MediaStorm_20...  2019-05-18"
      ]
     },
     "execution_count": 32,
     "metadata": {},
     "output_type": "execute_result"
    }
   ],
   "source": [
    "Recent_Quarter_new_sign_ups_files=list(recursive_file_gen(\"/home/jian/BigLots/\"))\n",
    "\n",
    "Recent_Quarter_new_sign_ups_files=[x for x in Recent_Quarter_new_sign_ups_files if \"Master\" in x]\n",
    "Recent_Quarter_new_sign_ups_files=[x for x in Recent_Quarter_new_sign_ups_files if \"2018\" not in x]\n",
    "Recent_Quarter_new_sign_ups_files=[x for x in Recent_Quarter_new_sign_ups_files if \"2017\" not in x]\n",
    "Recent_Quarter_new_sign_ups_files=[x for x in Recent_Quarter_new_sign_ups_files if \"2016\" not in x]\n",
    "Recent_Quarter_new_sign_ups_files=[x for x in Recent_Quarter_new_sign_ups_files if \".txt\" in x]\n",
    "\n",
    "Recent_Quarter_new_sign_ups_files_df=pd.DataFrame({\"file_path\":Recent_Quarter_new_sign_ups_files})\n",
    "Recent_Quarter_new_sign_ups_files_df['week_end_dt']=Recent_Quarter_new_sign_ups_files_df['file_path'].apply(lambda x: x.split(\"/MediaStorm_\")[1][:10])\n",
    "Recent_Quarter_new_sign_ups_files_df=Recent_Quarter_new_sign_ups_files_df[Recent_Quarter_new_sign_ups_files_df['week_end_dt']<=str(recent_complete_quarter_End)]\n",
    "Recent_Quarter_new_sign_ups_files_df=Recent_Quarter_new_sign_ups_files_df[Recent_Quarter_new_sign_ups_files_df['week_end_dt']>str(prior_quarter_End)]\n",
    "print(Recent_Quarter_new_sign_ups_files_df.shape)\n",
    "Recent_Quarter_new_sign_ups_files_df.head(2)"
   ]
  },
  {
   "cell_type": "code",
   "execution_count": 33,
   "metadata": {},
   "outputs": [
    {
     "data": {
      "text/html": [
       "<div>\n",
       "<style>\n",
       "    .dataframe thead tr:only-child th {\n",
       "        text-align: right;\n",
       "    }\n",
       "\n",
       "    .dataframe thead th {\n",
       "        text-align: left;\n",
       "    }\n",
       "\n",
       "    .dataframe tbody tr th {\n",
       "        vertical-align: top;\n",
       "    }\n",
       "</style>\n",
       "<table border=\"1\" class=\"dataframe\">\n",
       "  <thead>\n",
       "    <tr style=\"text-align: right;\">\n",
       "      <th></th>\n",
       "      <th>customer_id_hashed</th>\n",
       "      <th>sign_up_date</th>\n",
       "    </tr>\n",
       "  </thead>\n",
       "  <tbody>\n",
       "    <tr>\n",
       "      <th>0</th>\n",
       "      <td>a30cc90d9c489ad7f0ab223ba7ea0917dcc74e0bc7ff51...</td>\n",
       "      <td>2019-05-13</td>\n",
       "    </tr>\n",
       "    <tr>\n",
       "      <th>1</th>\n",
       "      <td>ba076e9261ef546379354f54e5a9f37a1fd570342a5635...</td>\n",
       "      <td>2019-05-16</td>\n",
       "    </tr>\n",
       "  </tbody>\n",
       "</table>\n",
       "</div>"
      ],
      "text/plain": [
       "                                  customer_id_hashed sign_up_date\n",
       "0  a30cc90d9c489ad7f0ab223ba7ea0917dcc74e0bc7ff51...   2019-05-13\n",
       "1  ba076e9261ef546379354f54e5a9f37a1fd570342a5635...   2019-05-16"
      ]
     },
     "execution_count": 33,
     "metadata": {},
     "output_type": "execute_result"
    }
   ],
   "source": [
    "df_new_sign_the_gap=\"/home/jian/BigLots/New_Sing_Ups_2018_Fiscal_Year/MediaStorm Rewards Master P4 2019 - no transaction info.zip\"\n",
    "df_new_sign_the_gap=pd.read_table(df_new_sign_the_gap,sep=\"|\",usecols=['customer_id_hashed','sign_up_date'])\n",
    "df_new_sign_the_gap.head(2)"
   ]
  },
  {
   "cell_type": "code",
   "execution_count": 35,
   "metadata": {},
   "outputs": [
    {
     "data": {
      "text/plain": [
       "'2019-05-05'"
      ]
     },
     "execution_count": 35,
     "metadata": {},
     "output_type": "execute_result"
    }
   ],
   "source": [
    "df_new_sign_the_gap['sign_up_date'].min()"
   ]
  },
  {
   "cell_type": "code",
   "execution_count": 36,
   "metadata": {},
   "outputs": [
    {
     "name": "stdout",
     "output_type": "stream",
     "text": [
      "(1614908, 2)\n"
     ]
    }
   ],
   "source": [
    "all_new_sign_ups=pd.DataFrame()\n",
    "for file in Recent_Quarter_new_sign_ups_files_df['file_path'].unique().tolist():\n",
    "    df=pd.read_table(file,sep=\"|\",usecols=['customer_id_hashed','sign_up_date'])\n",
    "    all_new_sign_ups=all_new_sign_ups.append(df)\n",
    "all_new_sign_ups=all_new_sign_ups.append(df_new_sign_the_gap)\n",
    "all_new_sign_ups=all_new_sign_ups.sort_values(['customer_id_hashed','sign_up_date'])\n",
    "all_new_sign_ups=all_new_sign_ups.drop_duplicates(\"customer_id_hashed\")\n",
    "print(all_new_sign_ups.shape)\n",
    "\n",
    "all_new_sign_ups['NewRewards']=\"Recent_Quarter_New_Sign_Ups\"\n",
    "all_new_sign_ups=all_new_sign_ups.drop_duplicates(\"customer_id_hashed\")"
   ]
  },
  {
   "cell_type": "code",
   "execution_count": 37,
   "metadata": {},
   "outputs": [
    {
     "data": {
      "text/plain": [
       "(28897174, 15)"
      ]
     },
     "execution_count": 37,
     "metadata": {},
     "output_type": "execute_result"
    }
   ],
   "source": [
    "all_rewards_most_recent=pd.merge(all_rewards_most_recent,all_new_sign_ups,on=\"customer_id_hashed\",how=\"outer\")\n",
    "all_rewards_most_recent['NewRewards']=all_rewards_most_recent['NewRewards'].fillna(\"Old_Rewards_Members\")\n",
    "\n",
    "all_rewards_most_recent['sales_recent_Quarter']=all_rewards_most_recent['sales_recent_Quarter'].fillna(0)\n",
    "all_rewards_most_recent['trans_recent_Quarter']=all_rewards_most_recent['trans_recent_Quarter'].fillna(0)\n",
    "\n",
    "all_rewards_most_recent['Recent_Quarter_Shopping_Group']=all_rewards_most_recent['Recent_Quarter_Shopping_Group'].fillna(\"Recent_Quarter_No_Shop\")\n",
    "\n",
    "all_rewards_most_recent.shape\n"
   ]
  },
  {
   "cell_type": "code",
   "execution_count": 38,
   "metadata": {},
   "outputs": [
    {
     "data": {
      "text/html": [
       "<div>\n",
       "<style>\n",
       "    .dataframe thead tr:only-child th {\n",
       "        text-align: right;\n",
       "    }\n",
       "\n",
       "    .dataframe thead th {\n",
       "        text-align: left;\n",
       "    }\n",
       "\n",
       "    .dataframe tbody tr th {\n",
       "        vertical-align: top;\n",
       "    }\n",
       "</style>\n",
       "<table border=\"1\" class=\"dataframe\">\n",
       "  <thead>\n",
       "    <tr style=\"text-align: right;\">\n",
       "      <th></th>\n",
       "      <th>Group_before_the_Quarter</th>\n",
       "      <th>Group_after_the_Quarter</th>\n",
       "      <th>NewRewards</th>\n",
       "      <th>Recent_Quarter_Shopping_Group</th>\n",
       "      <th>id_count</th>\n",
       "      <th>sales_recent_Quarter</th>\n",
       "      <th>trans_recent_Quarter</th>\n",
       "    </tr>\n",
       "  </thead>\n",
       "  <tbody>\n",
       "    <tr>\n",
       "      <th>0</th>\n",
       "      <td>Active</td>\n",
       "      <td>Active</td>\n",
       "      <td>Old_Rewards_Members</td>\n",
       "      <td>Recent_Quarter_No_Shop</td>\n",
       "      <td>9546619</td>\n",
       "      <td>0.000000e+00</td>\n",
       "      <td>0.0</td>\n",
       "    </tr>\n",
       "    <tr>\n",
       "      <th>1</th>\n",
       "      <td>Active</td>\n",
       "      <td>Active</td>\n",
       "      <td>Old_Rewards_Members</td>\n",
       "      <td>Recent_Quarter_Shopped</td>\n",
       "      <td>6576945</td>\n",
       "      <td>5.933058e+08</td>\n",
       "      <td>16528695.0</td>\n",
       "    </tr>\n",
       "    <tr>\n",
       "      <th>2</th>\n",
       "      <td>Active</td>\n",
       "      <td>Active</td>\n",
       "      <td>Recent_Quarter_New_Sign_Ups</td>\n",
       "      <td>Recent_Quarter_No_Shop</td>\n",
       "      <td>19</td>\n",
       "      <td>0.000000e+00</td>\n",
       "      <td>0.0</td>\n",
       "    </tr>\n",
       "    <tr>\n",
       "      <th>3</th>\n",
       "      <td>Active</td>\n",
       "      <td>Active</td>\n",
       "      <td>Recent_Quarter_New_Sign_Ups</td>\n",
       "      <td>Recent_Quarter_Shopped</td>\n",
       "      <td>41</td>\n",
       "      <td>8.970590e+03</td>\n",
       "      <td>152.0</td>\n",
       "    </tr>\n",
       "    <tr>\n",
       "      <th>4</th>\n",
       "      <td>Active</td>\n",
       "      <td>Lapsed_13_48</td>\n",
       "      <td>Old_Rewards_Members</td>\n",
       "      <td>Recent_Quarter_No_Shop</td>\n",
       "      <td>1596764</td>\n",
       "      <td>0.000000e+00</td>\n",
       "      <td>0.0</td>\n",
       "    </tr>\n",
       "    <tr>\n",
       "      <th>5</th>\n",
       "      <td>Active</td>\n",
       "      <td>Lapsed_13_48</td>\n",
       "      <td>Recent_Quarter_New_Sign_Ups</td>\n",
       "      <td>Recent_Quarter_No_Shop</td>\n",
       "      <td>1</td>\n",
       "      <td>0.000000e+00</td>\n",
       "      <td>0.0</td>\n",
       "    </tr>\n",
       "    <tr>\n",
       "      <th>6</th>\n",
       "      <td>Lapsed_13_48</td>\n",
       "      <td>Active</td>\n",
       "      <td>Old_Rewards_Members</td>\n",
       "      <td>Recent_Quarter_Shopped</td>\n",
       "      <td>666542</td>\n",
       "      <td>5.207722e+07</td>\n",
       "      <td>1012331.0</td>\n",
       "    </tr>\n",
       "    <tr>\n",
       "      <th>7</th>\n",
       "      <td>Lapsed_13_48</td>\n",
       "      <td>Lapsed_13_48</td>\n",
       "      <td>Old_Rewards_Members</td>\n",
       "      <td>Recent_Quarter_No_Shop</td>\n",
       "      <td>8419112</td>\n",
       "      <td>0.000000e+00</td>\n",
       "      <td>0.0</td>\n",
       "    </tr>\n",
       "    <tr>\n",
       "      <th>8</th>\n",
       "      <td>Lapsed_13_48</td>\n",
       "      <td>WD_48+</td>\n",
       "      <td>Old_Rewards_Members</td>\n",
       "      <td>Recent_Quarter_No_Shop</td>\n",
       "      <td>110952</td>\n",
       "      <td>0.000000e+00</td>\n",
       "      <td>0.0</td>\n",
       "    </tr>\n",
       "    <tr>\n",
       "      <th>9</th>\n",
       "      <td>NotAvailable_Before_Quarter</td>\n",
       "      <td>Active</td>\n",
       "      <td>Old_Rewards_Members</td>\n",
       "      <td>Recent_Quarter_Shopped</td>\n",
       "      <td>358838</td>\n",
       "      <td>3.386871e+07</td>\n",
       "      <td>554246.0</td>\n",
       "    </tr>\n",
       "    <tr>\n",
       "      <th>10</th>\n",
       "      <td>NotAvailable_Before_Quarter</td>\n",
       "      <td>Active</td>\n",
       "      <td>Recent_Quarter_New_Sign_Ups</td>\n",
       "      <td>Recent_Quarter_Shopped</td>\n",
       "      <td>1145246</td>\n",
       "      <td>1.344171e+08</td>\n",
       "      <td>2055329.0</td>\n",
       "    </tr>\n",
       "    <tr>\n",
       "      <th>11</th>\n",
       "      <td>WD_48+</td>\n",
       "      <td>Active</td>\n",
       "      <td>Old_Rewards_Members</td>\n",
       "      <td>Recent_Quarter_Shopped</td>\n",
       "      <td>160</td>\n",
       "      <td>1.656896e+04</td>\n",
       "      <td>231.0</td>\n",
       "    </tr>\n",
       "    <tr>\n",
       "      <th>12</th>\n",
       "      <td>WD_48+</td>\n",
       "      <td>WD_48+</td>\n",
       "      <td>Old_Rewards_Members</td>\n",
       "      <td>Recent_Quarter_No_Shop</td>\n",
       "      <td>6334</td>\n",
       "      <td>0.000000e+00</td>\n",
       "      <td>0.0</td>\n",
       "    </tr>\n",
       "  </tbody>\n",
       "</table>\n",
       "</div>"
      ],
      "text/plain": [
       "       Group_before_the_Quarter Group_after_the_Quarter  \\\n",
       "0                        Active                  Active   \n",
       "1                        Active                  Active   \n",
       "2                        Active                  Active   \n",
       "3                        Active                  Active   \n",
       "4                        Active            Lapsed_13_48   \n",
       "5                        Active            Lapsed_13_48   \n",
       "6                  Lapsed_13_48                  Active   \n",
       "7                  Lapsed_13_48            Lapsed_13_48   \n",
       "8                  Lapsed_13_48                  WD_48+   \n",
       "9   NotAvailable_Before_Quarter                  Active   \n",
       "10  NotAvailable_Before_Quarter                  Active   \n",
       "11                       WD_48+                  Active   \n",
       "12                       WD_48+                  WD_48+   \n",
       "\n",
       "                     NewRewards Recent_Quarter_Shopping_Group  id_count  \\\n",
       "0           Old_Rewards_Members        Recent_Quarter_No_Shop   9546619   \n",
       "1           Old_Rewards_Members        Recent_Quarter_Shopped   6576945   \n",
       "2   Recent_Quarter_New_Sign_Ups        Recent_Quarter_No_Shop        19   \n",
       "3   Recent_Quarter_New_Sign_Ups        Recent_Quarter_Shopped        41   \n",
       "4           Old_Rewards_Members        Recent_Quarter_No_Shop   1596764   \n",
       "5   Recent_Quarter_New_Sign_Ups        Recent_Quarter_No_Shop         1   \n",
       "6           Old_Rewards_Members        Recent_Quarter_Shopped    666542   \n",
       "7           Old_Rewards_Members        Recent_Quarter_No_Shop   8419112   \n",
       "8           Old_Rewards_Members        Recent_Quarter_No_Shop    110952   \n",
       "9           Old_Rewards_Members        Recent_Quarter_Shopped    358838   \n",
       "10  Recent_Quarter_New_Sign_Ups        Recent_Quarter_Shopped   1145246   \n",
       "11          Old_Rewards_Members        Recent_Quarter_Shopped       160   \n",
       "12          Old_Rewards_Members        Recent_Quarter_No_Shop      6334   \n",
       "\n",
       "    sales_recent_Quarter  trans_recent_Quarter  \n",
       "0           0.000000e+00                   0.0  \n",
       "1           5.933058e+08            16528695.0  \n",
       "2           0.000000e+00                   0.0  \n",
       "3           8.970590e+03                 152.0  \n",
       "4           0.000000e+00                   0.0  \n",
       "5           0.000000e+00                   0.0  \n",
       "6           5.207722e+07             1012331.0  \n",
       "7           0.000000e+00                   0.0  \n",
       "8           0.000000e+00                   0.0  \n",
       "9           3.386871e+07              554246.0  \n",
       "10          1.344171e+08             2055329.0  \n",
       "11          1.656896e+04                 231.0  \n",
       "12          0.000000e+00                   0.0  "
      ]
     },
     "execution_count": 38,
     "metadata": {},
     "output_type": "execute_result"
    }
   ],
   "source": [
    "output_id_count=all_rewards_most_recent.groupby(['Group_before_the_Quarter','Group_after_the_Quarter','NewRewards','Recent_Quarter_Shopping_Group'])['customer_id_hashed'].count().to_frame().reset_index().rename(columns={\"customer_id_hashed\":\"id_count\"})\n",
    "output_id_Q4_sales=all_rewards_most_recent.groupby(['Group_before_the_Quarter','Group_after_the_Quarter','NewRewards','Recent_Quarter_Shopping_Group'])['sales_recent_Quarter','trans_recent_Quarter'].sum().reset_index()\n",
    "\n",
    "output=pd.merge(output_id_count,output_id_Q4_sales,on=['Group_before_the_Quarter','Group_after_the_Quarter','NewRewards','Recent_Quarter_Shopping_Group'],how=\"outer\")\n",
    "output\n"
   ]
  },
  {
   "cell_type": "code",
   "execution_count": 39,
   "metadata": {},
   "outputs": [
    {
     "data": {
      "text/plain": [
       "'/home/jian/Projects/Big_Lots/Analysis/2019_Q2/ID_Migration'"
      ]
     },
     "execution_count": 39,
     "metadata": {},
     "output_type": "execute_result"
    }
   ],
   "source": [
    "os.getcwd()"
   ]
  },
  {
   "cell_type": "code",
   "execution_count": 40,
   "metadata": {
    "collapsed": true
   },
   "outputs": [],
   "source": [
    "output['Recent_Quarteer_Sale_per_ID']=output['sales_recent_Quarter']/output['id_count']\n",
    "output['Recent_Quarteer_Sale_per_ID']=output['Recent_Quarteer_Sale_per_ID'].apply(lambda x: np.round(x,2))\n",
    "\n",
    "output['inclusion/exclusion']=np.where((output['Group_before_the_Quarter']!=\"NotAvailable_Before_Quarter\") & (output['NewRewards']==\"Recent_Quarter_New_Sign_Ups\"),\"Exclusion\",\"Inclusion\")\n"
   ]
  },
  {
   "cell_type": "code",
   "execution_count": null,
   "metadata": {
    "collapsed": true
   },
   "outputs": [],
   "source": [
    "output.to_csv(\"/home/jian/Projects/Big_Lots/Analysis/2019_Q2/ID_Migration/BL_2019Q2_rewards_migration_output_summary_JL_\"+str(datetime.datetime.now().date())+\".csv\",index=False)\n",
    "\n"
   ]
  },
  {
   "cell_type": "code",
   "execution_count": null,
   "metadata": {
    "collapsed": true
   },
   "outputs": [],
   "source": [
    "all_rewards_most_recent.to_csv(\"/home/jian/Projects/Big_Lots/Analysis/2019_Q2/ID_Migration/BL_2019Q2_rewards_migration_rewards_data_JL_\"+str(datetime.datetime.now().date())+\".csv\",index=False)\n"
   ]
  },
  {
   "cell_type": "code",
   "execution_count": null,
   "metadata": {
    "collapsed": true
   },
   "outputs": [],
   "source": [
    "all_rewards_most_recent.shape"
   ]
  },
  {
   "cell_type": "code",
   "execution_count": null,
   "metadata": {
    "collapsed": true
   },
   "outputs": [],
   "source": [
    "all_rewards_most_recent['customer_id_hashed'].nunique()"
   ]
  },
  {
   "cell_type": "code",
   "execution_count": null,
   "metadata": {
    "collapsed": true
   },
   "outputs": [],
   "source": []
  },
  {
   "cell_type": "code",
   "execution_count": null,
   "metadata": {
    "collapsed": true
   },
   "outputs": [],
   "source": []
  }
 ],
 "metadata": {
  "kernelspec": {
   "display_name": "Python 3",
   "language": "python",
   "name": "python3"
  },
  "language_info": {
   "codemirror_mode": {
    "name": "ipython",
    "version": 3
   },
   "file_extension": ".py",
   "mimetype": "text/x-python",
   "name": "python",
   "nbconvert_exporter": "python",
   "pygments_lexer": "ipython3",
   "version": "3.6.1"
  }
 },
 "nbformat": 4,
 "nbformat_minor": 2
}
