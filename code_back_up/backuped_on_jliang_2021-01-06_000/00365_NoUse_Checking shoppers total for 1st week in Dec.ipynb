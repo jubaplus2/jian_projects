{
 "cells": [
  {
   "cell_type": "code",
   "execution_count": 1,
   "metadata": {
    "collapsed": true
   },
   "outputs": [],
   "source": [
    "\n",
    "import pandas as pd\n",
    "import numpy as np\n",
    "import datetime\n",
    "import os\n",
    "import glob"
   ]
  },
  {
   "cell_type": "code",
   "execution_count": 2,
   "metadata": {
    "collapsed": true
   },
   "outputs": [],
   "source": [
    "daily_data=pd.read_table(\"/home/jian/BigLots/2018_by_weeks/MediaStorm_2018-12-08/MediaStormDailySales20181211-115638-766.txt\",dtype=str,sep=\"|\",usecols=['location_id','transaction_dt','customer_id_hashed'])\n",
    "total_rewards_members=len(daily_data['customer_id_hashed'].unique().tolist())-1\n"
   ]
  },
  {
   "cell_type": "code",
   "execution_count": 3,
   "metadata": {},
   "outputs": [
    {
     "data": {
      "text/plain": [
       "1830986"
      ]
     },
     "execution_count": 3,
     "metadata": {},
     "output_type": "execute_result"
    }
   ],
   "source": [
    "total_rewards_members"
   ]
  },
  {
   "cell_type": "code",
   "execution_count": 4,
   "metadata": {
    "collapsed": true
   },
   "outputs": [],
   "source": [
    "def count_unique(x):\n",
    "    y=len(set(x))\n",
    "    return y"
   ]
  },
  {
   "cell_type": "code",
   "execution_count": 5,
   "metadata": {
    "collapsed": true
   },
   "outputs": [],
   "source": [
    "unique_shoppers_by_store=daily_data.groupby(['location_id'])['customer_id_hashed'].apply(count_unique).to_frame().reset_index()\n",
    "\n"
   ]
  },
  {
   "cell_type": "code",
   "execution_count": 6,
   "metadata": {},
   "outputs": [
    {
     "data": {
      "text/plain": [
       "(1421, 2)"
      ]
     },
     "execution_count": 6,
     "metadata": {},
     "output_type": "execute_result"
    }
   ],
   "source": [
    "unique_shoppers_by_store.shape"
   ]
  },
  {
   "cell_type": "code",
   "execution_count": 7,
   "metadata": {},
   "outputs": [
    {
     "data": {
      "text/html": [
       "<div>\n",
       "<style>\n",
       "    .dataframe thead tr:only-child th {\n",
       "        text-align: right;\n",
       "    }\n",
       "\n",
       "    .dataframe thead th {\n",
       "        text-align: left;\n",
       "    }\n",
       "\n",
       "    .dataframe tbody tr th {\n",
       "        vertical-align: top;\n",
       "    }\n",
       "</style>\n",
       "<table border=\"1\" class=\"dataframe\">\n",
       "  <thead>\n",
       "    <tr style=\"text-align: right;\">\n",
       "      <th></th>\n",
       "      <th>location_id</th>\n",
       "      <th>customer_id_hashed</th>\n",
       "    </tr>\n",
       "  </thead>\n",
       "  <tbody>\n",
       "    <tr>\n",
       "      <th>0</th>\n",
       "      <td>1</td>\n",
       "      <td>1581</td>\n",
       "    </tr>\n",
       "    <tr>\n",
       "      <th>1</th>\n",
       "      <td>1001</td>\n",
       "      <td>795</td>\n",
       "    </tr>\n",
       "    <tr>\n",
       "      <th>2</th>\n",
       "      <td>1003</td>\n",
       "      <td>1331</td>\n",
       "    </tr>\n",
       "    <tr>\n",
       "      <th>3</th>\n",
       "      <td>1005</td>\n",
       "      <td>908</td>\n",
       "    </tr>\n",
       "    <tr>\n",
       "      <th>4</th>\n",
       "      <td>1006</td>\n",
       "      <td>1095</td>\n",
       "    </tr>\n",
       "  </tbody>\n",
       "</table>\n",
       "</div>"
      ],
      "text/plain": [
       "  location_id  customer_id_hashed\n",
       "0           1                1581\n",
       "1        1001                 795\n",
       "2        1003                1331\n",
       "3        1005                 908\n",
       "4        1006                1095"
      ]
     },
     "execution_count": 7,
     "metadata": {},
     "output_type": "execute_result"
    }
   ],
   "source": [
    "unique_shoppers_by_store.head(5)"
   ]
  },
  {
   "cell_type": "code",
   "execution_count": 8,
   "metadata": {},
   "outputs": [
    {
     "data": {
      "text/plain": [
       "1327.0197044334975"
      ]
     },
     "execution_count": 8,
     "metadata": {},
     "output_type": "execute_result"
    }
   ],
   "source": [
    "unique_shoppers_by_store['customer_id_hashed'].mean()"
   ]
  },
  {
   "cell_type": "code",
   "execution_count": 11,
   "metadata": {},
   "outputs": [
    {
     "data": {
      "text/html": [
       "<div>\n",
       "<style>\n",
       "    .dataframe thead tr:only-child th {\n",
       "        text-align: right;\n",
       "    }\n",
       "\n",
       "    .dataframe thead th {\n",
       "        text-align: left;\n",
       "    }\n",
       "\n",
       "    .dataframe tbody tr th {\n",
       "        vertical-align: top;\n",
       "    }\n",
       "</style>\n",
       "<table border=\"1\" class=\"dataframe\">\n",
       "  <thead>\n",
       "    <tr style=\"text-align: right;\">\n",
       "      <th></th>\n",
       "      <th>location_id</th>\n",
       "      <th>transaction_dt</th>\n",
       "      <th>transaction_id</th>\n",
       "      <th>customer_id_hashed</th>\n",
       "      <th>class_code_id</th>\n",
       "      <th>subclass_id</th>\n",
       "      <th>subclass_transaction_units</th>\n",
       "      <th>subclass_transaction_amt</th>\n",
       "    </tr>\n",
       "  </thead>\n",
       "  <tbody>\n",
       "    <tr>\n",
       "      <th>0</th>\n",
       "      <td>1408</td>\n",
       "      <td>2018-12-03</td>\n",
       "      <td>7690</td>\n",
       "      <td>1e2f77cbafe06ae017e87529164fd9898a7698a1424fc5...</td>\n",
       "      <td>24002</td>\n",
       "      <td>8</td>\n",
       "      <td>2</td>\n",
       "      <td>00000000000004.0000</td>\n",
       "    </tr>\n",
       "    <tr>\n",
       "      <th>1</th>\n",
       "      <td>5217</td>\n",
       "      <td>2018-12-04</td>\n",
       "      <td>202</td>\n",
       "      <td>c94e7df0657fd188ef5be2123cd66d5a2f6494f4a6bbb8...</td>\n",
       "      <td>15003</td>\n",
       "      <td>1</td>\n",
       "      <td>1</td>\n",
       "      <td>00000000000005.0800</td>\n",
       "    </tr>\n",
       "    <tr>\n",
       "      <th>2</th>\n",
       "      <td>1706</td>\n",
       "      <td>2018-12-08</td>\n",
       "      <td>527</td>\n",
       "      <td>NaN</td>\n",
       "      <td>33008</td>\n",
       "      <td>4</td>\n",
       "      <td>2</td>\n",
       "      <td>00000000000010.0000</td>\n",
       "    </tr>\n",
       "    <tr>\n",
       "      <th>3</th>\n",
       "      <td>1493</td>\n",
       "      <td>2018-12-07</td>\n",
       "      <td>8514</td>\n",
       "      <td>e856258b4216d1cd3a5d236745b4eec069243284dd1afa...</td>\n",
       "      <td>31004</td>\n",
       "      <td>6</td>\n",
       "      <td>0</td>\n",
       "      <td>-00000000000005.0000</td>\n",
       "    </tr>\n",
       "    <tr>\n",
       "      <th>4</th>\n",
       "      <td>472</td>\n",
       "      <td>2018-12-08</td>\n",
       "      <td>9289</td>\n",
       "      <td>e3f43a8e4109eba28ff3239ff4bb7f93123dc23f6d4925...</td>\n",
       "      <td>11101</td>\n",
       "      <td>4</td>\n",
       "      <td>6</td>\n",
       "      <td>00000000000005.2800</td>\n",
       "    </tr>\n",
       "    <tr>\n",
       "      <th>5</th>\n",
       "      <td>474</td>\n",
       "      <td>2018-12-05</td>\n",
       "      <td>9996</td>\n",
       "      <td>NaN</td>\n",
       "      <td>48001</td>\n",
       "      <td>3</td>\n",
       "      <td>1</td>\n",
       "      <td>00000000000005.0000</td>\n",
       "    </tr>\n",
       "    <tr>\n",
       "      <th>6</th>\n",
       "      <td>4449</td>\n",
       "      <td>2018-12-08</td>\n",
       "      <td>3549</td>\n",
       "      <td>d541e6200cc8082060b18ad737638fdbb10c96dd047e78...</td>\n",
       "      <td>11012</td>\n",
       "      <td>1</td>\n",
       "      <td>1</td>\n",
       "      <td>00000000000001.0000</td>\n",
       "    </tr>\n",
       "    <tr>\n",
       "      <th>7</th>\n",
       "      <td>4081</td>\n",
       "      <td>2018-12-06</td>\n",
       "      <td>7669</td>\n",
       "      <td>52911c9b88c1e3403e32ba195e0b3488c42ebe7bbd8592...</td>\n",
       "      <td>11007</td>\n",
       "      <td>1</td>\n",
       "      <td>1</td>\n",
       "      <td>00000000000001.2500</td>\n",
       "    </tr>\n",
       "    <tr>\n",
       "      <th>8</th>\n",
       "      <td>4292</td>\n",
       "      <td>2018-12-08</td>\n",
       "      <td>5154</td>\n",
       "      <td>0c0113addb455d77c2335acad20bf7469b74be3712226d...</td>\n",
       "      <td>12005</td>\n",
       "      <td>1</td>\n",
       "      <td>1</td>\n",
       "      <td>00000000000003.0000</td>\n",
       "    </tr>\n",
       "    <tr>\n",
       "      <th>9</th>\n",
       "      <td>571</td>\n",
       "      <td>2018-12-07</td>\n",
       "      <td>3595</td>\n",
       "      <td>a8d3b3df8b082eb025cbfa1bc48546a18b71dabe0fc5f0...</td>\n",
       "      <td>11404</td>\n",
       "      <td>4</td>\n",
       "      <td>8</td>\n",
       "      <td>00000000000078.0000</td>\n",
       "    </tr>\n",
       "  </tbody>\n",
       "</table>\n",
       "</div>"
      ],
      "text/plain": [
       "  location_id transaction_dt transaction_id  \\\n",
       "0        1408     2018-12-03           7690   \n",
       "1        5217     2018-12-04            202   \n",
       "2        1706     2018-12-08            527   \n",
       "3        1493     2018-12-07           8514   \n",
       "4         472     2018-12-08           9289   \n",
       "5         474     2018-12-05           9996   \n",
       "6        4449     2018-12-08           3549   \n",
       "7        4081     2018-12-06           7669   \n",
       "8        4292     2018-12-08           5154   \n",
       "9         571     2018-12-07           3595   \n",
       "\n",
       "                                  customer_id_hashed class_code_id  \\\n",
       "0  1e2f77cbafe06ae017e87529164fd9898a7698a1424fc5...         24002   \n",
       "1  c94e7df0657fd188ef5be2123cd66d5a2f6494f4a6bbb8...         15003   \n",
       "2                                                NaN         33008   \n",
       "3  e856258b4216d1cd3a5d236745b4eec069243284dd1afa...         31004   \n",
       "4  e3f43a8e4109eba28ff3239ff4bb7f93123dc23f6d4925...         11101   \n",
       "5                                                NaN         48001   \n",
       "6  d541e6200cc8082060b18ad737638fdbb10c96dd047e78...         11012   \n",
       "7  52911c9b88c1e3403e32ba195e0b3488c42ebe7bbd8592...         11007   \n",
       "8  0c0113addb455d77c2335acad20bf7469b74be3712226d...         12005   \n",
       "9  a8d3b3df8b082eb025cbfa1bc48546a18b71dabe0fc5f0...         11404   \n",
       "\n",
       "  subclass_id subclass_transaction_units subclass_transaction_amt  \n",
       "0           8                          2      00000000000004.0000  \n",
       "1           1                          1      00000000000005.0800  \n",
       "2           4                          2      00000000000010.0000  \n",
       "3           6                          0     -00000000000005.0000  \n",
       "4           4                          6      00000000000005.2800  \n",
       "5           3                          1      00000000000005.0000  \n",
       "6           1                          1      00000000000001.0000  \n",
       "7           1                          1      00000000000001.2500  \n",
       "8           1                          1      00000000000003.0000  \n",
       "9           4                          8      00000000000078.0000  "
      ]
     },
     "execution_count": 11,
     "metadata": {},
     "output_type": "execute_result"
    }
   ],
   "source": [
    "daily_data_sample=pd.read_table(\"/home/jian/BigLots/2018_by_weeks/MediaStorm_2018-12-08/MediaStormDailySales20181211-115638-766.txt\",dtype=str,sep=\"|\",nrows=10)\n",
    "daily_data_sample\n"
   ]
  },
  {
   "cell_type": "code",
   "execution_count": null,
   "metadata": {
    "collapsed": true
   },
   "outputs": [],
   "source": []
  }
 ],
 "metadata": {
  "kernelspec": {
   "display_name": "Python 3",
   "language": "python",
   "name": "python3"
  },
  "language_info": {
   "codemirror_mode": {
    "name": "ipython",
    "version": 3
   },
   "file_extension": ".py",
   "mimetype": "text/x-python",
   "name": "python",
   "nbconvert_exporter": "python",
   "pygments_lexer": "ipython3",
   "version": "3.6.1"
  }
 },
 "nbformat": 4,
 "nbformat_minor": 2
}
