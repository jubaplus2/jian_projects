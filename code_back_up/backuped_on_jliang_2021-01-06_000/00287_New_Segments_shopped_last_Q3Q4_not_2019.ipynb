{
 "cells": [
  {
   "cell_type": "code",
   "execution_count": 1,
   "metadata": {},
   "outputs": [
    {
     "data": {
      "text/plain": [
       "'/home/jian/Projects/Big_Lots/Analysis/2019_Q4/Shoppers_18Q3Q4_to_target_no_shop_2019'"
      ]
     },
     "execution_count": 1,
     "metadata": {},
     "output_type": "execute_result"
    }
   ],
   "source": [
    "import pandas as pd\n",
    "import numpy as np\n",
    "import datetime\n",
    "import os\n",
    "import glob\n",
    "import gc\n",
    "os.getcwd()"
   ]
  },
  {
   "cell_type": "code",
   "execution_count": 2,
   "metadata": {
    "collapsed": true
   },
   "outputs": [],
   "source": [
    "def recursive_file_gen(root_folder):\n",
    "    for root, dirs, files in os.walk(root_folder):\n",
    "        for file in files:\n",
    "            yield os.path.join(root, file)"
   ]
  },
  {
   "cell_type": "code",
   "execution_count": 3,
   "metadata": {},
   "outputs": [
    {
     "name": "stdout",
     "output_type": "stream",
     "text": [
      "len(POS_files_2018_Q3): 13\n",
      "len(POS_files_2018_Q4): 13\n"
     ]
    }
   ],
   "source": [
    "POS_files_2018=glob.glob(\"/home/jian/BigLots/hist_daily_data_itemlevel_decompressed/*.txt\")\n",
    "POS_files_2018.sort()\n",
    "POS_files_2018_Q3=[x for x in POS_files_2018 if x.split(\"ilySalesHistory\")[1][:8]>=\"20180805\" and x.split(\"ilySalesHistory\")[1][:8]<=\"20181103\"]\n",
    "POS_files_2018_Q4=[x for x in POS_files_2018 if x.split(\"ilySalesHistory\")[1][:8]>=\"20181104\" and x.split(\"ilySalesHistory\")[1][:8]<=\"20190202\"]\n",
    "\n",
    "print(\"len(POS_files_2018_Q3):\",len(POS_files_2018_Q3))\n",
    "print(\"len(POS_files_2018_Q4):\",len(POS_files_2018_Q4))"
   ]
  },
  {
   "cell_type": "code",
   "execution_count": 4,
   "metadata": {},
   "outputs": [
    {
     "name": "stdout",
     "output_type": "stream",
     "text": [
      "1 2019-12-16 10:29:51.199934\n",
      "2 2019-12-16 10:35:40.813324\n",
      "3 2019-12-16 10:42:49.639060\n",
      "4 2019-12-16 10:59:23.132988\n",
      "5 2019-12-16 11:05:29.710742\n",
      "6 2019-12-16 11:11:13.818029\n",
      "7 2019-12-16 11:16:19.944239\n",
      "8 2019-12-16 11:20:08.446185\n",
      "9 2019-12-16 11:23:03.064938\n",
      "10 2019-12-16 11:26:15.064338\n",
      "11 2019-12-16 11:33:05.553485\n",
      "12 2019-12-16 11:36:12.983083\n",
      "13 2019-12-16 11:37:11.772062\n",
      "df_2018_Q4_shoppers.shape (9777954, 2)\n",
      "14 2019-12-16 11:38:56.248648\n",
      "15 2019-12-16 11:39:55.635175\n",
      "16 2019-12-16 11:40:19.162756\n",
      "17 2019-12-16 11:40:39.327107\n",
      "18 2019-12-16 11:41:00.028650\n",
      "19 2019-12-16 11:41:20.048136\n",
      "20 2019-12-16 11:41:39.308441\n",
      "21 2019-12-16 11:42:04.168361\n",
      "22 2019-12-16 11:42:30.120899\n",
      "23 2019-12-16 11:42:48.590486\n",
      "24 2019-12-16 11:43:07.427675\n",
      "25 2019-12-16 11:43:27.428042\n",
      "26 2019-12-16 11:43:48.962454\n",
      "df_2018_Q3_shoppers.shape (7855474, 2)\n",
      "df_2018_Q4Q3_shoppers.shape (12980095, 2)\n"
     ]
    },
    {
     "data": {
      "text/plain": [
       "0"
      ]
     },
     "execution_count": 4,
     "metadata": {},
     "output_type": "execute_result"
    }
   ],
   "source": [
    "i_counter=0\n",
    "df_2018_Q4_shoppers=pd.DataFrame()\n",
    "for file in POS_files_2018_Q4:\n",
    "    df=pd.read_table(file,dtype=str,sep=\"|\",usecols=[\"customer_id_hashed\"])\n",
    "    df=df.drop_duplicates()\n",
    "    df_2018_Q4_shoppers=df_2018_Q4_shoppers.append(df)\n",
    "    i_counter+=1\n",
    "    print(i_counter,datetime.datetime.now())\n",
    "df_2018_Q4_shoppers['segment']=\"2018Q4_shopper\"\n",
    "df_2018_Q4_shoppers=df_2018_Q4_shoppers.drop_duplicates()\n",
    "print(\"df_2018_Q4_shoppers.shape\",df_2018_Q4_shoppers.shape)\n",
    "\n",
    "\n",
    "df_2018_Q3_shoppers=pd.DataFrame()\n",
    "for file in POS_files_2018_Q3:\n",
    "    df=pd.read_table(file,dtype=str,sep=\"|\",usecols=[\"customer_id_hashed\"])\n",
    "    df=df.drop_duplicates()\n",
    "    df_2018_Q3_shoppers=df_2018_Q3_shoppers.append(df)\n",
    "    i_counter+=1\n",
    "    print(i_counter,datetime.datetime.now())\n",
    "df_2018_Q3_shoppers['segment']=\"2018Q3_shopper\"\n",
    "df_2018_Q3_shoppers=df_2018_Q3_shoppers.drop_duplicates()\n",
    "print(\"df_2018_Q3_shoppers.shape\",df_2018_Q3_shoppers.shape)\n",
    "\n",
    "\n",
    "df_2018_Q4Q3_shoppers=df_2018_Q4_shoppers.append(df_2018_Q3_shoppers).drop_duplicates(\"customer_id_hashed\")\n",
    "print(\"df_2018_Q4Q3_shoppers.shape\",df_2018_Q4Q3_shoppers.shape)\n",
    "\n",
    "del df_2018_Q4_shoppers\n",
    "del df_2018_Q3_shoppers\n",
    "gc.collect()"
   ]
  },
  {
   "cell_type": "code",
   "execution_count": 5,
   "metadata": {},
   "outputs": [
    {
     "name": "stdout",
     "output_type": "stream",
     "text": [
      "len(POS_2019_Fiscal) 44\n",
      "len(POS_2019_Fiscal) 43\n",
      "len(POS_2019_Fiscal) 44\n"
     ]
    }
   ],
   "source": [
    "POS_2019_Fiscal=list(recursive_file_gen(\"/home/jian/BigLots/2019_by_weeks/\"))\n",
    "POS_2019_Fiscal=[x for x in POS_2019_Fiscal if \"daily\" in x.lower()]\n",
    "POS_2019_Fiscal=[x for x in POS_2019_Fiscal if x.split(\"MediaStorm_\")[1][:10]>=\"2019-02-03\"]\n",
    "print(\"len(POS_2019_Fiscal)\",len(POS_2019_Fiscal))\n",
    "POS_2019_Fiscal.sort()\n",
    "POS_2019_Fiscal.pop() #remove the 1st \n",
    "print(\"len(POS_2019_Fiscal)\",len(POS_2019_Fiscal))\n",
    "POS_2019_Fiscal=[\"/home/jian/BigLots/hist_daily_data_itemlevel_decompressed/MediaStormDailySalesHistory20190209.txt\"]+POS_2019_Fiscal\n",
    "print(\"len(POS_2019_Fiscal)\",len(POS_2019_Fiscal))\n"
   ]
  },
  {
   "cell_type": "code",
   "execution_count": 6,
   "metadata": {},
   "outputs": [
    {
     "name": "stdout",
     "output_type": "stream",
     "text": [
      "1 2019-12-16 11:45:20.852241 (12120017, 2)\n",
      "2 2019-12-16 11:45:41.903254 (12120017, 2)\n",
      "3 2019-12-16 11:46:06.147944 (11403131, 2)\n",
      "4 2019-12-16 11:46:31.907120 (10821306, 2)\n",
      "5 2019-12-16 11:46:59.337870 (10293828, 2)\n",
      "6 2019-12-16 11:47:25.936406 (9845469, 2)\n",
      "7 2019-12-16 11:47:52.499778 (9446211, 2)\n",
      "8 2019-12-16 11:48:21.627187 (9075739, 2)\n",
      "9 2019-12-16 11:48:47.139552 (8745501, 2)\n",
      "10 2019-12-16 11:49:22.256044 (8380821, 2)\n",
      "11 2019-12-16 11:49:54.554196 (8061780, 2)\n",
      "12 2019-12-16 11:50:21.687610 (7797032, 2)\n",
      "13 2019-12-16 11:50:44.301179 (7591987, 2)\n",
      "14 2019-12-16 11:51:08.940150 (7380786, 2)\n",
      "15 2019-12-16 11:51:31.953557 (7190969, 2)\n",
      "16 2019-12-16 11:51:53.712695 (7020401, 2)\n",
      "17 2019-12-16 11:52:18.296338 (6836294, 2)\n",
      "18 2019-12-16 11:52:42.623909 (6662223, 2)\n",
      "19 2019-12-16 11:53:06.268454 (6508830, 2)\n",
      "20 2019-12-16 11:53:29.960526 (6359225, 2)\n",
      "21 2019-12-16 11:53:51.880868 (6231985, 2)\n",
      "22 2019-12-16 11:54:15.836214 (6101100, 2)\n",
      "23 2019-12-16 11:54:41.582882 (5965898, 2)\n",
      "24 2019-12-16 11:55:12.245179 (5833393, 2)\n",
      "25 2019-12-16 11:55:44.042902 (5707098, 2)\n",
      "26 2019-12-16 11:56:07.579672 (5607287, 2)\n",
      "27 2019-12-16 11:56:31.740572 (5509802, 2)\n",
      "28 2019-12-16 11:56:54.432374 (5419197, 2)\n",
      "29 2019-12-16 11:57:17.421289 (5331457, 2)\n",
      "30 2019-12-16 11:57:40.307365 (5245798, 2)\n",
      "31 2019-12-16 11:58:05.081091 (5159443, 2)\n",
      "32 2019-12-16 11:58:21.439108 (5076097, 2)\n",
      "33 2019-12-16 11:58:42.798378 (5002935, 2)\n",
      "34 2019-12-16 11:59:05.016350 (4930930, 2)\n",
      "35 2019-12-16 11:59:33.552427 (4848567, 2)\n",
      "36 2019-12-16 12:00:00.916302 (4770363, 2)\n",
      "37 2019-12-16 12:00:22.380115 (4703283, 2)\n",
      "38 2019-12-16 12:00:50.127607 (4629145, 2)\n",
      "39 2019-12-16 12:01:12.296534 (4563319, 2)\n",
      "40 2019-12-16 12:01:36.406274 (4495099, 2)\n",
      "41 2019-12-16 12:02:00.886387 (4426897, 2)\n",
      "42 2019-12-16 12:02:25.652503 (4350291, 2)\n",
      "43 2019-12-16 12:02:53.692759 (4265975, 2)\n",
      "44 2019-12-16 12:03:30.655665 (4150042, 2)\n",
      "df_2018_Q4Q3_shoppers.shape                                          customer_id_hashed         segment\n",
      "4         5216dbc5abd3e8d9057ef64926cc52ea99704484ee80b3...  2018Q4_shopper\n",
      "13        53c4bf170587cb787e8b0af6105bb530c4ac7550972df6...  2018Q4_shopper\n",
      "16        7db6f3ae429d321933f873aacb3c78800cfeddf4813bce...  2018Q4_shopper\n",
      "24        5e5999521986bf48d3bda35fe79f79785b67464b812fb3...  2018Q4_shopper\n",
      "39        94f5ca1ff77d5ea956b9f03916317e537f2244f550214f...  2018Q4_shopper\n",
      "...                                                     ...             ...\n",
      "13595479  3cc151f19e57701345bdafdfcf84fd914be618e9ef7d2e...  2018Q3_shopper\n",
      "13595822  bc5b3d336dbfe18e4f165ddfd89ddf0281dcea233d3a13...  2018Q3_shopper\n",
      "13596889  1bc040159aee1832cc0fb82993213b871a88eb2d50a3bf...  2018Q3_shopper\n",
      "13597373  924212c90360f88d93bd6d51c5ce417e88b12111e4215a...  2018Q3_shopper\n",
      "13598812  f09b5ca68a2e5bfebd3525228bf3703c2997710158416a...  2018Q3_shopper\n",
      "\n",
      "[4150042 rows x 2 columns] 4150042\n"
     ]
    }
   ],
   "source": [
    "i_counter=0\n",
    "for file in POS_2019_Fiscal:\n",
    "    df=pd.read_table(file,dtype=str,sep=\"|\",usecols=[\"customer_id_hashed\"])\n",
    "    list_2019_shoppers=df['customer_id_hashed'].unique().tolist()\n",
    "    df_2018_Q4Q3_shoppers=df_2018_Q4Q3_shoppers[~df_2018_Q4Q3_shoppers['customer_id_hashed'].isin(list_2019_shoppers)]\n",
    "    i_counter+=1\n",
    "    print(i_counter,datetime.datetime.now(),df_2018_Q4Q3_shoppers.shape)\n",
    "print(\"df_2018_Q4Q3_shoppers.shape\",df_2018_Q4Q3_shoppers.shape,df_2018_Q4Q3_shoppers['customer_id_hashed'].nunique())"
   ]
  },
  {
   "cell_type": "code",
   "execution_count": 7,
   "metadata": {},
   "outputs": [
    {
     "name": "stdout",
     "output_type": "stream",
     "text": [
      "df_2018_Q4Q3_shoppers.shape (4150042, 2) 4150042\n"
     ]
    }
   ],
   "source": [
    "print(\"df_2018_Q4Q3_shoppers.shape\",df_2018_Q4Q3_shoppers.shape,df_2018_Q4Q3_shoppers['customer_id_hashed'].nunique())"
   ]
  },
  {
   "cell_type": "markdown",
   "metadata": {
    "collapsed": true
   },
   "source": [
    "# All emails"
   ]
  },
  {
   "cell_type": "code",
   "execution_count": 12,
   "metadata": {},
   "outputs": [
    {
     "name": "stdout",
     "output_type": "stream",
     "text": [
      "(19614845, 4) 19614845\n"
     ]
    }
   ],
   "source": [
    "pd.options.display.max_columns=99\n",
    "df_Q4_audience_detail=pd.read_csv(\"/home/jian/Projects/Big_Lots/Live_Ramp/Quarterly_Update_2019Q4/output_2019-10-20/BL_2019Q4_Final_Audience_details_18mo_shoppers_with_emails_seg_JL_2019-10-23.csv\",\n",
    "                                 dtype=str,usecols=['customer_id_hashed','email_address_hash','HML_Group','zip_type'])\n",
    "print(df_Q4_audience_detail.shape,df_Q4_audience_detail['customer_id_hashed'].nunique())"
   ]
  },
  {
   "cell_type": "code",
   "execution_count": 36,
   "metadata": {},
   "outputs": [
    {
     "data": {
      "text/plain": [
       "(4150042, 5)"
      ]
     },
     "execution_count": 36,
     "metadata": {},
     "output_type": "execute_result"
    }
   ],
   "source": [
    "df_2018_Q4Q3_shoppers_output=pd.merge(df_2018_Q4Q3_shoppers,df_Q4_audience_detail,on=\"customer_id_hashed\",how=\"left\")\n",
    "df_2018_Q4Q3_shoppers_output.shape"
   ]
  },
  {
   "cell_type": "code",
   "execution_count": 37,
   "metadata": {},
   "outputs": [
    {
     "data": {
      "text/plain": [
       "(562935, 5)"
      ]
     },
     "execution_count": 37,
     "metadata": {},
     "output_type": "execute_result"
    }
   ],
   "source": [
    "df_null=df_2018_Q4Q3_shoppers_output[pd.isnull(df_2018_Q4Q3_shoppers_output['email_address_hash'])]\n",
    "df_null.shape"
   ]
  },
  {
   "cell_type": "code",
   "execution_count": 38,
   "metadata": {
    "collapsed": true
   },
   "outputs": [],
   "source": [
    "df_2018_Q4Q3_shoppers_output.to_csv(\"./BL_2018_Q3_and_Q4_shoppers_all_JL_\"+str(datetime.datetime.now().date())+\".csv\",index=False)"
   ]
  },
  {
   "cell_type": "code",
   "execution_count": 39,
   "metadata": {},
   "outputs": [
    {
     "data": {
      "text/plain": [
       "(3587107, 5)"
      ]
     },
     "execution_count": 39,
     "metadata": {},
     "output_type": "execute_result"
    }
   ],
   "source": [
    "df_2018_Q4Q3_shoppers_output=df_2018_Q4Q3_shoppers_output[pd.notnull(df_2018_Q4Q3_shoppers_output['email_address_hash'])]\n",
    "df_2018_Q4Q3_shoppers_output.shape"
   ]
  },
  {
   "cell_type": "code",
   "execution_count": 40,
   "metadata": {
    "collapsed": true
   },
   "outputs": [],
   "source": [
    "df_2018_Q4Q3_shoppers_output.to_csv(\"./BL_2018_Q3_and_Q4_shoppers_with_email_only_JL_\"+str(datetime.datetime.now().date())+\".csv\",index=False)"
   ]
  },
  {
   "cell_type": "code",
   "execution_count": 41,
   "metadata": {
    "collapsed": true
   },
   "outputs": [],
   "source": [
    "writer=\"./output_by_seg/\"\n",
    "try:\n",
    "    os.stat(writer)\n",
    "except:\n",
    "    os.mkdir(writer)"
   ]
  },
  {
   "cell_type": "code",
   "execution_count": 45,
   "metadata": {},
   "outputs": [
    {
     "data": {
      "text/plain": [
       "(3587107, 5)"
      ]
     },
     "execution_count": 45,
     "metadata": {},
     "output_type": "execute_result"
    }
   ],
   "source": [
    "df_2018_Q4Q3_shoppers_output.shape"
   ]
  },
  {
   "cell_type": "code",
   "execution_count": 46,
   "metadata": {},
   "outputs": [
    {
     "data": {
      "text/plain": [
       "3587107"
      ]
     },
     "execution_count": 46,
     "metadata": {},
     "output_type": "execute_result"
    }
   ],
   "source": [
    "df_2018_Q4Q3_shoppers_output['email_address_hash'].nunique()"
   ]
  },
  {
   "cell_type": "code",
   "execution_count": 43,
   "metadata": {},
   "outputs": [
    {
     "name": "stderr",
     "output_type": "stream",
     "text": [
      "/usr/local/lib/python3.6/site-packages/ipykernel_launcher.py:7: SettingWithCopyWarning: \n",
      "A value is trying to be set on a copy of a slice from a DataFrame.\n",
      "Try using .loc[row_indexer,col_indexer] = value instead\n",
      "\n",
      "See the caveats in the documentation: http://pandas.pydata.org/pandas-docs/stable/user_guide/indexing.html#returning-a-view-versus-a-copy\n",
      "  import sys\n"
     ]
    },
    {
     "name": "stdout",
     "output_type": "stream",
     "text": [
      "L_P_2018Q3_shopper (782694, 2)\n",
      "L_S_2018Q3_shopper (328971, 2)\n",
      "L_T_2018Q3_shopper (167446, 2)\n",
      "L_P_2018Q4_shopper (974687, 2)\n",
      "L_S_2018Q4_shopper (427103, 2)\n",
      "L_T_2018Q4_shopper (229208, 2)\n",
      "M_P_2018Q4_shopper (434505, 2)\n",
      "M_S_2018Q4_shopper (166817, 2)\n",
      "M_T_2018Q4_shopper (75676, 2)\n"
     ]
    }
   ],
   "source": [
    "for comb_seg_HML_zip,df_group in df_2018_Q4Q3_shoppers_output.groupby([\"segment\",\"HML_Group\",\"zip_type\"]):\n",
    "    df=df_group[['email_address_hash']]\n",
    "    seg=comb_seg_HML_zip[0]\n",
    "    HML_Group=comb_seg_HML_zip[1]\n",
    "    zip_label=comb_seg_HML_zip[2]\n",
    "    segment_full=HML_Group+\"_\"+zip_label+\"_\"+seg\n",
    "    df['segment']=segment_full\n",
    "    print(segment_full,df.shape)\n",
    "    df.to_csv(writer+\"BL_2019Q4_target_\"+segment_full+\".csv\",index=False)\n"
   ]
  },
  {
   "cell_type": "code",
   "execution_count": 48,
   "metadata": {},
   "outputs": [
    {
     "data": {
      "text/html": [
       "<div>\n",
       "<style scoped>\n",
       "    .dataframe tbody tr th:only-of-type {\n",
       "        vertical-align: middle;\n",
       "    }\n",
       "\n",
       "    .dataframe tbody tr th {\n",
       "        vertical-align: top;\n",
       "    }\n",
       "\n",
       "    .dataframe thead th {\n",
       "        text-align: right;\n",
       "    }\n",
       "</style>\n",
       "<table border=\"1\" class=\"dataframe\">\n",
       "  <thead>\n",
       "    <tr style=\"text-align: right;\">\n",
       "      <th></th>\n",
       "      <th>segment</th>\n",
       "      <th>HML_Group</th>\n",
       "      <th>zip_type</th>\n",
       "      <th>email_address_hash</th>\n",
       "    </tr>\n",
       "  </thead>\n",
       "  <tbody>\n",
       "    <tr>\n",
       "      <th>0</th>\n",
       "      <td>2018Q3_shopper</td>\n",
       "      <td>L</td>\n",
       "      <td>P</td>\n",
       "      <td>782694</td>\n",
       "    </tr>\n",
       "    <tr>\n",
       "      <th>1</th>\n",
       "      <td>2018Q3_shopper</td>\n",
       "      <td>L</td>\n",
       "      <td>S</td>\n",
       "      <td>328971</td>\n",
       "    </tr>\n",
       "    <tr>\n",
       "      <th>2</th>\n",
       "      <td>2018Q3_shopper</td>\n",
       "      <td>L</td>\n",
       "      <td>T</td>\n",
       "      <td>167446</td>\n",
       "    </tr>\n",
       "    <tr>\n",
       "      <th>3</th>\n",
       "      <td>2018Q4_shopper</td>\n",
       "      <td>L</td>\n",
       "      <td>P</td>\n",
       "      <td>974687</td>\n",
       "    </tr>\n",
       "    <tr>\n",
       "      <th>4</th>\n",
       "      <td>2018Q4_shopper</td>\n",
       "      <td>L</td>\n",
       "      <td>S</td>\n",
       "      <td>427103</td>\n",
       "    </tr>\n",
       "    <tr>\n",
       "      <th>5</th>\n",
       "      <td>2018Q4_shopper</td>\n",
       "      <td>L</td>\n",
       "      <td>T</td>\n",
       "      <td>229208</td>\n",
       "    </tr>\n",
       "    <tr>\n",
       "      <th>6</th>\n",
       "      <td>2018Q4_shopper</td>\n",
       "      <td>M</td>\n",
       "      <td>P</td>\n",
       "      <td>434505</td>\n",
       "    </tr>\n",
       "    <tr>\n",
       "      <th>7</th>\n",
       "      <td>2018Q4_shopper</td>\n",
       "      <td>M</td>\n",
       "      <td>S</td>\n",
       "      <td>166817</td>\n",
       "    </tr>\n",
       "    <tr>\n",
       "      <th>8</th>\n",
       "      <td>2018Q4_shopper</td>\n",
       "      <td>M</td>\n",
       "      <td>T</td>\n",
       "      <td>75676</td>\n",
       "    </tr>\n",
       "  </tbody>\n",
       "</table>\n",
       "</div>"
      ],
      "text/plain": [
       "          segment HML_Group zip_type  email_address_hash\n",
       "0  2018Q3_shopper         L        P              782694\n",
       "1  2018Q3_shopper         L        S              328971\n",
       "2  2018Q3_shopper         L        T              167446\n",
       "3  2018Q4_shopper         L        P              974687\n",
       "4  2018Q4_shopper         L        S              427103\n",
       "5  2018Q4_shopper         L        T              229208\n",
       "6  2018Q4_shopper         M        P              434505\n",
       "7  2018Q4_shopper         M        S              166817\n",
       "8  2018Q4_shopper         M        T               75676"
      ]
     },
     "execution_count": 48,
     "metadata": {},
     "output_type": "execute_result"
    }
   ],
   "source": [
    "df_summary=df_2018_Q4Q3_shoppers_output.groupby([\"segment\",\"HML_Group\",\"zip_type\"])['email_address_hash'].count().to_frame().reset_index()\n",
    "df_summary"
   ]
  },
  {
   "cell_type": "code",
   "execution_count": 47,
   "metadata": {},
   "outputs": [
    {
     "data": {
      "text/plain": [
       "3587107"
      ]
     },
     "execution_count": 47,
     "metadata": {},
     "output_type": "execute_result"
    }
   ],
   "source": [
    "782694+328971+167446+974687+427103+229208+434505+166817+75676"
   ]
  },
  {
   "cell_type": "code",
   "execution_count": 49,
   "metadata": {
    "collapsed": true
   },
   "outputs": [],
   "source": [
    "writer=pd.ExcelWriter(\"./BL_2019Q4_target_2018Q3Q4_shopper_19_no_shop_summary_JL_\"+str(datetime.datetime.now().date())+\".xlsx\",engine=\"xlsxwriter\")\n",
    "df_summary.to_excel(writer,\"summary\",index=False)\n",
    "writer.save()"
   ]
  },
  {
   "cell_type": "code",
   "execution_count": 51,
   "metadata": {},
   "outputs": [
    {
     "data": {
      "text/plain": [
       "array(['2018Q4_shopper', '2018Q3_shopper'], dtype=object)"
      ]
     },
     "execution_count": 51,
     "metadata": {},
     "output_type": "execute_result"
    }
   ],
   "source": [
    "df_2018_Q4Q3_shoppers_output['segment'].unique()"
   ]
  },
  {
   "cell_type": "code",
   "execution_count": 52,
   "metadata": {},
   "outputs": [
    {
     "data": {
      "text/plain": [
       "array(['P', 'T', 'S'], dtype=object)"
      ]
     },
     "execution_count": 52,
     "metadata": {},
     "output_type": "execute_result"
    }
   ],
   "source": [
    "df_2018_Q4Q3_shoppers_output['zip_type'].unique()"
   ]
  },
  {
   "cell_type": "code",
   "execution_count": 57,
   "metadata": {
    "collapsed": true
   },
   "outputs": [],
   "source": [
    "# Files aggregated and to upload \n",
    "# To LiveRamp and Facebook\n",
    "import paramiko\n",
    "\n",
    "folder_upload=\"./uploaded/\"\n",
    "\n",
    "try:\n",
    "    os.stat(folder_upload)\n",
    "except:\n",
    "    os.mkdir(folder_upload)\n",
    "\n",
    "df_to_upload_both=df_2018_Q4Q3_shoppers_output[df_2018_Q4Q3_shoppers_output['zip_type']!=\"T\"]\n",
    "\n",
    "df_1_2018Q4=df_to_upload_both[df_to_upload_both['segment']==\"2018Q4_shopper\"]\n",
    "df_1_2018Q4=df_1_2018Q4[['email_address_hash','segment']]\n",
    "df_2_2018Q3=df_to_upload_both[df_to_upload_both['segment']==\"2018Q3_shopper\"]\n",
    "df_2_2018Q3=df_2_2018Q3[['email_address_hash','segment']]\n",
    "\n",
    "df_1_2018Q4.to_csv(folder_upload+\"2018Q4_shopper.csv\",index=False)\n",
    "df_2_2018Q3.to_csv(folder_upload+\"2018Q3_shopper.csv\",index=False)\n"
   ]
  },
  {
   "cell_type": "code",
   "execution_count": 58,
   "metadata": {},
   "outputs": [
    {
     "name": "stdout",
     "output_type": "stream",
     "text": [
      "df_1_2018Q4, (2003112, 2)\n",
      "df_2_2018Q3, (1111665, 2)\n"
     ]
    }
   ],
   "source": [
    "print(\"df_1_2018Q4,\",df_1_2018Q4.shape)\n",
    "print(\"df_2_2018Q3,\",df_2_2018Q3.shape)"
   ]
  },
  {
   "cell_type": "code",
   "execution_count": 64,
   "metadata": {},
   "outputs": [
    {
     "name": "stdout",
     "output_type": "stream",
     "text": [
      "2 ['./uploaded/2018Q4_shopper.csv', './uploaded/2018Q3_shopper.csv']\n"
     ]
    }
   ],
   "source": [
    "# To LR\n",
    "\n",
    "import glob\n",
    "\n",
    "host = \"files.liveramp.com\"\n",
    "port = 22\n",
    "password = \"Biglots2018!\"\n",
    "username = \"lr-big-lots\"\n",
    "\n",
    "transport = paramiko.Transport((host, port))\n",
    "\n",
    "transport.connect(username = username, password = password)\n",
    "sftp = paramiko.SFTPClient.from_transport(transport)\n",
    "\n",
    "# local_path defined above before saving the local txt\n",
    "local_list=glob.glob(folder_upload+\"*.csv\")\n",
    "print(len(local_list),local_list)\n",
    "\n",
    "for local_file in local_list:\n",
    "    basename=os.path.basename(local_file)\n",
    "    remote_path=\"/uploads/big_lots_onboarding/\"+basename\n",
    "    sftp.put(local_file,remote_path)\n",
    "sftp.close()\n",
    "transport.close()"
   ]
  },
  {
   "cell_type": "code",
   "execution_count": 65,
   "metadata": {
    "collapsed": true
   },
   "outputs": [],
   "source": [
    "import pandas as pd\n",
    "import numpy as np\n",
    "from facebookads.adobjects.customaudience import CustomAudience\n",
    "from facebookads.adobjects.adaccount import AdAccount\n",
    "from facebookads.api import FacebookAdsApi\n",
    "import datetime\n",
    "import os\n",
    "import glob\n",
    "BigLotsAccount_id=\"act_271491453638620\"\n",
    "\n",
    "jian_APP_ID=\"2537704939796694\"# jian's fb marketing app id\n",
    "jian_token=\"EAAkEB3l7ONYBALOwTjZA6ZA69KGshjjZCghKd2FhqZCVvcZCxcQZCglQshts2EZCZBccbvwUddxKlje4ZCz3w8qkLWICYdS8cZCAw2e8VZCs9VHEt7sg5gR6gc4o8TVV73OAABUf7zKqoXLyeREavx7Viz8ArwVQxsDfMVSJK7o5qOqiQZDZD\"\n"
   ]
  },
  {
   "cell_type": "code",
   "execution_count": 66,
   "metadata": {
    "collapsed": true
   },
   "outputs": [],
   "source": [
    "def creatfbaudience(file_path,ACCESS_TOKEN,accountid,description,audience_name):\n",
    "    '''\n",
    "    input:\n",
    "    file_path: str, full_path, basename as the audience name on FB\n",
    "        make sure the columns contains the \"email_address_hash\", use this col only\n",
    "    \n",
    "    ACCESS_TOKEN: personal token #app id not needed\n",
    "    accountid: account_id starting with \"act_\", followed by the id str\n",
    "    as Nov. 20, 2019, latest verision is 'v5.0'\n",
    "    '''\n",
    "    FacebookAdsApi.init(access_token=ACCESS_TOKEN, api_version='v5.0')\n",
    "    myAccount = AdAccount(accountid)\n",
    "    fields = []\n",
    "    fbname=audience_name\n",
    "    params = {\n",
    "      'name': fbname,\n",
    "      'subtype': 'CUSTOM',\n",
    "      'description': description,\n",
    "      'customer_file_source': 'USER_PROVIDED_ONLY',\n",
    "    }\n",
    "    fbname = myAccount.create_custom_audience(\n",
    "      fields=fields,\n",
    "      params=params,\n",
    "    )['id']\n",
    "    \n",
    "    df=pd.read_csv(file_path,dtype=str,)\n",
    "    listlen = df.shape[0]\n",
    "    requestUrl = 'https://graph.facebook.com/v5.0/'+ fbname + '/users'\n",
    "    \n",
    "    chunck_size=50000\n",
    "    i_counter=0\n",
    "    for df_chunck in pd.read_csv(file_path,chunksize=chunck_size,dtype=str,usecols=[\"email_address_hash\"]):\n",
    "        payload = {}\n",
    "        payload['schema'] = ['EMAIL']\n",
    "        df_chunck=df_chunck.rename(columns={\"email_address_hash\":\"EMAIL\"})\n",
    "        df_chunck=df_chunck.drop_duplicates()\n",
    "        payload_data=df_chunck['EMAIL'].apply(lambda x: [x]).tolist()\n",
    "\n",
    "        payload['data'] = payload_data\n",
    "        params = {}\n",
    "        params ={'payload':payload} \n",
    "        CustomAudience(fbname).create_user(\n",
    "                      fields=fields,\n",
    "                      params=params,\n",
    "        )\n",
    "        i_counter+=1\n",
    "        print(i_counter,datetime.datetime.now())\n",
    "  \n",
    "\n",
    "    return 'All done: '+str(datetime.datetime.now())"
   ]
  },
  {
   "cell_type": "code",
   "execution_count": 72,
   "metadata": {
    "collapsed": true
   },
   "outputs": [],
   "source": [
    "description_df_1_2018Q4=\"shoppers_in_2018Q4_but_not_shopped_since_2019Q1\"\n",
    "description_df_2_2018Q3=\"shoppers_in_2018Q3_but_not_shopped_since_2019Q1\""
   ]
  },
  {
   "cell_type": "code",
   "execution_count": 68,
   "metadata": {},
   "outputs": [
    {
     "data": {
      "text/plain": [
       "'./uploaded/'"
      ]
     },
     "execution_count": 68,
     "metadata": {},
     "output_type": "execute_result"
    }
   ],
   "source": [
    "folder_upload"
   ]
  },
  {
   "cell_type": "code",
   "execution_count": 70,
   "metadata": {},
   "outputs": [
    {
     "name": "stdout",
     "output_type": "stream",
     "text": [
      "1 2019-12-16 18:40:03.549433\n",
      "2 2019-12-16 18:40:07.325453\n",
      "3 2019-12-16 18:40:11.161641\n",
      "4 2019-12-16 18:40:14.566912\n",
      "5 2019-12-16 18:40:21.832947\n",
      "6 2019-12-16 18:40:24.876953\n",
      "7 2019-12-16 18:40:31.534843\n",
      "8 2019-12-16 18:40:35.180049\n",
      "9 2019-12-16 18:40:42.261176\n",
      "10 2019-12-16 18:40:45.118020\n",
      "11 2019-12-16 18:40:52.116592\n",
      "12 2019-12-16 18:40:55.181667\n",
      "13 2019-12-16 18:41:02.562373\n",
      "14 2019-12-16 18:41:05.640871\n",
      "15 2019-12-16 18:41:12.348937\n",
      "16 2019-12-16 18:41:19.212479\n",
      "17 2019-12-16 18:41:22.219909\n",
      "18 2019-12-16 18:41:25.174856\n",
      "19 2019-12-16 18:41:32.146713\n",
      "20 2019-12-16 18:41:35.477672\n",
      "21 2019-12-16 18:41:38.554075\n",
      "22 2019-12-16 18:41:45.454536\n",
      "23 2019-12-16 18:41:52.782786\n",
      "24 2019-12-16 18:41:59.695469\n",
      "25 2019-12-16 18:42:02.779636\n",
      "26 2019-12-16 18:42:10.037113\n",
      "27 2019-12-16 18:42:17.334203\n",
      "28 2019-12-16 18:42:20.302442\n",
      "29 2019-12-16 18:42:27.257085\n",
      "30 2019-12-16 18:42:34.269192\n",
      "31 2019-12-16 18:42:41.132879\n",
      "32 2019-12-16 18:42:44.278815\n",
      "33 2019-12-16 18:42:51.017890\n",
      "34 2019-12-16 18:42:53.883311\n",
      "35 2019-12-16 18:43:00.696148\n",
      "36 2019-12-16 18:43:07.580030\n",
      "37 2019-12-16 18:43:10.667813\n",
      "38 2019-12-16 18:43:13.857049\n",
      "39 2019-12-16 18:43:20.732751\n",
      "40 2019-12-16 18:43:27.647666\n",
      "41 2019-12-16 18:43:28.545690\n"
     ]
    },
    {
     "data": {
      "text/plain": [
       "'All done: 2019-12-16 18:43:28.546294'"
      ]
     },
     "execution_count": 70,
     "metadata": {},
     "output_type": "execute_result"
    }
   ],
   "source": [
    "# Q4: \n",
    "q4_path='./uploaded/2018Q4_shopper.csv'\n",
    "creatfbaudience(file_path=q4_path,\n",
    "                ACCESS_TOKEN=jian_token,\n",
    "                accountid=BigLotsAccount_id,\n",
    "                description=description_df_1_2018Q4,\n",
    "               audience_name=\"BL_2018Q4_shoppers_no_shopping_since_2019Q1\")"
   ]
  },
  {
   "cell_type": "code",
   "execution_count": 75,
   "metadata": {},
   "outputs": [
    {
     "name": "stdout",
     "output_type": "stream",
     "text": [
      "1 2019-12-16 18:44:11.713556\n",
      "2 2019-12-16 18:44:15.124358\n",
      "3 2019-12-16 18:44:21.962181\n",
      "4 2019-12-16 18:44:29.571655\n",
      "5 2019-12-16 18:44:36.481035\n",
      "6 2019-12-16 18:44:43.488786\n",
      "7 2019-12-16 18:44:46.664747\n",
      "8 2019-12-16 18:44:53.288146\n",
      "9 2019-12-16 18:45:00.336660\n",
      "10 2019-12-16 18:45:07.217613\n",
      "11 2019-12-16 18:45:10.049173\n",
      "12 2019-12-16 18:45:13.020270\n",
      "13 2019-12-16 18:45:19.824723\n",
      "14 2019-12-16 18:45:22.814722\n",
      "15 2019-12-16 18:45:29.935298\n",
      "16 2019-12-16 18:45:32.856368\n",
      "17 2019-12-16 18:45:36.248536\n",
      "18 2019-12-16 18:45:38.961248\n",
      "19 2019-12-16 18:45:42.021378\n",
      "20 2019-12-16 18:45:44.950390\n",
      "21 2019-12-16 18:45:52.024369\n",
      "22 2019-12-16 18:45:58.867782\n",
      "23 2019-12-16 18:46:00.663327\n"
     ]
    },
    {
     "data": {
      "text/plain": [
       "'All done: 2019-12-16 18:46:00.664021'"
      ]
     },
     "execution_count": 75,
     "metadata": {},
     "output_type": "execute_result"
    }
   ],
   "source": [
    "# Q3: \n",
    "q3_path='./uploaded/2018Q3_shopper.csv'\n",
    "creatfbaudience(file_path=q3_path,\n",
    "                ACCESS_TOKEN=jian_token,\n",
    "                accountid=BigLotsAccount_id,\n",
    "                description=description_df_2_2018Q3,\n",
    "               audience_name=\"BL_2018Q3_shoppers_no_shopping_since_2019Q1\")"
   ]
  },
  {
   "cell_type": "code",
   "execution_count": null,
   "metadata": {
    "collapsed": true
   },
   "outputs": [],
   "source": []
  }
 ],
 "metadata": {
  "kernelspec": {
   "display_name": "Python 3",
   "language": "python",
   "name": "python3"
  },
  "language_info": {
   "codemirror_mode": {
    "name": "ipython",
    "version": 3
   },
   "file_extension": ".py",
   "mimetype": "text/x-python",
   "name": "python",
   "nbconvert_exporter": "python",
   "pygments_lexer": "ipython3",
   "version": "3.6.1"
  }
 },
 "nbformat": 4,
 "nbformat_minor": 2
}
