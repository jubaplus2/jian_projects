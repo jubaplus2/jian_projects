{
 "cells": [
  {
   "cell_type": "code",
   "execution_count": 1,
   "metadata": {},
   "outputs": [
    {
     "name": "stdout",
     "output_type": "stream",
     "text": [
      "2019-10-29 14:50:21.413670\n"
     ]
    },
    {
     "data": {
      "text/plain": [
       "'/home/jian/Projects/Big_Lots/Analysis/2019_Q4/Planner_Request/JT_BR_zips_by_Store_type_and_Dentisty_20191028'"
      ]
     },
     "execution_count": 1,
     "metadata": {},
     "output_type": "execute_result"
    }
   ],
   "source": [
    "import pandas as pd\n",
    "import numpy as np\n",
    "import json\n",
    "import datetime\n",
    "import os\n",
    "from haversine import haversine\n",
    "import gc\n",
    "\n",
    "zip_centers=json.load(open(\"/home/jian/Docs/Geo_mapping/updated_zip_centers_JL_2019-05-23.json\",\"r\"))\n",
    "\n",
    "print(datetime.datetime.now())\n",
    "os.getcwd()\n"
   ]
  },
  {
   "cell_type": "code",
   "execution_count": 2,
   "metadata": {},
   "outputs": [
    {
     "data": {
      "text/plain": [
       "['parameters',\n",
       " 'Closed 12 mo thru July (57)',\n",
       " \"Closing Aug-Oct '19 (12)\",\n",
       " 'SOTF pre 11-15-19 (462)',\n",
       " 'SOTF New,Relo Oct-Nov SOTF (11)',\n",
       " 'all_PS10_zips_BL',\n",
       " '1_raw',\n",
       " '1_1',\n",
       " '2_raw_2018Q4filled',\n",
       " '3_sales%_budget',\n",
       " '4_SOTF',\n",
       " 'Sheet2',\n",
       " '5_Rewards',\n",
       " '6_closed_Quad3',\n",
       " '7_split',\n",
       " 'HML_PS_Zip 12 Mo',\n",
       " 'HML_PS_Zip 18 mo',\n",
       " 'Summary Chart 12 mo',\n",
       " 'Summary Chart 18mo',\n",
       " 'Zips by Density and PS 18mo',\n",
       " 'Stores by Density 18mo',\n",
       " 'Sheet1',\n",
       " '7_split 9mo V2']"
      ]
     },
     "execution_count": 2,
     "metadata": {},
     "output_type": "execute_result"
    }
   ],
   "source": [
    "ExcelFile=pd.ExcelFile(\"/home/jian/Projects/Big_Lots/Live_Ramp/Quarterly_Update_2019Q4/Copy of BL 2019Q4 Budget Allocation Model 20191018_JC_JL_20191020.xlsx\")\n",
    "ExcelFile.sheet_names"
   ]
  },
  {
   "cell_type": "code",
   "execution_count": 3,
   "metadata": {},
   "outputs": [
    {
     "data": {
      "text/plain": [
       "88216"
      ]
     },
     "execution_count": 3,
     "metadata": {},
     "output_type": "execute_result"
    }
   ],
   "source": [
    "# location names changed for the convience\n",
    "df_store_density=ExcelFile.parse(\"Summary Chart 18mo\",usecols=[\"location_id\",\"Tier\"],dtype=str)\n",
    "df_store_density=df_store_density.rename(columns={\"Tier\":\"Density_Tier\"})\n",
    "\n",
    "\n",
    "df_SOTF=ExcelFile.parse(\"4_SOTF\",usecols=[\"location_id\",\"copy_SOTF_label\"],dtype=str)\n",
    "df_SOTF=df_SOTF.rename(columns={\"copy_SOTF_label\":\"SOTF\"})\n",
    "df_SOTF['SOTF']=df_SOTF['SOTF'].replace(\"nan\",np.nan)\n",
    "\n",
    "del ExcelFile\n",
    "gc.collect()\n",
    "\n"
   ]
  },
  {
   "cell_type": "code",
   "execution_count": 4,
   "metadata": {},
   "outputs": [
    {
     "name": "stdout",
     "output_type": "stream",
     "text": [
      "26\n"
     ]
    }
   ],
   "source": [
    "list_missing_stores=df_SOTF[~df_SOTF['location_id'].isin(df_store_density['location_id'].tolist())]['location_id'].tolist()\n",
    "print(len(list_missing_stores))\n",
    "# Checked a closed or consistant quadrant III stores"
   ]
  },
  {
   "cell_type": "code",
   "execution_count": 5,
   "metadata": {},
   "outputs": [
    {
     "data": {
      "text/plain": [
       "['unique_zips_full_footprint',\n",
       " 'view_by_TA',\n",
       " 'view_by_store',\n",
       " 'view_for_Tableau']"
      ]
     },
     "execution_count": 5,
     "metadata": {},
     "output_type": "execute_result"
    }
   ],
   "source": [
    "df_zip_by_store=pd.ExcelFile(\"/home/jian/Projects/Big_Lots/New_TA/TA_created_in_201906/final_output_20190718/BL_final_TA_updated_JL_2019-07-18.xlsx\")\n",
    "df_zip_by_store.sheet_names"
   ]
  },
  {
   "cell_type": "code",
   "execution_count": 6,
   "metadata": {},
   "outputs": [
    {
     "name": "stdout",
     "output_type": "stream",
     "text": [
      "(1408, 17)\n"
     ]
    },
    {
     "data": {
      "text/html": [
       "<div>\n",
       "<style scoped>\n",
       "    .dataframe tbody tr th:only-of-type {\n",
       "        vertical-align: middle;\n",
       "    }\n",
       "\n",
       "    .dataframe tbody tr th {\n",
       "        vertical-align: top;\n",
       "    }\n",
       "\n",
       "    .dataframe thead th {\n",
       "        text-align: right;\n",
       "    }\n",
       "</style>\n",
       "<table border=\"1\" class=\"dataframe\">\n",
       "  <thead>\n",
       "    <tr style=\"text-align: right;\">\n",
       "      <th></th>\n",
       "      <th>TA_num</th>\n",
       "      <th>ta_name</th>\n",
       "      <th>location_id</th>\n",
       "      <th>address_line_1</th>\n",
       "      <th>address_line_2</th>\n",
       "      <th>zip_cd</th>\n",
       "      <th>city_nm</th>\n",
       "      <th>state_nm</th>\n",
       "      <th>latitude_meas</th>\n",
       "      <th>longitude_meas</th>\n",
       "      <th>DMA</th>\n",
       "      <th>CTY</th>\n",
       "      <th>all_trans_P_zips</th>\n",
       "      <th>all_trans_S_zips</th>\n",
       "      <th>zips_in_10</th>\n",
       "      <th>trans_P_zips_70_within_TA</th>\n",
       "      <th>trans_S_zips_70_within_TA</th>\n",
       "    </tr>\n",
       "  </thead>\n",
       "  <tbody>\n",
       "    <tr>\n",
       "      <th>0</th>\n",
       "      <td>1</td>\n",
       "      <td>multiple_1</td>\n",
       "      <td>1949</td>\n",
       "      <td>3178 LAVON DR</td>\n",
       "      <td>NaN</td>\n",
       "      <td>75040</td>\n",
       "      <td>GARLAND</td>\n",
       "      <td>TX</td>\n",
       "      <td>32.945015</td>\n",
       "      <td>-96.619194</td>\n",
       "      <td>{'DALLAS-FT. WORTH'}</td>\n",
       "      <td>{'DALLAS'}</td>\n",
       "      <td>['75040', '75044', '75048', '75098']</td>\n",
       "      <td>['75089', '75042', '75043', '75041', '75088', ...</td>\n",
       "      <td>[]</td>\n",
       "      <td>['75040', '75098', '75044', '75048']</td>\n",
       "      <td>['75088', '75042', '75082', '75043', '75089', ...</td>\n",
       "    </tr>\n",
       "    <tr>\n",
       "      <th>1</th>\n",
       "      <td>1</td>\n",
       "      <td>multiple_1</td>\n",
       "      <td>1255</td>\n",
       "      <td>1418 W MOORE AVE</td>\n",
       "      <td>NaN</td>\n",
       "      <td>75160</td>\n",
       "      <td>TERRELL</td>\n",
       "      <td>TX</td>\n",
       "      <td>32.738772</td>\n",
       "      <td>-96.299877</td>\n",
       "      <td>{'DALLAS-FT. WORTH'}</td>\n",
       "      <td>{'HUNT', 'KAUFMAN', 'ROCKWALL'}</td>\n",
       "      <td>['75160', '75126', '75161']</td>\n",
       "      <td>['75142', '75169', '75474', '75143', '75114', ...</td>\n",
       "      <td>[]</td>\n",
       "      <td>['75126', '75161', '75160']</td>\n",
       "      <td>['75142', '75169', '75150', '75117', '75143', ...</td>\n",
       "    </tr>\n",
       "    <tr>\n",
       "      <th>2</th>\n",
       "      <td>1</td>\n",
       "      <td>multiple_1</td>\n",
       "      <td>4543</td>\n",
       "      <td>3601 LAKEVIEW PKWY</td>\n",
       "      <td>NaN</td>\n",
       "      <td>75088</td>\n",
       "      <td>ROWLETT</td>\n",
       "      <td>TX</td>\n",
       "      <td>32.907788</td>\n",
       "      <td>-96.566747</td>\n",
       "      <td>{'DALLAS-FT. WORTH'}</td>\n",
       "      <td>{'DALLAS', 'ROCKWALL'}</td>\n",
       "      <td>['75089', '75088', '75040']</td>\n",
       "      <td>['75043', '75087', '75041', '75032', '75189', ...</td>\n",
       "      <td>[]</td>\n",
       "      <td>['75040', '75088', '75089']</td>\n",
       "      <td>['75087', '75032', '75042', '75150', '75048', ...</td>\n",
       "    </tr>\n",
       "  </tbody>\n",
       "</table>\n",
       "</div>"
      ],
      "text/plain": [
       "  TA_num     ta_name location_id      address_line_1 address_line_2 zip_cd  \\\n",
       "0      1  multiple_1        1949       3178 LAVON DR            NaN  75040   \n",
       "1      1  multiple_1        1255    1418 W MOORE AVE            NaN  75160   \n",
       "2      1  multiple_1        4543  3601 LAKEVIEW PKWY            NaN  75088   \n",
       "\n",
       "   city_nm state_nm latitude_meas longitude_meas                   DMA  \\\n",
       "0  GARLAND       TX     32.945015     -96.619194  {'DALLAS-FT. WORTH'}   \n",
       "1  TERRELL       TX     32.738772     -96.299877  {'DALLAS-FT. WORTH'}   \n",
       "2  ROWLETT       TX     32.907788     -96.566747  {'DALLAS-FT. WORTH'}   \n",
       "\n",
       "                               CTY                      all_trans_P_zips  \\\n",
       "0                       {'DALLAS'}  ['75040', '75044', '75048', '75098']   \n",
       "1  {'HUNT', 'KAUFMAN', 'ROCKWALL'}           ['75160', '75126', '75161']   \n",
       "2           {'DALLAS', 'ROCKWALL'}           ['75089', '75088', '75040']   \n",
       "\n",
       "                                    all_trans_S_zips zips_in_10  \\\n",
       "0  ['75089', '75042', '75043', '75041', '75088', ...         []   \n",
       "1  ['75142', '75169', '75474', '75143', '75114', ...         []   \n",
       "2  ['75043', '75087', '75041', '75032', '75189', ...         []   \n",
       "\n",
       "              trans_P_zips_70_within_TA  \\\n",
       "0  ['75040', '75098', '75044', '75048']   \n",
       "1           ['75126', '75161', '75160']   \n",
       "2           ['75040', '75088', '75089']   \n",
       "\n",
       "                           trans_S_zips_70_within_TA  \n",
       "0  ['75088', '75042', '75082', '75043', '75089', ...  \n",
       "1  ['75142', '75169', '75150', '75117', '75143', ...  \n",
       "2  ['75087', '75032', '75042', '75150', '75048', ...  "
      ]
     },
     "execution_count": 6,
     "metadata": {},
     "output_type": "execute_result"
    }
   ],
   "source": [
    "df_zip_by_store=df_zip_by_store.parse(\"view_by_store\",dtype=str)\n",
    "print(df_zip_by_store.shape)\n",
    "df_zip_by_store.head(3)"
   ]
  },
  {
   "cell_type": "code",
   "execution_count": 7,
   "metadata": {},
   "outputs": [
    {
     "data": {
      "text/plain": [
       "(25132, 3)"
      ]
     },
     "execution_count": 7,
     "metadata": {},
     "output_type": "execute_result"
    }
   ],
   "source": [
    "df_zip_by_store=df_zip_by_store[['location_id','all_trans_P_zips','all_trans_S_zips','zips_in_10']].reset_index()\n",
    "del df_zip_by_store['index']\n",
    "df_output_by_zip=pd.DataFrame()\n",
    "for ind,row in df_zip_by_store.iterrows():\n",
    "    store_num=row['location_id']\n",
    "    zip_P_list=eval(row['all_trans_P_zips'])\n",
    "    zip_S_list=eval(row['all_trans_S_zips'])\n",
    "    zip_10_list=eval(row['zips_in_10'])\n",
    "    \n",
    "    df_P=pd.DataFrame({\"zip_cd\":zip_P_list},index=['P']*len(zip_P_list)).reset_index().rename(columns={\"index\":\"zip_label\"})\n",
    "    df_S=pd.DataFrame({\"zip_cd\":zip_S_list},index=['S']*len(zip_S_list)).reset_index().rename(columns={\"index\":\"zip_label\"})\n",
    "    df_10=pd.DataFrame({\"zip_cd\":zip_10_list},index=['zip_in_10']*len(zip_10_list)).reset_index().rename(columns={\"index\":\"zip_label\"})\n",
    "    \n",
    "    df=df_P.append(df_S).append(df_10)\n",
    "    df['location_id']=store_num\n",
    "    df_output_by_zip=df_output_by_zip.append(df)\n",
    "df_output_by_zip.shape"
   ]
  },
  {
   "cell_type": "code",
   "execution_count": 8,
   "metadata": {},
   "outputs": [
    {
     "data": {
      "text/html": [
       "<div>\n",
       "<style scoped>\n",
       "    .dataframe tbody tr th:only-of-type {\n",
       "        vertical-align: middle;\n",
       "    }\n",
       "\n",
       "    .dataframe tbody tr th {\n",
       "        vertical-align: top;\n",
       "    }\n",
       "\n",
       "    .dataframe thead th {\n",
       "        text-align: right;\n",
       "    }\n",
       "</style>\n",
       "<table border=\"1\" class=\"dataframe\">\n",
       "  <thead>\n",
       "    <tr style=\"text-align: right;\">\n",
       "      <th></th>\n",
       "      <th>location_id</th>\n",
       "      <th>Density_Tier</th>\n",
       "    </tr>\n",
       "  </thead>\n",
       "  <tbody>\n",
       "    <tr>\n",
       "      <th>0</th>\n",
       "      <td>5326</td>\n",
       "      <td>H</td>\n",
       "    </tr>\n",
       "    <tr>\n",
       "      <th>1</th>\n",
       "      <td>1786</td>\n",
       "      <td>H</td>\n",
       "    </tr>\n",
       "  </tbody>\n",
       "</table>\n",
       "</div>"
      ],
      "text/plain": [
       "  location_id Density_Tier\n",
       "0        5326            H\n",
       "1        1786            H"
      ]
     },
     "execution_count": 8,
     "metadata": {},
     "output_type": "execute_result"
    }
   ],
   "source": [
    "df_store_density.head(2)"
   ]
  },
  {
   "cell_type": "code",
   "execution_count": 9,
   "metadata": {
    "collapsed": true
   },
   "outputs": [],
   "source": [
    "df_output=pd.merge(df_store_density,df_output_by_zip,on=\"location_id\",how=\"left\")\n",
    "df_output_existing=df_output[~pd.isnull(df_output['zip_label'])]\n",
    "df_output_new=df_output[pd.isnull(df_output['zip_label'])]"
   ]
  },
  {
   "cell_type": "code",
   "execution_count": 10,
   "metadata": {
    "collapsed": true
   },
   "outputs": [],
   "source": [
    "store_location=pd.read_table(\"/home/jian/BigLots/static_files/Store_list/MediaStormStores20191001-134050-499.txt\",sep=\"|\",dtype=str)\n",
    "store_location=store_location[['location_id','latitude_meas','longitude_meas']]\n",
    "store_location['latitude_meas']=store_location['latitude_meas'].astype(float)\n",
    "store_location['longitude_meas']=store_location['longitude_meas'].astype(float)\n",
    "df_output_new=pd.merge(df_output_new,store_location,on=\"location_id\",how=\"left\")\n",
    "df_output_new_0=df_output_new[pd.notnull(df_output_new['latitude_meas'])]\n",
    "df_output_new_1=df_output_new[pd.isnull(df_output_new['latitude_meas'])]"
   ]
  },
  {
   "cell_type": "code",
   "execution_count": 11,
   "metadata": {},
   "outputs": [
    {
     "data": {
      "text/plain": [
       "'\\nrecent_store=pd.read_csv(\"/home/jian/BiglotsCode/outputs/combined_sales_long_2019-10-19.csv\",dtype=str)\\nrecent_store=recent_store[recent_store[\\'week_end_date\\'].apply(lambda x: x[:7]==\"2019-10\")]\\nrecent_store[\\'sales\\']=recent_store[\\'sales\\'].astype(float)\\nrecent_store=recent_store[recent_store[\\'sales\\']>0]\\nprint(recent_store.shape,recent_store[\\'week_end_date\\'].nunique())\\n\\nrecent_store[recent_store[\\'location_id\\'].isin(list_missing_stores)]\\n\\n#mentioned above, all closed or Quad III in BR\\'s excel\\n'"
      ]
     },
     "execution_count": 11,
     "metadata": {},
     "output_type": "execute_result"
    }
   ],
   "source": [
    "'''\n",
    "recent_store=pd.read_csv(\"/home/jian/BiglotsCode/outputs/combined_sales_long_2019-10-19.csv\",dtype=str)\n",
    "recent_store=recent_store[recent_store['week_end_date'].apply(lambda x: x[:7]==\"2019-10\")]\n",
    "recent_store['sales']=recent_store['sales'].astype(float)\n",
    "recent_store=recent_store[recent_store['sales']>0]\n",
    "print(recent_store.shape,recent_store['week_end_date'].nunique())\n",
    "\n",
    "recent_store[recent_store['location_id'].isin(list_missing_stores)]\n",
    "\n",
    "#mentioned above, all closed or Quad III in BR's excel\n",
    "'''"
   ]
  },
  {
   "cell_type": "code",
   "execution_count": 12,
   "metadata": {
    "collapsed": true
   },
   "outputs": [],
   "source": [
    "dict_new_store_address={}\n",
    "\n",
    "# 5399 \t851 SOUTH 30TH STREET\tINDIAN MOUND MALL\tHEATH\tOH\t43056\n",
    "dict_new_store_address.update({\"5399\":{\"GoogleAddress\":\"771 S 30th St Ste 9001, Heath, OH 43056\",\"GoogleCoor\":[40.0312042,-82.4473616]}})\n",
    "\n",
    "# 5400 \t2235 EAST STATE STREET\tHERMITAGE TOWN PLAZA\tHERMITAGE\tPA\t16148-2727\n",
    "dict_new_store_address.update({\"5400\":{\"GoogleAddress\":\"2253 E State St, Hermitage, PA 16148\",\"GoogleCoor\":[41.234349,-80.4658798]}})\n",
    "\n",
    "# 4711 \t4655 CANAL AVENUE SOUTHWEST\tGRANDVILLE MARKETPLACE\tGRANDVILLE\tMI\t49418-8731\n",
    "dict_new_store_address.update({\"4711\":{\"GoogleAddress\":\"4485-4655 Canal Ave SW, Grandville, MI 49418\",\"GoogleCoor\":[42.8815927,-85.7745291]}})\n",
    "\n",
    "# 5411 \t2318 WEST MERCURY BOULEVARD\tTODD'S LANE SHOPS\tHAMPTON\tVA\t23666\n",
    "dict_new_store_address.update({\"5411\":{\"GoogleAddress\":\"2318 W Mercury Blvd, Hampton, VA 23666\",\"GoogleCoor\":[37.0394621,-76.4073108]}})\n",
    "\n",
    "# 4709 \t5252 BARDSTOWN ROAD\tBARDSTOWN PLACE\tLOUISVILLE\tKY\t40291-1766\n",
    "dict_new_store_address.update({\"4709\":{\"GoogleAddress\":\"5252 Bardstown Rd, Louisville, KY 40291\",\"GoogleCoor\":[38.1680876,-85.6073362]}})\n",
    "\n",
    "# 5410 \t9690 COLERAIN AVENUE\tPROSPECT SQUARE\tCINCINNATI\tOH\t45251\n",
    "dict_new_store_address.update({\"5410\":{\"GoogleAddress\":\"9690 Colerain Ave, Cincinnati, OH 45251\",\"GoogleCoor\":[39.2482448,-84.5948913]}})\n",
    "\n",
    "# 4707 \t14215 SOUTHEAST PETROVITSKY ROAD\tFAIRWOOD SQUARE\tRENTON\tWA\t98058-8983\n",
    "dict_new_store_address.update({\"4707\":{\"GoogleAddress\":\"14215 SE Petrovitsky Rd, Renton, WA 98058\",\"GoogleCoor\":[47.4444178,-122.1519844]}})\n",
    "\n",
    "# 4701 \t5055 W SAHARA AVE\tSAHARA DECATUR\tLAS VEGAS\tNV\t89146-3405\n",
    "dict_new_store_address.update({\"4701\":{\"GoogleAddress\":\"5055 W Sahara Ave, Las Vegas, NV 89146\",\"GoogleCoor\":[36.1436122,-115.2103361]}})\n",
    "\n",
    "# 5409 \t4585 EASTGATE BOULEVARD\tTOYS R US CENTER\tCINCINNATI\tOH\t45245-1201\n",
    "dict_new_store_address.update({\"5409\":{\"GoogleAddress\":\"4585 Eastgate Blvd, Cincinnati, OH 45245\",\"GoogleCoor\":[39.102485,-84.2740534]}})\n",
    "\n",
    "# 4705 \t370 AUTO CENTER CIRCLE\tNORTHRIDGE MALL\tSALINAS\tCA\t93907\n",
    "dict_new_store_address.update({\"4705\":{\"GoogleAddress\":\"370 Auto Center Cir, Salinas, CA 93906\",\"GoogleCoor\":[36.7148622,-121.6607234]}})\n",
    "\n",
    "# 4706 \t3170 CHILI AVE UNIT # T5\tCHILI PLAZA\tROCHESTER\tNY\t14624-5410\n",
    "dict_new_store_address.update({\"4706\":{\"GoogleAddress\":\"3170 Chili Ave T5, Rochester, NY 14624\",\"GoogleCoor\":[43.1085609,-77.7467213]}})\n",
    "\n",
    "# 4702 \t6375 MONTANA AVENUE\tKMART SHOPPING CENTER\tEL PASO\tTX\t79925-2044\n",
    "dict_new_store_address.update({\"4702\":{\"GoogleAddress\":\"6375 Montana Ave, El Paso, TX 79925\",\"GoogleCoor\":[31.7898616,-106.404997]}})\n",
    "\n",
    "# 4678 \t3501 EAST LINCOLNWAY\tCHEYENNE PLAZA\tCHEYENNE\tWY\t82001-6302\n",
    "dict_new_store_address.update({\"4678\":{\"GoogleAddress\":\"3501 E Lincolnway, Cheyenne, WY 82001\",\"GoogleCoor\":[41.1370675,-104.7674035]}})\n",
    "\n",
    "# 5407 \t14154 EAST WADE HAMPTON BLVD\tCOLLINS CENTER\tGREER\tSC\t29651-1554\n",
    "dict_new_store_address.update({\"5407\":{\"GoogleAddress\":\"14154 E Wade Hampton Blvd, Greer, SC 29651\",\"GoogleCoor\":[34.948923,-82.2118793]}})\n",
    "\n",
    "# 5402 \t14603 TELEGRAPH ROAD\tTOYS R US CENTER\tWOODBRIDGE\tVA\t22192-4601\n",
    "dict_new_store_address.update({\"5402\":{\"GoogleAddress\":\"14603 Telegraph Rd, Woodbridge, VA 22194\",\"GoogleCoor\":[38.6373899,-77.2914551]}})\n",
    "\n",
    "# 5398 \t275 ROUTE 18\tMIRACLE MALL\tEAST BRUNSWICK\tNJ\t08816-1904\n",
    "dict_new_store_address.update({\"5398\":{\"GoogleAddress\":\"275 NJ-18, East Brunswick, NJ 08816\",\"GoogleCoor\":[40.4592229,-74.4049486]}})\n",
    "\n",
    "# 5408 \t3420 SOUTHWEST DURHAM DRIVE\tPATTERSON PLACE\tDURHAM\tNC\t27707-3351\n",
    "dict_new_store_address.update({\"5408\":{\"GoogleAddress\":\"3420 SW Durham Dr, Durham, NC 27707\",\"GoogleCoor\":[35.9516434,-78.9887268]}})"
   ]
  },
  {
   "cell_type": "code",
   "execution_count": 13,
   "metadata": {},
   "outputs": [
    {
     "name": "stderr",
     "output_type": "stream",
     "text": [
      "/usr/local/lib/python3.6/site-packages/ipykernel_launcher.py:1: SettingWithCopyWarning: \n",
      "A value is trying to be set on a copy of a slice from a DataFrame.\n",
      "Try using .loc[row_indexer,col_indexer] = value instead\n",
      "\n",
      "See the caveats in the documentation: http://pandas.pydata.org/pandas-docs/stable/user_guide/indexing.html#returning-a-view-versus-a-copy\n",
      "  \"\"\"Entry point for launching an IPython kernel.\n",
      "/usr/local/lib/python3.6/site-packages/ipykernel_launcher.py:2: SettingWithCopyWarning: \n",
      "A value is trying to be set on a copy of a slice from a DataFrame.\n",
      "Try using .loc[row_indexer,col_indexer] = value instead\n",
      "\n",
      "See the caveats in the documentation: http://pandas.pydata.org/pandas-docs/stable/user_guide/indexing.html#returning-a-view-versus-a-copy\n",
      "  \n"
     ]
    }
   ],
   "source": [
    "df_output_new_1['latitude_meas']=df_output_new_1['location_id'].apply(lambda x: dict_new_store_address[x]['GoogleCoor'][0])\n",
    "df_output_new_1['longitude_meas']=df_output_new_1['location_id'].apply(lambda x: dict_new_store_address[x]['GoogleCoor'][1])\n",
    "\n",
    "\n",
    "df_output_new=df_output_new_0.append(df_output_new_1)\n",
    "del df_output_new_0\n",
    "del df_output_new_1"
   ]
  },
  {
   "cell_type": "code",
   "execution_count": 14,
   "metadata": {},
   "outputs": [
    {
     "data": {
      "text/html": [
       "<div>\n",
       "<style scoped>\n",
       "    .dataframe tbody tr th:only-of-type {\n",
       "        vertical-align: middle;\n",
       "    }\n",
       "\n",
       "    .dataframe tbody tr th {\n",
       "        vertical-align: top;\n",
       "    }\n",
       "\n",
       "    .dataframe thead th {\n",
       "        text-align: right;\n",
       "    }\n",
       "</style>\n",
       "<table border=\"1\" class=\"dataframe\">\n",
       "  <thead>\n",
       "    <tr style=\"text-align: right;\">\n",
       "      <th></th>\n",
       "      <th>zip_label</th>\n",
       "      <th>zip_cd</th>\n",
       "      <th>location_id</th>\n",
       "    </tr>\n",
       "  </thead>\n",
       "  <tbody>\n",
       "    <tr>\n",
       "      <th>0</th>\n",
       "      <td>zip_in_10</td>\n",
       "      <td>26142</td>\n",
       "      <td>4698</td>\n",
       "    </tr>\n",
       "    <tr>\n",
       "      <th>1</th>\n",
       "      <td>zip_in_10</td>\n",
       "      <td>45713</td>\n",
       "      <td>4698</td>\n",
       "    </tr>\n",
       "  </tbody>\n",
       "</table>\n",
       "</div>"
      ],
      "text/plain": [
       "   zip_label zip_cd location_id\n",
       "0  zip_in_10  26142        4698\n",
       "1  zip_in_10  45713        4698"
      ]
     },
     "execution_count": 14,
     "metadata": {},
     "output_type": "execute_result"
    }
   ],
   "source": [
    "df_output_new=df_output_new.reset_index()\n",
    "del df_output_new['index']\n",
    "df_zip_new_store=pd.DataFrame()\n",
    "for ind,row in df_output_new.iterrows():\n",
    "    store_center=(row['latitude_meas'],row['longitude_meas'])\n",
    "    df_store=pd.DataFrame()\n",
    "    for zip_cd,v_centroid in zip_centers.items():\n",
    "        dist=haversine(store_center,v_centroid,unit=\"mi\")\n",
    "        if dist<=10:\n",
    "            df=pd.DataFrame({\"zip_cd\":zip_cd},index=['zip_in_10'])\n",
    "            df_store=df_store.append(df)\n",
    "    df_store=df_store.reset_index().rename(columns={\"index\":\"zip_label\"})\n",
    "    df_store['location_id']=row['location_id']\n",
    "    df_zip_new_store=df_zip_new_store.append(df_store)\n",
    "df_zip_new_store.head(2)\n",
    "            \n",
    "        "
   ]
  },
  {
   "cell_type": "code",
   "execution_count": 15,
   "metadata": {},
   "outputs": [
    {
     "data": {
      "text/plain": [
       "(764, 6)"
      ]
     },
     "execution_count": 15,
     "metadata": {},
     "output_type": "execute_result"
    }
   ],
   "source": [
    "del df_output_new['zip_label']\n",
    "del df_output_new['zip_cd']\n",
    "df_output_new=pd.merge(df_output_new,df_zip_new_store,on=\"location_id\",how=\"left\")\n",
    "df_output_new.shape"
   ]
  },
  {
   "cell_type": "code",
   "execution_count": 16,
   "metadata": {},
   "outputs": [
    {
     "data": {
      "text/plain": [
       "(764, 4)"
      ]
     },
     "execution_count": 16,
     "metadata": {},
     "output_type": "execute_result"
    }
   ],
   "source": [
    "df_output_new=df_output_new[['location_id','Density_Tier','zip_label','zip_cd']].drop_duplicates()\n",
    "df_output_new.shape"
   ]
  },
  {
   "cell_type": "code",
   "execution_count": 17,
   "metadata": {
    "collapsed": true
   },
   "outputs": [],
   "source": [
    "df_output=df_output_existing.append(df_output_new)"
   ]
  },
  {
   "cell_type": "code",
   "execution_count": 18,
   "metadata": {},
   "outputs": [
    {
     "data": {
      "text/plain": [
       "(25450, 5)"
      ]
     },
     "execution_count": 18,
     "metadata": {},
     "output_type": "execute_result"
    }
   ],
   "source": [
    "df_output=pd.merge(df_output,df_SOTF,on=\"location_id\",how=\"left\")\n",
    "df_output['SOTF']=df_output['SOTF'].fillna(\"Legacy\")\n",
    "df_output.shape"
   ]
  },
  {
   "cell_type": "code",
   "execution_count": 19,
   "metadata": {},
   "outputs": [
    {
     "data": {
      "text/html": [
       "<div>\n",
       "<style scoped>\n",
       "    .dataframe tbody tr th:only-of-type {\n",
       "        vertical-align: middle;\n",
       "    }\n",
       "\n",
       "    .dataframe tbody tr th {\n",
       "        vertical-align: top;\n",
       "    }\n",
       "\n",
       "    .dataframe thead th {\n",
       "        text-align: right;\n",
       "    }\n",
       "</style>\n",
       "<table border=\"1\" class=\"dataframe\">\n",
       "  <thead>\n",
       "    <tr style=\"text-align: right;\">\n",
       "      <th></th>\n",
       "      <th>location_id</th>\n",
       "      <th>Density_Tier</th>\n",
       "      <th>zip_label</th>\n",
       "      <th>zip_cd</th>\n",
       "      <th>SOTF</th>\n",
       "    </tr>\n",
       "  </thead>\n",
       "  <tbody>\n",
       "    <tr>\n",
       "      <th>0</th>\n",
       "      <td>5326</td>\n",
       "      <td>H</td>\n",
       "      <td>P</td>\n",
       "      <td>08332</td>\n",
       "      <td>Legacy</td>\n",
       "    </tr>\n",
       "    <tr>\n",
       "      <th>1</th>\n",
       "      <td>5326</td>\n",
       "      <td>H</td>\n",
       "      <td>P</td>\n",
       "      <td>08360</td>\n",
       "      <td>Legacy</td>\n",
       "    </tr>\n",
       "  </tbody>\n",
       "</table>\n",
       "</div>"
      ],
      "text/plain": [
       "  location_id Density_Tier zip_label zip_cd    SOTF\n",
       "0        5326            H         P  08332  Legacy\n",
       "1        5326            H         P  08360  Legacy"
      ]
     },
     "execution_count": 19,
     "metadata": {},
     "output_type": "execute_result"
    }
   ],
   "source": [
    "df_output.head(2)"
   ]
  },
  {
   "cell_type": "code",
   "execution_count": 20,
   "metadata": {
    "collapsed": true
   },
   "outputs": [],
   "source": [
    "writer=pd.ExcelWriter(\"./BL_zips_by_store_density_and_SOTF_JL_\"+str(datetime.datetime.now().date())+\".xlsx\",engine=\"xlsxwriter\")\n",
    "df_output.to_excel(writer,\"zip_by_store\",index=False)\n"
   ]
  },
  {
   "cell_type": "code",
   "execution_count": 22,
   "metadata": {},
   "outputs": [
    {
     "data": {
      "text/plain": [
       "(25450, 5)"
      ]
     },
     "execution_count": 22,
     "metadata": {},
     "output_type": "execute_result"
    }
   ],
   "source": [
    "df_output.shape"
   ]
  },
  {
   "cell_type": "code",
   "execution_count": 23,
   "metadata": {},
   "outputs": [
    {
     "name": "stdout",
     "output_type": "stream",
     "text": [
      "H_Legacy (1804, 3)\n",
      "L_Legacy (55, 3)\n",
      "L_SOTF (1937, 3)\n",
      "M_Legacy (8823, 3)\n",
      "M_SOTF_P (1477, 4)\n",
      "M_SOTF_S (3761, 4)\n"
     ]
    }
   ],
   "source": [
    "for density_sotf,group in df_output.groupby(['Density_Tier','SOTF']):\n",
    "    if density_sotf[0]!=\"M\" or density_sotf[1]!=\"SOTF\":\n",
    "        tab_name=density_sotf[0]+\"_\"+density_sotf[1]\n",
    "\n",
    "        df=group[['Density_Tier','SOTF','zip_cd']].drop_duplicates()\n",
    "        df.to_excel(writer,tab_name,index=False)\n",
    "        print(tab_name,df.shape)\n",
    "    else:\n",
    "        for zip_label,df_inner_group in group.groupby(\"zip_label\"):\n",
    "            tab_name=density_sotf[0]+\"_\"+density_sotf[1]+\"_\"+zip_label\n",
    "            df=df_inner_group[['Density_Tier','SOTF','zip_cd','zip_label']].drop_duplicates()\n",
    "            df.to_excel(writer,tab_name,index=False)\n",
    "            print(tab_name,df.shape)\n",
    "            "
   ]
  },
  {
   "cell_type": "code",
   "execution_count": 24,
   "metadata": {
    "collapsed": true
   },
   "outputs": [],
   "source": [
    "writer.save()"
   ]
  },
  {
   "cell_type": "code",
   "execution_count": 23,
   "metadata": {},
   "outputs": [
    {
     "data": {
      "text/plain": [
       "16883"
      ]
     },
     "execution_count": 23,
     "metadata": {},
     "output_type": "execute_result"
    }
   ],
   "source": [
    "1804+55+1937+8823+4264"
   ]
  },
  {
   "cell_type": "code",
   "execution_count": 25,
   "metadata": {},
   "outputs": [
    {
     "data": {
      "text/plain": [
       "17857"
      ]
     },
     "execution_count": 25,
     "metadata": {},
     "output_type": "execute_result"
    }
   ],
   "source": [
    "1804+55+1937+8823+1477+3761"
   ]
  },
  {
   "cell_type": "code",
   "execution_count": 26,
   "metadata": {},
   "outputs": [
    {
     "data": {
      "text/plain": [
       "array(['P', 'S', 'zip_in_10'], dtype=object)"
      ]
     },
     "execution_count": 26,
     "metadata": {},
     "output_type": "execute_result"
    }
   ],
   "source": [
    "df_output['zip_label'].unique()"
   ]
  },
  {
   "cell_type": "code",
   "execution_count": 28,
   "metadata": {},
   "outputs": [
    {
     "data": {
      "text/plain": [
       "array(['SOTF', 'Legacy'], dtype=object)"
      ]
     },
     "execution_count": 28,
     "metadata": {},
     "output_type": "execute_result"
    }
   ],
   "source": [
    "df_output[df_output['zip_label']==\"zip_in_10\"]['SOTF'].unique()"
   ]
  },
  {
   "cell_type": "code",
   "execution_count": null,
   "metadata": {
    "collapsed": true
   },
   "outputs": [],
   "source": []
  }
 ],
 "metadata": {
  "kernelspec": {
   "display_name": "Python 3",
   "language": "python",
   "name": "python3"
  },
  "language_info": {
   "codemirror_mode": {
    "name": "ipython",
    "version": 3
   },
   "file_extension": ".py",
   "mimetype": "text/x-python",
   "name": "python",
   "nbconvert_exporter": "python",
   "pygments_lexer": "ipython3",
   "version": "3.6.1"
  }
 },
 "nbformat": 4,
 "nbformat_minor": 2
}
