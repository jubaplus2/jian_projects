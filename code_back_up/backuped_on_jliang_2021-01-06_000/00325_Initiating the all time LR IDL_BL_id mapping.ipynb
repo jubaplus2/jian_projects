{
 "cells": [
  {
   "cell_type": "code",
   "execution_count": 1,
   "metadata": {},
   "outputs": [],
   "source": [
    "import pytz\n",
    "import datetime\n",
    "import pandas as pd\n",
    "import glob\n",
    "import os\n",
    "import numpy as np\n",
    "import gc"
   ]
  },
  {
   "cell_type": "code",
   "execution_count": null,
   "metadata": {},
   "outputs": [],
   "source": [
    "# Initiating\n",
    "\n",
    "df_total_mapping=pd.DataFrame(columns=['Customer_Link','customer_id_hashed','date_up_to'])\n",
    "print(\"Start\",datetime.datetime.now())\n",
    "\n",
    "for ind, row in df_all_mapping_file.iterrows():\n",
    "    file_path=row['file_path']\n",
    "    date_up_to=row['mapping_up_to_date']\n",
    "    df=pd.read_table(file_path,dtype=str,sep=\"|\",compression=\"gzip\",usecols=['Customer_Link','customer_id_hashed'])\n",
    "    df=df[df['Customer_Link']!=\"UNMATCHED\"].drop_duplicates(\"Customer_Link\")\n",
    "    df['date_up_to']=date_up_to\n",
    "    df_pre=df_total_mapping.drop_duplicates(\"Customer_Link\") # as the high date in the cum mapping\n",
    "    df_pre['latest']=1 # label as the latest avaibale\n",
    "    df_total_mapping=pd.merge(df_total_mapping,df_pre,on=[\"Customer_Link\",\"customer_id_hashed\",\"date_up_to\"],how=\"left\")\n",
    "    df_total_mapping=df_total_mapping[pd.isnull(df_total_mapping['latest'])] # remove the latest and kept previous only if different\n",
    "    del df_pre['latest']\n",
    "    del df_total_mapping['latest']\n",
    "    df_2_consecutive=df.append(df_pre) # new on the top, old below\n",
    "    \n",
    "    df_ids_count_by_idl=df_2_consecutive.groupby(\"Customer_Link\")[\"customer_id_hashed\"].nunique().to_frame().reset_index()\n",
    "    df_ids_count_by_idl=df_ids_count_by_idl.rename(columns={\"customer_id_hashed\":\"BL_id_count\"})\n",
    "    df_ids_count_by_idl_2=df_ids_count_by_idl[df_ids_count_by_idl['BL_id_count']>1] # the new diffrent from the old high date\n",
    "    df_ids_count_by_idl_1=df_ids_count_by_idl[df_ids_count_by_idl['BL_id_count']==1]# the new same as the old high date\n",
    "    # 1 and 2 should be mutually exclusive\n",
    "    df_1=pd.merge(df_2_consecutive,df_ids_count_by_idl_1,on=\"Customer_Link\",how=\"inner\").drop_duplicates(\"Customer_Link\") # keep the new only\n",
    "    df_2=pd.merge(df_2_consecutive,df_ids_count_by_idl_2,on=\"Customer_Link\",how=\"inner\") # keep both\n",
    "    \n",
    "    del df_1['BL_id_count']\n",
    "    del df_2['BL_id_count']\n",
    "    \n",
    "    print(df_1.columns.tolist())\n",
    "    print(df_2.columns.tolist())\n",
    "    \n",
    "    df_total_mapping=pd.concat([df_1,df_2,df_total_mapping])\n",
    "    \n",
    "    print(ind,datetime.datetime.now())\n",
    "print(\"Done\",datetime.datetime.now())\n",
    "del df_1\n",
    "del df_2\n",
    "del df_2_consecutive\n",
    "del df_ids_count_by_idl\n",
    "del df_ids_count_by_idl_1\n",
    "del df_ids_count_by_idl_2\n",
    "del df\n",
    "gc.collect()\n",
    "df_total_mapping=df_total_mapping.sort_values(['Customer_Link','date_up_to'],ascending=[True,False])\n",
    "gc.collect()\n",
    "df_total_mapping.shape"
   ]
  },
  {
   "cell_type": "code",
   "execution_count": null,
   "metadata": {},
   "outputs": [],
   "source": [
    "print(df_total_mapping.shape)\n",
    "print(df_total_mapping['Customer_Link'].nunique())\n",
    "print(df_total_mapping['customer_id_hashed'].nunique())\n",
    "df_total_mapping.head(10)\n",
    "\n",
    "'''\n",
    "(38226704, 3)\n",
    "36944095\n",
    "32575028\n",
    "'''\n",
    "\n",
    "'''\n",
    "Customer_Link\tcustomer_id_hashed\tdate_up_to\n",
    "24652785\tXY1468---077tVclzugrAPADjYKKd1D3ZebCh26abPI1mraTs\tc038e1b89f0bf1902d4c365d001b9a19b3a739358d1ee7...\t20200215\n",
    "35417849\tXY1468---0pTSu_zfDGheJ-qYQPfvwhCI1e7f_joTNdovjomE\t1b5cda9e5ca0af148177d6a317905639cb35d744e0ff2d...\t20200215\n",
    "2516469\tXY1468---1i3EbLRBAPuKc2mSWy4bIs6QvBbFwWavuATdTTQI\t0d95ec6248ba4fb596378678e36c1a0453b8ff84862b76...\t20200215\n",
    "17982002\tXY1468---1kVQT3iPqthySc6GJ53sp2-h3GwT4_4bYAJk__eI\td449269735be97a927b7236184082861ecd4a74810e181...\t20200215\n",
    "36051352\tXY1468---2HCWhlYC73t__zvlTPujqfK2YR9dz6MAg64po5hM\t96457a5c6aeb15284a930557afdf3032933a1510257b62...\t20200215\n",
    "57126037\tXY1468---2Lpewd2wQcUpWwH177TLrtS7CY2j703yOv6MJ6Lk\t0fe3858f393b63931a48cb0a11665cc15e78869df39db7...\t20190207\n",
    "47935399\tXY1468---2X7UQqC1vASJx-IeoLZoXp3vxApZpE6um4fesQsU\t5c701b9026542480dc97b4535bf751b665106396f9a6b3...\t20191125\n",
    "15797510\tXY1468---2eCOjc0YWoD7YeA3caYqs9co13bn5GbXVVsLNKhs\te7599bf13053e3a3b444da6330ff1cff49579c9ea53c73...\t20200215\n",
    "6716466\tXY1468---2yhYvOTg1BNenE00-7L1WPENGOjZhJ5YVd8bKzTE\t21ad9af4897aece7f81910a8e5bf7d4f92409f31c734e0...\t20200215\n",
    "13451377\tXY1468---4MVMx_4NhiHNoYG0Ee9uHc0JtD9JochFalgSMIbw\td3f7f025574ae8fd84aa451c6a81d4c93da5c835540b17...\t20200215\n",
    "'''"
   ]
  },
  {
   "cell_type": "code",
   "execution_count": null,
   "metadata": {},
   "outputs": [],
   "source": [
    "2020-03-02\n",
    "\n",
    "df_total_mapping.to_csv(\"./df_total_mapping_IDL_BLid_JL_\"+str(datetime.datetime.now().date())+\".csv\",index=False)\n",
    "print(datetime.datetime.now())\n",
    "\n"
   ]
  }
 ],
 "metadata": {
  "kernelspec": {
   "display_name": "Python 3",
   "language": "python",
   "name": "python3"
  },
  "language_info": {
   "codemirror_mode": {
    "name": "ipython",
    "version": 3
   },
   "file_extension": ".py",
   "mimetype": "text/x-python",
   "name": "python",
   "nbconvert_exporter": "python",
   "pygments_lexer": "ipython3",
   "version": "3.6.1"
  }
 },
 "nbformat": 4,
 "nbformat_minor": 2
}
