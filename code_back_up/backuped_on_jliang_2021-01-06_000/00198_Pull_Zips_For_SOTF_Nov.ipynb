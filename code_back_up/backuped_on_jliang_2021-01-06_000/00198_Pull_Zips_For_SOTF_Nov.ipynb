{
 "cells": [
  {
   "cell_type": "code",
   "execution_count": 1,
   "metadata": {
    "collapsed": true
   },
   "outputs": [],
   "source": [
    "import datetime\n",
    "import os\n",
    "import pandas as pd\n",
    "import numpy \n",
    "from haversine import haversine\n",
    "import json\n",
    "import numpy as np\n",
    "zip_centers=json.load(open(\"/home/jian/Docs/Geo_mapping/updated_zip_centers_JL_2019-05-23.json\",\"r\"))"
   ]
  },
  {
   "cell_type": "code",
   "execution_count": 2,
   "metadata": {},
   "outputs": [
    {
     "data": {
      "text/plain": [
       "['BL_11.9 Zips_77 Stores', 'BL_11.23 Zips_4 Stores']"
      ]
     },
     "execution_count": 2,
     "metadata": {},
     "output_type": "execute_result"
    }
   ],
   "source": [
    "sotf_excel=pd.ExcelFile(\"./BL SOTF November Zips - Request.xlsx\")\n",
    "sotf_excel.sheet_names"
   ]
  },
  {
   "cell_type": "code",
   "execution_count": 3,
   "metadata": {},
   "outputs": [
    {
     "data": {
      "text/plain": [
       "((77, 9), (4, 9))"
      ]
     },
     "execution_count": 3,
     "metadata": {},
     "output_type": "execute_result"
    }
   ],
   "source": [
    "df_sotf_1109=sotf_excel.parse('BL_11.9 Zips_77 Stores',dtype=str)\n",
    "df_sotf_1123=sotf_excel.parse('BL_11.23 Zips_4 Stores',dtype=str)\n",
    "\n",
    "df_sotf_1109.shape,df_sotf_1123.shape"
   ]
  },
  {
   "cell_type": "code",
   "execution_count": 4,
   "metadata": {},
   "outputs": [
    {
     "data": {
      "text/plain": [
       "81"
      ]
     },
     "execution_count": 4,
     "metadata": {},
     "output_type": "execute_result"
    }
   ],
   "source": [
    "len(set(df_sotf_1109['location_id'].tolist()+df_sotf_1123['location_id'].tolist()))"
   ]
  },
  {
   "cell_type": "code",
   "execution_count": 5,
   "metadata": {
    "collapsed": true
   },
   "outputs": [],
   "source": [
    "TA_excel=pd.ExcelFile(\"/home/jian/Projects/Big_Lots/New_TA/TA_created_in_201906/final_output_20190718/BL_final_TA_updated_remove_8_and_22_stores_JL_2019-09-11.xlsx\")\n",
    "store_ta_zips=TA_excel.parse(\"view_by_store\",dtype=str)\n",
    "\n"
   ]
  },
  {
   "cell_type": "code",
   "execution_count": 6,
   "metadata": {
    "collapsed": true
   },
   "outputs": [],
   "source": [
    "store_list_1109=df_sotf_1109['location_id'].unique().tolist()\n",
    "store_list_1123=df_sotf_1123['location_id'].unique().tolist()\n",
    "\n",
    "all_sotf=store_list_1109+store_list_1123\n",
    "df_existing=store_ta_zips[store_ta_zips['location_id'].isin(all_sotf)]"
   ]
  },
  {
   "cell_type": "code",
   "execution_count": 7,
   "metadata": {},
   "outputs": [
    {
     "name": "stdout",
     "output_type": "stream",
     "text": [
      "['5399', '5400', '4711', '5411', '4709', '5410', '4707', '4701', '5409']\n",
      "9\n"
     ]
    }
   ],
   "source": [
    "store_list_new=[x for x in all_sotf if x not in df_existing['location_id'].tolist()]\n",
    "print(store_list_new)\n",
    "print(len(store_list_new))"
   ]
  },
  {
   "cell_type": "code",
   "execution_count": 8,
   "metadata": {},
   "outputs": [
    {
     "data": {
      "text/html": [
       "<div>\n",
       "<style>\n",
       "    .dataframe thead tr:only-child th {\n",
       "        text-align: right;\n",
       "    }\n",
       "\n",
       "    .dataframe thead th {\n",
       "        text-align: left;\n",
       "    }\n",
       "\n",
       "    .dataframe tbody tr th {\n",
       "        vertical-align: top;\n",
       "    }\n",
       "</style>\n",
       "<table border=\"1\" class=\"dataframe\">\n",
       "  <thead>\n",
       "    <tr style=\"text-align: right;\">\n",
       "      <th></th>\n",
       "      <th>location_id</th>\n",
       "      <th>location_desc</th>\n",
       "      <th>open_dt</th>\n",
       "      <th>close_dt</th>\n",
       "      <th>address_line_1</th>\n",
       "      <th>address_line_2</th>\n",
       "      <th>city_nm</th>\n",
       "      <th>state_nm</th>\n",
       "      <th>store_zip</th>\n",
       "      <th>longitude_meas</th>\n",
       "      <th>latitude_meas</th>\n",
       "      <th>sales_square_feet</th>\n",
       "      <th>furniture_sales_square_feet</th>\n",
       "    </tr>\n",
       "  </thead>\n",
       "  <tbody>\n",
       "  </tbody>\n",
       "</table>\n",
       "</div>"
      ],
      "text/plain": [
       "Empty DataFrame\n",
       "Columns: [location_id, location_desc, open_dt, close_dt, address_line_1, address_line_2, city_nm, state_nm, store_zip, longitude_meas, latitude_meas, sales_square_feet, furniture_sales_square_feet]\n",
       "Index: []"
      ]
     },
     "execution_count": 8,
     "metadata": {},
     "output_type": "execute_result"
    }
   ],
   "source": [
    "store_list=pd.read_table(\"/home/jian/BigLots/static_files/Store_list/MediaStormStores20191001-134050-499.txt\",dtype=str,sep=\"|\")\n",
    "store_list['latitude_meas']=store_list['latitude_meas'].astype(float)\n",
    "store_list['longitude_meas']=store_list['longitude_meas'].astype(float)\n",
    "store_list['zip_cd']=store_list['zip_cd'].apply(lambda x: x.strip().split(\"-\")[0].zfill(5))\n",
    "store_list=store_list.rename(columns={\"zip_cd\":\"store_zip\"})\n",
    "store_list[store_list['location_id'].isin(store_list_new)]\n",
    "# Empty df=all not opened stores"
   ]
  },
  {
   "cell_type": "code",
   "execution_count": 9,
   "metadata": {
    "collapsed": true
   },
   "outputs": [],
   "source": [
    "# Google the location for new stores\n",
    "dict_new_store_address={}\n",
    "\n",
    "# 5399 \t851 SOUTH 30TH STREET\tINDIAN MOUND MALL\tHEATH\tOH\t43056\n",
    "dict_new_store_address.update({\"5399\":{\"GoogleAddress\":\"771 S 30th St Ste 9001, Heath, OH 43056\",\"GoogleCoor\":[40.0312042,-82.4473616]}})\n",
    "\n",
    "# 5400 \t2235 EAST STATE STREET\tHERMITAGE TOWN PLAZA\tHERMITAGE\tPA\t16148-2727\n",
    "dict_new_store_address.update({\"5400\":{\"GoogleAddress\":\"2253 E State St, Hermitage, PA 16148\",\"GoogleCoor\":[41.234349,-80.4658798]}})\n",
    "\n",
    "# 4711 \t4655 CANAL AVENUE SOUTHWEST\tGRANDVILLE MARKETPLACE\tGRANDVILLE\tMI\t49418-8731\n",
    "dict_new_store_address.update({\"4711\":{\"GoogleAddress\":\"4485-4655 Canal Ave SW, Grandville, MI 49418\",\"GoogleCoor\":[42.8815927,-85.7745291]}})\n",
    "\n",
    "# 5411 \t2318 WEST MERCURY BOULEVARD\tTODD'S LANE SHOPS\tHAMPTON\tVA\t23666\n",
    "dict_new_store_address.update({\"5411\":{\"GoogleAddress\":\"2318 W Mercury Blvd, Hampton, VA 23666\",\"GoogleCoor\":[37.0394621,-76.4073108]}})\n",
    "\n",
    "# 4709 \t5252 BARDSTOWN ROAD\tBARDSTOWN PLACE\tLOUISVILLE\tKY\t40291-1766\n",
    "dict_new_store_address.update({\"4709\":{\"GoogleAddress\":\"5252 Bardstown Rd, Louisville, KY 40291\",\"GoogleCoor\":[38.1680876,-85.6073362]}})\n",
    "\n",
    "# 5410 \t9690 COLERAIN AVENUE\tPROSPECT SQUARE\tCINCINNATI\tOH\t45251\n",
    "dict_new_store_address.update({\"5410\":{\"GoogleAddress\":\"9690 Colerain Ave, Cincinnati, OH 45251\",\"GoogleCoor\":[39.2482448,-84.5948913]}})\n",
    "\n",
    "# 4707 \t14215 SOUTHEAST PETROVITSKY ROAD\tFAIRWOOD SQUARE\tRENTON\tWA\t98058-8983\n",
    "dict_new_store_address.update({\"4707\":{\"GoogleAddress\":\"14215 SE Petrovitsky Rd, Renton, WA 98058\",\"GoogleCoor\":[47.4444178,-122.1519844]}})\n",
    "\n",
    "# 4701 \t5055 W SAHARA AVE\tSAHARA DECATUR\tLAS VEGAS\tNV\t89146-3405\n",
    "dict_new_store_address.update({\"4701\":{\"GoogleAddress\":\"5055 W Sahara Ave, Las Vegas, NV 89146\",\"GoogleCoor\":[36.1436122,-115.2103361]}})\n",
    "\n",
    "# 5409 \t4585 EASTGATE BOULEVARD\tTOYS R US CENTER\tCINCINNATI\tOH\t45245-1201\n",
    "dict_new_store_address.update({\"5409\":{\"GoogleAddress\":\"4585 Eastgate Blvd, Cincinnati, OH 45245\",\"GoogleCoor\":[39.102485,-84.2740534]}})\n",
    "\n"
   ]
  },
  {
   "cell_type": "code",
   "execution_count": 10,
   "metadata": {
    "collapsed": true
   },
   "outputs": [],
   "source": [
    "df_output_existing=store_list[['location_id','state_nm','store_zip','latitude_meas','longitude_meas']]\n",
    "df_output_existing=df_output_existing[df_output_existing['location_id'].isin(df_existing['location_id'].unique().tolist())]\n",
    "df_zip_cd=pd.DataFrame()\n",
    "df_existing=df_existing.reset_index()\n",
    "del df_existing['index']\n",
    "for ind,row in df_existing.iterrows():\n",
    "    store_num=row['location_id']\n",
    "    zip_list_P=eval(row['trans_P_zips_70_within_TA'])\n",
    "    zip_list_S=eval(row['trans_S_zips_70_within_TA'])\n",
    "    zip_list_10=eval(row['zips_in_10'])\n",
    "    \n",
    "    df_P=pd.DataFrame({\"zip\":zip_list_P},index=[\"P\"]*len(zip_list_P))\n",
    "    df_S=pd.DataFrame({\"zip\":zip_list_S},index=[\"S\"]*len(zip_list_S))\n",
    "    df_10=pd.DataFrame({\"zip\":zip_list_10},index=[\"zip_in_10\"]*len(zip_list_10))\n",
    "    \n",
    "    df=pd.concat([df_P,df_S,df_10]).reset_index().rename(columns={\"index\":\"trans_flag\"})\n",
    "    df['location_id']=store_num\n",
    "    df_zip_cd=df_zip_cd.append(df)\n",
    "df_output_existing=pd.merge(df_output_existing,df_zip_cd,on=\"location_id\",how=\"left\")"
   ]
  },
  {
   "cell_type": "code",
   "execution_count": 11,
   "metadata": {},
   "outputs": [
    {
     "data": {
      "text/plain": [
       "[]"
      ]
     },
     "execution_count": 11,
     "metadata": {},
     "output_type": "execute_result"
    }
   ],
   "source": [
    "df_output_existing[(df_output_existing['latitude_meas']==0) | (df_output_existing['longitude_meas']==0)]['location_id'].unique().tolist()"
   ]
  },
  {
   "cell_type": "code",
   "execution_count": 12,
   "metadata": {
    "collapsed": true
   },
   "outputs": [],
   "source": [
    "df_output_existing['Distance (mile)']=np.nan\n",
    "df_output_existing=df_output_existing.reset_index()\n",
    "del df_output_existing['index']\n",
    "\n",
    "for ind, row in df_output_existing.iterrows():\n",
    "    dist=haversine((row['latitude_meas'],row['longitude_meas']),zip_centers[row['zip']],miles=True)\n",
    "    df_output_existing.loc[ind,\"Distance (mile)\"]=dist\n",
    "    "
   ]
  },
  {
   "cell_type": "code",
   "execution_count": 13,
   "metadata": {
    "collapsed": true
   },
   "outputs": [],
   "source": [
    "df_output_new=pd.DataFrame()\n",
    "for location_id in store_list_new:\n",
    "    state_nm=dict_new_store_address[location_id]['GoogleAddress'].split(\", \")[-1][:2]\n",
    "    store_zip=dict_new_store_address[location_id]['GoogleAddress'].split(\", \")[-1].split(\" \")[1]\n",
    "    latitude_meas=dict_new_store_address[location_id]['GoogleCoor'][0]\n",
    "    longitude_meas=dict_new_store_address[location_id]['GoogleCoor'][1]\n",
    "    df=pd.DataFrame()\n",
    "    for zip_cd,v in zip_centers.items():\n",
    "        dist=haversine((latitude_meas,longitude_meas),v,miles=True)\n",
    "        if dist<=10:\n",
    "            df=df.append(pd.DataFrame({\"zip\":zip_cd,\"Distance (mile)\":dist},index=[\"zip_in_10\"]))\n",
    "    df=df.reset_index().rename(columns={\"index\":\"trans_flag\"})\n",
    "    df['location_id']=location_id\n",
    "    df['state_nm']=state_nm\n",
    "    df['store_zip']=store_zip\n",
    "    df['latitude_meas']=latitude_meas\n",
    "    df['longitude_meas']=longitude_meas\n",
    "    df_output_new=df_output_new.append(df)\n",
    "    \n",
    "            "
   ]
  },
  {
   "cell_type": "code",
   "execution_count": 15,
   "metadata": {
    "collapsed": true
   },
   "outputs": [],
   "source": [
    "df_output_all=df_output_existing.append(df_output_new)\n",
    "df_output_all['G.O.']=np.nan\n",
    "col_list=df_sotf_1109.columns.tolist()\n",
    "\n",
    "col_list_new=[]\n",
    "for col in col_list:\n",
    "    if col==\"revenue_flag\":\n",
    "        new_col=\"trans_flag\"\n",
    "    else:\n",
    "        new_col=col\n",
    "    col_list_new=col_list_new+[new_col]\n",
    "df_output_all=df_output_all[col_list_new]"
   ]
  },
  {
   "cell_type": "code",
   "execution_count": 16,
   "metadata": {
    "collapsed": true
   },
   "outputs": [],
   "source": [
    "df_output_all['G.O.']=np.where(df_output_all['location_id'].isin(store_list_1109),\"1109\",\n",
    "                              np.where(df_output_all['location_id'].isin(store_list_1123),\"1123\",np.nan)\n",
    "                              )\n",
    "df_output_1109=df_output_all[df_output_all['G.O.']==\"1109\"]\n",
    "df_output_1123=df_output_all[df_output_all['G.O.']==\"1123\"]\n"
   ]
  },
  {
   "cell_type": "code",
   "execution_count": 17,
   "metadata": {
    "collapsed": true
   },
   "outputs": [],
   "source": [
    "df_unique_zips_1109=df_output_1109[['trans_flag','zip']].sort_values([\"zip\",\"trans_flag\"]).drop_duplicates(\"zip\")\n",
    "df_unique_zips_1123=df_output_1123[['trans_flag','zip']].sort_values([\"zip\",\"trans_flag\"]).drop_duplicates(\"zip\")"
   ]
  },
  {
   "cell_type": "code",
   "execution_count": 18,
   "metadata": {
    "collapsed": true
   },
   "outputs": [],
   "source": [
    "writer=pd.ExcelWriter(\"./BL SOTF November Zips_JL_\"+str(datetime.datetime.now().date())+\".xlsx\",engine=\"xlsxwriter\")\n",
    "df_unique_zips_1109.to_excel(writer,'unique_zip_1109',index=False)\n",
    "df_unique_zips_1123.to_excel(writer,'unique_zip_1123',index=False)\n",
    "\n",
    "df_output_1109.to_excel(writer,'BL_11.9 Zips_77 Stores',index=False)\n",
    "df_output_1123.to_excel(writer,'BL_11.23 Zips_4 Stores',index=False)\n",
    "writer.save()"
   ]
  },
  {
   "cell_type": "code",
   "execution_count": null,
   "metadata": {
    "collapsed": true
   },
   "outputs": [],
   "source": []
  }
 ],
 "metadata": {
  "kernelspec": {
   "display_name": "Python 3",
   "language": "python",
   "name": "python3"
  },
  "language_info": {
   "codemirror_mode": {
    "name": "ipython",
    "version": 3
   },
   "file_extension": ".py",
   "mimetype": "text/x-python",
   "name": "python",
   "nbconvert_exporter": "python",
   "pygments_lexer": "ipython3",
   "version": "3.6.1"
  }
 },
 "nbformat": 4,
 "nbformat_minor": 2
}
