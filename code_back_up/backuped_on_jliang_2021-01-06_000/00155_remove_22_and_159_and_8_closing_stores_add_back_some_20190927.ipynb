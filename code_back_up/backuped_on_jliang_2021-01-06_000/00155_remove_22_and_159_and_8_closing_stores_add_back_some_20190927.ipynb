{
 "cells": [
  {
   "cell_type": "code",
   "execution_count": 1,
   "metadata": {},
   "outputs": [
    {
     "name": "stdout",
     "output_type": "stream",
     "text": [
      "2019-09-27 11:36:12.784360\n"
     ]
    },
    {
     "data": {
      "text/plain": [
       "'/home/jian/Projects/Big_Lots/New_TA/TA_created_in_201906/final_output_20190718/add_and_remove_stores'"
      ]
     },
     "execution_count": 1,
     "metadata": {},
     "output_type": "execute_result"
    }
   ],
   "source": [
    "import pandas as pd\n",
    "import os\n",
    "import numpy as np\n",
    "import datetime\n",
    "print(datetime.datetime.now())\n",
    "\n",
    "# Revised based on the 1st version new run, remove the 8+22 together\n",
    "\n",
    "stores_add_back_list=[1,410,1379,1650,4648,5272,5324]\n",
    "stores_add_back_list=[str(x) for x in stores_add_back_list]\n",
    "# Based on the filetered excel in the email from Kayla \"RE: Big Lots - reoccurring quad 3 stores\" on 2019-09-26 4:55 pm \n",
    "\n",
    "os.getcwd()"
   ]
  },
  {
   "cell_type": "code",
   "execution_count": 2,
   "metadata": {},
   "outputs": [
    {
     "data": {
      "text/plain": [
       "['Closures & Non Movers #1 ',\n",
       " 'Additional Stores to Remove #2',\n",
       " 'Additional Stores to Remove (2)',\n",
       " 'Full Store List',\n",
       " 'SOTF List',\n",
       " 'Removed quad 3 Stores already']"
      ]
     },
     "execution_count": 2,
     "metadata": {},
     "output_type": "execute_result"
    }
   ],
   "source": [
    "file_closing_stores=pd.ExcelFile(\"/home/jian/Projects/Big_Lots/New_TA/TA_created_in_201906/final_output_20190718/Additional Stores to Remove_Q3 9.11.xlsx\")\n",
    "file_closing_stores.sheet_names"
   ]
  },
  {
   "cell_type": "code",
   "execution_count": 3,
   "metadata": {},
   "outputs": [
    {
     "name": "stdout",
     "output_type": "stream",
     "text": [
      "22\n",
      "159\n",
      "total_closing_stores:  188\n",
      "total_closing_stores added back:  181\n"
     ]
    }
   ],
   "source": [
    "df_closing_22_stores=file_closing_stores.parse(\"Closures & Non Movers #1 \",dtype=str)\n",
    "list_closing_22_stores=df_closing_22_stores['Store ID'].unique().tolist()\n",
    "print(len(list_closing_22_stores))\n",
    "\n",
    "df_closing_159_stores=file_closing_stores.parse(\"Additional Stores to Remove #2\",dtype=str)\n",
    "list_closing_159_stores=df_closing_159_stores['Store ID'].unique().tolist()\n",
    "print(len(list_closing_159_stores))\n",
    "\n",
    "list_closing_8_stores=['182','1095','1499','4061','4070','4125','4441','4529']\n",
    "\n",
    "total_closing_stores=list(set(list_closing_8_stores+list_closing_159_stores+list_closing_22_stores))\n",
    "print(\"total_closing_stores: \",len(total_closing_stores))\n",
    "total_closing_stores=[x for x in total_closing_stores if x not in stores_add_back_list]\n",
    "print(\"total_closing_stores added back: \",len(total_closing_stores))"
   ]
  },
  {
   "cell_type": "code",
   "execution_count": 5,
   "metadata": {},
   "outputs": [
    {
     "data": {
      "text/plain": [
       "['unique_zips_full_footprint',\n",
       " 'view_by_TA',\n",
       " 'view_by_store',\n",
       " 'view_for_Tableau']"
      ]
     },
     "execution_count": 5,
     "metadata": {},
     "output_type": "execute_result"
    }
   ],
   "source": [
    "output_20190718=pd.ExcelFile(\"/home/jian/Projects/Big_Lots/New_TA/TA_created_in_201906/final_output_20190718/BL_final_TA_updated_JL_2019-07-18.xlsx\")\n",
    "output_20190718.sheet_names"
   ]
  },
  {
   "cell_type": "code",
   "execution_count": 6,
   "metadata": {
    "collapsed": true
   },
   "outputs": [],
   "source": [
    "df_old_by_store=output_20190718.parse(\"view_by_store\",dtype=str)\n",
    "df_old_by_store['TA_num']=df_old_by_store['TA_num'].astype(int)\n",
    "df_old_by_store_closing=df_old_by_store[df_old_by_store['location_id'].isin(total_closing_stores)]"
   ]
  },
  {
   "cell_type": "code",
   "execution_count": 7,
   "metadata": {},
   "outputs": [
    {
     "name": "stderr",
     "output_type": "stream",
     "text": [
      "/usr/local/lib/python3.6/site-packages/ipykernel_launcher.py:1: SettingWithCopyWarning: \n",
      "A value is trying to be set on a copy of a slice from a DataFrame.\n",
      "Try using .loc[row_indexer,col_indexer] = value instead\n",
      "\n",
      "See the caveats in the documentation: http://pandas.pydata.org/pandas-docs/stable/indexing.html#indexing-view-versus-copy\n",
      "  \"\"\"Entry point for launching an IPython kernel.\n",
      "/usr/local/lib/python3.6/site-packages/ipykernel_launcher.py:2: SettingWithCopyWarning: \n",
      "A value is trying to be set on a copy of a slice from a DataFrame.\n",
      "Try using .loc[row_indexer,col_indexer] = value instead\n",
      "\n",
      "See the caveats in the documentation: http://pandas.pydata.org/pandas-docs/stable/indexing.html#indexing-view-versus-copy\n",
      "  \n"
     ]
    }
   ],
   "source": [
    "df_old_by_store_closing['trans_P_zips_70_within_TA']=df_old_by_store_closing['trans_P_zips_70_within_TA'].apply(eval)\n",
    "df_old_by_store_closing['trans_S_zips_70_within_TA']=df_old_by_store_closing['trans_S_zips_70_within_TA'].apply(eval)\n",
    "\n",
    "list_zips_for_closing_stores=df_old_by_store_closing['trans_P_zips_70_within_TA'].sum()+df_old_by_store_closing['trans_S_zips_70_within_TA'].sum()\n",
    "list_zips_for_closing_stores=list(set(list_zips_for_closing_stores))\n",
    "\n",
    "df_new_by_store=df_old_by_store[~df_old_by_store['location_id'].isin(total_closing_stores)]\n",
    "df_new_by_store=df_new_by_store.sort_values(\"TA_num\")"
   ]
  },
  {
   "cell_type": "code",
   "execution_count": 8,
   "metadata": {},
   "outputs": [
    {
     "data": {
      "text/plain": [
       "(1227, 17)"
      ]
     },
     "execution_count": 8,
     "metadata": {},
     "output_type": "execute_result"
    }
   ],
   "source": [
    "df_new_by_store['zips_in_10']=df_new_by_store['zips_in_10'].apply(eval)\n",
    "df_new_by_store['trans_P_zips_70_within_TA']=df_new_by_store['trans_P_zips_70_within_TA'].apply(eval)\n",
    "df_new_by_store['trans_S_zips_70_within_TA']=df_new_by_store['trans_S_zips_70_within_TA'].apply(eval)\n",
    "\n",
    "df_new_by_store.shape"
   ]
  },
  {
   "cell_type": "code",
   "execution_count": 9,
   "metadata": {},
   "outputs": [
    {
     "name": "stdout",
     "output_type": "stream",
     "text": [
      "(627, 6)\n"
     ]
    },
    {
     "data": {
      "text/html": [
       "<div>\n",
       "<style>\n",
       "    .dataframe thead tr:only-child th {\n",
       "        text-align: right;\n",
       "    }\n",
       "\n",
       "    .dataframe thead th {\n",
       "        text-align: left;\n",
       "    }\n",
       "\n",
       "    .dataframe tbody tr th {\n",
       "        vertical-align: top;\n",
       "    }\n",
       "</style>\n",
       "<table border=\"1\" class=\"dataframe\">\n",
       "  <thead>\n",
       "    <tr style=\"text-align: right;\">\n",
       "      <th></th>\n",
       "      <th>TA_num</th>\n",
       "      <th>ta_name</th>\n",
       "      <th>store_list</th>\n",
       "      <th>trans_P_zips</th>\n",
       "      <th>trans_S_zips</th>\n",
       "      <th>distance_10_zips</th>\n",
       "      <th>store_count</th>\n",
       "    </tr>\n",
       "  </thead>\n",
       "  <tbody>\n",
       "    <tr>\n",
       "      <th>0</th>\n",
       "      <td>1</td>\n",
       "      <td>multiple_1</td>\n",
       "      <td>[1255, 4589, 1462, 1949, 1878, 1650, 4143, 413...</td>\n",
       "      <td>[76208, 75043, 75407, 76092, 75090, 76210, 751...</td>\n",
       "      <td>[76053, 75424, 76208, 76092, 75090, 76210, 734...</td>\n",
       "      <td>[]</td>\n",
       "      <td>20</td>\n",
       "    </tr>\n",
       "    <tr>\n",
       "      <th>1</th>\n",
       "      <td>2</td>\n",
       "      <td>multiple_2</td>\n",
       "      <td>[5220, 1379, 1079, 1449, 1668, 5092, 5356, 537...</td>\n",
       "      <td>[43318, 43040, 43065, 43123, 43078, 44906, 437...</td>\n",
       "      <td>[43347, 43011, 43050, 43235, 43822, 43773, 430...</td>\n",
       "      <td>[]</td>\n",
       "      <td>16</td>\n",
       "    </tr>\n",
       "  </tbody>\n",
       "</table>\n",
       "</div>"
      ],
      "text/plain": [
       "   TA_num     ta_name                                         store_list  \\\n",
       "0       1  multiple_1  [1255, 4589, 1462, 1949, 1878, 1650, 4143, 413...   \n",
       "1       2  multiple_2  [5220, 1379, 1079, 1449, 1668, 5092, 5356, 537...   \n",
       "\n",
       "                                        trans_P_zips  \\\n",
       "0  [76208, 75043, 75407, 76092, 75090, 76210, 751...   \n",
       "1  [43318, 43040, 43065, 43123, 43078, 44906, 437...   \n",
       "\n",
       "                                        trans_S_zips distance_10_zips  \\\n",
       "0  [76053, 75424, 76208, 76092, 75090, 76210, 734...               []   \n",
       "1  [43347, 43011, 43050, 43235, 43822, 43773, 430...               []   \n",
       "\n",
       "   store_count  \n",
       "0           20  \n",
       "1           16  "
      ]
     },
     "execution_count": 9,
     "metadata": {},
     "output_type": "execute_result"
    }
   ],
   "source": [
    "df_new_by_TA_stores=df_new_by_store.groupby([\"TA_num\",'ta_name'])['location_id'].apply(list).to_frame().reset_index().rename(columns={\"location_id\":\"store_list\"})\n",
    "df_new_by_TA_P_S_10_zips=df_new_by_store.groupby([\"TA_num\",'ta_name'])['trans_P_zips_70_within_TA','trans_S_zips_70_within_TA','zips_in_10'].sum().reset_index()\n",
    "df_new_by_TA_P_S_10_zips=df_new_by_TA_P_S_10_zips.rename(columns={\"trans_P_zips_70_within_TA\":\"trans_P_zips\",\"trans_S_zips_70_within_TA\":\"trans_S_zips\",\"zips_in_10\":\"distance_10_zips\"})\n",
    "df_new_by_TA=pd.merge(df_new_by_TA_stores,df_new_by_TA_P_S_10_zips,on=[\"TA_num\",'ta_name'],how=\"outer\")\n",
    "print(df_new_by_TA.shape)\n",
    "\n",
    "for col in ['store_list','trans_P_zips','trans_S_zips','distance_10_zips']:\n",
    "    df_new_by_TA[col]=df_new_by_TA[col].apply(lambda x: list(set(x)))\n",
    "df_new_by_TA['store_count']=df_new_by_TA['store_list'].apply(len)\n",
    "df_new_by_TA=df_new_by_TA.sort_values(\"TA_num\")\n",
    "df_new_by_TA.head(2)"
   ]
  },
  {
   "cell_type": "code",
   "execution_count": 10,
   "metadata": {},
   "outputs": [
    {
     "name": "stdout",
     "output_type": "stream",
     "text": [
      "(706, 7)\n"
     ]
    },
    {
     "data": {
      "text/html": [
       "<div>\n",
       "<style>\n",
       "    .dataframe thead tr:only-child th {\n",
       "        text-align: right;\n",
       "    }\n",
       "\n",
       "    .dataframe thead th {\n",
       "        text-align: left;\n",
       "    }\n",
       "\n",
       "    .dataframe tbody tr th {\n",
       "        vertical-align: top;\n",
       "    }\n",
       "</style>\n",
       "<table border=\"1\" class=\"dataframe\">\n",
       "  <thead>\n",
       "    <tr style=\"text-align: right;\">\n",
       "      <th></th>\n",
       "      <th>TA_num</th>\n",
       "      <th>ta_name</th>\n",
       "      <th>store_list</th>\n",
       "      <th>trans_P_zips</th>\n",
       "      <th>trans_S_zips</th>\n",
       "      <th>distance_10_zips</th>\n",
       "      <th>store_count</th>\n",
       "    </tr>\n",
       "  </thead>\n",
       "  <tbody>\n",
       "    <tr>\n",
       "      <th>0</th>\n",
       "      <td>1</td>\n",
       "      <td>multiple_1</td>\n",
       "      <td>['1949', '1255', '4543', '1027', '1072', '1106...</td>\n",
       "      <td>['75002', '75006', '75007', '75020', '75023', ...</td>\n",
       "      <td>['73448', '73459', '74701', '74733', '75001', ...</td>\n",
       "      <td>nan</td>\n",
       "      <td>21</td>\n",
       "    </tr>\n",
       "    <tr>\n",
       "      <th>1</th>\n",
       "      <td>2</td>\n",
       "      <td>multiple_2</td>\n",
       "      <td>['5220', '5356', '1666', '1667', '1668', '77',...</td>\n",
       "      <td>['43015', '43016', '43017', '43021', '43026', ...</td>\n",
       "      <td>['43003', '43004', '43008', '43009', '43011', ...</td>\n",
       "      <td>nan</td>\n",
       "      <td>17</td>\n",
       "    </tr>\n",
       "  </tbody>\n",
       "</table>\n",
       "</div>"
      ],
      "text/plain": [
       "  TA_num     ta_name                                         store_list  \\\n",
       "0      1  multiple_1  ['1949', '1255', '4543', '1027', '1072', '1106...   \n",
       "1      2  multiple_2  ['5220', '5356', '1666', '1667', '1668', '77',...   \n",
       "\n",
       "                                        trans_P_zips  \\\n",
       "0  ['75002', '75006', '75007', '75020', '75023', ...   \n",
       "1  ['43015', '43016', '43017', '43021', '43026', ...   \n",
       "\n",
       "                                        trans_S_zips distance_10_zips  \\\n",
       "0  ['73448', '73459', '74701', '74733', '75001', ...              nan   \n",
       "1  ['43003', '43004', '43008', '43009', '43011', ...              nan   \n",
       "\n",
       "  store_count  \n",
       "0          21  \n",
       "1          17  "
      ]
     },
     "execution_count": 10,
     "metadata": {},
     "output_type": "execute_result"
    }
   ],
   "source": [
    "df_old_by_TA=output_20190718.parse(\"view_by_TA\",dtype=str)\n",
    "print(df_old_by_TA.shape)\n",
    "df_old_by_TA.head(2)"
   ]
  },
  {
   "cell_type": "code",
   "execution_count": 11,
   "metadata": {},
   "outputs": [
    {
     "name": "stdout",
     "output_type": "stream",
     "text": [
      "(12980, 2)\n"
     ]
    },
    {
     "data": {
      "text/plain": [
       "array(['trans_P', 'trans_S', 'zips_10'], dtype=object)"
      ]
     },
     "execution_count": 11,
     "metadata": {},
     "output_type": "execute_result"
    }
   ],
   "source": [
    "df_old_unique_zips_full_footprint=output_20190718.parse(\"unique_zips_full_footprint\",dtype=str)\n",
    "print(df_old_unique_zips_full_footprint.shape)\n",
    "df_old_unique_zips_full_footprint['zip_type'].unique()"
   ]
  },
  {
   "cell_type": "code",
   "execution_count": 12,
   "metadata": {},
   "outputs": [
    {
     "name": "stdout",
     "output_type": "stream",
     "text": [
      "(11878, 2)\n"
     ]
    }
   ],
   "source": [
    "df_new_unique_zips_full_footprint=pd.DataFrame(columns={\"zip_type\",'zip_cd'})\n",
    "#\n",
    "all_P_zips=list(set(df_new_by_TA['trans_P_zips'].sum()))\n",
    "all_S_zips=list(set(df_new_by_TA['trans_S_zips'].sum()))\n",
    "all_10_zips=list(set(df_new_by_TA['distance_10_zips'].sum()))\n",
    "#\n",
    "all_S_zips=[x for x in all_S_zips if x not in all_P_zips]\n",
    "#\n",
    "all_10_zips=[x for x in all_10_zips if x not in all_P_zips]\n",
    "all_10_zips=[x for x in all_10_zips if x not in all_S_zips]\n",
    "\n",
    "\n",
    "df_P_zips=pd.DataFrame({\"zip_type\":[\"trans_P\"]*len(all_P_zips),\"zip_cd\":all_P_zips},index=[x for x in range(len(all_P_zips))])\n",
    "\n",
    "df_S_zips=pd.DataFrame({\"zip_type\":[\"trans_S\"]*len(all_S_zips),\"zip_cd\":all_S_zips},index=[x for x in range(len(all_S_zips))])\n",
    "\n",
    "df_10_zips=pd.DataFrame({\"zip_type\":[\"zips_10\"]*len(all_10_zips),\"zip_cd\":all_10_zips},index=[x for x in range(len(all_10_zips))])\n",
    "df_new_unique_zips_full_footprint=pd.concat([df_P_zips,df_S_zips,df_10_zips])\n",
    "print(df_new_unique_zips_full_footprint.shape)"
   ]
  },
  {
   "cell_type": "code",
   "execution_count": 13,
   "metadata": {
    "collapsed": true
   },
   "outputs": [],
   "source": [
    "df_new_unique_zips_full_footprint=df_new_unique_zips_full_footprint[['zip_type','zip_cd']]"
   ]
  },
  {
   "cell_type": "code",
   "execution_count": 14,
   "metadata": {
    "collapsed": true
   },
   "outputs": [],
   "source": [
    "writer=pd.ExcelWriter(\"./BL_final_TA_updated_remove_8_22_159_stores_added_back_7_JL_\"+str(datetime.datetime.now().date())+\".xlsx\",engine=\"xlsxwriter\")\n",
    "df_new_unique_zips_full_footprint.to_excel(writer,\"unique_zips_full_footprint\",index=False)\n",
    "df_new_by_TA.to_excel(writer,\"view_by_TA\",index=False)\n",
    "df_new_by_store.to_excel(writer,\"view_by_store\",index=False)\n",
    "df_store_removed=pd.DataFrame({\"removed_stores\":total_closing_stores},index=[x for x in range(len(total_closing_stores))])\n",
    "df_store_removed.to_excel(writer,\"stores_removed\",index=False)\n",
    "writer.save()"
   ]
  },
  {
   "cell_type": "code",
   "execution_count": null,
   "metadata": {
    "collapsed": true
   },
   "outputs": [],
   "source": []
  },
  {
   "cell_type": "code",
   "execution_count": null,
   "metadata": {
    "collapsed": true
   },
   "outputs": [],
   "source": []
  }
 ],
 "metadata": {
  "kernelspec": {
   "display_name": "Python 3",
   "language": "python",
   "name": "python3"
  },
  "language_info": {
   "codemirror_mode": {
    "name": "ipython",
    "version": 3
   },
   "file_extension": ".py",
   "mimetype": "text/x-python",
   "name": "python",
   "nbconvert_exporter": "python",
   "pygments_lexer": "ipython3",
   "version": "3.6.1"
  }
 },
 "nbformat": 4,
 "nbformat_minor": 2
}
