{
 "cells": [
  {
   "cell_type": "code",
   "execution_count": 1,
   "metadata": {},
   "outputs": [],
   "source": [
    "import pandas as pd\n",
    "import os\n",
    "import datetime"
   ]
  },
  {
   "cell_type": "code",
   "execution_count": 2,
   "metadata": {},
   "outputs": [
    {
     "data": {
      "text/html": [
       "<div>\n",
       "<style scoped>\n",
       "    .dataframe tbody tr th:only-of-type {\n",
       "        vertical-align: middle;\n",
       "    }\n",
       "\n",
       "    .dataframe tbody tr th {\n",
       "        vertical-align: top;\n",
       "    }\n",
       "\n",
       "    .dataframe thead th {\n",
       "        text-align: right;\n",
       "    }\n",
       "</style>\n",
       "<table border=\"1\" class=\"dataframe\">\n",
       "  <thead>\n",
       "    <tr style=\"text-align: right;\">\n",
       "      <th></th>\n",
       "      <th>location_id</th>\n",
       "      <th>location_desc</th>\n",
       "      <th>open_dt</th>\n",
       "      <th>close_dt</th>\n",
       "      <th>address_line_1</th>\n",
       "      <th>address_line_2</th>\n",
       "      <th>city_nm</th>\n",
       "      <th>state_nm</th>\n",
       "      <th>zip_cd</th>\n",
       "      <th>longitude_meas</th>\n",
       "      <th>latitude_meas</th>\n",
       "      <th>sales_square_feet</th>\n",
       "      <th>furniture_sales_square_feet</th>\n",
       "    </tr>\n",
       "  </thead>\n",
       "  <tbody>\n",
       "    <tr>\n",
       "      <th>0</th>\n",
       "      <td>1</td>\n",
       "      <td>BERWICK SHOPPING CENTER</td>\n",
       "      <td>1983-09-15</td>\n",
       "      <td>NaN</td>\n",
       "      <td>2837 WINCHESTER PIKE</td>\n",
       "      <td>NaN</td>\n",
       "      <td>COLUMBUS</td>\n",
       "      <td>OH</td>\n",
       "      <td>43232-9301</td>\n",
       "      <td>-82.914789</td>\n",
       "      <td>39.913636</td>\n",
       "      <td>29217.0</td>\n",
       "      <td>6692.0</td>\n",
       "    </tr>\n",
       "    <tr>\n",
       "      <th>1</th>\n",
       "      <td>29</td>\n",
       "      <td>ATHENS SHOPPING CENTER</td>\n",
       "      <td>1984-03-26</td>\n",
       "      <td>NaN</td>\n",
       "      <td>918 E STATE ST</td>\n",
       "      <td>NaN</td>\n",
       "      <td>ATHENS</td>\n",
       "      <td>OH</td>\n",
       "      <td>45701-2188</td>\n",
       "      <td>-82.069765</td>\n",
       "      <td>39.337172</td>\n",
       "      <td>26545.0</td>\n",
       "      <td>5694.0</td>\n",
       "    </tr>\n",
       "  </tbody>\n",
       "</table>\n",
       "</div>"
      ],
      "text/plain": [
       "  location_id            location_desc     open_dt close_dt  \\\n",
       "0           1  BERWICK SHOPPING CENTER  1983-09-15      NaN   \n",
       "1          29   ATHENS SHOPPING CENTER  1984-03-26      NaN   \n",
       "\n",
       "         address_line_1 address_line_2   city_nm state_nm      zip_cd  \\\n",
       "0  2837 WINCHESTER PIKE            NaN  COLUMBUS       OH  43232-9301   \n",
       "1        918 E STATE ST            NaN    ATHENS       OH  45701-2188   \n",
       "\n",
       "   longitude_meas  latitude_meas  sales_square_feet  \\\n",
       "0      -82.914789      39.913636            29217.0   \n",
       "1      -82.069765      39.337172            26545.0   \n",
       "\n",
       "   furniture_sales_square_feet  \n",
       "0                       6692.0  \n",
       "1                       5694.0  "
      ]
     },
     "execution_count": 2,
     "metadata": {},
     "output_type": "execute_result"
    }
   ],
   "source": [
    "store_list=pd.read_table(\"/home/jian/BigLots/static_files/Store_list/MediaStormStores20200101-135601-098.txt\",\n",
    "                         sep=\"|\",dtype=str)\n",
    "store_list['latitude_meas']=store_list['latitude_meas'].astype(float)\n",
    "store_list['longitude_meas']=store_list['longitude_meas'].astype(float)\n",
    "store_list['sales_square_feet']=store_list['sales_square_feet'].astype(float)\n",
    "store_list['furniture_sales_square_feet']=store_list['furniture_sales_square_feet'].astype(float)\n",
    "\n",
    "store_list.head(2)"
   ]
  },
  {
   "cell_type": "code",
   "execution_count": 3,
   "metadata": {},
   "outputs": [
    {
     "name": "stdout",
     "output_type": "stream",
     "text": [
      "479 479\n",
      "['SOTF']\n"
     ]
    },
    {
     "data": {
      "text/html": [
       "<div>\n",
       "<style scoped>\n",
       "    .dataframe tbody tr th:only-of-type {\n",
       "        vertical-align: middle;\n",
       "    }\n",
       "\n",
       "    .dataframe tbody tr th {\n",
       "        vertical-align: top;\n",
       "    }\n",
       "\n",
       "    .dataframe thead th {\n",
       "        text-align: right;\n",
       "    }\n",
       "</style>\n",
       "<table border=\"1\" class=\"dataframe\">\n",
       "  <thead>\n",
       "    <tr style=\"text-align: right;\">\n",
       "      <th></th>\n",
       "      <th>location_id</th>\n",
       "      <th>Store_Type</th>\n",
       "    </tr>\n",
       "  </thead>\n",
       "  <tbody>\n",
       "    <tr>\n",
       "      <th>0</th>\n",
       "      <td>1</td>\n",
       "      <td>SOTF</td>\n",
       "    </tr>\n",
       "    <tr>\n",
       "      <th>8</th>\n",
       "      <td>49</td>\n",
       "      <td>SOTF</td>\n",
       "    </tr>\n",
       "  </tbody>\n",
       "</table>\n",
       "</div>"
      ],
      "text/plain": [
       "  location_id Store_Type\n",
       "0           1       SOTF\n",
       "8          49       SOTF"
      ]
     },
     "execution_count": 3,
     "metadata": {},
     "output_type": "execute_result"
    }
   ],
   "source": [
    "df_store_type=pd.ExcelFile(\"/home/jian/Projects/Big_Lots/Live_Ramp/Quarterly_Update_2020Q1/other_input/BL Store List Report from Dom 12.20.19.xlsx\")\n",
    "df_store_type=df_store_type.parse(\"Store List\",dtype=str)\n",
    "df_store_type=df_store_type[[\"Store\",'SOTF']]\n",
    "df_store_type=df_store_type[df_store_type['SOTF']==\"Yes\"]\n",
    "df_store_type=df_store_type[df_store_type['Store']!=\"TBD\"]\n",
    "print(len(df_store_type),df_store_type['Store'].nunique())\n",
    "df_store_type=df_store_type.rename(columns={\"Store\":\"location_id\",\"SOTF\":\"Store_Type\"})\n",
    "df_store_type['Store_Type']=df_store_type['Store_Type'].replace({\"Yes\":\"SOTF\"})\n",
    "print(df_store_type['Store_Type'].unique())\n",
    "df_store_type.head(2)"
   ]
  },
  {
   "cell_type": "code",
   "execution_count": 4,
   "metadata": {},
   "outputs": [],
   "source": [
    "store_list=pd.merge(store_list,df_store_type,on=\"location_id\",how=\"left\")\n",
    "writer=pd.ExcelWriter(\"./BL_store_list_with_SOTF_indicator_JL_\"+str(datetime.datetime.now().date())+\".xlsx\",engine=\"xlsxwriter\")\n",
    "store_list[pd.notnull(store_list['Store_Type'])].to_excel(writer,\"SOTF_addresses\",index=False)\n",
    "store_list.to_excel(writer,\"all_address\",index=False)\n",
    "writer.save()"
   ]
  },
  {
   "cell_type": "code",
   "execution_count": null,
   "metadata": {},
   "outputs": [],
   "source": []
  }
 ],
 "metadata": {
  "kernelspec": {
   "display_name": "Python 3",
   "language": "python",
   "name": "python3"
  },
  "language_info": {
   "codemirror_mode": {
    "name": "ipython",
    "version": 3
   },
   "file_extension": ".py",
   "mimetype": "text/x-python",
   "name": "python",
   "nbconvert_exporter": "python",
   "pygments_lexer": "ipython3",
   "version": "3.6.1"
  }
 },
 "nbformat": 4,
 "nbformat_minor": 2
}
