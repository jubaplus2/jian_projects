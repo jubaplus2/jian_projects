{
 "cells": [
  {
   "cell_type": "code",
   "execution_count": 1,
   "metadata": {
    "collapsed": true
   },
   "outputs": [],
   "source": [
    "import pandas as pd\n",
    "import datetime\n",
    "import numpy as np"
   ]
  },
  {
   "cell_type": "code",
   "execution_count": 2,
   "metadata": {
    "collapsed": true
   },
   "outputs": [],
   "source": [
    "# Period 2018: [2018-08-11, 2018-11-03]\n"
   ]
  },
  {
   "cell_type": "code",
   "execution_count": 3,
   "metadata": {
    "collapsed": true
   },
   "outputs": [],
   "source": [
    "sales_all=pd.read_csv(\"/home/jian/BiglotsCode/outputs/combined_sales_long_2018-06-16.csv\",dtype=str)\n",
    "sales_all['sales']=sales_all['sales'].astype(float)\n",
    "sales_all['week_end_date']=sales_all['week_end_date'].apply(lambda x: datetime.datetime.strptime(x,\"%Y-%m-%d\").date())\n",
    "sales_all_2017_Q3=sales_all[(sales_all['week_end_date']>=datetime.date(2018,8,11)-datetime.timedelta(days=52*7)) &\\\n",
    "                           (sales_all['week_end_date']<=datetime.date(2018,11,3)-datetime.timedelta(days=52*7))]\n",
    "sales_all_2017_Q3=sales_all_2017_Q3[sales_all_2017_Q3['sales']>0]\n",
    "US_Sales=sales_all_2017_Q3['sales'].sum()"
   ]
  },
  {
   "cell_type": "code",
   "execution_count": 4,
   "metadata": {
    "collapsed": true
   },
   "outputs": [],
   "source": [
    "Store_DMA=pd.read_excel(\"/home/jian/Projects/Big_Lots/Other_Input/all_store_DMA_20180620.xlsx\",dtype=str)\n",
    "Store_DMA=Store_DMA[['location_id','DMA']].drop_duplicates()"
   ]
  },
  {
   "cell_type": "code",
   "execution_count": 5,
   "metadata": {
    "collapsed": true
   },
   "outputs": [],
   "source": [
    "sales_all_2017_Q3=pd.merge(sales_all_2017_Q3,Store_DMA,on=\"location_id\",how=\"left\")"
   ]
  },
  {
   "cell_type": "code",
   "execution_count": 6,
   "metadata": {
    "collapsed": true
   },
   "outputs": [],
   "source": [
    "sales_all_2017_Q3_DMA=sales_all_2017_Q3.groupby(['DMA'])['sales'].sum().to_frame().reset_index()"
   ]
  },
  {
   "cell_type": "code",
   "execution_count": 7,
   "metadata": {},
   "outputs": [
    {
     "data": {
      "text/plain": [
       "(186, 2)"
      ]
     },
     "execution_count": 7,
     "metadata": {},
     "output_type": "execute_result"
    }
   ],
   "source": [
    "sales_all_2017_Q3_DMA.shape"
   ]
  },
  {
   "cell_type": "code",
   "execution_count": 8,
   "metadata": {},
   "outputs": [
    {
     "name": "stderr",
     "output_type": "stream",
     "text": [
      "/usr/local/lib/python3.6/site-packages/ipykernel_launcher.py:50: SettingWithCopyWarning: \n",
      "A value is trying to be set on a copy of a slice from a DataFrame.\n",
      "Try using .loc[row_indexer,col_indexer] = value instead\n",
      "\n",
      "See the caveats in the documentation: http://pandas.pydata.org/pandas-docs/stable/indexing.html#indexing-view-versus-copy\n"
     ]
    }
   ],
   "source": [
    "all_zips=pd.read_excel(\"/home/jian/Projects/Big_Lots/New_TA/P_S_Selections/BL_All Zips with Q2 Label_JL_20180402 new label.xlsx\",dtype=str)\n",
    "\n",
    "del all_zips['Store 2017 Q2 Sales Label']\n",
    "\n",
    "Store_List_From_Dom=pd.read_excel(\"/home/jian/Projects/Big_Lots/New_TA/P_S_Selections/Store List 6.14.18 225PM.xlsx\",dtype=str,sheetname=\"Store List\")\n",
    "Store_List_From_Dom=Store_List_From_Dom.iloc[0:1415,:]\n",
    "# scheduled_close_store=['213','430','575','1233']\n",
    "# Store_List_From_Dom=Store_List_From_Dom[~Store_List_From_Dom['Store'].isin(scheduled_close_store)]\n",
    "# Keep the scheduled stores\n",
    "Store_List_From_Dom=Store_List_From_Dom[['Store','City','ST','Open Date']]\n",
    "\n",
    "Sales_Store=pd.read_csv(\"/home/jian/BiglotsCode/outputs/combined_sales_long_2018-06-09.csv\",dtype=str)\n",
    "Sales_Store=Sales_Store[Sales_Store['location_id'].isin(Store_List_From_Dom['Store'])]\n",
    "Sales_Store['week_end_date']=Sales_Store['week_end_date'].apply(lambda x: datetime.datetime.strptime(x,\"%Y-%m-%d\").date())\n",
    "Sales_Store['sales']=Sales_Store['sales'].astype(float)\n",
    "Sales_Store=Sales_Store[Sales_Store['sales']>0]\n",
    "\n",
    "\n",
    "Sales_Store_Q3_2017=Sales_Store[(Sales_Store['week_end_date']>= datetime.date(2017,8,12)) & (Sales_Store['week_end_date']<= datetime.date(2017,11,4))]\n",
    "\n",
    "Sales_Store_Count=Sales_Store_Q3_2017.groupby(['location_id'])['week_end_date'].count().to_frame().reset_index()\n",
    "Sales_Store_Count_Not_13=Sales_Store_Count[Sales_Store_Count['week_end_date']!=13]\n",
    "\n",
    "Sales_Store_Before_Q3_2017=Sales_Store[~Sales_Store['location_id'].isin(Sales_Store_Count_Not_13['location_id'])]\n",
    "Sales_Store_Before_Q3_2017=Sales_Store_Before_Q3_2017[Sales_Store_Before_Q3_2017['week_end_date']<datetime.date(2017,8,12)]\n",
    "\n",
    "New_List_1=['310','1964','4193']\n",
    "Avg_List=['550','1053','1801']\n",
    "New_List_2=Sales_Store_Count_Not_13[~Sales_Store_Count_Not_13['location_id'].isin(Avg_List+New_List_1)]['location_id'].tolist()\n",
    "New_List_3=[x for x in Store_List_From_Dom['Store'] if x not in Sales_Store_Q3_2017['location_id'].unique().tolist()]\n",
    "New_List=New_List_1+New_List_2+New_List_3\n",
    "Sales_Store_Before_Q3_2017['location_id'].unique()\n",
    "\n",
    "Sales_Store_Q3_2017=Sales_Store_Q3_2017.groupby(['location_id'])['sales'].sum().to_frame().reset_index()\n",
    "Sales_Store_Q3_2017=Sales_Store_Q3_2017[~Sales_Store_Q3_2017['location_id'].isin(New_List)]\n",
    "Sales_Store_Q3_2017=pd.merge(Sales_Store_Q3_2017,Sales_Store_Count,on=\"location_id\",how=\"left\")\n",
    "Sales_Store_Q3_2017['sales_avg']=Sales_Store_Q3_2017['sales']/Sales_Store_Q3_2017['week_end_date']\n",
    "Sales_Store_Q3_2017['store_sales_label_17Q3']=np.where(Sales_Store_Q3_2017['sales_avg']>=np.percentile(Sales_Store_Q3_2017['sales_avg'],80),\"H\",\n",
    "                                            np.where(Sales_Store_Q3_2017['sales_avg']>=np.percentile(Sales_Store_Q3_2017['sales_avg'],20),\"M\",\"L\")\n",
    "                                            )\n",
    "Sales_Store_Q3_2017_Label=Sales_Store_Q3_2017[['location_id','store_sales_label_17Q3']]\n",
    "\n",
    "Store_List_From_Dom_Label=Store_List_From_Dom[['Store','City','ST','Open Date']].rename(columns={\"Store\":\"location_id\"})\n",
    "Store_List_From_Dom_Label=pd.merge(Store_List_From_Dom_Label,Sales_Store_Q3_2017_Label,on=\"location_id\",how=\"left\")\n",
    "Store_List_From_Dom_Label['store_sales_label_17Q3']=Store_List_From_Dom_Label['store_sales_label_17Q3'].fillna(\"new\")\n",
    "Store_List_From_Dom_Label=Store_List_From_Dom_Label[['location_id','store_sales_label_17Q3']]\n",
    "\n",
    "all_zips_store=all_zips[all_zips['location_id']!=\"nan\"]\n",
    "all_zips_no_store=all_zips[all_zips['location_id']==\"nan\"]\n",
    "all_zips_no_store['store_sales_label_17Q3']=\"nan\"\n",
    "\n",
    "all_zips_store=pd.merge(all_zips_store,Store_List_From_Dom_Label,on=\"location_id\",how=\"left\")\n",
    "\n",
    "all_zips_store['store_sales_label_17Q3']=all_zips_store['store_sales_label_17Q3'].fillna(\"closed\")\n",
    "all_zips=all_zips_store.append(all_zips_no_store)\n",
    "\n",
    "store_ta_label=all_zips[['location_id','allocated_dma_in_analysis','TA_of_store','store_sales_label_17Q3']]\n",
    "store_ta_label=store_ta_label[~pd.isnull(store_ta_label['store_sales_label_17Q3'])]\n",
    "store_ta_label=store_ta_label[store_ta_label['store_sales_label_17Q3']!='nan']\n",
    "store_ta_label=store_ta_label.drop_duplicates().reset_index()\n",
    "del store_ta_label['index']"
   ]
  },
  {
   "cell_type": "code",
   "execution_count": 9,
   "metadata": {},
   "outputs": [
    {
     "data": {
      "text/html": [
       "<div>\n",
       "<style>\n",
       "    .dataframe thead tr:only-child th {\n",
       "        text-align: right;\n",
       "    }\n",
       "\n",
       "    .dataframe thead th {\n",
       "        text-align: left;\n",
       "    }\n",
       "\n",
       "    .dataframe tbody tr th {\n",
       "        vertical-align: top;\n",
       "    }\n",
       "</style>\n",
       "<table border=\"1\" class=\"dataframe\">\n",
       "  <thead>\n",
       "    <tr style=\"text-align: right;\">\n",
       "      <th></th>\n",
       "      <th>location_id</th>\n",
       "      <th>allocated_dma_in_analysis</th>\n",
       "      <th>TA_of_store</th>\n",
       "      <th>store_sales_label_17Q3</th>\n",
       "    </tr>\n",
       "  </thead>\n",
       "  <tbody>\n",
       "    <tr>\n",
       "      <th>0</th>\n",
       "      <td>1</td>\n",
       "      <td>COLUMBUS, OH</td>\n",
       "      <td>N14</td>\n",
       "      <td>H</td>\n",
       "    </tr>\n",
       "    <tr>\n",
       "      <th>1</th>\n",
       "      <td>3</td>\n",
       "      <td>AUGUSTA-AIKEN</td>\n",
       "      <td>N83</td>\n",
       "      <td>M</td>\n",
       "    </tr>\n",
       "  </tbody>\n",
       "</table>\n",
       "</div>"
      ],
      "text/plain": [
       "  location_id allocated_dma_in_analysis TA_of_store store_sales_label_17Q3\n",
       "0           1              COLUMBUS, OH         N14                      H\n",
       "1           3             AUGUSTA-AIKEN         N83                      M"
      ]
     },
     "execution_count": 9,
     "metadata": {},
     "output_type": "execute_result"
    }
   ],
   "source": [
    "store_ta_label.head(2)"
   ]
  },
  {
   "cell_type": "code",
   "execution_count": 10,
   "metadata": {
    "collapsed": true
   },
   "outputs": [],
   "source": [
    "store_ta_label_open=store_ta_label[store_ta_label['store_sales_label_17Q3']!=\"closed\"]\n",
    "store_ta_label_open=pd.merge(store_ta_label_open,Store_DMA,on=\"location_id\",how=\"left\")\n",
    "\n",
    "store_count_open=store_ta_label_open.groupby(['DMA'])['location_id'].count().to_frame().reset_index()\n",
    "\n",
    "\n",
    "store_ta_label_open_HMnew=store_ta_label_open[store_ta_label_open['store_sales_label_17Q3'].isin(['H','M','new'])]\n",
    "store_count_HMnew=store_ta_label_open_HMnew.groupby(['DMA'])['location_id'].count().to_frame().reset_index()\n",
    "\n"
   ]
  },
  {
   "cell_type": "code",
   "execution_count": 11,
   "metadata": {
    "collapsed": true
   },
   "outputs": [],
   "source": [
    "sales_all_2017_Q3_HMnew=sales_all_2017_Q3[sales_all_2017_Q3['location_id'].isin(store_ta_label_open_HMnew['location_id'])]\n",
    "sales_all_2017_Q3_HMnew=sales_all_2017_Q3_HMnew.groupby(['DMA'])['sales'].sum().to_frame().reset_index()\n",
    "sales_all_2017_Q3_HMnew=sales_all_2017_Q3_HMnew.rename(columns={\"sales\":\"H_M_new_sales\"})"
   ]
  },
  {
   "cell_type": "code",
   "execution_count": 12,
   "metadata": {},
   "outputs": [
    {
     "data": {
      "text/html": [
       "<div>\n",
       "<style>\n",
       "    .dataframe thead tr:only-child th {\n",
       "        text-align: right;\n",
       "    }\n",
       "\n",
       "    .dataframe thead th {\n",
       "        text-align: left;\n",
       "    }\n",
       "\n",
       "    .dataframe tbody tr th {\n",
       "        vertical-align: top;\n",
       "    }\n",
       "</style>\n",
       "<table border=\"1\" class=\"dataframe\">\n",
       "  <thead>\n",
       "    <tr style=\"text-align: right;\">\n",
       "      <th></th>\n",
       "      <th>DMA</th>\n",
       "      <th>H_M_new_sales</th>\n",
       "    </tr>\n",
       "  </thead>\n",
       "  <tbody>\n",
       "    <tr>\n",
       "      <th>0</th>\n",
       "      <td>ABILENE-SWEETWATER</td>\n",
       "      <td>675165.01</td>\n",
       "    </tr>\n",
       "    <tr>\n",
       "      <th>1</th>\n",
       "      <td>ALBANY, GA</td>\n",
       "      <td>733499.31</td>\n",
       "    </tr>\n",
       "  </tbody>\n",
       "</table>\n",
       "</div>"
      ],
      "text/plain": [
       "                  DMA  H_M_new_sales\n",
       "0  ABILENE-SWEETWATER      675165.01\n",
       "1          ALBANY, GA      733499.31"
      ]
     },
     "execution_count": 12,
     "metadata": {},
     "output_type": "execute_result"
    }
   ],
   "source": [
    "sales_all_2017_Q3_HMnew.head(2)"
   ]
  },
  {
   "cell_type": "code",
   "execution_count": 21,
   "metadata": {
    "collapsed": true
   },
   "outputs": [],
   "source": [
    "TA_count=pd.read_excel(\"/home/jian/Projects/Big_Lots/New_TA/P_S_Selections/Q3_2018/BL_zips_by_dma_by_ta_JL_2018-06-19.xlsx\",sheetname=\"all_12_DMAs\")\n",
    "TA_count=TA_count[['DMA','TA']].drop_duplicates()\n",
    "TA_count=TA_count.groupby(['DMA'])['TA'].count().to_frame().reset_index()"
   ]
  },
  {
   "cell_type": "code",
   "execution_count": null,
   "metadata": {
    "collapsed": true
   },
   "outputs": [],
   "source": []
  },
  {
   "cell_type": "code",
   "execution_count": 48,
   "metadata": {},
   "outputs": [
    {
     "data": {
      "text/html": [
       "<div>\n",
       "<style>\n",
       "    .dataframe thead tr:only-child th {\n",
       "        text-align: right;\n",
       "    }\n",
       "\n",
       "    .dataframe thead th {\n",
       "        text-align: left;\n",
       "    }\n",
       "\n",
       "    .dataframe tbody tr th {\n",
       "        vertical-align: top;\n",
       "    }\n",
       "</style>\n",
       "<table border=\"1\" class=\"dataframe\">\n",
       "  <thead>\n",
       "    <tr style=\"text-align: right;\">\n",
       "      <th></th>\n",
       "      <th>Market</th>\n",
       "      <th>Markets_Type</th>\n",
       "    </tr>\n",
       "  </thead>\n",
       "  <tbody>\n",
       "    <tr>\n",
       "      <th>0</th>\n",
       "      <td>PHOENIX (PRESCOTT)</td>\n",
       "      <td>Q3_DMA</td>\n",
       "    </tr>\n",
       "    <tr>\n",
       "      <th>1</th>\n",
       "      <td>FT. MYERS-NAPLES</td>\n",
       "      <td>Q3_DMA</td>\n",
       "    </tr>\n",
       "  </tbody>\n",
       "</table>\n",
       "</div>"
      ],
      "text/plain": [
       "               Market Markets_Type\n",
       "0  PHOENIX (PRESCOTT)       Q3_DMA\n",
       "1    FT. MYERS-NAPLES       Q3_DMA"
      ]
     },
     "execution_count": 48,
     "metadata": {},
     "output_type": "execute_result"
    }
   ],
   "source": [
    "DMA_List=pd.read_excel(\"/home/jian/Projects/Big_Lots/New_TA/P_S_Selections/Q3_Markets.xlsx\",dtype=str)\n",
    "DMA_List.head(2)"
   ]
  },
  {
   "cell_type": "code",
   "execution_count": null,
   "metadata": {},
   "outputs": [],
   "source": []
  },
  {
   "cell_type": "code",
   "execution_count": 58,
   "metadata": {},
   "outputs": [],
   "source": [
    "output_table=DMA_List.rename(columns={\"Market\":\"DMA\",\"Markets_Type\":\"Previous_Campaign\"})\n",
    "output_table['Previous_Campaign']=np.nan\n",
    "\n",
    "output_table=pd.merge(output_table,store_count_open,on=\"DMA\",how=\"left\")\n",
    "output_table=output_table.rename(columns={\"location_id\":\"Total_Stores\"})\n",
    "\n",
    "output_table=pd.merge(output_table,sales_all_2017_Q3_DMA,on=\"DMA\",how=\"left\")\n",
    "output_table=output_table.rename(columns={\"sales\":\"Total_2017_Q3_Sales\"})\n",
    "output_table['DMA (all_stores) Share of US']=output_table['Total_2017_Q3_Sales']/US_Sales\n",
    "\n",
    "output_table=pd.merge(output_table,store_count_HMnew,on=\"DMA\",how=\"left\")\n",
    "output_table=output_table.rename(columns={\"location_id\":\"H/M/new store counts\"})\n",
    "\n",
    "output_table=pd.merge(output_table,TA_count,on=\"DMA\",how=\"left\")\n",
    "output_table=output_table.rename(columns={\"TA\":\"Trade Area Counts\"})\n",
    "\n",
    "output_table=pd.merge(output_table,sales_all_2017_Q3_HMnew,on=\"DMA\",how=\"left\")\n",
    "output_table=output_table.rename(columns={\"H_M_new_sales\":\"Total_DMA_Sales_of_H_M_new_stores\"})\n",
    "output_table['% Total DMA Sales']=output_table['Total_DMA_Sales_of_H_M_new_stores']/output_table['Total_2017_Q3_Sales']\n",
    "output_table['DMA (H/M/new) Share of US']=output_table['Total_DMA_Sales_of_H_M_new_stores']/US_Sales"
   ]
  },
  {
   "cell_type": "code",
   "execution_count": 59,
   "metadata": {},
   "outputs": [
    {
     "data": {
      "text/html": [
       "<div>\n",
       "<style>\n",
       "    .dataframe thead tr:only-child th {\n",
       "        text-align: right;\n",
       "    }\n",
       "\n",
       "    .dataframe thead th {\n",
       "        text-align: left;\n",
       "    }\n",
       "\n",
       "    .dataframe tbody tr th {\n",
       "        vertical-align: top;\n",
       "    }\n",
       "</style>\n",
       "<table border=\"1\" class=\"dataframe\">\n",
       "  <thead>\n",
       "    <tr style=\"text-align: right;\">\n",
       "      <th></th>\n",
       "      <th>DMA</th>\n",
       "      <th>Previous_Campaign</th>\n",
       "      <th>Total_Stores</th>\n",
       "      <th>Total_2017_Q3_Sales</th>\n",
       "      <th>DMA (all_stores) Share of US</th>\n",
       "      <th>H/M/new store counts</th>\n",
       "      <th>Trade Area Counts</th>\n",
       "      <th>Total_DMA_Sales_of_H_M_new_stores</th>\n",
       "      <th>% Total DMA Sales</th>\n",
       "      <th>DMA (H/M/new) Share of US</th>\n",
       "    </tr>\n",
       "  </thead>\n",
       "  <tbody>\n",
       "    <tr>\n",
       "      <th>0</th>\n",
       "      <td>PHOENIX (PRESCOTT)</td>\n",
       "      <td>NaN</td>\n",
       "      <td>26</td>\n",
       "      <td>19172729.14</td>\n",
       "      <td>0.017292</td>\n",
       "      <td>26</td>\n",
       "      <td>7</td>\n",
       "      <td>18818497.79</td>\n",
       "      <td>0.981524</td>\n",
       "      <td>0.016973</td>\n",
       "    </tr>\n",
       "    <tr>\n",
       "      <th>1</th>\n",
       "      <td>FT. MYERS-NAPLES</td>\n",
       "      <td>NaN</td>\n",
       "      <td>8</td>\n",
       "      <td>6329943.91</td>\n",
       "      <td>0.005709</td>\n",
       "      <td>7</td>\n",
       "      <td>2</td>\n",
       "      <td>5703506.30</td>\n",
       "      <td>0.901036</td>\n",
       "      <td>0.005144</td>\n",
       "    </tr>\n",
       "    <tr>\n",
       "      <th>2</th>\n",
       "      <td>BALTIMORE</td>\n",
       "      <td>NaN</td>\n",
       "      <td>16</td>\n",
       "      <td>13267892.79</td>\n",
       "      <td>0.011966</td>\n",
       "      <td>14</td>\n",
       "      <td>3</td>\n",
       "      <td>12063456.73</td>\n",
       "      <td>0.909222</td>\n",
       "      <td>0.010880</td>\n",
       "    </tr>\n",
       "    <tr>\n",
       "      <th>3</th>\n",
       "      <td>CHATTANOOGA</td>\n",
       "      <td>NaN</td>\n",
       "      <td>8</td>\n",
       "      <td>5550321.46</td>\n",
       "      <td>0.005006</td>\n",
       "      <td>6</td>\n",
       "      <td>3</td>\n",
       "      <td>4438051.08</td>\n",
       "      <td>0.799603</td>\n",
       "      <td>0.004003</td>\n",
       "    </tr>\n",
       "    <tr>\n",
       "      <th>4</th>\n",
       "      <td>SACRAMNTO-STKTON-MODESTO</td>\n",
       "      <td>NaN</td>\n",
       "      <td>20</td>\n",
       "      <td>18180277.47</td>\n",
       "      <td>0.016397</td>\n",
       "      <td>19</td>\n",
       "      <td>5</td>\n",
       "      <td>16981980.15</td>\n",
       "      <td>0.934088</td>\n",
       "      <td>0.015316</td>\n",
       "    </tr>\n",
       "    <tr>\n",
       "      <th>5</th>\n",
       "      <td>FRESNO-VISALIA</td>\n",
       "      <td>NaN</td>\n",
       "      <td>9</td>\n",
       "      <td>6420003.33</td>\n",
       "      <td>0.005790</td>\n",
       "      <td>7</td>\n",
       "      <td>4</td>\n",
       "      <td>5287412.98</td>\n",
       "      <td>0.823584</td>\n",
       "      <td>0.004769</td>\n",
       "    </tr>\n",
       "    <tr>\n",
       "      <th>6</th>\n",
       "      <td>MIAMI-FT. LAUDERDALE</td>\n",
       "      <td>NaN</td>\n",
       "      <td>13</td>\n",
       "      <td>14167665.18</td>\n",
       "      <td>0.012778</td>\n",
       "      <td>13</td>\n",
       "      <td>3</td>\n",
       "      <td>14167665.18</td>\n",
       "      <td>1.000000</td>\n",
       "      <td>0.012778</td>\n",
       "    </tr>\n",
       "    <tr>\n",
       "      <th>7</th>\n",
       "      <td>LAS VEGAS</td>\n",
       "      <td>NaN</td>\n",
       "      <td>9</td>\n",
       "      <td>8302259.20</td>\n",
       "      <td>0.007488</td>\n",
       "      <td>9</td>\n",
       "      <td>1</td>\n",
       "      <td>8302259.20</td>\n",
       "      <td>1.000000</td>\n",
       "      <td>0.007488</td>\n",
       "    </tr>\n",
       "    <tr>\n",
       "      <th>8</th>\n",
       "      <td>COLUMBUS, OH</td>\n",
       "      <td>NaN</td>\n",
       "      <td>20</td>\n",
       "      <td>15280985.94</td>\n",
       "      <td>0.013782</td>\n",
       "      <td>14</td>\n",
       "      <td>4</td>\n",
       "      <td>11763460.53</td>\n",
       "      <td>0.769810</td>\n",
       "      <td>0.010610</td>\n",
       "    </tr>\n",
       "    <tr>\n",
       "      <th>9</th>\n",
       "      <td>CHAMPAIGN&amp;SPRNGFLD-DECATUR</td>\n",
       "      <td>NaN</td>\n",
       "      <td>5</td>\n",
       "      <td>3880794.07</td>\n",
       "      <td>0.003500</td>\n",
       "      <td>4</td>\n",
       "      <td>4</td>\n",
       "      <td>3318829.34</td>\n",
       "      <td>0.855193</td>\n",
       "      <td>0.002993</td>\n",
       "    </tr>\n",
       "    <tr>\n",
       "      <th>10</th>\n",
       "      <td>TULSA</td>\n",
       "      <td>NaN</td>\n",
       "      <td>6</td>\n",
       "      <td>3983570.23</td>\n",
       "      <td>0.003593</td>\n",
       "      <td>3</td>\n",
       "      <td>1</td>\n",
       "      <td>2233873.38</td>\n",
       "      <td>0.560772</td>\n",
       "      <td>0.002015</td>\n",
       "    </tr>\n",
       "    <tr>\n",
       "      <th>11</th>\n",
       "      <td>HOUSTON</td>\n",
       "      <td>NaN</td>\n",
       "      <td>20</td>\n",
       "      <td>15885270.93</td>\n",
       "      <td>0.014327</td>\n",
       "      <td>17</td>\n",
       "      <td>2</td>\n",
       "      <td>13506640.92</td>\n",
       "      <td>0.850262</td>\n",
       "      <td>0.012182</td>\n",
       "    </tr>\n",
       "  </tbody>\n",
       "</table>\n",
       "</div>"
      ],
      "text/plain": [
       "                           DMA  Previous_Campaign  Total_Stores  \\\n",
       "0           PHOENIX (PRESCOTT)                NaN            26   \n",
       "1             FT. MYERS-NAPLES                NaN             8   \n",
       "2                    BALTIMORE                NaN            16   \n",
       "3                  CHATTANOOGA                NaN             8   \n",
       "4     SACRAMNTO-STKTON-MODESTO                NaN            20   \n",
       "5               FRESNO-VISALIA                NaN             9   \n",
       "6         MIAMI-FT. LAUDERDALE                NaN            13   \n",
       "7                    LAS VEGAS                NaN             9   \n",
       "8                 COLUMBUS, OH                NaN            20   \n",
       "9   CHAMPAIGN&SPRNGFLD-DECATUR                NaN             5   \n",
       "10                       TULSA                NaN             6   \n",
       "11                     HOUSTON                NaN            20   \n",
       "\n",
       "    Total_2017_Q3_Sales  DMA (all_stores) Share of US  H/M/new store counts  \\\n",
       "0           19172729.14                      0.017292                    26   \n",
       "1            6329943.91                      0.005709                     7   \n",
       "2           13267892.79                      0.011966                    14   \n",
       "3            5550321.46                      0.005006                     6   \n",
       "4           18180277.47                      0.016397                    19   \n",
       "5            6420003.33                      0.005790                     7   \n",
       "6           14167665.18                      0.012778                    13   \n",
       "7            8302259.20                      0.007488                     9   \n",
       "8           15280985.94                      0.013782                    14   \n",
       "9            3880794.07                      0.003500                     4   \n",
       "10           3983570.23                      0.003593                     3   \n",
       "11          15885270.93                      0.014327                    17   \n",
       "\n",
       "    Trade Area Counts  Total_DMA_Sales_of_H_M_new_stores  % Total DMA Sales  \\\n",
       "0                   7                        18818497.79           0.981524   \n",
       "1                   2                         5703506.30           0.901036   \n",
       "2                   3                        12063456.73           0.909222   \n",
       "3                   3                         4438051.08           0.799603   \n",
       "4                   5                        16981980.15           0.934088   \n",
       "5                   4                         5287412.98           0.823584   \n",
       "6                   3                        14167665.18           1.000000   \n",
       "7                   1                         8302259.20           1.000000   \n",
       "8                   4                        11763460.53           0.769810   \n",
       "9                   4                         3318829.34           0.855193   \n",
       "10                  1                         2233873.38           0.560772   \n",
       "11                  2                        13506640.92           0.850262   \n",
       "\n",
       "    DMA (H/M/new) Share of US  \n",
       "0                    0.016973  \n",
       "1                    0.005144  \n",
       "2                    0.010880  \n",
       "3                    0.004003  \n",
       "4                    0.015316  \n",
       "5                    0.004769  \n",
       "6                    0.012778  \n",
       "7                    0.007488  \n",
       "8                    0.010610  \n",
       "9                    0.002993  \n",
       "10                   0.002015  \n",
       "11                   0.012182  "
      ]
     },
     "execution_count": 59,
     "metadata": {},
     "output_type": "execute_result"
    }
   ],
   "source": [
    "output_table"
   ]
  },
  {
   "cell_type": "code",
   "execution_count": 67,
   "metadata": {},
   "outputs": [],
   "source": [
    "Previous_Campaign=pd.read_excel(\"/home/jian/Projects/Big_Lots/Analysis/2018_Q3/2017_Q3_Summary/Market_List_Till_Q3_2018.xlsx\",dtype=str)\n",
    "Labor_Day_DMAs=Previous_Campaign['Labor Day 20 Markets'].unique().tolist()\n",
    "Labor_Day_DMAs.remove('nan')\n",
    "\n",
    "October_DMAs=Previous_Campaign['Oct 29 Markets'].unique().tolist()\n",
    "October_DMAs.remove('nan')\n",
    "\n",
    "Holiday_DMAs=Previous_Campaign['Oct 29 Markets'].unique().tolist()\n",
    "\n",
    "Q1_2018_DMAs=Previous_Campaign['2018 Q1 Markets'].unique().tolist()\n",
    "Q1_2018_DMAs.remove('nan')\n",
    "\n",
    "Q2_2018_DMAs=Previous_Campaign['2018_Q2 Markets'].unique().tolist()\n",
    "Q2_2018_DMAs.remove('nan')"
   ]
  },
  {
   "cell_type": "code",
   "execution_count": 69,
   "metadata": {},
   "outputs": [
    {
     "name": "stderr",
     "output_type": "stream",
     "text": [
      "/usr/local/lib/python3.6/site-packages/ipykernel_launcher.py:13: SettingWithCopyWarning: \n",
      "A value is trying to be set on a copy of a slice from a DataFrame\n",
      "\n",
      "See the caveats in the documentation: http://pandas.pydata.org/pandas-docs/stable/indexing.html#indexing-view-versus-copy\n",
      "  del sys.path[0]\n",
      "/usr/local/lib/python3.6/site-packages/pandas/core/indexing.py:179: SettingWithCopyWarning: \n",
      "A value is trying to be set on a copy of a slice from a DataFrame\n",
      "\n",
      "See the caveats in the documentation: http://pandas.pydata.org/pandas-docs/stable/indexing.html#indexing-view-versus-copy\n",
      "  self._setitem_with_indexer(indexer, value)\n"
     ]
    }
   ],
   "source": [
    "for i in range(len(output_table)):\n",
    "    previous_campaign_list=[]\n",
    "    if output_table['DMA'][i] in Labor_Day_DMAs:\n",
    "        previous_campaign_list=previous_campaign_list+['LaborDay']\n",
    "    if output_table['DMA'][i] in October_DMAs:\n",
    "        previous_campaign_list=previous_campaign_list+['October']\n",
    "    if output_table['DMA'][i] in Labor_Day_DMAs:\n",
    "        previous_campaign_list=previous_campaign_list+['Holiday']\n",
    "    if output_table['DMA'][i] in Q1_2018_DMAs:\n",
    "        previous_campaign_list=previous_campaign_list+['Q1_2018']\n",
    "    if output_table['DMA'][i] in Q2_2018_DMAs:\n",
    "        previous_campaign_list=previous_campaign_list+['Q2_2018']\n",
    "    output_table['Previous_Campaign'][i]=previous_campaign_list\n",
    "\n",
    "        "
   ]
  },
  {
   "cell_type": "code",
   "execution_count": 71,
   "metadata": {},
   "outputs": [],
   "source": [
    "output_table=output_table.sort_values(['DMA'])"
   ]
  },
  {
   "cell_type": "code",
   "execution_count": 73,
   "metadata": {
    "collapsed": true
   },
   "outputs": [],
   "source": [
    "output_table.to_csv(\"/home/jian/Projects/Big_Lots/Analysis/2018_Q3/2017_Q3_Summary/BL_Summary table for 2017 Q3_JL_20180625.csv\")"
   ]
  },
  {
   "cell_type": "code",
   "execution_count": null,
   "metadata": {
    "collapsed": true
   },
   "outputs": [],
   "source": []
  }
 ],
 "metadata": {
  "kernelspec": {
   "display_name": "Python 3",
   "language": "python",
   "name": "python3"
  },
  "language_info": {
   "codemirror_mode": {
    "name": "ipython",
    "version": 3
   },
   "file_extension": ".py",
   "mimetype": "text/x-python",
   "name": "python",
   "nbconvert_exporter": "python",
   "pygments_lexer": "ipython3",
   "version": "3.6.1"
  }
 },
 "nbformat": 4,
 "nbformat_minor": 2
}
