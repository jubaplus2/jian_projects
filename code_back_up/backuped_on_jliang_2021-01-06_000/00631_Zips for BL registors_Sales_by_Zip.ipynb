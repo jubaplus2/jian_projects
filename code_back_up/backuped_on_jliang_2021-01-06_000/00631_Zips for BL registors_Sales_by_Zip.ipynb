{
 "cells": [
  {
   "cell_type": "code",
   "execution_count": 9,
   "metadata": {
    "collapsed": true
   },
   "outputs": [],
   "source": [
    "import pandas as pd\n",
    "import hashlib\n",
    "import datetime"
   ]
  },
  {
   "cell_type": "code",
   "execution_count": 10,
   "metadata": {},
   "outputs": [],
   "source": [
    "data_registor_2=pd.read_csv(\"/home/jian/Projects/Big_Lots/Loyal_members/Email_Zips/MediaStormCustomerTransactionTotals_2018-01-09_2018-03-31.txt\",usecols=[0,2,5],dtype=str)\n",
    "\n",
    "data_registor_1 = pd.read_table('/home/jian/Projects/Big_Lots/Loyal_members/Email_Zips/MediaStormCustTot-hashed-email.txt',\n",
    "                       header=None,sep = ',',usecols=[0,2,5],skiprows = [7625478, 12278302, 12372213, 12519621, 12682600, 14718389,  19001868],dtype=str)\n",
    "\n",
    "\n",
    "data_registor_1.columns=data_registor_2.columns.tolist()\n",
    "data_registor_1['customer_id_hashed']=data_registor_1['customer_id_hashed'].apply(lambda x: hashlib.sha256(x.encode('UTF-8')).hexdigest())\n",
    "data_registor_1['sign_up_date']=data_registor_1['sign_up_date'].apply(lambda x: datetime.datetime.strptime(x,\"%Y-%m-%d\").date())\n",
    "data_registor_2['sign_up_date']=data_registor_2['sign_up_date'].apply(lambda x: datetime.datetime.strptime(x,\"%Y-%m-%d\").date())\n",
    "\n",
    "data_registor_1=data_registor_1.drop_duplicates()\n",
    "data_registor_2=data_registor_2.drop_duplicates()\n",
    "data_registor=data_registor_1.append(data_registor_2)\n",
    "data_registor=data_registor.sort_values('sign_up_date',ascending=False)\n",
    "data_registor=data_registor.drop_duplicates('customer_id_hashed')\n",
    "\n",
    "data_registor.to_csv(\"/home/jian/Projects/Big_Lots/Loyal_members/Email_Zips/output_loyalty_member_by_id.csv\",index=False)"
   ]
  },
  {
   "cell_type": "code",
   "execution_count": null,
   "metadata": {
    "collapsed": true
   },
   "outputs": [],
   "source": [
    "usecols=[0,5],"
   ]
  },
  {
   "cell_type": "code",
   "execution_count": 18,
   "metadata": {
    "collapsed": true
   },
   "outputs": [],
   "source": []
  },
  {
   "cell_type": "code",
   "execution_count": 7,
   "metadata": {},
   "outputs": [
    {
     "data": {
      "text/html": [
       "<div>\n",
       "<style>\n",
       "    .dataframe thead tr:only-child th {\n",
       "        text-align: right;\n",
       "    }\n",
       "\n",
       "    .dataframe thead th {\n",
       "        text-align: left;\n",
       "    }\n",
       "\n",
       "    .dataframe tbody tr th {\n",
       "        vertical-align: top;\n",
       "    }\n",
       "</style>\n",
       "<table border=\"1\" class=\"dataframe\">\n",
       "  <thead>\n",
       "    <tr style=\"text-align: right;\">\n",
       "      <th></th>\n",
       "      <th>customer_id_hashed</th>\n",
       "      <th>email_address_hash</th>\n",
       "      <th>sign_up_date</th>\n",
       "      <th>sign_up_channel</th>\n",
       "      <th>sign_up_location</th>\n",
       "      <th>customer_zip_code</th>\n",
       "      <th>transaction_count</th>\n",
       "      <th>transaction_amount</th>\n",
       "      <th>experian_multi_cluster</th>\n",
       "      <th>experian_demo_cluster</th>\n",
       "      <th>purchase_channel</th>\n",
       "      <th>email_unsubscribe_indicator</th>\n",
       "      <th>email_undeliverable_indicator</th>\n",
       "    </tr>\n",
       "  </thead>\n",
       "  <tbody>\n",
       "    <tr>\n",
       "      <th>0</th>\n",
       "      <td>24369a2ea17c25adfd6768d76bc88cd40ef57afad3b268...</td>\n",
       "      <td>60c4ee00b61b5cf800e24e0dc443424c5c111ca1573047...</td>\n",
       "      <td>2012-10-29</td>\n",
       "      <td>STORE</td>\n",
       "      <td>1205</td>\n",
       "      <td>38464</td>\n",
       "      <td>2</td>\n",
       "      <td>10.13</td>\n",
       "      <td>NaN</td>\n",
       "      <td>NaN</td>\n",
       "      <td>STORES</td>\n",
       "      <td>N</td>\n",
       "      <td>N</td>\n",
       "    </tr>\n",
       "    <tr>\n",
       "      <th>1</th>\n",
       "      <td>a639202063f12c1fd06ff499516d344aa9ef2c43ac4647...</td>\n",
       "      <td>8a5092c658ca671c4ad6d9b2ac87fb884fa0e37c03757b...</td>\n",
       "      <td>2013-11-15</td>\n",
       "      <td>STORE</td>\n",
       "      <td>4643</td>\n",
       "      <td>55112</td>\n",
       "      <td>4</td>\n",
       "      <td>131.79</td>\n",
       "      <td>4</td>\n",
       "      <td>2</td>\n",
       "      <td>STORES</td>\n",
       "      <td>N</td>\n",
       "      <td>N</td>\n",
       "    </tr>\n",
       "  </tbody>\n",
       "</table>\n",
       "</div>"
      ],
      "text/plain": [
       "                                  customer_id_hashed  \\\n",
       "0  24369a2ea17c25adfd6768d76bc88cd40ef57afad3b268...   \n",
       "1  a639202063f12c1fd06ff499516d344aa9ef2c43ac4647...   \n",
       "\n",
       "                                  email_address_hash sign_up_date  \\\n",
       "0  60c4ee00b61b5cf800e24e0dc443424c5c111ca1573047...   2012-10-29   \n",
       "1  8a5092c658ca671c4ad6d9b2ac87fb884fa0e37c03757b...   2013-11-15   \n",
       "\n",
       "  sign_up_channel sign_up_location customer_zip_code transaction_count  \\\n",
       "0           STORE             1205             38464                 2   \n",
       "1           STORE             4643             55112                 4   \n",
       "\n",
       "  transaction_amount experian_multi_cluster experian_demo_cluster  \\\n",
       "0              10.13                    NaN                   NaN   \n",
       "1             131.79                      4                     2   \n",
       "\n",
       "  purchase_channel email_unsubscribe_indicator email_undeliverable_indicator  \n",
       "0           STORES                           N                             N  \n",
       "1           STORES                           N                             N  "
      ]
     },
     "execution_count": 7,
     "metadata": {},
     "output_type": "execute_result"
    }
   ],
   "source": [
    "data_registor_2=pd.read_csv(\"/home/jian/Projects/Big_Lots/Loyal_members/Email_Zips/MediaStormCustomerTransactionTotals_2018-01-09_2018-03-31.txt\",nrows=10000,dtype=str)\n",
    "\n",
    "data_registor_2.head(2)"
   ]
  },
  {
   "cell_type": "code",
   "execution_count": 6,
   "metadata": {},
   "outputs": [
    {
     "data": {
      "text/html": [
       "<div>\n",
       "<style>\n",
       "    .dataframe thead tr:only-child th {\n",
       "        text-align: right;\n",
       "    }\n",
       "\n",
       "    .dataframe thead th {\n",
       "        text-align: left;\n",
       "    }\n",
       "\n",
       "    .dataframe tbody tr th {\n",
       "        vertical-align: top;\n",
       "    }\n",
       "</style>\n",
       "<table border=\"1\" class=\"dataframe\">\n",
       "  <thead>\n",
       "    <tr style=\"text-align: right;\">\n",
       "      <th></th>\n",
       "      <th>customer_id_hashed</th>\n",
       "      <th>customer_zip_code</th>\n",
       "    </tr>\n",
       "  </thead>\n",
       "  <tbody>\n",
       "    <tr>\n",
       "      <th>0</th>\n",
       "      <td>c446cbd9d237d676d038e98b22ff891bbf48c00d3a21ee...</td>\n",
       "      <td>98403</td>\n",
       "    </tr>\n",
       "    <tr>\n",
       "      <th>1</th>\n",
       "      <td>f1b909c22db55b10d182fbc5ae7f61f6f77155ca1dd806...</td>\n",
       "      <td>21218</td>\n",
       "    </tr>\n",
       "    <tr>\n",
       "      <th>2</th>\n",
       "      <td>1bcbd41edff23a4d08982477c6cbd9e893727954423b70...</td>\n",
       "      <td>78570</td>\n",
       "    </tr>\n",
       "    <tr>\n",
       "      <th>3</th>\n",
       "      <td>5429196e67332a78cfd8a8bed8da8f93ef6849f3bb1fc6...</td>\n",
       "      <td>NaN</td>\n",
       "    </tr>\n",
       "    <tr>\n",
       "      <th>4</th>\n",
       "      <td>68c7a07c130bda556d27f07545bdc97dab4f167923753b...</td>\n",
       "      <td>03054</td>\n",
       "    </tr>\n",
       "    <tr>\n",
       "      <th>5</th>\n",
       "      <td>6847c4c98cfec4e8aeeb687b147c9ef5d69c6514dad542...</td>\n",
       "      <td>93065</td>\n",
       "    </tr>\n",
       "    <tr>\n",
       "      <th>6</th>\n",
       "      <td>34d1abd4cb7eec95818800b9871d1127ba88257025de35...</td>\n",
       "      <td>19604</td>\n",
       "    </tr>\n",
       "    <tr>\n",
       "      <th>7</th>\n",
       "      <td>203ee203fb8fb46f11042beb7a668fe05b660d1741bd16...</td>\n",
       "      <td>28304</td>\n",
       "    </tr>\n",
       "    <tr>\n",
       "      <th>8</th>\n",
       "      <td>dffba1e43e03f462196ac912f503140cd7dce04af6693f...</td>\n",
       "      <td>35226</td>\n",
       "    </tr>\n",
       "    <tr>\n",
       "      <th>9</th>\n",
       "      <td>9fb9ee8cc0827167a3b1f652917702c81b5b465177041e...</td>\n",
       "      <td>35661</td>\n",
       "    </tr>\n",
       "    <tr>\n",
       "      <th>10</th>\n",
       "      <td>0bb92871ef15b9042a81bd38cea282fc53fc987e00a43b...</td>\n",
       "      <td>23231</td>\n",
       "    </tr>\n",
       "    <tr>\n",
       "      <th>11</th>\n",
       "      <td>c03af4c02c183a244ab4b6e70dc62bf376ecf9e49c0a22...</td>\n",
       "      <td>35906</td>\n",
       "    </tr>\n",
       "    <tr>\n",
       "      <th>12</th>\n",
       "      <td>d6de70e43b781423b3a4ad8df08966d27b82b5ce728add...</td>\n",
       "      <td>11701</td>\n",
       "    </tr>\n",
       "    <tr>\n",
       "      <th>13</th>\n",
       "      <td>00f5cd7b67c83f356dd962447f59b9c9d6750b4887dedf...</td>\n",
       "      <td>13080</td>\n",
       "    </tr>\n",
       "    <tr>\n",
       "      <th>14</th>\n",
       "      <td>02b427d5f48ab277f7de58086c3cb6f669e272850747e5...</td>\n",
       "      <td>42431</td>\n",
       "    </tr>\n",
       "    <tr>\n",
       "      <th>15</th>\n",
       "      <td>4c7b8de4a67357990a442aebad6bd94d950a97d2c745b2...</td>\n",
       "      <td>31705</td>\n",
       "    </tr>\n",
       "    <tr>\n",
       "      <th>16</th>\n",
       "      <td>be051ce684102dcdf14763c233fa4e8bb56f1eb1bc99a5...</td>\n",
       "      <td>43212</td>\n",
       "    </tr>\n",
       "    <tr>\n",
       "      <th>17</th>\n",
       "      <td>2e91a2dab7f3e9319aa44701741c782e6261f6cd96ae3f...</td>\n",
       "      <td>92231</td>\n",
       "    </tr>\n",
       "    <tr>\n",
       "      <th>18</th>\n",
       "      <td>3edb0fa2812a182061a1a06e11a3094caae00c7ca15d41...</td>\n",
       "      <td>92544</td>\n",
       "    </tr>\n",
       "    <tr>\n",
       "      <th>19</th>\n",
       "      <td>249bcd3d18b520a61456aa79e20592ff39826ce282a15c...</td>\n",
       "      <td>32168</td>\n",
       "    </tr>\n",
       "  </tbody>\n",
       "</table>\n",
       "</div>"
      ],
      "text/plain": [
       "                                   customer_id_hashed customer_zip_code\n",
       "0   c446cbd9d237d676d038e98b22ff891bbf48c00d3a21ee...             98403\n",
       "1   f1b909c22db55b10d182fbc5ae7f61f6f77155ca1dd806...             21218\n",
       "2   1bcbd41edff23a4d08982477c6cbd9e893727954423b70...             78570\n",
       "3   5429196e67332a78cfd8a8bed8da8f93ef6849f3bb1fc6...               NaN\n",
       "4   68c7a07c130bda556d27f07545bdc97dab4f167923753b...             03054\n",
       "5   6847c4c98cfec4e8aeeb687b147c9ef5d69c6514dad542...             93065\n",
       "6   34d1abd4cb7eec95818800b9871d1127ba88257025de35...             19604\n",
       "7   203ee203fb8fb46f11042beb7a668fe05b660d1741bd16...             28304\n",
       "8   dffba1e43e03f462196ac912f503140cd7dce04af6693f...             35226\n",
       "9   9fb9ee8cc0827167a3b1f652917702c81b5b465177041e...             35661\n",
       "10  0bb92871ef15b9042a81bd38cea282fc53fc987e00a43b...             23231\n",
       "11  c03af4c02c183a244ab4b6e70dc62bf376ecf9e49c0a22...             35906\n",
       "12  d6de70e43b781423b3a4ad8df08966d27b82b5ce728add...             11701\n",
       "13  00f5cd7b67c83f356dd962447f59b9c9d6750b4887dedf...             13080\n",
       "14  02b427d5f48ab277f7de58086c3cb6f669e272850747e5...             42431\n",
       "15  4c7b8de4a67357990a442aebad6bd94d950a97d2c745b2...             31705\n",
       "16  be051ce684102dcdf14763c233fa4e8bb56f1eb1bc99a5...             43212\n",
       "17  2e91a2dab7f3e9319aa44701741c782e6261f6cd96ae3f...             92231\n",
       "18  3edb0fa2812a182061a1a06e11a3094caae00c7ca15d41...             92544\n",
       "19  249bcd3d18b520a61456aa79e20592ff39826ce282a15c...             32168"
      ]
     },
     "execution_count": 6,
     "metadata": {},
     "output_type": "execute_result"
    }
   ],
   "source": [
    "data_registor_1.head(20)"
   ]
  },
  {
   "cell_type": "code",
   "execution_count": 32,
   "metadata": {
    "collapsed": true
   },
   "outputs": [],
   "source": [
    "data_registor_2=pd.read_csv(\"/home/jian/Projects/Big_Lots/Loyal_members/Email_Zips/MediaStormCustomerTransactionTotals_2018-01-09_2018-03-31.txt\",nrows=100,dtype=str)\n"
   ]
  },
  {
   "cell_type": "code",
   "execution_count": 34,
   "metadata": {},
   "outputs": [
    {
     "data": {
      "text/plain": [
       "Index(['customer_id_hashed', 'email_address_hash', 'sign_up_date',\n",
       "       'sign_up_channel', 'sign_up_location', 'customer_zip_code',\n",
       "       'transaction_count', 'transaction_amount', 'experian_multi_cluster',\n",
       "       'experian_demo_cluster', 'purchase_channel',\n",
       "       'email_unsubscribe_indicator', 'email_undeliverable_indicator'],\n",
       "      dtype='object')"
      ]
     },
     "execution_count": 34,
     "metadata": {},
     "output_type": "execute_result"
    }
   ],
   "source": [
    "data_registor_2.columns\n"
   ]
  },
  {
   "cell_type": "code",
   "execution_count": null,
   "metadata": {
    "collapsed": true
   },
   "outputs": [],
   "source": []
  }
 ],
 "metadata": {
  "kernelspec": {
   "display_name": "Python 3",
   "language": "python",
   "name": "python3"
  },
  "language_info": {
   "codemirror_mode": {
    "name": "ipython",
    "version": 3
   },
   "file_extension": ".py",
   "mimetype": "text/x-python",
   "name": "python",
   "nbconvert_exporter": "python",
   "pygments_lexer": "ipython3",
   "version": "3.6.1"
  }
 },
 "nbformat": 4,
 "nbformat_minor": 2
}
