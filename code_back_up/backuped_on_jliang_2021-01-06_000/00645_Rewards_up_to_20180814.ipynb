{
 "cells": [
  {
   "cell_type": "code",
   "execution_count": 59,
   "metadata": {
    "collapsed": true
   },
   "outputs": [],
   "source": [
    "import pandas as pd\n",
    "import numpy as np\n",
    "import os\n",
    "import datetime\n",
    "import logging\n",
    "import hashlib"
   ]
  },
  {
   "cell_type": "markdown",
   "metadata": {},
   "source": [
    "# Master ID (Sing up info)"
   ]
  },
  {
   "cell_type": "code",
   "execution_count": 60,
   "metadata": {
    "collapsed": true
   },
   "outputs": [],
   "source": [
    "samplerows = 1000"
   ]
  },
  {
   "cell_type": "code",
   "execution_count": 61,
   "metadata": {
    "collapsed": true
   },
   "outputs": [],
   "source": [
    "folderpath = '/home/jian/Projects/Big_Lots/Loyal_members/loyalty_register_data/' # usecols=[0,1,5],\n",
    "selected_columns = ['customer_id_hashed', 'email_address_hash','sign_up_location','customer_zip_code']\n",
    "dfiddetail = pd.read_table(folderpath+\"/MediaStormCustTot-hashed-email.txt\",\n",
    "                       header=None,nrows = samplerows,sep = ',',dtype = 'str',usecols=[0,1,4,5])\n",
    "dfiddetail.columns=['customer_id', 'email_address_hash','sign_up_location','customer_zip_code']\n",
    "dfiddetail['customer_id_hashed'] = dfiddetail['customer_id'].apply(lambda x: hashlib.sha256(x.encode('utf-8')).hexdigest())\n",
    "dfiddetail=dfiddetail[selected_columns]\n",
    "\n",
    "#\n",
    "dfiddetail2 = pd.read_csv(folderpath+'MediaStormCustomerTransactionTotals_2018-01-09_2018-03-31.txt',\n",
    "                          nrows = samplerows,sep = ',',usecols=[0,1,4,5],dtype = 'str')\n",
    "dfiddetail2=dfiddetail2[selected_columns]\n",
    "dfiddetail = dfiddetail.append(dfiddetail2)\n",
    "\n",
    "#\n",
    "dfiddetail2 = pd.read_csv(folderpath+'Existing Reward Member Master as of 2018-06-05.txt',\n",
    "                          nrows = samplerows,sep = '|',usecols=[0,1,4,5],dtype = 'str')\n",
    "dfiddetail2=dfiddetail2[selected_columns]\n",
    "dfiddetail = dfiddetail.append(dfiddetail2)\n",
    "\n",
    "#\n",
    "dfiddetail2 = pd.read_csv(folderpath+'New Reward Member Master as of 2018-06-05.txt',\n",
    "                          nrows = samplerows,sep = '|',usecols=[0,1,4,5],dtype = 'str')\n",
    "dfiddetail2=dfiddetail2[selected_columns]\n",
    "dfiddetail = dfiddetail.append(dfiddetail2)\n",
    "\n",
    "#\n",
    "dfiddetail2 = pd.read_csv(folderpath+'New Reward Member Master as of 2018-07-03.txt',\n",
    "                          nrows = samplerows,sep = '|',usecols=[0,1,4,5],dtype = 'str')\n",
    "dfiddetail2=dfiddetail2[selected_columns]\n",
    "dfiddetail = dfiddetail.append(dfiddetail2)\n",
    "\n",
    "#\n",
    "dfiddetail2 = pd.read_csv(folderpath+'MediaStormMasterBiWeekly20180717-132337-377.txt',\n",
    "                          nrows = samplerows,sep = '|',usecols=[0,1,4,5],dtype = 'str')\n",
    "dfiddetail2=dfiddetail2[selected_columns]\n",
    "dfiddetail = dfiddetail.append(dfiddetail2)\n",
    "\n",
    "#\n",
    "dfiddetail2 = pd.read_csv(folderpath+'MediaStormMasterBiWeekly20180731-130714-098.txt',\n",
    "                          nrows = samplerows,sep = '|',usecols=[0,1,4,5],dtype = 'str')\n",
    "dfiddetail2=dfiddetail2[selected_columns]\n",
    "dfiddetail = dfiddetail.append(dfiddetail2)\n",
    "\n",
    "#\n",
    "dfiddetail2 = pd.read_csv(folderpath+'MediaStormMasterBiWeekly20180814-130703-491.txt',\n",
    "                          nrows = samplerows,sep = '|',usecols=[0,1,4,5],dtype = 'str')\n",
    "dfiddetail2=dfiddetail2[selected_columns]\n",
    "dfiddetail = dfiddetail.append(dfiddetail2)\n",
    "\n",
    "#\n",
    "dfiddetail=dfiddetail[['customer_id_hashed','sign_up_location','customer_zip_code']].drop_duplicates()"
   ]
  },
  {
   "cell_type": "code",
   "execution_count": 62,
   "metadata": {
    "collapsed": true
   },
   "outputs": [],
   "source": [
    "def unique_list_len(x):\n",
    "    y=len(set(x))\n",
    "    return y\n",
    "output_master=dfiddetail.groupby(['sign_up_location'])['customer_id_hashed'].agg(unique_list_len).to_frame().reset_index()\n",
    "# output_master.to_csv(folderpath+\"output/unique_id_signed_up_per_store_\"+str(datetime.datetime.now().date())+\".csv\",index=False)\n",
    "output_master=output_master.sort_values(['sign_up_location'])\n"
   ]
  },
  {
   "cell_type": "code",
   "execution_count": 63,
   "metadata": {
    "collapsed": true
   },
   "outputs": [],
   "source": [
    "unique_id_master_list=dfiddetail['customer_id_hashed'].unique().tolist()\n"
   ]
  },
  {
   "cell_type": "markdown",
   "metadata": {},
   "source": [
    "# Sales unique id visits"
   ]
  },
  {
   "cell_type": "code",
   "execution_count": 64,
   "metadata": {
    "collapsed": true
   },
   "outputs": [],
   "source": [
    "sales_from_SP=pd.read_csv(\"/home/jian/Projects/Big_Lots/Loyal_members/loyalty_sales_data/From_Sp/combinedtransactions_0811.csv\",\n",
    "                          dtype=str,nrows=samplerows,usecols=['customer_id_hashed','transaction_date','location_id'])\n",
    "id_list_sales=sales_from_SP['customer_id_hashed'].unique().tolist()"
   ]
  },
  {
   "cell_type": "code",
   "execution_count": 65,
   "metadata": {
    "collapsed": true
   },
   "outputs": [],
   "source": [
    "# sales_from_SP_in_Master=sales_from_SP[sales_from_SP['customer_id_hashed'].isin(unique_id_master_list)]\n",
    "# MemError above\n",
    "transaction_date=sorted(sales_from_SP['transaction_date'].unique().tolist())\n",
    "purchase_dates_df=pd.DataFrame({\"Date\":transaction_date},index=range(len(transaction_date)))"
   ]
  },
  {
   "cell_type": "code",
   "execution_count": 66,
   "metadata": {
    "collapsed": true
   },
   "outputs": [],
   "source": [
    "del sales_from_SP['transaction_date']"
   ]
  },
  {
   "cell_type": "code",
   "execution_count": 67,
   "metadata": {
    "collapsed": true
   },
   "outputs": [],
   "source": [
    "consumption_output=sales_from_SP.groupby(['location_id'])['customer_id_hashed'].agg(unique_list_len).to_frame().reset_index()\n",
    "consumption_output=consumption_output.sort_values(['location_id'])"
   ]
  },
  {
   "cell_type": "code",
   "execution_count": 68,
   "metadata": {
    "collapsed": true
   },
   "outputs": [],
   "source": [
    "output_master=output_master.rename(columns={\"sign_up_location\":\"store\",\"customer_id_hashed\":\"signup_id count\"})\n",
    "consumption_output=consumption_output.rename(columns={\"location_id\":\"store\",\"customer_id_hashed\":\"consumption_id count\"})\n",
    "Merge_by_store=pd.merge(output_master,consumption_output,on=\"store\",how=\"left\")\n",
    "Merge_by_store=Merge_by_store[Merge_by_store['store'].apply(lambda x: len(x))<=4]\n",
    "Merge_by_store['store']=Merge_by_store['store'].astype(int)\n",
    "Merge_by_store=Merge_by_store[Merge_by_store['store']<=6990]\n",
    "Merge_by_store=Merge_by_store.sort_values('store')"
   ]
  },
  {
   "cell_type": "code",
   "execution_count": null,
   "metadata": {
    "collapsed": true
   },
   "outputs": [],
   "source": []
  },
  {
   "cell_type": "code",
   "execution_count": 69,
   "metadata": {},
   "outputs": [],
   "source": [
    "store_list_cols=['location_id','address_line_1','address_line_2','city_nm','state_nm','zip_cd']\n",
    "store_list=pd.read_table(\"/home/jian/BigLots/static_files/MediaStormStores20180801-133641-576.txt\",dtype=str,sep=\"|\")\n",
    "store_list=store_list[store_list_cols]\n",
    "\n",
    "store_list_2=pd.read_table(\"/home/jian/BigLots/static_files/MediaStormStores_20180703.txt\",dtype=str,sep=\"|\")\n",
    "store_list_2=store_list_2[~store_list_2['location_id'].isin(store_list['location_id'].unique().tolist())]\n",
    "store_list_2=store_list_2[store_list_cols]\n",
    "store_list=store_list.append(store_list_2)\n",
    "\n",
    "store_list_2=pd.read_table(\"/home/jian/BigLots/static_files/MediaStormStoreList_Nov15.txt\",dtype=str,sep=\"|\")\n",
    "store_list_2=store_list_2[~store_list_2['location_id'].isin(store_list['location_id'].unique().tolist())]\n",
    "store_list_2=store_list_2[store_list_cols]\n",
    "store_list=store_list.append(store_list_2)\n",
    "\n",
    "store_list_2=pd.read_table(\"/home/jian/BigLots/static_files/MediaStormStoresList_0913.txt\",dtype=str,sep=\"|\")\n",
    "store_list_2=store_list_2[~store_list_2['location_id'].isin(store_list['location_id'].unique().tolist())]\n",
    "store_list_2=store_list_2[store_list_cols]\n",
    "store_list=store_list.append(store_list_2)\n",
    "\n",
    "store_list['zip_cd']=store_list['zip_cd'].apply(lambda x: x.split(\"-\")[0].zfill(5))\n",
    "store_list=store_list.rename(columns={\"location_id\":\"store\"})\n",
    "store_list['store']=store_list['store'].astype(int)\n",
    "Merge_by_store=pd.merge(Merge_by_store,store_list,on=\"store\",how=\"outer\")"
   ]
  },
  {
   "cell_type": "code",
   "execution_count": 70,
   "metadata": {},
   "outputs": [],
   "source": [
    "DMA=pd.read_excel(\"/home/jian/Docs/Geo_mapping/Zips by DMA by County16-17 nielsen.xlsx\",dtype=str,skiprows=1,usecols=[0,2])\n",
    "DMA.columns=['zip_cd','DMA']\n",
    "DMA=DMA.drop_duplicates(\"zip_cd\")\n",
    "Merge_by_store=pd.merge(Merge_by_store,DMA,on=\"zip_cd\",how=\"left\")\n",
    "Merge_by_store=Merge_by_store[['store','address_line_1','address_line_2','city_nm','state_nm','zip_cd','DMA','signup_id count','consumption_id count']]"
   ]
  },
  {
   "cell_type": "markdown",
   "metadata": {},
   "source": [
    "# Write to Excel"
   ]
  },
  {
   "cell_type": "code",
   "execution_count": null,
   "metadata": {
    "collapsed": true
   },
   "outputs": [],
   "source": [
    "writer=pd.ExcelWriter(folderpath+\"output/unique_id_by_store_\"+str(datetime.datetime.now().date())+\".xlsx\",engine='xlsxwriter')\n",
    "Merge_by_store.to_excel(writer,\"distribution_table\",index=False)\n",
    "output_master.to_excel(writer,\"register_id_by_location\",index=False)\n",
    "consumption_output.to_excel(writer,\"purchase_id_by_location\",index=False)\n",
    "purchase_dates_df.to_excel(writer,\"purchase_date_range\",index=False)\n",
    "writer.save()"
   ]
  }
 ],
 "metadata": {
  "kernelspec": {
   "display_name": "Python 3",
   "language": "python",
   "name": "python3"
  },
  "language_info": {
   "codemirror_mode": {
    "name": "ipython",
    "version": 3
   },
   "file_extension": ".py",
   "mimetype": "text/x-python",
   "name": "python",
   "nbconvert_exporter": "python",
   "pygments_lexer": "ipython3",
   "version": "3.6.1"
  }
 },
 "nbformat": 4,
 "nbformat_minor": 2
}
