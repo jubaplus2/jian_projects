{
 "cells": [
  {
   "cell_type": "code",
   "execution_count": 1,
   "metadata": {},
   "outputs": [
    {
     "name": "stdout",
     "output_type": "stream",
     "text": [
      "/home/jian/Projects/Big_Lots/Analysis/2020_Q1/plannder_requests/BR_adding_DMA_20200309\n",
      "2020-03-09 14:15:48.809944\n"
     ]
    },
    {
     "name": "stderr",
     "output_type": "stream",
     "text": [
      "/usr/local/lib/python3.6/site-packages/fuzzywuzzy/fuzz.py:35: UserWarning: Using slow pure-python SequenceMatcher. Install python-Levenshtein to remove this warning\n",
      "  warnings.warn('Using slow pure-python SequenceMatcher. Install python-Levenshtein to remove this warning')\n"
     ]
    }
   ],
   "source": [
    "import pandas as pd\n",
    "import numpy as np\n",
    "import datetime\n",
    "import os\n",
    "from fuzzywuzzy import fuzz\n",
    "print(os.getcwd())\n",
    "print(datetime.datetime.now())"
   ]
  },
  {
   "cell_type": "code",
   "execution_count": 2,
   "metadata": {},
   "outputs": [
    {
     "name": "stdout",
     "output_type": "stream",
     "text": [
      "(51324, 4)\n",
      "(51324, 4)\n"
     ]
    },
    {
     "data": {
      "text/html": [
       "<div>\n",
       "<style scoped>\n",
       "    .dataframe tbody tr th:only-of-type {\n",
       "        vertical-align: middle;\n",
       "    }\n",
       "\n",
       "    .dataframe tbody tr th {\n",
       "        vertical-align: top;\n",
       "    }\n",
       "\n",
       "    .dataframe thead th {\n",
       "        text-align: right;\n",
       "    }\n",
       "</style>\n",
       "<table border=\"1\" class=\"dataframe\">\n",
       "  <thead>\n",
       "    <tr style=\"text-align: right;\">\n",
       "      <th></th>\n",
       "      <th>Zip</th>\n",
       "      <th>DMA</th>\n",
       "      <th>State</th>\n",
       "      <th>County</th>\n",
       "    </tr>\n",
       "  </thead>\n",
       "  <tbody>\n",
       "    <tr>\n",
       "      <th>0</th>\n",
       "      <td>00501</td>\n",
       "      <td>NEW YORK</td>\n",
       "      <td>NY</td>\n",
       "      <td>suffolk</td>\n",
       "    </tr>\n",
       "    <tr>\n",
       "      <th>1</th>\n",
       "      <td>00544</td>\n",
       "      <td>NEW YORK</td>\n",
       "      <td>NY</td>\n",
       "      <td>suffolk</td>\n",
       "    </tr>\n",
       "  </tbody>\n",
       "</table>\n",
       "</div>"
      ],
      "text/plain": [
       "     Zip       DMA State   County\n",
       "0  00501  NEW YORK    NY  suffolk\n",
       "1  00544  NEW YORK    NY  suffolk"
      ]
     },
     "execution_count": 2,
     "metadata": {},
     "output_type": "execute_result"
    }
   ],
   "source": [
    "df_DMA_zip=pd.read_excel(\"/home/jian/Docs/Geo_mapping/Zips by DMA by County16-17 nielsen.xlsx\",\n",
    "                         skiprows=1,dtype=str,usecols=[0,2,6,9])\n",
    "print(df_DMA_zip.shape)\n",
    "df_DMA_zip.columns=['Zip','DMA',\"State\",'County']\n",
    "df_DMA_zip=df_DMA_zip.drop_duplicates()\n",
    "df_DMA_zip['County']=df_DMA_zip['County'].str.lower()\n",
    "print(df_DMA_zip.shape)\n",
    "\n",
    "df_DMA_list_by_zip=df_DMA_zip.groupby(\"Zip\")['DMA'].apply(set).to_frame().reset_index()\n",
    "df_DMA_list_by_zip=df_DMA_list_by_zip.rename(columns={\"DMA\":\"DMA_list\"})\n",
    "df_DMA_zip.head(2)"
   ]
  },
  {
   "cell_type": "code",
   "execution_count": 3,
   "metadata": {},
   "outputs": [
    {
     "name": "stdout",
     "output_type": "stream",
     "text": [
      "(183, 5)\n",
      "84\n"
     ]
    },
    {
     "data": {
      "text/html": [
       "<div>\n",
       "<style scoped>\n",
       "    .dataframe tbody tr th:only-of-type {\n",
       "        vertical-align: middle;\n",
       "    }\n",
       "\n",
       "    .dataframe tbody tr th {\n",
       "        vertical-align: top;\n",
       "    }\n",
       "\n",
       "    .dataframe thead th {\n",
       "        text-align: right;\n",
       "    }\n",
       "</style>\n",
       "<table border=\"1\" class=\"dataframe\">\n",
       "  <thead>\n",
       "    <tr style=\"text-align: right;\">\n",
       "      <th></th>\n",
       "      <th>location_id</th>\n",
       "      <th>C_county</th>\n",
       "      <th>C_city</th>\n",
       "      <th>Zip</th>\n",
       "      <th>ST</th>\n",
       "    </tr>\n",
       "  </thead>\n",
       "  <tbody>\n",
       "    <tr>\n",
       "      <th>0</th>\n",
       "      <td>30</td>\n",
       "      <td>hancock</td>\n",
       "      <td>Findlay</td>\n",
       "      <td>43402</td>\n",
       "      <td>OH</td>\n",
       "    </tr>\n",
       "    <tr>\n",
       "      <th>1</th>\n",
       "      <td>45</td>\n",
       "      <td>ottawa</td>\n",
       "      <td>Genoa</td>\n",
       "      <td>43616</td>\n",
       "      <td>OH</td>\n",
       "    </tr>\n",
       "  </tbody>\n",
       "</table>\n",
       "</div>"
      ],
      "text/plain": [
       "  location_id C_county   C_city    Zip  ST\n",
       "0          30  hancock  Findlay  43402  OH\n",
       "1          45   ottawa    Genoa  43616  OH"
      ]
     },
     "execution_count": 3,
     "metadata": {},
     "output_type": "execute_result"
    }
   ],
   "source": [
    "df_BR_file=pd.read_excel(\"./BL Big Lots stores in Art Van Zips 2020 0306.xlsx\",\n",
    "                         sheet_name=\"Art Van\",dtype=str)\n",
    "df_BR_file=df_BR_file[['location_id','C_county','C_city','Zip','ST']].drop_duplicates()\n",
    "df_BR_file['C_county']=df_BR_file['C_county'].apply(lambda x: x.replace(\" County\",\"\").lower())\n",
    "print(df_BR_file.shape)\n",
    "print(df_BR_file['location_id'].nunique())\n",
    "df_BR_file.head(2)"
   ]
  },
  {
   "cell_type": "code",
   "execution_count": 4,
   "metadata": {},
   "outputs": [
    {
     "data": {
      "text/html": [
       "<div>\n",
       "<style scoped>\n",
       "    .dataframe tbody tr th:only-of-type {\n",
       "        vertical-align: middle;\n",
       "    }\n",
       "\n",
       "    .dataframe tbody tr th {\n",
       "        vertical-align: top;\n",
       "    }\n",
       "\n",
       "    .dataframe thead th {\n",
       "        text-align: right;\n",
       "    }\n",
       "</style>\n",
       "<table border=\"1\" class=\"dataframe\">\n",
       "  <thead>\n",
       "    <tr style=\"text-align: right;\">\n",
       "      <th></th>\n",
       "      <th>location_id</th>\n",
       "      <th>location_desc</th>\n",
       "      <th>open_dt</th>\n",
       "      <th>close_dt</th>\n",
       "      <th>address_line_1</th>\n",
       "      <th>address_line_2</th>\n",
       "      <th>city_nm</th>\n",
       "      <th>state_nm</th>\n",
       "      <th>zip_cd</th>\n",
       "      <th>longitude_meas</th>\n",
       "      <th>latitude_meas</th>\n",
       "      <th>sales_square_feet</th>\n",
       "      <th>furniture_sales_square_feet</th>\n",
       "    </tr>\n",
       "  </thead>\n",
       "  <tbody>\n",
       "  </tbody>\n",
       "</table>\n",
       "</div>"
      ],
      "text/plain": [
       "Empty DataFrame\n",
       "Columns: [location_id, location_desc, open_dt, close_dt, address_line_1, address_line_2, city_nm, state_nm, zip_cd, longitude_meas, latitude_meas, sales_square_feet, furniture_sales_square_feet]\n",
       "Index: []"
      ]
     },
     "execution_count": 4,
     "metadata": {},
     "output_type": "execute_result"
    }
   ],
   "source": [
    "store_list=pd.read_table(\"/home/jian/BigLots/static_files/Store_list/MediaStormStores20200301-134228-900.txt\",\n",
    "                        dtype=str,sep=\"|\")\n",
    "store_list[store_list['location_id']==\"4619\"]"
   ]
  },
  {
   "cell_type": "code",
   "execution_count": 5,
   "metadata": {},
   "outputs": [
    {
     "data": {
      "text/html": [
       "<div>\n",
       "<style scoped>\n",
       "    .dataframe tbody tr th:only-of-type {\n",
       "        vertical-align: middle;\n",
       "    }\n",
       "\n",
       "    .dataframe tbody tr th {\n",
       "        vertical-align: top;\n",
       "    }\n",
       "\n",
       "    .dataframe thead th {\n",
       "        text-align: right;\n",
       "    }\n",
       "</style>\n",
       "<table border=\"1\" class=\"dataframe\">\n",
       "  <thead>\n",
       "    <tr style=\"text-align: right;\">\n",
       "      <th></th>\n",
       "      <th>location_id</th>\n",
       "      <th>C_county</th>\n",
       "      <th>C_city</th>\n",
       "      <th>Zip</th>\n",
       "      <th>ST</th>\n",
       "    </tr>\n",
       "  </thead>\n",
       "  <tbody>\n",
       "    <tr>\n",
       "      <th>233</th>\n",
       "      <td>4619</td>\n",
       "      <td>kane</td>\n",
       "      <td>Algonquin</td>\n",
       "      <td>NaN</td>\n",
       "      <td>NaN</td>\n",
       "    </tr>\n",
       "  </tbody>\n",
       "</table>\n",
       "</div>"
      ],
      "text/plain": [
       "    location_id C_county     C_city  Zip   ST\n",
       "233        4619     kane  Algonquin  NaN  NaN"
      ]
     },
     "execution_count": 5,
     "metadata": {},
     "output_type": "execute_result"
    }
   ],
   "source": [
    "df_4619=df_BR_file[pd.isnull(df_BR_file['Zip'])]\n",
    "df_BR_file=df_BR_file[pd.notnull(df_BR_file['Zip'])]\n",
    "df_BR_file['Zip']=df_BR_file['Zip'].apply(lambda x: x.split(\"-\")[0].zfill(5))\n",
    "df_4619"
   ]
  },
  {
   "cell_type": "code",
   "execution_count": 6,
   "metadata": {},
   "outputs": [
    {
     "data": {
      "text/plain": [
       "array(['CHICAGO'], dtype=object)"
      ]
     },
     "execution_count": 6,
     "metadata": {},
     "output_type": "execute_result"
    }
   ],
   "source": [
    "df_DMA_zip[(df_DMA_zip['County'].str.lower()==\"kane\") & (df_DMA_zip['State']==\"IL\")]['DMA'].unique()"
   ]
  },
  {
   "cell_type": "code",
   "execution_count": 7,
   "metadata": {},
   "outputs": [
    {
     "data": {
      "text/html": [
       "<div>\n",
       "<style scoped>\n",
       "    .dataframe tbody tr th:only-of-type {\n",
       "        vertical-align: middle;\n",
       "    }\n",
       "\n",
       "    .dataframe tbody tr th {\n",
       "        vertical-align: top;\n",
       "    }\n",
       "\n",
       "    .dataframe thead th {\n",
       "        text-align: right;\n",
       "    }\n",
       "</style>\n",
       "<table border=\"1\" class=\"dataframe\">\n",
       "  <thead>\n",
       "    <tr style=\"text-align: right;\">\n",
       "      <th></th>\n",
       "      <th>location_id</th>\n",
       "      <th>C_county</th>\n",
       "      <th>C_city</th>\n",
       "      <th>Zip</th>\n",
       "      <th>ST</th>\n",
       "      <th>DMA</th>\n",
       "      <th>DMA_list</th>\n",
       "    </tr>\n",
       "  </thead>\n",
       "  <tbody>\n",
       "    <tr>\n",
       "      <th>233</th>\n",
       "      <td>4619</td>\n",
       "      <td>kane</td>\n",
       "      <td>Algonquin</td>\n",
       "      <td>NaN</td>\n",
       "      <td>NaN</td>\n",
       "      <td>CHICAGO</td>\n",
       "      <td>CHICAGO</td>\n",
       "    </tr>\n",
       "  </tbody>\n",
       "</table>\n",
       "</div>"
      ],
      "text/plain": [
       "    location_id C_county     C_city  Zip   ST      DMA DMA_list\n",
       "233        4619     kane  Algonquin  NaN  NaN  CHICAGO  CHICAGO"
      ]
     },
     "execution_count": 7,
     "metadata": {},
     "output_type": "execute_result"
    }
   ],
   "source": [
    "df_4619['DMA']=\"CHICAGO\"\n",
    "df_4619['DMA_list']=set([\"CHICAGO\"])\n",
    "df_4619"
   ]
  },
  {
   "cell_type": "code",
   "execution_count": 8,
   "metadata": {},
   "outputs": [
    {
     "data": {
      "text/html": [
       "<div>\n",
       "<style scoped>\n",
       "    .dataframe tbody tr th:only-of-type {\n",
       "        vertical-align: middle;\n",
       "    }\n",
       "\n",
       "    .dataframe tbody tr th {\n",
       "        vertical-align: top;\n",
       "    }\n",
       "\n",
       "    .dataframe thead th {\n",
       "        text-align: right;\n",
       "    }\n",
       "</style>\n",
       "<table border=\"1\" class=\"dataframe\">\n",
       "  <thead>\n",
       "    <tr style=\"text-align: right;\">\n",
       "      <th></th>\n",
       "      <th>location_id</th>\n",
       "      <th>C_county</th>\n",
       "      <th>C_city</th>\n",
       "      <th>Zip</th>\n",
       "      <th>ST</th>\n",
       "      <th>DMA</th>\n",
       "      <th>State</th>\n",
       "      <th>County</th>\n",
       "    </tr>\n",
       "  </thead>\n",
       "  <tbody>\n",
       "    <tr>\n",
       "      <th>0</th>\n",
       "      <td>30</td>\n",
       "      <td>hancock</td>\n",
       "      <td>Findlay</td>\n",
       "      <td>43402</td>\n",
       "      <td>OH</td>\n",
       "      <td>TOLEDO</td>\n",
       "      <td>OH</td>\n",
       "      <td>wood</td>\n",
       "    </tr>\n",
       "    <tr>\n",
       "      <th>1</th>\n",
       "      <td>45</td>\n",
       "      <td>ottawa</td>\n",
       "      <td>Genoa</td>\n",
       "      <td>43616</td>\n",
       "      <td>OH</td>\n",
       "      <td>TOLEDO</td>\n",
       "      <td>OH</td>\n",
       "      <td>lucas</td>\n",
       "    </tr>\n",
       "  </tbody>\n",
       "</table>\n",
       "</div>"
      ],
      "text/plain": [
       "  location_id C_county   C_city    Zip  ST     DMA State County\n",
       "0          30  hancock  Findlay  43402  OH  TOLEDO    OH   wood\n",
       "1          45   ottawa    Genoa  43616  OH  TOLEDO    OH  lucas"
      ]
     },
     "execution_count": 8,
     "metadata": {},
     "output_type": "execute_result"
    }
   ],
   "source": [
    "df_BR_file=pd.merge(df_BR_file,df_DMA_zip,on=\"Zip\",how=\"left\")\n",
    "df_BR_file.head(2)"
   ]
  },
  {
   "cell_type": "code",
   "execution_count": 9,
   "metadata": {},
   "outputs": [
    {
     "name": "stdout",
     "output_type": "stream",
     "text": [
      "(121, 11)\n",
      "(121, 6)\n"
     ]
    },
    {
     "data": {
      "text/html": [
       "<div>\n",
       "<style scoped>\n",
       "    .dataframe tbody tr th:only-of-type {\n",
       "        vertical-align: middle;\n",
       "    }\n",
       "\n",
       "    .dataframe tbody tr th {\n",
       "        vertical-align: top;\n",
       "    }\n",
       "\n",
       "    .dataframe thead th {\n",
       "        text-align: right;\n",
       "    }\n",
       "</style>\n",
       "<table border=\"1\" class=\"dataframe\">\n",
       "  <thead>\n",
       "    <tr style=\"text-align: right;\">\n",
       "      <th></th>\n",
       "      <th>location_id</th>\n",
       "      <th>C_county</th>\n",
       "      <th>C_city</th>\n",
       "      <th>Zip</th>\n",
       "      <th>DMA</th>\n",
       "      <th>State</th>\n",
       "    </tr>\n",
       "  </thead>\n",
       "  <tbody>\n",
       "    <tr>\n",
       "      <th>51</th>\n",
       "      <td>1006</td>\n",
       "      <td>kane</td>\n",
       "      <td>Batavia</td>\n",
       "      <td>29577</td>\n",
       "      <td>MYRTLE BEACH-FLORENCE</td>\n",
       "      <td>SC</td>\n",
       "    </tr>\n",
       "    <tr>\n",
       "      <th>52</th>\n",
       "      <td>1006</td>\n",
       "      <td>dupage</td>\n",
       "      <td>Glendale Heights</td>\n",
       "      <td>29577</td>\n",
       "      <td>MYRTLE BEACH-FLORENCE</td>\n",
       "      <td>SC</td>\n",
       "    </tr>\n",
       "  </tbody>\n",
       "</table>\n",
       "</div>"
      ],
      "text/plain": [
       "   location_id C_county            C_city    Zip                    DMA State\n",
       "51        1006     kane           Batavia  29577  MYRTLE BEACH-FLORENCE    SC\n",
       "52        1006   dupage  Glendale Heights  29577  MYRTLE BEACH-FLORENCE    SC"
      ]
     },
     "execution_count": 9,
     "metadata": {},
     "output_type": "execute_result"
    }
   ],
   "source": [
    "df_BR_file['match_1']=df_BR_file['C_county']+\", \"+df_BR_file['ST']\n",
    "df_BR_file['match_2']=df_BR_file['County']+\", \"+df_BR_file['State']\n",
    "df_BR_file['score']=df_BR_file.apply(lambda x: fuzz.partial_ratio(x['match_1'],x['match_2']),axis=1)\n",
    "df_BR_file=df_BR_file.sort_values([\"location_id\",\"score\"],ascending=[True,False])\n",
    "df_BR_file=df_BR_file.drop_duplicates([\"location_id\",\"score\"])\n",
    "print(df_BR_file.shape)\n",
    "del df_BR_file['ST']\n",
    "del df_BR_file['County']\n",
    "del df_BR_file['match_1']\n",
    "del df_BR_file['match_2']\n",
    "del df_BR_file['score']\n",
    "print(df_BR_file.shape)\n",
    "df_BR_file.head(2)"
   ]
  },
  {
   "cell_type": "code",
   "execution_count": 10,
   "metadata": {},
   "outputs": [
    {
     "data": {
      "text/html": [
       "<div>\n",
       "<style scoped>\n",
       "    .dataframe tbody tr th:only-of-type {\n",
       "        vertical-align: middle;\n",
       "    }\n",
       "\n",
       "    .dataframe tbody tr th {\n",
       "        vertical-align: top;\n",
       "    }\n",
       "\n",
       "    .dataframe thead th {\n",
       "        text-align: right;\n",
       "    }\n",
       "</style>\n",
       "<table border=\"1\" class=\"dataframe\">\n",
       "  <thead>\n",
       "    <tr style=\"text-align: right;\">\n",
       "      <th></th>\n",
       "      <th>location_id</th>\n",
       "      <th>C_county</th>\n",
       "      <th>C_city</th>\n",
       "      <th>Zip</th>\n",
       "      <th>DMA</th>\n",
       "      <th>State</th>\n",
       "      <th>DMA_list</th>\n",
       "    </tr>\n",
       "  </thead>\n",
       "  <tbody>\n",
       "    <tr>\n",
       "      <th>0</th>\n",
       "      <td>1006</td>\n",
       "      <td>kane</td>\n",
       "      <td>Batavia</td>\n",
       "      <td>29577</td>\n",
       "      <td>MYRTLE BEACH-FLORENCE</td>\n",
       "      <td>SC</td>\n",
       "      <td>{MYRTLE BEACH-FLORENCE}</td>\n",
       "    </tr>\n",
       "    <tr>\n",
       "      <th>1</th>\n",
       "      <td>1006</td>\n",
       "      <td>dupage</td>\n",
       "      <td>Glendale Heights</td>\n",
       "      <td>29577</td>\n",
       "      <td>MYRTLE BEACH-FLORENCE</td>\n",
       "      <td>SC</td>\n",
       "      <td>{MYRTLE BEACH-FLORENCE}</td>\n",
       "    </tr>\n",
       "  </tbody>\n",
       "</table>\n",
       "</div>"
      ],
      "text/plain": [
       "  location_id C_county            C_city    Zip                    DMA State  \\\n",
       "0        1006     kane           Batavia  29577  MYRTLE BEACH-FLORENCE    SC   \n",
       "1        1006   dupage  Glendale Heights  29577  MYRTLE BEACH-FLORENCE    SC   \n",
       "\n",
       "                  DMA_list  \n",
       "0  {MYRTLE BEACH-FLORENCE}  \n",
       "1  {MYRTLE BEACH-FLORENCE}  "
      ]
     },
     "execution_count": 10,
     "metadata": {},
     "output_type": "execute_result"
    }
   ],
   "source": [
    "df_BR_file=pd.merge(df_BR_file,df_DMA_list_by_zip,on=\"Zip\",how=\"left\")\n",
    "df_BR_file.head(2)"
   ]
  },
  {
   "cell_type": "code",
   "execution_count": 11,
   "metadata": {},
   "outputs": [
    {
     "data": {
      "text/html": [
       "<div>\n",
       "<style scoped>\n",
       "    .dataframe tbody tr th:only-of-type {\n",
       "        vertical-align: middle;\n",
       "    }\n",
       "\n",
       "    .dataframe tbody tr th {\n",
       "        vertical-align: top;\n",
       "    }\n",
       "\n",
       "    .dataframe thead th {\n",
       "        text-align: right;\n",
       "    }\n",
       "</style>\n",
       "<table border=\"1\" class=\"dataframe\">\n",
       "  <thead>\n",
       "    <tr style=\"text-align: right;\">\n",
       "      <th></th>\n",
       "      <th>location_id</th>\n",
       "      <th>C_county</th>\n",
       "      <th>C_city</th>\n",
       "      <th>Zip</th>\n",
       "      <th>ST</th>\n",
       "      <th>DMA</th>\n",
       "      <th>DMA_list</th>\n",
       "    </tr>\n",
       "  </thead>\n",
       "  <tbody>\n",
       "    <tr>\n",
       "      <th>233</th>\n",
       "      <td>4619</td>\n",
       "      <td>kane</td>\n",
       "      <td>Algonquin</td>\n",
       "      <td>NaN</td>\n",
       "      <td>NaN</td>\n",
       "      <td>CHICAGO</td>\n",
       "      <td>CHICAGO</td>\n",
       "    </tr>\n",
       "  </tbody>\n",
       "</table>\n",
       "</div>"
      ],
      "text/plain": [
       "    location_id C_county     C_city  Zip   ST      DMA DMA_list\n",
       "233        4619     kane  Algonquin  NaN  NaN  CHICAGO  CHICAGO"
      ]
     },
     "execution_count": 11,
     "metadata": {},
     "output_type": "execute_result"
    }
   ],
   "source": [
    "df_4619"
   ]
  },
  {
   "cell_type": "code",
   "execution_count": 12,
   "metadata": {},
   "outputs": [
    {
     "name": "stderr",
     "output_type": "stream",
     "text": [
      "/home/jian/.local/lib/python3.6/site-packages/pandas/core/frame.py:7138: FutureWarning: Sorting because non-concatenation axis is not aligned. A future version\n",
      "of pandas will change to not sort by default.\n",
      "\n",
      "To accept the future behavior, pass 'sort=False'.\n",
      "\n",
      "To retain the current behavior and silence the warning, pass 'sort=True'.\n",
      "\n",
      "  sort=sort,\n"
     ]
    }
   ],
   "source": [
    "df_output=df_BR_file.append(df_4619)\n",
    "df_output['location_id']=df_output['location_id'].astype(int)\n",
    "df_output=df_output.sort_values(\"location_id\")"
   ]
  },
  {
   "cell_type": "code",
   "execution_count": 13,
   "metadata": {},
   "outputs": [
    {
     "data": {
      "text/plain": [
       "84"
      ]
     },
     "execution_count": 13,
     "metadata": {},
     "output_type": "execute_result"
    }
   ],
   "source": [
    "df_output['location_id'].nunique()"
   ]
  },
  {
   "cell_type": "code",
   "execution_count": 14,
   "metadata": {},
   "outputs": [],
   "source": [
    "df_output.to_csv(\"./BL_DMA_for_121_JL_\"+str(datetime.datetime.now())+\".csv\",index=False)"
   ]
  },
  {
   "cell_type": "code",
   "execution_count": 15,
   "metadata": {},
   "outputs": [
    {
     "data": {
      "text/html": [
       "<div>\n",
       "<style scoped>\n",
       "    .dataframe tbody tr th:only-of-type {\n",
       "        vertical-align: middle;\n",
       "    }\n",
       "\n",
       "    .dataframe tbody tr th {\n",
       "        vertical-align: top;\n",
       "    }\n",
       "\n",
       "    .dataframe thead th {\n",
       "        text-align: right;\n",
       "    }\n",
       "</style>\n",
       "<table border=\"1\" class=\"dataframe\">\n",
       "  <thead>\n",
       "    <tr style=\"text-align: right;\">\n",
       "      <th></th>\n",
       "      <th>Zip</th>\n",
       "      <th>DMA</th>\n",
       "      <th>State</th>\n",
       "      <th>County</th>\n",
       "    </tr>\n",
       "  </thead>\n",
       "  <tbody>\n",
       "    <tr>\n",
       "      <th>26165</th>\n",
       "      <td>49307</td>\n",
       "      <td>GRAND RAPIDS-KALMZOO-B.CRK</td>\n",
       "      <td>MI</td>\n",
       "      <td>newaygo</td>\n",
       "    </tr>\n",
       "    <tr>\n",
       "      <th>26166</th>\n",
       "      <td>49307</td>\n",
       "      <td>TRAVERSE CITY-CADILLAC</td>\n",
       "      <td>MI</td>\n",
       "      <td>mecosta</td>\n",
       "    </tr>\n",
       "  </tbody>\n",
       "</table>\n",
       "</div>"
      ],
      "text/plain": [
       "         Zip                         DMA State   County\n",
       "26165  49307  GRAND RAPIDS-KALMZOO-B.CRK    MI  newaygo\n",
       "26166  49307      TRAVERSE CITY-CADILLAC    MI  mecosta"
      ]
     },
     "execution_count": 15,
     "metadata": {},
     "output_type": "execute_result"
    }
   ],
   "source": [
    "# QC_49307\n",
    "df_DMA_zip[df_DMA_zip['Zip']==\"49307\"]"
   ]
  },
  {
   "cell_type": "code",
   "execution_count": null,
   "metadata": {},
   "outputs": [],
   "source": []
  }
 ],
 "metadata": {
  "kernelspec": {
   "display_name": "Python 3",
   "language": "python",
   "name": "python3"
  },
  "language_info": {
   "codemirror_mode": {
    "name": "ipython",
    "version": 3
   },
   "file_extension": ".py",
   "mimetype": "text/x-python",
   "name": "python",
   "nbconvert_exporter": "python",
   "pygments_lexer": "ipython3",
   "version": "3.6.1"
  }
 },
 "nbformat": 4,
 "nbformat_minor": 2
}
