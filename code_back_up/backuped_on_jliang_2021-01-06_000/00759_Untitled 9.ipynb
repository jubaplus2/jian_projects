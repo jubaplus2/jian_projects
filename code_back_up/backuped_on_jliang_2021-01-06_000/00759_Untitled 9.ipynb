{
 "cells": [
  {
   "cell_type": "code",
   "execution_count": 1,
   "metadata": {},
   "outputs": [],
   "source": [
    "import pandas as pd"
   ]
  },
  {
   "cell_type": "code",
   "execution_count": 2,
   "metadata": {},
   "outputs": [],
   "source": [
    "df=pd.read_csv(\"/home/jian/BigLots/MediaStorm_2020-04-18/MediaStormSalesWeekly20200421-112106-939.txt\",sep=\"|\")"
   ]
  },
  {
   "cell_type": "code",
   "execution_count": 3,
   "metadata": {},
   "outputs": [
    {
     "data": {
      "text/html": [
       "<div>\n",
       "<style scoped>\n",
       "    .dataframe tbody tr th:only-of-type {\n",
       "        vertical-align: middle;\n",
       "    }\n",
       "\n",
       "    .dataframe tbody tr th {\n",
       "        vertical-align: top;\n",
       "    }\n",
       "\n",
       "    .dataframe thead th {\n",
       "        text-align: right;\n",
       "    }\n",
       "</style>\n",
       "<table border=\"1\" class=\"dataframe\">\n",
       "  <thead>\n",
       "    <tr style=\"text-align: right;\">\n",
       "      <th></th>\n",
       "      <th>location_id</th>\n",
       "      <th>week_end_dt</th>\n",
       "      <th>fiscal_week_nbr</th>\n",
       "      <th>gross_sales_amt</th>\n",
       "      <th>gross_transaction_cnt</th>\n",
       "      <th>class_code_id</th>\n",
       "      <th>subclass_id</th>\n",
       "      <th>subclass_gross_sales_amt</th>\n",
       "    </tr>\n",
       "  </thead>\n",
       "  <tbody>\n",
       "    <tr>\n",
       "      <th>0</th>\n",
       "      <td>1</td>\n",
       "      <td>2020-04-18</td>\n",
       "      <td>11</td>\n",
       "      <td>148126.12</td>\n",
       "      <td>2442</td>\n",
       "      <td>11001</td>\n",
       "      <td>2</td>\n",
       "      <td>358.43</td>\n",
       "    </tr>\n",
       "    <tr>\n",
       "      <th>1</th>\n",
       "      <td>1</td>\n",
       "      <td>2020-04-18</td>\n",
       "      <td>11</td>\n",
       "      <td>148126.12</td>\n",
       "      <td>2442</td>\n",
       "      <td>11001</td>\n",
       "      <td>4</td>\n",
       "      <td>25.48</td>\n",
       "    </tr>\n",
       "  </tbody>\n",
       "</table>\n",
       "</div>"
      ],
      "text/plain": [
       "   location_id week_end_dt  fiscal_week_nbr  gross_sales_amt  \\\n",
       "0            1  2020-04-18               11        148126.12   \n",
       "1            1  2020-04-18               11        148126.12   \n",
       "\n",
       "   gross_transaction_cnt  class_code_id  subclass_id  subclass_gross_sales_amt  \n",
       "0                   2442          11001            2                    358.43  \n",
       "1                   2442          11001            4                     25.48  "
      ]
     },
     "execution_count": 3,
     "metadata": {},
     "output_type": "execute_result"
    }
   ],
   "source": [
    "df.head(2)"
   ]
  },
  {
   "cell_type": "code",
   "execution_count": 4,
   "metadata": {},
   "outputs": [],
   "source": [
    "df=df[['location_id','week_end_dt','gross_sales_amt','gross_transaction_cnt']].drop_duplicates()"
   ]
  },
  {
   "cell_type": "code",
   "execution_count": 5,
   "metadata": {},
   "outputs": [
    {
     "data": {
      "text/html": [
       "<div>\n",
       "<style scoped>\n",
       "    .dataframe tbody tr th:only-of-type {\n",
       "        vertical-align: middle;\n",
       "    }\n",
       "\n",
       "    .dataframe tbody tr th {\n",
       "        vertical-align: top;\n",
       "    }\n",
       "\n",
       "    .dataframe thead th {\n",
       "        text-align: right;\n",
       "    }\n",
       "</style>\n",
       "<table border=\"1\" class=\"dataframe\">\n",
       "  <thead>\n",
       "    <tr style=\"text-align: right;\">\n",
       "      <th></th>\n",
       "      <th>location_id</th>\n",
       "      <th>week_end_dt</th>\n",
       "      <th>gross_sales_amt</th>\n",
       "      <th>gross_transaction_cnt</th>\n",
       "    </tr>\n",
       "  </thead>\n",
       "  <tbody>\n",
       "    <tr>\n",
       "      <th>0</th>\n",
       "      <td>1</td>\n",
       "      <td>2020-04-18</td>\n",
       "      <td>148126.12</td>\n",
       "      <td>2442</td>\n",
       "    </tr>\n",
       "    <tr>\n",
       "      <th>447</th>\n",
       "      <td>3</td>\n",
       "      <td>2020-04-18</td>\n",
       "      <td>120458.06</td>\n",
       "      <td>2514</td>\n",
       "    </tr>\n",
       "    <tr>\n",
       "      <th>893</th>\n",
       "      <td>29</td>\n",
       "      <td>2020-04-18</td>\n",
       "      <td>79170.07</td>\n",
       "      <td>1155</td>\n",
       "    </tr>\n",
       "    <tr>\n",
       "      <th>1288</th>\n",
       "      <td>30</td>\n",
       "      <td>2020-04-18</td>\n",
       "      <td>74665.86</td>\n",
       "      <td>1256</td>\n",
       "    </tr>\n",
       "    <tr>\n",
       "      <th>1682</th>\n",
       "      <td>42</td>\n",
       "      <td>2020-04-18</td>\n",
       "      <td>91383.28</td>\n",
       "      <td>1537</td>\n",
       "    </tr>\n",
       "    <tr>\n",
       "      <th>...</th>\n",
       "      <td>...</td>\n",
       "      <td>...</td>\n",
       "      <td>...</td>\n",
       "      <td>...</td>\n",
       "    </tr>\n",
       "    <tr>\n",
       "      <th>1135866</th>\n",
       "      <td>5411</td>\n",
       "      <td>2020-04-18</td>\n",
       "      <td>112401.99</td>\n",
       "      <td>2548</td>\n",
       "    </tr>\n",
       "    <tr>\n",
       "      <th>1136303</th>\n",
       "      <td>5412</td>\n",
       "      <td>2020-04-18</td>\n",
       "      <td>127750.71</td>\n",
       "      <td>1829</td>\n",
       "    </tr>\n",
       "    <tr>\n",
       "      <th>1136723</th>\n",
       "      <td>5413</td>\n",
       "      <td>2020-04-18</td>\n",
       "      <td>135013.88</td>\n",
       "      <td>1979</td>\n",
       "    </tr>\n",
       "    <tr>\n",
       "      <th>1137123</th>\n",
       "      <td>5414</td>\n",
       "      <td>2020-04-18</td>\n",
       "      <td>118983.07</td>\n",
       "      <td>2040</td>\n",
       "    </tr>\n",
       "    <tr>\n",
       "      <th>1137544</th>\n",
       "      <td>6990</td>\n",
       "      <td>2020-04-18</td>\n",
       "      <td>2272223.84</td>\n",
       "      <td>21395</td>\n",
       "    </tr>\n",
       "  </tbody>\n",
       "</table>\n",
       "<p>1399 rows × 4 columns</p>\n",
       "</div>"
      ],
      "text/plain": [
       "         location_id week_end_dt  gross_sales_amt  gross_transaction_cnt\n",
       "0                  1  2020-04-18        148126.12                   2442\n",
       "447                3  2020-04-18        120458.06                   2514\n",
       "893               29  2020-04-18         79170.07                   1155\n",
       "1288              30  2020-04-18         74665.86                   1256\n",
       "1682              42  2020-04-18         91383.28                   1537\n",
       "...              ...         ...              ...                    ...\n",
       "1135866         5411  2020-04-18        112401.99                   2548\n",
       "1136303         5412  2020-04-18        127750.71                   1829\n",
       "1136723         5413  2020-04-18        135013.88                   1979\n",
       "1137123         5414  2020-04-18        118983.07                   2040\n",
       "1137544         6990  2020-04-18       2272223.84                  21395\n",
       "\n",
       "[1399 rows x 4 columns]"
      ]
     },
     "execution_count": 5,
     "metadata": {},
     "output_type": "execute_result"
    }
   ],
   "source": [
    "df"
   ]
  },
  {
   "cell_type": "code",
   "execution_count": 6,
   "metadata": {},
   "outputs": [
    {
     "data": {
      "text/plain": [
       "129516917.91"
      ]
     },
     "execution_count": 6,
     "metadata": {},
     "output_type": "execute_result"
    }
   ],
   "source": [
    "df['gross_sales_amt'].sum()"
   ]
  },
  {
   "cell_type": "code",
   "execution_count": 8,
   "metadata": {},
   "outputs": [
    {
     "data": {
      "text/plain": [
       "2461460"
      ]
     },
     "execution_count": 8,
     "metadata": {},
     "output_type": "execute_result"
    }
   ],
   "source": [
    "df['gross_transaction_cnt'].sum()"
   ]
  },
  {
   "cell_type": "code",
   "execution_count": 9,
   "metadata": {},
   "outputs": [],
   "source": [
    "df['AOV']=df['gross_sales_amt']/df['gross_transaction_cnt']"
   ]
  },
  {
   "cell_type": "code",
   "execution_count": 10,
   "metadata": {},
   "outputs": [
    {
     "data": {
      "text/html": [
       "<div>\n",
       "<style scoped>\n",
       "    .dataframe tbody tr th:only-of-type {\n",
       "        vertical-align: middle;\n",
       "    }\n",
       "\n",
       "    .dataframe tbody tr th {\n",
       "        vertical-align: top;\n",
       "    }\n",
       "\n",
       "    .dataframe thead th {\n",
       "        text-align: right;\n",
       "    }\n",
       "</style>\n",
       "<table border=\"1\" class=\"dataframe\">\n",
       "  <thead>\n",
       "    <tr style=\"text-align: right;\">\n",
       "      <th></th>\n",
       "      <th>location_id</th>\n",
       "      <th>week_end_dt</th>\n",
       "      <th>gross_sales_amt</th>\n",
       "      <th>gross_transaction_cnt</th>\n",
       "      <th>AOV</th>\n",
       "    </tr>\n",
       "  </thead>\n",
       "  <tbody>\n",
       "    <tr>\n",
       "      <th>0</th>\n",
       "      <td>1</td>\n",
       "      <td>2020-04-18</td>\n",
       "      <td>148126.12</td>\n",
       "      <td>2442</td>\n",
       "      <td>60.657707</td>\n",
       "    </tr>\n",
       "    <tr>\n",
       "      <th>447</th>\n",
       "      <td>3</td>\n",
       "      <td>2020-04-18</td>\n",
       "      <td>120458.06</td>\n",
       "      <td>2514</td>\n",
       "      <td>47.914901</td>\n",
       "    </tr>\n",
       "    <tr>\n",
       "      <th>893</th>\n",
       "      <td>29</td>\n",
       "      <td>2020-04-18</td>\n",
       "      <td>79170.07</td>\n",
       "      <td>1155</td>\n",
       "      <td>68.545515</td>\n",
       "    </tr>\n",
       "    <tr>\n",
       "      <th>1288</th>\n",
       "      <td>30</td>\n",
       "      <td>2020-04-18</td>\n",
       "      <td>74665.86</td>\n",
       "      <td>1256</td>\n",
       "      <td>59.447341</td>\n",
       "    </tr>\n",
       "    <tr>\n",
       "      <th>1682</th>\n",
       "      <td>42</td>\n",
       "      <td>2020-04-18</td>\n",
       "      <td>91383.28</td>\n",
       "      <td>1537</td>\n",
       "      <td>59.455615</td>\n",
       "    </tr>\n",
       "    <tr>\n",
       "      <th>...</th>\n",
       "      <td>...</td>\n",
       "      <td>...</td>\n",
       "      <td>...</td>\n",
       "      <td>...</td>\n",
       "      <td>...</td>\n",
       "    </tr>\n",
       "    <tr>\n",
       "      <th>1135866</th>\n",
       "      <td>5411</td>\n",
       "      <td>2020-04-18</td>\n",
       "      <td>112401.99</td>\n",
       "      <td>2548</td>\n",
       "      <td>44.113811</td>\n",
       "    </tr>\n",
       "    <tr>\n",
       "      <th>1136303</th>\n",
       "      <td>5412</td>\n",
       "      <td>2020-04-18</td>\n",
       "      <td>127750.71</td>\n",
       "      <td>1829</td>\n",
       "      <td>69.847299</td>\n",
       "    </tr>\n",
       "    <tr>\n",
       "      <th>1136723</th>\n",
       "      <td>5413</td>\n",
       "      <td>2020-04-18</td>\n",
       "      <td>135013.88</td>\n",
       "      <td>1979</td>\n",
       "      <td>68.223284</td>\n",
       "    </tr>\n",
       "    <tr>\n",
       "      <th>1137123</th>\n",
       "      <td>5414</td>\n",
       "      <td>2020-04-18</td>\n",
       "      <td>118983.07</td>\n",
       "      <td>2040</td>\n",
       "      <td>58.325034</td>\n",
       "    </tr>\n",
       "    <tr>\n",
       "      <th>1137544</th>\n",
       "      <td>6990</td>\n",
       "      <td>2020-04-18</td>\n",
       "      <td>2272223.84</td>\n",
       "      <td>21395</td>\n",
       "      <td>106.203498</td>\n",
       "    </tr>\n",
       "  </tbody>\n",
       "</table>\n",
       "<p>1399 rows × 5 columns</p>\n",
       "</div>"
      ],
      "text/plain": [
       "         location_id week_end_dt  gross_sales_amt  gross_transaction_cnt  \\\n",
       "0                  1  2020-04-18        148126.12                   2442   \n",
       "447                3  2020-04-18        120458.06                   2514   \n",
       "893               29  2020-04-18         79170.07                   1155   \n",
       "1288              30  2020-04-18         74665.86                   1256   \n",
       "1682              42  2020-04-18         91383.28                   1537   \n",
       "...              ...         ...              ...                    ...   \n",
       "1135866         5411  2020-04-18        112401.99                   2548   \n",
       "1136303         5412  2020-04-18        127750.71                   1829   \n",
       "1136723         5413  2020-04-18        135013.88                   1979   \n",
       "1137123         5414  2020-04-18        118983.07                   2040   \n",
       "1137544         6990  2020-04-18       2272223.84                  21395   \n",
       "\n",
       "                AOV  \n",
       "0         60.657707  \n",
       "447       47.914901  \n",
       "893       68.545515  \n",
       "1288      59.447341  \n",
       "1682      59.455615  \n",
       "...             ...  \n",
       "1135866   44.113811  \n",
       "1136303   69.847299  \n",
       "1136723   68.223284  \n",
       "1137123   58.325034  \n",
       "1137544  106.203498  \n",
       "\n",
       "[1399 rows x 5 columns]"
      ]
     },
     "execution_count": 10,
     "metadata": {},
     "output_type": "execute_result"
    }
   ],
   "source": [
    "df"
   ]
  },
  {
   "cell_type": "code",
   "execution_count": 12,
   "metadata": {},
   "outputs": [
    {
     "data": {
      "text/plain": [
       "2440065"
      ]
     },
     "execution_count": 12,
     "metadata": {},
     "output_type": "execute_result"
    }
   ],
   "source": [
    "df[df['location_id']!=6990]['gross_transaction_cnt'].sum()"
   ]
  },
  {
   "cell_type": "code",
   "execution_count": 13,
   "metadata": {},
   "outputs": [
    {
     "data": {
      "text/plain": [
       "21395"
      ]
     },
     "execution_count": 13,
     "metadata": {},
     "output_type": "execute_result"
    }
   ],
   "source": [
    "df[df['location_id']==6990]['gross_transaction_cnt'].sum()"
   ]
  },
  {
   "cell_type": "code",
   "execution_count": null,
   "metadata": {},
   "outputs": [],
   "source": []
  }
 ],
 "metadata": {
  "kernelspec": {
   "display_name": "Python 3",
   "language": "python",
   "name": "python3"
  },
  "language_info": {
   "codemirror_mode": {
    "name": "ipython",
    "version": 3
   },
   "file_extension": ".py",
   "mimetype": "text/x-python",
   "name": "python",
   "nbconvert_exporter": "python",
   "pygments_lexer": "ipython3",
   "version": "3.6.1"
  }
 },
 "nbformat": 4,
 "nbformat_minor": 2
}
