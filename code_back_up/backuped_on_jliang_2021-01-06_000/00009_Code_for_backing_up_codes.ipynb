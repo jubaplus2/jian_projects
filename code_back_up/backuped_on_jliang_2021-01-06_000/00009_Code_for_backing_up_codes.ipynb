{
 "cells": [
  {
   "cell_type": "code",
   "execution_count": 1,
   "metadata": {},
   "outputs": [],
   "source": [
    "import os\n",
    "from shutil import copyfile\n",
    "from os.path import basename\n",
    "import json\n",
    "import datetime\n",
    "my_root_dir_jliang='/mnt/clients/juba/hqjubaapp02/jliang/'\n",
    "my_root_dir_sharefolder='/mnt/clients/juba/hqjubaapp02/sharefolder/'\n",
    "\n",
    "i_counter_jliang=0\n",
    "i_counter_sharefolder=0\n",
    "\n",
    "backup_mother_folder=\"/mnt/clients/juba/hqjubaapp02/jliang/code_back_up/\"\n",
    "try:\n",
    "    os.stat(backup_mother_folder)\n",
    "except:\n",
    "    os.mkdir(backup_mother_folder)\n",
    "    \n",
    "new_back_up_folder_jliang=\"/mnt/clients/juba/hqjubaapp02/jliang/code_back_up/backuped_on_jliang_\"+str(datetime.datetime.now().date())+\"_%s/\"%str(i_counter_jliang).zfill(3)\n",
    "new_back_up_folder_sharefolder=\"/mnt/clients/juba/hqjubaapp02/jliang/code_back_up/backuped_on_sharefolder_\"+str(datetime.datetime.now().date())+\"_%s/\"%str(i_counter_sharefolder).zfill(3)\n",
    "\n",
    "try:\n",
    "    os.stat(new_back_up_folder_jliang)\n",
    "except:\n",
    "    os.mkdir(new_back_up_folder_jliang)\n",
    "    \n",
    "try:\n",
    "    os.stat(new_back_up_folder_sharefolder)\n",
    "except:\n",
    "    os.mkdir(new_back_up_folder_sharefolder)"
   ]
  },
  {
   "cell_type": "code",
   "execution_count": 2,
   "metadata": {},
   "outputs": [
    {
     "data": {
      "text/plain": [
       "'/mnt/clients/juba/hqjubaapp02/jliang'"
      ]
     },
     "execution_count": 2,
     "metadata": {},
     "output_type": "execute_result"
    }
   ],
   "source": [
    "os.getcwd()"
   ]
  },
  {
   "cell_type": "code",
   "execution_count": 3,
   "metadata": {},
   "outputs": [
    {
     "data": {
      "text/plain": [
       "['backuped_on_jliang_2021-01-06_000', 'backuped_on_sharefolder_2021-01-06_000']"
      ]
     },
     "execution_count": 3,
     "metadata": {},
     "output_type": "execute_result"
    }
   ],
   "source": [
    "os.listdir(\"./code_back_up/\")"
   ]
  },
  {
   "cell_type": "code",
   "execution_count": 4,
   "metadata": {},
   "outputs": [],
   "source": [
    "def recursive_file_gen(my_root_dir):\n",
    "    for root, dirs, files in os.walk(my_root_dir):\n",
    "        for file in files:\n",
    "            yield os.path.join(root, file)"
   ]
  },
  {
   "cell_type": "markdown",
   "metadata": {},
   "source": [
    "# jliang"
   ]
  },
  {
   "cell_type": "code",
   "execution_count": 5,
   "metadata": {},
   "outputs": [
    {
     "name": "stdout",
     "output_type": "stream",
     "text": [
      "125013\n",
      "119843\n"
     ]
    }
   ],
   "source": [
    "list_all_files=list(recursive_file_gen(my_root_dir_jliang))\n",
    "list_all_files=[x for x in list_all_files if \"Moved from Internal Server\" not in x and \"backup\" not in x and \"back_up\" not in x]\n",
    "list_all_files=[x for x in list_all_files if ]\n",
    "\n",
    "list_ipynb_jliang=[x for x in list_all_files if \".ipynb\" in x]\n",
    "list_py_jliang=[x for x in list_all_files if \".py\" in x]\n",
    "list_sql_jliang=[x for x in list_all_files if \".sql\" in x]\n",
    "\n",
    "all_codes_jliang=list_ipynb_jliang+list_py_jliang+list_sql_jliang\n",
    "print(len(all_codes_jliang))\n",
    "\n",
    "all_codes_jliang=[x for x in all_codes_jliang if \"-checkpoint\" not in x]\n",
    "print(len(all_codes_jliang))"
   ]
  },
  {
   "cell_type": "code",
   "execution_count": 7,
   "metadata": {},
   "outputs": [
    {
     "ename": "KeyboardInterrupt",
     "evalue": "",
     "output_type": "error",
     "traceback": [
      "\u001b[0;31m---------------------------------------------------------------------------\u001b[0m",
      "\u001b[0;31mKeyboardInterrupt\u001b[0m                         Traceback (most recent call last)",
      "\u001b[0;32m<ipython-input-7-be9fced549d8>\u001b[0m in \u001b[0;36m<module>\u001b[0;34m\u001b[0m\n\u001b[1;32m      6\u001b[0m     \u001b[0mjson_dict_original_codes\u001b[0m\u001b[0;34m.\u001b[0m\u001b[0mupdate\u001b[0m\u001b[0;34m(\u001b[0m\u001b[0;34m{\u001b[0m\u001b[0mnew_base_name\u001b[0m\u001b[0;34m:\u001b[0m\u001b[0msrc_file\u001b[0m\u001b[0;34m}\u001b[0m\u001b[0;34m)\u001b[0m\u001b[0;34m\u001b[0m\u001b[0;34m\u001b[0m\u001b[0m\n\u001b[1;32m      7\u001b[0m     \u001b[0mcounter_id\u001b[0m\u001b[0;34m+=\u001b[0m\u001b[0;36m1\u001b[0m\u001b[0;34m\u001b[0m\u001b[0;34m\u001b[0m\u001b[0m\n\u001b[0;32m----> 8\u001b[0;31m     \u001b[0mcopyfile\u001b[0m\u001b[0;34m(\u001b[0m\u001b[0msrc_file\u001b[0m\u001b[0;34m,\u001b[0m \u001b[0mnew_back_up_folder_jliang\u001b[0m\u001b[0;34m+\u001b[0m\u001b[0mnew_base_name\u001b[0m\u001b[0;34m)\u001b[0m\u001b[0;34m\u001b[0m\u001b[0;34m\u001b[0m\u001b[0m\n\u001b[0m\u001b[1;32m      9\u001b[0m \u001b[0;34m\u001b[0m\u001b[0m\n\u001b[1;32m     10\u001b[0m     \u001b[0;32mif\u001b[0m \u001b[0mcounter_id\u001b[0m\u001b[0;34m%\u001b[0m\u001b[0;36m1000\u001b[0m\u001b[0;34m==\u001b[0m\u001b[0;36m999\u001b[0m\u001b[0;34m:\u001b[0m\u001b[0;34m\u001b[0m\u001b[0;34m\u001b[0m\u001b[0m\n",
      "\u001b[0;32m/opt/anaconda3/lib/python3.7/shutil.py\u001b[0m in \u001b[0;36mcopyfile\u001b[0;34m(src, dst, follow_symlinks)\u001b[0m\n\u001b[1;32m    120\u001b[0m         \u001b[0;32mwith\u001b[0m \u001b[0mopen\u001b[0m\u001b[0;34m(\u001b[0m\u001b[0msrc\u001b[0m\u001b[0;34m,\u001b[0m \u001b[0;34m'rb'\u001b[0m\u001b[0;34m)\u001b[0m \u001b[0;32mas\u001b[0m \u001b[0mfsrc\u001b[0m\u001b[0;34m:\u001b[0m\u001b[0;34m\u001b[0m\u001b[0;34m\u001b[0m\u001b[0m\n\u001b[1;32m    121\u001b[0m             \u001b[0;32mwith\u001b[0m \u001b[0mopen\u001b[0m\u001b[0;34m(\u001b[0m\u001b[0mdst\u001b[0m\u001b[0;34m,\u001b[0m \u001b[0;34m'wb'\u001b[0m\u001b[0;34m)\u001b[0m \u001b[0;32mas\u001b[0m \u001b[0mfdst\u001b[0m\u001b[0;34m:\u001b[0m\u001b[0;34m\u001b[0m\u001b[0;34m\u001b[0m\u001b[0m\n\u001b[0;32m--> 122\u001b[0;31m                 \u001b[0mcopyfileobj\u001b[0m\u001b[0;34m(\u001b[0m\u001b[0mfsrc\u001b[0m\u001b[0;34m,\u001b[0m \u001b[0mfdst\u001b[0m\u001b[0;34m)\u001b[0m\u001b[0;34m\u001b[0m\u001b[0;34m\u001b[0m\u001b[0m\n\u001b[0m\u001b[1;32m    123\u001b[0m     \u001b[0;32mreturn\u001b[0m \u001b[0mdst\u001b[0m\u001b[0;34m\u001b[0m\u001b[0;34m\u001b[0m\u001b[0m\n\u001b[1;32m    124\u001b[0m \u001b[0;34m\u001b[0m\u001b[0m\n",
      "\u001b[0;32m/opt/anaconda3/lib/python3.7/shutil.py\u001b[0m in \u001b[0;36mcopyfileobj\u001b[0;34m(fsrc, fdst, length)\u001b[0m\n\u001b[1;32m     77\u001b[0m     \u001b[0;34m\"\"\"copy data from file-like object fsrc to file-like object fdst\"\"\"\u001b[0m\u001b[0;34m\u001b[0m\u001b[0;34m\u001b[0m\u001b[0m\n\u001b[1;32m     78\u001b[0m     \u001b[0;32mwhile\u001b[0m \u001b[0;36m1\u001b[0m\u001b[0;34m:\u001b[0m\u001b[0;34m\u001b[0m\u001b[0;34m\u001b[0m\u001b[0m\n\u001b[0;32m---> 79\u001b[0;31m         \u001b[0mbuf\u001b[0m \u001b[0;34m=\u001b[0m \u001b[0mfsrc\u001b[0m\u001b[0;34m.\u001b[0m\u001b[0mread\u001b[0m\u001b[0;34m(\u001b[0m\u001b[0mlength\u001b[0m\u001b[0;34m)\u001b[0m\u001b[0;34m\u001b[0m\u001b[0;34m\u001b[0m\u001b[0m\n\u001b[0m\u001b[1;32m     80\u001b[0m         \u001b[0;32mif\u001b[0m \u001b[0;32mnot\u001b[0m \u001b[0mbuf\u001b[0m\u001b[0;34m:\u001b[0m\u001b[0;34m\u001b[0m\u001b[0;34m\u001b[0m\u001b[0m\n\u001b[1;32m     81\u001b[0m             \u001b[0;32mbreak\u001b[0m\u001b[0;34m\u001b[0m\u001b[0;34m\u001b[0m\u001b[0m\n",
      "\u001b[0;31mKeyboardInterrupt\u001b[0m: "
     ]
    }
   ],
   "source": [
    "counter_id=1\n",
    "json_dict_original_codes={}\n",
    "for src_file in all_codes_jliang:\n",
    "    base_name=basename(src_file)\n",
    "    new_base_name=str(counter_id).zfill(5)+\"_\"+base_name\n",
    "    json_dict_original_codes.update({new_base_name:src_file})\n",
    "    counter_id+=1\n",
    "    copyfile(src_file, new_back_up_folder_jliang+new_base_name)\n",
    "    \n",
    "    if counter_id%1000==999:\n",
    "        i_counter_jliang+=1\n",
    "        new_back_up_folder_jliang=\"/mnt/clients/juba/hqjubaapp02/jliang/code_back_up/backuped_on_jliang_\"+str(datetime.datetime.now().date())+\"_%s/\"%str(i_counter_jliang).zfill(3)\n",
    "        try:\n",
    "            os.stat(new_back_up_folder_jliang)\n",
    "        except:\n",
    "            os.mkdir(new_back_up_folder_jliang)"
   ]
  },
  {
   "cell_type": "code",
   "execution_count": null,
   "metadata": {},
   "outputs": [],
   "source": [
    "with open(backup_mother_folder+'original_code_path_dict_jliang.json', 'w') as outfile:\n",
    "     json.dump(json_dict_original_codes, outfile)"
   ]
  },
  {
   "cell_type": "code",
   "execution_count": null,
   "metadata": {},
   "outputs": [],
   "source": [
    "len(all_codes_jliang)"
   ]
  },
  {
   "cell_type": "markdown",
   "metadata": {},
   "source": [
    "# sharefolder"
   ]
  },
  {
   "cell_type": "code",
   "execution_count": null,
   "metadata": {},
   "outputs": [],
   "source": [
    "list_ipynb_sharefolder=[x for x in list(recursive_file_gen(my_root_dir_sharefolder)) if \".ipynb\" in x]\n",
    "list_py_sharefolder=[x for x in list(recursive_file_gen(my_root_dir_sharefolder)) if \".py\" in x]\n",
    "list_sql_sharefolder=[x for x in list(recursive_file_gen(my_root_dir_sharefolder)) if \".sql\" in x]\n",
    "\n",
    "all_codes_sharefolder=list_ipynb_sharefolder+list_py_sharefolder+list_sql_sharefolder"
   ]
  },
  {
   "cell_type": "code",
   "execution_count": null,
   "metadata": {},
   "outputs": [],
   "source": [
    "counter_id=1\n",
    "json_dict_original_codes={}\n",
    "for src_file in all_codes_sharefolder:\n",
    "    base_name=basename(src_file)\n",
    "    new_base_name=str(counter_id).zfill(5)+\"_\"+base_name\n",
    "    json_dict_original_codes.update({new_base_name:src_file})\n",
    "    counter_id+=1\n",
    "    copyfile(src_file, new_back_up_folder_sharefolder+new_base_name)\n",
    "    if counter_id%1000==999:\n",
    "        i_counter_sharefolder+=1\n",
    "        new_back_up_folder_sharefolder=\"/mnt/clients/juba/hqjubaapp02/jliang/code_back_up/backuped_on_jliang_\"+str(datetime.datetime.now().date())+\"_%s/\"%str(i_counter_sharefolder).zfill(3)\n",
    "        try:\n",
    "            os.stat(new_back_up_folder_sharefolder)\n",
    "        except:\n",
    "            os.mkdir(new_back_up_folder_sharefolder)"
   ]
  },
  {
   "cell_type": "code",
   "execution_count": null,
   "metadata": {},
   "outputs": [],
   "source": [
    "with open(backup_mother_folder+'original_code_path_dict_sharefolder.json', 'w') as outfile:\n",
    "     json.dump(json_dict_original_codes, outfile)\n",
    "        "
   ]
  },
  {
   "cell_type": "code",
   "execution_count": null,
   "metadata": {},
   "outputs": [],
   "source": [
    "len(all_codes_sharefolder)"
   ]
  },
  {
   "cell_type": "code",
   "execution_count": null,
   "metadata": {},
   "outputs": [],
   "source": []
  },
  {
   "cell_type": "code",
   "execution_count": null,
   "metadata": {},
   "outputs": [],
   "source": []
  }
 ],
 "metadata": {
  "kernelspec": {
   "display_name": "Python 3",
   "language": "python",
   "name": "python3"
  },
  "language_info": {
   "codemirror_mode": {
    "name": "ipython",
    "version": 3
   },
   "file_extension": ".py",
   "mimetype": "text/x-python",
   "name": "python",
   "nbconvert_exporter": "python",
   "pygments_lexer": "ipython3",
   "version": "3.7.6"
  }
 },
 "nbformat": 4,
 "nbformat_minor": 2
}
