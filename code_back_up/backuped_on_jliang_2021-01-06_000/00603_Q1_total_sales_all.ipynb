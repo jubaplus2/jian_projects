{
 "cells": [
  {
   "cell_type": "code",
   "execution_count": 1,
   "metadata": {
    "collapsed": true
   },
   "outputs": [],
   "source": [
    "import pandas as pd\n",
    "import numpy as np\n",
    "import os\n",
    "import datetime\n",
    "import gc\n",
    "import glob"
   ]
  },
  {
   "cell_type": "code",
   "execution_count": 2,
   "metadata": {
    "collapsed": true
   },
   "outputs": [],
   "source": [
    "def recursive_file_gen(root_folder):\n",
    "    for root, dirs, files in os.walk(root_folder):\n",
    "        for file in files:\n",
    "            yield os.path.join(root, file)"
   ]
  },
  {
   "cell_type": "code",
   "execution_count": 3,
   "metadata": {},
   "outputs": [
    {
     "name": "stdout",
     "output_type": "stream",
     "text": [
      "13\n",
      "13\n"
     ]
    }
   ],
   "source": [
    "Q1_start=\"2019-02-03\"\n",
    "Q1_end=\"2019-05-04\"\n",
    "\n",
    "daily_item_files_2019Q1=list(recursive_file_gen(\"/home/jian/BigLots/2019_by_weeks/\"))\n",
    "daily_item_files_2019Q1=[x for x in daily_item_files_2019Q1 if x[-4:]==\".txt\" and \"daily\" in x.lower()]\n",
    "daily_item_files_2019Q1=[x for x in daily_item_files_2019Q1 if x.split(\"s/MediaStorm_\")[1][:10]>=Q1_start]\n",
    "daily_item_files_2019Q1=[x for x in daily_item_files_2019Q1 if x.split(\"s/MediaStorm_\")[1][:10]<=Q1_end]\n",
    "\n",
    "print(len(daily_item_files_2019Q1))\n",
    "\n",
    "daily_item_files_2019Q1.remove(\"/home/jian/BigLots/2019_by_weeks/MediaStorm_2019-02-09/MediaStormDailySales20190212-122138-494.txt\")\n",
    "daily_item_files_2019Q1.append(\"/home/jian/BigLots/hist_daily_data_itemlevel_decompressed/MediaStormDailySalesHistory20190209.txt\")\n",
    "daily_item_files_2019Q1.sort()\n",
    "daily_item_files_2019Q1\n",
    "print(len(daily_item_files_2019Q1))\n"
   ]
  },
  {
   "cell_type": "code",
   "execution_count": 4,
   "metadata": {},
   "outputs": [
    {
     "name": "stderr",
     "output_type": "stream",
     "text": [
      "/home/jian/.local/lib/python3.6/site-packages/pandas/core/frame.py:7138: FutureWarning: Sorting because non-concatenation axis is not aligned. A future version\n",
      "of pandas will change to not sort by default.\n",
      "\n",
      "To accept the future behavior, pass 'sort=False'.\n",
      "\n",
      "To retain the current behavior and silence the warning, pass 'sort=True'.\n",
      "\n",
      "  sort=sort,\n"
     ]
    },
    {
     "name": "stdout",
     "output_type": "stream",
     "text": [
      "2019-10-29 13:31:45.802330 /home/jian/BigLots/2019_by_weeks/MediaStorm_2019-02-16/MediaStormDailySales20190219-113605-481.txt\n",
      "2019-10-29 13:32:42.634493 /home/jian/BigLots/2019_by_weeks/MediaStorm_2019-02-23/MediaStormDailySales20190226-112611-940.txt\n",
      "2019-10-29 13:36:09.462571 /home/jian/BigLots/2019_by_weeks/MediaStorm_2019-03-02/MediaStormDailySales20190305-112738-899.txt\n",
      "2019-10-29 13:37:08.317518 /home/jian/BigLots/2019_by_weeks/MediaStorm_2019-03-09/MediaStormDailySales20190312-121205-996.txt\n",
      "2019-10-29 13:39:05.549719 /home/jian/BigLots/2019_by_weeks/MediaStorm_2019-03-16/MediaStormDailySales20190319-112334-057.txt\n",
      "2019-10-29 13:40:11.866338 /home/jian/BigLots/2019_by_weeks/MediaStorm_2019-03-23/MediaStormDailySales20190326-112740-903.txt\n",
      "2019-10-29 13:41:36.855135 /home/jian/BigLots/2019_by_weeks/MediaStorm_2019-03-30/MediaStormDailySales20190402-112556-551.txt\n",
      "2019-10-29 13:42:48.004720 /home/jian/BigLots/2019_by_weeks/MediaStorm_2019-04-06/MediaStormDailySales20190409-122759-093.txt\n",
      "2019-10-29 13:44:32.348681 /home/jian/BigLots/2019_by_weeks/MediaStorm_2019-04-13/MediaStormDailySales20190416-112824-908.txt\n",
      "2019-10-29 13:45:16.720893 /home/jian/BigLots/2019_by_weeks/MediaStorm_2019-04-20/MediaStormDailySales20190423-112124-771.txt\n",
      "2019-10-29 13:45:55.385088 /home/jian/BigLots/2019_by_weeks/MediaStorm_2019-04-27/MediaStormDailySales20190430-112453-448.txt\n",
      "2019-10-29 13:47:27.742332 /home/jian/BigLots/2019_by_weeks/MediaStorm_2019-05-04/MediaStormDailySales20190507-113110-141.txt\n",
      "2019-10-29 13:48:09.082163 /home/jian/BigLots/hist_daily_data_itemlevel_decompressed/MediaStormDailySalesHistory20190209.txt\n"
     ]
    }
   ],
   "source": [
    "df_output_Q1_sales=pd.DataFrame()\n",
    "for file in daily_item_files_2019Q1:\n",
    "    try:\n",
    "        week_end_dt=file.split(\"s/MediaStorm_\")[1][:10]\n",
    "    except:\n",
    "        week_end_dt=file.split(\"rmDailySalesHistory\")[1][:8]\n",
    "        week_end_dt=week_end_dt[:4]+\"-\"+week_end_dt[4:6]+\"-\"+week_end_dt[6:]\n",
    "    df=pd.read_table(file,dtype=str,sep=\"|\",usecols=['location_id','transaction_dt', 'transaction_id',\n",
    "                                                              'customer_id_hashed', 'item_transaction_amt'])\n",
    "    df['item_transaction_amt']=df['item_transaction_amt'].astype(float)\n",
    "    # Rewards\n",
    "    df_rewards=df[pd.notnull(df['customer_id_hashed'])]\n",
    "    df_rewards_sales=df_rewards.groupby([\"location_id\"])['item_transaction_amt'].sum().to_frame().reset_index()\n",
    "    df_rewards_sales=df_rewards_sales.rename(columns={\"item_transaction_amt\":\"sales\"})\n",
    "    df_rewards_trans=df_rewards[['location_id','transaction_dt', 'transaction_id','customer_id_hashed']].drop_duplicates()\n",
    "    df_rewards_trans['trans']=1\n",
    "    df_rewards_trans=df_rewards_trans.groupby([\"location_id\"])['trans'].sum().to_frame().reset_index()\n",
    "    \n",
    "    df_rewards=pd.merge(df_rewards_trans,df_rewards_sales,on=\"location_id\",how=\"outer\")\n",
    "    df_rewards['rewards_label']=\"rewards\"\n",
    "    \n",
    "    # Non Rewards\n",
    "    df_non_rewards=df[pd.isnull(df['customer_id_hashed'])]\n",
    "    df_non_rewards_sales=df_non_rewards.groupby([\"location_id\"])['item_transaction_amt'].sum().to_frame().reset_index()\n",
    "    df_non_rewards_sales=df_non_rewards_sales.rename(columns={\"item_transaction_amt\":\"sales\"})\n",
    "    df_non_rewards_trans=df_non_rewards[['location_id','transaction_dt', 'transaction_id']].drop_duplicates()\n",
    "    df_non_rewards_trans['trans']=1\n",
    "    df_non_rewards_trans=df_non_rewards_trans.groupby([\"location_id\"])['trans'].sum().to_frame().reset_index()  \n",
    "    \n",
    "    df_non_rewards=pd.merge(df_non_rewards_sales,df_non_rewards_trans,on=\"location_id\",how=\"outer\")\n",
    "    df_non_rewards['rewards_label']=\"non_rewards\"\n",
    "    \n",
    "    df=df_rewards.append(df_non_rewards)\n",
    "    df['store_type']=np.where(df['location_id']==\"6990\",\"online\",\"instore\")\n",
    "    df=df.groupby([\"rewards_label\",\"store_type\"])['sales','trans'].sum().reset_index()\n",
    "    df['week_end_dt']=week_end_dt\n",
    "    \n",
    "    df_output_Q1_sales=df_output_Q1_sales.append(df)\n",
    "    print(datetime.datetime.now(),file)"
   ]
  },
  {
   "cell_type": "code",
   "execution_count": 30,
   "metadata": {
    "collapsed": true
   },
   "outputs": [],
   "source": [
    "writer=pd.ExcelWriter(\"./BL_Q1_total_sales_JL_\"+str(datetime.datetime.now().date())+\".xlsx\",engine=\"xlsxwriter\")\n",
    "df_output_Q1_sales.to_excel(writer,\"Q1_total_sales\",index=False)\n",
    "writer.save()"
   ]
  },
  {
   "cell_type": "code",
   "execution_count": 24,
   "metadata": {},
   "outputs": [
    {
     "data": {
      "text/html": [
       "<div>\n",
       "<style scoped>\n",
       "    .dataframe tbody tr th:only-of-type {\n",
       "        vertical-align: middle;\n",
       "    }\n",
       "\n",
       "    .dataframe tbody tr th {\n",
       "        vertical-align: top;\n",
       "    }\n",
       "\n",
       "    .dataframe thead th {\n",
       "        text-align: right;\n",
       "    }\n",
       "</style>\n",
       "<table border=\"1\" class=\"dataframe\">\n",
       "  <thead>\n",
       "    <tr style=\"text-align: right;\">\n",
       "      <th></th>\n",
       "      <th>location_id</th>\n",
       "      <th>sales</th>\n",
       "    </tr>\n",
       "  </thead>\n",
       "  <tbody>\n",
       "    <tr>\n",
       "      <th>0</th>\n",
       "      <td>1</td>\n",
       "      <td>29412.06</td>\n",
       "    </tr>\n",
       "    <tr>\n",
       "      <th>1</th>\n",
       "      <td>1001</td>\n",
       "      <td>13618.42</td>\n",
       "    </tr>\n",
       "  </tbody>\n",
       "</table>\n",
       "</div>"
      ],
      "text/plain": [
       "  location_id     sales\n",
       "0           1  29412.06\n",
       "1        1001  13618.42"
      ]
     },
     "execution_count": 24,
     "metadata": {},
     "output_type": "execute_result"
    }
   ],
   "source": [
    "df_non_rewards_sales.head(2)"
   ]
  },
  {
   "cell_type": "code",
   "execution_count": 25,
   "metadata": {},
   "outputs": [
    {
     "data": {
      "text/plain": [
       "30958359.470000032"
      ]
     },
     "execution_count": 25,
     "metadata": {},
     "output_type": "execute_result"
    }
   ],
   "source": [
    "df_non_rewards_sales[df_non_rewards_sales[\"location_id\"]!=\"6990\"]['sales'].sum()"
   ]
  },
  {
   "cell_type": "code",
   "execution_count": 26,
   "metadata": {},
   "outputs": [
    {
     "data": {
      "text/plain": [
       "49260397.840000086"
      ]
     },
     "execution_count": 26,
     "metadata": {},
     "output_type": "execute_result"
    }
   ],
   "source": [
    "df_rewards_sales[df_rewards_sales[\"location_id\"]!=\"6990\"]['sales'].sum()"
   ]
  },
  {
   "cell_type": "code",
   "execution_count": 14,
   "metadata": {},
   "outputs": [
    {
     "data": {
      "text/plain": [
       "36367502"
      ]
     },
     "execution_count": 14,
     "metadata": {},
     "output_type": "execute_result"
    }
   ],
   "source": [
    "df_output_Q1_sales[df_output_Q1_sales['store_type']==\"instore\"]['trans'].sum()"
   ]
  },
  {
   "cell_type": "code",
   "execution_count": 13,
   "metadata": {},
   "outputs": [
    {
     "data": {
      "text/plain": [
       "-0.000212672432482445"
      ]
     },
     "execution_count": 13,
     "metadata": {},
     "output_type": "execute_result"
    }
   ],
   "source": [
    "(1277786880-1278058687.8500004)/1278058687.8500004\n"
   ]
  },
  {
   "cell_type": "code",
   "execution_count": 15,
   "metadata": {},
   "outputs": [
    {
     "data": {
      "text/plain": [
       "-0.016043471998709178"
      ]
     },
     "execution_count": 15,
     "metadata": {},
     "output_type": "execute_result"
    }
   ],
   "source": [
    "(35784041-36367502)/36367502"
   ]
  },
  {
   "cell_type": "code",
   "execution_count": 18,
   "metadata": {},
   "outputs": [
    {
     "data": {
      "text/plain": [
       "0.36984908842420083"
      ]
     },
     "execution_count": 18,
     "metadata": {},
     "output_type": "execute_result"
    }
   ],
   "source": [
    "31183434.96000003/84313943"
   ]
  },
  {
   "cell_type": "code",
   "execution_count": 19,
   "metadata": {},
   "outputs": [
    {
     "data": {
      "text/plain": [
       "49587586.72000007"
      ]
     },
     "execution_count": 19,
     "metadata": {},
     "output_type": "execute_result"
    }
   ],
   "source": [
    "df_rewards_sales['sales'].sum()"
   ]
  },
  {
   "cell_type": "code",
   "execution_count": 27,
   "metadata": {},
   "outputs": [
    {
     "data": {
      "text/plain": [
       "80218757.31000012"
      ]
     },
     "execution_count": 27,
     "metadata": {},
     "output_type": "execute_result"
    }
   ],
   "source": [
    "30958359.470000032+49260397.840000086"
   ]
  },
  {
   "cell_type": "code",
   "execution_count": 29,
   "metadata": {},
   "outputs": [
    {
     "data": {
      "text/plain": [
       "1.00007657536162"
      ]
     },
     "execution_count": 29,
     "metadata": {},
     "output_type": "execute_result"
    }
   ],
   "source": [
    "80218757.31000012/80212615"
   ]
  },
  {
   "cell_type": "code",
   "execution_count": null,
   "metadata": {
    "collapsed": true
   },
   "outputs": [],
   "source": []
  }
 ],
 "metadata": {
  "kernelspec": {
   "display_name": "Python 3",
   "language": "python",
   "name": "python3"
  },
  "language_info": {
   "codemirror_mode": {
    "name": "ipython",
    "version": 3
   },
   "file_extension": ".py",
   "mimetype": "text/x-python",
   "name": "python",
   "nbconvert_exporter": "python",
   "pygments_lexer": "ipython3",
   "version": "3.6.1"
  }
 },
 "nbformat": 4,
 "nbformat_minor": 2
}
