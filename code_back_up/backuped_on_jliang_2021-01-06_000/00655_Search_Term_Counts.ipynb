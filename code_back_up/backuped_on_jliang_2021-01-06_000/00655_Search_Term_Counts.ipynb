{
 "cells": [
  {
   "cell_type": "code",
   "execution_count": 6,
   "metadata": {
    "collapsed": true
   },
   "outputs": [],
   "source": [
    "import pandas as pd\n",
    "import os\n",
    "import datetime\n",
    "import inflection\n",
    "import glob"
   ]
  },
  {
   "cell_type": "code",
   "execution_count": 7,
   "metadata": {},
   "outputs": [
    {
     "data": {
      "text/plain": [
       "'/home/jian/Projects/Big_Lots/Browsing_Path/Search_terms'"
      ]
     },
     "execution_count": 7,
     "metadata": {},
     "output_type": "execute_result"
    }
   ],
   "source": [
    "os.getcwd()"
   ]
  },
  {
   "cell_type": "code",
   "execution_count": 8,
   "metadata": {
    "collapsed": true
   },
   "outputs": [],
   "source": [
    "file_list=glob.glob('/home/jian/Projects/Big_Lots/Browsing_Path/Search_terms/'+\"*.csv\")\n",
    "writer=pd.ExcelWriter(\"/home/jian/Projects/Big_Lots/Browsing_Path/Search_terms/output/BL_search_terms_coount_by_page_\"+str(datetime.datetime.now().date())+\".xlsx\")"
   ]
  },
  {
   "cell_type": "code",
   "execution_count": 9,
   "metadata": {
    "collapsed": true
   },
   "outputs": [],
   "source": [
    "for i in range(6):\n",
    "    rewards_file=[x for x in file_list if \"_Rewards_\" in x and \"Page_\"+str(i) in x][0]\n",
    "    non_rewards_file=[x for x in file_list if \"_NonRewards_\" in x and \"Page_\"+str(i) in x][0]\n",
    "    \n",
    "    rewards_data=pd.read_csv(rewards_file,skiprows=25,dtype=str).iloc[:,1:]\n",
    "    rewards_data.columns=['search_term','rewards_count','rewards_pctg']\n",
    "    rewards_data['rewards_count']=rewards_data['rewards_count'].astype(int)\n",
    "    rewards_data['search_term']=rewards_data['search_term'].apply(lambda x: inflection.singularize(x))\n",
    "    rewards_data['search_term']=rewards_data['search_term'].apply(lambda x: x.lower())\n",
    "    rewards_data=rewards_data.groupby(['search_term'])['rewards_count'].sum().to_frame().reset_index()\n",
    "    total_rewards_searched=rewards_data['rewards_count'].sum()\n",
    "    rewards_data['rewards_pctg']=rewards_data['rewards_count'].apply(lambda x: float(x/total_rewards_searched),6)\n",
    "\n",
    "    non_rewards_data=pd.read_csv(non_rewards_file,skiprows=25,dtype=str).iloc[:,1:]\n",
    "    non_rewards_data.columns=['search_term','Non_rewards_count','Non_rewards_pctg']\n",
    "    non_rewards_data['Non_rewards_count']=non_rewards_data['Non_rewards_count'].astype(int)\n",
    "    non_rewards_data['search_term']=non_rewards_data['search_term'].apply(lambda x: inflection.singularize(x))\n",
    "    non_rewards_data['search_term']=non_rewards_data['search_term'].apply(lambda x: x.lower())\n",
    "    non_rewards_data=non_rewards_data.groupby(['search_term'])['Non_rewards_count'].sum().to_frame().reset_index()\n",
    "    total_Non_rewards_searched=non_rewards_data['Non_rewards_count'].sum()\n",
    "    non_rewards_data['Non_rewards_pctg']=non_rewards_data['Non_rewards_count'].apply(lambda x: float(x/total_Non_rewards_searched),6)\n",
    "    \n",
    "    output=pd.merge(rewards_data,non_rewards_data,on=\"search_term\",how=\"outer\")\n",
    "    output=output.fillna(0)\n",
    "    output=output.sort_values(['rewards_count','Non_rewards_count'],ascending=False)\n",
    "    output.to_excel(writer,\"Page_\"+str(i),index=False)\n",
    "    \n",
    "    \n",
    "    "
   ]
  },
  {
   "cell_type": "code",
   "execution_count": 10,
   "metadata": {
    "collapsed": true
   },
   "outputs": [],
   "source": [
    "writer.save()"
   ]
  },
  {
   "cell_type": "code",
   "execution_count": null,
   "metadata": {
    "collapsed": true
   },
   "outputs": [],
   "source": []
  }
 ],
 "metadata": {
  "kernelspec": {
   "display_name": "Python 3",
   "language": "python",
   "name": "python3"
  },
  "language_info": {
   "codemirror_mode": {
    "name": "ipython",
    "version": 3
   },
   "file_extension": ".py",
   "mimetype": "text/x-python",
   "name": "python",
   "nbconvert_exporter": "python",
   "pygments_lexer": "ipython3",
   "version": "3.6.1"
  }
 },
 "nbformat": 4,
 "nbformat_minor": 2
}
