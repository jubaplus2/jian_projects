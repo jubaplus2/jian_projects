{
 "cells": [
  {
   "cell_type": "code",
   "execution_count": 1,
   "metadata": {
    "collapsed": true
   },
   "outputs": [],
   "source": [
    "import pandas as pd\n",
    "import datetime"
   ]
  },
  {
   "cell_type": "code",
   "execution_count": 8,
   "metadata": {
    "collapsed": true
   },
   "outputs": [],
   "source": [
    "sales_by_zip_matched=pd.read_csv(\"/home/jian/Projects/Big_Lots/Loyal_members/sales_of_loyalty_member/sales_by_zip_agg_20180529.csv\",dtype=str)\n",
    "sales_by_zip_matched['customer_zip_code']=sales_by_zip_matched['customer_zip_code'].apply(lambda x: x.replace(\" \",\"\"))\n",
    "sales_by_zip_matched['customer_zip_code']=sales_by_zip_matched['customer_zip_code'].apply(lambda x: x.zfill(5))\n",
    "sales_by_zip_matched['total_transaction_amt']=sales_by_zip_matched['total_transaction_amt'].astype(float)\n",
    "sales_by_zip_matched['week_end_date']=sales_by_zip_matched['week_end_date'].apply(lambda x: datetime.datetime.strptime(x,\"%Y-%m-%d\").date())"
   ]
  },
  {
   "cell_type": "code",
   "execution_count": 12,
   "metadata": {},
   "outputs": [
    {
     "data": {
      "text/plain": [
       "datetime.date(2017, 12, 9)"
      ]
     },
     "execution_count": 12,
     "metadata": {},
     "output_type": "execute_result"
    }
   ],
   "source": [
    "sales_by_zip_matched['week_end_date'][0]"
   ]
  },
  {
   "cell_type": "code",
   "execution_count": 6,
   "metadata": {},
   "outputs": [
    {
     "data": {
      "text/plain": [
       "'00123'"
      ]
     },
     "execution_count": 6,
     "metadata": {},
     "output_type": "execute_result"
    }
   ],
   "source": [
    "\"123\".zfill(5)"
   ]
  },
  {
   "cell_type": "code",
   "execution_count": 7,
   "metadata": {},
   "outputs": [
    {
     "data": {
      "text/plain": [
       "' 4421'"
      ]
     },
     "execution_count": 7,
     "metadata": {},
     "output_type": "execute_result"
    }
   ],
   "source": [
    "sales_by_zip_matched['customer_zip_code'][0]"
   ]
  },
  {
   "cell_type": "code",
   "execution_count": 2,
   "metadata": {
    "collapsed": true
   },
   "outputs": [],
   "source": [
    "loyalty_sales_df=pd.read_csv(\"/home/jian/Projects/Big_Lots/Loyal_members/sales_of_loyalty_member/2018-06-20/sales_by_location_id_agg_2018-06-20.csv\",dtype=str)\n"
   ]
  },
  {
   "cell_type": "code",
   "execution_count": 3,
   "metadata": {},
   "outputs": [
    {
     "data": {
      "text/html": [
       "<div>\n",
       "<style>\n",
       "    .dataframe thead tr:only-child th {\n",
       "        text-align: right;\n",
       "    }\n",
       "\n",
       "    .dataframe thead th {\n",
       "        text-align: left;\n",
       "    }\n",
       "\n",
       "    .dataframe tbody tr th {\n",
       "        vertical-align: top;\n",
       "    }\n",
       "</style>\n",
       "<table border=\"1\" class=\"dataframe\">\n",
       "  <thead>\n",
       "    <tr style=\"text-align: right;\">\n",
       "      <th></th>\n",
       "      <th>customer_zip_code</th>\n",
       "      <th>location_id</th>\n",
       "      <th>loyal_sales_zip</th>\n",
       "      <th>loyal_sales_total</th>\n",
       "      <th>total_sales_both</th>\n",
       "      <th>non_loyalty_sales_total</th>\n",
       "      <th>loyal_sales_pctg</th>\n",
       "      <th>non_loyalty_sales_zip</th>\n",
       "    </tr>\n",
       "  </thead>\n",
       "  <tbody>\n",
       "    <tr>\n",
       "      <th>0</th>\n",
       "      <td>00000</td>\n",
       "      <td>1</td>\n",
       "      <td>76897.91999999997</td>\n",
       "      <td>2336196.7600000002</td>\n",
       "      <td>4064542.5299999993</td>\n",
       "      <td>1728345.769999999</td>\n",
       "      <td>0.03291585765233231</td>\n",
       "      <td>56889.983339330654</td>\n",
       "    </tr>\n",
       "    <tr>\n",
       "      <th>1</th>\n",
       "      <td>00000</td>\n",
       "      <td>1001</td>\n",
       "      <td>17939.119999999984</td>\n",
       "      <td>892196.7399999981</td>\n",
       "      <td>2062537.7800000003</td>\n",
       "      <td>1170341.0400000021</td>\n",
       "      <td>0.02010668633467549</td>\n",
       "      <td>23531.680195877943</td>\n",
       "    </tr>\n",
       "  </tbody>\n",
       "</table>\n",
       "</div>"
      ],
      "text/plain": [
       "  customer_zip_code location_id     loyal_sales_zip   loyal_sales_total  \\\n",
       "0             00000           1   76897.91999999997  2336196.7600000002   \n",
       "1             00000        1001  17939.119999999984   892196.7399999981   \n",
       "\n",
       "     total_sales_both non_loyalty_sales_total     loyal_sales_pctg  \\\n",
       "0  4064542.5299999993       1728345.769999999  0.03291585765233231   \n",
       "1  2062537.7800000003      1170341.0400000021  0.02010668633467549   \n",
       "\n",
       "  non_loyalty_sales_zip  \n",
       "0    56889.983339330654  \n",
       "1    23531.680195877943  "
      ]
     },
     "execution_count": 3,
     "metadata": {},
     "output_type": "execute_result"
    }
   ],
   "source": [
    "loyalty_sales_df[loyalty_sales_df]"
   ]
  },
  {
   "cell_type": "code",
   "execution_count": 10,
   "metadata": {},
   "outputs": [],
   "source": [
    "loyalty_sales_df['non_loyalty_sales_total']=loyalty_sales_df['non_loyalty_sales_total'].astype(float)\n",
    "loyalty_sales_df['non_loyalty_sales_zip']=loyalty_sales_df['non_loyalty_sales_zip'].astype(float)"
   ]
  },
  {
   "cell_type": "code",
   "execution_count": 7,
   "metadata": {},
   "outputs": [
    {
     "data": {
      "text/plain": [
       "array(['00000', '00979', '01002', ..., '99601', '99710', '99835'], dtype=object)"
      ]
     },
     "execution_count": 7,
     "metadata": {},
     "output_type": "execute_result"
    }
   ],
   "source": [
    "loyalty_sales_df[loyalty_sales_df['non_loyalty_sales_total']<0]['customer_zip_code'].unique()"
   ]
  },
  {
   "cell_type": "code",
   "execution_count": 12,
   "metadata": {},
   "outputs": [
    {
     "data": {
      "text/plain": [
       "-91648.089999999822"
      ]
     },
     "execution_count": 12,
     "metadata": {},
     "output_type": "execute_result"
    }
   ],
   "source": [
    "loyalty_sales_df[loyalty_sales_df['non_loyalty_sales_zip']<0]['non_loyalty_sales_zip'].min()"
   ]
  },
  {
   "cell_type": "code",
   "execution_count": null,
   "metadata": {
    "collapsed": true
   },
   "outputs": [],
   "source": []
  }
 ],
 "metadata": {
  "kernelspec": {
   "display_name": "Python 3",
   "language": "python",
   "name": "python3"
  },
  "language_info": {
   "codemirror_mode": {
    "name": "ipython",
    "version": 3
   },
   "file_extension": ".py",
   "mimetype": "text/x-python",
   "name": "python",
   "nbconvert_exporter": "python",
   "pygments_lexer": "ipython3",
   "version": "3.6.1"
  }
 },
 "nbformat": 4,
 "nbformat_minor": 2
}
