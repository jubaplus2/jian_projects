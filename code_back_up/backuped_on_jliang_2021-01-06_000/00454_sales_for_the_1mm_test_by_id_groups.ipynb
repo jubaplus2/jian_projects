{
 "cells": [
  {
   "cell_type": "code",
   "execution_count": 45,
   "metadata": {
    "collapsed": true
   },
   "outputs": [],
   "source": [
    "import pandas as pd\n",
    "import os\n",
    "import numpy as np\n",
    "import datetime\n",
    "import glob\n",
    "import gc"
   ]
  },
  {
   "cell_type": "code",
   "execution_count": 8,
   "metadata": {
    "collapsed": true
   },
   "outputs": [],
   "source": [
    "def recursive_file_gen(root_path):\n",
    "    for root, dirs, files in os.walk(root_path):\n",
    "        for file in files:\n",
    "            yield os.path.join(root,file)"
   ]
  },
  {
   "cell_type": "code",
   "execution_count": 36,
   "metadata": {
    "collapsed": true
   },
   "outputs": [],
   "source": [
    "df_week_start_group=pd.DataFrame({\"week_start_Wednesday\":[datetime.date(2019,3,20)+datetime.timedelta(days=x*7) for x in range(9)]})\n",
    "df_week_start_group['week_period']=[\"P1\"]*4+[\"P2\"]*1+[\"P3\"]*1+[\"P4\"]*3\n",
    "\n",
    "df_group_total_counts=pd.DataFrame({'group':['test_in_test','control_400K','balance'],'total_counts':[17754861,399998,np.nan]},index=[0,1,2])"
   ]
  },
  {
   "cell_type": "code",
   "execution_count": 10,
   "metadata": {
    "collapsed": true
   },
   "outputs": [],
   "source": [
    "mapping_products=pd.read_table(\"/home/jian/BigLots/static_files/ProductTaxonomy/MediaStormProductTaxonomy20190501-135142-836.txt\",\n",
    "                               dtype=str,sep=\"|\")\n",
    "mapping_products=mapping_products[['division_id','class_code_id','subclass_id']].drop_duplicates()"
   ]
  },
  {
   "cell_type": "code",
   "execution_count": 11,
   "metadata": {},
   "outputs": [
    {
     "data": {
      "text/plain": [
       "(399998, 3)"
      ]
     },
     "execution_count": 11,
     "metadata": {},
     "output_type": "execute_result"
    }
   ],
   "source": [
    "control_400K=pd.read_csv(\"/home/jian/Projects/Big_Lots/Live_Ramp/Quarterly_Update_2019Q1/crm_newscore_20190107/Pick_Control_within_Test/output_control_with_in_Q1_test.csv\",dtype=str)\n",
    "\n",
    "control_400K.shape"
   ]
  },
  {
   "cell_type": "code",
   "execution_count": 12,
   "metadata": {},
   "outputs": [
    {
     "name": "stdout",
     "output_type": "stream",
     "text": [
      "(18154859,)\n",
      "(17754861,)\n",
      "(17754861,)\n"
     ]
    }
   ],
   "source": [
    "test_test_Q1=glob.glob(\"/home/jian/Projects/Big_Lots/Live_Ramp/Quarterly_Update_2019Q1/crm_newscore_20190107/by_group_quadrant_24/*.csv\")\n",
    "test_test_Q1=[x for x in test_test_Q1 if \"/T_Quadrant\" in x]\n",
    "all_test=pd.DataFrame()\n",
    "for file_path in test_test_Q1:\n",
    "    df=pd.read_csv(file_path,dtype=str)\n",
    "    all_test=all_test.append(df)\n",
    "print(all_test['customer_id_hashed'].shape)   \n",
    "all_test=all_test[~all_test['customer_id_hashed'].isin(control_400K['customer_id_hashed'].tolist())]\n",
    "print(all_test['customer_id_hashed'].shape)\n",
    "all_test=all_test[~all_test['email_address_hash'].isin(control_400K['email_address_hash'].tolist())]\n",
    "print(all_test['customer_id_hashed'].shape)"
   ]
  },
  {
   "cell_type": "code",
   "execution_count": 13,
   "metadata": {},
   "outputs": [
    {
     "name": "stdout",
     "output_type": "stream",
     "text": [
      "(18154859, 2)\n",
      "18154859\n"
     ]
    }
   ],
   "source": [
    "control_400K=control_400K[['customer_id_hashed']]\n",
    "control_400K['group']='control_400K'\n",
    "\n",
    "all_test=all_test[['customer_id_hashed']]\n",
    "all_test['group']='test_in_test'\n",
    "\n",
    "df_all_id_Q1_test=all_test.append(control_400K)\n",
    "print(df_all_id_Q1_test.shape)\n",
    "print(df_all_id_Q1_test['customer_id_hashed'].nunique())\n"
   ]
  },
  {
   "cell_type": "code",
   "execution_count": 14,
   "metadata": {},
   "outputs": [
    {
     "name": "stdout",
     "output_type": "stream",
     "text": [
      "(10, 2)\n",
      "10\n"
     ]
    }
   ],
   "source": [
    "daily_file_list=list(recursive_file_gen(\"/home/jian/BigLots/2019_by_weeks/\"))\n",
    "daily_file_list=[x for x in daily_file_list if \"aily\" in x]\n",
    "df_daily_files=pd.DataFrame({'file_path':daily_file_list})\n",
    "df_daily_files['week_end_dt']=df_daily_files['file_path'].apply(lambda x: x.split(\"Lots/2019_by_weeks/MediaStorm_\")[1][:10])\n",
    "\n",
    "df_daily_files=df_daily_files[(df_daily_files['week_end_dt']>=\"2019-03-17\") & (df_daily_files['week_end_dt']<=\"2019-05-25\")]\n",
    "print(df_daily_files.shape)\n",
    "print(df_daily_files['week_end_dt'].nunique())"
   ]
  },
  {
   "cell_type": "code",
   "execution_count": 16,
   "metadata": {},
   "outputs": [
    {
     "name": "stdout",
     "output_type": "stream",
     "text": [
      "2019-05-30 10:37:21.352096 (7804184, 10)\n",
      "2019-05-30 10:42:05.672978 (7697772, 10)\n",
      "2019-05-30 10:47:38.274888 (10699521, 10)\n",
      "2019-05-30 10:52:36.035831 (9827794, 10)\n",
      "2019-05-30 10:56:20.913494 (8254651, 10)\n",
      "2019-05-30 10:59:24.088496 (6851914, 10)\n",
      "2019-05-30 11:02:34.463618 (8053397, 10)\n",
      "2019-05-30 11:05:25.921088 (7309477, 10)\n",
      "2019-05-30 11:08:30.402792 (7042143, 10)\n",
      "2019-05-30 11:12:40.415353 (7905943, 10)\n"
     ]
    }
   ],
   "source": [
    "df_output_all=pd.DataFrame()\n",
    "df_output_division=pd.DataFrame()\n",
    "\n",
    "for daily_file in df_daily_files['file_path'].unique():\n",
    "    df=pd.read_table(daily_file,dtype=str,sep=\"|\",\n",
    "                     usecols=['location_id','transaction_dt','transaction_id','customer_id_hashed','class_code_id','subclass_id','item_transaction_units','item_transaction_amt'])\n",
    "    df=df[pd.notnull(df['customer_id_hashed'])]\n",
    "    df['transaction_dt']=pd.to_datetime(df['transaction_dt'],format=\"%Y-%m-%d\")\n",
    "    \n",
    "    df=pd.merge(df,mapping_products,on=['class_code_id','subclass_id'],how=\"left\")\n",
    "    df['item_transaction_amt']=df['item_transaction_amt'].astype(float)\n",
    "    df['item_transaction_units']=df['item_transaction_units'].astype(int)\n",
    "    df['Ecommerce_group']=np.where(df['location_id']==\"6990\",\"Online\",\"Instore\")\n",
    "    \n",
    "    df_sales=df.groupby(['customer_id_hashed','transaction_dt','Ecommerce_group'])['item_transaction_amt','item_transaction_units'].sum().reset_index().rename(columns={\"item_transaction_amt\":\"sales\",\"item_transaction_units\":\"units\"})\n",
    "    df_trans=df[['location_id','transaction_dt','transaction_id','customer_id_hashed','Ecommerce_group']].drop_duplicates()\n",
    "    df_trans=df_trans.groupby(['customer_id_hashed','transaction_dt','Ecommerce_group'])['transaction_id'].count().to_frame().reset_index().rename(columns={\"transaction_id\":\"trans\"})   \n",
    "    df_all_products=pd.merge(df_sales,df_trans,on=['customer_id_hashed','transaction_dt','Ecommerce_group'],how=\"outer\")\n",
    "    \n",
    "    df_sales_division=df.groupby(['customer_id_hashed','transaction_dt','Ecommerce_group','division_id'])['item_transaction_amt','item_transaction_units'].sum().reset_index().rename(columns={\"item_transaction_amt\":\"sales\",\"item_transaction_units\":\"units\"})\n",
    "    df_trans_division=df[['location_id','transaction_dt','transaction_id','customer_id_hashed','Ecommerce_group','division_id']].drop_duplicates()\n",
    "    df_trans_division=df_trans_division.groupby(['customer_id_hashed','transaction_dt','Ecommerce_group','division_id'])['transaction_id'].count().to_frame().reset_index().rename(columns={\"transaction_id\":\"trans\"})\n",
    "    df_division=pd.merge(df_sales_division,df_trans_division,on=['customer_id_hashed','Ecommerce_group','transaction_dt','division_id'],how=\"outer\")\n",
    "    \n",
    "    df_output_all=df_output_all.append(df_all_products)\n",
    "    df_output_division=df_output_division.append(df_division)\n",
    "    \n",
    "    print(datetime.datetime.now(),df.shape)\n",
    "    "
   ]
  },
  {
   "cell_type": "code",
   "execution_count": 17,
   "metadata": {
    "collapsed": true
   },
   "outputs": [],
   "source": [
    "df_output_division=pd.merge(df_output_division,df_all_id_Q1_test,on=\"customer_id_hashed\",how=\"left\")\n",
    "df_output_all=pd.merge(df_output_all,df_all_id_Q1_test,on=\"customer_id_hashed\",how=\"left\")\n",
    "\n",
    "df_output_division['group']=df_output_division['group'].fillna(\"balance\")\n",
    "df_output_all['group']=df_output_all['group'].fillna(\"balance\")"
   ]
  },
  {
   "cell_type": "code",
   "execution_count": 18,
   "metadata": {},
   "outputs": [
    {
     "name": "stdout",
     "output_type": "stream",
     "text": [
      "2019-05-30 11:14:59.165035\n",
      "2019-05-30 11:17:13.932145\n",
      "2019-05-30 11:22:55.325814\n"
     ]
    }
   ],
   "source": [
    "def week_start_Wednesday(x):\n",
    "    if x.weekday()>=2:\n",
    "        y=(x-datetime.timedelta(days=(x.weekday()-2))).date()\n",
    "    else:\n",
    "        y=(x-datetime.timedelta(days=(x.weekday()+7-2))).date()\n",
    "        \n",
    "    return y\n",
    "\n",
    "print(datetime.datetime.now())\n",
    "df_output_all['week_start_Wednesday']=df_output_all['transaction_dt'].apply(lambda x: week_start_Wednesday(x))\n",
    "print(datetime.datetime.now())\n",
    "df_output_division['week_start_Wednesday']=df_output_division['transaction_dt'].apply(lambda x: week_start_Wednesday(x))\n",
    "print(datetime.datetime.now())"
   ]
  },
  {
   "cell_type": "code",
   "execution_count": 19,
   "metadata": {
    "collapsed": true
   },
   "outputs": [],
   "source": [
    "df_output_all=pd.merge(df_output_all,df_week_start_group,on=\"week_start_Wednesday\",how=\"left\")\n",
    "df_output_division=pd.merge(df_output_division,df_week_start_group,on=\"week_start_Wednesday\",how=\"left\")"
   ]
  },
  {
   "cell_type": "code",
   "execution_count": 22,
   "metadata": {},
   "outputs": [
    {
     "data": {
      "text/html": [
       "<div>\n",
       "<style>\n",
       "    .dataframe thead tr:only-child th {\n",
       "        text-align: right;\n",
       "    }\n",
       "\n",
       "    .dataframe thead th {\n",
       "        text-align: left;\n",
       "    }\n",
       "\n",
       "    .dataframe tbody tr th {\n",
       "        vertical-align: top;\n",
       "    }\n",
       "</style>\n",
       "<table border=\"1\" class=\"dataframe\">\n",
       "  <thead>\n",
       "    <tr style=\"text-align: right;\">\n",
       "      <th></th>\n",
       "      <th>customer_id_hashed</th>\n",
       "      <th>transaction_dt</th>\n",
       "      <th>Ecommerce_group</th>\n",
       "      <th>sales</th>\n",
       "      <th>units</th>\n",
       "      <th>trans</th>\n",
       "      <th>group</th>\n",
       "      <th>week_start_Wednesday</th>\n",
       "      <th>week_period</th>\n",
       "    </tr>\n",
       "  </thead>\n",
       "  <tbody>\n",
       "    <tr>\n",
       "      <th>0</th>\n",
       "      <td>000007eccbfdc528a745aea90d34404b4fae9fbad2525f...</td>\n",
       "      <td>2019-03-22</td>\n",
       "      <td>Instore</td>\n",
       "      <td>15.44</td>\n",
       "      <td>9</td>\n",
       "      <td>1</td>\n",
       "      <td>balance</td>\n",
       "      <td>2019-03-20</td>\n",
       "      <td>P1</td>\n",
       "    </tr>\n",
       "    <tr>\n",
       "      <th>1</th>\n",
       "      <td>000015cec4564c97c324f658df6de41d8df29d0858826b...</td>\n",
       "      <td>2019-03-20</td>\n",
       "      <td>Instore</td>\n",
       "      <td>8.00</td>\n",
       "      <td>1</td>\n",
       "      <td>1</td>\n",
       "      <td>test_in_test</td>\n",
       "      <td>2019-03-20</td>\n",
       "      <td>P1</td>\n",
       "    </tr>\n",
       "  </tbody>\n",
       "</table>\n",
       "</div>"
      ],
      "text/plain": [
       "                                  customer_id_hashed transaction_dt  \\\n",
       "0  000007eccbfdc528a745aea90d34404b4fae9fbad2525f...     2019-03-22   \n",
       "1  000015cec4564c97c324f658df6de41d8df29d0858826b...     2019-03-20   \n",
       "\n",
       "  Ecommerce_group  sales  units  trans         group week_start_Wednesday  \\\n",
       "0         Instore  15.44      9      1       balance           2019-03-20   \n",
       "1         Instore   8.00      1      1  test_in_test           2019-03-20   \n",
       "\n",
       "  week_period  \n",
       "0          P1  \n",
       "1          P1  "
      ]
     },
     "execution_count": 22,
     "metadata": {},
     "output_type": "execute_result"
    }
   ],
   "source": [
    "df_output_all.head(2)"
   ]
  },
  {
   "cell_type": "code",
   "execution_count": 25,
   "metadata": {},
   "outputs": [
    {
     "data": {
      "text/html": [
       "<div>\n",
       "<style>\n",
       "    .dataframe thead tr:only-child th {\n",
       "        text-align: right;\n",
       "    }\n",
       "\n",
       "    .dataframe thead th {\n",
       "        text-align: left;\n",
       "    }\n",
       "\n",
       "    .dataframe tbody tr th {\n",
       "        vertical-align: top;\n",
       "    }\n",
       "</style>\n",
       "<table border=\"1\" class=\"dataframe\">\n",
       "  <thead>\n",
       "    <tr style=\"text-align: right;\">\n",
       "      <th></th>\n",
       "      <th>customer_id_hashed</th>\n",
       "      <th>transaction_dt</th>\n",
       "      <th>Ecommerce_group</th>\n",
       "      <th>division_id</th>\n",
       "      <th>sales</th>\n",
       "      <th>units</th>\n",
       "      <th>trans</th>\n",
       "      <th>group</th>\n",
       "      <th>week_start_Wednesday</th>\n",
       "      <th>week_period</th>\n",
       "    </tr>\n",
       "  </thead>\n",
       "  <tbody>\n",
       "    <tr>\n",
       "      <th>0</th>\n",
       "      <td>000007eccbfdc528a745aea90d34404b4fae9fbad2525f...</td>\n",
       "      <td>2019-03-22</td>\n",
       "      <td>Instore</td>\n",
       "      <td>1</td>\n",
       "      <td>2.79</td>\n",
       "      <td>2</td>\n",
       "      <td>1</td>\n",
       "      <td>balance</td>\n",
       "      <td>2019-03-20</td>\n",
       "      <td>P1</td>\n",
       "    </tr>\n",
       "    <tr>\n",
       "      <th>1</th>\n",
       "      <td>000007eccbfdc528a745aea90d34404b4fae9fbad2525f...</td>\n",
       "      <td>2019-03-22</td>\n",
       "      <td>Instore</td>\n",
       "      <td>2</td>\n",
       "      <td>6.75</td>\n",
       "      <td>3</td>\n",
       "      <td>1</td>\n",
       "      <td>balance</td>\n",
       "      <td>2019-03-20</td>\n",
       "      <td>P1</td>\n",
       "    </tr>\n",
       "  </tbody>\n",
       "</table>\n",
       "</div>"
      ],
      "text/plain": [
       "                                  customer_id_hashed transaction_dt  \\\n",
       "0  000007eccbfdc528a745aea90d34404b4fae9fbad2525f...     2019-03-22   \n",
       "1  000007eccbfdc528a745aea90d34404b4fae9fbad2525f...     2019-03-22   \n",
       "\n",
       "  Ecommerce_group division_id  sales  units  trans    group  \\\n",
       "0         Instore           1   2.79      2      1  balance   \n",
       "1         Instore           2   6.75      3      1  balance   \n",
       "\n",
       "  week_start_Wednesday week_period  \n",
       "0           2019-03-20          P1  \n",
       "1           2019-03-20          P1  "
      ]
     },
     "execution_count": 25,
     "metadata": {},
     "output_type": "execute_result"
    }
   ],
   "source": [
    "df_output_division.head(2)"
   ]
  },
  {
   "cell_type": "code",
   "execution_count": 24,
   "metadata": {
    "collapsed": true
   },
   "outputs": [],
   "source": [
    "# 2018 data to ask if needed because that the audience may not be available, 1 year prior of the scoring\n",
    "\n",
    "df_output_all.to_csv('/home/jian/Projects/Big_Lots/Analysis/2019_Q2/Incremental_1mm_test/BL_df_overall_2019Q1_400K_test_JL_'+str(datetime.datetime.now().date())+\".csv\",index=False)\n",
    "df_output_division.to_csv('/home/jian/Projects/Big_Lots/Analysis/2019_Q2/Incremental_1mm_test/BL_df_division_2019Q1_400K_test_JL_'+str(datetime.datetime.now().date())+\".csv\",index=False)\n",
    "\n",
    "\n"
   ]
  },
  {
   "cell_type": "code",
   "execution_count": 33,
   "metadata": {
    "collapsed": true
   },
   "outputs": [],
   "source": [
    "df_output_all=pd.read_csv(\"/home/jian/Projects/Big_Lots/Analysis/2019_Q2/Incremental_1mm_test/BL_df_overall_2019Q1_400K_test_JL_2019-05-30.csv\",dtype=str)\n",
    "df_output_division=pd.read_csv('/home/jian/Projects/Big_Lots/Analysis/2019_Q2/Incremental_1mm_test/BL_df_division_2019Q1_400K_test_JL_2019-05-30.csv',dtype=str)\n",
    "\n",
    "df_output_all['sales']=df_output_all['sales'].astype(float)\n",
    "df_output_all['units']=df_output_all['units'].astype(int)\n",
    "df_output_all['trans']=df_output_all['trans'].astype(int)\n",
    "\n",
    "\n",
    "df_output_division['sales']=df_output_division['sales'].astype(float)\n",
    "df_output_division['units']=df_output_division['units'].astype(int)\n",
    "df_output_division['trans']=df_output_division['trans'].astype(int)"
   ]
  },
  {
   "cell_type": "code",
   "execution_count": 34,
   "metadata": {
    "collapsed": true
   },
   "outputs": [],
   "source": [
    "df_output_all_Online=df_output_all[df_output_all['Ecommerce_group']==\"Online\"].rename(columns={\"sales\":\"Online_Sales\",\"units\":\"Online_Units\",\"trans\":\"Online_Trans\"})\n",
    "df_output_all_Instore=df_output_all[df_output_all['Ecommerce_group']==\"Instore\"].rename(columns={\"sales\":\"Instore_Sales\",\"units\":\"Instore_Units\",\"trans\":\"Instore_Trans\"})\n",
    "del df_output_all_Online['Ecommerce_group']\n",
    "del df_output_all_Instore['Ecommerce_group']\n",
    "\n",
    "df_output_all=pd.merge(df_output_all_Online,df_output_all_Instore,on=['customer_id_hashed','transaction_dt','group','week_start_Wednesday','week_period'],how=\"outer\")\n",
    "df_output_all=df_output_all.fillna(0)\n"
   ]
  },
  {
   "cell_type": "code",
   "execution_count": 35,
   "metadata": {
    "collapsed": true
   },
   "outputs": [],
   "source": [
    "df_output_division_Online=df_output_division[df_output_division['Ecommerce_group']==\"Online\"].rename(columns={\"sales\":\"Online_Sales\",\"units\":\"Online_Units\",\"trans\":\"Online_Trans\"})\n",
    "df_output_division_Instore=df_output_division[df_output_division['Ecommerce_group']==\"Instore\"].rename(columns={\"sales\":\"Instore_Sales\",\"units\":\"Instore_Units\",\"trans\":\"Instore_Trans\"})\n",
    "del df_output_division_Online['Ecommerce_group']\n",
    "del df_output_division_Instore['Ecommerce_group']\n",
    "\n",
    "df_output_division=pd.merge(df_output_division_Online,df_output_division_Instore,on=['customer_id_hashed','transaction_dt','group','week_start_Wednesday','week_period','division_id'],how=\"outer\")\n",
    "df_output_division=df_output_division.fillna(0)"
   ]
  },
  {
   "cell_type": "code",
   "execution_count": 46,
   "metadata": {},
   "outputs": [
    {
     "data": {
      "text/plain": [
       "4750"
      ]
     },
     "execution_count": 46,
     "metadata": {},
     "output_type": "execute_result"
    }
   ],
   "source": [
    "del df_output_all_Online\n",
    "del df_output_all_Instore\n",
    "del df_output_division_Online\n",
    "del df_output_division_Instore\n",
    "gc.collect()"
   ]
  },
  {
   "cell_type": "code",
   "execution_count": 38,
   "metadata": {
    "collapsed": true
   },
   "outputs": [],
   "source": [
    "df_output_all=df_output_all[df_output_all['week_period']!=0]\n",
    "df_output_division=df_output_division[df_output_division['week_period']!=0]"
   ]
  },
  {
   "cell_type": "code",
   "execution_count": 39,
   "metadata": {
    "collapsed": true
   },
   "outputs": [],
   "source": [
    "func_dict_apply={'customer_id_hashed':'nunique',\n",
    "                 'Online_Sales':'sum',\n",
    "                 'Online_Units':'sum',\n",
    "                 'Online_Trans':'sum', \n",
    "                 'Instore_Sales':'sum',\n",
    "                 'Instore_Units':'sum',\n",
    "                 'Instore_Trans':'sum',\n",
    "                }"
   ]
  },
  {
   "cell_type": "code",
   "execution_count": 50,
   "metadata": {
    "collapsed": true
   },
   "outputs": [],
   "source": [
    "# 1 week,group\n",
    "output_table_1=df_output_all.groupby(['group','week_start_Wednesday','week_period']).agg(func_dict_apply).reset_index()\n",
    "# 2 week,group,division\n",
    "output_table_2=df_output_division.groupby(['group','week_start_Wednesday','week_period','division_id']).agg(func_dict_apply).reset_index()\n",
    "\n",
    "# 3 period,group\n",
    "output_table_3=df_output_all.groupby(['group','week_period']).agg(func_dict_apply).reset_index()\n",
    "# 4 period,group,division\n",
    "output_table_4=df_output_division.groupby(['group','week_period','division_id']).agg(func_dict_apply).reset_index()\n"
   ]
  },
  {
   "cell_type": "code",
   "execution_count": 51,
   "metadata": {
    "collapsed": true
   },
   "outputs": [],
   "source": [
    "df_divison_name=pd.read_csv(\"/home/jian/BigLots/static_files/MediaStorm Data Extract - Division Names.txt\",dtype=str,sep=\"|\")\n",
    "output_table_2=pd.merge(output_table_2,df_divison_name,on=\"division_id\",how=\"left\")\n",
    "output_table_4=pd.merge(output_table_4,df_divison_name,on=\"division_id\",how=\"left\")"
   ]
  },
  {
   "cell_type": "code",
   "execution_count": 53,
   "metadata": {
    "collapsed": true
   },
   "outputs": [],
   "source": [
    "output_table_1=pd.merge(output_table_1,df_group_total_counts,on=\"group\",how=\"left\")\n",
    "output_table_2=pd.merge(output_table_2,df_group_total_counts,on=\"group\",how=\"left\")\n",
    "output_table_3=pd.merge(output_table_3,df_group_total_counts,on=\"group\",how=\"left\")\n",
    "output_table_4=pd.merge(output_table_4,df_group_total_counts,on=\"group\",how=\"left\")"
   ]
  },
  {
   "cell_type": "code",
   "execution_count": 54,
   "metadata": {
    "collapsed": true
   },
   "outputs": [],
   "source": [
    "writer=pd.ExcelWriter(\"/home/jian/Projects/Big_Lots/Analysis/2019_Q2/Incremental_1mm_test/BL_output_2019Q1_400K_test_JL_\"+str(datetime.datetime.now().date())+\".xlsx\",engine=\"xlsxwriter\")\n",
    "output_table_1.to_excel(writer,\"by_group_week\",index=False)\n",
    "output_table_2.to_excel(writer,\"by_group_week_division\",index=False)\n",
    "output_table_3.to_excel(writer,\"by_group_period\",index=False)\n",
    "output_table_4.to_excel(writer,\"by_group_period_division\",index=False)\n",
    "writer.save()"
   ]
  },
  {
   "cell_type": "code",
   "execution_count": null,
   "metadata": {
    "collapsed": true
   },
   "outputs": [],
   "source": []
  },
  {
   "cell_type": "code",
   "execution_count": null,
   "metadata": {
    "collapsed": true
   },
   "outputs": [],
   "source": []
  },
  {
   "cell_type": "code",
   "execution_count": null,
   "metadata": {
    "collapsed": true
   },
   "outputs": [],
   "source": []
  },
  {
   "cell_type": "code",
   "execution_count": 20,
   "metadata": {},
   "outputs": [
    {
     "data": {
      "text/html": [
       "<div>\n",
       "<style>\n",
       "    .dataframe thead tr:only-child th {\n",
       "        text-align: right;\n",
       "    }\n",
       "\n",
       "    .dataframe thead th {\n",
       "        text-align: left;\n",
       "    }\n",
       "\n",
       "    .dataframe tbody tr th {\n",
       "        vertical-align: top;\n",
       "    }\n",
       "</style>\n",
       "<table border=\"1\" class=\"dataframe\">\n",
       "  <thead>\n",
       "    <tr style=\"text-align: right;\">\n",
       "      <th></th>\n",
       "      <th>group</th>\n",
       "      <th>customer_id_hashed</th>\n",
       "    </tr>\n",
       "  </thead>\n",
       "  <tbody>\n",
       "    <tr>\n",
       "      <th>0</th>\n",
       "      <td>balance</td>\n",
       "      <td>2040787</td>\n",
       "    </tr>\n",
       "    <tr>\n",
       "      <th>1</th>\n",
       "      <td>control_400K</td>\n",
       "      <td>115302</td>\n",
       "    </tr>\n",
       "    <tr>\n",
       "      <th>2</th>\n",
       "      <td>test_in_test</td>\n",
       "      <td>5122366</td>\n",
       "    </tr>\n",
       "  </tbody>\n",
       "</table>\n",
       "</div>"
      ],
      "text/plain": [
       "          group  customer_id_hashed\n",
       "0       balance             2040787\n",
       "1  control_400K              115302\n",
       "2  test_in_test             5122366"
      ]
     },
     "execution_count": 20,
     "metadata": {},
     "output_type": "execute_result"
    }
   ],
   "source": [
    "df_output_all.groupby(['group'])['customer_id_hashed'].nunique().to_frame().reset_index()"
   ]
  },
  {
   "cell_type": "code",
   "execution_count": 21,
   "metadata": {},
   "outputs": [
    {
     "data": {
      "text/html": [
       "<div>\n",
       "<style>\n",
       "    .dataframe thead tr:only-child th {\n",
       "        text-align: right;\n",
       "    }\n",
       "\n",
       "    .dataframe thead th {\n",
       "        text-align: left;\n",
       "    }\n",
       "\n",
       "    .dataframe tbody tr th {\n",
       "        vertical-align: top;\n",
       "    }\n",
       "</style>\n",
       "<table border=\"1\" class=\"dataframe\">\n",
       "  <thead>\n",
       "    <tr style=\"text-align: right;\">\n",
       "      <th></th>\n",
       "      <th>group</th>\n",
       "      <th>customer_id_hashed</th>\n",
       "    </tr>\n",
       "  </thead>\n",
       "  <tbody>\n",
       "    <tr>\n",
       "      <th>0</th>\n",
       "      <td>balance</td>\n",
       "      <td>2040787</td>\n",
       "    </tr>\n",
       "    <tr>\n",
       "      <th>1</th>\n",
       "      <td>control_400K</td>\n",
       "      <td>115302</td>\n",
       "    </tr>\n",
       "    <tr>\n",
       "      <th>2</th>\n",
       "      <td>test_in_test</td>\n",
       "      <td>5122366</td>\n",
       "    </tr>\n",
       "  </tbody>\n",
       "</table>\n",
       "</div>"
      ],
      "text/plain": [
       "          group  customer_id_hashed\n",
       "0       balance             2040787\n",
       "1  control_400K              115302\n",
       "2  test_in_test             5122366"
      ]
     },
     "execution_count": 21,
     "metadata": {},
     "output_type": "execute_result"
    }
   ],
   "source": [
    "df_output_division.groupby(['group'])['customer_id_hashed'].nunique().to_frame().reset_index()"
   ]
  },
  {
   "cell_type": "code",
   "execution_count": 37,
   "metadata": {},
   "outputs": [
    {
     "data": {
      "text/html": [
       "<div>\n",
       "<style>\n",
       "    .dataframe thead tr:only-child th {\n",
       "        text-align: right;\n",
       "    }\n",
       "\n",
       "    .dataframe thead th {\n",
       "        text-align: left;\n",
       "    }\n",
       "\n",
       "    .dataframe tbody tr th {\n",
       "        vertical-align: top;\n",
       "    }\n",
       "</style>\n",
       "<table border=\"1\" class=\"dataframe\">\n",
       "  <thead>\n",
       "    <tr style=\"text-align: right;\">\n",
       "      <th></th>\n",
       "      <th>group</th>\n",
       "      <th>total_counts</th>\n",
       "    </tr>\n",
       "  </thead>\n",
       "  <tbody>\n",
       "    <tr>\n",
       "      <th>0</th>\n",
       "      <td>test_in_test</td>\n",
       "      <td>17754861.0</td>\n",
       "    </tr>\n",
       "    <tr>\n",
       "      <th>1</th>\n",
       "      <td>control_400K</td>\n",
       "      <td>399998.0</td>\n",
       "    </tr>\n",
       "    <tr>\n",
       "      <th>2</th>\n",
       "      <td>balance</td>\n",
       "      <td>NaN</td>\n",
       "    </tr>\n",
       "  </tbody>\n",
       "</table>\n",
       "</div>"
      ],
      "text/plain": [
       "          group  total_counts\n",
       "0  test_in_test    17754861.0\n",
       "1  control_400K      399998.0\n",
       "2       balance           NaN"
      ]
     },
     "execution_count": 37,
     "metadata": {},
     "output_type": "execute_result"
    }
   ],
   "source": []
  },
  {
   "cell_type": "code",
   "execution_count": 56,
   "metadata": {},
   "outputs": [
    {
     "data": {
      "text/html": [
       "<div>\n",
       "<style>\n",
       "    .dataframe thead tr:only-child th {\n",
       "        text-align: right;\n",
       "    }\n",
       "\n",
       "    .dataframe thead th {\n",
       "        text-align: left;\n",
       "    }\n",
       "\n",
       "    .dataframe tbody tr th {\n",
       "        vertical-align: top;\n",
       "    }\n",
       "</style>\n",
       "<table border=\"1\" class=\"dataframe\">\n",
       "  <thead>\n",
       "    <tr style=\"text-align: right;\">\n",
       "      <th></th>\n",
       "      <th>week_start_Wednesday</th>\n",
       "      <th>week_period</th>\n",
       "    </tr>\n",
       "  </thead>\n",
       "  <tbody>\n",
       "    <tr>\n",
       "      <th>0</th>\n",
       "      <td>2019-03-20</td>\n",
       "      <td>P1</td>\n",
       "    </tr>\n",
       "    <tr>\n",
       "      <th>1</th>\n",
       "      <td>2019-03-27</td>\n",
       "      <td>P1</td>\n",
       "    </tr>\n",
       "    <tr>\n",
       "      <th>2</th>\n",
       "      <td>2019-04-03</td>\n",
       "      <td>P1</td>\n",
       "    </tr>\n",
       "    <tr>\n",
       "      <th>3</th>\n",
       "      <td>2019-04-10</td>\n",
       "      <td>P1</td>\n",
       "    </tr>\n",
       "    <tr>\n",
       "      <th>4</th>\n",
       "      <td>2019-04-17</td>\n",
       "      <td>P2</td>\n",
       "    </tr>\n",
       "    <tr>\n",
       "      <th>5</th>\n",
       "      <td>2019-04-24</td>\n",
       "      <td>P3</td>\n",
       "    </tr>\n",
       "    <tr>\n",
       "      <th>6</th>\n",
       "      <td>2019-05-01</td>\n",
       "      <td>P4</td>\n",
       "    </tr>\n",
       "    <tr>\n",
       "      <th>7</th>\n",
       "      <td>2019-05-08</td>\n",
       "      <td>P4</td>\n",
       "    </tr>\n",
       "    <tr>\n",
       "      <th>8</th>\n",
       "      <td>2019-05-15</td>\n",
       "      <td>P4</td>\n",
       "    </tr>\n",
       "  </tbody>\n",
       "</table>\n",
       "</div>"
      ],
      "text/plain": [
       "  week_start_Wednesday week_period\n",
       "0           2019-03-20          P1\n",
       "1           2019-03-27          P1\n",
       "2           2019-04-03          P1\n",
       "3           2019-04-10          P1\n",
       "4           2019-04-17          P2\n",
       "5           2019-04-24          P3\n",
       "6           2019-05-01          P4\n",
       "7           2019-05-08          P4\n",
       "8           2019-05-15          P4"
      ]
     },
     "execution_count": 56,
     "metadata": {},
     "output_type": "execute_result"
    }
   ],
   "source": [
    "df_week_start_group"
   ]
  },
  {
   "cell_type": "code",
   "execution_count": null,
   "metadata": {
    "collapsed": true
   },
   "outputs": [],
   "source": []
  }
 ],
 "metadata": {
  "kernelspec": {
   "display_name": "Python 3",
   "language": "python",
   "name": "python3"
  },
  "language_info": {
   "codemirror_mode": {
    "name": "ipython",
    "version": 3
   },
   "file_extension": ".py",
   "mimetype": "text/x-python",
   "name": "python",
   "nbconvert_exporter": "python",
   "pygments_lexer": "ipython3",
   "version": "3.6.1"
  }
 },
 "nbformat": 4,
 "nbformat_minor": 2
}
