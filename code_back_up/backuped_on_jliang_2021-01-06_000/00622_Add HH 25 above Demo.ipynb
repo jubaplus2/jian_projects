{
 "cells": [
  {
   "cell_type": "code",
   "execution_count": 8,
   "metadata": {},
   "outputs": [
    {
     "data": {
      "text/plain": [
       "'/home/jian/Projects/Big_Lots/Analysis/2019_Q1/Sears'"
      ]
     },
     "execution_count": 8,
     "metadata": {},
     "output_type": "execute_result"
    }
   ],
   "source": [
    "import pandas as pd\n",
    "import numpy as np\n",
    "import datetime\n",
    "import os\n",
    "os.getcwd()"
   ]
  },
  {
   "cell_type": "code",
   "execution_count": 9,
   "metadata": {
    "collapsed": true
   },
   "outputs": [],
   "source": [
    "EASI_C=pd.read_csv(\"/home/jian/Docs/EASI/2018-07-19/ZIP4_18_DATA_C2_CSV/ZIP4_18_DATA_C2.CSV\",\n",
    "                   dtype=str,encoding='ISO-8859-1',skiprows=1,usecols=['ZIP_CODE','ZIP4','HH18','PCTHH25_34','PCTHH35_44','PCTHH45_54','PCTHH55_64','PCTHH65_74','PCTHH75P'])\n",
    "EASI_C['HH18']=EASI_C['HH18'].astype(float)\n",
    "EASI_C['PCTHH25_34']=EASI_C['PCTHH25_34'].astype(float)\n",
    "EASI_C['PCTHH35_44']=EASI_C['PCTHH35_44'].astype(float)\n",
    "EASI_C['PCTHH45_54']=EASI_C['PCTHH45_54'].astype(float)\n",
    "EASI_C['PCTHH55_64']=EASI_C['PCTHH55_64'].astype(float)\n",
    "EASI_C['PCTHH65_74']=EASI_C['PCTHH65_74'].astype(float)\n",
    "EASI_C['PCTHH75P']=EASI_C['PCTHH75P'].astype(float)\n",
    "\n",
    "EASI_C['HH_25_Above']=(EASI_C['PCTHH25_34']+EASI_C['PCTHH35_44']+EASI_C['PCTHH45_54']+EASI_C['PCTHH55_64']+EASI_C['PCTHH65_74']+EASI_C['PCTHH75P'])*EASI_C['HH18']/100\n",
    "EASI_C['HH_25_54']=(EASI_C['PCTHH25_34']+EASI_C['PCTHH35_44']+EASI_C['PCTHH45_54'])*EASI_C['HH18']/100\n",
    "\n",
    "EASI_C=EASI_C.groupby(['ZIP_CODE'])['HH18','HH_25_Above','HH_25_54'].sum().reset_index()\n"
   ]
  },
  {
   "cell_type": "code",
   "execution_count": 10,
   "metadata": {
    "collapsed": true
   },
   "outputs": [],
   "source": [
    "writer=pd.ExcelWriter('/home/jian/Projects/Big_Lots/Analysis/2019_Q1/Sears/BL_zips_with_HH_info_25_'+str(datetime.datetime.now().date())+\".xlsx\",engine=\"xlsxwriter\")\n",
    "EASI_C.to_excel(writer,\"zip_5_HH\",index=False)\n",
    "writer.save()\n"
   ]
  },
  {
   "cell_type": "code",
   "execution_count": null,
   "metadata": {
    "collapsed": true
   },
   "outputs": [],
   "source": []
  }
 ],
 "metadata": {
  "kernelspec": {
   "display_name": "Python 3",
   "language": "python",
   "name": "python3"
  },
  "language_info": {
   "codemirror_mode": {
    "name": "ipython",
    "version": 3
   },
   "file_extension": ".py",
   "mimetype": "text/x-python",
   "name": "python",
   "nbconvert_exporter": "python",
   "pygments_lexer": "ipython3",
   "version": "3.6.1"
  }
 },
 "nbformat": 4,
 "nbformat_minor": 2
}
