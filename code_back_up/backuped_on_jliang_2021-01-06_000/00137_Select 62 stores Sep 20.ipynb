{
 "cells": [
  {
   "cell_type": "code",
   "execution_count": 4,
   "metadata": {
    "collapsed": true
   },
   "outputs": [],
   "source": [
    "import pandas as pd\n",
    "import googlemaps\n",
    "from haversine import haversine\n",
    "import json\n",
    "import numpy as np\n",
    "import datetime\n",
    "\n",
    "zip_centers=json.load(open(\"/home/jian/Docs/Geo_mapping/center_of_rentrak_zip.json\",\"r\"))"
   ]
  },
  {
   "cell_type": "code",
   "execution_count": 5,
   "metadata": {
    "collapsed": true
   },
   "outputs": [],
   "source": [
    "hurricane_6_stores=['1403','5130','5224','5247','1242','206']"
   ]
  },
  {
   "cell_type": "code",
   "execution_count": 6,
   "metadata": {},
   "outputs": [],
   "source": [
    "df_hurricane_6_stores=pd.DataFrame({'location_id':hurricane_6_stores,\"city\":['Wilmington','Wilmington','Morehead',\n",
    "                                                                            'Jacksonville','Lumberton','Fayetteville'],\"state\":[\"NC\"]*6},index=range(6))"
   ]
  },
  {
   "cell_type": "code",
   "execution_count": 19,
   "metadata": {},
   "outputs": [],
   "source": [
    "store_level_zips=pd.read_csv(\"/home/jian/Projects/Big_Lots/New_TA/zips_in_new_ta/sales_by_zip (Store level).csv\",dtype=str)\n",
    "store_level_zips['zip_cd']=store_level_zips['zip'].apply(lambda x: str(x).zfill(5))\n",
    "store_level_zips['net_transaction_amt']=store_level_zips['net_transaction_amt'].astype(float)\n",
    "store_level_zips=store_level_zips[store_level_zips['location_id'].isin(hurricane_6_stores)]\n",
    "store_level_zips=store_level_zips[['revenue_flag','location_id','zip_cd']]\n"
   ]
  },
  {
   "cell_type": "code",
   "execution_count": 20,
   "metadata": {},
   "outputs": [],
   "source": [
    "output=pd.merge(df_hurricane_6_stores,store_level_zips,on=\"location_id\",how=\"left\")"
   ]
  },
  {
   "cell_type": "code",
   "execution_count": 21,
   "metadata": {},
   "outputs": [],
   "source": [
    "output=output[['location_id','city','state','revenue_flag','zip_cd']]"
   ]
  },
  {
   "cell_type": "code",
   "execution_count": null,
   "metadata": {
    "collapsed": true
   },
   "outputs": [],
   "source": []
  },
  {
   "cell_type": "code",
   "execution_count": null,
   "metadata": {
    "collapsed": true
   },
   "outputs": [],
   "source": []
  },
  {
   "cell_type": "code",
   "execution_count": null,
   "metadata": {
    "collapsed": true
   },
   "outputs": [],
   "source": []
  },
  {
   "cell_type": "code",
   "execution_count": null,
   "metadata": {
    "collapsed": true
   },
   "outputs": [],
   "source": []
  },
  {
   "cell_type": "code",
   "execution_count": 31,
   "metadata": {},
   "outputs": [],
   "source": [
    "unique_zips_by_label=output[['zip_cd','revenue_flag']].drop_duplicates()\n",
    "unique_zips_by_label=unique_zips_by_label.sort_values(['revenue_flag','zip_cd'])"
   ]
  },
  {
   "cell_type": "code",
   "execution_count": 32,
   "metadata": {},
   "outputs": [],
   "source": [
    "writer=pd.ExcelWriter(\"/home/jian/Projects/Big_Lots/New_TA/Store_Level_Zip_Selection/BL_Hurricane_Sep20_JL_\"+str(datetime.datetime.now().date())+\".xlsx\",engine=\"xlsxwriter\")\n",
    "unique_zips_by_label.to_excel(writer,\"unique_zips_by_label\",index=False)\n",
    "output.to_excel(writer,\"Hurricane_zip_codes\",index=False)\n",
    "writer.save()\n",
    "\n"
   ]
  },
  {
   "cell_type": "code",
   "execution_count": null,
   "metadata": {
    "collapsed": true
   },
   "outputs": [],
   "source": []
  }
 ],
 "metadata": {
  "kernelspec": {
   "display_name": "Python 3",
   "language": "python",
   "name": "python3"
  },
  "language_info": {
   "codemirror_mode": {
    "name": "ipython",
    "version": 3
   },
   "file_extension": ".py",
   "mimetype": "text/x-python",
   "name": "python",
   "nbconvert_exporter": "python",
   "pygments_lexer": "ipython3",
   "version": "3.6.1"
  }
 },
 "nbformat": 4,
 "nbformat_minor": 2
}
