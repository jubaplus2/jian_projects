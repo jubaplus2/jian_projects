{
 "cells": [
  {
   "cell_type": "code",
   "execution_count": 1,
   "metadata": {},
   "outputs": [
    {
     "data": {
      "text/plain": [
       "'/home/jian/Projects/Big_Lots/Analysis/2019_Q2/ID_Migration'"
      ]
     },
     "execution_count": 1,
     "metadata": {},
     "output_type": "execute_result"
    }
   ],
   "source": [
    "import pandas as pd\n",
    "import os\n",
    "import datetime\n",
    "import numpy as np\n",
    "import gc\n",
    "import glob\n",
    "os.getcwd()\n",
    "\n"
   ]
  },
  {
   "cell_type": "code",
   "execution_count": 2,
   "metadata": {
    "collapsed": true
   },
   "outputs": [],
   "source": [
    "def recursive_file_gen(root_path):\n",
    "    for root, dirs,files in os.walk(root_path):\n",
    "        for file in files:\n",
    "            yield os.path.join(root,file)"
   ]
  },
  {
   "cell_type": "code",
   "execution_count": 3,
   "metadata": {},
   "outputs": [
    {
     "name": "stdout",
     "output_type": "stream",
     "text": [
      "prior_quarter_End 2018-05-05\n",
      "recent_complete_quarter_End 2018-08-04\n",
      "lapsed_date_begin 2014-04-29\n"
     ]
    }
   ],
   "source": [
    "prior_quarter_End=datetime.date(2018,5,5)\n",
    "recent_complete_quarter_End=prior_quarter_End+datetime.timedelta(days=7*13)\n",
    "\n",
    "print(\"prior_quarter_End\",prior_quarter_End)\n",
    "print(\"recent_complete_quarter_End\",recent_complete_quarter_End)\n",
    "\n",
    "lapsed_date_begin=prior_quarter_End-datetime.timedelta(days=(4*365+1+6))\n",
    "print(\"lapsed_date_begin\",lapsed_date_begin)\n"
   ]
  },
  {
   "cell_type": "code",
   "execution_count": 4,
   "metadata": {},
   "outputs": [
    {
     "name": "stdout",
     "output_type": "stream",
     "text": [
      "2014-08-26\n",
      "2017-02-26\n"
     ]
    }
   ],
   "source": [
    "lapsed=pd.read_table(\"/home/jian/Projects/Big_Lots/Loyal_members/loyalty_sales_data/lapsed20140826_20170226/MediaStormLapsedCustDtl.txt\",\n",
    "                     sep=\",\",usecols=['customer_id_hashed','transaction_date'],dtype=str).drop_duplicates()\n",
    "lapsed=lapsed[lapsed['transaction_date']>=str(lapsed_date_begin)]\n",
    "\n",
    "print(lapsed['transaction_date'].min())\n",
    "print(lapsed['transaction_date'].max())"
   ]
  },
  {
   "cell_type": "code",
   "execution_count": 5,
   "metadata": {},
   "outputs": [
    {
     "name": "stdout",
     "output_type": "stream",
     "text": [
      "1 2019-08-08 13:59:24.479712\n",
      "2 2019-08-08 13:59:53.006778\n",
      "3 2019-08-08 14:00:18.392202\n",
      "4 2019-08-08 14:00:48.348124\n",
      "5 2019-08-08 14:01:19.681932\n",
      "6 2019-08-08 14:01:55.468552\n",
      "7 2019-08-08 14:02:26.304199\n",
      "8 2019-08-08 14:02:55.485992\n",
      "9 2019-08-08 14:03:27.198322\n",
      "10 2019-08-08 14:04:07.897440\n",
      "11 2019-08-08 14:04:53.359118\n",
      "12 2019-08-08 14:05:41.544961\n",
      "13 2019-08-08 14:06:24.807616\n",
      "14 2019-08-08 14:07:08.076326\n",
      "15 2019-08-08 14:08:04.173499\n"
     ]
    }
   ],
   "source": [
    "chunksize_num = 10**7\n",
    "filename='/home/jian/Projects/Big_Lots/Live_Ramp/Quarterly_Update_2019Q1/crm_newscore_0922/combinedtransactions_0922.csv'\n",
    "dftrans_before_20180922=pd.DataFrame()\n",
    "count_i=0\n",
    "\n",
    "for chunk in pd.read_csv(filename, chunksize=chunksize_num,dtype=str,usecols=['customer_id_hashed','transaction_date']):\n",
    "    chunk = chunk.drop_duplicates()\n",
    "    chunk=chunk[chunk['transaction_date']>=str(lapsed_date_begin)]\n",
    "    dftrans_before_20180922=dftrans_before_20180922.append(chunk)\n",
    "    count_i+=1\n",
    "    print(count_i,datetime.datetime.now())\n",
    "dftrans_before_20180922=dftrans_before_20180922[dftrans_before_20180922['transaction_date']<=str(recent_complete_quarter_End)]\n",
    "dftrans_before_20180922=dftrans_before_20180922.drop_duplicates()    "
   ]
  },
  {
   "cell_type": "code",
   "execution_count": 6,
   "metadata": {},
   "outputs": [
    {
     "name": "stdout",
     "output_type": "stream",
     "text": [
      "(119832143, 2)\n"
     ]
    },
    {
     "data": {
      "text/plain": [
       "196"
      ]
     },
     "execution_count": 6,
     "metadata": {},
     "output_type": "execute_result"
    }
   ],
   "source": [
    "all_rewards_most_recent=dftrans_before_20180922.append(lapsed)\n",
    "\n",
    "print(all_rewards_most_recent.shape)\n",
    "\n",
    "del chunk\n",
    "del dftrans_before_20180922\n",
    "gc.collect()"
   ]
  },
  {
   "cell_type": "code",
   "execution_count": 7,
   "metadata": {},
   "outputs": [
    {
     "name": "stdout",
     "output_type": "stream",
     "text": [
      "5\n",
      "13\n"
     ]
    },
    {
     "data": {
      "text/plain": [
       "['/home/jian/BigLots/hist_daily_data_subclasslevel/MediaStormDailySales_week_ending_2018-05-12.txt',\n",
       " '/home/jian/BigLots/hist_daily_data_subclasslevel/MediaStormDailySales_week_ending_2018-05-19.txt',\n",
       " '/home/jian/BigLots/hist_daily_data_subclasslevel/MediaStormDailySales_week_ending_2018-05-26.txt',\n",
       " '/home/jian/BigLots/hist_daily_data_subclasslevel/MediaStormDailySales_week_ending_2018-06-02.txt',\n",
       " '/home/jian/BigLots/hist_daily_data_subclasslevel/MediaStormDailySales_week_ending_2018-06-09.txt',\n",
       " '/home/jian/BigLots/2018_by_weeks/MediaStorm_2018-06-16/MediaStormDailySales.txt',\n",
       " '/home/jian/BigLots/2018_by_weeks/MediaStorm_2018-06-23/MediaStormDailySales.txt',\n",
       " '/home/jian/BigLots/2018_by_weeks/MediaStorm_2018-06-30/MediaStormDailySales.txt',\n",
       " '/home/jian/BigLots/2018_by_weeks/MediaStorm_2018-07-07/MediaStormDailySales.txt',\n",
       " '/home/jian/BigLots/2018_by_weeks/MediaStorm_2018-07-14/MediaStormDailySales20180717-113630-767.txt',\n",
       " '/home/jian/BigLots/2018_by_weeks/MediaStorm_2018-07-21/MediaStormDailySales20180724-113327-741.txt',\n",
       " '/home/jian/BigLots/2018_by_weeks/MediaStorm_2018-07-28/MediaStormDailySales20180731-111804-489.txt',\n",
       " '/home/jian/BigLots/2018_by_weeks/MediaStorm_2018-08-04/MediaStormDailySales20180807-111637-702.txt']"
      ]
     },
     "execution_count": 7,
     "metadata": {},
     "output_type": "execute_result"
    }
   ],
   "source": [
    "weeks_2019Q2=[datetime.date(2019,5,11)+datetime.timedelta(days=x*7) for x in range(13)]\n",
    "weeks_2018Q2=[x-datetime.timedelta(days=52*7) for x in weeks_2019Q2]\n",
    "\n",
    "Q2_files_2018_hist=glob.glob(\"/home/jian/BigLots/hist_daily_data_subclasslevel/*.txt\")\n",
    "Q2_files_2018_hist=[x for x in Q2_files_2018_hist if x.split(\"ales_week_ending_\")[1][:10] in [str(x) for x in weeks_2018Q2]]\n",
    "print(len(Q2_files_2018_hist))\n",
    "\n",
    "folder_2018_by_week=\"/home/jian/BigLots/2018_by_weeks/\"\n",
    "\n",
    "Q2_files_2018_all_types=list(recursive_file_gen(folder_2018_by_week))\n",
    "Q2_files_2018_all_types=[x for x in Q2_files_2018_all_types if \"aily\" in x]\n",
    "Q2_files_2018_all_types=[x for x in Q2_files_2018_all_types if \".txt\" in x]\n",
    "\n",
    "Q2_files_2018=[]\n",
    "for week_end_date in weeks_2018Q2:\n",
    "    file_path=[x for x in Q2_files_2018_all_types if str(week_end_date) in x]\n",
    "    Q2_files_2018=Q2_files_2018+file_path\n",
    "    \n",
    "Q2_files_2018_hist=sorted(Q2_files_2018_hist)\n",
    "Q2_files_2018=sorted(Q2_files_2018)\n",
    "Q2_files_2018=Q2_files_2018_hist+Q2_files_2018\n",
    "print(len(Q2_files_2018))\n",
    "Q2_files_2018\n",
    "\n"
   ]
  },
  {
   "cell_type": "code",
   "execution_count": 8,
   "metadata": {},
   "outputs": [
    {
     "name": "stdout",
     "output_type": "stream",
     "text": [
      "/home/jian/BigLots/hist_daily_data_subclasslevel/MediaStormDailySales_week_ending_2018-05-12.txt 2019-08-08 14:12:44.933949\n",
      "/home/jian/BigLots/hist_daily_data_subclasslevel/MediaStormDailySales_week_ending_2018-05-19.txt 2019-08-08 14:13:06.832996\n",
      "/home/jian/BigLots/hist_daily_data_subclasslevel/MediaStormDailySales_week_ending_2018-05-26.txt 2019-08-08 14:13:35.018863\n",
      "/home/jian/BigLots/hist_daily_data_subclasslevel/MediaStormDailySales_week_ending_2018-06-02.txt 2019-08-08 14:14:00.426050\n",
      "/home/jian/BigLots/hist_daily_data_subclasslevel/MediaStormDailySales_week_ending_2018-06-09.txt 2019-08-08 14:14:25.273749\n",
      "/home/jian/BigLots/2018_by_weeks/MediaStorm_2018-06-16/MediaStormDailySales.txt 2019-08-08 14:14:50.390212\n",
      "/home/jian/BigLots/2018_by_weeks/MediaStorm_2018-06-23/MediaStormDailySales.txt 2019-08-08 14:15:15.544308\n",
      "/home/jian/BigLots/2018_by_weeks/MediaStorm_2018-06-30/MediaStormDailySales.txt 2019-08-08 14:15:44.785857\n",
      "/home/jian/BigLots/2018_by_weeks/MediaStorm_2018-07-07/MediaStormDailySales.txt 2019-08-08 14:16:20.622823\n",
      "/home/jian/BigLots/2018_by_weeks/MediaStorm_2018-07-14/MediaStormDailySales20180717-113630-767.txt 2019-08-08 14:16:54.315407\n",
      "/home/jian/BigLots/2018_by_weeks/MediaStorm_2018-07-21/MediaStormDailySales20180724-113327-741.txt 2019-08-08 14:17:21.279223\n",
      "/home/jian/BigLots/2018_by_weeks/MediaStorm_2018-07-28/MediaStormDailySales20180731-111804-489.txt 2019-08-08 14:17:48.100246\n",
      "/home/jian/BigLots/2018_by_weeks/MediaStorm_2018-08-04/MediaStormDailySales20180807-111637-702.txt 2019-08-08 14:18:17.659059\n"
     ]
    }
   ],
   "source": [
    "for file in Q2_files_2018:\n",
    "    df=pd.read_table(file,sep=\"|\",dtype=str,\n",
    "                     usecols=['customer_id_hashed','transaction_dt'])\n",
    "    df=df[~pd.isnull(df['customer_id_hashed'])]\n",
    "    df=df.drop_duplicates()\n",
    "    df=df.rename(columns={\"transaction_dt\":\"transaction_date\"})\n",
    "    all_rewards_most_recent=all_rewards_most_recent.append(df)\n",
    "    print(file,datetime.datetime.now())\n",
    "all_rewards_most_recent=all_rewards_most_recent.drop_duplicates()"
   ]
  },
  {
   "cell_type": "code",
   "execution_count": 9,
   "metadata": {},
   "outputs": [
    {
     "data": {
      "text/plain": [
       "243"
      ]
     },
     "execution_count": 9,
     "metadata": {},
     "output_type": "execute_result"
    }
   ],
   "source": [
    "df_copy_before_2019Q2=all_rewards_most_recent[all_rewards_most_recent['transaction_date']<=str(prior_quarter_End)]\n",
    "df_copy_before_2019Q2=df_copy_before_2019Q2.sort_values([\"customer_id_hashed\",\"transaction_date\"],ascending=[True,False])\n",
    "df_copy_before_2019Q2=df_copy_before_2019Q2.drop_duplicates(['customer_id_hashed'])\n",
    "df_copy_before_2019Q2=df_copy_before_2019Q2.rename(columns={\"transaction_date\":\"transaction_date_before_the_Quarter\"})\n",
    "\n",
    "all_rewards_most_recent_After=all_rewards_most_recent[all_rewards_most_recent['transaction_date']<=str(recent_complete_quarter_End)]\n",
    "all_rewards_most_recent_After=all_rewards_most_recent_After[['customer_id_hashed','transaction_date']].sort_values([\"customer_id_hashed\",\"transaction_date\"],ascending=[True,False])\n",
    "all_rewards_most_recent_After=all_rewards_most_recent_After.drop_duplicates(['customer_id_hashed']).rename(columns={\"transaction_date\":\"transaction_date_after_the_Quarter\"})\n",
    "\n",
    "all_rewards_most_recent=pd.merge(df_copy_before_2019Q2,all_rewards_most_recent_After,on=\"customer_id_hashed\",how=\"outer\")\n",
    "del all_rewards_most_recent_After\n",
    "del df_copy_before_2019Q2\n",
    "gc.collect()"
   ]
  },
  {
   "cell_type": "code",
   "execution_count": 10,
   "metadata": {},
   "outputs": [
    {
     "data": {
      "text/plain": [
       "datetime.date(2018, 5, 5)"
      ]
     },
     "execution_count": 10,
     "metadata": {},
     "output_type": "execute_result"
    }
   ],
   "source": [
    "prior_quarter_End"
   ]
  },
  {
   "cell_type": "code",
   "execution_count": 11,
   "metadata": {},
   "outputs": [
    {
     "data": {
      "text/plain": [
       "datetime.date(2018, 8, 4)"
      ]
     },
     "execution_count": 11,
     "metadata": {},
     "output_type": "execute_result"
    }
   ],
   "source": [
    "recent_complete_quarter_End"
   ]
  },
  {
   "cell_type": "code",
   "execution_count": 12,
   "metadata": {},
   "outputs": [
    {
     "name": "stdout",
     "output_type": "stream",
     "text": [
      "2019-08-08 14:53:24.046571\n"
     ]
    }
   ],
   "source": [
    "all_rewards_most_recent['transaction_date_before_the_Quarter']=all_rewards_most_recent['transaction_date_before_the_Quarter'].fillna(\"2099-12-31\")\n",
    "all_rewards_most_recent['transaction_date_before_the_Quarter']=pd.to_datetime(all_rewards_most_recent['transaction_date_before_the_Quarter'],format='%Y-%m-%d')\n",
    "all_rewards_most_recent['Days_to_pre_Quarter_End']=prior_quarter_End-all_rewards_most_recent['transaction_date_before_the_Quarter']\n",
    "# Filled the na before with a later adte 2099-12-31\n",
    "\n",
    "all_rewards_most_recent['transaction_date_after_the_Quarter']=pd.to_datetime(all_rewards_most_recent['transaction_date_after_the_Quarter'],format='%Y-%m-%d')\n",
    "all_rewards_most_recent['Days_to_recent_Quarter_End']=recent_complete_quarter_End-all_rewards_most_recent['transaction_date_after_the_Quarter']\n",
    "print(datetime.datetime.now())"
   ]
  },
  {
   "cell_type": "code",
   "execution_count": 13,
   "metadata": {},
   "outputs": [
    {
     "name": "stdout",
     "output_type": "stream",
     "text": [
      "2019-08-08 15:01:07.395845\n"
     ]
    }
   ],
   "source": [
    "all_rewards_most_recent['Month_to_pre_Quarter_End']=all_rewards_most_recent['Days_to_pre_Quarter_End'].apply(lambda x: x.days/(365.25/12))\n",
    "all_rewards_most_recent['Month_to_recent_Quarter_End']=all_rewards_most_recent['Days_to_recent_Quarter_End'].apply(lambda x: x.days/(365.25/12))\n",
    "print(datetime.datetime.now())"
   ]
  },
  {
   "cell_type": "code",
   "execution_count": 14,
   "metadata": {
    "collapsed": true
   },
   "outputs": [],
   "source": [
    "all_rewards_most_recent['Group_before_the_Quarter']=np.where((all_rewards_most_recent['Month_to_pre_Quarter_End']>12) & (all_rewards_most_recent['Month_to_pre_Quarter_End']<=48),\"Lapsed_13_48\",\n",
    "                                                   np.where(all_rewards_most_recent['Month_to_pre_Quarter_End']>48,\"WD_48+\",\n",
    "                                                            np.where((all_rewards_most_recent['Month_to_pre_Quarter_End']>=0) & (all_rewards_most_recent['Month_to_pre_Quarter_End']<=12),\"Active\",\n",
    "                                                                    np.where(all_rewards_most_recent['Month_to_pre_Quarter_End']<0,\"NotAvailable_Before_Quarter\",\"NaN\")\n",
    "                                                                    )\n",
    "                                                           )\n",
    "                                                   )\n",
    "all_rewards_most_recent['Group_after_the_Quarter']=np.where((all_rewards_most_recent['Month_to_recent_Quarter_End']>12) & (all_rewards_most_recent['Month_to_recent_Quarter_End']<=48),\"Lapsed_13_48\",\n",
    "                                                   np.where(all_rewards_most_recent['Month_to_recent_Quarter_End']>48,\"WD_48+\",\n",
    "                                                            np.where((all_rewards_most_recent['Month_to_recent_Quarter_End']>=0) & (all_rewards_most_recent['Month_to_recent_Quarter_End']<=12),\"Active\",\n",
    "                                                                    np.where(all_rewards_most_recent['Month_to_recent_Quarter_End']<0,\"NotAvailable_Before_Q4\",\"NaN\")\n",
    "                                                                    )\n",
    "                                                           )\n",
    "                                                   )"
   ]
  },
  {
   "cell_type": "code",
   "execution_count": 15,
   "metadata": {},
   "outputs": [
    {
     "data": {
      "text/plain": [
       "['Lapsed_13_48', 'Active', 'NotAvailable_Before_Quarter']"
      ]
     },
     "execution_count": 15,
     "metadata": {},
     "output_type": "execute_result"
    }
   ],
   "source": [
    "all_rewards_most_recent['Group_before_the_Quarter'].unique().tolist()"
   ]
  },
  {
   "cell_type": "code",
   "execution_count": 16,
   "metadata": {},
   "outputs": [
    {
     "data": {
      "text/plain": [
       "array(['Lapsed_13_48', 'Active'], dtype=object)"
      ]
     },
     "execution_count": 16,
     "metadata": {},
     "output_type": "execute_result"
    }
   ],
   "source": [
    "all_rewards_most_recent['Group_after_the_Quarter'].unique()"
   ]
  },
  {
   "cell_type": "code",
   "execution_count": 17,
   "metadata": {},
   "outputs": [
    {
     "data": {
      "text/plain": [
       "(22438352, 9)"
      ]
     },
     "execution_count": 17,
     "metadata": {},
     "output_type": "execute_result"
    }
   ],
   "source": [
    "all_rewards_most_recent.shape"
   ]
  },
  {
   "cell_type": "code",
   "execution_count": 18,
   "metadata": {},
   "outputs": [
    {
     "data": {
      "text/plain": [
       "22438352"
      ]
     },
     "execution_count": 18,
     "metadata": {},
     "output_type": "execute_result"
    }
   ],
   "source": [
    "all_rewards_most_recent['customer_id_hashed'].nunique()"
   ]
  },
  {
   "cell_type": "code",
   "execution_count": 19,
   "metadata": {},
   "outputs": [
    {
     "name": "stdout",
     "output_type": "stream",
     "text": [
      "5\n",
      "13\n"
     ]
    },
    {
     "data": {
      "text/plain": [
       "['/home/jian/BigLots/hist_daily_data_subclasslevel/MediaStormDailySales_week_ending_2018-05-12.txt',\n",
       " '/home/jian/BigLots/hist_daily_data_subclasslevel/MediaStormDailySales_week_ending_2018-05-19.txt',\n",
       " '/home/jian/BigLots/hist_daily_data_subclasslevel/MediaStormDailySales_week_ending_2018-05-26.txt',\n",
       " '/home/jian/BigLots/hist_daily_data_subclasslevel/MediaStormDailySales_week_ending_2018-06-02.txt',\n",
       " '/home/jian/BigLots/hist_daily_data_subclasslevel/MediaStormDailySales_week_ending_2018-06-09.txt',\n",
       " '/home/jian/BigLots/2018_by_weeks/MediaStorm_2018-06-16/MediaStormDailySales.txt',\n",
       " '/home/jian/BigLots/2018_by_weeks/MediaStorm_2018-06-23/MediaStormDailySales.txt',\n",
       " '/home/jian/BigLots/2018_by_weeks/MediaStorm_2018-06-30/MediaStormDailySales.txt',\n",
       " '/home/jian/BigLots/2018_by_weeks/MediaStorm_2018-07-07/MediaStormDailySales.txt',\n",
       " '/home/jian/BigLots/2018_by_weeks/MediaStorm_2018-07-14/MediaStormDailySales20180717-113630-767.txt',\n",
       " '/home/jian/BigLots/2018_by_weeks/MediaStorm_2018-07-21/MediaStormDailySales20180724-113327-741.txt',\n",
       " '/home/jian/BigLots/2018_by_weeks/MediaStorm_2018-07-28/MediaStormDailySales20180731-111804-489.txt',\n",
       " '/home/jian/BigLots/2018_by_weeks/MediaStorm_2018-08-04/MediaStormDailySales20180807-111637-702.txt']"
      ]
     },
     "execution_count": 19,
     "metadata": {},
     "output_type": "execute_result"
    }
   ],
   "source": [
    "weeks_2019Q2=[datetime.date(2019,5,11)+datetime.timedelta(days=x*7) for x in range(13)]\n",
    "weeks_2018Q2=[x-datetime.timedelta(days=52*7) for x in weeks_2019Q2]\n",
    "\n",
    "Q2_files_2018_hist=glob.glob(\"/home/jian/BigLots/hist_daily_data_subclasslevel/*.txt\")\n",
    "Q2_files_2018_hist=[x for x in Q2_files_2018_hist if x.split(\"ales_week_ending_\")[1][:10] in [str(x) for x in weeks_2018Q2]]\n",
    "print(len(Q2_files_2018_hist))\n",
    "\n",
    "folder_2018_by_week=\"/home/jian/BigLots/2018_by_weeks/\"\n",
    "\n",
    "Q2_files_2018_all_types=list(recursive_file_gen(folder_2018_by_week))\n",
    "Q2_files_2018_all_types=[x for x in Q2_files_2018_all_types if \"aily\" in x]\n",
    "Q2_files_2018_all_types=[x for x in Q2_files_2018_all_types if \".txt\" in x]\n",
    "\n",
    "Q2_files_2018=[]\n",
    "for week_end_date in weeks_2018Q2:\n",
    "    file_path=[x for x in Q2_files_2018_all_types if str(week_end_date) in x]\n",
    "    Q2_files_2018=Q2_files_2018+file_path\n",
    "    \n",
    "Q2_files_2018_hist=sorted(Q2_files_2018_hist)\n",
    "Q2_files_2018=sorted(Q2_files_2018)\n",
    "Q2_files_2018=Q2_files_2018_hist+Q2_files_2018\n",
    "print(len(Q2_files_2018))\n",
    "Q2_files_2018"
   ]
  },
  {
   "cell_type": "code",
   "execution_count": 20,
   "metadata": {},
   "outputs": [
    {
     "name": "stdout",
     "output_type": "stream",
     "text": [
      "2018-05-12 2018-05-06\n",
      "/home/jian/BigLots/hist_daily_data_subclasslevel/MediaStormDailySales_week_ending_2018-05-12.txt 2019-08-08 15:02:54.365714\n",
      "2018-05-19 2018-05-13\n",
      "/home/jian/BigLots/hist_daily_data_subclasslevel/MediaStormDailySales_week_ending_2018-05-19.txt 2019-08-08 15:03:28.773870\n",
      "2018-05-26 2018-05-20\n",
      "/home/jian/BigLots/hist_daily_data_subclasslevel/MediaStormDailySales_week_ending_2018-05-26.txt 2019-08-08 15:04:07.667138\n",
      "2018-06-02 2018-05-27\n",
      "/home/jian/BigLots/hist_daily_data_subclasslevel/MediaStormDailySales_week_ending_2018-06-02.txt 2019-08-08 15:04:47.369618\n",
      "2018-06-09 2018-06-03\n",
      "/home/jian/BigLots/hist_daily_data_subclasslevel/MediaStormDailySales_week_ending_2018-06-09.txt 2019-08-08 15:05:25.619811\n",
      "2018-06-16 2018-06-10\n",
      "/home/jian/BigLots/2018_by_weeks/MediaStorm_2018-06-16/MediaStormDailySales.txt 2019-08-08 15:06:05.003978\n",
      "2018-06-23 2018-06-17\n",
      "/home/jian/BigLots/2018_by_weeks/MediaStorm_2018-06-23/MediaStormDailySales.txt 2019-08-08 15:06:46.859369\n",
      "2018-06-30 2018-06-24\n",
      "/home/jian/BigLots/2018_by_weeks/MediaStorm_2018-06-30/MediaStormDailySales.txt 2019-08-08 15:07:29.532878\n",
      "2018-07-07 2018-07-01\n",
      "/home/jian/BigLots/2018_by_weeks/MediaStorm_2018-07-07/MediaStormDailySales.txt 2019-08-08 15:08:28.284579\n",
      "2018-07-14 2018-07-08\n",
      "/home/jian/BigLots/2018_by_weeks/MediaStorm_2018-07-14/MediaStormDailySales20180717-113630-767.txt 2019-08-08 15:09:22.986655\n",
      "2018-07-21 2018-07-15\n",
      "/home/jian/BigLots/2018_by_weeks/MediaStorm_2018-07-21/MediaStormDailySales20180724-113327-741.txt 2019-08-08 15:10:06.635494\n",
      "2018-07-28 2018-07-22\n",
      "/home/jian/BigLots/2018_by_weeks/MediaStorm_2018-07-28/MediaStormDailySales20180731-111804-489.txt 2019-08-08 15:10:48.680439\n",
      "2018-08-04 2018-07-29\n",
      "/home/jian/BigLots/2018_by_weeks/MediaStorm_2018-08-04/MediaStormDailySales20180807-111637-702.txt 2019-08-08 15:11:34.329827\n"
     ]
    },
    {
     "data": {
      "text/plain": [
       "(7680086, 4)"
      ]
     },
     "execution_count": 20,
     "metadata": {},
     "output_type": "execute_result"
    }
   ],
   "source": [
    "RecentQuarter_sales_by_id=pd.DataFrame()\n",
    "\n",
    "for file in Q2_files_2018:\n",
    "    df=pd.read_table(file,sep=\"|\",dtype=str,\n",
    "                     usecols=['location_id','transaction_dt','transaction_id','customer_id_hashed','subclass_transaction_amt'])\n",
    "    df=df[~pd.isnull(df['customer_id_hashed'])]\n",
    "    df['subclass_transaction_amt']=df['subclass_transaction_amt'].astype(float)\n",
    "    print(df['transaction_dt'].max(),df['transaction_dt'].min())\n",
    "    \n",
    "    df_sales=df.groupby(['customer_id_hashed'])['subclass_transaction_amt'].sum().to_frame().reset_index().rename(columns={\"subclass_transaction_amt\":\"sales_recent_Quarter\"})\n",
    "    \n",
    "    df_trans=df[['location_id','transaction_dt','transaction_id','customer_id_hashed']].drop_duplicates()\n",
    "    df_trans=df_trans.groupby([\"customer_id_hashed\"])['transaction_id'].count().to_frame().reset_index().rename(columns={\"transaction_id\":\"trans_recent_Quarter\"})\n",
    "    \n",
    "    df=pd.merge(df_sales,df_trans,on=\"customer_id_hashed\",how=\"outer\")\n",
    "    \n",
    "    RecentQuarter_sales_by_id=RecentQuarter_sales_by_id.append(df)\n",
    "    print(file,datetime.datetime.now())\n",
    "    \n",
    "RecentQuarter_sales_by_id=RecentQuarter_sales_by_id.groupby(\"customer_id_hashed\")['sales_recent_Quarter','trans_recent_Quarter'].sum().reset_index()\n",
    "RecentQuarter_sales_by_id['Recent_Quarter_Shopping_Group']=\"Recent_Quarter_Shopped\"\n",
    "RecentQuarter_sales_by_id.shape"
   ]
  },
  {
   "cell_type": "code",
   "execution_count": 21,
   "metadata": {},
   "outputs": [
    {
     "data": {
      "text/plain": [
       "(22438352, 12)"
      ]
     },
     "execution_count": 21,
     "metadata": {},
     "output_type": "execute_result"
    }
   ],
   "source": [
    "all_rewards_most_recent=pd.merge(all_rewards_most_recent,RecentQuarter_sales_by_id,on=\"customer_id_hashed\",how=\"outer\")\n",
    "all_rewards_most_recent.shape"
   ]
  },
  {
   "cell_type": "code",
   "execution_count": 22,
   "metadata": {},
   "outputs": [
    {
     "name": "stdout",
     "output_type": "stream",
     "text": [
      "2018-05-06\n"
     ]
    }
   ],
   "source": [
    "new_sign_ups_2018Q2=pd.read_table(\"/home/jian/BigLots/New_Sing_Ups_2018_Fiscal_Year/All Rewards Members 2018-02-04 - 2019-05-04.zip\",\n",
    "                                  compression=\"zip\",sep=\"|\",usecols=['customer_id_hashed','sign_up_date'])\n",
    "new_sign_ups_2018Q2=new_sign_ups_2018Q2[new_sign_ups_2018Q2['sign_up_date']<=str(recent_complete_quarter_End)]\n",
    "new_sign_ups_2018Q2=new_sign_ups_2018Q2[new_sign_ups_2018Q2['sign_up_date']>str(prior_quarter_End)]\n",
    "\n",
    "new_sign_ups_2018Q2['NewRewards']=\"Recent_Quarter_New_Sign_Ups\"\n",
    "print(new_sign_ups_2018Q2['sign_up_date'].min())\n",
    "\n",
    "new_sign_ups_2018Q2=new_sign_ups_2018Q2.drop_duplicates(\"customer_id_hashed\")"
   ]
  },
  {
   "cell_type": "code",
   "execution_count": 23,
   "metadata": {},
   "outputs": [
    {
     "data": {
      "text/plain": [
       "'2018-08-04'"
      ]
     },
     "execution_count": 23,
     "metadata": {},
     "output_type": "execute_result"
    }
   ],
   "source": [
    "new_sign_ups_2018Q2['sign_up_date'].max()"
   ]
  },
  {
   "cell_type": "code",
   "execution_count": 24,
   "metadata": {},
   "outputs": [
    {
     "data": {
      "text/plain": [
       "'2018-05-06'"
      ]
     },
     "execution_count": 24,
     "metadata": {},
     "output_type": "execute_result"
    }
   ],
   "source": [
    "new_sign_ups_2018Q2['sign_up_date'].min()"
   ]
  },
  {
   "cell_type": "code",
   "execution_count": 25,
   "metadata": {
    "collapsed": true
   },
   "outputs": [],
   "source": [
    "all_rewards_most_recent=pd.merge(all_rewards_most_recent,new_sign_ups_2018Q2,on=\"customer_id_hashed\",how=\"outer\")\n",
    "all_rewards_most_recent['NewRewards']=all_rewards_most_recent['NewRewards'].fillna(\"Old_Rewards_Members\")\n",
    "\n",
    "all_rewards_most_recent['sales_recent_Quarter']=all_rewards_most_recent['sales_recent_Quarter'].fillna(0)\n",
    "all_rewards_most_recent['trans_recent_Quarter']=all_rewards_most_recent['trans_recent_Quarter'].fillna(0)"
   ]
  },
  {
   "cell_type": "code",
   "execution_count": 26,
   "metadata": {},
   "outputs": [
    {
     "name": "stdout",
     "output_type": "stream",
     "text": [
      "(0, 14)\n"
     ]
    },
    {
     "data": {
      "text/html": [
       "<div>\n",
       "<style>\n",
       "    .dataframe thead tr:only-child th {\n",
       "        text-align: right;\n",
       "    }\n",
       "\n",
       "    .dataframe thead th {\n",
       "        text-align: left;\n",
       "    }\n",
       "\n",
       "    .dataframe tbody tr th {\n",
       "        vertical-align: top;\n",
       "    }\n",
       "</style>\n",
       "<table border=\"1\" class=\"dataframe\">\n",
       "  <thead>\n",
       "    <tr style=\"text-align: right;\">\n",
       "      <th></th>\n",
       "      <th>customer_id_hashed</th>\n",
       "      <th>transaction_date_before_the_Quarter</th>\n",
       "      <th>transaction_date_after_the_Quarter</th>\n",
       "      <th>Days_to_pre_Quarter_End</th>\n",
       "      <th>Days_to_recent_Quarter_End</th>\n",
       "      <th>Month_to_pre_Quarter_End</th>\n",
       "      <th>Month_to_recent_Quarter_End</th>\n",
       "      <th>Group_before_the_Quarter</th>\n",
       "      <th>Group_after_the_Quarter</th>\n",
       "      <th>sales_recent_Quarter</th>\n",
       "      <th>trans_recent_Quarter</th>\n",
       "      <th>Recent_Quarter_Shopping_Group</th>\n",
       "      <th>sign_up_date</th>\n",
       "      <th>NewRewards</th>\n",
       "    </tr>\n",
       "  </thead>\n",
       "  <tbody>\n",
       "  </tbody>\n",
       "</table>\n",
       "</div>"
      ],
      "text/plain": [
       "Empty DataFrame\n",
       "Columns: [customer_id_hashed, transaction_date_before_the_Quarter, transaction_date_after_the_Quarter, Days_to_pre_Quarter_End, Days_to_recent_Quarter_End, Month_to_pre_Quarter_End, Month_to_recent_Quarter_End, Group_before_the_Quarter, Group_after_the_Quarter, sales_recent_Quarter, trans_recent_Quarter, Recent_Quarter_Shopping_Group, sign_up_date, NewRewards]\n",
       "Index: []"
      ]
     },
     "execution_count": 26,
     "metadata": {},
     "output_type": "execute_result"
    }
   ],
   "source": [
    "df_test_QC=all_rewards_most_recent[(all_rewards_most_recent['Group_after_the_Quarter']==\"Lapsed_13_48\") & (all_rewards_most_recent['Recent_Quarter_Shopping_Group']==\"Recent_Quarter_Shopped\")]\n",
    "print(df_test_QC.shape)\n",
    "\n",
    "df_test_QC.head(4)"
   ]
  },
  {
   "cell_type": "code",
   "execution_count": 27,
   "metadata": {},
   "outputs": [
    {
     "data": {
      "text/plain": [
       "(22725201, 14)"
      ]
     },
     "execution_count": 27,
     "metadata": {},
     "output_type": "execute_result"
    }
   ],
   "source": [
    "all_rewards_most_recent['Recent_Quarter_Shopping_Group']=all_rewards_most_recent['Recent_Quarter_Shopping_Group'].fillna(\"Recent_Quarter_No_Shop\")\n",
    "\n",
    "all_rewards_most_recent.shape\n"
   ]
  },
  {
   "cell_type": "code",
   "execution_count": 28,
   "metadata": {},
   "outputs": [
    {
     "data": {
      "text/html": [
       "<div>\n",
       "<style>\n",
       "    .dataframe thead tr:only-child th {\n",
       "        text-align: right;\n",
       "    }\n",
       "\n",
       "    .dataframe thead th {\n",
       "        text-align: left;\n",
       "    }\n",
       "\n",
       "    .dataframe tbody tr th {\n",
       "        vertical-align: top;\n",
       "    }\n",
       "</style>\n",
       "<table border=\"1\" class=\"dataframe\">\n",
       "  <thead>\n",
       "    <tr style=\"text-align: right;\">\n",
       "      <th></th>\n",
       "      <th>Group_before_the_Quarter</th>\n",
       "      <th>Group_after_the_Quarter</th>\n",
       "      <th>NewRewards</th>\n",
       "      <th>Recent_Quarter_Shopping_Group</th>\n",
       "      <th>id_count</th>\n",
       "      <th>sales_recent_Quarter</th>\n",
       "      <th>trans_recent_Quarter</th>\n",
       "    </tr>\n",
       "  </thead>\n",
       "  <tbody>\n",
       "    <tr>\n",
       "      <th>0</th>\n",
       "      <td>Active</td>\n",
       "      <td>Active</td>\n",
       "      <td>Old_Rewards_Members</td>\n",
       "      <td>Recent_Quarter_No_Shop</td>\n",
       "      <td>8149614</td>\n",
       "      <td>0.000000e+00</td>\n",
       "      <td>0.0</td>\n",
       "    </tr>\n",
       "    <tr>\n",
       "      <th>1</th>\n",
       "      <td>Active</td>\n",
       "      <td>Active</td>\n",
       "      <td>Old_Rewards_Members</td>\n",
       "      <td>Recent_Quarter_Shopped</td>\n",
       "      <td>5705414</td>\n",
       "      <td>4.886251e+08</td>\n",
       "      <td>13963573.0</td>\n",
       "    </tr>\n",
       "    <tr>\n",
       "      <th>2</th>\n",
       "      <td>Active</td>\n",
       "      <td>Active</td>\n",
       "      <td>Recent_Quarter_New_Sign_Ups</td>\n",
       "      <td>Recent_Quarter_No_Shop</td>\n",
       "      <td>39</td>\n",
       "      <td>0.000000e+00</td>\n",
       "      <td>0.0</td>\n",
       "    </tr>\n",
       "    <tr>\n",
       "      <th>3</th>\n",
       "      <td>Active</td>\n",
       "      <td>Active</td>\n",
       "      <td>Recent_Quarter_New_Sign_Ups</td>\n",
       "      <td>Recent_Quarter_Shopped</td>\n",
       "      <td>181</td>\n",
       "      <td>3.504347e+04</td>\n",
       "      <td>550.0</td>\n",
       "    </tr>\n",
       "    <tr>\n",
       "      <th>4</th>\n",
       "      <td>Active</td>\n",
       "      <td>Lapsed_13_48</td>\n",
       "      <td>Old_Rewards_Members</td>\n",
       "      <td>Recent_Quarter_No_Shop</td>\n",
       "      <td>1423693</td>\n",
       "      <td>0.000000e+00</td>\n",
       "      <td>0.0</td>\n",
       "    </tr>\n",
       "    <tr>\n",
       "      <th>5</th>\n",
       "      <td>Lapsed_13_48</td>\n",
       "      <td>Active</td>\n",
       "      <td>Old_Rewards_Members</td>\n",
       "      <td>Recent_Quarter_No_Shop</td>\n",
       "      <td>294</td>\n",
       "      <td>0.000000e+00</td>\n",
       "      <td>0.0</td>\n",
       "    </tr>\n",
       "    <tr>\n",
       "      <th>6</th>\n",
       "      <td>Lapsed_13_48</td>\n",
       "      <td>Active</td>\n",
       "      <td>Old_Rewards_Members</td>\n",
       "      <td>Recent_Quarter_Shopped</td>\n",
       "      <td>467614</td>\n",
       "      <td>3.403724e+07</td>\n",
       "      <td>709042.0</td>\n",
       "    </tr>\n",
       "    <tr>\n",
       "      <th>7</th>\n",
       "      <td>Lapsed_13_48</td>\n",
       "      <td>Lapsed_13_48</td>\n",
       "      <td>Old_Rewards_Members</td>\n",
       "      <td>Recent_Quarter_No_Shop</td>\n",
       "      <td>5182957</td>\n",
       "      <td>0.000000e+00</td>\n",
       "      <td>0.0</td>\n",
       "    </tr>\n",
       "    <tr>\n",
       "      <th>8</th>\n",
       "      <td>NotAvailable_Before_Quarter</td>\n",
       "      <td>Active</td>\n",
       "      <td>Old_Rewards_Members</td>\n",
       "      <td>Recent_Quarter_No_Shop</td>\n",
       "      <td>485</td>\n",
       "      <td>0.000000e+00</td>\n",
       "      <td>0.0</td>\n",
       "    </tr>\n",
       "    <tr>\n",
       "      <th>9</th>\n",
       "      <td>NotAvailable_Before_Quarter</td>\n",
       "      <td>Active</td>\n",
       "      <td>Old_Rewards_Members</td>\n",
       "      <td>Recent_Quarter_Shopped</td>\n",
       "      <td>490791</td>\n",
       "      <td>4.039950e+07</td>\n",
       "      <td>733908.0</td>\n",
       "    </tr>\n",
       "    <tr>\n",
       "      <th>10</th>\n",
       "      <td>NotAvailable_Before_Quarter</td>\n",
       "      <td>Active</td>\n",
       "      <td>Recent_Quarter_New_Sign_Ups</td>\n",
       "      <td>Recent_Quarter_No_Shop</td>\n",
       "      <td>1184</td>\n",
       "      <td>0.000000e+00</td>\n",
       "      <td>0.0</td>\n",
       "    </tr>\n",
       "    <tr>\n",
       "      <th>11</th>\n",
       "      <td>NotAvailable_Before_Quarter</td>\n",
       "      <td>Active</td>\n",
       "      <td>Recent_Quarter_New_Sign_Ups</td>\n",
       "      <td>Recent_Quarter_Shopped</td>\n",
       "      <td>1016086</td>\n",
       "      <td>1.131376e+08</td>\n",
       "      <td>1806097.0</td>\n",
       "    </tr>\n",
       "  </tbody>\n",
       "</table>\n",
       "</div>"
      ],
      "text/plain": [
       "       Group_before_the_Quarter Group_after_the_Quarter  \\\n",
       "0                        Active                  Active   \n",
       "1                        Active                  Active   \n",
       "2                        Active                  Active   \n",
       "3                        Active                  Active   \n",
       "4                        Active            Lapsed_13_48   \n",
       "5                  Lapsed_13_48                  Active   \n",
       "6                  Lapsed_13_48                  Active   \n",
       "7                  Lapsed_13_48            Lapsed_13_48   \n",
       "8   NotAvailable_Before_Quarter                  Active   \n",
       "9   NotAvailable_Before_Quarter                  Active   \n",
       "10  NotAvailable_Before_Quarter                  Active   \n",
       "11  NotAvailable_Before_Quarter                  Active   \n",
       "\n",
       "                     NewRewards Recent_Quarter_Shopping_Group  id_count  \\\n",
       "0           Old_Rewards_Members        Recent_Quarter_No_Shop   8149614   \n",
       "1           Old_Rewards_Members        Recent_Quarter_Shopped   5705414   \n",
       "2   Recent_Quarter_New_Sign_Ups        Recent_Quarter_No_Shop        39   \n",
       "3   Recent_Quarter_New_Sign_Ups        Recent_Quarter_Shopped       181   \n",
       "4           Old_Rewards_Members        Recent_Quarter_No_Shop   1423693   \n",
       "5           Old_Rewards_Members        Recent_Quarter_No_Shop       294   \n",
       "6           Old_Rewards_Members        Recent_Quarter_Shopped    467614   \n",
       "7           Old_Rewards_Members        Recent_Quarter_No_Shop   5182957   \n",
       "8           Old_Rewards_Members        Recent_Quarter_No_Shop       485   \n",
       "9           Old_Rewards_Members        Recent_Quarter_Shopped    490791   \n",
       "10  Recent_Quarter_New_Sign_Ups        Recent_Quarter_No_Shop      1184   \n",
       "11  Recent_Quarter_New_Sign_Ups        Recent_Quarter_Shopped   1016086   \n",
       "\n",
       "    sales_recent_Quarter  trans_recent_Quarter  \n",
       "0           0.000000e+00                   0.0  \n",
       "1           4.886251e+08            13963573.0  \n",
       "2           0.000000e+00                   0.0  \n",
       "3           3.504347e+04                 550.0  \n",
       "4           0.000000e+00                   0.0  \n",
       "5           0.000000e+00                   0.0  \n",
       "6           3.403724e+07              709042.0  \n",
       "7           0.000000e+00                   0.0  \n",
       "8           0.000000e+00                   0.0  \n",
       "9           4.039950e+07              733908.0  \n",
       "10          0.000000e+00                   0.0  \n",
       "11          1.131376e+08             1806097.0  "
      ]
     },
     "execution_count": 28,
     "metadata": {},
     "output_type": "execute_result"
    }
   ],
   "source": [
    "output_id_count=all_rewards_most_recent.groupby(['Group_before_the_Quarter','Group_after_the_Quarter','NewRewards','Recent_Quarter_Shopping_Group'])['customer_id_hashed'].count().to_frame().reset_index().rename(columns={\"customer_id_hashed\":\"id_count\"})\n",
    "output_id_Q2_sales=all_rewards_most_recent.groupby(['Group_before_the_Quarter','Group_after_the_Quarter','NewRewards','Recent_Quarter_Shopping_Group'])['sales_recent_Quarter','trans_recent_Quarter'].sum().reset_index()\n",
    "\n",
    "output=pd.merge(output_id_count,output_id_Q2_sales,on=['Group_before_the_Quarter','Group_after_the_Quarter','NewRewards','Recent_Quarter_Shopping_Group'],how=\"outer\")\n",
    "output\n"
   ]
  },
  {
   "cell_type": "code",
   "execution_count": 29,
   "metadata": {
    "collapsed": true
   },
   "outputs": [],
   "source": [
    "output['Recent_Quarteer_Sale_per_ID']=output['sales_recent_Quarter']/output['id_count']\n",
    "output['Recent_Quarteer_Sale_per_ID']=output['Recent_Quarteer_Sale_per_ID'].apply(lambda x: np.round(x,2))\n",
    "\n",
    "output['inclusion/exclusion']=np.where((output['Group_before_the_Quarter']!=\"NotAvailable_Before_Quarter\") & (output['NewRewards']==\"Recent_Quarter_New_Sign_Ups\"),\"Exclusion\",\"Inclusion\")\n"
   ]
  },
  {
   "cell_type": "code",
   "execution_count": 30,
   "metadata": {
    "collapsed": true
   },
   "outputs": [],
   "source": [
    "output.to_csv(\"/home/jian/Projects/Big_Lots/Analysis/2019_Q2/ID_Migration/BL_2018Q2_rewards_migration_output_summary_JL_\"+str(datetime.datetime.now().date())+\".csv\",index=False)\n",
    "\n"
   ]
  },
  {
   "cell_type": "code",
   "execution_count": 31,
   "metadata": {},
   "outputs": [],
   "source": [
    "all_rewards_most_recent.to_csv(\"/home/jian/Projects/Big_Lots/Analysis/2019_Q2/ID_Migration/BL_2018Q2_rewards_migration_rewards_data_JL_\"+str(datetime.datetime.now().date())+\".csv\",index=False)\n"
   ]
  },
  {
   "cell_type": "code",
   "execution_count": null,
   "metadata": {},
   "outputs": [],
   "source": [
    "all_rewards_most_recent.shape"
   ]
  },
  {
   "cell_type": "code",
   "execution_count": null,
   "metadata": {},
   "outputs": [],
   "source": [
    "all_rewards_most_recent['customer_id_hashed'].nunique()"
   ]
  },
  {
   "cell_type": "code",
   "execution_count": null,
   "metadata": {
    "collapsed": true
   },
   "outputs": [],
   "source": []
  },
  {
   "cell_type": "code",
   "execution_count": 29,
   "metadata": {},
   "outputs": [
    {
     "data": {
      "text/plain": [
       "(7635879, 14)"
      ]
     },
     "execution_count": 29,
     "metadata": {},
     "output_type": "execute_result"
    }
   ],
   "source": [
    "all_rewards_most_recent[all_rewards_most_recent['sales_recent_Quarter']>0].shape"
   ]
  },
  {
   "cell_type": "code",
   "execution_count": null,
   "metadata": {
    "collapsed": true
   },
   "outputs": [],
   "source": []
  }
 ],
 "metadata": {
  "kernelspec": {
   "display_name": "Python 3",
   "language": "python",
   "name": "python3"
  },
  "language_info": {
   "codemirror_mode": {
    "name": "ipython",
    "version": 3
   },
   "file_extension": ".py",
   "mimetype": "text/x-python",
   "name": "python",
   "nbconvert_exporter": "python",
   "pygments_lexer": "ipython3",
   "version": "3.6.1"
  }
 },
 "nbformat": 4,
 "nbformat_minor": 2
}
