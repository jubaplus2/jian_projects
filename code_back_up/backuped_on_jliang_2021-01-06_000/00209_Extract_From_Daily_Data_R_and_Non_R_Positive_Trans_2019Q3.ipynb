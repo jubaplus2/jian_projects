{
 "cells": [
  {
   "cell_type": "code",
   "execution_count": 1,
   "metadata": {},
   "outputs": [
    {
     "data": {
      "text/plain": [
       "'/home/jian/Projects/Big_Lots/Analysis/2019_Q3/Post_YoY'"
      ]
     },
     "execution_count": 1,
     "metadata": {},
     "output_type": "execute_result"
    }
   ],
   "source": [
    "# 2019 Q3\n",
    "import pandas as pd\n",
    "import numpy as np\n",
    "import datetime\n",
    "import os\n",
    "import glob\n",
    "import gc\n",
    "os.getcwd()"
   ]
  },
  {
   "cell_type": "code",
   "execution_count": 2,
   "metadata": {},
   "outputs": [
    {
     "name": "stdout",
     "output_type": "stream",
     "text": [
      "/home/jian/BigLots/static_files/Store_list/MediaStormStores20191101-134011-956.txt\n"
     ]
    },
    {
     "data": {
      "text/plain": [
       "['/home/jian/BigLots/static_files/Store_list/MediaStormStores20191001-134050-499.txt',\n",
       " '/home/jian/BigLots/static_files/Store_list/MediaStormStores20190901-135942-508.txt',\n",
       " '/home/jian/BigLots/static_files/Store_list/MediaStormStores20190801-135940-752.txt',\n",
       " '/home/jian/BigLots/static_files/Store_list/MediaStormStores20190701-134908-815.txt',\n",
       " '/home/jian/BigLots/static_files/Store_list/MediaStormStores20190601-134302-813.txt',\n",
       " '/home/jian/BigLots/static_files/Store_list/MediaStormStores20190501-135143-036.txt',\n",
       " '/home/jian/BigLots/static_files/Store_list/MediaStormStores20190401-134939-117.txt',\n",
       " '/home/jian/BigLots/static_files/Store_list/MediaStormStores20190301-134800-131.txt',\n",
       " '/home/jian/BigLots/static_files/Store_list/MediaStormStores20190201-133832-957.txt',\n",
       " '/home/jian/BigLots/static_files/Store_list/MediaStormStores20190101-135843-638.txt',\n",
       " '/home/jian/BigLots/static_files/Store_list/MediaStormStores20181201-135231-415.txt',\n",
       " '/home/jian/BigLots/static_files/Store_list/MediaStormStores20181101-134628-331.txt',\n",
       " '/home/jian/BigLots/static_files/Store_list/MediaStormStores20181001-135417-132.txt',\n",
       " '/home/jian/BigLots/static_files/Store_list/MediaStormStores20180901-133640-935.txt',\n",
       " '/home/jian/BigLots/static_files/Store_list/MediaStormStores20180801-133641-576.txt',\n",
       " '/home/jian/BigLots/static_files/Store_list/MediaStormStores20180703.txt',\n",
       " '/home/jian/BigLots/static_files/Store_list/MediaStormStores20171115.txt',\n",
       " '/home/jian/BigLots/static_files/Store_list/MediaStormStores20170913.txt']"
      ]
     },
     "execution_count": 2,
     "metadata": {},
     "output_type": "execute_result"
    }
   ],
   "source": [
    "store_list_files=glob.glob(\"/home/jian/BigLots/static_files/Store_list/MediaStormStores20*.txt\")\n",
    "store_list_files=sorted(store_list_files,reverse=True)\n",
    "latest_store_list=store_list_files[0]\n",
    "store_list_files.remove(latest_store_list)\n",
    "\n",
    "print(latest_store_list)\n",
    "store_list_files"
   ]
  },
  {
   "cell_type": "code",
   "execution_count": 3,
   "metadata": {},
   "outputs": [
    {
     "name": "stderr",
     "output_type": "stream",
     "text": [
      "/home/jian/.local/lib/python3.6/site-packages/pandas/core/frame.py:7138: FutureWarning: Sorting because non-concatenation axis is not aligned. A future version\n",
      "of pandas will change to not sort by default.\n",
      "\n",
      "To accept the future behavior, pass 'sort=False'.\n",
      "\n",
      "To retain the current behavior and silence the warning, pass 'sort=True'.\n",
      "\n",
      "  sort=sort,\n"
     ]
    }
   ],
   "source": [
    "store_info=pd.read_table(latest_store_list,sep=\"|\",dtype=str)\n",
    "store_info=store_info[['location_id','city_nm','state_nm','zip_cd','open_dt']]\n",
    "\n",
    "for file in store_list_files:\n",
    "    df=pd.read_table(file,sep=\"|\",dtype=str,usecols=['location_id','city_nm','state_nm','zip_cd','open_dt'])\n",
    "    df=df[~df['location_id'].isin(store_info['location_id'].tolist())]\n",
    "    store_info=store_info.append(df)\n",
    "    \n",
    "\n",
    "store_info['zip_cd']=store_info['zip_cd'].apply(lambda x: x.split(\"-\")[0].zfill(5))\n",
    "\n",
    "\n",
    "DMA_Zip=pd.read_excel(\"/home/jian/Docs/Geo_mapping/Zips by DMA by County16-17 nielsen.xlsx\",skiprows=1,dtype=str)\n",
    "DMA_Zip=DMA_Zip.iloc[:,[0,2]]\n",
    "DMA_Zip.columns=['zip_cd','DMA']\n",
    "DMA_Zip=DMA_Zip.drop_duplicates(['zip_cd'])\n",
    "\n",
    "\n",
    "store_info=pd.merge(store_info,DMA_Zip,on=\"zip_cd\",how=\"left\")"
   ]
  },
  {
   "cell_type": "code",
   "execution_count": 4,
   "metadata": {
    "collapsed": true
   },
   "outputs": [],
   "source": [
    "weeks_2019Q3=[datetime.date(2019,8,10)+datetime.timedelta(days=x*7) for x in range(13)]\n",
    "weeks_2018Q3=[x-datetime.timedelta(days=52*7) for x in weeks_2019Q3]\n",
    "weeks_2018Q3=[str(x).replace(\"-\",\"\") for x in weeks_2018Q3]"
   ]
  },
  {
   "cell_type": "code",
   "execution_count": 5,
   "metadata": {
    "collapsed": true
   },
   "outputs": [],
   "source": [
    "def recursive_file_gen(my_root_dir):\n",
    "    for root, dirs, files in os.walk(my_root_dir):\n",
    "        for file in files:\n",
    "            yield os.path.join(root, file)"
   ]
  },
  {
   "cell_type": "code",
   "execution_count": 6,
   "metadata": {},
   "outputs": [
    {
     "name": "stdout",
     "output_type": "stream",
     "text": [
      "13\n"
     ]
    }
   ],
   "source": [
    "Q3_files_2018=glob.glob(\"/home/jian/BigLots/hist_daily_data_itemlevel_decompressed/*.txt\")\n",
    "Q3_files_2018=[x for x in Q3_files_2018 if x.split(\"diaStormDailySalesHistory\")[1][:8] in [str(x) for x in weeks_2018Q3]]\n",
    "print(len(Q3_files_2018))\n",
    "\n",
    "Q3_files_2018.sort()"
   ]
  },
  {
   "cell_type": "code",
   "execution_count": 7,
   "metadata": {
    "collapsed": true
   },
   "outputs": [
    {
     "name": "stdout",
     "output_type": "stream",
     "text": [
      "13\n"
     ]
    },
    {
     "data": {
      "text/plain": [
       "['/home/jian/BigLots/2019_by_weeks/MediaStorm_2019-08-10/MediaStormDailySales20190813-120541-143.txt',\n",
       " '/home/jian/BigLots/2019_by_weeks/MediaStorm_2019-08-17/MediaStormDailySales20190820-113628-440.txt',\n",
       " '/home/jian/BigLots/2019_by_weeks/MediaStorm_2019-08-24/MediaStormDailySales20190827-113630-114.txt',\n",
       " '/home/jian/BigLots/2019_by_weeks/MediaStorm_2019-08-31/MediaStormDailySales20190903-113649-462.txt',\n",
       " '/home/jian/BigLots/2019_by_weeks/MediaStorm_2019-09-07/MediaStormDailySales20190910-120643-163.txt',\n",
       " '/home/jian/BigLots/2019_by_weeks/MediaStorm_2019-09-14/MediaStormDailySales20190917-110425-322.txt',\n",
       " '/home/jian/BigLots/2019_by_weeks/MediaStorm_2019-09-21/MediaStormDailySales20190924-112126-506.txt',\n",
       " '/home/jian/BigLots/2019_by_weeks/MediaStorm_2019-09-28/MediaStormDailySales20191001-111241-312.txt',\n",
       " '/home/jian/BigLots/2019_by_weeks/MediaStorm_2019-10-05/MediaStormDailySales20191008-120723-038.txt',\n",
       " '/home/jian/BigLots/2019_by_weeks/MediaStorm_2019-10-12/MediaStormDailySales20191015-111135-657.txt',\n",
       " '/home/jian/BigLots/2019_by_weeks/MediaStorm_2019-10-19/MediaStormDailySales20191022-111240-145.txt',\n",
       " '/home/jian/BigLots/2019_by_weeks/MediaStorm_2019-10-26/MediaStormDailySales20191029-111155-920.txt',\n",
       " '/home/jian/BigLots/2019_by_weeks/MediaStorm_2019-11-02/MediaStormDailySales20191105-111212-139.txt']"
      ]
     },
     "execution_count": 7,
     "metadata": {},
     "output_type": "execute_result"
    }
   ],
   "source": [
    "folder_2019_by_week=\"/home/jian/BigLots/2019_by_weeks/\"\n",
    "\n",
    "Q3_files_2019_all_types=list(recursive_file_gen(folder_2019_by_week))\n",
    "Q3_files_2019_all_types=[x for x in Q3_files_2019_all_types if \"aily\" in x]\n",
    "Q3_files_2019=[]\n",
    "for week_end_date in weeks_2019Q3:\n",
    "    file_path=[x for x in Q3_files_2019_all_types if str(week_end_date) in x]\n",
    "    Q3_files_2019=Q3_files_2019+file_path\n",
    "    \n",
    "print(len(Q3_files_2019))\n",
    "Q3_files_2019=sorted(Q3_files_2019)\n",
    "Q3_files_2019"
   ]
  },
  {
   "cell_type": "code",
   "execution_count": 8,
   "metadata": {
    "collapsed": true
   },
   "outputs": [],
   "source": [
    "def week_end_dt(x):\n",
    "    if x.weekday()==6:\n",
    "        y=x+datetime.timedelta(days=6)\n",
    "    else:\n",
    "        y=x+datetime.timedelta(days=(5-x.weekday()))\n",
    "    return y\n"
   ]
  },
  {
   "cell_type": "code",
   "execution_count": 9,
   "metadata": {
    "collapsed": true
   },
   "outputs": [],
   "source": [
    "def load_and_agg_df(file_list):\n",
    "    \n",
    "    i_counter=0\n",
    "\n",
    "    sales_agg_df=pd.DataFrame()\n",
    "    ids_by_week_store=pd.DataFrame()\n",
    "\n",
    "    for file_path in file_list:\n",
    "        df=pd.read_table(file_path,dtype=str,sep=\"|\",usecols=None,nrows=None)\n",
    "        df=df[df['location_id']!=\"6990\"]\n",
    "        # print(df.shape)\n",
    "        df=df.drop_duplicates()\n",
    "        # print(df.shape)\n",
    "        \n",
    "        # No need below\n",
    "        if \"subclass_transaction_amt\" in df.columns.tolist():\n",
    "        \n",
    "            df['transaction_dt']=df['transaction_dt'].apply(lambda x: datetime.datetime.strptime(x, \"%Y-%m-%d\").date())\n",
    "            df['subclass_transaction_amt']=df['subclass_transaction_amt'].astype(float)\n",
    "\n",
    "            df['rewards_label']=np.where(pd.isnull(df['customer_id_hashed']),\"Non_Rewards\",\"Rewards\")\n",
    "\n",
    "            date_max=df['transaction_dt'].max()\n",
    "            date_min=df['transaction_dt'].min()\n",
    "\n",
    "            # print(i_counter,date_max,date_min,datetime.datetime.now())\n",
    "\n",
    "            if ((date_max-date_min).days==6) & (date_max.weekday()==5):\n",
    "                df['week_end_dt']=date_max\n",
    "                df_agg_sales=df.groupby(['location_id','week_end_dt','rewards_label'])['subclass_transaction_amt'].sum().to_frame().reset_index()\n",
    "                df_agg_sales=df_agg_sales.rename(columns={\"subclass_transaction_amt\":\"sales\"})\n",
    "\n",
    "                df=df[df['subclass_transaction_amt']>0]\n",
    "                df_agg_trans=df[['location_id','transaction_dt','week_end_dt','transaction_id','customer_id_hashed','rewards_label']].drop_duplicates()\n",
    "                df_agg_trans['transactions']=1\n",
    "                df_agg_trans=df_agg_trans.groupby(['location_id','week_end_dt','rewards_label'])['transactions'].sum().to_frame().reset_index()\n",
    "\n",
    "                df_agg_sales=pd.merge(df_agg_sales,df_agg_trans,on=['location_id','week_end_dt','rewards_label'],how=\"outer\")\n",
    "\n",
    "                df=df[df['rewards_label']==\"Rewards\"]\n",
    "                df=df[['location_id','week_end_dt','customer_id_hashed']].drop_duplicates()\n",
    "\n",
    "            else:\n",
    "                print(\"Date in the data not 7 days\",file_path)\n",
    "                df=pd.DataFrame()\n",
    "                df_agg_sales=pd.DataFrame()\n",
    "\n",
    "            sales_agg_df=sales_agg_df.append(df_agg_sales)\n",
    "            ids_by_week_store=ids_by_week_store.append(df)\n",
    "            i_counter+=1\n",
    "            \n",
    "        elif \"item_transaction_amt\" in df.columns.tolist():\n",
    "        \n",
    "            df['transaction_dt']=df['transaction_dt'].apply(lambda x: datetime.datetime.strptime(x, \"%Y-%m-%d\").date())\n",
    "            df['item_transaction_amt']=df['item_transaction_amt'].astype(float)\n",
    "\n",
    "            df['rewards_label']=np.where(pd.isnull(df['customer_id_hashed']),\"Non_Rewards\",\"Rewards\")\n",
    "\n",
    "            date_max=df['transaction_dt'].max()\n",
    "            date_min=df['transaction_dt'].min()\n",
    "\n",
    "            # print(i_counter,date_max,date_min,datetime.datetime.now())\n",
    "\n",
    "            if ((date_max-date_min).days==6) & (date_max.weekday()==5):\n",
    "                df['week_end_dt']=date_max\n",
    "                df_agg_sales=df.groupby(['location_id','week_end_dt','rewards_label'])['item_transaction_amt'].sum().to_frame().reset_index()\n",
    "                df_agg_sales=df_agg_sales.rename(columns={\"item_transaction_amt\":\"sales\"})\n",
    "\n",
    "                df=df[df['item_transaction_amt']>0]\n",
    "                df_agg_trans=df[['location_id','transaction_dt','week_end_dt','transaction_id','customer_id_hashed','rewards_label']].drop_duplicates()\n",
    "                df_agg_trans['transactions']=1\n",
    "                df_agg_trans=df_agg_trans.groupby(['location_id','week_end_dt','rewards_label'])['transactions'].sum().to_frame().reset_index()\n",
    "\n",
    "                df_agg_sales=pd.merge(df_agg_sales,df_agg_trans,on=['location_id','week_end_dt','rewards_label'],how=\"outer\")\n",
    "\n",
    "                df=df[df['rewards_label']==\"Rewards\"]\n",
    "                df=df[['location_id','week_end_dt','customer_id_hashed']].drop_duplicates()\n",
    "\n",
    "            else:\n",
    "                print(\"Date in the data not 7 days\",file_path)\n",
    "                df=pd.DataFrame()\n",
    "                df_agg_sales=pd.DataFrame()\n",
    "\n",
    "            sales_agg_df=sales_agg_df.append(df_agg_sales)\n",
    "            ids_by_week_store=ids_by_week_store.append(df)\n",
    "            i_counter+=1\n",
    "        else:\n",
    "            print(\"Check\",file_path)\n",
    "\n",
    "    return sales_agg_df,ids_by_week_store"
   ]
  },
  {
   "cell_type": "code",
   "execution_count": 10,
   "metadata": {},
   "outputs": [],
   "source": [
    "sales_agg_2018, ids_by_week_store_2018 = load_and_agg_df(Q3_files_2018)\n",
    "\n",
    "sales_agg_2019, ids_by_week_store_2019 = load_and_agg_df(Q3_files_2019)\n"
   ]
  },
  {
   "cell_type": "code",
   "execution_count": 11,
   "metadata": {
    "collapsed": true
   },
   "outputs": [],
   "source": [
    "unique_id_2018_by_store=ids_by_week_store_2018.groupby('location_id')['customer_id_hashed'].nunique().to_frame().reset_index().rename(columns={\"customer_id_hashed\":\"Q3_unique_id\"})\n",
    "unique_id_2019_by_store=ids_by_week_store_2019.groupby('location_id')['customer_id_hashed'].nunique().to_frame().reset_index().rename(columns={\"customer_id_hashed\":\"Q3_unique_id\"})\n",
    "unique_id_2018_by_store['rewards_label']=\"Rewards\"\n",
    "unique_id_2019_by_store['rewards_label']=\"Rewards\"\n",
    "\n",
    "\n",
    "unique_id_2018_by_store_week=ids_by_week_store_2018.groupby(['location_id','week_end_dt'])['customer_id_hashed'].nunique().to_frame().reset_index().rename(columns={\"customer_id_hashed\":\"Q3_unique_id\"})\n",
    "unique_id_2019_by_store_week=ids_by_week_store_2019.groupby(['location_id','week_end_dt'])['customer_id_hashed'].nunique().to_frame().reset_index().rename(columns={\"customer_id_hashed\":\"Q3_unique_id\"})\n",
    "# unique_id_2018_by_store_week['week_end_dt']=unique_id_2018_by_store_week['week_end_dt'].apply(lambda x: x.date())\n",
    "# unique_id_2019_by_store_week['week_end_dt']=unique_id_2019_by_store_week['week_end_dt'].apply(lambda x: x.date())\n",
    "unique_id_2018_by_store_week['rewards_label']=\"Rewards\"\n",
    "unique_id_2019_by_store_week['rewards_label']=\"Rewards\"\n"
   ]
  },
  {
   "cell_type": "code",
   "execution_count": 12,
   "metadata": {
    "collapsed": true
   },
   "outputs": [],
   "source": [
    "sales_agg_2018_with_id_by_week=pd.merge(sales_agg_2018,unique_id_2018_by_store_week,on=['location_id','week_end_dt','rewards_label'],how=\"outer\")\n",
    "sales_agg_2019_with_id_by_week=pd.merge(sales_agg_2019,unique_id_2019_by_store_week,on=['location_id','week_end_dt','rewards_label'],how=\"outer\")\n"
   ]
  },
  {
   "cell_type": "code",
   "execution_count": 13,
   "metadata": {
    "collapsed": true
   },
   "outputs": [],
   "source": [
    "sales_agg_2018_with_id_by_week['location_id']=sales_agg_2018_with_id_by_week['location_id'].astype(int)\n",
    "sales_agg_2019_with_id_by_week['location_id']=sales_agg_2019_with_id_by_week['location_id'].astype(int)\n",
    "unique_id_2018_by_store['location_id']=unique_id_2018_by_store['location_id'].astype(int)\n",
    "unique_id_2019_by_store['location_id']=unique_id_2019_by_store['location_id'].astype(int)"
   ]
  },
  {
   "cell_type": "code",
   "execution_count": 14,
   "metadata": {
    "collapsed": true
   },
   "outputs": [],
   "source": [
    "writer=pd.ExcelWriter(\"/home/jian/Projects/Big_Lots/Analysis/2019_Q3/Post_YoY/BL_2019_Q3_post_data_positive_sales_trans_JL_\"+str(datetime.datetime.now().date())+\".xlsx\",engine=\"xlsxwriter\")\n",
    "sales_agg_2018_with_id_by_week.to_excel(writer,\"sales_by_week_2018\",index=False)\n",
    "sales_agg_2019_with_id_by_week.to_excel(writer,\"sales_by_week_2019\",index=False)\n",
    "unique_id_2018_by_store.to_excel(writer,\"ids_by_store_quarter_2018\",index=False)\n",
    "unique_id_2019_by_store.to_excel(writer,\"ids_by_store_quarter_2019\",index=False)\n",
    "writer.save()"
   ]
  },
  {
   "cell_type": "code",
   "execution_count": 15,
   "metadata": {
    "collapsed": true
   },
   "outputs": [],
   "source": [
    "ids_by_week_store_2018.to_csv(\"/home/jian/Projects/Big_Lots/Analysis/2019_Q3/Post_YoY/BL_2019_Q3_ids_2018Q3_by_store_JL_\"+str(datetime.datetime.now().date())+\".csv\",index=False)\n",
    "ids_by_week_store_2019.to_csv(\"/home/jian/Projects/Big_Lots/Analysis/2019_Q3/Post_YoY/BL_2019_Q3_ids_2019Q3_by_store_JL_\"+str(datetime.datetime.now().date())+\".csv\",index=False)\n"
   ]
  },
  {
   "cell_type": "code",
   "execution_count": 16,
   "metadata": {},
   "outputs": [
    {
     "data": {
      "text/plain": [
       "(14713808, 3)"
      ]
     },
     "execution_count": 16,
     "metadata": {},
     "output_type": "execute_result"
    }
   ],
   "source": [
    "ids_by_week_store_2018.shape"
   ]
  },
  {
   "cell_type": "code",
   "execution_count": null,
   "metadata": {
    "collapsed": true
   },
   "outputs": [],
   "source": []
  }
 ],
 "metadata": {
  "kernelspec": {
   "display_name": "Python 3",
   "language": "python",
   "name": "python3"
  },
  "language_info": {
   "codemirror_mode": {
    "name": "ipython",
    "version": 3
   },
   "file_extension": ".py",
   "mimetype": "text/x-python",
   "name": "python",
   "nbconvert_exporter": "python",
   "pygments_lexer": "ipython3",
   "version": "3.6.1"
  }
 },
 "nbformat": 4,
 "nbformat_minor": 2
}
