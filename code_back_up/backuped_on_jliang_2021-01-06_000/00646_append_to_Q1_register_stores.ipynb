{
 "cells": [
  {
   "cell_type": "code",
   "execution_count": 1,
   "metadata": {},
   "outputs": [
    {
     "data": {
      "text/plain": [
       "'/home/jian/Projects/Big_Lots/Loyal_members/loyalty_register_data'"
      ]
     },
     "execution_count": 1,
     "metadata": {},
     "output_type": "execute_result"
    }
   ],
   "source": [
    "import pandas as pd\n",
    "import os\n",
    "os.getcwd()"
   ]
  },
  {
   "cell_type": "code",
   "execution_count": 4,
   "metadata": {},
   "outputs": [
    {
     "data": {
      "text/plain": [
       "(25013950, 3)"
      ]
     },
     "execution_count": 4,
     "metadata": {},
     "output_type": "execute_result"
    }
   ],
   "source": [
    "aggregated_reigster_store=pd.read_table(\"/home/jian/Projects/Big_Lots/Loyal_members/loyalty_register_data/output_sing_up_location/BL_id_by_register_store_JL_2019-04-09.csv\",\n",
    "                                       dtype=str,sep=\",\")\n",
    "aggregated_reigster_store.shape"
   ]
  },
  {
   "cell_type": "code",
   "execution_count": 5,
   "metadata": {},
   "outputs": [
    {
     "data": {
      "text/html": [
       "<div>\n",
       "<style>\n",
       "    .dataframe thead tr:only-child th {\n",
       "        text-align: right;\n",
       "    }\n",
       "\n",
       "    .dataframe thead th {\n",
       "        text-align: left;\n",
       "    }\n",
       "\n",
       "    .dataframe tbody tr th {\n",
       "        vertical-align: top;\n",
       "    }\n",
       "</style>\n",
       "<table border=\"1\" class=\"dataframe\">\n",
       "  <thead>\n",
       "    <tr style=\"text-align: right;\">\n",
       "      <th></th>\n",
       "      <th>customer_id_hashed</th>\n",
       "      <th>email_address_hash</th>\n",
       "      <th>sign_up_location</th>\n",
       "    </tr>\n",
       "  </thead>\n",
       "  <tbody>\n",
       "    <tr>\n",
       "      <th>0</th>\n",
       "      <td>3132829a904f1d6c44a1825bb3da6a1172c8da574a48b5...</td>\n",
       "      <td>a1fed2adf904f2b22fbdc0802904e4cb6db38fd09c42a0...</td>\n",
       "      <td>5294</td>\n",
       "    </tr>\n",
       "    <tr>\n",
       "      <th>1</th>\n",
       "      <td>0759b8f23ed38c541d242a6fdd905b3874978cb332321d...</td>\n",
       "      <td>353cfff59ae492fd641ae64357c46dae76d6336229f351...</td>\n",
       "      <td>5143</td>\n",
       "    </tr>\n",
       "  </tbody>\n",
       "</table>\n",
       "</div>"
      ],
      "text/plain": [
       "                                  customer_id_hashed  \\\n",
       "0  3132829a904f1d6c44a1825bb3da6a1172c8da574a48b5...   \n",
       "1  0759b8f23ed38c541d242a6fdd905b3874978cb332321d...   \n",
       "\n",
       "                                  email_address_hash sign_up_location  \n",
       "0  a1fed2adf904f2b22fbdc0802904e4cb6db38fd09c42a0...             5294  \n",
       "1  353cfff59ae492fd641ae64357c46dae76d6336229f351...             5143  "
      ]
     },
     "execution_count": 5,
     "metadata": {},
     "output_type": "execute_result"
    }
   ],
   "source": [
    "aggregated_reigster_store.head(2)"
   ]
  },
  {
   "cell_type": "code",
   "execution_count": 11,
   "metadata": {
    "collapsed": true
   },
   "outputs": [],
   "source": [
    "master_file_2018Q1_2019Q1=pd.read_table(\"/home/jian/BigLots/New_Sing_Ups_2018_Fiscal_Year/All Rewards Members 2018-02-04 - 2019-05-04.zip\",\n",
    "                                             compression=\"zip\",dtype=str,sep=\"|\",usecols=['customer_id_hashed','email_address_hash','sign_up_location'])\n",
    "\n",
    "###\n",
    "master_file_gap=pd.read_table(\"/home/jian/BigLots/New_Sing_Ups_2018_Fiscal_Year/MediaStorm Rewards Master P4 2019 - no transaction info.zip\",\n",
    "                                             compression=\"zip\",dtype=str,sep=\"|\",usecols=['customer_id_hashed','email_address_hash','sign_up_location'])\n",
    "# master_file_gap['sign_up_date'].max() is 20190601"
   ]
  },
  {
   "cell_type": "code",
   "execution_count": 17,
   "metadata": {},
   "outputs": [],
   "source": [
    "def recursive_file_gen(root_path):\n",
    "    for root, dirs, files in os.walk(root_path):\n",
    "        for file in files:\n",
    "            yield os.path.join(root,file)\n",
    "        \n",
    "            \n",
    "master_2019=list(recursive_file_gen(\"/home/jian/BigLots/2019_by_weeks/\"))\n",
    "master_2019=[x for x in master_2019 if \"aster\" in x]\n",
    "df_master_2019=pd.DataFrame({\"file_path\":master_2019})\n",
    "df_master_2019['week_end_dt']=df_master_2019['file_path'].apply(lambda x: x.split(\"/MediaStorm_\")[1][:10])\n",
    "df_master_2019=df_master_2019[df_master_2019['week_end_dt']>=\"2019-06-02\"]\n",
    "\n",
    "master_file_later=pd.DataFrame(columns=master_file_gap.columns.tolist())\n",
    "for file in df_master_2019['file_path'].tolist():\n",
    "    df=pd.read_table(file,dtype=str,usecols=master_file_gap.columns.tolist(),sep=\"|\")\n",
    "    master_file_later=master_file_later.append(df)"
   ]
  },
  {
   "cell_type": "code",
   "execution_count": 18,
   "metadata": {},
   "outputs": [],
   "source": [
    "aggregated_reigster_store=master_file_later.append(master_file_gap).append(master_file_2018Q1_2019Q1).append(aggregated_reigster_store)\n",
    "aggregated_reigster_store=aggregated_reigster_store.drop_duplicates(\"customer_id_hashed\")"
   ]
  },
  {
   "cell_type": "code",
   "execution_count": 19,
   "metadata": {},
   "outputs": [
    {
     "data": {
      "text/html": [
       "<div>\n",
       "<style>\n",
       "    .dataframe thead tr:only-child th {\n",
       "        text-align: right;\n",
       "    }\n",
       "\n",
       "    .dataframe thead th {\n",
       "        text-align: left;\n",
       "    }\n",
       "\n",
       "    .dataframe tbody tr th {\n",
       "        vertical-align: top;\n",
       "    }\n",
       "</style>\n",
       "<table border=\"1\" class=\"dataframe\">\n",
       "  <thead>\n",
       "    <tr style=\"text-align: right;\">\n",
       "      <th></th>\n",
       "      <th>customer_id_hashed</th>\n",
       "      <th>email_address_hash</th>\n",
       "      <th>sign_up_location</th>\n",
       "    </tr>\n",
       "  </thead>\n",
       "  <tbody>\n",
       "    <tr>\n",
       "      <th>0</th>\n",
       "      <td>b87f55e29bb2ab5e59e9ccd23943e410bde600fdbb7cd1...</td>\n",
       "      <td>48debf52080c9b6425529839f1d8ecda1df52328673c87...</td>\n",
       "      <td>5225</td>\n",
       "    </tr>\n",
       "    <tr>\n",
       "      <th>1</th>\n",
       "      <td>3d2c04fdd17cb1fe8202b0d5fda20616fa4b220682c521...</td>\n",
       "      <td>f65caadae5f2de7abe996a618df7f7c178ec4bdf3589b7...</td>\n",
       "      <td>376</td>\n",
       "    </tr>\n",
       "  </tbody>\n",
       "</table>\n",
       "</div>"
      ],
      "text/plain": [
       "                                  customer_id_hashed  \\\n",
       "0  b87f55e29bb2ab5e59e9ccd23943e410bde600fdbb7cd1...   \n",
       "1  3d2c04fdd17cb1fe8202b0d5fda20616fa4b220682c521...   \n",
       "\n",
       "                                  email_address_hash sign_up_location  \n",
       "0  48debf52080c9b6425529839f1d8ecda1df52328673c87...             5225  \n",
       "1  f65caadae5f2de7abe996a618df7f7c178ec4bdf3589b7...              376  "
      ]
     },
     "execution_count": 19,
     "metadata": {},
     "output_type": "execute_result"
    }
   ],
   "source": [
    "aggregated_reigster_store.head(2)"
   ]
  },
  {
   "cell_type": "code",
   "execution_count": 20,
   "metadata": {},
   "outputs": [
    {
     "data": {
      "text/plain": [
       "(28883626, 3)"
      ]
     },
     "execution_count": 20,
     "metadata": {},
     "output_type": "execute_result"
    }
   ],
   "source": [
    "aggregated_reigster_store.shape"
   ]
  },
  {
   "cell_type": "code",
   "execution_count": 21,
   "metadata": {
    "collapsed": true
   },
   "outputs": [],
   "source": [
    "aggregated_reigster_store.to_csv(\"/home/jian/Projects/Big_Lots/Loyal_members/loyalty_register_data/output_sing_up_location/BL_id_by_register_store_JL_2019-07-12.csv\",index=False)\n"
   ]
  }
 ],
 "metadata": {
  "kernelspec": {
   "display_name": "Python 3",
   "language": "python",
   "name": "python3"
  },
  "language_info": {
   "codemirror_mode": {
    "name": "ipython",
    "version": 3
   },
   "file_extension": ".py",
   "mimetype": "text/x-python",
   "name": "python",
   "nbconvert_exporter": "python",
   "pygments_lexer": "ipython3",
   "version": "3.6.1"
  }
 },
 "nbformat": 4,
 "nbformat_minor": 2
}
