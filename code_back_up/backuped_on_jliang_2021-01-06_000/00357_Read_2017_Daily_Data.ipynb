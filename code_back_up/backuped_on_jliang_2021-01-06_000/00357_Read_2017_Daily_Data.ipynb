{
 "cells": [
  {
   "cell_type": "code",
   "execution_count": 11,
   "metadata": {
    "collapsed": true
   },
   "outputs": [],
   "source": [
    "import pandas as pd\n",
    "import numpy as np\n",
    "import datetime\n",
    "import gc\n",
    "import glob"
   ]
  },
  {
   "cell_type": "code",
   "execution_count": 12,
   "metadata": {
    "collapsed": true
   },
   "outputs": [],
   "source": [
    "file_list=glob.glob(\"/home/jian/BigLots/2017_Daily_Sales/\"+\"*.txt\")\n",
    "file_list=sorted(file_list)"
   ]
  },
  {
   "cell_type": "code",
   "execution_count": 13,
   "metadata": {},
   "outputs": [
    {
     "data": {
      "text/plain": [
       "['/home/jian/BigLots/2017_Daily_Sales/MediaStormDailySales01.txt',\n",
       " '/home/jian/BigLots/2017_Daily_Sales/MediaStormDailySales02.txt',\n",
       " '/home/jian/BigLots/2017_Daily_Sales/MediaStormDailySales03.txt',\n",
       " '/home/jian/BigLots/2017_Daily_Sales/MediaStormDailySales04.txt',\n",
       " '/home/jian/BigLots/2017_Daily_Sales/MediaStormDailySales05.txt',\n",
       " '/home/jian/BigLots/2017_Daily_Sales/MediaStormDailySales06.txt',\n",
       " '/home/jian/BigLots/2017_Daily_Sales/MediaStormDailySales07.txt',\n",
       " '/home/jian/BigLots/2017_Daily_Sales/MediaStormDailySales08.txt',\n",
       " '/home/jian/BigLots/2017_Daily_Sales/MediaStormDailySales09.txt',\n",
       " '/home/jian/BigLots/2017_Daily_Sales/MediaStormDailySales10.txt',\n",
       " '/home/jian/BigLots/2017_Daily_Sales/MediaStormDailySales11.txt',\n",
       " '/home/jian/BigLots/2017_Daily_Sales/MediaStormDailySales12.txt',\n",
       " '/home/jian/BigLots/2017_Daily_Sales/MediaStormDailySales13.txt']"
      ]
     },
     "execution_count": 13,
     "metadata": {},
     "output_type": "execute_result"
    }
   ],
   "source": [
    "file_list"
   ]
  },
  {
   "cell_type": "code",
   "execution_count": 16,
   "metadata": {},
   "outputs": [
    {
     "name": "stdout",
     "output_type": "stream",
     "text": [
      "File : 1 | /home/jian/BigLots/2017_Daily_Sales/MediaStormDailySales01.txt | 2017-07-30 to 2017-08-05\n",
      "File : 2 | /home/jian/BigLots/2017_Daily_Sales/MediaStormDailySales02.txt | 2017-08-06 to 2017-08-12\n",
      "File : 3 | /home/jian/BigLots/2017_Daily_Sales/MediaStormDailySales03.txt | 2017-08-13 to 2017-08-19\n",
      "File : 4 | /home/jian/BigLots/2017_Daily_Sales/MediaStormDailySales04.txt | 2017-08-20 to 2017-08-26\n",
      "File : 5 | /home/jian/BigLots/2017_Daily_Sales/MediaStormDailySales05.txt | 2017-08-27 to 2017-09-02\n",
      "File : 6 | /home/jian/BigLots/2017_Daily_Sales/MediaStormDailySales06.txt | 2017-09-03 to 2017-09-09\n",
      "File : 7 | /home/jian/BigLots/2017_Daily_Sales/MediaStormDailySales07.txt | 2017-09-10 to 2017-09-16\n",
      "File : 8 | /home/jian/BigLots/2017_Daily_Sales/MediaStormDailySales08.txt | 2017-09-17 to 2017-09-23\n",
      "File : 9 | /home/jian/BigLots/2017_Daily_Sales/MediaStormDailySales09.txt | 2017-09-24 to 2017-09-30\n",
      "File : 10 | /home/jian/BigLots/2017_Daily_Sales/MediaStormDailySales10.txt | 2017-10-01 to 2017-10-07\n",
      "File : 11 | /home/jian/BigLots/2017_Daily_Sales/MediaStormDailySales11.txt | 2017-10-08 to 2017-10-14\n",
      "File : 12 | /home/jian/BigLots/2017_Daily_Sales/MediaStormDailySales12.txt | 2017-10-15 to 2017-10-21\n",
      "File : 13 | /home/jian/BigLots/2017_Daily_Sales/MediaStormDailySales13.txt | 2017-10-22 to 2017-10-28\n"
     ]
    }
   ],
   "source": [
    "all_daily_new_received_by_day=pd.DataFrame()\n",
    "i=0\n",
    "for file in file_list:\n",
    "    df=pd.read_table(file,dtype=str,sep=\"|\")\n",
    "    df['transaction_dt']=df['transaction_dt'].apply(lambda x: datetime.datetime.strptime(x,\"%Y-%m-%d\").date())\n",
    "    df['subclass_transaction_amt']=df['subclass_transaction_amt'].astype(float)\n",
    "    df['subclass_transaction_units']=df['subclass_transaction_units'].astype(int)\n",
    "    # all_daily_new_received=all_daily_new_received.append(df)\n",
    "    i+=1\n",
    "    print(\"File : \"+str(i)+\" | \"+file+\" | \" + str(df['transaction_dt'].min())+\" to \"+str(df['transaction_dt'].max()))\n",
    "    df['Rewards_Label']=np.where(pd.isnull(df['customer_id_hashed']),\"Non_Rewards\",\"Rewards\")\n",
    "    df_agg_sales=df.groupby(['location_id','transaction_dt','Rewards_Label'])['subclass_transaction_amt'].sum().to_frame().reset_index()\n",
    "    \n",
    "    df_agg_sales_total=df.groupby(['location_id','transaction_dt'])['subclass_transaction_amt'].sum().to_frame().reset_index()\n",
    "    df_agg_sales_total=df_agg_sales_total.rename(columns={\"subclass_transaction_amt\":\"total_sales\"})\n",
    "    \n",
    "    df_agg_sales_rewards=df_agg_sales[df_agg_sales['Rewards_Label']==\"Rewards\"]\n",
    "    del df_agg_sales_rewards['Rewards_Label']\n",
    "    df_agg_sales_rewards=df_agg_sales_rewards.rename(columns={\"subclass_transaction_amt\":\"rewards_sales\"})\n",
    "    \n",
    "    df_agg_sales_Non_rewards=df_agg_sales[df_agg_sales['Rewards_Label']==\"Non_Rewards\"]\n",
    "    del df_agg_sales_Non_rewards['Rewards_Label']\n",
    "    df_agg_sales_Non_rewards=df_agg_sales_Non_rewards.rename(columns={\"subclass_transaction_amt\":\"Non_rewards_sales\"})\n",
    "    \n",
    "    df_app=pd.merge(df_agg_sales_total,df_agg_sales_rewards,on=['location_id','transaction_dt'],how=\"left\")\n",
    "    df_app=pd.merge(df_app,df_agg_sales_Non_rewards,on=['location_id','transaction_dt'],how=\"left\")\n",
    "\n",
    "all_daily_new_received_by_day=all_daily_new_received_by_day.append(df_app)"
   ]
  },
  {
   "cell_type": "code",
   "execution_count": 17,
   "metadata": {
    "collapsed": true
   },
   "outputs": [],
   "source": [
    "def add_week_end_dt(x):\n",
    "    if x.weekday()==6:\n",
    "        y=x+datetime.timedelta(days=6)\n",
    "    else:\n",
    "        y=x+datetime.timedelta(days=(5-x.weekday()))\n",
    "    return y\n",
    "\n",
    "all_daily_new_received_by_day['week_end_dt']=all_daily_new_received_by_day['transaction_dt'].apply(lambda x: add_week_end_dt(x))"
   ]
  },
  {
   "cell_type": "code",
   "execution_count": 18,
   "metadata": {},
   "outputs": [
    {
     "data": {
      "text/html": [
       "<div>\n",
       "<style>\n",
       "    .dataframe thead tr:only-child th {\n",
       "        text-align: right;\n",
       "    }\n",
       "\n",
       "    .dataframe thead th {\n",
       "        text-align: left;\n",
       "    }\n",
       "\n",
       "    .dataframe tbody tr th {\n",
       "        vertical-align: top;\n",
       "    }\n",
       "</style>\n",
       "<table border=\"1\" class=\"dataframe\">\n",
       "  <thead>\n",
       "    <tr style=\"text-align: right;\">\n",
       "      <th></th>\n",
       "      <th>location_id</th>\n",
       "      <th>transaction_dt</th>\n",
       "      <th>total_sales</th>\n",
       "      <th>rewards_sales</th>\n",
       "      <th>Non_rewards_sales</th>\n",
       "      <th>week_end_dt</th>\n",
       "    </tr>\n",
       "  </thead>\n",
       "  <tbody>\n",
       "    <tr>\n",
       "      <th>0</th>\n",
       "      <td>1</td>\n",
       "      <td>2017-10-22</td>\n",
       "      <td>12050.04</td>\n",
       "      <td>7158.29</td>\n",
       "      <td>4891.75</td>\n",
       "      <td>2017-10-28</td>\n",
       "    </tr>\n",
       "    <tr>\n",
       "      <th>1</th>\n",
       "      <td>1</td>\n",
       "      <td>2017-10-23</td>\n",
       "      <td>10155.06</td>\n",
       "      <td>5506.00</td>\n",
       "      <td>4649.06</td>\n",
       "      <td>2017-10-28</td>\n",
       "    </tr>\n",
       "  </tbody>\n",
       "</table>\n",
       "</div>"
      ],
      "text/plain": [
       "  location_id transaction_dt  total_sales  rewards_sales  Non_rewards_sales  \\\n",
       "0           1     2017-10-22     12050.04        7158.29            4891.75   \n",
       "1           1     2017-10-23     10155.06        5506.00            4649.06   \n",
       "\n",
       "  week_end_dt  \n",
       "0  2017-10-28  \n",
       "1  2017-10-28  "
      ]
     },
     "execution_count": 18,
     "metadata": {},
     "output_type": "execute_result"
    }
   ],
   "source": [
    "all_daily_new_received_by_day.head(2)"
   ]
  },
  {
   "cell_type": "code",
   "execution_count": 19,
   "metadata": {},
   "outputs": [
    {
     "data": {
      "text/html": [
       "<div>\n",
       "<style>\n",
       "    .dataframe thead tr:only-child th {\n",
       "        text-align: right;\n",
       "    }\n",
       "\n",
       "    .dataframe thead th {\n",
       "        text-align: left;\n",
       "    }\n",
       "\n",
       "    .dataframe tbody tr th {\n",
       "        vertical-align: top;\n",
       "    }\n",
       "</style>\n",
       "<table border=\"1\" class=\"dataframe\">\n",
       "  <thead>\n",
       "    <tr style=\"text-align: right;\">\n",
       "      <th></th>\n",
       "      <th>location_id</th>\n",
       "      <th>week_end_dt</th>\n",
       "      <th>total_sales</th>\n",
       "      <th>rewards_sales</th>\n",
       "      <th>Non_rewards_sales</th>\n",
       "    </tr>\n",
       "  </thead>\n",
       "  <tbody>\n",
       "    <tr>\n",
       "      <th>0</th>\n",
       "      <td>1</td>\n",
       "      <td>2017-10-28</td>\n",
       "      <td>72964.40</td>\n",
       "      <td>42682.01</td>\n",
       "      <td>30282.39</td>\n",
       "    </tr>\n",
       "    <tr>\n",
       "      <th>1</th>\n",
       "      <td>1001</td>\n",
       "      <td>2017-10-28</td>\n",
       "      <td>38806.63</td>\n",
       "      <td>8583.22</td>\n",
       "      <td>30223.41</td>\n",
       "    </tr>\n",
       "  </tbody>\n",
       "</table>\n",
       "</div>"
      ],
      "text/plain": [
       "  location_id week_end_dt  total_sales  rewards_sales  Non_rewards_sales\n",
       "0           1  2017-10-28     72964.40       42682.01           30282.39\n",
       "1        1001  2017-10-28     38806.63        8583.22           30223.41"
      ]
     },
     "execution_count": 19,
     "metadata": {},
     "output_type": "execute_result"
    }
   ],
   "source": [
    "all_daily_new_received_by_week=all_daily_new_received_by_day.groupby(['location_id','week_end_dt'])['total_sales','rewards_sales','Non_rewards_sales'].sum().reset_index()\n",
    "all_daily_new_received_by_week.head(2)"
   ]
  },
  {
   "cell_type": "code",
   "execution_count": 20,
   "metadata": {},
   "outputs": [
    {
     "data": {
      "text/plain": [
       "'/home/jian/Projects/Big_Lots/Analysis/2018_Q4/Read_data'"
      ]
     },
     "execution_count": 20,
     "metadata": {},
     "output_type": "execute_result"
    }
   ],
   "source": [
    "import os\n",
    "os.getcwd()"
   ]
  },
  {
   "cell_type": "code",
   "execution_count": 21,
   "metadata": {
    "collapsed": true
   },
   "outputs": [],
   "source": [
    "writer=pd.ExcelWriter(\"/home/jian/Projects/Big_Lots/Analysis/2018_Q4/Read_data/BL_2017_new_received_daily_data_summary_JL_20181203.xlsx\",engine=\"xlsxwriter\")\n",
    "all_daily_new_received_by_day.to_excel(writer,\"data_by_day\",index=False)\n",
    "all_daily_new_received_by_week.to_excel(writer,\"data_by_week\",index=False)\n",
    "writer.save()"
   ]
  },
  {
   "cell_type": "code",
   "execution_count": null,
   "metadata": {
    "collapsed": true
   },
   "outputs": [],
   "source": []
  }
 ],
 "metadata": {
  "kernelspec": {
   "display_name": "Python 3",
   "language": "python",
   "name": "python3"
  },
  "language_info": {
   "codemirror_mode": {
    "name": "ipython",
    "version": 3
   },
   "file_extension": ".py",
   "mimetype": "text/x-python",
   "name": "python",
   "nbconvert_exporter": "python",
   "pygments_lexer": "ipython3",
   "version": "3.6.1"
  }
 },
 "nbformat": 4,
 "nbformat_minor": 2
}
