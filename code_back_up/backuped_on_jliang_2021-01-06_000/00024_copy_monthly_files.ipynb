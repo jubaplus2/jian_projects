{
 "cells": [
  {
   "cell_type": "code",
   "execution_count": 11,
   "metadata": {},
   "outputs": [
    {
     "name": "stdout",
     "output_type": "stream",
     "text": [
      "2020-08-02 17:51:32.913700\n"
     ]
    }
   ],
   "source": [
    "import paramiko\n",
    "import pandas as pd\n",
    "import numpy as np\n",
    "import datetime\n",
    "import os\n",
    "import glob\n",
    "# biglots_data: 1.store list; 2.prod_taxo\n",
    "# agileone: email unsubsription \n",
    "\n",
    "print(datetime.datetime.now())"
   ]
  },
  {
   "cell_type": "code",
   "execution_count": 28,
   "metadata": {},
   "outputs": [],
   "source": [
    "def copy_file_to_local(pattern_unique,remote_mother_folder,remote_movein_folder,local_folder,sftp):\n",
    "    list_new_files=[x for x in sftp.listdir() if x[-4:]==\".txt\" or x[-4:]==\".csv\"]\n",
    "    list_files_fit_pattern=[x for x in list_new_files if pattern_unique in x]\n",
    "    if not list_files_fit_pattern:\n",
    "        raise ValueError(\"not table found with the pattern: %s\" %pattern_unique)\n",
    "    elif len(list_files_fit_pattern)>1:\n",
    "        raise ValueError(\"multiple tables found with the pattern: %s\" %pattern_unique)\n",
    "    else:\n",
    "        file_path_remote_received=remote_mother_folder+list_files_fit_pattern[0]\n",
    "        basename=os.path.basename(file_path_remote_received)\n",
    "        sftp.get(file_path_remote_received,local_folder+basename)\n",
    "        sftp.rename(file_path_remote_received, remote_movein_folder+basename)\n",
    "        print(\"File copied to 192 and moved into the subfoler: %s\"%basename)"
   ]
  },
  {
   "cell_type": "markdown",
   "metadata": {},
   "source": [
    "# Part 1: 107 biglots_data"
   ]
  },
  {
   "cell_type": "code",
   "execution_count": 3,
   "metadata": {},
   "outputs": [],
   "source": [
    "# biglots_data: 1.store list; 2.prod_taxo\n",
    "\n",
    "remote_data_path_client=\"/mnt/drv5/biglots_data/\"\n",
    "\n",
    "host = \"107.191.32.220\" #hard-coded\n",
    "port = 22\n",
    "transport = paramiko.Transport((host, port))\n",
    "\n",
    "password = \"vgn5UucsUNHL4n9R\" #hard-coded\n",
    "username = \"biglots_data\" #hard-coded\n",
    "transport.connect(username = username, password = password)\n",
    "sftp = paramiko.SFTPClient.from_transport(transport)"
   ]
  },
  {
   "cell_type": "code",
   "execution_count": 5,
   "metadata": {},
   "outputs": [],
   "source": [
    "folder_move_in_remote_storelist=\"/mnt/drv5/biglots_data/Monthly_Store_List/\"\n",
    "folder_move_in_local_storelist=\"/home/jian/BigLots/static_files/Store_list/\"\n",
    "\n",
    "folder_move_in_remote_product=\"/mnt/drv5/biglots_data/Monthly_Taxonomy/\"\n",
    "folder_move_in_local_product=\"/home/jian/BigLots/static_files/ProductTaxonomy/\""
   ]
  },
  {
   "cell_type": "code",
   "execution_count": 6,
   "metadata": {},
   "outputs": [
    {
     "name": "stdout",
     "output_type": "stream",
     "text": [
      "File copied to 192 and moved into the subfoler: MediaStormStores20200801-134534-635.txt\n",
      "File copied to 192 and moved into the subfoler: MediaStormProductTaxonomy20200801-134534-636.txt\n"
     ]
    }
   ],
   "source": [
    "# store list\n",
    "copy_file_to_local(\n",
    "    pattern_unique=\"MediaStormStores\",\n",
    "    remote_movein_folder=folder_move_in_remote_storelist,\n",
    "    remote_mother_folder=remote_data_path_client,\n",
    "    local_folder=folder_move_in_local_storelist,\n",
    "    sftp=sftp\n",
    ")\n",
    "    \n",
    "    \n",
    "# Product taxonomy\n",
    "copy_file_to_local(\n",
    "    pattern_unique=\"MediaStormProductTaxonomy\",\n",
    "    remote_movein_folder=folder_move_in_remote_product,\n",
    "    remote_mother_folder=remote_data_path_client,\n",
    "    local_folder=folder_move_in_local_product,\n",
    "    sftp=sftp\n",
    ")"
   ]
  },
  {
   "cell_type": "markdown",
   "metadata": {},
   "source": [
    "# Part 2: 107 agilone"
   ]
  },
  {
   "cell_type": "code",
   "execution_count": 23,
   "metadata": {},
   "outputs": [],
   "source": [
    "# agilone: 1.email sub delta; 2.email unsub refresh\n",
    "\n",
    "remote_agile_one=\"/home/agilone/\"\n",
    "\n",
    "host = \"107.191.32.220\" #hard-coded\n",
    "port = 22\n",
    "transport = paramiko.Transport((host, port))\n",
    "\n",
    "password = \"Tur87ZqzF9xV5mYF\" #hard-coded\n",
    "username = \"agilone\" #hard-coded\n",
    "transport.connect(username = username, password = password)\n",
    "sftp = paramiko.SFTPClient.from_transport(transport)"
   ]
  },
  {
   "cell_type": "code",
   "execution_count": 24,
   "metadata": {},
   "outputs": [],
   "source": [
    "folder_move_in_remote_subscribers=\"/home/agilone/archived_email_subscriber_files/\"\n",
    "folder_movliste_in_local_subscribers=\"/home/jian/BigLots/Email_Subscription_Files/subscribers/\"\n",
    "\n",
    "folder_move_in_remote_Unsub=\"/home/agilone/archived_email_Unsub_files/\"\n",
    "folder_move_in_local_Unsub=\"/home/jian/BigLots/Email_Subscription_Files/Unsubs/\""
   ]
  },
  {
   "cell_type": "code",
   "execution_count": 25,
   "metadata": {},
   "outputs": [],
   "source": [
    "list_local_subscribers=glob.glob(folder_move_in_remote_subscribers)\n",
    "list_local_Unsubs=glob.glob(folder_move_in_remote_Unsub)"
   ]
  },
  {
   "cell_type": "code",
   "execution_count": 33,
   "metadata": {},
   "outputs": [
    {
     "name": "stdout",
     "output_type": "stream",
     "text": [
      "File copied to 192 and moved into the subfoler: BL_Email_Subscriber_File_Delta__20200525040244.csv\n",
      "File copied to 192 and moved into the subfoler: BL_Email_Subscriber_File_Delta__20200625040302.csv\n",
      "File copied to 192 and moved into the subfoler: BL_Email_Subscriber_File_Delta__20200725040244.csv\n"
     ]
    }
   ],
   "source": [
    "# Subscribters delta\n",
    "for i in range(8):\n",
    "    pattern=\"BL_Email_Subscriber_File_Delta__20200%d\"%i\n",
    "    try:\n",
    "        copy_file_to_local(\n",
    "            pattern_unique=pattern,\n",
    "            remote_movein_folder=folder_move_in_remote_subscribers,\n",
    "            remote_mother_folder=remote_agile_one,\n",
    "            local_folder=folder_movliste_in_local_subscribers,\n",
    "            sftp=sftp\n",
    "        )\n",
    "    except:\n",
    "        pass"
   ]
  },
  {
   "cell_type": "code",
   "execution_count": 34,
   "metadata": {},
   "outputs": [
    {
     "name": "stdout",
     "output_type": "stream",
     "text": [
      "File copied to 192 and moved into the subfoler: BL_Email_UnSubscriber_File_Refresh__20200525040444.csv\n",
      "File copied to 192 and moved into the subfoler: BL_Email_UnSubscriber_File_Refresh__20200625040341.csv\n",
      "File copied to 192 and moved into the subfoler: BL_Email_UnSubscriber_File_Refresh__20200725040404.csv\n"
     ]
    },
    {
     "name": "stderr",
     "output_type": "stream",
     "text": [
      "Socket exception: Connection reset by peer (104)\n",
      "Socket exception: Connection reset by peer (104)\n"
     ]
    }
   ],
   "source": [
    "# UbSubs refresh\n",
    "for i in range(8):\n",
    "    pattern=\"BL_Email_UnSubscriber_File_Refresh__20200%d\"%i\n",
    "    try:\n",
    "        copy_file_to_local(\n",
    "            pattern_unique=pattern,\n",
    "            remote_movein_folder=folder_move_in_remote_Unsub,\n",
    "            remote_mother_folder=remote_agile_one,\n",
    "            local_folder=folder_move_in_local_Unsub,\n",
    "            sftp=sftp\n",
    "        )\n",
    "    except:\n",
    "        pass"
   ]
  },
  {
   "cell_type": "code",
   "execution_count": null,
   "metadata": {},
   "outputs": [],
   "source": []
  }
 ],
 "metadata": {
  "kernelspec": {
   "display_name": "Python 3",
   "language": "python",
   "name": "python3"
  },
  "language_info": {
   "codemirror_mode": {
    "name": "ipython",
    "version": 3
   },
   "file_extension": ".py",
   "mimetype": "text/x-python",
   "name": "python",
   "nbconvert_exporter": "python",
   "pygments_lexer": "ipython3",
   "version": "3.6.1"
  }
 },
 "nbformat": 4,
 "nbformat_minor": 2
}
