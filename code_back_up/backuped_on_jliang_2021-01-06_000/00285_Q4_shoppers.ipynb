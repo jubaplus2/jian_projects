{
 "cells": [
  {
   "cell_type": "code",
   "execution_count": 1,
   "metadata": {},
   "outputs": [
    {
     "name": "stdout",
     "output_type": "stream",
     "text": [
      "/home/jian/Projects/Big_Lots/Analysis/2019_Q4/Post_YoY\n",
      "2020-04-01 17:37:14.952028\n"
     ]
    }
   ],
   "source": [
    "import pandas as pd\n",
    "import numpy as np\n",
    "import os\n",
    "import datetime\n",
    "\n",
    "print(os.getcwd())\n",
    "print(datetime.datetime.now())\n",
    "\n",
    "def recursive_file_gen(my_root_dir):\n",
    "    for root, dirs, files in os.walk(my_root_dir):\n",
    "        for file in files:\n",
    "            yield os.path.join(root, file)"
   ]
  },
  {
   "cell_type": "code",
   "execution_count": 3,
   "metadata": {},
   "outputs": [
    {
     "name": "stdout",
     "output_type": "stream",
     "text": [
      "13\n"
     ]
    },
    {
     "data": {
      "text/plain": [
       "['/home/jian/BigLots/2019_by_weeks/MediaStorm_2019-11-09/MediaStormDailySales20191112-115210-002.txt',\n",
       " '/home/jian/BigLots/2019_by_weeks/MediaStorm_2019-11-16/MediaStormDailySales20191119-112232-478.txt',\n",
       " '/home/jian/BigLots/2019_by_weeks/MediaStorm_2019-11-23/MediaStormDailySales20191126-112901-552.txt',\n",
       " '/home/jian/BigLots/2019_by_weeks/MediaStorm_2019-11-30/MediaStormDailySales20191203.txt',\n",
       " '/home/jian/BigLots/2019_by_weeks/MediaStorm_2019-12-07/MediaStormDailySales20191211.txt',\n",
       " '/home/jian/BigLots/2019_by_weeks/MediaStorm_2019-12-14/MediaStormDailySales20191217-195625-000.txt',\n",
       " '/home/jian/BigLots/2019_by_weeks/MediaStorm_2019-12-21/MediaStormDailySales20191226-122746-000.txt',\n",
       " '/home/jian/BigLots/2019_by_weeks/MediaStorm_2019-12-28/MediaStormDailySales20191231-112945-515.txt',\n",
       " '/home/jian/BigLots/2020_by_weeks/MediaStorm_2020-01-04/MediaStormDailySales20200107-112859-015.txt',\n",
       " '/home/jian/BigLots/2020_by_weeks/MediaStorm_2020-01-11/MediaStormDailySales20200114-115009-140.txt',\n",
       " '/home/jian/BigLots/2020_by_weeks/MediaStorm_2020-01-18/MediaStormDailySales20200121-111749-649.txt',\n",
       " '/home/jian/BigLots/2020_by_weeks/MediaStorm_2020-01-25/MediaStormDailySales20200128-111758-074.txt',\n",
       " '/home/jian/BigLots/2020_by_weeks/MediaStorm_2020-02-01/MediaStormDailySales20200204-111741-091.txt']"
      ]
     },
     "execution_count": 3,
     "metadata": {},
     "output_type": "execute_result"
    }
   ],
   "source": [
    "weeks_2019Q4=[datetime.date(2019,11,9)+datetime.timedelta(days=x*7) for x in range(13)]\n",
    "weeks_2018Q4=[x-datetime.timedelta(days=52*7) for x in weeks_2019Q4]\n",
    "weeks_2018Q4=[str(x).replace(\"-\",\"\") for x in weeks_2018Q4]\n",
    "\n",
    "folder_2019_by_week=\"/home/jian/BigLots/\"\n",
    "\n",
    "Q4_files_2019_all_types=list(recursive_file_gen(folder_2019_by_week))\n",
    "Q4_files_2019_all_types=[x for x in Q4_files_2019_all_types if \"aily\" in x]\n",
    "Q4_files_2019=[]\n",
    "for week_end_date in weeks_2019Q4:\n",
    "    file_path=[x for x in Q4_files_2019_all_types if str(week_end_date) in x]\n",
    "    Q4_files_2019=Q4_files_2019+file_path\n",
    "    \n",
    "print(len(Q4_files_2019))\n",
    "Q4_files_2019=sorted(Q4_files_2019)\n",
    "Q4_files_2019"
   ]
  },
  {
   "cell_type": "code",
   "execution_count": 12,
   "metadata": {},
   "outputs": [
    {
     "name": "stdout",
     "output_type": "stream",
     "text": [
      "2020-04-01 17:45:05.756688 2019-11-03 2019-11-09\n",
      "2020-04-01 17:49:59.528633 2019-11-10 2019-11-16\n",
      "2020-04-01 17:53:34.632207 2019-11-17 2019-11-23\n",
      "2020-04-01 17:58:51.224041 2019-11-24 2019-11-30\n",
      "2020-04-01 17:59:51.248656 2019-12-01 2019-12-07\n",
      "2020-04-01 18:05:49.287241 2019-12-08 2019-12-14\n",
      "2020-04-01 18:10:26.837789 2019-12-15 2019-12-21\n",
      "2020-04-01 18:21:16.229495 2019-12-22 2019-12-28\n",
      "2020-04-01 18:32:17.771645 2019-12-29 2020-01-04\n",
      "2020-04-01 18:33:08.376907 2020-01-05 2020-01-11\n",
      "2020-04-01 18:33:54.438697 2020-01-12 2020-01-18\n",
      "2020-04-01 18:35:05.424043 2020-01-19 2020-01-25\n",
      "2020-04-01 18:36:41.662573 2020-01-26 2020-02-01\n"
     ]
    }
   ],
   "source": [
    "df_shoppers=pd.DataFrame()\n",
    "for file in Q4_files_2019:\n",
    "    df=pd.read_table(file,sep=\"|\",dtype=str,usecols=['location_id','customer_id_hashed','transaction_dt'])\n",
    "    df=df[pd.notnull(df['customer_id_hashed'])]\n",
    "    print(datetime.datetime.now(),df['transaction_dt'].min(),df['transaction_dt'].max())\n",
    "    df['store_type']=np.where(df['location_id']==\"6990\",\"online\",\"instore\")\n",
    "    df=df[['store_type','customer_id_hashed']]\n",
    "    df_shoppers=df_shoppers.append(df)\n",
    "df_shoppers=df_shoppers.drop_duplicates()"
   ]
  },
  {
   "cell_type": "code",
   "execution_count": 13,
   "metadata": {},
   "outputs": [
    {
     "name": "stdout",
     "output_type": "stream",
     "text": [
      "df_shoppers['customer_id_hashed'].nunique() 10401633\n"
     ]
    },
    {
     "data": {
      "text/html": [
       "<div>\n",
       "<style scoped>\n",
       "    .dataframe tbody tr th:only-of-type {\n",
       "        vertical-align: middle;\n",
       "    }\n",
       "\n",
       "    .dataframe tbody tr th {\n",
       "        vertical-align: top;\n",
       "    }\n",
       "\n",
       "    .dataframe thead th {\n",
       "        text-align: right;\n",
       "    }\n",
       "</style>\n",
       "<table border=\"1\" class=\"dataframe\">\n",
       "  <thead>\n",
       "    <tr style=\"text-align: right;\">\n",
       "      <th></th>\n",
       "      <th>store_type</th>\n",
       "      <th>customer_id_hashed</th>\n",
       "    </tr>\n",
       "  </thead>\n",
       "  <tbody>\n",
       "    <tr>\n",
       "      <th>0</th>\n",
       "      <td>instore</td>\n",
       "      <td>10379012</td>\n",
       "    </tr>\n",
       "    <tr>\n",
       "      <th>1</th>\n",
       "      <td>online</td>\n",
       "      <td>60825</td>\n",
       "    </tr>\n",
       "  </tbody>\n",
       "</table>\n",
       "</div>"
      ],
      "text/plain": [
       "  store_type  customer_id_hashed\n",
       "0    instore            10379012\n",
       "1     online               60825"
      ]
     },
     "execution_count": 13,
     "metadata": {},
     "output_type": "execute_result"
    }
   ],
   "source": [
    "print(\"df_shoppers['customer_id_hashed'].nunique()\",df_shoppers['customer_id_hashed'].nunique())\n",
    "df_summary_unique_shopper_count=df_shoppers.groupby(\"store_type\")['customer_id_hashed'].nunique().to_frame().reset_index()\n",
    "df_summary_unique_shopper_count"
   ]
  },
  {
   "cell_type": "code",
   "execution_count": 11,
   "metadata": {},
   "outputs": [
    {
     "data": {
      "text/html": [
       "<div>\n",
       "<style scoped>\n",
       "    .dataframe tbody tr th:only-of-type {\n",
       "        vertical-align: middle;\n",
       "    }\n",
       "\n",
       "    .dataframe tbody tr th {\n",
       "        vertical-align: top;\n",
       "    }\n",
       "\n",
       "    .dataframe thead th {\n",
       "        text-align: right;\n",
       "    }\n",
       "</style>\n",
       "<table border=\"1\" class=\"dataframe\">\n",
       "  <thead>\n",
       "    <tr style=\"text-align: right;\">\n",
       "      <th></th>\n",
       "      <th>location_id</th>\n",
       "      <th>transaction_dt</th>\n",
       "      <th>customer_id_hashed</th>\n",
       "      <th>store_type</th>\n",
       "    </tr>\n",
       "  </thead>\n",
       "  <tbody>\n",
       "    <tr>\n",
       "      <th>0</th>\n",
       "      <td>4322</td>\n",
       "      <td>2019-11-09</td>\n",
       "      <td>b445597aeb04ea0afe60321876a7580f52abaa8e4ef5b0...</td>\n",
       "      <td>instore</td>\n",
       "    </tr>\n",
       "    <tr>\n",
       "      <th>1</th>\n",
       "      <td>4557</td>\n",
       "      <td>2019-11-06</td>\n",
       "      <td>23b14d85798fd5580f20d79e32824ad4cd6df31f5effe5...</td>\n",
       "      <td>instore</td>\n",
       "    </tr>\n",
       "  </tbody>\n",
       "</table>\n",
       "</div>"
      ],
      "text/plain": [
       "  location_id transaction_dt  \\\n",
       "0        4322     2019-11-09   \n",
       "1        4557     2019-11-06   \n",
       "\n",
       "                                  customer_id_hashed store_type  \n",
       "0  b445597aeb04ea0afe60321876a7580f52abaa8e4ef5b0...    instore  \n",
       "1  23b14d85798fd5580f20d79e32824ad4cd6df31f5effe5...    instore  "
      ]
     },
     "execution_count": 11,
     "metadata": {},
     "output_type": "execute_result"
    }
   ],
   "source": [
    "df.head(2)"
   ]
  },
  {
   "cell_type": "code",
   "execution_count": 14,
   "metadata": {},
   "outputs": [
    {
     "data": {
      "text/html": [
       "<div>\n",
       "<style scoped>\n",
       "    .dataframe tbody tr th:only-of-type {\n",
       "        vertical-align: middle;\n",
       "    }\n",
       "\n",
       "    .dataframe tbody tr th {\n",
       "        vertical-align: top;\n",
       "    }\n",
       "\n",
       "    .dataframe thead th {\n",
       "        text-align: right;\n",
       "    }\n",
       "</style>\n",
       "<table border=\"1\" class=\"dataframe\">\n",
       "  <thead>\n",
       "    <tr style=\"text-align: right;\">\n",
       "      <th></th>\n",
       "      <th>store_type</th>\n",
       "      <th>customer_id_hashed</th>\n",
       "    </tr>\n",
       "  </thead>\n",
       "  <tbody>\n",
       "  </tbody>\n",
       "</table>\n",
       "</div>"
      ],
      "text/plain": [
       "Empty DataFrame\n",
       "Columns: [store_type, customer_id_hashed]\n",
       "Index: []"
      ]
     },
     "execution_count": 14,
     "metadata": {},
     "output_type": "execute_result"
    }
   ],
   "source": [
    "df_shoppers[pd.isnull(df_shoppers['customer_id_hashed'])]"
   ]
  },
  {
   "cell_type": "code",
   "execution_count": 15,
   "metadata": {},
   "outputs": [
    {
     "data": {
      "text/plain": [
       "10439837"
      ]
     },
     "execution_count": 15,
     "metadata": {},
     "output_type": "execute_result"
    }
   ],
   "source": [
    "10379012+60825"
   ]
  },
  {
   "cell_type": "code",
   "execution_count": 18,
   "metadata": {},
   "outputs": [
    {
     "data": {
      "text/plain": [
       "(6642, 2)"
      ]
     },
     "execution_count": 18,
     "metadata": {},
     "output_type": "execute_result"
    }
   ],
   "source": [
    "df[df['store_type']==\"online\"].shape"
   ]
  }
 ],
 "metadata": {
  "kernelspec": {
   "display_name": "Python 3",
   "language": "python",
   "name": "python3"
  },
  "language_info": {
   "codemirror_mode": {
    "name": "ipython",
    "version": 3
   },
   "file_extension": ".py",
   "mimetype": "text/x-python",
   "name": "python",
   "nbconvert_exporter": "python",
   "pygments_lexer": "ipython3",
   "version": "3.6.1"
  }
 },
 "nbformat": 4,
 "nbformat_minor": 2
}
