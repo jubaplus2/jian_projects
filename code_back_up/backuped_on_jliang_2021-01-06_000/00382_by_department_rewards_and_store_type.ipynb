{
 "cells": [
  {
   "cell_type": "code",
   "execution_count": 1,
   "metadata": {},
   "outputs": [],
   "source": [
    "import pandas as pd\n",
    "import numpy as np\n",
    "import datetime\n",
    "import os\n",
    "import glob\n",
    "import logging\n",
    "logging.basicConfig(filename=\"./sales_table_log.log\", level=logging.INFO)\n",
    "\n",
    "def recursive_file_gen(my_root_dir):\n",
    "    for root, dirs, files in os.walk(my_root_dir):\n",
    "        for file in files:\n",
    "            yield os.path.join(root, file)\n",
    "            \n",
    "last_sturday_ty = datetime.date(2020,10,31)\n",
    "first_week_ty=datetime.date(2020,8,2)\n",
    "\n",
    "last_sturday_ly = last_sturday_ty-datetime.timedelta(days=52*7)\n",
    "first_week_ly=first_week_ty-datetime.timedelta(days=52*7)\n",
    "\n",
    "df_prod_mapping_2020=pd.read_csv(\"/mnt/clients/juba/hqjubaapp02/sharefolder/biglots_data/static_files/ProductTaxonomy/MediaStormProductTaxonomy20201101-135215-182.txt\",\n",
    "                            sep=\"|\",dtype=str,usecols=['division_id','department_id','class_code_id','subclass_id'])\n",
    "df_prod_mapping_2019=pd.read_csv(\"/mnt/clients/juba/hqjubaapp02/sharefolder/biglots_data/static_files/ProductTaxonomy/MediaStormProductTaxonomy20190101-135843-066.txt\",\n",
    "                            sep=\"|\",dtype=str,usecols=['division_id','department_id','class_code_id','subclass_id'])\n"
   ]
  },
  {
   "cell_type": "code",
   "execution_count": 2,
   "metadata": {},
   "outputs": [
    {
     "data": {
      "text/plain": [
       "(datetime.date(2020, 10, 31),\n",
       " datetime.date(2020, 8, 2),\n",
       " datetime.date(2019, 11, 2),\n",
       " datetime.date(2019, 8, 4))"
      ]
     },
     "execution_count": 2,
     "metadata": {},
     "output_type": "execute_result"
    }
   ],
   "source": [
    "last_sturday_ty,first_week_ty,last_sturday_ly,first_week_ly"
   ]
  },
  {
   "cell_type": "code",
   "execution_count": 3,
   "metadata": {},
   "outputs": [
    {
     "name": "stdout",
     "output_type": "stream",
     "text": [
      "13 13\n"
     ]
    }
   ],
   "source": [
    "list_POS_this_year=list(recursive_file_gen(\"/mnt/clients/juba/hqjubaapp02/sharefolder/biglots_data/2020_by_weeks/\"))\n",
    "list_POS_this_year=[x for x in list_POS_this_year if \"daily\" in x.lower()]\n",
    "\n",
    "list_POS_this_year=[x for x in list_POS_this_year if x.split(\"/MediaStorm_\")[1][:10]>=str(first_week_ty)]\n",
    "list_POS_this_year=[x for x in list_POS_this_year if x.split(\"/MediaStorm_\")[1][:10]<=str(last_sturday_ty)]\n",
    "list_POS_this_year.sort()\n",
    "# \n",
    "list_POS_last_year=list(recursive_file_gen(\"/mnt/clients/juba/hqjubaapp02/sharefolder/biglots_data/2019_by_weeks/\"))\n",
    "list_POS_last_year=[x for x in list_POS_last_year if \"daily\" in x.lower()]\n",
    "list_POS_last_year.sort()\n",
    "\n",
    "\n",
    "list_POS_last_year=[x for x in list_POS_last_year if x.split(\"/MediaStorm_\")[1][:10]>=str(first_week_ly)]\n",
    "list_POS_last_year=[x for x in list_POS_last_year if x.split(\"/MediaStorm_\")[1][:10]<=str(last_sturday_ly)]\n",
    "\n",
    "print(len(list_POS_this_year),len(list_POS_last_year))\n"
   ]
  },
  {
   "cell_type": "code",
   "execution_count": 4,
   "metadata": {},
   "outputs": [
    {
     "name": "stdout",
     "output_type": "stream",
     "text": [
      "2020-08-08 2020-11-06 16:52:58.094911\n",
      "2020-08-15 2020-11-06 16:54:00.735835\n",
      "2020-08-22 2020-11-06 16:55:03.724487\n",
      "2020-08-29 2020-11-06 16:56:06.286853\n",
      "2020-09-05 2020-11-06 16:57:10.871204\n",
      "2020-09-12 2020-11-06 16:58:13.590284\n",
      "2020-09-19 2020-11-06 16:59:15.083438\n",
      "2020-09-26 2020-11-06 17:00:20.802142\n",
      "2020-10-03 2020-11-06 17:01:29.286193\n",
      "2020-10-10 2020-11-06 17:02:33.501766\n",
      "2020-10-17 2020-11-06 17:03:40.332029\n",
      "2020-10-24 2020-11-06 17:04:45.996174\n",
      "2020-10-31 2020-11-06 17:05:57.053926\n"
     ]
    }
   ],
   "source": [
    "df_2020=pd.DataFrame()\n",
    "\n",
    "for file in list_POS_this_year:\n",
    "    df=pd.read_csv(file,dtype=str,sep=\"|\")\n",
    "    df=pd.merge(df,df_prod_mapping_2020,on=['class_code_id','subclass_id'],how=\"left\")\n",
    "    df['item_transaction_amt']=df['item_transaction_amt'].astype(float)\n",
    "    df['division_id']=df['division_id'].fillna(\"-1\")\n",
    "    df['department_id']=df['department_id'].fillna(\"-1\")\n",
    "    df['rewards_label']=np.where(pd.isnull(df['customer_id_hashed']),\"non_rewards\",\"rewards\")\n",
    "    df['store_label']=np.where(df['location_id']==\"6990\",\"online\",\"instore\")\n",
    "    week_end_dt=df['transaction_dt'].max()\n",
    "    \n",
    "    df_sales=df.groupby(['division_id','department_id','rewards_label','store_label'])['item_transaction_amt'].sum().to_frame().reset_index()\n",
    "    \n",
    "    df_trans=df[['location_id','transaction_dt','transaction_id','rewards_label','division_id','department_id','store_label']].drop_duplicates()\n",
    "    df_trans=df_trans.groupby(['division_id','department_id','rewards_label','store_label'])['transaction_id'].count().to_frame().reset_index()\n",
    "    df=pd.merge(df_sales,df_trans,on=['division_id','department_id','rewards_label','store_label'],how=\"outer\")\n",
    "    \n",
    "    df['week_end_dt']=week_end_dt\n",
    "    df=df.rename(columns={\"item_transaction_amt\":\"sales\",\"transaction_id\":\"trans\"})\n",
    "    df_2020=df_2020.append(df)\n",
    "    print(week_end_dt,datetime.datetime.now())\n",
    "    "
   ]
  },
  {
   "cell_type": "code",
   "execution_count": 5,
   "metadata": {},
   "outputs": [
    {
     "name": "stdout",
     "output_type": "stream",
     "text": [
      "2019-08-10 2020-11-06 17:06:55.343932\n",
      "2019-08-17 2020-11-06 17:07:55.686696\n",
      "2019-08-24 2020-11-06 17:08:58.046712\n",
      "2019-08-31 2020-11-06 17:10:02.248225\n",
      "2019-09-07 2020-11-06 17:11:00.402453\n",
      "2019-09-14 2020-11-06 17:11:58.493235\n",
      "2019-09-21 2020-11-06 17:12:57.106603\n",
      "2019-09-28 2020-11-06 17:14:02.841710\n",
      "2019-10-05 2020-11-06 17:15:10.373700\n",
      "2019-10-12 2020-11-06 17:16:03.396261\n",
      "2019-10-19 2020-11-06 17:17:12.028448\n",
      "2019-10-26 2020-11-06 17:18:07.453396\n",
      "2019-11-02 2020-11-06 17:19:07.677454\n"
     ]
    }
   ],
   "source": [
    "df_2019=pd.DataFrame()\n",
    "df_prod_mapping=pd.read_csv(\"/mnt/clients/juba/hqjubaapp02/sharefolder/biglots_data/static_files/ProductTaxonomy/MediaStormProductTaxonomy20190401-134939-109.txt\",\n",
    "                            sep=\"|\",dtype=str,usecols=['division_id','department_id','class_code_id','subclass_id'])\n",
    "for file in list_POS_last_year:\n",
    "    df=pd.read_csv(file,dtype=str,sep=\"|\")\n",
    "    df=pd.merge(df,df_prod_mapping_2019,on=['class_code_id','subclass_id'],how=\"left\")\n",
    "    df['item_transaction_amt']=df['item_transaction_amt'].astype(float)\n",
    "    df['division_id']=df['division_id'].fillna(\"-1\")\n",
    "    df['department_id']=df['department_id'].fillna(\"-1\")\n",
    "    df['rewards_label']=np.where(pd.isnull(df['customer_id_hashed']),\"non_rewards\",\"rewards\")\n",
    "    df['store_label']=np.where(df['location_id']==\"6990\",\"online\",\"instore\")\n",
    "    week_end_dt=df['transaction_dt'].max()\n",
    "    \n",
    "    df_sales=df.groupby(['division_id','department_id','rewards_label','store_label'])['item_transaction_amt'].sum().to_frame().reset_index()\n",
    "    \n",
    "    df_trans=df[['location_id','transaction_dt','transaction_id','rewards_label','division_id','department_id','store_label']].drop_duplicates()\n",
    "    df_trans=df_trans.groupby(['division_id','department_id','rewards_label','store_label'])['transaction_id'].count().to_frame().reset_index()\n",
    "    df=pd.merge(df_sales,df_trans,on=['division_id','department_id','rewards_label','store_label'],how=\"outer\")\n",
    "    \n",
    "    df['week_end_dt']=week_end_dt\n",
    "    df=df.rename(columns={\"item_transaction_amt\":\"sales\",\"transaction_id\":\"trans\"})\n",
    "    df_2019=df_2019.append(df)\n",
    "    print(week_end_dt,datetime.datetime.now())\n",
    "    "
   ]
  },
  {
   "cell_type": "code",
   "execution_count": 6,
   "metadata": {},
   "outputs": [
    {
     "name": "stdout",
     "output_type": "stream",
     "text": [
      "df_2019.shape (2129, 7)\n",
      "df_2020.shape (2180, 7)\n"
     ]
    }
   ],
   "source": [
    "print(\"df_2019.shape\",df_2019.shape)\n",
    "print(\"df_2020.shape\",df_2020.shape)\n",
    "\n",
    "df_2019['division_id']=df_2019['division_id'].astype(int)\n",
    "df_2020['division_id']=df_2020['division_id'].astype(int)\n",
    "df_2019['department_id']=df_2019['department_id'].astype(int)\n",
    "df_2020['department_id']=df_2020['department_id'].astype(int)\n",
    "\n",
    "df_2019=df_2019.sort_values(['division_id','department_id','rewards_label','store_label'])\n",
    "df_2020=df_2020.sort_values(['division_id','department_id','rewards_label','store_label'])\n"
   ]
  },
  {
   "cell_type": "code",
   "execution_count": 7,
   "metadata": {},
   "outputs": [],
   "source": [
    "df_2019_wide=df_2019.pivot_table(index=['division_id','department_id','rewards_label','store_label'],columns=\"week_end_dt\",values=\"sales\").reset_index()\n",
    "df_2020_wide=df_2020.pivot_table(index=['division_id','department_id','rewards_label','store_label'],columns=\"week_end_dt\",values=\"sales\").reset_index()\n",
    "df_2019_wide.insert(0,'year',\"2019\")\n",
    "df_2020_wide.insert(0,'year',\"2020\")"
   ]
  },
  {
   "cell_type": "code",
   "execution_count": 8,
   "metadata": {},
   "outputs": [],
   "source": [
    "for col in df_2019_wide.columns.tolist():\n",
    "    if \"-\" in col:\n",
    "        df_2019_wide[col]=df_2019_wide[col].fillna(0)\n",
    "        \n",
    "for col in df_2020_wide.columns.tolist():\n",
    "    if \"-\" in col:\n",
    "        df_2020_wide[col]=df_2020_wide[col].fillna(0)"
   ]
  },
  {
   "cell_type": "code",
   "execution_count": 9,
   "metadata": {},
   "outputs": [],
   "source": [
    "division_name=pd.read_table(\"/mnt/clients/juba/hqjubaapp02/sharefolder/biglots_data/static_files/MediaStorm Data Extract - Division Names.txt\",sep=\"|\")\n",
    "department_name=pd.read_table(\"/mnt/clients/juba/hqjubaapp02/sharefolder/biglots_data/static_files/MediaStorm Data Extract - Department Names.txt\",sep=\"|\")\n"
   ]
  },
  {
   "cell_type": "code",
   "execution_count": 10,
   "metadata": {},
   "outputs": [],
   "source": [
    "writer=pd.ExcelWriter(\"./BL_sales_by_department_week_JL_\"+str(datetime.datetime.now().date())+\".xlsx\",engine=\"xlsxwriter\")\n",
    "df_2019_wide.to_excel(writer,\"2019_wide_all\",index=False)\n",
    "df_2020_wide.to_excel(writer,\"2020_wide_all\",index=False)\n",
    "division_name.to_excel(writer,\"division_name\",index=False)\n",
    "department_name.to_excel(writer,\"department_name\",index=False)\n",
    "df_2019.to_excel(writer,\"2019_long_all\",index=False)\n",
    "df_2020.to_excel(writer,\"2020_long_all\",index=False)\n",
    "for comb,group in df_2019_wide.groupby(['rewards_label','store_label']):\n",
    "    year=group['year'].unique().tolist()[0]\n",
    "    tab_name=\"_\".join(comb)+\"_\"+year\n",
    "    group.to_excel(writer,tab_name,index=False)\n",
    "    \n",
    "for comb,group in df_2020_wide.groupby(['rewards_label','store_label']):\n",
    "    year=group['year'].unique().tolist()[0]\n",
    "    tab_name=\"_\".join(comb)+\"_\"+year\n",
    "    group.to_excel(writer,tab_name,index=False)\n",
    "writer.save()"
   ]
  },
  {
   "cell_type": "code",
   "execution_count": null,
   "metadata": {},
   "outputs": [],
   "source": []
  }
 ],
 "metadata": {
  "kernelspec": {
   "display_name": "Python 3",
   "language": "python",
   "name": "python3"
  },
  "language_info": {
   "codemirror_mode": {
    "name": "ipython",
    "version": 3
   },
   "file_extension": ".py",
   "mimetype": "text/x-python",
   "name": "python",
   "nbconvert_exporter": "python",
   "pygments_lexer": "ipython3",
   "version": "3.7.6"
  }
 },
 "nbformat": 4,
 "nbformat_minor": 2
}
