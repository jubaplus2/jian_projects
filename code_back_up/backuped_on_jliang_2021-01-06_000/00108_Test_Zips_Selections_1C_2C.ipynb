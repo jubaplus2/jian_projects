{
 "cells": [
  {
   "cell_type": "code",
   "execution_count": 19,
   "metadata": {
    "collapsed": true
   },
   "outputs": [],
   "source": [
    "import pandas as pd\n",
    "import haversine\n",
    "import json\n",
    "import numpy as np"
   ]
  },
  {
   "cell_type": "code",
   "execution_count": 20,
   "metadata": {
    "collapsed": true
   },
   "outputs": [],
   "source": [
    "zip_by_store=pd.read_csv(\"/home/jian/Projects/Big_Lots/New_TA/sales_by_zip_by_store_0330.csv\",dtype=str)\n",
    "zip_by_store=zip_by_store[['location_id','zip','revenue_flag']]"
   ]
  },
  {
   "cell_type": "code",
   "execution_count": 21,
   "metadata": {
    "collapsed": true
   },
   "outputs": [],
   "source": [
    "zips_1C_2C=pd.read_excel(\"/home/jian/Projects/Big_Lots/Newspaper/Test_Zips/Store_List_in_1C_2C.xlsx\",dtype=str)"
   ]
  },
  {
   "cell_type": "code",
   "execution_count": 22,
   "metadata": {},
   "outputs": [
    {
     "data": {
      "text/html": [
       "<div>\n",
       "<style>\n",
       "    .dataframe thead tr:only-child th {\n",
       "        text-align: right;\n",
       "    }\n",
       "\n",
       "    .dataframe thead th {\n",
       "        text-align: left;\n",
       "    }\n",
       "\n",
       "    .dataframe tbody tr th {\n",
       "        vertical-align: top;\n",
       "    }\n",
       "</style>\n",
       "<table border=\"1\" class=\"dataframe\">\n",
       "  <thead>\n",
       "    <tr style=\"text-align: right;\">\n",
       "      <th></th>\n",
       "      <th>location_id</th>\n",
       "      <th>location_desc</th>\n",
       "      <th>open_dt</th>\n",
       "      <th>address_line_1</th>\n",
       "      <th>address_line_2</th>\n",
       "      <th>city_nm</th>\n",
       "      <th>state_nm</th>\n",
       "      <th>zip_cd</th>\n",
       "      <th>longitude_meas</th>\n",
       "      <th>latitude_meas</th>\n",
       "    </tr>\n",
       "  </thead>\n",
       "  <tbody>\n",
       "    <tr>\n",
       "      <th>0</th>\n",
       "      <td>3</td>\n",
       "      <td>PEACH ORCHARD PLAZA</td>\n",
       "      <td>1988-10-31</td>\n",
       "      <td>2708 PEACH ORCHARD RD</td>\n",
       "      <td>NaN</td>\n",
       "      <td>AUGUSTA</td>\n",
       "      <td>GA</td>\n",
       "      <td>30906-2408</td>\n",
       "      <td>-000000000082.018921</td>\n",
       "      <td>000000000033.421570</td>\n",
       "    </tr>\n",
       "    <tr>\n",
       "      <th>1</th>\n",
       "      <td>30</td>\n",
       "      <td>SOUTHWOOD PLZ S/C</td>\n",
       "      <td>1984-04-05</td>\n",
       "      <td>818 S MAIN ST</td>\n",
       "      <td>NaN</td>\n",
       "      <td>BOWLING GREEN</td>\n",
       "      <td>OH</td>\n",
       "      <td>43402-4601</td>\n",
       "      <td>-000000000083.650909</td>\n",
       "      <td>000000000041.363132</td>\n",
       "    </tr>\n",
       "  </tbody>\n",
       "</table>\n",
       "</div>"
      ],
      "text/plain": [
       "  location_id        location_desc     open_dt         address_line_1  \\\n",
       "0           3  PEACH ORCHARD PLAZA  1988-10-31  2708 PEACH ORCHARD RD   \n",
       "1          30    SOUTHWOOD PLZ S/C  1984-04-05          818 S MAIN ST   \n",
       "\n",
       "  address_line_2        city_nm state_nm      zip_cd        longitude_meas  \\\n",
       "0            NaN        AUGUSTA       GA  30906-2408  -000000000082.018921   \n",
       "1            NaN  BOWLING GREEN       OH  43402-4601  -000000000083.650909   \n",
       "\n",
       "          latitude_meas  \n",
       "0   000000000033.421570  \n",
       "1   000000000041.363132  "
      ]
     },
     "execution_count": 22,
     "metadata": {},
     "output_type": "execute_result"
    }
   ],
   "source": [
    "store_list_1=pd.read_table(\"/home/jian/BiglotsCode/OtherInput/MediaStormStoreList_Nov15.txt\",dtype=str,sep=\"|\")\n",
    "store_list_1.head(2)"
   ]
  },
  {
   "cell_type": "code",
   "execution_count": 23,
   "metadata": {
    "collapsed": true
   },
   "outputs": [],
   "source": [
    "store_list_1=pd.read_table(\"/home/jian/BiglotsCode/OtherInput/MediaStormStoreList_Nov15.txt\",dtype=str,sep=\"|\")\n",
    "store_list_2=pd.read_table(\"/home/jian/BiglotsCode/OtherInput/MediaStormStores_20180703.txt\",dtype=str,sep=\"|\")\n",
    "store_list_1['store_zip']=store_list_1['zip_cd'].apply(lambda x: x.split(\"-\")[0].zfill(5))\n",
    "store_list_2['store_zip']=store_list_2['zip_cd'].apply(lambda x: x.split(\"-\")[0].zfill(5))\n",
    "\n",
    "store_list_1=store_list_1[['location_id','store_zip','longitude_meas','latitude_meas']]\n",
    "store_list_2=store_list_2[['location_id','store_zip','longitude_meas','latitude_meas']]\n",
    "store_list_1=store_list_1[~store_list_1['location_id'].isin(store_list_2['location_id'])]\n",
    "store_list=store_list_2.append(store_list_1)\n",
    "store_list=store_list[store_list['location_id']!=\"6990\"]\n",
    "store_list=store_list[store_list['location_id']!=\"145\"]\n",
    "\n",
    "\n",
    "store_list['latitude_meas']=store_list['latitude_meas'].astype(float)\n",
    "store_list['longitude_meas']=store_list['longitude_meas'].astype(float)\n",
    "\n",
    "zip_centers=json.load(open(\"/home/jian/Docs/Geo_mapping/center_of_rentrak_zip.json\",\"r\"))"
   ]
  },
  {
   "cell_type": "code",
   "execution_count": 24,
   "metadata": {
    "collapsed": true
   },
   "outputs": [],
   "source": [
    "df_1C=store_list[store_list['location_id'].isin(zips_1C_2C['1C'])]\n",
    "df_2C=store_list[store_list['location_id'].isin(zips_1C_2C['2C'])]"
   ]
  },
  {
   "cell_type": "code",
   "execution_count": 25,
   "metadata": {
    "collapsed": true
   },
   "outputs": [],
   "source": [
    "def merge_zip_selection(df):\n",
    "    df=pd.merge(df,zip_by_store,on=\"location_id\",how=\"left\")\n",
    "    df=df[df['revenue_flag'].isin([\"P\",\"S\"])]\n",
    "    df['distance']=np.nan\n",
    "    df=df.reset_index()\n",
    "    del df['index']\n",
    "    for i in range(len(df)):\n",
    "        store_loc=(df['latitude_meas'][i],df['longitude_meas'][i])\n",
    "        try:\n",
    "            df['distance'][i]=round(haversine.haversine(store_loc,zip_centers[df['zip'][i]],miles=True),4)\n",
    "        except:\n",
    "            df['distance'][i]=\"NA\"\n",
    "            print(df['zip'][i])\n",
    "            \n",
    "        \n",
    "    return df"
   ]
  },
  {
   "cell_type": "code",
   "execution_count": 26,
   "metadata": {},
   "outputs": [
    {
     "name": "stderr",
     "output_type": "stream",
     "text": [
      "/usr/local/lib/python3.6/site-packages/ipykernel_launcher.py:10: SettingWithCopyWarning: \n",
      "A value is trying to be set on a copy of a slice from a DataFrame\n",
      "\n",
      "See the caveats in the documentation: http://pandas.pydata.org/pandas-docs/stable/indexing.html#indexing-view-versus-copy\n",
      "  # Remove the CWD from sys.path while we load stuff.\n",
      "/usr/local/lib/python3.6/site-packages/ipykernel_launcher.py:12: SettingWithCopyWarning: \n",
      "A value is trying to be set on a copy of a slice from a DataFrame\n",
      "\n",
      "See the caveats in the documentation: http://pandas.pydata.org/pandas-docs/stable/indexing.html#indexing-view-versus-copy\n",
      "  if sys.path[0] == '':\n",
      "/usr/local/lib/python3.6/site-packages/pandas/core/indexing.py:179: SettingWithCopyWarning: \n",
      "A value is trying to be set on a copy of a slice from a DataFrame\n",
      "\n",
      "See the caveats in the documentation: http://pandas.pydata.org/pandas-docs/stable/indexing.html#indexing-view-versus-copy\n",
      "  self._setitem_with_indexer(indexer, value)\n"
     ]
    },
    {
     "name": "stdout",
     "output_type": "stream",
     "text": [
      "70707\n",
      "70879\n",
      "59022\n",
      "85553\n",
      "85554\n"
     ]
    }
   ],
   "source": [
    "df_1C_output=merge_zip_selection(df_1C)\n",
    "df_1C_output=df_1C_output.sort_values(['location_id','revenue_flag'])\n",
    "del df_1C_output['longitude_meas']\n",
    "del df_1C_output['latitude_meas']"
   ]
  },
  {
   "cell_type": "code",
   "execution_count": 27,
   "metadata": {},
   "outputs": [
    {
     "name": "stderr",
     "output_type": "stream",
     "text": [
      "/usr/local/lib/python3.6/site-packages/ipykernel_launcher.py:10: SettingWithCopyWarning: \n",
      "A value is trying to be set on a copy of a slice from a DataFrame\n",
      "\n",
      "See the caveats in the documentation: http://pandas.pydata.org/pandas-docs/stable/indexing.html#indexing-view-versus-copy\n",
      "  # Remove the CWD from sys.path while we load stuff.\n",
      "/usr/local/lib/python3.6/site-packages/ipykernel_launcher.py:12: SettingWithCopyWarning: \n",
      "A value is trying to be set on a copy of a slice from a DataFrame\n",
      "\n",
      "See the caveats in the documentation: http://pandas.pydata.org/pandas-docs/stable/indexing.html#indexing-view-versus-copy\n",
      "  if sys.path[0] == '':\n",
      "/usr/local/lib/python3.6/site-packages/pandas/core/indexing.py:179: SettingWithCopyWarning: \n",
      "A value is trying to be set on a copy of a slice from a DataFrame\n",
      "\n",
      "See the caveats in the documentation: http://pandas.pydata.org/pandas-docs/stable/indexing.html#indexing-view-versus-copy\n",
      "  self._setitem_with_indexer(indexer, value)\n"
     ]
    },
    {
     "name": "stdout",
     "output_type": "stream",
     "text": [
      "22402\n",
      "61425\n",
      "86515\n",
      "87375\n",
      "87327\n",
      "86504\n",
      "87325\n",
      "86503\n",
      "87311\n",
      "87313\n",
      "86505\n",
      "87319\n",
      "86511\n",
      "87328\n",
      "86512\n",
      "87326\n",
      "87321\n",
      "86510\n",
      "85269\n"
     ]
    }
   ],
   "source": [
    "df_2C_output=merge_zip_selection(df_2C)\n",
    "df_2C_output=df_2C_output.sort_values(['location_id','revenue_flag'])\n",
    "del df_2C_output['longitude_meas']\n",
    "del df_2C_output['latitude_meas']"
   ]
  },
  {
   "cell_type": "code",
   "execution_count": 28,
   "metadata": {},
   "outputs": [],
   "source": [
    "df_1C_P=df_1C_output[df_1C_output['revenue_flag']=='P']['zip'].unique().tolist()\n",
    "df_1C_S=df_1C_output[df_1C_output['revenue_flag']=='S']['zip'].unique().tolist()\n",
    "df_1C_S=[x for x in df_1C_S if x not in df_1C_P]\n",
    "\n",
    "df_2C_P=df_2C_output[df_2C_output['revenue_flag']=='P']['zip'].unique().tolist()\n",
    "df_2C_S=df_2C_output[df_2C_output['revenue_flag']=='S']['zip'].unique().tolist()\n",
    "df_2C_S=[x for x in df_2C_S if x not in df_2C_P]"
   ]
  },
  {
   "cell_type": "code",
   "execution_count": 29,
   "metadata": {},
   "outputs": [],
   "source": [
    "if len(df_1C_P)>len(df_1C_S):\n",
    "    df_1C_S=df_1C_S+[np.nan]*(len(df_1C_P)-len(df_1C_S))\n",
    "else:\n",
    "    df_1C_P=df_1C_P+[np.nan]*(len(df_1C_S)-len(df_1C_P))\n",
    "dedup_1C=pd.DataFrame({\"1C_P_zips\":df_1C_P,\"1C_S_zips\":df_1C_S},index=range(max(len(df_1C_P),len(df_1C_S))))"
   ]
  },
  {
   "cell_type": "code",
   "execution_count": 30,
   "metadata": {},
   "outputs": [],
   "source": [
    "if len(df_2C_P)>len(df_2C_S):\n",
    "    df_2C_S=df_2C_S+[np.nan]*(len(df_2C_P)-len(df_2C_S))\n",
    "else:\n",
    "    df_2C_P=df_2C_P+[np.nan]*(len(df_2C_S)-len(df_2C_P))\n",
    "dedup_2C=pd.DataFrame({\"2C_P_zips\":df_2C_P,\"2C_S_zips\":df_2C_S},index=range(max(len(df_2C_P),len(df_2C_S))))"
   ]
  },
  {
   "cell_type": "code",
   "execution_count": 31,
   "metadata": {
    "collapsed": true
   },
   "outputs": [],
   "source": [
    "writer=pd.ExcelWriter(\"/home/jian/Projects/Big_Lots/Newspaper/Test_Zips/BL_Targeting_Zips_For_1C_2C_Stores_JL_20180801.xlsx\",engine=\"xlsxwriter\")\n",
    "dedup_1C.to_excel(writer,\"dedup_1C\",index=False)\n",
    "dedup_2C.to_excel(writer,\"dedup_2C\",index=False)\n",
    "df_1C_output.to_excel(writer,\"1C\",index=False)\n",
    "df_2C_output.to_excel(writer,\"2C\",index=False)\n",
    "writer.save()"
   ]
  },
  {
   "cell_type": "code",
   "execution_count": 32,
   "metadata": {},
   "outputs": [
    {
     "data": {
      "text/html": [
       "<div>\n",
       "<style>\n",
       "    .dataframe thead tr:only-child th {\n",
       "        text-align: right;\n",
       "    }\n",
       "\n",
       "    .dataframe thead th {\n",
       "        text-align: left;\n",
       "    }\n",
       "\n",
       "    .dataframe tbody tr th {\n",
       "        vertical-align: top;\n",
       "    }\n",
       "</style>\n",
       "<table border=\"1\" class=\"dataframe\">\n",
       "  <thead>\n",
       "    <tr style=\"text-align: right;\">\n",
       "      <th></th>\n",
       "      <th>1C_P_zips</th>\n",
       "      <th>1C_S_zips</th>\n",
       "    </tr>\n",
       "  </thead>\n",
       "  <tbody>\n",
       "    <tr>\n",
       "      <th>0</th>\n",
       "      <td>30014</td>\n",
       "      <td>30025</td>\n",
       "    </tr>\n",
       "    <tr>\n",
       "      <th>1</th>\n",
       "      <td>30016</td>\n",
       "      <td>31064</td>\n",
       "    </tr>\n",
       "  </tbody>\n",
       "</table>\n",
       "</div>"
      ],
      "text/plain": [
       "  1C_P_zips 1C_S_zips\n",
       "0     30014     30025\n",
       "1     30016     31064"
      ]
     },
     "execution_count": 32,
     "metadata": {},
     "output_type": "execute_result"
    }
   ],
   "source": [
    "dedup_1C.head(2)"
   ]
  },
  {
   "cell_type": "code",
   "execution_count": null,
   "metadata": {
    "collapsed": true
   },
   "outputs": [],
   "source": []
  }
 ],
 "metadata": {
  "kernelspec": {
   "display_name": "Python 3",
   "language": "python",
   "name": "python3"
  },
  "language_info": {
   "codemirror_mode": {
    "name": "ipython",
    "version": 3
   },
   "file_extension": ".py",
   "mimetype": "text/x-python",
   "name": "python",
   "nbconvert_exporter": "python",
   "pygments_lexer": "ipython3",
   "version": "3.6.1"
  }
 },
 "nbformat": 4,
 "nbformat_minor": 2
}
