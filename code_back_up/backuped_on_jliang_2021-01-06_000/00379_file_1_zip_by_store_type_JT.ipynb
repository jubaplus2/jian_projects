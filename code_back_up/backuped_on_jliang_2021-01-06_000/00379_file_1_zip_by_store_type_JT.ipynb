{
 "cells": [
  {
   "cell_type": "code",
   "execution_count": 1,
   "metadata": {},
   "outputs": [],
   "source": [
    "import pandas as pd\n",
    "import numpy as np\n",
    "import os\n",
    "import datetime"
   ]
  },
  {
   "cell_type": "code",
   "execution_count": 2,
   "metadata": {},
   "outputs": [],
   "source": [
    "path_excel_ta=\"/home/jian/Projects/Big_Lots/New_TA/package_to_run_TA_every_quarter/output_2020-07-22/BL_final_TA_updated_JL_2020-07-22.xlsx\"\n",
    "path_SOTF_dom=\"/home/jian/BigLots/static_files/store_list_from_Dom/Store List Report 07.10.20 425PM.xlsx\"\n"
   ]
  },
  {
   "cell_type": "code",
   "execution_count": 3,
   "metadata": {},
   "outputs": [
    {
     "data": {
      "text/plain": [
       "['unique_zips_full_footprint',\n",
       " 'view_by_TA',\n",
       " 'view_by_store',\n",
       " 'view_for_Tableau']"
      ]
     },
     "execution_count": 3,
     "metadata": {},
     "output_type": "execute_result"
    }
   ],
   "source": [
    "excel=pd.ExcelFile(path_excel_ta)\n",
    "excel.sheet_names"
   ]
  },
  {
   "cell_type": "code",
   "execution_count": 4,
   "metadata": {},
   "outputs": [
    {
     "data": {
      "text/html": [
       "<div>\n",
       "<style scoped>\n",
       "    .dataframe tbody tr th:only-of-type {\n",
       "        vertical-align: middle;\n",
       "    }\n",
       "\n",
       "    .dataframe tbody tr th {\n",
       "        vertical-align: top;\n",
       "    }\n",
       "\n",
       "    .dataframe thead th {\n",
       "        text-align: right;\n",
       "    }\n",
       "</style>\n",
       "<table border=\"1\" class=\"dataframe\">\n",
       "  <thead>\n",
       "    <tr style=\"text-align: right;\">\n",
       "      <th></th>\n",
       "      <th>TA_num</th>\n",
       "      <th>location_id</th>\n",
       "      <th>ta_name</th>\n",
       "      <th>zip_cd</th>\n",
       "      <th>zip_type</th>\n",
       "      <th>latitude_meas</th>\n",
       "      <th>longitude_meas</th>\n",
       "    </tr>\n",
       "  </thead>\n",
       "  <tbody>\n",
       "    <tr>\n",
       "      <th>0</th>\n",
       "      <td>1</td>\n",
       "      <td>4526</td>\n",
       "      <td>multiple_1</td>\n",
       "      <td>76248</td>\n",
       "      <td>trans_P</td>\n",
       "      <td>32.933601</td>\n",
       "      <td>-97.217728</td>\n",
       "    </tr>\n",
       "    <tr>\n",
       "      <th>1</th>\n",
       "      <td>1</td>\n",
       "      <td>4526</td>\n",
       "      <td>multiple_1</td>\n",
       "      <td>76244</td>\n",
       "      <td>trans_P</td>\n",
       "      <td>32.933601</td>\n",
       "      <td>-97.217728</td>\n",
       "    </tr>\n",
       "    <tr>\n",
       "      <th>2</th>\n",
       "      <td>1</td>\n",
       "      <td>4526</td>\n",
       "      <td>multiple_1</td>\n",
       "      <td>76182</td>\n",
       "      <td>trans_S</td>\n",
       "      <td>32.933601</td>\n",
       "      <td>-97.217728</td>\n",
       "    </tr>\n",
       "    <tr>\n",
       "      <th>3</th>\n",
       "      <td>1</td>\n",
       "      <td>4526</td>\n",
       "      <td>multiple_1</td>\n",
       "      <td>76034</td>\n",
       "      <td>trans_S</td>\n",
       "      <td>32.933601</td>\n",
       "      <td>-97.217728</td>\n",
       "    </tr>\n",
       "    <tr>\n",
       "      <th>4</th>\n",
       "      <td>1</td>\n",
       "      <td>4526</td>\n",
       "      <td>multiple_1</td>\n",
       "      <td>76092</td>\n",
       "      <td>trans_S</td>\n",
       "      <td>32.933601</td>\n",
       "      <td>-97.217728</td>\n",
       "    </tr>\n",
       "  </tbody>\n",
       "</table>\n",
       "</div>"
      ],
      "text/plain": [
       "  TA_num location_id     ta_name zip_cd zip_type latitude_meas longitude_meas\n",
       "0      1        4526  multiple_1  76248  trans_P     32.933601     -97.217728\n",
       "1      1        4526  multiple_1  76244  trans_P     32.933601     -97.217728\n",
       "2      1        4526  multiple_1  76182  trans_S     32.933601     -97.217728\n",
       "3      1        4526  multiple_1  76034  trans_S     32.933601     -97.217728\n",
       "4      1        4526  multiple_1  76092  trans_S     32.933601     -97.217728"
      ]
     },
     "execution_count": 4,
     "metadata": {},
     "output_type": "execute_result"
    }
   ],
   "source": [
    "df_zip_by_store=excel.parse(\"view_for_Tableau\",dtype=str)\n",
    "\n",
    "df_zip_by_store.head(5)"
   ]
  },
  {
   "cell_type": "code",
   "execution_count": 6,
   "metadata": {},
   "outputs": [
    {
     "name": "stdout",
     "output_type": "stream",
     "text": [
      "491 491\n"
     ]
    },
    {
     "data": {
      "text/html": [
       "<div>\n",
       "<style scoped>\n",
       "    .dataframe tbody tr th:only-of-type {\n",
       "        vertical-align: middle;\n",
       "    }\n",
       "\n",
       "    .dataframe tbody tr th {\n",
       "        vertical-align: top;\n",
       "    }\n",
       "\n",
       "    .dataframe thead th {\n",
       "        text-align: right;\n",
       "    }\n",
       "</style>\n",
       "<table border=\"1\" class=\"dataframe\">\n",
       "  <thead>\n",
       "    <tr style=\"text-align: right;\">\n",
       "      <th></th>\n",
       "      <th>location_id</th>\n",
       "      <th>Store_Type</th>\n",
       "    </tr>\n",
       "  </thead>\n",
       "  <tbody>\n",
       "    <tr>\n",
       "      <th>0</th>\n",
       "      <td>1</td>\n",
       "      <td>SOTF</td>\n",
       "    </tr>\n",
       "    <tr>\n",
       "      <th>7</th>\n",
       "      <td>49</td>\n",
       "      <td>SOTF</td>\n",
       "    </tr>\n",
       "  </tbody>\n",
       "</table>\n",
       "</div>"
      ],
      "text/plain": [
       "  location_id Store_Type\n",
       "0           1       SOTF\n",
       "7          49       SOTF"
      ]
     },
     "execution_count": 6,
     "metadata": {},
     "output_type": "execute_result"
    }
   ],
   "source": [
    "df_store_type=pd.ExcelFile(path_SOTF_dom)\n",
    "df_store_type=df_store_type.parse(\"Store List\",dtype=str)\n",
    "df_store_type=df_store_type[[\"Store\",'SOTF']]\n",
    "df_store_type=df_store_type[df_store_type['SOTF'].str.lower()==\"yes\"]\n",
    "df_store_type=df_store_type[df_store_type['Store']!=\"TBD\"]\n",
    "print(len(df_store_type),df_store_type['Store'].nunique())\n",
    "df_store_type=df_store_type.rename(columns={\"Store\":\"location_id\",\"SOTF\":\"Store_Type\"})\n",
    "df_store_type['Store_Type']=\"SOTF\"\n",
    "df_store_type.head(2)"
   ]
  },
  {
   "cell_type": "code",
   "execution_count": 8,
   "metadata": {},
   "outputs": [],
   "source": [
    "df_zip_by_store=pd.merge(df_zip_by_store,df_store_type,on=\"location_id\",how=\"left\")\n",
    "df_zip_by_store['Store_Type']=df_zip_by_store['Store_Type'].fillna(\"Legacy\")"
   ]
  },
  {
   "cell_type": "code",
   "execution_count": 10,
   "metadata": {},
   "outputs": [
    {
     "name": "stdout",
     "output_type": "stream",
     "text": [
      "['trans_P' 'trans_S' 'zips_10']\n"
     ]
    }
   ],
   "source": [
    "print(df_zip_by_store['zip_type'].unique())"
   ]
  },
  {
   "cell_type": "code",
   "execution_count": 12,
   "metadata": {},
   "outputs": [],
   "source": [
    "writer=pd.ExcelWriter(\"./BL_zip_lable_by_store_type_JL_%s.xlsx\"%str(datetime.datetime.now().date()),engine=\"xlsxwriter\")\n",
    "for store_type, df_group in df_zip_by_store.groupby(\"Store_Type\"):\n",
    "    df=df_group[['Store_Type','zip_cd','zip_type']].drop_duplicates()\n",
    "    df['zip_type']=df['zip_type'].replace(\"trans_P\",\"P\").replace(\"trans_S\",\"S\").replace(\"zips_10\",\"P\")\n",
    "    df=df.sort_values([\"zip_cd\",\"zip_type\"]).drop_duplicates(\"zip_cd\")\n",
    "    df.to_excel(writer,store_type,index=False)\n",
    "    "
   ]
  },
  {
   "cell_type": "code",
   "execution_count": 14,
   "metadata": {},
   "outputs": [],
   "source": [
    "df_both_zip_lable=excel.parse(\"unique_zips_full_footprint\",dtype=str)\n",
    "df_both_zip_lable['zip_type']=df_both_zip_lable['zip_type'].replace(\"zips_10\",\"trans_P\")\n",
    "df_both_zip_lable['zip_type']=df_both_zip_lable['zip_type'].apply(lambda x: x.split(\"_\")[1])\n",
    "df_both_zip_lable.to_excel(writer,\"unique_zips_full_footprint\",index=False)\n",
    "writer.save()"
   ]
  },
  {
   "cell_type": "code",
   "execution_count": null,
   "metadata": {},
   "outputs": [],
   "source": []
  }
 ],
 "metadata": {
  "kernelspec": {
   "display_name": "Python 3",
   "language": "python",
   "name": "python3"
  },
  "language_info": {
   "codemirror_mode": {
    "name": "ipython",
    "version": 3
   },
   "file_extension": ".py",
   "mimetype": "text/x-python",
   "name": "python",
   "nbconvert_exporter": "python",
   "pygments_lexer": "ipython3",
   "version": "3.6.1"
  }
 },
 "nbformat": 4,
 "nbformat_minor": 2
}
