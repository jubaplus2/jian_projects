{
 "cells": [
  {
   "cell_type": "code",
   "execution_count": 1,
   "metadata": {},
   "outputs": [
    {
     "data": {
      "text/plain": [
       "'/home/jian/Projects/Big_Lots/Analysis/2019_Q3/Planner_request/Kayla_zips_for_Column_Day_test_20191007'"
      ]
     },
     "execution_count": 1,
     "metadata": {},
     "output_type": "execute_result"
    }
   ],
   "source": [
    "import pandas as pd\n",
    "import numpy as np\n",
    "import os\n",
    "import datetime\n",
    "import json\n",
    "from haversine import haversine\n",
    "zip_centers=json.load(open(\"/home/jian/Docs/Geo_mapping/updated_zip_centers_JL_2019-05-23.json\",\"r\"))\n",
    "os.getcwd()"
   ]
  },
  {
   "cell_type": "code",
   "execution_count": 2,
   "metadata": {},
   "outputs": [
    {
     "data": {
      "text/plain": [
       "30"
      ]
     },
     "execution_count": 2,
     "metadata": {},
     "output_type": "execute_result"
    }
   ],
   "source": [
    "df_stores_test=pd.read_excel(\"/home/jian/Projects/Big_Lots/Analysis/2019_Q3/Planner_request/Kayla_zips_for_Column_Day_test_20191007/BL 2019Q3 Labor Day IVL4 Test SOTF Stores 8.20.19 from BL.xlsx\",\n",
    "                            sheet_name=\"Test\",dtype=str,skiprows=3)\n",
    "list_store_ColumbiaDay_test=df_stores_test['Store#'].unique().tolist()\n",
    "list_store_ColumbiaDay_test=[x for x in list_store_ColumbiaDay_test if x !=\"nan\" ]\n",
    "len(list_store_ColumbiaDay_test)"
   ]
  },
  {
   "cell_type": "code",
   "execution_count": 3,
   "metadata": {},
   "outputs": [
    {
     "data": {
      "text/plain": [
       "['unique_zips_full_footprint',\n",
       " 'view_by_TA',\n",
       " 'view_by_store',\n",
       " 'view_for_Tableau']"
      ]
     },
     "execution_count": 3,
     "metadata": {},
     "output_type": "execute_result"
    }
   ],
   "source": [
    "df_store_zips=pd.ExcelFile(\"/home/jian/Projects/Big_Lots/New_TA/TA_created_in_201906/final_output_20190718/BL_final_TA_updated_JL_2019-07-18.xlsx\")\n",
    "df_store_zips.sheet_names"
   ]
  },
  {
   "cell_type": "code",
   "execution_count": 4,
   "metadata": {},
   "outputs": [
    {
     "data": {
      "text/html": [
       "<div>\n",
       "<style>\n",
       "    .dataframe thead tr:only-child th {\n",
       "        text-align: right;\n",
       "    }\n",
       "\n",
       "    .dataframe thead th {\n",
       "        text-align: left;\n",
       "    }\n",
       "\n",
       "    .dataframe tbody tr th {\n",
       "        vertical-align: top;\n",
       "    }\n",
       "</style>\n",
       "<table border=\"1\" class=\"dataframe\">\n",
       "  <thead>\n",
       "    <tr style=\"text-align: right;\">\n",
       "      <th></th>\n",
       "      <th>TA_num</th>\n",
       "      <th>ta_name</th>\n",
       "      <th>location_id</th>\n",
       "      <th>address_line_1</th>\n",
       "      <th>address_line_2</th>\n",
       "      <th>zip_cd</th>\n",
       "      <th>city_nm</th>\n",
       "      <th>state_nm</th>\n",
       "      <th>latitude_meas</th>\n",
       "      <th>longitude_meas</th>\n",
       "      <th>DMA</th>\n",
       "      <th>CTY</th>\n",
       "      <th>all_trans_P_zips</th>\n",
       "      <th>all_trans_S_zips</th>\n",
       "      <th>zips_in_10</th>\n",
       "      <th>trans_P_zips_70_within_TA</th>\n",
       "      <th>trans_S_zips_70_within_TA</th>\n",
       "    </tr>\n",
       "  </thead>\n",
       "  <tbody>\n",
       "    <tr>\n",
       "      <th>0</th>\n",
       "      <td>1</td>\n",
       "      <td>multiple_1</td>\n",
       "      <td>1949</td>\n",
       "      <td>3178 LAVON DR</td>\n",
       "      <td>nan</td>\n",
       "      <td>75040</td>\n",
       "      <td>GARLAND</td>\n",
       "      <td>TX</td>\n",
       "      <td>32.945015</td>\n",
       "      <td>-96.619194</td>\n",
       "      <td>{'DALLAS-FT. WORTH'}</td>\n",
       "      <td>{'DALLAS'}</td>\n",
       "      <td>['75040', '75044', '75048', '75098']</td>\n",
       "      <td>['75089', '75042', '75043', '75041', '75088', ...</td>\n",
       "      <td>[]</td>\n",
       "      <td>['75040', '75098', '75044', '75048']</td>\n",
       "      <td>['75088', '75042', '75082', '75043', '75089', ...</td>\n",
       "    </tr>\n",
       "    <tr>\n",
       "      <th>1</th>\n",
       "      <td>1</td>\n",
       "      <td>multiple_1</td>\n",
       "      <td>1255</td>\n",
       "      <td>1418 W MOORE AVE</td>\n",
       "      <td>nan</td>\n",
       "      <td>75160</td>\n",
       "      <td>TERRELL</td>\n",
       "      <td>TX</td>\n",
       "      <td>32.738772</td>\n",
       "      <td>-96.299877</td>\n",
       "      <td>{'DALLAS-FT. WORTH'}</td>\n",
       "      <td>{'HUNT', 'KAUFMAN', 'ROCKWALL'}</td>\n",
       "      <td>['75160', '75126', '75161']</td>\n",
       "      <td>['75142', '75169', '75474', '75143', '75114', ...</td>\n",
       "      <td>[]</td>\n",
       "      <td>['75126', '75161', '75160']</td>\n",
       "      <td>['75142', '75169', '75150', '75117', '75143', ...</td>\n",
       "    </tr>\n",
       "  </tbody>\n",
       "</table>\n",
       "</div>"
      ],
      "text/plain": [
       "  TA_num     ta_name location_id    address_line_1 address_line_2 zip_cd  \\\n",
       "0      1  multiple_1        1949     3178 LAVON DR            nan  75040   \n",
       "1      1  multiple_1        1255  1418 W MOORE AVE            nan  75160   \n",
       "\n",
       "   city_nm state_nm latitude_meas longitude_meas                   DMA  \\\n",
       "0  GARLAND       TX     32.945015     -96.619194  {'DALLAS-FT. WORTH'}   \n",
       "1  TERRELL       TX     32.738772     -96.299877  {'DALLAS-FT. WORTH'}   \n",
       "\n",
       "                               CTY                      all_trans_P_zips  \\\n",
       "0                       {'DALLAS'}  ['75040', '75044', '75048', '75098']   \n",
       "1  {'HUNT', 'KAUFMAN', 'ROCKWALL'}           ['75160', '75126', '75161']   \n",
       "\n",
       "                                    all_trans_S_zips zips_in_10  \\\n",
       "0  ['75089', '75042', '75043', '75041', '75088', ...         []   \n",
       "1  ['75142', '75169', '75474', '75143', '75114', ...         []   \n",
       "\n",
       "              trans_P_zips_70_within_TA  \\\n",
       "0  ['75040', '75098', '75044', '75048']   \n",
       "1           ['75126', '75161', '75160']   \n",
       "\n",
       "                           trans_S_zips_70_within_TA  \n",
       "0  ['75088', '75042', '75082', '75043', '75089', ...  \n",
       "1  ['75142', '75169', '75150', '75117', '75143', ...  "
      ]
     },
     "execution_count": 4,
     "metadata": {},
     "output_type": "execute_result"
    }
   ],
   "source": [
    "df_store_zips=df_store_zips.parse(\"view_by_store\",dtype=str)\n",
    "df_store_zips.head(2)"
   ]
  },
  {
   "cell_type": "code",
   "execution_count": 5,
   "metadata": {},
   "outputs": [
    {
     "data": {
      "text/plain": [
       "((30, 17), 30)"
      ]
     },
     "execution_count": 5,
     "metadata": {},
     "output_type": "execute_result"
    }
   ],
   "source": [
    "df_test_stores=df_store_zips[df_store_zips['location_id'].isin(list_store_ColumbiaDay_test)]\n",
    "df_test_stores.shape,df_test_stores['location_id'].nunique()"
   ]
  },
  {
   "cell_type": "code",
   "execution_count": 6,
   "metadata": {},
   "outputs": [
    {
     "data": {
      "text/plain": [
       "array(['[]'], dtype=object)"
      ]
     },
     "execution_count": 6,
     "metadata": {},
     "output_type": "execute_result"
    }
   ],
   "source": [
    "df_test_stores['zips_in_10'].unique()"
   ]
  },
  {
   "cell_type": "code",
   "execution_count": 7,
   "metadata": {},
   "outputs": [],
   "source": [
    "df_CD_test_store_zips=pd.DataFrame()\n",
    "for ind,row in df_test_stores.iterrows():\n",
    "    location_id=row['location_id']\n",
    "    P_zips=eval(row['all_trans_P_zips'])\n",
    "    S_zips=eval(row['all_trans_S_zips'])\n",
    "    # no zips in 10\n",
    "    df_P=pd.DataFrame({\"zip_cd\":P_zips},index=[\"P\"]*len(P_zips))\n",
    "    df_S=pd.DataFrame({\"zip_cd\":S_zips},index=[\"S\"]*len(S_zips))\n",
    "    df_store=df_P.append(df_S)\n",
    "    df_store['location_id']=location_id\n",
    "    df_CD_test_store_zips=df_CD_test_store_zips.append(df_store)\n",
    "\n",
    "df_CD_test_store_zips=df_CD_test_store_zips.reset_index().rename(columns={\"index\":\"trans_flag\"})\n",
    "df_CD_test_store_zips=df_CD_test_store_zips[['location_id','trans_flag','zip_cd']].reset_index()\n",
    "del df_CD_test_store_zips['index']\n",
    "\n",
    "store_center=df_test_stores[[\"location_id\",'zip_cd','latitude_meas','longitude_meas']].rename(columns={\"zip_cd\":\"store_zip\"})\n",
    "df_CD_test_store_zips=pd.merge(df_CD_test_store_zips,store_center,on=\"location_id\",how=\"left\")\n",
    "df_CD_test_store_zips['latitude_meas']=df_CD_test_store_zips['latitude_meas'].astype(float)\n",
    "df_CD_test_store_zips['longitude_meas']=df_CD_test_store_zips['longitude_meas'].astype(float)\n",
    "df_CD_test_store_zips['dist_miles']=df_CD_test_store_zips.apply(lambda x: haversine((x['latitude_meas'],x['longitude_meas']),zip_centers[x['zip_cd']],miles=True),axis=1)\n"
   ]
  },
  {
   "cell_type": "code",
   "execution_count": 8,
   "metadata": {},
   "outputs": [],
   "source": [
    "df_CD_test_store_zips_unique=df_CD_test_store_zips[['zip_cd','trans_flag']].drop_duplicates()\n",
    "df_CD_test_store_zips_unique=df_CD_test_store_zips_unique.sort_values([\"zip_cd\",'trans_flag']).drop_duplicates(\"zip_cd\")\n",
    "df_CD_test_store_zips_unique=df_CD_test_store_zips_unique.sort_values(['trans_flag','zip_cd'])"
   ]
  },
  {
   "cell_type": "code",
   "execution_count": 9,
   "metadata": {},
   "outputs": [
    {
     "data": {
      "text/plain": [
       "(11878, 2)"
      ]
     },
     "execution_count": 9,
     "metadata": {},
     "output_type": "execute_result"
    }
   ],
   "source": [
    "# From Kaylar with removing some stores ealiers by me\n",
    "whole_us=pd.ExcelFile(\"./Q3 National Footprint_Less NonMoving Stores.xlsx\")\n",
    "whole_us=whole_us.parse('New Full Footprint - National',dtype=str)\n",
    "whole_us.shape"
   ]
  },
  {
   "cell_type": "code",
   "execution_count": 11,
   "metadata": {},
   "outputs": [],
   "source": [
    "rest_us=whole_us[~whole_us['zip_cd'].isin(df_CD_test_store_zips_unique['zip_cd'].tolist())]"
   ]
  },
  {
   "cell_type": "code",
   "execution_count": 14,
   "metadata": {},
   "outputs": [],
   "source": [
    "writer=pd.ExcelWriter(\"./BL_zips_for_ColumbiaDayTest_JL_\"+str(datetime.datetime.now().date())+\".xlsx\",engine=\"xlsxwriter\")\n",
    "df_CD_test_store_zips_unique.to_excel(writer,\"ColumbiaDay_TestZip\",index=False)\n",
    "rest_us.to_excel(writer,\"balance\",index=False)\n",
    "whole_us.to_excel(writer,\"full_footprint\",index=False)\n",
    "df_CD_test_store_zips.to_excel(writer,\"Test_Zip_by_Store\",index=False)\n",
    "df_test_stores.to_excel(writer,\"ColumbiaDay_stores\",index=False)\n",
    "writer.save()"
   ]
  },
  {
   "cell_type": "code",
   "execution_count": null,
   "metadata": {
    "collapsed": true
   },
   "outputs": [],
   "source": []
  }
 ],
 "metadata": {
  "kernelspec": {
   "display_name": "Python 3",
   "language": "python",
   "name": "python3"
  },
  "language_info": {
   "codemirror_mode": {
    "name": "ipython",
    "version": 3
   },
   "file_extension": ".py",
   "mimetype": "text/x-python",
   "name": "python",
   "nbconvert_exporter": "python",
   "pygments_lexer": "ipython3",
   "version": "3.6.1"
  }
 },
 "nbformat": 4,
 "nbformat_minor": 2
}
