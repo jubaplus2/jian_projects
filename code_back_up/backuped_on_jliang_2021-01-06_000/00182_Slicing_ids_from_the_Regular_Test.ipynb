{
 "cells": [
  {
   "cell_type": "code",
   "execution_count": 1,
   "metadata": {},
   "outputs": [
    {
     "name": "stdout",
     "output_type": "stream",
     "text": [
      "2019-10-17 13:57:32.521423\n"
     ]
    },
    {
     "data": {
      "text/plain": [
       "'/home/jian/Projects/Big_Lots/Analysis/2019_Q3/Slice_ids_FB_Rewards_offers'"
      ]
     },
     "execution_count": 1,
     "metadata": {},
     "output_type": "execute_result"
    }
   ],
   "source": [
    "import pandas as pd\n",
    "import numpy as np\n",
    "import datetime\n",
    "import os\n",
    "import numpy as np\n",
    "import glob\n",
    "import gc\n",
    "print(datetime.datetime.now())\n",
    "os.getcwd()"
   ]
  },
  {
   "cell_type": "code",
   "execution_count": 2,
   "metadata": {},
   "outputs": [
    {
     "name": "stdout",
     "output_type": "stream",
     "text": [
      "50\n"
     ]
    }
   ],
   "source": [
    "files_Q3_audience_uploaded=glob.glob(\"/home/jian/Projects/Big_Lots/Live_Ramp/Quarterly_Update_2019Q3/upload_files/*.csv\")\n",
    "print(len(files_Q3_audience_uploaded))"
   ]
  },
  {
   "cell_type": "code",
   "execution_count": 3,
   "metadata": {},
   "outputs": [
    {
     "name": "stdout",
     "output_type": "stream",
     "text": [
      "25\n"
     ]
    }
   ],
   "source": [
    "files_control_regular=[x for x in files_Q3_audience_uploaded if os.path.basename(x)[:2]==\"C_\"]\n",
    "print(len(files_control_regular))\n",
    "list_dfs=[]\n",
    "for file in files_control_regular:\n",
    "    df=pd.read_csv(file,dtype=str)\n",
    "    list_dfs.append(df)\n",
    "df_all_Q3_control=pd.concat(list_dfs)"
   ]
  },
  {
   "cell_type": "code",
   "execution_count": 4,
   "metadata": {},
   "outputs": [
    {
     "name": "stdout",
     "output_type": "stream",
     "text": [
      "(542702, 3)\n"
     ]
    },
    {
     "data": {
      "text/html": [
       "<div>\n",
       "<style>\n",
       "    .dataframe thead tr:only-child th {\n",
       "        text-align: right;\n",
       "    }\n",
       "\n",
       "    .dataframe thead th {\n",
       "        text-align: left;\n",
       "    }\n",
       "\n",
       "    .dataframe tbody tr th {\n",
       "        vertical-align: top;\n",
       "    }\n",
       "</style>\n",
       "<table border=\"1\" class=\"dataframe\">\n",
       "  <thead>\n",
       "    <tr style=\"text-align: right;\">\n",
       "      <th></th>\n",
       "      <th>customer_id_hashed</th>\n",
       "      <th>email_address_hash</th>\n",
       "      <th>segment</th>\n",
       "    </tr>\n",
       "  </thead>\n",
       "  <tbody>\n",
       "    <tr>\n",
       "      <th>0</th>\n",
       "      <td>8679c14bdd15650f9778cce34e009f334471e5c28499f8...</td>\n",
       "      <td>b1b635b4fdde83bc119badacf451de238a789da94e57b1...</td>\n",
       "      <td>C_Quadrant III_P_H_2019Q3_RFM</td>\n",
       "    </tr>\n",
       "    <tr>\n",
       "      <th>1</th>\n",
       "      <td>7e2af687c741f9a48249c83815e51bfcff4c2909954e40...</td>\n",
       "      <td>9215f3daaedc6c4c86393bb3422dd1a24ff063e7b7cacc...</td>\n",
       "      <td>C_Quadrant III_P_H_2019Q3_RFM</td>\n",
       "    </tr>\n",
       "    <tr>\n",
       "      <th>2</th>\n",
       "      <td>ba0ecd1d9b58f20207e939a13578134fb528ea1dcf7ba1...</td>\n",
       "      <td>4ae4a97859e8908afe21171d0eecfc07bb0934d78a9b7b...</td>\n",
       "      <td>C_Quadrant III_P_H_2019Q3_RFM</td>\n",
       "    </tr>\n",
       "  </tbody>\n",
       "</table>\n",
       "</div>"
      ],
      "text/plain": [
       "                                  customer_id_hashed  \\\n",
       "0  8679c14bdd15650f9778cce34e009f334471e5c28499f8...   \n",
       "1  7e2af687c741f9a48249c83815e51bfcff4c2909954e40...   \n",
       "2  ba0ecd1d9b58f20207e939a13578134fb528ea1dcf7ba1...   \n",
       "\n",
       "                                  email_address_hash  \\\n",
       "0  b1b635b4fdde83bc119badacf451de238a789da94e57b1...   \n",
       "1  9215f3daaedc6c4c86393bb3422dd1a24ff063e7b7cacc...   \n",
       "2  4ae4a97859e8908afe21171d0eecfc07bb0934d78a9b7b...   \n",
       "\n",
       "                         segment  \n",
       "0  C_Quadrant III_P_H_2019Q3_RFM  \n",
       "1  C_Quadrant III_P_H_2019Q3_RFM  \n",
       "2  C_Quadrant III_P_H_2019Q3_RFM  "
      ]
     },
     "execution_count": 4,
     "metadata": {},
     "output_type": "execute_result"
    }
   ],
   "source": [
    "print(df_all_Q3_control.shape)\n",
    "df_all_Q3_control.head(3)"
   ]
  },
  {
   "cell_type": "code",
   "execution_count": 5,
   "metadata": {},
   "outputs": [
    {
     "name": "stdout",
     "output_type": "stream",
     "text": [
      "2018-10-09\n",
      "2018-04-10\n"
     ]
    }
   ],
   "source": [
    "last_Saturday=datetime.date(2019,10,9)\n",
    "date_1_year_ago=last_Saturday-datetime.timedelta(days=365)\n",
    "print(date_1_year_ago)\n",
    "\n",
    "dates_18_months_ago=last_Saturday-datetime.timedelta(days=365*1.5)\n",
    "print(dates_18_months_ago)"
   ]
  },
  {
   "cell_type": "code",
   "execution_count": 6,
   "metadata": {
    "collapsed": true
   },
   "outputs": [],
   "source": [
    "def recursive_file_gen(root_path):\n",
    "    for root, dirs, files in os.walk(root_path):\n",
    "        for file in files:\n",
    "            yield os.path.join(root,file)"
   ]
  },
  {
   "cell_type": "markdown",
   "metadata": {},
   "source": [
    "# Shoppers_in_18_months"
   ]
  },
  {
   "cell_type": "code",
   "execution_count": 7,
   "metadata": {
    "collapsed": true
   },
   "outputs": [],
   "source": [
    "All_item_sales_files=list(recursive_file_gen(\"/home/jian/BigLots/\"))\n",
    "All_item_sales_files=[x for x in All_item_sales_files if \"2019\" in x or \"2018\" in x]\n",
    "All_item_sales_files=[x for x in All_item_sales_files if \"2017\" not in x]\n",
    "All_item_sales_files=[x for x in All_item_sales_files if \"subclasslevel\" not in x]\n",
    "All_item_sales_files=[x for x in All_item_sales_files if \"daily\" in x.lower() and x[-4:]==\".txt\"]\n",
    "All_item_sales_files.sort()\n",
    "len(All_item_sales_files)\n",
    "\n",
    "All_item_sales_files_18=[]\n",
    "for file in All_item_sales_files:\n",
    "    if \"item_transaction_amt\" in pd.read_table(file,dtype=str,nrows=5,sep=\"|\").columns.tolist():\n",
    "        All_item_sales_files_18.append(file)\n",
    "All_item_sales_files_18.sort()   \n",
    "\n",
    "# Since 20180811"
   ]
  },
  {
   "cell_type": "code",
   "execution_count": 8,
   "metadata": {},
   "outputs": [
    {
     "name": "stdout",
     "output_type": "stream",
     "text": [
      "9\n",
      "8\n",
      "17\n"
     ]
    }
   ],
   "source": [
    "All_sub_sales_files_1=list(recursive_file_gen(\"/home/jian/BigLots/hist_daily_data_subclasslevel/\"))\n",
    "All_sub_sales_files_1=[x for x in All_sub_sales_files_1 if x.split(\"MediaStormDailySales_week_ending_\")[1][:10]<\"2018-08-11\"]\n",
    "All_sub_sales_files_1=[x for x in All_sub_sales_files_1 if x.split(\"MediaStormDailySales_week_ending_\")[1][:10]>=str(dates_18_months_ago)]\n",
    "All_sub_sales_files_1=[x for x in All_sub_sales_files_1 if \"daily\" in x.lower() and x[-4:]==\".txt\"]\n",
    "All_sub_sales_files_1.sort()\n",
    "print(len(All_sub_sales_files_1))\n",
    "\n",
    "All_sub_sales_files_2=list(recursive_file_gen(\"/home/jian/BigLots/2018_by_weeks/\"))\n",
    "All_sub_sales_files_2=[x for x in All_sub_sales_files_2 if \"daily\" in x.lower() and x[-4:]==\".txt\"]\n",
    "All_sub_sales_files_2=[x for x in All_sub_sales_files_2 if x.split(\"/MediaStorm_\")[1][:10]<\"2018-08-11\"]\n",
    "All_sub_sales_files_2=[x for x in All_sub_sales_files_2 if x.split(\"/MediaStorm_\")[1][:10]>=str(dates_18_months_ago)]\n",
    "All_sub_sales_files_2.sort()\n",
    "print(len(All_sub_sales_files_2))\n",
    "All_sub_sales_files=All_sub_sales_files_1+All_sub_sales_files_2\n",
    "print(len(All_sub_sales_files))"
   ]
  },
  {
   "cell_type": "code",
   "execution_count": 10,
   "metadata": {},
   "outputs": [
    {
     "name": "stdout",
     "output_type": "stream",
     "text": [
      "79\n",
      "78.0\n"
     ]
    }
   ],
   "source": [
    "list_all_daily_files=All_sub_sales_files+All_item_sales_files_18\n",
    "print(len(list_all_daily_files))\n",
    "print(52*1.5)"
   ]
  },
  {
   "cell_type": "code",
   "execution_count": 11,
   "metadata": {},
   "outputs": [
    {
     "name": "stdout",
     "output_type": "stream",
     "text": [
      "1 2019-10-17 10:20:42.205337\n",
      "11 2019-10-17 10:41:19.956638\n",
      "21 2019-10-17 11:07:43.250180\n",
      "31 2019-10-17 11:35:46.069065\n",
      "41 2019-10-17 12:21:16.934975\n",
      "51 2019-10-17 12:36:08.966259\n",
      "61 2019-10-17 12:42:20.069750\n",
      "71 2019-10-17 12:48:14.010567\n"
     ]
    }
   ],
   "source": [
    "df_ids_shopped_in_18=pd.DataFrame()\n",
    "list_df_shoppers=[]\n",
    "i_counter=0\n",
    "for file in list_all_daily_files:\n",
    "    df=pd.read_table(file,usecols=['customer_id_hashed','transaction_dt'],sep=\"|\",dtype=str)\n",
    "    df=df[pd.notnull(df['customer_id_hashed'])]\n",
    "    df=df[df['transaction_dt']>=str(dates_18_months_ago)]\n",
    "    df=df.drop_duplicates()\n",
    "    list_df_shoppers.append(df)\n",
    "    i_counter+=1\n",
    "    if i_counter%10==1:\n",
    "        print(i_counter,datetime.datetime.now())\n",
    "df_ids_shopped_in_18=pd.concat(list_df_shoppers)"
   ]
  },
  {
   "cell_type": "code",
   "execution_count": 12,
   "metadata": {},
   "outputs": [
    {
     "name": "stdout",
     "output_type": "stream",
     "text": [
      "(105513593, 2)\n"
     ]
    },
    {
     "data": {
      "text/html": [
       "<div>\n",
       "<style>\n",
       "    .dataframe thead tr:only-child th {\n",
       "        text-align: right;\n",
       "    }\n",
       "\n",
       "    .dataframe thead th {\n",
       "        text-align: left;\n",
       "    }\n",
       "\n",
       "    .dataframe tbody tr th {\n",
       "        vertical-align: top;\n",
       "    }\n",
       "</style>\n",
       "<table border=\"1\" class=\"dataframe\">\n",
       "  <thead>\n",
       "    <tr style=\"text-align: right;\">\n",
       "      <th></th>\n",
       "      <th>transaction_dt</th>\n",
       "      <th>customer_id_hashed</th>\n",
       "    </tr>\n",
       "  </thead>\n",
       "  <tbody>\n",
       "    <tr>\n",
       "      <th>2</th>\n",
       "      <td>2018-04-11</td>\n",
       "      <td>8590d87322d534cb0c9b7f5d10f91ef8722fe4d6b3c367...</td>\n",
       "    </tr>\n",
       "    <tr>\n",
       "      <th>6</th>\n",
       "      <td>2018-04-10</td>\n",
       "      <td>ca47ec26ff378339e3266f1f48eb88809f90fd184161e4...</td>\n",
       "    </tr>\n",
       "  </tbody>\n",
       "</table>\n",
       "</div>"
      ],
      "text/plain": [
       "  transaction_dt                                 customer_id_hashed\n",
       "2     2018-04-11  8590d87322d534cb0c9b7f5d10f91ef8722fe4d6b3c367...\n",
       "6     2018-04-10  ca47ec26ff378339e3266f1f48eb88809f90fd184161e4..."
      ]
     },
     "execution_count": 12,
     "metadata": {},
     "output_type": "execute_result"
    }
   ],
   "source": [
    "print(df_ids_shopped_in_18.shape)\n",
    "df_ids_shopped_in_18.head(2)"
   ]
  },
  {
   "cell_type": "code",
   "execution_count": 13,
   "metadata": {},
   "outputs": [
    {
     "data": {
      "text/plain": [
       "633"
      ]
     },
     "execution_count": 13,
     "metadata": {},
     "output_type": "execute_result"
    }
   ],
   "source": [
    "del list_df_shoppers\n",
    "gc.collect()"
   ]
  },
  {
   "cell_type": "code",
   "execution_count": 14,
   "metadata": {},
   "outputs": [
    {
     "data": {
      "text/plain": [
       "(21715881, 2)"
      ]
     },
     "execution_count": 14,
     "metadata": {},
     "output_type": "execute_result"
    }
   ],
   "source": [
    "df_ids_shopped_in_18=df_ids_shopped_in_18.sort_values(['transaction_dt','customer_id_hashed'],ascending=[False,True])\n",
    "df_ids_shopped_in_18=df_ids_shopped_in_18.drop_duplicates(\"customer_id_hashed\")\n",
    "df_ids_shopped_in_18.shape"
   ]
  },
  {
   "cell_type": "code",
   "execution_count": 17,
   "metadata": {},
   "outputs": [
    {
     "name": "stdout",
     "output_type": "stream",
     "text": [
      "2018-04-10 2019-10-12\n"
     ]
    }
   ],
   "source": [
    "max_date=df_ids_shopped_in_18['transaction_dt'].max()\n",
    "min_date=df_ids_shopped_in_18['transaction_dt'].min()\n",
    "\n",
    "print(min_date,max_date)\n",
    "\n",
    "df_ids_shopped_in_18.to_csv(\"./BL_df_all_ids_shopped_in_18_months_\"+min_date+\"_\"+max_date+\"_JL_\"+str(datetime.datetime.now().date())+\".csv\",index=False)"
   ]
  },
  {
   "cell_type": "code",
   "execution_count": 9,
   "metadata": {},
   "outputs": [
    {
     "data": {
      "text/plain": [
       "(21715881, 2)"
      ]
     },
     "execution_count": 9,
     "metadata": {},
     "output_type": "execute_result"
    }
   ],
   "source": [
    "df_ids_shopped_in_18=pd.read_csv(\"./BL_df_all_ids_shopped_in_18_months_2018-04-10_2019-10-12_JL_2019-10-17.csv\",dtype=str)\n",
    "df_ids_shopped_in_18.shape"
   ]
  },
  {
   "cell_type": "code",
   "execution_count": 10,
   "metadata": {},
   "outputs": [
    {
     "data": {
      "text/html": [
       "<div>\n",
       "<style>\n",
       "    .dataframe thead tr:only-child th {\n",
       "        text-align: right;\n",
       "    }\n",
       "\n",
       "    .dataframe thead th {\n",
       "        text-align: left;\n",
       "    }\n",
       "\n",
       "    .dataframe tbody tr th {\n",
       "        vertical-align: top;\n",
       "    }\n",
       "</style>\n",
       "<table border=\"1\" class=\"dataframe\">\n",
       "  <thead>\n",
       "    <tr style=\"text-align: right;\">\n",
       "      <th></th>\n",
       "      <th>transaction_dt</th>\n",
       "      <th>customer_id_hashed</th>\n",
       "    </tr>\n",
       "  </thead>\n",
       "  <tbody>\n",
       "    <tr>\n",
       "      <th>0</th>\n",
       "      <td>2019-10-12</td>\n",
       "      <td>000001dadc0265bf9d250566d74e0006323f18b5826641...</td>\n",
       "    </tr>\n",
       "    <tr>\n",
       "      <th>1</th>\n",
       "      <td>2019-10-12</td>\n",
       "      <td>00000435bfb3bf42e3beb4c9b3942c552d09f0e49e5a75...</td>\n",
       "    </tr>\n",
       "  </tbody>\n",
       "</table>\n",
       "</div>"
      ],
      "text/plain": [
       "  transaction_dt                                 customer_id_hashed\n",
       "0     2019-10-12  000001dadc0265bf9d250566d74e0006323f18b5826641...\n",
       "1     2019-10-12  00000435bfb3bf42e3beb4c9b3942c552d09f0e49e5a75..."
      ]
     },
     "execution_count": 10,
     "metadata": {},
     "output_type": "execute_result"
    }
   ],
   "source": [
    "df_ids_shopped_in_18.head(2)"
   ]
  },
  {
   "cell_type": "code",
   "execution_count": 11,
   "metadata": {},
   "outputs": [
    {
     "name": "stdout",
     "output_type": "stream",
     "text": [
      "[10]\n",
      "[64]\n"
     ]
    }
   ],
   "source": [
    "print(df_ids_shopped_in_18['transaction_dt'].apply(len).unique())\n",
    "print(df_ids_shopped_in_18['customer_id_hashed'].apply(len).unique())"
   ]
  },
  {
   "cell_type": "markdown",
   "metadata": {},
   "source": [
    "# Signed_up_in_12_Months"
   ]
  },
  {
   "cell_type": "code",
   "execution_count": 12,
   "metadata": {},
   "outputs": [
    {
     "name": "stdout",
     "output_type": "stream",
     "text": [
      "40\n"
     ]
    }
   ],
   "source": [
    "list_all_master_file_2019=list(recursive_file_gen(\"/home/jian/BigLots/\"))\n",
    "list_all_master_file_2019=[x for x in list_all_master_file_2019 if \"2019\" in x and \"aster\" in x and x[-4:]==\".txt\"]\n",
    "print(len(list_all_master_file_2019))\n",
    "list_all_master_file_2019.sort()"
   ]
  },
  {
   "cell_type": "code",
   "execution_count": 13,
   "metadata": {},
   "outputs": [
    {
     "name": "stdout",
     "output_type": "stream",
     "text": [
      "(4379752, 3)\n",
      "(4379752, 3)\n"
     ]
    }
   ],
   "source": [
    "df_signed_19=pd.DataFrame()\n",
    "for file in list_all_master_file_2019:\n",
    "    df=pd.read_csv(file,sep=\"|\",usecols=['customer_id_hashed','email_address_hash','sign_up_date'])\n",
    "    df_signed_19=df_signed_19.append(df)\n",
    "print(df_signed_19.shape)\n",
    "df_signed_19=df_signed_19[df_signed_19['sign_up_date']>=str(date_1_year_ago)] \n",
    "print(df_signed_19.shape)"
   ]
  },
  {
   "cell_type": "code",
   "execution_count": 14,
   "metadata": {},
   "outputs": [
    {
     "name": "stdout",
     "output_type": "stream",
     "text": [
      "(7888562, 3)\n",
      "(4199575, 3)\n",
      "(461199, 3)\n",
      "(461199, 3)\n"
     ]
    }
   ],
   "source": [
    "df_singed_18Q1_19Q1=pd.read_table(\"/home/jian/BigLots/New_Sing_Ups_2018_Fiscal_Year/All Rewards Members 2018-02-04 - 2019-05-04.zip\",\n",
    "                                 compression=\"zip\",dtype=str,sep=\"|\",usecols=['customer_id_hashed','email_address_hash','sign_up_date'])\n",
    "print(df_singed_18Q1_19Q1.shape)\n",
    "df_singed_18Q1_19Q1=df_singed_18Q1_19Q1[df_singed_18Q1_19Q1['sign_up_date']>=str(date_1_year_ago)]\n",
    "print(df_singed_18Q1_19Q1.shape)\n",
    "\n",
    "df_singed_19Q1_gap=pd.read_table(\"/home/jian/BigLots/New_Sing_Ups_2018_Fiscal_Year/MediaStorm Rewards Master P4 2019 - no transaction info.zip\",\n",
    "                                 compression=\"zip\",dtype=str,sep=\"|\",usecols=['customer_id_hashed','email_address_hash','sign_up_date'])\n",
    "print(df_singed_19Q1_gap.shape)\n",
    "df_singed_19Q1_gap=df_singed_19Q1_gap[df_singed_19Q1_gap['sign_up_date']>=str(date_1_year_ago)]\n",
    "print(df_singed_19Q1_gap.shape)\n"
   ]
  },
  {
   "cell_type": "code",
   "execution_count": 15,
   "metadata": {},
   "outputs": [
    {
     "data": {
      "text/plain": [
       "1757"
      ]
     },
     "execution_count": 15,
     "metadata": {},
     "output_type": "execute_result"
    }
   ],
   "source": [
    "df_new_signed_12months=df_signed_19.append(df_singed_18Q1_19Q1).append(df_singed_19Q1_gap)\n",
    "del df_signed_19\n",
    "del df_singed_18Q1_19Q1\n",
    "del df_singed_19Q1_gap\n",
    "gc.collect()"
   ]
  },
  {
   "cell_type": "code",
   "execution_count": 16,
   "metadata": {},
   "outputs": [
    {
     "name": "stdout",
     "output_type": "stream",
     "text": [
      "(9040526, 3)\n",
      "(9040526, 3)\n",
      "(7042900, 2)\n"
     ]
    }
   ],
   "source": [
    "print(df_new_signed_12months.shape)\n",
    "df_new_signed_12months=df_new_signed_12months[df_new_signed_12months['sign_up_date']>=str(date_1_year_ago)]\n",
    "print(df_new_signed_12months.shape)\n",
    "\n",
    "del df_new_signed_12months['sign_up_date']\n",
    "df_new_signed_12months=df_new_signed_12months.drop_duplicates()\n",
    "print(df_new_signed_12months.shape)\n"
   ]
  },
  {
   "cell_type": "code",
   "execution_count": 17,
   "metadata": {},
   "outputs": [
    {
     "data": {
      "text/html": [
       "<div>\n",
       "<style>\n",
       "    .dataframe thead tr:only-child th {\n",
       "        text-align: right;\n",
       "    }\n",
       "\n",
       "    .dataframe thead th {\n",
       "        text-align: left;\n",
       "    }\n",
       "\n",
       "    .dataframe tbody tr th {\n",
       "        vertical-align: top;\n",
       "    }\n",
       "</style>\n",
       "<table border=\"1\" class=\"dataframe\">\n",
       "  <thead>\n",
       "    <tr style=\"text-align: right;\">\n",
       "      <th></th>\n",
       "      <th>customer_id_hashed</th>\n",
       "      <th>email_address_hash</th>\n",
       "    </tr>\n",
       "  </thead>\n",
       "  <tbody>\n",
       "    <tr>\n",
       "      <th>0</th>\n",
       "      <td>9b7f9a1ba51dbae2a393c273ce8c9aa9bf610dc03410fd...</td>\n",
       "      <td>089bc373eda16a771e023d87ee368fb961c4ff9b36c7d6...</td>\n",
       "    </tr>\n",
       "    <tr>\n",
       "      <th>1</th>\n",
       "      <td>c2c5bd862113c4e77c918dd22a25744f2e1224ea63b166...</td>\n",
       "      <td>065edf59d0ed26bea352be5f44fd7a6f688a0fa28cddb3...</td>\n",
       "    </tr>\n",
       "  </tbody>\n",
       "</table>\n",
       "</div>"
      ],
      "text/plain": [
       "                                  customer_id_hashed  \\\n",
       "0  9b7f9a1ba51dbae2a393c273ce8c9aa9bf610dc03410fd...   \n",
       "1  c2c5bd862113c4e77c918dd22a25744f2e1224ea63b166...   \n",
       "\n",
       "                                  email_address_hash  \n",
       "0  089bc373eda16a771e023d87ee368fb961c4ff9b36c7d6...  \n",
       "1  065edf59d0ed26bea352be5f44fd7a6f688a0fa28cddb3...  "
      ]
     },
     "execution_count": 17,
     "metadata": {},
     "output_type": "execute_result"
    }
   ],
   "source": [
    "df_new_signed_12months.head(2)"
   ]
  },
  {
   "cell_type": "code",
   "execution_count": 18,
   "metadata": {},
   "outputs": [
    {
     "data": {
      "text/plain": [
       "7042111"
      ]
     },
     "execution_count": 18,
     "metadata": {},
     "output_type": "execute_result"
    }
   ],
   "source": [
    "df_new_signed_12months['customer_id_hashed'].nunique()"
   ]
  },
  {
   "cell_type": "code",
   "execution_count": 19,
   "metadata": {},
   "outputs": [
    {
     "data": {
      "text/plain": [
       "7042752"
      ]
     },
     "execution_count": 19,
     "metadata": {},
     "output_type": "execute_result"
    }
   ],
   "source": [
    "df_new_signed_12months['email_address_hash'].nunique()"
   ]
  },
  {
   "cell_type": "markdown",
   "metadata": {},
   "source": [
    "# Mapping_ID_with_email"
   ]
  },
  {
   "cell_type": "code",
   "execution_count": 32,
   "metadata": {
    "collapsed": true
   },
   "outputs": [],
   "source": [
    "df_singed_18Q1_19Q1=pd.read_table(\"/home/jian/BigLots/New_Sing_Ups_2018_Fiscal_Year/All Rewards Members 2018-02-04 - 2019-05-04.zip\",\n",
    "                                  compression=\"zip\",dtype=str,sep=\"|\",usecols=['customer_id_hashed','email_address_hash','sign_up_date'])\n",
    "\n",
    "\n",
    "df_singed_19Q1_gap=pd.read_table(\"/home/jian/BigLots/New_Sing_Ups_2018_Fiscal_Year/MediaStorm Rewards Master P4 2019 - no transaction info.zip\",\n",
    "                                 compression=\"zip\",dtype=str,sep=\"|\",usecols=['customer_id_hashed','email_address_hash','sign_up_date'])\n",
    "\n",
    "df_singed_lapsed=pd.read_csv('/home/jian/Projects/Big_Lots/Loyal_members/loyalty_register_data/MediaStorm_Lapsed_Reward_Member_Master_from2014-08-26to2017-02-26.zip',\n",
    "                     dtype = 'str',sep = '|',usecols=['customer_id_hashed','email_address_hash','sign_up_date'])"
   ]
  },
  {
   "cell_type": "code",
   "execution_count": 34,
   "metadata": {
    "collapsed": true
   },
   "outputs": [],
   "source": [
    "dfiddetail=pd.read_csv('/home/jian/Projects/Big_Lots/Loyal_members/loyalty_register_data/combined_masterids_up_to_20181229_JL.csv',usecols=['customer_id_hashed','email_address_hash'])\n",
    "dfiddetail['sign_up_date']=np.nan"
   ]
  },
  {
   "cell_type": "code",
   "execution_count": 35,
   "metadata": {
    "collapsed": true
   },
   "outputs": [],
   "source": [
    "list_all_master_file=list(recursive_file_gen(\"/home/jian/BigLots/\"))\n",
    "list_all_master_file=[x for x in list_all_master_file if \"aster\" in x and x[-4:]==\".txt\"]\n",
    "list_all_master_file.sort()"
   ]
  },
  {
   "cell_type": "code",
   "execution_count": 36,
   "metadata": {
    "collapsed": true
   },
   "outputs": [],
   "source": [
    "list_all_master=[]\n",
    "\n",
    "for file in list_all_master_file:\n",
    "    df=pd.read_csv(file,dtype = 'str',sep = '|',usecols=['customer_id_hashed','email_address_hash','sign_up_date'])\n",
    "    list_all_master.append(df)\n",
    "df_all_master=pd.concat(list_all_master)"
   ]
  },
  {
   "cell_type": "code",
   "execution_count": 37,
   "metadata": {},
   "outputs": [
    {
     "data": {
      "text/plain": [
       "392"
      ]
     },
     "execution_count": 37,
     "metadata": {},
     "output_type": "execute_result"
    }
   ],
   "source": [
    "df_all_master=df_all_master.append(df_singed_18Q1_19Q1).append(df_singed_19Q1_gap).append(df_singed_lapsed).append(dfiddetail)\n",
    "\n",
    "del df_singed_18Q1_19Q1\n",
    "del df_singed_19Q1_gap\n",
    "del df_singed_lapsed\n",
    "del dfiddetail\n",
    "gc.collect()"
   ]
  },
  {
   "cell_type": "code",
   "execution_count": 38,
   "metadata": {},
   "outputs": [
    {
     "data": {
      "text/plain": [
       "(30751705, 2)"
      ]
     },
     "execution_count": 38,
     "metadata": {},
     "output_type": "execute_result"
    }
   ],
   "source": [
    "df_all_master=df_all_master.sort_values([\"customer_id_hashed\",\"sign_up_date\"],ascending=[True,False])\n",
    "df_all_master=df_all_master[['customer_id_hashed','email_address_hash']].drop_duplicates()\n",
    "gc.collect()\n",
    "df_all_master.shape"
   ]
  },
  {
   "cell_type": "code",
   "execution_count": 39,
   "metadata": {},
   "outputs": [
    {
     "data": {
      "text/plain": [
       "(30732612, 30744012)"
      ]
     },
     "execution_count": 39,
     "metadata": {},
     "output_type": "execute_result"
    }
   ],
   "source": [
    "df_all_master['customer_id_hashed'].nunique(),df_all_master['email_address_hash'].nunique()"
   ]
  },
  {
   "cell_type": "code",
   "execution_count": 40,
   "metadata": {},
   "outputs": [
    {
     "data": {
      "text/plain": [
       "(30732612, 2)"
      ]
     },
     "execution_count": 40,
     "metadata": {},
     "output_type": "execute_result"
    }
   ],
   "source": [
    "df_all_master=df_all_master.drop_duplicates(\"customer_id_hashed\")\n",
    "df_all_master.shape"
   ]
  },
  {
   "cell_type": "code",
   "execution_count": 43,
   "metadata": {},
   "outputs": [
    {
     "data": {
      "text/html": [
       "<div>\n",
       "<style>\n",
       "    .dataframe thead tr:only-child th {\n",
       "        text-align: right;\n",
       "    }\n",
       "\n",
       "    .dataframe thead th {\n",
       "        text-align: left;\n",
       "    }\n",
       "\n",
       "    .dataframe tbody tr th {\n",
       "        vertical-align: top;\n",
       "    }\n",
       "</style>\n",
       "<table border=\"1\" class=\"dataframe\">\n",
       "  <thead>\n",
       "    <tr style=\"text-align: right;\">\n",
       "      <th></th>\n",
       "      <th>customer_id_hashed</th>\n",
       "      <th>email_address_hash</th>\n",
       "    </tr>\n",
       "  </thead>\n",
       "  <tbody>\n",
       "    <tr>\n",
       "      <th>13968893</th>\n",
       "      <td>00000135f48c68690ad3d5fc9ada41bb5cd687452007e8...</td>\n",
       "      <td>4a1f9ca814426d0168b4ee9ac037be04151dff5631d78a...</td>\n",
       "    </tr>\n",
       "    <tr>\n",
       "      <th>126959</th>\n",
       "      <td>000001dadc0265bf9d250566d74e0006323f18b5826641...</td>\n",
       "      <td>26454de1f315ee0c13c8c9033f372f50a3f02a16691849...</td>\n",
       "    </tr>\n",
       "  </tbody>\n",
       "</table>\n",
       "</div>"
      ],
      "text/plain": [
       "                                         customer_id_hashed  \\\n",
       "13968893  00000135f48c68690ad3d5fc9ada41bb5cd687452007e8...   \n",
       "126959    000001dadc0265bf9d250566d74e0006323f18b5826641...   \n",
       "\n",
       "                                         email_address_hash  \n",
       "13968893  4a1f9ca814426d0168b4ee9ac037be04151dff5631d78a...  \n",
       "126959    26454de1f315ee0c13c8c9033f372f50a3f02a16691849...  "
      ]
     },
     "execution_count": 43,
     "metadata": {},
     "output_type": "execute_result"
    }
   ],
   "source": [
    "df_all_master.head(2)"
   ]
  },
  {
   "cell_type": "code",
   "execution_count": 45,
   "metadata": {},
   "outputs": [
    {
     "data": {
      "text/plain": [
       "(21715881, 3)"
      ]
     },
     "execution_count": 45,
     "metadata": {},
     "output_type": "execute_result"
    }
   ],
   "source": [
    "df_ids_shopped_in_18=pd.merge(df_ids_shopped_in_18,df_all_master,on=\"customer_id_hashed\",how=\"left\")\n",
    "df_ids_shopped_in_18.shape"
   ]
  },
  {
   "cell_type": "code",
   "execution_count": 54,
   "metadata": {},
   "outputs": [
    {
     "data": {
      "text/plain": [
       "(23972063, 2)"
      ]
     },
     "execution_count": 54,
     "metadata": {},
     "output_type": "execute_result"
    }
   ],
   "source": [
    "df_new_signed_12months=df_new_signed_12months.drop_duplicates(\"customer_id_hashed\")\n",
    "\n",
    "del df_ids_shopped_in_18['transaction_dt']\n",
    "df_ids_shopped_in_18=df_ids_shopped_in_18.drop_duplicates(\"customer_id_hashed\")\n",
    "gc.collect()\n",
    "\n",
    "\n",
    "df_both=df_new_signed_12months.append(df_ids_shopped_in_18)\n",
    "\n",
    "df_both=df_both.drop_duplicates(\"customer_id_hashed\")\n",
    "df_both.shape"
   ]
  },
  {
   "cell_type": "code",
   "execution_count": 55,
   "metadata": {
    "collapsed": true
   },
   "outputs": [],
   "source": [
    "df_both.to_csv(\"./BL_all_ids_shopped_in_18_or_signed_in_12_JL_\"+str(datetime.datetime.now().date())+\".csv\",index=False)\n"
   ]
  },
  {
   "cell_type": "code",
   "execution_count": 61,
   "metadata": {},
   "outputs": [
    {
     "data": {
      "text/plain": [
       "(21925777, 2)"
      ]
     },
     "execution_count": 61,
     "metadata": {},
     "output_type": "execute_result"
    }
   ],
   "source": [
    "df_both=df_both[pd.notnull(df_both['email_address_hash'])]\n",
    "df_both.shape"
   ]
  },
  {
   "cell_type": "code",
   "execution_count": 62,
   "metadata": {},
   "outputs": [
    {
     "data": {
      "text/plain": [
       "(21505499, 2)"
      ]
     },
     "execution_count": 62,
     "metadata": {},
     "output_type": "execute_result"
    }
   ],
   "source": [
    "df_both=df_both[~df_both['customer_id_hashed'].isin(df_all_Q3_control['customer_id_hashed'].tolist())]\n",
    "df_both=df_both[~df_both['email_address_hash'].isin(df_all_Q3_control['email_address_hash'].tolist())]\n",
    "df_both.shape"
   ]
  },
  {
   "cell_type": "code",
   "execution_count": 64,
   "metadata": {
    "collapsed": true
   },
   "outputs": [],
   "source": [
    "df_both.to_csv(\"./BL_all_ids_shopped_in_18_or_signed_in_12_with_emails_JL_\"+str(datetime.datetime.now().date())+\".csv\",index=False)\n"
   ]
  },
  {
   "cell_type": "code",
   "execution_count": null,
   "metadata": {
    "collapsed": true
   },
   "outputs": [],
   "source": []
  },
  {
   "cell_type": "code",
   "execution_count": 68,
   "metadata": {
    "collapsed": true
   },
   "outputs": [],
   "source": [
    "import random\n",
    "random.seed(1)\n",
    "random_list=random.sample(range(len(df_both)), 100000)\n",
    "\n",
    "df_both=df_both.reset_index()\n",
    "del df_both['index']\n",
    "df_both=df_both.reset_index()\n",
    "\n",
    "df_both_control=df_both[df_both['index'].isin(random_list)]\n",
    "df_both_test=df_both[~df_both['index'].isin(random_list)]\n"
   ]
  },
  {
   "cell_type": "code",
   "execution_count": 69,
   "metadata": {},
   "outputs": [
    {
     "data": {
      "text/plain": [
       "268"
      ]
     },
     "execution_count": 69,
     "metadata": {},
     "output_type": "execute_result"
    }
   ],
   "source": [
    "del df_both_control['index']\n",
    "del df_both_test['index']\n",
    "gc.collect()"
   ]
  },
  {
   "cell_type": "code",
   "execution_count": 70,
   "metadata": {},
   "outputs": [
    {
     "data": {
      "text/plain": [
       "(100000, 2)"
      ]
     },
     "execution_count": 70,
     "metadata": {},
     "output_type": "execute_result"
    }
   ],
   "source": [
    "df_both_control.shape"
   ]
  },
  {
   "cell_type": "code",
   "execution_count": 71,
   "metadata": {},
   "outputs": [
    {
     "data": {
      "text/plain": [
       "(21405499, 2)"
      ]
     },
     "execution_count": 71,
     "metadata": {},
     "output_type": "execute_result"
    }
   ],
   "source": [
    "df_both_test.shape"
   ]
  },
  {
   "cell_type": "code",
   "execution_count": 79,
   "metadata": {
    "collapsed": true
   },
   "outputs": [],
   "source": [
    "df_both_control_output=df_both_control[['email_address_hash']].rename(columns={\"email_address_hash\":\"Email\"}).drop_duplicates()\n",
    "df_both_test_output=df_both_test[['email_address_hash']].rename(columns={\"email_address_hash\":\"Email\"}).drop_duplicates()\n",
    "\n",
    "\n",
    "df_both_control_output.to_csv(\"./BL_FB_5_offer_control_emails_JL_\"+str(datetime.datetime.now().date())+\".csv\",index=False)\n",
    "df_both_test_output.to_csv(\"./BL_FB_5_offer_test_emails_JL_\"+str(datetime.datetime.now().date())+\".csv\",index=False)\n"
   ]
  },
  {
   "cell_type": "code",
   "execution_count": 132,
   "metadata": {},
   "outputs": [
    {
     "data": {
      "text/html": [
       "<div>\n",
       "<style>\n",
       "    .dataframe thead tr:only-child th {\n",
       "        text-align: right;\n",
       "    }\n",
       "\n",
       "    .dataframe thead th {\n",
       "        text-align: left;\n",
       "    }\n",
       "\n",
       "    .dataframe tbody tr th {\n",
       "        vertical-align: top;\n",
       "    }\n",
       "</style>\n",
       "<table border=\"1\" class=\"dataframe\">\n",
       "  <thead>\n",
       "    <tr style=\"text-align: right;\">\n",
       "      <th></th>\n",
       "      <th>Email</th>\n",
       "    </tr>\n",
       "  </thead>\n",
       "  <tbody>\n",
       "    <tr>\n",
       "      <th>135</th>\n",
       "      <td>9b954c51f5f4a7cf4a5df7409bd5d64cab56be9d3a0bd6...</td>\n",
       "    </tr>\n",
       "    <tr>\n",
       "      <th>312</th>\n",
       "      <td>a5dd3510fab6bab2fd29a8fece70f73b6700aeb5e9e98d...</td>\n",
       "    </tr>\n",
       "    <tr>\n",
       "      <th>621</th>\n",
       "      <td>aa61afbfc375a4d8fae0516ddf67ed8d6d4bcc0c2c55fe...</td>\n",
       "    </tr>\n",
       "    <tr>\n",
       "      <th>784</th>\n",
       "      <td>ce6595c1577a2218d270d4311ea700501a59946c5437e9...</td>\n",
       "    </tr>\n",
       "    <tr>\n",
       "      <th>839</th>\n",
       "      <td>44efe67dba35bb8e0fc73771f9a770fb8893ea3b89177a...</td>\n",
       "    </tr>\n",
       "    <tr>\n",
       "      <th>1286</th>\n",
       "      <td>008afd85e1a93cc6d375a9f70678d323eaebdf1ad31c22...</td>\n",
       "    </tr>\n",
       "    <tr>\n",
       "      <th>1657</th>\n",
       "      <td>c94eaa9110bf0315755e5b6851f68b67c78568ec9173f5...</td>\n",
       "    </tr>\n",
       "    <tr>\n",
       "      <th>1731</th>\n",
       "      <td>4e17227807f95766413e1806890ead3d7b85e29064d9e4...</td>\n",
       "    </tr>\n",
       "    <tr>\n",
       "      <th>1741</th>\n",
       "      <td>d0ea3b1eb2231789d94b53f96df79102ea3fdca7ae3105...</td>\n",
       "    </tr>\n",
       "    <tr>\n",
       "      <th>1845</th>\n",
       "      <td>e34f8870fd96f2eeb54e75ed03ea15bb694cf766822309...</td>\n",
       "    </tr>\n",
       "    <tr>\n",
       "      <th>1903</th>\n",
       "      <td>d038170940edb6be1f8996446fd33010985cc8aa577a39...</td>\n",
       "    </tr>\n",
       "    <tr>\n",
       "      <th>2035</th>\n",
       "      <td>60d271cd294b9688061b592b1f58994c9010f3f00ec3e5...</td>\n",
       "    </tr>\n",
       "    <tr>\n",
       "      <th>2130</th>\n",
       "      <td>6861d60d71be54e7ba0962a97079865c2653bd38139a1b...</td>\n",
       "    </tr>\n",
       "    <tr>\n",
       "      <th>2298</th>\n",
       "      <td>13410620101a2828d4317b3be0319e733e978bb0c079ae...</td>\n",
       "    </tr>\n",
       "    <tr>\n",
       "      <th>2542</th>\n",
       "      <td>bbe18b0addf1d92d1ff7583f8b14d917e882671b554bdd...</td>\n",
       "    </tr>\n",
       "    <tr>\n",
       "      <th>2874</th>\n",
       "      <td>61fe1b6b1336cd878f0e48d3dd42e26e44fd8d9fa59402...</td>\n",
       "    </tr>\n",
       "    <tr>\n",
       "      <th>3268</th>\n",
       "      <td>266b488f2317e63c2abc1a9e5f8a81a9ad217232246056...</td>\n",
       "    </tr>\n",
       "    <tr>\n",
       "      <th>3304</th>\n",
       "      <td>d2de6691950cffa4c24607a8b6f08260cf0c8b645f8533...</td>\n",
       "    </tr>\n",
       "    <tr>\n",
       "      <th>3438</th>\n",
       "      <td>1d1f0217dd8add6b3650c424b4f93fe813ec65e0c7c302...</td>\n",
       "    </tr>\n",
       "    <tr>\n",
       "      <th>3441</th>\n",
       "      <td>8af86dcb6d2fed2cca6d8e39c56d115b694d9910843900...</td>\n",
       "    </tr>\n",
       "    <tr>\n",
       "      <th>3466</th>\n",
       "      <td>754f0044f9b454eb16e8fef5eeded296aaa733b2fc0c2f...</td>\n",
       "    </tr>\n",
       "    <tr>\n",
       "      <th>3814</th>\n",
       "      <td>388e89a7cb047eb54f1352dd5d029685c22f3084600734...</td>\n",
       "    </tr>\n",
       "    <tr>\n",
       "      <th>3819</th>\n",
       "      <td>4a8f966efe85871670666f65595b99b1f1e2b134b4c46a...</td>\n",
       "    </tr>\n",
       "    <tr>\n",
       "      <th>3855</th>\n",
       "      <td>65305d7959572de111b50d77111828325575600885ce3b...</td>\n",
       "    </tr>\n",
       "    <tr>\n",
       "      <th>4114</th>\n",
       "      <td>f6a0e8582cce762f7170bdd3ee96936e82f6a0519ef82a...</td>\n",
       "    </tr>\n",
       "    <tr>\n",
       "      <th>4458</th>\n",
       "      <td>9b0e6ac5c6c4fe23fc7e0a3596a7a24905e9b607e47442...</td>\n",
       "    </tr>\n",
       "    <tr>\n",
       "      <th>4483</th>\n",
       "      <td>88af9792c1ae61ee47266bbf9017eaf7babfa2b2775b6e...</td>\n",
       "    </tr>\n",
       "    <tr>\n",
       "      <th>4968</th>\n",
       "      <td>e565235ed47f11da211a26729e3e731f6a4e089bff5265...</td>\n",
       "    </tr>\n",
       "    <tr>\n",
       "      <th>5027</th>\n",
       "      <td>ecf9070e924428ef5a8f30d1afd2171a0a5357654fc0b9...</td>\n",
       "    </tr>\n",
       "    <tr>\n",
       "      <th>5230</th>\n",
       "      <td>888047022801b98749d5fbbca5e57e495bfa5c23d14f5c...</td>\n",
       "    </tr>\n",
       "    <tr>\n",
       "      <th>6134</th>\n",
       "      <td>2b7e237116e639b75a2372b4d16419071b6ac4ee2b2db4...</td>\n",
       "    </tr>\n",
       "    <tr>\n",
       "      <th>6488</th>\n",
       "      <td>f3c8c7346a31c189320786a8729ff6800fd317800058e2...</td>\n",
       "    </tr>\n",
       "    <tr>\n",
       "      <th>6729</th>\n",
       "      <td>df697766ebe23b2f9986a5a3a7760508b6cbfe907d3a83...</td>\n",
       "    </tr>\n",
       "    <tr>\n",
       "      <th>6761</th>\n",
       "      <td>2b8903de4e828d471f8498a2ecabeacc47bbf6faf8f592...</td>\n",
       "    </tr>\n",
       "    <tr>\n",
       "      <th>7185</th>\n",
       "      <td>f20f818ec4f92b96db9990978b6b87fff797be03e34c69...</td>\n",
       "    </tr>\n",
       "    <tr>\n",
       "      <th>7418</th>\n",
       "      <td>f979d67704e984850d68dc075f463a32bd32820072c614...</td>\n",
       "    </tr>\n",
       "    <tr>\n",
       "      <th>7430</th>\n",
       "      <td>86c017fb25b4d2ed6023fcfb09264fadbfddc770edb848...</td>\n",
       "    </tr>\n",
       "    <tr>\n",
       "      <th>7439</th>\n",
       "      <td>ab88ee8a741696cd3dd92e565d801252aa82024da0e96f...</td>\n",
       "    </tr>\n",
       "    <tr>\n",
       "      <th>7478</th>\n",
       "      <td>ecb5880d2f6aea6a43dc16cad49ec5952599f9c9aa633a...</td>\n",
       "    </tr>\n",
       "    <tr>\n",
       "      <th>7753</th>\n",
       "      <td>b51c4a5bd173617d1b6041ce56576dab77f767f94ea5bf...</td>\n",
       "    </tr>\n",
       "    <tr>\n",
       "      <th>7772</th>\n",
       "      <td>509235eccd107f0cca447aedcee2963a206d088c21f7c9...</td>\n",
       "    </tr>\n",
       "    <tr>\n",
       "      <th>7775</th>\n",
       "      <td>2a4580d873c98b5752bdae148dc225851cb7f7feeec6dd...</td>\n",
       "    </tr>\n",
       "    <tr>\n",
       "      <th>7866</th>\n",
       "      <td>051ee828f19e4121b75873563c7707bff413ffb82bb0c8...</td>\n",
       "    </tr>\n",
       "    <tr>\n",
       "      <th>8033</th>\n",
       "      <td>efe6780844a5fbbb1b7a657a92bb0aa38fbd42e992aad2...</td>\n",
       "    </tr>\n",
       "    <tr>\n",
       "      <th>8142</th>\n",
       "      <td>a04ccc2be49c665070c3d039b324e7a4c3e2b35739c60b...</td>\n",
       "    </tr>\n",
       "    <tr>\n",
       "      <th>8333</th>\n",
       "      <td>6b8b2a6077c3c999f925e2c327488351ceea91fb119f1f...</td>\n",
       "    </tr>\n",
       "    <tr>\n",
       "      <th>8364</th>\n",
       "      <td>25ba77ecc3b1ea1f376ac8ccb3455fde38fce0842c28a5...</td>\n",
       "    </tr>\n",
       "    <tr>\n",
       "      <th>8493</th>\n",
       "      <td>d2da2bd2d3faf4cc867ee636c77be4c1b89a5647feaf0a...</td>\n",
       "    </tr>\n",
       "    <tr>\n",
       "      <th>8517</th>\n",
       "      <td>2e41be225abd44e455786e5dc809e816a2da845ddcd104...</td>\n",
       "    </tr>\n",
       "    <tr>\n",
       "      <th>8675</th>\n",
       "      <td>0b5aa979d5dfee44ea7f6eb465a73d002e54e739142580...</td>\n",
       "    </tr>\n",
       "  </tbody>\n",
       "</table>\n",
       "</div>"
      ],
      "text/plain": [
       "                                                  Email\n",
       "135   9b954c51f5f4a7cf4a5df7409bd5d64cab56be9d3a0bd6...\n",
       "312   a5dd3510fab6bab2fd29a8fece70f73b6700aeb5e9e98d...\n",
       "621   aa61afbfc375a4d8fae0516ddf67ed8d6d4bcc0c2c55fe...\n",
       "784   ce6595c1577a2218d270d4311ea700501a59946c5437e9...\n",
       "839   44efe67dba35bb8e0fc73771f9a770fb8893ea3b89177a...\n",
       "1286  008afd85e1a93cc6d375a9f70678d323eaebdf1ad31c22...\n",
       "1657  c94eaa9110bf0315755e5b6851f68b67c78568ec9173f5...\n",
       "1731  4e17227807f95766413e1806890ead3d7b85e29064d9e4...\n",
       "1741  d0ea3b1eb2231789d94b53f96df79102ea3fdca7ae3105...\n",
       "1845  e34f8870fd96f2eeb54e75ed03ea15bb694cf766822309...\n",
       "1903  d038170940edb6be1f8996446fd33010985cc8aa577a39...\n",
       "2035  60d271cd294b9688061b592b1f58994c9010f3f00ec3e5...\n",
       "2130  6861d60d71be54e7ba0962a97079865c2653bd38139a1b...\n",
       "2298  13410620101a2828d4317b3be0319e733e978bb0c079ae...\n",
       "2542  bbe18b0addf1d92d1ff7583f8b14d917e882671b554bdd...\n",
       "2874  61fe1b6b1336cd878f0e48d3dd42e26e44fd8d9fa59402...\n",
       "3268  266b488f2317e63c2abc1a9e5f8a81a9ad217232246056...\n",
       "3304  d2de6691950cffa4c24607a8b6f08260cf0c8b645f8533...\n",
       "3438  1d1f0217dd8add6b3650c424b4f93fe813ec65e0c7c302...\n",
       "3441  8af86dcb6d2fed2cca6d8e39c56d115b694d9910843900...\n",
       "3466  754f0044f9b454eb16e8fef5eeded296aaa733b2fc0c2f...\n",
       "3814  388e89a7cb047eb54f1352dd5d029685c22f3084600734...\n",
       "3819  4a8f966efe85871670666f65595b99b1f1e2b134b4c46a...\n",
       "3855  65305d7959572de111b50d77111828325575600885ce3b...\n",
       "4114  f6a0e8582cce762f7170bdd3ee96936e82f6a0519ef82a...\n",
       "4458  9b0e6ac5c6c4fe23fc7e0a3596a7a24905e9b607e47442...\n",
       "4483  88af9792c1ae61ee47266bbf9017eaf7babfa2b2775b6e...\n",
       "4968  e565235ed47f11da211a26729e3e731f6a4e089bff5265...\n",
       "5027  ecf9070e924428ef5a8f30d1afd2171a0a5357654fc0b9...\n",
       "5230  888047022801b98749d5fbbca5e57e495bfa5c23d14f5c...\n",
       "6134  2b7e237116e639b75a2372b4d16419071b6ac4ee2b2db4...\n",
       "6488  f3c8c7346a31c189320786a8729ff6800fd317800058e2...\n",
       "6729  df697766ebe23b2f9986a5a3a7760508b6cbfe907d3a83...\n",
       "6761  2b8903de4e828d471f8498a2ecabeacc47bbf6faf8f592...\n",
       "7185  f20f818ec4f92b96db9990978b6b87fff797be03e34c69...\n",
       "7418  f979d67704e984850d68dc075f463a32bd32820072c614...\n",
       "7430  86c017fb25b4d2ed6023fcfb09264fadbfddc770edb848...\n",
       "7439  ab88ee8a741696cd3dd92e565d801252aa82024da0e96f...\n",
       "7478  ecb5880d2f6aea6a43dc16cad49ec5952599f9c9aa633a...\n",
       "7753  b51c4a5bd173617d1b6041ce56576dab77f767f94ea5bf...\n",
       "7772  509235eccd107f0cca447aedcee2963a206d088c21f7c9...\n",
       "7775  2a4580d873c98b5752bdae148dc225851cb7f7feeec6dd...\n",
       "7866  051ee828f19e4121b75873563c7707bff413ffb82bb0c8...\n",
       "8033  efe6780844a5fbbb1b7a657a92bb0aa38fbd42e992aad2...\n",
       "8142  a04ccc2be49c665070c3d039b324e7a4c3e2b35739c60b...\n",
       "8333  6b8b2a6077c3c999f925e2c327488351ceea91fb119f1f...\n",
       "8364  25ba77ecc3b1ea1f376ac8ccb3455fde38fce0842c28a5...\n",
       "8493  d2da2bd2d3faf4cc867ee636c77be4c1b89a5647feaf0a...\n",
       "8517  2e41be225abd44e455786e5dc809e816a2da845ddcd104...\n",
       "8675  0b5aa979d5dfee44ea7f6eb465a73d002e54e739142580..."
      ]
     },
     "execution_count": 132,
     "metadata": {},
     "output_type": "execute_result"
    }
   ],
   "source": [
    "df_both_control_output.head(50)"
   ]
  },
  {
   "cell_type": "code",
   "execution_count": 80,
   "metadata": {},
   "outputs": [
    {
     "data": {
      "text/plain": [
       "((100000, 1), (21403357, 1))"
      ]
     },
     "execution_count": 80,
     "metadata": {},
     "output_type": "execute_result"
    }
   ],
   "source": [
    "df_both_control_output.shape,df_both_test_output.shape"
   ]
  },
  {
   "cell_type": "code",
   "execution_count": 81,
   "metadata": {},
   "outputs": [
    {
     "data": {
      "text/plain": [
       "(100000, 21403357)"
      ]
     },
     "execution_count": 81,
     "metadata": {},
     "output_type": "execute_result"
    }
   ],
   "source": [
    "df_both_control_output['Email'].nunique(),df_both_test_output['Email'].nunique()"
   ]
  }
 ],
 "metadata": {
  "kernelspec": {
   "display_name": "Python 3",
   "language": "python",
   "name": "python3"
  },
  "language_info": {
   "codemirror_mode": {
    "name": "ipython",
    "version": 3
   },
   "file_extension": ".py",
   "mimetype": "text/x-python",
   "name": "python",
   "nbconvert_exporter": "python",
   "pygments_lexer": "ipython3",
   "version": "3.6.1"
  }
 },
 "nbformat": 4,
 "nbformat_minor": 2
}
