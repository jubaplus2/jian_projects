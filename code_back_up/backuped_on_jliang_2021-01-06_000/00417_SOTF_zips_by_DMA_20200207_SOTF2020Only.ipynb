{
 "cells": [
  {
   "cell_type": "code",
   "execution_count": 1,
   "metadata": {},
   "outputs": [
    {
     "data": {
      "text/plain": [
       "'/home/jian/Projects/Big_Lots/Analysis/2020_Q1/plannder_requests/BR_Margaret_zips_SOTF2020_20200207'"
      ]
     },
     "execution_count": 1,
     "metadata": {},
     "output_type": "execute_result"
    }
   ],
   "source": [
    "# Updated to include all SOTF2020\n",
    "\n",
    "import pandas as pd\n",
    "import numpy as np\n",
    "import os\n",
    "import datetime\n",
    "from haversine import haversine\n",
    "import json\n",
    "\n",
    "zip_centers=json.load(open(\"/home/jian/Docs/Geo_mapping/updated_zip_centers_JL_2019-05-23.json\"))\n",
    "\n",
    "os.getcwd()"
   ]
  },
  {
   "cell_type": "code",
   "execution_count": 2,
   "metadata": {},
   "outputs": [
    {
     "data": {
      "text/plain": [
       "(256, 11)"
      ]
     },
     "execution_count": 2,
     "metadata": {},
     "output_type": "execute_result"
    }
   ],
   "source": [
    "df_SOTF_2020=pd.read_excel(\"./2020 SOTF Ad & Display Schedules.xlsx\",\n",
    "                           dtype=str,skiprows=1,sheet_name=\"2020 SOTF TEXT AD SCHEDULE\")\n",
    "df_SOTF_2020=df_SOTF_2020.rename(columns={\"STORE #\":\"location_id\"})\n",
    "df_SOTF_2020.shape"
   ]
  },
  {
   "cell_type": "code",
   "execution_count": 3,
   "metadata": {},
   "outputs": [
    {
     "data": {
      "text/html": [
       "<div>\n",
       "<style scoped>\n",
       "    .dataframe tbody tr th:only-of-type {\n",
       "        vertical-align: middle;\n",
       "    }\n",
       "\n",
       "    .dataframe tbody tr th {\n",
       "        vertical-align: top;\n",
       "    }\n",
       "\n",
       "    .dataframe thead th {\n",
       "        text-align: right;\n",
       "    }\n",
       "</style>\n",
       "<table border=\"1\" class=\"dataframe\">\n",
       "  <thead>\n",
       "    <tr style=\"text-align: right;\">\n",
       "      <th></th>\n",
       "      <th>TA_num</th>\n",
       "      <th>ta_name</th>\n",
       "      <th>location_id</th>\n",
       "      <th>address_line_1</th>\n",
       "      <th>address_line_2</th>\n",
       "      <th>zip_cd</th>\n",
       "      <th>city_nm</th>\n",
       "      <th>state_nm</th>\n",
       "      <th>latitude_meas</th>\n",
       "      <th>longitude_meas</th>\n",
       "      <th>DMA</th>\n",
       "      <th>CTY</th>\n",
       "      <th>all_trans_P_zips</th>\n",
       "      <th>all_trans_S_zips</th>\n",
       "      <th>zips_in_10</th>\n",
       "      <th>trans_P_zips_70_within_TA</th>\n",
       "      <th>trans_S_zips_70_within_TA</th>\n",
       "    </tr>\n",
       "  </thead>\n",
       "  <tbody>\n",
       "    <tr>\n",
       "      <th>0</th>\n",
       "      <td>1</td>\n",
       "      <td>multiple_1</td>\n",
       "      <td>1949</td>\n",
       "      <td>3178 LAVON DR</td>\n",
       "      <td>NaN</td>\n",
       "      <td>75040</td>\n",
       "      <td>GARLAND</td>\n",
       "      <td>TX</td>\n",
       "      <td>32.945015</td>\n",
       "      <td>-96.619194</td>\n",
       "      <td>{'DALLAS-FT. WORTH'}</td>\n",
       "      <td>{'DALLAS'}</td>\n",
       "      <td>['75040', '75044', '75048', '75098']</td>\n",
       "      <td>['75089', '75042', '75043', '75041', '75088', ...</td>\n",
       "      <td>[]</td>\n",
       "      <td>['75040', '75098', '75044', '75048']</td>\n",
       "      <td>['75088', '75042', '75082', '75043', '75089', ...</td>\n",
       "    </tr>\n",
       "    <tr>\n",
       "      <th>1</th>\n",
       "      <td>1</td>\n",
       "      <td>multiple_1</td>\n",
       "      <td>1255</td>\n",
       "      <td>1418 W MOORE AVE</td>\n",
       "      <td>NaN</td>\n",
       "      <td>75160</td>\n",
       "      <td>TERRELL</td>\n",
       "      <td>TX</td>\n",
       "      <td>32.738772</td>\n",
       "      <td>-96.299877</td>\n",
       "      <td>{'DALLAS-FT. WORTH'}</td>\n",
       "      <td>{'HUNT', 'KAUFMAN', 'ROCKWALL'}</td>\n",
       "      <td>['75160', '75126', '75161']</td>\n",
       "      <td>['75142', '75169', '75474', '75143', '75114', ...</td>\n",
       "      <td>[]</td>\n",
       "      <td>['75126', '75161', '75160']</td>\n",
       "      <td>['75142', '75169', '75150', '75117', '75143', ...</td>\n",
       "    </tr>\n",
       "  </tbody>\n",
       "</table>\n",
       "</div>"
      ],
      "text/plain": [
       "  TA_num     ta_name location_id    address_line_1 address_line_2 zip_cd  \\\n",
       "0      1  multiple_1        1949     3178 LAVON DR            NaN  75040   \n",
       "1      1  multiple_1        1255  1418 W MOORE AVE            NaN  75160   \n",
       "\n",
       "   city_nm state_nm latitude_meas longitude_meas                   DMA  \\\n",
       "0  GARLAND       TX     32.945015     -96.619194  {'DALLAS-FT. WORTH'}   \n",
       "1  TERRELL       TX     32.738772     -96.299877  {'DALLAS-FT. WORTH'}   \n",
       "\n",
       "                               CTY                      all_trans_P_zips  \\\n",
       "0                       {'DALLAS'}  ['75040', '75044', '75048', '75098']   \n",
       "1  {'HUNT', 'KAUFMAN', 'ROCKWALL'}           ['75160', '75126', '75161']   \n",
       "\n",
       "                                    all_trans_S_zips zips_in_10  \\\n",
       "0  ['75089', '75042', '75043', '75041', '75088', ...         []   \n",
       "1  ['75142', '75169', '75474', '75143', '75114', ...         []   \n",
       "\n",
       "              trans_P_zips_70_within_TA  \\\n",
       "0  ['75040', '75098', '75044', '75048']   \n",
       "1           ['75126', '75161', '75160']   \n",
       "\n",
       "                           trans_S_zips_70_within_TA  \n",
       "0  ['75088', '75042', '75082', '75043', '75089', ...  \n",
       "1  ['75142', '75169', '75150', '75117', '75143', ...  "
      ]
     },
     "execution_count": 3,
     "metadata": {},
     "output_type": "execute_result"
    }
   ],
   "source": [
    "TA_zips=pd.ExcelFile(\"/home/jian/Projects/Big_Lots/New_TA/TA_created_in_201906/final_output_20190718/BL_final_TA_updated_JL_2019-07-18.xlsx\")\n",
    "TA_zips=TA_zips.parse(\"view_by_store\",dtype=str)\n",
    "TA_zips.head(2)"
   ]
  },
  {
   "cell_type": "code",
   "execution_count": 4,
   "metadata": {},
   "outputs": [],
   "source": [
    "df_temporary=TA_zips[['location_id','trans_P_zips_70_within_TA','trans_S_zips_70_within_TA','zips_in_10']]\n",
    "df_zip_by_store=pd.DataFrame()\n",
    "\n",
    "for ind,row in df_temporary.iterrows():\n",
    "    location_id=row['location_id']\n",
    "    P_zips=eval(row['trans_P_zips_70_within_TA'])\n",
    "    S_zips=eval(row['trans_S_zips_70_within_TA'])\n",
    "    zip_10=eval(row['zips_in_10'])\n",
    "    \n",
    "\n",
    "    df_P=pd.DataFrame(zip([location_id]*len(P_zips),P_zips))\n",
    "    if len(df_P)>0:\n",
    "        df_P.columns=['location_id','zip_cd']\n",
    "        df_P['zip_type']=\"P\"\n",
    "        \n",
    "    df_S=pd.DataFrame(zip([location_id]*len(S_zips),S_zips))\n",
    "    if len(df_S)>0:\n",
    "        df_S.columns=['location_id','zip_cd']\n",
    "        df_S['zip_type']=\"S\"\n",
    "    \n",
    "    df_10=pd.DataFrame(zip([location_id]*len(zip_10),zip_10))\n",
    "    if len(df_10)>0:\n",
    "        df_10.columns=['location_id','zip_cd']\n",
    "        df_10['zip_type']=\"zip_10\"\n",
    "    \n",
    "    df_zip_by_store=df_zip_by_store.append(df_P).append(df_S).append(df_10)"
   ]
  },
  {
   "cell_type": "code",
   "execution_count": 5,
   "metadata": {},
   "outputs": [
    {
     "data": {
      "text/plain": [
       "12980"
      ]
     },
     "execution_count": 5,
     "metadata": {},
     "output_type": "execute_result"
    }
   ],
   "source": [
    "df_zip_by_store['zip_cd'].nunique()"
   ]
  },
  {
   "cell_type": "code",
   "execution_count": 6,
   "metadata": {},
   "outputs": [
    {
     "name": "stdout",
     "output_type": "stream",
     "text": [
      "(51324, 2)\n",
      "(43102, 2)\n"
     ]
    }
   ],
   "source": [
    "df_DMA_mapping=pd.read_excel(\"/home/jian/Docs/Geo_mapping/Zips by DMA by County16-17 nielsen.xlsx\",\n",
    "                             skiprows=1,dtype=str)\n",
    "df_DMA_mapping=df_DMA_mapping.iloc[:,[0,2]]\n",
    "df_DMA_mapping.columns=['zip_cd','DMA']\n",
    "print(df_DMA_mapping.shape)\n",
    "df_DMA_mapping=df_DMA_mapping.drop_duplicates()\n",
    "print(df_DMA_mapping.shape)\n"
   ]
  },
  {
   "cell_type": "code",
   "execution_count": 7,
   "metadata": {},
   "outputs": [],
   "source": [
    "df_store_location=pd.read_csv(\"/home/jian/BigLots/static_files/Store_list/MediaStormStores20200201-134613-934.txt\",\n",
    "                             sep=\"|\",dtype=str)\n",
    "df_store_location=df_store_location[['location_id','zip_cd','latitude_meas','longitude_meas']]\n",
    "df_store_location['zip_cd']=df_store_location['zip_cd'].apply(lambda x: x.split(\"-\")[0].zfill(5))\n",
    "df_store_location['latitude_meas']=df_store_location['latitude_meas'].astype(float)\n",
    "df_store_location['longitude_meas']=df_store_location['longitude_meas'].astype(float)\n",
    "\n",
    "df_store_lat_lng=df_store_location.loc[:,['location_id','zip_cd','latitude_meas','longitude_meas']]\n",
    "df_store_lat_lng=df_store_lat_lng.rename(columns={\"zip_cd\":\"store_zip\"})"
   ]
  },
  {
   "cell_type": "code",
   "execution_count": 8,
   "metadata": {},
   "outputs": [
    {
     "data": {
      "text/html": [
       "<div>\n",
       "<style scoped>\n",
       "    .dataframe tbody tr th:only-of-type {\n",
       "        vertical-align: middle;\n",
       "    }\n",
       "\n",
       "    .dataframe tbody tr th {\n",
       "        vertical-align: top;\n",
       "    }\n",
       "\n",
       "    .dataframe thead th {\n",
       "        text-align: right;\n",
       "    }\n",
       "</style>\n",
       "<table border=\"1\" class=\"dataframe\">\n",
       "  <thead>\n",
       "    <tr style=\"text-align: right;\">\n",
       "      <th></th>\n",
       "      <th>location_id</th>\n",
       "      <th>store_zip</th>\n",
       "      <th>latitude_meas</th>\n",
       "      <th>longitude_meas</th>\n",
       "    </tr>\n",
       "  </thead>\n",
       "  <tbody>\n",
       "    <tr>\n",
       "      <th>0</th>\n",
       "      <td>3</td>\n",
       "      <td>30906</td>\n",
       "      <td>33.421570</td>\n",
       "      <td>-82.018921</td>\n",
       "    </tr>\n",
       "    <tr>\n",
       "      <th>1</th>\n",
       "      <td>30</td>\n",
       "      <td>43402</td>\n",
       "      <td>41.363132</td>\n",
       "      <td>-83.650909</td>\n",
       "    </tr>\n",
       "  </tbody>\n",
       "</table>\n",
       "</div>"
      ],
      "text/plain": [
       "  location_id store_zip  latitude_meas  longitude_meas\n",
       "0           3     30906      33.421570      -82.018921\n",
       "1          30     43402      41.363132      -83.650909"
      ]
     },
     "execution_count": 8,
     "metadata": {},
     "output_type": "execute_result"
    }
   ],
   "source": [
    "df_store_lat_lng.head(2)"
   ]
  },
  {
   "cell_type": "code",
   "execution_count": 9,
   "metadata": {},
   "outputs": [],
   "source": [
    "df_SOTF_2020=pd.merge(df_SOTF_2020,df_store_lat_lng,on=\"location_id\",how=\"left\")"
   ]
  },
  {
   "cell_type": "code",
   "execution_count": 10,
   "metadata": {},
   "outputs": [],
   "source": [
    "df_SOTF_2020_new=df_SOTF_2020[pd.isnull(df_SOTF_2020['latitude_meas'])]\n",
    "df_SOTF_2020_existing=df_SOTF_2020[pd.notnull(df_SOTF_2020['latitude_meas'])]"
   ]
  },
  {
   "cell_type": "code",
   "execution_count": 11,
   "metadata": {},
   "outputs": [],
   "source": [
    "list_store_not_found=['4721','5414','5421'] # received in email from Margaret\n",
    "# RE: 2020 SOTF/Grand Openings - Local TV/Radio/Remotes Estimated Cost Request\n",
    "# 20200218 at 12:52 PM\n",
    "\n",
    "dict_new_stores={}\n",
    "\n",
    "# 4710 \t255 WEDDINGTON BRANCH ROAD\tMAGIC MART SC\tPIKEVILLE\tKY\t41501-3205\n",
    "dict_new_stores.update({\"4710\":{\"Google_Address\":\"255 Weddington Branch Rd, Pikeville, KY 41501\",\"Google_Location\":[37.5257758,-82.5685399]}})\n",
    "\n",
    "# 4712 \t2685 HILLTOP DRIVE\tKMART SC\tREDDING EPA ID, BAG BAN\tCA\t96002-1020\n",
    "dict_new_stores.update({\"4712\":{\"Google_Address\":\"2685 Hilltop Dr, Redding, CA 96002\",\"Google_Location\":[40.5684416,-122.357451]}})\n",
    "\n",
    "# 4713 783 DELSEA DRIVE\tCOLLEGETOWN SHOPPING CENTER\tGLASSBORO\tNJ\t08028\n",
    "dict_new_stores.update({\"4713\":{\"Google_Address\":\"731 Delsea Dr, Glassboro, NJ 08028\",\"Google_Location\":[39.72152,-75.116531]}})\n",
    "\n",
    "# 4714 1251 STATE ROUTE 29\tKMART PLAZA\tGREENWICH, BAG BAN\tNY\t12834-6119\n",
    "dict_new_stores.update({\"4714\":{\"Google_Address\":\"1251 NY-29, Greenwich, NY 12834\",\"Google_Location\":[43.0973489,-73.5079692]}})\n",
    "\n",
    "# 4715 4525 N ORACLE ROAD\tTOYS R US CENTER\tTUSCON\tAZ\t85705-1637\n",
    "dict_new_stores.update({\"4715\":{\"Google_Address\":\"4525 N Oracle Rd, Tucson, AZ 85705\",\"Google_Location\":[32.2885652,-110.9800392]}})\n",
    "\n",
    "# 4716 4208 E BLUE GRASS RD\tINDIAN HILLS PLAZA\tMOUNT PLEASANT\tMI\t48858-7966\n",
    "dict_new_stores.update({\"4716\":{\"Google_Address\":\"4208 E Blue Grass Rd, Mt Pleasant, MI 48858\",\"Google_Location\":[43.5739459,-84.7649652]}})\n",
    "\n",
    "# 4717 360 EAST 10TH ST\tGILROY VILLAGE\tGILROY EPA ID, BAG BAN\tCA\t95020-6576\n",
    "dict_new_stores.update({\"4717\":{\"Google_Address\":\"360 E 10th St, Gilroy, CA 95020\",\"Google_Location\":[37.0000558,-121.561048]}})\n",
    "\n",
    "# 4718 1631 WEST CRAIG ROAD\tNORTH MESA PLAZA\tNORTH LAS VEGAS\tNV\t89032\n",
    "dict_new_stores.update({\"4718\":{\"Google_Address\":\"1631 W Craig Rd, North Las Vegas, NV 89030\",\"Google_Location\":[36.2381894,-115.1644729]}})\n",
    "\n",
    "# 4719 3779 ROME ROAD\tPULASKI PLAZA\tPULASKI  BAG BAN\tNY\t13142-2402\n",
    "dict_new_stores.update({\"4719\":{\"Google_Address\":\"3779 NY-13 B, Pulaski, NY 13142\",\"Google_Location\":[43.5551558,-76.1163317]}})\n",
    "\n",
    "# 4720 2700 US HIGHWAY 22\tUNION 22 PLAZA\tUNION\tNJ\t07083-8564\n",
    "dict_new_stores.update({\"4720\":{\"Google_Address\":\"2700 US-22, Union, NJ 07083\",\"Google_Location\":[40.6866464,-74.311087]}})\n",
    "\n",
    "# 4721 400 Main Street, Dennis Port, MA, 02639\n",
    "dict_new_stores.update({\"4721\":{\"Google_Address\":\"400 Main St, Dennis Port, MA 02639\",\"Google_Location\":[41.66689,-70.1329873]}})\n",
    "\n",
    "# 5405 1300 US HIGHWAY 127\tFRANKLIN SQUARE & FRANKLIN WEST SHOPPING CENTER\tFRANKFORT\tKY\t40601-4395\n",
    "dict_new_stores.update({\"5405\":{\"Google_Address\":\"1300 US-127, Frankfort, KY 40601\",\"Google_Location\":[38.166582,-84.8998445]}})\n",
    "\n",
    "# 5412 2120 EAST DOROTHY LANE\tKETTERING TOWN CENTER\tKETTERING\tOH\t45420\n",
    "dict_new_stores.update({\"5412\":{\"Google_Address\":\"2120 E Dorothy Ln, Kettering, OH 45420\",\"Google_Location\":[39.701601,-84.1264112]}})\n",
    "\n",
    "# 5413 340 SEVILLE ST\tKOHLS SC\tFLORENCE\tAL\t35634-1511\n",
    "dict_new_stores.update({\"5413\":{\"Google_Address\":\"350 Seville St, Florence, AL 35630\",\"Google_Location\":[34.8382162,-87.6269289]}})\n",
    "\n",
    "# 5414 4125 Highway 20, Buford, GA, 30518\n",
    "dict_new_stores.update({\"5414\":{\"Google_Address\":\"4125 GA-20, Buford, GA 30518\",\"Google_Location\":[34.0935686,-84.0006123]}})\n",
    "\n",
    "# 5415 7743 SUDLEY ROAD\tSUDLEY TOWNE PLAZA\tMANASSAS\tVA\t20109-2813\n",
    "dict_new_stores.update({\"5415\":{\"Google_Address\":\"7665 Sudley Rd, Manassas, VA 20109\",\"Google_Location\":[38.7900885,-77.5121781]}})\n",
    "\n",
    "# 5417 558 BATTLEFIELD PARKWAY\tFORT OGLETHORPE MARKETPLACE\tFORT OGLERTHORPE\tGA\t30742-3849\n",
    "dict_new_stores.update({\"5417\":{\"Google_Address\":\"558 Battlefield Pkwy, Fort Oglethorpe, GA 30742\",\"Google_Location\":[34.9547068,-85.2557537]}})\n",
    "\n",
    "# 5418 1550 COSHOCTON AVE\tKNOX VILLAGE SQUARE\tMOUNT VERNON\tOH\t43050-1475\n",
    "dict_new_stores.update({\"5418\":{\"Google_Address\":\"1500 Coshocton Ave (US Highway 36, Mt Vernon, OH 43050\",\"Google_Location\":[40.4001295,-82.4460567]}})\n",
    "\n",
    "# 5419 1077 EAST STUART DRIVE SUITE 100\tTWIN COUNTRY PLAZA\tGALAX\tVA\t24333-2638\n",
    "dict_new_stores.update({\"5419\":{\"Google_Address\":\"1077 E Stuart Dr #100, Galax, VA 24333\",\"Google_Location\":[36.6845984,-80.8871837]}})\n",
    "\n",
    "# 5420 4025 POPLAR LEVEL ROAD\tKMART CENTER\tLOUISVILLE\tKY\t40213-1523\n",
    "dict_new_stores.update({\"5420\":{\"Google_Address\":\"4025 Poplar Level Rd, Louisville, KY 40213\",\"Google_Location\":[38.2009162,-85.7071697]}})\n",
    "\n",
    "# 5421 736 Warrenton Road, Fredericksburg, VA, 22406\n",
    "dict_new_stores.update({\"5421\":{\"Google_Address\":\"736 Warrenton Rd, Fredericksburg, VA 22406\",\"Google_Location\":[38.3531101,-77.5043113]}})\n"
   ]
  },
  {
   "cell_type": "code",
   "execution_count": 12,
   "metadata": {},
   "outputs": [
    {
     "name": "stderr",
     "output_type": "stream",
     "text": [
      "/home/jian/.local/lib/python3.6/site-packages/ipykernel_launcher.py:1: SettingWithCopyWarning: \n",
      "A value is trying to be set on a copy of a slice from a DataFrame.\n",
      "Try using .loc[row_indexer,col_indexer] = value instead\n",
      "\n",
      "See the caveats in the documentation: http://pandas.pydata.org/pandas-docs/stable/user_guide/indexing.html#returning-a-view-versus-a-copy\n",
      "  \"\"\"Entry point for launching an IPython kernel.\n",
      "/home/jian/.local/lib/python3.6/site-packages/ipykernel_launcher.py:2: SettingWithCopyWarning: \n",
      "A value is trying to be set on a copy of a slice from a DataFrame.\n",
      "Try using .loc[row_indexer,col_indexer] = value instead\n",
      "\n",
      "See the caveats in the documentation: http://pandas.pydata.org/pandas-docs/stable/user_guide/indexing.html#returning-a-view-versus-a-copy\n",
      "  \n",
      "/home/jian/.local/lib/python3.6/site-packages/ipykernel_launcher.py:3: SettingWithCopyWarning: \n",
      "A value is trying to be set on a copy of a slice from a DataFrame.\n",
      "Try using .loc[row_indexer,col_indexer] = value instead\n",
      "\n",
      "See the caveats in the documentation: http://pandas.pydata.org/pandas-docs/stable/user_guide/indexing.html#returning-a-view-versus-a-copy\n",
      "  This is separate from the ipykernel package so we can avoid doing imports until\n"
     ]
    }
   ],
   "source": [
    "df_SOTF_2020_new['store_zip']=df_SOTF_2020_new['location_id'].apply(lambda x: dict_new_stores[x]['Google_Address'][-5:])\n",
    "df_SOTF_2020_new['latitude_meas']=df_SOTF_2020_new['location_id'].apply(lambda x: dict_new_stores[x]['Google_Location'][0])\n",
    "df_SOTF_2020_new['longitude_meas']=df_SOTF_2020_new['location_id'].apply(lambda x: dict_new_stores[x]['Google_Location'][1])\n",
    "\n",
    "df_SOTF_2020=df_SOTF_2020_new.append(df_SOTF_2020_existing)\n",
    "df_SOTF_2020=df_SOTF_2020.sort_values(\"location_id\")"
   ]
  },
  {
   "cell_type": "code",
   "execution_count": 13,
   "metadata": {},
   "outputs": [
    {
     "data": {
      "text/plain": [
       "(1404, 4)"
      ]
     },
     "execution_count": 13,
     "metadata": {},
     "output_type": "execute_result"
    }
   ],
   "source": [
    "df_store_list=pd.read_table(\"/home/jian/BigLots/static_files/Store_list/MediaStormStores20200201-134613-934.txt\",\n",
    "                           dtype=str,sep=\"|\",usecols=['location_id','zip_cd','latitude_meas','longitude_meas'])\n",
    "df_store_list=df_store_list[['location_id','zip_cd','latitude_meas','longitude_meas']]\n",
    "df_store_list['zip_cd']=df_store_list['zip_cd'].apply(lambda x: x.split(\"-\")[0].zfill(5))\n",
    "df_store_list['latitude_meas']=df_store_list['latitude_meas'].astype(float)\n",
    "df_store_list['longitude_meas']=df_store_list['longitude_meas'].astype(float)\n",
    "df_store_list=df_store_list[df_store_list['location_id']!=\"6990\"]\n",
    "df_store_list=df_store_list[df_store_list['location_id']!=\"145\"]\n",
    "df_store_list=df_store_list.rename(columns={\"zip_cd\":\"store_zip\"})\n",
    "df_store_list.shape"
   ]
  },
  {
   "cell_type": "code",
   "execution_count": 14,
   "metadata": {},
   "outputs": [],
   "source": [
    "df_SOTF_2020['SOTF_label']=\"SOTF_2020\"\n",
    "df_store_list['SOTF_label']=\"others\"\n",
    "df_store_list=df_SOTF_2020[df_store_list.columns.tolist()].append(df_store_list).drop_duplicates(\"location_id\")"
   ]
  },
  {
   "cell_type": "code",
   "execution_count": 15,
   "metadata": {},
   "outputs": [
    {
     "data": {
      "text/plain": [
       "(1425, 5)"
      ]
     },
     "execution_count": 15,
     "metadata": {},
     "output_type": "execute_result"
    }
   ],
   "source": [
    "df_store_list.shape"
   ]
  },
  {
   "cell_type": "code",
   "execution_count": 16,
   "metadata": {},
   "outputs": [
    {
     "data": {
      "text/plain": [
       "(256, 5)"
      ]
     },
     "execution_count": 16,
     "metadata": {},
     "output_type": "execute_result"
    }
   ],
   "source": [
    "df_store_list[df_store_list['SOTF_label']==\"SOTF_2020\"].shape\n"
   ]
  },
  {
   "cell_type": "code",
   "execution_count": 17,
   "metadata": {},
   "outputs": [
    {
     "data": {
      "text/html": [
       "<div>\n",
       "<style scoped>\n",
       "    .dataframe tbody tr th:only-of-type {\n",
       "        vertical-align: middle;\n",
       "    }\n",
       "\n",
       "    .dataframe tbody tr th {\n",
       "        vertical-align: top;\n",
       "    }\n",
       "\n",
       "    .dataframe thead th {\n",
       "        text-align: right;\n",
       "    }\n",
       "</style>\n",
       "<table border=\"1\" class=\"dataframe\">\n",
       "  <thead>\n",
       "    <tr style=\"text-align: right;\">\n",
       "      <th></th>\n",
       "      <th>location_id</th>\n",
       "      <th>zip_cd</th>\n",
       "      <th>zip_type</th>\n",
       "    </tr>\n",
       "  </thead>\n",
       "  <tbody>\n",
       "    <tr>\n",
       "      <th>0</th>\n",
       "      <td>1949</td>\n",
       "      <td>75040</td>\n",
       "      <td>P</td>\n",
       "    </tr>\n",
       "    <tr>\n",
       "      <th>1</th>\n",
       "      <td>1949</td>\n",
       "      <td>75098</td>\n",
       "      <td>P</td>\n",
       "    </tr>\n",
       "  </tbody>\n",
       "</table>\n",
       "</div>"
      ],
      "text/plain": [
       "  location_id zip_cd zip_type\n",
       "0        1949  75040        P\n",
       "1        1949  75098        P"
      ]
     },
     "execution_count": 17,
     "metadata": {},
     "output_type": "execute_result"
    }
   ],
   "source": [
    "df_zip_by_store.head(2)"
   ]
  },
  {
   "cell_type": "code",
   "execution_count": 18,
   "metadata": {},
   "outputs": [
    {
     "data": {
      "text/html": [
       "<div>\n",
       "<style scoped>\n",
       "    .dataframe tbody tr th:only-of-type {\n",
       "        vertical-align: middle;\n",
       "    }\n",
       "\n",
       "    .dataframe tbody tr th {\n",
       "        vertical-align: top;\n",
       "    }\n",
       "\n",
       "    .dataframe thead th {\n",
       "        text-align: right;\n",
       "    }\n",
       "</style>\n",
       "<table border=\"1\" class=\"dataframe\">\n",
       "  <thead>\n",
       "    <tr style=\"text-align: right;\">\n",
       "      <th></th>\n",
       "      <th>location_id</th>\n",
       "      <th>store_zip</th>\n",
       "      <th>latitude_meas</th>\n",
       "      <th>longitude_meas</th>\n",
       "      <th>SOTF_label</th>\n",
       "      <th>zip_cd</th>\n",
       "      <th>zip_type</th>\n",
       "    </tr>\n",
       "  </thead>\n",
       "  <tbody>\n",
       "    <tr>\n",
       "      <th>0</th>\n",
       "      <td>1003</td>\n",
       "      <td>30120</td>\n",
       "      <td>34.175447</td>\n",
       "      <td>-84.787971</td>\n",
       "      <td>SOTF_2020</td>\n",
       "      <td>30120</td>\n",
       "      <td>P</td>\n",
       "    </tr>\n",
       "    <tr>\n",
       "      <th>1</th>\n",
       "      <td>1003</td>\n",
       "      <td>30120</td>\n",
       "      <td>34.175447</td>\n",
       "      <td>-84.787971</td>\n",
       "      <td>SOTF_2020</td>\n",
       "      <td>30121</td>\n",
       "      <td>P</td>\n",
       "    </tr>\n",
       "  </tbody>\n",
       "</table>\n",
       "</div>"
      ],
      "text/plain": [
       "  location_id store_zip  latitude_meas  longitude_meas SOTF_label zip_cd  \\\n",
       "0        1003     30120      34.175447      -84.787971  SOTF_2020  30120   \n",
       "1        1003     30120      34.175447      -84.787971  SOTF_2020  30121   \n",
       "\n",
       "  zip_type  \n",
       "0        P  \n",
       "1        P  "
      ]
     },
     "execution_count": 18,
     "metadata": {},
     "output_type": "execute_result"
    }
   ],
   "source": [
    "TA_zips_for_all_stores=pd.DataFrame()\n",
    "\n",
    "TA_zips_for_all_stores_1=pd.merge(df_store_list,df_zip_by_store,on=\"location_id\",how=\"left\")\n",
    "TA_zips_for_all_stores_1.head(2)"
   ]
  },
  {
   "cell_type": "code",
   "execution_count": 19,
   "metadata": {},
   "outputs": [
    {
     "name": "stdout",
     "output_type": "stream",
     "text": [
      "(51, 7)\n"
     ]
    }
   ],
   "source": [
    "TA_zips_for_all_stores_2=TA_zips_for_all_stores_1[pd.isnull(TA_zips_for_all_stores_1['zip_cd'])]\n",
    "TA_zips_for_all_stores_1=TA_zips_for_all_stores_1[pd.notnull(TA_zips_for_all_stores_1['zip_cd'])]\n",
    "print(TA_zips_for_all_stores_2.shape)\n",
    "\n",
    "del TA_zips_for_all_stores_2['zip_cd']\n",
    "del TA_zips_for_all_stores_2['zip_type']"
   ]
  },
  {
   "cell_type": "code",
   "execution_count": 20,
   "metadata": {},
   "outputs": [
    {
     "data": {
      "text/plain": [
       "(0, 5)"
      ]
     },
     "execution_count": 20,
     "metadata": {},
     "output_type": "execute_result"
    }
   ],
   "source": [
    "TA_zips_for_all_stores_2[pd.isnull(TA_zips_for_all_stores_2['latitude_meas'])].shape"
   ]
  },
  {
   "cell_type": "code",
   "execution_count": 21,
   "metadata": {},
   "outputs": [],
   "source": [
    "df_10_zips_all_new_stores=pd.DataFrame()\n",
    "for ind, row in TA_zips_for_all_stores_2.iterrows():\n",
    "    location_id=row['location_id']\n",
    "    store_location=(row['latitude_meas'],row['longitude_meas'])\n",
    "    for zip_cd,v in zip_centers.items():\n",
    "        dist=haversine(store_location,v,unit=\"mi\")\n",
    "        if dist<=10:\n",
    "            # print(location_id,zip_cd)\n",
    "            df=pd.DataFrame({\"location_id\":[location_id],\"zip_cd\":[zip_cd],\"dist\":[dist]})\n",
    "            df_10_zips_all_new_stores=df_10_zips_all_new_stores.append(df)\n",
    "df_10_zips_all_new_stores['zip_type']=\"zip_10\""
   ]
  },
  {
   "cell_type": "code",
   "execution_count": 22,
   "metadata": {},
   "outputs": [
    {
     "name": "stdout",
     "output_type": "stream",
     "text": [
      "(1250, 4) 51\n"
     ]
    }
   ],
   "source": [
    "print(df_10_zips_all_new_stores.shape,df_10_zips_all_new_stores['location_id'].nunique())"
   ]
  },
  {
   "cell_type": "code",
   "execution_count": 23,
   "metadata": {},
   "outputs": [
    {
     "name": "stdout",
     "output_type": "stream",
     "text": [
      "(23846, 7) 1425 13455\n"
     ]
    }
   ],
   "source": [
    "df_new_store_zips=df_10_zips_all_new_stores[['location_id','zip_cd','zip_type']]\n",
    "TA_zips_for_all_stores_2=pd.merge(TA_zips_for_all_stores_2,df_new_store_zips,how=\"left\")\n",
    "TA_zips_for_all_stores=TA_zips_for_all_stores_1.append(TA_zips_for_all_stores_2)\n",
    "print(TA_zips_for_all_stores.shape,TA_zips_for_all_stores['location_id'].nunique(),TA_zips_for_all_stores['zip_cd'].nunique())"
   ]
  },
  {
   "cell_type": "code",
   "execution_count": 24,
   "metadata": {},
   "outputs": [
    {
     "data": {
      "text/plain": [
       "3"
      ]
     },
     "execution_count": 24,
     "metadata": {},
     "output_type": "execute_result"
    }
   ],
   "source": [
    "TA_zips_for_all_stores_1['zip_type'].nunique()"
   ]
  },
  {
   "cell_type": "code",
   "execution_count": 25,
   "metadata": {},
   "outputs": [
    {
     "data": {
      "text/plain": [
       "array(['SOTF_2020', 'others'], dtype=object)"
      ]
     },
     "execution_count": 25,
     "metadata": {},
     "output_type": "execute_result"
    }
   ],
   "source": [
    "TA_zips_for_all_stores['SOTF_label'].unique()"
   ]
  },
  {
   "cell_type": "code",
   "execution_count": 26,
   "metadata": {},
   "outputs": [
    {
     "data": {
      "text/plain": [
       "(4405, 7)"
      ]
     },
     "execution_count": 26,
     "metadata": {},
     "output_type": "execute_result"
    }
   ],
   "source": [
    "df_output_1=TA_zips_for_all_stores[TA_zips_for_all_stores['SOTF_label']==\"SOTF_2020\"]\n",
    "df_output_1.shape"
   ]
  },
  {
   "cell_type": "code",
   "execution_count": 27,
   "metadata": {},
   "outputs": [
    {
     "data": {
      "text/html": [
       "<div>\n",
       "<style scoped>\n",
       "    .dataframe tbody tr th:only-of-type {\n",
       "        vertical-align: middle;\n",
       "    }\n",
       "\n",
       "    .dataframe tbody tr th {\n",
       "        vertical-align: top;\n",
       "    }\n",
       "\n",
       "    .dataframe thead th {\n",
       "        text-align: right;\n",
       "    }\n",
       "</style>\n",
       "<table border=\"1\" class=\"dataframe\">\n",
       "  <thead>\n",
       "    <tr style=\"text-align: right;\">\n",
       "      <th></th>\n",
       "      <th>location_id</th>\n",
       "      <th>store_zip</th>\n",
       "      <th>latitude_meas</th>\n",
       "      <th>longitude_meas</th>\n",
       "      <th>SOTF_label</th>\n",
       "      <th>zip_cd</th>\n",
       "      <th>zip_type</th>\n",
       "    </tr>\n",
       "  </thead>\n",
       "  <tbody>\n",
       "    <tr>\n",
       "      <th>0</th>\n",
       "      <td>1003</td>\n",
       "      <td>30120</td>\n",
       "      <td>34.175447</td>\n",
       "      <td>-84.787971</td>\n",
       "      <td>SOTF_2020</td>\n",
       "      <td>30120</td>\n",
       "      <td>P</td>\n",
       "    </tr>\n",
       "    <tr>\n",
       "      <th>1</th>\n",
       "      <td>1003</td>\n",
       "      <td>30120</td>\n",
       "      <td>34.175447</td>\n",
       "      <td>-84.787971</td>\n",
       "      <td>SOTF_2020</td>\n",
       "      <td>30121</td>\n",
       "      <td>P</td>\n",
       "    </tr>\n",
       "  </tbody>\n",
       "</table>\n",
       "</div>"
      ],
      "text/plain": [
       "  location_id store_zip  latitude_meas  longitude_meas SOTF_label zip_cd  \\\n",
       "0        1003     30120      34.175447      -84.787971  SOTF_2020  30120   \n",
       "1        1003     30120      34.175447      -84.787971  SOTF_2020  30121   \n",
       "\n",
       "  zip_type  \n",
       "0        P  \n",
       "1        P  "
      ]
     },
     "execution_count": 27,
     "metadata": {},
     "output_type": "execute_result"
    }
   ],
   "source": [
    "TA_zips_for_all_stores.head(2)"
   ]
  },
  {
   "cell_type": "code",
   "execution_count": 28,
   "metadata": {},
   "outputs": [
    {
     "data": {
      "text/plain": [
       "(23846, 7)"
      ]
     },
     "execution_count": 28,
     "metadata": {},
     "output_type": "execute_result"
    }
   ],
   "source": [
    "TA_zips_for_all_stores.shape"
   ]
  },
  {
   "cell_type": "code",
   "execution_count": 29,
   "metadata": {},
   "outputs": [
    {
     "name": "stdout",
     "output_type": "stream",
     "text": [
      "(25577, 9)\n"
     ]
    }
   ],
   "source": [
    "df_output_2=TA_zips_for_all_stores.copy()\n",
    "df_DMA_mapping_store=df_DMA_mapping.rename(columns={\"zip_cd\":\"store_zip\"})\n",
    "df_output_2=pd.merge(df_output_2,df_DMA_mapping_store,on=\"store_zip\",how=\"left\").rename(columns={\"DMA\":\"DMA_of_store\"})\n",
    "df_output_2=pd.merge(df_output_2,df_DMA_mapping,on=\"zip_cd\",how=\"left\").rename(columns={\"DMA\":\"DMA_of_zip\"})\n",
    "print(df_output_2.shape)"
   ]
  },
  {
   "cell_type": "code",
   "execution_count": 30,
   "metadata": {},
   "outputs": [
    {
     "data": {
      "text/plain": [
       "array(['SOTF_2020', 'others'], dtype=object)"
      ]
     },
     "execution_count": 30,
     "metadata": {},
     "output_type": "execute_result"
    }
   ],
   "source": [
    "df_output_2['SOTF_label'].unique()"
   ]
  },
  {
   "cell_type": "code",
   "execution_count": 31,
   "metadata": {},
   "outputs": [],
   "source": [
    "df_output_2_all=df_output_2.groupby(\"DMA_of_store\")['location_id','zip_cd'].nunique().reset_index()\n",
    "df_output_2_all=df_output_2_all.rename(columns={\"location_id\":\"all_store_count\",\"zip_cd\":\"all_TA_zip_count\"})\n",
    "\n",
    "df_output_2_SOTF=df_output_2[df_output_2['SOTF_label']==\"SOTF_2020\"]\n",
    "df_output_2_SOTF=df_output_2_SOTF.groupby(\"DMA_of_store\")['location_id','zip_cd'].nunique().reset_index()\n",
    "df_output_2_SOTF=df_output_2_SOTF.rename(columns={\"location_id\":\"SOTF2020_store_count\",\"zip_cd\":\"SOTF2020_TA_zip_count\"})\n",
    "\n",
    "df_output_2=pd.merge(df_output_2_all,df_output_2_SOTF,on=\"DMA_of_store\",how=\"outer\")\n",
    "df_output_2=df_output_2[['DMA_of_store','all_store_count','SOTF2020_store_count','all_TA_zip_count','SOTF2020_TA_zip_count']]\n",
    "df_output_2=df_output_2.fillna(0)\n",
    "df_output_2['Zip_Pctg_SOTF2020']=np.round(df_output_2['SOTF2020_TA_zip_count']/df_output_2['all_TA_zip_count'],4)\n",
    "\n"
   ]
  },
  {
   "cell_type": "code",
   "execution_count": 32,
   "metadata": {},
   "outputs": [],
   "source": [
    "writer=pd.ExcelWriter(\"./BL_zips_by_SOTF_JL_\"+str(datetime.datetime.now().date())+\".xlsx\",engine=\"xlsxwriter\")\n",
    "\n",
    "df_output_1.to_excel(writer,\"request_1_zips_for_SOTF\",index=False)\n",
    "\n",
    "df_output_2.to_excel(writer,\"request_2_by_DMA\",index=False)\n",
    "\n",
    "writer.save()"
   ]
  },
  {
   "cell_type": "code",
   "execution_count": 33,
   "metadata": {},
   "outputs": [],
   "source": [
    "# Get the list of SOTF in multiple DMAs\n",
    "df_output_1_qc=pd.merge(df_output_1,df_DMA_mapping_store,on=\"store_zip\",how=\"left\")\n",
    "df_output_1_qc=df_output_1_qc.groupby(\"location_id\")['DMA'].apply(set).to_frame().reset_index()\n",
    "df_output_1_qc['DMA_count']=df_output_1_qc['DMA'].apply(len)\n",
    "df_output_1_qc=df_output_1_qc.sort_values([\"DMA_count\",'location_id'],ascending=[False,True])\n",
    "df_output_1_qc.shape\n",
    "\n",
    "df_output_1_qc.to_csv(\"./BL_SOTF_in_multiple_DMAs_JL_\"+str(datetime.datetime.now().date())+\".csv\",index=False)"
   ]
  },
  {
   "cell_type": "code",
   "execution_count": null,
   "metadata": {},
   "outputs": [],
   "source": []
  }
 ],
 "metadata": {
  "kernelspec": {
   "display_name": "Python 3",
   "language": "python",
   "name": "python3"
  },
  "language_info": {
   "codemirror_mode": {
    "name": "ipython",
    "version": 3
   },
   "file_extension": ".py",
   "mimetype": "text/x-python",
   "name": "python",
   "nbconvert_exporter": "python",
   "pygments_lexer": "ipython3",
   "version": "3.6.1"
  }
 },
 "nbformat": 4,
 "nbformat_minor": 2
}
