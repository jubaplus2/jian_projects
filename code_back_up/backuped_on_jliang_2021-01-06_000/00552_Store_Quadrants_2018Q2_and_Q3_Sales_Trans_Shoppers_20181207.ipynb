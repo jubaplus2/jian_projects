{
 "cells": [
  {
   "cell_type": "code",
   "execution_count": 1,
   "metadata": {
    "collapsed": true
   },
   "outputs": [],
   "source": [
    "# Changed on 1207:\n",
    "#1.Positve Transction both quarter\n",
    "#2.Correct the mistake of missing 6 days for Q2 for Rewards sales, transactions and unique shoppers\n",
    "import pandas as pd\n",
    "import os\n",
    "import numpy as np\n",
    "import datetime\n",
    "import hashlib\n",
    "import gc\n",
    "samplerows=100\n",
    "\n",
    "import logging\n",
    "logging.basicConfig(filename='BL_2017_2018_Q2_Q3_Sales_Trans_Ids.log', level=logging.INFO)\n",
    "logging.info(str(datetime.datetime.now())+\" | Check_Point_1\")"
   ]
  },
  {
   "cell_type": "code",
   "execution_count": 2,
   "metadata": {
    "collapsed": true
   },
   "outputs": [],
   "source": [
    "Q2_Start_week_2018=datetime.date(2018,8,11)-datetime.timedelta(days=13*7) #Campared with Q3\n",
    "Q2_End_week_2018=datetime.date(2018,11,3)-datetime.timedelta(days=13*7)\n",
    "Q2_Start_week_2017=datetime.date(2017,8,12)-datetime.timedelta(days=13*7)\n",
    "Q2_End_week_2017=datetime.date(2017,11,4)-datetime.timedelta(days=13*7)\n",
    "Q2_2017_Weeks=[str(Q2_Start_week_2017+datetime.timedelta(days=7*i)) for i in range(13)]\n",
    "Q2_2018_Weeks=[str(Q2_Start_week_2018+datetime.timedelta(days=7*i)) for i in range(13)]\n",
    "\n",
    "\n",
    "Q3_Start_week_2018=datetime.date(2018,8,11)\n",
    "Q3_End_week_2018=datetime.date(2018,11,3)\n",
    "Q3_Start_week_2017=datetime.date(2017,8,12)\n",
    "Q3_End_week_2017=datetime.date(2017,11,4)\n",
    "Q3_2017_Weeks=[str(Q3_Start_week_2017+datetime.timedelta(days=7*i)) for i in range(13)]\n",
    "Q3_2018_Weeks=[str(Q3_Start_week_2018+datetime.timedelta(days=7*i)) for i in range(13)]\n",
    "logging.info(str(datetime.datetime.now())+\" | Check_Point_2\")"
   ]
  },
  {
   "cell_type": "code",
   "execution_count": 5,
   "metadata": {},
   "outputs": [
    {
     "data": {
      "text/plain": [
       "['2018-05-12',\n",
       " '2018-05-19',\n",
       " '2018-05-26',\n",
       " '2018-06-02',\n",
       " '2018-06-09',\n",
       " '2018-06-16',\n",
       " '2018-06-23',\n",
       " '2018-06-30',\n",
       " '2018-07-07',\n",
       " '2018-07-14',\n",
       " '2018-07-21',\n",
       " '2018-07-28',\n",
       " '2018-08-04']"
      ]
     },
     "execution_count": 5,
     "metadata": {},
     "output_type": "execute_result"
    }
   ],
   "source": [
    "Q2_2018_Weeks"
   ]
  },
  {
   "cell_type": "code",
   "execution_count": 9,
   "metadata": {},
   "outputs": [
    {
     "ename": "AttributeError",
     "evalue": "'float' object has no attribute 'days'",
     "output_type": "error",
     "traceback": [
      "\u001b[0;31m---------------------------------------------------------------------------\u001b[0m",
      "\u001b[0;31mAttributeError\u001b[0m                            Traceback (most recent call last)",
      "\u001b[0;32m<ipython-input-9-e3f1b4363066>\u001b[0m in \u001b[0;36m<module>\u001b[0;34m()\u001b[0m\n\u001b[1;32m     44\u001b[0m \u001b[0mlogging\u001b[0m\u001b[0;34m.\u001b[0m\u001b[0minfo\u001b[0m\u001b[0;34m(\u001b[0m\u001b[0;34m\"2017Q2_min: \"\u001b[0m\u001b[0;34m+\u001b[0m\u001b[0mstr\u001b[0m\u001b[0;34m(\u001b[0m\u001b[0mDate_2017_Q2_Min\u001b[0m\u001b[0;34m)\u001b[0m\u001b[0;34m)\u001b[0m\u001b[0;34m\u001b[0m\u001b[0m\n\u001b[1;32m     45\u001b[0m \u001b[0mlogging\u001b[0m\u001b[0;34m.\u001b[0m\u001b[0minfo\u001b[0m\u001b[0;34m(\u001b[0m\u001b[0;34m\"2017Q2_max: \"\u001b[0m\u001b[0;34m+\u001b[0m\u001b[0mstr\u001b[0m\u001b[0;34m(\u001b[0m\u001b[0mDate_2017_Q2_Max\u001b[0m\u001b[0;34m)\u001b[0m\u001b[0;34m)\u001b[0m\u001b[0;34m\u001b[0m\u001b[0m\n\u001b[0;32m---> 46\u001b[0;31m \u001b[0mlogging\u001b[0m\u001b[0;34m.\u001b[0m\u001b[0minfo\u001b[0m\u001b[0;34m(\u001b[0m\u001b[0mstr\u001b[0m\u001b[0;34m(\u001b[0m\u001b[0;34m(\u001b[0m\u001b[0mDate_2017_Q2_Max\u001b[0m\u001b[0;34m-\u001b[0m\u001b[0mDate_2017_Q2_Min\u001b[0m\u001b[0;34m)\u001b[0m\u001b[0;34m.\u001b[0m\u001b[0mdays\u001b[0m\u001b[0;34m)\u001b[0m\u001b[0;34m)\u001b[0m\u001b[0;34m\u001b[0m\u001b[0m\n\u001b[0m\u001b[1;32m     47\u001b[0m \u001b[0;34m\u001b[0m\u001b[0m\n\u001b[1;32m     48\u001b[0m \u001b[0mlogging\u001b[0m\u001b[0;34m.\u001b[0m\u001b[0minfo\u001b[0m\u001b[0;34m(\u001b[0m\u001b[0;34m\"2017Q3_min: \"\u001b[0m\u001b[0;34m+\u001b[0m\u001b[0mstr\u001b[0m\u001b[0;34m(\u001b[0m\u001b[0mDate_2017_Q3_Min\u001b[0m\u001b[0;34m)\u001b[0m\u001b[0;34m)\u001b[0m\u001b[0;34m\u001b[0m\u001b[0m\n",
      "\u001b[0;31mAttributeError\u001b[0m: 'float' object has no attribute 'days'"
     ]
    }
   ],
   "source": [
    "weird_id_removed=\"5efa406f90b87aee3110c8dcebfaddcc246364bc6817e83a8f2ef508ec42f597\"\n",
    "\n",
    "rewards_sales_from_SP=pd.read_csv(\"/home/jian/Projects/Big_Lots/Loyal_members/loyalty_sales_data/From_Sp/combinedtransactions_0811.csv\",\n",
    "                                 dtype=str,nrows=samplerows,usecols=['customer_id_hashed','transaction_date','transaction_id','location_id','total_transaction_amt','merch_cat'])\n",
    "rewards_removed=rewards_sales_from_SP[rewards_sales_from_SP['merch_cat']==\"80040410\"]\n",
    "rewards_sales_from_SP=rewards_sales_from_SP[rewards_sales_from_SP['merch_cat']!=\"80040410\"]\n",
    "del rewards_sales_from_SP['merch_cat']\n",
    "rewards_sales_from_SP=rewards_sales_from_SP.drop_duplicates()\n",
    "rewards_sales_from_SP['transaction_date']=rewards_sales_from_SP['transaction_date'].apply(lambda x: datetime.datetime.strptime(x,\"%Y-%m-%d\").date())\n",
    "\n",
    "rewards_sales_from_SP_2017Q3=rewards_sales_from_SP[(rewards_sales_from_SP['transaction_date']>=(Q3_Start_week_2017-datetime.timedelta(days=6))) & (rewards_sales_from_SP['transaction_date']<=Q3_End_week_2017)]\n",
    "rewards_sales_from_SP_2017Q2=rewards_sales_from_SP[(rewards_sales_from_SP['transaction_date']>=(Q2_Start_week_2017-datetime.timedelta(days=6))) & (rewards_sales_from_SP['transaction_date']<=Q2_End_week_2017)]\n",
    "rewards_sales_from_SP_2018Q2=rewards_sales_from_SP[(rewards_sales_from_SP['transaction_date']>=(Q2_Start_week_2018-datetime.timedelta(days=6))) & (rewards_sales_from_SP['transaction_date']<=Q2_End_week_2018)]\n",
    "\n",
    "weird_id_removed_df=rewards_sales_from_SP[rewards_sales_from_SP['customer_id_hashed']==weird_id_removed]\n",
    "rewards_sales_from_SP=rewards_sales_from_SP[rewards_sales_from_SP['customer_id_hashed']!=weird_id_removed]\n",
    "\n",
    "\n",
    "del rewards_sales_from_SP\n",
    "gc.collect()\n",
    "\n",
    "rewards_sales_from_SP_2017Q2['total_transaction_amt']=rewards_sales_from_SP_2017Q2['total_transaction_amt'].astype(float)\n",
    "rewards_sales_from_SP_2017Q3['total_transaction_amt']=rewards_sales_from_SP_2017Q3['total_transaction_amt'].astype(float)\n",
    "rewards_sales_from_SP_2018Q2['total_transaction_amt']=rewards_sales_from_SP_2018Q2['total_transaction_amt'].astype(float)\n",
    "\n",
    "rewards_sales_from_SP_2017Q2=rewards_sales_from_SP_2017Q2.drop_duplicates()\n",
    "rewards_sales_from_SP_2017Q3=rewards_sales_from_SP_2017Q3.drop_duplicates()\n",
    "rewards_sales_from_SP_2018Q2=rewards_sales_from_SP_2018Q2.drop_duplicates()\n",
    "\n",
    "gc.collect()\n",
    "\n",
    "# Check date range\n",
    "\n",
    "Date_2017_Q2_Min=rewards_sales_from_SP_2017Q2['transaction_date'].min()\n",
    "Date_2017_Q2_Max=rewards_sales_from_SP_2017Q2['transaction_date'].max()\n",
    "\n",
    "Date_2017_Q3_Min=rewards_sales_from_SP_2017Q3['transaction_date'].min()\n",
    "Date_2017_Q3_Max=rewards_sales_from_SP_2017Q3['transaction_date'].max()\n",
    "\n",
    "Date_2018_Q2_Min=rewards_sales_from_SP_2018Q2['transaction_date'].min()\n",
    "Date_2018_Q2_Max=rewards_sales_from_SP_2018Q2['transaction_date'].max()\n",
    "\n",
    "\n",
    "logging.info(\"2017Q2_min: \"+str(Date_2017_Q2_Min))\n",
    "logging.info(\"2017Q2_max: \"+str(Date_2017_Q2_Max))\n",
    "logging.info(str((Date_2017_Q2_Max-Date_2017_Q2_Min).days))\n",
    "\n",
    "logging.info(\"2017Q3_min: \"+str(Date_2017_Q3_Min))\n",
    "logging.info(\"2017Q3_max: \"+str(Date_2017_Q3_Max))\n",
    "logging.info(str((Date_2017_Q3_Max-Date_2017_Q3_Min).days))\n",
    "\n",
    "logging.info(\"2018Q2_min: \"+str(Date_2018_Q2_Min))\n",
    "logging.info(\"2018Q2_max: \"+str(Date_2018_Q2_Max))\n",
    "logging.info(str((Date_2018_Q2_Max-Date_2018_Q2_Min).days))\n",
    "logging.info(str(datetime.datetime.now())+\" | Check_Point_3\")"
   ]
  },
  {
   "cell_type": "code",
   "execution_count": null,
   "metadata": {
    "collapsed": true
   },
   "outputs": [],
   "source": [
    "\n"
   ]
  },
  {
   "cell_type": "code",
   "execution_count": 10,
   "metadata": {},
   "outputs": [
    {
     "name": "stdout",
     "output_type": "stream",
     "text": [
      "2018-12-07 17:12:43.207811\n",
      "2018-12-07 17:12:43.215177\n",
      "2018-12-07 17:12:43.222208\n",
      "2018-12-07 17:12:43.229188\n",
      "2018-12-07 17:12:43.236196\n",
      "2018-12-07 17:12:43.243511\n",
      "2018-12-07 17:12:43.251379\n"
     ]
    }
   ],
   "source": [
    "rewards_removed_2018_Q3=pd.DataFrame()\n",
    "rewards_sales_from_SP_2018Q3=pd.read_table(\"/home/jian/Projects/Big_Lots/Loyal_members/loyalty_sales_data/MediaStormSalesBiWeekly20180814-131127-683.txt\",usecols=['customer_id_hashed','transaction_dt','transaction_id','location_id','total_transaction_amt','merch_cat'],sep=\"|\",dtype=str,nrows=samplerows)\n",
    "rewards_sales_from_SP_2018Q3=rewards_sales_from_SP_2018Q3.rename(columns={\"transaction_dt\":\"transaction_date\"})\n",
    "rewards_removed_2018_Q3=rewards_removed_2018_Q3.append(rewards_sales_from_SP_2018Q3[rewards_sales_from_SP_2018Q3['merch_cat']==\"80040410\"])\n",
    "rewards_sales_from_SP_2018Q3=rewards_sales_from_SP_2018Q3[rewards_sales_from_SP_2018Q3['merch_cat']!=\"80040410\"]\n",
    "rewards_sales_from_SP_2018Q3['transaction_date']=rewards_sales_from_SP_2018Q3['transaction_date'].apply(lambda x: datetime.datetime.strptime(x,\"%Y-%m-%d\").date())\n",
    "rewards_sales_from_SP_2018Q3=rewards_sales_from_SP_2018Q3[rewards_sales_from_SP_2018Q3['transaction_date']>=(Q3_Start_week_2018-datetime.timedelta(days=6))]\n",
    "print(datetime.datetime.now())\n",
    "\n",
    "biweekly_rewards=pd.read_table(\"/home/jian/Projects/Big_Lots/Loyal_members/loyalty_sales_data/MediaStormSalesBiWeekly20180828-131144-584.txt\",usecols=['customer_id_hashed','transaction_dt','transaction_id','location_id','total_transaction_amt','merch_cat'],sep=\"|\",dtype=str,nrows=samplerows)\n",
    "biweekly_rewards=biweekly_rewards.rename(columns={\"transaction_dt\":\"transaction_date\"})\n",
    "rewards_removed_2018_Q3=rewards_removed_2018_Q3.append(rewards_sales_from_SP_2018Q3[rewards_sales_from_SP_2018Q3['merch_cat']==\"80040410\"])\n",
    "biweekly_rewards=biweekly_rewards[biweekly_rewards['merch_cat']!=\"80040410\"]\n",
    "biweekly_rewards['transaction_date']=biweekly_rewards['transaction_date'].apply(lambda x: datetime.datetime.strptime(x,\"%Y-%m-%d\").date())\n",
    "rewards_sales_from_SP_2018Q3=rewards_sales_from_SP_2018Q3.append(biweekly_rewards)\n",
    "print(datetime.datetime.now())\n",
    "\n",
    "biweekly_rewards=pd.read_table(\"/home/jian/Projects/Big_Lots/Loyal_members/loyalty_sales_data/MediaStormSalesBiWeekly20180911-133008-590.txt\",usecols=['customer_id_hashed','transaction_dt','transaction_id','location_id','total_transaction_amt','merch_cat'],sep=\"|\",dtype=str,nrows=samplerows)\n",
    "biweekly_rewards=biweekly_rewards.rename(columns={\"transaction_dt\":\"transaction_date\"})\n",
    "rewards_removed_2018_Q3=rewards_removed_2018_Q3.append(rewards_sales_from_SP_2018Q3[rewards_sales_from_SP_2018Q3['merch_cat']==\"80040410\"])\n",
    "biweekly_rewards=biweekly_rewards[biweekly_rewards['merch_cat']!=\"80040410\"]\n",
    "biweekly_rewards['transaction_date']=biweekly_rewards['transaction_date'].apply(lambda x: datetime.datetime.strptime(x,\"%Y-%m-%d\").date())\n",
    "rewards_sales_from_SP_2018Q3=rewards_sales_from_SP_2018Q3.append(biweekly_rewards)\n",
    "print(datetime.datetime.now())\n",
    "\n",
    "biweekly_rewards=pd.read_table(\"/home/jian/Projects/Big_Lots/Loyal_members/loyalty_sales_data/MediaStormSalesBiWeekly20180925-132958-543.txt\",usecols=['customer_id_hashed','transaction_dt','transaction_id','location_id','total_transaction_amt','merch_cat'],sep=\"|\",dtype=str,nrows=samplerows)\n",
    "biweekly_rewards=biweekly_rewards.rename(columns={\"transaction_dt\":\"transaction_date\"})\n",
    "rewards_removed_2018_Q3=rewards_removed_2018_Q3.append(rewards_sales_from_SP_2018Q3[rewards_sales_from_SP_2018Q3['merch_cat']==\"80040410\"])\n",
    "biweekly_rewards=biweekly_rewards[biweekly_rewards['merch_cat']!=\"80040410\"]\n",
    "biweekly_rewards['transaction_date']=biweekly_rewards['transaction_date'].apply(lambda x: datetime.datetime.strptime(x,\"%Y-%m-%d\").date())\n",
    "rewards_sales_from_SP_2018Q3=rewards_sales_from_SP_2018Q3.append(biweekly_rewards)\n",
    "print(datetime.datetime.now())\n",
    "\n",
    "biweekly_rewards=pd.read_table(\"/home/jian/Projects/Big_Lots/Loyal_members/loyalty_sales_data/MediaStormSalesBiWeekly20181009-132856-945.txt\",usecols=['customer_id_hashed','transaction_dt','transaction_id','location_id','total_transaction_amt','merch_cat'],sep=\"|\",dtype=str,nrows=samplerows)\n",
    "biweekly_rewards=biweekly_rewards.rename(columns={\"transaction_dt\":\"transaction_date\"})\n",
    "rewards_removed_2018_Q3=rewards_removed_2018_Q3.append(rewards_sales_from_SP_2018Q3[rewards_sales_from_SP_2018Q3['merch_cat']==\"80040410\"])\n",
    "biweekly_rewards=biweekly_rewards[biweekly_rewards['merch_cat']!=\"80040410\"]\n",
    "biweekly_rewards['transaction_date']=biweekly_rewards['transaction_date'].apply(lambda x: datetime.datetime.strptime(x,\"%Y-%m-%d\").date())\n",
    "rewards_sales_from_SP_2018Q3=rewards_sales_from_SP_2018Q3.append(biweekly_rewards)\n",
    "print(datetime.datetime.now())\n",
    "\n",
    "biweekly_rewards=pd.read_table(\"/home/jian/Projects/Big_Lots/Loyal_members/loyalty_sales_data/MediaStormSalesBiWeekly20181023-132316-829.txt\",usecols=['customer_id_hashed','transaction_dt','transaction_id','location_id','total_transaction_amt','merch_cat'],sep=\"|\",dtype=str,nrows=samplerows)\n",
    "biweekly_rewards=biweekly_rewards.rename(columns={\"transaction_dt\":\"transaction_date\"})\n",
    "rewards_removed_2018_Q3=rewards_removed_2018_Q3.append(rewards_sales_from_SP_2018Q3[rewards_sales_from_SP_2018Q3['merch_cat']==\"80040410\"])\n",
    "biweekly_rewards=biweekly_rewards[biweekly_rewards['merch_cat']!=\"80040410\"]\n",
    "biweekly_rewards['transaction_date']=biweekly_rewards['transaction_date'].apply(lambda x: datetime.datetime.strptime(x,\"%Y-%m-%d\").date())\n",
    "rewards_sales_from_SP_2018Q3=rewards_sales_from_SP_2018Q3.append(biweekly_rewards)\n",
    "print(datetime.datetime.now())\n",
    "\n",
    "biweekly_rewards=pd.read_table(\"/home/jian/Projects/Big_Lots/Loyal_members/loyalty_sales_data/MediaStormSalesBiWeekly20181106-132358-296.txt\",usecols=['customer_id_hashed','transaction_dt','transaction_id','location_id','total_transaction_amt','merch_cat'],sep=\"|\",dtype=str,nrows=samplerows)\n",
    "biweekly_rewards=biweekly_rewards.rename(columns={\"transaction_dt\":\"transaction_date\"})\n",
    "rewards_removed_2018_Q3=rewards_removed_2018_Q3.append(rewards_sales_from_SP_2018Q3[rewards_sales_from_SP_2018Q3['merch_cat']==\"80040410\"])\n",
    "biweekly_rewards=biweekly_rewards[biweekly_rewards['merch_cat']!=\"80040410\"]\n",
    "biweekly_rewards['transaction_date']=biweekly_rewards['transaction_date'].apply(lambda x: datetime.datetime.strptime(x,\"%Y-%m-%d\").date())\n",
    "biweekly_rewards=biweekly_rewards[biweekly_rewards['transaction_date']<=Q3_End_week_2018]\n",
    "rewards_sales_from_SP_2018Q3=rewards_sales_from_SP_2018Q3.append(biweekly_rewards)\n",
    "print(datetime.datetime.now())\n",
    "\n",
    "logging.info(str(datetime.datetime.now())+\" | Check_Point_4\")\n",
    "\n",
    "rewards_sales_from_SP_2018Q3['total_transaction_amt']=rewards_sales_from_SP_2018Q3['total_transaction_amt'].astype(float)\n",
    "del rewards_sales_from_SP_2018Q3['merch_cat']\n",
    "rewards_sales_from_SP_2018Q3=rewards_sales_from_SP_2018Q3.drop_duplicates()\n",
    "\n",
    "weird_id_removed_df=weird_id_removed_df.append(rewards_sales_from_SP_2018Q3[rewards_sales_from_SP_2018Q3['customer_id_hashed']==weird_id_removed])\n",
    "rewards_sales_from_SP_2018Q3=rewards_sales_from_SP_2018Q3[rewards_sales_from_SP_2018Q3['customer_id_hashed']!=weird_id_removed]\n",
    "\n",
    "Date_2018_Q3_Min=rewards_sales_from_SP_2018Q3['transaction_date'].min()\n",
    "Date_2018_Q3_Max=rewards_sales_from_SP_2018Q3['transaction_date'].max()\n",
    "\n",
    "logging.info(\"2018Q3_min: \"+str(Date_2018_Q3_Min))\n",
    "logging.info(\"2018Q3_max: \"+str(Date_2018_Q3_Max))\n",
    "logging.info(str((Date_2018_Q3_Max-Date_2018_Q3_Min).days))\n",
    "del biweekly_rewards\n",
    "gc.collect()\n",
    "\n",
    "all_transaction_excluded=weird_id_removed_df.append(rewards_removed_2018_Q3).append(rewards_removed)\n",
    "logging.info(str(datetime.datetime.now())+\" | Check_Point_5\")"
   ]
  },
  {
   "cell_type": "code",
   "execution_count": 11,
   "metadata": {
    "collapsed": true
   },
   "outputs": [],
   "source": [
    "rewards_by_store_sales_2017Q2=rewards_sales_from_SP_2017Q2.groupby(['location_id'])['total_transaction_amt'].sum().to_frame().reset_index()\n",
    "rewards_by_store_sales_2017Q2=rewards_by_store_sales_2017Q2.rename(columns={\"total_transaction_amt\":\"Q2_rewards_sales_2017\"})\n",
    "\n",
    "rewards_by_store_sales_2017Q3=rewards_sales_from_SP_2017Q3.groupby(['location_id'])['total_transaction_amt'].sum().to_frame().reset_index()\n",
    "rewards_by_store_sales_2017Q3=rewards_by_store_sales_2017Q3.rename(columns={\"total_transaction_amt\":\"Q3_rewards_sales_2017\"})\n",
    "\n",
    "rewards_by_store_sales_2018Q2=rewards_sales_from_SP_2018Q2.groupby(['location_id'])['total_transaction_amt'].sum().to_frame().reset_index()\n",
    "rewards_by_store_sales_2018Q2=rewards_by_store_sales_2018Q2.rename(columns={\"total_transaction_amt\":\"Q2_rewards_sales_2018\"})\n",
    "\n",
    "rewards_by_store_sales_2018Q3=rewards_sales_from_SP_2018Q3.groupby(['location_id'])['total_transaction_amt'].sum().to_frame().reset_index()\n",
    "rewards_by_store_sales_2018Q3=rewards_by_store_sales_2018Q3.rename(columns={\"total_transaction_amt\":\"Q3_rewards_sales_2018\"})\n",
    "\n",
    "rewards_sales_by_store=pd.merge(rewards_by_store_sales_2017Q2,rewards_by_store_sales_2017Q3,on=['location_id'],how=\"outer\")\n",
    "rewards_sales_by_store=pd.merge(rewards_sales_by_store,rewards_by_store_sales_2018Q2,on=['location_id'],how=\"outer\")\n",
    "rewards_sales_by_store=pd.merge(rewards_sales_by_store,rewards_by_store_sales_2018Q3,on=['location_id'],how=\"outer\")\n",
    "logging.info(str(datetime.datetime.now())+\" | Check_Point_6\")"
   ]
  },
  {
   "cell_type": "code",
   "execution_count": 12,
   "metadata": {
    "collapsed": true
   },
   "outputs": [],
   "source": [
    "def count_unique(x):\n",
    "    y=len(set(x))\n",
    "    return y\n",
    "\n",
    "total_id_count_2017Q2=rewards_sales_from_SP_2017Q2.groupby(['location_id'])['customer_id_hashed'].apply(count_unique).to_frame().reset_index().rename(columns={\"customer_id_hashed\":\"2017_Q2_rewards_id_shopped\"})\n",
    "total_id_count_2017Q3=rewards_sales_from_SP_2017Q3.groupby(['location_id'])['customer_id_hashed'].apply(count_unique).to_frame().reset_index().rename(columns={\"customer_id_hashed\":\"2017_Q3_rewards_id_shopped\"})\n",
    "total_id_count_2018Q2=rewards_sales_from_SP_2018Q2.groupby(['location_id'])['customer_id_hashed'].apply(count_unique).to_frame().reset_index().rename(columns={\"customer_id_hashed\":\"2018_Q2_rewards_id_shopped\"})\n",
    "total_id_count_2018Q3=rewards_sales_from_SP_2018Q3.groupby(['location_id'])['customer_id_hashed'].apply(count_unique).to_frame().reset_index().rename(columns={\"customer_id_hashed\":\"2018_Q3_rewards_id_shopped\"})\n",
    "\n",
    "rewards_shoppers_by_store=pd.merge(total_id_count_2017Q2,total_id_count_2017Q3,on=['location_id'],how=\"outer\")\n",
    "rewards_shoppers_by_store=pd.merge(rewards_shoppers_by_store,total_id_count_2018Q2,on=['location_id'],how=\"outer\")\n",
    "rewards_shoppers_by_store=pd.merge(rewards_shoppers_by_store,total_id_count_2018Q3,on=['location_id'],how=\"outer\")\n",
    "logging.info(str(datetime.datetime.now())+\" | Check_Point_7\")"
   ]
  },
  {
   "cell_type": "code",
   "execution_count": 13,
   "metadata": {
    "collapsed": true
   },
   "outputs": [],
   "source": [
    "rewards_sales_from_SP_2017Q2=rewards_sales_from_SP_2017Q2[rewards_sales_from_SP_2017Q2['total_transaction_amt']>=0]\n",
    "rewards_sales_from_SP_2017Q3=rewards_sales_from_SP_2017Q3[rewards_sales_from_SP_2017Q3['total_transaction_amt']>=0]\n",
    "rewards_sales_from_SP_2018Q2=rewards_sales_from_SP_2018Q2[rewards_sales_from_SP_2018Q2['total_transaction_amt']>=0]\n",
    "rewards_sales_from_SP_2018Q3=rewards_sales_from_SP_2018Q3[rewards_sales_from_SP_2018Q3['total_transaction_amt']>=0]\n",
    "\n",
    "\n",
    "rewards_by_store_trans_2017Q2=rewards_sales_from_SP_2017Q2.groupby(['location_id'])['total_transaction_amt'].count().to_frame().reset_index()\n",
    "rewards_by_store_trans_2017Q2=rewards_by_store_trans_2017Q2.rename(columns={\"total_transaction_amt\":\"Q2_rewards_trans_2017\"})\n",
    "\n",
    "rewards_by_store_trans_2017Q3=rewards_sales_from_SP_2017Q3.groupby(['location_id'])['total_transaction_amt'].count().to_frame().reset_index()\n",
    "rewards_by_store_trans_2017Q3=rewards_by_store_trans_2017Q3.rename(columns={\"total_transaction_amt\":\"Q3_rewards_trans_2017\"})\n",
    "\n",
    "rewards_by_store_trans_2018Q2=rewards_sales_from_SP_2018Q2.groupby(['location_id'])['total_transaction_amt'].count().to_frame().reset_index()\n",
    "rewards_by_store_trans_2018Q2=rewards_by_store_trans_2018Q2.rename(columns={\"total_transaction_amt\":\"Q2_rewards_trans_2018\"})\n",
    "\n",
    "rewards_by_store_trans_2018Q3=rewards_sales_from_SP_2018Q3.groupby(['location_id'])['total_transaction_amt'].count().to_frame().reset_index()\n",
    "rewards_by_store_trans_2018Q3=rewards_by_store_trans_2018Q3.rename(columns={\"total_transaction_amt\":\"Q3_rewards_trans_2018\"})\n",
    "\n",
    "rewards_trans_by_store=pd.merge(rewards_by_store_trans_2017Q2,rewards_by_store_trans_2017Q3,on=['location_id'],how=\"outer\")\n",
    "rewards_trans_by_store=pd.merge(rewards_trans_by_store,rewards_by_store_trans_2018Q2,on=['location_id'],how=\"outer\")\n",
    "rewards_trans_by_store=pd.merge(rewards_trans_by_store,rewards_by_store_trans_2018Q3,on=['location_id'],how=\"outer\")\n",
    "logging.info(str(datetime.datetime.now())+\" | Check_Point_8\")"
   ]
  },
  {
   "cell_type": "code",
   "execution_count": 14,
   "metadata": {
    "collapsed": true
   },
   "outputs": [],
   "source": [
    "output=pd.merge(rewards_sales_by_store,rewards_trans_by_store,on=\"location_id\",how=\"outer\")\n",
    "output=pd.merge(output,rewards_shoppers_by_store,on=\"location_id\",how=\"outer\")"
   ]
  },
  {
   "cell_type": "code",
   "execution_count": 15,
   "metadata": {
    "collapsed": true
   },
   "outputs": [],
   "source": [
    "writer=pd.ExcelWriter(\"/home/jian/Projects/Big_Lots/Analysis/2018_Q3/Q3_Store_Quadrants/BL_rewards_shoppers_sales_trans_JL_\"+str(datetime.datetime.today().date())+\".xlsx\",engine=\"xlsxwriter\")\n",
    "output.to_excel(writer,\"date_both_year_Q2Q3\",index=False)\n",
    "all_transaction_excluded.to_excel(writer,\"all_transaction_excluded\",index=False)\n",
    "writer.save()"
   ]
  },
  {
   "cell_type": "code",
   "execution_count": null,
   "metadata": {
    "collapsed": true
   },
   "outputs": [],
   "source": []
  },
  {
   "cell_type": "code",
   "execution_count": null,
   "metadata": {
    "collapsed": true
   },
   "outputs": [],
   "source": []
  },
  {
   "cell_type": "code",
   "execution_count": null,
   "metadata": {
    "collapsed": true
   },
   "outputs": [],
   "source": []
  }
 ],
 "metadata": {
  "kernelspec": {
   "display_name": "Python 3",
   "language": "python",
   "name": "python3"
  },
  "language_info": {
   "codemirror_mode": {
    "name": "ipython",
    "version": 3
   },
   "file_extension": ".py",
   "mimetype": "text/x-python",
   "name": "python",
   "nbconvert_exporter": "python",
   "pygments_lexer": "ipython3",
   "version": "3.6.1"
  }
 },
 "nbformat": 4,
 "nbformat_minor": 2
}
