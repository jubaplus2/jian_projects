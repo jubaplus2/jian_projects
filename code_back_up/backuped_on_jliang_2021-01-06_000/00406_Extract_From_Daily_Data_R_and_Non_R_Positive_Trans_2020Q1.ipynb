{
 "cells": [
  {
   "cell_type": "code",
   "execution_count": 1,
   "metadata": {},
   "outputs": [
    {
     "data": {
      "text/plain": [
       "'/home/jian/Projects/Big_Lots/Analysis/2020_Q1/Post_YoY'"
      ]
     },
     "execution_count": 1,
     "metadata": {},
     "output_type": "execute_result"
    }
   ],
   "source": [
    "# 2020 Q1\n",
    "import pandas as pd\n",
    "import numpy as np\n",
    "import datetime\n",
    "import os\n",
    "import glob\n",
    "import gc\n",
    "os.getcwd()"
   ]
  },
  {
   "cell_type": "code",
   "execution_count": 2,
   "metadata": {},
   "outputs": [
    {
     "name": "stdout",
     "output_type": "stream",
     "text": [
      "/home/jian/BigLots/static_files/Store_list/MediaStormStores20200501-152115-660.txt\n"
     ]
    },
    {
     "data": {
      "text/plain": [
       "['/home/jian/BigLots/static_files/Store_list/MediaStormStores20200401-135137-445.txt',\n",
       " '/home/jian/BigLots/static_files/Store_list/MediaStormStores20200301-134228-900.txt',\n",
       " '/home/jian/BigLots/static_files/Store_list/MediaStormStores20200201-134613-934.txt',\n",
       " '/home/jian/BigLots/static_files/Store_list/MediaStormStores20200101-135601-098.txt',\n",
       " '/home/jian/BigLots/static_files/Store_list/MediaStormStores20191201-133313-746.txt',\n",
       " '/home/jian/BigLots/static_files/Store_list/MediaStormStores20191101-134011-956.txt',\n",
       " '/home/jian/BigLots/static_files/Store_list/MediaStormStores20191001-134050-499.txt',\n",
       " '/home/jian/BigLots/static_files/Store_list/MediaStormStores20190901-135942-508.txt',\n",
       " '/home/jian/BigLots/static_files/Store_list/MediaStormStores20190801-135940-752.txt',\n",
       " '/home/jian/BigLots/static_files/Store_list/MediaStormStores20190701-134908-815.txt',\n",
       " '/home/jian/BigLots/static_files/Store_list/MediaStormStores20190601-134302-813.txt',\n",
       " '/home/jian/BigLots/static_files/Store_list/MediaStormStores20190501-135143-036.txt',\n",
       " '/home/jian/BigLots/static_files/Store_list/MediaStormStores20190401-134939-117.txt',\n",
       " '/home/jian/BigLots/static_files/Store_list/MediaStormStores20190301-134800-131.txt',\n",
       " '/home/jian/BigLots/static_files/Store_list/MediaStormStores20190201-133832-957.txt',\n",
       " '/home/jian/BigLots/static_files/Store_list/MediaStormStores20190101-135843-638.txt',\n",
       " '/home/jian/BigLots/static_files/Store_list/MediaStormStores20181201-135231-415.txt',\n",
       " '/home/jian/BigLots/static_files/Store_list/MediaStormStores20181101-134628-331.txt',\n",
       " '/home/jian/BigLots/static_files/Store_list/MediaStormStores20181001-135417-132.txt',\n",
       " '/home/jian/BigLots/static_files/Store_list/MediaStormStores20180901-133640-935.txt',\n",
       " '/home/jian/BigLots/static_files/Store_list/MediaStormStores20180801-133641-576.txt',\n",
       " '/home/jian/BigLots/static_files/Store_list/MediaStormStores20180703.txt',\n",
       " '/home/jian/BigLots/static_files/Store_list/MediaStormStores20171115.txt',\n",
       " '/home/jian/BigLots/static_files/Store_list/MediaStormStores20170913.txt']"
      ]
     },
     "execution_count": 2,
     "metadata": {},
     "output_type": "execute_result"
    }
   ],
   "source": [
    "store_list_files=glob.glob(\"/home/jian/BigLots/static_files/Store_list/MediaStormStores20*.txt\")\n",
    "store_list_files=sorted(store_list_files,reverse=True)\n",
    "latest_store_list=store_list_files[0]\n",
    "store_list_files.remove(latest_store_list)\n",
    "\n",
    "print(latest_store_list)\n",
    "store_list_files"
   ]
  },
  {
   "cell_type": "code",
   "execution_count": 3,
   "metadata": {},
   "outputs": [
    {
     "name": "stderr",
     "output_type": "stream",
     "text": [
      "/home/jian/.local/lib/python3.6/site-packages/pandas/core/frame.py:7138: FutureWarning: Sorting because non-concatenation axis is not aligned. A future version\n",
      "of pandas will change to not sort by default.\n",
      "\n",
      "To accept the future behavior, pass 'sort=False'.\n",
      "\n",
      "To retain the current behavior and silence the warning, pass 'sort=True'.\n",
      "\n",
      "  sort=sort,\n"
     ]
    }
   ],
   "source": [
    "store_info=pd.read_table(latest_store_list,sep=\"|\",dtype=str)\n",
    "store_info=store_info[['location_id','city_nm','state_nm','zip_cd','open_dt']]\n",
    "\n",
    "for file in store_list_files:\n",
    "    df=pd.read_table(file,sep=\"|\",dtype=str,usecols=['location_id','city_nm','state_nm','zip_cd','open_dt'])\n",
    "    df=df[~df['location_id'].isin(store_info['location_id'].tolist())]\n",
    "    store_info=store_info.append(df)\n",
    "    \n",
    "\n",
    "store_info['zip_cd']=store_info['zip_cd'].apply(lambda x: x.split(\"-\")[0].zfill(5))\n",
    "\n",
    "\n",
    "DMA_Zip=pd.read_excel(\"/home/jian/Docs/Geo_mapping/Zips by DMA by County16-17 nielsen.xlsx\",skiprows=1,dtype=str)\n",
    "DMA_Zip=DMA_Zip.iloc[:,[0,2]]\n",
    "DMA_Zip.columns=['zip_cd','DMA']\n",
    "DMA_Zip=DMA_Zip.drop_duplicates(['zip_cd'])\n",
    "\n",
    "\n",
    "store_info=pd.merge(store_info,DMA_Zip,on=\"zip_cd\",how=\"left\")"
   ]
  },
  {
   "cell_type": "code",
   "execution_count": 4,
   "metadata": {},
   "outputs": [],
   "source": [
    "weeks_2020Q1=[datetime.date(2020,2,8)+datetime.timedelta(days=x*7) for x in range(13)]\n",
    "weeks_2019Q1=[x-datetime.timedelta(days=52*7) for x in weeks_2020Q1]\n",
    "weeks_2019Q1_str_date=[str(x) for x in weeks_2019Q1]\n",
    "weeks_2019Q1_str_digital=[str(x).replace(\"-\",\"\") for x in weeks_2019Q1]"
   ]
  },
  {
   "cell_type": "code",
   "execution_count": 5,
   "metadata": {},
   "outputs": [],
   "source": [
    "def recursive_file_gen(my_root_dir):\n",
    "    for root, dirs, files in os.walk(my_root_dir):\n",
    "        for file in files:\n",
    "            yield os.path.join(root, file)"
   ]
  },
  {
   "cell_type": "code",
   "execution_count": 6,
   "metadata": {},
   "outputs": [
    {
     "name": "stdout",
     "output_type": "stream",
     "text": [
      "1\n"
     ]
    }
   ],
   "source": [
    "Q1_files_2019=glob.glob(\"/home/jian/BigLots/hist_daily_data_itemlevel_decompressed/*.txt\")\n",
    "Q1_files_2019=[x for x in Q1_files_2019 if x.split(\"diaStormDailySalesHistory\")[1][:8] in [str(x) for x in weeks_2019Q1_str_digital]]\n",
    "print(len(Q1_files_2019))\n",
    "\n",
    "Q1_files_2019.sort()"
   ]
  },
  {
   "cell_type": "code",
   "execution_count": 7,
   "metadata": {},
   "outputs": [],
   "source": [
    "folder_2019_by_week=\"/home/jian/BigLots/\"\n",
    "\n",
    "daily_sale_files=list(recursive_file_gen(folder_2019_by_week))\n",
    "daily_sale_files=[x for x in daily_sale_files if \"aily\" in x]\n",
    "# Q1_files_2019=[]\n",
    "for week_end_date in weeks_2019Q1_str_date[1:]:\n",
    "    file_path=[x for x in daily_sale_files if str(week_end_date) in x]\n",
    "    Q1_files_2019=Q1_files_2019+file_path"
   ]
  },
  {
   "cell_type": "code",
   "execution_count": 8,
   "metadata": {},
   "outputs": [
    {
     "name": "stdout",
     "output_type": "stream",
     "text": [
      "13\n"
     ]
    },
    {
     "data": {
      "text/plain": [
       "['/home/jian/BigLots/hist_daily_data_itemlevel_decompressed/MediaStormDailySalesHistory20190209.txt',\n",
       " '/home/jian/BigLots/2019_by_weeks/MediaStorm_2019-02-16/MediaStormDailySales20190219-113605-481.txt',\n",
       " '/home/jian/BigLots/2019_by_weeks/MediaStorm_2019-02-23/MediaStormDailySales20190226-112611-940.txt',\n",
       " '/home/jian/BigLots/2019_by_weeks/MediaStorm_2019-03-02/MediaStormDailySales20190305-112738-899.txt',\n",
       " '/home/jian/BigLots/2019_by_weeks/MediaStorm_2019-03-09/MediaStormDailySales20190312-121205-996.txt',\n",
       " '/home/jian/BigLots/2019_by_weeks/MediaStorm_2019-03-16/MediaStormDailySales20190319-112334-057.txt',\n",
       " '/home/jian/BigLots/2019_by_weeks/MediaStorm_2019-03-23/MediaStormDailySales20190326-112740-903.txt',\n",
       " '/home/jian/BigLots/2019_by_weeks/MediaStorm_2019-03-30/MediaStormDailySales20190402-112556-551.txt',\n",
       " '/home/jian/BigLots/2019_by_weeks/MediaStorm_2019-04-06/MediaStormDailySales20190409-122759-093.txt',\n",
       " '/home/jian/BigLots/2019_by_weeks/MediaStorm_2019-04-13/MediaStormDailySales20190416-112824-908.txt',\n",
       " '/home/jian/BigLots/2019_by_weeks/MediaStorm_2019-04-20/MediaStormDailySales20190423-112124-771.txt',\n",
       " '/home/jian/BigLots/2019_by_weeks/MediaStorm_2019-04-27/MediaStormDailySales20190430-112453-448.txt',\n",
       " '/home/jian/BigLots/2019_by_weeks/MediaStorm_2019-05-04/MediaStormDailySales20190507-113110-141.txt']"
      ]
     },
     "execution_count": 8,
     "metadata": {},
     "output_type": "execute_result"
    }
   ],
   "source": [
    "print(len(Q1_files_2019))\n",
    "Q1_files_2019"
   ]
  },
  {
   "cell_type": "code",
   "execution_count": 9,
   "metadata": {},
   "outputs": [
    {
     "name": "stdout",
     "output_type": "stream",
     "text": [
      "13\n"
     ]
    },
    {
     "data": {
      "text/plain": [
       "['/home/jian/BigLots/2020_by_weeks/MediaStorm_2020-02-08/MediaStormDailySales20200211-120911-483.txt',\n",
       " '/home/jian/BigLots/2020_by_weeks/MediaStorm_2020-02-15/MediaStormDailySales20200218-110927-085.txt',\n",
       " '/home/jian/BigLots/2020_by_weeks/MediaStorm_2020-02-22/MediaStormDailySales20200225-111349-615.txt',\n",
       " '/home/jian/BigLots/2020_by_weeks/MediaStorm_2020-02-29/MediaStormDailySales20200303-111359-260.txt',\n",
       " '/home/jian/BigLots/2020_by_weeks/MediaStorm_2020-03-07/MediaStormDailySales20200311-125005-860.txt',\n",
       " '/home/jian/BigLots/2020_by_weeks/MediaStorm_2020-03-14/MediaStormDailySales20200317-112349-402.txt',\n",
       " '/home/jian/BigLots/2020_by_weeks/MediaStorm_2020-03-21/MediaStormDailySales20200324-112302-496.txt',\n",
       " '/home/jian/BigLots/2020_by_weeks/MediaStorm_2020-03-28/MediaStormDailySales20200331-112303-873.txt',\n",
       " '/home/jian/BigLots/2020_by_weeks/MediaStorm_2020-04-04/MediaStormDailySales20200407-110641-771.txt',\n",
       " '/home/jian/BigLots/2020_by_weeks/MediaStorm_2020-04-11/MediaStormDailySales20200414-120340-722.txt',\n",
       " '/home/jian/BigLots/2020_by_weeks/MediaStorm_2020-04-18/MediaStormDailySales20200421-111910-356.txt',\n",
       " '/home/jian/BigLots/2020_by_weeks/MediaStorm_2020-04-25/MediaStormDailySales20200428-111922-148.txt',\n",
       " '/home/jian/BigLots/2020_by_weeks/MediaStorm_2020-05-02/MediaStormDailySales20200505-111805-965.txt']"
      ]
     },
     "execution_count": 9,
     "metadata": {},
     "output_type": "execute_result"
    }
   ],
   "source": [
    "Q1_files_2020=[]\n",
    "for week_end_date in weeks_2020Q1:\n",
    "    file_path=[x for x in daily_sale_files if str(week_end_date) in x]\n",
    "    Q1_files_2020=Q1_files_2020+file_path\n",
    "    \n",
    "print(len(Q1_files_2020))\n",
    "Q1_files_2020=sorted(Q1_files_2020)\n",
    "Q1_files_2020"
   ]
  },
  {
   "cell_type": "code",
   "execution_count": 10,
   "metadata": {},
   "outputs": [],
   "source": [
    "def week_end_dt(x):\n",
    "    if x.weekday()==6:\n",
    "        y=x+datetime.timedelta(days=6)\n",
    "    else:\n",
    "        y=x+datetime.timedelta(days=(5-x.weekday()))\n",
    "    return y\n"
   ]
  },
  {
   "cell_type": "code",
   "execution_count": 11,
   "metadata": {},
   "outputs": [],
   "source": [
    "def load_and_agg_df(file_list):\n",
    "    \n",
    "    i_counter=0\n",
    "\n",
    "    sales_agg_df=pd.DataFrame()\n",
    "    ids_by_week_store=pd.DataFrame()\n",
    "\n",
    "    for file_path in file_list:\n",
    "        df=pd.read_table(file_path,dtype=str,sep=\"|\",usecols=None,nrows=None)\n",
    "        df=df[df['location_id']!=\"6990\"]\n",
    "        # print(df.shape)\n",
    "        df=df.drop_duplicates()\n",
    "\n",
    "        df['transaction_dt']=df['transaction_dt'].apply(lambda x: datetime.datetime.strptime(x, \"%Y-%m-%d\").date())\n",
    "        df['item_transaction_amt']=df['item_transaction_amt'].astype(float)\n",
    "\n",
    "        df['rewards_label']=np.where(pd.isnull(df['customer_id_hashed']),\"Non_Rewards\",\"Rewards\")\n",
    "\n",
    "        date_max=df['transaction_dt'].max()\n",
    "        date_min=df['transaction_dt'].min()\n",
    "\n",
    "        \n",
    "\n",
    "        if ((date_max-date_min).days==6) & (date_max.weekday()==5):\n",
    "            print(i_counter,date_max,date_min,datetime.datetime.now())\n",
    "        else:\n",
    "            print(\"Dates in the data not 7 days but included \",file_path)\n",
    "            print(\"Please check the reason why no sales data in the week for the physical stores\")\n",
    "            \n",
    "            \n",
    "        df['week_end_dt']=date_max\n",
    "        df_agg_sales=df.groupby(['location_id','week_end_dt','rewards_label'])['item_transaction_amt'].sum().to_frame().reset_index()\n",
    "        df_agg_sales=df_agg_sales.rename(columns={\"item_transaction_amt\":\"sales\"})\n",
    "\n",
    "        df=df[df['item_transaction_amt']>0]\n",
    "        df_agg_trans=df[['location_id','transaction_dt','week_end_dt','transaction_id','customer_id_hashed','rewards_label']].drop_duplicates()\n",
    "        df_agg_trans['transactions']=1\n",
    "        df_agg_trans=df_agg_trans.groupby(['location_id','week_end_dt','rewards_label'])['transactions'].sum().to_frame().reset_index()\n",
    "\n",
    "        df_agg_sales=pd.merge(df_agg_sales,df_agg_trans,on=['location_id','week_end_dt','rewards_label'],how=\"outer\")\n",
    "\n",
    "        df=df[df['rewards_label']==\"Rewards\"]\n",
    "        df=df[['location_id','week_end_dt','customer_id_hashed']].drop_duplicates()\n",
    "\n",
    "        \n",
    "                \n",
    "\n",
    "        sales_agg_df=sales_agg_df.append(df_agg_sales)\n",
    "        ids_by_week_store=ids_by_week_store.append(df)\n",
    "        i_counter+=1\n",
    "\n",
    "\n",
    "    return sales_agg_df,ids_by_week_store"
   ]
  },
  {
   "cell_type": "code",
   "execution_count": 12,
   "metadata": {},
   "outputs": [
    {
     "name": "stdout",
     "output_type": "stream",
     "text": [
      "0 2020-02-08 2020-02-02 2020-05-13 21:07:05.543418\n",
      "1 2020-02-15 2020-02-09 2020-05-13 21:11:09.265944\n",
      "2 2020-02-22 2020-02-16 2020-05-13 21:15:03.565423\n",
      "3 2020-02-29 2020-02-23 2020-05-13 21:19:22.548600\n",
      "4 2020-03-07 2020-03-01 2020-05-13 21:24:20.951000\n",
      "5 2020-03-14 2020-03-08 2020-05-13 21:31:31.752135\n",
      "6 2020-03-21 2020-03-15 2020-05-13 21:38:14.196278\n",
      "7 2020-03-28 2020-03-22 2020-05-13 21:42:27.051102\n",
      "8 2020-04-04 2020-03-29 2020-05-13 21:46:49.368948\n",
      "9 2020-04-11 2020-04-05 2020-05-13 21:51:40.084881\n",
      "Dates in the data not 7 days but included  /home/jian/BigLots/2020_by_weeks/MediaStorm_2020-04-18/MediaStormDailySales20200421-111910-356.txt\n",
      "Please check the reason why no sales data in the week for the physical stores\n",
      "11 2020-04-25 2020-04-19 2020-05-13 22:01:41.679614\n",
      "12 2020-05-02 2020-04-26 2020-05-13 22:07:43.661157\n"
     ]
    }
   ],
   "source": [
    "sales_agg_2020, ids_by_week_store_2020 = load_and_agg_df(Q1_files_2020)"
   ]
  },
  {
   "cell_type": "code",
   "execution_count": 13,
   "metadata": {},
   "outputs": [
    {
     "name": "stdout",
     "output_type": "stream",
     "text": [
      "0 2019-02-09 2019-02-03 2020-05-13 22:12:18.486963\n",
      "1 2019-02-16 2019-02-10 2020-05-13 22:16:11.814896\n",
      "2 2019-02-23 2019-02-17 2020-05-13 22:20:17.681284\n",
      "3 2019-03-02 2019-02-24 2020-05-13 22:24:58.084207\n",
      "4 2019-03-09 2019-03-03 2020-05-13 22:29:31.444985\n",
      "5 2019-03-16 2019-03-10 2020-05-13 22:34:07.212818\n",
      "6 2019-03-23 2019-03-17 2020-05-13 22:38:53.000378\n",
      "7 2019-03-30 2019-03-24 2020-05-13 22:43:22.020877\n",
      "8 2019-04-06 2019-03-31 2020-05-13 22:48:46.746244\n",
      "9 2019-04-13 2019-04-07 2020-05-13 22:54:25.365131\n",
      "10 2019-04-20 2019-04-14 2020-05-13 22:59:34.235693\n",
      "11 2019-04-27 2019-04-21 2020-05-13 23:03:48.678842\n",
      "12 2019-05-04 2019-04-28 2020-05-13 23:08:32.374788\n"
     ]
    }
   ],
   "source": [
    "sales_agg_2019, ids_by_week_store_2019 = load_and_agg_df(Q1_files_2019)"
   ]
  },
  {
   "cell_type": "code",
   "execution_count": 14,
   "metadata": {},
   "outputs": [],
   "source": [
    "unique_id_Ly_by_store=ids_by_week_store_2019.groupby('location_id')['customer_id_hashed'].nunique().to_frame().reset_index().rename(columns={\"customer_id_hashed\":\"Q4_unique_id\"})\n",
    "unique_id_Ty_by_store=ids_by_week_store_2020.groupby('location_id')['customer_id_hashed'].nunique().to_frame().reset_index().rename(columns={\"customer_id_hashed\":\"Q4_unique_id\"})\n",
    "unique_id_Ly_by_store['rewards_label']=\"Rewards\"\n",
    "unique_id_Ty_by_store['rewards_label']=\"Rewards\"\n",
    "\n",
    "unique_id_Ly_by_store_week=ids_by_week_store_2019.groupby(['location_id','week_end_dt'])['customer_id_hashed'].nunique().to_frame().reset_index().rename(columns={\"customer_id_hashed\":\"Q4_unique_id\"})\n",
    "unique_id_Ty_by_store_week=ids_by_week_store_2020.groupby(['location_id','week_end_dt'])['customer_id_hashed'].nunique().to_frame().reset_index().rename(columns={\"customer_id_hashed\":\"Q4_unique_id\"})\n",
    "\n",
    "unique_id_Ly_by_store_week['rewards_label']=\"Rewards\"\n",
    "unique_id_Ty_by_store_week['rewards_label']=\"Rewards\""
   ]
  },
  {
   "cell_type": "code",
   "execution_count": 15,
   "metadata": {},
   "outputs": [],
   "source": [
    "sales_agg_Ly_with_id_by_week=pd.merge(sales_agg_2019,unique_id_Ly_by_store_week,on=['location_id','week_end_dt','rewards_label'],how=\"outer\")\n",
    "sales_agg_Ty_with_id_by_week=pd.merge(sales_agg_2020,unique_id_Ty_by_store_week,on=['location_id','week_end_dt','rewards_label'],how=\"outer\")\n"
   ]
  },
  {
   "cell_type": "code",
   "execution_count": 16,
   "metadata": {},
   "outputs": [],
   "source": [
    "sales_agg_Ly_with_id_by_week['location_id']=sales_agg_Ly_with_id_by_week['location_id'].astype(int)\n",
    "sales_agg_Ty_with_id_by_week['location_id']=sales_agg_Ty_with_id_by_week['location_id'].astype(int)\n",
    "unique_id_Ly_by_store['location_id']=unique_id_Ly_by_store['location_id'].astype(int)\n",
    "unique_id_Ty_by_store['location_id']=unique_id_Ty_by_store['location_id'].astype(int)"
   ]
  },
  {
   "cell_type": "code",
   "execution_count": 17,
   "metadata": {},
   "outputs": [],
   "source": [
    "writer=pd.ExcelWriter(\"/home/jian/Projects/Big_Lots/Analysis/2020_Q1/Post_YoY/BL_2020_Q1_post_data_positive_sales_trans_JL_\"+str(datetime.datetime.now().date())+\".xlsx\",engine=\"xlsxwriter\")\n",
    "sales_agg_Ly_with_id_by_week.to_excel(writer,\"sales_by_week_LastYear\",index=False)\n",
    "sales_agg_Ty_with_id_by_week.to_excel(writer,\"sales_by_week_ThisYear\",index=False)\n",
    "unique_id_Ly_by_store.to_excel(writer,\"ids_by_store_quarter_LastYear\",index=False)\n",
    "unique_id_Ty_by_store.to_excel(writer,\"ids_by_store_quarter_ThisYear\",index=False)\n",
    "writer.save()"
   ]
  },
  {
   "cell_type": "code",
   "execution_count": 18,
   "metadata": {},
   "outputs": [
    {
     "name": "stdout",
     "output_type": "stream",
     "text": [
      "2020-05-13 23:16:58.954357\n"
     ]
    }
   ],
   "source": [
    "print(datetime.datetime.now())"
   ]
  },
  {
   "cell_type": "code",
   "execution_count": 19,
   "metadata": {},
   "outputs": [],
   "source": [
    "ids_by_week_store_2019.to_csv(\"/home/jian/Projects/Big_Lots/Analysis/2020_Q1/Post_YoY/BL_2019_Q1_ids_2019Q1_by_store_JL_\"+str(datetime.datetime.now().date())+\".csv\",index=False)\n",
    "ids_by_week_store_2020.to_csv(\"/home/jian/Projects/Big_Lots/Analysis/2020_Q1/Post_YoY/BL_2020_Q1_ids_2020Q1_by_store_JL_\"+str(datetime.datetime.now().date())+\".csv\",index=False)\n"
   ]
  },
  {
   "cell_type": "code",
   "execution_count": null,
   "metadata": {},
   "outputs": [],
   "source": []
  }
 ],
 "metadata": {
  "kernelspec": {
   "display_name": "Python 3",
   "language": "python",
   "name": "python3"
  },
  "language_info": {
   "codemirror_mode": {
    "name": "ipython",
    "version": 3
   },
   "file_extension": ".py",
   "mimetype": "text/x-python",
   "name": "python",
   "nbconvert_exporter": "python",
   "pygments_lexer": "ipython3",
   "version": "3.6.1"
  }
 },
 "nbformat": 4,
 "nbformat_minor": 2
}
