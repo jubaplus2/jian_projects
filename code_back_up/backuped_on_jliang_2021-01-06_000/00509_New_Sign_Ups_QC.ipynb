{
 "cells": [
  {
   "cell_type": "code",
   "execution_count": 1,
   "metadata": {},
   "outputs": [
    {
     "data": {
      "text/plain": [
       "'/home/jian/Projects/Big_Lots/Analysis/2019_Q2/Planner_Requests/QC_new_sign_ups_every_week'"
      ]
     },
     "execution_count": 1,
     "metadata": {},
     "output_type": "execute_result"
    }
   ],
   "source": [
    "import pandas as pd\n",
    "import os\n",
    "import datetime\n",
    "import numpy as np\n",
    "\n",
    "os.getcwd()"
   ]
  },
  {
   "cell_type": "code",
   "execution_count": 2,
   "metadata": {
    "collapsed": true
   },
   "outputs": [],
   "source": [
    "def recursive_file_gen(root_path):\n",
    "    for root, dirs, files in os.walk(root_path):\n",
    "        for file in files:\n",
    "            yield os.path.join(root,file)"
   ]
  },
  {
   "cell_type": "code",
   "execution_count": 3,
   "metadata": {},
   "outputs": [],
   "source": [
    "Q1_new_sign_ups=list(recursive_file_gen(\"/home/jian/BigLots/\"))\n",
    "Q1_new_sign_ups=[x for x in Q1_new_sign_ups if \"Master\" in x]\n",
    "Q1_new_sign_ups=[x for x in Q1_new_sign_ups if \"2019\" in x]"
   ]
  },
  {
   "cell_type": "code",
   "execution_count": null,
   "metadata": {
    "collapsed": true
   },
   "outputs": [],
   "source": []
  },
  {
   "cell_type": "code",
   "execution_count": 4,
   "metadata": {},
   "outputs": [
    {
     "data": {
      "text/plain": [
       "13"
      ]
     },
     "execution_count": 4,
     "metadata": {},
     "output_type": "execute_result"
    }
   ],
   "source": [
    "df_Q1_new_sign_ups=pd.DataFrame({\"master_file_path\":Q1_new_sign_ups})\n",
    "df_Q1_new_sign_ups['week_end_dt']=df_Q1_new_sign_ups['master_file_path'].apply(lambda x: x.split(\"_weeks/MediaStorm_\")[1][:10])\n",
    "df_Q1_new_sign_ups=df_Q1_new_sign_ups[(df_Q1_new_sign_ups['week_end_dt']>=\"2019-02-09\") & (df_Q1_new_sign_ups['week_end_dt']<=\"2019-05-04\")]\n",
    "len(df_Q1_new_sign_ups)"
   ]
  },
  {
   "cell_type": "code",
   "execution_count": 5,
   "metadata": {
    "collapsed": true
   },
   "outputs": [],
   "source": [
    "Q1_daily=list(recursive_file_gen(\"/home/jian/BigLots/\"))\n",
    "Q1_daily=[x for x in Q1_daily if \"aily\" in x]\n",
    "Q1_daily=[x for x in Q1_daily if \"2019\" in x]\n",
    "Q1_daily=[x for x in Q1_daily if \"isto\" not in x]\n",
    "Q1_daily=[x for x in Q1_daily if \"txt\" in x]"
   ]
  },
  {
   "cell_type": "code",
   "execution_count": 6,
   "metadata": {},
   "outputs": [
    {
     "data": {
      "text/plain": [
       "13"
      ]
     },
     "execution_count": 6,
     "metadata": {},
     "output_type": "execute_result"
    }
   ],
   "source": [
    "df_Q1_daily=pd.DataFrame({\"daily_file_path\":Q1_daily})\n",
    "df_Q1_daily['week_end_dt']=df_Q1_daily['daily_file_path'].apply(lambda x: x.split(\"eeks/MediaStorm_\")[1][:10])\n",
    "df_Q1_daily=df_Q1_daily[(df_Q1_daily['week_end_dt']>=\"2019-02-09\") & (df_Q1_daily['week_end_dt']<=\"2019-05-04\")]\n",
    "len(df_Q1_daily)"
   ]
  },
  {
   "cell_type": "code",
   "execution_count": 7,
   "metadata": {},
   "outputs": [],
   "source": [
    "df_file_path=pd.merge(df_Q1_daily,df_Q1_new_sign_ups,on=\"week_end_dt\")"
   ]
  },
  {
   "cell_type": "code",
   "execution_count": 14,
   "metadata": {},
   "outputs": [],
   "source": [
    "df_summary=pd.DataFrame()\n",
    "i_counter=0\n",
    "for index,row in df_file_path.iterrows():\n",
    "    master_path=row['master_file_path']\n",
    "    daily_path=row['daily_file_path']\n",
    "    week_end_dt=row['week_end_dt']\n",
    "    \n",
    "    df_master=pd.read_csv(master_path,sep=\"|\",dtype=str,usecols=['customer_id_hashed','email_address_hash','sign_up_date','sign_up_channel','sign_up_location','transaction_count','transaction_amount'])\n",
    "    df_master['transaction_count']=df_master['transaction_count'].astype(float).astype(int)\n",
    "    df_master['transaction_amount']=df_master['transaction_amount'].astype(float).astype(int)\n",
    "    \n",
    "    df_daily=pd.read_csv(daily_path,sep=\"|\",dtype=str,usecols=['customer_id_hashed','transaction_dt']).drop_duplicates()\n",
    "    df_daily=df_daily[~pd.isnull(df_daily['customer_id_hashed'])]\n",
    "    df_both=pd.merge(df_master,df_daily,on=\"customer_id_hashed\",how=\"left\")\n",
    "    \n",
    "    id_total=df_master['customer_id_hashed'].nunique()\n",
    "    id_shopped=df_both[~pd.isnull(df_both['transaction_dt'])]['customer_id_hashed'].nunique()\n",
    "    \n",
    "    df_summary=df_summary.append(pd.DataFrame({\"week_end_dt\":week_end_dt,\"id_total\":id_total,\"id_shopped\":id_shopped},index=[i_counter]))\n",
    "    i_counter+=1"
   ]
  },
  {
   "cell_type": "code",
   "execution_count": 34,
   "metadata": {},
   "outputs": [],
   "source": [
    "writer=pd.ExcelWriter(\"/home/jian/Projects/Big_Lots/Analysis/2019_Q2/Planner_Requests/QC_new_sign_ups_every_week/BL_new_sign_up_master_files_id_count_QA_JL_\"+str(datetime.datetime.now().date())+\".xlsx\",engine=\"xlsxwriter\")\n",
    "df_summary=df_summary[['week_end_dt','id_total','id_shopped']]\n",
    "df_summary.to_excel(writer,\"New_Rewards_Count_QC\",index=False)\n",
    "writer.save()\n"
   ]
  },
  {
   "cell_type": "code",
   "execution_count": 23,
   "metadata": {},
   "outputs": [
    {
     "name": "stderr",
     "output_type": "stream",
     "text": [
      "/usr/local/lib/python3.6/site-packages/ipykernel_launcher.py:3: SettingWithCopyWarning: \n",
      "A value is trying to be set on a copy of a slice from a DataFrame.\n",
      "Try using .loc[row_indexer,col_indexer] = value instead\n",
      "\n",
      "See the caveats in the documentation: http://pandas.pydata.org/pandas-docs/stable/indexing.html#indexing-view-versus-copy\n",
      "  This is separate from the ipykernel package so we can avoid doing imports until\n"
     ]
    },
    {
     "data": {
      "text/html": [
       "<div>\n",
       "<style>\n",
       "    .dataframe thead tr:only-child th {\n",
       "        text-align: right;\n",
       "    }\n",
       "\n",
       "    .dataframe thead th {\n",
       "        text-align: left;\n",
       "    }\n",
       "\n",
       "    .dataframe tbody tr th {\n",
       "        vertical-align: top;\n",
       "    }\n",
       "</style>\n",
       "<table border=\"1\" class=\"dataframe\">\n",
       "  <thead>\n",
       "    <tr style=\"text-align: right;\">\n",
       "      <th></th>\n",
       "      <th>customer_id_hashed</th>\n",
       "      <th>item_transaction_amt</th>\n",
       "    </tr>\n",
       "  </thead>\n",
       "  <tbody>\n",
       "    <tr>\n",
       "      <th>0</th>\n",
       "      <td>0001118b56efc2a9245479d4bab50e5cb6e196fa590194...</td>\n",
       "      <td>12.00</td>\n",
       "    </tr>\n",
       "    <tr>\n",
       "      <th>1</th>\n",
       "      <td>000184a43747fdcd881a2eee3f124e67845b7962458271...</td>\n",
       "      <td>1339.97</td>\n",
       "    </tr>\n",
       "    <tr>\n",
       "      <th>2</th>\n",
       "      <td>00026ab41f5f272e0a8c678b364c86483af82bc02d3b99...</td>\n",
       "      <td>259.99</td>\n",
       "    </tr>\n",
       "    <tr>\n",
       "      <th>3</th>\n",
       "      <td>0002be91e93417ee6707ad3b905db5441ab8733181e608...</td>\n",
       "      <td>17.25</td>\n",
       "    </tr>\n",
       "  </tbody>\n",
       "</table>\n",
       "</div>"
      ],
      "text/plain": [
       "                                  customer_id_hashed  item_transaction_amt\n",
       "0  0001118b56efc2a9245479d4bab50e5cb6e196fa590194...                 12.00\n",
       "1  000184a43747fdcd881a2eee3f124e67845b7962458271...               1339.97\n",
       "2  00026ab41f5f272e0a8c678b364c86483af82bc02d3b99...                259.99\n",
       "3  0002be91e93417ee6707ad3b905db5441ab8733181e608...                 17.25"
      ]
     },
     "execution_count": 23,
     "metadata": {},
     "output_type": "execute_result"
    }
   ],
   "source": [
    "df_daily_0504_new=df_daily_0504[pd.notnull(df_daily_0504['email_address_hash'])]\n",
    "\n",
    "df_daily_0504_new['item_transaction_amt']=df_daily_0504_new['item_transaction_amt'].astype(float)\n",
    "\n",
    "df_daily_0504_new_agg=df_daily_0504_new.groupby(['customer_id_hashed'])['item_transaction_amt'].sum().to_frame().reset_index()\n",
    "df_daily_0504_new_agg.head(4)"
   ]
  },
  {
   "cell_type": "code",
   "execution_count": 24,
   "metadata": {},
   "outputs": [
    {
     "data": {
      "text/plain": [
       "(82965, 2)"
      ]
     },
     "execution_count": 24,
     "metadata": {},
     "output_type": "execute_result"
    }
   ],
   "source": [
    "df_daily_0504_new_agg.shape"
   ]
  },
  {
   "cell_type": "code",
   "execution_count": 26,
   "metadata": {},
   "outputs": [
    {
     "data": {
      "text/plain": [
       "4047.7599999999989"
      ]
     },
     "execution_count": 26,
     "metadata": {},
     "output_type": "execute_result"
    }
   ],
   "source": [
    "df_daily_0504_new_agg['item_transaction_amt'].max()"
   ]
  },
  {
   "cell_type": "code",
   "execution_count": 32,
   "metadata": {},
   "outputs": [
    {
     "data": {
      "text/plain": [
       "(29008, 2)"
      ]
     },
     "execution_count": 32,
     "metadata": {},
     "output_type": "execute_result"
    }
   ],
   "source": [
    "df_daily_0504_new_agg[df_daily_0504_new_agg['item_transaction_amt']<=20].shape"
   ]
  },
  {
   "cell_type": "code",
   "execution_count": 33,
   "metadata": {},
   "outputs": [
    {
     "data": {
      "text/plain": [
       "0.342823376469893"
      ]
     },
     "execution_count": 33,
     "metadata": {},
     "output_type": "execute_result"
    }
   ],
   "source": [
    "29008/84615"
   ]
  },
  {
   "cell_type": "code",
   "execution_count": null,
   "metadata": {
    "collapsed": true
   },
   "outputs": [],
   "source": []
  }
 ],
 "metadata": {
  "kernelspec": {
   "display_name": "Python 3",
   "language": "python",
   "name": "python3"
  },
  "language_info": {
   "codemirror_mode": {
    "name": "ipython",
    "version": 3
   },
   "file_extension": ".py",
   "mimetype": "text/x-python",
   "name": "python",
   "nbconvert_exporter": "python",
   "pygments_lexer": "ipython3",
   "version": "3.6.1"
  }
 },
 "nbformat": 4,
 "nbformat_minor": 2
}
