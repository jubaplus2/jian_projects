{
 "cells": [
  {
   "cell_type": "code",
   "execution_count": 1,
   "metadata": {
    "collapsed": true
   },
   "outputs": [],
   "source": [
    "import pandas as pd\n",
    "import datetime\n",
    "import os\n",
    "import numpy as np\n",
    "import gc\n",
    "# Sales>1 per item/subcalss line\n",
    "# Sales >7000 ids removed, 1196 ids out of 17883899 rewards shoppers in total\n",
    "# 11.7% Unknown (not valid) ids, they are included in the P/S/T cumulative sorting"
   ]
  },
  {
   "cell_type": "code",
   "execution_count": 2,
   "metadata": {
    "collapsed": true
   },
   "outputs": [],
   "source": [
    "def recursive_file_gen(root_path):\n",
    "    for root,dirs, files in os.walk(root_path):\n",
    "        for file in files:\n",
    "            yield os.path.join(root,file)"
   ]
  },
  {
   "cell_type": "markdown",
   "metadata": {},
   "source": [
    "# Master_file_id_zip"
   ]
  },
  {
   "cell_type": "code",
   "execution_count": 3,
   "metadata": {},
   "outputs": [
    {
     "name": "stdout",
     "output_type": "stream",
     "text": [
      "(35650450, 2)\n"
     ]
    }
   ],
   "source": [
    "# Conbined before 2019\n",
    "df_id_zip=pd.read_csv('/home/jian/Projects/Big_Lots/Loyal_members/loyalty_register_data/combined_masterids_up_to_20181229_JL.csv',\n",
    "                          usecols=['customer_id_hashed','customer_zip_code'],dtype=str)\n",
    "print(df_id_zip.shape)"
   ]
  },
  {
   "cell_type": "code",
   "execution_count": 4,
   "metadata": {},
   "outputs": [
    {
     "name": "stdout",
     "output_type": "stream",
     "text": [
      "(23907550, 2)\n"
     ]
    },
    {
     "data": {
      "text/plain": [
       "14"
      ]
     },
     "execution_count": 4,
     "metadata": {},
     "output_type": "execute_result"
    }
   ],
   "source": [
    "# Lapsed\n",
    "df_id_zip_1 = pd.read_csv('/home/jian/Projects/Big_Lots/Loyal_members/loyalty_register_data/MediaStorm_Lapsed_Reward_Member_Master_from2014-08-26to2017-02-26.zip',\n",
    "                     dtype = 'str',sep = '|',usecols = ['customer_id_hashed','customer_zip_code'])\n",
    "\n",
    "df_id_zip=df_id_zip.append(df_id_zip_1).drop_duplicates(\"customer_id_hashed\")\n",
    "del df_id_zip_1\n",
    "print(df_id_zip.shape)\n",
    "gc.collect()"
   ]
  },
  {
   "cell_type": "code",
   "execution_count": 5,
   "metadata": {},
   "outputs": [
    {
     "name": "stdout",
     "output_type": "stream",
     "text": [
      "(27890080, 2)\n"
     ]
    }
   ],
   "source": [
    "# 2018Q1 to 2019Q1 new sign ups\n",
    "df_id_zip_1=pd.read_table(\"/home/jian/BigLots/New_Sing_Ups_2018_Fiscal_Year/All Rewards Members 2018-02-04 - 2019-05-04.zip\",\n",
    "                         compression=\"zip\",dtype=str,sep=\"|\",usecols=['customer_id_hashed','customer_zip_code'])\n",
    "df_id_zip=df_id_zip_1.append(df_id_zip).drop_duplicates(\"customer_id_hashed\")\n",
    "print(df_id_zip.shape)"
   ]
  },
  {
   "cell_type": "code",
   "execution_count": 6,
   "metadata": {},
   "outputs": [
    {
     "name": "stdout",
     "output_type": "stream",
     "text": [
      "(28351272, 2)\n"
     ]
    }
   ],
   "source": [
    "# The gap\n",
    "df_id_zip_1=pd.read_table(\"/home/jian/BigLots/New_Sing_Ups_2018_Fiscal_Year/MediaStorm Rewards Master P4 2019 - no transaction info.zip\",\n",
    "                         compression=\"zip\",dtype=str,sep=\"|\",usecols=['customer_id_hashed','customer_zip_code'])\n",
    "df_id_zip=df_id_zip_1.append(df_id_zip).drop_duplicates(\"customer_id_hashed\")\n",
    "print(df_id_zip.shape)"
   ]
  },
  {
   "cell_type": "code",
   "execution_count": 7,
   "metadata": {},
   "outputs": [
    {
     "name": "stdout",
     "output_type": "stream",
     "text": [
      "(28703956, 2)\n"
     ]
    }
   ],
   "source": [
    "new_sign_ups_by_week_file_list=list(recursive_file_gen(\"/home/jian/BigLots/2019_by_weeks/\"))\n",
    "new_sign_ups_by_week_file_list=[x for x in new_sign_ups_by_week_file_list if \"aster\" in x]\n",
    "new_sign_ups_by_week_file_df=pd.DataFrame({\"file_path\":new_sign_ups_by_week_file_list})\n",
    "new_sign_ups_by_week_file_df['week_end_dt']=new_sign_ups_by_week_file_df['file_path'].apply(lambda x: x.split(\"/MediaStorm_\")[1][:10])\n",
    "new_sign_ups_by_week_file_df=new_sign_ups_by_week_file_df[new_sign_ups_by_week_file_df['week_end_dt']>\"2019-06-01\"] #> as the max date above\n",
    "\n",
    "df_id_zip_1=pd.DataFrame()\n",
    "for file in new_sign_ups_by_week_file_df['file_path'].unique().tolist():\n",
    "    df=pd.read_table(file,dtype=str,usecols=['customer_id_hashed','customer_zip_code'],sep=\"|\")\n",
    "    df_id_zip_1=df_id_zip_1.append(df)\n",
    "    \n",
    "df_id_zip=df_id_zip.append(df_id_zip_1)\n",
    "df_id_zip=df_id_zip.drop_duplicates(\"customer_id_hashed\")\n",
    "del df_id_zip_1\n",
    "gc.collect()\n",
    "\n",
    "print(df_id_zip.shape)"
   ]
  },
  {
   "cell_type": "code",
   "execution_count": 8,
   "metadata": {
    "collapsed": true
   },
   "outputs": [],
   "source": [
    "df_id_zip=df_id_zip[pd.notnull(df_id_zip['customer_zip_code'])]\n",
    "df_id_zip['customer_zip_code']=df_id_zip['customer_zip_code'].astype(str)\n",
    "df_id_zip['customer_zip_code']=df_id_zip['customer_zip_code'].apply(lambda x: x.split(\"-\")[0].zfill(5)[:5])\n"
   ]
  },
  {
   "cell_type": "code",
   "execution_count": 9,
   "metadata": {},
   "outputs": [
    {
     "data": {
      "text/html": [
       "<div>\n",
       "<style>\n",
       "    .dataframe thead tr:only-child th {\n",
       "        text-align: right;\n",
       "    }\n",
       "\n",
       "    .dataframe thead th {\n",
       "        text-align: left;\n",
       "    }\n",
       "\n",
       "    .dataframe tbody tr th {\n",
       "        vertical-align: top;\n",
       "    }\n",
       "</style>\n",
       "<table border=\"1\" class=\"dataframe\">\n",
       "  <thead>\n",
       "    <tr style=\"text-align: right;\">\n",
       "      <th></th>\n",
       "      <th>customer_zip_code</th>\n",
       "      <th>DMA_set</th>\n",
       "      <th>ST_set</th>\n",
       "    </tr>\n",
       "  </thead>\n",
       "  <tbody>\n",
       "    <tr>\n",
       "      <th>0</th>\n",
       "      <td>00501</td>\n",
       "      <td>{'NEW YORK'}</td>\n",
       "      <td>{'NY'}</td>\n",
       "    </tr>\n",
       "    <tr>\n",
       "      <th>1</th>\n",
       "      <td>00544</td>\n",
       "      <td>{'NEW YORK'}</td>\n",
       "      <td>{'NY'}</td>\n",
       "    </tr>\n",
       "    <tr>\n",
       "      <th>2</th>\n",
       "      <td>01001</td>\n",
       "      <td>{'SPRINGFIELD-HOLYOKE'}</td>\n",
       "      <td>{'MA'}</td>\n",
       "    </tr>\n",
       "  </tbody>\n",
       "</table>\n",
       "</div>"
      ],
      "text/plain": [
       "  customer_zip_code                  DMA_set  ST_set\n",
       "0             00501             {'NEW YORK'}  {'NY'}\n",
       "1             00544             {'NEW YORK'}  {'NY'}\n",
       "2             01001  {'SPRINGFIELD-HOLYOKE'}  {'MA'}"
      ]
     },
     "execution_count": 9,
     "metadata": {},
     "output_type": "execute_result"
    }
   ],
   "source": [
    "###### Matching with Nielsen data\n",
    "\n",
    "DMA_nielsen=pd.read_excel(\"/home/jian/Docs/Geo_mapping/Zips by DMA by County16-17 nielsen.xlsx\",dtype=str,usecols=[0,2,6],skiprows=1)\n",
    "DMA_nielsen.columns=['customer_zip_code','DMA_set','ST_set']\n",
    "DMA_nielsen=DMA_nielsen.drop_duplicates()\n",
    "def func_set_str(x):\n",
    "    return str(set(x))\n",
    "DMA_nielsen=DMA_nielsen.groupby(\"customer_zip_code\")['DMA_set','ST_set'].agg(func_set_str).reset_index()\n",
    "DMA_nielsen.head(3)"
   ]
  },
  {
   "cell_type": "code",
   "execution_count": 10,
   "metadata": {},
   "outputs": [
    {
     "name": "stdout",
     "output_type": "stream",
     "text": [
      "(25686877, 4)\n",
      "25686877\n",
      "(187456, 4)\n"
     ]
    }
   ],
   "source": [
    "df_id_zip=pd.merge(df_id_zip,DMA_nielsen,on=\"customer_zip_code\",how=\"left\")\n",
    "\n",
    "print(df_id_zip.shape)\n",
    "print(df_id_zip['customer_id_hashed'].nunique())\n",
    "print(df_id_zip[pd.isnull(df_id_zip['DMA_set'])].shape)\n"
   ]
  },
  {
   "cell_type": "markdown",
   "metadata": {},
   "source": [
    "# Transactions_1_Year"
   ]
  },
  {
   "cell_type": "code",
   "execution_count": 11,
   "metadata": {},
   "outputs": [
    {
     "name": "stdout",
     "output_type": "stream",
     "text": [
      "(27, 2)\n",
      "27\n",
      "20190209\n",
      "20180811\n"
     ]
    }
   ],
   "source": [
    "item_level_sales_historical=list(recursive_file_gen(\"/home/jian/BigLots/hist_daily_data_itemlevel_decompressed/\"))\n",
    "item_level_sales_historica=[x for x in item_level_sales_historical if ((\"MediaStormDailySalesHistory\" in x) & (\".txt\" in x))]\n",
    "df_item_level_sales_historical=pd.DataFrame({\"file_path\":item_level_sales_historica})\n",
    "df_item_level_sales_historical['week_end_dt']=df_item_level_sales_historical['file_path'].apply(lambda x: x.split(\"/MediaStormDailySalesHistory\")[1][:8])\n",
    "print(df_item_level_sales_historical.shape)\n",
    "print(df_item_level_sales_historical['file_path'].nunique())\n",
    "print(df_item_level_sales_historical['week_end_dt'].max())\n",
    "print(df_item_level_sales_historical['week_end_dt'].min())\n"
   ]
  },
  {
   "cell_type": "code",
   "execution_count": 12,
   "metadata": {},
   "outputs": [
    {
     "name": "stdout",
     "output_type": "stream",
     "text": [
      "(19, 2)\n",
      "19\n",
      "20190622\n",
      "20190216\n"
     ]
    }
   ],
   "source": [
    "this_year_item_level=list(recursive_file_gen(\"/home/jian/BigLots/2019_by_weeks/\"))\n",
    "this_year_item_level=[x for x in this_year_item_level if ((\"MediaStormDailySales\" in x) & (\".txt\" in x))]\n",
    "df_item_level_sales_2019=pd.DataFrame({\"file_path\":this_year_item_level})\n",
    "df_item_level_sales_2019['week_end_dt']=df_item_level_sales_2019['file_path'].apply(lambda x: x.split(\"2019_by_weeks/MediaStorm_\")[1][:10].replace(\"-\",\"\"))\n",
    "\n",
    "\n",
    "df_item_level_sales_2019=df_item_level_sales_2019[df_item_level_sales_2019['week_end_dt']>df_item_level_sales_historical['week_end_dt'].max()]\n",
    "print(df_item_level_sales_2019.shape)\n",
    "print(df_item_level_sales_2019['file_path'].nunique())\n",
    "print(df_item_level_sales_2019['week_end_dt'].max())\n",
    "print(df_item_level_sales_2019['week_end_dt'].min())\n"
   ]
  },
  {
   "cell_type": "code",
   "execution_count": 13,
   "metadata": {},
   "outputs": [
    {
     "name": "stdout",
     "output_type": "stream",
     "text": [
      "(8, 2)\n",
      "8\n",
      "20180804\n",
      "20180616\n"
     ]
    }
   ],
   "source": [
    "last_year_subclass_level=list(recursive_file_gen(\"/home/jian/BigLots/2018_by_weeks/\"))\n",
    "last_year_subclass_level=[x for x in last_year_subclass_level if ((\"MediaStormDailySales\" in x) & (\".txt\" in x))]\n",
    "df_subclass_level_sales_2018=pd.DataFrame({\"file_path\":last_year_subclass_level})\n",
    "df_subclass_level_sales_2018['week_end_dt']=df_subclass_level_sales_2018['file_path'].apply(lambda x: x.split(\"2018_by_weeks/MediaStorm_\")[1][:10].replace(\"-\",\"\"))\n",
    "\n",
    "\n",
    "df_subclass_level_sales_2018=df_subclass_level_sales_2018[df_subclass_level_sales_2018['week_end_dt']<df_item_level_sales_historical['week_end_dt'].min()]\n",
    "print(df_subclass_level_sales_2018.shape)\n",
    "print(df_subclass_level_sales_2018['file_path'].nunique())\n",
    "print(df_subclass_level_sales_2018['week_end_dt'].max())\n",
    "print(df_subclass_level_sales_2018['week_end_dt'].min())"
   ]
  },
  {
   "cell_type": "code",
   "execution_count": 14,
   "metadata": {},
   "outputs": [
    {
     "name": "stdout",
     "output_type": "stream",
     "text": [
      "(46, 2)\n",
      "46\n"
     ]
    }
   ],
   "source": [
    "all_df_item_level=df_item_level_sales_2019.append(df_item_level_sales_historical).sort_values(\"week_end_dt\")\n",
    "print(all_df_item_level.shape)\n",
    "print(all_df_item_level['file_path'].nunique())"
   ]
  },
  {
   "cell_type": "code",
   "execution_count": 15,
   "metadata": {
    "collapsed": true
   },
   "outputs": [],
   "source": [
    "df_subclass_level_sales_2018=df_subclass_level_sales_2018.sort_values(\"week_end_dt\").tail(52-all_df_item_level['file_path'].nunique())\n",
    "df_subclass_level_sales_2018=df_subclass_level_sales_2018.reset_index()\n",
    "del df_subclass_level_sales_2018['index']"
   ]
  },
  {
   "cell_type": "code",
   "execution_count": 16,
   "metadata": {
    "collapsed": true
   },
   "outputs": [],
   "source": [
    "# Sales>1\n",
    "df_sales_all=pd.DataFrame(columns=['location_id','transaction_dt','customer_id_hashed','sales'])\n",
    "for file in df_subclass_level_sales_2018['file_path'].unique().tolist():\n",
    "    df=pd.read_table(file,dtype=str,sep=\"|\",usecols=['location_id','transaction_dt','transaction_id','customer_id_hashed','subclass_transaction_amt'])\n",
    "    df=df[pd.notnull(df['customer_id_hashed'])]\n",
    "    df['subclass_transaction_amt']=df['subclass_transaction_amt'].astype(float)\n",
    "    df=df[df['subclass_transaction_amt']>1]\n",
    "    df_sales=df.groupby(['location_id','transaction_dt','customer_id_hashed'])['subclass_transaction_amt'].sum().to_frame().reset_index()\n",
    "    df_trans=df[['location_id','transaction_dt','customer_id_hashed','transaction_id']].drop_duplicates()\n",
    "    df_trans=df_trans.groupby(['location_id','transaction_dt','customer_id_hashed'])['transaction_id'].count().to_frame().reset_index()\n",
    "    df=pd.merge(df_sales,df_trans,on=['location_id','transaction_dt','customer_id_hashed'],how=\"outer\")\n",
    "    df=df.rename(columns={\"subclass_transaction_amt\":\"sales\",\"transaction_id\":\"trans\"})\n",
    "    df_sales_all=df_sales_all.append(df)"
   ]
  },
  {
   "cell_type": "code",
   "execution_count": 17,
   "metadata": {},
   "outputs": [
    {
     "ename": "KeyboardInterrupt",
     "evalue": "",
     "output_type": "error",
     "traceback": [
      "\u001b[0;31m---------------------------------------------------------------------------\u001b[0m",
      "\u001b[0;31mKeyboardInterrupt\u001b[0m                         Traceback (most recent call last)",
      "\u001b[0;32m<ipython-input-17-dbae1356c542>\u001b[0m in \u001b[0;36m<module>\u001b[0;34m()\u001b[0m\n\u001b[1;32m     12\u001b[0m     \u001b[0mdf\u001b[0m\u001b[0;34m[\u001b[0m\u001b[0;34m'item_transaction_amt'\u001b[0m\u001b[0;34m]\u001b[0m\u001b[0;34m=\u001b[0m\u001b[0mdf\u001b[0m\u001b[0;34m[\u001b[0m\u001b[0;34m'item_transaction_amt'\u001b[0m\u001b[0;34m]\u001b[0m\u001b[0;34m.\u001b[0m\u001b[0mastype\u001b[0m\u001b[0;34m(\u001b[0m\u001b[0mfloat\u001b[0m\u001b[0;34m)\u001b[0m\u001b[0;34m\u001b[0m\u001b[0m\n\u001b[1;32m     13\u001b[0m     \u001b[0mdf\u001b[0m\u001b[0;34m=\u001b[0m\u001b[0mdf\u001b[0m\u001b[0;34m[\u001b[0m\u001b[0mdf\u001b[0m\u001b[0;34m[\u001b[0m\u001b[0;34m'item_transaction_amt'\u001b[0m\u001b[0;34m]\u001b[0m\u001b[0;34m>\u001b[0m\u001b[0;36m1\u001b[0m\u001b[0;34m]\u001b[0m\u001b[0;34m\u001b[0m\u001b[0m\n\u001b[0;32m---> 14\u001b[0;31m     \u001b[0mdf_sales\u001b[0m\u001b[0;34m=\u001b[0m\u001b[0mdf\u001b[0m\u001b[0;34m.\u001b[0m\u001b[0mgroupby\u001b[0m\u001b[0;34m(\u001b[0m\u001b[0;34m[\u001b[0m\u001b[0;34m'location_id'\u001b[0m\u001b[0;34m,\u001b[0m\u001b[0;34m'transaction_dt'\u001b[0m\u001b[0;34m,\u001b[0m\u001b[0;34m'customer_id_hashed'\u001b[0m\u001b[0;34m]\u001b[0m\u001b[0;34m)\u001b[0m\u001b[0;34m[\u001b[0m\u001b[0;34m'item_transaction_amt'\u001b[0m\u001b[0;34m]\u001b[0m\u001b[0;34m.\u001b[0m\u001b[0msum\u001b[0m\u001b[0;34m(\u001b[0m\u001b[0;34m)\u001b[0m\u001b[0;34m.\u001b[0m\u001b[0mto_frame\u001b[0m\u001b[0;34m(\u001b[0m\u001b[0;34m)\u001b[0m\u001b[0;34m.\u001b[0m\u001b[0mreset_index\u001b[0m\u001b[0;34m(\u001b[0m\u001b[0;34m)\u001b[0m\u001b[0;34m\u001b[0m\u001b[0m\n\u001b[0m\u001b[1;32m     15\u001b[0m     \u001b[0mdf_trans\u001b[0m\u001b[0;34m=\u001b[0m\u001b[0mdf\u001b[0m\u001b[0;34m[\u001b[0m\u001b[0;34m[\u001b[0m\u001b[0;34m'location_id'\u001b[0m\u001b[0;34m,\u001b[0m\u001b[0;34m'transaction_dt'\u001b[0m\u001b[0;34m,\u001b[0m\u001b[0;34m'customer_id_hashed'\u001b[0m\u001b[0;34m,\u001b[0m\u001b[0;34m'transaction_id'\u001b[0m\u001b[0;34m]\u001b[0m\u001b[0;34m]\u001b[0m\u001b[0;34m.\u001b[0m\u001b[0mdrop_duplicates\u001b[0m\u001b[0;34m(\u001b[0m\u001b[0;34m)\u001b[0m\u001b[0;34m\u001b[0m\u001b[0m\n\u001b[1;32m     16\u001b[0m     \u001b[0mdf_trans\u001b[0m\u001b[0;34m=\u001b[0m\u001b[0mdf_trans\u001b[0m\u001b[0;34m.\u001b[0m\u001b[0mgroupby\u001b[0m\u001b[0;34m(\u001b[0m\u001b[0;34m[\u001b[0m\u001b[0;34m'location_id'\u001b[0m\u001b[0;34m,\u001b[0m\u001b[0;34m'transaction_dt'\u001b[0m\u001b[0;34m,\u001b[0m\u001b[0;34m'customer_id_hashed'\u001b[0m\u001b[0;34m]\u001b[0m\u001b[0;34m)\u001b[0m\u001b[0;34m[\u001b[0m\u001b[0;34m'transaction_id'\u001b[0m\u001b[0;34m]\u001b[0m\u001b[0;34m.\u001b[0m\u001b[0mcount\u001b[0m\u001b[0;34m(\u001b[0m\u001b[0;34m)\u001b[0m\u001b[0;34m.\u001b[0m\u001b[0mto_frame\u001b[0m\u001b[0;34m(\u001b[0m\u001b[0;34m)\u001b[0m\u001b[0;34m.\u001b[0m\u001b[0mreset_index\u001b[0m\u001b[0;34m(\u001b[0m\u001b[0;34m)\u001b[0m\u001b[0;34m\u001b[0m\u001b[0m\n",
      "\u001b[0;32m/usr/local/lib/python3.6/site-packages/pandas/core/groupby.py\u001b[0m in \u001b[0;36mf\u001b[0;34m(self, **kwargs)\u001b[0m\n\u001b[1;32m   1148\u001b[0m                 \u001b[0;32mtry\u001b[0m\u001b[0;34m:\u001b[0m\u001b[0;34m\u001b[0m\u001b[0m\n\u001b[1;32m   1149\u001b[0m                     return self._cython_agg_general(\n\u001b[0;32m-> 1150\u001b[0;31m                         alias, alt=npfunc, **kwargs)\n\u001b[0m\u001b[1;32m   1151\u001b[0m                 \u001b[0;32mexcept\u001b[0m \u001b[0mAssertionError\u001b[0m \u001b[0;32mas\u001b[0m \u001b[0me\u001b[0m\u001b[0;34m:\u001b[0m\u001b[0;34m\u001b[0m\u001b[0m\n\u001b[1;32m   1152\u001b[0m                     \u001b[0;32mraise\u001b[0m \u001b[0mSpecificationError\u001b[0m\u001b[0;34m(\u001b[0m\u001b[0mstr\u001b[0m\u001b[0;34m(\u001b[0m\u001b[0me\u001b[0m\u001b[0;34m)\u001b[0m\u001b[0;34m)\u001b[0m\u001b[0;34m\u001b[0m\u001b[0m\n",
      "\u001b[0;32m/usr/local/lib/python3.6/site-packages/pandas/core/groupby.py\u001b[0m in \u001b[0;36m_cython_agg_general\u001b[0;34m(self, how, alt, numeric_only)\u001b[0m\n\u001b[1;32m    828\u001b[0m \u001b[0;34m\u001b[0m\u001b[0m\n\u001b[1;32m    829\u001b[0m             \u001b[0;32mtry\u001b[0m\u001b[0;34m:\u001b[0m\u001b[0;34m\u001b[0m\u001b[0m\n\u001b[0;32m--> 830\u001b[0;31m                 \u001b[0mresult\u001b[0m\u001b[0;34m,\u001b[0m \u001b[0mnames\u001b[0m \u001b[0;34m=\u001b[0m \u001b[0mself\u001b[0m\u001b[0;34m.\u001b[0m\u001b[0mgrouper\u001b[0m\u001b[0;34m.\u001b[0m\u001b[0maggregate\u001b[0m\u001b[0;34m(\u001b[0m\u001b[0mobj\u001b[0m\u001b[0;34m.\u001b[0m\u001b[0mvalues\u001b[0m\u001b[0;34m,\u001b[0m \u001b[0mhow\u001b[0m\u001b[0;34m)\u001b[0m\u001b[0;34m\u001b[0m\u001b[0m\n\u001b[0m\u001b[1;32m    831\u001b[0m             \u001b[0;32mexcept\u001b[0m \u001b[0mAssertionError\u001b[0m \u001b[0;32mas\u001b[0m \u001b[0me\u001b[0m\u001b[0;34m:\u001b[0m\u001b[0;34m\u001b[0m\u001b[0m\n\u001b[1;32m    832\u001b[0m                 \u001b[0;32mraise\u001b[0m \u001b[0mGroupByError\u001b[0m\u001b[0;34m(\u001b[0m\u001b[0mstr\u001b[0m\u001b[0;34m(\u001b[0m\u001b[0me\u001b[0m\u001b[0;34m)\u001b[0m\u001b[0;34m)\u001b[0m\u001b[0;34m\u001b[0m\u001b[0m\n",
      "\u001b[0;32m/usr/local/lib/python3.6/site-packages/pandas/core/groupby.py\u001b[0m in \u001b[0;36maggregate\u001b[0;34m(self, values, how, axis)\u001b[0m\n\u001b[1;32m   2134\u001b[0m \u001b[0;34m\u001b[0m\u001b[0m\n\u001b[1;32m   2135\u001b[0m     \u001b[0;32mdef\u001b[0m \u001b[0maggregate\u001b[0m\u001b[0;34m(\u001b[0m\u001b[0mself\u001b[0m\u001b[0;34m,\u001b[0m \u001b[0mvalues\u001b[0m\u001b[0;34m,\u001b[0m \u001b[0mhow\u001b[0m\u001b[0;34m,\u001b[0m \u001b[0maxis\u001b[0m\u001b[0;34m=\u001b[0m\u001b[0;36m0\u001b[0m\u001b[0;34m)\u001b[0m\u001b[0;34m:\u001b[0m\u001b[0;34m\u001b[0m\u001b[0m\n\u001b[0;32m-> 2136\u001b[0;31m         \u001b[0;32mreturn\u001b[0m \u001b[0mself\u001b[0m\u001b[0;34m.\u001b[0m\u001b[0m_cython_operation\u001b[0m\u001b[0;34m(\u001b[0m\u001b[0;34m'aggregate'\u001b[0m\u001b[0;34m,\u001b[0m \u001b[0mvalues\u001b[0m\u001b[0;34m,\u001b[0m \u001b[0mhow\u001b[0m\u001b[0;34m,\u001b[0m \u001b[0maxis\u001b[0m\u001b[0;34m)\u001b[0m\u001b[0;34m\u001b[0m\u001b[0m\n\u001b[0m\u001b[1;32m   2137\u001b[0m \u001b[0;34m\u001b[0m\u001b[0m\n\u001b[1;32m   2138\u001b[0m     \u001b[0;32mdef\u001b[0m \u001b[0mtransform\u001b[0m\u001b[0;34m(\u001b[0m\u001b[0mself\u001b[0m\u001b[0;34m,\u001b[0m \u001b[0mvalues\u001b[0m\u001b[0;34m,\u001b[0m \u001b[0mhow\u001b[0m\u001b[0;34m,\u001b[0m \u001b[0maxis\u001b[0m\u001b[0;34m=\u001b[0m\u001b[0;36m0\u001b[0m\u001b[0;34m)\u001b[0m\u001b[0;34m:\u001b[0m\u001b[0;34m\u001b[0m\u001b[0m\n",
      "\u001b[0;32m/usr/local/lib/python3.6/site-packages/pandas/core/groupby.py\u001b[0m in \u001b[0;36m_cython_operation\u001b[0;34m(self, kind, values, how, axis)\u001b[0m\n\u001b[1;32m   2038\u001b[0m         \u001b[0;32mif\u001b[0m \u001b[0mvdim\u001b[0m \u001b[0;34m==\u001b[0m \u001b[0;36m1\u001b[0m\u001b[0;34m:\u001b[0m\u001b[0;34m\u001b[0m\u001b[0m\n\u001b[1;32m   2039\u001b[0m             \u001b[0mvalues\u001b[0m \u001b[0;34m=\u001b[0m \u001b[0mvalues\u001b[0m\u001b[0;34m[\u001b[0m\u001b[0;34m:\u001b[0m\u001b[0;34m,\u001b[0m \u001b[0;32mNone\u001b[0m\u001b[0;34m]\u001b[0m\u001b[0;34m\u001b[0m\u001b[0m\n\u001b[0;32m-> 2040\u001b[0;31m             \u001b[0mout_shape\u001b[0m \u001b[0;34m=\u001b[0m \u001b[0;34m(\u001b[0m\u001b[0mself\u001b[0m\u001b[0;34m.\u001b[0m\u001b[0mngroups\u001b[0m\u001b[0;34m,\u001b[0m \u001b[0marity\u001b[0m\u001b[0;34m)\u001b[0m\u001b[0;34m\u001b[0m\u001b[0m\n\u001b[0m\u001b[1;32m   2041\u001b[0m         \u001b[0;32melse\u001b[0m\u001b[0;34m:\u001b[0m\u001b[0;34m\u001b[0m\u001b[0m\n\u001b[1;32m   2042\u001b[0m             \u001b[0;32mif\u001b[0m \u001b[0maxis\u001b[0m \u001b[0;34m>\u001b[0m \u001b[0;36m0\u001b[0m\u001b[0;34m:\u001b[0m\u001b[0;34m\u001b[0m\u001b[0m\n",
      "\u001b[0;32mpandas/_libs/src/properties.pyx\u001b[0m in \u001b[0;36mpandas._libs.lib.cache_readonly.__get__ (pandas/_libs/lib.c:44594)\u001b[0;34m()\u001b[0m\n",
      "\u001b[0;32m/usr/local/lib/python3.6/site-packages/pandas/core/groupby.py\u001b[0m in \u001b[0;36mngroups\u001b[0;34m(self)\u001b[0m\n\u001b[1;32m   1889\u001b[0m     \u001b[0;34m@\u001b[0m\u001b[0mcache_readonly\u001b[0m\u001b[0;34m\u001b[0m\u001b[0m\n\u001b[1;32m   1890\u001b[0m     \u001b[0;32mdef\u001b[0m \u001b[0mngroups\u001b[0m\u001b[0;34m(\u001b[0m\u001b[0mself\u001b[0m\u001b[0;34m)\u001b[0m\u001b[0;34m:\u001b[0m\u001b[0;34m\u001b[0m\u001b[0m\n\u001b[0;32m-> 1891\u001b[0;31m         \u001b[0;32mreturn\u001b[0m \u001b[0mlen\u001b[0m\u001b[0;34m(\u001b[0m\u001b[0mself\u001b[0m\u001b[0;34m.\u001b[0m\u001b[0mresult_index\u001b[0m\u001b[0;34m)\u001b[0m\u001b[0;34m\u001b[0m\u001b[0m\n\u001b[0m\u001b[1;32m   1892\u001b[0m \u001b[0;34m\u001b[0m\u001b[0m\n\u001b[1;32m   1893\u001b[0m     \u001b[0;34m@\u001b[0m\u001b[0mproperty\u001b[0m\u001b[0;34m\u001b[0m\u001b[0m\n",
      "\u001b[0;32mpandas/_libs/src/properties.pyx\u001b[0m in \u001b[0;36mpandas._libs.lib.cache_readonly.__get__ (pandas/_libs/lib.c:44594)\u001b[0;34m()\u001b[0m\n",
      "\u001b[0;32m/usr/local/lib/python3.6/site-packages/pandas/core/groupby.py\u001b[0m in \u001b[0;36mresult_index\u001b[0;34m(self)\u001b[0m\n\u001b[1;32m   1903\u001b[0m             \u001b[0;32mreturn\u001b[0m \u001b[0mself\u001b[0m\u001b[0;34m.\u001b[0m\u001b[0mgroupings\u001b[0m\u001b[0;34m[\u001b[0m\u001b[0;36m0\u001b[0m\u001b[0;34m]\u001b[0m\u001b[0;34m.\u001b[0m\u001b[0mgroup_index\u001b[0m\u001b[0;34m.\u001b[0m\u001b[0mrename\u001b[0m\u001b[0;34m(\u001b[0m\u001b[0mself\u001b[0m\u001b[0;34m.\u001b[0m\u001b[0mnames\u001b[0m\u001b[0;34m[\u001b[0m\u001b[0;36m0\u001b[0m\u001b[0;34m]\u001b[0m\u001b[0;34m)\u001b[0m\u001b[0;34m\u001b[0m\u001b[0m\n\u001b[1;32m   1904\u001b[0m \u001b[0;34m\u001b[0m\u001b[0m\n\u001b[0;32m-> 1905\u001b[0;31m         return MultiIndex(levels=[ping.group_index for ping in self.groupings],\n\u001b[0m\u001b[1;32m   1906\u001b[0m                           \u001b[0mlabels\u001b[0m\u001b[0;34m=\u001b[0m\u001b[0mself\u001b[0m\u001b[0;34m.\u001b[0m\u001b[0mrecons_labels\u001b[0m\u001b[0;34m,\u001b[0m\u001b[0;34m\u001b[0m\u001b[0m\n\u001b[1;32m   1907\u001b[0m                           \u001b[0mverify_integrity\u001b[0m\u001b[0;34m=\u001b[0m\u001b[0;32mFalse\u001b[0m\u001b[0;34m,\u001b[0m\u001b[0;34m\u001b[0m\u001b[0m\n",
      "\u001b[0;32m/usr/local/lib/python3.6/site-packages/pandas/core/groupby.py\u001b[0m in \u001b[0;36m<listcomp>\u001b[0;34m(.0)\u001b[0m\n\u001b[1;32m   1903\u001b[0m             \u001b[0;32mreturn\u001b[0m \u001b[0mself\u001b[0m\u001b[0;34m.\u001b[0m\u001b[0mgroupings\u001b[0m\u001b[0;34m[\u001b[0m\u001b[0;36m0\u001b[0m\u001b[0;34m]\u001b[0m\u001b[0;34m.\u001b[0m\u001b[0mgroup_index\u001b[0m\u001b[0;34m.\u001b[0m\u001b[0mrename\u001b[0m\u001b[0;34m(\u001b[0m\u001b[0mself\u001b[0m\u001b[0;34m.\u001b[0m\u001b[0mnames\u001b[0m\u001b[0;34m[\u001b[0m\u001b[0;36m0\u001b[0m\u001b[0;34m]\u001b[0m\u001b[0;34m)\u001b[0m\u001b[0;34m\u001b[0m\u001b[0m\n\u001b[1;32m   1904\u001b[0m \u001b[0;34m\u001b[0m\u001b[0m\n\u001b[0;32m-> 1905\u001b[0;31m         return MultiIndex(levels=[ping.group_index for ping in self.groupings],\n\u001b[0m\u001b[1;32m   1906\u001b[0m                           \u001b[0mlabels\u001b[0m\u001b[0;34m=\u001b[0m\u001b[0mself\u001b[0m\u001b[0;34m.\u001b[0m\u001b[0mrecons_labels\u001b[0m\u001b[0;34m,\u001b[0m\u001b[0;34m\u001b[0m\u001b[0m\n\u001b[1;32m   1907\u001b[0m                           \u001b[0mverify_integrity\u001b[0m\u001b[0;34m=\u001b[0m\u001b[0;32mFalse\u001b[0m\u001b[0;34m,\u001b[0m\u001b[0;34m\u001b[0m\u001b[0m\n",
      "\u001b[0;32m/usr/local/lib/python3.6/site-packages/pandas/core/groupby.py\u001b[0m in \u001b[0;36mgroup_index\u001b[0;34m(self)\u001b[0m\n\u001b[1;32m   2537\u001b[0m     \u001b[0;32mdef\u001b[0m \u001b[0mgroup_index\u001b[0m\u001b[0;34m(\u001b[0m\u001b[0mself\u001b[0m\u001b[0;34m)\u001b[0m\u001b[0;34m:\u001b[0m\u001b[0;34m\u001b[0m\u001b[0m\n\u001b[1;32m   2538\u001b[0m         \u001b[0;32mif\u001b[0m \u001b[0mself\u001b[0m\u001b[0;34m.\u001b[0m\u001b[0m_group_index\u001b[0m \u001b[0;32mis\u001b[0m \u001b[0;32mNone\u001b[0m\u001b[0;34m:\u001b[0m\u001b[0;34m\u001b[0m\u001b[0m\n\u001b[0;32m-> 2539\u001b[0;31m             \u001b[0mself\u001b[0m\u001b[0;34m.\u001b[0m\u001b[0m_make_labels\u001b[0m\u001b[0;34m(\u001b[0m\u001b[0;34m)\u001b[0m\u001b[0;34m\u001b[0m\u001b[0m\n\u001b[0m\u001b[1;32m   2540\u001b[0m         \u001b[0;32mreturn\u001b[0m \u001b[0mself\u001b[0m\u001b[0;34m.\u001b[0m\u001b[0m_group_index\u001b[0m\u001b[0;34m\u001b[0m\u001b[0m\n\u001b[1;32m   2541\u001b[0m \u001b[0;34m\u001b[0m\u001b[0m\n",
      "\u001b[0;32m/usr/local/lib/python3.6/site-packages/pandas/core/groupby.py\u001b[0m in \u001b[0;36m_make_labels\u001b[0;34m(self)\u001b[0m\n\u001b[1;32m   2543\u001b[0m         \u001b[0;32mif\u001b[0m \u001b[0mself\u001b[0m\u001b[0;34m.\u001b[0m\u001b[0m_labels\u001b[0m \u001b[0;32mis\u001b[0m \u001b[0;32mNone\u001b[0m \u001b[0;32mor\u001b[0m \u001b[0mself\u001b[0m\u001b[0;34m.\u001b[0m\u001b[0m_group_index\u001b[0m \u001b[0;32mis\u001b[0m \u001b[0;32mNone\u001b[0m\u001b[0;34m:\u001b[0m\u001b[0;34m\u001b[0m\u001b[0m\n\u001b[1;32m   2544\u001b[0m             labels, uniques = algorithms.factorize(\n\u001b[0;32m-> 2545\u001b[0;31m                 self.grouper, sort=self.sort)\n\u001b[0m\u001b[1;32m   2546\u001b[0m             \u001b[0muniques\u001b[0m \u001b[0;34m=\u001b[0m \u001b[0mIndex\u001b[0m\u001b[0;34m(\u001b[0m\u001b[0muniques\u001b[0m\u001b[0;34m,\u001b[0m \u001b[0mname\u001b[0m\u001b[0;34m=\u001b[0m\u001b[0mself\u001b[0m\u001b[0;34m.\u001b[0m\u001b[0mname\u001b[0m\u001b[0;34m)\u001b[0m\u001b[0;34m\u001b[0m\u001b[0m\n\u001b[1;32m   2547\u001b[0m             \u001b[0mself\u001b[0m\u001b[0;34m.\u001b[0m\u001b[0m_labels\u001b[0m \u001b[0;34m=\u001b[0m \u001b[0mlabels\u001b[0m\u001b[0;34m\u001b[0m\u001b[0m\n",
      "\u001b[0;32m/usr/local/lib/python3.6/site-packages/pandas/core/algorithms.py\u001b[0m in \u001b[0;36mfactorize\u001b[0;34m(values, sort, order, na_sentinel, size_hint)\u001b[0m\n\u001b[1;32m    570\u001b[0m \u001b[0;34m\u001b[0m\u001b[0m\n\u001b[1;32m    571\u001b[0m     \u001b[0;31m# return original tenor\u001b[0m\u001b[0;34m\u001b[0m\u001b[0;34m\u001b[0m\u001b[0m\n\u001b[0;32m--> 572\u001b[0;31m     \u001b[0;32mif\u001b[0m \u001b[0misinstance\u001b[0m\u001b[0;34m(\u001b[0m\u001b[0moriginal\u001b[0m\u001b[0;34m,\u001b[0m \u001b[0mABCIndexClass\u001b[0m\u001b[0;34m)\u001b[0m\u001b[0;34m:\u001b[0m\u001b[0;34m\u001b[0m\u001b[0m\n\u001b[0m\u001b[1;32m    573\u001b[0m         \u001b[0muniques\u001b[0m \u001b[0;34m=\u001b[0m \u001b[0moriginal\u001b[0m\u001b[0;34m.\u001b[0m\u001b[0m_shallow_copy\u001b[0m\u001b[0;34m(\u001b[0m\u001b[0muniques\u001b[0m\u001b[0;34m,\u001b[0m \u001b[0mname\u001b[0m\u001b[0;34m=\u001b[0m\u001b[0;32mNone\u001b[0m\u001b[0;34m)\u001b[0m\u001b[0;34m\u001b[0m\u001b[0m\n\u001b[1;32m    574\u001b[0m     \u001b[0;32melif\u001b[0m \u001b[0misinstance\u001b[0m\u001b[0;34m(\u001b[0m\u001b[0moriginal\u001b[0m\u001b[0;34m,\u001b[0m \u001b[0mABCSeries\u001b[0m\u001b[0;34m)\u001b[0m\u001b[0;34m:\u001b[0m\u001b[0;34m\u001b[0m\u001b[0m\n",
      "\u001b[0;31mKeyboardInterrupt\u001b[0m: "
     ]
    }
   ],
   "source": [
    "error_file_list=[]\n",
    "for file in all_df_item_level['file_path'].unique().tolist():    \n",
    "    try:\n",
    "        if \".zip\" in file:\n",
    "            df=pd.read_table(file,dtype=str,sep=\"|\",usecols=['location_id','transaction_dt','customer_id_hashed','transaction_id','item_transaction_amt'],compression=\"zip\")\n",
    "        elif \".txt\" in file:\n",
    "            df=pd.read_table(file,dtype=str,sep=\"|\",usecols=['location_id','transaction_dt','customer_id_hashed','transaction_id','item_transaction_amt'])\n",
    "    except:\n",
    "        error_file_list=error_file_list+[file]\n",
    "        df=pd.DataFrame(columns=['location_id','transaction_dt','customer_id_hashed','item_transaction_amt','transaction_id'])\n",
    "    df=df[pd.notnull(df['customer_id_hashed'])]\n",
    "    df['item_transaction_amt']=df['item_transaction_amt'].astype(float)\n",
    "    df=df[df['item_transaction_amt']>1]\n",
    "    df_sales=df.groupby(['location_id','transaction_dt','customer_id_hashed'])['item_transaction_amt'].sum().to_frame().reset_index()\n",
    "    df_trans=df[['location_id','transaction_dt','customer_id_hashed','transaction_id']].drop_duplicates()\n",
    "    df_trans=df_trans.groupby(['location_id','transaction_dt','customer_id_hashed'])['transaction_id'].count().to_frame().reset_index()\n",
    "    df=pd.merge(df_sales,df_trans,on=['location_id','transaction_dt','customer_id_hashed'],how=\"outer\")\n",
    "    df=df.rename(columns={\"item_transaction_amt\":\"sales\",\"transaction_id\":\"trans\"})\n",
    "    df_sales_all=df_sales_all.append(df)"
   ]
  },
  {
   "cell_type": "code",
   "execution_count": null,
   "metadata": {},
   "outputs": [],
   "source": [
    "func_date_store={\"transaction_dt\":['nunique','max','min']}\n",
    "df_summary_store_date=df_sales_all.groupby(['location_id'])['transaction_dt'].agg(func_date_store).reset_index()\n",
    "new_cols=df_summary_store_date.columns.tolist()\n",
    "new_col_list=[]\n",
    "for col in new_cols:\n",
    "    if col[1]==\"\":\n",
    "        new_col=col[0]\n",
    "    else:\n",
    "        new_col=col[0]+\"_\"+col[1]\n",
    "    new_col_list=new_col_list+[new_col]\n",
    "df_summary_store_date.columns=new_col_list"
   ]
  },
  {
   "cell_type": "code",
   "execution_count": null,
   "metadata": {},
   "outputs": [],
   "source": [
    "store_list_fewer_than_2_months=df_summary_store_date[df_summary_store_date['transaction_dt_nunique']<=60]\n",
    "store_list_fewer_2_to_12_months=df_summary_store_date[df_summary_store_date['transaction_dt_nunique']>60]\n",
    "print(\"store_list_fewer_2_to_12_months['location_id'].nunique(): \" + str((store_list_fewer_2_to_12_months['location_id'].nunique())))\n",
    "print(\"store_list_fewer_than_2_months['location_id'].nunique(): \" + str((store_list_fewer_than_2_months['location_id'].nunique())))\n"
   ]
  },
  {
   "cell_type": "code",
   "execution_count": null,
   "metadata": {
    "collapsed": true
   },
   "outputs": [],
   "source": [
    "df_sales_all=pd.merge(df_sales_all,df_id_zip,on='customer_id_hashed',how=\"left\")\n",
    "df_sales_all['customer_zip_code']=df_sales_all['customer_zip_code'].fillna(\"nan\")\n",
    "df_sales_all['zip_validation']=np.where(pd.isnull(df_sales_all['DMA_set']),\"Unknown_Zip\",\"Valid_Zip\")\n",
    "# Stopped here\n",
    "\n"
   ]
  },
  {
   "cell_type": "code",
   "execution_count": null,
   "metadata": {
    "collapsed": true
   },
   "outputs": [],
   "source": [
    "df_sales_by_id=df_sales_all.groupby(\"customer_id_hashed\")['sales'].sum().to_frame().reset_index()\n",
    "df_sales_by_id=df_sales_by_id.sort_values(\"sales\",ascending=False).reset_index()\n",
    "del df_sales_by_id['index']\n",
    "print(df_sales_by_id.shape)\n",
    "\n",
    "for i in range(5,10):\n",
    "    threshold=i*1000\n",
    "    print(threshold,df_sales_by_id[df_sales_by_id['sales']>threshold].shape)"
   ]
  },
  {
   "cell_type": "code",
   "execution_count": null,
   "metadata": {
    "collapsed": true
   },
   "outputs": [],
   "source": [
    "output_folder=\"/home/jian/Projects/Big_Lots/New_TA/TA_created_in_201906/output_\"+str(datetime.datetime.now().date())+\"/\"\n",
    "\n",
    "try:\n",
    "    os.stat(output_folder)\n",
    "except:\n",
    "    os.mkdir(output_folder)"
   ]
  },
  {
   "cell_type": "code",
   "execution_count": null,
   "metadata": {
    "collapsed": true
   },
   "outputs": [],
   "source": [
    "# Stopped here"
   ]
  },
  {
   "cell_type": "code",
   "execution_count": null,
   "metadata": {
    "collapsed": true
   },
   "outputs": [],
   "source": []
  },
  {
   "cell_type": "code",
   "execution_count": 21,
   "metadata": {},
   "outputs": [
    {
     "name": "stdout",
     "output_type": "stream",
     "text": [
      "(17883899, 2)\n",
      "5000 (2711, 2)\n",
      "6000 (1669, 2)\n",
      "7000 (1196, 2)\n",
      "8000 (910, 2)\n",
      "9000 (726, 2)\n"
     ]
    }
   ],
   "source": [
    "df_sales_by_id=df_sales_all.groupby(\"customer_id_hashed\")['sales'].sum().to_frame().reset_index()\n",
    "df_sales_by_id=df_sales_by_id.sort_values(\"sales\",ascending=False).reset_index()\n",
    "del df_sales_by_id['index']\n",
    "print(df_sales_by_id.shape)\n",
    "\n",
    "for i in range(5,10):\n",
    "    threshold=i*1000\n",
    "    print(threshold,df_sales_by_id[df_sales_by_id['sales']>threshold].shape)"
   ]
  },
  {
   "cell_type": "code",
   "execution_count": 22,
   "metadata": {},
   "outputs": [
    {
     "data": {
      "text/plain": [
       "298"
      ]
     },
     "execution_count": 22,
     "metadata": {},
     "output_type": "execute_result"
    }
   ],
   "source": [
    "# Sales >7000 ids removed, 1196 ids out of 17883899 rewards shoppers in total\n",
    "id_list_removed=df_sales_by_id[df_sales_by_id['sales']>7000]['customer_id_hashed'].unique().tolist()\n",
    "\n",
    "# df_sales_by_id=df_sales_by_id[~df_sales_by_id['customer_id_hashed'].isin(id_list_removed)]\n",
    "df_sales_all=df_sales_all[~df_sales_all['customer_id_hashed'].isin(id_list_removed)]\n",
    "del df_sales_by_id\n",
    "import gc\n",
    "gc.collect()"
   ]
  },
  {
   "cell_type": "code",
   "execution_count": null,
   "metadata": {
    "collapsed": true
   },
   "outputs": [],
   "source": []
  },
  {
   "cell_type": "code",
   "execution_count": 23,
   "metadata": {},
   "outputs": [
    {
     "name": "stdout",
     "output_type": "stream",
     "text": [
      "(1811292, 6)\n"
     ]
    },
    {
     "data": {
      "text/html": [
       "<div>\n",
       "<style>\n",
       "    .dataframe thead tr:only-child th {\n",
       "        text-align: right;\n",
       "    }\n",
       "\n",
       "    .dataframe thead th {\n",
       "        text-align: left;\n",
       "    }\n",
       "\n",
       "    .dataframe tbody tr th {\n",
       "        vertical-align: top;\n",
       "    }\n",
       "</style>\n",
       "<table border=\"1\" class=\"dataframe\">\n",
       "  <thead>\n",
       "    <tr style=\"text-align: right;\">\n",
       "      <th></th>\n",
       "      <th>location_id</th>\n",
       "      <th>customer_zip_code</th>\n",
       "      <th>zip_validation</th>\n",
       "      <th>sales</th>\n",
       "      <th>trans</th>\n",
       "      <th>customer_id_hashed</th>\n",
       "    </tr>\n",
       "  </thead>\n",
       "  <tbody>\n",
       "    <tr>\n",
       "      <th>0</th>\n",
       "      <td>1</td>\n",
       "      <td>00000</td>\n",
       "      <td>Unknown_Zip</td>\n",
       "      <td>11558.01</td>\n",
       "      <td>177.0</td>\n",
       "      <td>59</td>\n",
       "    </tr>\n",
       "    <tr>\n",
       "      <th>1</th>\n",
       "      <td>1</td>\n",
       "      <td>02703</td>\n",
       "      <td>Valid_Zip</td>\n",
       "      <td>487.43</td>\n",
       "      <td>10.0</td>\n",
       "      <td>1</td>\n",
       "    </tr>\n",
       "    <tr>\n",
       "      <th>2</th>\n",
       "      <td>1</td>\n",
       "      <td>03256</td>\n",
       "      <td>Valid_Zip</td>\n",
       "      <td>51.67</td>\n",
       "      <td>2.0</td>\n",
       "      <td>1</td>\n",
       "    </tr>\n",
       "    <tr>\n",
       "      <th>3</th>\n",
       "      <td>1</td>\n",
       "      <td>04210</td>\n",
       "      <td>Valid_Zip</td>\n",
       "      <td>98.68</td>\n",
       "      <td>3.0</td>\n",
       "      <td>1</td>\n",
       "    </tr>\n",
       "  </tbody>\n",
       "</table>\n",
       "</div>"
      ],
      "text/plain": [
       "  location_id customer_zip_code zip_validation     sales  trans  \\\n",
       "0           1             00000    Unknown_Zip  11558.01  177.0   \n",
       "1           1             02703      Valid_Zip    487.43   10.0   \n",
       "2           1             03256      Valid_Zip     51.67    2.0   \n",
       "3           1             04210      Valid_Zip     98.68    3.0   \n",
       "\n",
       "   customer_id_hashed  \n",
       "0                  59  \n",
       "1                   1  \n",
       "2                   1  \n",
       "3                   1  "
      ]
     },
     "execution_count": 23,
     "metadata": {},
     "output_type": "execute_result"
    }
   ],
   "source": [
    "agg_func={\"sales\":\"sum\",\"trans\":\"sum\",\"customer_id_hashed\":\"nunique\"}\n",
    "output_by_store_zip_sales=df_sales_all.groupby(['location_id','customer_zip_code','zip_validation'])['sales','trans','customer_id_hashed'].agg(agg_func).reset_index()\n",
    "print(output_by_store_zip_sales.shape)\n",
    "output_by_store_zip_sales.head(4)"
   ]
  },
  {
   "cell_type": "code",
   "execution_count": 24,
   "metadata": {},
   "outputs": [
    {
     "data": {
      "text/html": [
       "<div>\n",
       "<style>\n",
       "    .dataframe thead tr:only-child th {\n",
       "        text-align: right;\n",
       "    }\n",
       "\n",
       "    .dataframe thead th {\n",
       "        text-align: left;\n",
       "    }\n",
       "\n",
       "    .dataframe tbody tr th {\n",
       "        vertical-align: top;\n",
       "    }\n",
       "</style>\n",
       "<table border=\"1\" class=\"dataframe\">\n",
       "  <thead>\n",
       "    <tr style=\"text-align: right;\">\n",
       "      <th></th>\n",
       "      <th>customer_id_hashed</th>\n",
       "    </tr>\n",
       "    <tr>\n",
       "      <th>zip_validation</th>\n",
       "      <th></th>\n",
       "    </tr>\n",
       "  </thead>\n",
       "  <tbody>\n",
       "    <tr>\n",
       "      <th>Unknown_Zip</th>\n",
       "      <td>2727503</td>\n",
       "    </tr>\n",
       "    <tr>\n",
       "      <th>Valid_Zip</th>\n",
       "      <td>20479171</td>\n",
       "    </tr>\n",
       "  </tbody>\n",
       "</table>\n",
       "</div>"
      ],
      "text/plain": [
       "                customer_id_hashed\n",
       "zip_validation                    \n",
       "Unknown_Zip                2727503\n",
       "Valid_Zip                 20479171"
      ]
     },
     "execution_count": 24,
     "metadata": {},
     "output_type": "execute_result"
    }
   ],
   "source": [
    "output_by_store_zip_sales.groupby(\"zip_validation\")['customer_id_hashed'].sum().to_frame()"
   ]
  },
  {
   "cell_type": "code",
   "execution_count": 1,
   "metadata": {},
   "outputs": [
    {
     "data": {
      "text/plain": [
       "0.11753097406375425"
      ]
     },
     "execution_count": 1,
     "metadata": {},
     "output_type": "execute_result"
    }
   ],
   "source": [
    "2727503/(20479171+2727503)"
   ]
  },
  {
   "cell_type": "code",
   "execution_count": 26,
   "metadata": {},
   "outputs": [
    {
     "data": {
      "text/html": [
       "<div>\n",
       "<style>\n",
       "    .dataframe thead tr:only-child th {\n",
       "        text-align: right;\n",
       "    }\n",
       "\n",
       "    .dataframe thead th {\n",
       "        text-align: left;\n",
       "    }\n",
       "\n",
       "    .dataframe tbody tr th {\n",
       "        vertical-align: top;\n",
       "    }\n",
       "</style>\n",
       "<table border=\"1\" class=\"dataframe\">\n",
       "  <thead>\n",
       "    <tr style=\"text-align: right;\">\n",
       "      <th></th>\n",
       "      <th>customer_id_hashed</th>\n",
       "    </tr>\n",
       "    <tr>\n",
       "      <th>zip_validation</th>\n",
       "      <th></th>\n",
       "    </tr>\n",
       "  </thead>\n",
       "  <tbody>\n",
       "    <tr>\n",
       "      <th>Unknown_Zip</th>\n",
       "      <td>2690162</td>\n",
       "    </tr>\n",
       "    <tr>\n",
       "      <th>Valid_Zip</th>\n",
       "      <td>20337889</td>\n",
       "    </tr>\n",
       "  </tbody>\n",
       "</table>\n",
       "</div>"
      ],
      "text/plain": [
       "                customer_id_hashed\n",
       "zip_validation                    \n",
       "Unknown_Zip                2690162\n",
       "Valid_Zip                 20337889"
      ]
     },
     "execution_count": 26,
     "metadata": {},
     "output_type": "execute_result"
    }
   ],
   "source": [
    "output_by_store_zip_sales[output_by_store_zip_sales['location_id']!=\"6990\"].groupby(\"zip_validation\")['customer_id_hashed'].sum().to_frame()"
   ]
  },
  {
   "cell_type": "code",
   "execution_count": 2,
   "metadata": {},
   "outputs": [
    {
     "data": {
      "text/plain": [
       "0.116821089201166"
      ]
     },
     "execution_count": 2,
     "metadata": {},
     "output_type": "execute_result"
    }
   ],
   "source": [
    "2690162/(2690162+20337889)"
   ]
  },
  {
   "cell_type": "code",
   "execution_count": 28,
   "metadata": {},
   "outputs": [
    {
     "data": {
      "text/plain": [
       "(1811292, 6)"
      ]
     },
     "execution_count": 28,
     "metadata": {},
     "output_type": "execute_result"
    }
   ],
   "source": [
    "output_by_store_zip_sales.shape"
   ]
  },
  {
   "cell_type": "code",
   "execution_count": 29,
   "metadata": {},
   "outputs": [
    {
     "name": "stderr",
     "output_type": "stream",
     "text": [
      "/usr/local/lib/python3.6/site-packages/ipykernel_launcher.py:4: SettingWithCopyWarning: \n",
      "A value is trying to be set on a copy of a slice from a DataFrame.\n",
      "Try using .loc[row_indexer,col_indexer] = value instead\n",
      "\n",
      "See the caveats in the documentation: http://pandas.pydata.org/pandas-docs/stable/indexing.html#indexing-view-versus-copy\n",
      "  after removing the cwd from sys.path.\n",
      "/usr/local/lib/python3.6/site-packages/ipykernel_launcher.py:6: SettingWithCopyWarning: \n",
      "A value is trying to be set on a copy of a slice from a DataFrame.\n",
      "Try using .loc[row_indexer,col_indexer] = value instead\n",
      "\n",
      "See the caveats in the documentation: http://pandas.pydata.org/pandas-docs/stable/indexing.html#indexing-view-versus-copy\n",
      "  \n",
      "/usr/local/lib/python3.6/site-packages/ipykernel_launcher.py:8: SettingWithCopyWarning: \n",
      "A value is trying to be set on a copy of a slice from a DataFrame.\n",
      "Try using .loc[row_indexer,col_indexer] = value instead\n",
      "\n",
      "See the caveats in the documentation: http://pandas.pydata.org/pandas-docs/stable/indexing.html#indexing-view-versus-copy\n",
      "  \n"
     ]
    }
   ],
   "source": [
    "output_by_store_zip_sales_cum=pd.DataFrame()\n",
    "output_by_store_zip_sales=output_by_store_zip_sales.sort_values([\"location_id\",'sales'],ascending=[True,False])\n",
    "for store,group in output_by_store_zip_sales.groupby(\"location_id\"):\n",
    "    group['cum_sales']=group['sales'].cumsum()\n",
    "    total_sales=group['sales'].sum()\n",
    "    group['pctg']=group['cum_sales']/total_sales\n",
    "    group['revenue_flag']=np.where(group['pctg']>=0.8,\"T\",\n",
    "                                  np.where(group['pctg']>=0.6,\"S\",\"P\"))\n",
    "    output_by_store_zip_sales_cum=output_by_store_zip_sales_cum.append(group)"
   ]
  },
  {
   "cell_type": "code",
   "execution_count": 30,
   "metadata": {},
   "outputs": [
    {
     "name": "stderr",
     "output_type": "stream",
     "text": [
      "/usr/local/lib/python3.6/site-packages/ipykernel_launcher.py:4: SettingWithCopyWarning: \n",
      "A value is trying to be set on a copy of a slice from a DataFrame.\n",
      "Try using .loc[row_indexer,col_indexer] = value instead\n",
      "\n",
      "See the caveats in the documentation: http://pandas.pydata.org/pandas-docs/stable/indexing.html#indexing-view-versus-copy\n",
      "  after removing the cwd from sys.path.\n",
      "/usr/local/lib/python3.6/site-packages/ipykernel_launcher.py:6: SettingWithCopyWarning: \n",
      "A value is trying to be set on a copy of a slice from a DataFrame.\n",
      "Try using .loc[row_indexer,col_indexer] = value instead\n",
      "\n",
      "See the caveats in the documentation: http://pandas.pydata.org/pandas-docs/stable/indexing.html#indexing-view-versus-copy\n",
      "  \n",
      "/usr/local/lib/python3.6/site-packages/ipykernel_launcher.py:8: SettingWithCopyWarning: \n",
      "A value is trying to be set on a copy of a slice from a DataFrame.\n",
      "Try using .loc[row_indexer,col_indexer] = value instead\n",
      "\n",
      "See the caveats in the documentation: http://pandas.pydata.org/pandas-docs/stable/indexing.html#indexing-view-versus-copy\n",
      "  \n"
     ]
    }
   ],
   "source": [
    "output_by_store_zip_trans_cum=pd.DataFrame()\n",
    "output_by_store_zip_trans=output_by_store_zip_sales.sort_values([\"location_id\",'trans'],ascending=[True,False])\n",
    "for store,group in output_by_store_zip_trans.groupby(\"location_id\"):\n",
    "    group['cum_trans']=group['trans'].cumsum()\n",
    "    total_trans=group['trans'].sum()\n",
    "    group['pctg']=group['cum_trans']/total_trans\n",
    "    group['transactions_flag']=np.where(group['pctg']>=0.8,\"T\",\n",
    "                                  np.where(group['pctg']>=0.6,\"S\",\"P\"))\n",
    "    output_by_store_zip_trans_cum=output_by_store_zip_trans_cum.append(group)"
   ]
  },
  {
   "cell_type": "code",
   "execution_count": 31,
   "metadata": {},
   "outputs": [
    {
     "data": {
      "text/html": [
       "<div>\n",
       "<style>\n",
       "    .dataframe thead tr:only-child th {\n",
       "        text-align: right;\n",
       "    }\n",
       "\n",
       "    .dataframe thead th {\n",
       "        text-align: left;\n",
       "    }\n",
       "\n",
       "    .dataframe tbody tr th {\n",
       "        vertical-align: top;\n",
       "    }\n",
       "</style>\n",
       "<table border=\"1\" class=\"dataframe\">\n",
       "  <thead>\n",
       "    <tr style=\"text-align: right;\">\n",
       "      <th></th>\n",
       "      <th>location_id</th>\n",
       "      <th>customer_zip_code</th>\n",
       "      <th>zip_validation</th>\n",
       "      <th>sales</th>\n",
       "      <th>trans</th>\n",
       "      <th>customer_id_hashed</th>\n",
       "      <th>cum_sales</th>\n",
       "      <th>sales_pctg_cum</th>\n",
       "      <th>revenue_flag</th>\n",
       "      <th>cum_trans</th>\n",
       "      <th>trans_pctg_cum</th>\n",
       "      <th>transactions_flag</th>\n",
       "    </tr>\n",
       "  </thead>\n",
       "  <tbody>\n",
       "    <tr>\n",
       "      <th>0</th>\n",
       "      <td>1</td>\n",
       "      <td>43232</td>\n",
       "      <td>Valid_Zip</td>\n",
       "      <td>602768.34</td>\n",
       "      <td>16101.0</td>\n",
       "      <td>3245</td>\n",
       "      <td>602768.34</td>\n",
       "      <td>0.214983</td>\n",
       "      <td>P</td>\n",
       "      <td>16101.0</td>\n",
       "      <td>0.260846</td>\n",
       "      <td>P</td>\n",
       "    </tr>\n",
       "    <tr>\n",
       "      <th>1</th>\n",
       "      <td>1</td>\n",
       "      <td>43207</td>\n",
       "      <td>Valid_Zip</td>\n",
       "      <td>348158.20</td>\n",
       "      <td>6688.0</td>\n",
       "      <td>1798</td>\n",
       "      <td>950926.54</td>\n",
       "      <td>0.339157</td>\n",
       "      <td>P</td>\n",
       "      <td>30159.0</td>\n",
       "      <td>0.488595</td>\n",
       "      <td>P</td>\n",
       "    </tr>\n",
       "  </tbody>\n",
       "</table>\n",
       "</div>"
      ],
      "text/plain": [
       "  location_id customer_zip_code zip_validation      sales    trans  \\\n",
       "0           1             43232      Valid_Zip  602768.34  16101.0   \n",
       "1           1             43207      Valid_Zip  348158.20   6688.0   \n",
       "\n",
       "   customer_id_hashed  cum_sales  sales_pctg_cum revenue_flag  cum_trans  \\\n",
       "0                3245  602768.34        0.214983            P    16101.0   \n",
       "1                1798  950926.54        0.339157            P    30159.0   \n",
       "\n",
       "   trans_pctg_cum transactions_flag  \n",
       "0        0.260846                 P  \n",
       "1        0.488595                 P  "
      ]
     },
     "execution_count": 31,
     "metadata": {},
     "output_type": "execute_result"
    }
   ],
   "source": [
    "output_by_store_zip_sales_cum=output_by_store_zip_sales_cum.rename(columns={\"pctg\":\"sales_pctg_cum\"})\n",
    "output_by_store_zip_trans_cum=output_by_store_zip_trans_cum.rename(columns={\"pctg\":\"trans_pctg_cum\"})\n",
    "\n",
    "output_by_store_zip_trans_label=output_by_store_zip_trans_cum[['location_id','customer_zip_code','cum_trans','trans_pctg_cum','transactions_flag']]\n",
    "output_by_store_zip=pd.merge(output_by_store_zip_sales_cum,output_by_store_zip_trans_label,on=['location_id','customer_zip_code'],how=\"outer\")\n",
    "\n",
    "output_by_store_zip.head(2)"
   ]
  },
  {
   "cell_type": "code",
   "execution_count": 32,
   "metadata": {},
   "outputs": [
    {
     "data": {
      "text/plain": [
       "'/home/jian/Projects/Big_Lots/New_TA/TA_created_in_201906'"
      ]
     },
     "execution_count": 32,
     "metadata": {},
     "output_type": "execute_result"
    }
   ],
   "source": [
    "os.getcwd()"
   ]
  },
  {
   "cell_type": "code",
   "execution_count": 33,
   "metadata": {
    "collapsed": true
   },
   "outputs": [],
   "source": [
    "output_by_store_zip=pd.merge(output_by_store_zip,df_summary_store_date,on=\"location_id\")"
   ]
  },
  {
   "cell_type": "code",
   "execution_count": 34,
   "metadata": {
    "collapsed": true
   },
   "outputs": [],
   "source": [
    "output_by_store_zip.to_csv(\"/home/jian/Projects/Big_Lots/New_TA/TA_created_in_201906/output_by_store_zip_sales_cum_JL_\"+str(datetime.datetime.now().date())+\".csv\",index=False)\n"
   ]
  },
  {
   "cell_type": "code",
   "execution_count": 35,
   "metadata": {
    "collapsed": true
   },
   "outputs": [],
   "source": [
    "summary=output_by_store_zip.groupby(['location_id','revenue_flag','transactions_flag'])['customer_zip_code'].count().to_frame().reset_index()\n",
    "summary=pd.merge(summary,df_summary_store_date,on=\"location_id\",how=\"left\")\n",
    "summary.to_csv(\"/home/jian/Projects/Big_Lots/New_TA/TA_created_in_201906/output_zip_count_summary_JL_\"+str(datetime.datetime.now().date())+\".csv\",index=False)\n"
   ]
  },
  {
   "cell_type": "code",
   "execution_count": 36,
   "metadata": {
    "collapsed": true
   },
   "outputs": [],
   "source": [
    "summary_2=output_by_store_zip.groupby(['location_id','revenue_flag','transactions_flag','zip_validation'])['customer_zip_code'].count().to_frame().reset_index()\n",
    "summary_2=pd.merge(summary_2,df_summary_store_date,on=\"location_id\",how=\"left\")\n",
    "summary_2.to_csv(\"/home/jian/Projects/Big_Lots/New_TA/TA_created_in_201906/output_zip_count_summary2_JL_\"+str(datetime.datetime.now().date())+\".csv\",index=False)\n"
   ]
  },
  {
   "cell_type": "code",
   "execution_count": 37,
   "metadata": {
    "collapsed": true
   },
   "outputs": [],
   "source": [
    "output_by_store_zip_sameple_store_1=output_by_store_zip[output_by_store_zip['location_id']==\"1\"]\n",
    "output_by_store_zip_sameple_store_1.to_csv(\"/home/jian/Projects/Big_Lots/New_TA/TA_created_in_201906/output_by_store_zip_sample_store_1_JL_\"+str(datetime.datetime.now().date())+\".csv\",index=False)\n"
   ]
  },
  {
   "cell_type": "code",
   "execution_count": 38,
   "metadata": {
    "collapsed": true
   },
   "outputs": [],
   "source": [
    "writer=pd.ExcelWriter(\"/home/jian/Projects/Big_Lots/New_TA/TA_created_in_201906/BL_new_ta_zip_by_store_summary_JL_\"+str(datetime.datetime.now().date())+\".xlsx\",engine=\"xlsxwriter\")\n",
    "summary.to_excel(writer,\"summary_by_store\",index=False)\n",
    "summary_2.to_excel(writer,\"summary_2_by_store\",index=False)\n",
    "output_by_store_zip_sameple_store_1.to_excel(writer,\"sample_store_1\",index=False)\n",
    "writer.save()"
   ]
  },
  {
   "cell_type": "code",
   "execution_count": null,
   "metadata": {
    "collapsed": true
   },
   "outputs": [],
   "source": []
  }
 ],
 "metadata": {
  "kernelspec": {
   "display_name": "Python 3",
   "language": "python",
   "name": "python3"
  },
  "language_info": {
   "codemirror_mode": {
    "name": "ipython",
    "version": 3
   },
   "file_extension": ".py",
   "mimetype": "text/x-python",
   "name": "python",
   "nbconvert_exporter": "python",
   "pygments_lexer": "ipython3",
   "version": "3.6.1"
  }
 },
 "nbformat": 4,
 "nbformat_minor": 2
}
