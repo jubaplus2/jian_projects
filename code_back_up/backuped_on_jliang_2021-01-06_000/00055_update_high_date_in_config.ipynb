{
 "cells": [
  {
   "cell_type": "code",
   "execution_count": 16,
   "metadata": {},
   "outputs": [],
   "source": [
    "\n",
    "def update_high_date_in_config():\n",
    "\n",
    "    import datetime\n",
    "    import json\n",
    "\n",
    "    date_last_sturday=[datetime.datetime.now().date()-datetime.timedelta(days=x) for x in range(6)] \n",
    "    date_last_sturday=[x for x in date_last_sturday if x.weekday()==5][0]\n",
    "\n",
    "    path_json=\"/mnt/clients/juba/hqjubaapp02/jliang/Projects/Big_Lots/Predictive_Model/Model_Scripts/config.json\"\n",
    "\n",
    "    config_prev=json.load(open(path_json,\"r\"))\n",
    "\n",
    "    config_new=config_prev.copy()\n",
    "    config_new['pos_end_date']=str(date_last_sturday)\n",
    "    config_new['crm_end_date']=str(date_last_sturday)\n",
    "\n",
    "    print(\"pos_end_date & crm_end_date in config.json have been updated to: %s\"%str(date_last_sturday))\n",
    "\n",
    "\n",
    "    with open(path_json, 'w') as outfile:\n",
    "        json.dump(config_new, outfile)\n",
    "    "
   ]
  },
  {
   "cell_type": "code",
   "execution_count": 17,
   "metadata": {},
   "outputs": [
    {
     "name": "stdout",
     "output_type": "stream",
     "text": [
      "pos_end_date & crm_end_date in config.json have been updated to: 2021-01-02\n"
     ]
    }
   ],
   "source": []
  }
 ],
 "metadata": {
  "kernelspec": {
   "display_name": "Python 3",
   "language": "python",
   "name": "python3"
  },
  "language_info": {
   "codemirror_mode": {
    "name": "ipython",
    "version": 3
   },
   "file_extension": ".py",
   "mimetype": "text/x-python",
   "name": "python",
   "nbconvert_exporter": "python",
   "pygments_lexer": "ipython3",
   "version": "3.7.6"
  }
 },
 "nbformat": 4,
 "nbformat_minor": 4
}
