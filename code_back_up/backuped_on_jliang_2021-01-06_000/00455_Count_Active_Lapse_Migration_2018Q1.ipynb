{
 "cells": [
  {
   "cell_type": "code",
   "execution_count": 1,
   "metadata": {},
   "outputs": [
    {
     "data": {
      "text/plain": [
       "'/home/jian/Projects/Big_Lots/Analysis/2019_Q2/ID_Migration'"
      ]
     },
     "execution_count": 1,
     "metadata": {},
     "output_type": "execute_result"
    }
   ],
   "source": [
    "import pandas as pd\n",
    "import os\n",
    "import datetime\n",
    "import numpy as np\n",
    "import gc\n",
    "os.getcwd()\n",
    "\n",
    "# To check about the 2019 weekly file path df week filter for the rolling later"
   ]
  },
  {
   "cell_type": "code",
   "execution_count": null,
   "metadata": {
    "collapsed": true
   },
   "outputs": [],
   "source": []
  },
  {
   "cell_type": "code",
   "execution_count": 2,
   "metadata": {},
   "outputs": [
    {
     "name": "stdout",
     "output_type": "stream",
     "text": [
      "prior_quarter_End 2018-02-03\n",
      "recent_complete_quarter_End 2018-05-05\n",
      "lapsed_date_begin 2014-01-28\n"
     ]
    }
   ],
   "source": [
    "recent_complete_quarter_End=datetime.date(2018,5,5)\n",
    "prior_quarter_End=recent_complete_quarter_End-datetime.timedelta(days=7*13)\n",
    "\n",
    "\n",
    "print(\"prior_quarter_End\",prior_quarter_End)\n",
    "print(\"recent_complete_quarter_End\",recent_complete_quarter_End)\n",
    "\n",
    "lapsed_date_begin=prior_quarter_End-datetime.timedelta(days=(4*365+1+6))\n",
    "print(\"lapsed_date_begin\",lapsed_date_begin)\n"
   ]
  },
  {
   "cell_type": "code",
   "execution_count": 3,
   "metadata": {},
   "outputs": [
    {
     "name": "stdout",
     "output_type": "stream",
     "text": [
      "2014-08-26\n",
      "2017-02-26\n",
      "2014-08-26\n",
      "2017-02-26\n"
     ]
    }
   ],
   "source": [
    "lapsed=pd.read_table(\"/home/jian/Projects/Big_Lots/Loyal_members/loyalty_sales_data/lapsed20140826_20170226/MediaStormLapsedCustDtl.txt\",\n",
    "                     sep=\",\",usecols=['customer_id_hashed','transaction_date'],dtype=str).drop_duplicates()\n",
    "\n",
    "print(lapsed['transaction_date'].min())\n",
    "print(lapsed['transaction_date'].max())\n",
    "\n",
    "lapsed=lapsed[lapsed['transaction_date']>=str(lapsed_date_begin)]\n",
    "lapsed=lapsed[lapsed['transaction_date']<=str(recent_complete_quarter_End)]\n",
    "\n",
    "print(lapsed['transaction_date'].min())\n",
    "print(lapsed['transaction_date'].max())"
   ]
  },
  {
   "cell_type": "code",
   "execution_count": 4,
   "metadata": {},
   "outputs": [
    {
     "name": "stdout",
     "output_type": "stream",
     "text": [
      "1 2019-05-28 14:13:52.971537\n",
      "2 2019-05-28 14:14:12.277591\n",
      "3 2019-05-28 14:14:29.597348\n",
      "4 2019-05-28 14:14:48.608094\n",
      "5 2019-05-28 14:15:19.035816\n",
      "6 2019-05-28 14:15:50.124336\n",
      "7 2019-05-28 14:16:21.396907\n",
      "8 2019-05-28 14:16:53.481296\n",
      "9 2019-05-28 14:17:25.867484\n",
      "10 2019-05-28 14:18:00.359558\n",
      "11 2019-05-28 14:18:31.456424\n",
      "12 2019-05-28 14:19:20.352137\n",
      "13 2019-05-28 14:22:16.614735\n",
      "14 2019-05-28 14:23:47.095059\n",
      "15 2019-05-28 14:24:13.112484\n"
     ]
    }
   ],
   "source": [
    "chunksize_num = 10**7\n",
    "filename='/home/jian/Projects/Big_Lots/Live_Ramp/Quarterly_Update_2019Q1/crm_newscore_0922/combinedtransactions_0922.csv'\n",
    "dftrans_before_2018Q1=pd.DataFrame()\n",
    "\n",
    "count_i=0\n",
    "\n",
    "for chunk in pd.read_csv(filename, chunksize=chunksize_num,dtype=str,usecols=['customer_id_hashed','transaction_date']):\n",
    "    \n",
    "    chunk=chunk[(chunk['transaction_date']>=str(lapsed_date_begin)) & (chunk['transaction_date']<=str(prior_quarter_End))]\n",
    "    chunk = chunk.drop_duplicates()\n",
    "    \n",
    "    dftrans_before_2018Q1=dftrans_before_2018Q1.append(chunk)\n",
    "    \n",
    "    count_i+=1\n",
    "    print(count_i,datetime.datetime.now())\n",
    "dftrans_before_2018Q1=dftrans_before_2018Q1.drop_duplicates()   \n"
   ]
  },
  {
   "cell_type": "code",
   "execution_count": 5,
   "metadata": {},
   "outputs": [
    {
     "name": "stdout",
     "output_type": "stream",
     "text": [
      "(18422325, 2)\n",
      "2016-06-26\n",
      "2018-02-03\n"
     ]
    }
   ],
   "source": [
    "all_rewards_most_recent=dftrans_before_2018Q1.copy()\n",
    "del chunk\n",
    "del dftrans_before_2018Q1\n",
    "gc.collect()\n",
    "\n",
    "# Already filterd of the dates above\n",
    "all_rewards_most_recent=all_rewards_most_recent.sort_values([\"customer_id_hashed\",\"transaction_date\"],ascending=[True,False])\n",
    "all_rewards_most_recent=all_rewards_most_recent.drop_duplicates(['customer_id_hashed'])\n",
    "print(all_rewards_most_recent.shape)\n",
    "\n",
    "\n",
    "\n",
    "print(all_rewards_most_recent['transaction_date'].min())\n",
    "print(all_rewards_most_recent['transaction_date'].max())"
   ]
  },
  {
   "cell_type": "code",
   "execution_count": 6,
   "metadata": {},
   "outputs": [
    {
     "name": "stdout",
     "output_type": "stream",
     "text": [
      "2014-08-26\n",
      "2018-02-03\n"
     ]
    }
   ],
   "source": [
    "all_rewards_most_recent=all_rewards_most_recent.append(lapsed)\n",
    "all_rewards_most_recent=all_rewards_most_recent.sort_values([\"customer_id_hashed\",\"transaction_date\"],ascending=[True,False])\n",
    "all_rewards_most_recent=all_rewards_most_recent.drop_duplicates(['customer_id_hashed'])\n",
    "\n",
    "\n",
    "print(all_rewards_most_recent['transaction_date'].min())\n",
    "print(all_rewards_most_recent['transaction_date'].max())"
   ]
  },
  {
   "cell_type": "code",
   "execution_count": 7,
   "metadata": {
    "collapsed": true
   },
   "outputs": [],
   "source": [
    "def recursive_file_gen(root_path):\n",
    "    for root, dirs, files in os.walk(root_path):\n",
    "        for file in files:\n",
    "            yield os.path.join(root,file)\n",
    "\n"
   ]
  },
  {
   "cell_type": "code",
   "execution_count": 8,
   "metadata": {},
   "outputs": [
    {
     "data": {
      "text/plain": [
       "(13, 2)"
      ]
     },
     "execution_count": 8,
     "metadata": {},
     "output_type": "execute_result"
    }
   ],
   "source": [
    "df_all_daily_files_in_recent_quarter=list(recursive_file_gen('/home/jian/BigLots/hist_daily_data_subclasslevel/'))\n",
    "df_all_daily_files_in_recent_quarter=[x for x in df_all_daily_files_in_recent_quarter if \".txt\" in x]\n",
    "df_all_daily_files_in_recent_quarter=pd.DataFrame({\"file_path\":df_all_daily_files_in_recent_quarter})\n",
    "df_all_daily_files_in_recent_quarter['week_end_dt']=df_all_daily_files_in_recent_quarter['file_path'].apply(lambda x: x.split(\"l/MediaStormDailySales_week_ending_\")[1][:10])\n",
    "df_all_daily_files_in_recent_quarter=df_all_daily_files_in_recent_quarter[df_all_daily_files_in_recent_quarter['week_end_dt']>str(prior_quarter_End)]\n",
    "df_all_daily_files_in_recent_quarter=df_all_daily_files_in_recent_quarter[df_all_daily_files_in_recent_quarter['week_end_dt']<=str(recent_complete_quarter_End)]\n",
    "df_all_daily_files_in_recent_quarter.shape\n"
   ]
  },
  {
   "cell_type": "code",
   "execution_count": 9,
   "metadata": {},
   "outputs": [
    {
     "name": "stdout",
     "output_type": "stream",
     "text": [
      "/home/jian/BigLots/hist_daily_data_subclasslevel/MediaStormDailySales_week_ending_2018-03-31.txt 2019-05-28 14:56:01.246008\n",
      "/home/jian/BigLots/hist_daily_data_subclasslevel/MediaStormDailySales_week_ending_2018-02-17.txt 2019-05-28 14:56:29.971026\n",
      "/home/jian/BigLots/hist_daily_data_subclasslevel/MediaStormDailySales_week_ending_2018-02-24.txt 2019-05-28 14:56:59.320546\n",
      "/home/jian/BigLots/hist_daily_data_subclasslevel/MediaStormDailySales_week_ending_2018-03-03.txt 2019-05-28 14:57:32.414935\n",
      "/home/jian/BigLots/hist_daily_data_subclasslevel/MediaStormDailySales_week_ending_2018-02-10.txt 2019-05-28 14:57:57.990729\n",
      "/home/jian/BigLots/hist_daily_data_subclasslevel/MediaStormDailySales_week_ending_2018-04-07.txt 2019-05-28 14:58:37.055017\n",
      "/home/jian/BigLots/hist_daily_data_subclasslevel/MediaStormDailySales_week_ending_2018-04-21.txt 2019-05-28 14:59:06.354246\n",
      "/home/jian/BigLots/hist_daily_data_subclasslevel/MediaStormDailySales_week_ending_2018-03-17.txt 2019-05-28 14:59:38.477060\n",
      "/home/jian/BigLots/hist_daily_data_subclasslevel/MediaStormDailySales_week_ending_2018-03-10.txt 2019-05-28 15:00:12.172835\n",
      "/home/jian/BigLots/hist_daily_data_subclasslevel/MediaStormDailySales_week_ending_2018-04-14.txt 2019-05-28 15:00:51.184119\n",
      "/home/jian/BigLots/hist_daily_data_subclasslevel/MediaStormDailySales_week_ending_2018-05-05.txt 2019-05-28 15:01:26.156921\n",
      "/home/jian/BigLots/hist_daily_data_subclasslevel/MediaStormDailySales_week_ending_2018-03-24.txt 2019-05-28 15:01:59.726776\n",
      "/home/jian/BigLots/hist_daily_data_subclasslevel/MediaStormDailySales_week_ending_2018-04-28.txt 2019-05-28 15:02:32.774770\n"
     ]
    }
   ],
   "source": [
    "RecentQuarter_sales_by_id=pd.DataFrame()\n",
    "dftrans_only_2018Q1=pd.DataFrame()\n",
    "for file in df_all_daily_files_in_recent_quarter['file_path'].tolist():\n",
    "    df=pd.read_table(file,sep=\"|\",usecols=['customer_id_hashed','transaction_dt','subclass_transaction_amt'],dtype=str)\n",
    "    df=df[~pd.isnull(df['customer_id_hashed'])]\n",
    "    \n",
    "    df['subclass_transaction_amt']=df['subclass_transaction_amt'].astype(float)\n",
    "    \n",
    "    df_sales=df.groupby(['customer_id_hashed'])['subclass_transaction_amt'].sum().to_frame().reset_index()\n",
    "    df=df[['customer_id_hashed','transaction_dt']].drop_duplicates()\n",
    "    RecentQuarter_sales_by_id=RecentQuarter_sales_by_id.append(df_sales)\n",
    "    dftrans_only_2018Q1=dftrans_only_2018Q1.append(df)\n",
    "    print(file,datetime.datetime.now())\n",
    "RecentQuarter_sales_by_id=RecentQuarter_sales_by_id.groupby(\"customer_id_hashed\")['subclass_transaction_amt'].sum().to_frame().reset_index()\n",
    "RecentQuarter_sales_by_id=RecentQuarter_sales_by_id.rename(columns={\"subclass_transaction_amt\":\"sales_recent_Quarter\"})\n",
    "RecentQuarter_sales_by_id['Recent_Quarter_Shopping_Group']=\"Recent_Quarter_Shopped\"\n",
    "\n",
    "dftrans_only_2018Q1=dftrans_only_2018Q1.sort_values([\"customer_id_hashed\",\"transaction_dt\"],ascending=[True,False])\n",
    "dftrans_only_2018Q1=dftrans_only_2018Q1.drop_duplicates(\"customer_id_hashed\")\n"
   ]
  },
  {
   "cell_type": "code",
   "execution_count": 10,
   "metadata": {},
   "outputs": [
    {
     "name": "stdout",
     "output_type": "stream",
     "text": [
      "2018-02-04\n",
      "2018-05-05\n"
     ]
    }
   ],
   "source": [
    "dftrans_only_2018Q1=dftrans_only_2018Q1.rename(columns={\"transaction_dt\":\"transaction_date\"})\n",
    "\n",
    "print(dftrans_only_2018Q1['transaction_date'].min())\n",
    "print(dftrans_only_2018Q1['transaction_date'].max())\n"
   ]
  },
  {
   "cell_type": "code",
   "execution_count": null,
   "metadata": {
    "collapsed": true
   },
   "outputs": [],
   "source": []
  },
  {
   "cell_type": "code",
   "execution_count": 11,
   "metadata": {},
   "outputs": [
    {
     "data": {
      "text/plain": [
       "79"
      ]
     },
     "execution_count": 11,
     "metadata": {},
     "output_type": "execute_result"
    }
   ],
   "source": [
    "all_rewards_most_recent['transaction_date_before_the_Quarter']=all_rewards_most_recent['transaction_date']\n",
    "\n",
    "all_rewards_most_recent_After=all_rewards_most_recent[['customer_id_hashed','transaction_date']].append(dftrans_only_2018Q1)\n",
    "all_rewards_most_recent_After=all_rewards_most_recent_After.sort_values([\"customer_id_hashed\",\"transaction_date\"],ascending=[True,False])\n",
    "all_rewards_most_recent_After=all_rewards_most_recent_After.drop_duplicates(['customer_id_hashed']).rename(columns={\"transaction_date\":\"transaction_date_after_the_Quarter\"})\n",
    "\n",
    "all_rewards_most_recent=pd.merge(all_rewards_most_recent,all_rewards_most_recent_After,on=\"customer_id_hashed\",how=\"outer\")\n",
    "del all_rewards_most_recent_After\n",
    "\n",
    "gc.collect()"
   ]
  },
  {
   "cell_type": "code",
   "execution_count": null,
   "metadata": {
    "collapsed": true
   },
   "outputs": [],
   "source": []
  },
  {
   "cell_type": "code",
   "execution_count": 12,
   "metadata": {},
   "outputs": [],
   "source": [
    "all_rewards_most_recent['transaction_date_before_the_Quarter']=all_rewards_most_recent['transaction_date_before_the_Quarter'].fillna(\"2099-12-31\")\n",
    "all_rewards_most_recent['transaction_date_before_the_Quarter']=pd.to_datetime(all_rewards_most_recent['transaction_date_before_the_Quarter'],format='%Y-%m-%d')\n",
    "all_rewards_most_recent['Days_to_pre_Quarter_End']=prior_quarter_End-all_rewards_most_recent['transaction_date_before_the_Quarter']\n",
    "# Filled the na before with a later adte 2019-12-31\n",
    "\n",
    "\n",
    "all_rewards_most_recent['transaction_date_after_the_Quarter']=pd.to_datetime(all_rewards_most_recent['transaction_date_after_the_Quarter'],format='%Y-%m-%d')\n",
    "all_rewards_most_recent['Days_to_recentt_Quarter_End']=recent_complete_quarter_End-all_rewards_most_recent['transaction_date_after_the_Quarter']\n"
   ]
  },
  {
   "cell_type": "code",
   "execution_count": 13,
   "metadata": {},
   "outputs": [],
   "source": [
    "all_rewards_most_recent['Month_to_pre_Quarter_End']=all_rewards_most_recent['Days_to_pre_Quarter_End'].apply(lambda x: x.days/(365.25/12))\n",
    "all_rewards_most_recent['Month_to_recent_Quarter_End']=all_rewards_most_recent['Days_to_recentt_Quarter_End'].apply(lambda x: x.days/(365.25/12))\n"
   ]
  },
  {
   "cell_type": "code",
   "execution_count": null,
   "metadata": {
    "collapsed": true
   },
   "outputs": [],
   "source": []
  },
  {
   "cell_type": "code",
   "execution_count": 14,
   "metadata": {
    "collapsed": true
   },
   "outputs": [],
   "source": [
    "all_rewards_most_recent['Group_before_the_Quarter']=np.where((all_rewards_most_recent['Month_to_pre_Quarter_End']>12) & (all_rewards_most_recent['Month_to_pre_Quarter_End']<=48),\"Lapsed_13_48\",\n",
    "                                                   np.where(all_rewards_most_recent['Month_to_pre_Quarter_End']>48,\"WD_48+\",\n",
    "                                                            np.where((all_rewards_most_recent['Month_to_pre_Quarter_End']>=0) & (all_rewards_most_recent['Month_to_pre_Quarter_End']<=12),\"Active\",\n",
    "                                                                    np.where(all_rewards_most_recent['Month_to_pre_Quarter_End']<0,\"NotAvailable_Before_Quarter\",\"NaN\")\n",
    "                                                                    )\n",
    "                                                           )\n",
    "                                                   )\n",
    "all_rewards_most_recent['Group_after_the_Quarter']=np.where((all_rewards_most_recent['Month_to_recent_Quarter_End']>12) & (all_rewards_most_recent['Month_to_recent_Quarter_End']<=48),\"Lapsed_13_48\",\n",
    "                                                   np.where(all_rewards_most_recent['Month_to_recent_Quarter_End']>48,\"WD_48+\",\n",
    "                                                            np.where((all_rewards_most_recent['Month_to_recent_Quarter_End']>=0) & (all_rewards_most_recent['Month_to_recent_Quarter_End']<=12),\"Active\",\n",
    "                                                                    np.where(all_rewards_most_recent['Month_to_recent_Quarter_End']<0,\"NotAvailable_Before_Q4\",\"NaN\")\n",
    "                                                                    )\n",
    "                                                           )\n",
    "                                                   )"
   ]
  },
  {
   "cell_type": "code",
   "execution_count": 15,
   "metadata": {},
   "outputs": [
    {
     "data": {
      "text/plain": [
       "(20923698, 12)"
      ]
     },
     "execution_count": 15,
     "metadata": {},
     "output_type": "execute_result"
    }
   ],
   "source": [
    "all_rewards_most_recent=pd.merge(all_rewards_most_recent,RecentQuarter_sales_by_id,on=\"customer_id_hashed\",how=\"outer\")\n",
    "all_rewards_most_recent.shape"
   ]
  },
  {
   "cell_type": "code",
   "execution_count": 17,
   "metadata": {},
   "outputs": [],
   "source": [
    "all_rewards_most_recent['sales_recent_Quarter']=all_rewards_most_recent['sales_recent_Quarter'].fillna(0)\n",
    "all_rewards_most_recent['Recent_Quarter_Shopping_Group']=all_rewards_most_recent['Recent_Quarter_Shopping_Group'].fillna(\"Recent_Quarter_No_Shop\")"
   ]
  },
  {
   "cell_type": "code",
   "execution_count": null,
   "metadata": {
    "collapsed": true
   },
   "outputs": [],
   "source": [
    "###########"
   ]
  },
  {
   "cell_type": "code",
   "execution_count": null,
   "metadata": {
    "collapsed": true
   },
   "outputs": [],
   "source": []
  },
  {
   "cell_type": "code",
   "execution_count": null,
   "metadata": {
    "collapsed": true
   },
   "outputs": [],
   "source": []
  },
  {
   "cell_type": "code",
   "execution_count": 25,
   "metadata": {},
   "outputs": [
    {
     "data": {
      "text/plain": [
       "['customer_id_hashed',\n",
       " 'transaction_date',\n",
       " 'transaction_date_before_the_Quarter',\n",
       " 'transaction_date_after_the_Quarter',\n",
       " 'Days_to_pre_Quarter_End',\n",
       " 'Days_to_recentt_Quarter_End',\n",
       " 'Month_to_pre_Quarter_End',\n",
       " 'Month_to_recent_Quarter_End',\n",
       " 'Group_before_the_Quarter',\n",
       " 'Group_after_the_Quarter',\n",
       " 'sales_recent_Quarter',\n",
       " 'Recent_Quarter_Shopping_Group',\n",
       " 'sign_up_date',\n",
       " 'NewRewards']"
      ]
     },
     "execution_count": 25,
     "metadata": {},
     "output_type": "execute_result"
    }
   ],
   "source": [
    "all_rewards_most_recent.columns.tolist()"
   ]
  },
  {
   "cell_type": "code",
   "execution_count": 19,
   "metadata": {},
   "outputs": [
    {
     "data": {
      "text/html": [
       "<div>\n",
       "<style>\n",
       "    .dataframe thead tr:only-child th {\n",
       "        text-align: right;\n",
       "    }\n",
       "\n",
       "    .dataframe thead th {\n",
       "        text-align: left;\n",
       "    }\n",
       "\n",
       "    .dataframe tbody tr th {\n",
       "        vertical-align: top;\n",
       "    }\n",
       "</style>\n",
       "<table border=\"1\" class=\"dataframe\">\n",
       "  <thead>\n",
       "    <tr style=\"text-align: right;\">\n",
       "      <th></th>\n",
       "      <th>Group_before_the_Quarter</th>\n",
       "      <th>Group_after_the_Quarter</th>\n",
       "      <th>Recent_Quarter_Shopping_Group</th>\n",
       "      <th>id_count</th>\n",
       "      <th>sales_recent_Quarter</th>\n",
       "    </tr>\n",
       "  </thead>\n",
       "  <tbody>\n",
       "    <tr>\n",
       "      <th>0</th>\n",
       "      <td>Active</td>\n",
       "      <td>Active</td>\n",
       "      <td>Recent_Quarter_No_Shop</td>\n",
       "      <td>7921269</td>\n",
       "      <td>0.000000e+00</td>\n",
       "    </tr>\n",
       "    <tr>\n",
       "      <th>1</th>\n",
       "      <td>Active</td>\n",
       "      <td>Active</td>\n",
       "      <td>Recent_Quarter_Shopped</td>\n",
       "      <td>5436771</td>\n",
       "      <td>4.702312e+08</td>\n",
       "    </tr>\n",
       "    <tr>\n",
       "      <th>2</th>\n",
       "      <td>Active</td>\n",
       "      <td>Lapsed_13_48</td>\n",
       "      <td>Recent_Quarter_No_Shop</td>\n",
       "      <td>1531848</td>\n",
       "      <td>0.000000e+00</td>\n",
       "    </tr>\n",
       "    <tr>\n",
       "      <th>3</th>\n",
       "      <td>Lapsed_13_48</td>\n",
       "      <td>Active</td>\n",
       "      <td>Recent_Quarter_Shopped</td>\n",
       "      <td>370771</td>\n",
       "      <td>2.798032e+07</td>\n",
       "    </tr>\n",
       "    <tr>\n",
       "      <th>4</th>\n",
       "      <td>Lapsed_13_48</td>\n",
       "      <td>Lapsed_13_48</td>\n",
       "      <td>Recent_Quarter_No_Shop</td>\n",
       "      <td>4120398</td>\n",
       "      <td>0.000000e+00</td>\n",
       "    </tr>\n",
       "    <tr>\n",
       "      <th>5</th>\n",
       "      <td>NotAvailable_Before_Quarter</td>\n",
       "      <td>Active</td>\n",
       "      <td>Recent_Quarter_Shopped</td>\n",
       "      <td>1542641</td>\n",
       "      <td>1.738370e+08</td>\n",
       "    </tr>\n",
       "  </tbody>\n",
       "</table>\n",
       "</div>"
      ],
      "text/plain": [
       "      Group_before_the_Quarter Group_after_the_Quarter  \\\n",
       "0                       Active                  Active   \n",
       "1                       Active                  Active   \n",
       "2                       Active            Lapsed_13_48   \n",
       "3                 Lapsed_13_48                  Active   \n",
       "4                 Lapsed_13_48            Lapsed_13_48   \n",
       "5  NotAvailable_Before_Quarter                  Active   \n",
       "\n",
       "  Recent_Quarter_Shopping_Group  id_count  sales_recent_Quarter  \n",
       "0        Recent_Quarter_No_Shop   7921269          0.000000e+00  \n",
       "1        Recent_Quarter_Shopped   5436771          4.702312e+08  \n",
       "2        Recent_Quarter_No_Shop   1531848          0.000000e+00  \n",
       "3        Recent_Quarter_Shopped    370771          2.798032e+07  \n",
       "4        Recent_Quarter_No_Shop   4120398          0.000000e+00  \n",
       "5        Recent_Quarter_Shopped   1542641          1.738370e+08  "
      ]
     },
     "execution_count": 19,
     "metadata": {},
     "output_type": "execute_result"
    }
   ],
   "source": [
    "output_id_count=all_rewards_most_recent.groupby(['Group_before_the_Quarter','Group_after_the_Quarter','Recent_Quarter_Shopping_Group'])['customer_id_hashed'].count().to_frame().reset_index().rename(columns={\"customer_id_hashed\":\"id_count\"})\n",
    "output_id_Q4_sales=all_rewards_most_recent.groupby(['Group_before_the_Quarter','Group_after_the_Quarter','Recent_Quarter_Shopping_Group'])['sales_recent_Quarter'].sum().to_frame().reset_index()\n",
    "\n",
    "output=pd.merge(output_id_count,output_id_Q4_sales,on=['Group_before_the_Quarter','Group_after_the_Quarter','Recent_Quarter_Shopping_Group'],how=\"outer\")\n",
    "output\n"
   ]
  },
  {
   "cell_type": "code",
   "execution_count": 20,
   "metadata": {},
   "outputs": [
    {
     "data": {
      "text/plain": [
       "'/home/jian/Projects/Big_Lots/Analysis/2019_Q2/ID_Migration'"
      ]
     },
     "execution_count": 20,
     "metadata": {},
     "output_type": "execute_result"
    }
   ],
   "source": [
    "os.getcwd()"
   ]
  },
  {
   "cell_type": "code",
   "execution_count": 21,
   "metadata": {
    "collapsed": true
   },
   "outputs": [],
   "source": [
    "output['Recent_Quarteer_Sale_per_ID']=output['sales_recent_Quarter']/output['id_count']\n",
    "output['Recent_Quarteer_Sale_per_ID']=output['Recent_Quarteer_Sale_per_ID'].apply(lambda x: np.round(x,2))\n",
    "\n"
   ]
  },
  {
   "cell_type": "code",
   "execution_count": 22,
   "metadata": {
    "collapsed": true
   },
   "outputs": [],
   "source": [
    "output.to_csv(\"/home/jian/Projects/Big_Lots/Analysis/2019_Q2/ID_Migration/BL_2018Q1_rewards_migration_output_summary_JL_\"+str(datetime.datetime.now().date())+\".csv\",index=False)\n",
    "\n"
   ]
  },
  {
   "cell_type": "code",
   "execution_count": 23,
   "metadata": {
    "collapsed": true
   },
   "outputs": [],
   "source": [
    "all_rewards_most_recent.to_csv(\"/home/jian/Projects/Big_Lots/Analysis/2019_Q2/ID_Migration/BL_2018Q1_rewards_migration_rewards_data_JL_\"+str(datetime.datetime.now().date())+\".csv\",index=False)\n"
   ]
  },
  {
   "cell_type": "code",
   "execution_count": 24,
   "metadata": {},
   "outputs": [
    {
     "data": {
      "text/plain": [
       "(20923698, 12)"
      ]
     },
     "execution_count": 24,
     "metadata": {},
     "output_type": "execute_result"
    }
   ],
   "source": [
    "all_rewards_most_recent.shape"
   ]
  },
  {
   "cell_type": "code",
   "execution_count": 25,
   "metadata": {},
   "outputs": [
    {
     "data": {
      "text/plain": [
       "20923698"
      ]
     },
     "execution_count": 25,
     "metadata": {},
     "output_type": "execute_result"
    }
   ],
   "source": [
    "len(all_rewards_most_recent['customer_id_hashed'].unique())"
   ]
  },
  {
   "cell_type": "code",
   "execution_count": null,
   "metadata": {
    "collapsed": true
   },
   "outputs": [],
   "source": []
  }
 ],
 "metadata": {
  "kernelspec": {
   "display_name": "Python 3",
   "language": "python",
   "name": "python3"
  },
  "language_info": {
   "codemirror_mode": {
    "name": "ipython",
    "version": 3
   },
   "file_extension": ".py",
   "mimetype": "text/x-python",
   "name": "python",
   "nbconvert_exporter": "python",
   "pygments_lexer": "ipython3",
   "version": "3.6.1"
  }
 },
 "nbformat": 4,
 "nbformat_minor": 2
}
