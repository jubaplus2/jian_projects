{
 "cells": [
  {
   "cell_type": "code",
   "execution_count": 1,
   "metadata": {
    "collapsed": true
   },
   "outputs": [],
   "source": [
    "import pandas as pd\n",
    "import os\n",
    "import numpy as np\n",
    "import datetime\n",
    "import gc"
   ]
  },
  {
   "cell_type": "code",
   "execution_count": 2,
   "metadata": {
    "collapsed": true
   },
   "outputs": [],
   "source": [
    "rewards_sales=pd.read_csv(\"/home/jian/Projects/Big_Lots/Loyal_members/loyalty_sales_data/From_Sp/combinedtransactions_0811.csv\",\n",
    "                            dtype=str,usecols=['customer_id_hashed','transaction_date','transaction_id','location_id','total_transaction_amt'])\n",
    "rewards_sales['transaction_date']=rewards_sales['transaction_date'].apply(lambda x: datetime.datetime.strptime(x,\"%Y-%m-%d\").date())\n",
    "rewards_sales=rewards_sales.drop_duplicates()\n",
    "rewards_sales=rewards_sales[rewards_sales['location_id']!=\"6990\"]"
   ]
  },
  {
   "cell_type": "code",
   "execution_count": 3,
   "metadata": {
    "collapsed": true
   },
   "outputs": [],
   "source": [
    "rewards_sales=rewards_sales[(rewards_sales['transaction_date']>=datetime.date(2018,4,1)) & (rewards_sales['transaction_date']<=datetime.date(2018,9,30))]\n",
    "rewards_sales=rewards_sales.reset_index()\n",
    "del rewards_sales['index']"
   ]
  },
  {
   "cell_type": "code",
   "execution_count": 4,
   "metadata": {
    "collapsed": true
   },
   "outputs": [],
   "source": [
    "rewards_sales_2=pd.read_table(\"/home/jian/Projects/Big_Lots/Loyal_members/loyalty_sales_data/MediaStormSalesBiWeekly20180828-131144-584.txt\",\n",
    "                             dtype=str,sep=\"|\",usecols=['customer_id_hashed','transaction_dt','transaction_id','location_id','total_transaction_amt'])\n",
    "rewards_sales_2=rewards_sales_2.drop_duplicates()\n",
    "rewards_sales_2=rewards_sales_2.rename(columns={\"transaction_dt\":\"transaction_date\"})\n",
    "rewards_sales_2=rewards_sales_2[rewards_sales_2['location_id']!=\"6990\"]\n",
    "rewards_sales_2['transaction_date']=rewards_sales_2['transaction_date'].apply(lambda x: datetime.datetime.strptime(x,\"%Y-%m-%d\").date())\n",
    "rewards_sales=rewards_sales.append(rewards_sales_2)\n",
    "del rewards_sales_2\n",
    "\n",
    "rewards_sales_3=pd.read_table(\"/home/jian/Projects/Big_Lots/Loyal_members/loyalty_sales_data/MediaStormSalesBiWeekly20180911-133008-590.txt\",\n",
    "                             dtype=str,sep=\"|\",usecols=['customer_id_hashed','transaction_dt','transaction_id','location_id','total_transaction_amt'])\n",
    "rewards_sales_3=rewards_sales_3.drop_duplicates()\n",
    "rewards_sales_3=rewards_sales_3.rename(columns={\"transaction_dt\":\"transaction_date\"})\n",
    "rewards_sales_3=rewards_sales_3[rewards_sales_3['location_id']!=\"6990\"]\n",
    "rewards_sales_3['transaction_date']=rewards_sales_3['transaction_date'].apply(lambda x: datetime.datetime.strptime(x,\"%Y-%m-%d\").date())\n",
    "rewards_sales=rewards_sales.append(rewards_sales_3)\n",
    "del rewards_sales_3\n",
    "\n",
    "rewards_sales_4=pd.read_table(\"/home/jian/Projects/Big_Lots/Loyal_members/loyalty_sales_data/MediaStormSalesBiWeekly20180925-132958-543.txt\",\n",
    "                             dtype=str,sep=\"|\",usecols=['customer_id_hashed','transaction_dt','transaction_id','location_id','total_transaction_amt'])\n",
    "rewards_sales_4=rewards_sales_4.drop_duplicates()\n",
    "rewards_sales_4=rewards_sales_4.rename(columns={\"transaction_dt\":\"transaction_date\"})\n",
    "rewards_sales_4=rewards_sales_4[rewards_sales_4['location_id']!=\"6990\"]\n",
    "rewards_sales_4['transaction_date']=rewards_sales_4['transaction_date'].apply(lambda x: datetime.datetime.strptime(x,\"%Y-%m-%d\").date())\n",
    "rewards_sales=rewards_sales.append(rewards_sales_4)\n",
    "del rewards_sales_4\n",
    "\n",
    "rewards_sales_5=pd.read_table(\"/home/jian/Projects/Big_Lots/Loyal_members/loyalty_sales_data/MediaStormSalesBiWeekly20181009-132856-945.txt\",\n",
    "                             dtype=str,sep=\"|\",usecols=['customer_id_hashed','transaction_dt','transaction_id','location_id','total_transaction_amt'])\n",
    "rewards_sales_5=rewards_sales_5.drop_duplicates()\n",
    "rewards_sales_5=rewards_sales_5.rename(columns={\"transaction_dt\":\"transaction_date\"})\n",
    "rewards_sales_5=rewards_sales_5[rewards_sales_5['location_id']!=\"6990\"]\n",
    "rewards_sales_5['transaction_date']=rewards_sales_5['transaction_date'].apply(lambda x: datetime.datetime.strptime(x,\"%Y-%m-%d\").date())\n",
    "rewards_sales=rewards_sales.append(rewards_sales_5)\n",
    "del rewards_sales_5\n"
   ]
  },
  {
   "cell_type": "code",
   "execution_count": 5,
   "metadata": {},
   "outputs": [
    {
     "data": {
      "text/plain": [
       "28"
      ]
     },
     "execution_count": 5,
     "metadata": {},
     "output_type": "execute_result"
    }
   ],
   "source": [
    "rewards_sales=rewards_sales.drop_duplicates()\n",
    "rewards_sales['total_transaction_amt']=rewards_sales['total_transaction_amt'].astype(float)\n",
    "exclude_transaction=rewards_sales[rewards_sales['total_transaction_amt']<=0]\n",
    "rewards_sales=rewards_sales[rewards_sales['total_transaction_amt']>=-400000]\n",
    "rewards_sales=rewards_sales.reset_index()\n",
    "del rewards_sales['index']\n",
    "gc.collect()"
   ]
  },
  {
   "cell_type": "code",
   "execution_count": 118,
   "metadata": {},
   "outputs": [
    {
     "data": {
      "text/plain": [
       "189"
      ]
     },
     "execution_count": 118,
     "metadata": {},
     "output_type": "execute_result"
    }
   ],
   "source": [
    "len(rewards_sales['transaction_date'].unique())"
   ]
  },
  {
   "cell_type": "markdown",
   "metadata": {},
   "source": [
    "# 2018_July_1_Split"
   ]
  },
  {
   "cell_type": "code",
   "execution_count": 40,
   "metadata": {
    "collapsed": true
   },
   "outputs": [],
   "source": [
    "rewards_sales_2018_Apr_June=rewards_sales[(rewards_sales['transaction_date']>=datetime.date(2018,4,1)) & (rewards_sales['transaction_date']<=datetime.date(2018,6,30))]\n",
    "rewards_sales_2018_July_Sep=rewards_sales[(rewards_sales['transaction_date']>=datetime.date(2018,7,1)) & (rewards_sales['transaction_date']<=datetime.date(2018,9,30))]\n"
   ]
  },
  {
   "cell_type": "code",
   "execution_count": 41,
   "metadata": {
    "collapsed": true
   },
   "outputs": [],
   "source": [
    "# 91 days vs 92 days"
   ]
  },
  {
   "cell_type": "code",
   "execution_count": 42,
   "metadata": {
    "collapsed": true
   },
   "outputs": [],
   "source": [
    "# >0 only\n",
    "\n",
    "rewards_sales_2018_Apr_June_Positive=rewards_sales_2018_Apr_June[rewards_sales_2018_Apr_June['total_transaction_amt']>0]\n",
    "rewards_sales_2018_July_Sep_Positive=rewards_sales_2018_July_Sep[rewards_sales_2018_July_Sep['total_transaction_amt']>0]\n"
   ]
  },
  {
   "cell_type": "code",
   "execution_count": 43,
   "metadata": {
    "collapsed": true
   },
   "outputs": [],
   "source": [
    "Positive_Apr_June_transaction_by_id=rewards_sales_2018_Apr_June_Positive.groupby(['customer_id_hashed'])['transaction_id'].count().to_frame().reset_index()\n",
    "Pctl_99_Apr_June=np.percentile(Positive_Apr_June_transaction_by_id['transaction_id'],99)\n",
    "# Cut of at 10\n",
    "exclude_Positive_Apr_June_transaction_by_id=Positive_Apr_June_transaction_by_id[Positive_Apr_June_transaction_by_id['transaction_id']>10]\n",
    "Positive_Apr_June_transaction_by_id=Positive_Apr_June_transaction_by_id[Positive_Apr_June_transaction_by_id['transaction_id']<=10]\n",
    "\n",
    "Pctl_33_Apr_June=np.percentile(Positive_Apr_June_transaction_by_id['transaction_id'],33) #1\n",
    "Pctl_66_Apr_June=np.percentile(Positive_Apr_June_transaction_by_id['transaction_id'],66) #2"
   ]
  },
  {
   "cell_type": "code",
   "execution_count": 44,
   "metadata": {
    "collapsed": true
   },
   "outputs": [],
   "source": [
    "Positive_July_Sep_transaction_by_id=rewards_sales_2018_July_Sep_Positive.groupby(['customer_id_hashed'])['transaction_id'].count().to_frame().reset_index()\n",
    "Pctl_99_July_Sep=np.percentile(Positive_July_Sep_transaction_by_id['transaction_id'],99)\n",
    "# Cut of at 11\n",
    "exclude_Positive_July_Sep_transaction_by_id=Positive_July_Sep_transaction_by_id[Positive_July_Sep_transaction_by_id['transaction_id']>11]\n",
    "Positive_July_Sep_transaction_by_id=Positive_July_Sep_transaction_by_id[Positive_July_Sep_transaction_by_id['transaction_id']<=11]\n",
    "\n",
    "Pctl_33_July_Sep=np.percentile(Positive_July_Sep_transaction_by_id['transaction_id'],33) #1\n",
    "Pctl_66_July_Sep=np.percentile(Positive_July_Sep_transaction_by_id['transaction_id'],66) #2"
   ]
  },
  {
   "cell_type": "code",
   "execution_count": 45,
   "metadata": {},
   "outputs": [
    {
     "name": "stdout",
     "output_type": "stream",
     "text": [
      "Transacted once from April 1 to June 30 3981240\n",
      "Transacted twice from April 1 to June 30 1632010\n",
      "Transacted more than 2 from April 1 to June 30 1787383\n"
     ]
    }
   ],
   "source": [
    "print(\"Transacted once from April 1 to June 30\",Positive_Apr_June_transaction_by_id[Positive_Apr_June_transaction_by_id['transaction_id']==1].shape[0])\n",
    "print(\"Transacted twice from April 1 to June 30\",Positive_Apr_June_transaction_by_id[Positive_Apr_June_transaction_by_id['transaction_id']==2].shape[0])\n",
    "print(\"Transacted more than 2 from April 1 to June 30\",Positive_Apr_June_transaction_by_id[Positive_Apr_June_transaction_by_id['transaction_id']>2].shape[0])"
   ]
  },
  {
   "cell_type": "code",
   "execution_count": 46,
   "metadata": {
    "collapsed": true
   },
   "outputs": [],
   "source": [
    "Positive_Apr_June_transaction_by_id['id_Group_Apr_June']=np.where(Positive_Apr_June_transaction_by_id['transaction_id']==1,\"L1\",\n",
    "                                                                  np.where(Positive_Apr_June_transaction_by_id['transaction_id']==2,\"M1\",\"H1\")\n",
    "                                                                 )\n",
    "Positive_July_Sep_transaction_by_id['id_Group_July_Sep']=np.where(Positive_July_Sep_transaction_by_id['transaction_id']==1,\"L2\",\n",
    "                                                                  np.where(Positive_July_Sep_transaction_by_id['transaction_id']==2,\"M2\",\"H2\")\n",
    "                                                                 )"
   ]
  },
  {
   "cell_type": "code",
   "execution_count": 47,
   "metadata": {
    "collapsed": true
   },
   "outputs": [],
   "source": [
    "Positive_Apr_June_transaction_by_id=Positive_Apr_June_transaction_by_id.rename(columns={\"transaction_id\":\"transaction_Apr_June\"})\n",
    "Positive_July_Sep_transaction_by_id=Positive_July_Sep_transaction_by_id.rename(columns={\"transaction_id\":\"transaction_July_Sep\"})\n",
    "\n",
    "\n",
    "Positive_both_transaction_by_id=pd.merge(Positive_Apr_June_transaction_by_id,Positive_July_Sep_transaction_by_id,on=\"customer_id_hashed\",how=\"outer\")\n",
    "\n"
   ]
  },
  {
   "cell_type": "code",
   "execution_count": 48,
   "metadata": {
    "collapsed": true
   },
   "outputs": [],
   "source": [
    "Positive_both_transaction_by_id['transaction_Apr_June']=Positive_both_transaction_by_id['transaction_Apr_June'].fillna(0.0)\n",
    "Positive_both_transaction_by_id['transaction_July_Sep']=Positive_both_transaction_by_id['transaction_July_Sep'].fillna(0.0)\n",
    "\n",
    "Positive_both_transaction_by_id['id_Group_Apr_June']=Positive_both_transaction_by_id['id_Group_Apr_June'].fillna(\"N1\")\n",
    "Positive_both_transaction_by_id['id_Group_July_Sep']=Positive_both_transaction_by_id['id_Group_July_Sep'].fillna(\"N2\")\n"
   ]
  },
  {
   "cell_type": "code",
   "execution_count": 115,
   "metadata": {},
   "outputs": [
    {
     "data": {
      "text/plain": [
       "(11443892, 5)"
      ]
     },
     "execution_count": 115,
     "metadata": {},
     "output_type": "execute_result"
    }
   ],
   "source": [
    "Positive_both_transaction_by_id.shape"
   ]
  },
  {
   "cell_type": "code",
   "execution_count": 109,
   "metadata": {
    "collapsed": true
   },
   "outputs": [],
   "source": [
    "transaction_matrix=Positive_both_transaction_by_id.copy()\n",
    "transaction_matrix['label']=transaction_matrix['id_Group_Apr_June']+\"|\"+transaction_matrix['id_Group_July_Sep']\n",
    "transaction_matrix=transaction_matrix.groupby(['label'])['customer_id_hashed'].count().to_frame().reset_index()\n",
    "transaction_matrix=transaction_matrix.rename(columns={\"customer_id_hashed\":\"id_count\"})\n",
    "transaction_matrix['id_Group_Apr_June']=transaction_matrix['label'].apply(lambda x: x.split(\"|\")[0])\n",
    "transaction_matrix['id_Group_July_Sep']=transaction_matrix['label'].apply(lambda x: x.split(\"|\")[1])\n",
    "transaction_matrix=transaction_matrix.pivot(index=\"id_Group_Apr_June\",columns=\"id_Group_July_Sep\",values=\"id_count\")\n",
    "transaction_matrix=transaction_matrix.reset_index().fillna(0.0)\n"
   ]
  },
  {
   "cell_type": "code",
   "execution_count": 110,
   "metadata": {},
   "outputs": [],
   "source": [
    "transaction_matrix=transaction_matrix[transaction_matrix['id_Group_Apr_June']==\"N1\"].append(transaction_matrix[transaction_matrix['id_Group_Apr_June']==\"L1\"]).append(transaction_matrix[transaction_matrix['id_Group_Apr_June']==\"M1\"]).append(transaction_matrix[transaction_matrix['id_Group_Apr_June']==\"H1\"])\n",
    "transaction_matrix=transaction_matrix[['id_Group_Apr_June','N2',\"L2\",\"M2\",\"H2\"]]\n"
   ]
  },
  {
   "cell_type": "code",
   "execution_count": 70,
   "metadata": {},
   "outputs": [
    {
     "name": "stderr",
     "output_type": "stream",
     "text": [
      "/usr/local/lib/python3.6/site-packages/ipykernel_launcher.py:2: SettingWithCopyWarning: \n",
      "A value is trying to be set on a copy of a slice from a DataFrame.\n",
      "Try using .loc[row_indexer,col_indexer] = value instead\n",
      "\n",
      "See the caveats in the documentation: http://pandas.pydata.org/pandas-docs/stable/indexing.html#indexing-view-versus-copy\n",
      "  \n"
     ]
    }
   ],
   "source": [
    "user_group=Positive_both_transaction_by_id[['customer_id_hashed','id_Group_Apr_June','id_Group_July_Sep']]\n",
    "user_group['lable']=user_group['id_Group_Apr_June']+\"|\"+user_group['id_Group_July_Sep']\n",
    "del user_group['id_Group_Apr_June']\n",
    "del user_group['id_Group_July_Sep']\n",
    "\n"
   ]
  },
  {
   "cell_type": "markdown",
   "metadata": {},
   "source": [
    "# Saels"
   ]
  },
  {
   "cell_type": "code",
   "execution_count": 69,
   "metadata": {},
   "outputs": [],
   "source": [
    "sales_by_id_Apr_June=rewards_sales_2018_Apr_June.groupby(['customer_id_hashed'])['total_transaction_amt'].sum().to_frame().reset_index()\n",
    "sales_by_id_July_Sep=rewards_sales_2018_July_Sep.groupby(['customer_id_hashed'])['total_transaction_amt'].sum().to_frame().reset_index()"
   ]
  },
  {
   "cell_type": "code",
   "execution_count": 71,
   "metadata": {},
   "outputs": [],
   "source": [
    "sales_by_id_Apr_June=pd.merge(sales_by_id_Apr_June,user_group,on=\"customer_id_hashed\",how=\"right\")\n",
    "sales_by_id_Apr_June=sales_by_id_Apr_June.fillna(0)\n",
    "sales_by_id_Apr_June=sales_by_id_Apr_June.rename(columns={\"total_transaction_amt\":\"sales_Apr_June\"})\n",
    "sales_by_group_Apr_June=sales_by_id_Apr_June.groupby(['lable'])['sales_Apr_June'].sum().to_frame().reset_index()\n",
    "sales_by_group_Apr_June['id_Group_Apr_June']=sales_by_group_Apr_June['lable'].apply(lambda x: x.split(\"|\")[0])\n",
    "sales_by_group_Apr_June['id_Group_July_Sep']=sales_by_group_Apr_June['lable'].apply(lambda x: x.split(\"|\")[1])\n",
    "del sales_by_group_Apr_June['lable']\n",
    "sales_by_group_Apr_June_matrix=sales_by_group_Apr_June.pivot(index='id_Group_Apr_June',columns='id_Group_July_Sep',values=\"sales_Apr_June\")\n",
    "sales_by_group_Apr_June_matrix=sales_by_group_Apr_June_matrix.reset_index()\n",
    "sales_by_group_Apr_June_matrix=sales_by_group_Apr_June_matrix[sales_by_group_Apr_June_matrix['id_Group_Apr_June']==\"N1\"].append(sales_by_group_Apr_June_matrix[sales_by_group_Apr_June_matrix['id_Group_Apr_June']==\"L1\"]).append(sales_by_group_Apr_June_matrix[sales_by_group_Apr_June_matrix['id_Group_Apr_June']==\"M1\"]).append(sales_by_group_Apr_June_matrix[sales_by_group_Apr_June_matrix['id_Group_Apr_June']==\"H1\"])\n",
    "sales_by_group_Apr_June_matrix=sales_by_group_Apr_June_matrix[['id_Group_Apr_June','N2','L2','M2','H2']]\n",
    "sales_by_group_Apr_June_matrix=sales_by_group_Apr_June_matrix.fillna(0)\n",
    "sales_by_group_Apr_June_matrix=sales_by_group_Apr_June_matrix.rename(columns={\"id_Group_Apr_June\":\"Sales_April_June\"})\n",
    "\n",
    "sales_by_id_July_Sep=pd.merge(sales_by_id_July_Sep,user_group,on=\"customer_id_hashed\",how=\"right\")\n",
    "sales_by_id_July_Sep=sales_by_id_July_Sep.fillna(0)\n",
    "sales_by_id_July_Sep=sales_by_id_July_Sep.rename(columns={\"total_transaction_amt\":\"sales_July_Sep\"})\n",
    "sales_by_group_July_Sep=sales_by_id_July_Sep.groupby(['lable'])['sales_July_Sep'].sum().to_frame().reset_index()\n",
    "sales_by_group_July_Sep['id_Group_Apr_June']=sales_by_group_July_Sep['lable'].apply(lambda x: x.split(\"|\")[0])\n",
    "sales_by_group_July_Sep['id_Group_July_Sep']=sales_by_group_July_Sep['lable'].apply(lambda x: x.split(\"|\")[1])\n",
    "del sales_by_group_July_Sep['lable']\n",
    "sales_by_group_July_Sep_matrix=sales_by_group_July_Sep.pivot(index='id_Group_Apr_June',columns='id_Group_July_Sep',values=\"sales_July_Sep\")\n",
    "sales_by_group_July_Sep_matrix=sales_by_group_July_Sep_matrix.reset_index()\n",
    "sales_by_group_July_Sep_matrix=sales_by_group_July_Sep_matrix[sales_by_group_July_Sep_matrix['id_Group_Apr_June']==\"N1\"].append(sales_by_group_July_Sep_matrix[sales_by_group_July_Sep_matrix['id_Group_Apr_June']==\"L1\"]).append(sales_by_group_July_Sep_matrix[sales_by_group_July_Sep_matrix['id_Group_Apr_June']==\"M1\"]).append(sales_by_group_July_Sep_matrix[sales_by_group_July_Sep_matrix['id_Group_Apr_June']==\"H1\"])\n",
    "sales_by_group_July_Sep_matrix=sales_by_group_July_Sep_matrix[['id_Group_Apr_June','N2','L2','M2','H2']]\n",
    "sales_by_group_July_Sep_matrix=sales_by_group_July_Sep_matrix.fillna(0)\n",
    "sales_by_group_July_Sep_matrix=sales_by_group_July_Sep_matrix.rename(columns={\"id_Group_Apr_June\":\"Sales_July_Sep\"})\n"
   ]
  },
  {
   "cell_type": "markdown",
   "metadata": {},
   "source": [
    "# Transaction"
   ]
  },
  {
   "cell_type": "code",
   "execution_count": null,
   "metadata": {
    "collapsed": true
   },
   "outputs": [],
   "source": [
    "trans_by_id_Apr_June=rewards_sales_2018_Apr_June_Positive.groupby(['customer_id_hashed'])['total_transaction_amt'].count().to_frame().reset_index()\n",
    "trans_by_id_July_Sep=rewards_sales_2018_July_Sep_Positive.groupby(['customer_id_hashed'])['total_transaction_amt'].count().to_frame().reset_index()\n"
   ]
  },
  {
   "cell_type": "code",
   "execution_count": 100,
   "metadata": {},
   "outputs": [],
   "source": [
    "trans_by_id_Apr_June=pd.merge(trans_by_id_Apr_June,user_group,on=\"customer_id_hashed\",how=\"right\")\n",
    "trans_by_id_Apr_June=trans_by_id_Apr_June.fillna(0)\n",
    "trans_by_id_Apr_June=trans_by_id_Apr_June.rename(columns={\"total_transaction_amt\":\"trans_Apr_June\"})\n",
    "trans_by_group_Apr_June=trans_by_id_Apr_June.groupby(['lable'])['trans_Apr_June'].sum().to_frame().reset_index()\n",
    "trans_by_group_Apr_June['id_Group_Apr_June']=trans_by_group_Apr_June['lable'].apply(lambda x: x.split(\"|\")[0])\n",
    "trans_by_group_Apr_June['id_Group_July_Sep']=trans_by_group_Apr_June['lable'].apply(lambda x: x.split(\"|\")[1])\n",
    "del trans_by_group_Apr_June['lable']\n",
    "trans_by_group_Apr_June_matrix=trans_by_group_Apr_June.pivot(index='id_Group_Apr_June',columns='id_Group_July_Sep',values=\"trans_Apr_June\")\n",
    "trans_by_group_Apr_June_matrix=trans_by_group_Apr_June_matrix.reset_index()\n",
    "trans_by_group_Apr_June_matrix=trans_by_group_Apr_June_matrix[trans_by_group_Apr_June_matrix['id_Group_Apr_June']==\"N1\"].append(trans_by_group_Apr_June_matrix[trans_by_group_Apr_June_matrix['id_Group_Apr_June']==\"L1\"]).append(trans_by_group_Apr_June_matrix[trans_by_group_Apr_June_matrix['id_Group_Apr_June']==\"M1\"]).append(trans_by_group_Apr_June_matrix[trans_by_group_Apr_June_matrix['id_Group_Apr_June']==\"H1\"])\n",
    "trans_by_group_Apr_June_matrix=trans_by_group_Apr_June_matrix[['id_Group_Apr_June','N2','L2','M2','H2']]\n",
    "trans_by_group_Apr_June_matrix=trans_by_group_Apr_June_matrix.fillna(0)\n",
    "trans_by_group_Apr_June_matrix=trans_by_group_Apr_June_matrix.rename(columns={\"id_Group_Apr_June\":\"trans_April_June\"})\n",
    "\n",
    "trans_by_id_July_Sep=pd.merge(trans_by_id_July_Sep,user_group,on=\"customer_id_hashed\",how=\"right\")\n",
    "trans_by_id_July_Sep=trans_by_id_July_Sep.fillna(0)\n",
    "trans_by_id_July_Sep=trans_by_id_July_Sep.rename(columns={\"total_transaction_amt\":\"trans_July_Sep\"})\n",
    "trans_by_group_July_Sep=trans_by_id_July_Sep.groupby(['lable'])['trans_July_Sep'].sum().to_frame().reset_index()\n",
    "trans_by_group_July_Sep['id_Group_Apr_June']=trans_by_group_July_Sep['lable'].apply(lambda x: x.split(\"|\")[0])\n",
    "trans_by_group_July_Sep['id_Group_July_Sep']=trans_by_group_July_Sep['lable'].apply(lambda x: x.split(\"|\")[1])\n",
    "del trans_by_group_July_Sep['lable']\n",
    "trans_by_group_July_Sep_matrix=trans_by_group_July_Sep.pivot(index='id_Group_Apr_June',columns='id_Group_July_Sep',values=\"trans_July_Sep\")\n",
    "trans_by_group_July_Sep_matrix=trans_by_group_July_Sep_matrix.reset_index()\n",
    "trans_by_group_July_Sep_matrix=trans_by_group_July_Sep_matrix[trans_by_group_July_Sep_matrix['id_Group_Apr_June']==\"N1\"].append(trans_by_group_July_Sep_matrix[trans_by_group_July_Sep_matrix['id_Group_Apr_June']==\"L1\"]).append(trans_by_group_July_Sep_matrix[trans_by_group_July_Sep_matrix['id_Group_Apr_June']==\"M1\"]).append(trans_by_group_July_Sep_matrix[trans_by_group_July_Sep_matrix['id_Group_Apr_June']==\"H1\"])\n",
    "trans_by_group_July_Sep_matrix=trans_by_group_July_Sep_matrix[['id_Group_Apr_June','N2','L2','M2','H2']]\n",
    "trans_by_group_July_Sep_matrix=trans_by_group_July_Sep_matrix.fillna(0)\n",
    "trans_by_group_July_Sep_matrix=trans_by_group_July_Sep_matrix.rename(columns={\"id_Group_Apr_June\":\"trans_July_Sep\"})\n"
   ]
  },
  {
   "cell_type": "code",
   "execution_count": 103,
   "metadata": {},
   "outputs": [],
   "source": [
    "writer=pd.ExcelWriter(\"/home/jian/Projects/Big_Lots/Loyal_members/Segment_Movement_analysis/output/Rewards_Migration_4by4_JL_\"+str(datetime.datetime.now().date())+\".xlsx\",engine=\"xlsxwriter\")"
   ]
  },
  {
   "cell_type": "code",
   "execution_count": 113,
   "metadata": {},
   "outputs": [],
   "source": [
    "transaction_matrix.to_excel(writer,\"id_group\",index=False)\n",
    "sales_by_group_Apr_June_matrix.to_excel(writer,\"Sales_Apr_June_Period1\",index=False)\n",
    "sales_by_group_July_Sep_matrix.to_excel(writer,\"Sales_July_Sep_Period2\",index=False)\n",
    "trans_by_group_Apr_June_matrix.to_excel(writer,\"Trans_Apr_June_Period1\",index=False)\n",
    "trans_by_group_July_Sep_matrix.to_excel(writer,\"Trans_July_Sep_Period2\",index=False)\n",
    "writer.save()"
   ]
  },
  {
   "cell_type": "code",
   "execution_count": null,
   "metadata": {
    "collapsed": true
   },
   "outputs": [],
   "source": []
  },
  {
   "cell_type": "code",
   "execution_count": null,
   "metadata": {
    "collapsed": true
   },
   "outputs": [],
   "source": []
  },
  {
   "cell_type": "code",
   "execution_count": 54,
   "metadata": {
    "collapsed": true
   },
   "outputs": [],
   "source": [
    "transaction_matrix.to_csv(\"/home/jian/Projects/Big_Lots/Loyal_members/Segment_Movement_analysis/output/Rewards_Migration_4by4_1011.csv\",index=False)"
   ]
  },
  {
   "cell_type": "code",
   "execution_count": null,
   "metadata": {
    "collapsed": true
   },
   "outputs": [],
   "source": []
  }
 ],
 "metadata": {
  "kernelspec": {
   "display_name": "Python 3",
   "language": "python",
   "name": "python3"
  },
  "language_info": {
   "codemirror_mode": {
    "name": "ipython",
    "version": 3
   },
   "file_extension": ".py",
   "mimetype": "text/x-python",
   "name": "python",
   "nbconvert_exporter": "python",
   "pygments_lexer": "ipython3",
   "version": "3.6.1"
  }
 },
 "nbformat": 4,
 "nbformat_minor": 2
}
