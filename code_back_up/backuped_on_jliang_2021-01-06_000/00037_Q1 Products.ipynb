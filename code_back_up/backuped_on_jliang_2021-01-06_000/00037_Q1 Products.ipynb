{
 "cells": [
  {
   "cell_type": "code",
   "execution_count": 6,
   "metadata": {
    "collapsed": true
   },
   "outputs": [],
   "source": [
    "import pandas as pd\n",
    "import numpy as np\n",
    "import datetime"
   ]
  },
  {
   "cell_type": "code",
   "execution_count": 7,
   "metadata": {
    "collapsed": true
   },
   "outputs": [],
   "source": [
    "Inclusions=pd.read_csv(\"/home/jian/Projects/Big_Lots/Q1_Products/Inclusions.csv\")"
   ]
  },
  {
   "cell_type": "code",
   "execution_count": 8,
   "metadata": {
    "collapsed": true
   },
   "outputs": [],
   "source": [
    "historical_data1=pd.read_csv(\"/home/jian/Projects/Big_Lots/Q1_Products/Data/MediaStorm Data Extract - Detail Store Sales1 (stores up to 1000).txt\",dtype=str,sep=\"|\",na_values=\"?\")\n",
    "historical_data2=pd.read_csv(\"/home/jian/Projects/Big_Lots/Q1_Products/Data/MediaStorm Data Extract - Detail Store Sales2 (stores 1001 to 1450).txt\",dtype=str,sep=\"|\",na_values=\"?\")\n",
    "historical_data3=pd.read_csv(\"/home/jian/Projects/Big_Lots/Q1_Products/Data/MediaStorm Data Extract - Detail Store Sales3 (stores 1451 to 1750).txt\",dtype=str,sep=\"|\",na_values=\"?\")\n",
    "historical_data4=pd.read_csv(\"/home/jian/Projects/Big_Lots/Q1_Products/Data/MediaStorm Data Extract - Detail Store Sales4 (stores 1751 to 2000).txt\",dtype=str,sep=\"|\",na_values=\"?\")\n",
    "historical_data5=pd.read_csv(\"/home/jian/Projects/Big_Lots/Q1_Products/Data/MediaStorm Data Extract - Detail Store Sales5 (stores 2001 to 4500).txt\",dtype=str,sep=\"|\",na_values=\"?\")\n",
    "historical_data6=pd.read_csv(\"/home/jian/Projects/Big_Lots/Q1_Products/Data/MediaStorm Data Extract - Detail Store Sales6 (stores 4501 to 5000).txt\",dtype=str,sep=\"|\",na_values=\"?\")\n",
    "historical_data7=pd.read_csv(\"/home/jian/Projects/Big_Lots/Q1_Products/Data/MediaStorm Data Extract - Detail Store Sales7 (stores 5001 to 6990).txt\",dtype=str,sep=\"|\",na_values=\"?\")"
   ]
  },
  {
   "cell_type": "code",
   "execution_count": 9,
   "metadata": {
    "collapsed": true
   },
   "outputs": [],
   "source": [
    "def clean_date(df):\n",
    "    df['week_end_dt']=df['week_end_dt'].apply(lambda x: datetime.datetime.strptime(x,\"%Y-%m-%d\").date())\n",
    "    df=df[(df['week_end_dt']>datetime.datetime.strptime(\"2017-02-15\",\"%Y-%m-%d\").date()) & (df['week_end_dt']<datetime.datetime.strptime(\"2017-03-20\",\"%Y-%m-%d\").date())]\n",
    "    df['location_id']=df['location_id'].astype(int)\n",
    "    df['gross_sales_amt']=df['gross_sales_amt'].astype(float)\n",
    "    df['gross_transaction_cnt']=df['gross_transaction_cnt'].astype(int)\n",
    "    df['class_code_id']=df['class_code_id'].fillna(0)\n",
    "    df['class_code_id']=df['class_code_id'].astype(int)\n",
    "    df['class_gross_sales_amt']=df['class_gross_sales_amt'].astype(float)   \n",
    "    df=df[df['location_id'].isin(Inclusions['location_id'])]\n",
    "    return df"
   ]
  },
  {
   "cell_type": "code",
   "execution_count": 10,
   "metadata": {},
   "outputs": [
    {
     "name": "stderr",
     "output_type": "stream",
     "text": [
      "/usr/local/lib/python3.6/site-packages/ipykernel_launcher.py:4: SettingWithCopyWarning: \n",
      "A value is trying to be set on a copy of a slice from a DataFrame.\n",
      "Try using .loc[row_indexer,col_indexer] = value instead\n",
      "\n",
      "See the caveats in the documentation: http://pandas.pydata.org/pandas-docs/stable/indexing.html#indexing-view-versus-copy\n",
      "  after removing the cwd from sys.path.\n",
      "/usr/local/lib/python3.6/site-packages/ipykernel_launcher.py:5: SettingWithCopyWarning: \n",
      "A value is trying to be set on a copy of a slice from a DataFrame.\n",
      "Try using .loc[row_indexer,col_indexer] = value instead\n",
      "\n",
      "See the caveats in the documentation: http://pandas.pydata.org/pandas-docs/stable/indexing.html#indexing-view-versus-copy\n",
      "  \"\"\"\n",
      "/usr/local/lib/python3.6/site-packages/ipykernel_launcher.py:6: SettingWithCopyWarning: \n",
      "A value is trying to be set on a copy of a slice from a DataFrame.\n",
      "Try using .loc[row_indexer,col_indexer] = value instead\n",
      "\n",
      "See the caveats in the documentation: http://pandas.pydata.org/pandas-docs/stable/indexing.html#indexing-view-versus-copy\n",
      "  \n",
      "/usr/local/lib/python3.6/site-packages/ipykernel_launcher.py:7: SettingWithCopyWarning: \n",
      "A value is trying to be set on a copy of a slice from a DataFrame.\n",
      "Try using .loc[row_indexer,col_indexer] = value instead\n",
      "\n",
      "See the caveats in the documentation: http://pandas.pydata.org/pandas-docs/stable/indexing.html#indexing-view-versus-copy\n",
      "  import sys\n",
      "/usr/local/lib/python3.6/site-packages/ipykernel_launcher.py:8: SettingWithCopyWarning: \n",
      "A value is trying to be set on a copy of a slice from a DataFrame.\n",
      "Try using .loc[row_indexer,col_indexer] = value instead\n",
      "\n",
      "See the caveats in the documentation: http://pandas.pydata.org/pandas-docs/stable/indexing.html#indexing-view-versus-copy\n",
      "  \n",
      "/usr/local/lib/python3.6/site-packages/ipykernel_launcher.py:9: SettingWithCopyWarning: \n",
      "A value is trying to be set on a copy of a slice from a DataFrame.\n",
      "Try using .loc[row_indexer,col_indexer] = value instead\n",
      "\n",
      "See the caveats in the documentation: http://pandas.pydata.org/pandas-docs/stable/indexing.html#indexing-view-versus-copy\n",
      "  if __name__ == '__main__':\n"
     ]
    }
   ],
   "source": [
    "historical_data1=clean_date(historical_data1)\n",
    "historical_data2=clean_date(historical_data2)\n",
    "historical_data3=clean_date(historical_data3)\n",
    "historical_data4=clean_date(historical_data4)\n",
    "historical_data5=clean_date(historical_data5)\n",
    "historical_data6=clean_date(historical_data6)\n",
    "historical_data7=clean_date(historical_data7)"
   ]
  },
  {
   "cell_type": "code",
   "execution_count": null,
   "metadata": {
    "collapsed": true
   },
   "outputs": [],
   "source": []
  },
  {
   "cell_type": "code",
   "execution_count": 11,
   "metadata": {
    "collapsed": true
   },
   "outputs": [],
   "source": [
    "week1=pd.read_csv(\"/home/jian/Projects/Big_Lots/Q1_Products/Data/MediaStormSalesWeekly_20180217.txt\",dtype=str,sep=\"|\",na_values=\"?\")\n",
    "week2=pd.read_csv(\"/home/jian/Projects/Big_Lots/Q1_Products/Data/MediaStormSalesWeekly_20180224.txt\",dtype=str,sep=\"|\",na_values=\"?\")\n",
    "week3=pd.read_csv(\"/home/jian/Projects/Big_Lots/Q1_Products/Data/MediaStormSalesWeekly_20180303.txt\",dtype=str,sep=\"|\",na_values=\"?\")\n",
    "week4=pd.read_csv(\"/home/jian/Projects/Big_Lots/Q1_Products/Data/MediaStormSalesWeekly_20180310.txt\",dtype=str,sep=\"|\",na_values=\"?\")\n",
    "week5=pd.read_csv(\"/home/jian/Projects/Big_Lots/Q1_Products/Data/MediaStormSalesWeekly_20180317.txt\",dtype=str,sep=\"|\",na_values=\"?\")"
   ]
  },
  {
   "cell_type": "code",
   "execution_count": 12,
   "metadata": {
    "collapsed": true
   },
   "outputs": [],
   "source": [
    "def clean_df_2018(df):\n",
    "    df['week_end_dt']=df['week_end_dt'].apply(lambda x: datetime.datetime.strptime(x,\"%Y-%m-%d\").date())\n",
    "    df['location_id']=df['location_id'].astype(int)\n",
    "    df['gross_sales_amt']=df['gross_sales_amt'].astype(float)\n",
    "    df['gross_transaction_cnt']=df['gross_transaction_cnt'].astype(int)\n",
    "    df['class_code_id']=df['class_code_id'].fillna(0)\n",
    "    df['class_code_id']=df['class_code_id'].astype(int)\n",
    "    df['class_gross_sales_amt']=df['class_gross_sales_amt'].astype(float)   \n",
    "    df=df[df['location_id'].isin(Inclusions['location_id'])]\n",
    "    return df "
   ]
  },
  {
   "cell_type": "code",
   "execution_count": 13,
   "metadata": {
    "collapsed": true
   },
   "outputs": [],
   "source": [
    "week1=clean_df_2018(week1)\n",
    "week2=clean_df_2018(week2)\n",
    "week3=clean_df_2018(week3)\n",
    "week4=clean_df_2018(week4)\n",
    "week5=clean_df_2018(week5)"
   ]
  },
  {
   "cell_type": "code",
   "execution_count": null,
   "metadata": {
    "collapsed": true
   },
   "outputs": [],
   "source": []
  },
  {
   "cell_type": "code",
   "execution_count": 14,
   "metadata": {
    "collapsed": true
   },
   "outputs": [],
   "source": [
    "Sales_2017=historical_data1.append(historical_data2).append(historical_data3).append(historical_data4).append(historical_data5).append(historical_data6).append(historical_data7)\n",
    "Sales_2018=week1.append(week2).append(week3).append(week4).append(week5)"
   ]
  },
  {
   "cell_type": "code",
   "execution_count": null,
   "metadata": {
    "collapsed": true
   },
   "outputs": [],
   "source": []
  },
  {
   "cell_type": "code",
   "execution_count": null,
   "metadata": {
    "collapsed": true
   },
   "outputs": [],
   "source": []
  },
  {
   "cell_type": "code",
   "execution_count": 15,
   "metadata": {
    "collapsed": true
   },
   "outputs": [],
   "source": [
    "store_DMA=pd.read_excel(\"/home/jian/BigLots/static_files/all_store_DMA_2017.xlsx\")\n",
    "store_DMA=store_DMA[['location_id','DMA']]"
   ]
  },
  {
   "cell_type": "code",
   "execution_count": 16,
   "metadata": {
    "collapsed": true
   },
   "outputs": [],
   "source": [
    "Product_Taxonomy=pd.read_csv(\"/home/jian/BigLots/static_files/MediaStorm Data Extract - Product Taxonomy.txt\",sep=\"|\")\n",
    "Product_Taxonomy=Product_Taxonomy[['class_code_id','department_id']]\n",
    "Product_Taxonomy=Product_Taxonomy.drop_duplicates()\n",
    "Product_Department_Name=pd.read_csv(\"/home/jian/BigLots/static_files/MediaStorm Data Extract - Department Names.txt\",sep=\"|\")\n",
    "Product_Taxonomy=pd.merge(Product_Taxonomy,Product_Department_Name,on=\"department_id\",how=\"left\")"
   ]
  },
  {
   "cell_type": "code",
   "execution_count": 17,
   "metadata": {},
   "outputs": [
    {
     "data": {
      "text/html": [
       "<div>\n",
       "<style>\n",
       "    .dataframe thead tr:only-child th {\n",
       "        text-align: right;\n",
       "    }\n",
       "\n",
       "    .dataframe thead th {\n",
       "        text-align: left;\n",
       "    }\n",
       "\n",
       "    .dataframe tbody tr th {\n",
       "        vertical-align: top;\n",
       "    }\n",
       "</style>\n",
       "<table border=\"1\" class=\"dataframe\">\n",
       "  <thead>\n",
       "    <tr style=\"text-align: right;\">\n",
       "      <th></th>\n",
       "      <th>class_code_id</th>\n",
       "      <th>department_id</th>\n",
       "      <th>department_desc</th>\n",
       "    </tr>\n",
       "  </thead>\n",
       "  <tbody>\n",
       "    <tr>\n",
       "      <th>0</th>\n",
       "      <td>11099</td>\n",
       "      <td>108</td>\n",
       "      <td>CANDYSNACK</td>\n",
       "    </tr>\n",
       "    <tr>\n",
       "      <th>1</th>\n",
       "      <td>11199</td>\n",
       "      <td>111</td>\n",
       "      <td>DIRECT STORE DELIVERIES</td>\n",
       "    </tr>\n",
       "  </tbody>\n",
       "</table>\n",
       "</div>"
      ],
      "text/plain": [
       "   class_code_id  department_id          department_desc\n",
       "0          11099            108               CANDYSNACK\n",
       "1          11199            111  DIRECT STORE DELIVERIES"
      ]
     },
     "execution_count": 17,
     "metadata": {},
     "output_type": "execute_result"
    }
   ],
   "source": [
    "Product_Taxonomy.head(2)"
   ]
  },
  {
   "cell_type": "code",
   "execution_count": null,
   "metadata": {
    "collapsed": true
   },
   "outputs": [],
   "source": []
  },
  {
   "cell_type": "code",
   "execution_count": 21,
   "metadata": {
    "collapsed": true
   },
   "outputs": [],
   "source": [
    "Sales_2017=pd.merge(Sales_2017,Product_Taxonomy,on=\"class_code_id\",how=\"left\")\n",
    "Sales_2018=pd.merge(Sales_2018,Product_Taxonomy,on=\"class_code_id\",how=\"left\")"
   ]
  },
  {
   "cell_type": "code",
   "execution_count": 34,
   "metadata": {},
   "outputs": [],
   "source": [
    "Sales_2017_department=Sales_2017.groupby(['location_id','week_end_dt','department_id','department_desc'])['class_gross_sales_amt'].sum().to_frame()\n",
    "Sales_2018_department=Sales_2018.groupby(['location_id','week_end_dt','department_id','department_desc'])['class_gross_sales_amt'].sum().to_frame()\n",
    "Sales_2017_department.reset_index(inplace=True)\n",
    "Sales_2018_department.reset_index(inplace=True)"
   ]
  },
  {
   "cell_type": "code",
   "execution_count": 35,
   "metadata": {},
   "outputs": [],
   "source": [
    "Sales_2017_department_DMA=pd.merge(Sales_2017_department,store_DMA,on=\"location_id\",how=\"left\")\n",
    "Sales_2018_department_DMA=pd.merge(Sales_2018_department,store_DMA,on=\"location_id\",how=\"left\")"
   ]
  },
  {
   "cell_type": "code",
   "execution_count": 40,
   "metadata": {},
   "outputs": [],
   "source": [
    "Department_Selected=pd.read_excel(\"/home/jian/Projects/Big_Lots/Q1_Products/Department_ID_DMA.xlsx\",sheetname=\"product_department\")\n",
    "DMA_Selected=pd.read_excel(\"/home/jian/Projects/Big_Lots/Q1_Products/Department_ID_DMA.xlsx\",sheetname=\"selected_DMA\")                                 "
   ]
  },
  {
   "cell_type": "code",
   "execution_count": 47,
   "metadata": {},
   "outputs": [],
   "source": [
    "writer=pd.ExcelWriter(\"/home/jian/Projects/Big_Lots/Q1_Products/Product_by_store_DMA.xlsx\",engine='xlsxwriter')"
   ]
  },
  {
   "cell_type": "code",
   "execution_count": 48,
   "metadata": {},
   "outputs": [],
   "source": [
    "Sales_2017_department_DMA.to_excel(writer,\"Sales_2017\",index=False)\n",
    "Sales_2018_department_DMA.to_excel(writer,\"Sales_2018\",index=False)\n",
    "writer.save()"
   ]
  },
  {
   "cell_type": "code",
   "execution_count": null,
   "metadata": {
    "collapsed": true
   },
   "outputs": [],
   "source": []
  },
  {
   "cell_type": "code",
   "execution_count": null,
   "metadata": {
    "collapsed": true
   },
   "outputs": [],
   "source": []
  }
 ],
 "metadata": {
  "kernelspec": {
   "display_name": "Python 3",
   "language": "python",
   "name": "python3"
  },
  "language_info": {
   "codemirror_mode": {
    "name": "ipython",
    "version": 3
   },
   "file_extension": ".py",
   "mimetype": "text/x-python",
   "name": "python",
   "nbconvert_exporter": "python",
   "pygments_lexer": "ipython3",
   "version": "3.6.1"
  }
 },
 "nbformat": 4,
 "nbformat_minor": 2
}
