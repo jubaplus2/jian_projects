{
 "cells": [
  {
   "cell_type": "code",
   "execution_count": 1,
   "metadata": {
    "collapsed": true
   },
   "outputs": [],
   "source": [
    "import pandas as pd\n",
    "import datetime\n",
    "import numpy as np\n",
    "import os"
   ]
  },
  {
   "cell_type": "code",
   "execution_count": 12,
   "metadata": {},
   "outputs": [],
   "source": [
    "store_list=pd.read_table(\"/home/jian/BigLots/static_files/Store_list/MediaStormStores20190101-135843-638.txt\",dtype=str,sep=\"|\")\n",
    "\n",
    "store_list_2=pd.read_table(\"/home/jian/BigLots/static_files/Store_list/MediaStormStores20181201-135231-415.txt\",dtype=str,sep=\"|\")\n",
    "store_list=store_list.append(store_list_2[~store_list_2['location_id'].isin(store_list['location_id'].tolist())])\n",
    "\n",
    "store_list_2=pd.read_table(\"/home/jian/BigLots/static_files/Store_list/MediaStormStores20181101-134628-331.txt\",dtype=str,sep=\"|\")\n",
    "store_list=store_list.append(store_list_2[~store_list_2['location_id'].isin(store_list['location_id'].tolist())])\n",
    "\n",
    "store_list_2=pd.read_table(\"/home/jian/BigLots/static_files/Store_list/MediaStormStores20181001-135417-132.txt\",dtype=str,sep=\"|\")\n",
    "store_list=store_list.append(store_list_2[~store_list_2['location_id'].isin(store_list['location_id'].tolist())])\n",
    "\n",
    "\n",
    "store_list['latitude_meas']=store_list['latitude_meas'].astype(float)\n",
    "store_list['longitude_meas']=store_list['longitude_meas'].astype(float)\n",
    "store_list['zip5']=store_list['zip_cd'].apply(lambda x: x.split(\"-\")[0].zfill(5))"
   ]
  },
  {
   "cell_type": "code",
   "execution_count": 13,
   "metadata": {},
   "outputs": [
    {
     "data": {
      "text/plain": [
       "'/home/jian/Projects/Big_Lots/Analysis/2018_Q4/Quadrants_Dashboard_Datorama/Maps_based_on_Q3_quadrant'"
      ]
     },
     "execution_count": 13,
     "metadata": {},
     "output_type": "execute_result"
    }
   ],
   "source": [
    "os.getcwd()"
   ]
  },
  {
   "cell_type": "code",
   "execution_count": 14,
   "metadata": {
    "collapsed": true
   },
   "outputs": [],
   "source": [
    "q3_quadrant=pd.read_excel(\"/home/jian/Projects/Big_Lots/Analysis/2018_Q4/Quadrants_Dashboard_Datorama/Maps_based_on_Q3_quadrant/Excel_BL_data_for_2018Q3_Quadrants_JL_2018-12-04_Q2Scale.xlsx\",\n",
    "                         dtype=str,sheetname=\"2018_Q3_Quadrants\",usecols=['location_id','Quadrant in Graph 1-2'])\n",
    "\n",
    "q3_quadrant=pd.merge(q3_quadrant,store_list,on=\"location_id\",how=\"left\")"
   ]
  },
  {
   "cell_type": "code",
   "execution_count": 16,
   "metadata": {},
   "outputs": [],
   "source": [
    "writer=pd.ExcelWriter('/home/jian/Projects/Big_Lots/Analysis/2018_Q4/Quadrants_Dashboard_Datorama/Maps_based_on_Q3_quadrant/BL_data_for_map_on_Tableau_JL_'+str(datetime.datetime.now().date())+\".xlsx\",engine=\"xlsxwriter\")\n",
    "q3_quadrant.to_excel(writer,\"data_by_store\",index=False)\n",
    "writer.save()"
   ]
  },
  {
   "cell_type": "code",
   "execution_count": null,
   "metadata": {
    "collapsed": true
   },
   "outputs": [],
   "source": []
  }
 ],
 "metadata": {
  "kernelspec": {
   "display_name": "Python 3",
   "language": "python",
   "name": "python3"
  },
  "language_info": {
   "codemirror_mode": {
    "name": "ipython",
    "version": 3
   },
   "file_extension": ".py",
   "mimetype": "text/x-python",
   "name": "python",
   "nbconvert_exporter": "python",
   "pygments_lexer": "ipython3",
   "version": "3.6.1"
  }
 },
 "nbformat": 4,
 "nbformat_minor": 2
}
