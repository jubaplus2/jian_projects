{
 "cells": [
  {
   "cell_type": "code",
   "execution_count": 1,
   "metadata": {
    "collapsed": true
   },
   "outputs": [],
   "source": [
    "import datetime\n",
    "import os\n",
    "import paramiko\n",
    "import pandas as pd"
   ]
  },
  {
   "cell_type": "code",
   "execution_count": 2,
   "metadata": {
    "collapsed": true
   },
   "outputs": [],
   "source": [
    "def recrusive_file_gen(root_folder):\n",
    "    for root, dirs, files in os.walk(root_folder):\n",
    "        for file in files:\n",
    "            yield os.path.join(root, file)"
   ]
  },
  {
   "cell_type": "code",
   "execution_count": 3,
   "metadata": {
    "collapsed": true
   },
   "outputs": [],
   "source": [
    "remote_server_root=\"/mnt/drv5/saatva/BL_data_for_Circ_analysis/\""
   ]
  },
  {
   "cell_type": "code",
   "execution_count": 4,
   "metadata": {
    "collapsed": true
   },
   "outputs": [],
   "source": [
    "host = \"64.237.51.251\" #hard-coded\n",
    "port = 22\n",
    "transport = paramiko.Transport((host, port))\n",
    "\n",
    "password = \"jian@juba2017\" #hard-coded\n",
    "username = \"jian\" #hard-coded\n",
    "transport.connect(username = username, password = password)\n",
    "sftp = paramiko.SFTPClient.from_transport(transport)\n",
    "\n",
    "\n"
   ]
  },
  {
   "cell_type": "code",
   "execution_count": 5,
   "metadata": {
    "collapsed": true
   },
   "outputs": [],
   "source": [
    "start_weekend_date_2019=\"2019-01-01\"\n",
    "\n",
    "data_2019=list(recrusive_file_gen(\"/home/jian/BigLots/2019_by_weeks/\"))\n",
    "data_2019=[x for x in data_2019 if \"DailySales\" in x]\n",
    "data_2019_df=pd.DataFrame({\"file_path\":data_2019})\n",
    "data_2019_df['week_end_dt']=data_2019_df['file_path'].apply(lambda x: x.split(\"y_weeks/MediaStorm_\")[1][:10])\n",
    "data_2019_df=data_2019_df[data_2019_df['week_end_dt']>=start_weekend_date_2019]\n",
    "\n",
    "for local_path in data_2019_df['file_path'].tolist():\n",
    "    remote_path=\"/mnt/drv5/saatva/BL_data_for_Circ_analysis/ItemLevel_2019/\"+os.path.basename(local_path)\n",
    "    sftp.put(local_path,remote_path)\n",
    "\n",
    "    "
   ]
  },
  {
   "cell_type": "code",
   "execution_count": 5,
   "metadata": {
    "collapsed": true
   },
   "outputs": [],
   "source": [
    "start_weekend_date_2018=\"2018-01-01\"\n",
    "end_weekend_date_2018=\"2018-12-31\"\n",
    "\n",
    "data_2018=list(recrusive_file_gen(\"/home/jian/BigLots/hist_daily_data_subclasslevel/\"))\n",
    "data_2018=[x for x in data_2018 if \"DailySales\" in x]\n",
    "data_2018_df=pd.DataFrame({\"file_path\":data_2018})\n",
    "\n",
    "\n",
    "data_2018_df['week_end_dt']=data_2018_df['file_path'].apply(lambda x: x.split(\"MediaStormDailySales_week_ending_\")[1][:10])\n",
    "data_2018_df=data_2018_df[data_2018_df['week_end_dt']>=start_weekend_date_2018]\n",
    "data_2018_df=data_2018_df[data_2018_df['week_end_dt']<=end_weekend_date_2018]\n",
    "max_hist_subclass_2018=data_2018_df['week_end_dt'].max()"
   ]
  },
  {
   "cell_type": "code",
   "execution_count": 6,
   "metadata": {},
   "outputs": [
    {
     "data": {
      "text/plain": [
       "'2018-06-16'"
      ]
     },
     "execution_count": 6,
     "metadata": {},
     "output_type": "execute_result"
    }
   ],
   "source": [
    "data_2018_weekly=list(recrusive_file_gen(\"/home/jian/BigLots/2018_by_weeks/\"))\n",
    "data_2018_weekly=[x for x in data_2018_weekly if \"DailySales\" in x]\n",
    "data_2018_weekly_df=pd.DataFrame({\"file_path\":data_2018_weekly})\n",
    "data_2018_weekly_df['week_end_dt']=data_2018_weekly_df['file_path'].apply(lambda x: x.split(\"y_weeks/MediaStorm_\")[1][:10])\n",
    "data_2018_weekly_df=data_2018_weekly_df[data_2018_weekly_df['week_end_dt']>=max_hist_subclass_2018]\n",
    "\n",
    "data_2018_weekly_df['week_end_dt'].min()"
   ]
  },
  {
   "cell_type": "code",
   "execution_count": 9,
   "metadata": {},
   "outputs": [
    {
     "name": "stdout",
     "output_type": "stream",
     "text": [
      "(52, 2)\n",
      "['2018-01-06', '2018-01-13', '2018-01-20', '2018-01-27', '2018-02-03', '2018-02-10', '2018-02-17', '2018-02-24', '2018-03-03', '2018-03-10', '2018-03-17', '2018-03-24', '2018-03-31', '2018-04-07', '2018-04-14', '2018-04-21', '2018-04-28', '2018-05-05', '2018-05-12', '2018-05-19', '2018-05-26', '2018-06-02', '2018-06-09', '2018-06-16', '2018-06-23', '2018-06-30', '2018-07-07', '2018-07-14', '2018-07-21', '2018-07-28', '2018-08-04', '2018-08-11', '2018-08-18', '2018-08-25', '2018-09-01', '2018-09-08', '2018-09-15', '2018-09-22', '2018-09-29', '2018-10-06', '2018-10-13', '2018-10-20', '2018-10-27', '2018-11-03', '2018-11-10', '2018-11-17', '2018-11-24', '2018-12-01', '2018-12-08', '2018-12-15', '2018-12-22', '2018-12-29']\n",
      "52\n"
     ]
    }
   ],
   "source": [
    "all_2018_weekly_sub_class=data_2018_df.append(data_2018_weekly_df)\n",
    "print(all_2018_weekly_sub_class.shape)\n",
    "print(sorted(all_2018_weekly_sub_class['week_end_dt'].unique()))\n",
    "\n",
    "print(len(set(all_2018_weekly_sub_class['week_end_dt'].unique())))"
   ]
  },
  {
   "cell_type": "code",
   "execution_count": 9,
   "metadata": {
    "collapsed": true
   },
   "outputs": [],
   "source": [
    "for local_path in data_2018_df['file_path'].tolist():\n",
    "    remote_path=\"/mnt/drv5/saatva/BL_data_for_Circ_analysis/SubclassLevel_2018/\"+os.path.basename(local_path)\n",
    "    sftp.put(local_path,remote_path)"
   ]
  },
  {
   "cell_type": "code",
   "execution_count": 10,
   "metadata": {
    "collapsed": true
   },
   "outputs": [],
   "source": [
    "sftp.put(\"/home/jian/BigLots/static_files/ProductTaxonomy/MediaStormProductTaxonomy20190401-134939-109.txt\",\n",
    "         \"/mnt/drv5/saatva/BL_data_for_Circ_analysis/Mapping_File/MediaStormProductTaxonomy20190401-134939-109.txt\")\n",
    "\n",
    "sftp.put(\"/home/jian/BigLots/static_files/MediaStorm Data Extract - Division Names.txt\",\n",
    "         \"/mnt/drv5/saatva/BL_data_for_Circ_analysis/Mapping_File/MediaStorm Data Extract - Division Names.txt\")\n",
    "\n",
    "sftp.put(\"/home/jian/BigLots/static_files/MediaStorm Data Extract - Product Taxonomy.txt\",\n",
    "         \"/mnt/drv5/saatva/BL_data_for_Circ_analysis/Mapping_File/MediaStorm Data Extract - Product Taxonomy.txt\")\n",
    "\n",
    "sftp.close()\n"
   ]
  },
  {
   "cell_type": "code",
   "execution_count": null,
   "metadata": {
    "collapsed": true
   },
   "outputs": [],
   "source": []
  }
 ],
 "metadata": {
  "kernelspec": {
   "display_name": "Python 3",
   "language": "python",
   "name": "python3"
  },
  "language_info": {
   "codemirror_mode": {
    "name": "ipython",
    "version": 3
   },
   "file_extension": ".py",
   "mimetype": "text/x-python",
   "name": "python",
   "nbconvert_exporter": "python",
   "pygments_lexer": "ipython3",
   "version": "3.6.1"
  }
 },
 "nbformat": 4,
 "nbformat_minor": 2
}
