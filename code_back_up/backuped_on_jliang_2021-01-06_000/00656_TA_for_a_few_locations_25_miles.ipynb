{
 "cells": [
  {
   "cell_type": "code",
   "execution_count": 10,
   "metadata": {
    "collapsed": true
   },
   "outputs": [],
   "source": [
    "import pandas as pd\n",
    "import datetime\n",
    "import os\n",
    "import json\n",
    "from haversine import haversine\n",
    "\n",
    "zip_centers=json.load(open(\"/home/jian/Docs/Geo_mapping/updated_zip_centers_JL_2019-05-23.json\",\"r\"))\n",
    "ratio_dist=25"
   ]
  },
  {
   "cell_type": "code",
   "execution_count": 2,
   "metadata": {},
   "outputs": [
    {
     "data": {
      "text/plain": [
       "['sampleevents-3', 'Sheet1']"
      ]
     },
     "execution_count": 2,
     "metadata": {},
     "output_type": "execute_result"
    }
   ],
   "source": [
    "input_locations=pd.ExcelFile(\"./Events1008.xlsx\")\n",
    "input_locations.sheet_names"
   ]
  },
  {
   "cell_type": "code",
   "execution_count": 3,
   "metadata": {},
   "outputs": [
    {
     "data": {
      "text/html": [
       "<div>\n",
       "<style>\n",
       "    .dataframe thead tr:only-child th {\n",
       "        text-align: right;\n",
       "    }\n",
       "\n",
       "    .dataframe thead th {\n",
       "        text-align: left;\n",
       "    }\n",
       "\n",
       "    .dataframe tbody tr th {\n",
       "        vertical-align: top;\n",
       "    }\n",
       "</style>\n",
       "<table border=\"1\" class=\"dataframe\">\n",
       "  <thead>\n",
       "    <tr style=\"text-align: right;\">\n",
       "      <th></th>\n",
       "      <th>ancestors</th>\n",
       "      <th>createdDate</th>\n",
       "      <th>currencyCode</th>\n",
       "      <th>description</th>\n",
       "      <th>eventDateLocal</th>\n",
       "      <th>eventDateUTC</th>\n",
       "      <th>hideEventDate</th>\n",
       "      <th>hideEventTime</th>\n",
       "      <th>id</th>\n",
       "      <th>lastUpdatedDate</th>\n",
       "      <th>...</th>\n",
       "      <th>venue_city</th>\n",
       "      <th>venue_state</th>\n",
       "      <th>venue_postalCode</th>\n",
       "      <th>venue_country</th>\n",
       "      <th>venue_venueConfigId</th>\n",
       "      <th>venue_venueConfigName</th>\n",
       "      <th>ticketInfo_minListPrice</th>\n",
       "      <th>ticketInfo_maxListPrice</th>\n",
       "      <th>ticketInfo_totalTickets</th>\n",
       "      <th>ticketInfo_totalListings</th>\n",
       "    </tr>\n",
       "  </thead>\n",
       "  <tbody>\n",
       "    <tr>\n",
       "      <th>0</th>\n",
       "      <td>{'categories': [{'id': 1, 'name': 'Concert'}],...</td>\n",
       "      <td>2019-06-07T15:49:38+0000</td>\n",
       "      <td>USD</td>\n",
       "      <td>Billy Joel Madison Square Garden Tickets - Buy...</td>\n",
       "      <td>2019-12-11T20:00:00-0500</td>\n",
       "      <td>2019-12-12T01:00:00+0000</td>\n",
       "      <td>False</td>\n",
       "      <td>False</td>\n",
       "      <td>104180213</td>\n",
       "      <td>2019-07-29T13:50:23+0000</td>\n",
       "      <td>...</td>\n",
       "      <td>New York</td>\n",
       "      <td>NY</td>\n",
       "      <td>10001</td>\n",
       "      <td>US</td>\n",
       "      <td>588385</td>\n",
       "      <td>End Flr A-F - Dynamic</td>\n",
       "      <td>71</td>\n",
       "      <td>9999</td>\n",
       "      <td>4654</td>\n",
       "      <td>843</td>\n",
       "    </tr>\n",
       "    <tr>\n",
       "      <th>1</th>\n",
       "      <td>{'categories': [{'id': 1, 'name': 'Concert'}],...</td>\n",
       "      <td>2019-05-11T15:43:04+0000</td>\n",
       "      <td>USD</td>\n",
       "      <td>Jonas Brothers The Forum Los Angeles Tickets -...</td>\n",
       "      <td>2019-12-14T19:30:00-0800</td>\n",
       "      <td>2019-12-15T03:30:00+0000</td>\n",
       "      <td>False</td>\n",
       "      <td>False</td>\n",
       "      <td>104146867</td>\n",
       "      <td>2019-07-11T21:47:11+0000</td>\n",
       "      <td>...</td>\n",
       "      <td>Inglewood</td>\n",
       "      <td>CA</td>\n",
       "      <td>90305</td>\n",
       "      <td>US</td>\n",
       "      <td>1226841</td>\n",
       "      <td>Jonas Brothers 2019 - Dynamic</td>\n",
       "      <td>57</td>\n",
       "      <td>10548.95</td>\n",
       "      <td>3511</td>\n",
       "      <td>1103</td>\n",
       "    </tr>\n",
       "  </tbody>\n",
       "</table>\n",
       "<p>2 rows × 28 columns</p>\n",
       "</div>"
      ],
      "text/plain": [
       "                                           ancestors  \\\n",
       "0  {'categories': [{'id': 1, 'name': 'Concert'}],...   \n",
       "1  {'categories': [{'id': 1, 'name': 'Concert'}],...   \n",
       "\n",
       "                createdDate currencyCode  \\\n",
       "0  2019-06-07T15:49:38+0000          USD   \n",
       "1  2019-05-11T15:43:04+0000          USD   \n",
       "\n",
       "                                         description  \\\n",
       "0  Billy Joel Madison Square Garden Tickets - Buy...   \n",
       "1  Jonas Brothers The Forum Los Angeles Tickets -...   \n",
       "\n",
       "             eventDateLocal              eventDateUTC hideEventDate  \\\n",
       "0  2019-12-11T20:00:00-0500  2019-12-12T01:00:00+0000         False   \n",
       "1  2019-12-14T19:30:00-0800  2019-12-15T03:30:00+0000         False   \n",
       "\n",
       "  hideEventTime         id           lastUpdatedDate           ...             \\\n",
       "0         False  104180213  2019-07-29T13:50:23+0000           ...              \n",
       "1         False  104146867  2019-07-11T21:47:11+0000           ...              \n",
       "\n",
       "   venue_city venue_state venue_postalCode venue_country venue_venueConfigId  \\\n",
       "0    New York          NY            10001            US              588385   \n",
       "1   Inglewood          CA            90305            US             1226841   \n",
       "\n",
       "            venue_venueConfigName ticketInfo_minListPrice  \\\n",
       "0           End Flr A-F - Dynamic                      71   \n",
       "1   Jonas Brothers 2019 - Dynamic                      57   \n",
       "\n",
       "  ticketInfo_maxListPrice ticketInfo_totalTickets ticketInfo_totalListings  \n",
       "0                    9999                    4654                      843  \n",
       "1                10548.95                    3511                     1103  \n",
       "\n",
       "[2 rows x 28 columns]"
      ]
     },
     "execution_count": 3,
     "metadata": {},
     "output_type": "execute_result"
    }
   ],
   "source": [
    "input_locations=input_locations.parse(\"Sheet1\",dtype=str)\n",
    "input_locations.head(2)"
   ]
  },
  {
   "cell_type": "code",
   "execution_count": 4,
   "metadata": {},
   "outputs": [
    {
     "data": {
      "text/plain": [
       "((4, 6), 4)"
      ]
     },
     "execution_count": 4,
     "metadata": {},
     "output_type": "execute_result"
    }
   ],
   "source": [
    "df_TA=input_locations[['venue_id','venue_name','venue_city','venue_state','venue_postalCode','venue_country']].drop_duplicates()\n",
    "df_TA.shape,df_TA['venue_id'].nunique()"
   ]
  },
  {
   "cell_type": "code",
   "execution_count": 5,
   "metadata": {
    "collapsed": true
   },
   "outputs": [],
   "source": [
    "df_TA['search_key']=df_TA.apply(lambda x: \", \".join(list([x['venue_name'],x['venue_city'],x['venue_state'],x['venue_postalCode'],x['venue_country']])),axis=1)\n"
   ]
  },
  {
   "cell_type": "code",
   "execution_count": 6,
   "metadata": {},
   "outputs": [
    {
     "data": {
      "text/plain": [
       "{'102': ' Oakland Arena,  Oakland,  CA, 94621,  US',\n",
       " '1282': ' Madison Square Garden,  New York,  NY, 10001,  US',\n",
       " '5905': ' Mohegan Sun Arena,  Uncasville,  CT, 6382,  US',\n",
       " '753': ' The Forum Los Angeles,  Inglewood,  CA, 90305,  US'}"
      ]
     },
     "execution_count": 6,
     "metadata": {},
     "output_type": "execute_result"
    }
   ],
   "source": [
    "location_input_dict=df_TA.set_index(\"venue_id\").to_dict()['search_key']\n",
    "location_input_dict"
   ]
  },
  {
   "cell_type": "code",
   "execution_count": 7,
   "metadata": {
    "collapsed": true
   },
   "outputs": [],
   "source": [
    "# Manully copied here through browser\n",
    "\n",
    "dict_store_locations={}\n",
    "\n",
    "# '102': ' Oakland Arena,  Oakland,  CA, 94621,  US'\n",
    "dict_store_locations.update({\"102\":{\"Google_Address\":\"7000 Coliseum Way, Oakland, CA 94621\",\"Google_Coor\":[37.7516081,-122.2007013]}})\n",
    "# '1282': ' Madison Square Garden,  New York,  NY, 10001,  US'\n",
    "dict_store_locations.update({\"1282\":{\"Google_Address\":\"4 Pennsylvania Plaza, New York, NY 10001\",\"Google_Coor\":[40.7504956,-73.9935825]}})\n",
    "# '5905': ' Mohegan Sun Arena,  Uncasville,  CT, 6382,  US'\n",
    "dict_store_locations.update({\"5905\":{\"Google_Address\":\"1 Mohegan Sun Blvd, Uncasville, CT 06382\",\"Google_Coor\":[41.491589,-72.0916619]}})\n",
    "# '753': ' The Forum Los Angeles,  Inglewood,  CA, 90305,  US'\n",
    "dict_store_locations.update({\"753\":{\"Google_Address\":\"3900 W Manchester Blvd, Inglewood, CA 90305\",\"Google_Coor\":[33.9582053,-118.3420794]}})\n"
   ]
  },
  {
   "cell_type": "code",
   "execution_count": 8,
   "metadata": {
    "collapsed": true
   },
   "outputs": [],
   "source": [
    "df_TA['Google_Address']=df_TA['venue_id'].apply(lambda x: dict_store_locations[x]['Google_Address'])\n",
    "df_TA['Google_Coordinate']=df_TA['venue_id'].apply(lambda x: dict_store_locations[x]['Google_Coor'])"
   ]
  },
  {
   "cell_type": "code",
   "execution_count": 13,
   "metadata": {},
   "outputs": [],
   "source": [
    "df_TA=df_TA.reset_index()\n",
    "del df_TA['index']\n",
    "\n",
    "df_store_zip=pd.DataFrame()\n",
    "\n",
    "for ind,row in df_TA.iterrows():\n",
    "    store_center=row['Google_Coordinate']\n",
    "    zip_list=[]\n",
    "    store_zip=pd.DataFrame()\n",
    "    for zip_cd,v in zip_centers.items():\n",
    "        dist=haversine(store_center,v,miles=True) # unit=\"mi\"\n",
    "        if dist<=ratio_dist:\n",
    "            zip_list.append(zip_cd)\n",
    "            df=pd.DataFrame({\"dist_miles\":dist},index=[zip_cd])\n",
    "            store_zip=store_zip.append(df)\n",
    "    store_zip=store_zip.reset_index().rename(columns={\"index\":\"zip_cd\"})\n",
    "    store_zip['venue_id']=row['venue_id']\n",
    "    df_TA.loc[ind,'zip_list']=str(zip_list)\n",
    "    df_store_zip=df_store_zip.append(store_zip)"
   ]
  },
  {
   "cell_type": "code",
   "execution_count": 15,
   "metadata": {},
   "outputs": [],
   "source": [
    "df_TA['zip_list']=df_TA['zip_list'].apply(eval)"
   ]
  },
  {
   "cell_type": "code",
   "execution_count": 17,
   "metadata": {},
   "outputs": [
    {
     "data": {
      "text/plain": [
       "set()"
      ]
     },
     "execution_count": 17,
     "metadata": {},
     "output_type": "execute_result"
    }
   ],
   "source": [
    "set(df_TA.loc[1,'zip_list']).intersection(set(df_TA.loc[2,'zip_list'])) # No obvious overlap"
   ]
  },
  {
   "cell_type": "code",
   "execution_count": 19,
   "metadata": {},
   "outputs": [
    {
     "data": {
      "text/plain": [
       "(1391, 8)"
      ]
     },
     "execution_count": 19,
     "metadata": {},
     "output_type": "execute_result"
    }
   ],
   "source": [
    "temp_df=input_locations[['venue_id','venue_name','venue_city','venue_state','venue_postalCode','venue_country']].drop_duplicates()\n",
    "df_store_zip=pd.merge(temp_df,df_store_zip,on=\"venue_id\",how=\"left\")\n",
    "df_store_zip.shape"
   ]
  },
  {
   "cell_type": "code",
   "execution_count": 21,
   "metadata": {},
   "outputs": [
    {
     "data": {
      "text/plain": [
       "1391"
      ]
     },
     "execution_count": 21,
     "metadata": {},
     "output_type": "execute_result"
    }
   ],
   "source": [
    "df_store_zip['zip_cd'].nunique()"
   ]
  },
  {
   "cell_type": "code",
   "execution_count": 22,
   "metadata": {},
   "outputs": [],
   "source": [
    "writer=pd.ExcelWriter(\"./Trade_area_for_4_venue_locations_25_miles_JL_\"+str(datetime.datetime.now().date())+\".xlsx\",engine=\"xlsxwriter\")\n",
    "df_store_zip.to_excel(writer,\"by_store_zip\",index=False)\n",
    "df_TA.to_excel(writer,\"4_locations\",index=False)\n",
    "writer.save()"
   ]
  },
  {
   "cell_type": "code",
   "execution_count": null,
   "metadata": {
    "collapsed": true
   },
   "outputs": [],
   "source": []
  }
 ],
 "metadata": {
  "kernelspec": {
   "display_name": "Python 3",
   "language": "python",
   "name": "python3"
  },
  "language_info": {
   "codemirror_mode": {
    "name": "ipython",
    "version": 3
   },
   "file_extension": ".py",
   "mimetype": "text/x-python",
   "name": "python",
   "nbconvert_exporter": "python",
   "pygments_lexer": "ipython3",
   "version": "3.6.1"
  }
 },
 "nbformat": 4,
 "nbformat_minor": 2
}
