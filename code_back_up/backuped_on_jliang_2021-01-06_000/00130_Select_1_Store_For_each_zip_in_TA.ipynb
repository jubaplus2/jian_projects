{
 "cells": [
  {
   "cell_type": "code",
   "execution_count": 1,
   "metadata": {
    "collapsed": true
   },
   "outputs": [],
   "source": [
    "import haversine\n",
    "import pandas as pd"
   ]
  },
  {
   "cell_type": "code",
   "execution_count": 2,
   "metadata": {
    "collapsed": true
   },
   "outputs": [],
   "source": [
    "\n",
    "TA_level_zips=pd.read_excel(\"/home/jian/Projects/Big_Lots/New_TA/zips_in_new_ta/BL_Zips in new TA (TA level)_JL_20180330.xlsx\",dtype=str)\n",
    "TA_store=TA_level_zips[['location_id','TA_of_store']].drop_duplicates()\n",
    "TA_store=TA_store[TA_store['location_id']!=\"nan\"]\n",
    "TA_store=TA_store.rename(columns={\"TA_of_store\":\"TA\"})\n",
    "TA_store_count=TA_level_zips[['TA_of_zip','Total Store Count in TA (based on zip)']].drop_duplicates()\n",
    "TA_store_count=TA_store_count[TA_store_count['Total Store Count in TA (based on zip)']!='nan']\n",
    "TA_store_count=TA_store_count.rename(columns={\"TA_of_zip\":\"TA\",\"Total Store Count in TA (based on zip)\":\"Store_Count\"})\n",
    "TA_store=pd.merge(TA_store,TA_store_count,on=\"TA\",how=\"left\")\n",
    "TA_store_1_store=TA_store[TA_store['Store_Count']==\"1\"]\n",
    "TA_store_multi_stores=TA_store[TA_store['Store_Count']!=\"1\"]\n",
    "\n",
    "TA_level_zips=TA_level_zips[['zip_cd','TA_of_zip','revenue_flag']].drop_duplicates()\n",
    "count_TA_by_zip=TA_level_zips.groupby(['zip_cd'])['TA_of_zip'].count().reset_index()\n",
    "count_TA_by_zip_1TA=count_TA_by_zip[count_TA_by_zip['TA_of_zip']==1]\n",
    "count_TA_by_zip_M_TA=count_TA_by_zip[count_TA_by_zip['TA_of_zip']>1]\n",
    "\n",
    "TA_level_zips_1TA_1_store=TA_level_zips[(TA_level_zips['TA_of_zip'].isin(TA_store_1_store['TA'])) & (TA_level_zips['zip_cd'].isin(count_TA_by_zip_1TA['zip_cd']))]\n",
    "TA_level_zips_1TA_M_stores=TA_level_zips[(TA_level_zips['TA_of_zip'].isin(TA_store_multi_stores['TA'])) & (TA_level_zips['zip_cd'].isin(count_TA_by_zip_1TA['zip_cd']))]\n",
    "TA_level_zips_M_TA_M_stores=TA_level_zips[TA_level_zips['zip_cd'].isin(count_TA_by_zip_M_TA['zip_cd'])]"
   ]
  },
  {
   "cell_type": "code",
   "execution_count": 3,
   "metadata": {
    "collapsed": true
   },
   "outputs": [],
   "source": [
    "del TA_store_1_store['Store_Count']\n",
    "TA_level_zips_1TA_1_store=pd.merge(TA_level_zips_1TA_1_store,TA_store_1_store,left_on=\"TA_of_zip\",right_on=\"TA\",how=\"left\")\n",
    "TA_level_zips_1TA_1_store=TA_level_zips_1TA_1_store[['zip_cd','revenue_flag','location_id']].drop_duplicates()\n",
    "TA_level_zips_1TA_1_store['location_id']=TA_level_zips_1TA_1_store['location_id'].astype(int)"
   ]
  },
  {
   "cell_type": "code",
   "execution_count": 4,
   "metadata": {
    "collapsed": true
   },
   "outputs": [],
   "source": [
    "Multiple_Zip_To_Stores=TA_level_zips_1TA_M_stores.append(TA_level_zips_M_TA_M_stores)\n",
    "Multiple_Zip_To_Stores=pd.merge(Multiple_Zip_To_Stores,TA_store,left_on=\"TA_of_zip\",right_on=\"TA\",how=\"left\")\n",
    "del Multiple_Zip_To_Stores['Store_Count']\n",
    "\n",
    "del Multiple_Zip_To_Stores['TA_of_zip']\n",
    "del Multiple_Zip_To_Stores['TA']\n",
    "Multiple_Zip_To_Stores['location_id']=Multiple_Zip_To_Stores['location_id'].astype(int)"
   ]
  },
  {
   "cell_type": "code",
   "execution_count": 5,
   "metadata": {
    "collapsed": true
   },
   "outputs": [],
   "source": [
    "Store_level_zip_sales=pd.read_csv(\"/home/jian/Projects/Big_Lots/New_TA/zips_in_new_ta/sales_by_zip (Store level).csv\")\n",
    "Store_level_zip_sales=Store_level_zip_sales[['net_transaction_amt','zip','revenue_flag','location_id']]\n",
    "Store_level_zip_sales['zip_cd']=Store_level_zip_sales['zip'].apply(lambda x: str(x).zfill(5))\n",
    "del Store_level_zip_sales['zip']\n",
    "Store_level_zip_sales.head(2)\n",
    "Store_level_zip_sales=Store_level_zip_sales.rename(columns={\"revenue_flag\":\"revenue_flag_Store\"})\n",
    "Store_level_zip_sales=Store_level_zip_sales[Store_level_zip_sales['location_id']!=6990]"
   ]
  },
  {
   "cell_type": "code",
   "execution_count": null,
   "metadata": {
    "collapsed": true
   },
   "outputs": [],
   "source": [
    "i=1\n",
    "import datetime\n",
    "agg_zip_store_in=pd.DataFrame()\n",
    "agg_zip_store_out=pd.DataFrame()\n",
    "for zip_cd,group in Multiple_Zip_To_Stores.groupby(['zip_cd']):\n",
    "    df=pd.merge(group,Store_level_zip_sales,on=[\"zip_cd\",\"location_id\"],how=\"left\")\n",
    "    df['revenue_flag_Store']=df['revenue_flag_Store'].fillna(\"XX\")\n",
    "    if \"P\" in df['revenue_flag_Store'].tolist():\n",
    "        df_in=df[df['revenue_flag_Store']==\"P\"]\n",
    "        if len(df_in)>1:\n",
    "            df_in=df_in.sort_values(['net_transaction_amt'],ascending=False).reset_index()\n",
    "            del df_in['index']\n",
    "            df_in=df_in.head(1)\n",
    "        agg_zip_store_in=agg_zip_store_in.append(df_in)\n",
    "    elif \"S\" in df['revenue_flag_Store'].tolist():\n",
    "        df_in=df[df['revenue_flag_Store']==\"S\"]\n",
    "        if len(df_in)>1:\n",
    "            df_in=df_in.sort_values(['net_transaction_amt'],ascending=False).reset_index()\n",
    "            del df_in['index']\n",
    "            df_in=df_in.head(1)\n",
    "        agg_zip_store_in=agg_zip_store_in.append(df_in)\n",
    "    elif \"T\" in df['revenue_flag_Store'].tolist():\n",
    "        df_in=df[df['revenue_flag_Store']==\"T\"]\n",
    "        if len(df_in)>1:\n",
    "            df_in=df_in.sort_values(['net_transaction_amt'],ascending=False).reset_index()\n",
    "            del df_in['index']\n",
    "            df_in=df_in.head(1)\n",
    "        agg_zip_store_in=agg_zip_store_in.append(df_in)\n",
    "    else:\n",
    "        df_out=df[['zip_cd','revenue_flag','location_id']].drop_duplicates()\n",
    "        agg_zip_store_out=agg_zip_store_out.append(df_out)\n",
    "\n",
    "    i=i+1\n",
    "    if i% 300 ==60:\n",
    "        print(i, datetime.datetime.now())\n"
   ]
  },
  {
   "cell_type": "code",
   "execution_count": null,
   "metadata": {
    "collapsed": true
   },
   "outputs": [],
   "source": [
    "gc.collect()\n",
    "store_list_1=pd.read_table(\"/home/jian/BiglotsCode/OtherInput/MediaStormStoreList_Nov15.txt\",dtype=str,sep=\"|\")\n",
    "store_list_2=pd.read_table(\"/home/jian/BiglotsCode/OtherInput/MediaStormStores_20180703.txt\",dtype=str,sep=\"|\")\n",
    "\n",
    "store_list_1=store_list_1[['location_id','longitude_meas','latitude_meas']]\n",
    "store_list_2=store_list_2[['location_id','longitude_meas','latitude_meas']]\n",
    "store_list_1=store_list_1[~store_list_1['location_id'].isin(store_list_2['location_id'])]\n",
    "store_list=store_list_2.append(store_list_1)\n",
    "store_list=store_list[store_list['location_id']!=\"6990\"]\n",
    "store_list=store_list[store_list['location_id']!=\"145\"]\n",
    "\n",
    "store_list['location_id']=store_list['location_id'].astype(int)\n",
    "store_list['latitude_meas']=store_list['latitude_meas'].astype(float)\n",
    "store_list['longitude_meas']=store_list['longitude_meas'].astype(float)"
   ]
  },
  {
   "cell_type": "code",
   "execution_count": null,
   "metadata": {
    "collapsed": true
   },
   "outputs": [],
   "source": [
    "zip_centers=json.load(open(\"/home/jian/Docs/Geo_mapping/center_of_rentrak_zip.json\",\"r\"))"
   ]
  },
  {
   "cell_type": "code",
   "execution_count": null,
   "metadata": {
    "collapsed": true
   },
   "outputs": [],
   "source": [
    "shortest_out=pd.DataFrame()\n",
    "agg_zip_store_out['distance']=np.nan\n",
    "for zip_cd,group in agg_zip_store_out.groupby(['zip_cd']):\n",
    "    df=pd.merge(group,store_list,on='location_id',how='left')\n",
    "    df=df.reset_index()\n",
    "    del df['index']\n",
    "\n",
    "    for i in range(len(df)):\n",
    "        zip_center=(df['latitude_meas'][i],df['longitude_meas'][i])\n",
    "        df['distance'][i]=haversine.haversine(zip_center,zip_centers[zip_cd],miles=True)\n",
    "        df=df.sort_values(['distance'])\n",
    "        df_agg=df.head(1)\n",
    "    shortest_out=shortest_out.append(df_agg)\n",
    "\n"
   ]
  },
  {
   "cell_type": "code",
   "execution_count": null,
   "metadata": {
    "collapsed": true
   },
   "outputs": [],
   "source": [
    "agg_zip_store_in['distance']=np.nan\n",
    "agg_zip_store_in=agg_zip_store_in.reset_index()\n",
    "del agg_zip_store_in['index']\n",
    "agg_zip_store_in=pd.merge(agg_zip_store_in,store_list,on='location_id',how='left')\n",
    "for i in range(len(agg_zip_store_in)):\n",
    "    zip_cd=agg_zip_store_in['zip_cd'][i]\n",
    "    store_loc=(agg_zip_store_in['latitude_meas'][i],agg_zip_store_in['longitude_meas'][i])\n",
    "    try:\n",
    "        agg_zip_store_in['distance'][i]=haversine.haversine(store_loc,zip_centers[zip_cd],miles=True)\n",
    "    except:\n",
    "        agg_zip_store_in['distance'][i]=\"Zip_Center_Missing\""
   ]
  },
  {
   "cell_type": "code",
   "execution_count": null,
   "metadata": {
    "collapsed": true
   },
   "outputs": [],
   "source": [
    "TA_level_zips_1TA_1_store['distance']=np.nan\n",
    "TA_level_zips_1TA_1_store=TA_level_zips_1TA_1_store.reset_index()\n",
    "del TA_level_zips_1TA_1_store['index']\n",
    "TA_level_zips_1TA_1_store=pd.merge(TA_level_zips_1TA_1_store,store_list,on='location_id',how='left')\n",
    "for i in range(len(TA_level_zips_1TA_1_store)):\n",
    "    zip_cd=TA_level_zips_1TA_1_store['zip_cd'][i]\n",
    "    store_loc=(TA_level_zips_1TA_1_store['latitude_meas'][i],TA_level_zips_1TA_1_store['longitude_meas'][i])\n",
    "    try:\n",
    "        TA_level_zips_1TA_1_store['distance'][i]=haversine.haversine(store_loc,zip_centers[zip_cd],miles=True)\n",
    "    except:\n",
    "        TA_level_zips_1TA_1_store['distance'][i]=\"Zip_Center_Missing\""
   ]
  },
  {
   "cell_type": "code",
   "execution_count": null,
   "metadata": {
    "collapsed": true
   },
   "outputs": [],
   "source": [
    "zip_store_1_to_1_Part_1=TA_level_zips_1TA_1_store[['zip_cd','revenue_flag','location_id','distance']]\n",
    "zip_store_1_to_1_Part_2=agg_zip_store_in[['zip_cd','revenue_flag','location_id','distance']]\n",
    "zip_store_1_to_1_Part_3=shortest_out[['zip_cd','revenue_flag','location_id','distance']]\n",
    "zip_store_1_to_1=zip_store_1_to_1_Part_1.append(zip_store_1_to_1_Part_2).append(zip_store_1_to_1_Part_3)"
   ]
  },
  {
   "cell_type": "code",
   "execution_count": null,
   "metadata": {
    "collapsed": true
   },
   "outputs": [],
   "source": [
    "zip_store_1_to_1=zip_store_1_to_1.drop_duplicates()\n",
    "zip_store_1_to_1.to_csv(\"/home/jian/BiglotsCode/OtherInput/Zip_in_TA_associated_Store_1_to_1.csv\",index=False)"
   ]
  }
 ],
 "metadata": {
  "kernelspec": {
   "display_name": "Python 3",
   "language": "python",
   "name": "python3"
  },
  "language_info": {
   "codemirror_mode": {
    "name": "ipython",
    "version": 3
   },
   "file_extension": ".py",
   "mimetype": "text/x-python",
   "name": "python",
   "nbconvert_exporter": "python",
   "pygments_lexer": "ipython3",
   "version": "3.6.1"
  }
 },
 "nbformat": 4,
 "nbformat_minor": 2
}
