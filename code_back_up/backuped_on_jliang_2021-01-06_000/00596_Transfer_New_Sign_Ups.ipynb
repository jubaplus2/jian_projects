{
 "cells": [
  {
   "cell_type": "code",
   "execution_count": 1,
   "metadata": {
    "collapsed": true
   },
   "outputs": [],
   "source": [
    "import pandas as pd\n",
    "import datetime\n",
    "import os\n",
    "import paramiko\n",
    "\n"
   ]
  },
  {
   "cell_type": "code",
   "execution_count": 2,
   "metadata": {},
   "outputs": [
    {
     "data": {
      "text/plain": [
       "14"
      ]
     },
     "execution_count": 2,
     "metadata": {},
     "output_type": "execute_result"
    }
   ],
   "source": [
    "def recrusive_file_gen(root_folder):\n",
    "    for root,dirs,files in os.walk(root_folder):\n",
    "        for file in files:\n",
    "            yield os.path.join(root,file)\n",
    "            \n",
    "start_date=\"2018-11-04\"\n",
    "end_date=\"2018-12-31\"\n",
    "\n",
    "master_files=list(recrusive_file_gen(\"/home/jian/BigLots/2018_by_weeks/\"))\n",
    "master_files=[x for x in master_files if \"aster\" in x]\n",
    "len(master_files)"
   ]
  },
  {
   "cell_type": "code",
   "execution_count": 3,
   "metadata": {},
   "outputs": [],
   "source": [
    "master_files_df=pd.DataFrame({\"local_path\":master_files})\n",
    "master_files_df['week_end_dt']=master_files_df['local_path'].apply(lambda x: x.split(\"018_by_weeks/MediaStorm_\")[1][:10])\n",
    "master_files_df=master_files_df[master_files_df['week_end_dt']>=start_date]\n",
    "master_files_df=master_files_df[master_files_df['week_end_dt']<=end_date]"
   ]
  },
  {
   "cell_type": "code",
   "execution_count": 11,
   "metadata": {
    "collapsed": true
   },
   "outputs": [],
   "source": [
    "host = \"64.237.51.251\" #hard-coded\n",
    "port = 22\n",
    "transport = paramiko.Transport((host, port))\n",
    "\n",
    "password = \"jian@juba2017\" #hard-coded\n",
    "username = \"jian\" #hard-coded\n",
    "transport.connect(username = username, password = password)\n",
    "sftp = paramiko.SFTPClient.from_transport(transport)\n",
    "\n",
    "  "
   ]
  },
  {
   "cell_type": "code",
   "execution_count": 12,
   "metadata": {},
   "outputs": [],
   "source": [
    "for local_path in master_files_df['local_path'].unique().tolist():\n",
    "    week_end_date=local_path.split(\"/jian/BigLots/2018_by_weeks/MediaStorm_\")[1][:10]\n",
    "    basename=\"MediaStormMasterBiWeekly\"+\"_\"+week_end_date+\".txt\"\n",
    "    remote_name=\"/mnt/drv5/lr_biglots_data/NewSignUps_201811_Later/\"+basename\n",
    "    sftp.put(local_path,remote_name)\n",
    "    \n",
    "sftp.close()"
   ]
  },
  {
   "cell_type": "code",
   "execution_count": 8,
   "metadata": {},
   "outputs": [
    {
     "data": {
      "text/plain": [
       "'/home/jian/BigLots/2018_by_weeks/MediaStorm_2018-12-15/MediaStormMasterBiWeekly20181218-134118-875.txt'"
      ]
     },
     "execution_count": 8,
     "metadata": {},
     "output_type": "execute_result"
    }
   ],
   "source": [
    "local_path"
   ]
  },
  {
   "cell_type": "code",
   "execution_count": null,
   "metadata": {
    "collapsed": true
   },
   "outputs": [],
   "source": []
  }
 ],
 "metadata": {
  "kernelspec": {
   "display_name": "Python 3",
   "language": "python",
   "name": "python3"
  },
  "language_info": {
   "codemirror_mode": {
    "name": "ipython",
    "version": 3
   },
   "file_extension": ".py",
   "mimetype": "text/x-python",
   "name": "python",
   "nbconvert_exporter": "python",
   "pygments_lexer": "ipython3",
   "version": "3.6.1"
  }
 },
 "nbformat": 4,
 "nbformat_minor": 2
}
