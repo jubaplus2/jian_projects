{
 "cells": [
  {
   "cell_type": "code",
   "execution_count": 1,
   "metadata": {},
   "outputs": [],
   "source": [
    "# just upload existing audience and see the difference of the size between the LR uploaded and this new direcet upload\n",
    "\n",
    "import pandas as pd\n",
    "import os\n",
    "import numpy as np\n",
    "import datetime\n",
    "import glob\n",
    "\n",
    "from facebookads.api import FacebookAdsApi\n",
    "from facebookads.adobjects.adaccount import AdAccount\n",
    "from facebookads.adobjects.customaudience import CustomAudience\n"
   ]
  },
  {
   "cell_type": "code",
   "execution_count": 3,
   "metadata": {},
   "outputs": [],
   "source": [
    "BigLotsAccount_id=\"act_271491453638620\"\n",
    "\n",
    "jian_APP_ID=\"2537704939796694\"# jian's fb marketing app id\n",
    "jian_token=\"EAAkEB3l7ONYBAHsJtDc00ZBtZAW2ye9CRdKsy9ivLlzvgIMsEkZAyZA3mRpuGBF8IvZAR9obyYZCdzfw455nzMEW76A5ZBZBS6Fft2nQsUSs8sZCcGDZBZCbVeiCq0LMvekWjnnDZCuglkNihTAZAWIWTpvzaZBeZCKYywrPl0ZAsoWul36cyQZDZD\"\n",
    "\n",
    "def creatfbaudience(file_path,ACCESS_TOKEN,accountid,description,audience_name):\n",
    "    '''\n",
    "    input:\n",
    "    file_path: str, full_path, basename as the audience name on FB\n",
    "        make sure the columns contains the \"email_address_hash\", use this col only\n",
    "    \n",
    "    ACCESS_TOKEN: personal token #app id not needed\n",
    "    accountid: account_id starting with \"act_\", followed by the id str\n",
    "    as Nov. 20, 2019, latest verision is 'v5.0'\n",
    "    '''\n",
    "    FacebookAdsApi.init(access_token=ACCESS_TOKEN, api_version='v6.0')\n",
    "    myAccount = AdAccount(accountid)\n",
    "    fields = []\n",
    "    fbname=audience_name\n",
    "    params = {\n",
    "      'name': fbname,\n",
    "      'subtype': 'CUSTOM',\n",
    "      'description': description,\n",
    "      'customer_file_source': 'USER_PROVIDED_ONLY',\n",
    "    }\n",
    "    fbname = myAccount.create_custom_audience(\n",
    "      fields=fields,\n",
    "      params=params,\n",
    "    )['id']\n",
    "    \n",
    "    df=pd.read_csv(file_path,dtype=str,)\n",
    "    listlen = df.shape[0]\n",
    "    requestUrl = 'https://graph.facebook.com/v5.0/'+ fbname + '/users'\n",
    "    \n",
    "    chunck_size=50000\n",
    "    i_counter=0\n",
    "    for df_chunck in pd.read_csv(file_path,chunksize=chunck_size,dtype=str,usecols=[\"email_address_hash\"]):\n",
    "        payload = {}\n",
    "        payload['schema'] = ['EMAIL']\n",
    "        df_chunck=df_chunck.rename(columns={\"email_address_hash\":\"EMAIL\"})\n",
    "        df_chunck=df_chunck.drop_duplicates()\n",
    "        payload_data=df_chunck['EMAIL'].apply(lambda x: [x]).tolist()\n",
    "\n",
    "        payload['data'] = payload_data\n",
    "        params = {}\n",
    "        params ={'payload':payload} \n",
    "        CustomAudience(fbname).create_user(\n",
    "                      fields=fields,\n",
    "                      params=params,\n",
    "        )\n",
    "        i_counter+=1\n",
    "        print(i_counter,datetime.datetime.now())\n",
    "  \n",
    "\n",
    "    return 'All done: '+str(datetime.datetime.now())"
   ]
  },
  {
   "cell_type": "code",
   "execution_count": 4,
   "metadata": {},
   "outputs": [
    {
     "data": {
      "text/plain": [
       "'\\nNewReward_022220_P 82,849\\nNewReward_022220_S 33,813\\nNewReward_022220_T 78,052\\n'"
      ]
     },
     "execution_count": 4,
     "metadata": {},
     "output_type": "execute_result"
    }
   ],
   "source": [
    "# 1 0222_P\n",
    "'''\n",
    "Size\n",
    "55,000\n",
    "Description\n",
    "LR_LRData_BigLots_segmentnewsignups=NewReward022220P\n",
    "Type\n",
    "Custom Audience\n",
    "Shared by\n",
    "851984484996900\n",
    "'''\n",
    "\n",
    "# 2 0222_T\n",
    "'''\n",
    "Size\n",
    "62,000\n",
    "Description\n",
    "LR_LRData_BigLots_segmentnewsignups=NewReward022220T\n",
    "Type\n",
    "Custom Audience\n",
    "Shared by\n",
    "851984484996900\n",
    "'''\n",
    "\n",
    "# 3 0222_S\n",
    "'''\n",
    "Size\n",
    "25,000\n",
    "Description\n",
    "LR_LRData_BigLots_segmentnewsignups=NewReward022220S\n",
    "Type\n",
    "Custom Audience\n",
    "Shared by\n",
    "851984484996900\n",
    "'''\n",
    "\n",
    "# Total\n",
    "'''\n",
    "NewReward_022220_P 82,849\n",
    "NewReward_022220_S 33,813\n",
    "NewReward_022220_T 78,052\n",
    "'''"
   ]
  },
  {
   "cell_type": "code",
   "execution_count": 5,
   "metadata": {},
   "outputs": [
    {
     "data": {
      "text/plain": [
       "['/home/jian/celery/BiWeekly_New_SignUps/monthly_update/output_2020-02-22/NewReward_2020-02-22_P.csv',\n",
       " '/home/jian/celery/BiWeekly_New_SignUps/monthly_update/output_2020-02-22/NewReward_2020-02-22_S.csv',\n",
       " '/home/jian/celery/BiWeekly_New_SignUps/monthly_update/output_2020-02-22/NewReward_2020-02-22_T.csv']"
      ]
     },
     "execution_count": 5,
     "metadata": {},
     "output_type": "execute_result"
    }
   ],
   "source": [
    "# check the new upload to FB as test\n",
    "\n",
    "list_new_signs_uploaded_to_LR=glob.glob(\"/home/jian/celery/BiWeekly_New_SignUps/monthly_update/output_2020-02-22/*.csv\")\n",
    "list_new_signs_uploaded_to_LR"
   ]
  },
  {
   "cell_type": "code",
   "execution_count": 6,
   "metadata": {},
   "outputs": [
    {
     "name": "stdout",
     "output_type": "stream",
     "text": [
      "1 2020-03-03 10:48:37.816220\n",
      "2 2020-03-03 10:48:42.423448\n",
      "1 2020-03-03 10:48:49.538844\n",
      "1 2020-03-03 10:48:54.190403\n",
      "2 2020-03-03 10:48:59.401678\n"
     ]
    }
   ],
   "source": [
    "for local_file in list_new_signs_uploaded_to_LR:\n",
    "\n",
    "    creatfbaudience(file_path=local_file,\n",
    "                    ACCESS_TOKEN=jian_token,\n",
    "                    accountid=BigLotsAccount_id,\n",
    "                    description=\"test_no_use_JL_\"+os.path.basename(local_file).split(\".\")[0],\n",
    "                    audience_name=\"test_no_use_JL_\"+os.path.basename(local_file).split(\".\")[0]\n",
    "                   )"
   ]
  },
  {
   "cell_type": "code",
   "execution_count": null,
   "metadata": {},
   "outputs": [],
   "source": []
  }
 ],
 "metadata": {
  "kernelspec": {
   "display_name": "Python 3",
   "language": "python",
   "name": "python3"
  },
  "language_info": {
   "codemirror_mode": {
    "name": "ipython",
    "version": 3
   },
   "file_extension": ".py",
   "mimetype": "text/x-python",
   "name": "python",
   "nbconvert_exporter": "python",
   "pygments_lexer": "ipython3",
   "version": "3.6.1"
  }
 },
 "nbformat": 4,
 "nbformat_minor": 2
}
