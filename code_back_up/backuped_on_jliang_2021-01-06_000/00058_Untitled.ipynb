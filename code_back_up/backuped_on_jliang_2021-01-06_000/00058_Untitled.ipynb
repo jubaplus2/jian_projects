{
 "cells": [
  {
   "cell_type": "code",
   "execution_count": 4,
   "metadata": {},
   "outputs": [],
   "source": [
    "import json\n",
    "\n",
    "file_json_table=\"/mnt/clients/juba/hqjubaapp02/jliang/Projects/Big_Lots/Predictive_Model/Model_Scripts/table_names_%s.json\"%str(\"2020-11-07\").replace(\"-\",\"\")\n",
    "dict_tables=json.load(open(file_json_table,\"r\"))\n",
    "\n"
   ]
  },
  {
   "cell_type": "code",
   "execution_count": 5,
   "metadata": {},
   "outputs": [
    {
     "data": {
      "text/plain": [
       "{'table_dcm_id': '',\n",
       " 'table_id_from_crm': 'NEall_id_from_crm_pos_until_20201107',\n",
       " 'table_filtered_id': 'NEall_id_pos_until_20201107',\n",
       " 'table_filtered_pos': 'pred_pos_dept_NEall_id_pos_until_20201107',\n",
       " 'table_filtered_crm': 'crm_NEall_id_pos_until_20201107',\n",
       " 'table_max_trans_order': 'max_trans_NEall_id_pos_until_20201107',\n",
       " 'table_2_1': 'all_NEall_id_pred_pos_2_1_pos_until_20201107',\n",
       " 'table_2_2': 'all_NEall_id_pred_pos_2_2_pos_until_20201107',\n",
       " 'table_crm_id_list_train': 'crm_table_id_list_train_20201107',\n",
       " 'table_crm_id_list_test': 'crm_table_id_list_test_20201107',\n",
       " 'table_df_1': 'table_pred_1_crm_up_to_20201107'}"
      ]
     },
     "execution_count": 5,
     "metadata": {},
     "output_type": "execute_result"
    }
   ],
   "source": [
    "dict_tables"
   ]
  },
  {
   "cell_type": "code",
   "execution_count": null,
   "metadata": {},
   "outputs": [],
   "source": []
  }
 ],
 "metadata": {
  "kernelspec": {
   "display_name": "Python 3",
   "language": "python",
   "name": "python3"
  },
  "language_info": {
   "codemirror_mode": {
    "name": "ipython",
    "version": 3
   },
   "file_extension": ".py",
   "mimetype": "text/x-python",
   "name": "python",
   "nbconvert_exporter": "python",
   "pygments_lexer": "ipython3",
   "version": "3.7.6"
  }
 },
 "nbformat": 4,
 "nbformat_minor": 4
}
