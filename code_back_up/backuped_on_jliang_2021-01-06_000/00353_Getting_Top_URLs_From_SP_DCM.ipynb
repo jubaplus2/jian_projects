{
 "cells": [
  {
   "cell_type": "code",
   "execution_count": 42,
   "metadata": {},
   "outputs": [
    {
     "data": {
      "text/plain": [
       "'/home/jian/Projects/Big_Lots/Analysis/2018_Q4/URL_Pages'"
      ]
     },
     "execution_count": 42,
     "metadata": {},
     "output_type": "execute_result"
    }
   ],
   "source": [
    "import pandas as pd\n",
    "import datetime\n",
    "import numpy as np\n",
    "import glob\n",
    "import os\n",
    "os.getcwd()"
   ]
  },
  {
   "cell_type": "code",
   "execution_count": 43,
   "metadata": {},
   "outputs": [
    {
     "data": {
      "text/plain": [
       "31"
      ]
     },
     "execution_count": 43,
     "metadata": {},
     "output_type": "execute_result"
    }
   ],
   "source": [
    "sp_list=sorted(glob.glob('/home/jian/Projects/Big_Lots/Analysis/2018_Q4/URL_Pages/DCM_From_Sp/*.gz'))\n",
    "len(sp_list)"
   ]
  },
  {
   "cell_type": "code",
   "execution_count": 44,
   "metadata": {
    "collapsed": true
   },
   "outputs": [],
   "source": [
    "DMA_data=pd.DataFrame()\n",
    "for file_path in sp_list:\n",
    "    df=pd.read_table(file_path,delimiter='\\t',dtype=str)\n",
    "    df['Event Time']=df['Event Time'].astype(int)\n",
    "    df['Event Time']=df['Event Time'].apply(lambda x: datetime.datetime.utcfromtimestamp(x/1000000).strftime('%Y-%m-%d %H:%M:%S'))\n",
    "    DMA_data=DMA_data.append(df)\n",
    "DMA_data=DMA_data.sort_values('Event Time')"
   ]
  },
  {
   "cell_type": "code",
   "execution_count": 45,
   "metadata": {
    "collapsed": true
   },
   "outputs": [],
   "source": [
    "DMA_data_by_URL=DMA_data.groupby(['Activity ID'])['User ID'].count().to_frame().reset_index().rename(columns={\"User ID\":\"PageViews\"})\n",
    "DMA_data_by_URL=DMA_data_by_URL.sort_values('PageViews',ascending=False)\n",
    "DMA_data_by_URL.to_csv(\"/home/jian/Projects/Big_Lots/Analysis/2018_Q4/URL_Pages/BL_PageViews_From_DCM_by_Activity_ID_JL_\"+str(datetime.datetime.now().date())+\".csv\")\n"
   ]
  },
  {
   "cell_type": "code",
   "execution_count": 46,
   "metadata": {},
   "outputs": [
    {
     "data": {
      "text/html": [
       "<div>\n",
       "<style>\n",
       "    .dataframe thead tr:only-child th {\n",
       "        text-align: right;\n",
       "    }\n",
       "\n",
       "    .dataframe thead th {\n",
       "        text-align: left;\n",
       "    }\n",
       "\n",
       "    .dataframe tbody tr th {\n",
       "        vertical-align: top;\n",
       "    }\n",
       "</style>\n",
       "<table border=\"1\" class=\"dataframe\">\n",
       "  <thead>\n",
       "    <tr style=\"text-align: right;\">\n",
       "      <th></th>\n",
       "      <th>Event Time</th>\n",
       "      <th>User ID</th>\n",
       "      <th>Advertiser ID</th>\n",
       "      <th>Campaign ID</th>\n",
       "      <th>Ad ID</th>\n",
       "      <th>Rendering ID</th>\n",
       "      <th>Creative Version</th>\n",
       "      <th>Site ID (DCM)</th>\n",
       "      <th>Placement ID</th>\n",
       "      <th>Country Code</th>\n",
       "      <th>...</th>\n",
       "      <th>DBM Media Fee 4 (Advertiser Currency)</th>\n",
       "      <th>DBM Media Fee 5 (USD)</th>\n",
       "      <th>DBM Media Fee 5 (Partner Currency)</th>\n",
       "      <th>DBM Media Fee 5 (Advertiser Currency)</th>\n",
       "      <th>DBM Data Fees (USD)</th>\n",
       "      <th>DBM Data Fees (Partner Currency)</th>\n",
       "      <th>DBM Data Fees (Advertiser Currency)</th>\n",
       "      <th>DBM Billable Cost (USD)</th>\n",
       "      <th>DBM Billable Cost (Partner Currency)</th>\n",
       "      <th>DBM Billable Cost (Advertiser Currency)</th>\n",
       "    </tr>\n",
       "  </thead>\n",
       "  <tbody>\n",
       "    <tr>\n",
       "      <th>47</th>\n",
       "      <td>2018-12-01 06:03:46</td>\n",
       "      <td>0</td>\n",
       "      <td>NaN</td>\n",
       "      <td>NaN</td>\n",
       "      <td>NaN</td>\n",
       "      <td>NaN</td>\n",
       "      <td>NaN</td>\n",
       "      <td>NaN</td>\n",
       "      <td>NaN</td>\n",
       "      <td>US</td>\n",
       "      <td>...</td>\n",
       "      <td>0</td>\n",
       "      <td>0</td>\n",
       "      <td>0</td>\n",
       "      <td>0</td>\n",
       "      <td>0</td>\n",
       "      <td>0</td>\n",
       "      <td>0</td>\n",
       "      <td>0</td>\n",
       "      <td>0</td>\n",
       "      <td>0</td>\n",
       "    </tr>\n",
       "    <tr>\n",
       "      <th>91</th>\n",
       "      <td>2018-12-01 06:03:58</td>\n",
       "      <td>AMsySZYqLryRwbqGFc5a7yZRbVxm</td>\n",
       "      <td>NaN</td>\n",
       "      <td>NaN</td>\n",
       "      <td>NaN</td>\n",
       "      <td>NaN</td>\n",
       "      <td>NaN</td>\n",
       "      <td>NaN</td>\n",
       "      <td>NaN</td>\n",
       "      <td>US</td>\n",
       "      <td>...</td>\n",
       "      <td>0</td>\n",
       "      <td>0</td>\n",
       "      <td>0</td>\n",
       "      <td>0</td>\n",
       "      <td>0</td>\n",
       "      <td>0</td>\n",
       "      <td>0</td>\n",
       "      <td>0</td>\n",
       "      <td>0</td>\n",
       "      <td>0</td>\n",
       "    </tr>\n",
       "  </tbody>\n",
       "</table>\n",
       "<p>2 rows × 105 columns</p>\n",
       "</div>"
      ],
      "text/plain": [
       "             Event Time                       User ID Advertiser ID  \\\n",
       "47  2018-12-01 06:03:46                             0           NaN   \n",
       "91  2018-12-01 06:03:58  AMsySZYqLryRwbqGFc5a7yZRbVxm           NaN   \n",
       "\n",
       "   Campaign ID Ad ID Rendering ID Creative Version Site ID (DCM) Placement ID  \\\n",
       "47         NaN   NaN          NaN              NaN           NaN          NaN   \n",
       "91         NaN   NaN          NaN              NaN           NaN          NaN   \n",
       "\n",
       "   Country Code                   ...                    \\\n",
       "47           US                   ...                     \n",
       "91           US                   ...                     \n",
       "\n",
       "   DBM Media Fee 4 (Advertiser Currency) DBM Media Fee 5 (USD)  \\\n",
       "47                                     0                     0   \n",
       "91                                     0                     0   \n",
       "\n",
       "   DBM Media Fee 5 (Partner Currency) DBM Media Fee 5 (Advertiser Currency)  \\\n",
       "47                                  0                                     0   \n",
       "91                                  0                                     0   \n",
       "\n",
       "   DBM Data Fees (USD) DBM Data Fees (Partner Currency)  \\\n",
       "47                   0                                0   \n",
       "91                   0                                0   \n",
       "\n",
       "   DBM Data Fees (Advertiser Currency) DBM Billable Cost (USD)  \\\n",
       "47                                   0                       0   \n",
       "91                                   0                       0   \n",
       "\n",
       "   DBM Billable Cost (Partner Currency)  \\\n",
       "47                                    0   \n",
       "91                                    0   \n",
       "\n",
       "   DBM Billable Cost (Advertiser Currency)  \n",
       "47                                       0  \n",
       "91                                       0  \n",
       "\n",
       "[2 rows x 105 columns]"
      ]
     },
     "execution_count": 46,
     "metadata": {},
     "output_type": "execute_result"
    }
   ],
   "source": [
    "DMA_data.head(2)"
   ]
  },
  {
   "cell_type": "code",
   "execution_count": null,
   "metadata": {
    "collapsed": true
   },
   "outputs": [],
   "source": []
  }
 ],
 "metadata": {
  "kernelspec": {
   "display_name": "Python 3",
   "language": "python",
   "name": "python3"
  },
  "language_info": {
   "codemirror_mode": {
    "name": "ipython",
    "version": 3
   },
   "file_extension": ".py",
   "mimetype": "text/x-python",
   "name": "python",
   "nbconvert_exporter": "python",
   "pygments_lexer": "ipython3",
   "version": "3.6.1"
  }
 },
 "nbformat": 4,
 "nbformat_minor": 2
}
