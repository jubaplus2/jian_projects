{
 "cells": [
  {
   "cell_type": "code",
   "execution_count": 4,
   "metadata": {
    "collapsed": true
   },
   "outputs": [],
   "source": [
    "import pandas as pd\n",
    "import json\n",
    "from haversine import haversine\n",
    "import datetime\n",
    "today_str=str(datetime.datetime.now().date())\n",
    "\n",
    "# New: 5364; Old: 1661\n",
    "# New: 4677; Old: 4298\n"
   ]
  },
  {
   "cell_type": "code",
   "execution_count": 17,
   "metadata": {
    "collapsed": true
   },
   "outputs": [],
   "source": [
    "zip_centers=json.load(open(\"/home/jian/Docs/Geo_mapping/center_of_rentrak_zip.json\",\"r\"))"
   ]
  },
  {
   "cell_type": "code",
   "execution_count": 18,
   "metadata": {},
   "outputs": [
    {
     "data": {
      "text/plain": [
       "[39.39431056394285, -74.60182115610105]"
      ]
     },
     "execution_count": 18,
     "metadata": {},
     "output_type": "execute_result"
    }
   ],
   "source": []
  },
  {
   "cell_type": "code",
   "execution_count": 2,
   "metadata": {
    "collapsed": true
   },
   "outputs": [],
   "source": [
    "label_by_zip_store=pd.read_csv(\"/home/jian/Projects/Big_Lots/New_TA/Zips_within_10_miles/Relocated_Store_4677_5364/sales_by_zip (Store level).csv\",dtype=str)\n"
   ]
  },
  {
   "cell_type": "code",
   "execution_count": 15,
   "metadata": {},
   "outputs": [],
   "source": [
    "label_by_zip_store_5364=label_by_zip_store[label_by_zip_store['location_id']==\"1661\"][['zip','revenue_flag','location_id']]\n",
    "label_by_zip_store_5364=label_by_zip_store_5364.rename(columns={\"location_id\":\"old_store_num\"})\n",
    "label_by_zip_store_5364=label_by_zip_store_5364[label_by_zip_store_5364['revenue_flag'].isin([\"P\",\"S\"])]\n",
    "label_by_zip_store_5364['new_store_num']=\"5364\"\n",
    "label_by_zip_store_5364=label_by_zip_store_5364.sort_values(\"revenue_flag\").reset_index()\n",
    "del label_by_zip_store_5364['index']\n",
    "label_by_zip_store_4677=label_by_zip_store[label_by_zip_store['location_id']==\"4298\"][['zip','revenue_flag','location_id']]\n",
    "label_by_zip_store_4677=label_by_zip_store_4677.rename(columns={\"location_id\":\"old_store_num\"})\n",
    "label_by_zip_store_4677=label_by_zip_store_4677[label_by_zip_store_4677['revenue_flag'].isin([\"P\",\"S\"])]\n",
    "label_by_zip_store_4677['new_store_num']=\"4677\"\n",
    "label_by_zip_store_4677=label_by_zip_store_4677.sort_values(\"revenue_flag\").reset_index()\n",
    "del label_by_zip_store_4677['index']"
   ]
  },
  {
   "cell_type": "code",
   "execution_count": 19,
   "metadata": {},
   "outputs": [],
   "source": [
    "label_by_zip_store_5364['Dist_to_new_location']=label_by_zip_store_5364['zip'].apply(lambda x: haversine((39.4455858,-74.6288489),zip_centers[x],miles=True))\n",
    "label_by_zip_store_4677['Dist_to_new_location']=label_by_zip_store_4677['zip'].apply(lambda x: haversine((39.5776446,-119.7230628),zip_centers[x],miles=True))"
   ]
  },
  {
   "cell_type": "code",
   "execution_count": 22,
   "metadata": {},
   "outputs": [],
   "source": [
    "writer=pd.ExcelWriter(\"/home/jian/Projects/Big_Lots/New_TA/Zips_within_10_miles/Relocated_Store_4677_5364/P_S_zips_for relocated stores_\"+today_str+\".xlsx\",engine=\"xlsxwriter\")"
   ]
  },
  {
   "cell_type": "code",
   "execution_count": 23,
   "metadata": {},
   "outputs": [],
   "source": [
    "label_by_zip_store_5364.to_excel(writer,\"5364\",index=False)\n",
    "label_by_zip_store_4677.to_excel(writer,\"4677\",index=False)\n",
    "writer.save()"
   ]
  },
  {
   "cell_type": "code",
   "execution_count": null,
   "metadata": {
    "collapsed": true
   },
   "outputs": [],
   "source": []
  }
 ],
 "metadata": {
  "kernelspec": {
   "display_name": "Python 3",
   "language": "python",
   "name": "python3"
  },
  "language_info": {
   "codemirror_mode": {
    "name": "ipython",
    "version": 3
   },
   "file_extension": ".py",
   "mimetype": "text/x-python",
   "name": "python",
   "nbconvert_exporter": "python",
   "pygments_lexer": "ipython3",
   "version": "3.6.1"
  }
 },
 "nbformat": 4,
 "nbformat_minor": 2
}
