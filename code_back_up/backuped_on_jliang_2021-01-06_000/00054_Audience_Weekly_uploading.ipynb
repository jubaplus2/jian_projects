{
 "cells": [
  {
   "cell_type": "code",
   "execution_count": 1,
   "metadata": {},
   "outputs": [
    {
     "name": "stdout",
     "output_type": "stream",
     "text": [
      "high_date 2020-12-26\n",
      "str_date_last_week 2020-12-19\n"
     ]
    }
   ],
   "source": [
    "from facebookads.adobjects.customaudience import CustomAudience\n",
    "from facebookads.adobjects.adaccount import AdAccount\n",
    "from facebookads.api import FacebookAdsApi\n",
    "import json\n",
    "import pandas as pd\n",
    "import os\n",
    "import datetime\n",
    "import numpy as np\n",
    "import glob\n",
    "import sqlalchemy\n",
    "import time\n",
    "dict_config=json.load(open(\"/mnt/clients/juba/hqjubaapp02/jliang/Projects/Big_Lots/Predictive_Model/Model_Scripts/config.json\"))\n",
    "high_date=dict_config['pos_end_date']\n",
    "\n",
    "\n",
    "username=dict_config['username']\n",
    "password=dict_config['password']\n",
    "database=dict_config['database']\n",
    "BL_engine=sqlalchemy.create_engine(\"mysql+pymysql://%s:%s@localhost/%s\" % (username, password, database))\n",
    "output_folder=dict_config['model_output_folder'] # the mother folder\n",
    "\n",
    "\n",
    "BigLotsAccount_id=\"act_271491453638620\"\n",
    "BigLotsDcart10_id=\"act_2449979771956630\"\n",
    "\n",
    "list_account_id=[BigLotsAccount_id,BigLotsDcart10_id]\n",
    "# jian_APP_ID=\"2537704939796694\"# jian's fb marketing app id\n",
    "jian_token=json.load(open(\"/mnt/clients/juba/hqjubaapp02/sharefolder/Docs/FB_token/lasest_FB_token_jian.json\",\"r\"))['latest_FB_token']\n",
    "\n",
    "str_date_last_week=str(datetime.datetime.strptime(high_date,\"%Y-%m-%d\").date()-datetime.timedelta(days=7))\n",
    "print(\"high_date %s\"%high_date)\n",
    "print(\"str_date_last_week %s\"%str_date_last_week)\n"
   ]
  },
  {
   "cell_type": "code",
   "execution_count": 2,
   "metadata": {},
   "outputs": [],
   "source": [
    "df_id_email=pd.read_sql(\"select customer_id_hashed,email_address_hash from BL_Rewards_Master order by sign_up_date desc;\",con=BL_engine)\n",
    "df_id_email=df_id_email.drop_duplicates(\"customer_id_hashed\")"
   ]
  },
  {
   "cell_type": "code",
   "execution_count": 3,
   "metadata": {},
   "outputs": [],
   "source": [
    "def load_targeting_df(key_df_type,weekly_output_folder):\n",
    "    # The targeting label is already wrote in the csv file\n",
    "    # If new changes needed, we can overwrite based on the y_hat value\n",
    "    list_weekly_output=glob.glob(weekly_output_folder+\"/*.csv\")\n",
    "    file_id_list=[x for x in list_weekly_output if \"df_target_ids_labeled_20\" in x and key_df_type in x]\n",
    "    if len(file_id_list)==1:\n",
    "        file_id_list=file_id_list[0]\n",
    "    else:\n",
    "        raise ValueError(\"file_id_list file count is not 1 for %s\"%key_df_type)\n",
    "    df=pd.read_csv(file_id_list)\n",
    "    df=df[(df['selection_label']==\"target\") | (df['sign_up_label']==\"new_signs\") | (df['email_subscription_label']==\"unsub\")]\n",
    "    return df\n",
    "\n",
    "\n",
    "def load_targeting_df(key_df_type,weekly_output_folder):\n",
    "    # The targeting label is already wrote in the csv file\n",
    "    # If new changes needed, we can overwrite based on the y_hat value\n",
    "    list_weekly_output=glob.glob(weekly_output_folder+\"/*.csv\")\n",
    "    file_id_list=[x for x in list_weekly_output if \"df_target_ids_labeled_20\" in x and key_df_type in x]\n",
    "    if len(file_id_list)==1:\n",
    "        file_id_list=file_id_list[0]\n",
    "    else:\n",
    "        raise ValueError(\"file_id_list file count is not 1 for %s\"%key_df_type)\n",
    "    df=pd.read_csv(file_id_list)\n",
    "    df=df[(df['selection_label']==\"target\") | (df['sign_up_label']==\"new_signs\") | (df['email_subscription_label']==\"unsub\")]\n",
    "    return df \n",
    "\n",
    "def remove_ids_from_account(token,aud_id,list_ids_to_remove,fb_schema=CustomAudience.Schema.email_hash):\n",
    "    FacebookAdsApi.init(access_token=token, api_version='v8.0')\n",
    "    audience = CustomAudience(aud_id)\n",
    "    listlen=len(list_ids_to_remove)\n",
    "    \n",
    "    chunck_size=1000\n",
    "    count_removed=0\n",
    "    for i in range(int(np.ceil(listlen/chunck_size))):\n",
    "        starti = i*chunck_size\n",
    "        if (i+1)*chunck_size<listlen:\n",
    "            endi = (i+1)*chunck_size\n",
    "        else:\n",
    "            endi = listlen\n",
    "        list0 = list_ids_to_remove[starti:endi]\n",
    "        \n",
    "        count_removed+=len(list0)\n",
    "        audience.remove_users(fb_schema, list0)\n",
    "        time.sleep(1.2)\n",
    "    print(\"%i IDs removed from the audience id: %i\"%(count_removed,aud_id))\n",
    "    \n",
    "def add_ids_to_account(token,aud_id,list_ids_to_add,fb_schema=CustomAudience.Schema.email_hash):\n",
    "    FacebookAdsApi.init(access_token=token, api_version='v8.0')\n",
    "    audience = CustomAudience(aud_id)\n",
    "    listlen=len(list_ids_to_add)\n",
    "    \n",
    "    chunck_size=30000\n",
    "    count_added=0\n",
    "    for i in range(int(np.ceil(listlen/chunck_size))):\n",
    "        starti = i*chunck_size\n",
    "        if (i+1)*chunck_size<listlen:\n",
    "            endi = (i+1)*chunck_size\n",
    "        else:\n",
    "            endi = listlen\n",
    "        list0 = list_ids_to_add[starti:endi]\n",
    "        \n",
    "        count_added+=len(list0)\n",
    "        audience.add_users(fb_schema, list0)\n",
    "    print(\"%i IDs added to the audience id: %i\"%(count_added,aud_id))"
   ]
  },
  {
   "cell_type": "code",
   "execution_count": 4,
   "metadata": {},
   "outputs": [],
   "source": [
    "# Last week\n",
    "list_all_output_weekly_folder=os.listdir(output_folder)\n",
    "\n",
    "folder_weekly_output_lastweek=[x for x in list_all_output_weekly_folder if \"output_LastWeek_NoDCM_%s\"%str_date_last_week in x]\n",
    "if len(folder_weekly_output_lastweek)==1:\n",
    "    folder_weekly_output_lastweek=output_folder+folder_weekly_output_lastweek[0]\n",
    "    list_weekly_output_lastweek=glob.glob(folder_weekly_output_lastweek+\"/*.csv\")\n",
    "else:\n",
    "    raise ValueError(\"weekly output folder count is not 1\")\n"
   ]
  },
  {
   "cell_type": "code",
   "execution_count": 5,
   "metadata": {},
   "outputs": [],
   "source": [
    "list_all_output_weekly_folder=os.listdir(output_folder)\n",
    "folder_weekly_output_thisweek=[x for x in list_all_output_weekly_folder if \"output_LastWeek_NoDCM_%s\"%high_date in x]\n",
    "if len(folder_weekly_output_thisweek)==1:\n",
    "    folder_weekly_output_thisweek=output_folder+folder_weekly_output_thisweek[0]\n",
    "    list_weekly_output_thisweek=glob.glob(folder_weekly_output_thisweek+\"/*.csv\")\n",
    "else:\n",
    "    raise ValueError(\"weekly output folder count is not 1\")"
   ]
  },
  {
   "cell_type": "code",
   "execution_count": 6,
   "metadata": {},
   "outputs": [],
   "source": [
    "dict_predictive_fb_id={\"trans_1_only\":[23846273583640265,23846635244320632],\n",
    "                       \"trans_2_plus\":[23846273655130265,23846635282950632]}"
   ]
  },
  {
   "cell_type": "code",
   "execution_count": 7,
   "metadata": {},
   "outputs": [
    {
     "name": "stdout",
     "output_type": "stream",
     "text": [
      "len(list_email_addin) : 219114\n",
      "len(list_email_remove) : 245011\n",
      "245011 IDs removed from the audience id: 23846273583640265\n",
      "219114 IDs added to the audience id: 23846273583640265\n",
      "245011 IDs removed from the audience id: 23846635244320632\n",
      "219114 IDs added to the audience id: 23846635244320632\n"
     ]
    }
   ],
   "source": [
    "# Update trans_1_only\n",
    "key_df_type=\"trans_1_only\"\n",
    "    \n",
    "df_lastweek = load_targeting_df(key_df_type,folder_weekly_output_lastweek)\n",
    "df_thisweek = load_targeting_df(key_df_type,folder_weekly_output_thisweek)\n",
    "\n",
    "df_lastweek=pd.merge(df_lastweek,df_id_email,on=\"customer_id_hashed\",how=\"left\")\n",
    "df_thisweek=pd.merge(df_thisweek,df_id_email,on=\"customer_id_hashed\",how=\"left\")\n",
    "\n",
    "df_lastweek=df_lastweek[pd.notnull(df_lastweek['email_address_hash'])]\n",
    "df_thisweek=df_thisweek[pd.notnull(df_thisweek['email_address_hash'])]\n",
    "\n",
    "df_lastweek=df_lastweek[df_lastweek['email_address_hash'].apply(len)==64]\n",
    "df_thisweek=df_thisweek[df_thisweek['email_address_hash'].apply(len)==64]\n",
    "\n",
    "df_emails_lastweek=df_lastweek[['email_address_hash']].drop_duplicates()\n",
    "df_emails_lastweek['last_week_label']=1\n",
    "\n",
    "df_emails_thisweek=df_thisweek[['email_address_hash']].drop_duplicates()\n",
    "df_emails_thisweek['this_week_label']=1\n",
    "\n",
    "df_both_week=pd.merge(df_emails_lastweek,df_emails_thisweek,on=\"email_address_hash\",how=\"outer\")\n",
    "\n",
    "list_email_addin=df_both_week[pd.isnull(df_both_week['last_week_label'])]['email_address_hash'].tolist()\n",
    "list_email_remove=df_both_week[pd.isnull(df_both_week['this_week_label'])]['email_address_hash'].tolist()\n",
    "\n",
    "\n",
    "print(\"len(list_email_addin) : %i\"%len(list_email_addin))\n",
    "print(\"len(list_email_remove) : %i\"%len(list_email_remove))\n",
    "\n",
    "for fb_id in dict_predictive_fb_id[key_df_type]:\n",
    "    remove_ids_from_account(token=jian_token,\n",
    "                   aud_id=fb_id,\n",
    "                   list_ids_to_remove=list_email_remove,\n",
    "                   fb_schema=CustomAudience.Schema.email_hash)\n",
    "    add_ids_to_account(token=jian_token,\n",
    "                   aud_id=fb_id,\n",
    "                   list_ids_to_add=list_email_addin,\n",
    "                   fb_schema=CustomAudience.Schema.email_hash)\n"
   ]
  },
  {
   "cell_type": "code",
   "execution_count": 8,
   "metadata": {},
   "outputs": [
    {
     "name": "stdout",
     "output_type": "stream",
     "text": [
      "len(list_email_addin) : 727961\n",
      "len(list_email_remove) : 1025314\n",
      "1025314 IDs removed from the audience id: 23846273655130265\n",
      "727961 IDs added to the audience id: 23846273655130265\n",
      "1025314 IDs removed from the audience id: 23846635282950632\n",
      "727961 IDs added to the audience id: 23846635282950632\n"
     ]
    }
   ],
   "source": [
    "# Update trans_2_plus\n",
    "key_df_type=\"trans_2_plus\"\n",
    "\n",
    "\n",
    "df_lastweek = load_targeting_df(key_df_type,folder_weekly_output_lastweek)\n",
    "df_thisweek = load_targeting_df(key_df_type,folder_weekly_output_thisweek)\n",
    "\n",
    "df_lastweek=pd.merge(df_lastweek,df_id_email,on=\"customer_id_hashed\",how=\"left\")\n",
    "df_thisweek=pd.merge(df_thisweek,df_id_email,on=\"customer_id_hashed\",how=\"left\")\n",
    "\n",
    "df_lastweek=df_lastweek[pd.notnull(df_lastweek['email_address_hash'])]\n",
    "df_thisweek=df_thisweek[pd.notnull(df_thisweek['email_address_hash'])]\n",
    "\n",
    "df_lastweek=df_lastweek[df_lastweek['email_address_hash'].apply(len)==64]\n",
    "df_thisweek=df_thisweek[df_thisweek['email_address_hash'].apply(len)==64]\n",
    "\n",
    "df_emails_lastweek=df_lastweek[['email_address_hash']].drop_duplicates()\n",
    "df_emails_lastweek['last_week_label']=1\n",
    "\n",
    "df_emails_thisweek=df_thisweek[['email_address_hash']].drop_duplicates()\n",
    "df_emails_thisweek['this_week_label']=1\n",
    "\n",
    "df_both_week=pd.merge(df_emails_lastweek,df_emails_thisweek,on=\"email_address_hash\",how=\"outer\")\n",
    "\n",
    "list_email_addin=df_both_week[pd.isnull(df_both_week['last_week_label'])]['email_address_hash'].tolist()\n",
    "list_email_remove=df_both_week[pd.isnull(df_both_week['this_week_label'])]['email_address_hash'].tolist()\n",
    "\n",
    "\n",
    "print(\"len(list_email_addin) : %i\"%len(list_email_addin))\n",
    "print(\"len(list_email_remove) : %i\"%len(list_email_remove))\n",
    "\n",
    "for fb_id in dict_predictive_fb_id[key_df_type]:\n",
    "    remove_ids_from_account(token=jian_token,\n",
    "                   aud_id=fb_id,\n",
    "                   list_ids_to_remove=list_email_remove,\n",
    "                   fb_schema=CustomAudience.Schema.email_hash)\n",
    "    add_ids_to_account(token=jian_token,\n",
    "                   aud_id=fb_id,\n",
    "                   list_ids_to_add=list_email_addin,\n",
    "                   fb_schema=CustomAudience.Schema.email_hash)\n"
   ]
  },
  {
   "cell_type": "code",
   "execution_count": 9,
   "metadata": {},
   "outputs": [
    {
     "data": {
      "text/plain": [
       "'\\n1. Once the new folder is created by LR, use that as the remote folder to put in; The new csv file will replace the old\\n2. Write out the df_thisweek into a csv with 3 columns: id, email, and segment (feel free to create you segment name value and keep consistent)\\n3. put the local csv from step 2 into the folder, and check the UI for first a few times\\n4. Added in there into the crontab\\n\\n'"
      ]
     },
     "execution_count": 9,
     "metadata": {},
     "output_type": "execute_result"
    }
   ],
   "source": [
    "# To be added by you for put in file into LR SFTP\n",
    "'''\n",
    "1. Once the new folder is created by LR, use that as the remote folder to put in; The new csv file will replace the old\n",
    "2. Write out the df_thisweek into a csv with 3 columns: id, email, and segment (feel free to create you segment name value and keep consistent)\n",
    "3. put the local csv from step 2 into the folder, and check the UI for first a few times\n",
    "4. Added in there into the crontab\n",
    "\n",
    "'''\n"
   ]
  },
  {
   "cell_type": "code",
   "execution_count": null,
   "metadata": {},
   "outputs": [],
   "source": []
  }
 ],
 "metadata": {
  "kernelspec": {
   "display_name": "Python 3",
   "language": "python",
   "name": "python3"
  },
  "language_info": {
   "codemirror_mode": {
    "name": "ipython",
    "version": 3
   },
   "file_extension": ".py",
   "mimetype": "text/x-python",
   "name": "python",
   "nbconvert_exporter": "python",
   "pygments_lexer": "ipython3",
   "version": "3.7.6"
  }
 },
 "nbformat": 4,
 "nbformat_minor": 4
}
