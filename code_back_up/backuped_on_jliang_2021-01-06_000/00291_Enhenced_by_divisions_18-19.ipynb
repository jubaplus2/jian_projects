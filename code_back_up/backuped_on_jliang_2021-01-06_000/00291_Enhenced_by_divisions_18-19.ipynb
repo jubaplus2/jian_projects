{
 "cells": [
  {
   "cell_type": "code",
   "execution_count": 1,
   "metadata": {},
   "outputs": [
    {
     "name": "stdout",
     "output_type": "stream",
     "text": [
      "/home/jian/Projects/Big_Lots/Analysis/2019_Q4/Loyalty_Health\n",
      "2019-12-06 15:32:58.164694\n"
     ]
    }
   ],
   "source": [
    "import pandas as pd\n",
    "import os\n",
    "import numpy as np\n",
    "import datetime\n",
    "import glob\n",
    "print(os.getcwd())\n",
    "print(datetime.datetime.now())\n",
    "import gc\n",
    "def recursive_file_gen(root_folder):\n",
    "    for root, dirs, files in os.walk(root_folder):\n",
    "        for file in files:\n",
    "            yield os.path.join(root, file)\n",
    "            \n",
    "# os.listdir(os.getcwd())"
   ]
  },
  {
   "cell_type": "code",
   "execution_count": 2,
   "metadata": {},
   "outputs": [
    {
     "name": "stdout",
     "output_type": "stream",
     "text": [
      "df_id_defination['Active_Status'].unique() ['Active (0-12)' 'Lapsed (13-18)' 'Lapsed (19-48)']\n",
      "df_id_defination['HML_Group'].unique() ['H' 'M' 'L' nan]\n",
      "df_id_defination['zip_type'].unique() ['T' 'P' 'S' nan]\n",
      "(23357441, 4) 23357441\n",
      "(23357441, 4) 23357441\n"
     ]
    }
   ],
   "source": [
    "df_id_defination=pd.read_csv(\"./BL_Loyalty_Health_2018_2019_all_ids_JL_2019-11-12.csv\",\n",
    "                             dtype=str,usecols=['customer_id_hashed','Active_Status','HML_Group','zip_type'])\n",
    "print(\"df_id_defination['Active_Status'].unique()\",df_id_defination['Active_Status'].unique())\n",
    "print(\"df_id_defination['HML_Group'].unique()\",df_id_defination['HML_Group'].unique())\n",
    "print(\"df_id_defination['zip_type'].unique()\",df_id_defination['zip_type'].unique())\n",
    "\n",
    "print(df_id_defination.shape,df_id_defination['customer_id_hashed'].nunique())\n",
    "df_id_defination=df_id_defination.drop_duplicates()\n",
    "print(df_id_defination.shape,df_id_defination['customer_id_hashed'].nunique())"
   ]
  },
  {
   "cell_type": "code",
   "execution_count": 3,
   "metadata": {
    "collapsed": true
   },
   "outputs": [],
   "source": [
    "df_id_defination['HML_Group']=df_id_defination['HML_Group'].fillna(\"nan\")\n",
    "df_id_defination['zip_type']=df_id_defination['zip_type'].fillna(\"T\")"
   ]
  },
  {
   "cell_type": "code",
   "execution_count": 4,
   "metadata": {
    "collapsed": true
   },
   "outputs": [],
   "source": [
    "df_total_id_count=df_id_defination.groupby(['Active_Status','HML_Group','zip_type'])['customer_id_hashed'].count().to_frame().reset_index()\n"
   ]
  },
  {
   "cell_type": "markdown",
   "metadata": {},
   "source": [
    "# Sales in 1 year by division"
   ]
  },
  {
   "cell_type": "code",
   "execution_count": 8,
   "metadata": {},
   "outputs": [
    {
     "data": {
      "text/plain": [
       "['/home/jian/BigLots/hist_daily_data_itemlevel_decompressed/MediaStormDailySalesHistory20181006.txt',\n",
       " '/home/jian/BigLots/hist_daily_data_itemlevel_decompressed/MediaStormDailySalesHistory20181013.txt',\n",
       " '/home/jian/BigLots/hist_daily_data_itemlevel_decompressed/MediaStormDailySalesHistory20181020.txt',\n",
       " '/home/jian/BigLots/hist_daily_data_itemlevel_decompressed/MediaStormDailySalesHistory20181027.txt',\n",
       " '/home/jian/BigLots/hist_daily_data_itemlevel_decompressed/MediaStormDailySalesHistory20181103.txt',\n",
       " '/home/jian/BigLots/hist_daily_data_itemlevel_decompressed/MediaStormDailySalesHistory20181110.txt',\n",
       " '/home/jian/BigLots/hist_daily_data_itemlevel_decompressed/MediaStormDailySalesHistory20181117.txt',\n",
       " '/home/jian/BigLots/hist_daily_data_itemlevel_decompressed/MediaStormDailySalesHistory20181124.txt',\n",
       " '/home/jian/BigLots/hist_daily_data_itemlevel_decompressed/MediaStormDailySalesHistory20181201.txt',\n",
       " '/home/jian/BigLots/hist_daily_data_itemlevel_decompressed/MediaStormDailySalesHistory20181208.txt',\n",
       " '/home/jian/BigLots/hist_daily_data_itemlevel_decompressed/MediaStormDailySalesHistory20181215.txt',\n",
       " '/home/jian/BigLots/hist_daily_data_itemlevel_decompressed/MediaStormDailySalesHistory20181222.txt',\n",
       " '/home/jian/BigLots/hist_daily_data_itemlevel_decompressed/MediaStormDailySalesHistory20181229.txt',\n",
       " '/home/jian/BigLots/hist_daily_data_itemlevel_decompressed/MediaStormDailySalesHistory20190105.txt',\n",
       " '/home/jian/BigLots/hist_daily_data_itemlevel_decompressed/MediaStormDailySalesHistory20190112.txt',\n",
       " '/home/jian/BigLots/hist_daily_data_itemlevel_decompressed/MediaStormDailySalesHistory20190119.txt',\n",
       " '/home/jian/BigLots/hist_daily_data_itemlevel_decompressed/MediaStormDailySalesHistory20190126.txt',\n",
       " '/home/jian/BigLots/hist_daily_data_itemlevel_decompressed/MediaStormDailySalesHistory20190202.txt',\n",
       " '/home/jian/BigLots/hist_daily_data_itemlevel_decompressed/MediaStormDailySalesHistory20190209.txt']"
      ]
     },
     "execution_count": 8,
     "metadata": {},
     "output_type": "execute_result"
    }
   ],
   "source": [
    "# Hard coded below: 2018-10-01 to 2019-09-30\n",
    "\n",
    "historical_item_files=glob.glob(\"/home/jian/BigLots/hist_daily_data_itemlevel_decompressed/*.txt\")\n",
    "historical_item_files=[x for x in historical_item_files if x.split(\"/MediaStormDailySalesHistory\")[1][:8]>=\"201810\"]\n",
    "historical_item_files.sort()\n",
    "historical_item_files"
   ]
  },
  {
   "cell_type": "code",
   "execution_count": 9,
   "metadata": {},
   "outputs": [
    {
     "data": {
      "text/plain": [
       "['/home/jian/BigLots/2019_by_weeks/MediaStorm_2019-02-16/MediaStormDailySales20190219-113605-481.txt',\n",
       " '/home/jian/BigLots/2019_by_weeks/MediaStorm_2019-02-23/MediaStormDailySales20190226-112611-940.txt',\n",
       " '/home/jian/BigLots/2019_by_weeks/MediaStorm_2019-03-02/MediaStormDailySales20190305-112738-899.txt',\n",
       " '/home/jian/BigLots/2019_by_weeks/MediaStorm_2019-03-09/MediaStormDailySales20190312-121205-996.txt',\n",
       " '/home/jian/BigLots/2019_by_weeks/MediaStorm_2019-03-16/MediaStormDailySales20190319-112334-057.txt',\n",
       " '/home/jian/BigLots/2019_by_weeks/MediaStorm_2019-03-23/MediaStormDailySales20190326-112740-903.txt',\n",
       " '/home/jian/BigLots/2019_by_weeks/MediaStorm_2019-03-30/MediaStormDailySales20190402-112556-551.txt',\n",
       " '/home/jian/BigLots/2019_by_weeks/MediaStorm_2019-04-06/MediaStormDailySales20190409-122759-093.txt',\n",
       " '/home/jian/BigLots/2019_by_weeks/MediaStorm_2019-04-13/MediaStormDailySales20190416-112824-908.txt',\n",
       " '/home/jian/BigLots/2019_by_weeks/MediaStorm_2019-04-20/MediaStormDailySales20190423-112124-771.txt',\n",
       " '/home/jian/BigLots/2019_by_weeks/MediaStorm_2019-04-27/MediaStormDailySales20190430-112453-448.txt',\n",
       " '/home/jian/BigLots/2019_by_weeks/MediaStorm_2019-05-04/MediaStormDailySales20190507-113110-141.txt',\n",
       " '/home/jian/BigLots/2019_by_weeks/MediaStorm_2019-05-11/MediaStormDailySales20190514-121223-405.txt',\n",
       " '/home/jian/BigLots/2019_by_weeks/MediaStorm_2019-05-18/MediaStormDailySales20190521-111232-391.txt',\n",
       " '/home/jian/BigLots/2019_by_weeks/MediaStorm_2019-05-25/MediaStormDailySales20190528-111211-863.txt',\n",
       " '/home/jian/BigLots/2019_by_weeks/MediaStorm_2019-06-01/MediaStormDailySales20190604-111936-950.txt',\n",
       " '/home/jian/BigLots/2019_by_weeks/MediaStorm_2019-06-08/MediaStormDailySales20190611-122013-442.txt',\n",
       " '/home/jian/BigLots/2019_by_weeks/MediaStorm_2019-06-15/MediaStormDailySales20190618-112500-846.txt',\n",
       " '/home/jian/BigLots/2019_by_weeks/MediaStorm_2019-06-22/MediaStormDailySales20190625-111927-257.txt',\n",
       " '/home/jian/BigLots/2019_by_weeks/MediaStorm_2019-06-29/MediaStormDailySales20190702-113523-928.txt',\n",
       " '/home/jian/BigLots/2019_by_weeks/MediaStorm_2019-07-06/MediaStormDailySales20190709-115715-409.txt',\n",
       " '/home/jian/BigLots/2019_by_weeks/MediaStorm_2019-07-13/MediaStormDailySales20190716-122903-926.txt',\n",
       " '/home/jian/BigLots/2019_by_weeks/MediaStorm_2019-07-20/MediaStormDailySales20190723-112837-593.txt',\n",
       " '/home/jian/BigLots/2019_by_weeks/MediaStorm_2019-07-27/MediaStormDailySales20190730-113653-224.txt',\n",
       " '/home/jian/BigLots/2019_by_weeks/MediaStorm_2019-08-03/MediaStormDailySales20190806-113917-862.txt',\n",
       " '/home/jian/BigLots/2019_by_weeks/MediaStorm_2019-08-10/MediaStormDailySales20190813-120541-143.txt',\n",
       " '/home/jian/BigLots/2019_by_weeks/MediaStorm_2019-08-17/MediaStormDailySales20190820-113628-440.txt',\n",
       " '/home/jian/BigLots/2019_by_weeks/MediaStorm_2019-08-24/MediaStormDailySales20190827-113630-114.txt',\n",
       " '/home/jian/BigLots/2019_by_weeks/MediaStorm_2019-08-31/MediaStormDailySales20190903-113649-462.txt',\n",
       " '/home/jian/BigLots/2019_by_weeks/MediaStorm_2019-09-07/MediaStormDailySales20190910-120643-163.txt',\n",
       " '/home/jian/BigLots/2019_by_weeks/MediaStorm_2019-09-14/MediaStormDailySales20190917-110425-322.txt',\n",
       " '/home/jian/BigLots/2019_by_weeks/MediaStorm_2019-09-21/MediaStormDailySales20190924-112126-506.txt',\n",
       " '/home/jian/BigLots/2019_by_weeks/MediaStorm_2019-09-28/MediaStormDailySales20191001-111241-312.txt',\n",
       " '/home/jian/BigLots/2019_by_weeks/MediaStorm_2019-10-05/MediaStormDailySales20191008-120723-038.txt']"
      ]
     },
     "execution_count": 9,
     "metadata": {},
     "output_type": "execute_result"
    }
   ],
   "source": [
    "daily_item_files_2019=list(recursive_file_gen(\"/home/jian/BigLots/2019_by_weeks/\"))\n",
    "daily_item_files_2019=[x for x in daily_item_files_2019 if x[-4:]==\".txt\" and \"daily\" in x.lower()]\n",
    "\n",
    "\n",
    "daily_item_files_2019=[x for x in daily_item_files_2019 if x.split(\"eks/MediaStorm_\")[1][:10]>=\"2019-02-16\"]\n",
    "daily_item_files_2019=[x for x in daily_item_files_2019 if x.split(\"eks/MediaStorm_\")[1][:10]<=\"2019-10-07\"]\n",
    "daily_item_files_2019"
   ]
  },
  {
   "cell_type": "code",
   "execution_count": 10,
   "metadata": {},
   "outputs": [
    {
     "data": {
      "text/plain": [
       "53"
      ]
     },
     "execution_count": 10,
     "metadata": {},
     "output_type": "execute_result"
    }
   ],
   "source": [
    "list_POS_item_in_1_year=historical_item_files+daily_item_files_2019\n",
    "len(list_POS_item_in_1_year)"
   ]
  },
  {
   "cell_type": "code",
   "execution_count": 11,
   "metadata": {},
   "outputs": [
    {
     "name": "stdout",
     "output_type": "stream",
     "text": [
      "(463, 2)\n",
      "(463, 3)\n"
     ]
    }
   ],
   "source": [
    "mapping_division_class=pd.read_table(\"/home/jian/BigLots/static_files/ProductTaxonomy/MediaStormProductTaxonomy20191101-134011-956.txt\",\n",
    "                                    dtype=str,sep=\"|\",usecols=['division_id','class_code_id']).drop_duplicates()\n",
    "print(mapping_division_class.shape)\n",
    "mapping_division_name=pd.read_table(\"/home/jian/BigLots/static_files/MediaStorm Data Extract - Division Names.txt\",sep=\"|\",dtype=str)\n",
    "mapping_division_class=pd.merge(mapping_division_class,mapping_division_name,on=\"division_id\",how=\"left\")\n",
    "print(mapping_division_class.shape)"
   ]
  },
  {
   "cell_type": "code",
   "execution_count": null,
   "metadata": {},
   "outputs": [
    {
     "name": "stdout",
     "output_type": "stream",
     "text": [
      "2019-12-06 16:07:43.570817 /home/jian/BigLots/hist_daily_data_itemlevel_decompressed/MediaStormDailySalesHistory20181006.txt\n",
      "0 2018-10-01 2018-10-06\n",
      "2019-12-06 16:09:12.206413 /home/jian/BigLots/hist_daily_data_itemlevel_decompressed/MediaStormDailySalesHistory20181013.txt\n",
      "1 2018-10-07 2018-10-13\n",
      "2019-12-06 16:10:46.153936 /home/jian/BigLots/hist_daily_data_itemlevel_decompressed/MediaStormDailySalesHistory20181020.txt\n",
      "2 2018-10-14 2018-10-20\n",
      "2019-12-06 16:12:36.145997 /home/jian/BigLots/hist_daily_data_itemlevel_decompressed/MediaStormDailySalesHistory20181027.txt\n",
      "3 2018-10-21 2018-10-27\n",
      "2019-12-06 16:14:33.126199 /home/jian/BigLots/hist_daily_data_itemlevel_decompressed/MediaStormDailySalesHistory20181103.txt\n",
      "4 2018-10-28 2018-11-03\n",
      "2019-12-06 16:16:38.670546 /home/jian/BigLots/hist_daily_data_itemlevel_decompressed/MediaStormDailySalesHistory20181110.txt\n",
      "5 2018-11-04 2018-11-10\n",
      "2019-12-06 16:19:05.566973 /home/jian/BigLots/hist_daily_data_itemlevel_decompressed/MediaStormDailySalesHistory20181117.txt\n",
      "6 2018-11-11 2018-11-17\n",
      "2019-12-06 16:22:29.166687 /home/jian/BigLots/hist_daily_data_itemlevel_decompressed/MediaStormDailySalesHistory20181124.txt\n",
      "7 2018-11-18 2018-11-24\n",
      "2019-12-06 16:26:01.390718 /home/jian/BigLots/hist_daily_data_itemlevel_decompressed/MediaStormDailySalesHistory20181201.txt\n",
      "8 2018-11-25 2018-12-01\n",
      "2019-12-06 16:29:52.902057 /home/jian/BigLots/hist_daily_data_itemlevel_decompressed/MediaStormDailySalesHistory20181208.txt\n",
      "9 2018-12-02 2018-12-08\n",
      "2019-12-06 16:33:53.329880 /home/jian/BigLots/hist_daily_data_itemlevel_decompressed/MediaStormDailySalesHistory20181215.txt\n",
      "10 2018-12-09 2018-12-15\n",
      "2019-12-06 16:38:41.026013 /home/jian/BigLots/hist_daily_data_itemlevel_decompressed/MediaStormDailySalesHistory20181222.txt\n",
      "11 2018-12-16 2018-12-22\n",
      "2019-12-06 16:41:53.649236 /home/jian/BigLots/hist_daily_data_itemlevel_decompressed/MediaStormDailySalesHistory20181229.txt\n",
      "12 2018-12-23 2018-12-29\n",
      "2019-12-06 16:44:13.629148 /home/jian/BigLots/hist_daily_data_itemlevel_decompressed/MediaStormDailySalesHistory20190105.txt\n",
      "13 2018-12-30 2019-01-05\n",
      "2019-12-06 16:46:30.333724 /home/jian/BigLots/hist_daily_data_itemlevel_decompressed/MediaStormDailySalesHistory20190112.txt\n",
      "14 2019-01-06 2019-01-12\n",
      "2019-12-06 16:49:10.276224 /home/jian/BigLots/hist_daily_data_itemlevel_decompressed/MediaStormDailySalesHistory20190119.txt\n",
      "15 2019-01-13 2019-01-19\n",
      "2019-12-06 16:51:35.333921 /home/jian/BigLots/hist_daily_data_itemlevel_decompressed/MediaStormDailySalesHistory20190126.txt\n",
      "16 2019-01-20 2019-01-26\n",
      "2019-12-06 16:53:33.968539 /home/jian/BigLots/hist_daily_data_itemlevel_decompressed/MediaStormDailySalesHistory20190202.txt\n",
      "17 2019-01-27 2019-02-02\n",
      "2019-12-06 16:55:41.035139 /home/jian/BigLots/hist_daily_data_itemlevel_decompressed/MediaStormDailySalesHistory20190209.txt\n",
      "18 2019-02-03 2019-02-09\n",
      "2019-12-06 16:57:44.655675 /home/jian/BigLots/2019_by_weeks/MediaStorm_2019-02-16/MediaStormDailySales20190219-113605-481.txt\n",
      "19 2019-02-10 2019-02-16\n",
      "2019-12-06 17:00:04.649013 /home/jian/BigLots/2019_by_weeks/MediaStorm_2019-02-23/MediaStormDailySales20190226-112611-940.txt\n",
      "20 2019-02-17 2019-02-23\n",
      "2019-12-06 17:02:31.803489 /home/jian/BigLots/2019_by_weeks/MediaStorm_2019-03-02/MediaStormDailySales20190305-112738-899.txt\n",
      "21 2019-02-24 2019-03-02\n",
      "2019-12-06 17:04:53.421510 /home/jian/BigLots/2019_by_weeks/MediaStorm_2019-03-09/MediaStormDailySales20190312-121205-996.txt\n",
      "22 2019-03-03 2019-03-09\n",
      "2019-12-06 17:07:24.237872 /home/jian/BigLots/2019_by_weeks/MediaStorm_2019-03-16/MediaStormDailySales20190319-112334-057.txt\n",
      "23 2019-03-10 2019-03-16\n",
      "2019-12-06 17:09:48.351720 /home/jian/BigLots/2019_by_weeks/MediaStorm_2019-03-23/MediaStormDailySales20190326-112740-903.txt\n",
      "24 2019-03-17 2019-03-23\n",
      "2019-12-06 17:12:15.885554 /home/jian/BigLots/2019_by_weeks/MediaStorm_2019-03-30/MediaStormDailySales20190402-112556-551.txt\n",
      "25 2019-03-24 2019-03-30\n",
      "2019-12-06 17:15:22.903227 /home/jian/BigLots/2019_by_weeks/MediaStorm_2019-04-06/MediaStormDailySales20190409-122759-093.txt\n",
      "26 2019-03-31 2019-04-06\n",
      "2019-12-06 17:18:18.309965 /home/jian/BigLots/2019_by_weeks/MediaStorm_2019-04-13/MediaStormDailySales20190416-112824-908.txt\n",
      "27 2019-04-07 2019-04-13\n",
      "2019-12-06 17:20:46.889024 /home/jian/BigLots/2019_by_weeks/MediaStorm_2019-04-20/MediaStormDailySales20190423-112124-771.txt\n",
      "28 2019-04-14 2019-04-20\n",
      "2019-12-06 17:22:57.159494 /home/jian/BigLots/2019_by_weeks/MediaStorm_2019-04-27/MediaStormDailySales20190430-112453-448.txt\n",
      "29 2019-04-21 2019-04-27\n",
      "2019-12-06 17:25:33.241058 /home/jian/BigLots/2019_by_weeks/MediaStorm_2019-05-04/MediaStormDailySales20190507-113110-141.txt\n",
      "30 2019-04-28 2019-05-04\n",
      "2019-12-06 17:27:54.867552 /home/jian/BigLots/2019_by_weeks/MediaStorm_2019-05-11/MediaStormDailySales20190514-121223-405.txt\n",
      "31 2019-05-05 2019-05-11\n",
      "2019-12-06 17:30:09.912837 /home/jian/BigLots/2019_by_weeks/MediaStorm_2019-05-18/MediaStormDailySales20190521-111232-391.txt\n",
      "32 2019-05-12 2019-05-18\n",
      "2019-12-06 17:32:42.710736 /home/jian/BigLots/2019_by_weeks/MediaStorm_2019-05-25/MediaStormDailySales20190528-111211-863.txt\n",
      "33 2019-05-19 2019-05-25\n",
      "2019-12-06 17:35:07.639407 /home/jian/BigLots/2019_by_weeks/MediaStorm_2019-06-01/MediaStormDailySales20190604-111936-950.txt\n",
      "34 2019-05-26 2019-06-01\n",
      "2019-12-06 17:37:31.748686 /home/jian/BigLots/2019_by_weeks/MediaStorm_2019-06-08/MediaStormDailySales20190611-122013-442.txt\n",
      "35 2019-06-02 2019-06-08\n",
      "2019-12-06 17:40:12.356022 /home/jian/BigLots/2019_by_weeks/MediaStorm_2019-06-15/MediaStormDailySales20190618-112500-846.txt\n",
      "36 2019-06-09 2019-06-15\n",
      "2019-12-06 17:42:40.950578 /home/jian/BigLots/2019_by_weeks/MediaStorm_2019-06-22/MediaStormDailySales20190625-111927-257.txt\n",
      "37 2019-06-16 2019-06-22\n",
      "2019-12-06 17:45:08.218997 /home/jian/BigLots/2019_by_weeks/MediaStorm_2019-06-29/MediaStormDailySales20190702-113523-928.txt\n",
      "38 2019-06-23 2019-06-29\n",
      "2019-12-06 17:47:54.700631 /home/jian/BigLots/2019_by_weeks/MediaStorm_2019-07-06/MediaStormDailySales20190709-115715-409.txt\n",
      "39 2019-06-30 2019-07-06\n",
      "2019-12-06 17:51:11.956122 /home/jian/BigLots/2019_by_weeks/MediaStorm_2019-07-13/MediaStormDailySales20190716-122903-926.txt\n",
      "40 2019-07-07 2019-07-13\n",
      "2019-12-06 17:54:24.204895 /home/jian/BigLots/2019_by_weeks/MediaStorm_2019-07-20/MediaStormDailySales20190723-112837-593.txt\n",
      "41 2019-07-14 2019-07-20\n",
      "2019-12-06 17:57:16.324495 /home/jian/BigLots/2019_by_weeks/MediaStorm_2019-07-27/MediaStormDailySales20190730-113653-224.txt\n",
      "42 2019-07-21 2019-07-27\n"
     ]
    }
   ],
   "source": [
    "# Grouped by in the loop\n",
    "df_sales_in_1_year_by_division=pd.DataFrame()\n",
    "i_counter=0\n",
    "for file in list_POS_item_in_1_year:\n",
    "    try:\n",
    "        df=pd.read_table(file,dtype=str,sep=\"|\",usecols=['customer_id_hashed','transaction_dt','transaction_id','location_id','item_transaction_amt','class_code_id'])\n",
    "        df=df.rename(columns={\"item_transaction_amt\":\"sales\"})\n",
    "    except:\n",
    "        df=pd.read_table(file,dtype=str,sep=\"|\",usecols=['customer_id_hashed','transaction_dt','transaction_id','location_id','subclass_transaction_amt','class_code_id'])\n",
    "        df=df.rename(columns={\"subclass_transaction_amt\":\"sales\"})\n",
    "        \n",
    "    df=df[pd.notnull(df['customer_id_hashed'])]\n",
    "    ###\n",
    "    df=df[df['transaction_dt']>=\"2018-10-01\"]\n",
    "    df=df[df['transaction_dt']<=\"2019-09-30\"]\n",
    "    ###\n",
    "    df=pd.merge(df,mapping_division_class,on=\"class_code_id\")\n",
    "    df['sales']=df['sales'].astype(float)\n",
    "    df_sales=df.groupby(['customer_id_hashed','transaction_dt','division_id','division_desc'])['sales'].sum().to_frame().reset_index()\n",
    "    \n",
    "    df_trans=df[['customer_id_hashed','transaction_dt','transaction_id','location_id','division_id','division_desc']].drop_duplicates()\n",
    "    df_trans['trans']=1\n",
    "    df_trans=df_trans.groupby(['customer_id_hashed','transaction_dt','division_id','division_desc'])['trans'].sum().to_frame().reset_index()\n",
    "    df=pd.merge(df_sales,df_trans,on=[\"customer_id_hashed\",'transaction_dt','division_id','division_desc'],how=\"outer\")\n",
    "    print(datetime.datetime.now(),file)\n",
    "    print(i_counter,df['transaction_dt'].min(),df['transaction_dt'].max())\n",
    "    \n",
    "    i_counter+=1\n",
    "    \n",
    "    df=df.groupby([\"customer_id_hashed\",\"division_id\",\"division_desc\"])['sales','trans'].sum().reset_index()\n",
    "    \n",
    "    df_sales_in_1_year_by_division=df_sales_in_1_year_by_division.append(df)\n"
   ]
  },
  {
   "cell_type": "code",
   "execution_count": null,
   "metadata": {},
   "outputs": [],
   "source": [
    "print(df_sales_in_1_year_by_division.shape)"
   ]
  },
  {
   "cell_type": "code",
   "execution_count": null,
   "metadata": {},
   "outputs": [],
   "source": [
    "gc.collect()\n",
    "# So far, by each week\n",
    "df_sales_in_1_year_by_division=df_sales_in_1_year_by_division.rename(columns={\"sales\":\"sales_in_1_year\"})\n",
    "df_sales_in_1_year_by_division=df_sales_in_1_year_by_division.rename(columns={\"trans\":\"trans_in_1_year\"})\n",
    "print(datetime.datetime.now(),df_sales_in_1_year_by_division.shape)\n",
    "df_sales_in_1_year_by_division.head(2)"
   ]
  },
  {
   "cell_type": "code",
   "execution_count": null,
   "metadata": {},
   "outputs": [],
   "source": [
    "df_sales_in_1_year_by_division[['customer_id_hashed','division_id']].drop_duplicates().shape"
   ]
  },
  {
   "cell_type": "code",
   "execution_count": null,
   "metadata": {},
   "outputs": [],
   "source": [
    "# Rolling up by year\n",
    "df_sales_in_1_year_by_division=df_sales_in_1_year_by_division.groupby(['customer_id_hashed','division_id','division_desc'])['sales_in_1_year','trans_in_1_year'].sum().reset_index()\n",
    "print(df_sales_in_1_year_by_division.shape)"
   ]
  },
  {
   "cell_type": "code",
   "execution_count": null,
   "metadata": {},
   "outputs": [],
   "source": [
    "df_id_defination=pd.merge(df_id_defination,df_sales_in_1_year_by_division,on=\"customer_id_hashed\",how=\"left\")\n",
    "df_id_defination.shape"
   ]
  },
  {
   "cell_type": "code",
   "execution_count": null,
   "metadata": {
    "collapsed": true
   },
   "outputs": [],
   "source": [
    "df_id_defination['shoppers_in_1_year']=np.where(pd.isnull(df_id_defination['sales_in_1_year']),0,1)"
   ]
  },
  {
   "cell_type": "code",
   "execution_count": null,
   "metadata": {},
   "outputs": [],
   "source": [
    "print(df_id_defination.shape)\n",
    "df_id_defination.head(2)"
   ]
  },
  {
   "cell_type": "code",
   "execution_count": null,
   "metadata": {
    "collapsed": true
   },
   "outputs": [],
   "source": [
    "# df_total_id_count # defined before merging with sales"
   ]
  },
  {
   "cell_type": "code",
   "execution_count": null,
   "metadata": {},
   "outputs": [],
   "source": [
    "df_output=df_id_defination.groupby([\"Active_Status\",'HML_Group','zip_type','division_id','division_desc'])['shoppers_in_1_year','sales_in_1_year','trans_in_1_year'].sum().reset_index()\n",
    "df_output.shape"
   ]
  },
  {
   "cell_type": "code",
   "execution_count": null,
   "metadata": {
    "collapsed": true
   },
   "outputs": [],
   "source": [
    "df_output.to_csv(\"./BL_2018Audience_Performance_in_summary_19_by_division_JL_\"+str(datetime.datetime.now().date())+\".csv\",index=False)"
   ]
  },
  {
   "cell_type": "code",
   "execution_count": null,
   "metadata": {
    "collapsed": true
   },
   "outputs": [],
   "source": []
  }
 ],
 "metadata": {
  "kernelspec": {
   "display_name": "Python 3",
   "language": "python",
   "name": "python3"
  },
  "language_info": {
   "codemirror_mode": {
    "name": "ipython",
    "version": 3
   },
   "file_extension": ".py",
   "mimetype": "text/x-python",
   "name": "python",
   "nbconvert_exporter": "python",
   "pygments_lexer": "ipython3",
   "version": "3.6.1"
  }
 },
 "nbformat": 4,
 "nbformat_minor": 2
}
