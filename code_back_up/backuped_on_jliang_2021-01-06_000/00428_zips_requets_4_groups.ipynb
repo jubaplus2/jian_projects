{
 "cells": [
  {
   "cell_type": "code",
   "execution_count": 1,
   "metadata": {},
   "outputs": [
    {
     "name": "stdout",
     "output_type": "stream",
     "text": [
      "2020-03-02 14:50:24.085836\n"
     ]
    }
   ],
   "source": [
    "import pandas as pd\n",
    "import numpy as np\n",
    "import datetime\n",
    "from haversine import haversine\n",
    "import os\n",
    "import json\n",
    "zip_centers=json.load(open(\"/home/jian/Docs/Geo_mapping/updated_zip_centers_JL_2019-05-23.json\",\"r\"))\n",
    "\n",
    "print(datetime.datetime.now())"
   ]
  },
  {
   "cell_type": "code",
   "execution_count": 2,
   "metadata": {},
   "outputs": [
    {
     "name": "stdout",
     "output_type": "stream",
     "text": [
      "(1403, 4) 1403\n"
     ]
    },
    {
     "data": {
      "text/plain": [
       "17.0"
      ]
     },
     "execution_count": 2,
     "metadata": {},
     "output_type": "execute_result"
    }
   ],
   "source": [
    "df_competition_P=pd.read_excel(\"./Biglots_Competitors_PS_Count_20200214 CC.xlsx\",dtype=str,sheet_name=\"P_counts\")\n",
    "df_competition_S=pd.read_excel(\"./Biglots_Competitors_PS_Count_20200214 CC.xlsx\",dtype=str,sheet_name=\"S_counts\")\n",
    "\n",
    "df_competition_P=df_competition_P[pd.notnull(df_competition_P['location_id'])]\n",
    "df_competition_P=df_competition_P[df_competition_P['location_id']!=\"nan\"]\n",
    "df_competition_S=df_competition_S[pd.notnull(df_competition_S['location_id'])]\n",
    "df_competition_S=df_competition_S[df_competition_S['location_id']!=\"nan\"]\n",
    "\n",
    "df_competition_P=df_competition_P.rename(columns={\"Competitor Count \":\"P_competitors\"})\n",
    "df_competition_S=df_competition_S.rename(columns={\"Competitor Count \":\"S_competitors\"})\n",
    "df_competition_P['P_competitors']=df_competition_P['P_competitors'].astype(int)\n",
    "df_competition_S['S_competitors']=df_competition_S['S_competitors'].astype(int)\n",
    "\n",
    "df_competition=pd.merge(df_competition_P,df_competition_S,on=\"location_id\",how=\"left\")\n",
    "df_competition['P_competitors']=df_competition['P_competitors'].fillna(0)\n",
    "df_competition['S_competitors']=df_competition['S_competitors'].fillna(0)\n",
    "\n",
    "df_competition['competitor_count']=df_competition['P_competitors']+df_competition['S_competitors']\n",
    "print(df_competition.shape,df_competition['location_id'].nunique())\n",
    "df_competition['competitor_count'].median()"
   ]
  },
  {
   "cell_type": "code",
   "execution_count": 3,
   "metadata": {},
   "outputs": [
    {
     "data": {
      "text/html": [
       "<div>\n",
       "<style scoped>\n",
       "    .dataframe tbody tr th:only-of-type {\n",
       "        vertical-align: middle;\n",
       "    }\n",
       "\n",
       "    .dataframe tbody tr th {\n",
       "        vertical-align: top;\n",
       "    }\n",
       "\n",
       "    .dataframe thead th {\n",
       "        text-align: right;\n",
       "    }\n",
       "</style>\n",
       "<table border=\"1\" class=\"dataframe\">\n",
       "  <thead>\n",
       "    <tr style=\"text-align: right;\">\n",
       "      <th></th>\n",
       "      <th>location_id</th>\n",
       "      <th>P_competitors</th>\n",
       "      <th>S_competitors</th>\n",
       "      <th>competitor_count</th>\n",
       "    </tr>\n",
       "  </thead>\n",
       "  <tbody>\n",
       "    <tr>\n",
       "      <th>0</th>\n",
       "      <td>1</td>\n",
       "      <td>3</td>\n",
       "      <td>17</td>\n",
       "      <td>20</td>\n",
       "    </tr>\n",
       "    <tr>\n",
       "      <th>1</th>\n",
       "      <td>3</td>\n",
       "      <td>4</td>\n",
       "      <td>15</td>\n",
       "      <td>19</td>\n",
       "    </tr>\n",
       "    <tr>\n",
       "      <th>2</th>\n",
       "      <td>29</td>\n",
       "      <td>6</td>\n",
       "      <td>0</td>\n",
       "      <td>6</td>\n",
       "    </tr>\n",
       "  </tbody>\n",
       "</table>\n",
       "</div>"
      ],
      "text/plain": [
       "  location_id  P_competitors  S_competitors  competitor_count\n",
       "0           1              3             17                20\n",
       "1           3              4             15                19\n",
       "2          29              6              0                 6"
      ]
     },
     "execution_count": 3,
     "metadata": {},
     "output_type": "execute_result"
    }
   ],
   "source": [
    "df_competition.head(3)"
   ]
  },
  {
   "cell_type": "code",
   "execution_count": 4,
   "metadata": {},
   "outputs": [
    {
     "name": "stdout",
     "output_type": "stream",
     "text": [
      "(1403, 2) 1403\n"
     ]
    }
   ],
   "source": [
    "df_competition=df_competition[['location_id','competitor_count']]\n",
    "\n",
    "# >=17 high, <=16 low\n",
    "df_competition['competition_label']=np.where(df_competition['competitor_count']>=17,\"H\",\"L\")\n",
    "df_competition=df_competition[['location_id','competition_label']]\n",
    "print(df_competition.shape,df_competition['location_id'].nunique())"
   ]
  },
  {
   "cell_type": "code",
   "execution_count": 5,
   "metadata": {},
   "outputs": [
    {
     "data": {
      "text/html": [
       "<div>\n",
       "<style scoped>\n",
       "    .dataframe tbody tr th:only-of-type {\n",
       "        vertical-align: middle;\n",
       "    }\n",
       "\n",
       "    .dataframe tbody tr th {\n",
       "        vertical-align: top;\n",
       "    }\n",
       "\n",
       "    .dataframe thead th {\n",
       "        text-align: right;\n",
       "    }\n",
       "</style>\n",
       "<table border=\"1\" class=\"dataframe\">\n",
       "  <thead>\n",
       "    <tr style=\"text-align: right;\">\n",
       "      <th></th>\n",
       "      <th>location_id</th>\n",
       "      <th>latitude_meas</th>\n",
       "      <th>longitude_meas</th>\n",
       "    </tr>\n",
       "  </thead>\n",
       "  <tbody>\n",
       "    <tr>\n",
       "      <th>0</th>\n",
       "      <td>3</td>\n",
       "      <td>33.421570</td>\n",
       "      <td>-82.018921</td>\n",
       "    </tr>\n",
       "    <tr>\n",
       "      <th>1</th>\n",
       "      <td>30</td>\n",
       "      <td>41.363132</td>\n",
       "      <td>-83.650909</td>\n",
       "    </tr>\n",
       "  </tbody>\n",
       "</table>\n",
       "</div>"
      ],
      "text/plain": [
       "  location_id  latitude_meas  longitude_meas\n",
       "0           3      33.421570      -82.018921\n",
       "1          30      41.363132      -83.650909"
      ]
     },
     "execution_count": 5,
     "metadata": {},
     "output_type": "execute_result"
    }
   ],
   "source": [
    "df_march_store_list=pd.read_table(\"/home/jian/BigLots/static_files/Store_list/MediaStormStores20200301-134228-900.txt\",dtype=str,sep=\"|\")\n",
    "df_march_store_list=df_march_store_list[['location_id','latitude_meas','longitude_meas']]\n",
    "df_march_store_list['latitude_meas']=df_march_store_list['latitude_meas'].astype(float)\n",
    "df_march_store_list['longitude_meas']=df_march_store_list['longitude_meas'].astype(float)\n",
    "df_march_store_list=df_march_store_list[df_march_store_list['location_id']!=\"6990\"]\n",
    "df_march_store_list=df_march_store_list[df_march_store_list['location_id']!=\"145\"]\n",
    "\n",
    "df_march_store_list.head(2)"
   ]
  },
  {
   "cell_type": "code",
   "execution_count": 7,
   "metadata": {},
   "outputs": [
    {
     "name": "stdout",
     "output_type": "stream",
     "text": [
      "['unique_zips_full_footprint', 'view_by_TA', 'view_by_store', 'view_for_Tableau']\n"
     ]
    },
    {
     "data": {
      "text/html": [
       "<div>\n",
       "<style scoped>\n",
       "    .dataframe tbody tr th:only-of-type {\n",
       "        vertical-align: middle;\n",
       "    }\n",
       "\n",
       "    .dataframe tbody tr th {\n",
       "        vertical-align: top;\n",
       "    }\n",
       "\n",
       "    .dataframe thead th {\n",
       "        text-align: right;\n",
       "    }\n",
       "</style>\n",
       "<table border=\"1\" class=\"dataframe\">\n",
       "  <thead>\n",
       "    <tr style=\"text-align: right;\">\n",
       "      <th></th>\n",
       "      <th>TA_num</th>\n",
       "      <th>ta_name</th>\n",
       "      <th>location_id</th>\n",
       "      <th>address_line_1</th>\n",
       "      <th>address_line_2</th>\n",
       "      <th>zip_cd</th>\n",
       "      <th>city_nm</th>\n",
       "      <th>state_nm</th>\n",
       "      <th>latitude_meas</th>\n",
       "      <th>longitude_meas</th>\n",
       "      <th>DMA</th>\n",
       "      <th>CTY</th>\n",
       "      <th>all_trans_P_zips</th>\n",
       "      <th>all_trans_S_zips</th>\n",
       "      <th>zips_in_10</th>\n",
       "      <th>trans_P_zips_70_within_TA</th>\n",
       "      <th>trans_S_zips_70_within_TA</th>\n",
       "    </tr>\n",
       "  </thead>\n",
       "  <tbody>\n",
       "    <tr>\n",
       "      <th>0</th>\n",
       "      <td>1</td>\n",
       "      <td>multiple_1</td>\n",
       "      <td>1949</td>\n",
       "      <td>3178 LAVON DR</td>\n",
       "      <td>NaN</td>\n",
       "      <td>75040</td>\n",
       "      <td>GARLAND</td>\n",
       "      <td>TX</td>\n",
       "      <td>32.945015</td>\n",
       "      <td>-96.619194</td>\n",
       "      <td>{'DALLAS-FT. WORTH'}</td>\n",
       "      <td>{'DALLAS'}</td>\n",
       "      <td>['75040', '75044', '75048', '75098']</td>\n",
       "      <td>['75089', '75042', '75043', '75041', '75088', ...</td>\n",
       "      <td>[]</td>\n",
       "      <td>['75040', '75098', '75044', '75048']</td>\n",
       "      <td>['75088', '75042', '75082', '75043', '75089', ...</td>\n",
       "    </tr>\n",
       "    <tr>\n",
       "      <th>1</th>\n",
       "      <td>1</td>\n",
       "      <td>multiple_1</td>\n",
       "      <td>1255</td>\n",
       "      <td>1418 W MOORE AVE</td>\n",
       "      <td>NaN</td>\n",
       "      <td>75160</td>\n",
       "      <td>TERRELL</td>\n",
       "      <td>TX</td>\n",
       "      <td>32.738772</td>\n",
       "      <td>-96.299877</td>\n",
       "      <td>{'DALLAS-FT. WORTH'}</td>\n",
       "      <td>{'HUNT', 'KAUFMAN', 'ROCKWALL'}</td>\n",
       "      <td>['75160', '75126', '75161']</td>\n",
       "      <td>['75142', '75169', '75474', '75143', '75114', ...</td>\n",
       "      <td>[]</td>\n",
       "      <td>['75126', '75161', '75160']</td>\n",
       "      <td>['75142', '75169', '75150', '75117', '75143', ...</td>\n",
       "    </tr>\n",
       "  </tbody>\n",
       "</table>\n",
       "</div>"
      ],
      "text/plain": [
       "  TA_num     ta_name location_id    address_line_1 address_line_2 zip_cd  \\\n",
       "0      1  multiple_1        1949     3178 LAVON DR            NaN  75040   \n",
       "1      1  multiple_1        1255  1418 W MOORE AVE            NaN  75160   \n",
       "\n",
       "   city_nm state_nm latitude_meas longitude_meas                   DMA  \\\n",
       "0  GARLAND       TX     32.945015     -96.619194  {'DALLAS-FT. WORTH'}   \n",
       "1  TERRELL       TX     32.738772     -96.299877  {'DALLAS-FT. WORTH'}   \n",
       "\n",
       "                               CTY                      all_trans_P_zips  \\\n",
       "0                       {'DALLAS'}  ['75040', '75044', '75048', '75098']   \n",
       "1  {'HUNT', 'KAUFMAN', 'ROCKWALL'}           ['75160', '75126', '75161']   \n",
       "\n",
       "                                    all_trans_S_zips zips_in_10  \\\n",
       "0  ['75089', '75042', '75043', '75041', '75088', ...         []   \n",
       "1  ['75142', '75169', '75474', '75143', '75114', ...         []   \n",
       "\n",
       "              trans_P_zips_70_within_TA  \\\n",
       "0  ['75040', '75098', '75044', '75048']   \n",
       "1           ['75126', '75161', '75160']   \n",
       "\n",
       "                           trans_S_zips_70_within_TA  \n",
       "0  ['75088', '75042', '75082', '75043', '75089', ...  \n",
       "1  ['75142', '75169', '75150', '75117', '75143', ...  "
      ]
     },
     "execution_count": 7,
     "metadata": {},
     "output_type": "execute_result"
    }
   ],
   "source": [
    "df_store_zips=pd.ExcelFile(\"/home/jian/Projects/Big_Lots/New_TA/TA_created_in_201906/final_output_20190718/BL_final_TA_updated_JL_2019-07-18.xlsx\")\n",
    "print(df_store_zips.sheet_names)\n",
    "df_store_zips=df_store_zips.parse(\"view_by_store\",dtype=str)\n",
    "df_store_zips.head(2)"
   ]
  },
  {
   "cell_type": "code",
   "execution_count": 8,
   "metadata": {},
   "outputs": [],
   "source": [
    "df_by_store_zips=pd.DataFrame()\n",
    "for ind,row in df_store_zips.iterrows():\n",
    "    store_num=row['location_id']\n",
    "    P_zips=pd.DataFrame({\"zip_cd\":eval(row['trans_P_zips_70_within_TA'])})\n",
    "    P_zips['zip_label']=\"P\"\n",
    "    S_zips=pd.DataFrame({\"zip_cd\":eval(row['trans_S_zips_70_within_TA'])})\n",
    "    S_zips['zip_label']=\"S\"\n",
    "    zips_in_10=pd.DataFrame({\"zip_cd\":eval(row['zips_in_10'])})\n",
    "    zips_in_10['zip_label']=\"zips_in_10\"\n",
    "    \n",
    "    df=pd.concat([P_zips,S_zips,zips_in_10])\n",
    "    df['location_id']=store_num\n",
    "    df_by_store_zips=df_by_store_zips.append(df)\n",
    "df_by_store_zips=df_by_store_zips[['location_id','zip_cd','zip_label']]\n",
    "\n",
    "df_output_in_TA=pd.merge(df_march_store_list,df_by_store_zips,on=\"location_id\",how=\"left\")\n",
    "\n",
    "df_output_new=df_output_in_TA[pd.isnull(df_output_in_TA['zip_cd'])]\n",
    "df_output_in_TA=df_output_in_TA[pd.notnull(df_output_in_TA['zip_cd'])]\n"
   ]
  },
  {
   "cell_type": "code",
   "execution_count": 9,
   "metadata": {},
   "outputs": [
    {
     "name": "stdout",
     "output_type": "stream",
     "text": [
      "(31, 5) 31\n",
      "(22575, 5) 1372\n"
     ]
    }
   ],
   "source": [
    "print(df_output_new.shape,df_output_new['location_id'].nunique())\n",
    "print(df_output_in_TA.shape,df_output_in_TA['location_id'].nunique())"
   ]
  },
  {
   "cell_type": "code",
   "execution_count": 10,
   "metadata": {},
   "outputs": [
    {
     "data": {
      "text/html": [
       "<div>\n",
       "<style scoped>\n",
       "    .dataframe tbody tr th:only-of-type {\n",
       "        vertical-align: middle;\n",
       "    }\n",
       "\n",
       "    .dataframe tbody tr th {\n",
       "        vertical-align: top;\n",
       "    }\n",
       "\n",
       "    .dataframe thead th {\n",
       "        text-align: right;\n",
       "    }\n",
       "</style>\n",
       "<table border=\"1\" class=\"dataframe\">\n",
       "  <thead>\n",
       "    <tr style=\"text-align: right;\">\n",
       "      <th></th>\n",
       "      <th>location_id</th>\n",
       "      <th>latitude_meas</th>\n",
       "      <th>longitude_meas</th>\n",
       "      <th>zip_cd</th>\n",
       "      <th>zip_label</th>\n",
       "    </tr>\n",
       "  </thead>\n",
       "  <tbody>\n",
       "    <tr>\n",
       "      <th>0</th>\n",
       "      <td>4679</td>\n",
       "      <td>42.723314</td>\n",
       "      <td>-84.424187</td>\n",
       "      <td>48919</td>\n",
       "      <td>zips_in_10</td>\n",
       "    </tr>\n",
       "    <tr>\n",
       "      <th>1</th>\n",
       "      <td>4679</td>\n",
       "      <td>42.723314</td>\n",
       "      <td>-84.424187</td>\n",
       "      <td>48912</td>\n",
       "      <td>zips_in_10</td>\n",
       "    </tr>\n",
       "    <tr>\n",
       "      <th>2</th>\n",
       "      <td>4679</td>\n",
       "      <td>42.723314</td>\n",
       "      <td>-84.424187</td>\n",
       "      <td>48930</td>\n",
       "      <td>zips_in_10</td>\n",
       "    </tr>\n",
       "  </tbody>\n",
       "</table>\n",
       "</div>"
      ],
      "text/plain": [
       "  location_id  latitude_meas  longitude_meas zip_cd   zip_label\n",
       "0        4679      42.723314      -84.424187  48919  zips_in_10\n",
       "1        4679      42.723314      -84.424187  48912  zips_in_10\n",
       "2        4679      42.723314      -84.424187  48930  zips_in_10"
      ]
     },
     "execution_count": 10,
     "metadata": {},
     "output_type": "execute_result"
    }
   ],
   "source": [
    "df_output_new=df_output_new.reset_index()\n",
    "del df_output_new['index']\n",
    "del df_output_new['zip_cd']\n",
    "del df_output_new['zip_label']\n",
    "\n",
    "df_new_zips=pd.DataFrame()\n",
    "for ind,row in df_output_new.iterrows():\n",
    "    store_center=(row['latitude_meas'],row['longitude_meas'])\n",
    "    list_store_10_zips=[]\n",
    "    for zip_cd,v in zip_centers.items():\n",
    "        dist=haversine(store_center,v,unit=\"mi\")\n",
    "        if dist<=10:\n",
    "            list_store_10_zips.append(zip_cd)\n",
    "    df=pd.DataFrame({\"zip_cd\":list_store_10_zips})\n",
    "    df['location_id']=row['location_id']\n",
    "    df_new_zips=df_new_zips.append(df)\n",
    "df_new_zips['zip_label']=\"zips_in_10\"\n",
    "df_new_zips=df_new_zips[['location_id','zip_cd','zip_label']]\n",
    "df_output_new=pd.merge(df_output_new,df_new_zips,on=\"location_id\",how=\"left\")\n",
    "df_output_new.head(3)"
   ]
  },
  {
   "cell_type": "code",
   "execution_count": 11,
   "metadata": {},
   "outputs": [
    {
     "data": {
      "text/plain": [
       "31"
      ]
     },
     "execution_count": 11,
     "metadata": {},
     "output_type": "execute_result"
    }
   ],
   "source": [
    "df_output_new['location_id'].nunique()"
   ]
  },
  {
   "cell_type": "code",
   "execution_count": 12,
   "metadata": {},
   "outputs": [
    {
     "data": {
      "text/html": [
       "<div>\n",
       "<style scoped>\n",
       "    .dataframe tbody tr th:only-of-type {\n",
       "        vertical-align: middle;\n",
       "    }\n",
       "\n",
       "    .dataframe tbody tr th {\n",
       "        vertical-align: top;\n",
       "    }\n",
       "\n",
       "    .dataframe thead th {\n",
       "        text-align: right;\n",
       "    }\n",
       "</style>\n",
       "<table border=\"1\" class=\"dataframe\">\n",
       "  <thead>\n",
       "    <tr style=\"text-align: right;\">\n",
       "      <th></th>\n",
       "      <th>location_id</th>\n",
       "      <th>latitude_meas</th>\n",
       "      <th>longitude_meas</th>\n",
       "      <th>zip_cd</th>\n",
       "      <th>zip_label</th>\n",
       "    </tr>\n",
       "  </thead>\n",
       "  <tbody>\n",
       "    <tr>\n",
       "      <th>0</th>\n",
       "      <td>3</td>\n",
       "      <td>33.42157</td>\n",
       "      <td>-82.018921</td>\n",
       "      <td>30906</td>\n",
       "      <td>P</td>\n",
       "    </tr>\n",
       "    <tr>\n",
       "      <th>1</th>\n",
       "      <td>3</td>\n",
       "      <td>33.42157</td>\n",
       "      <td>-82.018921</td>\n",
       "      <td>30904</td>\n",
       "      <td>S</td>\n",
       "    </tr>\n",
       "  </tbody>\n",
       "</table>\n",
       "</div>"
      ],
      "text/plain": [
       "  location_id  latitude_meas  longitude_meas zip_cd zip_label\n",
       "0           3       33.42157      -82.018921  30906         P\n",
       "1           3       33.42157      -82.018921  30904         S"
      ]
     },
     "execution_count": 12,
     "metadata": {},
     "output_type": "execute_result"
    }
   ],
   "source": [
    "df_output_in_TA.head(2)"
   ]
  },
  {
   "cell_type": "code",
   "execution_count": 13,
   "metadata": {},
   "outputs": [
    {
     "name": "stdout",
     "output_type": "stream",
     "text": [
      "1403\n",
      "1405\n"
     ]
    }
   ],
   "source": [
    "df_output_zip_store=df_output_in_TA.append(df_output_new)\n",
    "print(df_output_zip_store['location_id'].nunique())\n",
    "df_output_zip_store=pd.merge(df_competition,df_output_zip_store,on=\"location_id\",how=\"outer\")\n",
    "print(df_output_zip_store['location_id'].nunique())"
   ]
  },
  {
   "cell_type": "code",
   "execution_count": 14,
   "metadata": {},
   "outputs": [
    {
     "name": "stdout",
     "output_type": "stream",
     "text": [
      "(2, 1)\n"
     ]
    }
   ],
   "source": [
    "list_stores_filled_na_L_competition=df_output_zip_store[pd.isnull(df_output_zip_store['competition_label'])]['location_id'].unique().tolist()\n",
    "df_stores_filled_na_L_competition=pd.DataFrame({\"stores_without_competition_label\":list_stores_filled_na_L_competition})\n",
    "print(df_stores_filled_na_L_competition.shape)\n",
    "df_output_zip_store['competition_label']=df_output_zip_store['competition_label'].fillna(\"L\")"
   ]
  },
  {
   "cell_type": "code",
   "execution_count": 15,
   "metadata": {},
   "outputs": [],
   "source": [
    "df_SOTF=pd.read_excel(\"./BL Store List Report from Dom 2020 0131.xlsx\",sheet_name=\"Store List\",dtype=str)\n",
    "df_SOTF=df_SOTF[['Store',\"SOTF\"]]\n",
    "df_SOTF=df_SOTF[df_SOTF['SOTF']==\"Yes\"]\n",
    "df_SOTF=df_SOTF.rename(columns={\"Store\":\"location_id\"})\n",
    "df_SOTF['SOTF']=\"SOTF\""
   ]
  },
  {
   "cell_type": "code",
   "execution_count": 16,
   "metadata": {},
   "outputs": [
    {
     "name": "stdout",
     "output_type": "stream",
     "text": [
      "(23352, 7)\n"
     ]
    }
   ],
   "source": [
    "df_output_zip_store=pd.merge(df_output_zip_store,df_SOTF,on=\"location_id\",how=\"left\")\n",
    "df_output_zip_store['SOTF']=df_output_zip_store['SOTF'].fillna(\"Legacy\")\n",
    "print(df_output_zip_store.shape)\n",
    "\n",
    "df_output_zip_store.head(3)\n",
    "df_output_zip_store['current_open_label']=np.where(pd.isnull(df_output_zip_store['latitude_meas']),\"not_open\",\"open\")"
   ]
  },
  {
   "cell_type": "code",
   "execution_count": 17,
   "metadata": {},
   "outputs": [],
   "source": [
    "writer=pd.ExcelWriter(\"./BL_zips_by_competition_SOTF_JL_\"+str(datetime.datetime.now().date())+\".xlsx\",engine=\"xlsxwriter\")\n",
    "\n",
    "for seg, df_group in df_output_zip_store.groupby(['competition_label','SOTF']):\n",
    "    df_unique_zip=df_group[df_group['current_open_label']==\"open\"]\n",
    "    df_unique_zip=df_group[['competition_label','SOTF','zip_cd']].drop_duplicates()\n",
    "    df_unique_zip.to_excel(writer,\"_\".join(seg),index=False)\n",
    "df_output_zip_store.to_excel(writer,\"detials\",index=False)\n",
    "df_stores_filled_na_L_competition.to_excel(writer,\"stores_fill_L_competition\",index=False)\n",
    "writer.save()  "
   ]
  },
  {
   "cell_type": "code",
   "execution_count": null,
   "metadata": {},
   "outputs": [],
   "source": []
  }
 ],
 "metadata": {
  "kernelspec": {
   "display_name": "Python 3",
   "language": "python",
   "name": "python3"
  },
  "language_info": {
   "codemirror_mode": {
    "name": "ipython",
    "version": 3
   },
   "file_extension": ".py",
   "mimetype": "text/x-python",
   "name": "python",
   "nbconvert_exporter": "python",
   "pygments_lexer": "ipython3",
   "version": "3.6.1"
  }
 },
 "nbformat": 4,
 "nbformat_minor": 2
}
