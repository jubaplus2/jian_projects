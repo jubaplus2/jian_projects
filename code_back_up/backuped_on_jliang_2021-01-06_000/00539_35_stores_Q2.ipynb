{
 "cells": [
  {
   "cell_type": "code",
   "execution_count": 101,
   "metadata": {
    "collapsed": true
   },
   "outputs": [],
   "source": [
    "import pandas as pd\n",
    "import datetime\n",
    "import os\n",
    "import numpy as np"
   ]
  },
  {
   "cell_type": "code",
   "execution_count": 94,
   "metadata": {},
   "outputs": [
    {
     "data": {
      "text/plain": [
       "'/home/jian/Projects/Big_Lots/Analysis/2018_Q2_Post/SOTF_Post'"
      ]
     },
     "execution_count": 94,
     "metadata": {},
     "output_type": "execute_result"
    }
   ],
   "source": [
    "os.getcwd()"
   ]
  },
  {
   "cell_type": "code",
   "execution_count": 95,
   "metadata": {
    "collapsed": true
   },
   "outputs": [],
   "source": [
    "store_list=pd.read_excel('/home/jian/Projects/Big_Lots/Analysis/2018_Q2_Post/SOTF_Post/SOTF Wave 1 Store IDs_8.20.xlsx',\n",
    "                         dtype=str,sheetname=\"Stores_6_8\")\n",
    "store_set=set(store_list['SOTF'].unique().tolist())"
   ]
  },
  {
   "cell_type": "code",
   "execution_count": 96,
   "metadata": {
    "collapsed": true
   },
   "outputs": [],
   "source": [
    "store_wide_sales=pd.read_excel(\"/home/jian/Projects/Big_Lots/Analysis/2018_Q2_Post/SOTF_Post/wide_sales_date2018-09-01.xlsx\",\n",
    "                               dtype=str,sheetname=\"sales\")"
   ]
  },
  {
   "cell_type": "code",
   "execution_count": 97,
   "metadata": {
    "collapsed": true
   },
   "outputs": [],
   "source": [
    "store_wide_trans=pd.read_excel(\"/home/jian/Projects/Big_Lots/Analysis/2018_Q2_Post/SOTF_Post/wide_sales_date2018-09-01.xlsx\",\n",
    "                               dtype=str,sheetname=\"transactions\")"
   ]
  },
  {
   "cell_type": "code",
   "execution_count": 98,
   "metadata": {
    "collapsed": true
   },
   "outputs": [],
   "source": [
    "First_week_2018=datetime.date(2018,5,19)\n",
    "First_week_2017=datetime.date(2017,5,20)\n",
    "\n",
    "weeks_2018=[str(First_week_2018+datetime.timedelta(days=i*7)) for i in range(8)]\n",
    "weeks_2017=[str(First_week_2017+datetime.timedelta(days=i*7)) for i in range(8)]"
   ]
  },
  {
   "cell_type": "code",
   "execution_count": 99,
   "metadata": {
    "collapsed": true
   },
   "outputs": [],
   "source": [
    "SOTF_sales=store_wide_sales[['location_id']+weeks_2017+weeks_2018]\n",
    "SOTF_sales=SOTF_sales[SOTF_sales['location_id'].isin(store_set)]\n",
    "SOTF_trans=store_wide_trans[['location_id']+weeks_2017+weeks_2018]\n",
    "SOTF_trans=SOTF_trans[SOTF_trans['location_id'].isin(store_set)]\n"
   ]
  },
  {
   "cell_type": "code",
   "execution_count": 102,
   "metadata": {},
   "outputs": [],
   "source": [
    "for col in SOTF_trans.columns.tolist()[1:]:\n",
    "    SOTF_trans[col]=SOTF_trans[col].astype(int)\n",
    "    \n",
    "for col in SOTF_sales.columns.tolist()[1:]:\n",
    "    SOTF_sales[col]=SOTF_sales[col].apply(lambda x: np.round(float(x),2))"
   ]
  },
  {
   "cell_type": "markdown",
   "metadata": {},
   "source": [
    "# Rewards"
   ]
  },
  {
   "cell_type": "code",
   "execution_count": 9,
   "metadata": {
    "collapsed": true
   },
   "outputs": [],
   "source": [
    "start_2017=datetime.datetime.strptime(weeks_2017[0],\"%Y-%m-%d\").date()-datetime.timedelta(days=6)\n",
    "start_2018=datetime.datetime.strptime(weeks_2018[0],\"%Y-%m-%d\").date()-datetime.timedelta(days=6)\n",
    "end_2017=datetime.datetime.strptime(weeks_2017[7],\"%Y-%m-%d\").date()\n",
    "end_2018=datetime.datetime.strptime(weeks_2018[7],\"%Y-%m-%d\").date()"
   ]
  },
  {
   "cell_type": "code",
   "execution_count": 19,
   "metadata": {
    "collapsed": true
   },
   "outputs": [],
   "source": [
    "data_from_SP=pd.read_csv(\"/home/jian/Projects/Big_Lots/Loyal_members/loyalty_sales_data/From_Sp/combinedtransactions_0811.csv\",\n",
    "                        dtype=str,usecols=['customer_id_hashed','transaction_date','transaction_id','location_id','total_transaction_amt'])\n",
    "data_from_SP['transaction_date']=data_from_SP['transaction_date'].apply(lambda x: datetime.datetime.strptime(x,\"%Y-%m-%d\").date())\n",
    "data_from_SP=data_from_SP[(data_from_SP['transaction_date']>=start_2017) & (data_from_SP['transaction_date']<=end_2017) |\\\n",
    "                         (data_from_SP['transaction_date']>=start_2018) & (data_from_SP['transaction_date']<=end_2018)]\n",
    "data_from_SP=data_from_SP.drop_duplicates()"
   ]
  },
  {
   "cell_type": "code",
   "execution_count": 45,
   "metadata": {
    "collapsed": true
   },
   "outputs": [],
   "source": [
    "def week_end_func(x):\n",
    "    if x.weekday()==6:\n",
    "        week=x+datetime.timedelta(days=6)\n",
    "    else:\n",
    "        diff=x.weekday()\n",
    "        week=x+datetime.timedelta(days=5-diff)\n",
    "    return week\n",
    "        "
   ]
  },
  {
   "cell_type": "code",
   "execution_count": 52,
   "metadata": {
    "collapsed": true
   },
   "outputs": [],
   "source": [
    "data_from_SP['week_end_date']=data_from_SP['transaction_date'].apply(lambda x: week_end_func(x))\n",
    "data_from_SP=data_from_SP[data_from_SP['location_id'].isin(store_set)]\n",
    "data_from_SP['total_transaction_amt']=data_from_SP['total_transaction_amt'].astype(float)"
   ]
  },
  {
   "cell_type": "code",
   "execution_count": 105,
   "metadata": {
    "collapsed": true
   },
   "outputs": [],
   "source": [
    "rewards_by_week_sales=data_from_SP.groupby(['location_id','week_end_date'])['total_transaction_amt'].sum().to_frame().reset_index()\n",
    "rewards_by_week_trans=data_from_SP.groupby(['location_id','week_end_date'])['total_transaction_amt'].count().to_frame().reset_index()\n"
   ]
  },
  {
   "cell_type": "markdown",
   "metadata": {},
   "source": [
    "# Combine"
   ]
  },
  {
   "cell_type": "code",
   "execution_count": 106,
   "metadata": {
    "collapsed": true
   },
   "outputs": [],
   "source": [
    "output=store_list.copy()\n",
    "output=output.rename(columns={\"SOTF\":\"location_id\"})"
   ]
  },
  {
   "cell_type": "code",
   "execution_count": 107,
   "metadata": {
    "collapsed": true
   },
   "outputs": [],
   "source": [
    "output_store_total_sales=pd.merge(output,SOTF_sales,on=\"location_id\",how=\"left\")\n",
    "output_store_total_trans=pd.merge(output,SOTF_trans,on=\"location_id\",how=\"left\")"
   ]
  },
  {
   "cell_type": "code",
   "execution_count": null,
   "metadata": {
    "collapsed": true
   },
   "outputs": [],
   "source": []
  },
  {
   "cell_type": "code",
   "execution_count": 108,
   "metadata": {
    "collapsed": true
   },
   "outputs": [],
   "source": [
    "rewards_by_week_trans=rewards_by_week_trans.pivot(index=\"location_id\",columns=\"week_end_date\",values=\"total_transaction_amt\").reset_index()\n",
    "rewards_by_week_sales=rewards_by_week_sales.pivot(index=\"location_id\",columns=\"week_end_date\",values=\"total_transaction_amt\").reset_index()\n"
   ]
  },
  {
   "cell_type": "code",
   "execution_count": 109,
   "metadata": {
    "collapsed": true
   },
   "outputs": [],
   "source": [
    "output_store_rewards_sales=pd.merge(output,rewards_by_week_sales,on=\"location_id\",how=\"left\")\n",
    "output_store_rewards_trans=pd.merge(output,rewards_by_week_trans,on=\"location_id\",how=\"left\")"
   ]
  },
  {
   "cell_type": "code",
   "execution_count": 112,
   "metadata": {
    "collapsed": true
   },
   "outputs": [],
   "source": [
    "output_store_rewards_sales=output_store_rewards_sales.fillna(0)\n",
    "output_store_rewards_trans=output_store_rewards_trans.fillna(0)"
   ]
  },
  {
   "cell_type": "code",
   "execution_count": 113,
   "metadata": {
    "collapsed": true
   },
   "outputs": [],
   "source": [
    "writer=pd.ExcelWriter(\"/home/jian/Projects/Big_Lots/Analysis/2018_Q2_Post/SOTF_Post/\"+\"BL_35_stores_opened_20180608_JL_\"+str(datetime.datetime.now().date())+\".xlsx\",engine=\"xlsxwriter\")"
   ]
  },
  {
   "cell_type": "code",
   "execution_count": 114,
   "metadata": {
    "collapsed": true
   },
   "outputs": [],
   "source": [
    "output_store_total_sales.to_excel(writer,\"store_total_sales\",index=False)\n",
    "output_store_total_trans.to_excel(writer,\"store_total_trans\",index=False)\n",
    "output_store_rewards_sales.to_excel(writer,\"store_rewards_sales\",index=False)\n",
    "output_store_rewards_trans.to_excel(writer,\"store_rewards_trans\",index=False)\n",
    "writer.save()"
   ]
  },
  {
   "cell_type": "code",
   "execution_count": null,
   "metadata": {
    "collapsed": true
   },
   "outputs": [],
   "source": []
  },
  {
   "cell_type": "code",
   "execution_count": null,
   "metadata": {
    "collapsed": true
   },
   "outputs": [],
   "source": []
  },
  {
   "cell_type": "code",
   "execution_count": null,
   "metadata": {
    "collapsed": true
   },
   "outputs": [],
   "source": []
  }
 ],
 "metadata": {
  "kernelspec": {
   "display_name": "Python 3",
   "language": "python",
   "name": "python3"
  },
  "language_info": {
   "codemirror_mode": {
    "name": "ipython",
    "version": 3
   },
   "file_extension": ".py",
   "mimetype": "text/x-python",
   "name": "python",
   "nbconvert_exporter": "python",
   "pygments_lexer": "ipython3",
   "version": "3.6.1"
  }
 },
 "nbformat": 4,
 "nbformat_minor": 2
}
