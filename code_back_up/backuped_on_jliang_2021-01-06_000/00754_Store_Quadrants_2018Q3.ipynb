{
 "cells": [
  {
   "cell_type": "code",
   "execution_count": 1,
   "metadata": {
    "collapsed": true
   },
   "outputs": [],
   "source": [
    "import pandas as pd\n",
    "import os\n",
    "import numpy as np\n",
    "import datetime\n",
    "import hashlib\n",
    "import gc\n",
    "samplerows=np.nan"
   ]
  },
  {
   "cell_type": "code",
   "execution_count": 2,
   "metadata": {
    "collapsed": true
   },
   "outputs": [],
   "source": [
    "store_info=pd.read_table(\"/Users/Jian/Desktop/Media_Storm/Big_Lots/Ongoing/OtherInput/store_list_from_SFTP/MediaStormStores20181101-134628-331.txt\",sep=\"|\",dtype=str)\n",
    "store_info=store_info[['location_id','city_nm','state_nm','zip_cd','open_dt']]\n",
    "\n",
    "store_info_2=pd.read_table(\"/Users/Jian/Desktop/Media_Storm/Big_Lots/Ongoing/OtherInput/store_list_from_SFTP/MediaStormStores20181001-135417-132.txt\",sep=\"|\",dtype=str)\n",
    "store_info_2=store_info_2[['location_id','city_nm','state_nm','zip_cd','open_dt']]\n",
    "store_info_2=store_info_2[~store_info_2['location_id'].isin(store_info['location_id'].tolist())]\n",
    "store_info=store_info.append(store_info_2)\n",
    "\n",
    "store_info_2=pd.read_table(\"/Users/Jian/Desktop/Media_Storm/Big_Lots/Ongoing/OtherInput/store_list_from_SFTP/MediaStormStores20180901-133640-935.txt\",sep=\"|\",dtype=str)\n",
    "store_info_2=store_info_2[['location_id','city_nm','state_nm','zip_cd','open_dt']]\n",
    "store_info_2=store_info_2[~store_info_2['location_id'].isin(store_info['location_id'].tolist())]\n",
    "store_info=store_info.append(store_info_2)\n",
    "\n",
    "store_info_2=pd.read_table(\"/Users/Jian/Desktop/Media_Storm/Big_Lots/Ongoing/OtherInput/store_list_from_SFTP/MediaStormStores20180801-133641-576.txt\",sep=\"|\",dtype=str)\n",
    "store_info_2=store_info_2[['location_id','city_nm','state_nm','zip_cd','open_dt']]\n",
    "store_info_2=store_info_2[~store_info_2['location_id'].isin(store_info['location_id'].tolist())]\n",
    "store_info=store_info.append(store_info_2)\n",
    "\n",
    "store_info_2=pd.read_table(\"/Users/Jian/Desktop/Media_Storm/Big_Lots/Ongoing/OtherInput/store_list_from_SFTP/MediaStormStores20180703.txt\",sep=\"|\",dtype=str)\n",
    "store_info_2=store_info_2[['location_id','city_nm','state_nm','zip_cd','open_dt']]\n",
    "store_info_2=store_info_2[~store_info_2['location_id'].isin(store_info['location_id'].tolist())]\n",
    "store_info=store_info.append(store_info_2)\n",
    "\n",
    "store_info_2=pd.read_table(\"/Users/Jian/Desktop/Media_Storm/Big_Lots/Ongoing/OtherInput/store_list_from_SFTP/MediaStormStores20171115.txt\",sep=\"|\",dtype=str)\n",
    "store_info_2=store_info_2[['location_id','city_nm','state_nm','zip_cd','open_dt']]\n",
    "store_info_2=store_info_2[~store_info_2['location_id'].isin(store_info['location_id'].tolist())]\n",
    "store_info=store_info.append(store_info_2)\n",
    "\n",
    "store_info_2=pd.read_table(\"/Users/Jian/Desktop/Media_Storm/Big_Lots/Ongoing/OtherInput/store_list_from_SFTP/MediaStormStores20170913.txt\",sep=\"|\",dtype=str)\n",
    "store_info_2=store_info_2[['location_id','city_nm','state_nm','zip_cd','open_dt']]\n",
    "store_info_2=store_info_2[~store_info_2['location_id'].isin(store_info['location_id'].tolist())]\n",
    "store_info=store_info.append(store_info_2)\n",
    "store_info['zip_cd']=store_info['zip_cd'].apply(lambda x: x.split(\"-\")[0].zfill(5))\n",
    "\n",
    "\n",
    "DMA_Zip=pd.read_excel(\"/Users/Jian/Desktop/Media_Storm/Docs/Geo mapping/Zips by DMA by County16-17 nielsen.xlsx\",skiprows=1,dtype=str)\n",
    "DMA_Zip=DMA_Zip.iloc[:,[0,2]]\n",
    "DMA_Zip.columns=['zip_cd','DMA']\n",
    "DMA_Zip=DMA_Zip.drop_duplicates(['zip_cd'])\n",
    "\n",
    "\n",
    "store_info=pd.merge(store_info,DMA_Zip,on=\"zip_cd\",how=\"left\")"
   ]
  },
  {
   "cell_type": "code",
   "execution_count": 3,
   "metadata": {},
   "outputs": [
    {
     "data": {
      "text/plain": [
       "84"
      ]
     },
     "execution_count": 3,
     "metadata": {},
     "output_type": "execute_result"
    }
   ],
   "source": [
    "stores_sales_data=pd.read_excel(\"/Users/Jian/Desktop/Media_Storm/Big_Lots/Ongoing/Datorama/2018/outputs_2018-11-10/wide_sales_date2018-11-10.xlsx\",dtype=str,sheetname=\"sales\")\n",
    "stores_trans_data=pd.read_excel(\"/Users/Jian/Desktop/Media_Storm/Big_Lots/Ongoing/Datorama/2018/outputs_2018-11-10/wide_sales_date2018-11-10.xlsx\",dtype=str,sheetname=\"transactions\")\n",
    "\n",
    "Q3_Start_week_2018=datetime.date(2018,8,11)\n",
    "Q3_End_week_2018=datetime.date(2018,11,3)\n",
    "Q3_Start_week_2017=datetime.date(2017,8,12)\n",
    "Q3_End_week_2017=datetime.date(2017,11,4)\n",
    "Q3_2017_Weeks=[str(Q3_Start_week_2017+datetime.timedelta(days=7*i)) for i in range(13)]\n",
    "Q3_2018_Weeks=[str(Q3_Start_week_2018+datetime.timedelta(days=7*i)) for i in range(13)]\n",
    "\n",
    "\n",
    "stores_sales_data=stores_sales_data[['location_id']+Q3_2017_Weeks+Q3_2018_Weeks]\n",
    "stores_trans_data=stores_trans_data[['location_id']+Q3_2017_Weeks+Q3_2018_Weeks]\n",
    "\n",
    "\n",
    "for col in Q3_2017_Weeks+Q3_2018_Weeks:\n",
    "    stores_sales_data[col]=stores_sales_data[col].astype(float)\n",
    "    stores_trans_data[col]=stores_trans_data[col].astype(float)\n",
    "\n",
    "stores_trans_data['2017_Q3_Trans']=stores_trans_data[Q3_2017_Weeks].sum(axis=1)\n",
    "stores_trans_data['2018_Q3_Trans']=stores_trans_data[Q3_2018_Weeks].sum(axis=1)\n",
    "stores_sales_data['2017_Q3_Sales']=stores_sales_data[Q3_2017_Weeks].sum(axis=1)\n",
    "stores_sales_data['2018_Q3_Sales']=stores_sales_data[Q3_2018_Weeks].sum(axis=1)\n",
    "\n",
    "Q3_Sales_Trans=pd.merge(stores_trans_data[['location_id','2017_Q3_Trans','2018_Q3_Trans']],\n",
    "                       stores_sales_data[['location_id','2017_Q3_Sales','2018_Q3_Sales']],\n",
    "                       on=\"location_id\",how=\"outer\")\n",
    "\n",
    "store_list_set=set(Q3_Sales_Trans['location_id'].unique().tolist())\n",
    "\n",
    "df_1=pd.merge(store_info,Q3_Sales_Trans,on=\"location_id\",how=\"left\")\n",
    "del store_info\n",
    "df_1['Q3_Sales_YoY']=(df_1['2018_Q3_Sales']-df_1['2017_Q3_Sales'])/df_1['2017_Q3_Sales']\n",
    "df_1['Q3_Trans_YoY']=(df_1['2018_Q3_Trans']-df_1['2017_Q3_Trans'])/df_1['2017_Q3_Trans']\n",
    "del store_info_2\n",
    "gc.collect()"
   ]
  },
  {
   "cell_type": "markdown",
   "metadata": {},
   "source": [
    "# V1 Exclude merch_cat 80040410"
   ]
  },
  {
   "cell_type": "code",
   "execution_count": 4,
   "metadata": {},
   "outputs": [
    {
     "data": {
      "text/plain": [
       "(13727931, 5)"
      ]
     },
     "execution_count": 4,
     "metadata": {},
     "output_type": "execute_result"
    }
   ],
   "source": [
    "rewards_sales_from_SP=pd.read_csv(\"/Users/Jian/Desktop/Server_Project_Foder/Big_Lots/Loyal_members/loyalty_sales_data/From_Sp/combinedtransactions_0811.csv\",\n",
    "                                 dtype=str,usecols=['customer_id_hashed','transaction_date','transaction_id','location_id','total_transaction_amt','merch_cat'])\n",
    "rewards_removed=rewards_sales_from_SP[rewards_sales_from_SP['merch_cat']==\"80040410\"]\n",
    "rewards_sales_from_SP=rewards_sales_from_SP[rewards_sales_from_SP['merch_cat']!=\"80040410\"]\n",
    "del rewards_sales_from_SP['merch_cat']\n",
    "\n",
    "rewards_sales_from_SP=rewards_sales_from_SP.drop_duplicates()\n",
    "\n",
    "rewards_sales_from_SP['transaction_date']=rewards_sales_from_SP['transaction_date'].apply(lambda x: datetime.datetime.strptime(x,\"%Y-%m-%d\").date())\n",
    "\n",
    "rewards_sales_from_SP_2017Q3=rewards_sales_from_SP[(rewards_sales_from_SP['transaction_date']>=(Q3_Start_week_2017-datetime.timedelta(days=6))) & (rewards_sales_from_SP['transaction_date']<=Q3_End_week_2017)]\n",
    "del rewards_sales_from_SP\n",
    "gc.collect()\n",
    "\n",
    "\n",
    "rewards_sales_from_SP_2017Q3['total_transaction_amt']=rewards_sales_from_SP_2017Q3['total_transaction_amt'].astype(float)\n",
    "rewards_sales_from_SP_2017Q3=rewards_sales_from_SP_2017Q3.drop_duplicates()\n",
    "gc.collect()\n",
    "rewards_sales_from_SP_2017Q3.shape"
   ]
  },
  {
   "cell_type": "code",
   "execution_count": 5,
   "metadata": {
    "collapsed": true
   },
   "outputs": [],
   "source": [
    "#Check\n",
    "# When come back with server, check the time for the 2 transaction\n",
    "check_dup=rewards_sales_from_SP_2017Q3[(rewards_sales_from_SP_2017Q3['customer_id_hashed']==\"d75fa736c3c766c72c6fe34a55b00edc2e5f5d90e5fbbb98876e75bfd4b270f9\") & (rewards_sales_from_SP_2017Q3['transaction_date']==datetime.date(2017,8,6))]\n"
   ]
  },
  {
   "cell_type": "code",
   "execution_count": 6,
   "metadata": {},
   "outputs": [
    {
     "data": {
      "text/plain": [
       "7"
      ]
     },
     "execution_count": 6,
     "metadata": {},
     "output_type": "execute_result"
    }
   ],
   "source": [
    "rewards_sales_from_SP_2018Q3=pd.read_table(\"/Users/Jian/Desktop/Server_Project_Foder/Big_Lots/Loyal_members/loyalty_sales_data/MediaStormSalesBiWeekly20180814-131127-683.txt\",usecols=['customer_id_hashed','transaction_dt','transaction_id','location_id','total_transaction_amt'],sep=\"|\",dtype=str)\n",
    "rewards_sales_from_SP_2018Q3=rewards_sales_from_SP_2018Q3.rename(columns={\"transaction_dt\":\"transaction_date\"})\n",
    "rewards_sales_from_SP_2018Q3['transaction_date']=rewards_sales_from_SP_2018Q3['transaction_date'].apply(lambda x: datetime.datetime.strptime(x,\"%Y-%m-%d\").date())\n",
    "\n",
    "biweekly_rewards=pd.read_table(\"/Users/Jian/Desktop/Server_Project_Foder/Big_Lots/Loyal_members/loyalty_sales_data/MediaStormSalesBiWeekly20180828-131144-584.txt\",usecols=['customer_id_hashed','transaction_dt','transaction_id','location_id','total_transaction_amt'],sep=\"|\",dtype=str)\n",
    "biweekly_rewards=biweekly_rewards.rename(columns={\"transaction_dt\":\"transaction_date\"})\n",
    "biweekly_rewards['transaction_date']=biweekly_rewards['transaction_date'].apply(lambda x: datetime.datetime.strptime(x,\"%Y-%m-%d\").date())\n",
    "rewards_sales_from_SP_2018Q3=rewards_sales_from_SP_2018Q3.append(biweekly_rewards)\n",
    "\n",
    "biweekly_rewards=pd.read_table(\"/Users/Jian/Desktop/Server_Project_Foder/Big_Lots/Loyal_members/loyalty_sales_data/MediaStormSalesBiWeekly20180911-133008-590.txt\",usecols=['customer_id_hashed','transaction_dt','transaction_id','location_id','total_transaction_amt'],sep=\"|\",dtype=str)\n",
    "biweekly_rewards=biweekly_rewards.rename(columns={\"transaction_dt\":\"transaction_date\"})\n",
    "biweekly_rewards['transaction_date']=biweekly_rewards['transaction_date'].apply(lambda x: datetime.datetime.strptime(x,\"%Y-%m-%d\").date())\n",
    "rewards_sales_from_SP_2018Q3=rewards_sales_from_SP_2018Q3.append(biweekly_rewards)\n",
    "\n",
    "biweekly_rewards=pd.read_table(\"/Users/Jian/Desktop/Server_Project_Foder/Big_Lots/Loyal_members/loyalty_sales_data/MediaStormSalesBiWeekly20180925-132958-543.txt\",usecols=['customer_id_hashed','transaction_dt','transaction_id','location_id','total_transaction_amt'],sep=\"|\",dtype=str)\n",
    "biweekly_rewards=biweekly_rewards.rename(columns={\"transaction_dt\":\"transaction_date\"})\n",
    "biweekly_rewards['transaction_date']=biweekly_rewards['transaction_date'].apply(lambda x: datetime.datetime.strptime(x,\"%Y-%m-%d\").date())\n",
    "rewards_sales_from_SP_2018Q3=rewards_sales_from_SP_2018Q3.append(biweekly_rewards)\n",
    "\n",
    "biweekly_rewards=pd.read_table(\"/Users/Jian/Desktop/Server_Project_Foder/Big_Lots/Loyal_members/loyalty_sales_data/MediaStormSalesBiWeekly20181009-132856-945.txt\",usecols=['customer_id_hashed','transaction_dt','transaction_id','location_id','total_transaction_amt'],sep=\"|\",dtype=str)\n",
    "biweekly_rewards=biweekly_rewards.rename(columns={\"transaction_dt\":\"transaction_date\"})\n",
    "biweekly_rewards['transaction_date']=biweekly_rewards['transaction_date'].apply(lambda x: datetime.datetime.strptime(x,\"%Y-%m-%d\").date())\n",
    "rewards_sales_from_SP_2018Q3=rewards_sales_from_SP_2018Q3.append(biweekly_rewards)\n",
    "\n",
    "biweekly_rewards=pd.read_table(\"/Users/Jian/Desktop/Server_Project_Foder/Big_Lots/Loyal_members/loyalty_sales_data/MediaStormSalesBiWeekly20181023-132316-829.txt\",usecols=['customer_id_hashed','transaction_dt','transaction_id','location_id','total_transaction_amt'],sep=\"|\",dtype=str)\n",
    "biweekly_rewards=biweekly_rewards.rename(columns={\"transaction_dt\":\"transaction_date\"})\n",
    "biweekly_rewards['transaction_date']=biweekly_rewards['transaction_date'].apply(lambda x: datetime.datetime.strptime(x,\"%Y-%m-%d\").date())\n",
    "rewards_sales_from_SP_2018Q3=rewards_sales_from_SP_2018Q3.append(biweekly_rewards)\n",
    "\n",
    "biweekly_rewards=pd.read_table(\"/Users/Jian/Desktop/Server_Project_Foder/Big_Lots/Loyal_members/loyalty_sales_data/MediaStormSalesBiWeekly20181106-132358-296.txt\",usecols=['customer_id_hashed','transaction_dt','transaction_id','location_id','total_transaction_amt'],sep=\"|\",dtype=str)\n",
    "biweekly_rewards=biweekly_rewards.rename(columns={\"transaction_dt\":\"transaction_date\"})\n",
    "biweekly_rewards['transaction_date']=biweekly_rewards['transaction_date'].apply(lambda x: datetime.datetime.strptime(x,\"%Y-%m-%d\").date())\n",
    "rewards_sales_from_SP_2018Q3=rewards_sales_from_SP_2018Q3.append(biweekly_rewards)\n",
    "\n",
    "\n",
    "rewards_sales_from_SP_2018Q3=rewards_sales_from_SP_2018Q3[(rewards_sales_from_SP_2018Q3['transaction_date']>=(Q3_Start_week_2018-datetime.timedelta(days=6))) & (rewards_sales_from_SP_2018Q3['transaction_date']<=Q3_End_week_2018)]\n",
    "rewards_sales_from_SP_2018Q3=rewards_sales_from_SP_2018Q3.drop_duplicates()\n",
    "\n",
    "rewards_sales_from_SP_2018Q3['total_transaction_amt']=rewards_sales_from_SP_2018Q3['total_transaction_amt'].astype(float)\n",
    "del rewards_sales_from_SP_2017Q3['transaction_id']\n",
    "del rewards_sales_from_SP_2018Q3['transaction_id']\n",
    "\n",
    "gc.collect()\n",
    "# No 80040410 in 2018 data"
   ]
  },
  {
   "cell_type": "code",
   "execution_count": 7,
   "metadata": {
    "collapsed": true
   },
   "outputs": [],
   "source": [
    "def add_week_end_date(x):\n",
    "    weekday_num=x.weekday()\n",
    "    if weekday_num==6:\n",
    "        y=x+datetime.timedelta(days=6)\n",
    "    else:\n",
    "        y=x+datetime.timedelta(days=5-weekday_num)\n",
    "    return y\n",
    "\n",
    "rewards_by_store_sales_2018Q3=rewards_sales_from_SP_2018Q3.groupby(['location_id'])['total_transaction_amt'].sum().to_frame().reset_index()\n",
    "rewards_by_store_sales_2018Q3=rewards_by_store_sales_2018Q3.rename(columns={\"total_transaction_amt\":\"Q3_rewards_sales_2018\"})\n",
    "rewards_by_store_trans_2018Q3=rewards_sales_from_SP_2018Q3.groupby(['location_id'])['total_transaction_amt'].count().to_frame().reset_index()\n",
    "rewards_by_store_trans_2018Q3=rewards_by_store_trans_2018Q3.rename(columns={\"total_transaction_amt\":\"Q3_rewards_trans_2018\"})\n",
    "\n",
    "rewards_by_store_sales_2017Q3=rewards_sales_from_SP_2017Q3.groupby(['location_id'])['total_transaction_amt'].sum().to_frame().reset_index()\n",
    "rewards_by_store_sales_2017Q3=rewards_by_store_sales_2017Q3.rename(columns={\"total_transaction_amt\":\"Q3_rewards_sales_2017\"})\n",
    "rewards_by_store_trans_2017Q3=rewards_sales_from_SP_2017Q3.groupby(['location_id'])['total_transaction_amt'].count().to_frame().reset_index()\n",
    "rewards_by_store_trans_2017Q3=rewards_by_store_trans_2017Q3.rename(columns={\"total_transaction_amt\":\"Q3_rewards_trans_2017\"})\n"
   ]
  },
  {
   "cell_type": "code",
   "execution_count": 8,
   "metadata": {
    "collapsed": true
   },
   "outputs": [],
   "source": [
    "gc.collect()\n",
    "ids_2017_q3=set(rewards_sales_from_SP_2017Q3['customer_id_hashed'].unique().tolist())\n",
    "ids_2018_q3=set(rewards_sales_from_SP_2018Q3['customer_id_hashed'].unique().tolist())\n",
    "\n",
    "all_stores_existing_Q3_id=ids_2018_q3.intersection(ids_2017_q3)\n",
    "all_stores_new_Q3_id=ids_2018_q3.difference(ids_2017_q3)\n",
    "\n",
    "rewards_sales_from_SP_2018Q3['id_label']=np.where(rewards_sales_from_SP_2018Q3['customer_id_hashed'].isin(all_stores_existing_Q3_id),\"Q3_existing\",\n",
    "                                                 np.where(rewards_sales_from_SP_2018Q3['customer_id_hashed'].isin(all_stores_new_Q3_id),\"Q3_2018new\",np.nan))\n",
    "rewards_sales_from_SP_2017Q3['id_label']=np.where(rewards_sales_from_SP_2017Q3['customer_id_hashed'].isin(all_stores_existing_Q3_id),\"Q3_existing\",np.nan)\n"
   ]
  },
  {
   "cell_type": "code",
   "execution_count": 9,
   "metadata": {
    "collapsed": true
   },
   "outputs": [],
   "source": [
    "existing_sales_by_store_2018Q3=rewards_sales_from_SP_2018Q3.groupby(['location_id','id_label'])['total_transaction_amt'].sum().to_frame().reset_index()\n",
    "new_sales_by_store_2018Q3=existing_sales_by_store_2018Q3[existing_sales_by_store_2018Q3['id_label']==\"Q3_2018new\"]\n",
    "existing_sales_by_store_2018Q3=existing_sales_by_store_2018Q3[existing_sales_by_store_2018Q3['id_label']==\"Q3_existing\"]\n",
    "\n",
    "\n",
    "existing_sales_by_store_2017Q3=rewards_sales_from_SP_2017Q3.groupby(['location_id','id_label'])['total_transaction_amt'].sum().to_frame().reset_index()\n",
    "existing_sales_by_store_2017Q3=existing_sales_by_store_2017Q3[existing_sales_by_store_2017Q3['id_label']==\"Q3_existing\"]\n",
    "\n",
    "del new_sales_by_store_2018Q3['id_label']\n",
    "del existing_sales_by_store_2018Q3['id_label']\n",
    "del existing_sales_by_store_2017Q3['id_label']\n",
    "\n",
    "new_sales_by_store_2018Q3=new_sales_by_store_2018Q3.rename(columns={\"total_transaction_amt\":\"Q3_new_rewards_sales_2018\"})\n",
    "existing_sales_by_store_2018Q3=existing_sales_by_store_2018Q3.rename(columns={\"total_transaction_amt\":\"Q3_existing_rewards_sales_2018\"})\n",
    "existing_sales_by_store_2017Q3=existing_sales_by_store_2017Q3.rename(columns={\"total_transaction_amt\":\"Q3_existing_rewards_sales_2017\"})\n",
    "\n"
   ]
  },
  {
   "cell_type": "code",
   "execution_count": 10,
   "metadata": {
    "collapsed": true
   },
   "outputs": [],
   "source": [
    "def count_unique(x):\n",
    "    y=len(set(x))\n",
    "    return y\n",
    "NEW_rewards_sales_from_SP_2018Q3=rewards_sales_from_SP_2018Q3[rewards_sales_from_SP_2018Q3['id_label']==\"Q3_2018new\"]\n",
    "EXISTING_rewards_sales_from_SP_2018Q3=rewards_sales_from_SP_2018Q3[rewards_sales_from_SP_2018Q3['id_label']==\"Q3_existing\"]\n",
    "EXISTING_rewards_sales_from_SP_2017Q3=rewards_sales_from_SP_2017Q3[rewards_sales_from_SP_2017Q3['id_label']==\"Q3_existing\"]\n",
    "\n",
    "new_id_count_2018=NEW_rewards_sales_from_SP_2018Q3.groupby(['location_id'])['customer_id_hashed'].apply(count_unique).to_frame().reset_index().rename(columns={\"customer_id_hashed\":\"Q3_new_id_counts_2018\"})\n",
    "existing_id_count_2018=EXISTING_rewards_sales_from_SP_2018Q3.groupby(['location_id'])['customer_id_hashed'].apply(count_unique).to_frame().reset_index().rename(columns={\"customer_id_hashed\":\"Q3_existing_id_counts_2018\"})\n",
    "existing_id_count_2017=EXISTING_rewards_sales_from_SP_2017Q3.groupby(['location_id'])['customer_id_hashed'].apply(count_unique).to_frame().reset_index().rename(columns={\"customer_id_hashed\":\"Q3_existing_id_counts_2017\"})\n",
    "\n",
    "total_id_count_2018=rewards_sales_from_SP_2018Q3.groupby(['location_id'])['customer_id_hashed'].apply(count_unique).to_frame().reset_index().rename(columns={\"customer_id_hashed\":\"2018_Q3_rewards_id_shopped\"})\n",
    "total_id_count_2017=rewards_sales_from_SP_2017Q3.groupby(['location_id'])['customer_id_hashed'].apply(count_unique).to_frame().reset_index().rename(columns={\"customer_id_hashed\":\"2017_Q3_rewards_id_shopped\"})\n"
   ]
  },
  {
   "cell_type": "code",
   "execution_count": 11,
   "metadata": {
    "collapsed": true
   },
   "outputs": [],
   "source": [
    "output=pd.merge(df_1,rewards_by_store_sales_2018Q3,on=\"location_id\",how=\"left\")\n",
    "output=pd.merge(output,rewards_by_store_trans_2018Q3,on=\"location_id\",how=\"left\")\n",
    "output=pd.merge(output,rewards_by_store_sales_2017Q3,on=\"location_id\",how=\"left\")\n",
    "output=pd.merge(output,rewards_by_store_trans_2017Q3,on=\"location_id\",how=\"left\")\n",
    "\n",
    "output=pd.merge(output,existing_sales_by_store_2018Q3,on=\"location_id\",how=\"left\")\n",
    "output=pd.merge(output,existing_sales_by_store_2017Q3,on=\"location_id\",how=\"left\")\n",
    "output=pd.merge(output,new_sales_by_store_2018Q3,on=\"location_id\",how=\"left\")\n",
    "\n",
    "output=pd.merge(output,total_id_count_2018,on=\"location_id\",how=\"left\")\n",
    "output=pd.merge(output,total_id_count_2017,on=\"location_id\",how=\"left\")\n",
    "output=pd.merge(output,existing_id_count_2018,on=\"location_id\",how=\"left\")\n",
    "output=pd.merge(output,existing_id_count_2017,on=\"location_id\",how=\"left\")\n",
    "output=pd.merge(output,new_id_count_2018,on=\"location_id\",how=\"left\")\n"
   ]
  },
  {
   "cell_type": "code",
   "execution_count": 12,
   "metadata": {
    "collapsed": true
   },
   "outputs": [],
   "source": [
    "output['Shopped Rewards Growth']=output['2018_Q3_rewards_id_shopped']-output['2017_Q3_rewards_id_shopped']\n",
    "output['Rewards Sales YoY']=(output['Q3_rewards_sales_2018']-output['Q3_rewards_sales_2017'])/output['Q3_rewards_sales_2017']\n",
    "output['location_id']=output['location_id'].astype(int)\n",
    "output=output.sort_values(['location_id'])"
   ]
  },
  {
   "cell_type": "code",
   "execution_count": 36,
   "metadata": {
    "collapsed": true
   },
   "outputs": [],
   "source": [
    "rewards_sales_from_SP_2018Q3['week_end_date']=rewards_sales_from_SP_2018Q3['transaction_date'].apply(lambda x: add_week_end_date(x))\n",
    "rewards_sales_from_SP_2017Q3['week_end_date']=rewards_sales_from_SP_2017Q3['transaction_date'].apply(lambda x: add_week_end_date(x))\n",
    "\n",
    "rewards_sales_2018Q3_by_store_by_week=rewards_sales_from_SP_2018Q3.groupby(['location_id','week_end_date'])['total_transaction_amt'].sum().to_frame().reset_index()\n",
    "rewards_sales_2017Q3_by_store_by_week=rewards_sales_from_SP_2017Q3.groupby(['location_id','week_end_date'])['total_transaction_amt'].sum().to_frame().reset_index()\n"
   ]
  },
  {
   "cell_type": "code",
   "execution_count": 37,
   "metadata": {
    "collapsed": true
   },
   "outputs": [],
   "source": [
    "total_sales_long=pd.read_csv(\"/Users/Jian/Desktop/Media_Storm/Big_Lots/Ongoing/Datorama/2018/outputs_2018-11-03/combined_sales_long_2018-11-03.csv\",dtype=str)\n",
    "total_sales_long=total_sales_long[['location_id','sales','week_end_date']].rename(columns={\"sales\":\"total_weekly_sales\"})\n",
    "total_sales_long['week_end_date']=total_sales_long['week_end_date'].apply(lambda x: datetime.datetime.strptime(x,\"%Y-%m-%d\").date())\n",
    "total_sales_long['total_weekly_sales']=total_sales_long['total_weekly_sales'].astype(float)\n",
    "rewards_sales_2018Q3_by_store_by_week=rewards_sales_2018Q3_by_store_by_week.rename(columns={\"total_transaction_amt\":\"rewards_sales\"})\n",
    "rewards_sales_2017Q3_by_store_by_week=rewards_sales_2017Q3_by_store_by_week.rename(columns={\"total_transaction_amt\":\"rewards_sales\"})\n",
    "rewards_sales_2018Q3_by_store_by_week=pd.merge(rewards_sales_2018Q3_by_store_by_week,total_sales_long,on=['location_id','week_end_date'],how=\"left\")\n",
    "rewards_sales_2017Q3_by_store_by_week=pd.merge(rewards_sales_2017Q3_by_store_by_week,total_sales_long,on=['location_id','week_end_date'],how=\"left\")\n",
    "sales_Q3_by_week=rewards_sales_2017Q3_by_store_by_week.append(rewards_sales_2018Q3_by_store_by_week)\n",
    "sales_Q3_by_week['Exclusion']=np.where(sales_Q3_by_week['total_weekly_sales']<sales_Q3_by_week['rewards_sales'],\"Exclusion\",\"Inclusion\")\n",
    "sales_Q3_by_week['Rewards_sales_Pctg']=sales_Q3_by_week['rewards_sales']/sales_Q3_by_week['total_weekly_sales']\n"
   ]
  },
  {
   "cell_type": "code",
   "execution_count": 38,
   "metadata": {
    "collapsed": true
   },
   "outputs": [],
   "source": [
    "writer=pd.ExcelWriter(\"/Users/Jian/Desktop/Media_Storm/Big_Lots/Analysis/2018_Q3/Q3_Store_Quadrants/BL_data_for_2018Q3_Quadrants_JL_\"+str(datetime.datetime.now().date())+\".xlsx\",engine=\"xlsxwriter\")\n",
    "output.to_excel(writer,\"data_for_Q3_quadrants\",index=False)\n",
    "rewards_removed.to_excel(writer,\"merch_cat_80040410\",index=False)\n",
    "sales_Q3_by_week.to_excel(writer,\"sales_Q3_by_week\",index=False)\n",
    "writer.save()"
   ]
  },
  {
   "cell_type": "code",
   "execution_count": null,
   "metadata": {
    "collapsed": true
   },
   "outputs": [],
   "source": []
  },
  {
   "cell_type": "code",
   "execution_count": null,
   "metadata": {
    "collapsed": true
   },
   "outputs": [],
   "source": []
  },
  {
   "cell_type": "code",
   "execution_count": null,
   "metadata": {
    "collapsed": true
   },
   "outputs": [],
   "source": []
  },
  {
   "cell_type": "code",
   "execution_count": 15,
   "metadata": {},
   "outputs": [
    {
     "name": "stderr",
     "output_type": "stream",
     "text": [
      "/Users/Jian/anaconda3/lib/python3.6/site-packages/ipykernel_launcher.py:6: SettingWithCopyWarning: \n",
      "A value is trying to be set on a copy of a slice from a DataFrame.\n",
      "Try using .loc[row_indexer,col_indexer] = value instead\n",
      "\n",
      "See the caveats in the documentation: http://pandas.pydata.org/pandas-docs/stable/indexing.html#indexing-view-versus-copy\n",
      "  \n"
     ]
    }
   ],
   "source": [
    "rewards_sales_from_SP=pd.read_csv(\"/Users/Jian/Desktop/Server_Project_Foder/Big_Lots/Loyal_members/loyalty_sales_data/From_Sp/combinedtransactions_0811.csv\",\n",
    "                                 dtype=str)\n",
    "rewards_sales_from_SP['transaction_date']=rewards_sales_from_SP['transaction_date'].apply(lambda x: datetime.datetime.strptime(x,\"%Y-%m-%d\").date())\n",
    "\n",
    "rewards_sales_from_SP_2017Q3=rewards_sales_from_SP[(rewards_sales_from_SP['transaction_date']>=(Q3_Start_week_2017-datetime.timedelta(days=6))) & (rewards_sales_from_SP['transaction_date']<=Q3_End_week_2017)]\n",
    "rewards_sales_from_SP_2017Q3['total_transaction_amt']=rewards_sales_from_SP_2017Q3['total_transaction_amt'].astype(float)\n",
    "x=rewards_sales_from_SP_2017Q3.sort_values(['total_transaction_amt'],ascending=False).head(200)\n",
    "y=x[x['transaction_date']!=datetime.date(2017, 8, 14)]"
   ]
  },
  {
   "cell_type": "code",
   "execution_count": 69,
   "metadata": {
    "collapsed": true
   },
   "outputs": [],
   "source": [
    "# Check merch_cat\n",
    "\n",
    "product_taxonomy=pd.read_table(\"/Users/Jian/Desktop/Media_Storm/Big_Lots/Ongoing/Data/static_files/MediaStorm Data Extract - Product Taxonomy.txt\",sep=\"|\",dtype=str)\n",
    "subclass_name=pd.read_table(\"/Users/Jian/Desktop/Media_Storm/Big_Lots/Ongoing/Data/static_files/MediaStorm Data Extract - Subclass Names.txt\",sep=\"|\",dtype=str,encoding ='ISO-8859-1')\n",
    "product_taxonomy=pd.merge(product_taxonomy,subclass_name,on=['class_code_id','subclass_id'],how=\"outer\")\n",
    "# product_taxonomy=product_taxonomy.rename(columns={\"item_id\":\"merch_cat\"})\n",
    "product_taxonomy_x=product_taxonomy[product_taxonomy['item_id'].isin(x['merch_cat'])]"
   ]
  },
  {
   "cell_type": "code",
   "execution_count": 70,
   "metadata": {},
   "outputs": [
    {
     "data": {
      "text/plain": [
       "array(['80040410'], dtype=object)"
      ]
     },
     "execution_count": 70,
     "metadata": {},
     "output_type": "execute_result"
    }
   ],
   "source": [
    "z=x[x['transaction_date']==datetime.date(2017, 8, 14)]\n",
    "z['merch_cat'].unique()"
   ]
  },
  {
   "cell_type": "code",
   "execution_count": 71,
   "metadata": {},
   "outputs": [
    {
     "data": {
      "text/plain": [
       "(103, 8)"
      ]
     },
     "execution_count": 71,
     "metadata": {},
     "output_type": "execute_result"
    }
   ],
   "source": [
    "z.shape"
   ]
  },
  {
   "cell_type": "code",
   "execution_count": 74,
   "metadata": {},
   "outputs": [
    {
     "data": {
      "text/html": [
       "<div>\n",
       "<style>\n",
       "    .dataframe thead tr:only-child th {\n",
       "        text-align: right;\n",
       "    }\n",
       "\n",
       "    .dataframe thead th {\n",
       "        text-align: left;\n",
       "    }\n",
       "\n",
       "    .dataframe tbody tr th {\n",
       "        vertical-align: top;\n",
       "    }\n",
       "</style>\n",
       "<table border=\"1\" class=\"dataframe\">\n",
       "  <thead>\n",
       "    <tr style=\"text-align: right;\">\n",
       "      <th></th>\n",
       "      <th>customer_id_hashed</th>\n",
       "      <th>transaction_date</th>\n",
       "      <th>transaction_time</th>\n",
       "      <th>transaction_id</th>\n",
       "      <th>location_id</th>\n",
       "      <th>total_transaction_amt</th>\n",
       "      <th>total_transaction_units</th>\n",
       "      <th>merch_cat</th>\n",
       "    </tr>\n",
       "  </thead>\n",
       "  <tbody>\n",
       "    <tr>\n",
       "      <th>0</th>\n",
       "      <td>bc45d2747297addd8bcad579da77756b007d27cd634c71...</td>\n",
       "      <td>2018-03-20</td>\n",
       "      <td>21:02</td>\n",
       "      <td>2152</td>\n",
       "      <td>5158</td>\n",
       "      <td>22.25</td>\n",
       "      <td>13.0</td>\n",
       "      <td>12006001</td>\n",
       "    </tr>\n",
       "    <tr>\n",
       "      <th>1</th>\n",
       "      <td>f627e56e080cb699864d9c488345aee82c98fa66ebc2f2...</td>\n",
       "      <td>2018-03-10</td>\n",
       "      <td>18:23</td>\n",
       "      <td>6496</td>\n",
       "      <td>186</td>\n",
       "      <td>16.0</td>\n",
       "      <td>3.0</td>\n",
       "      <td>55003009</td>\n",
       "    </tr>\n",
       "  </tbody>\n",
       "</table>\n",
       "</div>"
      ],
      "text/plain": [
       "                                  customer_id_hashed transaction_date  \\\n",
       "0  bc45d2747297addd8bcad579da77756b007d27cd634c71...       2018-03-20   \n",
       "1  f627e56e080cb699864d9c488345aee82c98fa66ebc2f2...       2018-03-10   \n",
       "\n",
       "  transaction_time transaction_id location_id total_transaction_amt  \\\n",
       "0            21:02           2152        5158                 22.25   \n",
       "1            18:23           6496         186                  16.0   \n",
       "\n",
       "  total_transaction_units merch_cat  \n",
       "0                    13.0  12006001  \n",
       "1                     3.0  55003009  "
      ]
     },
     "execution_count": 74,
     "metadata": {},
     "output_type": "execute_result"
    }
   ],
   "source": [
    "rewards_sales_from_SP.head(2)"
   ]
  },
  {
   "cell_type": "code",
   "execution_count": 73,
   "metadata": {},
   "outputs": [
    {
     "data": {
      "text/plain": [
       "(140301793, 8)"
      ]
     },
     "execution_count": 73,
     "metadata": {},
     "output_type": "execute_result"
    }
   ],
   "source": [
    "rewards_sales_from_SP.shape"
   ]
  },
  {
   "cell_type": "code",
   "execution_count": 75,
   "metadata": {},
   "outputs": [
    {
     "data": {
      "text/plain": [
       "(104, 8)"
      ]
     },
     "execution_count": 75,
     "metadata": {},
     "output_type": "execute_result"
    }
   ],
   "source": [
    "high_merch_cat=rewards_sales_from_SP[rewards_sales_from_SP['merch_cat']==\"80040410\"]\n",
    "high_merch_cat.shape"
   ]
  },
  {
   "cell_type": "code",
   "execution_count": 77,
   "metadata": {},
   "outputs": [
    {
     "data": {
      "text/plain": [
       "array([datetime.date(2017, 8, 14), datetime.date(2017, 9, 7)], dtype=object)"
      ]
     },
     "execution_count": 77,
     "metadata": {},
     "output_type": "execute_result"
    }
   ],
   "source": [
    "high_merch_cat['transaction_date'].unique()"
   ]
  },
  {
   "cell_type": "code",
   "execution_count": 78,
   "metadata": {
    "collapsed": true
   },
   "outputs": [],
   "source": [
    "high_merch_cat.to_csv(\"/Users/Jian/Desktop/Media_Storm/Big_Lots/Analysis/2018_Q3/high_value_rewards_transactions_JL_20181128.csv\",index=False)"
   ]
  },
  {
   "cell_type": "code",
   "execution_count": 16,
   "metadata": {},
   "outputs": [
    {
     "data": {
      "text/html": [
       "<div>\n",
       "<style>\n",
       "    .dataframe thead tr:only-child th {\n",
       "        text-align: right;\n",
       "    }\n",
       "\n",
       "    .dataframe thead th {\n",
       "        text-align: left;\n",
       "    }\n",
       "\n",
       "    .dataframe tbody tr th {\n",
       "        vertical-align: top;\n",
       "    }\n",
       "</style>\n",
       "<table border=\"1\" class=\"dataframe\">\n",
       "  <thead>\n",
       "    <tr style=\"text-align: right;\">\n",
       "      <th></th>\n",
       "      <th>customer_id_hashed</th>\n",
       "      <th>transaction_date</th>\n",
       "      <th>transaction_time</th>\n",
       "      <th>transaction_id</th>\n",
       "      <th>location_id</th>\n",
       "      <th>total_transaction_amt</th>\n",
       "      <th>total_transaction_units</th>\n",
       "      <th>merch_cat</th>\n",
       "    </tr>\n",
       "  </thead>\n",
       "  <tbody>\n",
       "    <tr>\n",
       "      <th>106727391</th>\n",
       "      <td>fdbfe6da6d44a5d66f2af90bae3a32bf221711c65bcfd3...</td>\n",
       "      <td>2017-08-06</td>\n",
       "      <td>12:21</td>\n",
       "      <td>2353</td>\n",
       "      <td>4436</td>\n",
       "      <td>11.78</td>\n",
       "      <td>3.0</td>\n",
       "      <td>15002002</td>\n",
       "    </tr>\n",
       "    <tr>\n",
       "      <th>106727454</th>\n",
       "      <td>2f8f042b6b7314ff1d37028c0e6c75fb8c6d888633ee2c...</td>\n",
       "      <td>2017-08-06</td>\n",
       "      <td>19:13</td>\n",
       "      <td>4368</td>\n",
       "      <td>462</td>\n",
       "      <td>18.60</td>\n",
       "      <td>32.0</td>\n",
       "      <td>17001006</td>\n",
       "    </tr>\n",
       "  </tbody>\n",
       "</table>\n",
       "</div>"
      ],
      "text/plain": [
       "                                          customer_id_hashed transaction_date  \\\n",
       "106727391  fdbfe6da6d44a5d66f2af90bae3a32bf221711c65bcfd3...       2017-08-06   \n",
       "106727454  2f8f042b6b7314ff1d37028c0e6c75fb8c6d888633ee2c...       2017-08-06   \n",
       "\n",
       "          transaction_time transaction_id location_id  total_transaction_amt  \\\n",
       "106727391            12:21           2353        4436                  11.78   \n",
       "106727454            19:13           4368         462                  18.60   \n",
       "\n",
       "          total_transaction_units merch_cat  \n",
       "106727391                     3.0  15002002  \n",
       "106727454                    32.0  17001006  "
      ]
     },
     "execution_count": 16,
     "metadata": {},
     "output_type": "execute_result"
    }
   ],
   "source": [
    "rewards_sales_from_SP_2017Q3.head(2)"
   ]
  },
  {
   "cell_type": "code",
   "execution_count": 17,
   "metadata": {
    "collapsed": true
   },
   "outputs": [],
   "source": [
    "rewards_sales_from_SP_2017Q3_no_80040410=rewards_sales_from_SP_2017Q3[rewards_sales_from_SP_2017Q3['merch_cat']!='80040410']"
   ]
  },
  {
   "cell_type": "code",
   "execution_count": 18,
   "metadata": {
    "collapsed": true
   },
   "outputs": [],
   "source": [
    "del rewards_sales_from_SP_2017Q3_no_80040410['merch_cat']\n",
    "rewards_sales_from_SP_2017Q3_no_80040410=rewards_sales_from_SP_2017Q3_no_80040410.drop_duplicates()"
   ]
  },
  {
   "cell_type": "code",
   "execution_count": 26,
   "metadata": {
    "collapsed": true
   },
   "outputs": [],
   "source": [
    "rewards_sales_from_SP_2017Q3_no_80040410_by_store=rewards_sales_from_SP_2017Q3_no_80040410.groupby(['location_id','transaction_date'])['total_transaction_amt'].sum().to_frame().reset_index()\n",
    "rewards_sales_from_SP_2017Q3_no_80040410_by_store['week_end_date']=rewards_sales_from_SP_2017Q3_no_80040410_by_store['transaction_date'].apply(lambda x: add_week_end_date(x))\n",
    "rewards_sales_from_SP_2017Q3_no_80040410_by_store=rewards_sales_from_SP_2017Q3_no_80040410_by_store.groupby(['location_id','week_end_date'])['total_transaction_amt'].sum().to_frame().reset_index()\n",
    "rewards_sales_from_SP_2017Q3_no_80040410_by_store=rewards_sales_from_SP_2017Q3_no_80040410_by_store.rename(columns={\"total_transaction_amt\":\"rewards_sales\"})\n"
   ]
  },
  {
   "cell_type": "code",
   "execution_count": 27,
   "metadata": {
    "collapsed": true
   },
   "outputs": [],
   "source": [
    "total_sales_long=pd.read_csv(\"/Users/Jian/Desktop/Media_Storm/Big_Lots/Ongoing/Datorama/2018/outputs_2018-11-10/combined_sales_long_2018-11-10.csv\",dtype=str)\n",
    "total_sales_long['week_end_date']=total_sales_long['week_end_date'].apply(lambda x: datetime.datetime.strptime(x,\"%Y-%m-%d\").date())\n",
    "total_sales_long=total_sales_long[['location_id','week_end_date','sales']]\n",
    "rewards_sales_from_SP_2017Q3_no_80040410_by_store=pd.merge(rewards_sales_from_SP_2017Q3_no_80040410_by_store,total_sales_long,on=['location_id','week_end_date'],how=\"left\")"
   ]
  },
  {
   "cell_type": "code",
   "execution_count": 29,
   "metadata": {
    "collapsed": true
   },
   "outputs": [],
   "source": [
    "rewards_sales_from_SP_2017Q3_no_80040410_by_store.to_csv(\"/Users/Jian/Desktop/Media_Storm/Big_Lots/Analysis/2018_Q3/Q3_Store_Quadrants/Rewards_by_store_no_80040410_JL_20181128.csv\",index=False)\n",
    "\n",
    "\n"
   ]
  },
  {
   "cell_type": "code",
   "execution_count": 37,
   "metadata": {},
   "outputs": [
    {
     "name": "stderr",
     "output_type": "stream",
     "text": [
      "/Users/Jian/anaconda3/lib/python3.6/site-packages/ipykernel_launcher.py:2: SettingWithCopyWarning: \n",
      "A value is trying to be set on a copy of a slice from a DataFrame.\n",
      "Try using .loc[row_indexer,col_indexer] = value instead\n",
      "\n",
      "See the caveats in the documentation: http://pandas.pydata.org/pandas-docs/stable/indexing.html#indexing-view-versus-copy\n",
      "  \n"
     ]
    }
   ],
   "source": [
    "high_merch_cat_382=rewards_sales_from_SP[rewards_sales_from_SP['location_id']==\"382\"]\n",
    "high_merch_cat_382['total_transaction_amt']=high_merch_cat_382['total_transaction_amt'].astype(float)\n",
    "high_merch_cat_382=high_merch_cat_382.sort_values(['total_transaction_amt'],ascending=False)\n",
    "high_merch_cat_382_09302017=high_merch_cat_382[(high_merch_cat_382['transaction_date']>=datetime.date(2017,9,24)) & (high_merch_cat_382['transaction_date']<=datetime.date(2017,9,30))]"
   ]
  },
  {
   "cell_type": "code",
   "execution_count": 39,
   "metadata": {
    "collapsed": true
   },
   "outputs": [],
   "source": [
    "del high_merch_cat_382_09302017['merch_cat']\n",
    "high_merch_cat_382_09302017=high_merch_cat_382_09302017.drop_duplicates()\n",
    "high_merch_cat_382_09302017['total_transaction_amt'].sum()"
   ]
  },
  {
   "cell_type": "code",
   "execution_count": 41,
   "metadata": {},
   "outputs": [
    {
     "data": {
      "text/plain": [
       "87100.26999999995"
      ]
     },
     "execution_count": 41,
     "metadata": {},
     "output_type": "execute_result"
    }
   ],
   "source": []
  },
  {
   "cell_type": "code",
   "execution_count": 42,
   "metadata": {},
   "outputs": [
    {
     "data": {
      "text/html": [
       "<div>\n",
       "<style>\n",
       "    .dataframe thead tr:only-child th {\n",
       "        text-align: right;\n",
       "    }\n",
       "\n",
       "    .dataframe thead th {\n",
       "        text-align: left;\n",
       "    }\n",
       "\n",
       "    .dataframe tbody tr th {\n",
       "        vertical-align: top;\n",
       "    }\n",
       "</style>\n",
       "<table border=\"1\" class=\"dataframe\">\n",
       "  <thead>\n",
       "    <tr style=\"text-align: right;\">\n",
       "      <th></th>\n",
       "      <th>customer_id_hashed</th>\n",
       "      <th>transaction_date</th>\n",
       "      <th>transaction_time</th>\n",
       "      <th>transaction_id</th>\n",
       "      <th>location_id</th>\n",
       "      <th>total_transaction_amt</th>\n",
       "      <th>total_transaction_units</th>\n",
       "    </tr>\n",
       "  </thead>\n",
       "  <tbody>\n",
       "    <tr>\n",
       "      <th>115779758</th>\n",
       "      <td>2421f603da36485b45bbba22a926e8581eb2f5fe132428...</td>\n",
       "      <td>2017-09-30</td>\n",
       "      <td>18:05</td>\n",
       "      <td>8093</td>\n",
       "      <td>382</td>\n",
       "      <td>2399.94</td>\n",
       "      <td>12.0</td>\n",
       "    </tr>\n",
       "    <tr>\n",
       "      <th>115482752</th>\n",
       "      <td>caf1ef4498864b5169997ba3a9ce82c733f0b992f8e694...</td>\n",
       "      <td>2017-09-30</td>\n",
       "      <td>13:17</td>\n",
       "      <td>8052</td>\n",
       "      <td>382</td>\n",
       "      <td>1809.94</td>\n",
       "      <td>10.0</td>\n",
       "    </tr>\n",
       "  </tbody>\n",
       "</table>\n",
       "</div>"
      ],
      "text/plain": [
       "                                          customer_id_hashed transaction_date  \\\n",
       "115779758  2421f603da36485b45bbba22a926e8581eb2f5fe132428...       2017-09-30   \n",
       "115482752  caf1ef4498864b5169997ba3a9ce82c733f0b992f8e694...       2017-09-30   \n",
       "\n",
       "          transaction_time transaction_id location_id  total_transaction_amt  \\\n",
       "115779758            18:05           8093         382                2399.94   \n",
       "115482752            13:17           8052         382                1809.94   \n",
       "\n",
       "          total_transaction_units  \n",
       "115779758                    12.0  \n",
       "115482752                    10.0  "
      ]
     },
     "execution_count": 42,
     "metadata": {},
     "output_type": "execute_result"
    }
   ],
   "source": [
    "high_merch_cat_382_09302017.head(2)"
   ]
  },
  {
   "cell_type": "code",
   "execution_count": 44,
   "metadata": {},
   "outputs": [
    {
     "data": {
      "text/plain": [
       "87100.26999999995"
      ]
     },
     "execution_count": 44,
     "metadata": {},
     "output_type": "execute_result"
    }
   ],
   "source": [
    "del high_merch_cat_382_09302017['location_id']\n",
    "high_merch_cat_382_09302017=high_merch_cat_382_09302017.drop_duplicates()\n",
    "high_merch_cat_382_09302017['total_transaction_amt'].sum()"
   ]
  },
  {
   "cell_type": "code",
   "execution_count": 45,
   "metadata": {},
   "outputs": [
    {
     "data": {
      "text/html": [
       "<div>\n",
       "<style>\n",
       "    .dataframe thead tr:only-child th {\n",
       "        text-align: right;\n",
       "    }\n",
       "\n",
       "    .dataframe thead th {\n",
       "        text-align: left;\n",
       "    }\n",
       "\n",
       "    .dataframe tbody tr th {\n",
       "        vertical-align: top;\n",
       "    }\n",
       "</style>\n",
       "<table border=\"1\" class=\"dataframe\">\n",
       "  <thead>\n",
       "    <tr style=\"text-align: right;\">\n",
       "      <th></th>\n",
       "      <th>customer_id_hashed</th>\n",
       "      <th>transaction_date</th>\n",
       "      <th>transaction_id</th>\n",
       "      <th>total_transaction_amt</th>\n",
       "      <th>total_transaction_units</th>\n",
       "    </tr>\n",
       "  </thead>\n",
       "  <tbody>\n",
       "    <tr>\n",
       "      <th>115779758</th>\n",
       "      <td>2421f603da36485b45bbba22a926e8581eb2f5fe132428...</td>\n",
       "      <td>2017-09-30</td>\n",
       "      <td>8093</td>\n",
       "      <td>2399.94</td>\n",
       "      <td>12.0</td>\n",
       "    </tr>\n",
       "    <tr>\n",
       "      <th>115482752</th>\n",
       "      <td>caf1ef4498864b5169997ba3a9ce82c733f0b992f8e694...</td>\n",
       "      <td>2017-09-30</td>\n",
       "      <td>8052</td>\n",
       "      <td>1809.94</td>\n",
       "      <td>10.0</td>\n",
       "    </tr>\n",
       "  </tbody>\n",
       "</table>\n",
       "</div>"
      ],
      "text/plain": [
       "                                          customer_id_hashed transaction_date  \\\n",
       "115779758  2421f603da36485b45bbba22a926e8581eb2f5fe132428...       2017-09-30   \n",
       "115482752  caf1ef4498864b5169997ba3a9ce82c733f0b992f8e694...       2017-09-30   \n",
       "\n",
       "          transaction_id  total_transaction_amt total_transaction_units  \n",
       "115779758           8093                2399.94                    12.0  \n",
       "115482752           8052                1809.94                    10.0  "
      ]
     },
     "execution_count": 45,
     "metadata": {},
     "output_type": "execute_result"
    }
   ],
   "source": [
    "high_merch_cat_382_09302017.head(2)"
   ]
  },
  {
   "cell_type": "code",
   "execution_count": 47,
   "metadata": {
    "collapsed": true
   },
   "outputs": [],
   "source": [
    "count_df=high_merch_cat_382_09302017.groupby(['customer_id_hashed','transaction_date'])['transaction_id'].count().to_frame().reset_index()\n",
    "count_df_more_than_1=count_df[count_df['transaction_id']>1]"
   ]
  },
  {
   "cell_type": "code",
   "execution_count": 48,
   "metadata": {},
   "outputs": [
    {
     "data": {
      "text/plain": [
       "(111, 3)"
      ]
     },
     "execution_count": 48,
     "metadata": {},
     "output_type": "execute_result"
    }
   ],
   "source": [
    "count_df_more_than_1.shape"
   ]
  },
  {
   "cell_type": "code",
   "execution_count": 50,
   "metadata": {},
   "outputs": [
    {
     "data": {
      "text/plain": [
       "'0aa2e9e5d0c5ff368cf5a85e4e6e3cd0479a64c45ae0e69fac24ae179d38178c'"
      ]
     },
     "execution_count": 50,
     "metadata": {},
     "output_type": "execute_result"
    }
   ],
   "source": [
    "count_df_more_than_1['customer_id_hashed'].tolist()[4]"
   ]
  },
  {
   "cell_type": "code",
   "execution_count": 51,
   "metadata": {},
   "outputs": [
    {
     "data": {
      "text/html": [
       "<div>\n",
       "<style>\n",
       "    .dataframe thead tr:only-child th {\n",
       "        text-align: right;\n",
       "    }\n",
       "\n",
       "    .dataframe thead th {\n",
       "        text-align: left;\n",
       "    }\n",
       "\n",
       "    .dataframe tbody tr th {\n",
       "        vertical-align: top;\n",
       "    }\n",
       "</style>\n",
       "<table border=\"1\" class=\"dataframe\">\n",
       "  <thead>\n",
       "    <tr style=\"text-align: right;\">\n",
       "      <th></th>\n",
       "      <th>customer_id_hashed</th>\n",
       "      <th>transaction_date</th>\n",
       "      <th>transaction_id</th>\n",
       "      <th>total_transaction_amt</th>\n",
       "      <th>total_transaction_units</th>\n",
       "    </tr>\n",
       "  </thead>\n",
       "  <tbody>\n",
       "    <tr>\n",
       "      <th>114396749</th>\n",
       "      <td>0aa2e9e5d0c5ff368cf5a85e4e6e3cd0479a64c45ae0e6...</td>\n",
       "      <td>2017-09-25</td>\n",
       "      <td>7952</td>\n",
       "      <td>479.99</td>\n",
       "      <td>1.0</td>\n",
       "    </tr>\n",
       "    <tr>\n",
       "      <th>114619042</th>\n",
       "      <td>0aa2e9e5d0c5ff368cf5a85e4e6e3cd0479a64c45ae0e6...</td>\n",
       "      <td>2017-09-25</td>\n",
       "      <td>7953</td>\n",
       "      <td>479.99</td>\n",
       "      <td>1.0</td>\n",
       "    </tr>\n",
       "    <tr>\n",
       "      <th>114695765</th>\n",
       "      <td>0aa2e9e5d0c5ff368cf5a85e4e6e3cd0479a64c45ae0e6...</td>\n",
       "      <td>2017-09-25</td>\n",
       "      <td>4169</td>\n",
       "      <td>479.99</td>\n",
       "      <td>1.0</td>\n",
       "    </tr>\n",
       "    <tr>\n",
       "      <th>115538689</th>\n",
       "      <td>0aa2e9e5d0c5ff368cf5a85e4e6e3cd0479a64c45ae0e6...</td>\n",
       "      <td>2017-09-30</td>\n",
       "      <td>8024</td>\n",
       "      <td>479.99</td>\n",
       "      <td>1.0</td>\n",
       "    </tr>\n",
       "  </tbody>\n",
       "</table>\n",
       "</div>"
      ],
      "text/plain": [
       "                                          customer_id_hashed transaction_date  \\\n",
       "114396749  0aa2e9e5d0c5ff368cf5a85e4e6e3cd0479a64c45ae0e6...       2017-09-25   \n",
       "114619042  0aa2e9e5d0c5ff368cf5a85e4e6e3cd0479a64c45ae0e6...       2017-09-25   \n",
       "114695765  0aa2e9e5d0c5ff368cf5a85e4e6e3cd0479a64c45ae0e6...       2017-09-25   \n",
       "115538689  0aa2e9e5d0c5ff368cf5a85e4e6e3cd0479a64c45ae0e6...       2017-09-30   \n",
       "\n",
       "          transaction_id  total_transaction_amt total_transaction_units  \n",
       "114396749           7952                 479.99                     1.0  \n",
       "114619042           7953                 479.99                     1.0  \n",
       "114695765           4169                 479.99                     1.0  \n",
       "115538689           8024                 479.99                     1.0  "
      ]
     },
     "execution_count": 51,
     "metadata": {},
     "output_type": "execute_result"
    }
   ],
   "source": [
    "high_merch_cat_382_09302017[high_merch_cat_382_09302017['customer_id_hashed']=='0aa2e9e5d0c5ff368cf5a85e4e6e3cd0479a64c45ae0e69fac24ae179d38178c']"
   ]
  },
  {
   "cell_type": "code",
   "execution_count": null,
   "metadata": {
    "collapsed": true
   },
   "outputs": [],
   "source": [
    "⁨MediaStorm Weekly Extracts 2017-09-30⁩\n",
    "\n"
   ]
  },
  {
   "cell_type": "code",
   "execution_count": 59,
   "metadata": {
    "collapsed": true
   },
   "outputs": [],
   "source": [
    "weekly_0930_sales=pd.read_table(\"/Users/Jian/Desktop/Media_Storm/Big_Lots/Ongoing/Data/2017_Data/MediaStorm Weekly Extracts 2017-09-30/MediaStormSalesWeekly 2017-09-30.txt\",dtype=str,sep=\"|\")\n",
    "weekly_0930_sales['class_gross_sales_amt']=weekly_0930_sales['class_gross_sales_amt'].astype(float)\n"
   ]
  },
  {
   "cell_type": "code",
   "execution_count": 60,
   "metadata": {},
   "outputs": [
    {
     "data": {
      "text/plain": [
       "67423.06"
      ]
     },
     "execution_count": 60,
     "metadata": {},
     "output_type": "execute_result"
    }
   ],
   "source": [
    "weekly_0930_sales[weekly_0930_sales['location_id']==\"382\"]['class_gross_sales_amt'].sum()"
   ]
  },
  {
   "cell_type": "code",
   "execution_count": 58,
   "metadata": {},
   "outputs": [
    {
     "data": {
      "text/html": [
       "<div>\n",
       "<style>\n",
       "    .dataframe thead tr:only-child th {\n",
       "        text-align: right;\n",
       "    }\n",
       "\n",
       "    .dataframe thead th {\n",
       "        text-align: left;\n",
       "    }\n",
       "\n",
       "    .dataframe tbody tr th {\n",
       "        vertical-align: top;\n",
       "    }\n",
       "</style>\n",
       "<table border=\"1\" class=\"dataframe\">\n",
       "  <thead>\n",
       "    <tr style=\"text-align: right;\">\n",
       "      <th></th>\n",
       "      <th>location_id</th>\n",
       "      <th>week_end_dt</th>\n",
       "      <th>fiscal_week_nbr</th>\n",
       "      <th>gross_sales_amt</th>\n",
       "      <th>gross_transaction_cnt</th>\n",
       "      <th>class_code_id</th>\n",
       "      <th>class_gross_sales_amt</th>\n",
       "    </tr>\n",
       "  </thead>\n",
       "  <tbody>\n",
       "    <tr>\n",
       "      <th>0</th>\n",
       "      <td>1</td>\n",
       "      <td>2017-09-30</td>\n",
       "      <td>35</td>\n",
       "      <td>0000000000079292.72</td>\n",
       "      <td>2583</td>\n",
       "      <td>11001</td>\n",
       "      <td>0000000000001116.25</td>\n",
       "    </tr>\n",
       "    <tr>\n",
       "      <th>1</th>\n",
       "      <td>1</td>\n",
       "      <td>2017-09-30</td>\n",
       "      <td>35</td>\n",
       "      <td>0000000000079292.72</td>\n",
       "      <td>2583</td>\n",
       "      <td>11003</td>\n",
       "      <td>0000000000002717.75</td>\n",
       "    </tr>\n",
       "  </tbody>\n",
       "</table>\n",
       "</div>"
      ],
      "text/plain": [
       "  location_id week_end_dt fiscal_week_nbr       gross_sales_amt  \\\n",
       "0           1  2017-09-30              35   0000000000079292.72   \n",
       "1           1  2017-09-30              35   0000000000079292.72   \n",
       "\n",
       "  gross_transaction_cnt class_code_id class_gross_sales_amt  \n",
       "0                  2583         11001   0000000000001116.25  \n",
       "1                  2583         11003   0000000000002717.75  "
      ]
     },
     "execution_count": 58,
     "metadata": {},
     "output_type": "execute_result"
    }
   ],
   "source": [
    "weekly_0930_sales.head(2)"
   ]
  },
  {
   "cell_type": "code",
   "execution_count": null,
   "metadata": {
    "collapsed": true
   },
   "outputs": [],
   "source": []
  }
 ],
 "metadata": {
  "kernelspec": {
   "display_name": "Python 3",
   "language": "python",
   "name": "python3"
  },
  "language_info": {
   "codemirror_mode": {
    "name": "ipython",
    "version": 3
   },
   "file_extension": ".py",
   "mimetype": "text/x-python",
   "name": "python",
   "nbconvert_exporter": "python",
   "pygments_lexer": "ipython3",
   "version": "3.6.1"
  }
 },
 "nbformat": 4,
 "nbformat_minor": 2
}
