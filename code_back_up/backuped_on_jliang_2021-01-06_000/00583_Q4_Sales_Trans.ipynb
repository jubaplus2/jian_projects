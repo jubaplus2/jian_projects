{
 "cells": [
  {
   "cell_type": "code",
   "execution_count": 1,
   "metadata": {
    "collapsed": true
   },
   "outputs": [],
   "source": [
    "import pandas as pd\n",
    "import os\n",
    "import datetime\n",
    "import numpy as np\n",
    "\n",
    "\n",
    "def recursive_file_gen(my_root_dir):\n",
    "    for root, dirs, files in os.walk(my_root_dir):\n",
    "        for file in files:\n",
    "            yield os.path.join(root, file)\n",
    "   "
   ]
  },
  {
   "cell_type": "code",
   "execution_count": 2,
   "metadata": {},
   "outputs": [],
   "source": [
    "Weeks_2018_Q4=[datetime.date(2018,11,10)+datetime.timedelta(days=x*7) for x in range(13)]\n",
    "\n",
    "Q4_2018_weekly_data=list(recursive_file_gen(\"/home/jian/BigLots/2018_by_weeks/\"))\n",
    "Q4_2018_weekly_data=[x for x in Q4_2018_weekly_data if (\"SalesWeekly\" in x)]\n",
    "\n",
    "Q4_2019_weekly_data=list(recursive_file_gen(\"/home/jian/BigLots/2019_by_weeks/\"))\n",
    "Q4_2019_weekly_data=[x for x in Q4_2019_weekly_data if (\"SalesWeekly\" in x)]\n",
    "\n",
    "\n",
    "Q4_weekly_data_list=[]\n",
    "for week in Weeks_2018_Q4:\n",
    "    weekly_file=[x for x in Q4_2018_weekly_data+Q4_2019_weekly_data if str(week) in x]\n",
    "    if len(weekly_file)==1:\n",
    "        Q4_weekly_data_list=Q4_weekly_data_list+weekly_file\n"
   ]
  },
  {
   "cell_type": "code",
   "execution_count": 3,
   "metadata": {},
   "outputs": [],
   "source": [
    "df_output=pd.DataFrame()\n",
    "df_by_store=pd.DataFrame()\n",
    "for file in Q4_weekly_data_list:\n",
    "    try:\n",
    "        df=pd.read_table(file,dtype=str,sep=\"|\",usecols=['location_id','week_end_dt','gross_transaction_cnt','subclass_gross_sales_amt'])\n",
    "        df['subclass_gross_sales_amt']=df['subclass_gross_sales_amt'].astype(float)\n",
    "        df['gross_transaction_cnt']=df['gross_transaction_cnt'].astype(int)\n",
    "        df=df.rename(columns={\"subclass_gross_sales_amt\":\"sales\",'gross_transaction_cnt':\"transactions\"})\n",
    "        df['type']=np.where(df['location_id']==\"6990\",\"Ecommerce\",\"InStore\")\n",
    "        \n",
    "        df_sales=df.groupby(['location_id','week_end_dt','type'])['sales'].sum().to_frame().reset_index()\n",
    "        df_trans=df[['location_id','week_end_dt','type','transactions']].drop_duplicates()\n",
    "        df=pd.merge(df_sales,df_trans,on=[\"location_id\",'week_end_dt','type'],how=\"outer\")\n",
    "        \n",
    "        df_by_store=df_by_store.append(df)\n",
    "        df=df.groupby(['type','week_end_dt'])['sales','transactions'].sum().reset_index()\n",
    "        df_output=df_output.append(df)\n",
    "    except:\n",
    "        df=pd.read_table(file,dtype=str,sep=\"|\",usecols=['location_id','week_end_dt','gross_transaction_cnt','class_gross_sales_amt'])\n",
    "        df['class_gross_sales_amt']=df['class_gross_sales_amt'].astype(float)\n",
    "        df['gross_transaction_cnt']=df['gross_transaction_cnt'].astype(int)\n",
    "        df=df.rename(columns={\"class_gross_sales_amt\":\"sales\",'gross_transaction_cnt':\"transactions\"})\n",
    "        df['type']=np.where(df['location_id']==\"6990\",\"Ecommerce\",\"InStore\")\n",
    "        \n",
    "        df_sales=df.groupby(['location_id','week_end_dt','type'])['sales'].sum().to_frame().reset_index()\n",
    "        df_trans=df[['location_id','week_end_dt','type','transactions']].drop_duplicates()\n",
    "        df=pd.merge(df_sales,df_trans,on=[\"location_id\",'week_end_dt','type'],how=\"outer\")\n",
    "        \n",
    "        df_by_store=df_by_store.append(df)\n",
    "        df=df.groupby(['type','week_end_dt'])['sales','transactions'].sum().reset_index()\n",
    "        df_output=df_output.append(df)"
   ]
  },
  {
   "cell_type": "code",
   "execution_count": 4,
   "metadata": {},
   "outputs": [
    {
     "data": {
      "text/html": [
       "<div>\n",
       "<style>\n",
       "    .dataframe thead tr:only-child th {\n",
       "        text-align: right;\n",
       "    }\n",
       "\n",
       "    .dataframe thead th {\n",
       "        text-align: left;\n",
       "    }\n",
       "\n",
       "    .dataframe tbody tr th {\n",
       "        vertical-align: top;\n",
       "    }\n",
       "</style>\n",
       "<table border=\"1\" class=\"dataframe\">\n",
       "  <thead>\n",
       "    <tr style=\"text-align: right;\">\n",
       "      <th></th>\n",
       "      <th>type</th>\n",
       "      <th>week_end_dt</th>\n",
       "      <th>sales</th>\n",
       "      <th>transactions</th>\n",
       "    </tr>\n",
       "  </thead>\n",
       "  <tbody>\n",
       "    <tr>\n",
       "      <th>0</th>\n",
       "      <td>Ecommerce</td>\n",
       "      <td>2019-02-02</td>\n",
       "      <td>304629.13</td>\n",
       "      <td>3295</td>\n",
       "    </tr>\n",
       "    <tr>\n",
       "      <th>1</th>\n",
       "      <td>InStore</td>\n",
       "      <td>2019-02-02</td>\n",
       "      <td>73125938.18</td>\n",
       "      <td>2400351</td>\n",
       "    </tr>\n",
       "  </tbody>\n",
       "</table>\n",
       "</div>"
      ],
      "text/plain": [
       "        type week_end_dt        sales  transactions\n",
       "0  Ecommerce  2019-02-02    304629.13          3295\n",
       "1    InStore  2019-02-02  73125938.18       2400351"
      ]
     },
     "execution_count": 4,
     "metadata": {},
     "output_type": "execute_result"
    }
   ],
   "source": [
    "df.head(2)"
   ]
  },
  {
   "cell_type": "code",
   "execution_count": 5,
   "metadata": {},
   "outputs": [],
   "source": [
    "type_df=df_output.groupby(['type'])['sales','transactions'].sum().reset_index()"
   ]
  },
  {
   "cell_type": "code",
   "execution_count": 6,
   "metadata": {
    "collapsed": true
   },
   "outputs": [],
   "source": [
    "writer=pd.ExcelWriter(\"/home/jian/Projects/Big_Lots/Analysis/2019_Q1/Planner_Request/Q2_2018_Sales_Ecom_InStore_Bruce_0320/BL_2018Q4_total_Sales_Trans.xlsx\",engine=\"xlsxwriter\")\n",
    "type_df.to_excel(writer,\"Total_Type\",index=False)\n",
    "df_output.to_excel(writer,\"Total_Type_week\",index=False)\n",
    "df_by_store.to_excel(writer,\"Store_Week\",index=False)\n",
    "writer.save()"
   ]
  },
  {
   "cell_type": "code",
   "execution_count": null,
   "metadata": {
    "collapsed": true
   },
   "outputs": [],
   "source": []
  }
 ],
 "metadata": {
  "kernelspec": {
   "display_name": "Python 3",
   "language": "python",
   "name": "python3"
  },
  "language_info": {
   "codemirror_mode": {
    "name": "ipython",
    "version": 3
   },
   "file_extension": ".py",
   "mimetype": "text/x-python",
   "name": "python",
   "nbconvert_exporter": "python",
   "pygments_lexer": "ipython3",
   "version": "3.6.1"
  }
 },
 "nbformat": 4,
 "nbformat_minor": 2
}
