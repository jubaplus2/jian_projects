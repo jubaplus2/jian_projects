{
 "cells": [
  {
   "cell_type": "code",
   "execution_count": 1,
   "metadata": {},
   "outputs": [
    {
     "data": {
      "text/plain": [
       "'/home/jian/Projects/Big_Lots/Analysis/2019_Q1/Planner_Request/Rewards_NonR_LawGardenPatio_JT_20190215'"
      ]
     },
     "execution_count": 1,
     "metadata": {},
     "output_type": "execute_result"
    }
   ],
   "source": [
    "import pandas as pd\n",
    "import numpy as np\n",
    "import os\n",
    "import datetime\n",
    "\n",
    "os.getcwd()"
   ]
  },
  {
   "cell_type": "code",
   "execution_count": 2,
   "metadata": {},
   "outputs": [
    {
     "data": {
      "text/plain": [
       "'35077'"
      ]
     },
     "execution_count": 2,
     "metadata": {},
     "output_type": "execute_result"
    }
   ],
   "source": [
    "taxonomy=pd.read_csv(\"/home/jian/BigLots/static_files/ProductTaxonomy/MediaStormProductTaxonomy20190201-133832-059.txt\",dtype=str,sep=\"|\")\n",
    "taxonomy['subclass_id']=taxonomy['subclass_id'].apply(lambda x: x.zfill(3))\n",
    "division_id_id_name=pd.read_table(\"/home/jian/BigLots/static_files/MediaStorm Data Extract - Division Names.txt\",dtype=str,sep=\"|\")\n",
    "department_id_name=pd.read_table(\"/home/jian/BigLots/static_files/MediaStorm Data Extract - Department Names.txt\",dtype=str,sep=\"|\")\n",
    "class_id_name=pd.read_table(\"/home/jian/BigLots/static_files/MediaStorm Data Extract - Class Names.txt\",dtype=str,sep=\"|\",encoding ='ISO-8859-1')\n",
    "\n",
    "Patio_RUGS_ClassID=class_id_name[class_id_name['class_code_desc']==\"PATIO RUGS\"]['class_code_id'].unique().tolist()\n",
    "if len(Patio_RUGS_ClassID)==1:\n",
    "    Patio_RUGS_ClassID=Patio_RUGS_ClassID[0]\n",
    "else:\n",
    "    Patio_RUGS_ClassID=np.nan\n",
    "    \n",
    "Patio_RUGS_ClassID    "
   ]
  },
  {
   "cell_type": "code",
   "execution_count": 4,
   "metadata": {},
   "outputs": [],
   "source": [
    "df=pd.read_table(\"/home/jian/BigLots/2018_by_weeks/MediaStorm_2018-10-13/MediaStormDailySales20181016-120059-769.txt\",sep=\"|\",dtype=str)\n",
    "df['subclass_transaction_amt']=df['subclass_transaction_amt'].astype(float)\n",
    "\n",
    "df_non_rewards=df[pd.isnull(df['customer_id_hashed'])]"
   ]
  },
  {
   "cell_type": "code",
   "execution_count": 7,
   "metadata": {},
   "outputs": [],
   "source": [
    "df_non_rewards=df_non_rewards[df_non_rewards['class_code_id']==\"35077\"]"
   ]
  },
  {
   "cell_type": "code",
   "execution_count": 9,
   "metadata": {},
   "outputs": [
    {
     "data": {
      "text/plain": [
       "-129.07999999999998"
      ]
     },
     "execution_count": 9,
     "metadata": {},
     "output_type": "execute_result"
    }
   ],
   "source": [
    "df_non_rewards['subclass_transaction_amt'].sum()"
   ]
  },
  {
   "cell_type": "code",
   "execution_count": 10,
   "metadata": {},
   "outputs": [
    {
     "data": {
      "text/html": [
       "<div>\n",
       "<style>\n",
       "    .dataframe thead tr:only-child th {\n",
       "        text-align: right;\n",
       "    }\n",
       "\n",
       "    .dataframe thead th {\n",
       "        text-align: left;\n",
       "    }\n",
       "\n",
       "    .dataframe tbody tr th {\n",
       "        vertical-align: top;\n",
       "    }\n",
       "</style>\n",
       "<table border=\"1\" class=\"dataframe\">\n",
       "  <thead>\n",
       "    <tr style=\"text-align: right;\">\n",
       "      <th></th>\n",
       "      <th>location_id</th>\n",
       "      <th>transaction_dt</th>\n",
       "      <th>transaction_id</th>\n",
       "      <th>customer_id_hashed</th>\n",
       "      <th>class_code_id</th>\n",
       "      <th>subclass_id</th>\n",
       "      <th>subclass_transaction_units</th>\n",
       "      <th>subclass_transaction_amt</th>\n",
       "    </tr>\n",
       "  </thead>\n",
       "  <tbody>\n",
       "    <tr>\n",
       "      <th>917275</th>\n",
       "      <td>5359</td>\n",
       "      <td>2018-10-08</td>\n",
       "      <td>9011</td>\n",
       "      <td>NaN</td>\n",
       "      <td>35077</td>\n",
       "      <td>1</td>\n",
       "      <td>-1</td>\n",
       "      <td>-150.00</td>\n",
       "    </tr>\n",
       "    <tr>\n",
       "      <th>1376818</th>\n",
       "      <td>4155</td>\n",
       "      <td>2018-10-08</td>\n",
       "      <td>9458</td>\n",
       "      <td>NaN</td>\n",
       "      <td>35077</td>\n",
       "      <td>1</td>\n",
       "      <td>1</td>\n",
       "      <td>49.00</td>\n",
       "    </tr>\n",
       "    <tr>\n",
       "      <th>2865033</th>\n",
       "      <td>4397</td>\n",
       "      <td>2018-10-10</td>\n",
       "      <td>2888</td>\n",
       "      <td>NaN</td>\n",
       "      <td>35077</td>\n",
       "      <td>1</td>\n",
       "      <td>1</td>\n",
       "      <td>110.00</td>\n",
       "    </tr>\n",
       "    <tr>\n",
       "      <th>4331991</th>\n",
       "      <td>4557</td>\n",
       "      <td>2018-10-13</td>\n",
       "      <td>8035</td>\n",
       "      <td>NaN</td>\n",
       "      <td>35077</td>\n",
       "      <td>1</td>\n",
       "      <td>1</td>\n",
       "      <td>49.00</td>\n",
       "    </tr>\n",
       "    <tr>\n",
       "      <th>4783615</th>\n",
       "      <td>1314</td>\n",
       "      <td>2018-10-13</td>\n",
       "      <td>6655</td>\n",
       "      <td>NaN</td>\n",
       "      <td>35077</td>\n",
       "      <td>1</td>\n",
       "      <td>-1</td>\n",
       "      <td>-150.00</td>\n",
       "    </tr>\n",
       "    <tr>\n",
       "      <th>5525741</th>\n",
       "      <td>5213</td>\n",
       "      <td>2018-10-07</td>\n",
       "      <td>2364</td>\n",
       "      <td>NaN</td>\n",
       "      <td>35077</td>\n",
       "      <td>1</td>\n",
       "      <td>1</td>\n",
       "      <td>89.00</td>\n",
       "    </tr>\n",
       "    <tr>\n",
       "      <th>7564002</th>\n",
       "      <td>1075</td>\n",
       "      <td>2018-10-09</td>\n",
       "      <td>2224</td>\n",
       "      <td>NaN</td>\n",
       "      <td>35077</td>\n",
       "      <td>1</td>\n",
       "      <td>-1</td>\n",
       "      <td>-49.00</td>\n",
       "    </tr>\n",
       "    <tr>\n",
       "      <th>7684058</th>\n",
       "      <td>1075</td>\n",
       "      <td>2018-10-10</td>\n",
       "      <td>7079</td>\n",
       "      <td>NaN</td>\n",
       "      <td>35077</td>\n",
       "      <td>1</td>\n",
       "      <td>1</td>\n",
       "      <td>3.92</td>\n",
       "    </tr>\n",
       "    <tr>\n",
       "      <th>8062274</th>\n",
       "      <td>4088</td>\n",
       "      <td>2018-10-10</td>\n",
       "      <td>3768</td>\n",
       "      <td>NaN</td>\n",
       "      <td>35077</td>\n",
       "      <td>1</td>\n",
       "      <td>-1</td>\n",
       "      <td>-150.00</td>\n",
       "    </tr>\n",
       "    <tr>\n",
       "      <th>8918860</th>\n",
       "      <td>1854</td>\n",
       "      <td>2018-10-12</td>\n",
       "      <td>9301</td>\n",
       "      <td>NaN</td>\n",
       "      <td>35077</td>\n",
       "      <td>1</td>\n",
       "      <td>1</td>\n",
       "      <td>69.00</td>\n",
       "    </tr>\n",
       "  </tbody>\n",
       "</table>\n",
       "</div>"
      ],
      "text/plain": [
       "        location_id transaction_dt transaction_id customer_id_hashed  \\\n",
       "917275         5359     2018-10-08           9011                NaN   \n",
       "1376818        4155     2018-10-08           9458                NaN   \n",
       "2865033        4397     2018-10-10           2888                NaN   \n",
       "4331991        4557     2018-10-13           8035                NaN   \n",
       "4783615        1314     2018-10-13           6655                NaN   \n",
       "5525741        5213     2018-10-07           2364                NaN   \n",
       "7564002        1075     2018-10-09           2224                NaN   \n",
       "7684058        1075     2018-10-10           7079                NaN   \n",
       "8062274        4088     2018-10-10           3768                NaN   \n",
       "8918860        1854     2018-10-12           9301                NaN   \n",
       "\n",
       "        class_code_id subclass_id subclass_transaction_units  \\\n",
       "917275          35077           1                         -1   \n",
       "1376818         35077           1                          1   \n",
       "2865033         35077           1                          1   \n",
       "4331991         35077           1                          1   \n",
       "4783615         35077           1                         -1   \n",
       "5525741         35077           1                          1   \n",
       "7564002         35077           1                         -1   \n",
       "7684058         35077           1                          1   \n",
       "8062274         35077           1                         -1   \n",
       "8918860         35077           1                          1   \n",
       "\n",
       "         subclass_transaction_amt  \n",
       "917275                    -150.00  \n",
       "1376818                     49.00  \n",
       "2865033                    110.00  \n",
       "4331991                     49.00  \n",
       "4783615                   -150.00  \n",
       "5525741                     89.00  \n",
       "7564002                    -49.00  \n",
       "7684058                      3.92  \n",
       "8062274                   -150.00  \n",
       "8918860                     69.00  "
      ]
     },
     "execution_count": 10,
     "metadata": {},
     "output_type": "execute_result"
    }
   ],
   "source": [
    "df_non_rewards"
   ]
  },
  {
   "cell_type": "code",
   "execution_count": null,
   "metadata": {
    "collapsed": true
   },
   "outputs": [],
   "source": []
  }
 ],
 "metadata": {
  "kernelspec": {
   "display_name": "Python 3",
   "language": "python",
   "name": "python3"
  },
  "language_info": {
   "codemirror_mode": {
    "name": "ipython",
    "version": 3
   },
   "file_extension": ".py",
   "mimetype": "text/x-python",
   "name": "python",
   "nbconvert_exporter": "python",
   "pygments_lexer": "ipython3",
   "version": "3.6.1"
  }
 },
 "nbformat": 4,
 "nbformat_minor": 2
}
