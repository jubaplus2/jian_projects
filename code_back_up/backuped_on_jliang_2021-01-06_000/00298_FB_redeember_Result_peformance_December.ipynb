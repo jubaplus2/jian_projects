{
 "cells": [
  {
   "cell_type": "code",
   "execution_count": 1,
   "metadata": {},
   "outputs": [
    {
     "data": {
      "text/plain": [
       "datetime.datetime(2020, 3, 13, 17, 37, 42, 700857)"
      ]
     },
     "execution_count": 1,
     "metadata": {},
     "output_type": "execute_result"
    }
   ],
   "source": [
    "# The FB flight for the $5 Off coupon was 12/5-12/15\n",
    "# From Margaret, RE: BL $5 Reward December analysis request (FB+EM vs. EM only)\n",
    "# Tuesday, January 14, 2020 at 3:20 PM\n",
    "\n",
    "import pandas as pd\n",
    "import os\n",
    "import datetime\n",
    "import numpy as np\n",
    "import gc\n",
    "import glob\n",
    "gc.collect()\n",
    "\n",
    "datetime.datetime.now()"
   ]
  },
  {
   "cell_type": "code",
   "execution_count": 2,
   "metadata": {},
   "outputs": [
    {
     "name": "stdout",
     "output_type": "stream",
     "text": [
      "(249159, 2)\n",
      "(249159, 2) 249159 249159\n"
     ]
    },
    {
     "data": {
      "text/html": [
       "<div>\n",
       "<style scoped>\n",
       "    .dataframe tbody tr th:only-of-type {\n",
       "        vertical-align: middle;\n",
       "    }\n",
       "\n",
       "    .dataframe tbody tr th {\n",
       "        vertical-align: top;\n",
       "    }\n",
       "\n",
       "    .dataframe thead th {\n",
       "        text-align: right;\n",
       "    }\n",
       "</style>\n",
       "<table border=\"1\" class=\"dataframe\">\n",
       "  <thead>\n",
       "    <tr style=\"text-align: right;\">\n",
       "      <th></th>\n",
       "      <th>hashed_customer_num</th>\n",
       "      <th>hashed_email_address</th>\n",
       "    </tr>\n",
       "  </thead>\n",
       "  <tbody>\n",
       "    <tr>\n",
       "      <th>0</th>\n",
       "      <td>e636946300d822417f695bd93a14a2bc6506ca3be6485c...</td>\n",
       "      <td>35b15f9589fa9ed6edbf377fbdeacd201eadfab15c118d...</td>\n",
       "    </tr>\n",
       "    <tr>\n",
       "      <th>1</th>\n",
       "      <td>5c3890970390e6fc48245643ea27e03c584f0cbf957afd...</td>\n",
       "      <td>460d11ff27714f2ef27b05cc1164466d13ced6af048bd3...</td>\n",
       "    </tr>\n",
       "  </tbody>\n",
       "</table>\n",
       "</div>"
      ],
      "text/plain": [
       "                                 hashed_customer_num  \\\n",
       "0  e636946300d822417f695bd93a14a2bc6506ca3be6485c...   \n",
       "1  5c3890970390e6fc48245643ea27e03c584f0cbf957afd...   \n",
       "\n",
       "                                hashed_email_address  \n",
       "0  35b15f9589fa9ed6edbf377fbdeacd201eadfab15c118d...  \n",
       "1  460d11ff27714f2ef27b05cc1164466d13ced6af048bd3...  "
      ]
     },
     "execution_count": 2,
     "metadata": {},
     "output_type": "execute_result"
    }
   ],
   "source": [
    "df_redeemers=pd.read_csv(\"/home/jian/BigLots/AgilOne/redeemers_2019Dec/december_full_file_redeemers.txt\",\n",
    "                        dtype=str,sep=\"\\t\")\n",
    "print(df_redeemers.shape)\n",
    "print(df_redeemers.shape,df_redeemers['hashed_customer_num'].nunique(),df_redeemers['hashed_email_address'].nunique())\n",
    "df_redeemers.head(2)"
   ]
  },
  {
   "cell_type": "code",
   "execution_count": 3,
   "metadata": {},
   "outputs": [
    {
     "name": "stdout",
     "output_type": "stream",
     "text": [
      "df_FB_Control.shape (500000, 2)\n",
      "df_FB_Test.shape (6400000, 2)\n"
     ]
    }
   ],
   "source": [
    "df_FB_Control=pd.read_csv(\"/home/jian/Projects/Big_Lots/Analysis/2019_Q4/Facebook_coupons/hash_facebook_only_1201.zip\",\n",
    "                             dtype=str,compression=\"zip\",sep=\"|\")\n",
    "df_FB_Test=pd.read_csv(\"/home/jian/Projects/Big_Lots/Analysis/2019_Q4/Facebook_coupons/hash_facebook_email_1201.zip\",\n",
    "                             dtype=str,compression=\"zip\",sep=\"|\")\n",
    "\n",
    "print(\"df_FB_Control.shape\",df_FB_Control.shape)\n",
    "print(\"df_FB_Test.shape\",df_FB_Test.shape)\n"
   ]
  },
  {
   "cell_type": "code",
   "execution_count": 4,
   "metadata": {},
   "outputs": [
    {
     "name": "stdout",
     "output_type": "stream",
     "text": [
      "(6900000, 3)\n"
     ]
    },
    {
     "data": {
      "text/html": [
       "<div>\n",
       "<style scoped>\n",
       "    .dataframe tbody tr th:only-of-type {\n",
       "        vertical-align: middle;\n",
       "    }\n",
       "\n",
       "    .dataframe tbody tr th {\n",
       "        vertical-align: top;\n",
       "    }\n",
       "\n",
       "    .dataframe thead th {\n",
       "        text-align: right;\n",
       "    }\n",
       "</style>\n",
       "<table border=\"1\" class=\"dataframe\">\n",
       "  <thead>\n",
       "    <tr style=\"text-align: right;\">\n",
       "      <th></th>\n",
       "      <th>hashed_customer_num</th>\n",
       "      <th>hashed_email_address</th>\n",
       "      <th>Group</th>\n",
       "    </tr>\n",
       "  </thead>\n",
       "  <tbody>\n",
       "    <tr>\n",
       "      <th>0</th>\n",
       "      <td>913adf1bb21c381d129a226468e69ce8a61c07083efbd5...</td>\n",
       "      <td>7c872f1fd8985a0cee7e6d8b86fa89f34c683d018111ab...</td>\n",
       "      <td>test</td>\n",
       "    </tr>\n",
       "    <tr>\n",
       "      <th>1</th>\n",
       "      <td>dad71dc369858e4d71755b3b88701a3dea4de62eef8ac7...</td>\n",
       "      <td>28bb15e7436c23796ebf07a42e3787bfabf1ed8ad9eb3a...</td>\n",
       "      <td>test</td>\n",
       "    </tr>\n",
       "  </tbody>\n",
       "</table>\n",
       "</div>"
      ],
      "text/plain": [
       "                                 hashed_customer_num  \\\n",
       "0  913adf1bb21c381d129a226468e69ce8a61c07083efbd5...   \n",
       "1  dad71dc369858e4d71755b3b88701a3dea4de62eef8ac7...   \n",
       "\n",
       "                                hashed_email_address Group  \n",
       "0  7c872f1fd8985a0cee7e6d8b86fa89f34c683d018111ab...  test  \n",
       "1  28bb15e7436c23796ebf07a42e3787bfabf1ed8ad9eb3a...  test  "
      ]
     },
     "execution_count": 4,
     "metadata": {},
     "output_type": "execute_result"
    }
   ],
   "source": [
    "df_FB_Test['Group']=\"test\"\n",
    "df_FB_Control['Group']=\"control\"\n",
    "df_id_group=df_FB_Test.append(df_FB_Control)\n",
    "\n",
    "del df_FB_Test\n",
    "del df_FB_Control\n",
    "print(df_id_group.shape)\n",
    "\n",
    "df_id_group.head(2)"
   ]
  },
  {
   "cell_type": "code",
   "execution_count": 5,
   "metadata": {},
   "outputs": [
    {
     "name": "stdout",
     "output_type": "stream",
     "text": [
      "(0, 2)\n",
      "(12, 2)\n"
     ]
    }
   ],
   "source": [
    "df_qc_duplicate_id=df_id_group.groupby(\"hashed_customer_num\")['Group'].nunique().to_frame().reset_index().sort_values(\"Group\",ascending=False)\n",
    "df_qc_duplicate_email=df_id_group.groupby(\"hashed_email_address\")['Group'].nunique().to_frame().reset_index().sort_values(\"Group\",ascending=False)\n",
    "\n",
    "df_qc_duplicate_id=df_qc_duplicate_id[df_qc_duplicate_id['Group']>1]\n",
    "print(df_qc_duplicate_id.shape)\n",
    "\n",
    "df_qc_duplicate_email=df_qc_duplicate_email[df_qc_duplicate_email['Group']>1]\n",
    "print(df_qc_duplicate_email.shape)\n"
   ]
  },
  {
   "cell_type": "code",
   "execution_count": 6,
   "metadata": {},
   "outputs": [
    {
     "name": "stdout",
     "output_type": "stream",
     "text": [
      "12\n",
      "24\n"
     ]
    }
   ],
   "source": [
    "list_duplicated_emails=df_qc_duplicate_email['hashed_email_address'].tolist()\n",
    "print(len(list_duplicated_emails))\n",
    "\n",
    "list_duplicated_ids=df_id_group[df_id_group['hashed_email_address'].isin(list_duplicated_emails)]\n",
    "print(len(list_duplicated_ids))\n"
   ]
  },
  {
   "cell_type": "code",
   "execution_count": 7,
   "metadata": {},
   "outputs": [
    {
     "name": "stdout",
     "output_type": "stream",
     "text": [
      "(6899976, 2)\n"
     ]
    }
   ],
   "source": [
    "# 12 emails removed --24 ids\n",
    "df_id_group=df_id_group[~df_id_group['hashed_email_address'].isin(list_duplicated_emails)]\n",
    "del df_id_group['hashed_email_address']\n",
    "df_id_group=df_id_group.rename(columns={\"hashed_customer_num\":\"customer_id_hashed\"})\n",
    "print(df_id_group.shape)"
   ]
  },
  {
   "cell_type": "markdown",
   "metadata": {},
   "source": [
    "# Clickers"
   ]
  },
  {
   "cell_type": "code",
   "execution_count": 8,
   "metadata": {},
   "outputs": [
    {
     "data": {
      "text/plain": [
       "'\\nimport paramiko\\n\\nhost = \"64.237.51.251\" #hard-coded\\nport = 22\\ntransport = paramiko.Transport((host, port))\\n\\npassword = \"jian@juba2017\" #hard-coded\\nusername = \"jian\" #hard-coded\\ntransport.connect(username = username, password = password)\\nsftp = paramiko.SFTPClient.from_transport(transport)\\n\\nremote_path=\"/mnt/drv5/jian/Big_Lots/BL_1_to_1_2019Q4/Aggregated_files_to_use/LR/BL_aggregate_click_LR_returned_Q4_JL_2020-02-19.tsv.gz\"\\nbase_name=os.path.basename(remote_path)\\nlocal_path=os.getcwd()+\"/\"+base_name\\n\\nprint(local_path)\\n\\n\\nsftp.get(remote_path,local_path)\\nsftp.close()\\ntransport.close()\\n'"
      ]
     },
     "execution_count": 8,
     "metadata": {},
     "output_type": "execute_result"
    }
   ],
   "source": [
    "'''\n",
    "import paramiko\n",
    "\n",
    "host = \"64.237.51.251\" #hard-coded\n",
    "port = 22\n",
    "transport = paramiko.Transport((host, port))\n",
    "\n",
    "password = \"jian@juba2017\" #hard-coded\n",
    "username = \"jian\" #hard-coded\n",
    "transport.connect(username = username, password = password)\n",
    "sftp = paramiko.SFTPClient.from_transport(transport)\n",
    "\n",
    "remote_path=\"/mnt/drv5/jian/Big_Lots/BL_1_to_1_2019Q4/Aggregated_files_to_use/LR/BL_aggregate_click_LR_returned_Q4_JL_2020-02-19.tsv.gz\"\n",
    "base_name=os.path.basename(remote_path)\n",
    "local_path=os.getcwd()+\"/\"+base_name\n",
    "\n",
    "print(local_path)\n",
    "\n",
    "\n",
    "sftp.get(remote_path,local_path)\n",
    "sftp.close()\n",
    "transport.close()\n",
    "'''"
   ]
  },
  {
   "cell_type": "code",
   "execution_count": 9,
   "metadata": {},
   "outputs": [
    {
     "name": "stdout",
     "output_type": "stream",
     "text": [
      "(1600823, 7)\n",
      "(296107, 7)\n"
     ]
    },
    {
     "data": {
      "text/plain": [
       "((296107, 7), 227224)"
      ]
     },
     "execution_count": 9,
     "metadata": {},
     "output_type": "execute_result"
    }
   ],
   "source": [
    "df_clickers=pd.read_csv(\"./BL_aggregate_click_LR_returned_Q4_JL_2020-02-19.tsv.gz\",\n",
    "                       compression=\"gzip\",sep=\"\\t\",dtype=str,\n",
    "                        usecols=['Customer_Link','Event Time','Advertiser ID','Campaign ID','Ad ID','Site ID (DCM)','Placement ID'])\n",
    "print(df_clickers.shape)\n",
    "df_clickers=df_clickers[df_clickers['Customer_Link']!=\"UNMATCHED\"]\n",
    "print(df_clickers.shape)\n",
    "df_clickers.shape,df_clickers['Customer_Link'].nunique()"
   ]
  },
  {
   "cell_type": "code",
   "execution_count": 10,
   "metadata": {},
   "outputs": [
    {
     "data": {
      "text/plain": [
       "((27077, 7), 20713)"
      ]
     },
     "execution_count": 10,
     "metadata": {},
     "output_type": "execute_result"
    }
   ],
   "source": [
    "list_placement_id=[\"262271523\",\"262377066\",\"262281871\",\"262377075\",\"262271526\",\"262377072\",\"262271301\",\n",
    "                   \"262377990\",\"261974462\",\"262281874\",\"262179760\",\"262377063\"]\n",
    "\n",
    "df_clickers=df_clickers[df_clickers['Placement ID'].isin(list_placement_id)]\n",
    "\n",
    "df_clickers.shape,df_clickers['Customer_Link'].nunique()"
   ]
  },
  {
   "cell_type": "code",
   "execution_count": 11,
   "metadata": {},
   "outputs": [
    {
     "data": {
      "text/html": [
       "<div>\n",
       "<style scoped>\n",
       "    .dataframe tbody tr th:only-of-type {\n",
       "        vertical-align: middle;\n",
       "    }\n",
       "\n",
       "    .dataframe tbody tr th {\n",
       "        vertical-align: top;\n",
       "    }\n",
       "\n",
       "    .dataframe thead th {\n",
       "        text-align: right;\n",
       "    }\n",
       "</style>\n",
       "<table border=\"1\" class=\"dataframe\">\n",
       "  <thead>\n",
       "    <tr style=\"text-align: right;\">\n",
       "      <th></th>\n",
       "      <th>Customer_Link</th>\n",
       "      <th>Event Time</th>\n",
       "      <th>Advertiser ID</th>\n",
       "      <th>Campaign ID</th>\n",
       "      <th>Ad ID</th>\n",
       "      <th>Site ID (DCM)</th>\n",
       "      <th>Placement ID</th>\n",
       "      <th>datetime</th>\n",
       "    </tr>\n",
       "  </thead>\n",
       "  <tbody>\n",
       "    <tr>\n",
       "      <th>753890</th>\n",
       "      <td>XY1468UpBX2PWxX32z0epWdX-hsC-NG_Ol0xUi6q7iaREUJmQ</td>\n",
       "      <td>1575559993545088</td>\n",
       "      <td>8095847</td>\n",
       "      <td>23407120</td>\n",
       "      <td>457907791</td>\n",
       "      <td>1291657</td>\n",
       "      <td>262377075</td>\n",
       "      <td>2019-12-05 15:33:13.545088</td>\n",
       "    </tr>\n",
       "    <tr>\n",
       "      <th>753894</th>\n",
       "      <td>XY1468GyEZbawTirlwnZmX9p8MJJrKDBl8XRXbMZ-nqTTPfmE</td>\n",
       "      <td>1575558805837440</td>\n",
       "      <td>8095847</td>\n",
       "      <td>23407120</td>\n",
       "      <td>457817072</td>\n",
       "      <td>1291657</td>\n",
       "      <td>262377066</td>\n",
       "      <td>2019-12-05 15:13:25.837440</td>\n",
       "    </tr>\n",
       "  </tbody>\n",
       "</table>\n",
       "</div>"
      ],
      "text/plain": [
       "                                            Customer_Link        Event Time  \\\n",
       "753890  XY1468UpBX2PWxX32z0epWdX-hsC-NG_Ol0xUi6q7iaREUJmQ  1575559993545088   \n",
       "753894  XY1468GyEZbawTirlwnZmX9p8MJJrKDBl8XRXbMZ-nqTTPfmE  1575558805837440   \n",
       "\n",
       "       Advertiser ID Campaign ID      Ad ID Site ID (DCM) Placement ID  \\\n",
       "753890       8095847    23407120  457907791       1291657    262377075   \n",
       "753894       8095847    23407120  457817072       1291657    262377066   \n",
       "\n",
       "                         datetime  \n",
       "753890 2019-12-05 15:33:13.545088  \n",
       "753894 2019-12-05 15:13:25.837440  "
      ]
     },
     "execution_count": 11,
     "metadata": {},
     "output_type": "execute_result"
    }
   ],
   "source": [
    "df_clickers['datetime']=df_clickers['Event Time'].astype(int)\n",
    "df_clickers['datetime']=pd.to_datetime(df_clickers['datetime'],unit=\"us\")\n",
    "df_clickers.head(2)"
   ]
  },
  {
   "cell_type": "code",
   "execution_count": 14,
   "metadata": {
    "collapsed": true
   },
   "outputs": [
    {
     "data": {
      "text/html": [
       "<div>\n",
       "<style scoped>\n",
       "    .dataframe tbody tr th:only-of-type {\n",
       "        vertical-align: middle;\n",
       "    }\n",
       "\n",
       "    .dataframe tbody tr th {\n",
       "        vertical-align: top;\n",
       "    }\n",
       "\n",
       "    .dataframe thead th {\n",
       "        text-align: right;\n",
       "    }\n",
       "</style>\n",
       "<table border=\"1\" class=\"dataframe\">\n",
       "  <thead>\n",
       "    <tr style=\"text-align: right;\">\n",
       "      <th></th>\n",
       "      <th>date</th>\n",
       "      <th>Event Time</th>\n",
       "    </tr>\n",
       "  </thead>\n",
       "  <tbody>\n",
       "    <tr>\n",
       "      <th>0</th>\n",
       "      <td>2019-12-05</td>\n",
       "      <td>2158</td>\n",
       "    </tr>\n",
       "    <tr>\n",
       "      <th>1</th>\n",
       "      <td>2019-12-06</td>\n",
       "      <td>3235</td>\n",
       "    </tr>\n",
       "    <tr>\n",
       "      <th>2</th>\n",
       "      <td>2019-12-07</td>\n",
       "      <td>3590</td>\n",
       "    </tr>\n",
       "    <tr>\n",
       "      <th>3</th>\n",
       "      <td>2019-12-08</td>\n",
       "      <td>3198</td>\n",
       "    </tr>\n",
       "    <tr>\n",
       "      <th>4</th>\n",
       "      <td>2019-12-09</td>\n",
       "      <td>2951</td>\n",
       "    </tr>\n",
       "    <tr>\n",
       "      <th>5</th>\n",
       "      <td>2019-12-10</td>\n",
       "      <td>2397</td>\n",
       "    </tr>\n",
       "    <tr>\n",
       "      <th>6</th>\n",
       "      <td>2019-12-11</td>\n",
       "      <td>2118</td>\n",
       "    </tr>\n",
       "    <tr>\n",
       "      <th>7</th>\n",
       "      <td>2019-12-12</td>\n",
       "      <td>1685</td>\n",
       "    </tr>\n",
       "    <tr>\n",
       "      <th>8</th>\n",
       "      <td>2019-12-13</td>\n",
       "      <td>1835</td>\n",
       "    </tr>\n",
       "    <tr>\n",
       "      <th>9</th>\n",
       "      <td>2019-12-14</td>\n",
       "      <td>1737</td>\n",
       "    </tr>\n",
       "    <tr>\n",
       "      <th>10</th>\n",
       "      <td>2019-12-15</td>\n",
       "      <td>1807</td>\n",
       "    </tr>\n",
       "    <tr>\n",
       "      <th>11</th>\n",
       "      <td>2019-12-16</td>\n",
       "      <td>350</td>\n",
       "    </tr>\n",
       "    <tr>\n",
       "      <th>12</th>\n",
       "      <td>2019-12-17</td>\n",
       "      <td>3</td>\n",
       "    </tr>\n",
       "    <tr>\n",
       "      <th>13</th>\n",
       "      <td>2019-12-18</td>\n",
       "      <td>1</td>\n",
       "    </tr>\n",
       "    <tr>\n",
       "      <th>14</th>\n",
       "      <td>2019-12-19</td>\n",
       "      <td>3</td>\n",
       "    </tr>\n",
       "    <tr>\n",
       "      <th>15</th>\n",
       "      <td>2019-12-20</td>\n",
       "      <td>1</td>\n",
       "    </tr>\n",
       "    <tr>\n",
       "      <th>16</th>\n",
       "      <td>2019-12-24</td>\n",
       "      <td>2</td>\n",
       "    </tr>\n",
       "    <tr>\n",
       "      <th>17</th>\n",
       "      <td>2019-12-25</td>\n",
       "      <td>1</td>\n",
       "    </tr>\n",
       "    <tr>\n",
       "      <th>18</th>\n",
       "      <td>2019-12-26</td>\n",
       "      <td>2</td>\n",
       "    </tr>\n",
       "    <tr>\n",
       "      <th>19</th>\n",
       "      <td>2019-12-31</td>\n",
       "      <td>1</td>\n",
       "    </tr>\n",
       "    <tr>\n",
       "      <th>20</th>\n",
       "      <td>2020-01-03</td>\n",
       "      <td>1</td>\n",
       "    </tr>\n",
       "    <tr>\n",
       "      <th>21</th>\n",
       "      <td>2020-01-22</td>\n",
       "      <td>1</td>\n",
       "    </tr>\n",
       "  </tbody>\n",
       "</table>\n",
       "</div>"
      ],
      "text/plain": [
       "          date  Event Time\n",
       "0   2019-12-05        2158\n",
       "1   2019-12-06        3235\n",
       "2   2019-12-07        3590\n",
       "3   2019-12-08        3198\n",
       "4   2019-12-09        2951\n",
       "5   2019-12-10        2397\n",
       "6   2019-12-11        2118\n",
       "7   2019-12-12        1685\n",
       "8   2019-12-13        1835\n",
       "9   2019-12-14        1737\n",
       "10  2019-12-15        1807\n",
       "11  2019-12-16         350\n",
       "12  2019-12-17           3\n",
       "13  2019-12-18           1\n",
       "14  2019-12-19           3\n",
       "15  2019-12-20           1\n",
       "16  2019-12-24           2\n",
       "17  2019-12-25           1\n",
       "18  2019-12-26           2\n",
       "19  2019-12-31           1\n",
       "20  2020-01-03           1\n",
       "21  2020-01-22           1"
      ]
     },
     "execution_count": 14,
     "metadata": {},
     "output_type": "execute_result"
    }
   ],
   "source": [
    "df_clickers['date']=df_clickers['datetime'].dt.date\n",
    "df_qc_by_date=df_clickers.groupby(\"date\")['Event Time'].count().to_frame().reset_index()\n",
    "df_qc_by_date.sort_values(\"date\")"
   ]
  },
  {
   "cell_type": "code",
   "execution_count": 15,
   "metadata": {},
   "outputs": [
    {
     "data": {
      "text/plain": [
       "(25087634, 3)"
      ]
     },
     "execution_count": 15,
     "metadata": {},
     "output_type": "execute_result"
    }
   ],
   "source": [
    "df_mapping=pd.read_csv(\"/home/jian/Projects/Big_Lots/Analysis/2019_Q4/Predictive_Model_Building/save_dcm_lr_to_mysql/CL_BigLots_BL_mapping_file_2019Q4_JL_2020-02-14_20200215_020719_0000.psv.gz\",\n",
    "                      compression=\"gzip\",sep=\"|\",dtype=str)\n",
    "df_mapping.shape"
   ]
  },
  {
   "cell_type": "code",
   "execution_count": 16,
   "metadata": {},
   "outputs": [
    {
     "name": "stdout",
     "output_type": "stream",
     "text": [
      "(27268, 11)\n",
      "1 3660\n",
      "2 (3660, 1)\n",
      "3 (3659, 1)\n",
      "4 (3659, 1)\n"
     ]
    }
   ],
   "source": [
    "df_clickers=pd.merge(df_clickers,df_mapping,on=\"Customer_Link\",how=\"left\")\n",
    "print(df_clickers.shape)\n",
    "\n",
    "list_customer_ids_clickers=df_clickers['customer_id_hashed'].unique().tolist()\n",
    "print(1,len(list_customer_ids_clickers))\n",
    "\n",
    "df_click_ids=pd.DataFrame({\"customer_id_hashed\":list_customer_ids_clickers})\n",
    "print(2,df_click_ids.shape)\n",
    "\n",
    "df_click_ids=df_click_ids[~pd.isnull(df_click_ids['customer_id_hashed'])]\n",
    "print(3,df_click_ids.shape)\n",
    "\n",
    "df_click_ids=df_click_ids[~df_click_ids['customer_id_hashed'].isin(list_duplicated_ids)]\n",
    "print(4,df_click_ids.shape)\n"
   ]
  },
  {
   "cell_type": "code",
   "execution_count": 17,
   "metadata": {},
   "outputs": [
    {
     "data": {
      "text/html": [
       "<div>\n",
       "<style scoped>\n",
       "    .dataframe tbody tr th:only-of-type {\n",
       "        vertical-align: middle;\n",
       "    }\n",
       "\n",
       "    .dataframe tbody tr th {\n",
       "        vertical-align: top;\n",
       "    }\n",
       "\n",
       "    .dataframe thead th {\n",
       "        text-align: right;\n",
       "    }\n",
       "</style>\n",
       "<table border=\"1\" class=\"dataframe\">\n",
       "  <thead>\n",
       "    <tr style=\"text-align: right;\">\n",
       "      <th></th>\n",
       "      <th>customer_id_hashed</th>\n",
       "      <th>Group</th>\n",
       "    </tr>\n",
       "  </thead>\n",
       "  <tbody>\n",
       "    <tr>\n",
       "      <th>0</th>\n",
       "      <td>913adf1bb21c381d129a226468e69ce8a61c07083efbd5...</td>\n",
       "      <td>test</td>\n",
       "    </tr>\n",
       "    <tr>\n",
       "      <th>1</th>\n",
       "      <td>dad71dc369858e4d71755b3b88701a3dea4de62eef8ac7...</td>\n",
       "      <td>test</td>\n",
       "    </tr>\n",
       "  </tbody>\n",
       "</table>\n",
       "</div>"
      ],
      "text/plain": [
       "                                  customer_id_hashed Group\n",
       "0  913adf1bb21c381d129a226468e69ce8a61c07083efbd5...  test\n",
       "1  dad71dc369858e4d71755b3b88701a3dea4de62eef8ac7...  test"
      ]
     },
     "execution_count": 17,
     "metadata": {},
     "output_type": "execute_result"
    }
   ],
   "source": [
    "df_id_group.head(2)"
   ]
  },
  {
   "cell_type": "code",
   "execution_count": 18,
   "metadata": {},
   "outputs": [
    {
     "data": {
      "text/html": [
       "<div>\n",
       "<style scoped>\n",
       "    .dataframe tbody tr th:only-of-type {\n",
       "        vertical-align: middle;\n",
       "    }\n",
       "\n",
       "    .dataframe tbody tr th {\n",
       "        vertical-align: top;\n",
       "    }\n",
       "\n",
       "    .dataframe thead th {\n",
       "        text-align: right;\n",
       "    }\n",
       "</style>\n",
       "<table border=\"1\" class=\"dataframe\">\n",
       "  <thead>\n",
       "    <tr style=\"text-align: right;\">\n",
       "      <th></th>\n",
       "      <th>customer_id_hashed</th>\n",
       "    </tr>\n",
       "  </thead>\n",
       "  <tbody>\n",
       "    <tr>\n",
       "      <th>1</th>\n",
       "      <td>a50a2c0ec9e6b6bb9454bd053fd07eed6956fbb8fae003...</td>\n",
       "    </tr>\n",
       "    <tr>\n",
       "      <th>2</th>\n",
       "      <td>ab3efd98d906269ab7ad309166f58c844f597ca07aa5c8...</td>\n",
       "    </tr>\n",
       "  </tbody>\n",
       "</table>\n",
       "</div>"
      ],
      "text/plain": [
       "                                  customer_id_hashed\n",
       "1  a50a2c0ec9e6b6bb9454bd053fd07eed6956fbb8fae003...\n",
       "2  ab3efd98d906269ab7ad309166f58c844f597ca07aa5c8..."
      ]
     },
     "execution_count": 18,
     "metadata": {},
     "output_type": "execute_result"
    }
   ],
   "source": [
    "df_click_ids.head(2)"
   ]
  },
  {
   "cell_type": "code",
   "execution_count": 19,
   "metadata": {},
   "outputs": [
    {
     "data": {
      "text/html": [
       "<div>\n",
       "<style scoped>\n",
       "    .dataframe tbody tr th:only-of-type {\n",
       "        vertical-align: middle;\n",
       "    }\n",
       "\n",
       "    .dataframe tbody tr th {\n",
       "        vertical-align: top;\n",
       "    }\n",
       "\n",
       "    .dataframe thead th {\n",
       "        text-align: right;\n",
       "    }\n",
       "</style>\n",
       "<table border=\"1\" class=\"dataframe\">\n",
       "  <thead>\n",
       "    <tr style=\"text-align: right;\">\n",
       "      <th></th>\n",
       "      <th>hashed_customer_num</th>\n",
       "      <th>hashed_email_address</th>\n",
       "    </tr>\n",
       "  </thead>\n",
       "  <tbody>\n",
       "    <tr>\n",
       "      <th>0</th>\n",
       "      <td>e636946300d822417f695bd93a14a2bc6506ca3be6485c...</td>\n",
       "      <td>35b15f9589fa9ed6edbf377fbdeacd201eadfab15c118d...</td>\n",
       "    </tr>\n",
       "    <tr>\n",
       "      <th>1</th>\n",
       "      <td>5c3890970390e6fc48245643ea27e03c584f0cbf957afd...</td>\n",
       "      <td>460d11ff27714f2ef27b05cc1164466d13ced6af048bd3...</td>\n",
       "    </tr>\n",
       "  </tbody>\n",
       "</table>\n",
       "</div>"
      ],
      "text/plain": [
       "                                 hashed_customer_num  \\\n",
       "0  e636946300d822417f695bd93a14a2bc6506ca3be6485c...   \n",
       "1  5c3890970390e6fc48245643ea27e03c584f0cbf957afd...   \n",
       "\n",
       "                                hashed_email_address  \n",
       "0  35b15f9589fa9ed6edbf377fbdeacd201eadfab15c118d...  \n",
       "1  460d11ff27714f2ef27b05cc1164466d13ced6af048bd3...  "
      ]
     },
     "execution_count": 19,
     "metadata": {},
     "output_type": "execute_result"
    }
   ],
   "source": [
    "df_redeemers.head(2)"
   ]
  },
  {
   "cell_type": "code",
   "execution_count": 20,
   "metadata": {},
   "outputs": [
    {
     "name": "stderr",
     "output_type": "stream",
     "text": [
      "/home/jian/.local/lib/python3.6/site-packages/pandas/core/frame.py:7138: FutureWarning: Sorting because non-concatenation axis is not aligned. A future version\n",
      "of pandas will change to not sort by default.\n",
      "\n",
      "To accept the future behavior, pass 'sort=False'.\n",
      "\n",
      "To retain the current behavior and silence the warning, pass 'sort=True'.\n",
      "\n",
      "  sort=sort,\n"
     ]
    }
   ],
   "source": [
    "df_FB_id_all=df_id_group.append(df_click_ids).drop_duplicates(\"customer_id_hashed\",keep=\"first\")\n",
    "df_FB_id_all['Group']=df_FB_id_all['Group'].fillna(\"clicker_not_uploaded\")"
   ]
  },
  {
   "cell_type": "code",
   "execution_count": 21,
   "metadata": {},
   "outputs": [
    {
     "data": {
      "text/html": [
       "<div>\n",
       "<style scoped>\n",
       "    .dataframe tbody tr th:only-of-type {\n",
       "        vertical-align: middle;\n",
       "    }\n",
       "\n",
       "    .dataframe tbody tr th {\n",
       "        vertical-align: top;\n",
       "    }\n",
       "\n",
       "    .dataframe thead th {\n",
       "        text-align: right;\n",
       "    }\n",
       "</style>\n",
       "<table border=\"1\" class=\"dataframe\">\n",
       "  <thead>\n",
       "    <tr style=\"text-align: right;\">\n",
       "      <th></th>\n",
       "      <th>Group</th>\n",
       "      <th>customer_id_hashed</th>\n",
       "    </tr>\n",
       "  </thead>\n",
       "  <tbody>\n",
       "    <tr>\n",
       "      <th>0</th>\n",
       "      <td>test</td>\n",
       "      <td>913adf1bb21c381d129a226468e69ce8a61c07083efbd5...</td>\n",
       "    </tr>\n",
       "    <tr>\n",
       "      <th>1</th>\n",
       "      <td>test</td>\n",
       "      <td>dad71dc369858e4d71755b3b88701a3dea4de62eef8ac7...</td>\n",
       "    </tr>\n",
       "  </tbody>\n",
       "</table>\n",
       "</div>"
      ],
      "text/plain": [
       "  Group                                 customer_id_hashed\n",
       "0  test  913adf1bb21c381d129a226468e69ce8a61c07083efbd5...\n",
       "1  test  dad71dc369858e4d71755b3b88701a3dea4de62eef8ac7..."
      ]
     },
     "execution_count": 21,
     "metadata": {},
     "output_type": "execute_result"
    }
   ],
   "source": [
    "df_FB_id_all.head(2)"
   ]
  },
  {
   "cell_type": "code",
   "execution_count": 22,
   "metadata": {},
   "outputs": [
    {
     "name": "stdout",
     "output_type": "stream",
     "text": [
      "(164584, 2)\n"
     ]
    },
    {
     "name": "stderr",
     "output_type": "stream",
     "text": [
      "/home/jian/.local/lib/python3.6/site-packages/ipykernel_launcher.py:4: SettingWithCopyWarning: \n",
      "A value is trying to be set on a copy of a slice from a DataFrame.\n",
      "Try using .loc[row_indexer,col_indexer] = value instead\n",
      "\n",
      "See the caveats in the documentation: http://pandas.pydata.org/pandas-docs/stable/user_guide/indexing.html#returning-a-view-versus-a-copy\n",
      "  after removing the cwd from sys.path.\n"
     ]
    }
   ],
   "source": [
    "df_redeemers_others=df_redeemers[~df_redeemers['hashed_customer_num'].isin(df_FB_id_all['customer_id_hashed'].tolist())]\n",
    "# df_redeemers_others=df_redeemers_others[~df_redeemers_others['hashed_email_address'].isin(df_FB_id_email_all['email_address_hash'].tolist())]\n",
    "print(df_redeemers_others.shape)\n",
    "df_redeemers_others['Group']=\"redeemers_not_uploaded\"\n",
    "df_redeemers_others=df_redeemers_others[['hashed_customer_num','Group']].rename(columns={\"hashed_customer_num\":\"customer_id_hashed\"})\n",
    "df_FB_id_all=df_FB_id_all.append(df_redeemers_others)"
   ]
  },
  {
   "cell_type": "code",
   "execution_count": 23,
   "metadata": {},
   "outputs": [
    {
     "data": {
      "text/html": [
       "<div>\n",
       "<style scoped>\n",
       "    .dataframe tbody tr th:only-of-type {\n",
       "        vertical-align: middle;\n",
       "    }\n",
       "\n",
       "    .dataframe tbody tr th {\n",
       "        vertical-align: top;\n",
       "    }\n",
       "\n",
       "    .dataframe thead th {\n",
       "        text-align: right;\n",
       "    }\n",
       "</style>\n",
       "<table border=\"1\" class=\"dataframe\">\n",
       "  <thead>\n",
       "    <tr style=\"text-align: right;\">\n",
       "      <th></th>\n",
       "      <th>Group</th>\n",
       "      <th>customer_id_hashed</th>\n",
       "    </tr>\n",
       "  </thead>\n",
       "  <tbody>\n",
       "    <tr>\n",
       "      <th>0</th>\n",
       "      <td>test</td>\n",
       "      <td>913adf1bb21c381d129a226468e69ce8a61c07083efbd5...</td>\n",
       "    </tr>\n",
       "    <tr>\n",
       "      <th>1</th>\n",
       "      <td>test</td>\n",
       "      <td>dad71dc369858e4d71755b3b88701a3dea4de62eef8ac7...</td>\n",
       "    </tr>\n",
       "  </tbody>\n",
       "</table>\n",
       "</div>"
      ],
      "text/plain": [
       "  Group                                 customer_id_hashed\n",
       "0  test  913adf1bb21c381d129a226468e69ce8a61c07083efbd5...\n",
       "1  test  dad71dc369858e4d71755b3b88701a3dea4de62eef8ac7..."
      ]
     },
     "execution_count": 23,
     "metadata": {},
     "output_type": "execute_result"
    }
   ],
   "source": [
    "df_FB_id_all.head(2)"
   ]
  },
  {
   "cell_type": "code",
   "execution_count": 24,
   "metadata": {},
   "outputs": [
    {
     "data": {
      "text/html": [
       "<div>\n",
       "<style scoped>\n",
       "    .dataframe tbody tr th:only-of-type {\n",
       "        vertical-align: middle;\n",
       "    }\n",
       "\n",
       "    .dataframe tbody tr th {\n",
       "        vertical-align: top;\n",
       "    }\n",
       "\n",
       "    .dataframe thead th {\n",
       "        text-align: right;\n",
       "    }\n",
       "</style>\n",
       "<table border=\"1\" class=\"dataframe\">\n",
       "  <thead>\n",
       "    <tr style=\"text-align: right;\">\n",
       "      <th></th>\n",
       "      <th>Group</th>\n",
       "      <th>customer_id_hashed</th>\n",
       "    </tr>\n",
       "  </thead>\n",
       "  <tbody>\n",
       "    <tr>\n",
       "      <th>0</th>\n",
       "      <td>clicker_not_uploaded</td>\n",
       "      <td>1118</td>\n",
       "    </tr>\n",
       "    <tr>\n",
       "      <th>1</th>\n",
       "      <td>control</td>\n",
       "      <td>499988</td>\n",
       "    </tr>\n",
       "    <tr>\n",
       "      <th>2</th>\n",
       "      <td>redeemers_not_uploaded</td>\n",
       "      <td>164584</td>\n",
       "    </tr>\n",
       "    <tr>\n",
       "      <th>3</th>\n",
       "      <td>test</td>\n",
       "      <td>6399988</td>\n",
       "    </tr>\n",
       "  </tbody>\n",
       "</table>\n",
       "</div>"
      ],
      "text/plain": [
       "                    Group  customer_id_hashed\n",
       "0    clicker_not_uploaded                1118\n",
       "1                 control              499988\n",
       "2  redeemers_not_uploaded              164584\n",
       "3                    test             6399988"
      ]
     },
     "execution_count": 24,
     "metadata": {},
     "output_type": "execute_result"
    }
   ],
   "source": [
    "df_FB_id_all.groupby(\"Group\")['customer_id_hashed'].count().to_frame().reset_index()"
   ]
  },
  {
   "cell_type": "code",
   "execution_count": 25,
   "metadata": {},
   "outputs": [],
   "source": [
    "list_redeamer_id=df_redeemers['hashed_customer_num'].tolist()\n",
    "df_FB_id_all['redemption']=np.where(df_FB_id_all['customer_id_hashed'].isin(list_redeamer_id),\"redeemers\",\"others\" )\n",
    "df_FB_id_all['FB_clicker']=np.where(df_FB_id_all['customer_id_hashed'].isin(list_customer_ids_clickers),\"clickers\",\"non_clickers\")\n"
   ]
  },
  {
   "cell_type": "code",
   "execution_count": 26,
   "metadata": {},
   "outputs": [
    {
     "name": "stdout",
     "output_type": "stream",
     "text": [
      "(2771375, 2) 2771375 2771350\n"
     ]
    }
   ],
   "source": [
    "df_unsub_emails=pd.read_csv(\"/home/jian/BigLots/unsubscribe/Unsub_JH_Final20191105Hashed.zip\",\n",
    "                              compression=\"zip\",dtype=str)\n",
    "list_unsub_emails=df_unsub_emails['hashed_email_address'].unique().tolist()\n",
    "list_unsub_ids=df_unsub_emails['hashed_customer_num'].unique().tolist()\n",
    "\n",
    "print(df_unsub_emails.shape,len(list_unsub_ids),len(list_unsub_emails))\n",
    "\n",
    "df_FB_id_all['unsubscription']=np.where(df_FB_id_all['customer_id_hashed'].isin(list_unsub_ids),\"unsubscribed\",\"default_subscribed\")\n"
   ]
  },
  {
   "cell_type": "markdown",
   "metadata": {
    "collapsed": true
   },
   "source": [
    "# Sales"
   ]
  },
  {
   "cell_type": "code",
   "execution_count": 27,
   "metadata": {},
   "outputs": [
    {
     "name": "stdout",
     "output_type": "stream",
     "text": [
      "2020-03-13 17:52:57.243627 (2202929, 6)\n",
      "2020-03-13 17:55:16.206657 (4393434, 6)\n",
      "2020-03-13 17:57:39.717374 (6671816, 6)\n"
     ]
    },
    {
     "data": {
      "text/plain": [
       "(6671816, 6)"
      ]
     },
     "execution_count": 27,
     "metadata": {},
     "output_type": "execute_result"
    }
   ],
   "source": [
    "# POS data range\n",
    "file_week_1=\"/home/jian/BigLots/2019_by_weeks/MediaStorm_2019-12-07/MediaStormDailySales20191211.txt\"\n",
    "file_week_2=\"/home/jian/BigLots/2019_by_weeks/MediaStorm_2019-12-14/MediaStormDailySales20191217-195625-000.txt\"\n",
    "file_week_3=\"/home/jian/BigLots/2019_by_weeks/MediaStorm_2019-12-21/MediaStormDailySales20191226-122746-000.txt\"\n",
    "\n",
    "POS_file_list=[file_week_1,file_week_2,file_week_3]\n",
    "\n",
    "df_POS_all=pd.DataFrame()\n",
    "\n",
    "for file in POS_file_list:\n",
    "    df=pd.read_table(file,dtype=str,sep=\"|\")\n",
    "    df=df[pd.notnull(df['customer_id_hashed'])]\n",
    "    df['item_transaction_amt']=df['item_transaction_amt'].astype(float)\n",
    "    df['sales_instore']=np.where(df['location_id']!=\"6990\",df['item_transaction_amt'],0)\n",
    "    df['sales_online']=np.where(df['location_id']==\"6990\",df['item_transaction_amt'],0)\n",
    "    \n",
    "    df_trans=df[['location_id','transaction_dt','transaction_id','customer_id_hashed']].drop_duplicates()\n",
    "    df_trans['trans_instore']=np.where(df_trans['location_id']!=\"6990\",1,0)\n",
    "    df_trans['trans_online']=np.where(df_trans['location_id']==\"6990\",1,0)\n",
    "    \n",
    "    df_trans=df_trans.groupby([\"customer_id_hashed\",\"transaction_dt\"])['trans_instore','trans_online'].sum().reset_index()\n",
    "    \n",
    "    df_sales=df.groupby([\"customer_id_hashed\",\"transaction_dt\"])['sales_instore','sales_online'].sum().reset_index()\n",
    "    \n",
    "    df=pd.merge(df_sales,df_trans,on=[\"customer_id_hashed\",\"transaction_dt\"],how=\"outer\")\n",
    "    df_POS_all=df_POS_all.append(df)\n",
    "    print(datetime.datetime.now(),df_POS_all.shape)\n",
    "    \n",
    "df_POS_all.shape"
   ]
  },
  {
   "cell_type": "code",
   "execution_count": 28,
   "metadata": {},
   "outputs": [],
   "source": [
    "P1_range=[\"2019-12-05\",\"2019-12-15\"]\n",
    "P2_range=[\"2019-12-16\",\"2019-12-20\"]"
   ]
  },
  {
   "cell_type": "code",
   "execution_count": 29,
   "metadata": {},
   "outputs": [
    {
     "name": "stdout",
     "output_type": "stream",
     "text": [
      "2019-12-01 2019-12-21\n"
     ]
    }
   ],
   "source": [
    "print(df_POS_all['transaction_dt'].min(),df_POS_all['transaction_dt'].max())"
   ]
  },
  {
   "cell_type": "code",
   "execution_count": 30,
   "metadata": {},
   "outputs": [
    {
     "name": "stdout",
     "output_type": "stream",
     "text": [
      "2019-12-01 2019-12-21\n",
      "(7065678, 5)\n"
     ]
    },
    {
     "data": {
      "text/html": [
       "<div>\n",
       "<style scoped>\n",
       "    .dataframe tbody tr th:only-of-type {\n",
       "        vertical-align: middle;\n",
       "    }\n",
       "\n",
       "    .dataframe tbody tr th {\n",
       "        vertical-align: top;\n",
       "    }\n",
       "\n",
       "    .dataframe thead th {\n",
       "        text-align: right;\n",
       "    }\n",
       "</style>\n",
       "<table border=\"1\" class=\"dataframe\">\n",
       "  <thead>\n",
       "    <tr style=\"text-align: right;\">\n",
       "      <th></th>\n",
       "      <th>Group</th>\n",
       "      <th>customer_id_hashed</th>\n",
       "      <th>redemption</th>\n",
       "      <th>FB_clicker</th>\n",
       "      <th>unsubscription</th>\n",
       "    </tr>\n",
       "  </thead>\n",
       "  <tbody>\n",
       "    <tr>\n",
       "      <th>0</th>\n",
       "      <td>test</td>\n",
       "      <td>913adf1bb21c381d129a226468e69ce8a61c07083efbd5...</td>\n",
       "      <td>others</td>\n",
       "      <td>non_clickers</td>\n",
       "      <td>default_subscribed</td>\n",
       "    </tr>\n",
       "    <tr>\n",
       "      <th>1</th>\n",
       "      <td>test</td>\n",
       "      <td>dad71dc369858e4d71755b3b88701a3dea4de62eef8ac7...</td>\n",
       "      <td>others</td>\n",
       "      <td>non_clickers</td>\n",
       "      <td>default_subscribed</td>\n",
       "    </tr>\n",
       "  </tbody>\n",
       "</table>\n",
       "</div>"
      ],
      "text/plain": [
       "  Group                                 customer_id_hashed redemption  \\\n",
       "0  test  913adf1bb21c381d129a226468e69ce8a61c07083efbd5...     others   \n",
       "1  test  dad71dc369858e4d71755b3b88701a3dea4de62eef8ac7...     others   \n",
       "\n",
       "     FB_clicker      unsubscription  \n",
       "0  non_clickers  default_subscribed  \n",
       "1  non_clickers  default_subscribed  "
      ]
     },
     "execution_count": 30,
     "metadata": {},
     "output_type": "execute_result"
    }
   ],
   "source": [
    "print(df_POS_all['transaction_dt'].min(),df_POS_all['transaction_dt'].max())\n",
    "print(df_FB_id_all.shape)\n",
    "df_FB_id_all.head(2)"
   ]
  },
  {
   "cell_type": "code",
   "execution_count": 31,
   "metadata": {},
   "outputs": [
    {
     "data": {
      "text/plain": [
       "((7065678, 5), 7065678)"
      ]
     },
     "execution_count": 31,
     "metadata": {},
     "output_type": "execute_result"
    }
   ],
   "source": [
    "df_FB_id_all.shape, df_FB_id_all['customer_id_hashed'].nunique()"
   ]
  },
  {
   "cell_type": "code",
   "execution_count": 32,
   "metadata": {},
   "outputs": [
    {
     "name": "stdout",
     "output_type": "stream",
     "text": [
      "(6671816, 10)\n"
     ]
    },
    {
     "data": {
      "text/html": [
       "<div>\n",
       "<style scoped>\n",
       "    .dataframe tbody tr th:only-of-type {\n",
       "        vertical-align: middle;\n",
       "    }\n",
       "\n",
       "    .dataframe tbody tr th {\n",
       "        vertical-align: top;\n",
       "    }\n",
       "\n",
       "    .dataframe thead th {\n",
       "        text-align: right;\n",
       "    }\n",
       "</style>\n",
       "<table border=\"1\" class=\"dataframe\">\n",
       "  <thead>\n",
       "    <tr style=\"text-align: right;\">\n",
       "      <th></th>\n",
       "      <th>customer_id_hashed</th>\n",
       "      <th>transaction_dt</th>\n",
       "      <th>sales_instore</th>\n",
       "      <th>sales_online</th>\n",
       "      <th>trans_instore</th>\n",
       "      <th>trans_online</th>\n",
       "      <th>Group</th>\n",
       "      <th>redemption</th>\n",
       "      <th>FB_clicker</th>\n",
       "      <th>unsubscription</th>\n",
       "    </tr>\n",
       "  </thead>\n",
       "  <tbody>\n",
       "    <tr>\n",
       "      <th>0</th>\n",
       "      <td>00000435bfb3bf42e3beb4c9b3942c552d09f0e49e5a75...</td>\n",
       "      <td>2019-12-07</td>\n",
       "      <td>18.0</td>\n",
       "      <td>0.0</td>\n",
       "      <td>1</td>\n",
       "      <td>0</td>\n",
       "      <td>redeemers_not_uploaded</td>\n",
       "      <td>redeemers</td>\n",
       "      <td>non_clickers</td>\n",
       "      <td>default_subscribed</td>\n",
       "    </tr>\n",
       "    <tr>\n",
       "      <th>1</th>\n",
       "      <td>000008374518306e87838f387eedc47d49a447707dc6da...</td>\n",
       "      <td>2019-12-03</td>\n",
       "      <td>55.9</td>\n",
       "      <td>0.0</td>\n",
       "      <td>1</td>\n",
       "      <td>0</td>\n",
       "      <td>redeemers_not_uploaded</td>\n",
       "      <td>redeemers</td>\n",
       "      <td>non_clickers</td>\n",
       "      <td>default_subscribed</td>\n",
       "    </tr>\n",
       "  </tbody>\n",
       "</table>\n",
       "</div>"
      ],
      "text/plain": [
       "                                  customer_id_hashed transaction_dt  \\\n",
       "0  00000435bfb3bf42e3beb4c9b3942c552d09f0e49e5a75...     2019-12-07   \n",
       "1  000008374518306e87838f387eedc47d49a447707dc6da...     2019-12-03   \n",
       "\n",
       "   sales_instore  sales_online  trans_instore  trans_online  \\\n",
       "0           18.0           0.0              1             0   \n",
       "1           55.9           0.0              1             0   \n",
       "\n",
       "                    Group redemption    FB_clicker      unsubscription  \n",
       "0  redeemers_not_uploaded  redeemers  non_clickers  default_subscribed  \n",
       "1  redeemers_not_uploaded  redeemers  non_clickers  default_subscribed  "
      ]
     },
     "execution_count": 32,
     "metadata": {},
     "output_type": "execute_result"
    }
   ],
   "source": [
    "# left merge into the POS\n",
    "df_POS_all=pd.merge(df_POS_all,df_FB_id_all,on=\"customer_id_hashed\",how=\"left\")\n",
    "print(df_POS_all.shape)\n",
    "df_POS_all.head(2)"
   ]
  },
  {
   "cell_type": "code",
   "execution_count": 33,
   "metadata": {},
   "outputs": [],
   "source": [
    "df_POS_all['Period']=np.where(((df_POS_all['transaction_dt']>=P1_range[0]) & (df_POS_all['transaction_dt']<=P1_range[1])),\"P1: 12/05-12/15\",\n",
    "                              np.where(((df_POS_all['transaction_dt']>=P2_range[0]) & (df_POS_all['transaction_dt']<=P2_range[1])),\"P2: 12/16-12/20\",\"Others\")\n",
    "                             )"
   ]
  },
  {
   "cell_type": "code",
   "execution_count": 34,
   "metadata": {},
   "outputs": [],
   "source": [
    "df_POS_all.to_csv(\"./BL_df_detail_3_weeks_POS_instore_and_online_with_redeemers_subscribe_FBclicker_JL_\"+str(datetime.datetime.now().date())+\".csv\",index=\"False\")\n"
   ]
  },
  {
   "cell_type": "code",
   "execution_count": 35,
   "metadata": {},
   "outputs": [
    {
     "data": {
      "text/plain": [
       "(54, 10)"
      ]
     },
     "execution_count": 35,
     "metadata": {},
     "output_type": "execute_result"
    }
   ],
   "source": [
    "agg_func={\"customer_id_hashed\":\"nunique\",\"sales_instore\":\"sum\",\"sales_online\":\"sum\",\"trans_instore\":\"sum\",\"trans_online\":\"sum\"}\n",
    "df_summary=df_POS_all.groupby([\"Group\",\"Period\",\"redemption\",\"unsubscription\",\"FB_clicker\"]).agg(agg_func).reset_index()\n",
    "df_summary.shape"
   ]
  },
  {
   "cell_type": "code",
   "execution_count": 36,
   "metadata": {},
   "outputs": [
    {
     "data": {
      "text/html": [
       "<div>\n",
       "<style scoped>\n",
       "    .dataframe tbody tr th:only-of-type {\n",
       "        vertical-align: middle;\n",
       "    }\n",
       "\n",
       "    .dataframe tbody tr th {\n",
       "        vertical-align: top;\n",
       "    }\n",
       "\n",
       "    .dataframe thead th {\n",
       "        text-align: right;\n",
       "    }\n",
       "</style>\n",
       "<table border=\"1\" class=\"dataframe\">\n",
       "  <thead>\n",
       "    <tr style=\"text-align: right;\">\n",
       "      <th></th>\n",
       "      <th>Group</th>\n",
       "      <th>redemption</th>\n",
       "      <th>unsubscription</th>\n",
       "      <th>FB_clicker</th>\n",
       "      <th>customer_id_hashed</th>\n",
       "    </tr>\n",
       "  </thead>\n",
       "  <tbody>\n",
       "    <tr>\n",
       "      <th>0</th>\n",
       "      <td>clicker_not_uploaded</td>\n",
       "      <td>others</td>\n",
       "      <td>default_subscribed</td>\n",
       "      <td>clickers</td>\n",
       "      <td>983</td>\n",
       "    </tr>\n",
       "    <tr>\n",
       "      <th>1</th>\n",
       "      <td>clicker_not_uploaded</td>\n",
       "      <td>others</td>\n",
       "      <td>unsubscribed</td>\n",
       "      <td>clickers</td>\n",
       "      <td>115</td>\n",
       "    </tr>\n",
       "    <tr>\n",
       "      <th>2</th>\n",
       "      <td>clicker_not_uploaded</td>\n",
       "      <td>redeemers</td>\n",
       "      <td>default_subscribed</td>\n",
       "      <td>clickers</td>\n",
       "      <td>20</td>\n",
       "    </tr>\n",
       "    <tr>\n",
       "      <th>3</th>\n",
       "      <td>control</td>\n",
       "      <td>others</td>\n",
       "      <td>default_subscribed</td>\n",
       "      <td>clickers</td>\n",
       "      <td>200</td>\n",
       "    </tr>\n",
       "    <tr>\n",
       "      <th>4</th>\n",
       "      <td>control</td>\n",
       "      <td>others</td>\n",
       "      <td>default_subscribed</td>\n",
       "      <td>non_clickers</td>\n",
       "      <td>496789</td>\n",
       "    </tr>\n",
       "    <tr>\n",
       "      <th>5</th>\n",
       "      <td>control</td>\n",
       "      <td>others</td>\n",
       "      <td>unsubscribed</td>\n",
       "      <td>clickers</td>\n",
       "      <td>1</td>\n",
       "    </tr>\n",
       "    <tr>\n",
       "      <th>6</th>\n",
       "      <td>control</td>\n",
       "      <td>others</td>\n",
       "      <td>unsubscribed</td>\n",
       "      <td>non_clickers</td>\n",
       "      <td>243</td>\n",
       "    </tr>\n",
       "    <tr>\n",
       "      <th>7</th>\n",
       "      <td>control</td>\n",
       "      <td>redeemers</td>\n",
       "      <td>default_subscribed</td>\n",
       "      <td>clickers</td>\n",
       "      <td>16</td>\n",
       "    </tr>\n",
       "    <tr>\n",
       "      <th>8</th>\n",
       "      <td>control</td>\n",
       "      <td>redeemers</td>\n",
       "      <td>default_subscribed</td>\n",
       "      <td>non_clickers</td>\n",
       "      <td>2726</td>\n",
       "    </tr>\n",
       "    <tr>\n",
       "      <th>9</th>\n",
       "      <td>control</td>\n",
       "      <td>redeemers</td>\n",
       "      <td>unsubscribed</td>\n",
       "      <td>non_clickers</td>\n",
       "      <td>13</td>\n",
       "    </tr>\n",
       "    <tr>\n",
       "      <th>10</th>\n",
       "      <td>redeemers_not_uploaded</td>\n",
       "      <td>redeemers</td>\n",
       "      <td>default_subscribed</td>\n",
       "      <td>non_clickers</td>\n",
       "      <td>164107</td>\n",
       "    </tr>\n",
       "    <tr>\n",
       "      <th>11</th>\n",
       "      <td>redeemers_not_uploaded</td>\n",
       "      <td>redeemers</td>\n",
       "      <td>unsubscribed</td>\n",
       "      <td>non_clickers</td>\n",
       "      <td>477</td>\n",
       "    </tr>\n",
       "    <tr>\n",
       "      <th>12</th>\n",
       "      <td>test</td>\n",
       "      <td>others</td>\n",
       "      <td>default_subscribed</td>\n",
       "      <td>clickers</td>\n",
       "      <td>2103</td>\n",
       "    </tr>\n",
       "    <tr>\n",
       "      <th>13</th>\n",
       "      <td>test</td>\n",
       "      <td>others</td>\n",
       "      <td>default_subscribed</td>\n",
       "      <td>non_clickers</td>\n",
       "      <td>6313497</td>\n",
       "    </tr>\n",
       "    <tr>\n",
       "      <th>14</th>\n",
       "      <td>test</td>\n",
       "      <td>others</td>\n",
       "      <td>unsubscribed</td>\n",
       "      <td>clickers</td>\n",
       "      <td>3</td>\n",
       "    </tr>\n",
       "    <tr>\n",
       "      <th>15</th>\n",
       "      <td>test</td>\n",
       "      <td>others</td>\n",
       "      <td>unsubscribed</td>\n",
       "      <td>non_clickers</td>\n",
       "      <td>2585</td>\n",
       "    </tr>\n",
       "    <tr>\n",
       "      <th>16</th>\n",
       "      <td>test</td>\n",
       "      <td>redeemers</td>\n",
       "      <td>default_subscribed</td>\n",
       "      <td>clickers</td>\n",
       "      <td>218</td>\n",
       "    </tr>\n",
       "    <tr>\n",
       "      <th>17</th>\n",
       "      <td>test</td>\n",
       "      <td>redeemers</td>\n",
       "      <td>default_subscribed</td>\n",
       "      <td>non_clickers</td>\n",
       "      <td>81377</td>\n",
       "    </tr>\n",
       "    <tr>\n",
       "      <th>18</th>\n",
       "      <td>test</td>\n",
       "      <td>redeemers</td>\n",
       "      <td>unsubscribed</td>\n",
       "      <td>non_clickers</td>\n",
       "      <td>205</td>\n",
       "    </tr>\n",
       "  </tbody>\n",
       "</table>\n",
       "</div>"
      ],
      "text/plain": [
       "                     Group redemption      unsubscription    FB_clicker  \\\n",
       "0     clicker_not_uploaded     others  default_subscribed      clickers   \n",
       "1     clicker_not_uploaded     others        unsubscribed      clickers   \n",
       "2     clicker_not_uploaded  redeemers  default_subscribed      clickers   \n",
       "3                  control     others  default_subscribed      clickers   \n",
       "4                  control     others  default_subscribed  non_clickers   \n",
       "5                  control     others        unsubscribed      clickers   \n",
       "6                  control     others        unsubscribed  non_clickers   \n",
       "7                  control  redeemers  default_subscribed      clickers   \n",
       "8                  control  redeemers  default_subscribed  non_clickers   \n",
       "9                  control  redeemers        unsubscribed  non_clickers   \n",
       "10  redeemers_not_uploaded  redeemers  default_subscribed  non_clickers   \n",
       "11  redeemers_not_uploaded  redeemers        unsubscribed  non_clickers   \n",
       "12                    test     others  default_subscribed      clickers   \n",
       "13                    test     others  default_subscribed  non_clickers   \n",
       "14                    test     others        unsubscribed      clickers   \n",
       "15                    test     others        unsubscribed  non_clickers   \n",
       "16                    test  redeemers  default_subscribed      clickers   \n",
       "17                    test  redeemers  default_subscribed  non_clickers   \n",
       "18                    test  redeemers        unsubscribed  non_clickers   \n",
       "\n",
       "    customer_id_hashed  \n",
       "0                  983  \n",
       "1                  115  \n",
       "2                   20  \n",
       "3                  200  \n",
       "4               496789  \n",
       "5                    1  \n",
       "6                  243  \n",
       "7                   16  \n",
       "8                 2726  \n",
       "9                   13  \n",
       "10              164107  \n",
       "11                 477  \n",
       "12                2103  \n",
       "13             6313497  \n",
       "14                   3  \n",
       "15                2585  \n",
       "16                 218  \n",
       "17               81377  \n",
       "18                 205  "
      ]
     },
     "execution_count": 36,
     "metadata": {},
     "output_type": "execute_result"
    }
   ],
   "source": [
    "df_total_id=df_FB_id_all.groupby([\"Group\",\"redemption\",\"unsubscription\",\"FB_clicker\"])['customer_id_hashed'].nunique().to_frame().reset_index()\n",
    "df_total_id"
   ]
  },
  {
   "cell_type": "code",
   "execution_count": 37,
   "metadata": {},
   "outputs": [
    {
     "data": {
      "text/plain": [
       "(18, 5)"
      ]
     },
     "execution_count": 37,
     "metadata": {},
     "output_type": "execute_result"
    }
   ],
   "source": [
    "df_unique_shoppers_both_periods=df_POS_all[df_POS_all['Period']!=\"Others\"]\n",
    "df_unique_shoppers_both_periods=df_unique_shoppers_both_periods.groupby([\"Group\",\"redemption\",\"unsubscription\",\"FB_clicker\"])['customer_id_hashed'].nunique().to_frame().reset_index()\n",
    "df_unique_shoppers_both_periods.shape"
   ]
  },
  {
   "cell_type": "code",
   "execution_count": 38,
   "metadata": {},
   "outputs": [],
   "source": [
    "writer=pd.ExcelWriter(\"./BL_output_FB_Dec_offer_result_by_store_type_redemption_unsubscription_clickers_JL_\"+str(datetime.datetime.now().date())+\".xlsx\",engine=\"xlsxwriter\")\n",
    "df_summary.to_excel(writer,\"performance\",index=False)\n",
    "df_total_id.to_excel(writer,\"total_id\",index=False)\n",
    "df_unique_shoppers_both_periods.to_excel(writer,\"total_shoppers_both_P\",index=False)\n",
    "writer.save()"
   ]
  },
  {
   "cell_type": "code",
   "execution_count": 39,
   "metadata": {},
   "outputs": [
    {
     "data": {
      "text/html": [
       "<div>\n",
       "<style scoped>\n",
       "    .dataframe tbody tr th:only-of-type {\n",
       "        vertical-align: middle;\n",
       "    }\n",
       "\n",
       "    .dataframe tbody tr th {\n",
       "        vertical-align: top;\n",
       "    }\n",
       "\n",
       "    .dataframe thead th {\n",
       "        text-align: right;\n",
       "    }\n",
       "</style>\n",
       "<table border=\"1\" class=\"dataframe\">\n",
       "  <thead>\n",
       "    <tr style=\"text-align: right;\">\n",
       "      <th></th>\n",
       "      <th>Group</th>\n",
       "      <th>Period</th>\n",
       "      <th>redemption</th>\n",
       "      <th>unsubscription</th>\n",
       "      <th>FB_clicker</th>\n",
       "      <th>customer_id_hashed</th>\n",
       "      <th>sales_instore</th>\n",
       "      <th>sales_online</th>\n",
       "      <th>trans_instore</th>\n",
       "      <th>trans_online</th>\n",
       "    </tr>\n",
       "  </thead>\n",
       "  <tbody>\n",
       "    <tr>\n",
       "      <th>0</th>\n",
       "      <td>clicker_not_uploaded</td>\n",
       "      <td>Others</td>\n",
       "      <td>others</td>\n",
       "      <td>default_subscribed</td>\n",
       "      <td>clickers</td>\n",
       "      <td>46</td>\n",
       "      <td>1892.22</td>\n",
       "      <td>0.0</td>\n",
       "      <td>52</td>\n",
       "      <td>0</td>\n",
       "    </tr>\n",
       "    <tr>\n",
       "      <th>1</th>\n",
       "      <td>clicker_not_uploaded</td>\n",
       "      <td>Others</td>\n",
       "      <td>others</td>\n",
       "      <td>unsubscribed</td>\n",
       "      <td>clickers</td>\n",
       "      <td>3</td>\n",
       "      <td>101.93</td>\n",
       "      <td>0.0</td>\n",
       "      <td>4</td>\n",
       "      <td>0</td>\n",
       "    </tr>\n",
       "  </tbody>\n",
       "</table>\n",
       "</div>"
      ],
      "text/plain": [
       "                  Group  Period redemption      unsubscription FB_clicker  \\\n",
       "0  clicker_not_uploaded  Others     others  default_subscribed   clickers   \n",
       "1  clicker_not_uploaded  Others     others        unsubscribed   clickers   \n",
       "\n",
       "   customer_id_hashed  sales_instore  sales_online  trans_instore  \\\n",
       "0                  46        1892.22           0.0             52   \n",
       "1                   3         101.93           0.0              4   \n",
       "\n",
       "   trans_online  \n",
       "0             0  \n",
       "1             0  "
      ]
     },
     "execution_count": 39,
     "metadata": {},
     "output_type": "execute_result"
    }
   ],
   "source": [
    "df_summary.head(2)"
   ]
  },
  {
   "cell_type": "code",
   "execution_count": null,
   "metadata": {},
   "outputs": [],
   "source": []
  }
 ],
 "metadata": {
  "kernelspec": {
   "display_name": "Python 3",
   "language": "python",
   "name": "python3"
  },
  "language_info": {
   "codemirror_mode": {
    "name": "ipython",
    "version": 3
   },
   "file_extension": ".py",
   "mimetype": "text/x-python",
   "name": "python",
   "nbconvert_exporter": "python",
   "pygments_lexer": "ipython3",
   "version": "3.6.1"
  }
 },
 "nbformat": 4,
 "nbformat_minor": 2
}
