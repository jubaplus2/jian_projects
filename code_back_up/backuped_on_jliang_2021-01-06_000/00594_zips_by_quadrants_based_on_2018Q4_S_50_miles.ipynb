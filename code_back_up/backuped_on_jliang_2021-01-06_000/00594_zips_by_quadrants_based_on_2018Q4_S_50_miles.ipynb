{
 "cells": [
  {
   "cell_type": "code",
   "execution_count": 1,
   "metadata": {
    "collapsed": true
   },
   "outputs": [],
   "source": [
    "import pandas as pd\n",
    "import numpy as np\n",
    "import json\n",
    "from haversine import haversine\n",
    "import os\n",
    "import datetime\n",
    "import zipcodes\n",
    "# Use 2018 Q4 quadrant defination and only include stores labeled with quadrant"
   ]
  },
  {
   "cell_type": "code",
   "execution_count": 2,
   "metadata": {
    "collapsed": true
   },
   "outputs": [],
   "source": [
    "zips_by_store=pd.read_csv(\"/home/jian/Projects/Big_Lots/New_TA/zips_in_new_ta/sales_by_zip (Store level).csv\",dtype=str)\n",
    "zips_by_store=zips_by_store[['location_id','zip','revenue_flag']].drop_duplicates()\n",
    "zips_by_store=zips_by_store[zips_by_store['revenue_flag'].isin(['P','S'])]\n",
    "zips_by_store=zips_by_store.rename(columns={\"zip\":\"zip_cd\"})\n",
    "zips_by_store['zip_cd']=zips_by_store['zip_cd'].apply(lambda x: x.zfill(5)) # Though all 5 digits\n",
    "zips_by_store=zips_by_store[zips_by_store['location_id']!=\"6990\"]"
   ]
  },
  {
   "cell_type": "code",
   "execution_count": 3,
   "metadata": {},
   "outputs": [
    {
     "name": "stdout",
     "output_type": "stream",
     "text": [
      "(1361, 2)\n",
      "1361\n",
      "1361\n",
      "1337\n",
      "24\n"
     ]
    }
   ],
   "source": [
    "Q4_Quadrant=pd.read_excel(\"/home/jian/Projects/Big_Lots/Analysis/2019_Q1/Planner_Request/zips_by_quadrant_20190416/Excel_BL_2018_Q4_post_YoY_small_JL_2019-03-04.xlsx\",\n",
    "                          dtype=str,sheetname=\"Q4_Store_Quadrant_Defination\",usecols=['location_id','Quadrant'])\n",
    "\n",
    "print(Q4_Quadrant.shape)\n",
    "print(len(Q4_Quadrant['location_id'].unique()))\n",
    "Q4_Quadrant_and_zips=pd.merge(Q4_Quadrant,zips_by_store,on=\"location_id\",how=\"left\")\n",
    "print(len(Q4_Quadrant_and_zips['location_id'].unique()))\n",
    "print(len(Q4_Quadrant_and_zips[~pd.isnull(Q4_Quadrant_and_zips['revenue_flag'])]['location_id'].unique()))\n",
    "print(len(Q4_Quadrant_and_zips[pd.isnull(Q4_Quadrant_and_zips['revenue_flag'])]['location_id'].unique()))\n",
    "\n"
   ]
  },
  {
   "cell_type": "code",
   "execution_count": 4,
   "metadata": {},
   "outputs": [
    {
     "data": {
      "text/html": [
       "<div>\n",
       "<style>\n",
       "    .dataframe thead tr:only-child th {\n",
       "        text-align: right;\n",
       "    }\n",
       "\n",
       "    .dataframe thead th {\n",
       "        text-align: left;\n",
       "    }\n",
       "\n",
       "    .dataframe tbody tr th {\n",
       "        vertical-align: top;\n",
       "    }\n",
       "</style>\n",
       "<table border=\"1\" class=\"dataframe\">\n",
       "  <thead>\n",
       "    <tr style=\"text-align: right;\">\n",
       "      <th></th>\n",
       "      <th>location_id</th>\n",
       "      <th>Quadrant</th>\n",
       "      <th>zip_cd</th>\n",
       "      <th>revenue_flag</th>\n",
       "    </tr>\n",
       "  </thead>\n",
       "  <tbody>\n",
       "    <tr>\n",
       "      <th>0</th>\n",
       "      <td>1</td>\n",
       "      <td>Quadrant I</td>\n",
       "      <td>43232</td>\n",
       "      <td>P</td>\n",
       "    </tr>\n",
       "    <tr>\n",
       "      <th>1</th>\n",
       "      <td>1</td>\n",
       "      <td>Quadrant I</td>\n",
       "      <td>43209</td>\n",
       "      <td>P</td>\n",
       "    </tr>\n",
       "  </tbody>\n",
       "</table>\n",
       "</div>"
      ],
      "text/plain": [
       "  location_id    Quadrant zip_cd revenue_flag\n",
       "0           1  Quadrant I  43232            P\n",
       "1           1  Quadrant I  43209            P"
      ]
     },
     "execution_count": 4,
     "metadata": {},
     "output_type": "execute_result"
    }
   ],
   "source": [
    "Q4_Quadrant_and_zips.head(2)"
   ]
  },
  {
   "cell_type": "code",
   "execution_count": 5,
   "metadata": {
    "collapsed": true
   },
   "outputs": [],
   "source": [
    "new_stores=Q4_Quadrant_and_zips[pd.isnull(Q4_Quadrant_and_zips['revenue_flag'])]\n",
    "Q4_Quadrant_and_zips=Q4_Quadrant_and_zips[~pd.isnull(Q4_Quadrant_and_zips['revenue_flag'])]\n",
    "store_list=pd.read_table(\"/home/jian/BigLots/static_files/Store_list/MediaStormStores20190401-134939-117.txt\",sep=\"|\",dtype=str)\n",
    "\n",
    "store_list=store_list[['location_id','latitude_meas','longitude_meas']]\n",
    "new_stores=pd.merge(new_stores,store_list,on=\"location_id\",how=\"left\")\n",
    "new_stores['latitude_meas']=new_stores['latitude_meas'].astype(float)\n",
    "new_stores['longitude_meas']=new_stores['longitude_meas'].astype(float)\n",
    "new_stores=new_stores.reset_index()\n",
    "del new_stores['index']\n",
    "\n"
   ]
  },
  {
   "cell_type": "code",
   "execution_count": 6,
   "metadata": {},
   "outputs": [
    {
     "name": "stdout",
     "output_type": "stream",
     "text": [
      "(1398, 2)\n",
      "(41, 4)\n",
      "(65, 6)\n"
     ]
    }
   ],
   "source": [
    "stores_open_no_quadrant=pd.read_csv(\"/home/jian/BiglotsCode/outputs/combined_sales_long_2019-04-06.csv\",usecols=['week_end_date','location_id','sales'],dtype=str)\n",
    "stores_open_no_quadrant=stores_open_no_quadrant[stores_open_no_quadrant['week_end_date'].isin(['2019-04-06','2019-03-30','2019-03-23','2019-03-16'])]\n",
    "stores_open_no_quadrant['sales']=stores_open_no_quadrant['sales'].astype(float)\n",
    "stores_open_no_quadrant=stores_open_no_quadrant[stores_open_no_quadrant['sales']>0]\n",
    "stores_open_no_quadrant=stores_open_no_quadrant.groupby(['location_id'])['sales'].count().to_frame().reset_index().rename(columns={\"sales\":\"count\"})\n",
    "stores_open_no_quadrant=stores_open_no_quadrant[stores_open_no_quadrant['count']>=3]\n",
    "stores_open_no_quadrant=stores_open_no_quadrant.reset_index()\n",
    "del stores_open_no_quadrant['index']\n",
    "print(stores_open_no_quadrant.shape)\n",
    "\n",
    "stores_open_no_quadrant=stores_open_no_quadrant[['location_id']]\n",
    "stores_open_no_quadrant['Quadrant']='Quadrant III'\n",
    "stores_open_no_quadrant=pd.merge(stores_open_no_quadrant,store_list,on=\"location_id\",how=\"left\")\n",
    "stores_open_no_quadrant=stores_open_no_quadrant[~stores_open_no_quadrant['location_id'].isin(Q4_Quadrant_and_zips['location_id'].unique().tolist())]\n",
    "stores_open_no_quadrant=stores_open_no_quadrant[~stores_open_no_quadrant['location_id'].isin(new_stores['location_id'].unique().tolist())]\n",
    "print(stores_open_no_quadrant.shape)\n",
    "\n",
    "stores_open_no_quadrant['latitude_meas']=stores_open_no_quadrant['latitude_meas'].astype(float)\n",
    "stores_open_no_quadrant['longitude_meas']=stores_open_no_quadrant['longitude_meas'].astype(float)\n",
    "new_stores=new_stores.append(stores_open_no_quadrant)\n",
    "\n",
    "print(new_stores.shape)\n",
    "\n",
    "\n",
    "new_stores=new_stores.reset_index()\n",
    "del new_stores['index']"
   ]
  },
  {
   "cell_type": "code",
   "execution_count": 7,
   "metadata": {},
   "outputs": [
    {
     "data": {
      "text/plain": [
       "array(['Quadrant III', 'Quadrant II', 'Quadrant IV', 'Quadrant I'], dtype=object)"
      ]
     },
     "execution_count": 7,
     "metadata": {},
     "output_type": "execute_result"
    }
   ],
   "source": [
    "new_stores['Quadrant'].unique()"
   ]
  },
  {
   "cell_type": "code",
   "execution_count": 8,
   "metadata": {
    "collapsed": true
   },
   "outputs": [],
   "source": [
    "zip_centers=json.load(open(\"/home/jian/Docs/Geo_mapping/original_center_of_rentrak_zip.json\",\"r\"))\n",
    "new_store_10_miles_zips=pd.DataFrame()\n",
    "i_counter=0\n",
    "for i in range(len(new_stores)):\n",
    "    store_id=new_stores['location_id'][i]\n",
    "    store_center=[new_stores['latitude_meas'][i],new_stores['longitude_meas'][i]]\n",
    "    for zip_cd in zip_centers.keys():\n",
    "        dist=haversine(store_center,zip_centers[zip_cd],miles=True)\n",
    "        if dist<=10:\n",
    "            i_counter+=1\n",
    "            df=pd.DataFrame({\"location_id\":store_id,\"zip_cd\":zip_cd,\"revenue_flag\":\"10_miles\"},index=[i_counter])\n",
    "            new_store_10_miles_zips=new_store_10_miles_zips.append(df)\n",
    "new_store_10_miles_zips=pd.merge(new_store_10_miles_zips,Q4_Quadrant,on=\"location_id\",how=\"left\")\n",
    "new_store_10_miles_zips['Quadrant']=new_store_10_miles_zips['Quadrant'].fillna(\"Quadrant III\")"
   ]
  },
  {
   "cell_type": "code",
   "execution_count": 9,
   "metadata": {},
   "outputs": [
    {
     "data": {
      "text/html": [
       "<div>\n",
       "<style>\n",
       "    .dataframe thead tr:only-child th {\n",
       "        text-align: right;\n",
       "    }\n",
       "\n",
       "    .dataframe thead th {\n",
       "        text-align: left;\n",
       "    }\n",
       "\n",
       "    .dataframe tbody tr th {\n",
       "        vertical-align: top;\n",
       "    }\n",
       "</style>\n",
       "<table border=\"1\" class=\"dataframe\">\n",
       "  <thead>\n",
       "    <tr style=\"text-align: right;\">\n",
       "      <th></th>\n",
       "      <th>location_id</th>\n",
       "      <th>Quadrant</th>\n",
       "      <th>zip_cd</th>\n",
       "      <th>revenue_flag</th>\n",
       "    </tr>\n",
       "  </thead>\n",
       "  <tbody>\n",
       "    <tr>\n",
       "      <th>0</th>\n",
       "      <td>1</td>\n",
       "      <td>Quadrant I</td>\n",
       "      <td>43232</td>\n",
       "      <td>P</td>\n",
       "    </tr>\n",
       "    <tr>\n",
       "      <th>1</th>\n",
       "      <td>1</td>\n",
       "      <td>Quadrant I</td>\n",
       "      <td>43209</td>\n",
       "      <td>P</td>\n",
       "    </tr>\n",
       "  </tbody>\n",
       "</table>\n",
       "</div>"
      ],
      "text/plain": [
       "  location_id    Quadrant zip_cd revenue_flag\n",
       "0           1  Quadrant I  43232            P\n",
       "1           1  Quadrant I  43209            P"
      ]
     },
     "execution_count": 9,
     "metadata": {},
     "output_type": "execute_result"
    }
   ],
   "source": [
    "Q4_Quadrant_and_zips.head(2)"
   ]
  },
  {
   "cell_type": "code",
   "execution_count": 10,
   "metadata": {},
   "outputs": [
    {
     "name": "stderr",
     "output_type": "stream",
     "text": [
      "/usr/local/lib/python3.6/site-packages/ipykernel_launcher.py:20: SettingWithCopyWarning: \n",
      "A value is trying to be set on a copy of a slice from a DataFrame\n",
      "\n",
      "See the caveats in the documentation: http://pandas.pydata.org/pandas-docs/stable/indexing.html#indexing-view-versus-copy\n"
     ]
    },
    {
     "name": "stdout",
     "output_type": "stream",
     "text": [
      "2019-04-16 14:28:24.590134 11\n",
      "2019-04-16 14:28:46.319286 1011\n",
      "2019-04-16 14:29:08.359878 2011\n",
      "2019-04-16 14:29:30.189776 3011\n",
      "2019-04-16 14:29:52.352330 4011\n",
      "2019-04-16 14:30:14.329151 5011\n",
      "2019-04-16 14:30:36.549980 6011\n",
      "2019-04-16 14:30:58.669732 7011\n",
      "2019-04-16 14:31:20.687592 8011\n",
      "2019-04-16 14:31:42.686876 9011\n",
      "2019-04-16 14:32:04.770092 10011\n",
      "2019-04-16 14:32:26.938116 11011\n",
      "2019-04-16 14:32:49.098609 12011\n",
      "2019-04-16 14:33:11.229852 13011\n",
      "2019-04-16 14:33:33.318118 14011\n",
      "2019-04-16 14:33:55.410818 15011\n",
      "2019-04-16 14:34:17.285730 16011\n",
      "2019-04-16 14:34:39.378293 17011\n",
      "2019-04-16 14:35:01.269482 18011\n",
      "2019-04-16 14:35:23.101982 19011\n",
      "2019-04-16 14:35:44.970876 20011\n",
      "2019-04-16 14:36:06.945420 21011\n",
      "2019-04-16 14:36:28.906736 22011\n",
      "2019-04-16 14:36:50.805695 23011\n",
      "2019-04-16 14:37:12.243911 24011\n",
      "2019-04-16 14:37:33.574126 25011\n"
     ]
    }
   ],
   "source": [
    "all_zips_quadrant_flag=Q4_Quadrant_and_zips.append(new_store_10_miles_zips)\n",
    "all_zips_quadrant_flag=pd.merge(all_zips_quadrant_flag,store_list,on=\"location_id\",how=\"left\")\n",
    "all_zips_quadrant_flag['latitude_meas']=all_zips_quadrant_flag['latitude_meas'].astype(float)\n",
    "all_zips_quadrant_flag['longitude_meas']=all_zips_quadrant_flag['longitude_meas'].astype(float)\n",
    "i_counter=0\n",
    "all_zips_quadrant_flag=all_zips_quadrant_flag.reset_index()\n",
    "del all_zips_quadrant_flag['index']\n",
    "all_zips_quadrant_flag['dist_miles']=np.nan\n",
    "for i in range(len(all_zips_quadrant_flag)):\n",
    "    zip_cd=all_zips_quadrant_flag['zip_cd'][i]\n",
    "    store_center=[all_zips_quadrant_flag['latitude_meas'][i],all_zips_quadrant_flag['longitude_meas'][i]]\n",
    "    if zip_cd in zip_centers.keys():\n",
    "        dist=haversine(store_center,zip_centers[zip_cd],miles=True)\n",
    "    else:\n",
    "        try:\n",
    "            zip_center=[float(zipcodes.matching(zip_cd)['lag']),float(zipcodes.matching(zip_cd)['long'])]\n",
    "            dist=haversine(store_center,zip_center,miles=True)\n",
    "        except:\n",
    "            dist=np.nan\n",
    "    all_zips_quadrant_flag['dist_miles'][i]=dist\n",
    "    i_counter+=1\n",
    "    if i%1000==11:\n",
    "        print(datetime.datetime.now(),i)\n",
    "all_zips_quadrant_flag=all_zips_quadrant_flag[(all_zips_quadrant_flag['revenue_flag']!=\"S\") | (all_zips_quadrant_flag['dist_miles']<=50)]"
   ]
  },
  {
   "cell_type": "code",
   "execution_count": 11,
   "metadata": {
    "collapsed": true
   },
   "outputs": [],
   "source": [
    "# Priority: the higher, the better\n",
    "all_zips_quadrant_flag['quadrant_priority']=all_zips_quadrant_flag['Quadrant'].replace(\"Quadrant III\",4).replace(\"Quadrant II\",3).replace(\"Quadrant IV\",2).replace(\"Quadrant I\",1)\n",
    "all_zips_quadrant_flag['flag_priority']=all_zips_quadrant_flag['revenue_flag'].replace(\"P\",3).replace(\"S\",2).replace(\"10_miles\",1)\n",
    "all_zips_quadrant_flag['priority_sort']=all_zips_quadrant_flag['quadrant_priority']*10+all_zips_quadrant_flag['flag_priority']\n",
    "\n",
    "all_zips_quadrant_flag=all_zips_quadrant_flag.sort_values(['zip_cd','priority_sort'],ascending=[True,False])\n",
    "\n"
   ]
  },
  {
   "cell_type": "code",
   "execution_count": 12,
   "metadata": {
    "collapsed": true
   },
   "outputs": [],
   "source": [
    "def count_unique(x):\n",
    "    y=len(set(x))\n",
    "    return y"
   ]
  },
  {
   "cell_type": "code",
   "execution_count": 13,
   "metadata": {
    "collapsed": true
   },
   "outputs": [],
   "source": [
    "all_zips_quadrant_flag_deduped=all_zips_quadrant_flag.drop_duplicates(['zip_cd'])\n",
    "summary_after_dedup=all_zips_quadrant_flag_deduped.groupby(['Quadrant','revenue_flag'])['zip_cd'].count().to_frame().reset_index().rename(columns={\"zip_cd\":\"zip_count\"})"
   ]
  },
  {
   "cell_type": "code",
   "execution_count": 14,
   "metadata": {
    "collapsed": true
   },
   "outputs": [],
   "source": [
    "writer=pd.ExcelWriter(\"/home/jian/Projects/Big_Lots/Analysis/2019_Q1/Planner_Request/zips_by_quadrant_20190416/BL_zips_by_quadrant_S_in_50_JL_\"+str(datetime.datetime.now().date())+\".xlsx\",engine=\"xlsxwriter\")\n",
    "all_zips_quadrant_flag_deduped.to_excel(writer,\"deduped_zips\",index=False)\n",
    "summary_after_dedup.to_excel(writer,\"deduped_summary\",index=False)\n",
    "all_zips_quadrant_flag.to_excel(writer,\"zips_by_store_in_Q3_Quadrants\",index=False)\n",
    "writer.save()\n"
   ]
  },
  {
   "cell_type": "code",
   "execution_count": null,
   "metadata": {
    "collapsed": true
   },
   "outputs": [],
   "source": []
  }
 ],
 "metadata": {
  "kernelspec": {
   "display_name": "Python 3",
   "language": "python",
   "name": "python3"
  },
  "language_info": {
   "codemirror_mode": {
    "name": "ipython",
    "version": 3
   },
   "file_extension": ".py",
   "mimetype": "text/x-python",
   "name": "python",
   "nbconvert_exporter": "python",
   "pygments_lexer": "ipython3",
   "version": "3.6.1"
  }
 },
 "nbformat": 4,
 "nbformat_minor": 2
}
