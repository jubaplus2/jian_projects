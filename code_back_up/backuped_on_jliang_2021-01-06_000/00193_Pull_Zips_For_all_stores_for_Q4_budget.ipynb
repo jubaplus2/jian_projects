{
 "cells": [
  {
   "cell_type": "code",
   "execution_count": 1,
   "metadata": {
    "collapsed": true
   },
   "outputs": [],
   "source": [
    "import datetime\n",
    "import os\n",
    "import pandas as pd\n",
    "import numpy \n",
    "from haversine import haversine\n",
    "import json\n",
    "import numpy as np\n",
    "zip_centers=json.load(open(\"/home/jian/Docs/Geo_mapping/updated_zip_centers_JL_2019-05-23.json\",\"r\"))"
   ]
  },
  {
   "cell_type": "code",
   "execution_count": 2,
   "metadata": {},
   "outputs": [
    {
     "name": "stdout",
     "output_type": "stream",
     "text": [
      "(1420, 4)\n",
      "(1409, 1)\n"
     ]
    }
   ],
   "source": [
    "df_all_Store=pd.ExcelFile(\"./BL 2019Q4 Budget Allocation Model 20191017 JC.xlsx\")\n",
    "df_all_Store=df_all_Store.parse('Sheet3',dtype=str)\n",
    "print(df_all_Store.shape)\n",
    "df_all_Store=df_all_Store[['location_id']].drop_duplicates()\n",
    "print(df_all_Store.shape)\n",
    "\n",
    "list_all_stores=df_all_Store['location_id'].tolist()"
   ]
  },
  {
   "cell_type": "code",
   "execution_count": 3,
   "metadata": {},
   "outputs": [],
   "source": [
    "TA_excel=pd.ExcelFile(\"/home/jian/Projects/Big_Lots/New_TA/TA_created_in_201906/final_output_20190718/BL_final_TA_updated_JL_2019-07-18.xlsx\")\n",
    "store_ta_zips=TA_excel.parse(\"view_by_store\",dtype=str)"
   ]
  },
  {
   "cell_type": "code",
   "execution_count": 4,
   "metadata": {},
   "outputs": [
    {
     "name": "stdout",
     "output_type": "stream",
     "text": [
      "['4698', '5394', '5406', '4679', '4708', '5403', '5404', '4704', '5397', '5401', '4692', '5388', '4678', '4702', '4703', '4705', '4706', '5402', '4701', '4707', '4709', '4711', '5398', '5399', '5400', '5408', '5409', '5410', '5411', '5407']\n",
      "30\n"
     ]
    }
   ],
   "source": [
    "df_existing=store_ta_zips[store_ta_zips['location_id'].isin(list_all_stores)]\n",
    "store_list_new=[x for x in list_all_stores if x not in df_existing['location_id'].tolist()]\n",
    "print(store_list_new)\n",
    "print(len(store_list_new))"
   ]
  },
  {
   "cell_type": "code",
   "execution_count": 10,
   "metadata": {},
   "outputs": [
    {
     "data": {
      "text/plain": [
       "(19, 13)"
      ]
     },
     "execution_count": 10,
     "metadata": {},
     "output_type": "execute_result"
    }
   ],
   "source": [
    "store_list=pd.read_table(\"/home/jian/BigLots/static_files/Store_list/MediaStormStores20191001-134050-499.txt\",dtype=str,sep=\"|\")\n",
    "store_list['latitude_meas']=store_list['latitude_meas'].astype(float)\n",
    "store_list['longitude_meas']=store_list['longitude_meas'].astype(float)\n",
    "store_list['zip_cd']=store_list['zip_cd'].apply(lambda x: x.strip().split(\"-\")[0].zfill(5))\n",
    "store_list=store_list.rename(columns={\"zip_cd\":\"store_zip\"})\n",
    "df_new_with_location=store_list[store_list['location_id'].isin(store_list_new)]\n",
    "df_new_with_location.shape"
   ]
  },
  {
   "cell_type": "code",
   "execution_count": 11,
   "metadata": {},
   "outputs": [
    {
     "data": {
      "text/plain": [
       "(19, 5)"
      ]
     },
     "execution_count": 11,
     "metadata": {},
     "output_type": "execute_result"
    }
   ],
   "source": [
    "df_new_with_location=df_new_with_location[['location_id','longitude_meas','latitude_meas','state_nm','store_zip']].drop_duplicates()\n",
    "df_new_with_location['latitude_meas']=df_new_with_location['latitude_meas'].astype(float)\n",
    "df_new_with_location['longitude_meas']=df_new_with_location['longitude_meas'].astype(float)\n",
    "df_new_with_location=df_new_with_location[df_new_with_location['latitude_meas']!=0]\n",
    "df_new_with_location=df_new_with_location[pd.notnull(df_new_with_location['latitude_meas'])]\n",
    "df_new_with_location.shape"
   ]
  },
  {
   "cell_type": "code",
   "execution_count": 12,
   "metadata": {},
   "outputs": [
    {
     "data": {
      "text/plain": [
       "['4701',\n",
       " '4707',\n",
       " '4709',\n",
       " '4711',\n",
       " '5398',\n",
       " '5399',\n",
       " '5400',\n",
       " '5408',\n",
       " '5409',\n",
       " '5410',\n",
       " '5411']"
      ]
     },
     "execution_count": 12,
     "metadata": {},
     "output_type": "execute_result"
    }
   ],
   "source": [
    "stores_without_location=[x for x in store_list_new if x not in df_new_with_location['location_id'].tolist()]\n",
    "stores_without_location"
   ]
  },
  {
   "cell_type": "code",
   "execution_count": 13,
   "metadata": {
    "collapsed": true
   },
   "outputs": [],
   "source": [
    "dict_new_store_address={}\n",
    "\n",
    "# 5399 \t851 SOUTH 30TH STREET\tINDIAN MOUND MALL\tHEATH\tOH\t43056\n",
    "dict_new_store_address.update({\"5399\":{\"GoogleAddress\":\"771 S 30th St Ste 9001, Heath, OH 43056\",\"GoogleCoor\":[40.0312042,-82.4473616]}})\n",
    "\n",
    "# 5400 \t2235 EAST STATE STREET\tHERMITAGE TOWN PLAZA\tHERMITAGE\tPA\t16148-2727\n",
    "dict_new_store_address.update({\"5400\":{\"GoogleAddress\":\"2253 E State St, Hermitage, PA 16148\",\"GoogleCoor\":[41.234349,-80.4658798]}})\n",
    "\n",
    "# 4711 \t4655 CANAL AVENUE SOUTHWEST\tGRANDVILLE MARKETPLACE\tGRANDVILLE\tMI\t49418-8731\n",
    "dict_new_store_address.update({\"4711\":{\"GoogleAddress\":\"4485-4655 Canal Ave SW, Grandville, MI 49418\",\"GoogleCoor\":[42.8815927,-85.7745291]}})\n",
    "\n",
    "# 5411 \t2318 WEST MERCURY BOULEVARD\tTODD'S LANE SHOPS\tHAMPTON\tVA\t23666\n",
    "dict_new_store_address.update({\"5411\":{\"GoogleAddress\":\"2318 W Mercury Blvd, Hampton, VA 23666\",\"GoogleCoor\":[37.0394621,-76.4073108]}})\n",
    "\n",
    "# 4709 \t5252 BARDSTOWN ROAD\tBARDSTOWN PLACE\tLOUISVILLE\tKY\t40291-1766\n",
    "dict_new_store_address.update({\"4709\":{\"GoogleAddress\":\"5252 Bardstown Rd, Louisville, KY 40291\",\"GoogleCoor\":[38.1680876,-85.6073362]}})\n",
    "\n",
    "# 5410 \t9690 COLERAIN AVENUE\tPROSPECT SQUARE\tCINCINNATI\tOH\t45251\n",
    "dict_new_store_address.update({\"5410\":{\"GoogleAddress\":\"9690 Colerain Ave, Cincinnati, OH 45251\",\"GoogleCoor\":[39.2482448,-84.5948913]}})\n",
    "\n",
    "# 4707 \t14215 SOUTHEAST PETROVITSKY ROAD\tFAIRWOOD SQUARE\tRENTON\tWA\t98058-8983\n",
    "dict_new_store_address.update({\"4707\":{\"GoogleAddress\":\"14215 SE Petrovitsky Rd, Renton, WA 98058\",\"GoogleCoor\":[47.4444178,-122.1519844]}})\n",
    "\n",
    "# 4701 \t5055 W SAHARA AVE\tSAHARA DECATUR\tLAS VEGAS\tNV\t89146-3405\n",
    "dict_new_store_address.update({\"4701\":{\"GoogleAddress\":\"5055 W Sahara Ave, Las Vegas, NV 89146\",\"GoogleCoor\":[36.1436122,-115.2103361]}})\n",
    "\n",
    "# 5409 \t4585 EASTGATE BOULEVARD\tTOYS R US CENTER\tCINCINNATI\tOH\t45245-1201\n",
    "dict_new_store_address.update({\"5409\":{\"GoogleAddress\":\"4585 Eastgate Blvd, Cincinnati, OH 45245\",\"GoogleCoor\":[39.102485,-84.2740534]}})\n",
    "\n",
    "# 4705 \t370 AUTO CENTER CIRCLE\tNORTHRIDGE MALL\tSALINAS\tCA\t93907\n",
    "dict_new_store_address.update({\"4705\":{\"GoogleAddress\":\"370 Auto Center Cir, Salinas, CA 93906\",\"GoogleCoor\":[36.7148622,-121.6607234]}})\n",
    "\n",
    "# 4706 \t3170 CHILI AVE UNIT # T5\tCHILI PLAZA\tROCHESTER\tNY\t14624-5410\n",
    "dict_new_store_address.update({\"4706\":{\"GoogleAddress\":\"3170 Chili Ave T5, Rochester, NY 14624\",\"GoogleCoor\":[43.1085609,-77.7467213]}})\n",
    "\n",
    "# 4702 \t6375 MONTANA AVENUE\tKMART SHOPPING CENTER\tEL PASO\tTX\t79925-2044\n",
    "dict_new_store_address.update({\"4702\":{\"GoogleAddress\":\"6375 Montana Ave, El Paso, TX 79925\",\"GoogleCoor\":[31.7898616,-106.404997]}})\n",
    "\n",
    "# 4678 \t3501 EAST LINCOLNWAY\tCHEYENNE PLAZA\tCHEYENNE\tWY\t82001-6302\n",
    "dict_new_store_address.update({\"4678\":{\"GoogleAddress\":\"3501 E Lincolnway, Cheyenne, WY 82001\",\"GoogleCoor\":[41.1370675,-104.7674035]}})\n",
    "\n",
    "# 5407 \t14154 EAST WADE HAMPTON BLVD\tCOLLINS CENTER\tGREER\tSC\t29651-1554\n",
    "dict_new_store_address.update({\"5407\":{\"GoogleAddress\":\"14154 E Wade Hampton Blvd, Greer, SC 29651\",\"GoogleCoor\":[34.948923,-82.2118793]}})\n",
    "\n",
    "# 5402 \t14603 TELEGRAPH ROAD\tTOYS R US CENTER\tWOODBRIDGE\tVA\t22192-4601\n",
    "dict_new_store_address.update({\"5402\":{\"GoogleAddress\":\"14603 Telegraph Rd, Woodbridge, VA 22194\",\"GoogleCoor\":[38.6373899,-77.2914551]}})\n",
    "\n",
    "# 5398 \t275 ROUTE 18\tMIRACLE MALL\tEAST BRUNSWICK\tNJ\t08816-1904\n",
    "dict_new_store_address.update({\"5398\":{\"GoogleAddress\":\"275 NJ-18, East Brunswick, NJ 08816\",\"GoogleCoor\":[40.4592229,-74.4049486]}})\n",
    "\n",
    "# 5408 \t3420 SOUTHWEST DURHAM DRIVE\tPATTERSON PLACE\tDURHAM\tNC\t27707-3351\n",
    "dict_new_store_address.update({\"5408\":{\"GoogleAddress\":\"3420 SW Durham Dr, Durham, NC 27707\",\"GoogleCoor\":[35.9516434,-78.9887268]}})"
   ]
  },
  {
   "cell_type": "code",
   "execution_count": 14,
   "metadata": {},
   "outputs": [
    {
     "data": {
      "text/plain": [
       "(11, 5)"
      ]
     },
     "execution_count": 14,
     "metadata": {},
     "output_type": "execute_result"
    }
   ],
   "source": [
    "df_new_google_location=pd.DataFrame({\"location_id\":stores_without_location},index=[x for x in range(len(stores_without_location))])\n",
    "df_new_google_location['longitude_meas']=df_new_google_location['location_id'].apply(lambda x: dict_new_store_address[x]['GoogleCoor'][1])\n",
    "df_new_google_location['latitude_meas']=df_new_google_location['location_id'].apply(lambda x: dict_new_store_address[x]['GoogleCoor'][0])\n",
    "df_new_google_location['store_zip']=df_new_google_location['location_id'].apply(lambda x: dict_new_store_address[x]['GoogleAddress'][-5:])\n",
    "df_new_google_location['state_nm']=df_new_google_location['location_id'].apply(lambda x: dict_new_store_address[x]['GoogleAddress'].split(\", \")[-1][:2])\n",
    "\n",
    "df_new_google_location.shape"
   ]
  },
  {
   "cell_type": "code",
   "execution_count": 20,
   "metadata": {},
   "outputs": [
    {
     "data": {
      "text/html": [
       "<div>\n",
       "<style>\n",
       "    .dataframe thead tr:only-child th {\n",
       "        text-align: right;\n",
       "    }\n",
       "\n",
       "    .dataframe thead th {\n",
       "        text-align: left;\n",
       "    }\n",
       "\n",
       "    .dataframe tbody tr th {\n",
       "        vertical-align: top;\n",
       "    }\n",
       "</style>\n",
       "<table border=\"1\" class=\"dataframe\">\n",
       "  <thead>\n",
       "    <tr style=\"text-align: right;\">\n",
       "      <th></th>\n",
       "      <th>location_id</th>\n",
       "      <th>longitude_meas</th>\n",
       "      <th>latitude_meas</th>\n",
       "      <th>store_zip</th>\n",
       "      <th>state_nm</th>\n",
       "    </tr>\n",
       "  </thead>\n",
       "  <tbody>\n",
       "    <tr>\n",
       "      <th>0</th>\n",
       "      <td>4701</td>\n",
       "      <td>-115.210336</td>\n",
       "      <td>36.143612</td>\n",
       "      <td>89146</td>\n",
       "      <td>NV</td>\n",
       "    </tr>\n",
       "    <tr>\n",
       "      <th>1</th>\n",
       "      <td>4707</td>\n",
       "      <td>-122.151984</td>\n",
       "      <td>47.444418</td>\n",
       "      <td>98058</td>\n",
       "      <td>WA</td>\n",
       "    </tr>\n",
       "  </tbody>\n",
       "</table>\n",
       "</div>"
      ],
      "text/plain": [
       "  location_id  longitude_meas  latitude_meas store_zip state_nm\n",
       "0        4701     -115.210336      36.143612     89146       NV\n",
       "1        4707     -122.151984      47.444418     98058       WA"
      ]
     },
     "execution_count": 20,
     "metadata": {},
     "output_type": "execute_result"
    }
   ],
   "source": [
    "df_new_google_location.head(2)"
   ]
  },
  {
   "cell_type": "code",
   "execution_count": 21,
   "metadata": {},
   "outputs": [
    {
     "data": {
      "text/html": [
       "<div>\n",
       "<style>\n",
       "    .dataframe thead tr:only-child th {\n",
       "        text-align: right;\n",
       "    }\n",
       "\n",
       "    .dataframe thead th {\n",
       "        text-align: left;\n",
       "    }\n",
       "\n",
       "    .dataframe tbody tr th {\n",
       "        vertical-align: top;\n",
       "    }\n",
       "</style>\n",
       "<table border=\"1\" class=\"dataframe\">\n",
       "  <thead>\n",
       "    <tr style=\"text-align: right;\">\n",
       "      <th></th>\n",
       "      <th>location_id</th>\n",
       "      <th>longitude_meas</th>\n",
       "      <th>latitude_meas</th>\n",
       "      <th>state_nm</th>\n",
       "      <th>store_zip</th>\n",
       "    </tr>\n",
       "  </thead>\n",
       "  <tbody>\n",
       "    <tr>\n",
       "      <th>1008</th>\n",
       "      <td>4678</td>\n",
       "      <td>-104.767025</td>\n",
       "      <td>41.137076</td>\n",
       "      <td>WY</td>\n",
       "      <td>82001</td>\n",
       "    </tr>\n",
       "    <tr>\n",
       "      <th>1015</th>\n",
       "      <td>4692</td>\n",
       "      <td>-122.495657</td>\n",
       "      <td>48.775269</td>\n",
       "      <td>WA</td>\n",
       "      <td>98225</td>\n",
       "    </tr>\n",
       "  </tbody>\n",
       "</table>\n",
       "</div>"
      ],
      "text/plain": [
       "     location_id  longitude_meas  latitude_meas state_nm store_zip\n",
       "1008        4678     -104.767025      41.137076       WY     82001\n",
       "1015        4692     -122.495657      48.775269       WA     98225"
      ]
     },
     "execution_count": 21,
     "metadata": {},
     "output_type": "execute_result"
    }
   ],
   "source": [
    "df_new_with_location.head(2)"
   ]
  },
  {
   "cell_type": "code",
   "execution_count": 22,
   "metadata": {},
   "outputs": [
    {
     "data": {
      "text/plain": [
       "(30, 5)"
      ]
     },
     "execution_count": 22,
     "metadata": {},
     "output_type": "execute_result"
    }
   ],
   "source": [
    "df_new_store_10_miles=df_new_google_location.append(df_new_with_location)\n",
    "df_new_store_10_miles.shape"
   ]
  },
  {
   "cell_type": "code",
   "execution_count": 16,
   "metadata": {
    "collapsed": true
   },
   "outputs": [],
   "source": [
    "df_output_existing=store_list[['location_id','state_nm','store_zip','latitude_meas','longitude_meas']]\n",
    "df_output_existing=df_output_existing[df_output_existing['location_id'].isin(df_existing['location_id'].unique().tolist())]\n",
    "df_zip_cd=pd.DataFrame()\n",
    "df_existing=df_existing.reset_index()\n",
    "del df_existing['index']\n",
    "for ind,row in df_existing.iterrows():\n",
    "    store_num=row['location_id']\n",
    "    zip_list_P=eval(row['trans_P_zips_70_within_TA'])\n",
    "    zip_list_S=eval(row['trans_S_zips_70_within_TA'])\n",
    "    zip_list_10=eval(row['zips_in_10'])\n",
    "    \n",
    "    df_P=pd.DataFrame({\"zip\":zip_list_P},index=[\"P\"]*len(zip_list_P))\n",
    "    df_S=pd.DataFrame({\"zip\":zip_list_S},index=[\"S\"]*len(zip_list_S))\n",
    "    df_10=pd.DataFrame({\"zip\":zip_list_10},index=[\"zip_in_10\"]*len(zip_list_10))\n",
    "    \n",
    "    df=pd.concat([df_P,df_S,df_10]).reset_index().rename(columns={\"index\":\"trans_flag\"})\n",
    "    df['location_id']=store_num\n",
    "    df_zip_cd=df_zip_cd.append(df)\n",
    "df_output_existing=pd.merge(df_output_existing,df_zip_cd,on=\"location_id\",how=\"left\")"
   ]
  },
  {
   "cell_type": "code",
   "execution_count": 17,
   "metadata": {},
   "outputs": [
    {
     "name": "stdout",
     "output_type": "stream",
     "text": [
      "(22728, 7)\n"
     ]
    },
    {
     "data": {
      "text/html": [
       "<div>\n",
       "<style>\n",
       "    .dataframe thead tr:only-child th {\n",
       "        text-align: right;\n",
       "    }\n",
       "\n",
       "    .dataframe thead th {\n",
       "        text-align: left;\n",
       "    }\n",
       "\n",
       "    .dataframe tbody tr th {\n",
       "        vertical-align: top;\n",
       "    }\n",
       "</style>\n",
       "<table border=\"1\" class=\"dataframe\">\n",
       "  <thead>\n",
       "    <tr style=\"text-align: right;\">\n",
       "      <th></th>\n",
       "      <th>location_id</th>\n",
       "      <th>state_nm</th>\n",
       "      <th>store_zip</th>\n",
       "      <th>latitude_meas</th>\n",
       "      <th>longitude_meas</th>\n",
       "      <th>trans_flag</th>\n",
       "      <th>zip</th>\n",
       "    </tr>\n",
       "  </thead>\n",
       "  <tbody>\n",
       "    <tr>\n",
       "      <th>0</th>\n",
       "      <td>3</td>\n",
       "      <td>GA</td>\n",
       "      <td>30906</td>\n",
       "      <td>33.42157</td>\n",
       "      <td>-82.018921</td>\n",
       "      <td>P</td>\n",
       "      <td>30906</td>\n",
       "    </tr>\n",
       "    <tr>\n",
       "      <th>1</th>\n",
       "      <td>3</td>\n",
       "      <td>GA</td>\n",
       "      <td>30906</td>\n",
       "      <td>33.42157</td>\n",
       "      <td>-82.018921</td>\n",
       "      <td>S</td>\n",
       "      <td>30904</td>\n",
       "    </tr>\n",
       "  </tbody>\n",
       "</table>\n",
       "</div>"
      ],
      "text/plain": [
       "  location_id state_nm store_zip  latitude_meas  longitude_meas trans_flag  \\\n",
       "0           3       GA     30906       33.42157      -82.018921          P   \n",
       "1           3       GA     30906       33.42157      -82.018921          S   \n",
       "\n",
       "     zip  \n",
       "0  30906  \n",
       "1  30904  "
      ]
     },
     "execution_count": 17,
     "metadata": {},
     "output_type": "execute_result"
    }
   ],
   "source": [
    "print(df_output_existing.shape)\n",
    "df_output_existing.head(2)"
   ]
  },
  {
   "cell_type": "code",
   "execution_count": 18,
   "metadata": {
    "collapsed": true
   },
   "outputs": [],
   "source": [
    "df_output_existing['Distance (mile)']=np.nan\n",
    "df_output_existing=df_output_existing.reset_index()\n",
    "del df_output_existing['index']\n",
    "\n",
    "for ind, row in df_output_existing.iterrows():\n",
    "    dist=haversine((row['latitude_meas'],row['longitude_meas']),zip_centers[row['zip']],miles=True)\n",
    "    df_output_existing.loc[ind,\"Distance (mile)\"]=dist\n",
    "    "
   ]
  },
  {
   "cell_type": "code",
   "execution_count": 54,
   "metadata": {},
   "outputs": [
    {
     "data": {
      "text/html": [
       "<div>\n",
       "<style>\n",
       "    .dataframe thead tr:only-child th {\n",
       "        text-align: right;\n",
       "    }\n",
       "\n",
       "    .dataframe thead th {\n",
       "        text-align: left;\n",
       "    }\n",
       "\n",
       "    .dataframe tbody tr th {\n",
       "        vertical-align: top;\n",
       "    }\n",
       "</style>\n",
       "<table border=\"1\" class=\"dataframe\">\n",
       "  <thead>\n",
       "    <tr style=\"text-align: right;\">\n",
       "      <th></th>\n",
       "      <th>location_id</th>\n",
       "      <th>state_nm</th>\n",
       "      <th>store_zip</th>\n",
       "      <th>latitude_meas</th>\n",
       "      <th>longitude_meas</th>\n",
       "      <th>trans_flag</th>\n",
       "      <th>zip</th>\n",
       "      <th>Distance (mile)</th>\n",
       "    </tr>\n",
       "  </thead>\n",
       "  <tbody>\n",
       "  </tbody>\n",
       "</table>\n",
       "</div>"
      ],
      "text/plain": [
       "Empty DataFrame\n",
       "Columns: [location_id, state_nm, store_zip, latitude_meas, longitude_meas, trans_flag, zip, Distance (mile)]\n",
       "Index: []"
      ]
     },
     "execution_count": 54,
     "metadata": {},
     "output_type": "execute_result"
    }
   ],
   "source": [
    "df_output_existing[df_output_existing['location_id']==\"1100\"]"
   ]
  },
  {
   "cell_type": "code",
   "execution_count": 44,
   "metadata": {},
   "outputs": [
    {
     "data": {
      "text/plain": [
       "(764, 8)"
      ]
     },
     "execution_count": 44,
     "metadata": {},
     "output_type": "execute_result"
    }
   ],
   "source": [
    "df_output_new=pd.DataFrame()\n",
    "for ind,row in df_new_store_10_miles.iterrows():\n",
    "    location_id=row['location_id']\n",
    "    latitude_meas=row['latitude_meas']\n",
    "    longitude_meas=row['longitude_meas']\n",
    "    \n",
    "    df=pd.DataFrame()\n",
    "    for zip_cd,v in zip_centers.items():\n",
    "        dist=haversine((latitude_meas,longitude_meas),v,miles=True)\n",
    "        if dist<=10:\n",
    "            df=df.append(pd.DataFrame({\"zip\":zip_cd,\"Distance (mile)\":dist},index=[\"zip_in_10\"]))\n",
    "    df=df.reset_index().rename(columns={\"index\":\"trans_flag\"})\n",
    "    df['location_id']=location_id\n",
    "    df_output_new=df_output_new.append(df)\n",
    "df_output_new=pd.merge(df_new_store_10_miles,df_output_new,on=\"location_id\",how=\"left\")\n",
    "df_output_new.shape"
   ]
  },
  {
   "cell_type": "code",
   "execution_count": 46,
   "metadata": {},
   "outputs": [
    {
     "name": "stdout",
     "output_type": "stream",
     "text": [
      "(23492, 8) 1407\n"
     ]
    }
   ],
   "source": [
    "df_output_all=df_output_new.append(df_output_existing)\n",
    "print(df_output_all.shape,df_output_all['location_id'].nunique())"
   ]
  },
  {
   "cell_type": "code",
   "execution_count": 47,
   "metadata": {},
   "outputs": [
    {
     "data": {
      "text/plain": [
       "['1202', '1100']"
      ]
     },
     "execution_count": 47,
     "metadata": {},
     "output_type": "execute_result"
    }
   ],
   "source": [
    "[x for x in list_all_stores if x not in df_output_all['location_id'].tolist()]\n",
    "\n",
    "# The 2 stores look closed"
   ]
  },
  {
   "cell_type": "code",
   "execution_count": 59,
   "metadata": {},
   "outputs": [],
   "source": [
    "df_output_all=df_output_all[['location_id','trans_flag','zip','state_nm','store_zip','latitude_meas','longitude_meas','Distance (mile)']]\n"
   ]
  },
  {
   "cell_type": "code",
   "execution_count": 62,
   "metadata": {},
   "outputs": [],
   "source": [
    "writer=pd.ExcelWriter(\"./BL_all_store_zips_JL_\"+str(datetime.datetime.now().date())+\".xlsx\",engine=\"xlsxwriter\")\n",
    "df_output_all.to_excel(writer,\"all_PS10_zips_BL\",index=False)\n",
    "writer.save()"
   ]
  },
  {
   "cell_type": "code",
   "execution_count": null,
   "metadata": {
    "collapsed": true
   },
   "outputs": [],
   "source": []
  }
 ],
 "metadata": {
  "kernelspec": {
   "display_name": "Python 3",
   "language": "python",
   "name": "python3"
  },
  "language_info": {
   "codemirror_mode": {
    "name": "ipython",
    "version": 3
   },
   "file_extension": ".py",
   "mimetype": "text/x-python",
   "name": "python",
   "nbconvert_exporter": "python",
   "pygments_lexer": "ipython3",
   "version": "3.6.1"
  }
 },
 "nbformat": 4,
 "nbformat_minor": 2
}
