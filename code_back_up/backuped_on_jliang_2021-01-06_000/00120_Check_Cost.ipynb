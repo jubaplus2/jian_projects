{
 "cells": [
  {
   "cell_type": "code",
   "execution_count": 2,
   "metadata": {
    "collapsed": true
   },
   "outputs": [],
   "source": [
    "import pandas as pd\n",
    "import glob\n",
    "import datetime\n",
    "import numpy"
   ]
  },
  {
   "cell_type": "code",
   "execution_count": 3,
   "metadata": {},
   "outputs": [
    {
     "data": {
      "text/plain": [
       "'/home/jian/Projects/Big_Lots/Newspaper/RecbyStore/April 9 2017 RecByStore 4 STD for BL REPORTS.xlsx'"
      ]
     },
     "execution_count": 3,
     "metadata": {},
     "output_type": "execute_result"
    }
   ],
   "source": [
    "# Extrac the cost PM from the RecbyStore\n",
    "RecbyStore_folder=\"/home/jian/Projects/Big_Lots/Newspaper/RecbyStore/\"\n",
    "file_list=glob.glob(RecbyStore_folder+\"*\")\n",
    "\n",
    "cost_df=pd.DataFrame()\n",
    "check_cost_df=pd.DataFrame()\n",
    "\n",
    "file_list[0]"
   ]
  },
  {
   "cell_type": "code",
   "execution_count": 4,
   "metadata": {},
   "outputs": [
    {
     "data": {
      "text/plain": [
       "75"
      ]
     },
     "execution_count": 4,
     "metadata": {},
     "output_type": "execute_result"
    }
   ],
   "source": []
  },
  {
   "cell_type": "code",
   "execution_count": 38,
   "metadata": {},
   "outputs": [
    {
     "name": "stdout",
     "output_type": "stream",
     "text": [
      "0.73665465936 2017-08-27\n",
      "1.00902238737 2017-12-03\n",
      "1.00898639447 2017-12-10\n",
      "0.84159800499 2017-12-17\n",
      "0.704643113185 2018-01-07\n",
      "0.663895562469 2017-07-16\n",
      "0.791536985518 2017-07-30\n",
      "0.80281680206 2017-06-11\n",
      "0.84417082393 2017-06-25\n",
      "0.760666466256 2017-05-21\n",
      "0.84950308754 2017-05-28\n",
      "0.81785757697 2017-11-05\n",
      "0.80847657756 2017-11-12\n",
      "1.83587826312 2017-11-19\n",
      "1.99590809395 2017-11-23\n",
      "1.15697498728 2017-11-26\n",
      "0.80776257241 2017-10-08\n",
      "0.8002405542 2017-10-22\n",
      "0.82384388691 2017-09-03\n",
      "0.65939704819 2017-09-24\n",
      "0.766031779043 2018-04-08\n",
      "0.76383725021 2018-04-15\n",
      "0.76952988976 2018-04-22\n",
      "0.7691771554 2018-04-29\n",
      "0.74382372368 2018-02-11\n",
      "0.99008561438 2018-02-18\n",
      "0.78165733915 2018-02-25\n",
      "0.64492931269 2018-03-04\n",
      "0.77157134559 2018-03-18\n",
      "0.77347288046 2018-03-25\n",
      "0.80368383445 2017-10-29\n"
     ]
    },
    {
     "data": {
      "text/plain": [
       "'    \\ncost_df=cost_df.rename(columns={\"PRODUCT ID\":\"productid\",\\'STORE\\':\\'storeid\\',\"CONFIRM MEDIA CPM\":\"media_cpm\",\"PRINT CPM\":\"print_cpm\"})\\ncost_df[\\'media_cpm\\']=cost_df[\\'media_cpm\\'].astype(float)\\ncost_df[\\'print_cpm\\']=cost_df[\\'print_cpm\\'].astype(float)\\ncost_df[\\'productid\\']=cost_df[\\'productid\\'].astype(str)\\ncost_df[\\'storeid\\']=cost_df[\\'storeid\\'].astype(str)\\ncost_df.shape\\n\\ncheck_cost_df[\\'MEDIA COST\\']=check_cost_df[\\'MEDIA COST\\'].astype(float)\\ncheck_cost_df[\\'PRINT COST\\']=check_cost_df[\\'PRINT COST\\'].astype(float)\\ncheck_cost_df[\\'cost\\']=check_cost_df[\\'MEDIA COST\\']+check_cost_df[\\'PRINT COST\\']\\n'"
      ]
     },
     "execution_count": 38,
     "metadata": {},
     "output_type": "execute_result"
    }
   ],
   "source": [
    "i=0\n",
    "sum_cost=0\n",
    "\n",
    "cost_df=pd.DataFrame()\n",
    "check_cost_df=pd.DataFrame()\n",
    "\n",
    "for file in file_list:\n",
    "    df=pd.read_excel(file,sheetname=None,dtype=str)\n",
    "    date_name=file.split(\"/\")[len(file.split(\"/\"))-1].split(\" \")[0]+\" \"+file.split(\"/\")[len(file.split(\"/\"))-1].split(\" \")[1]+\" \"+\\\n",
    "    file.split(\"/\")[len(file.split(\"/\"))-1].split(\" \")[2]\n",
    "    if len(date_name.split(\" \")[0])==3:\n",
    "        date_name=datetime.datetime.strptime(date_name,\"%b %d %Y\").date()\n",
    "    else:\n",
    "        date_name=datetime.datetime.strptime(date_name,\"%B %d %Y\").date()\n",
    "    \n",
    "    # print(str(date_name),df.keys())\n",
    "    \n",
    "    try:\n",
    "        df=df[list(df.keys())[0]]\n",
    "        df=df[~pd.isnull(df['DMA'])]\n",
    "        df=df[~pd.isnull(df['PRODUCT ID'])]\n",
    "        df=df[df['DMA']!='nan']\n",
    "        df=df[df['PRODUCT ID']!='nan']\n",
    "        df=df[['PRODUCT ID','STORE','CONFIRM MEDIA CPM','PRINT CPM']].drop_duplicates()\n",
    "        df['Date']=date_name\n",
    "    except:\n",
    "        print(str(date_name))\n",
    "    cost_df=cost_df.append(df)\n",
    "    \n",
    "    \n",
    "    check_cost_df_app=pd.read_excel(file,sheetname=None,dtype=str)\n",
    "    check_cost_df_app=check_cost_df_app[list(check_cost_df_app.keys())[0]]\n",
    "    check_cost_df_app=check_cost_df_app[~pd.isnull(check_cost_df_app['DMA'])]\n",
    "    check_cost_df_app=check_cost_df_app[~pd.isnull(check_cost_df_app['PRODUCT ID'])]\n",
    "    check_cost_df_app=check_cost_df_app[check_cost_df_app['DMA']!='nan']\n",
    "    check_cost_df_app=check_cost_df_app[check_cost_df_app['PRODUCT ID']!='nan']\n",
    "    check_cost_df_app=check_cost_df_app[['PRODUCT ID','STORE','MEDIA COST','PRINT COST']]\n",
    "    check_cost_df_app['MEDIA COST']=check_cost_df_app['MEDIA COST'].astype(float)\n",
    "    check_cost_df_app['PRINT COST']=check_cost_df_app['PRINT COST'].astype(float)\n",
    "    check_cost_df_app['cost']=check_cost_df_app['PRINT COST']+check_cost_df_app['MEDIA COST']\n",
    "    \n",
    "    \n",
    "    check_cost_df_app['Date']=date_name\n",
    "    check_cost_df=check_cost_df.append(check_cost_df_app)\n",
    "    if (date_name>datetime.date(2017,5,10)) & (date_name<datetime.date(2018,5,10)):\n",
    "        print(check_cost_df_app['cost'].sum()/1000000,date_name)\n",
    "        sum_cost=sum_cost+check_cost_df_app['cost'].sum()\n",
    "'''    \n",
    "cost_df=cost_df.rename(columns={\"PRODUCT ID\":\"productid\",'STORE':'storeid',\"CONFIRM MEDIA CPM\":\"media_cpm\",\"PRINT CPM\":\"print_cpm\"})\n",
    "cost_df['media_cpm']=cost_df['media_cpm'].astype(float)\n",
    "cost_df['print_cpm']=cost_df['print_cpm'].astype(float)\n",
    "cost_df['productid']=cost_df['productid'].astype(str)\n",
    "cost_df['storeid']=cost_df['storeid'].astype(str)\n",
    "cost_df.shape\n",
    "\n",
    "check_cost_df['MEDIA COST']=check_cost_df['MEDIA COST'].astype(float)\n",
    "check_cost_df['PRINT COST']=check_cost_df['PRINT COST'].astype(float)\n",
    "check_cost_df['cost']=check_cost_df['MEDIA COST']+check_cost_df['PRINT COST']\n",
    "'''"
   ]
  },
  {
   "cell_type": "code",
   "execution_count": 39,
   "metadata": {},
   "outputs": [
    {
     "data": {
      "text/plain": [
       "27297633.972551096"
      ]
     },
     "execution_count": 39,
     "metadata": {},
     "output_type": "execute_result"
    }
   ],
   "source": [
    "sum_cost"
   ]
  },
  {
   "cell_type": "code",
   "execution_count": 8,
   "metadata": {},
   "outputs": [
    {
     "data": {
      "text/html": [
       "<div>\n",
       "<style>\n",
       "    .dataframe thead tr:only-child th {\n",
       "        text-align: right;\n",
       "    }\n",
       "\n",
       "    .dataframe thead th {\n",
       "        text-align: left;\n",
       "    }\n",
       "\n",
       "    .dataframe tbody tr th {\n",
       "        vertical-align: top;\n",
       "    }\n",
       "</style>\n",
       "<table border=\"1\" class=\"dataframe\">\n",
       "  <thead>\n",
       "    <tr style=\"text-align: right;\">\n",
       "      <th></th>\n",
       "      <th>PRODUCT ID</th>\n",
       "      <th>STORE</th>\n",
       "      <th>MEDIA COST</th>\n",
       "      <th>PRINT COST</th>\n",
       "      <th>Date</th>\n",
       "      <th>cost</th>\n",
       "    </tr>\n",
       "  </thead>\n",
       "  <tbody>\n",
       "    <tr>\n",
       "      <th>0</th>\n",
       "      <td>572</td>\n",
       "      <td>4598</td>\n",
       "      <td>456.56124</td>\n",
       "      <td>181.45680</td>\n",
       "      <td>2017-04-09</td>\n",
       "      <td>638.01804</td>\n",
       "    </tr>\n",
       "    <tr>\n",
       "      <th>1</th>\n",
       "      <td>783</td>\n",
       "      <td>29</td>\n",
       "      <td>365.25650</td>\n",
       "      <td>144.10077</td>\n",
       "      <td>2017-04-09</td>\n",
       "      <td>509.35727</td>\n",
       "    </tr>\n",
       "  </tbody>\n",
       "</table>\n",
       "</div>"
      ],
      "text/plain": [
       "  PRODUCT ID STORE  MEDIA COST  PRINT COST        Date       cost\n",
       "0        572  4598   456.56124   181.45680  2017-04-09  638.01804\n",
       "1        783    29   365.25650   144.10077  2017-04-09  509.35727"
      ]
     },
     "execution_count": 8,
     "metadata": {},
     "output_type": "execute_result"
    }
   ],
   "source": [
    "check_cost_df.head(2)"
   ]
  },
  {
   "cell_type": "code",
   "execution_count": 40,
   "metadata": {},
   "outputs": [
    {
     "data": {
      "text/plain": [
       "27297633.972551096"
      ]
     },
     "execution_count": 40,
     "metadata": {},
     "output_type": "execute_result"
    }
   ],
   "source": [
    "check_cost_df_ours_period=check_cost_df[(check_cost_df['Date']>=datetime.date(2017,5,10))& (check_cost_df['Date']<=datetime.date(2018,5,10))]\n",
    "check_cost_df_ours_period['cost'].sum()"
   ]
  },
  {
   "cell_type": "code",
   "execution_count": 41,
   "metadata": {},
   "outputs": [
    {
     "data": {
      "text/plain": [
       "31"
      ]
     },
     "execution_count": 41,
     "metadata": {},
     "output_type": "execute_result"
    }
   ],
   "source": [
    "len(check_cost_df_ours_period['Date'].unique())"
   ]
  },
  {
   "cell_type": "code",
   "execution_count": 13,
   "metadata": {},
   "outputs": [
    {
     "data": {
      "text/plain": [
       "array([<class 'datetime.date'>], dtype=object)"
      ]
     },
     "execution_count": 13,
     "metadata": {},
     "output_type": "execute_result"
    }
   ],
   "source": [
    "check_cost_df['Date'].apply(lambda x:type(x)).unique()"
   ]
  },
  {
   "cell_type": "code",
   "execution_count": 17,
   "metadata": {},
   "outputs": [
    {
     "data": {
      "text/plain": [
       "datetime.date(2017, 5, 21)"
      ]
     },
     "execution_count": 17,
     "metadata": {},
     "output_type": "execute_result"
    }
   ],
   "source": [
    "check_cost_df_ours_period['Date'].min()"
   ]
  },
  {
   "cell_type": "code",
   "execution_count": 30,
   "metadata": {},
   "outputs": [
    {
     "data": {
      "text/plain": [
       "31"
      ]
     },
     "execution_count": 30,
     "metadata": {},
     "output_type": "execute_result"
    }
   ],
   "source": [
    "len(check_cost_df_ours_period['Date'].unique())"
   ]
  },
  {
   "cell_type": "code",
   "execution_count": 31,
   "metadata": {},
   "outputs": [
    {
     "data": {
      "text/plain": [
       "datetime.date(2017, 10, 29)"
      ]
     },
     "execution_count": 31,
     "metadata": {},
     "output_type": "execute_result"
    }
   ],
   "source": [
    "date_name"
   ]
  },
  {
   "cell_type": "code",
   "execution_count": null,
   "metadata": {
    "collapsed": true
   },
   "outputs": [],
   "source": []
  }
 ],
 "metadata": {
  "kernelspec": {
   "display_name": "Python 3",
   "language": "python",
   "name": "python3"
  },
  "language_info": {
   "codemirror_mode": {
    "name": "ipython",
    "version": 3
   },
   "file_extension": ".py",
   "mimetype": "text/x-python",
   "name": "python",
   "nbconvert_exporter": "python",
   "pygments_lexer": "ipython3",
   "version": "3.6.1"
  }
 },
 "nbformat": 4,
 "nbformat_minor": 2
}
