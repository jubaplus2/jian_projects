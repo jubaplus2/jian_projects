{
 "cells": [
  {
   "cell_type": "code",
   "execution_count": 12,
   "metadata": {
    "collapsed": true
   },
   "outputs": [],
   "source": [
    "import pandas as pd\n",
    "import numpy as np\n",
    "import datetime\n",
    "from haversine import haversine\n",
    "import os\n",
    "import json\n",
    "\n",
    "\n",
    "zip_centers=json.load(open(\"/home/jian/Docs/Geo_mapping/center_of_rentrak_zip.json\",\"r\"))"
   ]
  },
  {
   "cell_type": "code",
   "execution_count": 13,
   "metadata": {
    "collapsed": true
   },
   "outputs": [],
   "source": [
    "dict_SOTF={\"4687\":{\"Market\":\"BAY SHORE, NY\",\"Date\":\"2019-02-08\"},\n",
    "           \n",
    "           \"5378\":{\"Market\":\"MISHAWAKA, IN\",\"Date\":\"2019-03-01\"},\n",
    "           \"4555\":{\"Market\":\"NORTH HIGHLANDS, CA\",\"Date\":\"2019-03-01\"},\n",
    "           \"1918\":{\"Market\":\"SACRAMENTO, CA\",\"Date\":\"2019-03-01\"},\n",
    "           \"5370\":{\"Market\":\"SARASOTA, FL\",\"Date\":\"2019-03-01\"},\n",
    "           \n",
    "           \"4674\":{\"Market\":\"CITRUS HEIGHTS, CA\",\"Date\":\"2019-03-29\"},\n",
    "           \"4685\":{\"Market\":\"LONGMONT, CO\",\"Date\":\"2019-03-29\"},\n",
    "           \"5390\":{\"Market\":\"NILES, OH\",\"Date\":\"2019-03-29\"},\n",
    "           \"4693\":{\"Market\":\"VANCOUVER, WA\",\"Date\":\"2019-03-29\"},\n",
    "           \n",
    "           \"4690\":{\"Market\":\"HUNTINGTON, WV\",\"Date\":\"2019-04-26\"},\n",
    "           \"5383\":{\"Market\":\"MOUNT PLEASANT, PA\",\"Date\":\"2019-04-26\"},\n",
    "          }"
   ]
  },
  {
   "cell_type": "code",
   "execution_count": 14,
   "metadata": {
    "collapsed": true
   },
   "outputs": [],
   "source": [
    "store_list=pd.read_table(\"/home/jian/BigLots/static_files/Store_list/MediaStormStores20190101-135843-638.txt\",dtype=str,sep=\"|\")\n",
    "store_list.head(2)\n",
    "store_list_SOTF=store_list[store_list['location_id'].isin(dict_SOTF.keys())]"
   ]
  },
  {
   "cell_type": "code",
   "execution_count": 15,
   "metadata": {},
   "outputs": [
    {
     "data": {
      "text/html": [
       "<div>\n",
       "<style>\n",
       "    .dataframe thead tr:only-child th {\n",
       "        text-align: right;\n",
       "    }\n",
       "\n",
       "    .dataframe thead th {\n",
       "        text-align: left;\n",
       "    }\n",
       "\n",
       "    .dataframe tbody tr th {\n",
       "        vertical-align: top;\n",
       "    }\n",
       "</style>\n",
       "<table border=\"1\" class=\"dataframe\">\n",
       "  <thead>\n",
       "    <tr style=\"text-align: right;\">\n",
       "      <th></th>\n",
       "      <th>net_transaction_amt</th>\n",
       "      <th>transactions</th>\n",
       "      <th>zip</th>\n",
       "      <th>revenue_flag</th>\n",
       "      <th>transaction_flag</th>\n",
       "      <th>location_id</th>\n",
       "    </tr>\n",
       "  </thead>\n",
       "  <tbody>\n",
       "  </tbody>\n",
       "</table>\n",
       "</div>"
      ],
      "text/plain": [
       "Empty DataFrame\n",
       "Columns: [net_transaction_amt, transactions, zip, revenue_flag, transaction_flag, location_id]\n",
       "Index: []"
      ]
     },
     "execution_count": 15,
     "metadata": {},
     "output_type": "execute_result"
    }
   ],
   "source": [
    "zips_by_store=pd.read_csv(\"/home/jian/Projects/Big_Lots/New_TA/zips_in_new_ta/sales_by_zip (Store level).csv\",dtype=str)\n",
    "zips_by_store[zips_by_store['revenue_flag'].isin(dict_SOTF.keys())]\n",
    "# No P/S label found"
   ]
  },
  {
   "cell_type": "code",
   "execution_count": 16,
   "metadata": {},
   "outputs": [
    {
     "name": "stderr",
     "output_type": "stream",
     "text": [
      "/usr/local/lib/python3.6/site-packages/ipykernel_launcher.py:2: SettingWithCopyWarning: \n",
      "A value is trying to be set on a copy of a slice from a DataFrame.\n",
      "Try using .loc[row_indexer,col_indexer] = value instead\n",
      "\n",
      "See the caveats in the documentation: http://pandas.pydata.org/pandas-docs/stable/indexing.html#indexing-view-versus-copy\n",
      "  \n",
      "/usr/local/lib/python3.6/site-packages/ipykernel_launcher.py:3: SettingWithCopyWarning: \n",
      "A value is trying to be set on a copy of a slice from a DataFrame.\n",
      "Try using .loc[row_indexer,col_indexer] = value instead\n",
      "\n",
      "See the caveats in the documentation: http://pandas.pydata.org/pandas-docs/stable/indexing.html#indexing-view-versus-copy\n",
      "  This is separate from the ipykernel package so we can avoid doing imports until\n"
     ]
    }
   ],
   "source": [
    "store_available_lat_lng=store_list_SOTF[['location_id','latitude_meas','longitude_meas']]\n",
    "store_available_lat_lng['latitude_meas']=store_available_lat_lng['latitude_meas'].astype(float)\n",
    "store_available_lat_lng['longitude_meas']=store_available_lat_lng['longitude_meas'].astype(float)\n"
   ]
  },
  {
   "cell_type": "code",
   "execution_count": 17,
   "metadata": {},
   "outputs": [
    {
     "data": {
      "text/html": [
       "<div>\n",
       "<style>\n",
       "    .dataframe thead tr:only-child th {\n",
       "        text-align: right;\n",
       "    }\n",
       "\n",
       "    .dataframe thead th {\n",
       "        text-align: left;\n",
       "    }\n",
       "\n",
       "    .dataframe tbody tr th {\n",
       "        vertical-align: top;\n",
       "    }\n",
       "</style>\n",
       "<table border=\"1\" class=\"dataframe\">\n",
       "  <thead>\n",
       "    <tr style=\"text-align: right;\">\n",
       "      <th></th>\n",
       "      <th>location_id</th>\n",
       "      <th>latitude_meas</th>\n",
       "      <th>longitude_meas</th>\n",
       "    </tr>\n",
       "  </thead>\n",
       "  <tbody>\n",
       "    <tr>\n",
       "      <th>667</th>\n",
       "      <td>1918</td>\n",
       "      <td>38.563259</td>\n",
       "      <td>-121.380165</td>\n",
       "    </tr>\n",
       "    <tr>\n",
       "      <th>972</th>\n",
       "      <td>4555</td>\n",
       "      <td>38.691322</td>\n",
       "      <td>-121.381584</td>\n",
       "    </tr>\n",
       "  </tbody>\n",
       "</table>\n",
       "</div>"
      ],
      "text/plain": [
       "    location_id  latitude_meas  longitude_meas\n",
       "667        1918      38.563259     -121.380165\n",
       "972        4555      38.691322     -121.381584"
      ]
     },
     "execution_count": 17,
     "metadata": {},
     "output_type": "execute_result"
    }
   ],
   "source": [
    "store_available_lat_lng"
   ]
  },
  {
   "cell_type": "code",
   "execution_count": 18,
   "metadata": {},
   "outputs": [
    {
     "data": {
      "text/plain": [
       "dict_keys(['4687', '5378', '4555', '1918', '5370', '4674', '4685', '5390', '4693', '4690', '5383'])"
      ]
     },
     "execution_count": 18,
     "metadata": {},
     "output_type": "execute_result"
    }
   ],
   "source": [
    "dict_SOTF.keys()"
   ]
  },
  {
   "cell_type": "code",
   "execution_count": 19,
   "metadata": {},
   "outputs": [
    {
     "name": "stdout",
     "output_type": "stream",
     "text": [
      "9\n",
      "['4687', '5378', '5370', '4674', '4685', '5390', '4693', '4690', '5383']\n"
     ]
    }
   ],
   "source": [
    "store_from_Dom_list=[x for x in list(dict_SOTF.keys()) if x not in store_available_lat_lng['location_id'].tolist()]\n",
    "print(len(store_from_Dom_list))\n",
    "print(store_from_Dom_list)\n",
    "\n",
    "new_store_lat_lng_dict={\"4687\":[40.7397339,-73.2365623],\n",
    "                   \n",
    "                   \"5378\":[41.6826079,-86.187903],\n",
    "                   # \"4555\":[38.6913996,-121.3816683], available\n",
    "                   # \"1918\":[38.5630068,-121.3805318], available\n",
    "                   \"5370\":[27.3404875,-82.4994362],\n",
    "                   \n",
    "                   \"4674\":[38.7211498,-121.292759],\n",
    "                   \"4685\":[40.1973844,-105.1037418],\n",
    "                   \"5390\":[41.2151883,-80.7497738],\n",
    "                   # Lack of \"4693\"\n",
    "                   \n",
    "                   \"4690\":[38.409634,-82.3248814],\n",
    "                   \"5383\":[40.1252467,-79.5510018],\n",
    "                  } "
   ]
  },
  {
   "cell_type": "code",
   "execution_count": 20,
   "metadata": {
    "collapsed": true
   },
   "outputs": [],
   "source": [
    "SOTF_lat_lng_dict=new_store_lat_lng_dict.copy()\n",
    "SOTF_lat_lng_dict.update({\"1918\":[38.563259,-121.380165],\"4555\":[38.691322,-121.381584]})"
   ]
  },
  {
   "cell_type": "code",
   "execution_count": 21,
   "metadata": {
    "collapsed": true
   },
   "outputs": [],
   "source": [
    "i_counter=0\n",
    "sotf_zips=pd.DataFrame()\n",
    "for SOTF in SOTF_lat_lng_dict.keys():\n",
    "    store_center=SOTF_lat_lng_dict[SOTF]\n",
    "    for zip_cd in zip_centers.keys():\n",
    "        dist=haversine(store_center,zip_centers[zip_cd],miles=True)\n",
    "        if dist <= 10:\n",
    "            df=pd.DataFrame({\"location_id\":SOTF,'zip_cd':zip_cd,\"revenue_flag\":\"zips_in_10_miles\",\"distance_miles\":dist},index=[i_counter])\n",
    "            i_counter+=1\n",
    "            sotf_zips=sotf_zips.append(df)"
   ]
  },
  {
   "cell_type": "code",
   "execution_count": 22,
   "metadata": {},
   "outputs": [],
   "source": [
    "sotf_zips=sotf_zips[['location_id','zip_cd','revenue_flag','distance_miles']]"
   ]
  },
  {
   "cell_type": "code",
   "execution_count": 27,
   "metadata": {},
   "outputs": [
    {
     "data": {
      "text/plain": [
       "'/home/jian/Projects/Big_Lots/Analysis/2019_Q1/Q1_SOTF_Zips'"
      ]
     },
     "execution_count": 27,
     "metadata": {},
     "output_type": "execute_result"
    }
   ],
   "source": [
    "os.getcwd()"
   ]
  },
  {
   "cell_type": "code",
   "execution_count": 28,
   "metadata": {
    "collapsed": true
   },
   "outputs": [],
   "source": [
    "sotf_zips.to_csv(\"/home/jian/Projects/Big_Lots/Analysis/2019_Q1/Q1_SOTF_Zips/BL_zips_for_SOTF_JL_\"+str(datetime.datetime.now().date())+\".csv\",index=False)\n"
   ]
  },
  {
   "cell_type": "code",
   "execution_count": null,
   "metadata": {
    "collapsed": true
   },
   "outputs": [],
   "source": []
  }
 ],
 "metadata": {
  "kernelspec": {
   "display_name": "Python 3",
   "language": "python",
   "name": "python3"
  },
  "language_info": {
   "codemirror_mode": {
    "name": "ipython",
    "version": 3
   },
   "file_extension": ".py",
   "mimetype": "text/x-python",
   "name": "python",
   "nbconvert_exporter": "python",
   "pygments_lexer": "ipython3",
   "version": "3.6.1"
  }
 },
 "nbformat": 4,
 "nbformat_minor": 2
}
