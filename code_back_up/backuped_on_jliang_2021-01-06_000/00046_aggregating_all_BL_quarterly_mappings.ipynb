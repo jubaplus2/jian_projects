{
 "cells": [
  {
   "cell_type": "code",
   "execution_count": 1,
   "metadata": {},
   "outputs": [
    {
     "name": "stdout",
     "output_type": "stream",
     "text": [
      "2020-06-29 16:49:28.246028\n"
     ]
    }
   ],
   "source": [
    "import pandas as pd\n",
    "import numpy as np\n",
    "import datetime\n",
    "import os\n",
    "import glob\n",
    "import gc\n",
    "print(datetime.datetime.now())"
   ]
  },
  {
   "cell_type": "code",
   "execution_count": 3,
   "metadata": {},
   "outputs": [
    {
     "data": {
      "text/plain": [
       "['/home/jian/Projects/Big_Lots/Live_Ramp/Mapping_Files/all_LR_returned/CL_BigLots_allrewards_combined1011_20181026_232208_0000.psv.gz',\n",
       " '/home/jian/Projects/Big_Lots/Live_Ramp/Mapping_Files/all_LR_returned/CL_BigLots_allrewards_combined0908_20181029_171317_0000.psv.gz',\n",
       " '/home/jian/Projects/Big_Lots/Live_Ramp/Mapping_Files/all_LR_returned/CL_BigLots_BL_mapping_file_2018Q4_JL_2019-02-01_20190207_025237_0000.psv.gz',\n",
       " '/home/jian/Projects/Big_Lots/Live_Ramp/Mapping_Files/all_LR_returned/CL_BigLots_BL_mapping_file_2019Q1_JL_2019-05-14_20190516_111931_0000.psv.gz',\n",
       " '/home/jian/Projects/Big_Lots/Live_Ramp/Mapping_Files/all_LR_returned/CL_BigLots_BL_mapping_file_2019Q2_JL_2019-09-23_20190926_084457_0000.psv.gz',\n",
       " '/home/jian/Projects/Big_Lots/Live_Ramp/Mapping_Files/all_LR_returned/CL_BigLots_BL_mapping_file_2019Q3_JL_2019-11-20_20191125_232935_0000.psv.gz',\n",
       " '/home/jian/Projects/Big_Lots/Live_Ramp/Mapping_Files/all_LR_returned/CL_BigLots_BL_mapping_file_2019Q4_JL_2020-02-14_20200215_020719_0000.psv.gz',\n",
       " '/home/jian/Projects/Big_Lots/Live_Ramp/Mapping_Files/all_LR_returned/CL_BigLots_BL_mapping_file_2020Q1_JL_2020-05-13_20200514_172449_0000.psv.gz']"
      ]
     },
     "execution_count": 3,
     "metadata": {},
     "output_type": "execute_result"
    }
   ],
   "source": [
    "list_all_quarterly_files=glob.glob(\"/home/jian/Projects/Big_Lots/Live_Ramp/Mapping_Files/all_LR_returned/*.gz\")\n",
    "list_all_quarterly_files=sorted(list_all_quarterly_files,key=lambda x: os.path.basename(x).split(\"_\")[4] if \"combine\" in x else os.path.basename(x).split(\"_\")[7].replace(\"-\",\"\"))\n",
    "list_all_quarterly_files"
   ]
  },
  {
   "cell_type": "code",
   "execution_count": 4,
   "metadata": {},
   "outputs": [
    {
     "name": "stdout",
     "output_type": "stream",
     "text": [
      "Start 2020-06-29 16:49:55.551758\n",
      "['Customer_Link', 'customer_id_hashed', 'date_up_to']\n",
      "['Customer_Link', 'customer_id_hashed', 'date_up_to']\n",
      "1 2020-06-29 16:50:40.216910\n",
      "['Customer_Link', 'customer_id_hashed', 'date_up_to']\n",
      "['Customer_Link', 'customer_id_hashed', 'date_up_to']\n",
      "2 2020-06-29 17:00:48.587629\n"
     ]
    },
    {
     "name": "stderr",
     "output_type": "stream",
     "text": [
      "/home/jian/.local/lib/python3.6/site-packages/ipykernel_launcher.py:15: SettingWithCopyWarning: \n",
      "A value is trying to be set on a copy of a slice from a DataFrame.\n",
      "Try using .loc[row_indexer,col_indexer] = value instead\n",
      "\n",
      "See the caveats in the documentation: http://pandas.pydata.org/pandas-docs/stable/user_guide/indexing.html#returning-a-view-versus-a-copy\n",
      "  from ipykernel import kernelapp as app\n"
     ]
    },
    {
     "name": "stdout",
     "output_type": "stream",
     "text": [
      "['Customer_Link', 'customer_id_hashed', 'date_up_to']\n",
      "['Customer_Link', 'customer_id_hashed', 'date_up_to']\n",
      "3 2020-06-29 17:25:03.789837\n",
      "['Customer_Link', 'customer_id_hashed', 'date_up_to']\n",
      "['Customer_Link', 'customer_id_hashed', 'date_up_to']\n",
      "4 2020-06-29 17:52:22.577559\n",
      "['Customer_Link', 'customer_id_hashed', 'date_up_to']\n",
      "['Customer_Link', 'customer_id_hashed', 'date_up_to']\n",
      "5 2020-06-29 18:20:21.871722\n",
      "['Customer_Link', 'customer_id_hashed', 'date_up_to']\n",
      "['Customer_Link', 'customer_id_hashed', 'date_up_to']\n",
      "6 2020-06-29 18:51:58.568523\n",
      "['Customer_Link', 'customer_id_hashed', 'date_up_to']\n",
      "['Customer_Link', 'customer_id_hashed', 'date_up_to']\n",
      "7 2020-06-29 19:26:42.645216\n",
      "['Customer_Link', 'customer_id_hashed', 'date_up_to']\n",
      "['Customer_Link', 'customer_id_hashed', 'date_up_to']\n",
      "8 2020-06-29 20:02:17.610844\n",
      "Done 2020-06-29 20:02:17.612643\n"
     ]
    },
    {
     "data": {
      "text/plain": [
       "(40750089, 3)"
      ]
     },
     "execution_count": 4,
     "metadata": {},
     "output_type": "execute_result"
    }
   ],
   "source": [
    "df_total_mapping=pd.DataFrame(columns=['Customer_Link','customer_id_hashed','date_up_to'])\n",
    "print(\"Start\",datetime.datetime.now())\n",
    "i=0\n",
    "for file in list_all_quarterly_files:\n",
    "    i+=1\n",
    "    basename=os.path.basename(file)\n",
    "    if \"combined\" in file:\n",
    "        date_up_to=basename.split(\"_\")[4]\n",
    "    else:\n",
    "        date_up_to=basename.split(\"_\")[7].replace(\"-\",\"\")\n",
    "    df=pd.read_table(file,dtype=str,sep=\"|\",compression=\"gzip\",usecols=['Customer_Link','customer_id_hashed'])\n",
    "    df=df[df['Customer_Link']!=\"UNMATCHED\"].drop_duplicates(\"Customer_Link\")\n",
    "    df['date_up_to']=date_up_to\n",
    "    df_pre=df_total_mapping.drop_duplicates(\"Customer_Link\") # as the high date in the cum mapping\n",
    "    df_pre['latest']=1 # label as the latest avaibale\n",
    "    df_total_mapping=pd.merge(df_total_mapping,df_pre,on=[\"Customer_Link\",\"customer_id_hashed\",\"date_up_to\"],how=\"left\")\n",
    "    df_total_mapping=df_total_mapping[pd.isnull(df_total_mapping['latest'])] # remove the latest and kept previous only if different\n",
    "    del df_pre['latest']\n",
    "    del df_total_mapping['latest']\n",
    "    df_2_consecutive=df.append(df_pre) # new on the top, old below\n",
    "    \n",
    "    df_ids_count_by_idl=df_2_consecutive.groupby(\"Customer_Link\")[\"customer_id_hashed\"].nunique().to_frame().reset_index()\n",
    "    df_ids_count_by_idl=df_ids_count_by_idl.rename(columns={\"customer_id_hashed\":\"BL_id_count\"})\n",
    "    df_ids_count_by_idl_2=df_ids_count_by_idl[df_ids_count_by_idl['BL_id_count']>1] # the new diffrent from the old high date\n",
    "    df_ids_count_by_idl_1=df_ids_count_by_idl[df_ids_count_by_idl['BL_id_count']==1]# the new same as the old high date\n",
    "    # 1 and 2 should be mutually exclusive\n",
    "    df_1=pd.merge(df_2_consecutive,df_ids_count_by_idl_1,on=\"Customer_Link\",how=\"inner\").drop_duplicates(\"Customer_Link\") # keep the new only\n",
    "    df_2=pd.merge(df_2_consecutive,df_ids_count_by_idl_2,on=\"Customer_Link\",how=\"inner\") # keep both\n",
    "    \n",
    "    del df_1['BL_id_count']\n",
    "    del df_2['BL_id_count']\n",
    "    \n",
    "    print(df_1.columns.tolist())\n",
    "    print(df_2.columns.tolist())\n",
    "    \n",
    "    df_total_mapping=pd.concat([df_1,df_2,df_total_mapping])\n",
    "    \n",
    "    print(i,datetime.datetime.now())\n",
    "print(\"Done\",datetime.datetime.now())\n",
    "del df_1\n",
    "del df_2\n",
    "del df_2_consecutive\n",
    "del df_ids_count_by_idl\n",
    "del df_ids_count_by_idl_1\n",
    "del df_ids_count_by_idl_2\n",
    "del df\n",
    "gc.collect()\n",
    "df_total_mapping=df_total_mapping.sort_values(['Customer_Link','date_up_to'],ascending=[True,False])\n",
    "gc.collect()\n",
    "df_total_mapping.shape\n",
    "    "
   ]
  },
  {
   "cell_type": "code",
   "execution_count": 5,
   "metadata": {},
   "outputs": [
    {
     "data": {
      "text/html": [
       "<div>\n",
       "<style scoped>\n",
       "    .dataframe tbody tr th:only-of-type {\n",
       "        vertical-align: middle;\n",
       "    }\n",
       "\n",
       "    .dataframe tbody tr th {\n",
       "        vertical-align: top;\n",
       "    }\n",
       "\n",
       "    .dataframe thead th {\n",
       "        text-align: right;\n",
       "    }\n",
       "</style>\n",
       "<table border=\"1\" class=\"dataframe\">\n",
       "  <thead>\n",
       "    <tr style=\"text-align: right;\">\n",
       "      <th></th>\n",
       "      <th>Customer_Link</th>\n",
       "      <th>customer_id_hashed</th>\n",
       "      <th>date_up_to</th>\n",
       "    </tr>\n",
       "  </thead>\n",
       "  <tbody>\n",
       "    <tr>\n",
       "      <th>20164975</th>\n",
       "      <td>XY1468---077tVclzugrAPADjYKKd1D3ZebCh26abPI1mraTs</td>\n",
       "      <td>c038e1b89f0bf1902d4c365d001b9a19b3a739358d1ee7...</td>\n",
       "      <td>20200513</td>\n",
       "    </tr>\n",
       "    <tr>\n",
       "      <th>22051056</th>\n",
       "      <td>XY1468---0pTSu_zfDGheJ-qYQPfvwhCI1e7f_joTNdovjomE</td>\n",
       "      <td>1b5cda9e5ca0af148177d6a317905639cb35d744e0ff2d...</td>\n",
       "      <td>20200513</td>\n",
       "    </tr>\n",
       "  </tbody>\n",
       "</table>\n",
       "</div>"
      ],
      "text/plain": [
       "                                              Customer_Link  \\\n",
       "20164975  XY1468---077tVclzugrAPADjYKKd1D3ZebCh26abPI1mraTs   \n",
       "22051056  XY1468---0pTSu_zfDGheJ-qYQPfvwhCI1e7f_joTNdovjomE   \n",
       "\n",
       "                                         customer_id_hashed date_up_to  \n",
       "20164975  c038e1b89f0bf1902d4c365d001b9a19b3a739358d1ee7...   20200513  \n",
       "22051056  1b5cda9e5ca0af148177d6a317905639cb35d744e0ff2d...   20200513  "
      ]
     },
     "execution_count": 5,
     "metadata": {},
     "output_type": "execute_result"
    }
   ],
   "source": [
    "df_total_mapping.head(2)"
   ]
  },
  {
   "cell_type": "code",
   "execution_count": 6,
   "metadata": {},
   "outputs": [
    {
     "name": "stdout",
     "output_type": "stream",
     "text": [
      "df_total_mapping.shape (40750089, 3)\n",
      "df_total_mapping['Customer_Link'].nunique() 39212759\n",
      "df_total_mapping['customer_id_hashed'].nunique() 34610603\n"
     ]
    }
   ],
   "source": [
    "print(\"df_total_mapping.shape\",df_total_mapping.shape)\n",
    "print(\"df_total_mapping['Customer_Link'].nunique()\",df_total_mapping['Customer_Link'].nunique())\n",
    "print(\"df_total_mapping['customer_id_hashed'].nunique()\",df_total_mapping['customer_id_hashed'].nunique())"
   ]
  },
  {
   "cell_type": "code",
   "execution_count": 7,
   "metadata": {},
   "outputs": [
    {
     "name": "stdout",
     "output_type": "stream",
     "text": [
      "2020-06-29 20:22:43.945720\n"
     ]
    }
   ],
   "source": [
    "df_total_mapping.to_csv(\"./df_total_mapping_IDL_BLid_JL_\"+str(datetime.datetime.now().date())+\".csv\",index=False)\n",
    "print(datetime.datetime.now())"
   ]
  },
  {
   "cell_type": "code",
   "execution_count": null,
   "metadata": {},
   "outputs": [],
   "source": []
  }
 ],
 "metadata": {
  "kernelspec": {
   "display_name": "Python 3",
   "language": "python",
   "name": "python3"
  },
  "language_info": {
   "codemirror_mode": {
    "name": "ipython",
    "version": 3
   },
   "file_extension": ".py",
   "mimetype": "text/x-python",
   "name": "python",
   "nbconvert_exporter": "python",
   "pygments_lexer": "ipython3",
   "version": "3.6.1"
  }
 },
 "nbformat": 4,
 "nbformat_minor": 2
}
