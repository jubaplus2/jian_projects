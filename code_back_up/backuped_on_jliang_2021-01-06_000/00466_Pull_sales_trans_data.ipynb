{
 "cells": [
  {
   "cell_type": "code",
   "execution_count": 1,
   "metadata": {},
   "outputs": [
    {
     "data": {
      "text/plain": [
       "'/home/jian/Projects/Big_Lots/Analysis/2019_Q2/Planner_Requests/Bruce_2019Q2_test2_test3_YoY'"
      ]
     },
     "execution_count": 1,
     "metadata": {},
     "output_type": "execute_result"
    }
   ],
   "source": [
    "import pandas as pd\n",
    "import os\n",
    "import datetime\n",
    "import gc\n",
    "import numpy as np\n",
    "import glob\n",
    "samplerows=None\n",
    "os.getcwd()"
   ]
  },
  {
   "cell_type": "code",
   "execution_count": 2,
   "metadata": {},
   "outputs": [],
   "source": [
    "first_weekend_2019_before=datetime.date(2019,5,11)\n",
    "week_2019_before=[first_weekend_2019_before+datetime.timedelta(days=x*7) for x in range(6)]\n",
    "week_2019_during=[first_weekend_2019_before+datetime.timedelta(days=(x+6)*7) for x in range(6)]\n",
    "week_2018_before=[x-datetime.timedelta(days=52*7) for x in week_2019_before]\n",
    "week_2018_during=[x-datetime.timedelta(days=52*7) for x in week_2019_during]\n",
    "\n",
    "df_all_week_end_dts=pd.DataFrame()\n",
    "\n",
    "df_2019_before=pd.DataFrame({\"week_end_dts\":week_2019_before,\"groups\":\"2019_before\"})\n",
    "df_2019_during=pd.DataFrame({\"week_end_dts\":week_2019_during,\"groups\":\"2019_during\"})\n",
    "df_2018_before=pd.DataFrame({\"week_end_dts\":week_2018_before,\"groups\":\"2018_before\"})\n",
    "df_2018_during=pd.DataFrame({\"week_end_dts\":week_2018_during,\"groups\":\"2018_during\"})\n",
    "\n",
    "df_all_week_end_dts=df_all_week_end_dts.append([df_2019_before,df_2019_during,df_2018_before,df_2018_during])\n",
    "\n",
    "df_all_week_end_dts['week_end_dts']=df_all_week_end_dts['week_end_dts'].astype(str)\n",
    "list_all_week_end_dts=df_all_week_end_dts['week_end_dts'].tolist()"
   ]
  },
  {
   "cell_type": "code",
   "execution_count": 3,
   "metadata": {},
   "outputs": [
    {
     "data": {
      "text/plain": [
       "24"
      ]
     },
     "execution_count": 3,
     "metadata": {},
     "output_type": "execute_result"
    }
   ],
   "source": [
    "len(list_all_week_end_dts)"
   ]
  },
  {
   "cell_type": "code",
   "execution_count": 4,
   "metadata": {
    "collapsed": true
   },
   "outputs": [],
   "source": [
    "def recursive_file_gen(root_path):\n",
    "    for root, dirs, files in os.walk(root_path):\n",
    "        for file in files:\n",
    "            yield os.path.join(root,file)"
   ]
  },
  {
   "cell_type": "code",
   "execution_count": 5,
   "metadata": {},
   "outputs": [],
   "source": [
    "sales_2018_subclass_1=glob.glob(\"/home/jian/BigLots/hist_daily_data_subclasslevel/*.txt\")\n",
    "sales_2018_subclass_1=[x for x in sales_2018_subclass_1 if x.split(\"MediaStormDailySales_week_ending_\")[1][:10] in list_all_week_end_dts]\n",
    "\n",
    "sales_2018_subclass_2=list(recursive_file_gen(\"/home/jian/BigLots/2018_by_weeks/\"))\n",
    "sales_2018_subclass_2=[x for x in sales_2018_subclass_2 if \"aily\" in x]\n",
    "sales_2018_subclass_2=[x for x in sales_2018_subclass_2 if x.split(\"MediaStorm_\")[1][:10] in list_all_week_end_dts]\n",
    "sales_2018_subclass=sorted(sales_2018_subclass_1+sales_2018_subclass_2)\n",
    "sales_2018_subclass=[x for x in sales_2018_subclass if \".txt\" in x]"
   ]
  },
  {
   "cell_type": "code",
   "execution_count": 6,
   "metadata": {},
   "outputs": [],
   "source": [
    "sales_2019_item=list(recursive_file_gen(\"/home/jian/BigLots/2019_by_weeks/\"))\n",
    "sales_2019_item=[x for x in sales_2019_item if \"aily\" in x]\n",
    "sales_2019_item=[x for x in sales_2019_item if x.split(\"MediaStorm_\")[1][:10] in list_all_week_end_dts]\n",
    "sales_2019_item=sorted(sales_2019_item)\n",
    "sales_2019_item=[x for x in sales_2019_item if \".txt\" in x]\n"
   ]
  },
  {
   "cell_type": "code",
   "execution_count": 7,
   "metadata": {},
   "outputs": [],
   "source": [
    "df_store_list_in_test=pd.read_excel(\"./Store_list_by_group.xlsx\",dtype=str)\n",
    "store_list_in_test=df_store_list_in_test['location_id'].tolist()"
   ]
  },
  {
   "cell_type": "code",
   "execution_count": 8,
   "metadata": {},
   "outputs": [
    {
     "name": "stdout",
     "output_type": "stream",
     "text": [
      "2019-08-05 13:35:44.488400 /home/jian/BigLots/2018_by_weeks/MediaStorm_2018-06-16/MediaStormDailySales.txt\n",
      "2019-08-05 13:36:27.225292 /home/jian/BigLots/2018_by_weeks/MediaStorm_2018-06-23/MediaStormDailySales.txt\n",
      "2019-08-05 13:37:44.028392 /home/jian/BigLots/2018_by_weeks/MediaStorm_2018-06-30/MediaStormDailySales.txt\n",
      "2019-08-05 13:39:30.829771 /home/jian/BigLots/2018_by_weeks/MediaStorm_2018-07-07/MediaStormDailySales.txt\n",
      "2019-08-05 13:40:33.686839 /home/jian/BigLots/2018_by_weeks/MediaStorm_2018-07-14/MediaStormDailySales20180717-113630-767.txt\n",
      "2019-08-05 13:41:22.836278 /home/jian/BigLots/2018_by_weeks/MediaStorm_2018-07-21/MediaStormDailySales20180724-113327-741.txt\n",
      "2019-08-05 13:42:08.860737 /home/jian/BigLots/2018_by_weeks/MediaStorm_2018-07-28/MediaStormDailySales20180731-111804-489.txt\n",
      "2019-08-05 13:42:42.613401 /home/jian/BigLots/hist_daily_data_subclasslevel/MediaStormDailySales_week_ending_2018-05-12.txt\n",
      "2019-08-05 13:43:25.215457 /home/jian/BigLots/hist_daily_data_subclasslevel/MediaStormDailySales_week_ending_2018-05-19.txt\n",
      "2019-08-05 13:44:18.339082 /home/jian/BigLots/hist_daily_data_subclasslevel/MediaStormDailySales_week_ending_2018-05-26.txt\n",
      "2019-08-05 13:45:10.761360 /home/jian/BigLots/hist_daily_data_subclasslevel/MediaStormDailySales_week_ending_2018-06-02.txt\n",
      "2019-08-05 13:48:56.152662 /home/jian/BigLots/hist_daily_data_subclasslevel/MediaStormDailySales_week_ending_2018-06-09.txt\n"
     ]
    }
   ],
   "source": [
    "df_sales_2018_rewards=pd.DataFrame()\n",
    "df_sales_2018_Nonrewards=pd.DataFrame()\n",
    "df_sales_2018_Total=pd.DataFrame()\n",
    "\n",
    "for file_2018 in sales_2018_subclass:\n",
    "    df=pd.read_table(file_2018,nrows=samplerows,sep=\"|\",dtype=str,\n",
    "                     usecols=['location_id','transaction_dt','transaction_id','customer_id_hashed','subclass_transaction_amt'])\n",
    "    df=pd.merge(df_store_list_in_test,df,on=\"location_id\",how=\"left\")\n",
    "    df=df[pd.notnull(df['transaction_dt'])]\n",
    "    df['subclass_transaction_amt']=df['subclass_transaction_amt'].astype(float)\n",
    "    week_start=df['transaction_dt'].min()\n",
    "    week_end=df['transaction_dt'].max()\n",
    "    \n",
    "    df_total_sales=df.groupby(['location_id','Test_Groups'])['subclass_transaction_amt'].sum().to_frame().reset_index().rename(columns={\"subclass_transaction_amt\":\"total_sales\"})\n",
    "    df_total_trans=df[['location_id','Test_Groups','transaction_dt','transaction_id','customer_id_hashed']].drop_duplicates()\n",
    "    df_total_trans=df_total_trans.groupby(['location_id','Test_Groups'])['transaction_id'].count().to_frame().reset_index().rename(columns={\"transaction_id\":\"total_trans\"})\n",
    "    df_total=pd.merge(df_total_sales,df_total_trans,on=['location_id','Test_Groups'],how=\"outer\")\n",
    "    df_total['week_start_dt']=week_start\n",
    "    df_total['week_end_dt']=week_end\n",
    "    \n",
    "    \n",
    "    df_rewards=df[pd.notnull(df['customer_id_hashed'])]\n",
    "    df_rewards_sales=df_rewards.groupby(['location_id','Test_Groups'])['subclass_transaction_amt'].sum().to_frame().reset_index().rename(columns={\"subclass_transaction_amt\":\"Rewards_sales\"})\n",
    "    df_rewards_trans=df_rewards[['location_id','Test_Groups','transaction_dt','transaction_id','customer_id_hashed']].drop_duplicates()\n",
    "    df_rewards_trans=df_rewards_trans.groupby(['location_id','Test_Groups'])['transaction_id'].count().to_frame().reset_index().rename(columns={\"transaction_id\":\"Rewards_trans\"})\n",
    "    df_rewards=pd.merge(df_rewards_sales,df_rewards_trans,on=['location_id','Test_Groups'],how=\"outer\")\n",
    "    df_rewards['week_start_dt']=week_start\n",
    "    df_rewards['week_end_dt']=week_end\n",
    "    \n",
    "    \n",
    "    df_NonRewards=df[pd.isnull(df['customer_id_hashed'])]\n",
    "    df_Nonrewards_sales=df_NonRewards.groupby(['location_id','Test_Groups'])['subclass_transaction_amt'].sum().to_frame().reset_index().rename(columns={\"subclass_transaction_amt\":\"Nonrewards_sales\"})\n",
    "    df_Nonrewards_trans=df_NonRewards[['location_id','Test_Groups','transaction_dt','transaction_id','customer_id_hashed']].drop_duplicates()\n",
    "    df_Nonrewards_trans=df_Nonrewards_trans.groupby(['location_id','Test_Groups'])['transaction_id'].count().to_frame().reset_index().rename(columns={\"transaction_id\":\"Nonrewards_trans\"})\n",
    "    df_Nonrewards=pd.merge(df_Nonrewards_sales,df_Nonrewards_trans,on=['location_id','Test_Groups'],how=\"outer\")\n",
    "    df_Nonrewards['week_start_dt']=week_start\n",
    "    df_Nonrewards['week_end_dt']=week_end\n",
    "    \n",
    "    \n",
    "    df_sales_2018_rewards=df_sales_2018_rewards.append(df_rewards)\n",
    "    df_sales_2018_Nonrewards=df_sales_2018_Nonrewards.append(df_Nonrewards)\n",
    "    df_sales_2018_Total=df_sales_2018_Total.append(df_total)\n",
    "    print(datetime.datetime.now(),file_2018)"
   ]
  },
  {
   "cell_type": "code",
   "execution_count": 9,
   "metadata": {},
   "outputs": [
    {
     "name": "stdout",
     "output_type": "stream",
     "text": [
      "2019-08-05 13:50:05.357710 /home/jian/BigLots/2019_by_weeks/MediaStorm_2019-05-11/MediaStormDailySales20190514-121223-405.txt\n",
      "2019-08-05 13:50:48.765051 /home/jian/BigLots/2019_by_weeks/MediaStorm_2019-05-18/MediaStormDailySales20190521-111232-391.txt\n",
      "2019-08-05 13:51:43.437578 /home/jian/BigLots/2019_by_weeks/MediaStorm_2019-05-25/MediaStormDailySales20190528-111211-863.txt\n",
      "2019-08-05 13:53:30.611627 /home/jian/BigLots/2019_by_weeks/MediaStorm_2019-06-01/MediaStormDailySales20190604-111936-950.txt\n",
      "2019-08-05 13:54:30.005347 /home/jian/BigLots/2019_by_weeks/MediaStorm_2019-06-08/MediaStormDailySales20190611-122013-442.txt\n",
      "2019-08-05 13:55:35.553570 /home/jian/BigLots/2019_by_weeks/MediaStorm_2019-06-15/MediaStormDailySales20190618-112500-846.txt\n",
      "2019-08-05 13:56:39.192299 /home/jian/BigLots/2019_by_weeks/MediaStorm_2019-06-22/MediaStormDailySales20190625-111927-257.txt\n",
      "2019-08-05 13:57:33.252254 /home/jian/BigLots/2019_by_weeks/MediaStorm_2019-06-29/MediaStormDailySales20190702-113523-928.txt\n",
      "2019-08-05 13:58:25.548033 /home/jian/BigLots/2019_by_weeks/MediaStorm_2019-07-06/MediaStormDailySales20190709-115715-409.txt\n",
      "2019-08-05 13:59:12.636199 /home/jian/BigLots/2019_by_weeks/MediaStorm_2019-07-13/MediaStormDailySales20190716-122903-926.txt\n",
      "2019-08-05 14:00:29.585214 /home/jian/BigLots/2019_by_weeks/MediaStorm_2019-07-20/MediaStormDailySales20190723-112837-593.txt\n",
      "2019-08-05 14:02:00.307822 /home/jian/BigLots/2019_by_weeks/MediaStorm_2019-07-27/MediaStormDailySales20190730-113653-224.txt\n"
     ]
    }
   ],
   "source": [
    "df_sales_2019_rewards=pd.DataFrame()\n",
    "df_sales_2019_Nonrewards=pd.DataFrame()\n",
    "df_sales_2019_Total=pd.DataFrame()\n",
    "\n",
    "for file_2019 in sales_2019_item:\n",
    "    df=pd.read_table(file_2019,nrows=samplerows,sep=\"|\",dtype=str,\n",
    "                     usecols=['location_id','transaction_dt','transaction_id','customer_id_hashed','item_transaction_amt'])\n",
    "    df=pd.merge(df_store_list_in_test,df,on=\"location_id\",how=\"left\")\n",
    "    df=df[pd.notnull(df['transaction_dt'])]\n",
    "    df['item_transaction_amt']=df['item_transaction_amt'].astype(float)\n",
    "    week_start=df['transaction_dt'].min()\n",
    "    week_end=df['transaction_dt'].max()\n",
    "    \n",
    "    df_total_sales=df.groupby(['location_id','Test_Groups'])['item_transaction_amt'].sum().to_frame().reset_index().rename(columns={\"item_transaction_amt\":\"total_sales\"})\n",
    "    df_total_trans=df[['location_id','Test_Groups','transaction_dt','transaction_id','customer_id_hashed']].drop_duplicates()\n",
    "    df_total_trans=df_total_trans.groupby(['location_id','Test_Groups'])['transaction_id'].count().to_frame().reset_index().rename(columns={\"transaction_id\":\"total_trans\"})\n",
    "    df_total=pd.merge(df_total_sales,df_total_trans,on=['location_id','Test_Groups'],how=\"outer\")\n",
    "    df_total['week_start_dt']=week_start\n",
    "    df_total['week_end_dt']=week_end\n",
    "    \n",
    "    \n",
    "    df_rewards=df[pd.notnull(df['customer_id_hashed'])]\n",
    "    df_rewards_sales=df_rewards.groupby(['location_id','Test_Groups'])['item_transaction_amt'].sum().to_frame().reset_index().rename(columns={\"item_transaction_amt\":\"Rewards_sales\"})\n",
    "    df_rewards_trans=df_rewards[['location_id','Test_Groups','transaction_dt','transaction_id','customer_id_hashed']].drop_duplicates()\n",
    "    df_rewards_trans=df_rewards_trans.groupby(['location_id','Test_Groups'])['transaction_id'].count().to_frame().reset_index().rename(columns={\"transaction_id\":\"Rewards_trans\"})\n",
    "    df_rewards=pd.merge(df_rewards_sales,df_rewards_trans,on=['location_id','Test_Groups'],how=\"outer\")\n",
    "    df_rewards['week_start_dt']=week_start\n",
    "    df_rewards['week_end_dt']=week_end\n",
    "    \n",
    "    \n",
    "    df_NonRewards=df[pd.isnull(df['customer_id_hashed'])]\n",
    "    df_Nonrewards_sales=df_NonRewards.groupby(['location_id','Test_Groups'])['item_transaction_amt'].sum().to_frame().reset_index().rename(columns={\"item_transaction_amt\":\"Nonrewards_sales\"})\n",
    "    df_Nonrewards_trans=df_NonRewards[['location_id','Test_Groups','transaction_dt','transaction_id','customer_id_hashed']].drop_duplicates()\n",
    "    df_Nonrewards_trans=df_Nonrewards_trans.groupby(['location_id','Test_Groups'])['transaction_id'].count().to_frame().reset_index().rename(columns={\"transaction_id\":\"Nonrewards_trans\"})\n",
    "    df_Nonrewards=pd.merge(df_Nonrewards_sales,df_Nonrewards_trans,on=['location_id','Test_Groups'],how=\"outer\")\n",
    "    df_Nonrewards['week_start_dt']=week_start\n",
    "    df_Nonrewards['week_end_dt']=week_end\n",
    "    \n",
    "    \n",
    "    df_sales_2019_rewards=df_sales_2019_rewards.append(df_rewards)\n",
    "    df_sales_2019_Nonrewards=df_sales_2019_Nonrewards.append(df_Nonrewards)\n",
    "    df_sales_2019_Total=df_sales_2019_Total.append(df_total)\n",
    "    print(datetime.datetime.now(),file_2019)"
   ]
  },
  {
   "cell_type": "code",
   "execution_count": 27,
   "metadata": {},
   "outputs": [],
   "source": [
    "def rename_cols_after_2_pivot(df):\n",
    "    df=df.reset_index()\n",
    "    new_cols=[]\n",
    "    for col in df.columns.tolist():\n",
    "        if col[1]==\"\":\n",
    "            new_col=col[0]\n",
    "        else:\n",
    "            new_col=col[0]+\" | \"+col[1]\n",
    "        new_cols=new_cols+[new_col]\n",
    "    \n",
    "    df.columns=new_cols\n",
    "    return df\n",
    "\n",
    "\n",
    "df_sales_2019_Total_wide_sales=pd.pivot_table(df_sales_2019_Total, values=['total_sales','total_trans'], index=['location_id', 'Test_Groups'],columns=['week_start_dt'])\n",
    "df_sales_2019_Rewards_wide_sales=pd.pivot_table(df_sales_2019_rewards, values=['Rewards_sales','Rewards_trans'], index=['location_id', 'Test_Groups'],columns=['week_start_dt'])\n",
    "df_sales_2019_NonRewards_wide_sales=pd.pivot_table(df_sales_2019_Nonrewards, values=['Nonrewards_sales','Nonrewards_trans'], index=['location_id', 'Test_Groups'],columns=['week_start_dt'])\n",
    "\n",
    "df_sales_2018_Total_wide_sales=pd.pivot_table(df_sales_2018_Total, values=['total_sales','total_trans'], index=['location_id', 'Test_Groups'],columns=['week_start_dt'])\n",
    "df_sales_2018_Rewards_wide_sales=pd.pivot_table(df_sales_2018_rewards, values=['Rewards_sales','Rewards_trans'], index=['location_id', 'Test_Groups'],columns=['week_start_dt'])\n",
    "df_sales_2018_NonRewards_wide_sales=pd.pivot_table(df_sales_2018_Nonrewards, values=['Nonrewards_sales','Nonrewards_trans'], index=['location_id', 'Test_Groups'],columns=['week_start_dt'])\n",
    "\n",
    "df_sales_2019_Total_wide_sales=rename_cols_after_2_pivot(df_sales_2019_Total_wide_sales)\n",
    "df_sales_2019_Rewards_wide_sales=rename_cols_after_2_pivot(df_sales_2019_Rewards_wide_sales)\n",
    "df_sales_2019_NonRewards_wide_sales=rename_cols_after_2_pivot(df_sales_2019_NonRewards_wide_sales)\n",
    "df_sales_2018_Total_wide_sales=rename_cols_after_2_pivot(df_sales_2018_Total_wide_sales)\n",
    "df_sales_2018_Rewards_wide_sales=rename_cols_after_2_pivot(df_sales_2018_Rewards_wide_sales)\n",
    "df_sales_2018_NonRewards_wide_sales=rename_cols_after_2_pivot(df_sales_2018_NonRewards_wide_sales)\n",
    "\n",
    "\n",
    "\n",
    "df_both_year_Total=pd.merge(df_sales_2019_Total_wide_sales,df_sales_2018_Total_wide_sales,on=['location_id', 'Test_Groups'],how=\"outer\").sort_values(['Test_Groups','location_id'])\n",
    "df_both_year_Rewards=pd.merge(df_sales_2019_Rewards_wide_sales,df_sales_2018_Rewards_wide_sales,on=['location_id', 'Test_Groups'],how=\"outer\").sort_values(['Test_Groups','location_id'])\n",
    "df_both_year_NonRewards=pd.merge(df_sales_2019_NonRewards_wide_sales,df_sales_2018_NonRewards_wide_sales,on=['location_id', 'Test_Groups'],how=\"outer\").sort_values(['Test_Groups','location_id'])\n"
   ]
  },
  {
   "cell_type": "code",
   "execution_count": 35,
   "metadata": {},
   "outputs": [],
   "source": [
    "df_both_year_Total_valid=df_both_year_Total[df_both_year_Total.notnull().all(axis=1)]\n",
    "df_both_year_Total_exclude=df_both_year_Total[df_both_year_Total.isnull().any(axis=1)]\n",
    "\n",
    "df_both_year_Rewards_valid=df_both_year_Rewards[df_both_year_Rewards.notnull().all(axis=1)]\n",
    "df_both_year_Rewards_exclude=df_both_year_Rewards[df_both_year_Rewards.isnull().any(axis=1)]\n",
    "\n",
    "df_both_year_NonRewards_valid=df_both_year_NonRewards[df_both_year_NonRewards.notnull().all(axis=1)]\n",
    "df_both_year_NonRewards_exclude=df_both_year_NonRewards[df_both_year_NonRewards.isnull().any(axis=1)]"
   ]
  },
  {
   "cell_type": "code",
   "execution_count": 36,
   "metadata": {},
   "outputs": [],
   "source": [
    "writer=pd.ExcelWriter(\"./BL_sales_for_stores_test2_test_3_yoy_JL_\"+str(datetime.datetime.now().date())+\".xlsx\",engine=\"xlsxwriter\")\n",
    "df_both_year_Total_valid.to_excel(writer,\"total_valid\",index=False)\n",
    "df_both_year_Rewards_valid.to_excel(writer,\"Rewards_valid\",index=False)\n",
    "df_both_year_NonRewards_valid.to_excel(writer,\"Nonrewards_valid\",index=False)\n",
    "\n",
    "df_both_year_Total_exclude.to_excel(writer,\"total_excluded\",index=False)\n",
    "df_both_year_Rewards_exclude.to_excel(writer,\"Rewards_excluded\",index=False)\n",
    "df_both_year_NonRewards_exclude.to_excel(writer,\"Nonrewards_excluded\",index=False)\n",
    "writer.save()"
   ]
  },
  {
   "cell_type": "code",
   "execution_count": 37,
   "metadata": {},
   "outputs": [
    {
     "data": {
      "text/plain": [
       "(82, 50)"
      ]
     },
     "execution_count": 37,
     "metadata": {},
     "output_type": "execute_result"
    }
   ],
   "source": [
    "df_both_year_NonRewards.shape"
   ]
  },
  {
   "cell_type": "code",
   "execution_count": null,
   "metadata": {
    "collapsed": true
   },
   "outputs": [],
   "source": []
  }
 ],
 "metadata": {
  "kernelspec": {
   "display_name": "Python 3",
   "language": "python",
   "name": "python3"
  },
  "language_info": {
   "codemirror_mode": {
    "name": "ipython",
    "version": 3
   },
   "file_extension": ".py",
   "mimetype": "text/x-python",
   "name": "python",
   "nbconvert_exporter": "python",
   "pygments_lexer": "ipython3",
   "version": "3.6.1"
  }
 },
 "nbformat": 4,
 "nbformat_minor": 2
}
