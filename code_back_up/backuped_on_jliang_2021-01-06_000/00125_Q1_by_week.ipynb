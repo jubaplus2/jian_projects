{
 "cells": [
  {
   "cell_type": "code",
   "execution_count": 19,
   "metadata": {
    "collapsed": true
   },
   "outputs": [],
   "source": [
    "import pandas as pd\n",
    "import numpy as np\n",
    "import os\n",
    "import datetime\n",
    "data_folder = '/home/jian/BiglotsCode/outputs/'\n",
    "lastweeksdate = '2018-03-31'\n",
    "campaign_beginning_week_end_ty = datetime.datetime.strptime('2018-02-17',\"%Y-%m-%d\").date()\n",
    "campaign_beginning_week_end_ly = campaign_beginning_week_end_ty - datetime.timedelta(days=364)"
   ]
  },
  {
   "cell_type": "code",
   "execution_count": 20,
   "metadata": {
    "collapsed": true
   },
   "outputs": [],
   "source": [
    "DMA=pd.read_csv(\"/home/jian/Projects/Big_Lots/Campaign_Ongoing_Monitoring/2018_Q1/Q1_DMA.csv\")\n",
    "TV_DMA=DMA[~pd.isnull(DMA['TV+Digital'])]['TV+Digital'].unique().tolist()\n",
    "Digital_DMA=DMA[~pd.isnull(DMA['Digital Only'])]['Digital Only'].unique().tolist()"
   ]
  },
  {
   "cell_type": "code",
   "execution_count": 21,
   "metadata": {
    "collapsed": true
   },
   "outputs": [],
   "source": [
    "sales=pd.read_csv(data_folder+\"combined_sales_long_\"+lastweeksdate+\".csv\")"
   ]
  },
  {
   "cell_type": "code",
   "execution_count": 22,
   "metadata": {
    "collapsed": true
   },
   "outputs": [],
   "source": [
    "sales['week_end_date']=sales['week_end_date'].apply(lambda x:datetime.datetime.strptime(x,\"%Y-%m-%d\").date())"
   ]
  },
  {
   "cell_type": "code",
   "execution_count": 23,
   "metadata": {
    "collapsed": true
   },
   "outputs": [],
   "source": [
    "sales_this_year=sales[(sales['week_end_date']>=campaign_beginning_week_end_ty) & (sales['week_end_date']<=datetime.datetime.strptime(lastweeksdate,\"%Y-%m-%d\").date())]\n",
    "sales_last_year=sales[(sales['week_end_date']>=campaign_beginning_week_end_ly) & (sales['week_end_date']<=datetime.datetime.strptime(lastweeksdate,\"%Y-%m-%d\").date() - datetime.timedelta(days=364))]"
   ]
  },
  {
   "cell_type": "code",
   "execution_count": 24,
   "metadata": {
    "collapsed": true
   },
   "outputs": [],
   "source": [
    "Store_DMA=pd.read_excel(\"/home/jian/Projects/Big_Lots/Other Input/all_store_DMA.xlsx\")\n",
    "Store_DMA=Store_DMA[['location_id','DMA']]"
   ]
  },
  {
   "cell_type": "code",
   "execution_count": 25,
   "metadata": {
    "collapsed": true
   },
   "outputs": [],
   "source": [
    "sales_this_year=pd.merge(sales_this_year,Store_DMA,on=\"location_id\",how=\"left\")\n",
    "sales_last_year=pd.merge(sales_last_year,Store_DMA,on=\"location_id\",how=\"left\")"
   ]
  },
  {
   "cell_type": "code",
   "execution_count": 26,
   "metadata": {
    "collapsed": true
   },
   "outputs": [],
   "source": [
    "sales_both_year=sales_this_year.append(sales_last_year)\n",
    "sales_both_year.reset_index(inplace=True)\n",
    "del sales_both_year['index']"
   ]
  },
  {
   "cell_type": "code",
   "execution_count": 27,
   "metadata": {
    "collapsed": true
   },
   "outputs": [],
   "source": [
    "Inclusion_store_df=pd.DataFrame()\n",
    "Exclusion_store_df=pd.DataFrame()\n",
    "Not_open_store_df=pd.DataFrame()\n",
    "for location in sales_both_year['location_id'].unique():\n",
    "    df=sales_both_year[sales_both_year['location_id']==location]\n",
    "    df=df.drop_duplicates()\n",
    "\n",
    "    if len(df)<len(sales_both_year['week_end_date'].unique()):\n",
    "        for date in sales_both_year['week_end_date'].unique():\n",
    "            if (date in df['week_end_date'])==False:\n",
    "                df=df.append(pd.DataFrame({\"location_id\":location,\"week_end_date\":date,\"sales\":float(0),\"transactions\":float(0),\"traffics\":float(0),\n",
    "                             \"week_indicator\":float(0),\"cleaned_dma\":float(0)},index=[0]))\n",
    "    df.reset_index(inplace=True)\n",
    "    del df['index']\n",
    "    \n",
    "    if (len(df['sales'].apply(lambda x: x==float(0)).unique())==1) & (df['sales'].apply(lambda x: x==float(0)).unique()[0]==True):\n",
    "        Not_open_store_df=Not_open_store_df.append(df)\n",
    "    elif (len(df['sales'].unique())>1) & (True in df['sales'].apply(lambda x: x==float(0)).unique()):\n",
    "        Exclusion_store_df=Exclusion_store_df.append(df)\n",
    "    else:\n",
    "        Inclusion_store_df=Inclusion_store_df.append(df)"
   ]
  },
  {
   "cell_type": "code",
   "execution_count": 28,
   "metadata": {},
   "outputs": [],
   "source": [
    "Week_list_2018=sorted(Inclusion_store_df['week_end_date'].unique())[int(len(Inclusion_store_df['week_end_date'].unique())/2):len(Inclusion_store_df['week_end_date'].unique())]\n",
    "Week_list_2017=sorted(Inclusion_store_df['week_end_date'].unique())[0:int(len(Inclusion_store_df['week_end_date'].unique())/2)]\n"
   ]
  },
  {
   "cell_type": "code",
   "execution_count": 30,
   "metadata": {},
   "outputs": [
    {
     "data": {
      "text/plain": [
       "[datetime.date(2017, 2, 18),\n",
       " datetime.date(2017, 2, 25),\n",
       " datetime.date(2017, 3, 4),\n",
       " datetime.date(2017, 3, 11),\n",
       " datetime.date(2017, 3, 18),\n",
       " datetime.date(2017, 3, 25),\n",
       " datetime.date(2017, 4, 1)]"
      ]
     },
     "execution_count": 30,
     "metadata": {},
     "output_type": "execute_result"
    }
   ],
   "source": [
    "Week_list_2017=sorted(Inclusion_store_df['week_end_date'].unique())[0:int(len(Inclusion_store_df['week_end_date'].unique())/2)]\n",
    "Week_list_2017"
   ]
  },
  {
   "cell_type": "code",
   "execution_count": 14,
   "metadata": {},
   "outputs": [
    {
     "data": {
      "text/plain": [
       "6.0"
      ]
     },
     "execution_count": 14,
     "metadata": {},
     "output_type": "execute_result"
    }
   ],
   "source": [
    "for i in range(len(Week_list_2017)):\n",
    "    "
   ]
  },
  {
   "cell_type": "code",
   "execution_count": 16,
   "metadata": {},
   "outputs": [
    {
     "data": {
      "text/plain": [
       "[datetime.date(2018, 2, 24),\n",
       " datetime.date(2018, 3, 3),\n",
       " datetime.date(2018, 3, 10),\n",
       " datetime.date(2018, 3, 17),\n",
       " datetime.date(2018, 3, 24),\n",
       " datetime.date(2018, 3, 31)]"
      ]
     },
     "execution_count": 16,
     "metadata": {},
     "output_type": "execute_result"
    }
   ],
   "source": [
    "sorted(Inclusion_store_df['week_end_date'].unique())[6:12]"
   ]
  },
  {
   "cell_type": "code",
   "execution_count": 18,
   "metadata": {},
   "outputs": [
    {
     "data": {
      "text/plain": [
       "5"
      ]
     },
     "execution_count": 18,
     "metadata": {},
     "output_type": "execute_result"
    }
   ],
   "source": [
    "datetime.date(2018, 2, 24).weekday()"
   ]
  },
  {
   "cell_type": "code",
   "execution_count": null,
   "metadata": {
    "collapsed": true
   },
   "outputs": [],
   "source": []
  }
 ],
 "metadata": {
  "kernelspec": {
   "display_name": "Python 3",
   "language": "python",
   "name": "python3"
  },
  "language_info": {
   "codemirror_mode": {
    "name": "ipython",
    "version": 3
   },
   "file_extension": ".py",
   "mimetype": "text/x-python",
   "name": "python",
   "nbconvert_exporter": "python",
   "pygments_lexer": "ipython3",
   "version": "3.6.1"
  }
 },
 "nbformat": 4,
 "nbformat_minor": 2
}
