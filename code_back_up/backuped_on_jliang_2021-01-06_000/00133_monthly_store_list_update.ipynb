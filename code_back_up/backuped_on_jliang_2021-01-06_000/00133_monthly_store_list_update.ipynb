{
 "cells": [
  {
   "cell_type": "code",
   "execution_count": 1,
   "metadata": {},
   "outputs": [
    {
     "name": "stdout",
     "output_type": "stream",
     "text": [
      "2020-08-03 10:09:46.399565\n"
     ]
    }
   ],
   "source": [
    "# Template from Ruoyi in the email\n",
    "# Friday, July 31, 2020 at 3:26 PM\n",
    "\n",
    "import os\n",
    "import datetime\n",
    "import pandas as pd\n",
    "import numpy as np\n",
    "import glob\n",
    "\n",
    "print(datetime.datetime.now())"
   ]
  },
  {
   "cell_type": "code",
   "execution_count": 2,
   "metadata": {},
   "outputs": [],
   "source": [
    "date_quarter_start=datetime.date(2020,8,2)\n",
    "date_quarter_end=date_quarter_start+datetime.timedelta(days=13*7-1)\n",
    "days_open_in_x=21\n",
    "\n",
    "folder_store_list_Dom=\"/home/jian/BigLots/static_files/store_list_from_Dom/\"\n",
    "folder_store_list_IT=\"/home/jian/BigLots/static_files/Store_list/\"\n",
    "folder_store_quadrant_mapping=\"/home/jian/Projects/Big_Lots/New_TA/package_to_run_TA_every_quarter/quadrants_mapping/\"\n",
    "folder_store_competitor_mapping=\"/home/jian/Projects/Big_Lots/New_TA/package_to_run_TA_every_quarter/competitor_mapping/\"\n",
    "\n",
    "def get_latest_file_in_folder(folder):\n",
    "    list_all_files=glob.glob(folder+\"*\")\n",
    "    list_all_files=sorted(list_all_files,key=lambda x: os.stat(x).st_mtime)\n",
    "    return list_all_files[-1]"
   ]
  },
  {
   "cell_type": "code",
   "execution_count": 3,
   "metadata": {},
   "outputs": [
    {
     "name": "stdout",
     "output_type": "stream",
     "text": [
      "excel_store_list_Dom: \n",
      " /home/jian/BigLots/static_files/store_list_from_Dom/Store List Report 07.10.20 425PM.xlsx \n",
      "\n",
      "txt_store_list_IT: \n",
      " /home/jian/BigLots/static_files/Store_list/MediaStormStores20200801-134534-635.txt \n",
      "\n",
      "excel_store_quadrant_mapping: \n",
      " /home/jian/Projects/Big_Lots/New_TA/package_to_run_TA_every_quarter/quadrants_mapping/location_id_20q1_quadrant.xlsx \n",
      "\n",
      "excel_store_competitor_mapping: \n",
      " /home/jian/Projects/Big_Lots/New_TA/package_to_run_TA_every_quarter/competitor_mapping/Biglots_Competitors_PS_Count by store_20200731 CC.xlsx \n",
      "\n"
     ]
    }
   ],
   "source": [
    "excel_store_list_Dom=get_latest_file_in_folder(folder_store_list_Dom)\n",
    "print(\"excel_store_list_Dom: \\n\",excel_store_list_Dom,\"\\n\")\n",
    "\n",
    "txt_store_list_IT=get_latest_file_in_folder(folder_store_list_IT)\n",
    "print(\"txt_store_list_IT: \\n\",txt_store_list_IT,\"\\n\")\n",
    "\n",
    "excel_store_quadrant_mapping=get_latest_file_in_folder(folder_store_quadrant_mapping)\n",
    "print(\"excel_store_quadrant_mapping: \\n\",excel_store_quadrant_mapping,\"\\n\")\n",
    "\n",
    "excel_store_competitor_mapping=get_latest_file_in_folder(folder_store_competitor_mapping)\n",
    "print(\"excel_store_competitor_mapping: \\n\",excel_store_competitor_mapping,\"\\n\")"
   ]
  },
  {
   "cell_type": "code",
   "execution_count": 4,
   "metadata": {},
   "outputs": [],
   "source": [
    "df_store_list_dom=pd.ExcelFile(excel_store_list_Dom)\n",
    "df_store_list_dom=df_store_list_dom.parse(\"Store List\",dtype=str,\n",
    "                                         usecols=['Store','Address 1','City','ST','Zip','SOTF','Furniture Type','Open Date'])\n",
    "list_SOTF=df_store_list_dom[df_store_list_dom['SOTF'].apply(lambda x: str(x).lower()==\"yes\")]['Store'].tolist()\n",
    "df_store_list_dom['Open Date']=df_store_list_dom['Open Date'].apply(lambda x: str(x).split(\" \")[0])"
   ]
  },
  {
   "cell_type": "code",
   "execution_count": 5,
   "metadata": {},
   "outputs": [],
   "source": [
    "# \n",
    "ind_checkpoint_1=df_store_list_dom[df_store_list_dom['Store']==\"New or Relo Locations\"].index[0]\n",
    "df_1_currently_open=df_store_list_dom.iloc[:ind_checkpoint_1,]\n",
    "df_2_to_open=df_store_list_dom.iloc[ind_checkpoint_1:,].reset_index()\n",
    "del df_2_to_open['index']\n",
    "# \n",
    "ind_checkpoint_2=df_2_to_open[pd.isnull(df_2_to_open['Store'])].index[0]\n",
    "df_2_to_open=df_2_to_open.iloc[:ind_checkpoint_2,]\n",
    "df_2_to_open=df_2_to_open[pd.notnull(df_2_to_open['Address 1'])]\n"
   ]
  },
  {
   "cell_type": "code",
   "execution_count": 6,
   "metadata": {},
   "outputs": [
    {
     "data": {
      "text/plain": [
       "491"
      ]
     },
     "execution_count": 6,
     "metadata": {},
     "output_type": "execute_result"
    }
   ],
   "source": [
    "len(list_SOTF)"
   ]
  },
  {
   "cell_type": "code",
   "execution_count": 7,
   "metadata": {},
   "outputs": [],
   "source": [
    "df_1_currently_open=df_1_currently_open[pd.notnull(df_1_currently_open['Store'])]\n",
    "df_2_to_open=df_2_to_open[pd.notnull(df_2_to_open['Store'])]\n",
    "\n",
    "df_2_to_open['Open Date']=pd.to_datetime(df_2_to_open['Open Date']).dt.date"
   ]
  },
  {
   "cell_type": "code",
   "execution_count": 8,
   "metadata": {},
   "outputs": [],
   "source": [
    "df_2_to_open=df_2_to_open[df_2_to_open['Open Date']<=date_quarter_end]\n",
    "df_2_to_open=df_2_to_open[df_2_to_open['Open Date']<=datetime.datetime.now().date()+datetime.timedelta(days=days_open_in_x)]\n",
    "df_output=df_1_currently_open.append(df_2_to_open)\n",
    "df_output['SOTF']=np.where(df_output['Store'].isin(list_SOTF),\"Yes\",\"Legacy\")\n",
    "df_output['Furniture Type']=df_output['Furniture Type'].fillna(\"FULLFURN\")\n",
    "df_output['Furniture Type']=df_output['Furniture Type'].replace(\"RTA0700\",\"FULLFURN\").replace(\"RTA1400\",\"FULLFURN\")"
   ]
  },
  {
   "cell_type": "code",
   "execution_count": 9,
   "metadata": {},
   "outputs": [
    {
     "data": {
      "text/html": [
       "<div>\n",
       "<style scoped>\n",
       "    .dataframe tbody tr th:only-of-type {\n",
       "        vertical-align: middle;\n",
       "    }\n",
       "\n",
       "    .dataframe tbody tr th {\n",
       "        vertical-align: top;\n",
       "    }\n",
       "\n",
       "    .dataframe thead th {\n",
       "        text-align: right;\n",
       "    }\n",
       "</style>\n",
       "<table border=\"1\" class=\"dataframe\">\n",
       "  <thead>\n",
       "    <tr style=\"text-align: right;\">\n",
       "      <th></th>\n",
       "      <th>Store</th>\n",
       "      <th>lat</th>\n",
       "      <th>lng</th>\n",
       "    </tr>\n",
       "  </thead>\n",
       "  <tbody>\n",
       "    <tr>\n",
       "      <th>0</th>\n",
       "      <td>3</td>\n",
       "      <td>33.421570</td>\n",
       "      <td>-82.018921</td>\n",
       "    </tr>\n",
       "    <tr>\n",
       "      <th>1</th>\n",
       "      <td>30</td>\n",
       "      <td>41.363132</td>\n",
       "      <td>-83.650909</td>\n",
       "    </tr>\n",
       "  </tbody>\n",
       "</table>\n",
       "</div>"
      ],
      "text/plain": [
       "  Store        lat        lng\n",
       "0     3  33.421570 -82.018921\n",
       "1    30  41.363132 -83.650909"
      ]
     },
     "execution_count": 9,
     "metadata": {},
     "output_type": "execute_result"
    }
   ],
   "source": [
    "df_store_list_IT=pd.read_table(txt_store_list_IT,dtype=str,sep=\"|\",usecols=['location_id','latitude_meas','longitude_meas'])\n",
    "df_store_list_IT=df_store_list_IT[['location_id','latitude_meas','longitude_meas']]\n",
    "df_store_list_IT=df_store_list_IT.rename(columns={'location_id':\"Store\",\"latitude_meas\":\"lat\",\"longitude_meas\":\"lng\"})\n",
    "df_store_list_IT['lat']=df_store_list_IT['lat'].astype(float)\n",
    "df_store_list_IT['lng']=df_store_list_IT['lng'].astype(float)\n",
    "df_store_list_IT.head(2)"
   ]
  },
  {
   "cell_type": "code",
   "execution_count": 10,
   "metadata": {},
   "outputs": [],
   "source": [
    "df_quadrant=pd.read_excel(excel_store_quadrant_mapping,dtype=str).rename(columns={\"location_id\":\"Store\"})\n",
    "df_competitor=pd.ExcelFile(excel_store_competitor_mapping)\n",
    "df_competitor=df_competitor.parse(\"Competitor Rank\",dtype=str)\n",
    "df_competitor=df_competitor[['location_id','Competitor Rank']].rename(columns={\"location_id\":\"Store\",\"Competitor Rank\":\"Competitor_Rank\"})\n",
    "\n",
    "df_output=pd.merge(df_output,df_quadrant,on=\"Store\",how=\"left\")\n",
    "df_output=pd.merge(df_output,df_competitor,on=\"Store\",how=\"left\")\n",
    "df_output=pd.merge(df_output,df_store_list_IT,on=\"Store\",how=\"left\")"
   ]
  },
  {
   "cell_type": "code",
   "execution_count": 11,
   "metadata": {},
   "outputs": [],
   "source": [
    "df_output['Furniture Type']=df_output['Furniture Type'].fillna(\"nan\")\n",
    "df_output['Quadrant']=df_output['Quadrant'].fillna(\"nan\")\n",
    "df_output['Competitor_Rank']=df_output['Competitor_Rank'].fillna(\"nan\")\n",
    "df_output['Zip']=df_output['Zip'].apply(lambda x: x.split(\"-\")[0].split(\" \")[0].zfill(5)[:5] if type(x)==str else x)"
   ]
  },
  {
   "cell_type": "code",
   "execution_count": 12,
   "metadata": {},
   "outputs": [
    {
     "name": "stdout",
     "output_type": "stream",
     "text": [
      "store lat/lng' missing: 4516\n",
      "755 W CRAIG RD NORTH LAS VEGAS NV 89031\n",
      "36.2379132,-115.1539617\n",
      "store lat/lng' missing: 4715\n",
      "4525 N ORACLE ROAD TUSCON AZ 85705\n",
      "32.2886211,-110.9820104\n",
      "store lat/lng' missing: 4718\n",
      "1631 WEST CRAIG ROAD NORTH LAS VEGAS NV 89032\n",
      "36.2376368,-115.1683213\n",
      "store lat/lng' missing: 4721\n",
      "400 MAIN ST DENNIS PORT MA 02639\n",
      "41.6668977,-70.1350297\n",
      "store lat/lng' missing: 5416\n",
      "260 REMOUNT ROAD FRONT ROYAL VA 22630\n",
      "38.9090455,-78.1851776\n",
      "store lat/lng' missing: 5422\n",
      "433 COLUMBIA AVE LEXINGTON SC 29072\n",
      "33.9881797,-81.2428385\n",
      "store lat/lng' missing: 4716\n",
      "4208 E BLUE GRASS RD MOUNT PLEASANT MI 48858\n",
      "43.5741276,-84.7663118\n",
      "store lat/lng' missing: 4717\n",
      "360 EAST 10TH ST GILROY EPA ID, BAG BAN CA 95020\n",
      "37.0001319,-121.5630096\n",
      "store lat/lng' missing: 5418\n",
      "1550 COSHOCTON AVE MOUNT VERNON OH 43050\n",
      "40.4000587,-82.4448439\n",
      "store lat/lng' missing: 5427\n",
      "3010 NAVARRE AVE OREGON OH 43616\n",
      "41.6350639,-83.4781977\n",
      "store lat/lng' missing: 5428\n",
      "12295 CAPITAL BLVD WAKE FOREST NC 27587\n",
      "35.981846,-78.5429906\n",
      "store lat/lng' missing: 5430\n",
      "3075 E 25TH ST COLUMBUS IN 47203\n",
      "39.221862,-85.8887922\n"
     ]
    }
   ],
   "source": [
    "df_output=df_output.reset_index()\n",
    "del df_output['index']\n",
    "for ind,row in df_output.iterrows():\n",
    "    if pd.isnull(row['lat']) or row['lat']==0:\n",
    "        print(\"store lat/lng' missing: %s\"%row['Store'])\n",
    "        search_key=\" \".join([row['Address 1'],row['City'],row['ST'],row['Zip']])\n",
    "        print(search_key)\n",
    "        google_loc_pair=str(input()).replace(\" \",\"\")\n",
    "        lat=float(google_loc_pair.split(\",\")[0])\n",
    "        lng=float(google_loc_pair.split(\",\")[1])\n",
    "        df_output.loc[ind,'lat']=lat\n",
    "        df_output.loc[ind,'lng']=lng\n",
    "        "
   ]
  },
  {
   "cell_type": "code",
   "execution_count": 13,
   "metadata": {},
   "outputs": [
    {
     "data": {
      "text/plain": [
       "\"\\nstore lat/lng' missing: 4516\\n755 W CRAIG RD NORTH LAS VEGAS NV 89031\\n36.2379132,-115.1539617\\nstore lat/lng' missing: 4715\\n4525 N ORACLE ROAD TUSCON AZ 85705\\n32.2886211,-110.9820104\\nstore lat/lng' missing: 4718\\n1631 WEST CRAIG ROAD NORTH LAS VEGAS NV 89032\\n36.2376368,-115.1683213\\nstore lat/lng' missing: 4721\\n400 MAIN ST DENNIS PORT MA 02639\\n41.6668977,-70.1350297\\nstore lat/lng' missing: 5416\\n260 REMOUNT ROAD FRONT ROYAL VA 22630\\n38.9090455,-78.1851776\\nstore lat/lng' missing: 5422\\n433 COLUMBIA AVE LEXINGTON SC 29072\\n33.9881797,-81.2428385\\nstore lat/lng' missing: 4716\\n4208 E BLUE GRASS RD MOUNT PLEASANT MI 48858\\n43.5741276,-84.7663118\\nstore lat/lng' missing: 4717\\n360 EAST 10TH ST GILROY EPA ID, BAG BAN CA 95020\\n37.0001319,-121.5630096\\nstore lat/lng' missing: 5418\\n1550 COSHOCTON AVE MOUNT VERNON OH 43050\\n40.4000587,-82.4448439\\nstore lat/lng' missing: 5427\\n3010 NAVARRE AVE OREGON OH 43616\\n41.6350639,-83.4781977\\nstore lat/lng' missing: 5428\\n12295 CAPITAL BLVD WAKE FOREST NC 27587\\n35.981846,-78.5429906\\nstore lat/lng' missing: 5430\\n3075 E 25TH ST COLUMBUS IN 47203\\n39.221862,-85.8887922\\n\""
      ]
     },
     "execution_count": 13,
     "metadata": {},
     "output_type": "execute_result"
    }
   ],
   "source": [
    "'''\n",
    "store lat/lng' missing: 4516\n",
    "755 W CRAIG RD NORTH LAS VEGAS NV 89031\n",
    "36.2379132,-115.1539617\n",
    "store lat/lng' missing: 4715\n",
    "4525 N ORACLE ROAD TUSCON AZ 85705\n",
    "32.2886211,-110.9820104\n",
    "store lat/lng' missing: 4718\n",
    "1631 WEST CRAIG ROAD NORTH LAS VEGAS NV 89032\n",
    "36.2376368,-115.1683213\n",
    "store lat/lng' missing: 4721\n",
    "400 MAIN ST DENNIS PORT MA 02639\n",
    "41.6668977,-70.1350297\n",
    "store lat/lng' missing: 5416\n",
    "260 REMOUNT ROAD FRONT ROYAL VA 22630\n",
    "38.9090455,-78.1851776\n",
    "store lat/lng' missing: 5422\n",
    "433 COLUMBIA AVE LEXINGTON SC 29072\n",
    "33.9881797,-81.2428385\n",
    "store lat/lng' missing: 4716\n",
    "4208 E BLUE GRASS RD MOUNT PLEASANT MI 48858\n",
    "43.5741276,-84.7663118\n",
    "store lat/lng' missing: 4717\n",
    "360 EAST 10TH ST GILROY EPA ID, BAG BAN CA 95020\n",
    "37.0001319,-121.5630096\n",
    "store lat/lng' missing: 5418\n",
    "1550 COSHOCTON AVE MOUNT VERNON OH 43050\n",
    "40.4000587,-82.4448439\n",
    "store lat/lng' missing: 5427\n",
    "3010 NAVARRE AVE OREGON OH 43616\n",
    "41.6350639,-83.4781977\n",
    "store lat/lng' missing: 5428\n",
    "12295 CAPITAL BLVD WAKE FOREST NC 27587\n",
    "35.981846,-78.5429906\n",
    "store lat/lng' missing: 5430\n",
    "3075 E 25TH ST COLUMBUS IN 47203\n",
    "39.221862,-85.8887922\n",
    "'''"
   ]
  },
  {
   "cell_type": "code",
   "execution_count": 14,
   "metadata": {},
   "outputs": [],
   "source": [
    "output_folder=\"./store_mapping_output/\"\n",
    "try:\n",
    "    os.stat(output_folder)\n",
    "except:\n",
    "    os.mkdir(output_folder)"
   ]
  },
  {
   "cell_type": "code",
   "execution_count": 15,
   "metadata": {},
   "outputs": [],
   "source": [
    "writer=pd.ExcelWriter(output_folder+\"bl_store_forAPP_JL_%s.xlsx\"%str(datetime.datetime.now().date()),engine=\"xlsxwriter\")\n",
    "df_output.to_excel(writer,\"store_mapping\",index=False)\n",
    "writer.save()"
   ]
  },
  {
   "cell_type": "code",
   "execution_count": 16,
   "metadata": {},
   "outputs": [],
   "source": [
    "writer=pd.ExcelWriter(output_folder+\"bl_store_forAPP_latest.xlsx\",engine=\"xlsxwriter\")\n",
    "df_output.to_excel(writer,\"store_mapping\",index=False)\n",
    "writer.save()"
   ]
  },
  {
   "cell_type": "code",
   "execution_count": null,
   "metadata": {},
   "outputs": [],
   "source": []
  }
 ],
 "metadata": {
  "kernelspec": {
   "display_name": "Python 3",
   "language": "python",
   "name": "python3"
  },
  "language_info": {
   "codemirror_mode": {
    "name": "ipython",
    "version": 3
   },
   "file_extension": ".py",
   "mimetype": "text/x-python",
   "name": "python",
   "nbconvert_exporter": "python",
   "pygments_lexer": "ipython3",
   "version": "3.6.1"
  }
 },
 "nbformat": 4,
 "nbformat_minor": 2
}
