{
 "cells": [
  {
   "cell_type": "code",
   "execution_count": 11,
   "metadata": {},
   "outputs": [],
   "source": [
    "import sqlalchemy\n",
    "import pandas as pd\n",
    "import datetime\n",
    "import json\n",
    "import glob\n",
    "import os\n",
    "dict_config=json.load(open(\"/mnt/clients/juba/hqjubaapp02/jliang/Projects/Big_Lots/Predictive_Model/Model_Scripts/config.json\"))\n",
    "high_date=dict_config['pos_end_date']\n",
    "username=dict_config['username']\n",
    "password=dict_config['password']\n",
    "database=dict_config['database']\n",
    "script_folder_for_table_json=dict_config['script_folder']\n",
    "\n",
    "sql_engine=sqlalchemy.create_engine(\"mysql+pymysql://%s:%s@localhost/%s\" % (username, password, database))"
   ]
  },
  {
   "cell_type": "code",
   "execution_count": 12,
   "metadata": {},
   "outputs": [
    {
     "name": "stdout",
     "output_type": "stream",
     "text": [
      "date_to_remove: 20201024\n"
     ]
    }
   ],
   "source": [
    "str_8_digit_date_to_remove=str(datetime.datetime.strptime(high_date,\"%Y-%m-%d\").date()-datetime.timedelta(days=28)).replace(\"-\",\"\")\n",
    "print(\"date_to_remove: %s\"%str_8_digit_date_to_remove)\n",
    "list_str_week=[str_8_digit_date_to_remove] # feasible to add in more\n"
   ]
  },
  {
   "cell_type": "code",
   "execution_count": 14,
   "metadata": {},
   "outputs": [
    {
     "name": "stdout",
     "output_type": "stream",
     "text": [
      "list_tables_to_delete :\n",
      "[]\n",
      "list_table_name_json_to_delete :\n",
      "['/mnt/clients/juba/hqjubaapp02/jliang/Projects/Big_Lots/Predictive_Model/Model_Scripts/table_names_20201024.json']\n"
     ]
    }
   ],
   "source": [
    "for w in list_str_week:\n",
    "\n",
    "    list_tables_to_delete=pd.read_sql(\"show tables;\",con=sql_engine).iloc[:,0].values.tolist()\n",
    "    list_tables_to_delete=[x for x in list_tables_to_delete if x[-8:]==w]\n",
    "    print(\"list_tables_to_delete :\\n%s\"%str(list_tables_to_delete))\n",
    "    \n",
    "    with sql_engine.connect() as connection:\n",
    "        for t in list_tables_to_delete:\n",
    "            query=\"drop table if exists %s\"%t\n",
    "            result = connection.execute(query)\n",
    "            \n",
    "    list_table_name_json_to_delete=glob.glob(script_folder_for_table_json+\"table_names*.json\")\n",
    "    list_table_name_json_to_delete=[x for x in list_table_name_json_to_delete if x.split(\".\")[-2][-8:]==w]\n",
    "    print(\"list_table_name_json_to_delete :\\n%s\"%str(list_table_name_json_to_delete))\n",
    "    for i_json in list_table_name_json_to_delete:\n",
    "        os.remove(i_json)"
   ]
  },
  {
   "cell_type": "code",
   "execution_count": null,
   "metadata": {},
   "outputs": [],
   "source": []
  },
  {
   "cell_type": "code",
   "execution_count": null,
   "metadata": {},
   "outputs": [],
   "source": []
  }
 ],
 "metadata": {
  "kernelspec": {
   "display_name": "Python 3",
   "language": "python",
   "name": "python3"
  },
  "language_info": {
   "codemirror_mode": {
    "name": "ipython",
    "version": 3
   },
   "file_extension": ".py",
   "mimetype": "text/x-python",
   "name": "python",
   "nbconvert_exporter": "python",
   "pygments_lexer": "ipython3",
   "version": "3.7.6"
  }
 },
 "nbformat": 4,
 "nbformat_minor": 4
}
