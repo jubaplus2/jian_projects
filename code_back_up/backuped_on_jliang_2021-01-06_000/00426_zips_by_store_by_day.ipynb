{
 "cells": [
  {
   "cell_type": "code",
   "execution_count": 1,
   "metadata": {},
   "outputs": [
    {
     "name": "stdout",
     "output_type": "stream",
     "text": [
      "/home/jian/Projects/Big_Lots/Analysis/2020_Q1/plannder_requests/Gianna_zips_by_store_by_day_20200318\n",
      "2020-03-18 15:35:42.575538\n"
     ]
    }
   ],
   "source": [
    "# Email from Gianna and JT 20200318: BL Store Addresses \n",
    "# 2:06 PM\n",
    "\n",
    "import pandas as pd\n",
    "import json\n",
    "import numpy as np\n",
    "from haversine import haversine\n",
    "import datetime\n",
    "import os\n",
    "import glob\n",
    "\n",
    "zip_centers=json.load(open(\"/home/jian/Docs/Geo_mapping/updated_zip_centers_JL_2019-05-23.json\",\"r\"))\n",
    "print(os.getcwd())\n",
    "print(datetime.datetime.now())"
   ]
  },
  {
   "cell_type": "code",
   "execution_count": 2,
   "metadata": {},
   "outputs": [
    {
     "data": {
      "text/html": [
       "<div>\n",
       "<style scoped>\n",
       "    .dataframe tbody tr th:only-of-type {\n",
       "        vertical-align: middle;\n",
       "    }\n",
       "\n",
       "    .dataframe tbody tr th {\n",
       "        vertical-align: top;\n",
       "    }\n",
       "\n",
       "    .dataframe thead th {\n",
       "        text-align: right;\n",
       "    }\n",
       "</style>\n",
       "<table border=\"1\" class=\"dataframe\">\n",
       "  <thead>\n",
       "    <tr style=\"text-align: right;\">\n",
       "      <th></th>\n",
       "      <th>location_id</th>\n",
       "      <th>location_desc</th>\n",
       "      <th>open_dt</th>\n",
       "      <th>close_dt</th>\n",
       "      <th>address_line_1</th>\n",
       "      <th>address_line_2</th>\n",
       "      <th>city_nm</th>\n",
       "      <th>state_nm</th>\n",
       "      <th>zip_cd</th>\n",
       "      <th>longitude_meas</th>\n",
       "      <th>latitude_meas</th>\n",
       "      <th>sales_square_feet</th>\n",
       "      <th>furniture_sales_square_feet</th>\n",
       "    </tr>\n",
       "  </thead>\n",
       "  <tbody>\n",
       "    <tr>\n",
       "      <th>0</th>\n",
       "      <td>3</td>\n",
       "      <td>PEACH ORCHARD PLAZA</td>\n",
       "      <td>1988-10-31</td>\n",
       "      <td>NaN</td>\n",
       "      <td>2708 PEACH ORCHARD RD</td>\n",
       "      <td>NaN</td>\n",
       "      <td>AUGUSTA</td>\n",
       "      <td>GA</td>\n",
       "      <td>30906-2408</td>\n",
       "      <td>-000000000082.018921</td>\n",
       "      <td>000000000033.421570</td>\n",
       "      <td>00000000026501.0000</td>\n",
       "      <td>00000000005098.0000</td>\n",
       "    </tr>\n",
       "    <tr>\n",
       "      <th>1</th>\n",
       "      <td>30</td>\n",
       "      <td>SOUTHWOOD PLZ S/C</td>\n",
       "      <td>1984-04-05</td>\n",
       "      <td>NaN</td>\n",
       "      <td>818 S MAIN ST</td>\n",
       "      <td>NaN</td>\n",
       "      <td>BOWLING GREEN</td>\n",
       "      <td>OH</td>\n",
       "      <td>43402-4601</td>\n",
       "      <td>-000000000083.650909</td>\n",
       "      <td>000000000041.363132</td>\n",
       "      <td>00000000021322.0000</td>\n",
       "      <td>00000000003271.0000</td>\n",
       "    </tr>\n",
       "  </tbody>\n",
       "</table>\n",
       "</div>"
      ],
      "text/plain": [
       "  location_id        location_desc     open_dt close_dt  \\\n",
       "0           3  PEACH ORCHARD PLAZA  1988-10-31      NaN   \n",
       "1          30    SOUTHWOOD PLZ S/C  1984-04-05      NaN   \n",
       "\n",
       "          address_line_1 address_line_2        city_nm state_nm      zip_cd  \\\n",
       "0  2708 PEACH ORCHARD RD            NaN        AUGUSTA       GA  30906-2408   \n",
       "1          818 S MAIN ST            NaN  BOWLING GREEN       OH  43402-4601   \n",
       "\n",
       "         longitude_meas         latitude_meas     sales_square_feet  \\\n",
       "0  -000000000082.018921   000000000033.421570   00000000026501.0000   \n",
       "1  -000000000083.650909   000000000041.363132   00000000021322.0000   \n",
       "\n",
       "  furniture_sales_square_feet  \n",
       "0         00000000005098.0000  \n",
       "1         00000000003271.0000  "
      ]
     },
     "execution_count": 2,
     "metadata": {},
     "output_type": "execute_result"
    }
   ],
   "source": [
    "df_store_address=pd.read_table(\"/home/jian/BigLots/static_files/Store_list/MediaStormStores20200301-134228-900.txt\",\n",
    "                              sep=\"|\",dtype=str)\n",
    "df_store_address.head(2)"
   ]
  },
  {
   "cell_type": "code",
   "execution_count": 3,
   "metadata": {},
   "outputs": [],
   "source": [
    "df_store_address=df_store_address[['location_id','address_line_1','address_line_2','city_nm','state_nm',\n",
    "                                   'zip_cd','latitude_meas','longitude_meas']]\n",
    "df_store_address['latitude_meas']=df_store_address['latitude_meas'].astype(float)\n",
    "df_store_address['longitude_meas']=df_store_address['longitude_meas'].astype(float)\n",
    "df_store_address['zip_cd']=df_store_address['zip_cd'].apply(lambda x: x.split(\"-\")[0].zfill(5))\n",
    "df_store_address=df_store_address.rename(columns={\"zip_cd\":\"store_zip\"})"
   ]
  },
  {
   "cell_type": "code",
   "execution_count": 4,
   "metadata": {},
   "outputs": [
    {
     "name": "stdout",
     "output_type": "stream",
     "text": [
      "7\n",
      "['Store #', 'Destination\\nCity', 'State', 'Des\\nZip\\nCode', 'Delivery\\nAppointment']\n",
      "['Store #', 'Destination\\nCity', 'State', 'Des\\nZip\\nCode', 'Delivery\\nAppointment']\n",
      "['Store #', 'Destination\\nCity', 'State', 'Des\\nZip\\nCode', 'Delivery\\nAppointment']\n",
      "['Store #', 'Destination\\nCity', 'State', 'Des\\nZip\\nCode', 'Delivery\\nAppointment']\n",
      "['Store #', 'Destination\\nCity', 'State', 'Des\\nZip\\nCode', 'Delivery\\nAppointment']\n",
      "['Store #', 'Destination\\nCity', 'State', 'Des\\nZip\\nCode', 'Delivery\\nAppointment']\n",
      "['Store #', 'Destination\\nCity', 'State', 'Des\\nZip\\nCode', 'Delivery\\nAppointment']\n"
     ]
    }
   ],
   "source": [
    "list_excel_file=glob.glob(\"./input_store_list/*.xlsx\")\n",
    "print(len(list_excel_file))\n",
    "\n",
    "df_all_wanted_stores={}\n",
    "for file in list_excel_file:\n",
    "    date=os.path.basename(file).lower().split(\" del\")[0]\n",
    "    excel_file=pd.ExcelFile(file)\n",
    "    if len(excel_file.sheet_names)>1:\n",
    "        print(file,\"multiple sheets\")\n",
    "    else:\n",
    "        df=excel_file.parse(excel_file.sheet_names[0],dtype=str)\n",
    "        print(df.columns.tolist())\n",
    "        df['Store #']=df['Store #'].apply(lambda x: str(int(x.strip())))\n",
    "        df_all_wanted_stores.update({date:df})"
   ]
  },
  {
   "cell_type": "code",
   "execution_count": 5,
   "metadata": {},
   "outputs": [
    {
     "name": "stdout",
     "output_type": "stream",
     "text": [
      "571\n"
     ]
    }
   ],
   "source": [
    "list_all_wanted_stores=[]\n",
    "for v_df in df_all_wanted_stores.values():\n",
    "    store_list=v_df['Store #'].unique().tolist()\n",
    "    list_all_wanted_stores.extend(store_list)\n",
    "list_all_wanted_stores=list(set(list_all_wanted_stores))\n",
    "\n",
    "print(len(list_all_wanted_stores))"
   ]
  },
  {
   "cell_type": "code",
   "execution_count": 6,
   "metadata": {},
   "outputs": [
    {
     "data": {
      "text/plain": [
       "[]"
      ]
     },
     "execution_count": 6,
     "metadata": {},
     "output_type": "execute_result"
    }
   ],
   "source": [
    "# all currently open stores\n",
    "[x for x in list_all_wanted_stores if x not in df_store_address['location_id'].tolist()]\n"
   ]
  },
  {
   "cell_type": "code",
   "execution_count": 7,
   "metadata": {},
   "outputs": [
    {
     "data": {
      "text/html": [
       "<div>\n",
       "<style scoped>\n",
       "    .dataframe tbody tr th:only-of-type {\n",
       "        vertical-align: middle;\n",
       "    }\n",
       "\n",
       "    .dataframe tbody tr th {\n",
       "        vertical-align: top;\n",
       "    }\n",
       "\n",
       "    .dataframe thead th {\n",
       "        text-align: right;\n",
       "    }\n",
       "</style>\n",
       "<table border=\"1\" class=\"dataframe\">\n",
       "  <thead>\n",
       "    <tr style=\"text-align: right;\">\n",
       "      <th></th>\n",
       "      <th>TA_num</th>\n",
       "      <th>ta_name</th>\n",
       "      <th>location_id</th>\n",
       "      <th>address_line_1</th>\n",
       "      <th>address_line_2</th>\n",
       "      <th>zip_cd</th>\n",
       "      <th>city_nm</th>\n",
       "      <th>state_nm</th>\n",
       "      <th>latitude_meas</th>\n",
       "      <th>longitude_meas</th>\n",
       "      <th>DMA</th>\n",
       "      <th>CTY</th>\n",
       "      <th>all_trans_P_zips</th>\n",
       "      <th>all_trans_S_zips</th>\n",
       "      <th>zips_in_10</th>\n",
       "      <th>trans_P_zips_70_within_TA</th>\n",
       "      <th>trans_S_zips_70_within_TA</th>\n",
       "    </tr>\n",
       "  </thead>\n",
       "  <tbody>\n",
       "    <tr>\n",
       "      <th>0</th>\n",
       "      <td>1</td>\n",
       "      <td>multiple_1</td>\n",
       "      <td>1949</td>\n",
       "      <td>3178 LAVON DR</td>\n",
       "      <td>NaN</td>\n",
       "      <td>75040</td>\n",
       "      <td>GARLAND</td>\n",
       "      <td>TX</td>\n",
       "      <td>32.945015</td>\n",
       "      <td>-96.619194</td>\n",
       "      <td>{'DALLAS-FT. WORTH'}</td>\n",
       "      <td>{'DALLAS'}</td>\n",
       "      <td>['75040', '75044', '75048', '75098']</td>\n",
       "      <td>['75089', '75042', '75043', '75041', '75088', ...</td>\n",
       "      <td>[]</td>\n",
       "      <td>['75040', '75098', '75044', '75048']</td>\n",
       "      <td>['75088', '75042', '75082', '75043', '75089', ...</td>\n",
       "    </tr>\n",
       "    <tr>\n",
       "      <th>1</th>\n",
       "      <td>1</td>\n",
       "      <td>multiple_1</td>\n",
       "      <td>1255</td>\n",
       "      <td>1418 W MOORE AVE</td>\n",
       "      <td>NaN</td>\n",
       "      <td>75160</td>\n",
       "      <td>TERRELL</td>\n",
       "      <td>TX</td>\n",
       "      <td>32.738772</td>\n",
       "      <td>-96.299877</td>\n",
       "      <td>{'DALLAS-FT. WORTH'}</td>\n",
       "      <td>{'HUNT', 'KAUFMAN', 'ROCKWALL'}</td>\n",
       "      <td>['75160', '75126', '75161']</td>\n",
       "      <td>['75142', '75169', '75474', '75143', '75114', ...</td>\n",
       "      <td>[]</td>\n",
       "      <td>['75126', '75161', '75160']</td>\n",
       "      <td>['75142', '75169', '75150', '75117', '75143', ...</td>\n",
       "    </tr>\n",
       "  </tbody>\n",
       "</table>\n",
       "</div>"
      ],
      "text/plain": [
       "  TA_num     ta_name location_id    address_line_1 address_line_2 zip_cd  \\\n",
       "0      1  multiple_1        1949     3178 LAVON DR            NaN  75040   \n",
       "1      1  multiple_1        1255  1418 W MOORE AVE            NaN  75160   \n",
       "\n",
       "   city_nm state_nm latitude_meas longitude_meas                   DMA  \\\n",
       "0  GARLAND       TX     32.945015     -96.619194  {'DALLAS-FT. WORTH'}   \n",
       "1  TERRELL       TX     32.738772     -96.299877  {'DALLAS-FT. WORTH'}   \n",
       "\n",
       "                               CTY                      all_trans_P_zips  \\\n",
       "0                       {'DALLAS'}  ['75040', '75044', '75048', '75098']   \n",
       "1  {'HUNT', 'KAUFMAN', 'ROCKWALL'}           ['75160', '75126', '75161']   \n",
       "\n",
       "                                    all_trans_S_zips zips_in_10  \\\n",
       "0  ['75089', '75042', '75043', '75041', '75088', ...         []   \n",
       "1  ['75142', '75169', '75474', '75143', '75114', ...         []   \n",
       "\n",
       "              trans_P_zips_70_within_TA  \\\n",
       "0  ['75040', '75098', '75044', '75048']   \n",
       "1           ['75126', '75161', '75160']   \n",
       "\n",
       "                           trans_S_zips_70_within_TA  \n",
       "0  ['75088', '75042', '75082', '75043', '75089', ...  \n",
       "1  ['75142', '75169', '75150', '75117', '75143', ...  "
      ]
     },
     "execution_count": 7,
     "metadata": {},
     "output_type": "execute_result"
    }
   ],
   "source": [
    "TA_zips=pd.ExcelFile(\"/home/jian/Projects/Big_Lots/New_TA/TA_created_in_201906/final_output_20190718/BL_final_TA_updated_JL_2019-07-18.xlsx\")\n",
    "TA_zips=TA_zips.parse(\"view_by_store\",dtype=str)\n",
    "TA_zips.head(2)"
   ]
  },
  {
   "cell_type": "code",
   "execution_count": 8,
   "metadata": {},
   "outputs": [],
   "source": [
    "df_temporary=TA_zips[['location_id','trans_P_zips_70_within_TA','trans_S_zips_70_within_TA','zips_in_10']]\n",
    "df_zip_by_store=pd.DataFrame()\n",
    "\n",
    "for ind,row in df_temporary.iterrows():\n",
    "    location_id=row['location_id']\n",
    "    P_zips=eval(row['trans_P_zips_70_within_TA'])\n",
    "    S_zips=eval(row['trans_S_zips_70_within_TA'])\n",
    "    zip_10=eval(row['zips_in_10'])\n",
    "    \n",
    "\n",
    "    df_P=pd.DataFrame(zip([location_id]*len(P_zips),P_zips))\n",
    "    if len(df_P)>0:\n",
    "        df_P.columns=['location_id','zip_cd']\n",
    "        df_P['zip_type']=\"P\"\n",
    "        \n",
    "    df_S=pd.DataFrame(zip([location_id]*len(S_zips),S_zips))\n",
    "    if len(df_S)>0:\n",
    "        df_S.columns=['location_id','zip_cd']\n",
    "        df_S['zip_type']=\"S\"\n",
    "    \n",
    "    df_10=pd.DataFrame(zip([location_id]*len(zip_10),zip_10))\n",
    "    if len(df_10)>0:\n",
    "        df_10.columns=['location_id','zip_cd']\n",
    "        df_10['zip_type']=\"zip_10\"\n",
    "    \n",
    "    df_zip_by_store=df_zip_by_store.append(df_P).append(df_S).append(df_10)"
   ]
  },
  {
   "cell_type": "code",
   "execution_count": 9,
   "metadata": {},
   "outputs": [
    {
     "name": "stdout",
     "output_type": "stream",
     "text": [
      "(8986, 3)\n",
      "558\n"
     ]
    },
    {
     "data": {
      "text/html": [
       "<div>\n",
       "<style scoped>\n",
       "    .dataframe tbody tr th:only-of-type {\n",
       "        vertical-align: middle;\n",
       "    }\n",
       "\n",
       "    .dataframe tbody tr th {\n",
       "        vertical-align: top;\n",
       "    }\n",
       "\n",
       "    .dataframe thead th {\n",
       "        text-align: right;\n",
       "    }\n",
       "</style>\n",
       "<table border=\"1\" class=\"dataframe\">\n",
       "  <thead>\n",
       "    <tr style=\"text-align: right;\">\n",
       "      <th></th>\n",
       "      <th>location_id</th>\n",
       "      <th>zip_cd</th>\n",
       "      <th>zip_type</th>\n",
       "    </tr>\n",
       "  </thead>\n",
       "  <tbody>\n",
       "    <tr>\n",
       "      <th>0</th>\n",
       "      <td>1949</td>\n",
       "      <td>75040</td>\n",
       "      <td>P</td>\n",
       "    </tr>\n",
       "    <tr>\n",
       "      <th>1</th>\n",
       "      <td>1949</td>\n",
       "      <td>75098</td>\n",
       "      <td>P</td>\n",
       "    </tr>\n",
       "  </tbody>\n",
       "</table>\n",
       "</div>"
      ],
      "text/plain": [
       "  location_id zip_cd zip_type\n",
       "0        1949  75040        P\n",
       "1        1949  75098        P"
      ]
     },
     "execution_count": 9,
     "metadata": {},
     "output_type": "execute_result"
    }
   ],
   "source": [
    "df_existing_stores=df_zip_by_store[df_zip_by_store['location_id'].isin(list_all_wanted_stores)]\n",
    "print(df_existing_stores.shape)\n",
    "print(df_existing_stores['location_id'].nunique())\n",
    "df_existing_stores.head(2)"
   ]
  },
  {
   "cell_type": "code",
   "execution_count": 10,
   "metadata": {},
   "outputs": [
    {
     "data": {
      "text/plain": [
       "13"
      ]
     },
     "execution_count": 10,
     "metadata": {},
     "output_type": "execute_result"
    }
   ],
   "source": [
    "list_new_stores=[x for x in list_all_wanted_stores if x not in df_zip_by_store['location_id'].tolist()]\n",
    "len(list_new_stores)"
   ]
  },
  {
   "cell_type": "code",
   "execution_count": 11,
   "metadata": {},
   "outputs": [
    {
     "name": "stdout",
     "output_type": "stream",
     "text": [
      "(13, 8)\n",
      "(292, 4)\n"
     ]
    },
    {
     "data": {
      "text/html": [
       "<div>\n",
       "<style scoped>\n",
       "    .dataframe tbody tr th:only-of-type {\n",
       "        vertical-align: middle;\n",
       "    }\n",
       "\n",
       "    .dataframe tbody tr th {\n",
       "        vertical-align: top;\n",
       "    }\n",
       "\n",
       "    .dataframe thead th {\n",
       "        text-align: right;\n",
       "    }\n",
       "</style>\n",
       "<table border=\"1\" class=\"dataframe\">\n",
       "  <thead>\n",
       "    <tr style=\"text-align: right;\">\n",
       "      <th></th>\n",
       "      <th>location_id</th>\n",
       "      <th>zip_cd</th>\n",
       "      <th>zip_type</th>\n",
       "    </tr>\n",
       "  </thead>\n",
       "  <tbody>\n",
       "    <tr>\n",
       "      <th>0</th>\n",
       "      <td>4702</td>\n",
       "      <td>79968</td>\n",
       "      <td>zip_10</td>\n",
       "    </tr>\n",
       "    <tr>\n",
       "      <th>0</th>\n",
       "      <td>4702</td>\n",
       "      <td>79901</td>\n",
       "      <td>zip_10</td>\n",
       "    </tr>\n",
       "    <tr>\n",
       "      <th>0</th>\n",
       "      <td>4702</td>\n",
       "      <td>79902</td>\n",
       "      <td>zip_10</td>\n",
       "    </tr>\n",
       "  </tbody>\n",
       "</table>\n",
       "</div>"
      ],
      "text/plain": [
       "  location_id zip_cd zip_type\n",
       "0        4702  79968   zip_10\n",
       "0        4702  79901   zip_10\n",
       "0        4702  79902   zip_10"
      ]
     },
     "execution_count": 11,
     "metadata": {},
     "output_type": "execute_result"
    }
   ],
   "source": [
    "df_new_stores=df_store_address[df_store_address['location_id'].isin(list_new_stores)]\n",
    "print(df_new_stores.shape)\n",
    "df_10_zips_all_new_stores=pd.DataFrame()\n",
    "for ind, row in df_new_stores.iterrows():\n",
    "    location_id=row['location_id']\n",
    "    store_location=(row['latitude_meas'],row['longitude_meas'])\n",
    "    for zip_cd,v in zip_centers.items():\n",
    "        dist=haversine(store_location,v,unit=\"mi\")\n",
    "        if dist<=10:\n",
    "            # print(location_id,zip_cd)\n",
    "            df=pd.DataFrame({\"location_id\":[location_id],\"zip_cd\":[zip_cd],\"dist\":[dist]})\n",
    "            df_10_zips_all_new_stores=df_10_zips_all_new_stores.append(df)\n",
    "df_10_zips_all_new_stores['zip_type']=\"zip_10\"\n",
    "print(df_10_zips_all_new_stores.shape)\n",
    "del df_10_zips_all_new_stores['dist']\n",
    "\n",
    "df_10_zips_all_new_stores.head(3)"
   ]
  },
  {
   "cell_type": "code",
   "execution_count": 12,
   "metadata": {},
   "outputs": [
    {
     "name": "stdout",
     "output_type": "stream",
     "text": [
      "(9278, 3) 571\n"
     ]
    },
    {
     "data": {
      "text/html": [
       "<div>\n",
       "<style scoped>\n",
       "    .dataframe tbody tr th:only-of-type {\n",
       "        vertical-align: middle;\n",
       "    }\n",
       "\n",
       "    .dataframe tbody tr th {\n",
       "        vertical-align: top;\n",
       "    }\n",
       "\n",
       "    .dataframe thead th {\n",
       "        text-align: right;\n",
       "    }\n",
       "</style>\n",
       "<table border=\"1\" class=\"dataframe\">\n",
       "  <thead>\n",
       "    <tr style=\"text-align: right;\">\n",
       "      <th></th>\n",
       "      <th>location_id</th>\n",
       "      <th>zip_cd</th>\n",
       "      <th>zip_type</th>\n",
       "      <th>address_line_1</th>\n",
       "      <th>address_line_2</th>\n",
       "      <th>city_nm</th>\n",
       "      <th>state_nm</th>\n",
       "      <th>store_zip</th>\n",
       "      <th>latitude_meas</th>\n",
       "      <th>longitude_meas</th>\n",
       "    </tr>\n",
       "  </thead>\n",
       "  <tbody>\n",
       "    <tr>\n",
       "      <th>0</th>\n",
       "      <td>1949</td>\n",
       "      <td>75040</td>\n",
       "      <td>P</td>\n",
       "      <td>3178 LAVON DR</td>\n",
       "      <td>NaN</td>\n",
       "      <td>GARLAND</td>\n",
       "      <td>TX</td>\n",
       "      <td>75040</td>\n",
       "      <td>32.945015</td>\n",
       "      <td>-96.619194</td>\n",
       "    </tr>\n",
       "    <tr>\n",
       "      <th>1</th>\n",
       "      <td>1949</td>\n",
       "      <td>75098</td>\n",
       "      <td>P</td>\n",
       "      <td>3178 LAVON DR</td>\n",
       "      <td>NaN</td>\n",
       "      <td>GARLAND</td>\n",
       "      <td>TX</td>\n",
       "      <td>75040</td>\n",
       "      <td>32.945015</td>\n",
       "      <td>-96.619194</td>\n",
       "    </tr>\n",
       "    <tr>\n",
       "      <th>2</th>\n",
       "      <td>1949</td>\n",
       "      <td>75044</td>\n",
       "      <td>P</td>\n",
       "      <td>3178 LAVON DR</td>\n",
       "      <td>NaN</td>\n",
       "      <td>GARLAND</td>\n",
       "      <td>TX</td>\n",
       "      <td>75040</td>\n",
       "      <td>32.945015</td>\n",
       "      <td>-96.619194</td>\n",
       "    </tr>\n",
       "  </tbody>\n",
       "</table>\n",
       "</div>"
      ],
      "text/plain": [
       "  location_id zip_cd zip_type address_line_1 address_line_2  city_nm state_nm  \\\n",
       "0        1949  75040        P  3178 LAVON DR            NaN  GARLAND       TX   \n",
       "1        1949  75098        P  3178 LAVON DR            NaN  GARLAND       TX   \n",
       "2        1949  75044        P  3178 LAVON DR            NaN  GARLAND       TX   \n",
       "\n",
       "  store_zip  latitude_meas  longitude_meas  \n",
       "0     75040      32.945015      -96.619194  \n",
       "1     75040      32.945015      -96.619194  \n",
       "2     75040      32.945015      -96.619194  "
      ]
     },
     "execution_count": 12,
     "metadata": {},
     "output_type": "execute_result"
    }
   ],
   "source": [
    "df_all_wanted_store_zips=df_existing_stores.append(df_10_zips_all_new_stores)\n",
    "print(df_all_wanted_store_zips.shape,df_all_wanted_store_zips['location_id'].nunique())\n",
    "df_all_wanted_store_zips=pd.merge(df_all_wanted_store_zips,df_store_address,on=\"location_id\",how=\"left\")\n",
    "df_all_wanted_store_zips.head(3)"
   ]
  },
  {
   "cell_type": "code",
   "execution_count": 13,
   "metadata": {},
   "outputs": [
    {
     "data": {
      "text/plain": [
       "(571, 4)"
      ]
     },
     "execution_count": 13,
     "metadata": {},
     "output_type": "execute_result"
    }
   ],
   "source": [
    "df_qc_store_address=df_store_address.copy()\n",
    "df_qc_store_address=df_qc_store_address[df_qc_store_address['location_id'].isin(list_all_wanted_stores)]\n",
    "df_agg_from_Gianna=pd.DataFrame()\n",
    "for v in df_all_wanted_stores.values():\n",
    "    df_agg_from_Gianna=df_agg_from_Gianna.append(v)\n",
    "del df_agg_from_Gianna['Delivery\\nAppointment']\n",
    "df_agg_from_Gianna=df_agg_from_Gianna.drop_duplicates()\n",
    "df_agg_from_Gianna.shape"
   ]
  },
  {
   "cell_type": "code",
   "execution_count": 14,
   "metadata": {},
   "outputs": [
    {
     "data": {
      "text/plain": [
       "(571, 12)"
      ]
     },
     "execution_count": 14,
     "metadata": {},
     "output_type": "execute_result"
    }
   ],
   "source": [
    "df_qc_store_address=pd.merge(df_agg_from_Gianna,df_qc_store_address,left_on=\"Store #\",right_on=\"location_id\",how='inner')\n",
    "df_qc_store_address.shape"
   ]
  },
  {
   "cell_type": "code",
   "execution_count": 15,
   "metadata": {},
   "outputs": [],
   "source": [
    "writer=pd.ExcelWriter(\"./BL_zips_by_dates_delivery_JL_\"+str(datetime.datetime.now().date())+\".xlsx\",engine=\"xlsxwriter\")\n",
    "df_all_wanted_store_zips.to_excel(writer,\"all_stores_and_zips\",index=False)\n",
    "df_qc_store_address.to_excel(writer,\"qc_address\",index=False)\n",
    "\n",
    "dict_unique_zip_by_date={}\n",
    "for k,v in df_all_wanted_stores.items():\n",
    "    df=v.rename(columns={\"Store #\":\"location_id\"})\n",
    "    df=pd.merge(df,df_all_wanted_store_zips,on=\"location_id\",how=\"left\")\n",
    "    df.to_excel(writer,k,index=False)\n",
    "    dict_unique_zip_by_date.update({k:df['zip_cd'].unique().tolist()})\n",
    "    \n",
    "df_unique_zips_by_date=pd.DataFrame(dict([ (k,pd.Series(v)) for k,v in dict_unique_zip_by_date.items() ]))\n",
    "df_unique_zips_by_date.to_excel(writer,\"unique_zip_by_date\",index=False)\n",
    "writer.save()"
   ]
  },
  {
   "cell_type": "code",
   "execution_count": 16,
   "metadata": {},
   "outputs": [
    {
     "data": {
      "text/plain": [
       "(2229, 7)"
      ]
     },
     "execution_count": 16,
     "metadata": {},
     "output_type": "execute_result"
    }
   ],
   "source": [
    "df_unique_zips_by_date.shape"
   ]
  },
  {
   "cell_type": "code",
   "execution_count": null,
   "metadata": {},
   "outputs": [],
   "source": []
  }
 ],
 "metadata": {
  "kernelspec": {
   "display_name": "Python 3",
   "language": "python",
   "name": "python3"
  },
  "language_info": {
   "codemirror_mode": {
    "name": "ipython",
    "version": 3
   },
   "file_extension": ".py",
   "mimetype": "text/x-python",
   "name": "python",
   "nbconvert_exporter": "python",
   "pygments_lexer": "ipython3",
   "version": "3.6.1"
  }
 },
 "nbformat": 4,
 "nbformat_minor": 2
}
