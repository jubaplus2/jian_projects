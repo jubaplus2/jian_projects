{
 "cells": [
  {
   "cell_type": "code",
   "execution_count": 1,
   "metadata": {},
   "outputs": [],
   "source": [
    "import pandas as pd\n",
    "import numpy as np \n",
    "import datetime\n",
    "import os\n",
    "\n",
    "def recursive_file_gen(root_path):\n",
    "    for root, dirs, files in os.walk(root_path):\n",
    "        for file in files:\n",
    "            yield os.path.join(root,file)\n",
    "            \n",
    "start_date_2019Q4=datetime.date(2019,11,3)\n",
    "last_saturday=datetime.datetime.now().date()-datetime.timedelta(days=datetime.datetime.now().date().weekday()+2)\n"
   ]
  },
  {
   "cell_type": "code",
   "execution_count": 2,
   "metadata": {},
   "outputs": [
    {
     "name": "stdout",
     "output_type": "stream",
     "text": [
      "6\n"
     ]
    },
    {
     "data": {
      "text/plain": [
       "['/home/jian/BigLots/2019_by_weeks/MediaStorm_2019-11-09/MediaStormDailySales20191112-115210-002.txt',\n",
       " '/home/jian/BigLots/2019_by_weeks/MediaStorm_2019-11-16/MediaStormDailySales20191119-112232-478.txt',\n",
       " '/home/jian/BigLots/2019_by_weeks/MediaStorm_2019-11-23/MediaStormDailySales20191126-112901-552.txt',\n",
       " '/home/jian/BigLots/2019_by_weeks/MediaStorm_2019-11-30/MediaStormDailySales20191203.txt',\n",
       " '/home/jian/BigLots/2019_by_weeks/MediaStorm_2019-12-07/MediaStormDailySales.txt',\n",
       " '/home/jian/BigLots/2019_by_weeks/MediaStorm_2019-12-14/MediaStormDailySales20191217-195625-000.txt']"
      ]
     },
     "execution_count": 2,
     "metadata": {},
     "output_type": "execute_result"
    }
   ],
   "source": [
    "# POS date\n",
    "pos_list=list(recursive_file_gen(\"/home/jian/BigLots/2019_by_weeks/\"))\n",
    "pos_list=[x for x in pos_list if \"daily\" in x.lower()]\n",
    "pos_list=[x for x in pos_list if x.split(\"s/MediaStorm_\")[1][:10]>=str(start_date_2019Q4)]\n",
    "print(len(pos_list))\n",
    "\n",
    "pos_list.sort()\n",
    "pos_list"
   ]
  },
  {
   "cell_type": "code",
   "execution_count": 3,
   "metadata": {},
   "outputs": [
    {
     "data": {
      "text/plain": [
       "'/home/jian/BigLots/2019_by_weeks/MediaStorm_2019-11-09/MediaStormDailySales20191112-115210-002.txt'"
      ]
     },
     "execution_count": 3,
     "metadata": {},
     "output_type": "execute_result"
    }
   ],
   "source": [
    "pos_list[0]"
   ]
  },
  {
   "cell_type": "code",
   "execution_count": 5,
   "metadata": {},
   "outputs": [
    {
     "name": "stdout",
     "output_type": "stream",
     "text": [
      "2019-12-18 12:00:38.534127 2019-11-09\n",
      "2019-12-18 12:01:47.298979 2019-11-16\n",
      "2019-12-18 12:02:49.776680 2019-11-23\n",
      "2019-12-18 12:04:16.497683 2019-11-30\n",
      "2019-12-18 12:05:40.352991 2019-12-07\n",
      "2019-12-18 12:07:12.241777 2019-12-14\n"
     ]
    }
   ],
   "source": [
    "df_all_POS_by_store=pd.DataFrame()\n",
    "for file in pos_list:\n",
    "    df=pd.read_csv(file,dtype=str,sep=\"|\")\n",
    "    df['item_transaction_amt']=df['item_transaction_amt'].astype(float)\n",
    "    df_rewards=df[pd.notnull(df['customer_id_hashed'])]\n",
    "    df_non_rewards=df[pd.isnull(df['customer_id_hashed'])]\n",
    "    \n",
    "    df_rewards_sales=df_rewards.groupby(['location_id','transaction_dt'])['item_transaction_amt'].sum().to_frame().reset_index().rename(columns={\"item_transaction_amt\":\"rewards_sales\"})\n",
    "    df_rewards_trans=df_rewards[['location_id','transaction_dt','transaction_id','customer_id_hashed']].drop_duplicates()\n",
    "    df_rewards_trans['rewards_trans']=1\n",
    "    df_rewards_trans=df_rewards_trans.groupby(['location_id','transaction_dt'])['rewards_trans'].sum().to_frame().reset_index()\n",
    "    df_rewards=pd.merge(df_rewards_sales,df_rewards_trans,on=['location_id','transaction_dt'],how=\"outer\")\n",
    "    \n",
    "    df_non_rewards_sales=df_non_rewards.groupby(['location_id','transaction_dt'])['item_transaction_amt'].sum().to_frame().reset_index().rename(columns={\"item_transaction_amt\":\"non_rewards_sales\"})\n",
    "    df_non_rewards_trans=df_non_rewards[['location_id','transaction_dt','transaction_id']].drop_duplicates()\n",
    "    df_non_rewards_trans['non_rewards_trans']=1\n",
    "    df_non_rewards_trans=df_non_rewards_trans.groupby(['location_id','transaction_dt'])['non_rewards_trans'].sum().to_frame().reset_index()\n",
    "    df_non_rewards=pd.merge(df_non_rewards_sales,df_non_rewards_trans,on=['location_id','transaction_dt'],how=\"outer\")\n",
    "    \n",
    "    df=pd.merge(df_rewards,df_non_rewards,on=['location_id','transaction_dt'],how=\"outer\")\n",
    "    df['week_end_dt']=df['transaction_dt'].max()\n",
    "    df_all_POS_by_store=df_all_POS_by_store.append(df)\n",
    "    print(datetime.datetime.now(),df['transaction_dt'].max())\n"
   ]
  },
  {
   "cell_type": "code",
   "execution_count": 6,
   "metadata": {},
   "outputs": [],
   "source": [
    "df_all_POS_by_store['store_type']=np.where(df_all_POS_by_store['location_id']==\"6990\",\"online\",\"instore\")\n",
    "df_summary=df_all_POS_by_store.groupby([\"week_end_dt\",'store_type'])['rewards_sales','non_rewards_sales','rewards_trans','non_rewards_trans'].sum().reset_index()"
   ]
  },
  {
   "cell_type": "code",
   "execution_count": 7,
   "metadata": {},
   "outputs": [],
   "source": [
    "writer=pd.ExcelWriter(\"./BL_first_6_weeks_sales_2019Q4_JL_\"+str(datetime.datetime.now().date())+\".xlsx\",engine=\"xlsxwriter\")\n",
    "df_summary.to_excel(writer,\"df_summary\",index=False)\n",
    "df_all_POS_by_store.to_excel(writer,\"df_by_store_date\",index=False)\n",
    "writer.save()"
   ]
  },
  {
   "cell_type": "code",
   "execution_count": 8,
   "metadata": {},
   "outputs": [
    {
     "data": {
      "text/plain": [
       "(59641, 8)"
      ]
     },
     "execution_count": 8,
     "metadata": {},
     "output_type": "execute_result"
    }
   ],
   "source": [
    "df_all_POS_by_store.shape"
   ]
  },
  {
   "cell_type": "code",
   "execution_count": 9,
   "metadata": {},
   "outputs": [
    {
     "data": {
      "text/html": [
       "<div>\n",
       "<style scoped>\n",
       "    .dataframe tbody tr th:only-of-type {\n",
       "        vertical-align: middle;\n",
       "    }\n",
       "\n",
       "    .dataframe tbody tr th {\n",
       "        vertical-align: top;\n",
       "    }\n",
       "\n",
       "    .dataframe thead th {\n",
       "        text-align: right;\n",
       "    }\n",
       "</style>\n",
       "<table border=\"1\" class=\"dataframe\">\n",
       "  <thead>\n",
       "    <tr style=\"text-align: right;\">\n",
       "      <th></th>\n",
       "      <th>location_id</th>\n",
       "      <th>transaction_dt</th>\n",
       "      <th>rewards_sales</th>\n",
       "      <th>rewards_trans</th>\n",
       "      <th>non_rewards_sales</th>\n",
       "      <th>non_rewards_trans</th>\n",
       "      <th>week_end_dt</th>\n",
       "      <th>store_type</th>\n",
       "    </tr>\n",
       "  </thead>\n",
       "  <tbody>\n",
       "    <tr>\n",
       "      <th>0</th>\n",
       "      <td>1</td>\n",
       "      <td>2019-11-03</td>\n",
       "      <td>11861.60</td>\n",
       "      <td>213.0</td>\n",
       "      <td>3845.84</td>\n",
       "      <td>154</td>\n",
       "      <td>2019-11-09</td>\n",
       "      <td>instore</td>\n",
       "    </tr>\n",
       "    <tr>\n",
       "      <th>1</th>\n",
       "      <td>1</td>\n",
       "      <td>2019-11-04</td>\n",
       "      <td>4648.47</td>\n",
       "      <td>147.0</td>\n",
       "      <td>2840.52</td>\n",
       "      <td>96</td>\n",
       "      <td>2019-11-09</td>\n",
       "      <td>instore</td>\n",
       "    </tr>\n",
       "    <tr>\n",
       "      <th>2</th>\n",
       "      <td>1</td>\n",
       "      <td>2019-11-05</td>\n",
       "      <td>4513.96</td>\n",
       "      <td>120.0</td>\n",
       "      <td>2211.68</td>\n",
       "      <td>127</td>\n",
       "      <td>2019-11-09</td>\n",
       "      <td>instore</td>\n",
       "    </tr>\n",
       "  </tbody>\n",
       "</table>\n",
       "</div>"
      ],
      "text/plain": [
       "  location_id transaction_dt  rewards_sales  rewards_trans  non_rewards_sales  \\\n",
       "0           1     2019-11-03       11861.60          213.0            3845.84   \n",
       "1           1     2019-11-04        4648.47          147.0            2840.52   \n",
       "2           1     2019-11-05        4513.96          120.0            2211.68   \n",
       "\n",
       "   non_rewards_trans week_end_dt store_type  \n",
       "0                154  2019-11-09    instore  \n",
       "1                 96  2019-11-09    instore  \n",
       "2                127  2019-11-09    instore  "
      ]
     },
     "execution_count": 9,
     "metadata": {},
     "output_type": "execute_result"
    }
   ],
   "source": [
    "df_all_POS_by_store.head(3)"
   ]
  },
  {
   "cell_type": "code",
   "execution_count": 10,
   "metadata": {},
   "outputs": [
    {
     "data": {
      "text/html": [
       "<div>\n",
       "<style scoped>\n",
       "    .dataframe tbody tr th:only-of-type {\n",
       "        vertical-align: middle;\n",
       "    }\n",
       "\n",
       "    .dataframe tbody tr th {\n",
       "        vertical-align: top;\n",
       "    }\n",
       "\n",
       "    .dataframe thead th {\n",
       "        text-align: right;\n",
       "    }\n",
       "</style>\n",
       "<table border=\"1\" class=\"dataframe\">\n",
       "  <thead>\n",
       "    <tr style=\"text-align: right;\">\n",
       "      <th></th>\n",
       "      <th>week_end_dt</th>\n",
       "      <th>store_type</th>\n",
       "      <th>rewards_sales</th>\n",
       "      <th>non_rewards_sales</th>\n",
       "      <th>rewards_trans</th>\n",
       "      <th>non_rewards_trans</th>\n",
       "    </tr>\n",
       "  </thead>\n",
       "  <tbody>\n",
       "    <tr>\n",
       "      <th>0</th>\n",
       "      <td>2019-11-09</td>\n",
       "      <td>instore</td>\n",
       "      <td>6.619332e+07</td>\n",
       "      <td>37157507.01</td>\n",
       "      <td>1657675.0</td>\n",
       "      <td>1301257</td>\n",
       "    </tr>\n",
       "    <tr>\n",
       "      <th>1</th>\n",
       "      <td>2019-11-09</td>\n",
       "      <td>online</td>\n",
       "      <td>3.527831e+05</td>\n",
       "      <td>332391.56</td>\n",
       "      <td>3875.0</td>\n",
       "      <td>3773</td>\n",
       "    </tr>\n",
       "    <tr>\n",
       "      <th>2</th>\n",
       "      <td>2019-11-16</td>\n",
       "      <td>instore</td>\n",
       "      <td>7.351993e+07</td>\n",
       "      <td>39663995.05</td>\n",
       "      <td>1827533.0</td>\n",
       "      <td>1380695</td>\n",
       "    </tr>\n",
       "    <tr>\n",
       "      <th>3</th>\n",
       "      <td>2019-11-16</td>\n",
       "      <td>online</td>\n",
       "      <td>3.587412e+05</td>\n",
       "      <td>365636.26</td>\n",
       "      <td>4247.0</td>\n",
       "      <td>4665</td>\n",
       "    </tr>\n",
       "    <tr>\n",
       "      <th>4</th>\n",
       "      <td>2019-11-23</td>\n",
       "      <td>instore</td>\n",
       "      <td>8.563713e+07</td>\n",
       "      <td>46010836.73</td>\n",
       "      <td>1987426.0</td>\n",
       "      <td>1527385</td>\n",
       "    </tr>\n",
       "    <tr>\n",
       "      <th>5</th>\n",
       "      <td>2019-11-23</td>\n",
       "      <td>online</td>\n",
       "      <td>4.438943e+05</td>\n",
       "      <td>447768.37</td>\n",
       "      <td>5344.0</td>\n",
       "      <td>5569</td>\n",
       "    </tr>\n",
       "    <tr>\n",
       "      <th>6</th>\n",
       "      <td>2019-11-30</td>\n",
       "      <td>instore</td>\n",
       "      <td>1.298683e+08</td>\n",
       "      <td>67029164.93</td>\n",
       "      <td>2605443.0</td>\n",
       "      <td>1975698</td>\n",
       "    </tr>\n",
       "    <tr>\n",
       "      <th>7</th>\n",
       "      <td>2019-11-30</td>\n",
       "      <td>online</td>\n",
       "      <td>6.608430e+05</td>\n",
       "      <td>558059.12</td>\n",
       "      <td>8537.0</td>\n",
       "      <td>7415</td>\n",
       "    </tr>\n",
       "    <tr>\n",
       "      <th>8</th>\n",
       "      <td>2019-12-07</td>\n",
       "      <td>instore</td>\n",
       "      <td>1.010837e+08</td>\n",
       "      <td>62168641.61</td>\n",
       "      <td>2481072.0</td>\n",
       "      <td>2065753</td>\n",
       "    </tr>\n",
       "    <tr>\n",
       "      <th>9</th>\n",
       "      <td>2019-12-07</td>\n",
       "      <td>online</td>\n",
       "      <td>1.058791e+06</td>\n",
       "      <td>863985.40</td>\n",
       "      <td>13668.0</td>\n",
       "      <td>11370</td>\n",
       "    </tr>\n",
       "    <tr>\n",
       "      <th>10</th>\n",
       "      <td>2019-12-14</td>\n",
       "      <td>instore</td>\n",
       "      <td>9.757664e+07</td>\n",
       "      <td>60213767.53</td>\n",
       "      <td>2466230.0</td>\n",
       "      <td>2066560</td>\n",
       "    </tr>\n",
       "    <tr>\n",
       "      <th>11</th>\n",
       "      <td>2019-12-14</td>\n",
       "      <td>online</td>\n",
       "      <td>5.449344e+05</td>\n",
       "      <td>455888.09</td>\n",
       "      <td>7453.0</td>\n",
       "      <td>6698</td>\n",
       "    </tr>\n",
       "  </tbody>\n",
       "</table>\n",
       "</div>"
      ],
      "text/plain": [
       "   week_end_dt store_type  rewards_sales  non_rewards_sales  rewards_trans  \\\n",
       "0   2019-11-09    instore   6.619332e+07        37157507.01      1657675.0   \n",
       "1   2019-11-09     online   3.527831e+05          332391.56         3875.0   \n",
       "2   2019-11-16    instore   7.351993e+07        39663995.05      1827533.0   \n",
       "3   2019-11-16     online   3.587412e+05          365636.26         4247.0   \n",
       "4   2019-11-23    instore   8.563713e+07        46010836.73      1987426.0   \n",
       "5   2019-11-23     online   4.438943e+05          447768.37         5344.0   \n",
       "6   2019-11-30    instore   1.298683e+08        67029164.93      2605443.0   \n",
       "7   2019-11-30     online   6.608430e+05          558059.12         8537.0   \n",
       "8   2019-12-07    instore   1.010837e+08        62168641.61      2481072.0   \n",
       "9   2019-12-07     online   1.058791e+06          863985.40        13668.0   \n",
       "10  2019-12-14    instore   9.757664e+07        60213767.53      2466230.0   \n",
       "11  2019-12-14     online   5.449344e+05          455888.09         7453.0   \n",
       "\n",
       "    non_rewards_trans  \n",
       "0             1301257  \n",
       "1                3773  \n",
       "2             1380695  \n",
       "3                4665  \n",
       "4             1527385  \n",
       "5                5569  \n",
       "6             1975698  \n",
       "7                7415  \n",
       "8             2065753  \n",
       "9               11370  \n",
       "10            2066560  \n",
       "11               6698  "
      ]
     },
     "execution_count": 10,
     "metadata": {},
     "output_type": "execute_result"
    }
   ],
   "source": [
    "df_summary"
   ]
  },
  {
   "cell_type": "code",
   "execution_count": 11,
   "metadata": {},
   "outputs": [
    {
     "name": "stdout",
     "output_type": "stream",
     "text": [
      "2019-12-18 12:11:06.918079\n"
     ]
    }
   ],
   "source": [
    "print(datetime.datetime.now())"
   ]
  },
  {
   "cell_type": "code",
   "execution_count": null,
   "metadata": {},
   "outputs": [],
   "source": []
  }
 ],
 "metadata": {
  "kernelspec": {
   "display_name": "Python 3",
   "language": "python",
   "name": "python3"
  },
  "language_info": {
   "codemirror_mode": {
    "name": "ipython",
    "version": 3
   },
   "file_extension": ".py",
   "mimetype": "text/x-python",
   "name": "python",
   "nbconvert_exporter": "python",
   "pygments_lexer": "ipython3",
   "version": "3.6.1"
  }
 },
 "nbformat": 4,
 "nbformat_minor": 2
}
