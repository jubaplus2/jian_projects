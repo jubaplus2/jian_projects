{
 "cells": [
  {
   "cell_type": "code",
   "execution_count": null,
   "metadata": {},
   "outputs": [],
   "source": [
    "# notes as the requests:\n",
    "'''\n",
    "2020-10-15 from YG, 3 datasets\n",
    "1. store list: mdb.retail_store_list (Last modified: Oct 15, 2020, 5:02:59 AM)\n",
    "2. CRM: \n",
    "    mdb.indiv (cr_indiv_key, indiv_key, Last modified: Oct 15, 2020, 7:35:04 AM)\n",
    "    mdb.indiv_summary (indiv_key, Last modified: Oct 15, 2020, 9:11:50 AM)\n",
    "    mdb.addr (cr_addr_key, Last modified: Oct 15, 2020, 7:08:33 AM)\n",
    "    # mdb.indiv_addr(cr_indiv_key, cr_addr_key, Last modified: Oct 15, 2020, 7:11:38 AM)\n",
    "        --  cr_addr_key already in indiv_summary\n",
    "3. POS:\n",
    "\n",
    "'''"
   ]
  },
  {
   "cell_type": "code",
   "execution_count": null,
   "metadata": {},
   "outputs": [],
   "source": [
    "# Questions\n",
    "# 1. merkle-gdyr-prod.mdb_cdl.store ??? in the dmcvw__store_new\n",
    "# 2. "
   ]
  }
 ],
 "metadata": {
  "kernelspec": {
   "display_name": "Python 3",
   "language": "python",
   "name": "python3"
  },
  "language_info": {
   "codemirror_mode": {
    "name": "ipython",
    "version": 3
   },
   "file_extension": ".py",
   "mimetype": "text/x-python",
   "name": "python",
   "nbconvert_exporter": "python",
   "pygments_lexer": "ipython3",
   "version": "3.7.6"
  }
 },
 "nbformat": 4,
 "nbformat_minor": 4
}
