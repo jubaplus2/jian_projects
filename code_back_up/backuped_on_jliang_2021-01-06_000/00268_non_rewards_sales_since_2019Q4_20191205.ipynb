{
 "cells": [
  {
   "cell_type": "code",
   "execution_count": 1,
   "metadata": {
    "collapsed": true
   },
   "outputs": [],
   "source": [
    "import pandas as pd\n",
    "import numpy as np \n",
    "import datetime\n",
    "import os\n",
    "\n",
    "def recursive_file_gen(root_path):\n",
    "    for root, dirs, files in os.walk(root_path):\n",
    "        for file in files:\n",
    "            yield os.path.join(root,file)\n",
    "            \n",
    "start_date_2019Q4=datetime.date(2019,11,3)\n",
    "last_saturday=datetime.datetime.now().date()-datetime.timedelta(days=datetime.datetime.now().date().weekday()+2)\n"
   ]
  },
  {
   "cell_type": "code",
   "execution_count": 2,
   "metadata": {},
   "outputs": [],
   "source": [
    "# POS date\n",
    "file_POS_weeks_1=\"/home/jian/BigLots/2019_by_weeks/MediaStorm_2019-11-09/MediaStormDailySales20191112-115210-002.txt\"\n",
    "file_POS_weeks_2=\"/home/jian/BigLots/2019_by_weeks/MediaStorm_2019-11-16/MediaStormDailySales20191119-112232-478.txt\"\n",
    "file_POS_weeks_3=\"/home/jian/BigLots/2019_by_weeks/MediaStorm_2019-11-23/MediaStormDailySales20191126-112901-552.txt\"\n",
    "file_POS_weeks_4=\"/home/jian/BigLots/MediaStorm_2019-11-30/MediaStormDailySales20191203.txt\"\n",
    "\n",
    "list_all_files=[file_POS_weeks_1,file_POS_weeks_2,file_POS_weeks_3,file_POS_weeks_4]"
   ]
  },
  {
   "cell_type": "code",
   "execution_count": 4,
   "metadata": {},
   "outputs": [
    {
     "name": "stdout",
     "output_type": "stream",
     "text": [
      "2019-12-05 11:16:32.887667 2019-11-09\n",
      "2019-12-05 11:17:27.832268 2019-11-16\n",
      "2019-12-05 11:18:29.585986 2019-11-23\n",
      "2019-12-05 11:19:52.778638 2019-11-30\n"
     ]
    }
   ],
   "source": [
    "df_all_POS_by_store=pd.DataFrame()\n",
    "for file in list_all_files:\n",
    "    df=pd.read_csv(file,dtype=str,sep=\"|\")\n",
    "    df['item_transaction_amt']=df['item_transaction_amt'].astype(float)\n",
    "    df_rewards=df[pd.notnull(df['customer_id_hashed'])]\n",
    "    df_non_rewards=df[pd.isnull(df['customer_id_hashed'])]\n",
    "    \n",
    "    df_rewards_sales=df_rewards.groupby(['location_id','transaction_dt'])['item_transaction_amt'].sum().to_frame().reset_index().rename(columns={\"item_transaction_amt\":\"rewards_sales\"})\n",
    "    df_rewards_trans=df_rewards[['location_id','transaction_dt','transaction_id','customer_id_hashed']].drop_duplicates()\n",
    "    df_rewards_trans['rewards_trans']=1\n",
    "    df_rewards_trans=df_rewards_trans.groupby(['location_id','transaction_dt'])['rewards_trans'].sum().to_frame().reset_index()\n",
    "    df_rewards=pd.merge(df_rewards_sales,df_rewards_trans,on=['location_id','transaction_dt'],how=\"outer\")\n",
    "    \n",
    "    df_non_rewards_sales=df_non_rewards.groupby(['location_id','transaction_dt'])['item_transaction_amt'].sum().to_frame().reset_index().rename(columns={\"item_transaction_amt\":\"non_rewards_sales\"})\n",
    "    df_non_rewards_trans=df_non_rewards[['location_id','transaction_dt','transaction_id']].drop_duplicates()\n",
    "    df_non_rewards_trans['non_rewards_trans']=1\n",
    "    df_non_rewards_trans=df_non_rewards_trans.groupby(['location_id','transaction_dt'])['non_rewards_trans'].sum().to_frame().reset_index()\n",
    "    df_non_rewards=pd.merge(df_non_rewards_sales,df_non_rewards_trans,on=['location_id','transaction_dt'],how=\"outer\")\n",
    "    \n",
    "    df=pd.merge(df_rewards,df_non_rewards,on=['location_id','transaction_dt'],how=\"outer\")\n",
    "    df['week_end_dt']=df['transaction_dt'].max()\n",
    "    df_all_POS_by_store=df_all_POS_by_store.append(df)\n",
    "    print(datetime.datetime.now(),df['transaction_dt'].max())\n"
   ]
  },
  {
   "cell_type": "code",
   "execution_count": 8,
   "metadata": {},
   "outputs": [],
   "source": [
    "df_all_POS_by_store['store_type']=np.where(df_all_POS_by_store['location_id']==\"6990\",\"online\",\"instore\")\n",
    "df_summary=df_all_POS_by_store.groupby([\"week_end_dt\",'store_type'])['rewards_sales','non_rewards_sales','rewards_trans','non_rewards_trans'].sum().reset_index()"
   ]
  },
  {
   "cell_type": "code",
   "execution_count": 9,
   "metadata": {},
   "outputs": [],
   "source": [
    "writer=pd.ExcelWriter(\"./BL_first_4_weeks_sales_2019Q4_JL_\"+str(datetime.datetime.now().date())+\".xlsx\",engine=\"xlsxwriter\")\n",
    "df_summary.to_excel(writer,\"df_summary\",index=False)\n",
    "df_all_POS_by_store.to_excel(writer,\"df_by_store_date\",index=False)\n",
    "writer.save()"
   ]
  },
  {
   "cell_type": "code",
   "execution_count": 10,
   "metadata": {},
   "outputs": [
    {
     "data": {
      "text/plain": [
       "(39740, 8)"
      ]
     },
     "execution_count": 10,
     "metadata": {},
     "output_type": "execute_result"
    }
   ],
   "source": [
    "df_all_POS_by_store.shape"
   ]
  },
  {
   "cell_type": "code",
   "execution_count": 11,
   "metadata": {},
   "outputs": [
    {
     "data": {
      "text/html": [
       "<div>\n",
       "<style scoped>\n",
       "    .dataframe tbody tr th:only-of-type {\n",
       "        vertical-align: middle;\n",
       "    }\n",
       "\n",
       "    .dataframe tbody tr th {\n",
       "        vertical-align: top;\n",
       "    }\n",
       "\n",
       "    .dataframe thead th {\n",
       "        text-align: right;\n",
       "    }\n",
       "</style>\n",
       "<table border=\"1\" class=\"dataframe\">\n",
       "  <thead>\n",
       "    <tr style=\"text-align: right;\">\n",
       "      <th></th>\n",
       "      <th>location_id</th>\n",
       "      <th>transaction_dt</th>\n",
       "      <th>rewards_sales</th>\n",
       "      <th>rewards_trans</th>\n",
       "      <th>non_rewards_sales</th>\n",
       "      <th>non_rewards_trans</th>\n",
       "      <th>week_end_dt</th>\n",
       "      <th>store_type</th>\n",
       "    </tr>\n",
       "  </thead>\n",
       "  <tbody>\n",
       "    <tr>\n",
       "      <th>0</th>\n",
       "      <td>1</td>\n",
       "      <td>2019-11-03</td>\n",
       "      <td>11861.60</td>\n",
       "      <td>213</td>\n",
       "      <td>3845.84</td>\n",
       "      <td>154</td>\n",
       "      <td>2019-11-09</td>\n",
       "      <td>instore</td>\n",
       "    </tr>\n",
       "    <tr>\n",
       "      <th>1</th>\n",
       "      <td>1</td>\n",
       "      <td>2019-11-04</td>\n",
       "      <td>4648.47</td>\n",
       "      <td>147</td>\n",
       "      <td>2840.52</td>\n",
       "      <td>96</td>\n",
       "      <td>2019-11-09</td>\n",
       "      <td>instore</td>\n",
       "    </tr>\n",
       "    <tr>\n",
       "      <th>2</th>\n",
       "      <td>1</td>\n",
       "      <td>2019-11-05</td>\n",
       "      <td>4513.96</td>\n",
       "      <td>120</td>\n",
       "      <td>2211.68</td>\n",
       "      <td>127</td>\n",
       "      <td>2019-11-09</td>\n",
       "      <td>instore</td>\n",
       "    </tr>\n",
       "  </tbody>\n",
       "</table>\n",
       "</div>"
      ],
      "text/plain": [
       "  location_id transaction_dt  rewards_sales  rewards_trans  non_rewards_sales  \\\n",
       "0           1     2019-11-03       11861.60            213            3845.84   \n",
       "1           1     2019-11-04        4648.47            147            2840.52   \n",
       "2           1     2019-11-05        4513.96            120            2211.68   \n",
       "\n",
       "   non_rewards_trans week_end_dt store_type  \n",
       "0                154  2019-11-09    instore  \n",
       "1                 96  2019-11-09    instore  \n",
       "2                127  2019-11-09    instore  "
      ]
     },
     "execution_count": 11,
     "metadata": {},
     "output_type": "execute_result"
    }
   ],
   "source": [
    "df_all_POS_by_store.head(3)"
   ]
  },
  {
   "cell_type": "code",
   "execution_count": null,
   "metadata": {
    "collapsed": true
   },
   "outputs": [],
   "source": []
  }
 ],
 "metadata": {
  "kernelspec": {
   "display_name": "Python 3",
   "language": "python",
   "name": "python3"
  },
  "language_info": {
   "codemirror_mode": {
    "name": "ipython",
    "version": 3
   },
   "file_extension": ".py",
   "mimetype": "text/x-python",
   "name": "python",
   "nbconvert_exporter": "python",
   "pygments_lexer": "ipython3",
   "version": "3.6.1"
  }
 },
 "nbformat": 4,
 "nbformat_minor": 2
}
