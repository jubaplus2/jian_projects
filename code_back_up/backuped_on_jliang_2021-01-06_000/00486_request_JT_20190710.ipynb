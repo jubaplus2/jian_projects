{
 "cells": [
  {
   "cell_type": "code",
   "execution_count": 1,
   "metadata": {},
   "outputs": [
    {
     "data": {
      "text/plain": [
       "'/home/jian/Projects/Big_Lots/Analysis/2019_Q2/Planner_Requests/Q2_rewards_trans_per_id_and_AOV_JL_20190710'"
      ]
     },
     "execution_count": 1,
     "metadata": {},
     "output_type": "execute_result"
    }
   ],
   "source": [
    "import pandas as pd\n",
    "import os\n",
    "import numpy as np\n",
    "import datetime\n",
    "\n",
    "os.getcwd()"
   ]
  },
  {
   "cell_type": "code",
   "execution_count": 2,
   "metadata": {},
   "outputs": [
    {
     "name": "stdout",
     "output_type": "stream",
     "text": [
      "df_2019_daily_Q2['week_end_dt'].min(): 2019-05-11\n",
      "df_2019_daily_Q2['week_end_dt'].max(): 2019-07-06\n"
     ]
    }
   ],
   "source": [
    "def recurisve_file_gen(root_path):\n",
    "    for root, dirs, files in os.walk(root_path):\n",
    "        for file in files:\n",
    "            yield os.path.join(root,file)\n",
    "\n",
    "all_files_2019_daily=list(recurisve_file_gen(\"/home/jian/BigLots/2019_by_weeks/\"))\n",
    "all_files_2019_daily=[x for x in all_files_2019_daily if (\".txt\" in x) & (\"aily\" in x) ]\n",
    "df_2019_daily=pd.DataFrame({\"file_path\":all_files_2019_daily})\n",
    "df_2019_daily['week_end_dt']=df_2019_daily['file_path'].apply(lambda x: x.split(\"/2019_by_weeks/MediaStorm_\")[1][:10])\n",
    "\n",
    "df_2019_daily_Q2=df_2019_daily[(df_2019_daily['week_end_dt']>=\"2019-05-05\")]\n",
    "print(\"df_2019_daily_Q2['week_end_dt'].min(): \"+str(df_2019_daily_Q2['week_end_dt'].min()))\n",
    "print(\"df_2019_daily_Q2['week_end_dt'].max(): \"+str(df_2019_daily_Q2['week_end_dt'].max()))\n",
    "                        "
   ]
  },
  {
   "cell_type": "code",
   "execution_count": 3,
   "metadata": {
    "collapsed": true
   },
   "outputs": [],
   "source": [
    "df_Q2_rewards_trans_store=pd.DataFrame()\n",
    "\n",
    "for file in df_2019_daily_Q2['file_path'].tolist():\n",
    "    df=pd.read_table(file,dtype=str,sep=\"|\",\n",
    "                     usecols=['location_id','transaction_dt','transaction_id','customer_id_hashed','item_transaction_amt'])\n",
    "    df['item_transaction_amt']=df['item_transaction_amt'].astype(float)\n",
    "    df=df[pd.notnull(df['customer_id_hashed'])]\n",
    "    \n",
    "    df_trans=df[['location_id','transaction_dt','transaction_id','customer_id_hashed']].drop_duplicates()\n",
    "    df_trans=df_trans.groupby(['customer_id_hashed','location_id','transaction_dt'])['transaction_id'].count().to_frame().reset_index().rename(columns={\"transaction_id\":\"trans\"})\n",
    "    df_sales=df.groupby(['customer_id_hashed','location_id','transaction_dt'])['item_transaction_amt'].sum().to_frame().reset_index().rename(columns={\"item_transaction_amt\":\"sales\"})\n",
    "    \n",
    "    df=pd.merge(df_sales,df_trans,on=['customer_id_hashed','location_id','transaction_dt'],how=\"outer\")\n",
    "    df_Q2_rewards_trans_store=df_Q2_rewards_trans_store.append(df)\n",
    "    \n",
    "    "
   ]
  },
  {
   "cell_type": "code",
   "execution_count": 4,
   "metadata": {},
   "outputs": [
    {
     "data": {
      "text/html": [
       "<div>\n",
       "<style>\n",
       "    .dataframe thead tr:only-child th {\n",
       "        text-align: right;\n",
       "    }\n",
       "\n",
       "    .dataframe thead th {\n",
       "        text-align: left;\n",
       "    }\n",
       "\n",
       "    .dataframe tbody tr th {\n",
       "        vertical-align: top;\n",
       "    }\n",
       "</style>\n",
       "<table border=\"1\" class=\"dataframe\">\n",
       "  <thead>\n",
       "    <tr style=\"text-align: right;\">\n",
       "      <th></th>\n",
       "      <th>customer_id_hashed</th>\n",
       "      <th>location_id</th>\n",
       "      <th>transaction_dt</th>\n",
       "      <th>sales</th>\n",
       "      <th>trans</th>\n",
       "      <th>store_type</th>\n",
       "    </tr>\n",
       "  </thead>\n",
       "  <tbody>\n",
       "    <tr>\n",
       "      <th>0</th>\n",
       "      <td>000008374518306e87838f387eedc47d49a447707dc6da...</td>\n",
       "      <td>5235</td>\n",
       "      <td>2019-05-05</td>\n",
       "      <td>17.82</td>\n",
       "      <td>1</td>\n",
       "      <td>Instore</td>\n",
       "    </tr>\n",
       "    <tr>\n",
       "      <th>1</th>\n",
       "      <td>00002227290330cf6112d04470e512057ba4b50ab64c9f...</td>\n",
       "      <td>4550</td>\n",
       "      <td>2019-05-11</td>\n",
       "      <td>18.80</td>\n",
       "      <td>1</td>\n",
       "      <td>Instore</td>\n",
       "    </tr>\n",
       "    <tr>\n",
       "      <th>2</th>\n",
       "      <td>00002337f37bbdcc9a5338939fb5cb662a5c8691e755e8...</td>\n",
       "      <td>5373</td>\n",
       "      <td>2019-05-10</td>\n",
       "      <td>26.00</td>\n",
       "      <td>1</td>\n",
       "      <td>Instore</td>\n",
       "    </tr>\n",
       "    <tr>\n",
       "      <th>3</th>\n",
       "      <td>0000296fdb99c4476c91f1fbe9fe38d581e17cd1a3aeb0...</td>\n",
       "      <td>5135</td>\n",
       "      <td>2019-05-10</td>\n",
       "      <td>24.88</td>\n",
       "      <td>1</td>\n",
       "      <td>Instore</td>\n",
       "    </tr>\n",
       "    <tr>\n",
       "      <th>4</th>\n",
       "      <td>0000492bea62f21d029daecc6ef6f45d722be19d626ca6...</td>\n",
       "      <td>4619</td>\n",
       "      <td>2019-05-07</td>\n",
       "      <td>14.90</td>\n",
       "      <td>1</td>\n",
       "      <td>Instore</td>\n",
       "    </tr>\n",
       "  </tbody>\n",
       "</table>\n",
       "</div>"
      ],
      "text/plain": [
       "                                  customer_id_hashed location_id  \\\n",
       "0  000008374518306e87838f387eedc47d49a447707dc6da...        5235   \n",
       "1  00002227290330cf6112d04470e512057ba4b50ab64c9f...        4550   \n",
       "2  00002337f37bbdcc9a5338939fb5cb662a5c8691e755e8...        5373   \n",
       "3  0000296fdb99c4476c91f1fbe9fe38d581e17cd1a3aeb0...        5135   \n",
       "4  0000492bea62f21d029daecc6ef6f45d722be19d626ca6...        4619   \n",
       "\n",
       "  transaction_dt  sales  trans store_type  \n",
       "0     2019-05-05  17.82      1    Instore  \n",
       "1     2019-05-11  18.80      1    Instore  \n",
       "2     2019-05-10  26.00      1    Instore  \n",
       "3     2019-05-10  24.88      1    Instore  \n",
       "4     2019-05-07  14.90      1    Instore  "
      ]
     },
     "execution_count": 4,
     "metadata": {},
     "output_type": "execute_result"
    }
   ],
   "source": [
    "df_Q2_rewards_trans_store['store_type']=np.where(df_Q2_rewards_trans_store['location_id']==\"6990\",\"Online\",\"Instore\")\n",
    "df_Q2_rewards_trans_store.head(5)"
   ]
  },
  {
   "cell_type": "code",
   "execution_count": 5,
   "metadata": {},
   "outputs": [
    {
     "data": {
      "text/html": [
       "<div>\n",
       "<style>\n",
       "    .dataframe thead tr:only-child th {\n",
       "        text-align: right;\n",
       "    }\n",
       "\n",
       "    .dataframe thead th {\n",
       "        text-align: left;\n",
       "    }\n",
       "\n",
       "    .dataframe tbody tr th {\n",
       "        vertical-align: top;\n",
       "    }\n",
       "</style>\n",
       "<table border=\"1\" class=\"dataframe\">\n",
       "  <thead>\n",
       "    <tr style=\"text-align: right;\">\n",
       "      <th></th>\n",
       "      <th>customer_id_hashed</th>\n",
       "      <th>store_type</th>\n",
       "      <th>trans</th>\n",
       "      <th>sales</th>\n",
       "    </tr>\n",
       "  </thead>\n",
       "  <tbody>\n",
       "    <tr>\n",
       "      <th>0</th>\n",
       "      <td>0000034fec3c2cbbf7a2b38fbf80d84abc72d8bed269c4...</td>\n",
       "      <td>Instore</td>\n",
       "      <td>1</td>\n",
       "      <td>52.50</td>\n",
       "    </tr>\n",
       "    <tr>\n",
       "      <th>1</th>\n",
       "      <td>00000435bfb3bf42e3beb4c9b3942c552d09f0e49e5a75...</td>\n",
       "      <td>Instore</td>\n",
       "      <td>1</td>\n",
       "      <td>7.45</td>\n",
       "    </tr>\n",
       "    <tr>\n",
       "      <th>2</th>\n",
       "      <td>000006aa196c7510ca3b4617e7e52d9527e0190e9152fb...</td>\n",
       "      <td>Instore</td>\n",
       "      <td>1</td>\n",
       "      <td>15.00</td>\n",
       "    </tr>\n",
       "    <tr>\n",
       "      <th>3</th>\n",
       "      <td>000006e85aba854de9992437786bddfbd409ddbebeeb80...</td>\n",
       "      <td>Instore</td>\n",
       "      <td>1</td>\n",
       "      <td>31.15</td>\n",
       "    </tr>\n",
       "    <tr>\n",
       "      <th>4</th>\n",
       "      <td>000008374518306e87838f387eedc47d49a447707dc6da...</td>\n",
       "      <td>Instore</td>\n",
       "      <td>4</td>\n",
       "      <td>59.05</td>\n",
       "    </tr>\n",
       "  </tbody>\n",
       "</table>\n",
       "</div>"
      ],
      "text/plain": [
       "                                  customer_id_hashed store_type  trans  sales\n",
       "0  0000034fec3c2cbbf7a2b38fbf80d84abc72d8bed269c4...    Instore      1  52.50\n",
       "1  00000435bfb3bf42e3beb4c9b3942c552d09f0e49e5a75...    Instore      1   7.45\n",
       "2  000006aa196c7510ca3b4617e7e52d9527e0190e9152fb...    Instore      1  15.00\n",
       "3  000006e85aba854de9992437786bddfbd409ddbebeeb80...    Instore      1  31.15\n",
       "4  000008374518306e87838f387eedc47d49a447707dc6da...    Instore      4  59.05"
      ]
     },
     "execution_count": 5,
     "metadata": {},
     "output_type": "execute_result"
    }
   ],
   "source": [
    "df_Q2_rewards_trans_type=df_Q2_rewards_trans_store.groupby(['customer_id_hashed','store_type'])['trans','sales'].sum().reset_index()\n",
    "df_Q2_rewards_trans_type.head(5)"
   ]
  },
  {
   "cell_type": "code",
   "execution_count": 6,
   "metadata": {},
   "outputs": [
    {
     "data": {
      "text/plain": [
       "(6819013, 5)"
      ]
     },
     "execution_count": 6,
     "metadata": {},
     "output_type": "execute_result"
    }
   ],
   "source": [
    "df_Q2_rewards_trans_type['both_type']=\"Both_Online_and_Instore\"\n",
    "df_Q2_rewards_trans_type.shape"
   ]
  },
  {
   "cell_type": "code",
   "execution_count": 7,
   "metadata": {
    "collapsed": true
   },
   "outputs": [],
   "source": [
    "agg_func_type={\"trans\":\"sum\",\"sales\":\"sum\",\"customer_id_hashed\":\"count\"}\n",
    "agg_func_both={\"trans\":\"sum\",\"sales\":\"sum\",\"customer_id_hashed\":\"nunique\"}\n",
    "\n",
    "df_output_type=df_Q2_rewards_trans_type.groupby(['store_type'])['trans','sales','customer_id_hashed'].agg(agg_func_type).reset_index()\n",
    "df_output_both=df_Q2_rewards_trans_type.groupby(['both_type'])['trans','sales','customer_id_hashed'].agg(agg_func_both).reset_index()\n",
    "\n",
    "df_output_type['avg_trans_per_reward_id']=df_output_type['trans']/df_output_type['customer_id_hashed']\n",
    "df_output_type['AOV']=df_output_type['sales']/df_output_type['trans']\n",
    "\n",
    "df_output_both['avg_trans_per_reward_id']=df_output_both['trans']/df_output_both['customer_id_hashed']\n",
    "df_output_both['AOV']=df_output_both['sales']/df_output_both['trans']\n"
   ]
  },
  {
   "cell_type": "code",
   "execution_count": 8,
   "metadata": {},
   "outputs": [
    {
     "data": {
      "text/plain": [
       "'\\nwriter=pd.ExcelWriter(\"./BL_Q2_overall_9_weeks_rewards_trans_JL_\"+str(datetime.datetime.now().date())+\".xlsx\",engine=\"xlsxwriter\")\\ndf_output_type.to_excel(writer,\"online_and_instore\",index=False)\\ndf_output_both.to_excel(writer,\"overall\",index=False)\\nwriter.save()\\n'"
      ]
     },
     "execution_count": 8,
     "metadata": {},
     "output_type": "execute_result"
    }
   ],
   "source": [
    "'''\n",
    "writer=pd.ExcelWriter(\"./BL_Q2_overall_9_weeks_rewards_trans_JL_\"+str(datetime.datetime.now().date())+\".xlsx\",engine=\"xlsxwriter\")\n",
    "df_output_type.to_excel(writer,\"online_and_instore\",index=False)\n",
    "df_output_both.to_excel(writer,\"overall\",index=False)\n",
    "writer.save()\n",
    "'''"
   ]
  },
  {
   "cell_type": "code",
   "execution_count": null,
   "metadata": {
    "collapsed": true
   },
   "outputs": [],
   "source": []
  },
  {
   "cell_type": "code",
   "execution_count": null,
   "metadata": {
    "collapsed": true
   },
   "outputs": [],
   "source": []
  },
  {
   "cell_type": "code",
   "execution_count": 9,
   "metadata": {},
   "outputs": [
    {
     "name": "stdout",
     "output_type": "stream",
     "text": [
      "df_2018_daily_Q2['week_end_dt'].min(): 2018-06-16\n",
      "df_2018_daily_Q2['week_end_dt'].max(): 2018-07-07\n"
     ]
    }
   ],
   "source": [
    "all_files_2018_daily=list(recurisve_file_gen(\"/home/jian/BigLots/2018_by_weeks/\"))\n",
    "all_files_2018_daily=[x for x in all_files_2018_daily if (\".txt\" in x) & (\"aily\" in x) ]\n",
    "df_2018_daily=pd.DataFrame({\"file_path\":all_files_2018_daily})\n",
    "df_2018_daily['week_end_dt']=df_2018_daily['file_path'].apply(lambda x: x.split(\"/2018_by_weeks/MediaStorm_\")[1][:10])\n",
    "\n",
    "df_2018_daily_Q2=df_2018_daily[(df_2018_daily['week_end_dt']>=\"2018-05-06\") &\\\n",
    "                               (df_2018_daily['week_end_dt']<=\"2018-07-07\")]\n",
    "\n",
    "print(\"df_2018_daily_Q2['week_end_dt'].min(): \"+str(df_2018_daily_Q2['week_end_dt'].min()))\n",
    "print(\"df_2018_daily_Q2['week_end_dt'].max(): \"+str(df_2018_daily_Q2['week_end_dt'].max()))\n",
    "                        "
   ]
  },
  {
   "cell_type": "code",
   "execution_count": 10,
   "metadata": {},
   "outputs": [
    {
     "name": "stdout",
     "output_type": "stream",
     "text": [
      "df_2018_historical['week_end_dt'].min(): 2018-05-12\n",
      "df_2018_historical['week_end_dt'].max(): 2018-06-09\n"
     ]
    }
   ],
   "source": [
    "all_files_2018_historical=list(recurisve_file_gen(\"/home/jian/BigLots/hist_daily_data_subclasslevel/\"))\n",
    "all_files_2018_historical=[x for x in all_files_2018_historical if (\".txt\" in x)]\n",
    "df_2018_historical=pd.DataFrame({\"file_path\":all_files_2018_historical})\n",
    "df_2018_historical['week_end_dt']=df_2018_historical['file_path'].apply(lambda x: x.split(\"lySales_week_ending_\")[1][:10])\n",
    "\n",
    "df_2018_historical=df_2018_historical[(df_2018_historical['week_end_dt']>=\"2018-05-06\") &\\\n",
    "                               (df_2018_historical['week_end_dt']<=\"2018-07-07\")]\n",
    "\n",
    "print(\"df_2018_historical['week_end_dt'].min(): \"+str(df_2018_historical['week_end_dt'].min()))\n",
    "print(\"df_2018_historical['week_end_dt'].max(): \"+str(df_2018_historical['week_end_dt'].max()))\n",
    "                        "
   ]
  },
  {
   "cell_type": "code",
   "execution_count": 11,
   "metadata": {},
   "outputs": [
    {
     "data": {
      "text/plain": [
       "(9, 2)"
      ]
     },
     "execution_count": 11,
     "metadata": {},
     "output_type": "execute_result"
    }
   ],
   "source": [
    "all_2018_subclass_files=df_2018_historical.append(df_2018_daily_Q2)\n",
    "all_2018_subclass_files.shape"
   ]
  },
  {
   "cell_type": "code",
   "execution_count": 12,
   "metadata": {
    "collapsed": true
   },
   "outputs": [],
   "source": [
    "df_Q2_rewards_trans_store_2018=pd.DataFrame()\n",
    "\n",
    "for file in all_2018_subclass_files['file_path'].tolist():\n",
    "    df=pd.read_table(file,dtype=str,sep=\"|\",\n",
    "                     usecols=['location_id','transaction_dt','transaction_id','customer_id_hashed','subclass_transaction_amt'])\n",
    "    df['subclass_transaction_amt']=df['subclass_transaction_amt'].astype(float)\n",
    "    df=df[pd.notnull(df['customer_id_hashed'])]\n",
    "    \n",
    "    df_trans=df[['location_id','transaction_dt','transaction_id','customer_id_hashed']].drop_duplicates()\n",
    "    df_trans=df_trans.groupby(['customer_id_hashed','location_id','transaction_dt'])['transaction_id'].count().to_frame().reset_index().rename(columns={\"transaction_id\":\"trans\"})\n",
    "    df_sales=df.groupby(['customer_id_hashed','location_id','transaction_dt'])['subclass_transaction_amt'].sum().to_frame().reset_index().rename(columns={\"subclass_transaction_amt\":\"sales\"})\n",
    "    \n",
    "    df=pd.merge(df_sales,df_trans,on=['customer_id_hashed','location_id','transaction_dt'],how=\"outer\")\n",
    "    df_Q2_rewards_trans_store_2018=df_Q2_rewards_trans_store_2018.append(df)\n"
   ]
  },
  {
   "cell_type": "code",
   "execution_count": 13,
   "metadata": {},
   "outputs": [
    {
     "data": {
      "text/html": [
       "<div>\n",
       "<style>\n",
       "    .dataframe thead tr:only-child th {\n",
       "        text-align: right;\n",
       "    }\n",
       "\n",
       "    .dataframe thead th {\n",
       "        text-align: left;\n",
       "    }\n",
       "\n",
       "    .dataframe tbody tr th {\n",
       "        vertical-align: top;\n",
       "    }\n",
       "</style>\n",
       "<table border=\"1\" class=\"dataframe\">\n",
       "  <thead>\n",
       "    <tr style=\"text-align: right;\">\n",
       "      <th></th>\n",
       "      <th>customer_id_hashed</th>\n",
       "      <th>location_id</th>\n",
       "      <th>transaction_dt</th>\n",
       "      <th>sales</th>\n",
       "      <th>trans</th>\n",
       "      <th>store_type</th>\n",
       "    </tr>\n",
       "  </thead>\n",
       "  <tbody>\n",
       "    <tr>\n",
       "      <th>0</th>\n",
       "      <td>000006aa196c7510ca3b4617e7e52d9527e0190e9152fb...</td>\n",
       "      <td>4133</td>\n",
       "      <td>2018-06-07</td>\n",
       "      <td>20.3</td>\n",
       "      <td>1</td>\n",
       "      <td>Instore</td>\n",
       "    </tr>\n",
       "    <tr>\n",
       "      <th>1</th>\n",
       "      <td>00002227290330cf6112d04470e512057ba4b50ab64c9f...</td>\n",
       "      <td>4148</td>\n",
       "      <td>2018-06-06</td>\n",
       "      <td>9.9</td>\n",
       "      <td>1</td>\n",
       "      <td>Instore</td>\n",
       "    </tr>\n",
       "    <tr>\n",
       "      <th>2</th>\n",
       "      <td>00003b888de64a8e334f9053611ea5fbfb0a27e168a5be...</td>\n",
       "      <td>1408</td>\n",
       "      <td>2018-06-06</td>\n",
       "      <td>28.5</td>\n",
       "      <td>1</td>\n",
       "      <td>Instore</td>\n",
       "    </tr>\n",
       "    <tr>\n",
       "      <th>3</th>\n",
       "      <td>00004962baa9bd312e5d13e1aebd66dd7b96bd28cd367d...</td>\n",
       "      <td>5194</td>\n",
       "      <td>2018-06-04</td>\n",
       "      <td>6.2</td>\n",
       "      <td>1</td>\n",
       "      <td>Instore</td>\n",
       "    </tr>\n",
       "    <tr>\n",
       "      <th>4</th>\n",
       "      <td>000058328a5153892dad9a2c180605607e24e7d2e0c09b...</td>\n",
       "      <td>4447</td>\n",
       "      <td>2018-06-05</td>\n",
       "      <td>25.4</td>\n",
       "      <td>1</td>\n",
       "      <td>Instore</td>\n",
       "    </tr>\n",
       "  </tbody>\n",
       "</table>\n",
       "</div>"
      ],
      "text/plain": [
       "                                  customer_id_hashed location_id  \\\n",
       "0  000006aa196c7510ca3b4617e7e52d9527e0190e9152fb...        4133   \n",
       "1  00002227290330cf6112d04470e512057ba4b50ab64c9f...        4148   \n",
       "2  00003b888de64a8e334f9053611ea5fbfb0a27e168a5be...        1408   \n",
       "3  00004962baa9bd312e5d13e1aebd66dd7b96bd28cd367d...        5194   \n",
       "4  000058328a5153892dad9a2c180605607e24e7d2e0c09b...        4447   \n",
       "\n",
       "  transaction_dt  sales  trans store_type  \n",
       "0     2018-06-07   20.3      1    Instore  \n",
       "1     2018-06-06    9.9      1    Instore  \n",
       "2     2018-06-06   28.5      1    Instore  \n",
       "3     2018-06-04    6.2      1    Instore  \n",
       "4     2018-06-05   25.4      1    Instore  "
      ]
     },
     "execution_count": 13,
     "metadata": {},
     "output_type": "execute_result"
    }
   ],
   "source": [
    "df_Q2_rewards_trans_store_2018['store_type']=np.where(df_Q2_rewards_trans_store_2018['location_id']==\"6990\",\"Online\",\"Instore\")\n",
    "df_Q2_rewards_trans_store_2018.head(5)"
   ]
  },
  {
   "cell_type": "code",
   "execution_count": 14,
   "metadata": {},
   "outputs": [
    {
     "data": {
      "text/html": [
       "<div>\n",
       "<style>\n",
       "    .dataframe thead tr:only-child th {\n",
       "        text-align: right;\n",
       "    }\n",
       "\n",
       "    .dataframe thead th {\n",
       "        text-align: left;\n",
       "    }\n",
       "\n",
       "    .dataframe tbody tr th {\n",
       "        vertical-align: top;\n",
       "    }\n",
       "</style>\n",
       "<table border=\"1\" class=\"dataframe\">\n",
       "  <thead>\n",
       "    <tr style=\"text-align: right;\">\n",
       "      <th></th>\n",
       "      <th>customer_id_hashed</th>\n",
       "      <th>store_type</th>\n",
       "      <th>trans</th>\n",
       "      <th>sales</th>\n",
       "    </tr>\n",
       "  </thead>\n",
       "  <tbody>\n",
       "    <tr>\n",
       "      <th>0</th>\n",
       "      <td>00000435bfb3bf42e3beb4c9b3942c552d09f0e49e5a75...</td>\n",
       "      <td>Instore</td>\n",
       "      <td>5</td>\n",
       "      <td>117.99</td>\n",
       "    </tr>\n",
       "    <tr>\n",
       "      <th>1</th>\n",
       "      <td>000006aa196c7510ca3b4617e7e52d9527e0190e9152fb...</td>\n",
       "      <td>Instore</td>\n",
       "      <td>1</td>\n",
       "      <td>20.30</td>\n",
       "    </tr>\n",
       "    <tr>\n",
       "      <th>2</th>\n",
       "      <td>000008374518306e87838f387eedc47d49a447707dc6da...</td>\n",
       "      <td>Instore</td>\n",
       "      <td>2</td>\n",
       "      <td>22.77</td>\n",
       "    </tr>\n",
       "    <tr>\n",
       "      <th>3</th>\n",
       "      <td>000009e0ff428cd05649d579c6b188ad41635b662f79f5...</td>\n",
       "      <td>Instore</td>\n",
       "      <td>2</td>\n",
       "      <td>103.96</td>\n",
       "    </tr>\n",
       "    <tr>\n",
       "      <th>4</th>\n",
       "      <td>00000b02775629a353b0732eead2135aac6bb0502f10db...</td>\n",
       "      <td>Instore</td>\n",
       "      <td>1</td>\n",
       "      <td>172.30</td>\n",
       "    </tr>\n",
       "  </tbody>\n",
       "</table>\n",
       "</div>"
      ],
      "text/plain": [
       "                                  customer_id_hashed store_type  trans   sales\n",
       "0  00000435bfb3bf42e3beb4c9b3942c552d09f0e49e5a75...    Instore      5  117.99\n",
       "1  000006aa196c7510ca3b4617e7e52d9527e0190e9152fb...    Instore      1   20.30\n",
       "2  000008374518306e87838f387eedc47d49a447707dc6da...    Instore      2   22.77\n",
       "3  000009e0ff428cd05649d579c6b188ad41635b662f79f5...    Instore      2  103.96\n",
       "4  00000b02775629a353b0732eead2135aac6bb0502f10db...    Instore      1  172.30"
      ]
     },
     "execution_count": 14,
     "metadata": {},
     "output_type": "execute_result"
    }
   ],
   "source": [
    "df_Q2_rewards_trans_type_2018=df_Q2_rewards_trans_store_2018.groupby(['customer_id_hashed','store_type'])['trans','sales'].sum().reset_index()\n",
    "df_Q2_rewards_trans_type_2018.head(5)"
   ]
  },
  {
   "cell_type": "code",
   "execution_count": 15,
   "metadata": {},
   "outputs": [
    {
     "data": {
      "text/plain": [
       "(6129670, 5)"
      ]
     },
     "execution_count": 15,
     "metadata": {},
     "output_type": "execute_result"
    }
   ],
   "source": [
    "df_Q2_rewards_trans_type_2018['both_type']=\"Both_Online_and_Instore\"\n",
    "df_Q2_rewards_trans_type_2018.shape"
   ]
  },
  {
   "cell_type": "code",
   "execution_count": 16,
   "metadata": {
    "collapsed": true
   },
   "outputs": [],
   "source": [
    "agg_func_type={\"trans\":\"sum\",\"sales\":\"sum\",\"customer_id_hashed\":\"count\"}\n",
    "agg_func_both={\"trans\":\"sum\",\"sales\":\"sum\",\"customer_id_hashed\":\"nunique\"}\n",
    "\n",
    "df_output_type_2018=df_Q2_rewards_trans_type_2018.groupby(['store_type'])['trans','sales','customer_id_hashed'].agg(agg_func_type).reset_index()\n",
    "df_output_both_2018=df_Q2_rewards_trans_type_2018.groupby(['both_type'])['trans','sales','customer_id_hashed'].agg(agg_func_both).reset_index()\n",
    "\n",
    "df_output_type_2018['avg_trans_per_reward_id']=df_output_type_2018['trans']/df_output_type_2018['customer_id_hashed']\n",
    "df_output_type_2018['AOV']=df_output_type_2018['sales']/df_output_type_2018['trans']\n",
    "\n",
    "df_output_both_2018['avg_trans_per_reward_id']=df_output_both_2018['trans']/df_output_both_2018['customer_id_hashed']\n",
    "df_output_both_2018['AOV']=df_output_both_2018['sales']/df_output_both_2018['trans']\n"
   ]
  },
  {
   "cell_type": "code",
   "execution_count": 17,
   "metadata": {},
   "outputs": [
    {
     "data": {
      "text/html": [
       "<div>\n",
       "<style>\n",
       "    .dataframe thead tr:only-child th {\n",
       "        text-align: right;\n",
       "    }\n",
       "\n",
       "    .dataframe thead th {\n",
       "        text-align: left;\n",
       "    }\n",
       "\n",
       "    .dataframe tbody tr th {\n",
       "        vertical-align: top;\n",
       "    }\n",
       "</style>\n",
       "<table border=\"1\" class=\"dataframe\">\n",
       "  <thead>\n",
       "    <tr style=\"text-align: right;\">\n",
       "      <th></th>\n",
       "      <th>both_type</th>\n",
       "      <th>trans</th>\n",
       "      <th>sales</th>\n",
       "      <th>customer_id_hashed</th>\n",
       "      <th>avg_trans_per_reward_id</th>\n",
       "      <th>AOV</th>\n",
       "    </tr>\n",
       "  </thead>\n",
       "  <tbody>\n",
       "    <tr>\n",
       "      <th>0</th>\n",
       "      <td>Both_Online_and_Instore</td>\n",
       "      <td>11874342</td>\n",
       "      <td>4.757298e+08</td>\n",
       "      <td>6116840</td>\n",
       "      <td>1.941254</td>\n",
       "      <td>40.063675</td>\n",
       "    </tr>\n",
       "  </tbody>\n",
       "</table>\n",
       "</div>"
      ],
      "text/plain": [
       "                 both_type     trans         sales  customer_id_hashed  \\\n",
       "0  Both_Online_and_Instore  11874342  4.757298e+08             6116840   \n",
       "\n",
       "   avg_trans_per_reward_id        AOV  \n",
       "0                 1.941254  40.063675  "
      ]
     },
     "execution_count": 17,
     "metadata": {},
     "output_type": "execute_result"
    }
   ],
   "source": [
    "df_output_both_2018"
   ]
  },
  {
   "cell_type": "code",
   "execution_count": 18,
   "metadata": {},
   "outputs": [
    {
     "data": {
      "text/html": [
       "<div>\n",
       "<style>\n",
       "    .dataframe thead tr:only-child th {\n",
       "        text-align: right;\n",
       "    }\n",
       "\n",
       "    .dataframe thead th {\n",
       "        text-align: left;\n",
       "    }\n",
       "\n",
       "    .dataframe tbody tr th {\n",
       "        vertical-align: top;\n",
       "    }\n",
       "</style>\n",
       "<table border=\"1\" class=\"dataframe\">\n",
       "  <thead>\n",
       "    <tr style=\"text-align: right;\">\n",
       "      <th></th>\n",
       "      <th>store_type</th>\n",
       "      <th>trans</th>\n",
       "      <th>sales</th>\n",
       "      <th>customer_id_hashed</th>\n",
       "      <th>avg_trans_per_reward_id</th>\n",
       "      <th>AOV</th>\n",
       "    </tr>\n",
       "  </thead>\n",
       "  <tbody>\n",
       "    <tr>\n",
       "      <th>0</th>\n",
       "      <td>Instore</td>\n",
       "      <td>11837007</td>\n",
       "      <td>4.722147e+08</td>\n",
       "      <td>6103861</td>\n",
       "      <td>1.939265</td>\n",
       "      <td>39.893085</td>\n",
       "    </tr>\n",
       "    <tr>\n",
       "      <th>1</th>\n",
       "      <td>Online</td>\n",
       "      <td>37335</td>\n",
       "      <td>3.515057e+06</td>\n",
       "      <td>25809</td>\n",
       "      <td>1.446588</td>\n",
       "      <td>94.149104</td>\n",
       "    </tr>\n",
       "  </tbody>\n",
       "</table>\n",
       "</div>"
      ],
      "text/plain": [
       "  store_type     trans         sales  customer_id_hashed  \\\n",
       "0    Instore  11837007  4.722147e+08             6103861   \n",
       "1     Online     37335  3.515057e+06               25809   \n",
       "\n",
       "   avg_trans_per_reward_id        AOV  \n",
       "0                 1.939265  39.893085  \n",
       "1                 1.446588  94.149104  "
      ]
     },
     "execution_count": 18,
     "metadata": {},
     "output_type": "execute_result"
    }
   ],
   "source": [
    "df_output_type_2018"
   ]
  },
  {
   "cell_type": "code",
   "execution_count": null,
   "metadata": {
    "collapsed": true
   },
   "outputs": [],
   "source": []
  },
  {
   "cell_type": "code",
   "execution_count": null,
   "metadata": {
    "collapsed": true
   },
   "outputs": [],
   "source": []
  },
  {
   "cell_type": "code",
   "execution_count": 19,
   "metadata": {},
   "outputs": [
    {
     "name": "stdout",
     "output_type": "stream",
     "text": [
      "df_2018_daily_Q2_later['week_end_dt'].min(): 2018-07-14\n",
      "df_2018_daily_Q2_later['week_end_dt'].max(): 2018-08-04\n"
     ]
    }
   ],
   "source": [
    "all_files_2018_daily_later=list(recurisve_file_gen(\"/home/jian/BigLots/2018_by_weeks/\"))\n",
    "all_files_2018_daily_later=[x for x in all_files_2018_daily if (\".txt\" in x) & (\"aily\" in x) ]\n",
    "df_2018_daily_later=pd.DataFrame({\"file_path\":all_files_2018_daily_later})\n",
    "df_2018_daily_later['week_end_dt']=df_2018_daily_later['file_path'].apply(lambda x: x.split(\"/2018_by_weeks/MediaStorm_\")[1][:10])\n",
    "\n",
    "df_2018_daily_Q2_later=df_2018_daily[(df_2018_daily_later['week_end_dt']>\"2018-07-07\") &\\\n",
    "                               (df_2018_daily_later['week_end_dt']<=\"2018-08-04\")]\n",
    "\n",
    "print(\"df_2018_daily_Q2_later['week_end_dt'].min(): \"+str(df_2018_daily_Q2_later['week_end_dt'].min()))\n",
    "print(\"df_2018_daily_Q2_later['week_end_dt'].max(): \"+str(df_2018_daily_Q2_later['week_end_dt'].max()))\n",
    "                        "
   ]
  },
  {
   "cell_type": "code",
   "execution_count": 20,
   "metadata": {
    "collapsed": true
   },
   "outputs": [],
   "source": [
    "# The whole Q2 2018 with 13 weeks\n",
    "for file in df_2018_daily_Q2_later['file_path'].tolist():\n",
    "    df=pd.read_table(file,dtype=str,sep=\"|\",\n",
    "                     usecols=['location_id','transaction_dt','transaction_id','customer_id_hashed','subclass_transaction_amt'])\n",
    "    df['subclass_transaction_amt']=df['subclass_transaction_amt'].astype(float)\n",
    "    df=df[pd.notnull(df['customer_id_hashed'])]\n",
    "    \n",
    "    df_trans=df[['location_id','transaction_dt','transaction_id','customer_id_hashed']].drop_duplicates()\n",
    "    df_trans=df_trans.groupby(['customer_id_hashed','location_id','transaction_dt'])['transaction_id'].count().to_frame().reset_index().rename(columns={\"transaction_id\":\"trans\"})\n",
    "    df_sales=df.groupby(['customer_id_hashed','location_id','transaction_dt'])['subclass_transaction_amt'].sum().to_frame().reset_index().rename(columns={\"subclass_transaction_amt\":\"sales\"})\n",
    "    \n",
    "    df=pd.merge(df_sales,df_trans,on=['customer_id_hashed','location_id','transaction_dt'],how=\"outer\")\n",
    "    df_Q2_rewards_trans_store_2018=df_Q2_rewards_trans_store_2018.append(df)\n"
   ]
  },
  {
   "cell_type": "code",
   "execution_count": 25,
   "metadata": {},
   "outputs": [
    {
     "data": {
      "text/html": [
       "<div>\n",
       "<style>\n",
       "    .dataframe thead tr:only-child th {\n",
       "        text-align: right;\n",
       "    }\n",
       "\n",
       "    .dataframe thead th {\n",
       "        text-align: left;\n",
       "    }\n",
       "\n",
       "    .dataframe tbody tr th {\n",
       "        vertical-align: top;\n",
       "    }\n",
       "</style>\n",
       "<table border=\"1\" class=\"dataframe\">\n",
       "  <thead>\n",
       "    <tr style=\"text-align: right;\">\n",
       "      <th></th>\n",
       "      <th>customer_id_hashed</th>\n",
       "      <th>location_id</th>\n",
       "      <th>trans</th>\n",
       "      <th>sales</th>\n",
       "      <th>both_type</th>\n",
       "    </tr>\n",
       "  </thead>\n",
       "  <tbody>\n",
       "    <tr>\n",
       "      <th>0</th>\n",
       "      <td>0000034fec3c2cbbf7a2b38fbf80d84abc72d8bed269c4...</td>\n",
       "      <td>1852</td>\n",
       "      <td>2</td>\n",
       "      <td>449.46</td>\n",
       "      <td>Both_Online_and_Instore</td>\n",
       "    </tr>\n",
       "    <tr>\n",
       "      <th>1</th>\n",
       "      <td>00000435bfb3bf42e3beb4c9b3942c552d09f0e49e5a75...</td>\n",
       "      <td>5116</td>\n",
       "      <td>7</td>\n",
       "      <td>117.99</td>\n",
       "      <td>Both_Online_and_Instore</td>\n",
       "    </tr>\n",
       "  </tbody>\n",
       "</table>\n",
       "</div>"
      ],
      "text/plain": [
       "                                  customer_id_hashed location_id  trans  \\\n",
       "0  0000034fec3c2cbbf7a2b38fbf80d84abc72d8bed269c4...        1852      2   \n",
       "1  00000435bfb3bf42e3beb4c9b3942c552d09f0e49e5a75...        5116      7   \n",
       "\n",
       "    sales                both_type  \n",
       "0  449.46  Both_Online_and_Instore  \n",
       "1  117.99  Both_Online_and_Instore  "
      ]
     },
     "execution_count": 25,
     "metadata": {},
     "output_type": "execute_result"
    }
   ],
   "source": [
    "df_Q2_rewards_trans_store_2018.head(2)"
   ]
  },
  {
   "cell_type": "code",
   "execution_count": 26,
   "metadata": {},
   "outputs": [],
   "source": [
    "df_Q2_rewards_trans_store_2018['store_type']=np.where(df_Q2_rewards_trans_store_2018['location_id']==\"6990\",\"Online\",\"Instore\")\n",
    "df_Q2_rewards_trans_type_2018=df_Q2_rewards_trans_store_2018.groupby(['customer_id_hashed','store_type'])['trans','sales'].sum().reset_index()\n",
    "df_Q2_rewards_trans_type_2018['both_type']=\"Both_Online_and_Instore\"\n",
    "\n",
    "\n",
    "agg_func_type={\"trans\":\"sum\",\"sales\":\"sum\",\"customer_id_hashed\":\"count\"}\n",
    "agg_func_both={\"trans\":\"sum\",\"sales\":\"sum\",\"customer_id_hashed\":\"nunique\"}\n",
    "\n",
    "df_output_type_2018_whole=df_Q2_rewards_trans_type_2018.groupby(['store_type'])['trans','sales','customer_id_hashed'].agg(agg_func_type).reset_index()\n",
    "df_output_both_2018_whole=df_Q2_rewards_trans_type_2018.groupby(['both_type'])['trans','sales','customer_id_hashed'].agg(agg_func_both).reset_index()\n",
    "\n",
    "df_output_type_2018_whole['avg_trans_per_reward_id']=df_output_type_2018_whole['trans']/df_output_type_2018_whole['customer_id_hashed']\n",
    "df_output_type_2018_whole['AOV']=df_output_type_2018_whole['sales']/df_output_type_2018_whole['trans']\n",
    "\n",
    "df_output_both_2018_whole['avg_trans_per_reward_id']=df_output_both_2018_whole['trans']/df_output_both_2018_whole['customer_id_hashed']\n",
    "df_output_both_2018_whole['AOV']=df_output_both_2018_whole['sales']/df_output_both_2018_whole['trans']\n"
   ]
  },
  {
   "cell_type": "code",
   "execution_count": 27,
   "metadata": {
    "collapsed": true
   },
   "outputs": [],
   "source": [
    "writer=pd.ExcelWriter(\"./BL_Q2_overall_9_weeks_18_19_rewards_trans_JL_\"+str(datetime.datetime.now().date())+\".xlsx\",engine=\"xlsxwriter\")\n",
    "\n",
    "df_output_type.to_excel(writer,\"online_and_instore_19_9W\",index=False)\n",
    "df_output_both.to_excel(writer,\"overall_19_9W\",index=False)\n",
    "\n",
    "df_output_type_2018.to_excel(writer,\"online_and_instore_18_9W\",index=False)\n",
    "df_output_both_2018.to_excel(writer,\"overall_18_9W\",index=False)\n",
    "\n",
    "df_output_type_2018_whole.to_excel(writer,\"online_and_instore_18_13W\",index=False)\n",
    "df_output_both_2018_whole.to_excel(writer,\"overall_18_13W\",index=False)\n",
    "\n",
    "writer.save()"
   ]
  },
  {
   "cell_type": "code",
   "execution_count": 28,
   "metadata": {},
   "outputs": [
    {
     "data": {
      "text/html": [
       "<div>\n",
       "<style>\n",
       "    .dataframe thead tr:only-child th {\n",
       "        text-align: right;\n",
       "    }\n",
       "\n",
       "    .dataframe thead th {\n",
       "        text-align: left;\n",
       "    }\n",
       "\n",
       "    .dataframe tbody tr th {\n",
       "        vertical-align: top;\n",
       "    }\n",
       "</style>\n",
       "<table border=\"1\" class=\"dataframe\">\n",
       "  <thead>\n",
       "    <tr style=\"text-align: right;\">\n",
       "      <th></th>\n",
       "      <th>customer_id_hashed</th>\n",
       "      <th>location_id</th>\n",
       "      <th>trans</th>\n",
       "      <th>sales</th>\n",
       "      <th>both_type</th>\n",
       "      <th>store_type</th>\n",
       "    </tr>\n",
       "  </thead>\n",
       "  <tbody>\n",
       "    <tr>\n",
       "      <th>0</th>\n",
       "      <td>0000034fec3c2cbbf7a2b38fbf80d84abc72d8bed269c4...</td>\n",
       "      <td>1852</td>\n",
       "      <td>2</td>\n",
       "      <td>449.46</td>\n",
       "      <td>Both_Online_and_Instore</td>\n",
       "      <td>Instore</td>\n",
       "    </tr>\n",
       "    <tr>\n",
       "      <th>1</th>\n",
       "      <td>00000435bfb3bf42e3beb4c9b3942c552d09f0e49e5a75...</td>\n",
       "      <td>5116</td>\n",
       "      <td>7</td>\n",
       "      <td>117.99</td>\n",
       "      <td>Both_Online_and_Instore</td>\n",
       "      <td>Instore</td>\n",
       "    </tr>\n",
       "  </tbody>\n",
       "</table>\n",
       "</div>"
      ],
      "text/plain": [
       "                                  customer_id_hashed location_id  trans  \\\n",
       "0  0000034fec3c2cbbf7a2b38fbf80d84abc72d8bed269c4...        1852      2   \n",
       "1  00000435bfb3bf42e3beb4c9b3942c552d09f0e49e5a75...        5116      7   \n",
       "\n",
       "    sales                both_type store_type  \n",
       "0  449.46  Both_Online_and_Instore    Instore  \n",
       "1  117.99  Both_Online_and_Instore    Instore  "
      ]
     },
     "execution_count": 28,
     "metadata": {},
     "output_type": "execute_result"
    }
   ],
   "source": [
    "df_Q2_rewards_trans_store_2018.head(2)"
   ]
  },
  {
   "cell_type": "code",
   "execution_count": null,
   "metadata": {
    "collapsed": true
   },
   "outputs": [],
   "source": []
  }
 ],
 "metadata": {
  "kernelspec": {
   "display_name": "Python 3",
   "language": "python",
   "name": "python3"
  },
  "language_info": {
   "codemirror_mode": {
    "name": "ipython",
    "version": 3
   },
   "file_extension": ".py",
   "mimetype": "text/x-python",
   "name": "python",
   "nbconvert_exporter": "python",
   "pygments_lexer": "ipython3",
   "version": "3.6.1"
  }
 },
 "nbformat": 4,
 "nbformat_minor": 2
}
