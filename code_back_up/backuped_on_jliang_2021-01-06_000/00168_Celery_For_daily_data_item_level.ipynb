{
 "cells": [
  {
   "cell_type": "code",
   "execution_count": 22,
   "metadata": {},
   "outputs": [],
   "source": [
    "# To change the \n",
    "\n",
    "import pandas as pd\n",
    "import numpy as np\n",
    "import datetime\n",
    "import os\n",
    "import glob\n",
    "import logging\n",
    "\n",
    "\n",
    "def recursive_file_gen(my_root_dir):\n",
    "    for root, dirs, files in os.walk(my_root_dir):\n",
    "        for file in files:\n",
    "            yield os.path.join(root, file)\n",
    "            \n",
    "logging.basicConfig(filename=\"Daily_Data_log.log\", level=logging.INFO)\n",
    "\n",
    "logging.info(\"Start at \"+str(datetime.datetime.now()))"
   ]
  },
  {
   "cell_type": "code",
   "execution_count": 23,
   "metadata": {},
   "outputs": [],
   "source": [
    "today_date=datetime.datetime.now().date()\n",
    "last_week_Saturday=today_date-datetime.timedelta(days=(today_date.weekday()+2))\n",
    "last_week_Saturday_str=str(last_week_Saturday)\n",
    "last_year_Saturday_str=str(today_date-datetime.timedelta(days=(today_date.weekday()+2+52*7)))\n"
   ]
  },
  {
   "cell_type": "code",
   "execution_count": 24,
   "metadata": {},
   "outputs": [],
   "source": [
    "write_folder=\"/home/jian/Projects/Big_Lots/celery_BL_daily_data/output/output_\"+last_week_Saturday_str+\"/\"\n",
    "try:\n",
    "    os.stat(write_folder)\n",
    "except:\n",
    "    os.mkdir(write_folder)"
   ]
  },
  {
   "cell_type": "code",
   "execution_count": 25,
   "metadata": {},
   "outputs": [],
   "source": [
    "# Checking for the recent weeks that haven't moved to the folder\n",
    "possible_recent_folders=\"/home/jian/BigLots/MediaStorm_\"+last_week_Saturday_str+\"/\"\n",
    "daily_data_recent=[x for x in list(recursive_file_gen(possible_recent_folders)) if (\"aily\" in x) & (\".txt\" in x)]\n",
    "\n",
    "archived_folders_2018=\"/home/jian/BigLots/2018_by_weeks/MediaStorm_\"+last_week_Saturday_str+\"/\"\n",
    "daily_data_2018_achived=[x for x in list(recursive_file_gen(archived_folders_2018)) if (\"aily\" in x) & (\".txt\" in x)]\n",
    "\n",
    "archived_folders_2019=\"/home/jian/BigLots/2019_by_weeks/MediaStorm_\"+last_week_Saturday_str+\"/\"\n",
    "daily_data_2019_achived=[x for x in list(recursive_file_gen(archived_folders_2019)) if (\"aily\" in x) & (\".txt\" in x)]\n",
    "\n",
    "daily_data_list=daily_data_recent+daily_data_2018_achived+daily_data_2019_achived\n",
    "if len(daily_data_list)!=1:\n",
    "    logging.info(\"Error of Daily Sales Data Path\")\n",
    "else:\n",
    "    daily_data_path_this_year=daily_data_list[0]"
   ]
  },
  {
   "cell_type": "code",
   "execution_count": 26,
   "metadata": {
    "collapsed": true
   },
   "outputs": [],
   "source": [
    "daily_data_list_hist=glob.glob(\"/home/jian/BigLots/hist_daily_data/*.txt\")\n",
    "daily_data_list_hist=[x for x in daily_data_list_hist if (last_year_Saturday_str in x)&(\"DailySales\" in x)]\n",
    "if len(daily_data_list_hist)!=1:\n",
    "    logging.info(\"Error of Daily Sales Data Path\")\n",
    "else:\n",
    "    daily_data_path_last_year=daily_data_list_hist[0]"
   ]
  },
  {
   "cell_type": "code",
   "execution_count": null,
   "metadata": {
    "collapsed": true
   },
   "outputs": [],
   "source": []
  },
  {
   "cell_type": "code",
   "execution_count": 27,
   "metadata": {},
   "outputs": [
    {
     "data": {
      "text/plain": [
       "(1363, 2)"
      ]
     },
     "execution_count": 27,
     "metadata": {},
     "output_type": "execute_result"
    }
   ],
   "source": [
    "Df_2018Q3_Quadrant=pd.read_excel(\"/home/jian/Projects/Big_Lots/Analysis/2019_Q1/BL_Excutive_Dashboard/Excel_BL_data_for_2018Q3_Quadrants_JL_2018-12-04_Q2Scale.xlsx\",\n",
    "                                 dype=str,sheetname=\"2018_Q3_Quadrants\",usecols=['location_id','Quadrant in Graph 1-2'])\n",
    "Df_2018Q3_Quadrant=Df_2018Q3_Quadrant[['location_id','Quadrant in Graph 1-2']].rename(columns={\"Quadrant in Graph 1-2\":\"Quadrant\"})\n",
    "Df_2018Q3_Quadrant['location_id']=Df_2018Q3_Quadrant['location_id'].astype(str)\n",
    "Df_2018Q3_Quadrant.shape"
   ]
  },
  {
   "cell_type": "code",
   "execution_count": 28,
   "metadata": {
    "collapsed": true
   },
   "outputs": [],
   "source": [
    "def count_unique_id(x):\n",
    "    return len(set(x))\n"
   ]
  },
  {
   "cell_type": "code",
   "execution_count": 29,
   "metadata": {
    "collapsed": true
   },
   "outputs": [],
   "source": [
    "def agg_daily_data_by_store(file_path_daily):\n",
    "    df=pd.read_table(file_path_daily,dtype=str,sep=\"|\",usecols=['location_id','transaction_dt','transaction_id','customer_id_hashed','subclass_transaction_amt'])\n",
    "    df=df[df['location_id']!=\"6990\"] # 6990 removed\n",
    "    df['subclass_transaction_amt']=df['subclass_transaction_amt'].astype(float)\n",
    "    df['Reward_Level']=np.where(pd.isnull(df['customer_id_hashed']),\"Non_Rewards\",\"Rewards\")\n",
    "    \n",
    "    print(\"Total_Sales:\",df['subclass_transaction_amt'].sum())\n",
    "    df_sales=df.groupby(['location_id','Reward_Level'])['subclass_transaction_amt'].sum().to_frame().reset_index().rename(columns={\"subclass_transaction_amt\":\"Sales\"})\n",
    "    df_trans=df[['location_id','transaction_dt','transaction_id','customer_id_hashed','Reward_Level']].drop_duplicates().groupby(['location_id','Reward_Level'])['transaction_id'].count().to_frame().reset_index().rename(columns={\"transaction_id\":\"Transactions\"})\n",
    "    \n",
    "    df=df[df['Reward_Level']==\"Rewards\"]\n",
    "    df_ids=df.groupby(['location_id','Reward_Level'])['customer_id_hashed'].agg(count_unique_id).to_frame().reset_index().rename(columns={\"customer_id_hashed\":\"shopped_unique_ids_in_the_week\"})\n",
    "    \n",
    "    df=pd.merge(df_sales,df_trans,on=[\"location_id\",'Reward_Level'],how=\"outer\")\n",
    "    df=pd.merge(df,df_ids,on=[\"location_id\",'Reward_Level'],how=\"outer\")\n",
    "    \n",
    "    return df"
   ]
  },
  {
   "cell_type": "code",
   "execution_count": 30,
   "metadata": {},
   "outputs": [
    {
     "name": "stdout",
     "output_type": "stream",
     "text": [
      "Total_Sales: 80218757.31\n",
      "Total_Sales: 67199440.68\n"
     ]
    }
   ],
   "source": [
    "df_daily_this_year_by_store=agg_daily_data_by_store(daily_data_path_this_year)\n",
    "df_daily_last_year_by_store=agg_daily_data_by_store(daily_data_path_last_year)\n"
   ]
  },
  {
   "cell_type": "code",
   "execution_count": null,
   "metadata": {
    "collapsed": true
   },
   "outputs": [],
   "source": [
    "last_week_daily_for_Bing=pd.read_table(daily_data_path_this_year,dtype=str,sep=\"|\",usecols=['location_id','transaction_dt','transaction_id','customer_id_hashed','subclass_transaction_amt'])\n",
    "\n",
    "\n",
    "\n"
   ]
  }
 ],
 "metadata": {
  "kernelspec": {
   "display_name": "Python 3",
   "language": "python",
   "name": "python3"
  },
  "language_info": {
   "codemirror_mode": {
    "name": "ipython",
    "version": 3
   },
   "file_extension": ".py",
   "mimetype": "text/x-python",
   "name": "python",
   "nbconvert_exporter": "python",
   "pygments_lexer": "ipython3",
   "version": "3.6.1"
  }
 },
 "nbformat": 4,
 "nbformat_minor": 2
}
