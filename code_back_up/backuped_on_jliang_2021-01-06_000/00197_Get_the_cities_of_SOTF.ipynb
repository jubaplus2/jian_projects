{
 "cells": [
  {
   "cell_type": "code",
   "execution_count": 1,
   "metadata": {
    "collapsed": true
   },
   "outputs": [],
   "source": [
    "import pandas as pd\n",
    "import numpy as np\n",
    "import datetime\n",
    "import os\n",
    "import json\n",
    "from haversine import haversine\n",
    "\n",
    "zip_centers=json.load(open(\"/home/jian/Docs/Geo_mapping/updated_zip_centers_JL_2019-05-23.json\",\"r\"))"
   ]
  },
  {
   "cell_type": "code",
   "execution_count": 2,
   "metadata": {},
   "outputs": [
    {
     "data": {
      "text/plain": [
       "451"
      ]
     },
     "execution_count": 2,
     "metadata": {},
     "output_type": "execute_result"
    }
   ],
   "source": [
    "# Use the SOTF from Bruce on 0927\n",
    "df_SOTF_number=pd.ExcelFile(\"/home/jian/Projects/Big_Lots/Analysis/2019_Q3/Planner_request/Maggie_cities_for_SOTF_20190927/BL SOTF as of Sep 27 2019 BR.xlsx\")\n",
    "# set_SOTF_number.sheet_names\n",
    "df_SOTF_number=df_SOTF_number.parse(\"SOTF pre 9-27-19 (451)\",dtype=str)\n",
    "df_SOTF_number['Open Date']=pd.to_datetime(df_SOTF_number['Open Date']).dt.date\n",
    "\n",
    "\n",
    "df_SOTF_number=df_SOTF_number[(df_SOTF_number['SOTF']==\"Yes\") & (pd.notnull(df_SOTF_number['Open Date']))]\n",
    "df_SOTF_number=df_SOTF_number[df_SOTF_number['Open Date']<=datetime.date(2019,10,1)]\n",
    "df_SOTF_number=df_SOTF_number[df_SOTF_number['Store'].apply(lambda x: x.isdigit())]\n",
    "SOTF_list=df_SOTF_number['Store'].unique().tolist()\n",
    "len(SOTF_list)"
   ]
  },
  {
   "cell_type": "code",
   "execution_count": 3,
   "metadata": {},
   "outputs": [],
   "source": [
    "store_list=pd.read_table(\"/home/jian/BigLots/static_files/Store_list/MediaStormStores20190901-135942-508.txt\",\n",
    "                        sep=\"|\",dtype=str)\n",
    "store_list=store_list[store_list['location_id'].isin(SOTF_list)]"
   ]
  },
  {
   "cell_type": "code",
   "execution_count": 4,
   "metadata": {},
   "outputs": [
    {
     "data": {
      "text/plain": [
       "['4678', '4702', '4703', '4705', '4706', '5402', '5407']"
      ]
     },
     "execution_count": 4,
     "metadata": {},
     "output_type": "execute_result"
    }
   ],
   "source": [
    "[x for x in SOTF_list if x not in store_list['location_id'].tolist()]"
   ]
  },
  {
   "cell_type": "code",
   "execution_count": 5,
   "metadata": {
    "collapsed": true
   },
   "outputs": [],
   "source": [
    "Google_Address=dict()\n",
    "\n",
    "#'4678' 4678 \t3501 EAST LINCOLNWAY\tCHEYENNE PLAZA\tCHEYENNE\tWY\t82001-6302\n",
    "Google_Address.update({\"4678\":{\"address\":\"3501 E Lincolnway, Cheyenne, WY 82001\",\"coor\":[41.1370665,-104.7673948]}})\n",
    "\n",
    "#'4702' 4702 \t6375 MONTANA AVENUE\tKMART SHOPPING CENTER\tEL PASO\tTX\t79925-2044\n",
    "Google_Address.update({\"4702\":{\"address\":\"6375 Montana Ave, El Paso, TX 79925\",\"coor\":[31.7898615,-106.4049886]}})\n",
    "\n",
    "#'4703' 4703 \t7370 NORTH BLACKSTONE AVENUE\t\tFRESNO\tCA\t93650-1231\n",
    "Google_Address.update({\"4703\":{\"address\":\"7370 N Blackstone Ave, Fresno, CA 93650\",\"coor\":[36.8439621,-119.7892021]}})\n",
    "\n",
    "#'4705' 4705 \t370 AUTO CENTER CIRCLE\tNORTHRIDGE MALL\tSALINAS\tCA\t93907\n",
    "Google_Address.update({\"4705\":{\"address\":\"370 Auto Center Cir, Salinas, CA 93906\",\"coor\":[36.7148566,-121.6607111]}})\n",
    "\n",
    "#'4706' 4706 \t3170 CHILI AVE UNIT # T5\tCHILI PLAZA\tROCHESTER\tNY\t14624-5410\n",
    "Google_Address.update({\"4706\":{\"address\":\"3170 Chili Ave T5, Rochester, NY 14624\",\"coor\":[43.1085526,-77.7466991]}})\n",
    "\n",
    "#'5402' 5402 \t14603 TELEGRAPH ROAD\tTOYS R US CENTER\tWOODBRIDGE\tVA\t22192-4601\n",
    "Google_Address.update({\"5402\":{\"address\":\"14603 Telegraph Rd, Woodbridge, VA 22194\",\"coor\":[38.6373886,-77.2914399]}})\n",
    "\n",
    "#'5407' 5407 \t14154 EAST WADE HAMPTON BLVD\tCOLLINS CENTER\tGREER\tSC\t29651-1554\n",
    "Google_Address.update({\"5407\":{\"address\":\"14154 E Wade Hampton Blvd, Greer, SC 29651\",\"coor\":[34.9489239,-82.211875]}})\n",
    "\n"
   ]
  },
  {
   "cell_type": "code",
   "execution_count": 6,
   "metadata": {},
   "outputs": [
    {
     "name": "stdout",
     "output_type": "stream",
     "text": [
      "['unique_zips_full_footprint', 'view_by_TA', 'view_by_store', 'view_for_Tableau']\n"
     ]
    }
   ],
   "source": [
    "stores_zip_labels=pd.ExcelFile(\"/home/jian/Projects/Big_Lots/New_TA/TA_created_in_201906/final_output_20190718/BL_final_TA_updated_JL_2019-07-18.xlsx\")\n",
    "print(stores_zip_labels.sheet_names)\n",
    "\n",
    "stores_zip_labels=stores_zip_labels.parse(\"view_by_store\",dtype=str)\n",
    "stores_zip_labels=stores_zip_labels[stores_zip_labels['location_id'].isin(SOTF_list)]\n",
    "stores_zip_labels['all_trans_P_zips']=stores_zip_labels['all_trans_P_zips'].apply(eval)\n",
    "stores_zip_labels['all_trans_S_zips']=stores_zip_labels['all_trans_S_zips'].apply(eval)\n",
    "stores_zip_labels['zips_in_10']=stores_zip_labels['zips_in_10'].apply(eval)\n"
   ]
  },
  {
   "cell_type": "code",
   "execution_count": 7,
   "metadata": {},
   "outputs": [],
   "source": [
    "old_sotf_df=pd.DataFrame()\n",
    "\n",
    "for ind,row in stores_zip_labels.iterrows():\n",
    "    store_id=row['location_id']\n",
    "    df_P=pd.DataFrame({\"zip_cd\":row['all_trans_P_zips']},index=[\"P\"]*len(row['all_trans_P_zips']))\n",
    "    df_S=pd.DataFrame({\"zip_cd\":row['all_trans_S_zips']},index=[\"S\"]*len(row['all_trans_S_zips']))\n",
    "    df_10=pd.DataFrame({\"zip_cd\":row['zips_in_10']},index=[\"zips_in_10\"]*len(row['zips_in_10']))\n",
    "    df_store=pd.concat([df_P,df_S,df_10])\n",
    "    df_store['location_id']=store_id\n",
    "    df_store=df_store.reset_index().rename(columns={\"index\":\"trans_flag\"})\n",
    "    old_sotf_df=old_sotf_df.append(df_store)"
   ]
  },
  {
   "cell_type": "code",
   "execution_count": 9,
   "metadata": {},
   "outputs": [
    {
     "data": {
      "text/plain": [
       "4726"
      ]
     },
     "execution_count": 9,
     "metadata": {},
     "output_type": "execute_result"
    }
   ],
   "source": [
    "old_sotf_df['zip_cd'].nunique()"
   ]
  },
  {
   "cell_type": "code",
   "execution_count": 10,
   "metadata": {},
   "outputs": [
    {
     "data": {
      "text/plain": [
       "(2044, 3)"
      ]
     },
     "execution_count": 10,
     "metadata": {},
     "output_type": "execute_result"
    }
   ],
   "source": [
    "old_sotf_df[old_sotf_df['trans_flag']!=\"S\"].shape"
   ]
  },
  {
   "cell_type": "code",
   "execution_count": 11,
   "metadata": {},
   "outputs": [],
   "source": [
    "new_sotf=[x for x in SOTF_list if x not in stores_zip_labels['location_id'].tolist()]"
   ]
  },
  {
   "cell_type": "code",
   "execution_count": 12,
   "metadata": {},
   "outputs": [],
   "source": [
    "new_sotf_df=pd.DataFrame({\"location_id\":new_sotf})\n",
    "new_sotf_df=pd.merge(new_sotf_df,store_list,on=\"location_id\",how=\"left\")\n",
    "new_sotf_df=new_sotf_df[['location_id','latitude_meas','longitude_meas']]\n",
    "new_sotf_df['latitude_meas']=new_sotf_df['latitude_meas'].astype(float)\n",
    "new_sotf_df['longitude_meas']=new_sotf_df['longitude_meas'].astype(float)\n",
    "new_sotf_df['latitude_meas']=new_sotf_df['location_id'].apply(lambda x: Google_Address[x]['coor'][0] if x in Google_Address.keys() else new_sotf_df.loc[new_sotf_df[\"location_id\"]==x,\"latitude_meas\"].values[0])\n",
    "new_sotf_df['longitude_meas']=new_sotf_df['location_id'].apply(lambda x: Google_Address[x]['coor'][1] if x in Google_Address.keys() else new_sotf_df.loc[new_sotf_df[\"location_id\"]==x,\"longitude_meas\"].values[0])\n",
    "new_sotf_df=new_sotf_df.reset_index()\n",
    "del new_sotf_df['index']"
   ]
  },
  {
   "cell_type": "code",
   "execution_count": 13,
   "metadata": {},
   "outputs": [],
   "source": [
    "new_store_zips=pd.DataFrame()\n",
    "for ind, row in new_sotf_df.iterrows():\n",
    "    store_center=(row['latitude_meas'],row['longitude_meas'])\n",
    "\n",
    "    for zip_cd,zip_coor in zip_centers.items():\n",
    "        dist=haversine(store_center,zip_coor,miles=True)\n",
    "        if dist<=10:\n",
    "            df=pd.DataFrame({\"zip_cd\":zip_cd},index=[row['location_id']])\n",
    "            df=df.reset_index().rename(columns={\"index\":\"location_id\"})\n",
    "            new_store_zips=new_store_zips.append(df)\n",
    "new_store_zips['trans_flag']=\"zips_in_10\""
   ]
  },
  {
   "cell_type": "code",
   "execution_count": 16,
   "metadata": {
    "collapsed": true
   },
   "outputs": [],
   "source": [
    "df_output=new_store_zips.append(old_sotf_df)\n",
    "df_output_no_S=df_output[df_output['trans_flag']!=\"S\"]"
   ]
  },
  {
   "cell_type": "code",
   "execution_count": 17,
   "metadata": {
    "collapsed": true
   },
   "outputs": [],
   "source": [
    "df_unique_zip_all=df_output[['zip_cd']].drop_duplicates()\n",
    "df_unique_zip_P_10=df_output_no_S[['zip_cd']].drop_duplicates()\n"
   ]
  },
  {
   "cell_type": "code",
   "execution_count": 18,
   "metadata": {},
   "outputs": [],
   "source": [
    "writer=pd.ExcelWriter(\"./BL_zips_for_SOTF_JL_\"+str(datetime.datetime.now().date())+\".xlsx\",engine=\"xlsxwriter\")\n",
    "df_unique_zip_P_10.to_excel(writer,\"unique_zip_P_or_10new\",index=False)\n",
    "df_unique_zip_all.to_excel(writer,\"unique_zip_all_SOTF\",index=False)\n",
    "df_output_no_S.to_excel(writer,\"zip_SOTF_no_S\",index=False)\n",
    "df_output.to_excel(writer,\"zip_SOTF_all\",index=False)\n",
    "writer.save()"
   ]
  },
  {
   "cell_type": "code",
   "execution_count": null,
   "metadata": {
    "collapsed": true
   },
   "outputs": [],
   "source": []
  }
 ],
 "metadata": {
  "kernelspec": {
   "display_name": "Python 3",
   "language": "python",
   "name": "python3"
  },
  "language_info": {
   "codemirror_mode": {
    "name": "ipython",
    "version": 3
   },
   "file_extension": ".py",
   "mimetype": "text/x-python",
   "name": "python",
   "nbconvert_exporter": "python",
   "pygments_lexer": "ipython3",
   "version": "3.6.1"
  }
 },
 "nbformat": 4,
 "nbformat_minor": 2
}
