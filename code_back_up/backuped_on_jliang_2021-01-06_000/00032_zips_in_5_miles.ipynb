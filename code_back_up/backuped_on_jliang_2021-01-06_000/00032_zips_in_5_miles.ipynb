{
 "cells": [
  {
   "cell_type": "code",
   "execution_count": 1,
   "metadata": {},
   "outputs": [
    {
     "data": {
      "text/plain": [
       "'/home/jian/Projects/Research_zip_request/PlanetFitness_20190104'"
      ]
     },
     "execution_count": 1,
     "metadata": {},
     "output_type": "execute_result"
    }
   ],
   "source": [
    "import pandas as pd\n",
    "from haversine import haversine\n",
    "import numpy as np\n",
    "import datetime\n",
    "import os\n",
    "import json\n",
    "os.getcwd()"
   ]
  },
  {
   "cell_type": "code",
   "execution_count": 2,
   "metadata": {},
   "outputs": [
    {
     "data": {
      "text/html": [
       "<div>\n",
       "<style>\n",
       "    .dataframe thead tr:only-child th {\n",
       "        text-align: right;\n",
       "    }\n",
       "\n",
       "    .dataframe thead th {\n",
       "        text-align: left;\n",
       "    }\n",
       "\n",
       "    .dataframe tbody tr th {\n",
       "        vertical-align: top;\n",
       "    }\n",
       "</style>\n",
       "<table border=\"1\" class=\"dataframe\">\n",
       "  <thead>\n",
       "    <tr style=\"text-align: right;\">\n",
       "      <th></th>\n",
       "      <th>list_name</th>\n",
       "      <th>store_name</th>\n",
       "      <th>address</th>\n",
       "      <th>city</th>\n",
       "      <th>state</th>\n",
       "      <th>zip_code</th>\n",
       "      <th>DMA</th>\n",
       "      <th>phone_number</th>\n",
       "      <th>latitude</th>\n",
       "      <th>longitude</th>\n",
       "      <th>Census Region</th>\n",
       "    </tr>\n",
       "  </thead>\n",
       "  <tbody>\n",
       "    <tr>\n",
       "      <th>0</th>\n",
       "      <td>Planet Fitness</td>\n",
       "      <td>Belchertown, MA</td>\n",
       "      <td>40 Turkey Hill Road</td>\n",
       "      <td>Belchertown</td>\n",
       "      <td>MA</td>\n",
       "      <td>01007</td>\n",
       "      <td>SPRINGFIELD-HOLYOKE</td>\n",
       "      <td>(413) 323-1003</td>\n",
       "      <td>42.2654754</td>\n",
       "      <td>-72.4209138</td>\n",
       "      <td>Northeast</td>\n",
       "    </tr>\n",
       "    <tr>\n",
       "      <th>1</th>\n",
       "      <td>Planet Fitness</td>\n",
       "      <td>Chicopee, MA</td>\n",
       "      <td>1183 Memorial Dr</td>\n",
       "      <td>Chicopee</td>\n",
       "      <td>MA</td>\n",
       "      <td>01020</td>\n",
       "      <td>SPRINGFIELD-HOLYOKE</td>\n",
       "      <td>(413) 593-5566</td>\n",
       "      <td>42.1897195</td>\n",
       "      <td>-72.5761129</td>\n",
       "      <td>Northeast</td>\n",
       "    </tr>\n",
       "  </tbody>\n",
       "</table>\n",
       "</div>"
      ],
      "text/plain": [
       "        list_name       store_name              address         city state  \\\n",
       "0  Planet Fitness  Belchertown, MA  40 Turkey Hill Road  Belchertown    MA   \n",
       "1  Planet Fitness     Chicopee, MA     1183 Memorial Dr     Chicopee    MA   \n",
       "\n",
       "  zip_code                 DMA     phone_number    latitude    longitude  \\\n",
       "0    01007  SPRINGFIELD-HOLYOKE  (413) 323-1003  42.2654754  -72.4209138   \n",
       "1    01020  SPRINGFIELD-HOLYOKE  (413) 593-5566  42.1897195  -72.5761129   \n",
       "\n",
       "  Census Region  \n",
       "0     Northeast  \n",
       "1     Northeast  "
      ]
     },
     "execution_count": 2,
     "metadata": {},
     "output_type": "execute_result"
    }
   ],
   "source": [
    "zip_centers=json.load(open(\"/home/jian/Docs/Geo_mapping/center_of_rentrak_zip.json\"))\n",
    "input_address=pd.read_excel(\"/home/jian/Projects/Research_zip_request/PlanetFitness_20190104/Planet Fitness Locations.xlsx\",dtype=str)\n",
    "\n",
    "input_address.head(2)"
   ]
  },
  {
   "cell_type": "code",
   "execution_count": 3,
   "metadata": {},
   "outputs": [
    {
     "name": "stderr",
     "output_type": "stream",
     "text": [
      "/usr/local/lib/python3.6/site-packages/ipykernel_launcher.py:26: SettingWithCopyWarning: \n",
      "A value is trying to be set on a copy of a slice from a DataFrame\n",
      "\n",
      "See the caveats in the documentation: http://pandas.pydata.org/pandas-docs/stable/indexing.html#indexing-view-versus-copy\n",
      "/usr/local/lib/python3.6/site-packages/pandas/core/indexing.py:179: SettingWithCopyWarning: \n",
      "A value is trying to be set on a copy of a slice from a DataFrame\n",
      "\n",
      "See the caveats in the documentation: http://pandas.pydata.org/pandas-docs/stable/indexing.html#indexing-view-versus-copy\n",
      "  self._setitem_with_indexer(indexer, value)\n"
     ]
    }
   ],
   "source": [
    "input_address['zip_list_in_5_miles']=np.nan\n",
    "address_zips_long=pd.DataFrame()\n",
    "for i in range(len(input_address)):\n",
    "    store_zip_list=[input_address['zip_code'][i].zfill(5)]\n",
    "    store_lat=float(input_address['latitude'][i])\n",
    "    store_lng=float(input_address['longitude'][i])\n",
    "    store_center=[store_lat,store_lng]\n",
    "    df_long_0=input_address.iloc[i,:].to_frame().T\n",
    "    df_long_0['zip_cd_5_miles']=input_address['zip_code'][i]\n",
    "    df_long_0['distance']=\"Store_Zip\"\n",
    "    \n",
    "    \n",
    "    for zip_cd in zip_centers.keys():\n",
    "        dist=haversine(store_center,zip_centers[zip_cd],miles=True)\n",
    "        if dist<=5:\n",
    "            store_zip_list=store_zip_list+[zip_cd]\n",
    "            df_long=input_address.iloc[i,:].to_frame().T\n",
    "            df_long['zip_cd_5_miles']=zip_cd\n",
    "            df_long['distance']=dist\n",
    "            df_long_0=df_long_0.append(df_long)\n",
    "            \n",
    "            \n",
    "    address_zips_long=address_zips_long.append(df_long_0,ignore_index=True)\n",
    "    \n",
    "    store_zip_list=list(set(store_zip_list))\n",
    "    input_address['zip_list_in_5_miles'][i]=store_zip_list\n",
    "    \n",
    "    \n",
    "    "
   ]
  },
  {
   "cell_type": "code",
   "execution_count": 4,
   "metadata": {
    "collapsed": true
   },
   "outputs": [],
   "source": [
    "writer=pd.ExcelWriter(\"/home/jian/Projects/Research_zip_request/PlanetFitness_20190104/Planet Fitness Locations with Zips_JL_\"+str(datetime.datetime.now().date())+\".xlsx\",engine=\"xlsxwriter\")\n",
    "input_address.to_excel(writer,\"address_with_zip_list\",index=False)\n",
    "address_zips_long.to_excel(writer,\"zips_in_5_miles\",index=False)\n",
    "writer.save()\n"
   ]
  },
  {
   "cell_type": "code",
   "execution_count": 5,
   "metadata": {},
   "outputs": [
    {
     "data": {
      "text/plain": [
       "(20183, 14)"
      ]
     },
     "execution_count": 5,
     "metadata": {},
     "output_type": "execute_result"
    }
   ],
   "source": [
    "address_zips_long.shape"
   ]
  },
  {
   "cell_type": "code",
   "execution_count": 7,
   "metadata": {},
   "outputs": [
    {
     "data": {
      "text/plain": [
       "array([5])"
      ]
     },
     "execution_count": 7,
     "metadata": {},
     "output_type": "execute_result"
    }
   ],
   "source": [
    "input_address['zip_code'].apply(lambda x: len(x)).unique()"
   ]
  },
  {
   "cell_type": "code",
   "execution_count": 8,
   "metadata": {},
   "outputs": [
    {
     "data": {
      "text/plain": [
       "(1578, 12)"
      ]
     },
     "execution_count": 8,
     "metadata": {},
     "output_type": "execute_result"
    }
   ],
   "source": [
    "input_address.shape"
   ]
  },
  {
   "cell_type": "code",
   "execution_count": null,
   "metadata": {
    "collapsed": true
   },
   "outputs": [],
   "source": []
  }
 ],
 "metadata": {
  "kernelspec": {
   "display_name": "Python 3",
   "language": "python",
   "name": "python3"
  },
  "language_info": {
   "codemirror_mode": {
    "name": "ipython",
    "version": 3
   },
   "file_extension": ".py",
   "mimetype": "text/x-python",
   "name": "python",
   "nbconvert_exporter": "python",
   "pygments_lexer": "ipython3",
   "version": "3.6.1"
  }
 },
 "nbformat": 4,
 "nbformat_minor": 2
}
