{
 "cells": [
  {
   "cell_type": "code",
   "execution_count": 1,
   "metadata": {
    "collapsed": true
   },
   "outputs": [],
   "source": [
    "# Task 1: YoY Q1 to end of sep for rewards, non-rewards\n",
    "# Task 2: transaction percentile group movement\n",
    "\n",
    "import pandas as pd\n",
    "import os\n",
    "import numpy as np\n",
    "import datetime\n",
    "import gc"
   ]
  },
  {
   "cell_type": "code",
   "execution_count": 2,
   "metadata": {},
   "outputs": [
    {
     "data": {
      "text/plain": [
       "3"
      ]
     },
     "execution_count": 2,
     "metadata": {},
     "output_type": "execute_result"
    }
   ],
   "source": [
    "1+2"
   ]
  },
  {
   "cell_type": "code",
   "execution_count": 3,
   "metadata": {
    "collapsed": true
   },
   "outputs": [],
   "source": [
    "rewards_sales_1=pd.read_csv(\"/home/jian/Projects/Big_Lots/Loyal_members/loyalty_sales_data/From_Sp/combinedtransactions_0811.csv\",\n",
    "                            dtype=str,usecols=['customer_id_hashed','transaction_date','transaction_id','location_id','total_transaction_amt'])\n",
    "rewards_sales_1['transaction_date']=rewards_sales_1['transaction_date'].apply(lambda x: datetime.datetime.strptime(x,\"%Y-%m-%d\").date())\n",
    "# rewards_sales_1=rewards_sales_1[rewards_sales_1['transaction_date']>=datetime.date(2017,2,1)]\n",
    "rewards_sales_1=rewards_sales_1.drop_duplicates()\n",
    "rewards_sales_1=rewards_sales_1[rewards_sales_1['location_id']!=\"6990\"]"
   ]
  },
  {
   "cell_type": "code",
   "execution_count": 3,
   "metadata": {
    "collapsed": true
   },
   "outputs": [],
   "source": [
    "# QC rewards sales by day\n",
    "\n",
    "rewards_sales_1_2017=rewards_sales_1[(rewards_sales_1['transaction_date']>=datetime.date(2017,3,1)) & (rewards_sales_1['transaction_date']<=datetime.date(2017,4,30))]\n",
    "rewards_sales_1_2018=rewards_sales_1[(rewards_sales_1['transaction_date']>=datetime.date(2018,3,1)) & (rewards_sales_1['transaction_date']<=datetime.date(2018,4,30))]\n",
    "rewards_sales_1_2017['total_transaction_amt']=rewards_sales_1_2017['total_transaction_amt'].astype(float)\n",
    "rewards_sales_1_2018['total_transaction_amt']=rewards_sales_1_2018['total_transaction_amt'].astype(float)"
   ]
  },
  {
   "cell_type": "code",
   "execution_count": 4,
   "metadata": {},
   "outputs": [
    {
     "data": {
      "text/plain": [
       "'999.99'"
      ]
     },
     "execution_count": 4,
     "metadata": {},
     "output_type": "execute_result"
    }
   ],
   "source": [
    "rewards_sales_1_2017['total_transaction_amt'].max()"
   ]
  },
  {
   "cell_type": "code",
   "execution_count": 6,
   "metadata": {},
   "outputs": [
    {
     "data": {
      "text/plain": [
       "-480986.28000000003"
      ]
     },
     "execution_count": 6,
     "metadata": {},
     "output_type": "execute_result"
    }
   ],
   "source": [
    "rewards_sales_1_2017['total_transaction_amt'].min()"
   ]
  },
  {
   "cell_type": "code",
   "execution_count": 7,
   "metadata": {},
   "outputs": [
    {
     "data": {
      "text/plain": [
       "8685.1800000000003"
      ]
     },
     "execution_count": 7,
     "metadata": {},
     "output_type": "execute_result"
    }
   ],
   "source": [
    "rewards_sales_1_2018['total_transaction_amt'].max()"
   ]
  },
  {
   "cell_type": "code",
   "execution_count": 8,
   "metadata": {},
   "outputs": [
    {
     "data": {
      "text/plain": [
       "-4968.7399999999998"
      ]
     },
     "execution_count": 8,
     "metadata": {},
     "output_type": "execute_result"
    }
   ],
   "source": [
    "rewards_sales_1_2018['total_transaction_amt'].min()"
   ]
  },
  {
   "cell_type": "code",
   "execution_count": 4,
   "metadata": {},
   "outputs": [
    {
     "name": "stderr",
     "output_type": "stream",
     "text": [
      "/usr/local/lib/python3.6/site-packages/ipykernel_launcher.py:1: SettingWithCopyWarning: \n",
      "A value is trying to be set on a copy of a slice from a DataFrame.\n",
      "Try using .loc[row_indexer,col_indexer] = value instead\n",
      "\n",
      "See the caveats in the documentation: http://pandas.pydata.org/pandas-docs/stable/indexing.html#indexing-view-versus-copy\n",
      "  \"\"\"Entry point for launching an IPython kernel.\n",
      "/usr/local/lib/python3.6/site-packages/ipykernel_launcher.py:2: SettingWithCopyWarning: \n",
      "A value is trying to be set on a copy of a slice from a DataFrame.\n",
      "Try using .loc[row_indexer,col_indexer] = value instead\n",
      "\n",
      "See the caveats in the documentation: http://pandas.pydata.org/pandas-docs/stable/indexing.html#indexing-view-versus-copy\n",
      "  \n"
     ]
    }
   ],
   "source": [
    "\n",
    "\n",
    "qc_rewards_sales_1_2017=rewards_sales_1_2017.groupby(['location_id','transaction_date'])['total_transaction_amt'].sum().to_frame().reset_index()\n",
    "qc_rewards_sales_1_2018=rewards_sales_1_2018.groupby(['location_id','transaction_date'])['total_transaction_amt'].sum().to_frame().reset_index()\n",
    "\n"
   ]
  },
  {
   "cell_type": "code",
   "execution_count": 5,
   "metadata": {
    "collapsed": true
   },
   "outputs": [],
   "source": [
    "qc_rewards_sales_1_2017_wide=qc_rewards_sales_1_2017.pivot(index=\"location_id\",columns=\"transaction_date\",values=\"total_transaction_amt\")\n",
    "qc_rewards_sales_1_2018_wide=qc_rewards_sales_1_2018.pivot(index=\"location_id\",columns=\"transaction_date\",values=\"total_transaction_amt\")\n",
    "qc_rewards_sales_1_2017_wide=qc_rewards_sales_1_2017_wide.reset_index()\n",
    "qc_rewards_sales_1_2018_wide=qc_rewards_sales_1_2018_wide.reset_index()\n"
   ]
  },
  {
   "cell_type": "code",
   "execution_count": 6,
   "metadata": {
    "collapsed": true
   },
   "outputs": [],
   "source": [
    "writer=pd.ExcelWriter(\"/home/jian/Projects/Big_Lots/Loyal_members/Segment_Movement_analysis/output_for_rewards_YoY/QC_by_store_by_day_JL_\"+str(datetime.datetime.now().date())+\".xlsx\",engine=\"xlsxwriter\")\n",
    "qc_rewards_sales_1_2017_wide.to_excel(writer,\"2017\",index=False)\n",
    "qc_rewards_sales_1_2018_wide.to_excel(writer,\"2018\",index=False)\n",
    "writer.save()"
   ]
  },
  {
   "cell_type": "code",
   "execution_count": 7,
   "metadata": {},
   "outputs": [
    {
     "data": {
      "text/plain": [
       "556"
      ]
     },
     "execution_count": 7,
     "metadata": {},
     "output_type": "execute_result"
    }
   ],
   "source": [
    "len(rewards_sales_1['transaction_date'].unique())"
   ]
  },
  {
   "cell_type": "code",
   "execution_count": 4,
   "metadata": {
    "collapsed": true
   },
   "outputs": [],
   "source": [
    "rewards_sales_2=pd.read_table(\"/home/jian/Projects/Big_Lots/Loyal_members/loyalty_sales_data/MediaStormSalesBiWeekly20180828-131144-584.txt\",\n",
    "                             dtype=str,sep=\"|\",usecols=['customer_id_hashed','transaction_dt','transaction_id','location_id','total_transaction_amt'])\n",
    "rewards_sales_2=rewards_sales_2.drop_duplicates()\n",
    "rewards_sales_2=rewards_sales_2.rename(columns={\"transaction_dt\":\"transaction_date\"})\n",
    "rewards_sales_2=rewards_sales_2[rewards_sales_2['location_id']!=\"6990\"]\n",
    "rewards_sales_2['transaction_date']=rewards_sales_2['transaction_date'].apply(lambda x: datetime.datetime.strptime(x,\"%Y-%m-%d\").date())\n",
    "\n",
    "rewards_sales_3=pd.read_table(\"/home/jian/Projects/Big_Lots/Loyal_members/loyalty_sales_data/MediaStormSalesBiWeekly20180911-133008-590.txt\",\n",
    "                             dtype=str,sep=\"|\",usecols=['customer_id_hashed','transaction_dt','transaction_id','location_id','total_transaction_amt'])\n",
    "rewards_sales_3=rewards_sales_3.drop_duplicates()\n",
    "rewards_sales_3=rewards_sales_3.rename(columns={\"transaction_dt\":\"transaction_date\"})\n",
    "rewards_sales_3=rewards_sales_3[rewards_sales_3['location_id']!=\"6990\"]\n",
    "rewards_sales_3['transaction_date']=rewards_sales_3['transaction_date'].apply(lambda x: datetime.datetime.strptime(x,\"%Y-%m-%d\").date())\n",
    "\n",
    "rewards_sales_4=pd.read_table(\"/home/jian/Projects/Big_Lots/Loyal_members/loyalty_sales_data/MediaStormSalesBiWeekly20180925-132958-543.txt\",\n",
    "                             dtype=str,sep=\"|\",usecols=['customer_id_hashed','transaction_dt','transaction_id','location_id','total_transaction_amt'])\n",
    "rewards_sales_4=rewards_sales_4.drop_duplicates()\n",
    "rewards_sales_4=rewards_sales_4.rename(columns={\"transaction_dt\":\"transaction_date\"})\n",
    "rewards_sales_4=rewards_sales_4[rewards_sales_4['location_id']!=\"6990\"]\n",
    "rewards_sales_4['transaction_date']=rewards_sales_4['transaction_date'].apply(lambda x: datetime.datetime.strptime(x,\"%Y-%m-%d\").date())"
   ]
  },
  {
   "cell_type": "code",
   "execution_count": 5,
   "metadata": {},
   "outputs": [
    {
     "data": {
      "text/plain": [
       "49"
      ]
     },
     "execution_count": 5,
     "metadata": {},
     "output_type": "execute_result"
    }
   ],
   "source": [
    "rewards_sales=rewards_sales_1.append(rewards_sales_2).append(rewards_sales_3).append(rewards_sales_4)\n",
    "del rewards_sales_1\n",
    "del rewards_sales_2\n",
    "del rewards_sales_3\n",
    "del rewards_sales_4\n",
    "rewards_sales=rewards_sales.reset_index()\n",
    "del rewards_sales['index']\n",
    "rewards_sales=rewards_sales.drop_duplicates()\n",
    "rewards_sales['total_transaction_amt']=rewards_sales['total_transaction_amt'].astype(float)\n",
    "\n",
    "gc.collect()"
   ]
  },
  {
   "cell_type": "code",
   "execution_count": 8,
   "metadata": {},
   "outputs": [
    {
     "data": {
      "text/plain": [
       "5"
      ]
     },
     "execution_count": 8,
     "metadata": {},
     "output_type": "execute_result"
    }
   ],
   "source": [
    "2+3"
   ]
  },
  {
   "cell_type": "code",
   "execution_count": 6,
   "metadata": {
    "collapsed": true
   },
   "outputs": [],
   "source": [
    "exclude_transaction=rewards_sales[rewards_sales['total_transaction_amt']<=-400000]"
   ]
  },
  {
   "cell_type": "code",
   "execution_count": 14,
   "metadata": {},
   "outputs": [
    {
     "data": {
      "text/html": [
       "<div>\n",
       "<style>\n",
       "    .dataframe thead tr:only-child th {\n",
       "        text-align: right;\n",
       "    }\n",
       "\n",
       "    .dataframe thead th {\n",
       "        text-align: left;\n",
       "    }\n",
       "\n",
       "    .dataframe tbody tr th {\n",
       "        vertical-align: top;\n",
       "    }\n",
       "</style>\n",
       "<table border=\"1\" class=\"dataframe\">\n",
       "  <thead>\n",
       "    <tr style=\"text-align: right;\">\n",
       "      <th></th>\n",
       "      <th>customer_id_hashed</th>\n",
       "      <th>transaction_date</th>\n",
       "      <th>transaction_id</th>\n",
       "      <th>location_id</th>\n",
       "      <th>total_transaction_amt</th>\n",
       "    </tr>\n",
       "  </thead>\n",
       "  <tbody>\n",
       "    <tr>\n",
       "      <th>23266017</th>\n",
       "      <td>5efa406f90b87aee3110c8dcebfaddcc246364bc6817e8...</td>\n",
       "      <td>2018-05-12</td>\n",
       "      <td>3599</td>\n",
       "      <td>5191</td>\n",
       "      <td>-480985.06</td>\n",
       "    </tr>\n",
       "    <tr>\n",
       "      <th>77425834</th>\n",
       "      <td>fe6babefed844dc4914bf0f8d42c0a79f0d0f7150c35f3...</td>\n",
       "      <td>2017-03-13</td>\n",
       "      <td>9040</td>\n",
       "      <td>840</td>\n",
       "      <td>-480986.28</td>\n",
       "    </tr>\n",
       "  </tbody>\n",
       "</table>\n",
       "</div>"
      ],
      "text/plain": [
       "                                         customer_id_hashed transaction_date  \\\n",
       "23266017  5efa406f90b87aee3110c8dcebfaddcc246364bc6817e8...       2018-05-12   \n",
       "77425834  fe6babefed844dc4914bf0f8d42c0a79f0d0f7150c35f3...       2017-03-13   \n",
       "\n",
       "         transaction_id location_id  total_transaction_amt  \n",
       "23266017           3599        5191             -480985.06  \n",
       "77425834           9040         840             -480986.28  "
      ]
     },
     "execution_count": 14,
     "metadata": {},
     "output_type": "execute_result"
    }
   ],
   "source": [
    "exclude_transaction"
   ]
  },
  {
   "cell_type": "code",
   "execution_count": 7,
   "metadata": {
    "collapsed": true
   },
   "outputs": [],
   "source": [
    "rewards_sales=rewards_sales[rewards_sales['total_transaction_amt']>-400000]"
   ]
  },
  {
   "cell_type": "code",
   "execution_count": 9,
   "metadata": {},
   "outputs": [
    {
     "data": {
      "text/plain": [
       "(1164303, 3)"
      ]
     },
     "execution_count": 9,
     "metadata": {},
     "output_type": "execute_result"
    }
   ],
   "source": [
    "# QC rewards sales by day\n",
    "\n",
    "QC_rewards_sales_by_day=rewards_sales.groupby(['location_id','transaction_date'])['total_transaction_amt'].sum().to_frame().reset_index()\n",
    "\n",
    "QC_rewards_sales_by_day.shape\n"
   ]
  },
  {
   "cell_type": "code",
   "execution_count": 10,
   "metadata": {
    "collapsed": true
   },
   "outputs": [],
   "source": [
    "QC_rewards_sales_by_day_non_location=QC_rewards_sales_by_day.groupby(['transaction_date'])['total_transaction_amt'].sum().to_frame().reset_index()\n"
   ]
  },
  {
   "cell_type": "code",
   "execution_count": 15,
   "metadata": {
    "collapsed": true
   },
   "outputs": [],
   "source": [
    "writer=pd.ExcelWriter(\"/home/jian/Projects/Big_Lots/Loyal_members/Segment_Movement_analysis/output_for_rewards_YoY/QC_by_store_by_day_JL_\"+str(datetime.datetime.now().date())+\".xlsx\",engine=\"xlsxwriter\")\n",
    "QC_rewards_sales_by_day.to_excel(writer,\"by_day_by_store\",index=False)\n",
    "QC_rewards_sales_by_day_non_location.to_excel(writer,\"by_day\",index=False)\n",
    "exclude_transaction.to_excel(writer,\"exclude_transaction\",index=False)\n",
    "writer.save()"
   ]
  },
  {
   "cell_type": "code",
   "execution_count": 13,
   "metadata": {},
   "outputs": [
    {
     "data": {
      "text/plain": [
       "(1164303, 3)"
      ]
     },
     "execution_count": 13,
     "metadata": {},
     "output_type": "execute_result"
    }
   ],
   "source": [
    "QC_rewards_sales_by_day.shape"
   ]
  },
  {
   "cell_type": "code",
   "execution_count": 11,
   "metadata": {},
   "outputs": [
    {
     "data": {
      "text/html": [
       "<div>\n",
       "<style>\n",
       "    .dataframe thead tr:only-child th {\n",
       "        text-align: right;\n",
       "    }\n",
       "\n",
       "    .dataframe thead th {\n",
       "        text-align: left;\n",
       "    }\n",
       "\n",
       "    .dataframe tbody tr th {\n",
       "        vertical-align: top;\n",
       "    }\n",
       "</style>\n",
       "<table border=\"1\" class=\"dataframe\">\n",
       "  <thead>\n",
       "    <tr style=\"text-align: right;\">\n",
       "      <th></th>\n",
       "      <th>customer_id_hashed</th>\n",
       "      <th>transaction_date</th>\n",
       "      <th>transaction_id</th>\n",
       "      <th>location_id</th>\n",
       "      <th>total_transaction_amt</th>\n",
       "    </tr>\n",
       "  </thead>\n",
       "  <tbody>\n",
       "    <tr>\n",
       "      <th>42331974</th>\n",
       "      <td>fe6babefed844dc4914bf0f8d42c0a79f0d0f7150c35f3...</td>\n",
       "      <td>2017-03-13</td>\n",
       "      <td>9040</td>\n",
       "      <td>840</td>\n",
       "      <td>-480986.28</td>\n",
       "    </tr>\n",
       "    <tr>\n",
       "      <th>23266017</th>\n",
       "      <td>5efa406f90b87aee3110c8dcebfaddcc246364bc6817e8...</td>\n",
       "      <td>2018-05-12</td>\n",
       "      <td>3599</td>\n",
       "      <td>5191</td>\n",
       "      <td>-480985.06</td>\n",
       "    </tr>\n",
       "    <tr>\n",
       "      <th>80493862</th>\n",
       "      <td>2ba3493b2c07c70af61ad772a63f714d8d2a348aab3de5...</td>\n",
       "      <td>2017-11-17</td>\n",
       "      <td>5481</td>\n",
       "      <td>1952</td>\n",
       "      <td>-6283.86</td>\n",
       "    </tr>\n",
       "    <tr>\n",
       "      <th>80264310</th>\n",
       "      <td>77c6f463abb1b60087f51720da4ef14f12c3bf99f22fb8...</td>\n",
       "      <td>2017-11-18</td>\n",
       "      <td>2423</td>\n",
       "      <td>4528</td>\n",
       "      <td>-5399.87</td>\n",
       "    </tr>\n",
       "    <tr>\n",
       "      <th>12617830</th>\n",
       "      <td>c29c377c432774296cda2805e7d340d8bc41d4f863ce49...</td>\n",
       "      <td>2018-03-02</td>\n",
       "      <td>2001</td>\n",
       "      <td>1817</td>\n",
       "      <td>-4968.74</td>\n",
       "    </tr>\n",
       "    <tr>\n",
       "      <th>33064432</th>\n",
       "      <td>27f886ffb85fe7f4796f9b890216d982f40e34b98ac421...</td>\n",
       "      <td>2018-06-22</td>\n",
       "      <td>5974</td>\n",
       "      <td>5302</td>\n",
       "      <td>-4816.39</td>\n",
       "    </tr>\n",
       "    <tr>\n",
       "      <th>72396630</th>\n",
       "      <td>32bceeb909e4be16cfc129e15867a62b99103820d48d79...</td>\n",
       "      <td>2017-09-30</td>\n",
       "      <td>1679</td>\n",
       "      <td>4127</td>\n",
       "      <td>-4799.88</td>\n",
       "    </tr>\n",
       "    <tr>\n",
       "      <th>93140740</th>\n",
       "      <td>d2475cddfa5c2aa5b55c71b25408a9c1346fa94094e039...</td>\n",
       "      <td>2018-08-08</td>\n",
       "      <td>2131</td>\n",
       "      <td>536</td>\n",
       "      <td>-4648.89</td>\n",
       "    </tr>\n",
       "    <tr>\n",
       "      <th>33164482</th>\n",
       "      <td>1893373013a363271ccbb09010cdd00490bcd2337d874b...</td>\n",
       "      <td>2018-07-07</td>\n",
       "      <td>4649</td>\n",
       "      <td>603</td>\n",
       "      <td>-4178.89</td>\n",
       "    </tr>\n",
       "    <tr>\n",
       "      <th>23192565</th>\n",
       "      <td>14abe04be98148c1db4a066292a7e92591fb765511c2a1...</td>\n",
       "      <td>2018-04-22</td>\n",
       "      <td>2521</td>\n",
       "      <td>4126</td>\n",
       "      <td>-4074.26</td>\n",
       "    </tr>\n",
       "    <tr>\n",
       "      <th>80619810</th>\n",
       "      <td>fa82264aef179c1d97e2530d6e505f9f106f2f8e283e91...</td>\n",
       "      <td>2017-11-19</td>\n",
       "      <td>5295</td>\n",
       "      <td>1545</td>\n",
       "      <td>-3779.91</td>\n",
       "    </tr>\n",
       "    <tr>\n",
       "      <th>14207695</th>\n",
       "      <td>d7877cc8f02e6a64f1169aeaac990dc04ffda7920e4bb6...</td>\n",
       "      <td>2018-04-07</td>\n",
       "      <td>6927</td>\n",
       "      <td>5100</td>\n",
       "      <td>-3699.92</td>\n",
       "    </tr>\n",
       "    <tr>\n",
       "      <th>15252831</th>\n",
       "      <td>d6bcfe8f3383ee98b300bee69b197ce646e3ed0f409aab...</td>\n",
       "      <td>2018-04-15</td>\n",
       "      <td>3278</td>\n",
       "      <td>420</td>\n",
       "      <td>-3667.93</td>\n",
       "    </tr>\n",
       "    <tr>\n",
       "      <th>3673455</th>\n",
       "      <td>faada46dfc305bfc26a2e64ea542004574ca997eb59768...</td>\n",
       "      <td>2018-02-02</td>\n",
       "      <td>4514</td>\n",
       "      <td>1781</td>\n",
       "      <td>-3599.91</td>\n",
       "    </tr>\n",
       "    <tr>\n",
       "      <th>3170570</th>\n",
       "      <td>f999abd4723098405750a42f7c489fddbeb30988363b61...</td>\n",
       "      <td>2018-03-05</td>\n",
       "      <td>6473</td>\n",
       "      <td>1471</td>\n",
       "      <td>-3569.92</td>\n",
       "    </tr>\n",
       "    <tr>\n",
       "      <th>27511090</th>\n",
       "      <td>4094899a8804a90ed12373c0612dc3ddcddacd325bd36f...</td>\n",
       "      <td>2018-05-23</td>\n",
       "      <td>7383</td>\n",
       "      <td>1879</td>\n",
       "      <td>-3537.93</td>\n",
       "    </tr>\n",
       "    <tr>\n",
       "      <th>24673970</th>\n",
       "      <td>c2be14ca2c168751613745b67715066e0ed9359fa81cf7...</td>\n",
       "      <td>2018-01-02</td>\n",
       "      <td>6571</td>\n",
       "      <td>1680</td>\n",
       "      <td>-3463.90</td>\n",
       "    </tr>\n",
       "    <tr>\n",
       "      <th>49689552</th>\n",
       "      <td>69cf6dafc66fdd64aaf04ec2050b52f51fb5641488c5e6...</td>\n",
       "      <td>2017-05-01</td>\n",
       "      <td>8492</td>\n",
       "      <td>5136</td>\n",
       "      <td>-3452.98</td>\n",
       "    </tr>\n",
       "    <tr>\n",
       "      <th>45430074</th>\n",
       "      <td>257938670403059239c2f008cd21d6fa2e89207d939080...</td>\n",
       "      <td>2017-04-01</td>\n",
       "      <td>1524</td>\n",
       "      <td>4566</td>\n",
       "      <td>-3399.94</td>\n",
       "    </tr>\n",
       "    <tr>\n",
       "      <th>15423481</th>\n",
       "      <td>9232e3c8e31a75461c4f71af0a289b0dc21b832d4ef0a5...</td>\n",
       "      <td>2018-04-04</td>\n",
       "      <td>7669</td>\n",
       "      <td>4178</td>\n",
       "      <td>-3367.93</td>\n",
       "    </tr>\n",
       "  </tbody>\n",
       "</table>\n",
       "</div>"
      ],
      "text/plain": [
       "                                         customer_id_hashed transaction_date  \\\n",
       "42331974  fe6babefed844dc4914bf0f8d42c0a79f0d0f7150c35f3...       2017-03-13   \n",
       "23266017  5efa406f90b87aee3110c8dcebfaddcc246364bc6817e8...       2018-05-12   \n",
       "80493862  2ba3493b2c07c70af61ad772a63f714d8d2a348aab3de5...       2017-11-17   \n",
       "80264310  77c6f463abb1b60087f51720da4ef14f12c3bf99f22fb8...       2017-11-18   \n",
       "12617830  c29c377c432774296cda2805e7d340d8bc41d4f863ce49...       2018-03-02   \n",
       "33064432  27f886ffb85fe7f4796f9b890216d982f40e34b98ac421...       2018-06-22   \n",
       "72396630  32bceeb909e4be16cfc129e15867a62b99103820d48d79...       2017-09-30   \n",
       "93140740  d2475cddfa5c2aa5b55c71b25408a9c1346fa94094e039...       2018-08-08   \n",
       "33164482  1893373013a363271ccbb09010cdd00490bcd2337d874b...       2018-07-07   \n",
       "23192565  14abe04be98148c1db4a066292a7e92591fb765511c2a1...       2018-04-22   \n",
       "80619810  fa82264aef179c1d97e2530d6e505f9f106f2f8e283e91...       2017-11-19   \n",
       "14207695  d7877cc8f02e6a64f1169aeaac990dc04ffda7920e4bb6...       2018-04-07   \n",
       "15252831  d6bcfe8f3383ee98b300bee69b197ce646e3ed0f409aab...       2018-04-15   \n",
       "3673455   faada46dfc305bfc26a2e64ea542004574ca997eb59768...       2018-02-02   \n",
       "3170570   f999abd4723098405750a42f7c489fddbeb30988363b61...       2018-03-05   \n",
       "27511090  4094899a8804a90ed12373c0612dc3ddcddacd325bd36f...       2018-05-23   \n",
       "24673970  c2be14ca2c168751613745b67715066e0ed9359fa81cf7...       2018-01-02   \n",
       "49689552  69cf6dafc66fdd64aaf04ec2050b52f51fb5641488c5e6...       2017-05-01   \n",
       "45430074  257938670403059239c2f008cd21d6fa2e89207d939080...       2017-04-01   \n",
       "15423481  9232e3c8e31a75461c4f71af0a289b0dc21b832d4ef0a5...       2018-04-04   \n",
       "\n",
       "         transaction_id location_id  total_transaction_amt  \n",
       "42331974           9040         840             -480986.28  \n",
       "23266017           3599        5191             -480985.06  \n",
       "80493862           5481        1952               -6283.86  \n",
       "80264310           2423        4528               -5399.87  \n",
       "12617830           2001        1817               -4968.74  \n",
       "33064432           5974        5302               -4816.39  \n",
       "72396630           1679        4127               -4799.88  \n",
       "93140740           2131         536               -4648.89  \n",
       "33164482           4649         603               -4178.89  \n",
       "23192565           2521        4126               -4074.26  \n",
       "80619810           5295        1545               -3779.91  \n",
       "14207695           6927        5100               -3699.92  \n",
       "15252831           3278         420               -3667.93  \n",
       "3673455            4514        1781               -3599.91  \n",
       "3170570            6473        1471               -3569.92  \n",
       "27511090           7383        1879               -3537.93  \n",
       "24673970           6571        1680               -3463.90  \n",
       "49689552           8492        5136               -3452.98  \n",
       "45430074           1524        4566               -3399.94  \n",
       "15423481           7669        4178               -3367.93  "
      ]
     },
     "execution_count": 11,
     "metadata": {},
     "output_type": "execute_result"
    }
   ],
   "source": [
    "'''\n",
    "rewards_sales.sort_values(['total_transaction_amt']).head(20)\n",
    "'''"
   ]
  },
  {
   "cell_type": "code",
   "execution_count": 11,
   "metadata": {
    "collapsed": true
   },
   "outputs": [],
   "source": [
    "def add_week_end_date(x):\n",
    "    if x.weekday()==6:\n",
    "        y=x+datetime.timedelta(days=6)\n",
    "    else:\n",
    "        y=x+datetime.timedelta(days=5-x.weekday())\n",
    "    return y\n",
    "rewards_sales['week_end_dt']=rewards_sales['transaction_date'].apply(lambda x: add_week_end_date(x))"
   ]
  },
  {
   "cell_type": "code",
   "execution_count": 27,
   "metadata": {
    "collapsed": true
   },
   "outputs": [],
   "source": [
    "rewards_sales_2018=rewards_sales[(rewards_sales['week_end_dt']>=datetime.date(2018,2,10)) & (rewards_sales['week_end_dt']<=datetime.date(2018,9,22))]\n"
   ]
  },
  {
   "cell_type": "code",
   "execution_count": 28,
   "metadata": {},
   "outputs": [
    {
     "name": "stderr",
     "output_type": "stream",
     "text": [
      "/usr/local/lib/python3.6/site-packages/ipykernel_launcher.py:3: SettingWithCopyWarning: \n",
      "A value is trying to be set on a copy of a slice from a DataFrame.\n",
      "Try using .loc[row_indexer,col_indexer] = value instead\n",
      "\n",
      "See the caveats in the documentation: http://pandas.pydata.org/pandas-docs/stable/indexing.html#indexing-view-versus-copy\n",
      "  This is separate from the ipykernel package so we can avoid doing imports until\n"
     ]
    }
   ],
   "source": [
    "\n",
    "rewards_sales_2017=rewards_sales[(rewards_sales['week_end_dt']>=datetime.date(2017,2,11)) & (rewards_sales['week_end_dt']<=datetime.date(2017,9,23))]\n",
    "rewards_sales_2017['total_transaction_amt']=rewards_sales_2017['total_transaction_amt'].astype(float)\n",
    "\n",
    "# del rewards_sales\n",
    "gc.collect()\n",
    "\n",
    "rewards_sales_2017_by_store_by_week=rewards_sales_2017.groupby(['location_id','week_end_dt'])['total_transaction_amt'].sum().to_frame().reset_index()\n",
    "rewards_sales_2018_by_store_by_week=rewards_sales_2018.groupby(['location_id','week_end_dt'])['total_transaction_amt'].sum().to_frame().reset_index()\n",
    "\n",
    "rewards_sales_2017_by_store_by_week_wide=rewards_sales_2017_by_store_by_week.pivot(index=\"location_id\",columns=\"week_end_dt\",values=\"total_transaction_amt\").reset_index()\n",
    "rewards_sales_2018_by_store_by_week_wide=rewards_sales_2018_by_store_by_week.pivot(index=\"location_id\",columns=\"week_end_dt\",values=\"total_transaction_amt\").reset_index()\n",
    "\n",
    "writer=pd.ExcelWriter(\"/home/jian/Projects/Big_Lots/Loyal_members/Segment_Movement_analysis/output_for_rewards_YoY/BL_rewards_sales_YoY_JL_\"+str(datetime.datetime.now().date())+\".xlsx\",engine=\"xlsxwriter\")\n",
    "rewards_sales_2017_by_store_by_week.to_excel(writer,\"rewards_sales_2017_long\",index=False)\n",
    "rewards_sales_2018_by_store_by_week.to_excel(writer,\"rewards_sales_2018_long\",index=False)\n",
    "rewards_sales_2017_by_store_by_week_wide.to_excel(writer,\"rewards_sales_2017\",index=False)\n",
    "rewards_sales_2018_by_store_by_week_wide.to_excel(writer,\"rewards_sales_2018\",index=False)\n",
    "writer.save()\n"
   ]
  },
  {
   "cell_type": "code",
   "execution_count": 29,
   "metadata": {
    "collapsed": true
   },
   "outputs": [],
   "source": [
    "rewards_sales_2017_by_store_by_week=rewards_sales_2017_by_store_by_week.rename(columns={\"total_transaction_amt\":'sales',\"week_end_dt\":\"week_end_date\"})\n",
    "rewards_sales_2017_by_store_by_week['type']=\"rewards\"\n",
    "rewards_sales_2018_by_store_by_week=rewards_sales_2018_by_store_by_week.rename(columns={\"total_transaction_amt\":'sales',\"week_end_dt\":\"week_end_date\"})\n",
    "rewards_sales_2018_by_store_by_week['type']=\"rewards\"\n",
    "weeks_included=rewards_sales_2017_by_store_by_week['week_end_date'].unique().tolist()+rewards_sales_2018_by_store_by_week['week_end_date'].unique().tolist()\n"
   ]
  },
  {
   "cell_type": "code",
   "execution_count": 30,
   "metadata": {},
   "outputs": [
    {
     "data": {
      "text/plain": [
       "66"
      ]
     },
     "execution_count": 30,
     "metadata": {},
     "output_type": "execute_result"
    }
   ],
   "source": [
    "len(weeks_included)"
   ]
  },
  {
   "cell_type": "code",
   "execution_count": 31,
   "metadata": {
    "collapsed": true
   },
   "outputs": [],
   "source": [
    "total_sales=pd.read_csv(\"/home/jian/BiglotsCode/outputs/combined_sales_long_2018-09-29.csv\",dtype=str)\n",
    "total_sales=total_sales[['location_id','week_end_date','sales']]\n",
    "total_sales['sales']=total_sales['sales'].astype(float)\n",
    "total_sales['week_end_date']=total_sales['week_end_date'].apply(lambda x: datetime.datetime.strptime(x,\"%Y-%m-%d\").date())\n",
    "total_sales=total_sales[total_sales['week_end_date'].isin(weeks_included)]\n",
    "total_sales=total_sales[total_sales['sales']>0]\n",
    "total_sales['type']='total'\n",
    "output_rewards=rewards_sales_2017_by_store_by_week.append(rewards_sales_2018_by_store_by_week).append(total_sales)\n"
   ]
  },
  {
   "cell_type": "code",
   "execution_count": 32,
   "metadata": {},
   "outputs": [
    {
     "data": {
      "text/html": [
       "<div>\n",
       "<style>\n",
       "    .dataframe thead tr:only-child th {\n",
       "        text-align: right;\n",
       "    }\n",
       "\n",
       "    .dataframe thead th {\n",
       "        text-align: left;\n",
       "    }\n",
       "\n",
       "    .dataframe tbody tr th {\n",
       "        vertical-align: top;\n",
       "    }\n",
       "</style>\n",
       "<table border=\"1\" class=\"dataframe\">\n",
       "  <thead>\n",
       "    <tr style=\"text-align: right;\">\n",
       "      <th></th>\n",
       "      <th>location_id</th>\n",
       "      <th>week_end_date</th>\n",
       "      <th>sales</th>\n",
       "      <th>type</th>\n",
       "    </tr>\n",
       "  </thead>\n",
       "  <tbody>\n",
       "    <tr>\n",
       "      <th>0</th>\n",
       "      <td>1</td>\n",
       "      <td>2017-02-11</td>\n",
       "      <td>32053.57</td>\n",
       "      <td>rewards</td>\n",
       "    </tr>\n",
       "    <tr>\n",
       "      <th>1</th>\n",
       "      <td>1</td>\n",
       "      <td>2017-02-18</td>\n",
       "      <td>36331.73</td>\n",
       "      <td>rewards</td>\n",
       "    </tr>\n",
       "  </tbody>\n",
       "</table>\n",
       "</div>"
      ],
      "text/plain": [
       "  location_id week_end_date     sales     type\n",
       "0           1    2017-02-11  32053.57  rewards\n",
       "1           1    2017-02-18  36331.73  rewards"
      ]
     },
     "execution_count": 32,
     "metadata": {},
     "output_type": "execute_result"
    }
   ],
   "source": [
    "output_rewards.head(2)"
   ]
  },
  {
   "cell_type": "code",
   "execution_count": 33,
   "metadata": {
    "collapsed": true
   },
   "outputs": [],
   "source": [
    "inclusion_stores=output_rewards.groupby(['location_id'])['week_end_date'].count().to_frame().reset_index()\n",
    "inclusion_stores['inclusion']=np.where(inclusion_stores['week_end_date']==132,\"Inclusions\",\"Exclusion\")\n",
    "inclusion_stores=inclusion_stores[['location_id','inclusion']]\n",
    "output_rewards=pd.merge(output_rewards,inclusion_stores,on=\"location_id\",how=\"left\")\n"
   ]
  },
  {
   "cell_type": "code",
   "execution_count": 34,
   "metadata": {
    "collapsed": true
   },
   "outputs": [],
   "source": [
    "output_rewards_total=output_rewards[output_rewards['type']=='total'][['location_id','week_end_date','sales','inclusion']].rename(columns={\"sales\":\"total_sales\"})\n",
    "output_rewards_rewards=output_rewards[output_rewards['type']=='rewards'][['location_id','week_end_date','sales','inclusion']].rename(columns={\"sales\":\"rewards_sales\"})\n",
    "\n",
    "output_rewards_non_rewards=pd.merge(output_rewards_total,output_rewards_rewards,on=[\"location_id\",\"week_end_date\",\"inclusion\"],how=\"outer\").fillna(0)\n",
    "output_rewards_non_rewards['non_rewards_sales']=output_rewards_non_rewards['total_sales']-output_rewards_non_rewards['rewards_sales']\n",
    "\n",
    "del output_rewards_non_rewards['total_sales']\n",
    "del output_rewards_non_rewards['rewards_sales']\n",
    "\n",
    "\n",
    "output_rewards_total=output_rewards_total.rename(columns={\"total_sales\":\"sales\"})\n",
    "output_rewards_non_rewards=output_rewards_non_rewards.rename(columns={\"non_rewards_sales\":\"sales\"})\n",
    "output_rewards_rewards=output_rewards_rewards.rename(columns={\"rewards_sales\":\"sales\"})\n",
    "\n",
    "output_rewards_rewards['type']=\"rewards\"\n",
    "output_rewards_non_rewards['type']=\"non_rewards\"\n",
    "output_rewards_total['type']=\"total\"\n",
    "\n",
    "output_rewards_to_Joann=output_rewards_total.append(output_rewards_rewards).append(output_rewards_non_rewards)"
   ]
  },
  {
   "cell_type": "code",
   "execution_count": 35,
   "metadata": {
    "collapsed": true
   },
   "outputs": [],
   "source": [
    "output_rewards_to_Joann=output_rewards_to_Joann[['location_id','week_end_date','type','inclusion','sales']]"
   ]
  },
  {
   "cell_type": "code",
   "execution_count": 36,
   "metadata": {},
   "outputs": [
    {
     "data": {
      "text/plain": [
       "'/home/jian/Projects/Big_Lots/Loyal_members/Segment_Movement_analysis'"
      ]
     },
     "execution_count": 36,
     "metadata": {},
     "output_type": "execute_result"
    }
   ],
   "source": [
    "os.getcwd()"
   ]
  },
  {
   "cell_type": "code",
   "execution_count": 37,
   "metadata": {
    "collapsed": true
   },
   "outputs": [],
   "source": [
    "output_rewards_to_Joann.to_csv(\"/home/jian/Projects/Big_Lots/Loyal_members/Segment_Movement_analysis/output_for_rewards_YoY/BL_sales_8_months_JL_\"+str(datetime.datetime.now().date())+\".csv\",index=False)"
   ]
  },
  {
   "cell_type": "code",
   "execution_count": 38,
   "metadata": {},
   "outputs": [
    {
     "data": {
      "text/html": [
       "<div>\n",
       "<style>\n",
       "    .dataframe thead tr:only-child th {\n",
       "        text-align: right;\n",
       "    }\n",
       "\n",
       "    .dataframe thead th {\n",
       "        text-align: left;\n",
       "    }\n",
       "\n",
       "    .dataframe tbody tr th {\n",
       "        vertical-align: top;\n",
       "    }\n",
       "</style>\n",
       "<table border=\"1\" class=\"dataframe\">\n",
       "  <thead>\n",
       "    <tr style=\"text-align: right;\">\n",
       "      <th></th>\n",
       "      <th>location_id</th>\n",
       "      <th>week_end_date</th>\n",
       "      <th>sales</th>\n",
       "      <th>inclusion</th>\n",
       "      <th>type</th>\n",
       "    </tr>\n",
       "  </thead>\n",
       "  <tbody>\n",
       "    <tr>\n",
       "      <th>93751</th>\n",
       "      <td>1</td>\n",
       "      <td>2017-02-11</td>\n",
       "      <td>65529.31</td>\n",
       "      <td>Inclusions</td>\n",
       "      <td>total</td>\n",
       "    </tr>\n",
       "    <tr>\n",
       "      <th>93752</th>\n",
       "      <td>1</td>\n",
       "      <td>2017-02-18</td>\n",
       "      <td>72052.29</td>\n",
       "      <td>Inclusions</td>\n",
       "      <td>total</td>\n",
       "    </tr>\n",
       "  </tbody>\n",
       "</table>\n",
       "</div>"
      ],
      "text/plain": [
       "      location_id week_end_date     sales   inclusion   type\n",
       "93751           1    2017-02-11  65529.31  Inclusions  total\n",
       "93752           1    2017-02-18  72052.29  Inclusions  total"
      ]
     },
     "execution_count": 38,
     "metadata": {},
     "output_type": "execute_result"
    }
   ],
   "source": [
    "output_rewards_total.head(2)"
   ]
  },
  {
   "cell_type": "markdown",
   "metadata": {},
   "source": [
    "# 2018_July_1_Split"
   ]
  },
  {
   "cell_type": "code",
   "execution_count": 9,
   "metadata": {
    "collapsed": true
   },
   "outputs": [],
   "source": [
    "rewards_sales_2018_Apr_June=rewards_sales_2018[(rewards_sales_2018['transaction_date']>=datetime.date(2018,4,1)) & (rewards_sales_2018['transaction_date']<=datetime.date(2018,6,30))]\n",
    "rewards_sales_2018_July_Sep=rewards_sales_2018[(rewards_sales_2018['transaction_date']>=datetime.date(2018,7,1)) & (rewards_sales_2018['transaction_date']<=datetime.date(2018,9,30))]\n",
    "\n"
   ]
  },
  {
   "cell_type": "code",
   "execution_count": null,
   "metadata": {
    "collapsed": true
   },
   "outputs": [],
   "source": []
  },
  {
   "cell_type": "code",
   "execution_count": 10,
   "metadata": {
    "collapsed": true
   },
   "outputs": [],
   "source": [
    "rewards_sales_2018_Apr_June_sales=rewards_sales_2018_Apr_June.groupby([\"customer_id_hashed\"])['total_transaction_amt'].sum().to_frame().reset_index()\n",
    "rewards_sales_2018_Apr_June=rewards_sales_2018_Apr_June[rewards_sales_2018_Apr_June['total_transaction_amt']>0]\n",
    "rewards_sales_2018_Apr_June_trans=rewards_sales_2018_Apr_June.groupby([\"customer_id_hashed\"])['total_transaction_amt'].count().to_frame().reset_index()\n",
    "\n",
    "rewards_sales_2018_July_Sep_sales=rewards_sales_2018_July_Sep.groupby([\"customer_id_hashed\"])['total_transaction_amt'].sum().to_frame().reset_index()\n",
    "rewards_sales_2018_July_Sep=rewards_sales_2018_July_Sep[rewards_sales_2018_July_Sep['total_transaction_amt']>0]\n",
    "rewards_sales_2018_July_Sep_trans=rewards_sales_2018_July_Sep.groupby([\"customer_id_hashed\"])['total_transaction_amt'].count().to_frame().reset_index()\n"
   ]
  },
  {
   "cell_type": "code",
   "execution_count": 11,
   "metadata": {
    "collapsed": true
   },
   "outputs": [],
   "source": [
    "rewards_sales_2018_Apr_June_sales=rewards_sales_2018_Apr_June_sales.rename(columns={\"total_transaction_amt\":\"sales_Apr_June\"})\n",
    "rewards_sales_2018_Apr_June_trans=rewards_sales_2018_Apr_June_trans.rename(columns={\"total_transaction_amt\":\"trans_Apr_June\"})\n",
    "\n",
    "rewards_sales_2018_July_Sep_sales=rewards_sales_2018_July_Sep_sales.rename(columns={\"total_transaction_amt\":\"sales_July_Sep\"})\n",
    "rewards_sales_2018_July_Sep_trans=rewards_sales_2018_July_Sep_trans.rename(columns={\"total_transaction_amt\":\"trans_July_Sep\"})\n",
    "\n",
    "\n"
   ]
  },
  {
   "cell_type": "code",
   "execution_count": 17,
   "metadata": {
    "collapsed": true
   },
   "outputs": [],
   "source": [
    "all_ids_df=pd.merge(rewards_sales_2018_Apr_June_sales,rewards_sales_2018_Apr_June_trans,on=\"customer_id_hashed\",how=\"left\")\n",
    "all_ids_df=pd.merge(all_ids_df,rewards_sales_2018_July_Sep_sales,on=\"customer_id_hashed\",how=\"left\")\n",
    "all_ids_df=pd.merge(all_ids_df,rewards_sales_2018_July_Sep_trans,on=\"customer_id_hashed\",how=\"left\")\n",
    "all_ids_df=all_ids_df.fillna(0)\n",
    "\n",
    "check_hist_by_id_trans_freq=rewards_sales_2018_Apr_June_trans.groupby(['trans_Apr_June'])['customer_id_hashed'].count().to_frame().reset_index()\n",
    "check_hist_by_id_trans_freq.to_csv(\"/home/jian/Projects/Big_Lots/Loyal_members/Segment_Movement_analysis/check_hist_by_id_trans_freq.csv\")\n",
    "\n",
    "# To be continued\n",
    "# Use 10 as the cut of (as the 99 percentile)\n"
   ]
  },
  {
   "cell_type": "code",
   "execution_count": null,
   "metadata": {
    "collapsed": true
   },
   "outputs": [],
   "source": []
  },
  {
   "cell_type": "code",
   "execution_count": 15,
   "metadata": {},
   "outputs": [
    {
     "data": {
      "text/plain": [
       "(7488118, 2)"
      ]
     },
     "execution_count": 15,
     "metadata": {},
     "output_type": "execute_result"
    }
   ],
   "source": [
    "rewards_sales_2018_Apr_June_sales.shape"
   ]
  },
  {
   "cell_type": "code",
   "execution_count": 13,
   "metadata": {},
   "outputs": [
    {
     "data": {
      "text/plain": [
       "'/home/jian/Projects/Big_Lots/Loyal_members/Segment_Movement_analysis'"
      ]
     },
     "execution_count": 13,
     "metadata": {},
     "output_type": "execute_result"
    }
   ],
   "source": [
    "os.getcwd()"
   ]
  },
  {
   "cell_type": "code",
   "execution_count": 88,
   "metadata": {},
   "outputs": [
    {
     "data": {
      "text/plain": [
       "8.0"
      ]
     },
     "execution_count": 88,
     "metadata": {},
     "output_type": "execute_result"
    }
   ],
   "source": [
    "np.percentile(rewards_sales_2018_Apr_June_trans['trans_Apr_June'],98)"
   ]
  },
  {
   "cell_type": "code",
   "execution_count": 89,
   "metadata": {},
   "outputs": [
    {
     "data": {
      "text/plain": [
       "10.0"
      ]
     },
     "execution_count": 89,
     "metadata": {},
     "output_type": "execute_result"
    }
   ],
   "source": [
    "np.percentile(rewards_sales_2018_Apr_June_trans['trans_Apr_June'],99)"
   ]
  },
  {
   "cell_type": "code",
   "execution_count": 91,
   "metadata": {},
   "outputs": [
    {
     "data": {
      "text/plain": [
       "13.0"
      ]
     },
     "execution_count": 91,
     "metadata": {},
     "output_type": "execute_result"
    }
   ],
   "source": [
    "np.percentile(rewards_sales_2018_Apr_June_trans['trans_Apr_June'],99.5)"
   ]
  },
  {
   "cell_type": "code",
   "execution_count": 92,
   "metadata": {},
   "outputs": [
    {
     "data": {
      "text/plain": [
       "7.0"
      ]
     },
     "execution_count": 92,
     "metadata": {},
     "output_type": "execute_result"
    }
   ],
   "source": [
    "np.percentile(rewards_sales_2018_Apr_June_trans['trans_Apr_June'],97)"
   ]
  },
  {
   "cell_type": "code",
   "execution_count": 93,
   "metadata": {},
   "outputs": [
    {
     "data": {
      "text/plain": [
       "8.0"
      ]
     },
     "execution_count": 93,
     "metadata": {},
     "output_type": "execute_result"
    }
   ],
   "source": [
    "np.percentile(rewards_sales_2018_Apr_June_trans['trans_Apr_June'],97.5)"
   ]
  },
  {
   "cell_type": "code",
   "execution_count": 94,
   "metadata": {},
   "outputs": [
    {
     "data": {
      "text/plain": [
       "1518"
      ]
     },
     "execution_count": 94,
     "metadata": {},
     "output_type": "execute_result"
    }
   ],
   "source": [
    "rewards_sales_2018_Apr_June_trans['trans_Apr_June'].max()"
   ]
  },
  {
   "cell_type": "code",
   "execution_count": 95,
   "metadata": {},
   "outputs": [
    {
     "data": {
      "text/plain": [
       "16.0"
      ]
     },
     "execution_count": 95,
     "metadata": {},
     "output_type": "execute_result"
    }
   ],
   "source": [
    "np.percentile(rewards_sales_2018_Apr_June_trans['trans_Apr_June'],99.75)"
   ]
  },
  {
   "cell_type": "code",
   "execution_count": 96,
   "metadata": {},
   "outputs": [
    {
     "data": {
      "text/plain": [
       "22.0"
      ]
     },
     "execution_count": 96,
     "metadata": {},
     "output_type": "execute_result"
    }
   ],
   "source": [
    "np.percentile(rewards_sales_2018_Apr_June_trans['trans_Apr_June'],99.9)"
   ]
  },
  {
   "cell_type": "code",
   "execution_count": null,
   "metadata": {
    "collapsed": true
   },
   "outputs": [],
   "source": [
    "1+1"
   ]
  },
  {
   "cell_type": "code",
   "execution_count": null,
   "metadata": {
    "collapsed": true
   },
   "outputs": [],
   "source": []
  }
 ],
 "metadata": {
  "kernelspec": {
   "display_name": "Python 3",
   "language": "python",
   "name": "python3"
  },
  "language_info": {
   "codemirror_mode": {
    "name": "ipython",
    "version": 3
   },
   "file_extension": ".py",
   "mimetype": "text/x-python",
   "name": "python",
   "nbconvert_exporter": "python",
   "pygments_lexer": "ipython3",
   "version": "3.6.1"
  }
 },
 "nbformat": 4,
 "nbformat_minor": 2
}
