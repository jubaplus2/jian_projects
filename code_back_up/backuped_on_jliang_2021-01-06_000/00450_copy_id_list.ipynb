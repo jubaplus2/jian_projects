{
 "cells": [
  {
   "cell_type": "code",
   "execution_count": 3,
   "metadata": {},
   "outputs": [],
   "source": [
    "import paramiko\n",
    "import pandas as pd\n",
    "import os"
   ]
  },
  {
   "cell_type": "code",
   "execution_count": 4,
   "metadata": {},
   "outputs": [],
   "source": [
    "host='107.191.32.220'\n",
    "port=22\n",
    "transport = paramiko.Transport((host, port))\n",
    "     \n",
    "password = \"juba-jl1\" #hard-coded\n",
    "username = \"jian\" #hard-coded\n",
    "transport.connect(username = username, password = password)\n",
    "sftp = paramiko.SFTPClient.from_transport(transport)"
   ]
  },
  {
   "cell_type": "code",
   "execution_count": 5,
   "metadata": {},
   "outputs": [],
   "source": [
    "remote_file_NC=\"/mnt/drv5/jian/Big_Lots/BL_1_to_1_2020Q1/output_regular_only_2020-06-21/notexposed_control_idlist.csv\"\n",
    "remote_file_ET=\"/mnt/drv5/jian/Big_Lots/BL_1_to_1_2020Q1/output_regular_only_2020-06-21/exposed_test_idlist.csv\"\n",
    "\n",
    "sftp.get(remote_file_NC,\"./\"+os.path.basename(remote_file_NC))\n",
    "sftp.get(remote_file_ET,\"./\"+os.path.basename(remote_file_ET))\n",
    "sftp.close()\n",
    "transport.close()"
   ]
  },
  {
   "cell_type": "code",
   "execution_count": null,
   "metadata": {},
   "outputs": [],
   "source": []
  }
 ],
 "metadata": {
  "kernelspec": {
   "display_name": "Python 3",
   "language": "python",
   "name": "python3"
  },
  "language_info": {
   "codemirror_mode": {
    "name": "ipython",
    "version": 3
   },
   "file_extension": ".py",
   "mimetype": "text/x-python",
   "name": "python",
   "nbconvert_exporter": "python",
   "pygments_lexer": "ipython3",
   "version": "3.6.1"
  }
 },
 "nbformat": 4,
 "nbformat_minor": 2
}
