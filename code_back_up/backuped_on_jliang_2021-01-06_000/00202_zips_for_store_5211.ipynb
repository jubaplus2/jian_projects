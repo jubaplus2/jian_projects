{
 "cells": [
  {
   "cell_type": "code",
   "execution_count": 1,
   "metadata": {},
   "outputs": [
    {
     "data": {
      "text/plain": [
       "'/home/jian/Projects/Big_Lots/Analysis/2019_Q3/Planner_request/Faith_zips_for_SOTF_5211_20190911'"
      ]
     },
     "execution_count": 1,
     "metadata": {},
     "output_type": "execute_result"
    }
   ],
   "source": [
    "import pandas as pd\n",
    "import datetime\n",
    "import os\n",
    "from haversine import haversine\n",
    "import json\n",
    "import numpy as np\n",
    "zip_centers=json.load(open(\"/home/jian/Docs/Geo_mapping/updated_zip_centers_JL_2019-05-23.json\",\"r\"))\n",
    "\n",
    "os.getcwd()"
   ]
  },
  {
   "cell_type": "code",
   "execution_count": 2,
   "metadata": {},
   "outputs": [
    {
     "data": {
      "text/plain": [
       "['unique_zips_full_footprint', 'view_by_TA', 'view_by_store', 'stores_removed']"
      ]
     },
     "execution_count": 2,
     "metadata": {},
     "output_type": "execute_result"
    }
   ],
   "source": [
    "zip_labels=pd.ExcelFile(\"/home/jian/Projects/Big_Lots/New_TA/TA_created_in_201906/final_output_20190718/BL_final_TA_updated_remove_8_and_22_stores_JL_2019-09-11.xlsx\")\n",
    "zip_labels.sheet_names"
   ]
  },
  {
   "cell_type": "code",
   "execution_count": 3,
   "metadata": {},
   "outputs": [
    {
     "data": {
      "text/plain": [
       "(1, 17)"
      ]
     },
     "execution_count": 3,
     "metadata": {},
     "output_type": "execute_result"
    }
   ],
   "source": [
    "df=zip_labels.parse(\"view_by_store\",dtype=str)\n",
    "df=df[df['location_id']==\"5211\"]\n",
    "df['all_trans_P_zips']=df['all_trans_P_zips'].apply(eval)\n",
    "df['all_trans_S_zips']=df['all_trans_S_zips'].apply(eval)\n",
    "\n",
    "df.shape\n"
   ]
  },
  {
   "cell_type": "code",
   "execution_count": 13,
   "metadata": {},
   "outputs": [
    {
     "data": {
      "text/html": [
       "<div>\n",
       "<style>\n",
       "    .dataframe thead tr:only-child th {\n",
       "        text-align: right;\n",
       "    }\n",
       "\n",
       "    .dataframe thead th {\n",
       "        text-align: left;\n",
       "    }\n",
       "\n",
       "    .dataframe tbody tr th {\n",
       "        vertical-align: top;\n",
       "    }\n",
       "</style>\n",
       "<table border=\"1\" class=\"dataframe\">\n",
       "  <thead>\n",
       "    <tr style=\"text-align: right;\">\n",
       "      <th></th>\n",
       "      <th>TA_num</th>\n",
       "      <th>ta_name</th>\n",
       "      <th>location_id</th>\n",
       "      <th>address_line_1</th>\n",
       "      <th>address_line_2</th>\n",
       "      <th>zip_cd</th>\n",
       "      <th>city_nm</th>\n",
       "      <th>state_nm</th>\n",
       "      <th>latitude_meas</th>\n",
       "      <th>longitude_meas</th>\n",
       "      <th>DMA</th>\n",
       "      <th>CTY</th>\n",
       "      <th>all_trans_P_zips</th>\n",
       "      <th>all_trans_S_zips</th>\n",
       "      <th>zips_in_10</th>\n",
       "      <th>trans_P_zips_70_within_TA</th>\n",
       "      <th>trans_S_zips_70_within_TA</th>\n",
       "    </tr>\n",
       "  </thead>\n",
       "  <tbody>\n",
       "    <tr>\n",
       "      <th>1357</th>\n",
       "      <td>686</td>\n",
       "      <td>single_5211</td>\n",
       "      <td>5211</td>\n",
       "      <td>1650 E. SHERMAN BLVD</td>\n",
       "      <td>nan</td>\n",
       "      <td>49444</td>\n",
       "      <td>MUSKEGON</td>\n",
       "      <td>MI</td>\n",
       "      <td>43.206841</td>\n",
       "      <td>-86.201683</td>\n",
       "      <td>{'GRAND RAPIDS-KALMZOO-B.CRK'}</td>\n",
       "      <td>{'MUSKEGON'}</td>\n",
       "      <td>[49442, 49441, 49444]</td>\n",
       "      <td>[49445, 49457, 49456, 49417, 49415]</td>\n",
       "      <td>[]</td>\n",
       "      <td>['49442', '49444', '49441']</td>\n",
       "      <td>['49456', '49417', '49457', '49445', '49415']</td>\n",
       "    </tr>\n",
       "  </tbody>\n",
       "</table>\n",
       "</div>"
      ],
      "text/plain": [
       "     TA_num      ta_name location_id        address_line_1 address_line_2  \\\n",
       "1357    686  single_5211        5211  1650 E. SHERMAN BLVD            nan   \n",
       "\n",
       "     zip_cd   city_nm state_nm latitude_meas longitude_meas  \\\n",
       "1357  49444  MUSKEGON       MI     43.206841     -86.201683   \n",
       "\n",
       "                                 DMA           CTY       all_trans_P_zips  \\\n",
       "1357  {'GRAND RAPIDS-KALMZOO-B.CRK'}  {'MUSKEGON'}  [49442, 49441, 49444]   \n",
       "\n",
       "                         all_trans_S_zips zips_in_10  \\\n",
       "1357  [49445, 49457, 49456, 49417, 49415]         []   \n",
       "\n",
       "        trans_P_zips_70_within_TA  \\\n",
       "1357  ['49442', '49444', '49441']   \n",
       "\n",
       "                          trans_S_zips_70_within_TA  \n",
       "1357  ['49456', '49417', '49457', '49445', '49415']  "
      ]
     },
     "execution_count": 13,
     "metadata": {},
     "output_type": "execute_result"
    }
   ],
   "source": [
    "df"
   ]
  },
  {
   "cell_type": "code",
   "execution_count": 4,
   "metadata": {
    "collapsed": true
   },
   "outputs": [],
   "source": [
    "list_P_zips=df['all_trans_P_zips'].values[0]\n",
    "df_P_zips=pd.DataFrame({\"zip\":list_P_zips},index=['5211']*len(list_P_zips)).reset_index().rename(columns={\"index\":\"location_id\"})\n",
    "df_P_zips['transaction_flag']=\"P\"\n",
    "list_S_zips=df['all_trans_S_zips'].values[0]\n",
    "df_S_zips=pd.DataFrame({\"zip\":list_S_zips},index=['5211']*len(list_S_zips)).reset_index().rename(columns={\"index\":\"location_id\"})\n",
    "df_S_zips['transaction_flag']=\"S\"\n",
    "df_P_S_zips=df_P_zips.append(df_S_zips)"
   ]
  },
  {
   "cell_type": "code",
   "execution_count": 5,
   "metadata": {
    "collapsed": true
   },
   "outputs": [],
   "source": [
    "store_list=pd.read_table(\"/home/jian/BigLots/static_files/Store_list/MediaStormStores20190901-135942-508.txt\",dtype=str,sep=\"|\")\n",
    "store_list=store_list[store_list['location_id']==\"5211\"]\n",
    "store_list=store_list[['location_id','zip_cd','latitude_meas','longitude_meas','state_nm']].rename(columns={\"zip_cd\":\"store_zip\"})\n",
    "store_list['latitude_meas']=store_list['latitude_meas'].astype(float)\n",
    "store_list['longitude_meas']=store_list['longitude_meas'].astype(float)\n",
    "store_list['store_zip']=store_list['store_zip'].apply(lambda x: x.split(\"-\")[0].zfill(5))"
   ]
  },
  {
   "cell_type": "code",
   "execution_count": 6,
   "metadata": {
    "collapsed": true
   },
   "outputs": [],
   "source": [
    "df_output=pd.merge(store_list,df_P_S_zips,on=\"location_id\",how=\"left\")"
   ]
  },
  {
   "cell_type": "code",
   "execution_count": 8,
   "metadata": {},
   "outputs": [
    {
     "data": {
      "text/plain": [
       "(8, 3)"
      ]
     },
     "execution_count": 8,
     "metadata": {},
     "output_type": "execute_result"
    }
   ],
   "source": [
    "df_P_S_zips.shape"
   ]
  },
  {
   "cell_type": "code",
   "execution_count": 9,
   "metadata": {},
   "outputs": [
    {
     "data": {
      "text/html": [
       "<div>\n",
       "<style>\n",
       "    .dataframe thead tr:only-child th {\n",
       "        text-align: right;\n",
       "    }\n",
       "\n",
       "    .dataframe thead th {\n",
       "        text-align: left;\n",
       "    }\n",
       "\n",
       "    .dataframe tbody tr th {\n",
       "        vertical-align: top;\n",
       "    }\n",
       "</style>\n",
       "<table border=\"1\" class=\"dataframe\">\n",
       "  <thead>\n",
       "    <tr style=\"text-align: right;\">\n",
       "      <th></th>\n",
       "      <th>location_id</th>\n",
       "      <th>location_desc</th>\n",
       "      <th>open_dt</th>\n",
       "      <th>close_dt</th>\n",
       "      <th>address_line_1</th>\n",
       "      <th>address_line_2</th>\n",
       "      <th>city_nm</th>\n",
       "      <th>state_nm</th>\n",
       "      <th>zip_cd</th>\n",
       "      <th>longitude_meas</th>\n",
       "      <th>latitude_meas</th>\n",
       "      <th>sales_square_feet</th>\n",
       "      <th>furniture_sales_square_feet</th>\n",
       "    </tr>\n",
       "  </thead>\n",
       "  <tbody>\n",
       "    <tr>\n",
       "      <th>1230</th>\n",
       "      <td>5211</td>\n",
       "      <td>SHERMAN CENTRE</td>\n",
       "      <td>2011-10-30</td>\n",
       "      <td>NaN</td>\n",
       "      <td>1650 E. SHERMAN BLVD</td>\n",
       "      <td>NaN</td>\n",
       "      <td>MUSKEGON</td>\n",
       "      <td>MI</td>\n",
       "      <td>49444-1863</td>\n",
       "      <td>-000000000086.201683</td>\n",
       "      <td>000000000043.206841</td>\n",
       "      <td>00000000019407.0000</td>\n",
       "      <td>00000000002075.0000</td>\n",
       "    </tr>\n",
       "  </tbody>\n",
       "</table>\n",
       "</div>"
      ],
      "text/plain": [
       "     location_id   location_desc     open_dt close_dt        address_line_1  \\\n",
       "1230        5211  SHERMAN CENTRE  2011-10-30      NaN  1650 E. SHERMAN BLVD   \n",
       "\n",
       "     address_line_2   city_nm state_nm      zip_cd        longitude_meas  \\\n",
       "1230            NaN  MUSKEGON       MI  49444-1863  -000000000086.201683   \n",
       "\n",
       "             latitude_meas     sales_square_feet furniture_sales_square_feet  \n",
       "1230   000000000043.206841   00000000019407.0000         00000000002075.0000  "
      ]
     },
     "execution_count": 9,
     "metadata": {},
     "output_type": "execute_result"
    }
   ],
   "source": [
    "# Check location\n",
    "store_list=pd.read_table(\"/home/jian/BigLots/static_files/Store_list/MediaStormStores20190901-135942-508.txt\",dtype=str,sep=\"|\")\n",
    "store_list=store_list[store_list['location_id']==\"5211\"]\n",
    "store_list"
   ]
  },
  {
   "cell_type": "code",
   "execution_count": 10,
   "metadata": {
    "collapsed": true
   },
   "outputs": [],
   "source": [
    "df_output=df_output.reset_index()\n",
    "del df_output['index']\n",
    "df_output['Distance (mile)']=np.nan\n",
    "for ind,row in df_output.iterrows():\n",
    "    store_center=(row['latitude_meas'],row['longitude_meas'])\n",
    "    dist=haversine(store_center,zip_centers[row['zip']],miles=True)\n",
    "    df_output.loc[ind,\"Distance (mile)\"]=dist"
   ]
  },
  {
   "cell_type": "code",
   "execution_count": 12,
   "metadata": {
    "collapsed": true
   },
   "outputs": [],
   "source": [
    "writer=pd.ExcelWriter(\"./BL_zips_for_store_5211_JL_\"+str(datetime.datetime.now().date())+\".xlsx\",engine=\"xlsxwriter\")\n",
    "df_output.to_excel(writer,\"zips_5211\",index=False)\n",
    "writer.save()"
   ]
  },
  {
   "cell_type": "code",
   "execution_count": null,
   "metadata": {
    "collapsed": true
   },
   "outputs": [],
   "source": []
  }
 ],
 "metadata": {
  "kernelspec": {
   "display_name": "Python 3",
   "language": "python",
   "name": "python3"
  },
  "language_info": {
   "codemirror_mode": {
    "name": "ipython",
    "version": 3
   },
   "file_extension": ".py",
   "mimetype": "text/x-python",
   "name": "python",
   "nbconvert_exporter": "python",
   "pygments_lexer": "ipython3",
   "version": "3.6.1"
  }
 },
 "nbformat": 4,
 "nbformat_minor": 2
}
