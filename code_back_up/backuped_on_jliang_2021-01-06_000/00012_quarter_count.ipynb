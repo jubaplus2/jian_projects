{
 "cells": [
  {
   "cell_type": "code",
   "execution_count": 1,
   "metadata": {},
   "outputs": [],
   "source": [
    "def get_current_week_quarter_week(input_saturday):\n",
    "    weeks_since_19Q1= int((input_saturday-last_day_of_2018Q4).days/7)\n",
    "\n",
    " \n",
    "\n",
    "    year_integer=2018+int(np.ceil(weeks_since_19Q1/52))\n",
    "    quarter_integer=int(np.ceil(weeks_since_19Q1/13))%4\n",
    "    if quarter_integer==0:\n",
    "        quarter_integer=4\n",
    "        \n",
    "    week_integer=int(np.ceil(weeks_since_19Q1%13))\n",
    "\n",
    " \n",
    "\n",
    "    if week_integer==0:\n",
    "        week_integer=13\n",
    "        \n",
    "    return str(year_integer)+\"_Q\"+str(quarter_integer),week_integer"
   ]
  },
  {
   "cell_type": "code",
   "execution_count": null,
   "metadata": {},
   "outputs": [],
   "source": []
  }
 ],
 "metadata": {
  "kernelspec": {
   "display_name": "Python 3",
   "language": "python",
   "name": "python3"
  },
  "language_info": {
   "codemirror_mode": {
    "name": "ipython",
    "version": 3
   },
   "file_extension": ".py",
   "mimetype": "text/x-python",
   "name": "python",
   "nbconvert_exporter": "python",
   "pygments_lexer": "ipython3",
   "version": "3.6.1"
  }
 },
 "nbformat": 4,
 "nbformat_minor": 2
}
