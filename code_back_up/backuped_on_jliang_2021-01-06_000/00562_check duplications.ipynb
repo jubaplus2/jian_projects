{
 "cells": [
  {
   "cell_type": "code",
   "execution_count": 6,
   "metadata": {},
   "outputs": [],
   "source": [
    "import pandas as pd\n",
    "import numpy as np\n",
    "import datetime\n",
    "import glob\n",
    "import os"
   ]
  },
  {
   "cell_type": "code",
   "execution_count": 7,
   "metadata": {},
   "outputs": [
    {
     "data": {
      "text/plain": [
       "['./audience_from_SP/Levin & Wolf_1201_0315.csv',\n",
       " './audience_from_SP/At Home_1201_0315.csv',\n",
       " './audience_from_SP/Art Van Furniture_1201_0315.csv',\n",
       " './audience_from_SP/Pier 1_1201_0315.csv',\n",
       " \"./audience_from_SP/Macy's_1201_0315.csv\",\n",
       " './audience_from_SP/Bed Bath & Beyond_1201_0315.csv']"
      ]
     },
     "execution_count": 7,
     "metadata": {},
     "output_type": "execute_result"
    }
   ],
   "source": [
    "list_all_segs=glob.glob(\"./audience_from_SP/*\")\n",
    "list_all_segs"
   ]
  },
  {
   "cell_type": "code",
   "execution_count": 10,
   "metadata": {},
   "outputs": [
    {
     "name": "stdout",
     "output_type": "stream",
     "text": [
      "(55234, 2) 55234 Levin & Wolf_1201_0315\n",
      "(329437, 2) 329437 At Home_1201_0315\n",
      "(223272, 2) 223272 Art Van Furniture_1201_0315\n",
      "(1904030, 2) 1904030 Pier 1_1201_0315\n",
      "(1934104, 2) 1934104 Macy's_1201_0315\n",
      "(1867125, 2) 1867125 Bed Bath & Beyond_1201_0315\n"
     ]
    }
   ],
   "source": [
    "list_all_dfs=[]\n",
    "\n",
    "for file in list_all_segs:\n",
    "    df=pd.read_csv(file,usecols=['ad_id'])\n",
    "    seg=os.path.basename(file).split(\".\")[0]\n",
    "    df['seg']=seg\n",
    "    \n",
    "    print(df.shape,df['ad_id'].nunique(),seg)\n",
    "    \n",
    "    list_all_dfs.append(df)\n",
    "    "
   ]
  },
  {
   "cell_type": "code",
   "execution_count": 23,
   "metadata": {},
   "outputs": [
    {
     "name": "stdout",
     "output_type": "stream",
     "text": [
      "Levin & Wolf_1201_0315:  55234\n",
      "At Home_1201_0315:  329437\n",
      "intersection 1745 \n",
      "\n",
      "Levin & Wolf_1201_0315:  55234\n",
      "Art Van Furniture_1201_0315:  223272\n",
      "intersection 317 \n",
      "\n",
      "Levin & Wolf_1201_0315:  55234\n",
      "Pier 1_1201_0315:  1904030\n",
      "intersection 11364 \n",
      "\n",
      "Levin & Wolf_1201_0315:  55234\n",
      "Macy's_1201_0315:  1934104\n",
      "intersection 9958 \n",
      "\n",
      "Levin & Wolf_1201_0315:  55234\n",
      "Bed Bath & Beyond_1201_0315:  1867125\n",
      "intersection 10646 \n",
      "\n",
      "At Home_1201_0315:  329437\n",
      "Art Van Furniture_1201_0315:  223272\n",
      "intersection 8623 \n",
      "\n",
      "At Home_1201_0315:  329437\n",
      "Pier 1_1201_0315:  1904030\n",
      "intersection 76315 \n",
      "\n",
      "At Home_1201_0315:  329437\n",
      "Macy's_1201_0315:  1934104\n",
      "intersection 60919 \n",
      "\n",
      "At Home_1201_0315:  329437\n",
      "Bed Bath & Beyond_1201_0315:  1867125\n",
      "intersection 74493 \n",
      "\n",
      "Art Van Furniture_1201_0315:  223272\n",
      "Pier 1_1201_0315:  1904030\n",
      "intersection 39910 \n",
      "\n",
      "Art Van Furniture_1201_0315:  223272\n",
      "Macy's_1201_0315:  1934104\n",
      "intersection 33535 \n",
      "\n",
      "Art Van Furniture_1201_0315:  223272\n",
      "Bed Bath & Beyond_1201_0315:  1867125\n",
      "intersection 40518 \n",
      "\n",
      "Pier 1_1201_0315:  1904030\n",
      "Macy's_1201_0315:  1934104\n",
      "intersection 374080 \n",
      "\n",
      "Pier 1_1201_0315:  1904030\n",
      "Bed Bath & Beyond_1201_0315:  1867125\n",
      "intersection 459980 \n",
      "\n",
      "Macy's_1201_0315:  1934104\n",
      "Bed Bath & Beyond_1201_0315:  1867125\n",
      "intersection 373488 \n",
      "\n"
     ]
    }
   ],
   "source": [
    "for i in range(len(list_all_dfs)):\n",
    "    for j in range(i+1,len(list_all_dfs)):\n",
    "        list_i=list_all_dfs[i]['ad_id'].tolist()\n",
    "        list_j=list_all_dfs[j]['ad_id'].tolist()\n",
    "        set_intersections=set(list_i).intersection(set(list_j))\n",
    "        \n",
    "        print(list_all_dfs[i].loc[0,'seg']+\": \",len(list_i))\n",
    "        print(list_all_dfs[j].loc[0,'seg']+\": \",len(list_j))\n",
    "        print(\"intersection\",len(set_intersections),\"\\n\")\n"
   ]
  },
  {
   "cell_type": "code",
   "execution_count": null,
   "metadata": {},
   "outputs": [],
   "source": []
  }
 ],
 "metadata": {
  "kernelspec": {
   "display_name": "Python 3",
   "language": "python",
   "name": "python3"
  },
  "language_info": {
   "codemirror_mode": {
    "name": "ipython",
    "version": 3
   },
   "file_extension": ".py",
   "mimetype": "text/x-python",
   "name": "python",
   "nbconvert_exporter": "python",
   "pygments_lexer": "ipython3",
   "version": "3.6.1"
  }
 },
 "nbformat": 4,
 "nbformat_minor": 2
}
