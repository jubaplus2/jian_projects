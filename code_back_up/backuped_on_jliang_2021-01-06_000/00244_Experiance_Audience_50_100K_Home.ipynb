{
 "cells": [
  {
   "cell_type": "code",
   "execution_count": 1,
   "metadata": {},
   "outputs": [
    {
     "data": {
      "text/plain": [
       "'/home/jian/Projects/Big_Lots/Analysis/2019_Q4/Experian_Audience'"
      ]
     },
     "execution_count": 1,
     "metadata": {},
     "output_type": "execute_result"
    }
   ],
   "source": [
    "import pandas as pd\n",
    "import os\n",
    "import datetime\n",
    "import numpy as np\n",
    "import glob\n",
    "import json\n",
    "import glob\n",
    "from haversine import haversine\n",
    "import gc\n",
    "zip_centers=json.load(open(\"/home/jian/Docs/Geo_mapping/updated_zip_centers_JL_2019-05-23.json\",\"r\"))\n",
    "os.getcwd()"
   ]
  },
  {
   "cell_type": "code",
   "execution_count": 2,
   "metadata": {},
   "outputs": [
    {
     "name": "stdout",
     "output_type": "stream",
     "text": [
      "(17626573, 5) 17626573\n"
     ]
    },
    {
     "data": {
      "text/html": [
       "<div>\n",
       "<style scoped>\n",
       "    .dataframe tbody tr th:only-of-type {\n",
       "        vertical-align: middle;\n",
       "    }\n",
       "\n",
       "    .dataframe tbody tr th {\n",
       "        vertical-align: top;\n",
       "    }\n",
       "\n",
       "    .dataframe thead th {\n",
       "        text-align: right;\n",
       "    }\n",
       "</style>\n",
       "<table border=\"1\" class=\"dataframe\">\n",
       "  <thead>\n",
       "    <tr style=\"text-align: right;\">\n",
       "      <th></th>\n",
       "      <th>CustomerNumber</th>\n",
       "      <th>IncomeId</th>\n",
       "      <th>IncomeDesc</th>\n",
       "      <th>HomerentId</th>\n",
       "      <th>HomerentDesc</th>\n",
       "    </tr>\n",
       "  </thead>\n",
       "  <tbody>\n",
       "    <tr>\n",
       "      <th>0</th>\n",
       "      <td>9</td>\n",
       "      <td>2</td>\n",
       "      <td>between $50k and $100k</td>\n",
       "      <td>1</td>\n",
       "      <td>own house</td>\n",
       "    </tr>\n",
       "    <tr>\n",
       "      <th>1</th>\n",
       "      <td>28</td>\n",
       "      <td>3</td>\n",
       "      <td>&gt;= $100k</td>\n",
       "      <td>1</td>\n",
       "      <td>own house</td>\n",
       "    </tr>\n",
       "  </tbody>\n",
       "</table>\n",
       "</div>"
      ],
      "text/plain": [
       "  CustomerNumber IncomeId              IncomeDesc HomerentId HomerentDesc\n",
       "0              9        2  between $50k and $100k          1    own house\n",
       "1             28        3                >= $100k          1    own house"
      ]
     },
     "execution_count": 2,
     "metadata": {},
     "output_type": "execute_result"
    }
   ],
   "source": [
    "df_experiance=pd.read_csv(\"/home/jian/BigLots/Experian/data_20191016/Experian_20191001114500.txt\",\n",
    "                         dtype=str,sep=\"|\",usecols=['CustomerNumber','IncomeId','IncomeDesc','HomerentId','HomerentDesc'])\n",
    "print(df_experiance.shape,df_experiance['CustomerNumber'].nunique())\n",
    "df_experiance.head(2)"
   ]
  },
  {
   "cell_type": "code",
   "execution_count": 3,
   "metadata": {},
   "outputs": [
    {
     "name": "stdout",
     "output_type": "stream",
     "text": [
      "(10, 2) 9 3\n",
      "(6, 2) 6 2\n"
     ]
    }
   ],
   "source": [
    "df_income=df_experiance[['IncomeId','IncomeDesc']].drop_duplicates()\n",
    "print(df_income.shape,df_income['IncomeId'].nunique(),df_income['IncomeDesc'].nunique())\n",
    "\n",
    "df_home=df_experiance[['HomerentId','HomerentDesc']].drop_duplicates()\n",
    "print(df_home.shape,df_home['HomerentId'].nunique(),df_home['HomerentDesc'].nunique())"
   ]
  },
  {
   "cell_type": "code",
   "execution_count": 4,
   "metadata": {},
   "outputs": [
    {
     "data": {
      "text/plain": [
       "['between $50k and $100k', '>= $100k', '< $50k', nan]"
      ]
     },
     "execution_count": 4,
     "metadata": {},
     "output_type": "execute_result"
    }
   ],
   "source": [
    "df_income['IncomeDesc'].unique().tolist()"
   ]
  },
  {
   "cell_type": "code",
   "execution_count": 5,
   "metadata": {},
   "outputs": [
    {
     "data": {
      "text/plain": [
       "['own house', 'rents', nan]"
      ]
     },
     "execution_count": 5,
     "metadata": {},
     "output_type": "execute_result"
    }
   ],
   "source": [
    "df_home['HomerentDesc'].unique().tolist()"
   ]
  },
  {
   "cell_type": "code",
   "execution_count": 6,
   "metadata": {},
   "outputs": [],
   "source": [
    "list_income_desc=['< $50k','between $50k and $100k', '>= $100k']\n",
    "list_home_desc=['own house', 'rents']"
   ]
  },
  {
   "cell_type": "code",
   "execution_count": 7,
   "metadata": {},
   "outputs": [
    {
     "name": "stdout",
     "output_type": "stream",
     "text": [
      "(17625143, 5)\n",
      "(17623397, 5)\n"
     ]
    }
   ],
   "source": [
    "df_experiance=df_experiance[df_experiance['IncomeDesc'].isin(list_income_desc)]\n",
    "print(df_experiance.shape)\n",
    "df_experiance=df_experiance[df_experiance['HomerentDesc'].isin(list_home_desc)]\n",
    "print(df_experiance.shape)"
   ]
  },
  {
   "cell_type": "code",
   "execution_count": 8,
   "metadata": {},
   "outputs": [
    {
     "name": "stdout",
     "output_type": "stream",
     "text": [
      "(17626573, 2) 17626573 17626573\n"
     ]
    },
    {
     "data": {
      "text/html": [
       "<div>\n",
       "<style scoped>\n",
       "    .dataframe tbody tr th:only-of-type {\n",
       "        vertical-align: middle;\n",
       "    }\n",
       "\n",
       "    .dataframe tbody tr th {\n",
       "        vertical-align: top;\n",
       "    }\n",
       "\n",
       "    .dataframe thead th {\n",
       "        text-align: right;\n",
       "    }\n",
       "</style>\n",
       "<table border=\"1\" class=\"dataframe\">\n",
       "  <thead>\n",
       "    <tr style=\"text-align: right;\">\n",
       "      <th></th>\n",
       "      <th>Customer_Num</th>\n",
       "      <th>hashed_customer_num</th>\n",
       "    </tr>\n",
       "  </thead>\n",
       "  <tbody>\n",
       "    <tr>\n",
       "      <th>0</th>\n",
       "      <td>812</td>\n",
       "      <td>313c938e0103b56b43632b702e3e63447fab1f90a4fe89...</td>\n",
       "    </tr>\n",
       "    <tr>\n",
       "      <th>1</th>\n",
       "      <td>983</td>\n",
       "      <td>fbe10beedf9d29cf53137ba38859ffd1dbe7642cedb7ef...</td>\n",
       "    </tr>\n",
       "  </tbody>\n",
       "</table>\n",
       "</div>"
      ],
      "text/plain": [
       "  Customer_Num                                hashed_customer_num\n",
       "0          812  313c938e0103b56b43632b702e3e63447fab1f90a4fe89...\n",
       "1          983  fbe10beedf9d29cf53137ba38859ffd1dbe7642cedb7ef..."
      ]
     },
     "execution_count": 8,
     "metadata": {},
     "output_type": "execute_result"
    }
   ],
   "source": [
    "df_exp_mapping_hash=pd.read_csv(\"/home/jian/BigLots/Experian/data_20191016/Experian 2019 customer hashed.txt\",\n",
    "                           dtype=str,sep=\"|\")\n",
    "print(df_exp_mapping_hash.shape,df_exp_mapping_hash['Customer_Num'].nunique(),df_exp_mapping_hash['hashed_customer_num'].nunique())\n",
    "df_exp_mapping_hash.head(2)"
   ]
  },
  {
   "cell_type": "code",
   "execution_count": 9,
   "metadata": {},
   "outputs": [
    {
     "data": {
      "text/html": [
       "<div>\n",
       "<style scoped>\n",
       "    .dataframe tbody tr th:only-of-type {\n",
       "        vertical-align: middle;\n",
       "    }\n",
       "\n",
       "    .dataframe tbody tr th {\n",
       "        vertical-align: top;\n",
       "    }\n",
       "\n",
       "    .dataframe thead th {\n",
       "        text-align: right;\n",
       "    }\n",
       "</style>\n",
       "<table border=\"1\" class=\"dataframe\">\n",
       "  <thead>\n",
       "    <tr style=\"text-align: right;\">\n",
       "      <th></th>\n",
       "      <th>CustomerNumber</th>\n",
       "      <th>customer_id_hashed</th>\n",
       "    </tr>\n",
       "  </thead>\n",
       "  <tbody>\n",
       "    <tr>\n",
       "      <th>0</th>\n",
       "      <td>812</td>\n",
       "      <td>313c938e0103b56b43632b702e3e63447fab1f90a4fe89...</td>\n",
       "    </tr>\n",
       "    <tr>\n",
       "      <th>1</th>\n",
       "      <td>983</td>\n",
       "      <td>fbe10beedf9d29cf53137ba38859ffd1dbe7642cedb7ef...</td>\n",
       "    </tr>\n",
       "  </tbody>\n",
       "</table>\n",
       "</div>"
      ],
      "text/plain": [
       "  CustomerNumber                                 customer_id_hashed\n",
       "0            812  313c938e0103b56b43632b702e3e63447fab1f90a4fe89...\n",
       "1            983  fbe10beedf9d29cf53137ba38859ffd1dbe7642cedb7ef..."
      ]
     },
     "execution_count": 9,
     "metadata": {},
     "output_type": "execute_result"
    }
   ],
   "source": [
    "df_exp_mapping_hash=df_exp_mapping_hash.rename(columns={\"Customer_Num\":\"CustomerNumber\",\"hashed_customer_num\":\"customer_id_hashed\"})\n",
    "df_exp_mapping_hash.head(2)"
   ]
  },
  {
   "cell_type": "code",
   "execution_count": 10,
   "metadata": {},
   "outputs": [
    {
     "name": "stdout",
     "output_type": "stream",
     "text": [
      "(17623397, 6) 17623397\n"
     ]
    },
    {
     "data": {
      "text/html": [
       "<div>\n",
       "<style scoped>\n",
       "    .dataframe tbody tr th:only-of-type {\n",
       "        vertical-align: middle;\n",
       "    }\n",
       "\n",
       "    .dataframe tbody tr th {\n",
       "        vertical-align: top;\n",
       "    }\n",
       "\n",
       "    .dataframe thead th {\n",
       "        text-align: right;\n",
       "    }\n",
       "</style>\n",
       "<table border=\"1\" class=\"dataframe\">\n",
       "  <thead>\n",
       "    <tr style=\"text-align: right;\">\n",
       "      <th></th>\n",
       "      <th>CustomerNumber</th>\n",
       "      <th>IncomeId</th>\n",
       "      <th>IncomeDesc</th>\n",
       "      <th>HomerentId</th>\n",
       "      <th>HomerentDesc</th>\n",
       "      <th>customer_id_hashed</th>\n",
       "    </tr>\n",
       "  </thead>\n",
       "  <tbody>\n",
       "    <tr>\n",
       "      <th>0</th>\n",
       "      <td>9</td>\n",
       "      <td>2</td>\n",
       "      <td>between $50k and $100k</td>\n",
       "      <td>1</td>\n",
       "      <td>own house</td>\n",
       "      <td>19581e27de7ced00ff1ce50b2047e7a567c76b1cbaebab...</td>\n",
       "    </tr>\n",
       "    <tr>\n",
       "      <th>1</th>\n",
       "      <td>28</td>\n",
       "      <td>3</td>\n",
       "      <td>&gt;= $100k</td>\n",
       "      <td>1</td>\n",
       "      <td>own house</td>\n",
       "      <td>59e19706d51d39f66711c2653cd7eb1291c94d9b55eb14...</td>\n",
       "    </tr>\n",
       "  </tbody>\n",
       "</table>\n",
       "</div>"
      ],
      "text/plain": [
       "  CustomerNumber IncomeId              IncomeDesc HomerentId HomerentDesc  \\\n",
       "0              9        2  between $50k and $100k          1    own house   \n",
       "1             28        3                >= $100k          1    own house   \n",
       "\n",
       "                                  customer_id_hashed  \n",
       "0  19581e27de7ced00ff1ce50b2047e7a567c76b1cbaebab...  \n",
       "1  59e19706d51d39f66711c2653cd7eb1291c94d9b55eb14...  "
      ]
     },
     "execution_count": 10,
     "metadata": {},
     "output_type": "execute_result"
    }
   ],
   "source": [
    "df_experiance=pd.merge(df_experiance,df_exp_mapping_hash,on=\"CustomerNumber\",how=\"left\")\n",
    "print(df_experiance.shape,df_experiance['CustomerNumber'].nunique())\n",
    "df_experiance.head(2)"
   ]
  },
  {
   "cell_type": "code",
   "execution_count": 11,
   "metadata": {},
   "outputs": [],
   "source": [
    "df_experiance=df_experiance[['customer_id_hashed','IncomeDesc','HomerentDesc']]"
   ]
  },
  {
   "cell_type": "code",
   "execution_count": 12,
   "metadata": {},
   "outputs": [
    {
     "data": {
      "text/plain": [
       "0"
      ]
     },
     "execution_count": 12,
     "metadata": {},
     "output_type": "execute_result"
    }
   ],
   "source": [
    "del df_exp_mapping_hash\n",
    "gc.collect()"
   ]
  },
  {
   "cell_type": "code",
   "execution_count": 13,
   "metadata": {},
   "outputs": [
    {
     "name": "stdout",
     "output_type": "stream",
     "text": [
      "17623397\n"
     ]
    }
   ],
   "source": [
    "list_hashed_id_exp=df_experiance['customer_id_hashed'].tolist()\n",
    "print(len(list_hashed_id_exp))"
   ]
  },
  {
   "cell_type": "markdown",
   "metadata": {
    "collapsed": true
   },
   "source": [
    "# All master_zip_email"
   ]
  },
  {
   "cell_type": "code",
   "execution_count": 14,
   "metadata": {},
   "outputs": [
    {
     "data": {
      "text/plain": [
       "(30732606, 4)"
      ]
     },
     "execution_count": 14,
     "metadata": {},
     "output_type": "execute_result"
    }
   ],
   "source": [
    "df_email_1012=pd.read_csv(\"/home/jian/Projects/Big_Lots/Live_Ramp/Quarterly_Update_2019Q4/BL_all_master_id_email_zip_closet_store_ZipLabel_upto_20191012_JL_2019-10-23\",\n",
    "               dtype=str,usecols=['customer_id_hashed','email_address_hash','cleaned_zip_cd','closest_store'])\n",
    "df_email_1012.shape\n",
    "\n",
    "# Since the Experian data is received in Oct, no need to see the extra new sign ups"
   ]
  },
  {
   "cell_type": "code",
   "execution_count": 15,
   "metadata": {},
   "outputs": [
    {
     "data": {
      "text/html": [
       "<div>\n",
       "<style scoped>\n",
       "    .dataframe tbody tr th:only-of-type {\n",
       "        vertical-align: middle;\n",
       "    }\n",
       "\n",
       "    .dataframe tbody tr th {\n",
       "        vertical-align: top;\n",
       "    }\n",
       "\n",
       "    .dataframe thead th {\n",
       "        text-align: right;\n",
       "    }\n",
       "</style>\n",
       "<table border=\"1\" class=\"dataframe\">\n",
       "  <thead>\n",
       "    <tr style=\"text-align: right;\">\n",
       "      <th></th>\n",
       "      <th>customer_id_hashed</th>\n",
       "      <th>email_address_hash</th>\n",
       "      <th>cleaned_zip_cd</th>\n",
       "      <th>closest_store</th>\n",
       "    </tr>\n",
       "  </thead>\n",
       "  <tbody>\n",
       "    <tr>\n",
       "      <th>0</th>\n",
       "      <td>5ef4d1f4d0bc545e81340e8ad58db181e904392172c05d...</td>\n",
       "      <td>4979adf6b28136f0f0e7fd092b7f20712fe93fe8b21516...</td>\n",
       "      <td>00nan</td>\n",
       "      <td>NaN</td>\n",
       "    </tr>\n",
       "    <tr>\n",
       "      <th>1</th>\n",
       "      <td>9c95a62baf8dcc9c33b117853d30cdd516e219c34eeb6f...</td>\n",
       "      <td>8da7290d6a194661c5af68946ff9ff95ec310dabcb9569...</td>\n",
       "      <td>00nan</td>\n",
       "      <td>NaN</td>\n",
       "    </tr>\n",
       "  </tbody>\n",
       "</table>\n",
       "</div>"
      ],
      "text/plain": [
       "                                  customer_id_hashed  \\\n",
       "0  5ef4d1f4d0bc545e81340e8ad58db181e904392172c05d...   \n",
       "1  9c95a62baf8dcc9c33b117853d30cdd516e219c34eeb6f...   \n",
       "\n",
       "                                  email_address_hash cleaned_zip_cd  \\\n",
       "0  4979adf6b28136f0f0e7fd092b7f20712fe93fe8b21516...          00nan   \n",
       "1  8da7290d6a194661c5af68946ff9ff95ec310dabcb9569...          00nan   \n",
       "\n",
       "  closest_store  \n",
       "0           NaN  \n",
       "1           NaN  "
      ]
     },
     "execution_count": 15,
     "metadata": {},
     "output_type": "execute_result"
    }
   ],
   "source": [
    "df_email_1012.head(2)"
   ]
  },
  {
   "cell_type": "code",
   "execution_count": 16,
   "metadata": {},
   "outputs": [
    {
     "name": "stdout",
     "output_type": "stream",
     "text": [
      "(69011, 1)\n"
     ]
    }
   ],
   "source": [
    "del df_email_1012['closest_store']\n",
    "# update based on recent store list received on Dec.1 \n",
    "df_unique_cleaned_zip=df_email_1012[['cleaned_zip_cd']].drop_duplicates()\n",
    "df_unique_cleaned_zip=df_unique_cleaned_zip[df_unique_cleaned_zip['cleaned_zip_cd'].apply(lambda x: x.isdigit())]\n",
    "print(df_unique_cleaned_zip.shape)"
   ]
  },
  {
   "cell_type": "code",
   "execution_count": 17,
   "metadata": {},
   "outputs": [],
   "source": [
    "df_store_locations=pd.read_table(\"/home/jian/BigLots/static_files/Store_list/MediaStormStores20191201-133313-746.txt\",\n",
    "                                dtype=str,sep=\"|\",usecols=['location_id','latitude_meas','longitude_meas'])\n",
    "df_store_locations['latitude_meas']=df_store_locations['latitude_meas'].astype(float)\n",
    "df_store_locations['longitude_meas']=df_store_locations['longitude_meas'].astype(float)\n",
    "df_store_locations=df_store_locations[df_store_locations['latitude_meas']!=0]\n",
    "df_store_locations=df_store_locations[df_store_locations['location_id']!=\"6990\"]\n",
    "df_store_locations=df_store_locations[['location_id','latitude_meas','longitude_meas']]\n",
    "df_store_locations['store_coor']=df_store_locations[['latitude_meas','longitude_meas']].values.tolist()\n",
    "dict_store_location=df_store_locations.set_index(['location_id']).to_dict()['store_coor']"
   ]
  },
  {
   "cell_type": "code",
   "execution_count": 18,
   "metadata": {},
   "outputs": [],
   "source": [
    "def find_the_cloest_store(input_zip):\n",
    "    try:\n",
    "        zip_center=zip_centers[input_zip]\n",
    "    except:\n",
    "        return np.nan\n",
    "    min_dist=np.inf\n",
    "    output_store_closest=np.nan\n",
    "    for k,v in dict_store_location.items():\n",
    "        dist=haversine(zip_center,v,unit=\"mi\")\n",
    "        if dist<min_dist:\n",
    "            min_dist=dist\n",
    "            output_store_closest=k\n",
    "    return output_store_closest\n",
    "            "
   ]
  },
  {
   "cell_type": "code",
   "execution_count": 19,
   "metadata": {},
   "outputs": [],
   "source": [
    "df_unique_cleaned_zip['closest_store']=df_unique_cleaned_zip['cleaned_zip_cd'].apply(lambda x: find_the_cloest_store(x))\n"
   ]
  },
  {
   "cell_type": "code",
   "execution_count": 20,
   "metadata": {},
   "outputs": [],
   "source": [
    "df_email_1012=pd.merge(df_email_1012,df_unique_cleaned_zip,on=\"cleaned_zip_cd\",how=\"left\")"
   ]
  },
  {
   "cell_type": "markdown",
   "metadata": {},
   "source": [
    "# Sales 12 months by id"
   ]
  },
  {
   "cell_type": "code",
   "execution_count": 22,
   "metadata": {},
   "outputs": [
    {
     "name": "stdout",
     "output_type": "stream",
     "text": [
      "(505, 23)\n"
     ]
    }
   ],
   "source": [
    "# apply the rule if ever shopped in a SOTF, the id will be labeled as a SOTF id\n",
    "\n",
    "SOTF_store_list=pd.read_excel(\"./BL Store List Report from Dom 11.15.19 354PM.xlsx\",dtype=str)\n",
    "SOTF_store_list=SOTF_store_list[SOTF_store_list['SOTF']==\"Yes\"]\n",
    "print(SOTF_store_list.shape)"
   ]
  },
  {
   "cell_type": "code",
   "execution_count": 24,
   "metadata": {},
   "outputs": [
    {
     "name": "stdout",
     "output_type": "stream",
     "text": [
      "492\n"
     ]
    }
   ],
   "source": [
    "list_SOTF=SOTF_store_list['Store'].unique().tolist()\n",
    "list_SOTF=[x for x in list_SOTF if x.isdigit()]\n",
    "print(len(list_SOTF))"
   ]
  },
  {
   "cell_type": "code",
   "execution_count": 25,
   "metadata": {},
   "outputs": [],
   "source": [
    "most_recent_week_with_data=datetime.date(2019,12,12)"
   ]
  },
  {
   "cell_type": "code",
   "execution_count": 26,
   "metadata": {},
   "outputs": [],
   "source": [
    "def recursive_file_gen(root_path):\n",
    "    for root, dirs, files in os.walk(root_path):\n",
    "        for file in files:\n",
    "            yield os.path.join(root, file)"
   ]
  },
  {
   "cell_type": "code",
   "execution_count": 27,
   "metadata": {},
   "outputs": [
    {
     "name": "stdout",
     "output_type": "stream",
     "text": [
      "44\n",
      "/home/jian/BigLots/2019_by_weeks/MediaStorm_2019-02-16/MediaStormDailySales20190219-113605-481.txt\n",
      "/home/jian/BigLots/2019_by_weeks/MediaStorm_2019-12-14/MediaStormDailySales20191217-195625-000.txt\n"
     ]
    }
   ],
   "source": [
    "list_2019_POS=list(recursive_file_gen(\"/home/jian/BigLots/2019_by_weeks/\"))\n",
    "list_2019_POS=[x for x in list_2019_POS if \"daily\" in x.lower()]\n",
    "list_2019_POS.sort()\n",
    "\n",
    "list_2019_POS=[x for x in list_2019_POS if x.split(\"s/MediaStorm_\")[1][:10]>\"2019-02-09\"] # remove the 1 st week in 2019Q1\n",
    "print(len(list_2019_POS))\n",
    "print(list_2019_POS[0])\n",
    "print(list_2019_POS[-1])"
   ]
  },
  {
   "cell_type": "code",
   "execution_count": 28,
   "metadata": {},
   "outputs": [],
   "source": [
    "list_2018_data=glob.glob(\"/home/jian/BigLots/hist_daily_data_itemlevel_decompressed/*.txt\")\n",
    "list_2018_data.sort()\n",
    "list_2018_data=list_2018_data[-(52-len(list_2019_POS)):]"
   ]
  },
  {
   "cell_type": "code",
   "execution_count": 29,
   "metadata": {},
   "outputs": [
    {
     "name": "stdout",
     "output_type": "stream",
     "text": [
      "52\n"
     ]
    }
   ],
   "source": [
    "list_all_POS_52_weeks=list_2018_data+list_2019_POS\n",
    "print(len(list_all_POS_52_weeks))"
   ]
  },
  {
   "cell_type": "code",
   "execution_count": 31,
   "metadata": {},
   "outputs": [
    {
     "name": "stdout",
     "output_type": "stream",
     "text": [
      "1 2019-12-18 14:03:26.483527\n",
      "2 2019-12-18 14:04:18.554037\n",
      "3 2019-12-18 14:05:08.943594\n",
      "4 2019-12-18 14:05:54.603499\n",
      "5 2019-12-18 14:06:53.224294\n",
      "6 2019-12-18 14:07:45.020022\n",
      "7 2019-12-18 14:08:25.130011\n",
      "8 2019-12-18 14:09:05.002745\n",
      "9 2019-12-18 14:09:48.549790\n",
      "10 2019-12-18 14:10:30.256811\n",
      "11 2019-12-18 14:11:17.506252\n",
      "12 2019-12-18 14:12:04.198777\n",
      "13 2019-12-18 14:12:49.939036\n",
      "14 2019-12-18 14:13:39.434639\n",
      "15 2019-12-18 14:14:27.085664\n",
      "16 2019-12-18 14:15:10.868845\n",
      "17 2019-12-18 14:15:53.088827\n",
      "18 2019-12-18 14:16:45.446092\n",
      "19 2019-12-18 14:17:25.696923\n",
      "20 2019-12-18 14:18:16.749522\n",
      "21 2019-12-18 14:19:01.918870\n",
      "22 2019-12-18 14:19:43.662077\n",
      "23 2019-12-18 14:20:16.778674\n",
      "24 2019-12-18 14:20:49.125316\n",
      "25 2019-12-18 14:21:35.279217\n",
      "26 2019-12-18 14:22:25.628774\n",
      "27 2019-12-18 14:23:09.228503\n",
      "28 2019-12-18 14:23:59.813039\n",
      "29 2019-12-18 14:24:36.490897\n",
      "30 2019-12-18 14:25:19.059656\n",
      "31 2019-12-18 14:26:02.089482\n",
      "32 2019-12-18 14:26:52.495692\n",
      "33 2019-12-18 14:27:26.626268\n",
      "34 2019-12-18 14:28:15.153152\n",
      "35 2019-12-18 14:29:05.189821\n",
      "36 2019-12-18 14:29:39.598243\n",
      "37 2019-12-18 14:30:14.799892\n",
      "38 2019-12-18 14:30:39.526998\n",
      "39 2019-12-18 14:31:25.492644\n",
      "40 2019-12-18 14:32:12.859316\n",
      "41 2019-12-18 14:32:54.372148\n",
      "42 2019-12-18 14:33:34.495313\n",
      "43 2019-12-18 14:34:07.308941\n",
      "44 2019-12-18 14:34:47.483670\n",
      "45 2019-12-18 14:35:21.198609\n",
      "46 2019-12-18 14:35:55.300016\n",
      "47 2019-12-18 14:36:30.798905\n",
      "48 2019-12-18 14:37:09.244385\n",
      "49 2019-12-18 14:37:50.410130\n",
      "50 2019-12-18 14:38:55.083444\n",
      "51 2019-12-18 14:39:58.786172\n",
      "52 2019-12-18 14:41:03.132103\n"
     ]
    }
   ],
   "source": [
    "i_counter=0\n",
    "df_legacy_ids=df_experiance[['customer_id_hashed']]\n",
    "df_SOTF_ids=pd.DataFrame()\n",
    "for file in list_all_POS_52_weeks:\n",
    "    df=pd.read_table(file,dtype=str,sep=\"|\",usecols=['location_id','customer_id_hashed']).drop_duplicates()\n",
    "    df=df[df['location_id'].isin(list_SOTF)]\n",
    "    set_SOTF_ids=set(df['customer_id_hashed'].tolist())\n",
    "    \n",
    "    df=df_legacy_ids[df_legacy_ids['customer_id_hashed'].isin(set_SOTF_ids)][['customer_id_hashed']]\n",
    "    df_SOTF_ids=df_SOTF_ids.append(df)\n",
    "    df_legacy_ids=df_legacy_ids[~df_legacy_ids['customer_id_hashed'].isin(set_SOTF_ids)]\n",
    "    i_counter+=1\n",
    "    print(i_counter,datetime.datetime.now())"
   ]
  },
  {
   "cell_type": "code",
   "execution_count": 32,
   "metadata": {},
   "outputs": [
    {
     "name": "stdout",
     "output_type": "stream",
     "text": [
      "(17623397, 3)\n",
      "(5261812, 1)\n",
      "(12361585, 1)\n"
     ]
    }
   ],
   "source": [
    "print(df_experiance.shape)\n",
    "print(df_SOTF_ids.shape)\n",
    "print(df_legacy_ids.shape)"
   ]
  },
  {
   "cell_type": "code",
   "execution_count": 33,
   "metadata": {},
   "outputs": [
    {
     "data": {
      "text/plain": [
       "'\\ni_counter=0\\ndf_all_sales_id_by_store=pd.DataFrame()\\nfor file in list_all_POS_52_weeks:\\n    try:\\n        week_end_dt=file.split(\"s/MediaStorm_\")[1][:10].replace(\"-\",\"\")\\n    except:\\n        week_end_dt=file.split(\"MediaStormDailySalesHistory\")[1][:8]\\n        \\n    df=pd.read_table(file,dtype=str,sep=\"|\",usecols=[\\'location_id\\',\\'transaction_dt\\',\\'transaction_id\\',\\'customer_id_hashed\\',\\'item_transaction_amt\\'])\\n    # df=df[df[\\'customer_id_hashed\\'].isin(list_hashed_id_exp)]\\n    df[\\'item_transaction_amt\\']=df[\\'item_transaction_amt\\'].astype(float)\\n    df_trans=df[[\\'location_id\\',\\'transaction_dt\\',\\'transaction_id\\',\\'customer_id_hashed\\']].drop_duplicates()\\n    df_trans=df_trans.groupby([\"customer_id_hashed\",\"location_id\"])[\\'transaction_id\\'].count().to_frame().reset_index()\\n    df_trans=df_trans.rename(columns={\"transaction_id\":\"trans\"})\\n    df_sales=df.groupby([\"customer_id_hashed\",\"location_id\"])[\\'item_transaction_amt\\'].sum().to_frame().reset_index()\\n    df_sales=df_sales.rename(columns={\"item_transaction_amt\":\"sales\"})\\n    df=pd.merge(df_sales,df_trans,on=[\"customer_id_hashed\",\"location_id\"],how=\"left\")\\n    df[\\'week_end_dt\\']=week_end_dt\\n    i_counter+=1\\n    df_all_sales_id_by_store=df_all_sales_id_by_store.append(df)\\n    print(i_counter,week_end_dt,datetime.datetime.now())\\n'"
      ]
     },
     "execution_count": 33,
     "metadata": {},
     "output_type": "execute_result"
    }
   ],
   "source": [
    "# The kernel always gets died\n",
    "'''\n",
    "i_counter=0\n",
    "df_all_sales_id_by_store=pd.DataFrame()\n",
    "for file in list_all_POS_52_weeks:\n",
    "    try:\n",
    "        week_end_dt=file.split(\"s/MediaStorm_\")[1][:10].replace(\"-\",\"\")\n",
    "    except:\n",
    "        week_end_dt=file.split(\"MediaStormDailySalesHistory\")[1][:8]\n",
    "        \n",
    "    df=pd.read_table(file,dtype=str,sep=\"|\",usecols=['location_id','transaction_dt','transaction_id','customer_id_hashed','item_transaction_amt'])\n",
    "    # df=df[df['customer_id_hashed'].isin(list_hashed_id_exp)]\n",
    "    df['item_transaction_amt']=df['item_transaction_amt'].astype(float)\n",
    "    df_trans=df[['location_id','transaction_dt','transaction_id','customer_id_hashed']].drop_duplicates()\n",
    "    df_trans=df_trans.groupby([\"customer_id_hashed\",\"location_id\"])['transaction_id'].count().to_frame().reset_index()\n",
    "    df_trans=df_trans.rename(columns={\"transaction_id\":\"trans\"})\n",
    "    df_sales=df.groupby([\"customer_id_hashed\",\"location_id\"])['item_transaction_amt'].sum().to_frame().reset_index()\n",
    "    df_sales=df_sales.rename(columns={\"item_transaction_amt\":\"sales\"})\n",
    "    df=pd.merge(df_sales,df_trans,on=[\"customer_id_hashed\",\"location_id\"],how=\"left\")\n",
    "    df['week_end_dt']=week_end_dt\n",
    "    i_counter+=1\n",
    "    df_all_sales_id_by_store=df_all_sales_id_by_store.append(df)\n",
    "    print(i_counter,week_end_dt,datetime.datetime.now())\n",
    "'''"
   ]
  },
  {
   "cell_type": "code",
   "execution_count": 36,
   "metadata": {},
   "outputs": [],
   "source": [
    "df_SOTF_ids['Store_Type']=\"SOTF\"\n",
    "df_legacy_ids['Store_Type']=\"Legacy\"\n",
    "\n",
    "df_store_for_id=df_SOTF_ids.append(df_legacy_ids)"
   ]
  },
  {
   "cell_type": "code",
   "execution_count": 37,
   "metadata": {},
   "outputs": [
    {
     "data": {
      "text/plain": [
       "4898"
      ]
     },
     "execution_count": 37,
     "metadata": {},
     "output_type": "execute_result"
    }
   ],
   "source": [
    "del df_SOTF_ids\n",
    "del df_legacy_ids\n",
    "gc.collect()"
   ]
  },
  {
   "cell_type": "markdown",
   "metadata": {},
   "source": [
    "# Final Output"
   ]
  },
  {
   "cell_type": "code",
   "execution_count": 44,
   "metadata": {},
   "outputs": [
    {
     "name": "stdout",
     "output_type": "stream",
     "text": [
      "(17623397, 3) (17623397, 2)\n",
      "(17623397, 4)\n"
     ]
    }
   ],
   "source": [
    "print(df_experiance.shape,df_store_for_id.shape)\n",
    "df_experiance=pd.merge(df_experiance,df_store_for_id,on=\"customer_id_hashed\",how=\"left\")\n",
    "print(df_experiance.shape)"
   ]
  },
  {
   "cell_type": "code",
   "execution_count": 45,
   "metadata": {},
   "outputs": [
    {
     "data": {
      "text/html": [
       "<div>\n",
       "<style scoped>\n",
       "    .dataframe tbody tr th:only-of-type {\n",
       "        vertical-align: middle;\n",
       "    }\n",
       "\n",
       "    .dataframe tbody tr th {\n",
       "        vertical-align: top;\n",
       "    }\n",
       "\n",
       "    .dataframe thead th {\n",
       "        text-align: right;\n",
       "    }\n",
       "</style>\n",
       "<table border=\"1\" class=\"dataframe\">\n",
       "  <thead>\n",
       "    <tr style=\"text-align: right;\">\n",
       "      <th></th>\n",
       "      <th>customer_id_hashed</th>\n",
       "      <th>email_address_hash</th>\n",
       "      <th>cleaned_zip_cd</th>\n",
       "      <th>closest_store</th>\n",
       "    </tr>\n",
       "  </thead>\n",
       "  <tbody>\n",
       "    <tr>\n",
       "      <th>0</th>\n",
       "      <td>5ef4d1f4d0bc545e81340e8ad58db181e904392172c05d...</td>\n",
       "      <td>4979adf6b28136f0f0e7fd092b7f20712fe93fe8b21516...</td>\n",
       "      <td>00nan</td>\n",
       "      <td>NaN</td>\n",
       "    </tr>\n",
       "    <tr>\n",
       "      <th>1</th>\n",
       "      <td>9c95a62baf8dcc9c33b117853d30cdd516e219c34eeb6f...</td>\n",
       "      <td>8da7290d6a194661c5af68946ff9ff95ec310dabcb9569...</td>\n",
       "      <td>00nan</td>\n",
       "      <td>NaN</td>\n",
       "    </tr>\n",
       "  </tbody>\n",
       "</table>\n",
       "</div>"
      ],
      "text/plain": [
       "                                  customer_id_hashed  \\\n",
       "0  5ef4d1f4d0bc545e81340e8ad58db181e904392172c05d...   \n",
       "1  9c95a62baf8dcc9c33b117853d30cdd516e219c34eeb6f...   \n",
       "\n",
       "                                  email_address_hash cleaned_zip_cd  \\\n",
       "0  4979adf6b28136f0f0e7fd092b7f20712fe93fe8b21516...          00nan   \n",
       "1  8da7290d6a194661c5af68946ff9ff95ec310dabcb9569...          00nan   \n",
       "\n",
       "  closest_store  \n",
       "0           NaN  \n",
       "1           NaN  "
      ]
     },
     "execution_count": 45,
     "metadata": {},
     "output_type": "execute_result"
    }
   ],
   "source": [
    "# Ignored the closest store\n",
    "df_email_1012.head(2)"
   ]
  },
  {
   "cell_type": "code",
   "execution_count": 46,
   "metadata": {},
   "outputs": [
    {
     "data": {
      "text/html": [
       "<div>\n",
       "<style scoped>\n",
       "    .dataframe tbody tr th:only-of-type {\n",
       "        vertical-align: middle;\n",
       "    }\n",
       "\n",
       "    .dataframe tbody tr th {\n",
       "        vertical-align: top;\n",
       "    }\n",
       "\n",
       "    .dataframe thead th {\n",
       "        text-align: right;\n",
       "    }\n",
       "</style>\n",
       "<table border=\"1\" class=\"dataframe\">\n",
       "  <thead>\n",
       "    <tr style=\"text-align: right;\">\n",
       "      <th></th>\n",
       "      <th>customer_id_hashed</th>\n",
       "      <th>IncomeDesc</th>\n",
       "      <th>HomerentDesc</th>\n",
       "      <th>Store_Type</th>\n",
       "    </tr>\n",
       "  </thead>\n",
       "  <tbody>\n",
       "    <tr>\n",
       "      <th>0</th>\n",
       "      <td>19581e27de7ced00ff1ce50b2047e7a567c76b1cbaebab...</td>\n",
       "      <td>between $50k and $100k</td>\n",
       "      <td>own house</td>\n",
       "      <td>SOTF</td>\n",
       "    </tr>\n",
       "    <tr>\n",
       "      <th>1</th>\n",
       "      <td>59e19706d51d39f66711c2653cd7eb1291c94d9b55eb14...</td>\n",
       "      <td>&gt;= $100k</td>\n",
       "      <td>own house</td>\n",
       "      <td>Legacy</td>\n",
       "    </tr>\n",
       "  </tbody>\n",
       "</table>\n",
       "</div>"
      ],
      "text/plain": [
       "                                  customer_id_hashed              IncomeDesc  \\\n",
       "0  19581e27de7ced00ff1ce50b2047e7a567c76b1cbaebab...  between $50k and $100k   \n",
       "1  59e19706d51d39f66711c2653cd7eb1291c94d9b55eb14...                >= $100k   \n",
       "\n",
       "  HomerentDesc Store_Type  \n",
       "0    own house       SOTF  \n",
       "1    own house     Legacy  "
      ]
     },
     "execution_count": 46,
     "metadata": {},
     "output_type": "execute_result"
    }
   ],
   "source": [
    "df_experiance.head(2)"
   ]
  },
  {
   "cell_type": "code",
   "execution_count": 47,
   "metadata": {},
   "outputs": [
    {
     "name": "stdout",
     "output_type": "stream",
     "text": [
      "(30732606, 2) 30732606\n"
     ]
    }
   ],
   "source": [
    "df_email_1012=df_email_1012[['customer_id_hashed','email_address_hash']]\n",
    "print(df_email_1012.shape,df_email_1012['customer_id_hashed'].nunique())"
   ]
  },
  {
   "cell_type": "code",
   "execution_count": 48,
   "metadata": {},
   "outputs": [
    {
     "name": "stdout",
     "output_type": "stream",
     "text": [
      "(17623397, 4)\n",
      "(17623397, 5)\n"
     ]
    }
   ],
   "source": [
    "print(df_experiance.shape)\n",
    "df_experiance=pd.merge(df_experiance,df_email_1012,on=\"customer_id_hashed\",how=\"left\")\n",
    "print(df_experiance.shape)"
   ]
  },
  {
   "cell_type": "code",
   "execution_count": 49,
   "metadata": {},
   "outputs": [
    {
     "data": {
      "text/html": [
       "<div>\n",
       "<style scoped>\n",
       "    .dataframe tbody tr th:only-of-type {\n",
       "        vertical-align: middle;\n",
       "    }\n",
       "\n",
       "    .dataframe tbody tr th {\n",
       "        vertical-align: top;\n",
       "    }\n",
       "\n",
       "    .dataframe thead th {\n",
       "        text-align: right;\n",
       "    }\n",
       "</style>\n",
       "<table border=\"1\" class=\"dataframe\">\n",
       "  <thead>\n",
       "    <tr style=\"text-align: right;\">\n",
       "      <th></th>\n",
       "      <th>customer_id_hashed</th>\n",
       "      <th>IncomeDesc</th>\n",
       "      <th>HomerentDesc</th>\n",
       "      <th>Store_Type</th>\n",
       "      <th>email_address_hash</th>\n",
       "    </tr>\n",
       "  </thead>\n",
       "  <tbody>\n",
       "    <tr>\n",
       "      <th>0</th>\n",
       "      <td>19581e27de7ced00ff1ce50b2047e7a567c76b1cbaebab...</td>\n",
       "      <td>between $50k and $100k</td>\n",
       "      <td>own house</td>\n",
       "      <td>SOTF</td>\n",
       "      <td>dd53075d06b1c045bb7b5756adf7e39d1ef26b24022b17...</td>\n",
       "    </tr>\n",
       "    <tr>\n",
       "      <th>1</th>\n",
       "      <td>59e19706d51d39f66711c2653cd7eb1291c94d9b55eb14...</td>\n",
       "      <td>&gt;= $100k</td>\n",
       "      <td>own house</td>\n",
       "      <td>Legacy</td>\n",
       "      <td>bbe01b57dc8fb9c8c9f6722f15836c73ba8eb481279af0...</td>\n",
       "    </tr>\n",
       "  </tbody>\n",
       "</table>\n",
       "</div>"
      ],
      "text/plain": [
       "                                  customer_id_hashed              IncomeDesc  \\\n",
       "0  19581e27de7ced00ff1ce50b2047e7a567c76b1cbaebab...  between $50k and $100k   \n",
       "1  59e19706d51d39f66711c2653cd7eb1291c94d9b55eb14...                >= $100k   \n",
       "\n",
       "  HomerentDesc Store_Type                                 email_address_hash  \n",
       "0    own house       SOTF  dd53075d06b1c045bb7b5756adf7e39d1ef26b24022b17...  \n",
       "1    own house     Legacy  bbe01b57dc8fb9c8c9f6722f15836c73ba8eb481279af0...  "
      ]
     },
     "execution_count": 49,
     "metadata": {},
     "output_type": "execute_result"
    }
   ],
   "source": [
    "df_experiance.head(2)"
   ]
  },
  {
   "cell_type": "code",
   "execution_count": 51,
   "metadata": {},
   "outputs": [
    {
     "data": {
      "text/plain": [
       "(1602143, 5)"
      ]
     },
     "execution_count": 51,
     "metadata": {},
     "output_type": "execute_result"
    }
   ],
   "source": [
    "df_experiance[pd.isnull(df_experiance['email_address_hash'])].shape"
   ]
  },
  {
   "cell_type": "code",
   "execution_count": 52,
   "metadata": {},
   "outputs": [
    {
     "data": {
      "text/plain": [
       "0.09090999879308172"
      ]
     },
     "execution_count": 52,
     "metadata": {},
     "output_type": "execute_result"
    }
   ],
   "source": [
    "1602143/17623397"
   ]
  },
  {
   "cell_type": "code",
   "execution_count": 50,
   "metadata": {},
   "outputs": [
    {
     "data": {
      "text/plain": [
       "'/home/jian/Projects/Big_Lots/Analysis/2019_Q4/Experian_Audience'"
      ]
     },
     "execution_count": 50,
     "metadata": {},
     "output_type": "execute_result"
    }
   ],
   "source": [
    "os.getcwd()"
   ]
  },
  {
   "cell_type": "code",
   "execution_count": 53,
   "metadata": {},
   "outputs": [],
   "source": [
    "df_experiance.to_csv(\"./all_experian_id_detail_JL_\"+str(datetime.datetime.now().date())+\".csv\",index=False)"
   ]
  },
  {
   "cell_type": "code",
   "execution_count": 55,
   "metadata": {},
   "outputs": [],
   "source": [
    "dict_rename_HHI={\">= $100k\":\"HHI100KHigher\",\"< $50k\":\"HHI50KLower\",\"between $50k and $100k\":\"HHI50to100K\"}\n",
    "dict_rename_house={\"own house\":\"HouseOwner\",\"rents\":\"HouseRents\"}"
   ]
  },
  {
   "cell_type": "code",
   "execution_count": 59,
   "metadata": {},
   "outputs": [],
   "source": [
    "writer_folder_uploaded='/home/jian/Projects/Big_Lots/Analysis/2019_Q4/Experian_Audience/uploaded/'\n",
    "try:\n",
    "    os.stat(writer_folder_uploaded)\n",
    "except:\n",
    "    os.mkdir(writer_folder_uploaded)"
   ]
  },
  {
   "cell_type": "code",
   "execution_count": 62,
   "metadata": {},
   "outputs": [
    {
     "name": "stderr",
     "output_type": "stream",
     "text": [
      "/home/jian/.local/lib/python3.6/site-packages/ipykernel_launcher.py:11: SettingWithCopyWarning: \n",
      "A value is trying to be set on a copy of a slice from a DataFrame.\n",
      "Try using .loc[row_indexer,col_indexer] = value instead\n",
      "\n",
      "See the caveats in the documentation: http://pandas.pydata.org/pandas-docs/stable/user_guide/indexing.html#returning-a-view-versus-a-copy\n",
      "  # This is added back by InteractiveShellApp.init_path()\n"
     ]
    }
   ],
   "source": [
    "df_summary_count=pd.DataFrame()\n",
    "i_counter=0\n",
    "for seg,df_group in df_experiance.groupby(['Store_Type','IncomeDesc','HomerentDesc']):\n",
    "    \n",
    "    label_sotf=seg[0]\n",
    "    label_HHI=dict_rename_HHI[seg[1]]\n",
    "    label_House=dict_rename_house[seg[2]]\n",
    "    segment=\"ExperianSegment_2019Q4_\"+\"_\".join([label_sotf,label_HHI,label_House])\n",
    "    \n",
    "    df_group=df_group[['email_address_hash']]\n",
    "    df_group['segment']=segment\n",
    "    df_group=df_group[pd.notnull(df_group['email_address_hash'])].drop_duplicates()\n",
    "    \n",
    "    i_counter+=1\n",
    "    count=df_group.shape[0]\n",
    "    df=pd.DataFrame({\"segment\":segment,\"email_count\":count},index=[i_counter])\n",
    "    df_summary_count=df_summary_count.append(df)\n",
    "    df_group.to_csv(writer_folder_uploaded+segment+\".csv\",index=False)"
   ]
  },
  {
   "cell_type": "code",
   "execution_count": 64,
   "metadata": {},
   "outputs": [],
   "source": [
    "df_summary_count.to_csv(\"./summary_experian_audience_2019Q4.csv\",index=False)"
   ]
  },
  {
   "cell_type": "code",
   "execution_count": null,
   "metadata": {},
   "outputs": [],
   "source": []
  }
 ],
 "metadata": {
  "kernelspec": {
   "display_name": "Python 3",
   "language": "python",
   "name": "python3"
  },
  "language_info": {
   "codemirror_mode": {
    "name": "ipython",
    "version": 3
   },
   "file_extension": ".py",
   "mimetype": "text/x-python",
   "name": "python",
   "nbconvert_exporter": "python",
   "pygments_lexer": "ipython3",
   "version": "3.6.1"
  }
 },
 "nbformat": 4,
 "nbformat_minor": 2
}
