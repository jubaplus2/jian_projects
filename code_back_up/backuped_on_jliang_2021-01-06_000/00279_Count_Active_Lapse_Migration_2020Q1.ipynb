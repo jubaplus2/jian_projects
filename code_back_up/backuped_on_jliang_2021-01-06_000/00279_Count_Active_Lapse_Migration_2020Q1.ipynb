{
 "cells": [
  {
   "cell_type": "code",
   "execution_count": 1,
   "metadata": {},
   "outputs": [
    {
     "data": {
      "text/plain": [
       "'/home/jian/Projects/Big_Lots/Analysis/2019_Q4/Migration_JL_status_change'"
      ]
     },
     "execution_count": 1,
     "metadata": {},
     "output_type": "execute_result"
    }
   ],
   "source": [
    "import pandas as pd\n",
    "import os\n",
    "import datetime\n",
    "import numpy as np\n",
    "import gc\n",
    "\n",
    "os.getcwd()\n",
    "\n",
    "# To check about the 2019 weekly file path df week filter for the rolling later"
   ]
  },
  {
   "cell_type": "code",
   "execution_count": 2,
   "metadata": {},
   "outputs": [
    {
     "name": "stdout",
     "output_type": "stream",
     "text": [
      "prior_quarter_End 2020-02-01\n",
      "recent_complete_quarter_End 2020-05-02\n",
      "lapsed_date_begin 2016-01-26\n"
     ]
    }
   ],
   "source": [
    "prior_quarter_End=datetime.date(2020,2,1)\n",
    "recent_complete_quarter_End=prior_quarter_End+datetime.timedelta(days=7*13)\n",
    "\n",
    "print(\"prior_quarter_End\",prior_quarter_End)\n",
    "print(\"recent_complete_quarter_End\",recent_complete_quarter_End)\n",
    "\n",
    "lapsed_date_begin=prior_quarter_End-datetime.timedelta(days=(4*365+1+6))\n",
    "print(\"lapsed_date_begin\",lapsed_date_begin)\n"
   ]
  },
  {
   "cell_type": "code",
   "execution_count": 3,
   "metadata": {},
   "outputs": [
    {
     "name": "stdout",
     "output_type": "stream",
     "text": [
      "2015-07-28\n",
      "2017-02-26\n"
     ]
    }
   ],
   "source": [
    "lapsed=pd.read_table(\"/home/jian/Projects/Big_Lots/Loyal_members/loyalty_sales_data/lapsed20140826_20170226/MediaStormLapsedCustDtl.txt\",\n",
    "                     sep=\",\",usecols=['customer_id_hashed','transaction_date'],dtype=str).drop_duplicates()\n",
    "lapsed=lapsed[lapsed['transaction_date']>=str(lapsed_date_begin)]\n",
    "\n",
    "print(lapsed['transaction_date'].min())\n",
    "print(lapsed['transaction_date'].max())"
   ]
  },
  {
   "cell_type": "code",
   "execution_count": 4,
   "metadata": {},
   "outputs": [
    {
     "name": "stdout",
     "output_type": "stream",
     "text": [
      "1 2019-11-08 19:00:42.756875\n",
      "2 2019-11-08 19:01:42.772373\n",
      "3 2019-11-08 19:02:26.446788\n",
      "4 2019-11-08 19:03:28.752790\n",
      "5 2019-11-08 19:06:30.277716\n",
      "6 2019-11-08 19:08:47.597534\n",
      "7 2019-11-08 19:09:42.609846\n",
      "8 2019-11-08 19:10:22.332264\n",
      "9 2019-11-08 19:11:00.635467\n",
      "10 2019-11-08 19:12:10.320726\n",
      "11 2019-11-08 19:13:49.112202\n",
      "12 2019-11-08 19:14:54.667240\n",
      "13 2019-11-08 19:15:50.018085\n",
      "14 2019-11-08 19:16:46.445256\n",
      "15 2019-11-08 19:17:43.312855\n"
     ]
    }
   ],
   "source": [
    "# change to the weekly based on the celery weekly run\n",
    "\n",
    "chunksize_num = 10**7\n",
    "filename='/home/jian/Projects/Big_Lots/Live_Ramp/Quarterly_Update_2019Q1/crm_newscore_0922/combinedtransactions_0922.csv'\n",
    "dftrans_before_20180922=pd.DataFrame()\n",
    "count_i=0\n",
    "\n",
    "for chunk in pd.read_csv(filename, chunksize=chunksize_num,dtype=str,usecols=['customer_id_hashed','transaction_date']):\n",
    "    chunk = chunk.drop_duplicates()\n",
    "    chunk=chunk[chunk['transaction_date']>=str(lapsed_date_begin)]\n",
    "    dftrans_before_20180922=dftrans_before_20180922.append(chunk)\n",
    "    count_i+=1\n",
    "    print(count_i,datetime.datetime.now())\n",
    "dftrans_before_20180922=dftrans_before_20180922.drop_duplicates()    "
   ]
  },
  {
   "cell_type": "code",
   "execution_count": 5,
   "metadata": {},
   "outputs": [
    {
     "name": "stdout",
     "output_type": "stream",
     "text": [
      "(22822410, 2)\n"
     ]
    },
    {
     "data": {
      "text/plain": [
       "0"
      ]
     },
     "execution_count": 5,
     "metadata": {},
     "output_type": "execute_result"
    }
   ],
   "source": [
    "all_rewards_most_recent=dftrans_before_20180922.append(lapsed)\n",
    "all_rewards_most_recent=all_rewards_most_recent.sort_values([\"customer_id_hashed\",\"transaction_date\"],ascending=[True,False])\n",
    "all_rewards_most_recent=all_rewards_most_recent.drop_duplicates(['customer_id_hashed'])\n",
    "print(all_rewards_most_recent.shape)\n",
    "\n",
    "del chunk\n",
    "del dftrans_before_20180922\n",
    "gc.collect()"
   ]
  },
  {
   "cell_type": "code",
   "execution_count": 6,
   "metadata": {
    "collapsed": true
   },
   "outputs": [],
   "source": [
    "def recursive_file_gen(root_path):\n",
    "    for root, dirs, files in os.walk(root_path):\n",
    "        for file in files:\n",
    "            yield os.path.join(root,file)"
   ]
  },
  {
   "cell_type": "code",
   "execution_count": 7,
   "metadata": {},
   "outputs": [
    {
     "name": "stdout",
     "output_type": "stream",
     "text": [
      "all_rewards_most_recent['transaction_date'].max() 2018-09-22\n",
      "all_rewards_most_recent['transaction_date'].min() 2015-07-28\n"
     ]
    }
   ],
   "source": [
    "print(\"all_rewards_most_recent['transaction_date'].max()\",all_rewards_most_recent['transaction_date'].max())\n",
    "\n",
    "print(\"all_rewards_most_recent['transaction_date'].min()\",all_rewards_most_recent['transaction_date'].min())\n"
   ]
  },
  {
   "cell_type": "code",
   "execution_count": 8,
   "metadata": {},
   "outputs": [
    {
     "name": "stdout",
     "output_type": "stream",
     "text": [
      "(20, 2)\n",
      "historical_daily_df['week_end_dt'].max():  2019-02-09\n",
      "historical_daily_df['week_end_dt'].min():  2018-09-29\n"
     ]
    }
   ],
   "source": [
    "# Historical    \n",
    "historical_daily_data_folder=\"/home/jian/BigLots/hist_daily_data_itemlevel_decompressed/\"\n",
    "historical_daily_data_list=list(recursive_file_gen(historical_daily_data_folder))\n",
    "historical_daily_data_list=[x for x in historical_daily_data_list if (\".txt\" in x) & (\"DailySales\" in x)]\n",
    "historical_daily_df=pd.DataFrame({\"file_path\":historical_daily_data_list})\n",
    "historical_daily_df['week_end_dt']=historical_daily_df['file_path'].apply(lambda x: x.split(\".\")[0].split(\"MediaStormDailySalesHistory\")[1])\n",
    "historical_daily_df['week_end_dt']=historical_daily_df['week_end_dt'].apply(lambda x: datetime.datetime.strptime(x,\"%Y%m%d\").date())\n",
    "historical_daily_df=historical_daily_df[historical_daily_df['week_end_dt']<=datetime.date(2019,5,4)] # hard-code due to the 1st week of daily in item available\n",
    "historical_daily_df=historical_daily_df[historical_daily_df['week_end_dt']>datetime.date(2018,9,22)] # hard-code\n",
    "historical_daily_df=historical_daily_df.sort_values(\"week_end_dt\")\n",
    "print(historical_daily_df.shape)\n",
    "historical_daily_df.tail(3)\n",
    "\n",
    "print(\"historical_daily_df['week_end_dt'].max(): \", historical_daily_df['week_end_dt'].max())\n",
    "print(\"historical_daily_df['week_end_dt'].min(): \", historical_daily_df['week_end_dt'].min())"
   ]
  },
  {
   "cell_type": "code",
   "execution_count": 9,
   "metadata": {},
   "outputs": [
    {
     "data": {
      "text/plain": [
       "datetime.date(2019, 8, 3)"
      ]
     },
     "execution_count": 9,
     "metadata": {},
     "output_type": "execute_result"
    }
   ],
   "source": [
    "prior_quarter_End"
   ]
  },
  {
   "cell_type": "code",
   "execution_count": 10,
   "metadata": {},
   "outputs": [
    {
     "data": {
      "text/plain": [
       "datetime.date(2019, 11, 2)"
      ]
     },
     "execution_count": 10,
     "metadata": {},
     "output_type": "execute_result"
    }
   ],
   "source": [
    "recent_complete_quarter_End"
   ]
  },
  {
   "cell_type": "code",
   "execution_count": 11,
   "metadata": {},
   "outputs": [
    {
     "name": "stdout",
     "output_type": "stream",
     "text": [
      "(20, 2)\n"
     ]
    }
   ],
   "source": [
    "df_historical_daily_20180929_to_before_Q=historical_daily_df[historical_daily_df['week_end_dt']<=prior_quarter_End]\n",
    "print(df_historical_daily_20180929_to_before_Q.shape)\n"
   ]
  },
  {
   "cell_type": "code",
   "execution_count": 12,
   "metadata": {},
   "outputs": [
    {
     "name": "stdout",
     "output_type": "stream",
     "text": [
      "(44, 2)\n",
      "(13, 2)\n",
      "(25, 2)\n"
     ]
    }
   ],
   "source": [
    "weekly_2019_daily_df=list(recursive_file_gen(\"/home/jian/BigLots/\"))\n",
    "\n",
    "weekly_2019_daily_df=[x for x in weekly_2019_daily_df if \"2018\" not in x]\n",
    "weekly_2019_daily_df=[x for x in weekly_2019_daily_df if \"2017\" not in x]\n",
    "weekly_2019_daily_df=[x for x in weekly_2019_daily_df if \"2016\" not in x]\n",
    "weekly_2019_daily_df=[x for x in weekly_2019_daily_df if \"2016\" not in x]\n",
    "weekly_2019_daily_df=[x for x in weekly_2019_daily_df if \"Historical\" not in x]\n",
    "weekly_2019_daily_df=[x for x in weekly_2019_daily_df if \"hist_daily_data_itemlevel_decompressed\" not in x]\n",
    "weekly_2019_daily_df=[x for x in weekly_2019_daily_df if \".txt\" in x]\n",
    "weekly_2019_daily_df=[x for x in weekly_2019_daily_df if \"aily\" in x]\n",
    "weekly_2019_daily_df=pd.DataFrame({\"file_path\":weekly_2019_daily_df})\n",
    "weekly_2019_daily_df['week_end_dt']=weekly_2019_daily_df['file_path'].apply(lambda x: x.split(\"/MediaStorm_\")[1][:10])\n",
    "\n",
    "weekly_2019_daily_df['week_end_dt']=weekly_2019_daily_df['week_end_dt'].apply(lambda x: datetime.datetime.strptime(x,\"%Y-%m-%d\").date())\n",
    "print(weekly_2019_daily_df.shape)\n",
    "weekly_2019_daily_df.head(2)\n",
    "\n",
    "weekly_2019_daily_df_in_recent_Q=weekly_2019_daily_df[(weekly_2019_daily_df['week_end_dt']>prior_quarter_End) & (weekly_2019_daily_df['week_end_dt']<=recent_complete_quarter_End)]\n",
    "# Change to > prior_quarter_End for the next quarter\n",
    "print(weekly_2019_daily_df_in_recent_Q.shape)\n",
    "\n",
    "\n",
    "weekly_2019_daily_df_before_Q=weekly_2019_daily_df[weekly_2019_daily_df['week_end_dt']<=prior_quarter_End]\n",
    "weekly_2019_daily_df_before_Q=weekly_2019_daily_df_before_Q[weekly_2019_daily_df_before_Q['week_end_dt']>df_historical_daily_20180929_to_before_Q['week_end_dt'].max()]\n",
    "print(weekly_2019_daily_df_before_Q.shape) # Q1 should be 0, and Q2&after not\n",
    "\n",
    "df_all_daily_files_20190922_before_quarter=df_historical_daily_20180929_to_before_Q.append(weekly_2019_daily_df_before_Q)\n"
   ]
  },
  {
   "cell_type": "code",
   "execution_count": 13,
   "metadata": {},
   "outputs": [
    {
     "data": {
      "text/html": [
       "<div>\n",
       "<style scoped>\n",
       "    .dataframe tbody tr th:only-of-type {\n",
       "        vertical-align: middle;\n",
       "    }\n",
       "\n",
       "    .dataframe tbody tr th {\n",
       "        vertical-align: top;\n",
       "    }\n",
       "\n",
       "    .dataframe thead th {\n",
       "        text-align: right;\n",
       "    }\n",
       "</style>\n",
       "<table border=\"1\" class=\"dataframe\">\n",
       "  <thead>\n",
       "    <tr style=\"text-align: right;\">\n",
       "      <th></th>\n",
       "      <th>file_path</th>\n",
       "      <th>week_end_dt</th>\n",
       "    </tr>\n",
       "  </thead>\n",
       "  <tbody>\n",
       "    <tr>\n",
       "      <th>31</th>\n",
       "      <td>/home/jian/BigLots/2019_by_weeks/MediaStorm_20...</td>\n",
       "      <td>2019-08-10</td>\n",
       "    </tr>\n",
       "    <tr>\n",
       "      <th>32</th>\n",
       "      <td>/home/jian/BigLots/2019_by_weeks/MediaStorm_20...</td>\n",
       "      <td>2019-08-17</td>\n",
       "    </tr>\n",
       "    <tr>\n",
       "      <th>33</th>\n",
       "      <td>/home/jian/BigLots/2019_by_weeks/MediaStorm_20...</td>\n",
       "      <td>2019-08-24</td>\n",
       "    </tr>\n",
       "    <tr>\n",
       "      <th>34</th>\n",
       "      <td>/home/jian/BigLots/2019_by_weeks/MediaStorm_20...</td>\n",
       "      <td>2019-08-31</td>\n",
       "    </tr>\n",
       "    <tr>\n",
       "      <th>35</th>\n",
       "      <td>/home/jian/BigLots/2019_by_weeks/MediaStorm_20...</td>\n",
       "      <td>2019-09-07</td>\n",
       "    </tr>\n",
       "    <tr>\n",
       "      <th>36</th>\n",
       "      <td>/home/jian/BigLots/2019_by_weeks/MediaStorm_20...</td>\n",
       "      <td>2019-09-14</td>\n",
       "    </tr>\n",
       "    <tr>\n",
       "      <th>37</th>\n",
       "      <td>/home/jian/BigLots/2019_by_weeks/MediaStorm_20...</td>\n",
       "      <td>2019-09-21</td>\n",
       "    </tr>\n",
       "    <tr>\n",
       "      <th>38</th>\n",
       "      <td>/home/jian/BigLots/2019_by_weeks/MediaStorm_20...</td>\n",
       "      <td>2019-09-28</td>\n",
       "    </tr>\n",
       "    <tr>\n",
       "      <th>39</th>\n",
       "      <td>/home/jian/BigLots/2019_by_weeks/MediaStorm_20...</td>\n",
       "      <td>2019-10-05</td>\n",
       "    </tr>\n",
       "    <tr>\n",
       "      <th>40</th>\n",
       "      <td>/home/jian/BigLots/2019_by_weeks/MediaStorm_20...</td>\n",
       "      <td>2019-10-12</td>\n",
       "    </tr>\n",
       "    <tr>\n",
       "      <th>41</th>\n",
       "      <td>/home/jian/BigLots/2019_by_weeks/MediaStorm_20...</td>\n",
       "      <td>2019-10-19</td>\n",
       "    </tr>\n",
       "    <tr>\n",
       "      <th>42</th>\n",
       "      <td>/home/jian/BigLots/2019_by_weeks/MediaStorm_20...</td>\n",
       "      <td>2019-10-26</td>\n",
       "    </tr>\n",
       "    <tr>\n",
       "      <th>43</th>\n",
       "      <td>/home/jian/BigLots/2019_by_weeks/MediaStorm_20...</td>\n",
       "      <td>2019-11-02</td>\n",
       "    </tr>\n",
       "  </tbody>\n",
       "</table>\n",
       "</div>"
      ],
      "text/plain": [
       "                                            file_path week_end_dt\n",
       "31  /home/jian/BigLots/2019_by_weeks/MediaStorm_20...  2019-08-10\n",
       "32  /home/jian/BigLots/2019_by_weeks/MediaStorm_20...  2019-08-17\n",
       "33  /home/jian/BigLots/2019_by_weeks/MediaStorm_20...  2019-08-24\n",
       "34  /home/jian/BigLots/2019_by_weeks/MediaStorm_20...  2019-08-31\n",
       "35  /home/jian/BigLots/2019_by_weeks/MediaStorm_20...  2019-09-07\n",
       "36  /home/jian/BigLots/2019_by_weeks/MediaStorm_20...  2019-09-14\n",
       "37  /home/jian/BigLots/2019_by_weeks/MediaStorm_20...  2019-09-21\n",
       "38  /home/jian/BigLots/2019_by_weeks/MediaStorm_20...  2019-09-28\n",
       "39  /home/jian/BigLots/2019_by_weeks/MediaStorm_20...  2019-10-05\n",
       "40  /home/jian/BigLots/2019_by_weeks/MediaStorm_20...  2019-10-12\n",
       "41  /home/jian/BigLots/2019_by_weeks/MediaStorm_20...  2019-10-19\n",
       "42  /home/jian/BigLots/2019_by_weeks/MediaStorm_20...  2019-10-26\n",
       "43  /home/jian/BigLots/2019_by_weeks/MediaStorm_20...  2019-11-02"
      ]
     },
     "execution_count": 13,
     "metadata": {},
     "output_type": "execute_result"
    }
   ],
   "source": [
    "weekly_2019_daily_df_in_recent_Q"
   ]
  },
  {
   "cell_type": "code",
   "execution_count": 14,
   "metadata": {},
   "outputs": [
    {
     "name": "stdout",
     "output_type": "stream",
     "text": [
      "(45, 2)\n"
     ]
    },
    {
     "data": {
      "text/html": [
       "<div>\n",
       "<style scoped>\n",
       "    .dataframe tbody tr th:only-of-type {\n",
       "        vertical-align: middle;\n",
       "    }\n",
       "\n",
       "    .dataframe tbody tr th {\n",
       "        vertical-align: top;\n",
       "    }\n",
       "\n",
       "    .dataframe thead th {\n",
       "        text-align: right;\n",
       "    }\n",
       "</style>\n",
       "<table border=\"1\" class=\"dataframe\">\n",
       "  <thead>\n",
       "    <tr style=\"text-align: right;\">\n",
       "      <th></th>\n",
       "      <th>file_path</th>\n",
       "      <th>week_end_dt</th>\n",
       "    </tr>\n",
       "  </thead>\n",
       "  <tbody>\n",
       "    <tr>\n",
       "      <th>7</th>\n",
       "      <td>/home/jian/BigLots/hist_daily_data_itemlevel_d...</td>\n",
       "      <td>2018-09-29</td>\n",
       "    </tr>\n",
       "    <tr>\n",
       "      <th>8</th>\n",
       "      <td>/home/jian/BigLots/hist_daily_data_itemlevel_d...</td>\n",
       "      <td>2018-10-06</td>\n",
       "    </tr>\n",
       "    <tr>\n",
       "      <th>9</th>\n",
       "      <td>/home/jian/BigLots/hist_daily_data_itemlevel_d...</td>\n",
       "      <td>2018-10-13</td>\n",
       "    </tr>\n",
       "    <tr>\n",
       "      <th>10</th>\n",
       "      <td>/home/jian/BigLots/hist_daily_data_itemlevel_d...</td>\n",
       "      <td>2018-10-20</td>\n",
       "    </tr>\n",
       "    <tr>\n",
       "      <th>11</th>\n",
       "      <td>/home/jian/BigLots/hist_daily_data_itemlevel_d...</td>\n",
       "      <td>2018-10-27</td>\n",
       "    </tr>\n",
       "    <tr>\n",
       "      <th>12</th>\n",
       "      <td>/home/jian/BigLots/hist_daily_data_itemlevel_d...</td>\n",
       "      <td>2018-11-03</td>\n",
       "    </tr>\n",
       "    <tr>\n",
       "      <th>13</th>\n",
       "      <td>/home/jian/BigLots/hist_daily_data_itemlevel_d...</td>\n",
       "      <td>2018-11-10</td>\n",
       "    </tr>\n",
       "    <tr>\n",
       "      <th>14</th>\n",
       "      <td>/home/jian/BigLots/hist_daily_data_itemlevel_d...</td>\n",
       "      <td>2018-11-17</td>\n",
       "    </tr>\n",
       "    <tr>\n",
       "      <th>15</th>\n",
       "      <td>/home/jian/BigLots/hist_daily_data_itemlevel_d...</td>\n",
       "      <td>2018-11-24</td>\n",
       "    </tr>\n",
       "    <tr>\n",
       "      <th>26</th>\n",
       "      <td>/home/jian/BigLots/hist_daily_data_itemlevel_d...</td>\n",
       "      <td>2018-12-01</td>\n",
       "    </tr>\n",
       "    <tr>\n",
       "      <th>16</th>\n",
       "      <td>/home/jian/BigLots/hist_daily_data_itemlevel_d...</td>\n",
       "      <td>2018-12-08</td>\n",
       "    </tr>\n",
       "    <tr>\n",
       "      <th>17</th>\n",
       "      <td>/home/jian/BigLots/hist_daily_data_itemlevel_d...</td>\n",
       "      <td>2018-12-15</td>\n",
       "    </tr>\n",
       "    <tr>\n",
       "      <th>18</th>\n",
       "      <td>/home/jian/BigLots/hist_daily_data_itemlevel_d...</td>\n",
       "      <td>2018-12-22</td>\n",
       "    </tr>\n",
       "    <tr>\n",
       "      <th>19</th>\n",
       "      <td>/home/jian/BigLots/hist_daily_data_itemlevel_d...</td>\n",
       "      <td>2018-12-29</td>\n",
       "    </tr>\n",
       "    <tr>\n",
       "      <th>20</th>\n",
       "      <td>/home/jian/BigLots/hist_daily_data_itemlevel_d...</td>\n",
       "      <td>2019-01-05</td>\n",
       "    </tr>\n",
       "    <tr>\n",
       "      <th>21</th>\n",
       "      <td>/home/jian/BigLots/hist_daily_data_itemlevel_d...</td>\n",
       "      <td>2019-01-12</td>\n",
       "    </tr>\n",
       "    <tr>\n",
       "      <th>22</th>\n",
       "      <td>/home/jian/BigLots/hist_daily_data_itemlevel_d...</td>\n",
       "      <td>2019-01-19</td>\n",
       "    </tr>\n",
       "    <tr>\n",
       "      <th>23</th>\n",
       "      <td>/home/jian/BigLots/hist_daily_data_itemlevel_d...</td>\n",
       "      <td>2019-01-26</td>\n",
       "    </tr>\n",
       "    <tr>\n",
       "      <th>24</th>\n",
       "      <td>/home/jian/BigLots/hist_daily_data_itemlevel_d...</td>\n",
       "      <td>2019-02-02</td>\n",
       "    </tr>\n",
       "    <tr>\n",
       "      <th>25</th>\n",
       "      <td>/home/jian/BigLots/hist_daily_data_itemlevel_d...</td>\n",
       "      <td>2019-02-09</td>\n",
       "    </tr>\n",
       "    <tr>\n",
       "      <th>6</th>\n",
       "      <td>/home/jian/BigLots/2019_by_weeks/MediaStorm_20...</td>\n",
       "      <td>2019-02-16</td>\n",
       "    </tr>\n",
       "    <tr>\n",
       "      <th>7</th>\n",
       "      <td>/home/jian/BigLots/2019_by_weeks/MediaStorm_20...</td>\n",
       "      <td>2019-02-23</td>\n",
       "    </tr>\n",
       "    <tr>\n",
       "      <th>8</th>\n",
       "      <td>/home/jian/BigLots/2019_by_weeks/MediaStorm_20...</td>\n",
       "      <td>2019-03-02</td>\n",
       "    </tr>\n",
       "    <tr>\n",
       "      <th>9</th>\n",
       "      <td>/home/jian/BigLots/2019_by_weeks/MediaStorm_20...</td>\n",
       "      <td>2019-03-09</td>\n",
       "    </tr>\n",
       "    <tr>\n",
       "      <th>10</th>\n",
       "      <td>/home/jian/BigLots/2019_by_weeks/MediaStorm_20...</td>\n",
       "      <td>2019-03-16</td>\n",
       "    </tr>\n",
       "    <tr>\n",
       "      <th>11</th>\n",
       "      <td>/home/jian/BigLots/2019_by_weeks/MediaStorm_20...</td>\n",
       "      <td>2019-03-23</td>\n",
       "    </tr>\n",
       "    <tr>\n",
       "      <th>12</th>\n",
       "      <td>/home/jian/BigLots/2019_by_weeks/MediaStorm_20...</td>\n",
       "      <td>2019-03-30</td>\n",
       "    </tr>\n",
       "    <tr>\n",
       "      <th>13</th>\n",
       "      <td>/home/jian/BigLots/2019_by_weeks/MediaStorm_20...</td>\n",
       "      <td>2019-04-06</td>\n",
       "    </tr>\n",
       "    <tr>\n",
       "      <th>14</th>\n",
       "      <td>/home/jian/BigLots/2019_by_weeks/MediaStorm_20...</td>\n",
       "      <td>2019-04-13</td>\n",
       "    </tr>\n",
       "    <tr>\n",
       "      <th>15</th>\n",
       "      <td>/home/jian/BigLots/2019_by_weeks/MediaStorm_20...</td>\n",
       "      <td>2019-04-20</td>\n",
       "    </tr>\n",
       "    <tr>\n",
       "      <th>16</th>\n",
       "      <td>/home/jian/BigLots/2019_by_weeks/MediaStorm_20...</td>\n",
       "      <td>2019-04-27</td>\n",
       "    </tr>\n",
       "    <tr>\n",
       "      <th>17</th>\n",
       "      <td>/home/jian/BigLots/2019_by_weeks/MediaStorm_20...</td>\n",
       "      <td>2019-05-04</td>\n",
       "    </tr>\n",
       "    <tr>\n",
       "      <th>18</th>\n",
       "      <td>/home/jian/BigLots/2019_by_weeks/MediaStorm_20...</td>\n",
       "      <td>2019-05-11</td>\n",
       "    </tr>\n",
       "    <tr>\n",
       "      <th>19</th>\n",
       "      <td>/home/jian/BigLots/2019_by_weeks/MediaStorm_20...</td>\n",
       "      <td>2019-05-18</td>\n",
       "    </tr>\n",
       "    <tr>\n",
       "      <th>20</th>\n",
       "      <td>/home/jian/BigLots/2019_by_weeks/MediaStorm_20...</td>\n",
       "      <td>2019-05-25</td>\n",
       "    </tr>\n",
       "    <tr>\n",
       "      <th>21</th>\n",
       "      <td>/home/jian/BigLots/2019_by_weeks/MediaStorm_20...</td>\n",
       "      <td>2019-06-01</td>\n",
       "    </tr>\n",
       "    <tr>\n",
       "      <th>22</th>\n",
       "      <td>/home/jian/BigLots/2019_by_weeks/MediaStorm_20...</td>\n",
       "      <td>2019-06-08</td>\n",
       "    </tr>\n",
       "    <tr>\n",
       "      <th>23</th>\n",
       "      <td>/home/jian/BigLots/2019_by_weeks/MediaStorm_20...</td>\n",
       "      <td>2019-06-15</td>\n",
       "    </tr>\n",
       "    <tr>\n",
       "      <th>24</th>\n",
       "      <td>/home/jian/BigLots/2019_by_weeks/MediaStorm_20...</td>\n",
       "      <td>2019-06-22</td>\n",
       "    </tr>\n",
       "    <tr>\n",
       "      <th>25</th>\n",
       "      <td>/home/jian/BigLots/2019_by_weeks/MediaStorm_20...</td>\n",
       "      <td>2019-06-29</td>\n",
       "    </tr>\n",
       "    <tr>\n",
       "      <th>26</th>\n",
       "      <td>/home/jian/BigLots/2019_by_weeks/MediaStorm_20...</td>\n",
       "      <td>2019-07-06</td>\n",
       "    </tr>\n",
       "    <tr>\n",
       "      <th>27</th>\n",
       "      <td>/home/jian/BigLots/2019_by_weeks/MediaStorm_20...</td>\n",
       "      <td>2019-07-13</td>\n",
       "    </tr>\n",
       "    <tr>\n",
       "      <th>28</th>\n",
       "      <td>/home/jian/BigLots/2019_by_weeks/MediaStorm_20...</td>\n",
       "      <td>2019-07-20</td>\n",
       "    </tr>\n",
       "    <tr>\n",
       "      <th>29</th>\n",
       "      <td>/home/jian/BigLots/2019_by_weeks/MediaStorm_20...</td>\n",
       "      <td>2019-07-27</td>\n",
       "    </tr>\n",
       "    <tr>\n",
       "      <th>30</th>\n",
       "      <td>/home/jian/BigLots/2019_by_weeks/MediaStorm_20...</td>\n",
       "      <td>2019-08-03</td>\n",
       "    </tr>\n",
       "  </tbody>\n",
       "</table>\n",
       "</div>"
      ],
      "text/plain": [
       "                                            file_path week_end_dt\n",
       "7   /home/jian/BigLots/hist_daily_data_itemlevel_d...  2018-09-29\n",
       "8   /home/jian/BigLots/hist_daily_data_itemlevel_d...  2018-10-06\n",
       "9   /home/jian/BigLots/hist_daily_data_itemlevel_d...  2018-10-13\n",
       "10  /home/jian/BigLots/hist_daily_data_itemlevel_d...  2018-10-20\n",
       "11  /home/jian/BigLots/hist_daily_data_itemlevel_d...  2018-10-27\n",
       "12  /home/jian/BigLots/hist_daily_data_itemlevel_d...  2018-11-03\n",
       "13  /home/jian/BigLots/hist_daily_data_itemlevel_d...  2018-11-10\n",
       "14  /home/jian/BigLots/hist_daily_data_itemlevel_d...  2018-11-17\n",
       "15  /home/jian/BigLots/hist_daily_data_itemlevel_d...  2018-11-24\n",
       "26  /home/jian/BigLots/hist_daily_data_itemlevel_d...  2018-12-01\n",
       "16  /home/jian/BigLots/hist_daily_data_itemlevel_d...  2018-12-08\n",
       "17  /home/jian/BigLots/hist_daily_data_itemlevel_d...  2018-12-15\n",
       "18  /home/jian/BigLots/hist_daily_data_itemlevel_d...  2018-12-22\n",
       "19  /home/jian/BigLots/hist_daily_data_itemlevel_d...  2018-12-29\n",
       "20  /home/jian/BigLots/hist_daily_data_itemlevel_d...  2019-01-05\n",
       "21  /home/jian/BigLots/hist_daily_data_itemlevel_d...  2019-01-12\n",
       "22  /home/jian/BigLots/hist_daily_data_itemlevel_d...  2019-01-19\n",
       "23  /home/jian/BigLots/hist_daily_data_itemlevel_d...  2019-01-26\n",
       "24  /home/jian/BigLots/hist_daily_data_itemlevel_d...  2019-02-02\n",
       "25  /home/jian/BigLots/hist_daily_data_itemlevel_d...  2019-02-09\n",
       "6   /home/jian/BigLots/2019_by_weeks/MediaStorm_20...  2019-02-16\n",
       "7   /home/jian/BigLots/2019_by_weeks/MediaStorm_20...  2019-02-23\n",
       "8   /home/jian/BigLots/2019_by_weeks/MediaStorm_20...  2019-03-02\n",
       "9   /home/jian/BigLots/2019_by_weeks/MediaStorm_20...  2019-03-09\n",
       "10  /home/jian/BigLots/2019_by_weeks/MediaStorm_20...  2019-03-16\n",
       "11  /home/jian/BigLots/2019_by_weeks/MediaStorm_20...  2019-03-23\n",
       "12  /home/jian/BigLots/2019_by_weeks/MediaStorm_20...  2019-03-30\n",
       "13  /home/jian/BigLots/2019_by_weeks/MediaStorm_20...  2019-04-06\n",
       "14  /home/jian/BigLots/2019_by_weeks/MediaStorm_20...  2019-04-13\n",
       "15  /home/jian/BigLots/2019_by_weeks/MediaStorm_20...  2019-04-20\n",
       "16  /home/jian/BigLots/2019_by_weeks/MediaStorm_20...  2019-04-27\n",
       "17  /home/jian/BigLots/2019_by_weeks/MediaStorm_20...  2019-05-04\n",
       "18  /home/jian/BigLots/2019_by_weeks/MediaStorm_20...  2019-05-11\n",
       "19  /home/jian/BigLots/2019_by_weeks/MediaStorm_20...  2019-05-18\n",
       "20  /home/jian/BigLots/2019_by_weeks/MediaStorm_20...  2019-05-25\n",
       "21  /home/jian/BigLots/2019_by_weeks/MediaStorm_20...  2019-06-01\n",
       "22  /home/jian/BigLots/2019_by_weeks/MediaStorm_20...  2019-06-08\n",
       "23  /home/jian/BigLots/2019_by_weeks/MediaStorm_20...  2019-06-15\n",
       "24  /home/jian/BigLots/2019_by_weeks/MediaStorm_20...  2019-06-22\n",
       "25  /home/jian/BigLots/2019_by_weeks/MediaStorm_20...  2019-06-29\n",
       "26  /home/jian/BigLots/2019_by_weeks/MediaStorm_20...  2019-07-06\n",
       "27  /home/jian/BigLots/2019_by_weeks/MediaStorm_20...  2019-07-13\n",
       "28  /home/jian/BigLots/2019_by_weeks/MediaStorm_20...  2019-07-20\n",
       "29  /home/jian/BigLots/2019_by_weeks/MediaStorm_20...  2019-07-27\n",
       "30  /home/jian/BigLots/2019_by_weeks/MediaStorm_20...  2019-08-03"
      ]
     },
     "execution_count": 14,
     "metadata": {},
     "output_type": "execute_result"
    }
   ],
   "source": [
    "print(df_all_daily_files_20190922_before_quarter.shape)\n",
    "df_all_daily_files_20190922_before_quarter.sort_values(\"week_end_dt\")"
   ]
  },
  {
   "cell_type": "code",
   "execution_count": 16,
   "metadata": {},
   "outputs": [
    {
     "name": "stdout",
     "output_type": "stream",
     "text": [
      "/home/jian/BigLots/hist_daily_data_itemlevel_decompressed/MediaStormDailySalesHistory20180929.txt 2019-11-08 20:09:26.459494\n",
      "/home/jian/BigLots/hist_daily_data_itemlevel_decompressed/MediaStormDailySalesHistory20181006.txt 2019-11-08 20:09:55.872787\n",
      "/home/jian/BigLots/hist_daily_data_itemlevel_decompressed/MediaStormDailySalesHistory20181013.txt 2019-11-08 20:10:15.932471\n",
      "/home/jian/BigLots/hist_daily_data_itemlevel_decompressed/MediaStormDailySalesHistory20181020.txt 2019-11-08 20:10:36.410932\n",
      "/home/jian/BigLots/hist_daily_data_itemlevel_decompressed/MediaStormDailySalesHistory20181027.txt 2019-11-08 20:10:59.952289\n",
      "/home/jian/BigLots/hist_daily_data_itemlevel_decompressed/MediaStormDailySalesHistory20181103.txt 2019-11-08 20:11:24.056631\n",
      "/home/jian/BigLots/hist_daily_data_itemlevel_decompressed/MediaStormDailySalesHistory20181110.txt 2019-11-08 20:11:49.314335\n",
      "/home/jian/BigLots/hist_daily_data_itemlevel_decompressed/MediaStormDailySalesHistory20181117.txt 2019-11-08 20:12:20.132995\n",
      "/home/jian/BigLots/hist_daily_data_itemlevel_decompressed/MediaStormDailySalesHistory20181124.txt 2019-11-08 20:13:04.709494\n",
      "/home/jian/BigLots/hist_daily_data_itemlevel_decompressed/MediaStormDailySalesHistory20181201.txt 2019-11-08 20:13:47.875583\n",
      "/home/jian/BigLots/hist_daily_data_itemlevel_decompressed/MediaStormDailySalesHistory20181208.txt 2019-11-08 20:15:04.354224\n",
      "/home/jian/BigLots/hist_daily_data_itemlevel_decompressed/MediaStormDailySalesHistory20181215.txt 2019-11-08 20:16:42.205913\n",
      "/home/jian/BigLots/hist_daily_data_itemlevel_decompressed/MediaStormDailySalesHistory20181222.txt 2019-11-08 20:18:11.583237\n",
      "/home/jian/BigLots/hist_daily_data_itemlevel_decompressed/MediaStormDailySalesHistory20181229.txt 2019-11-08 20:18:51.877088\n",
      "/home/jian/BigLots/hist_daily_data_itemlevel_decompressed/MediaStormDailySalesHistory20190105.txt 2019-11-08 20:19:26.851362\n",
      "/home/jian/BigLots/hist_daily_data_itemlevel_decompressed/MediaStormDailySalesHistory20190112.txt 2019-11-08 20:19:57.666702\n",
      "/home/jian/BigLots/hist_daily_data_itemlevel_decompressed/MediaStormDailySalesHistory20190119.txt 2019-11-08 20:20:32.449815\n",
      "/home/jian/BigLots/hist_daily_data_itemlevel_decompressed/MediaStormDailySalesHistory20190126.txt 2019-11-08 20:21:05.420535\n",
      "/home/jian/BigLots/hist_daily_data_itemlevel_decompressed/MediaStormDailySalesHistory20190202.txt 2019-11-08 20:21:33.083977\n",
      "/home/jian/BigLots/hist_daily_data_itemlevel_decompressed/MediaStormDailySalesHistory20190209.txt 2019-11-08 20:22:01.041389\n",
      "/home/jian/BigLots/2019_by_weeks/MediaStorm_2019-02-16/MediaStormDailySales20190219-113605-481.txt 2019-11-08 20:22:33.493000\n",
      "/home/jian/BigLots/2019_by_weeks/MediaStorm_2019-02-23/MediaStormDailySales20190226-112611-940.txt 2019-11-08 20:23:04.975197\n",
      "/home/jian/BigLots/2019_by_weeks/MediaStorm_2019-03-02/MediaStormDailySales20190305-112738-899.txt 2019-11-08 20:23:41.248031\n",
      "/home/jian/BigLots/2019_by_weeks/MediaStorm_2019-03-09/MediaStormDailySales20190312-121205-996.txt 2019-11-08 20:24:22.621610\n",
      "/home/jian/BigLots/2019_by_weeks/MediaStorm_2019-03-16/MediaStormDailySales20190319-112334-057.txt 2019-11-08 20:24:52.778474\n",
      "/home/jian/BigLots/2019_by_weeks/MediaStorm_2019-03-23/MediaStormDailySales20190326-112740-903.txt 2019-11-08 20:25:24.836881\n",
      "/home/jian/BigLots/2019_by_weeks/MediaStorm_2019-03-30/MediaStormDailySales20190402-112556-551.txt 2019-11-08 20:25:56.974644\n",
      "/home/jian/BigLots/2019_by_weeks/MediaStorm_2019-04-06/MediaStormDailySales20190409-122759-093.txt 2019-11-08 20:26:41.505503\n",
      "/home/jian/BigLots/2019_by_weeks/MediaStorm_2019-04-13/MediaStormDailySales20190416-112824-908.txt 2019-11-08 20:27:21.008456\n",
      "/home/jian/BigLots/2019_by_weeks/MediaStorm_2019-04-20/MediaStormDailySales20190423-112124-771.txt 2019-11-08 20:27:54.354823\n",
      "/home/jian/BigLots/2019_by_weeks/MediaStorm_2019-04-27/MediaStormDailySales20190430-112453-448.txt 2019-11-08 20:28:22.191197\n",
      "/home/jian/BigLots/2019_by_weeks/MediaStorm_2019-05-04/MediaStormDailySales20190507-113110-141.txt 2019-11-08 20:28:57.503618\n",
      "/home/jian/BigLots/2019_by_weeks/MediaStorm_2019-05-11/MediaStormDailySales20190514-121223-405.txt 2019-11-08 20:29:30.560664\n",
      "/home/jian/BigLots/2019_by_weeks/MediaStorm_2019-05-18/MediaStormDailySales20190521-111232-391.txt 2019-11-08 20:30:01.142456\n",
      "/home/jian/BigLots/2019_by_weeks/MediaStorm_2019-05-25/MediaStormDailySales20190528-111211-863.txt 2019-11-08 20:30:33.874363\n",
      "/home/jian/BigLots/2019_by_weeks/MediaStorm_2019-06-01/MediaStormDailySales20190604-111936-950.txt 2019-11-08 20:31:07.117892\n",
      "/home/jian/BigLots/2019_by_weeks/MediaStorm_2019-06-08/MediaStormDailySales20190611-122013-442.txt 2019-11-08 20:31:40.351362\n",
      "/home/jian/BigLots/2019_by_weeks/MediaStorm_2019-06-15/MediaStormDailySales20190618-112500-846.txt 2019-11-08 20:32:12.938677\n",
      "/home/jian/BigLots/2019_by_weeks/MediaStorm_2019-06-22/MediaStormDailySales20190625-111927-257.txt 2019-11-08 20:32:46.279487\n",
      "/home/jian/BigLots/2019_by_weeks/MediaStorm_2019-06-29/MediaStormDailySales20190702-113523-928.txt 2019-11-08 20:33:21.270152\n",
      "/home/jian/BigLots/2019_by_weeks/MediaStorm_2019-07-06/MediaStormDailySales20190709-115715-409.txt 2019-11-08 20:34:00.517258\n",
      "/home/jian/BigLots/2019_by_weeks/MediaStorm_2019-07-13/MediaStormDailySales20190716-122903-926.txt 2019-11-08 20:34:46.814457\n",
      "/home/jian/BigLots/2019_by_weeks/MediaStorm_2019-07-20/MediaStormDailySales20190723-112837-593.txt 2019-11-08 20:35:30.301318\n",
      "/home/jian/BigLots/2019_by_weeks/MediaStorm_2019-07-27/MediaStormDailySales20190730-113653-224.txt 2019-11-08 20:36:06.097563\n",
      "/home/jian/BigLots/2019_by_weeks/MediaStorm_2019-08-03/MediaStormDailySales20190806-113917-862.txt 2019-11-08 20:36:43.655737\n",
      "/home/jian/BigLots/2019_by_weeks/MediaStorm_2019-08-10/MediaStormDailySales20190813-120541-143.txt 2019-11-08 20:37:24.288978\n",
      "/home/jian/BigLots/2019_by_weeks/MediaStorm_2019-08-17/MediaStormDailySales20190820-113628-440.txt 2019-11-08 20:38:10.020129\n",
      "/home/jian/BigLots/2019_by_weeks/MediaStorm_2019-08-24/MediaStormDailySales20190827-113630-114.txt 2019-11-08 20:38:37.954332\n",
      "/home/jian/BigLots/2019_by_weeks/MediaStorm_2019-08-31/MediaStormDailySales20190903-113649-462.txt 2019-11-08 20:39:30.004516\n",
      "/home/jian/BigLots/2019_by_weeks/MediaStorm_2019-09-07/MediaStormDailySales20190910-120643-163.txt 2019-11-08 20:40:32.306467\n",
      "/home/jian/BigLots/2019_by_weeks/MediaStorm_2019-09-14/MediaStormDailySales20190917-110425-322.txt 2019-11-08 20:41:20.906630\n",
      "/home/jian/BigLots/2019_by_weeks/MediaStorm_2019-09-21/MediaStormDailySales20190924-112126-506.txt 2019-11-08 20:42:05.688474\n",
      "/home/jian/BigLots/2019_by_weeks/MediaStorm_2019-09-28/MediaStormDailySales20191001-111241-312.txt 2019-11-08 20:43:06.103381\n",
      "/home/jian/BigLots/2019_by_weeks/MediaStorm_2019-10-05/MediaStormDailySales20191008-120723-038.txt 2019-11-08 20:43:58.939349\n",
      "/home/jian/BigLots/2019_by_weeks/MediaStorm_2019-10-12/MediaStormDailySales20191015-111135-657.txt 2019-11-08 20:44:40.567458\n",
      "/home/jian/BigLots/2019_by_weeks/MediaStorm_2019-10-19/MediaStormDailySales20191022-111240-145.txt 2019-11-08 20:45:37.775209\n",
      "/home/jian/BigLots/2019_by_weeks/MediaStorm_2019-10-26/MediaStormDailySales20191029-111155-920.txt 2019-11-08 20:46:27.543041\n",
      "/home/jian/BigLots/2019_by_weeks/MediaStorm_2019-11-02/MediaStormDailySales20191105-111212-139.txt 2019-11-08 20:47:17.370383\n"
     ]
    }
   ],
   "source": [
    "rew_df_after_20180929_before_quarter=pd.DataFrame()\n",
    "rew_df_after_recent_quarter_only=pd.DataFrame()\n",
    "\n",
    "\n",
    "for file in df_all_daily_files_20190922_before_quarter['file_path'].tolist():\n",
    "    df=pd.read_table(file,sep=\"|\",dtype=str,usecols=[\"customer_id_hashed\",\"transaction_dt\"]).drop_duplicates().rename(columns={\"transaction_dt\":\"transaction_date\"})\n",
    "    df=df[~pd.isnull(df['customer_id_hashed'])]\n",
    "    rew_df_after_20180929_before_quarter=rew_df_after_20180929_before_quarter.append(df)\n",
    "    print(file,datetime.datetime.now())\n",
    "\n",
    "for file in weekly_2019_daily_df_in_recent_Q['file_path'].tolist():\n",
    "    df=pd.read_table(file,sep=\"|\",dtype=str,usecols=[\"customer_id_hashed\",\"transaction_dt\"]).drop_duplicates().rename(columns={\"transaction_dt\":\"transaction_date\"})\n",
    "    df=df[~pd.isnull(df['customer_id_hashed'])]\n",
    "    rew_df_after_recent_quarter_only=rew_df_after_recent_quarter_only.append(df)\n",
    "    print(file,datetime.datetime.now())\n"
   ]
  },
  {
   "cell_type": "code",
   "execution_count": 17,
   "metadata": {},
   "outputs": [
    {
     "name": "stderr",
     "output_type": "stream",
     "text": [
      "/home/jian/.local/lib/python3.6/site-packages/pandas/core/frame.py:7138: FutureWarning: Sorting because non-concatenation axis is not aligned. A future version\n",
      "of pandas will change to not sort by default.\n",
      "\n",
      "To accept the future behavior, pass 'sort=False'.\n",
      "\n",
      "To retain the current behavior and silence the warning, pass 'sort=True'.\n",
      "\n",
      "  sort=sort,\n"
     ]
    },
    {
     "data": {
      "text/plain": [
       "0"
      ]
     },
     "execution_count": 17,
     "metadata": {},
     "output_type": "execute_result"
    }
   ],
   "source": [
    "all_rewards_most_recent=all_rewards_most_recent.append(rew_df_after_20180929_before_quarter)\n",
    "all_rewards_most_recent=all_rewards_most_recent.sort_values([\"customer_id_hashed\",\"transaction_date\"],ascending=[True,False])\n",
    "all_rewards_most_recent=all_rewards_most_recent.drop_duplicates(['customer_id_hashed'])\n",
    "all_rewards_most_recent['transaction_date_before_the_Quarter']=all_rewards_most_recent['transaction_date']\n",
    "\n",
    "all_rewards_most_recent_After=all_rewards_most_recent[['customer_id_hashed','transaction_date']].append(rew_df_after_recent_quarter_only)\n",
    "all_rewards_most_recent_After=all_rewards_most_recent_After.sort_values([\"customer_id_hashed\",\"transaction_date\"],ascending=[True,False])\n",
    "all_rewards_most_recent_After=all_rewards_most_recent_After.drop_duplicates(['customer_id_hashed']).rename(columns={\"transaction_date\":\"transaction_date_after_the_Quarter\"})\n",
    "\n",
    "all_rewards_most_recent=pd.merge(all_rewards_most_recent,all_rewards_most_recent_After,on=\"customer_id_hashed\",how=\"outer\")\n",
    "del all_rewards_most_recent_After\n",
    "\n",
    "gc.collect()"
   ]
  },
  {
   "cell_type": "code",
   "execution_count": 18,
   "metadata": {
    "collapsed": true
   },
   "outputs": [],
   "source": [
    "all_rewards_most_recent['transaction_date_before_the_Quarter']=all_rewards_most_recent['transaction_date_before_the_Quarter'].fillna(\"2099-12-31\")\n",
    "all_rewards_most_recent['transaction_date_before_the_Quarter']=all_rewards_most_recent['transaction_date_before_the_Quarter'].astype(str)\n",
    "\n",
    "# Change here to use unique dates and merge\n",
    "all_rewards_most_recent_date=all_rewards_most_recent[['transaction_date_before_the_Quarter']].drop_duplicates()\n",
    "all_rewards_most_recent_date['date']=pd.to_datetime(all_rewards_most_recent_date['transaction_date_before_the_Quarter'],format=\"%Y-%m-%d\").dt.date\n",
    "all_rewards_most_recent_date['Days_to_pre_Quarter_End']=prior_quarter_End-all_rewards_most_recent_date['date']\n",
    "all_rewards_most_recent_date['Month_to_pre_Quarter_End']=all_rewards_most_recent_date['Days_to_pre_Quarter_End'].apply(lambda x: x.days/(365.25/12))\n",
    "all_rewards_most_recent_date['Group_before_the_Quarter']=np.where((all_rewards_most_recent_date['Month_to_pre_Quarter_End']>12) & (all_rewards_most_recent_date['Month_to_pre_Quarter_End']<=48),\"Lapsed_13_48\",\n",
    "                                                       np.where(all_rewards_most_recent_date['Month_to_pre_Quarter_End']>48,\"WD_48+\",\n",
    "                                                                np.where((all_rewards_most_recent_date['Month_to_pre_Quarter_End']>=0) & (all_rewards_most_recent_date['Month_to_pre_Quarter_End']<=12),\"Active\",\n",
    "                                                                        np.where(all_rewards_most_recent_date['Month_to_pre_Quarter_End']<0,\"NotAvailable_Before_Quarter\",\"NaN\")\n",
    "                                                                        )\n",
    "                                                               )\n",
    "                                                       )\n",
    "all_rewards_most_recent_date=all_rewards_most_recent_date[['transaction_date_before_the_Quarter','Group_before_the_Quarter']]\n",
    "all_rewards_most_recent=pd.merge(all_rewards_most_recent,all_rewards_most_recent_date,on=\"transaction_date_before_the_Quarter\",how=\"left\")"
   ]
  },
  {
   "cell_type": "code",
   "execution_count": 19,
   "metadata": {},
   "outputs": [
    {
     "data": {
      "text/plain": [
       "datetime.date(2019, 11, 2)"
      ]
     },
     "execution_count": 19,
     "metadata": {},
     "output_type": "execute_result"
    }
   ],
   "source": [
    "recent_complete_quarter_End"
   ]
  },
  {
   "cell_type": "code",
   "execution_count": 20,
   "metadata": {
    "collapsed": true
   },
   "outputs": [],
   "source": [
    "all_rewards_most_recent['transaction_date_after_the_Quarter']=all_rewards_most_recent['transaction_date_after_the_Quarter'].fillna(\"2099-12-31\")\n",
    "all_rewards_most_recent['transaction_date_after_the_Quarter']=all_rewards_most_recent['transaction_date_after_the_Quarter'].astype(str)\n",
    "\n",
    "all_rewards_most_recent_date=all_rewards_most_recent[['transaction_date_after_the_Quarter']].drop_duplicates()\n",
    "all_rewards_most_recent_date['date']=pd.to_datetime(all_rewards_most_recent_date['transaction_date_after_the_Quarter'],format=\"%Y-%m-%d\").dt.date\n",
    "all_rewards_most_recent_date['Days_to_recentt_Quarter_End']=recent_complete_quarter_End-all_rewards_most_recent_date['date']\n",
    "all_rewards_most_recent_date['Month_to_recent_Quarter_End']=all_rewards_most_recent_date['Days_to_recentt_Quarter_End'].apply(lambda x: x.days/(365.25/12))\n",
    "all_rewards_most_recent_date['Group_after_the_Quarter']=np.where((all_rewards_most_recent_date['Month_to_recent_Quarter_End']>12) & (all_rewards_most_recent_date['Month_to_recent_Quarter_End']<=48),\"Lapsed_13_48\",\n",
    "                                                       np.where(all_rewards_most_recent_date['Month_to_recent_Quarter_End']>48,\"WD_48+\",\n",
    "                                                                np.where((all_rewards_most_recent_date['Month_to_recent_Quarter_End']>=0) & (all_rewards_most_recent_date['Month_to_recent_Quarter_End']<=12),\"Active\",\n",
    "                                                                        np.where(all_rewards_most_recent_date['Month_to_recent_Quarter_End']<0,\"NotAvailable_Before_Q4\",\"NaN\")\n",
    "                                                                        )\n",
    "                                                               )\n",
    "                                                       )\n",
    "\n",
    "all_rewards_most_recent_date=all_rewards_most_recent_date[['transaction_date_after_the_Quarter','Group_after_the_Quarter']]\n",
    "all_rewards_most_recent=pd.merge(all_rewards_most_recent,all_rewards_most_recent_date,on=\"transaction_date_after_the_Quarter\",how=\"left\")"
   ]
  },
  {
   "cell_type": "code",
   "execution_count": 21,
   "metadata": {},
   "outputs": [
    {
     "data": {
      "text/plain": [
       "['Active', 'Lapsed_13_48', 'WD_48+', 'NotAvailable_Before_Quarter']"
      ]
     },
     "execution_count": 21,
     "metadata": {},
     "output_type": "execute_result"
    }
   ],
   "source": [
    "all_rewards_most_recent['Group_before_the_Quarter'].unique().tolist()"
   ]
  },
  {
   "cell_type": "code",
   "execution_count": 22,
   "metadata": {},
   "outputs": [
    {
     "data": {
      "text/plain": [
       "['Lapsed_13_48', 'Active', 'WD_48+']"
      ]
     },
     "execution_count": 22,
     "metadata": {},
     "output_type": "execute_result"
    }
   ],
   "source": [
    "all_rewards_most_recent['Group_after_the_Quarter'].unique().tolist()"
   ]
  },
  {
   "cell_type": "code",
   "execution_count": 23,
   "metadata": {},
   "outputs": [
    {
     "data": {
      "text/plain": [
       "(18294410, 6)"
      ]
     },
     "execution_count": 23,
     "metadata": {},
     "output_type": "execute_result"
    }
   ],
   "source": [
    "all_rewards_most_recent[all_rewards_most_recent['Group_before_the_Quarter']==\"Active\"].shape"
   ]
  },
  {
   "cell_type": "code",
   "execution_count": 24,
   "metadata": {},
   "outputs": [
    {
     "name": "stdout",
     "output_type": "stream",
     "text": [
      "2019-11-08 21:22:53.588598\n"
     ]
    }
   ],
   "source": [
    "print(datetime.datetime.now())\n",
    "# stop here"
   ]
  },
  {
   "cell_type": "code",
   "execution_count": null,
   "metadata": {
    "collapsed": true
   },
   "outputs": [],
   "source": []
  },
  {
   "cell_type": "code",
   "execution_count": 25,
   "metadata": {},
   "outputs": [
    {
     "name": "stdout",
     "output_type": "stream",
     "text": [
      "(13, 2)\n",
      "/home/jian/BigLots/2019_by_weeks/MediaStorm_2019-08-10/MediaStormDailySales20190813-120541-143.txt 2019-11-08 21:23:59.637573\n",
      "/home/jian/BigLots/2019_by_weeks/MediaStorm_2019-08-17/MediaStormDailySales20190820-113628-440.txt 2019-11-08 21:25:02.380208\n",
      "/home/jian/BigLots/2019_by_weeks/MediaStorm_2019-08-24/MediaStormDailySales20190827-113630-114.txt 2019-11-08 21:26:04.085535\n",
      "/home/jian/BigLots/2019_by_weeks/MediaStorm_2019-08-31/MediaStormDailySales20190903-113649-462.txt 2019-11-08 21:27:12.703217\n",
      "/home/jian/BigLots/2019_by_weeks/MediaStorm_2019-09-07/MediaStormDailySales20190910-120643-163.txt 2019-11-08 21:27:59.596681\n",
      "/home/jian/BigLots/2019_by_weeks/MediaStorm_2019-09-14/MediaStormDailySales20190917-110425-322.txt 2019-11-08 21:29:08.456289\n",
      "/home/jian/BigLots/2019_by_weeks/MediaStorm_2019-09-21/MediaStormDailySales20190924-112126-506.txt 2019-11-08 21:30:16.492442\n",
      "/home/jian/BigLots/2019_by_weeks/MediaStorm_2019-09-28/MediaStormDailySales20191001-111241-312.txt 2019-11-08 21:31:37.194362\n",
      "/home/jian/BigLots/2019_by_weeks/MediaStorm_2019-10-05/MediaStormDailySales20191008-120723-038.txt 2019-11-08 21:32:52.838032\n",
      "/home/jian/BigLots/2019_by_weeks/MediaStorm_2019-10-12/MediaStormDailySales20191015-111135-657.txt 2019-11-08 21:33:53.404545\n",
      "/home/jian/BigLots/2019_by_weeks/MediaStorm_2019-10-19/MediaStormDailySales20191022-111240-145.txt 2019-11-08 21:35:10.363088\n",
      "/home/jian/BigLots/2019_by_weeks/MediaStorm_2019-10-26/MediaStormDailySales20191029-111155-920.txt 2019-11-08 21:36:14.130499\n",
      "/home/jian/BigLots/2019_by_weeks/MediaStorm_2019-11-02/MediaStormDailySales20191105-111212-139.txt 2019-11-08 21:37:29.029342\n"
     ]
    }
   ],
   "source": [
    "RecentQuarter_sales_by_id=pd.DataFrame()\n",
    "print(weekly_2019_daily_df_in_recent_Q.shape)\n",
    "for file in weekly_2019_daily_df_in_recent_Q['file_path'].tolist():\n",
    "    df=pd.read_table(file,sep=\"|\",dtype=str,\n",
    "                     usecols=['location_id','transaction_dt','transaction_id','customer_id_hashed','item_transaction_amt'])\n",
    "    df=df[~pd.isnull(df['customer_id_hashed'])]\n",
    "    df['item_transaction_amt']=df['item_transaction_amt'].astype(float)\n",
    "    df_sales=df.groupby(['customer_id_hashed'])['item_transaction_amt'].sum().to_frame().reset_index().rename(columns={\"item_transaction_amt\":\"sales_recent_Quarter\"})\n",
    "    \n",
    "    df_trans=df[['location_id','transaction_dt','transaction_id','customer_id_hashed']].drop_duplicates()\n",
    "    df_trans=df_trans.groupby([\"customer_id_hashed\"])['transaction_id'].count().to_frame().reset_index().rename(columns={\"transaction_id\":\"trans_recent_Quarter\"})\n",
    "    \n",
    "    df=pd.merge(df_sales,df_trans,on=\"customer_id_hashed\",how=\"outer\")\n",
    "    \n",
    "    RecentQuarter_sales_by_id=RecentQuarter_sales_by_id.append(df)\n",
    "    print(file,datetime.datetime.now())\n",
    "RecentQuarter_sales_by_id=RecentQuarter_sales_by_id.groupby(\"customer_id_hashed\")['sales_recent_Quarter','trans_recent_Quarter'].sum().reset_index()\n",
    "RecentQuarter_sales_by_id['Recent_Quarter_Shopping_Group']=\"Recent_Quarter_Shopped\""
   ]
  },
  {
   "cell_type": "code",
   "execution_count": 26,
   "metadata": {},
   "outputs": [
    {
     "data": {
      "text/plain": [
       "(29749790, 9)"
      ]
     },
     "execution_count": 26,
     "metadata": {},
     "output_type": "execute_result"
    }
   ],
   "source": [
    "all_rewards_most_recent=pd.merge(all_rewards_most_recent,RecentQuarter_sales_by_id,on=\"customer_id_hashed\",how=\"outer\")\n",
    "all_rewards_most_recent['Group_before_the_Quarter']=all_rewards_most_recent['Group_before_the_Quarter'].fillna(\"NotAvailable_Before_Quarter\")\n",
    "all_rewards_most_recent['Group_after_the_Quarter']=all_rewards_most_recent['Group_after_the_Quarter'].fillna(\"Active\")\n",
    "\n",
    "all_rewards_most_recent.shape"
   ]
  },
  {
   "cell_type": "code",
   "execution_count": 27,
   "metadata": {},
   "outputs": [
    {
     "name": "stdout",
     "output_type": "stream",
     "text": [
      "(13, 2)\n"
     ]
    },
    {
     "data": {
      "text/html": [
       "<div>\n",
       "<style scoped>\n",
       "    .dataframe tbody tr th:only-of-type {\n",
       "        vertical-align: middle;\n",
       "    }\n",
       "\n",
       "    .dataframe tbody tr th {\n",
       "        vertical-align: top;\n",
       "    }\n",
       "\n",
       "    .dataframe thead th {\n",
       "        text-align: right;\n",
       "    }\n",
       "</style>\n",
       "<table border=\"1\" class=\"dataframe\">\n",
       "  <thead>\n",
       "    <tr style=\"text-align: right;\">\n",
       "      <th></th>\n",
       "      <th>file_path</th>\n",
       "      <th>week_end_dt</th>\n",
       "    </tr>\n",
       "  </thead>\n",
       "  <tbody>\n",
       "    <tr>\n",
       "      <th>29</th>\n",
       "      <td>/home/jian/BigLots/2019_by_weeks/MediaStorm_20...</td>\n",
       "      <td>2019-08-10</td>\n",
       "    </tr>\n",
       "    <tr>\n",
       "      <th>30</th>\n",
       "      <td>/home/jian/BigLots/2019_by_weeks/MediaStorm_20...</td>\n",
       "      <td>2019-08-17</td>\n",
       "    </tr>\n",
       "  </tbody>\n",
       "</table>\n",
       "</div>"
      ],
      "text/plain": [
       "                                            file_path week_end_dt\n",
       "29  /home/jian/BigLots/2019_by_weeks/MediaStorm_20...  2019-08-10\n",
       "30  /home/jian/BigLots/2019_by_weeks/MediaStorm_20...  2019-08-17"
      ]
     },
     "execution_count": 27,
     "metadata": {},
     "output_type": "execute_result"
    }
   ],
   "source": [
    "Recent_Quarter_new_sign_ups_files=list(recursive_file_gen(\"/home/jian/BigLots/\"))\n",
    "\n",
    "Recent_Quarter_new_sign_ups_files=[x for x in Recent_Quarter_new_sign_ups_files if \"Master\" in x]\n",
    "Recent_Quarter_new_sign_ups_files=[x for x in Recent_Quarter_new_sign_ups_files if \"2018\" not in x]\n",
    "Recent_Quarter_new_sign_ups_files=[x for x in Recent_Quarter_new_sign_ups_files if \"2017\" not in x]\n",
    "Recent_Quarter_new_sign_ups_files=[x for x in Recent_Quarter_new_sign_ups_files if \"2016\" not in x]\n",
    "Recent_Quarter_new_sign_ups_files=[x for x in Recent_Quarter_new_sign_ups_files if \".txt\" in x]\n",
    "\n",
    "Recent_Quarter_new_sign_ups_files_df=pd.DataFrame({\"file_path\":Recent_Quarter_new_sign_ups_files})\n",
    "Recent_Quarter_new_sign_ups_files_df['week_end_dt']=Recent_Quarter_new_sign_ups_files_df['file_path'].apply(lambda x: x.split(\"/MediaStorm_\")[1][:10])\n",
    "Recent_Quarter_new_sign_ups_files_df=Recent_Quarter_new_sign_ups_files_df[Recent_Quarter_new_sign_ups_files_df['week_end_dt']<=str(recent_complete_quarter_End)]\n",
    "Recent_Quarter_new_sign_ups_files_df=Recent_Quarter_new_sign_ups_files_df[Recent_Quarter_new_sign_ups_files_df['week_end_dt']>str(prior_quarter_End)]\n",
    "print(Recent_Quarter_new_sign_ups_files_df.shape)\n",
    "Recent_Quarter_new_sign_ups_files_df.head(2)"
   ]
  },
  {
   "cell_type": "code",
   "execution_count": 28,
   "metadata": {},
   "outputs": [
    {
     "data": {
      "text/html": [
       "<div>\n",
       "<style scoped>\n",
       "    .dataframe tbody tr th:only-of-type {\n",
       "        vertical-align: middle;\n",
       "    }\n",
       "\n",
       "    .dataframe tbody tr th {\n",
       "        vertical-align: top;\n",
       "    }\n",
       "\n",
       "    .dataframe thead th {\n",
       "        text-align: right;\n",
       "    }\n",
       "</style>\n",
       "<table border=\"1\" class=\"dataframe\">\n",
       "  <thead>\n",
       "    <tr style=\"text-align: right;\">\n",
       "      <th></th>\n",
       "      <th>file_path</th>\n",
       "      <th>week_end_dt</th>\n",
       "    </tr>\n",
       "  </thead>\n",
       "  <tbody>\n",
       "    <tr>\n",
       "      <th>29</th>\n",
       "      <td>/home/jian/BigLots/2019_by_weeks/MediaStorm_20...</td>\n",
       "      <td>2019-08-10</td>\n",
       "    </tr>\n",
       "    <tr>\n",
       "      <th>30</th>\n",
       "      <td>/home/jian/BigLots/2019_by_weeks/MediaStorm_20...</td>\n",
       "      <td>2019-08-17</td>\n",
       "    </tr>\n",
       "    <tr>\n",
       "      <th>31</th>\n",
       "      <td>/home/jian/BigLots/2019_by_weeks/MediaStorm_20...</td>\n",
       "      <td>2019-08-24</td>\n",
       "    </tr>\n",
       "    <tr>\n",
       "      <th>32</th>\n",
       "      <td>/home/jian/BigLots/2019_by_weeks/MediaStorm_20...</td>\n",
       "      <td>2019-08-31</td>\n",
       "    </tr>\n",
       "    <tr>\n",
       "      <th>33</th>\n",
       "      <td>/home/jian/BigLots/2019_by_weeks/MediaStorm_20...</td>\n",
       "      <td>2019-09-07</td>\n",
       "    </tr>\n",
       "    <tr>\n",
       "      <th>34</th>\n",
       "      <td>/home/jian/BigLots/2019_by_weeks/MediaStorm_20...</td>\n",
       "      <td>2019-09-14</td>\n",
       "    </tr>\n",
       "    <tr>\n",
       "      <th>35</th>\n",
       "      <td>/home/jian/BigLots/2019_by_weeks/MediaStorm_20...</td>\n",
       "      <td>2019-09-21</td>\n",
       "    </tr>\n",
       "    <tr>\n",
       "      <th>36</th>\n",
       "      <td>/home/jian/BigLots/2019_by_weeks/MediaStorm_20...</td>\n",
       "      <td>2019-09-28</td>\n",
       "    </tr>\n",
       "    <tr>\n",
       "      <th>37</th>\n",
       "      <td>/home/jian/BigLots/2019_by_weeks/MediaStorm_20...</td>\n",
       "      <td>2019-10-05</td>\n",
       "    </tr>\n",
       "    <tr>\n",
       "      <th>38</th>\n",
       "      <td>/home/jian/BigLots/2019_by_weeks/MediaStorm_20...</td>\n",
       "      <td>2019-10-12</td>\n",
       "    </tr>\n",
       "    <tr>\n",
       "      <th>39</th>\n",
       "      <td>/home/jian/BigLots/2019_by_weeks/MediaStorm_20...</td>\n",
       "      <td>2019-10-19</td>\n",
       "    </tr>\n",
       "    <tr>\n",
       "      <th>40</th>\n",
       "      <td>/home/jian/BigLots/2019_by_weeks/MediaStorm_20...</td>\n",
       "      <td>2019-10-26</td>\n",
       "    </tr>\n",
       "    <tr>\n",
       "      <th>41</th>\n",
       "      <td>/home/jian/BigLots/2019_by_weeks/MediaStorm_20...</td>\n",
       "      <td>2019-11-02</td>\n",
       "    </tr>\n",
       "  </tbody>\n",
       "</table>\n",
       "</div>"
      ],
      "text/plain": [
       "                                            file_path week_end_dt\n",
       "29  /home/jian/BigLots/2019_by_weeks/MediaStorm_20...  2019-08-10\n",
       "30  /home/jian/BigLots/2019_by_weeks/MediaStorm_20...  2019-08-17\n",
       "31  /home/jian/BigLots/2019_by_weeks/MediaStorm_20...  2019-08-24\n",
       "32  /home/jian/BigLots/2019_by_weeks/MediaStorm_20...  2019-08-31\n",
       "33  /home/jian/BigLots/2019_by_weeks/MediaStorm_20...  2019-09-07\n",
       "34  /home/jian/BigLots/2019_by_weeks/MediaStorm_20...  2019-09-14\n",
       "35  /home/jian/BigLots/2019_by_weeks/MediaStorm_20...  2019-09-21\n",
       "36  /home/jian/BigLots/2019_by_weeks/MediaStorm_20...  2019-09-28\n",
       "37  /home/jian/BigLots/2019_by_weeks/MediaStorm_20...  2019-10-05\n",
       "38  /home/jian/BigLots/2019_by_weeks/MediaStorm_20...  2019-10-12\n",
       "39  /home/jian/BigLots/2019_by_weeks/MediaStorm_20...  2019-10-19\n",
       "40  /home/jian/BigLots/2019_by_weeks/MediaStorm_20...  2019-10-26\n",
       "41  /home/jian/BigLots/2019_by_weeks/MediaStorm_20...  2019-11-02"
      ]
     },
     "execution_count": 28,
     "metadata": {},
     "output_type": "execute_result"
    }
   ],
   "source": [
    "Recent_Quarter_new_sign_ups_files_df"
   ]
  },
  {
   "cell_type": "code",
   "execution_count": 29,
   "metadata": {},
   "outputs": [
    {
     "name": "stdout",
     "output_type": "stream",
     "text": [
      "(1587076, 2)\n"
     ]
    }
   ],
   "source": [
    "all_new_sign_ups=pd.DataFrame()\n",
    "for file in Recent_Quarter_new_sign_ups_files_df['file_path'].unique().tolist():\n",
    "    df=pd.read_table(file,sep=\"|\",usecols=['customer_id_hashed','sign_up_date'])\n",
    "    all_new_sign_ups=all_new_sign_ups.append(df)\n",
    "all_new_sign_ups=all_new_sign_ups.sort_values(['customer_id_hashed','sign_up_date'])\n",
    "all_new_sign_ups=all_new_sign_ups.drop_duplicates(\"customer_id_hashed\")\n",
    "print(all_new_sign_ups.shape)\n",
    "\n",
    "all_new_sign_ups['NewRewards']=\"Recent_Quarter_New_Sign_Ups\"\n",
    "all_new_sign_ups=all_new_sign_ups.drop_duplicates(\"customer_id_hashed\")"
   ]
  },
  {
   "cell_type": "code",
   "execution_count": 30,
   "metadata": {},
   "outputs": [
    {
     "data": {
      "text/plain": [
       "(30241196, 11)"
      ]
     },
     "execution_count": 30,
     "metadata": {},
     "output_type": "execute_result"
    }
   ],
   "source": [
    "all_rewards_most_recent=pd.merge(all_rewards_most_recent,all_new_sign_ups,on=\"customer_id_hashed\",how=\"outer\")\n",
    "all_rewards_most_recent['NewRewards']=all_rewards_most_recent['NewRewards'].fillna(\"Old_Rewards_Members\")\n",
    "\n",
    "all_rewards_most_recent['sales_recent_Quarter']=all_rewards_most_recent['sales_recent_Quarter'].fillna(0)\n",
    "all_rewards_most_recent['trans_recent_Quarter']=all_rewards_most_recent['trans_recent_Quarter'].fillna(0)\n",
    "\n",
    "all_rewards_most_recent['Recent_Quarter_Shopping_Group']=all_rewards_most_recent['Recent_Quarter_Shopping_Group'].fillna(\"Recent_Quarter_No_Shop\")\n",
    "\n",
    "all_rewards_most_recent.shape"
   ]
  },
  {
   "cell_type": "code",
   "execution_count": 36,
   "metadata": {},
   "outputs": [],
   "source": [
    "all_rewards_most_recent['Group_before_the_Quarter']=all_rewards_most_recent['Group_before_the_Quarter'].fillna(\"nan\")\n",
    "all_rewards_most_recent['Group_after_the_Quarter']=all_rewards_most_recent['Group_after_the_Quarter'].fillna(\"nan\")\n",
    "all_rewards_most_recent['NewRewards']=all_rewards_most_recent['NewRewards'].fillna(\"nan\")\n",
    "all_rewards_most_recent['Recent_Quarter_Shopping_Group']=all_rewards_most_recent['Recent_Quarter_Shopping_Group'].fillna(\"nan\")"
   ]
  },
  {
   "cell_type": "code",
   "execution_count": 37,
   "metadata": {
    "collapsed": true
   },
   "outputs": [],
   "source": [
    "all_rewards_most_recent['sales_recent_Quarter']=all_rewards_most_recent['sales_recent_Quarter'].fillna(0)\n",
    "all_rewards_most_recent['trans_recent_Quarter']=all_rewards_most_recent['trans_recent_Quarter'].fillna(0)\n"
   ]
  },
  {
   "cell_type": "code",
   "execution_count": 38,
   "metadata": {},
   "outputs": [
    {
     "data": {
      "text/html": [
       "<div>\n",
       "<style scoped>\n",
       "    .dataframe tbody tr th:only-of-type {\n",
       "        vertical-align: middle;\n",
       "    }\n",
       "\n",
       "    .dataframe tbody tr th {\n",
       "        vertical-align: top;\n",
       "    }\n",
       "\n",
       "    .dataframe thead th {\n",
       "        text-align: right;\n",
       "    }\n",
       "</style>\n",
       "<table border=\"1\" class=\"dataframe\">\n",
       "  <thead>\n",
       "    <tr style=\"text-align: right;\">\n",
       "      <th></th>\n",
       "      <th>Group_before_the_Quarter</th>\n",
       "      <th>Group_after_the_Quarter</th>\n",
       "      <th>NewRewards</th>\n",
       "      <th>Recent_Quarter_Shopping_Group</th>\n",
       "      <th>id_count</th>\n",
       "      <th>sales_recent_Quarter</th>\n",
       "      <th>trans_recent_Quarter</th>\n",
       "    </tr>\n",
       "  </thead>\n",
       "  <tbody>\n",
       "    <tr>\n",
       "      <th>0</th>\n",
       "      <td>Active</td>\n",
       "      <td>Active</td>\n",
       "      <td>Old_Rewards_Members</td>\n",
       "      <td>Recent_Quarter_No_Shop</td>\n",
       "      <td>9994085</td>\n",
       "      <td>0.000000e+00</td>\n",
       "      <td>0.0</td>\n",
       "    </tr>\n",
       "    <tr>\n",
       "      <th>1</th>\n",
       "      <td>Active</td>\n",
       "      <td>Active</td>\n",
       "      <td>Old_Rewards_Members</td>\n",
       "      <td>Recent_Quarter_Shopped</td>\n",
       "      <td>6739182</td>\n",
       "      <td>5.712362e+08</td>\n",
       "      <td>17005153.0</td>\n",
       "    </tr>\n",
       "    <tr>\n",
       "      <th>2</th>\n",
       "      <td>Active</td>\n",
       "      <td>Active</td>\n",
       "      <td>Recent_Quarter_New_Sign_Ups</td>\n",
       "      <td>Recent_Quarter_No_Shop</td>\n",
       "      <td>20</td>\n",
       "      <td>0.000000e+00</td>\n",
       "      <td>0.0</td>\n",
       "    </tr>\n",
       "    <tr>\n",
       "      <th>3</th>\n",
       "      <td>Active</td>\n",
       "      <td>Active</td>\n",
       "      <td>Recent_Quarter_New_Sign_Ups</td>\n",
       "      <td>Recent_Quarter_Shopped</td>\n",
       "      <td>42</td>\n",
       "      <td>8.147450e+03</td>\n",
       "      <td>166.0</td>\n",
       "    </tr>\n",
       "    <tr>\n",
       "      <th>4</th>\n",
       "      <td>Active</td>\n",
       "      <td>Lapsed_13_48</td>\n",
       "      <td>Old_Rewards_Members</td>\n",
       "      <td>Recent_Quarter_No_Shop</td>\n",
       "      <td>1561081</td>\n",
       "      <td>0.000000e+00</td>\n",
       "      <td>0.0</td>\n",
       "    </tr>\n",
       "    <tr>\n",
       "      <th>5</th>\n",
       "      <td>Lapsed_13_48</td>\n",
       "      <td>Active</td>\n",
       "      <td>Old_Rewards_Members</td>\n",
       "      <td>Recent_Quarter_Shopped</td>\n",
       "      <td>683412</td>\n",
       "      <td>4.918085e+07</td>\n",
       "      <td>1023580.0</td>\n",
       "    </tr>\n",
       "    <tr>\n",
       "      <th>6</th>\n",
       "      <td>Lapsed_13_48</td>\n",
       "      <td>Lapsed_13_48</td>\n",
       "      <td>Old_Rewards_Members</td>\n",
       "      <td>Recent_Quarter_No_Shop</td>\n",
       "      <td>9213639</td>\n",
       "      <td>0.000000e+00</td>\n",
       "      <td>0.0</td>\n",
       "    </tr>\n",
       "    <tr>\n",
       "      <th>7</th>\n",
       "      <td>Lapsed_13_48</td>\n",
       "      <td>Lapsed_13_48</td>\n",
       "      <td>Recent_Quarter_New_Sign_Ups</td>\n",
       "      <td>Recent_Quarter_No_Shop</td>\n",
       "      <td>1</td>\n",
       "      <td>0.000000e+00</td>\n",
       "      <td>0.0</td>\n",
       "    </tr>\n",
       "    <tr>\n",
       "      <th>8</th>\n",
       "      <td>Lapsed_13_48</td>\n",
       "      <td>WD_48+</td>\n",
       "      <td>Old_Rewards_Members</td>\n",
       "      <td>Recent_Quarter_No_Shop</td>\n",
       "      <td>118825</td>\n",
       "      <td>0.000000e+00</td>\n",
       "      <td>0.0</td>\n",
       "    </tr>\n",
       "    <tr>\n",
       "      <th>9</th>\n",
       "      <td>NotAvailable_Before_Quarter</td>\n",
       "      <td>Active</td>\n",
       "      <td>Old_Rewards_Members</td>\n",
       "      <td>Recent_Quarter_Shopped</td>\n",
       "      <td>336591</td>\n",
       "      <td>2.920117e+07</td>\n",
       "      <td>516294.0</td>\n",
       "    </tr>\n",
       "    <tr>\n",
       "      <th>10</th>\n",
       "      <td>NotAvailable_Before_Quarter</td>\n",
       "      <td>Active</td>\n",
       "      <td>Recent_Quarter_New_Sign_Ups</td>\n",
       "      <td>Recent_Quarter_Shopped</td>\n",
       "      <td>1095607</td>\n",
       "      <td>1.218523e+08</td>\n",
       "      <td>1986426.0</td>\n",
       "    </tr>\n",
       "    <tr>\n",
       "      <th>11</th>\n",
       "      <td>WD_48+</td>\n",
       "      <td>Active</td>\n",
       "      <td>Old_Rewards_Members</td>\n",
       "      <td>Recent_Quarter_Shopped</td>\n",
       "      <td>162</td>\n",
       "      <td>8.551740e+03</td>\n",
       "      <td>225.0</td>\n",
       "    </tr>\n",
       "    <tr>\n",
       "      <th>12</th>\n",
       "      <td>WD_48+</td>\n",
       "      <td>WD_48+</td>\n",
       "      <td>Old_Rewards_Members</td>\n",
       "      <td>Recent_Quarter_No_Shop</td>\n",
       "      <td>7143</td>\n",
       "      <td>0.000000e+00</td>\n",
       "      <td>0.0</td>\n",
       "    </tr>\n",
       "    <tr>\n",
       "      <th>13</th>\n",
       "      <td>nan</td>\n",
       "      <td>nan</td>\n",
       "      <td>Recent_Quarter_New_Sign_Ups</td>\n",
       "      <td>Recent_Quarter_No_Shop</td>\n",
       "      <td>491406</td>\n",
       "      <td>0.000000e+00</td>\n",
       "      <td>0.0</td>\n",
       "    </tr>\n",
       "  </tbody>\n",
       "</table>\n",
       "</div>"
      ],
      "text/plain": [
       "       Group_before_the_Quarter Group_after_the_Quarter  \\\n",
       "0                        Active                  Active   \n",
       "1                        Active                  Active   \n",
       "2                        Active                  Active   \n",
       "3                        Active                  Active   \n",
       "4                        Active            Lapsed_13_48   \n",
       "5                  Lapsed_13_48                  Active   \n",
       "6                  Lapsed_13_48            Lapsed_13_48   \n",
       "7                  Lapsed_13_48            Lapsed_13_48   \n",
       "8                  Lapsed_13_48                  WD_48+   \n",
       "9   NotAvailable_Before_Quarter                  Active   \n",
       "10  NotAvailable_Before_Quarter                  Active   \n",
       "11                       WD_48+                  Active   \n",
       "12                       WD_48+                  WD_48+   \n",
       "13                          nan                     nan   \n",
       "\n",
       "                     NewRewards Recent_Quarter_Shopping_Group  id_count  \\\n",
       "0           Old_Rewards_Members        Recent_Quarter_No_Shop   9994085   \n",
       "1           Old_Rewards_Members        Recent_Quarter_Shopped   6739182   \n",
       "2   Recent_Quarter_New_Sign_Ups        Recent_Quarter_No_Shop        20   \n",
       "3   Recent_Quarter_New_Sign_Ups        Recent_Quarter_Shopped        42   \n",
       "4           Old_Rewards_Members        Recent_Quarter_No_Shop   1561081   \n",
       "5           Old_Rewards_Members        Recent_Quarter_Shopped    683412   \n",
       "6           Old_Rewards_Members        Recent_Quarter_No_Shop   9213639   \n",
       "7   Recent_Quarter_New_Sign_Ups        Recent_Quarter_No_Shop         1   \n",
       "8           Old_Rewards_Members        Recent_Quarter_No_Shop    118825   \n",
       "9           Old_Rewards_Members        Recent_Quarter_Shopped    336591   \n",
       "10  Recent_Quarter_New_Sign_Ups        Recent_Quarter_Shopped   1095607   \n",
       "11          Old_Rewards_Members        Recent_Quarter_Shopped       162   \n",
       "12          Old_Rewards_Members        Recent_Quarter_No_Shop      7143   \n",
       "13  Recent_Quarter_New_Sign_Ups        Recent_Quarter_No_Shop    491406   \n",
       "\n",
       "    sales_recent_Quarter  trans_recent_Quarter  \n",
       "0           0.000000e+00                   0.0  \n",
       "1           5.712362e+08            17005153.0  \n",
       "2           0.000000e+00                   0.0  \n",
       "3           8.147450e+03                 166.0  \n",
       "4           0.000000e+00                   0.0  \n",
       "5           4.918085e+07             1023580.0  \n",
       "6           0.000000e+00                   0.0  \n",
       "7           0.000000e+00                   0.0  \n",
       "8           0.000000e+00                   0.0  \n",
       "9           2.920117e+07              516294.0  \n",
       "10          1.218523e+08             1986426.0  \n",
       "11          8.551740e+03                 225.0  \n",
       "12          0.000000e+00                   0.0  \n",
       "13          0.000000e+00                   0.0  "
      ]
     },
     "execution_count": 38,
     "metadata": {},
     "output_type": "execute_result"
    }
   ],
   "source": [
    "output_id_count=all_rewards_most_recent.groupby(['Group_before_the_Quarter','Group_after_the_Quarter','NewRewards','Recent_Quarter_Shopping_Group'])['customer_id_hashed'].count().to_frame().reset_index().rename(columns={\"customer_id_hashed\":\"id_count\"})\n",
    "output_id_sales=all_rewards_most_recent.groupby(['Group_before_the_Quarter','Group_after_the_Quarter','NewRewards','Recent_Quarter_Shopping_Group'])['sales_recent_Quarter','trans_recent_Quarter'].sum().reset_index()\n",
    "\n",
    "output=pd.merge(output_id_count,output_id_sales,on=['Group_before_the_Quarter','Group_after_the_Quarter','NewRewards','Recent_Quarter_Shopping_Group'],how=\"outer\")\n",
    "output"
   ]
  },
  {
   "cell_type": "code",
   "execution_count": 39,
   "metadata": {},
   "outputs": [
    {
     "data": {
      "text/plain": [
       "'/home/jian/Projects/Big_Lots/Analysis/2019_Q4/Migration_JL_status_change'"
      ]
     },
     "execution_count": 39,
     "metadata": {},
     "output_type": "execute_result"
    }
   ],
   "source": [
    "os.getcwd()"
   ]
  },
  {
   "cell_type": "code",
   "execution_count": 40,
   "metadata": {
    "collapsed": true
   },
   "outputs": [],
   "source": [
    "# Stop here"
   ]
  },
  {
   "cell_type": "code",
   "execution_count": 41,
   "metadata": {
    "collapsed": true
   },
   "outputs": [],
   "source": [
    "output['Recent_Quarteer_Sale_per_ID']=output['sales_recent_Quarter']/output['id_count']\n",
    "output['Recent_Quarteer_Sale_per_ID']=output['Recent_Quarteer_Sale_per_ID'].apply(lambda x: np.round(x,2))\n",
    "\n",
    "output['inclusion/exclusion']=np.where((output['Group_before_the_Quarter']!=\"NotAvailable_Before_Quarter\") & (output['NewRewards']==\"Recent_Quarter_New_Sign_Ups\"),\"Exclusion\",\"Inclusion\")\n"
   ]
  },
  {
   "cell_type": "code",
   "execution_count": null,
   "metadata": {
    "collapsed": true
   },
   "outputs": [],
   "source": []
  },
  {
   "cell_type": "code",
   "execution_count": 42,
   "metadata": {
    "collapsed": true
   },
   "outputs": [],
   "source": [
    "output.to_csv(\"./BL_2019Q3_rewards_migration_output_summary_JL_\"+str(datetime.datetime.now().date())+\".csv\",index=False)\n",
    "\n"
   ]
  },
  {
   "cell_type": "code",
   "execution_count": 43,
   "metadata": {
    "collapsed": true
   },
   "outputs": [],
   "source": [
    "all_rewards_most_recent.to_csv(\"./BL_2019Q3_rewards_migration_rewards_data_JL_\"+str(datetime.datetime.now().date())+\".csv\",index=False)\n"
   ]
  },
  {
   "cell_type": "code",
   "execution_count": 50,
   "metadata": {},
   "outputs": [
    {
     "data": {
      "text/plain": [
       "30241196"
      ]
     },
     "execution_count": 50,
     "metadata": {},
     "output_type": "execute_result"
    }
   ],
   "source": [
    "output['id_count'].sum()"
   ]
  },
  {
   "cell_type": "code",
   "execution_count": 44,
   "metadata": {},
   "outputs": [
    {
     "data": {
      "text/plain": [
       "(30241196, 11)"
      ]
     },
     "execution_count": 44,
     "metadata": {},
     "output_type": "execute_result"
    }
   ],
   "source": [
    "all_rewards_most_recent.shape"
   ]
  },
  {
   "cell_type": "code",
   "execution_count": 45,
   "metadata": {},
   "outputs": [
    {
     "data": {
      "text/plain": [
       "30241196"
      ]
     },
     "execution_count": 45,
     "metadata": {},
     "output_type": "execute_result"
    }
   ],
   "source": [
    "all_rewards_most_recent['customer_id_hashed'].nunique()"
   ]
  },
  {
   "cell_type": "code",
   "execution_count": 46,
   "metadata": {},
   "outputs": [
    {
     "data": {
      "text/plain": [
       "(30241196, 11)"
      ]
     },
     "execution_count": 46,
     "metadata": {},
     "output_type": "execute_result"
    }
   ],
   "source": [
    "all_rewards_most_recent.shape"
   ]
  },
  {
   "cell_type": "code",
   "execution_count": 47,
   "metadata": {},
   "outputs": [
    {
     "data": {
      "text/html": [
       "<div>\n",
       "<style scoped>\n",
       "    .dataframe tbody tr th:only-of-type {\n",
       "        vertical-align: middle;\n",
       "    }\n",
       "\n",
       "    .dataframe tbody tr th {\n",
       "        vertical-align: top;\n",
       "    }\n",
       "\n",
       "    .dataframe thead th {\n",
       "        text-align: right;\n",
       "    }\n",
       "</style>\n",
       "<table border=\"1\" class=\"dataframe\">\n",
       "  <thead>\n",
       "    <tr style=\"text-align: right;\">\n",
       "      <th></th>\n",
       "      <th>customer_id_hashed</th>\n",
       "      <th>transaction_date</th>\n",
       "      <th>transaction_date_before_the_Quarter</th>\n",
       "      <th>transaction_date_after_the_Quarter</th>\n",
       "      <th>Group_before_the_Quarter</th>\n",
       "      <th>Group_after_the_Quarter</th>\n",
       "      <th>sales_recent_Quarter</th>\n",
       "      <th>trans_recent_Quarter</th>\n",
       "      <th>Recent_Quarter_Shopping_Group</th>\n",
       "      <th>sign_up_date</th>\n",
       "      <th>NewRewards</th>\n",
       "    </tr>\n",
       "  </thead>\n",
       "  <tbody>\n",
       "    <tr>\n",
       "      <th>0</th>\n",
       "      <td>00000135f48c68690ad3d5fc9ada41bb5cd687452007e8...</td>\n",
       "      <td>2018-10-30</td>\n",
       "      <td>2018-10-30</td>\n",
       "      <td>2018-10-30</td>\n",
       "      <td>Active</td>\n",
       "      <td>Lapsed_13_48</td>\n",
       "      <td>0.00</td>\n",
       "      <td>0.0</td>\n",
       "      <td>Recent_Quarter_No_Shop</td>\n",
       "      <td>NaN</td>\n",
       "      <td>Old_Rewards_Members</td>\n",
       "    </tr>\n",
       "    <tr>\n",
       "      <th>1</th>\n",
       "      <td>000001dadc0265bf9d250566d74e0006323f18b5826641...</td>\n",
       "      <td>2018-12-21</td>\n",
       "      <td>2018-12-21</td>\n",
       "      <td>2019-10-12</td>\n",
       "      <td>Active</td>\n",
       "      <td>Active</td>\n",
       "      <td>53.95</td>\n",
       "      <td>2.0</td>\n",
       "      <td>Recent_Quarter_Shopped</td>\n",
       "      <td>NaN</td>\n",
       "      <td>Old_Rewards_Members</td>\n",
       "    </tr>\n",
       "    <tr>\n",
       "      <th>2</th>\n",
       "      <td>000003066bafc6b19c55d3be5fc646a253c659e9e6baea...</td>\n",
       "      <td>2018-11-12</td>\n",
       "      <td>2018-11-12</td>\n",
       "      <td>2019-10-15</td>\n",
       "      <td>Active</td>\n",
       "      <td>Active</td>\n",
       "      <td>17.00</td>\n",
       "      <td>1.0</td>\n",
       "      <td>Recent_Quarter_Shopped</td>\n",
       "      <td>NaN</td>\n",
       "      <td>Old_Rewards_Members</td>\n",
       "    </tr>\n",
       "    <tr>\n",
       "      <th>3</th>\n",
       "      <td>0000034fec3c2cbbf7a2b38fbf80d84abc72d8bed269c4...</td>\n",
       "      <td>2019-05-25</td>\n",
       "      <td>2019-05-25</td>\n",
       "      <td>2019-05-25</td>\n",
       "      <td>Active</td>\n",
       "      <td>Active</td>\n",
       "      <td>0.00</td>\n",
       "      <td>0.0</td>\n",
       "      <td>Recent_Quarter_No_Shop</td>\n",
       "      <td>NaN</td>\n",
       "      <td>Old_Rewards_Members</td>\n",
       "    </tr>\n",
       "    <tr>\n",
       "      <th>4</th>\n",
       "      <td>00000435bfb3bf42e3beb4c9b3942c552d09f0e49e5a75...</td>\n",
       "      <td>2019-06-30</td>\n",
       "      <td>2019-06-30</td>\n",
       "      <td>2019-10-12</td>\n",
       "      <td>Active</td>\n",
       "      <td>Active</td>\n",
       "      <td>14.19</td>\n",
       "      <td>2.0</td>\n",
       "      <td>Recent_Quarter_Shopped</td>\n",
       "      <td>NaN</td>\n",
       "      <td>Old_Rewards_Members</td>\n",
       "    </tr>\n",
       "    <tr>\n",
       "      <th>...</th>\n",
       "      <td>...</td>\n",
       "      <td>...</td>\n",
       "      <td>...</td>\n",
       "      <td>...</td>\n",
       "      <td>...</td>\n",
       "      <td>...</td>\n",
       "      <td>...</td>\n",
       "      <td>...</td>\n",
       "      <td>...</td>\n",
       "      <td>...</td>\n",
       "      <td>...</td>\n",
       "    </tr>\n",
       "    <tr>\n",
       "      <th>95</th>\n",
       "      <td>0000358fbc9f7162c1acbfc88f1211ebec1245400631f1...</td>\n",
       "      <td>2019-07-23</td>\n",
       "      <td>2019-07-23</td>\n",
       "      <td>2019-10-12</td>\n",
       "      <td>Active</td>\n",
       "      <td>Active</td>\n",
       "      <td>116.79</td>\n",
       "      <td>6.0</td>\n",
       "      <td>Recent_Quarter_Shopped</td>\n",
       "      <td>NaN</td>\n",
       "      <td>Old_Rewards_Members</td>\n",
       "    </tr>\n",
       "    <tr>\n",
       "      <th>96</th>\n",
       "      <td>00003654ed0884109390963c2ba2c4b61b49442904a019...</td>\n",
       "      <td>2019-07-02</td>\n",
       "      <td>2019-07-02</td>\n",
       "      <td>2019-10-20</td>\n",
       "      <td>Active</td>\n",
       "      <td>Active</td>\n",
       "      <td>218.67</td>\n",
       "      <td>5.0</td>\n",
       "      <td>Recent_Quarter_Shopped</td>\n",
       "      <td>NaN</td>\n",
       "      <td>Old_Rewards_Members</td>\n",
       "    </tr>\n",
       "    <tr>\n",
       "      <th>97</th>\n",
       "      <td>000039d8d4585c0eb6e5ff78217d3769807fb5a9b08158...</td>\n",
       "      <td>2016-03-14</td>\n",
       "      <td>2016-03-14</td>\n",
       "      <td>2016-03-14</td>\n",
       "      <td>Lapsed_13_48</td>\n",
       "      <td>Lapsed_13_48</td>\n",
       "      <td>0.00</td>\n",
       "      <td>0.0</td>\n",
       "      <td>Recent_Quarter_No_Shop</td>\n",
       "      <td>NaN</td>\n",
       "      <td>Old_Rewards_Members</td>\n",
       "    </tr>\n",
       "    <tr>\n",
       "      <th>98</th>\n",
       "      <td>00003a96d2cf6a9edc5f60880aa4445d5e04deb8f26656...</td>\n",
       "      <td>2019-03-10</td>\n",
       "      <td>2019-03-10</td>\n",
       "      <td>2019-10-09</td>\n",
       "      <td>Active</td>\n",
       "      <td>Active</td>\n",
       "      <td>78.50</td>\n",
       "      <td>4.0</td>\n",
       "      <td>Recent_Quarter_Shopped</td>\n",
       "      <td>NaN</td>\n",
       "      <td>Old_Rewards_Members</td>\n",
       "    </tr>\n",
       "    <tr>\n",
       "      <th>99</th>\n",
       "      <td>00003b888de64a8e334f9053611ea5fbfb0a27e168a5be...</td>\n",
       "      <td>2018-11-07</td>\n",
       "      <td>2018-11-07</td>\n",
       "      <td>2018-11-07</td>\n",
       "      <td>Active</td>\n",
       "      <td>Active</td>\n",
       "      <td>0.00</td>\n",
       "      <td>0.0</td>\n",
       "      <td>Recent_Quarter_No_Shop</td>\n",
       "      <td>NaN</td>\n",
       "      <td>Old_Rewards_Members</td>\n",
       "    </tr>\n",
       "  </tbody>\n",
       "</table>\n",
       "<p>100 rows × 11 columns</p>\n",
       "</div>"
      ],
      "text/plain": [
       "                                   customer_id_hashed transaction_date  \\\n",
       "0   00000135f48c68690ad3d5fc9ada41bb5cd687452007e8...       2018-10-30   \n",
       "1   000001dadc0265bf9d250566d74e0006323f18b5826641...       2018-12-21   \n",
       "2   000003066bafc6b19c55d3be5fc646a253c659e9e6baea...       2018-11-12   \n",
       "3   0000034fec3c2cbbf7a2b38fbf80d84abc72d8bed269c4...       2019-05-25   \n",
       "4   00000435bfb3bf42e3beb4c9b3942c552d09f0e49e5a75...       2019-06-30   \n",
       "..                                                ...              ...   \n",
       "95  0000358fbc9f7162c1acbfc88f1211ebec1245400631f1...       2019-07-23   \n",
       "96  00003654ed0884109390963c2ba2c4b61b49442904a019...       2019-07-02   \n",
       "97  000039d8d4585c0eb6e5ff78217d3769807fb5a9b08158...       2016-03-14   \n",
       "98  00003a96d2cf6a9edc5f60880aa4445d5e04deb8f26656...       2019-03-10   \n",
       "99  00003b888de64a8e334f9053611ea5fbfb0a27e168a5be...       2018-11-07   \n",
       "\n",
       "   transaction_date_before_the_Quarter transaction_date_after_the_Quarter  \\\n",
       "0                           2018-10-30                         2018-10-30   \n",
       "1                           2018-12-21                         2019-10-12   \n",
       "2                           2018-11-12                         2019-10-15   \n",
       "3                           2019-05-25                         2019-05-25   \n",
       "4                           2019-06-30                         2019-10-12   \n",
       "..                                 ...                                ...   \n",
       "95                          2019-07-23                         2019-10-12   \n",
       "96                          2019-07-02                         2019-10-20   \n",
       "97                          2016-03-14                         2016-03-14   \n",
       "98                          2019-03-10                         2019-10-09   \n",
       "99                          2018-11-07                         2018-11-07   \n",
       "\n",
       "   Group_before_the_Quarter Group_after_the_Quarter  sales_recent_Quarter  \\\n",
       "0                    Active            Lapsed_13_48                  0.00   \n",
       "1                    Active                  Active                 53.95   \n",
       "2                    Active                  Active                 17.00   \n",
       "3                    Active                  Active                  0.00   \n",
       "4                    Active                  Active                 14.19   \n",
       "..                      ...                     ...                   ...   \n",
       "95                   Active                  Active                116.79   \n",
       "96                   Active                  Active                218.67   \n",
       "97             Lapsed_13_48            Lapsed_13_48                  0.00   \n",
       "98                   Active                  Active                 78.50   \n",
       "99                   Active                  Active                  0.00   \n",
       "\n",
       "    trans_recent_Quarter Recent_Quarter_Shopping_Group sign_up_date  \\\n",
       "0                    0.0        Recent_Quarter_No_Shop          NaN   \n",
       "1                    2.0        Recent_Quarter_Shopped          NaN   \n",
       "2                    1.0        Recent_Quarter_Shopped          NaN   \n",
       "3                    0.0        Recent_Quarter_No_Shop          NaN   \n",
       "4                    2.0        Recent_Quarter_Shopped          NaN   \n",
       "..                   ...                           ...          ...   \n",
       "95                   6.0        Recent_Quarter_Shopped          NaN   \n",
       "96                   5.0        Recent_Quarter_Shopped          NaN   \n",
       "97                   0.0        Recent_Quarter_No_Shop          NaN   \n",
       "98                   4.0        Recent_Quarter_Shopped          NaN   \n",
       "99                   0.0        Recent_Quarter_No_Shop          NaN   \n",
       "\n",
       "             NewRewards  \n",
       "0   Old_Rewards_Members  \n",
       "1   Old_Rewards_Members  \n",
       "2   Old_Rewards_Members  \n",
       "3   Old_Rewards_Members  \n",
       "4   Old_Rewards_Members  \n",
       "..                  ...  \n",
       "95  Old_Rewards_Members  \n",
       "96  Old_Rewards_Members  \n",
       "97  Old_Rewards_Members  \n",
       "98  Old_Rewards_Members  \n",
       "99  Old_Rewards_Members  \n",
       "\n",
       "[100 rows x 11 columns]"
      ]
     },
     "execution_count": 47,
     "metadata": {},
     "output_type": "execute_result"
    }
   ],
   "source": [
    "all_rewards_most_recent.head(100)"
   ]
  },
  {
   "cell_type": "code",
   "execution_count": 48,
   "metadata": {},
   "outputs": [
    {
     "data": {
      "text/plain": [
       "(18294410, 11)"
      ]
     },
     "execution_count": 48,
     "metadata": {},
     "output_type": "execute_result"
    }
   ],
   "source": [
    "all_rewards_most_recent[all_rewards_most_recent['Group_before_the_Quarter']==\"Active\"].shape"
   ]
  },
  {
   "cell_type": "code",
   "execution_count": null,
   "metadata": {
    "collapsed": true
   },
   "outputs": [],
   "source": []
  },
  {
   "cell_type": "code",
   "execution_count": null,
   "metadata": {
    "collapsed": true
   },
   "outputs": [],
   "source": []
  },
  {
   "cell_type": "code",
   "execution_count": null,
   "metadata": {
    "collapsed": true
   },
   "outputs": [],
   "source": []
  },
  {
   "cell_type": "code",
   "execution_count": null,
   "metadata": {
    "collapsed": true
   },
   "outputs": [],
   "source": []
  },
  {
   "cell_type": "code",
   "execution_count": null,
   "metadata": {
    "collapsed": true
   },
   "outputs": [],
   "source": []
  },
  {
   "cell_type": "code",
   "execution_count": null,
   "metadata": {
    "collapsed": true
   },
   "outputs": [],
   "source": []
  }
 ],
 "metadata": {
  "kernelspec": {
   "display_name": "Python 3",
   "language": "python",
   "name": "python3"
  },
  "language_info": {
   "codemirror_mode": {
    "name": "ipython",
    "version": 3
   },
   "file_extension": ".py",
   "mimetype": "text/x-python",
   "name": "python",
   "nbconvert_exporter": "python",
   "pygments_lexer": "ipython3",
   "version": "3.6.1"
  }
 },
 "nbformat": 4,
 "nbformat_minor": 2
}
