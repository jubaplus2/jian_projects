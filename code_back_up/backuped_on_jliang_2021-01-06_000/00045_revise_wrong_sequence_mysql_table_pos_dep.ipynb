{
 "cells": [
  {
   "cell_type": "code",
   "execution_count": 1,
   "metadata": {},
   "outputs": [],
   "source": [
    "import sqlalchemy\n",
    "import pandas as pd\n",
    "import datetime\n",
    "import numpy as np\n",
    "BL_engine=sqlalchemy.create_engine(\n",
    "            \"mysql+pymysql://%s:%s@localhost/%s\" % ('jian', 'JubaPlus-2017', 'BigLots'))"
   ]
  },
  {
   "cell_type": "code",
   "execution_count": 2,
   "metadata": {},
   "outputs": [
    {
     "name": "stderr",
     "output_type": "stream",
     "text": [
      "/usr/local/lib/python3.6/site-packages/pymysql/cursors.py:166: Warning: (1287, \"'@@tx_isolation' is deprecated and will be removed in a future release. Please use '@@transaction_isolation' instead\")\n",
      "  result = self._query(query)\n"
     ]
    },
    {
     "data": {
      "text/html": [
       "<div>\n",
       "<style scoped>\n",
       "    .dataframe tbody tr th:only-of-type {\n",
       "        vertical-align: middle;\n",
       "    }\n",
       "\n",
       "    .dataframe tbody tr th {\n",
       "        vertical-align: top;\n",
       "    }\n",
       "\n",
       "    .dataframe thead th {\n",
       "        text-align: right;\n",
       "    }\n",
       "</style>\n",
       "<table border=\"1\" class=\"dataframe\">\n",
       "  <thead>\n",
       "    <tr style=\"text-align: right;\">\n",
       "      <th></th>\n",
       "      <th>Field</th>\n",
       "      <th>Type</th>\n",
       "      <th>Null</th>\n",
       "      <th>Key</th>\n",
       "      <th>Default</th>\n",
       "      <th>Extra</th>\n",
       "    </tr>\n",
       "  </thead>\n",
       "  <tbody>\n",
       "    <tr>\n",
       "      <th>0</th>\n",
       "      <td>location_id</td>\n",
       "      <td>int(11)</td>\n",
       "      <td>YES</td>\n",
       "      <td>MUL</td>\n",
       "      <td>None</td>\n",
       "      <td></td>\n",
       "    </tr>\n",
       "    <tr>\n",
       "      <th>1</th>\n",
       "      <td>transaction_dt</td>\n",
       "      <td>date</td>\n",
       "      <td>YES</td>\n",
       "      <td>MUL</td>\n",
       "      <td>None</td>\n",
       "      <td></td>\n",
       "    </tr>\n",
       "    <tr>\n",
       "      <th>2</th>\n",
       "      <td>transaction_id</td>\n",
       "      <td>varchar(16)</td>\n",
       "      <td>YES</td>\n",
       "      <td></td>\n",
       "      <td>None</td>\n",
       "      <td></td>\n",
       "    </tr>\n",
       "    <tr>\n",
       "      <th>3</th>\n",
       "      <td>customer_id_hashed</td>\n",
       "      <td>char(64)</td>\n",
       "      <td>YES</td>\n",
       "      <td>MUL</td>\n",
       "      <td>None</td>\n",
       "      <td></td>\n",
       "    </tr>\n",
       "    <tr>\n",
       "      <th>4</th>\n",
       "      <td>department_id</td>\n",
       "      <td>varchar(16)</td>\n",
       "      <td>YES</td>\n",
       "      <td>MUL</td>\n",
       "      <td>None</td>\n",
       "      <td></td>\n",
       "    </tr>\n",
       "    <tr>\n",
       "      <th>5</th>\n",
       "      <td>sales</td>\n",
       "      <td>decimal(10,2)</td>\n",
       "      <td>YES</td>\n",
       "      <td></td>\n",
       "      <td>None</td>\n",
       "      <td></td>\n",
       "    </tr>\n",
       "    <tr>\n",
       "      <th>6</th>\n",
       "      <td>units</td>\n",
       "      <td>int(11)</td>\n",
       "      <td>YES</td>\n",
       "      <td></td>\n",
       "      <td>None</td>\n",
       "      <td></td>\n",
       "    </tr>\n",
       "    <tr>\n",
       "      <th>7</th>\n",
       "      <td>trans_order_since_18Q1</td>\n",
       "      <td>int(11)</td>\n",
       "      <td>YES</td>\n",
       "      <td>MUL</td>\n",
       "      <td>None</td>\n",
       "      <td></td>\n",
       "    </tr>\n",
       "  </tbody>\n",
       "</table>\n",
       "</div>"
      ],
      "text/plain": [
       "                    Field           Type Null  Key Default Extra\n",
       "0             location_id        int(11)  YES  MUL    None      \n",
       "1          transaction_dt           date  YES  MUL    None      \n",
       "2          transaction_id    varchar(16)  YES         None      \n",
       "3      customer_id_hashed       char(64)  YES  MUL    None      \n",
       "4           department_id    varchar(16)  YES  MUL    None      \n",
       "5                   sales  decimal(10,2)  YES         None      \n",
       "6                   units        int(11)  YES         None      \n",
       "7  trans_order_since_18Q1        int(11)  YES  MUL    None      "
      ]
     },
     "execution_count": 2,
     "metadata": {},
     "output_type": "execute_result"
    }
   ],
   "source": [
    "pd.read_sql(\"desc Pred_POS_Department;\",con=BL_engine)"
   ]
  },
  {
   "cell_type": "code",
   "execution_count": 3,
   "metadata": {},
   "outputs": [
    {
     "data": {
      "text/plain": [
       "'\\ndf_wrong_ids=pd.read_sql(\"select distinct customer_id_hashed as customer_id_hashed from Pred_POS_Department where transaction_dt between \\'2020-06-07\\' and \\'2020-06-13\\'\",con=BL_engine)\\ndf_wrong_ids=df_wrong_ids[pd.notnull(df_wrong_ids[\\'customer_id_hashed\\'])]\\nprint(df_wrong_ids.shape)\\ndf_wrong_ids.head(2)\\n\\ndf_wrong_ids.to_sql(name=\"df_wrong_ids\",con=BL_engine,dtype={\"customer_id_hashed\":sqlalchemy.types.VARCHAR(length=64)},if_exists=\"replace\")\\n'"
      ]
     },
     "execution_count": 3,
     "metadata": {},
     "output_type": "execute_result"
    }
   ],
   "source": [
    "'''\n",
    "df_wrong_ids=pd.read_sql(\"select distinct customer_id_hashed as customer_id_hashed from Pred_POS_Department where transaction_dt between '2020-06-07' and '2020-06-13'\",con=BL_engine)\n",
    "df_wrong_ids=df_wrong_ids[pd.notnull(df_wrong_ids['customer_id_hashed'])]\n",
    "print(df_wrong_ids.shape)\n",
    "df_wrong_ids.head(2)\n",
    "\n",
    "df_wrong_ids.to_sql(name=\"df_wrong_ids\",con=BL_engine,dtype={\"customer_id_hashed\":sqlalchemy.types.VARCHAR(length=64)},if_exists=\"replace\")\n",
    "'''\n",
    "# 1.4 mm"
   ]
  },
  {
   "cell_type": "code",
   "execution_count": 4,
   "metadata": {},
   "outputs": [],
   "source": [
    "df_wrong_ids=pd.read_sql(\"select customer_id_hashed from df_wrong_ids;\",con=BL_engine)\n",
    "list_wrong_ids=df_wrong_ids['customer_id_hashed'].values.tolist()"
   ]
  },
  {
   "cell_type": "code",
   "execution_count": 5,
   "metadata": {},
   "outputs": [
    {
     "data": {
      "text/plain": [
       "1404642"
      ]
     },
     "execution_count": 5,
     "metadata": {},
     "output_type": "execute_result"
    }
   ],
   "source": [
    "df_pre_max_order=pd.read_sql(\"select customer_id_hashed, max(trans_order_since_18Q1) as pre_order \\\n",
    "from Pred_POS_Department \\\n",
    "where transaction_dt <= '2020-06-06' \\\n",
    "group by customer_id_hashed;\",con=BL_engine)\n",
    "\n",
    "len(list_wrong_ids)"
   ]
  },
  {
   "cell_type": "code",
   "execution_count": 7,
   "metadata": {},
   "outputs": [
    {
     "data": {
      "text/plain": [
       "(27144206, 2)"
      ]
     },
     "execution_count": 7,
     "metadata": {},
     "output_type": "execute_result"
    }
   ],
   "source": [
    "df_pre_max_order.shape"
   ]
  },
  {
   "cell_type": "code",
   "execution_count": 9,
   "metadata": {},
   "outputs": [
    {
     "name": "stdout",
     "output_type": "stream",
     "text": [
      "(1404642, 2)\n"
     ]
    },
    {
     "data": {
      "text/html": [
       "<div>\n",
       "<style scoped>\n",
       "    .dataframe tbody tr th:only-of-type {\n",
       "        vertical-align: middle;\n",
       "    }\n",
       "\n",
       "    .dataframe tbody tr th {\n",
       "        vertical-align: top;\n",
       "    }\n",
       "\n",
       "    .dataframe thead th {\n",
       "        text-align: right;\n",
       "    }\n",
       "</style>\n",
       "<table border=\"1\" class=\"dataframe\">\n",
       "  <thead>\n",
       "    <tr style=\"text-align: right;\">\n",
       "      <th></th>\n",
       "      <th>customer_id_hashed</th>\n",
       "      <th>pre_order</th>\n",
       "    </tr>\n",
       "  </thead>\n",
       "  <tbody>\n",
       "    <tr>\n",
       "      <th>0</th>\n",
       "      <td>0000141dbeb91820de94321c672f0a4cf3b763e31739ce...</td>\n",
       "      <td>9.0</td>\n",
       "    </tr>\n",
       "    <tr>\n",
       "      <th>1</th>\n",
       "      <td>00001ed4962579d15869b5ec21ee8ecfa136d13b07c3f8...</td>\n",
       "      <td>23.0</td>\n",
       "    </tr>\n",
       "  </tbody>\n",
       "</table>\n",
       "</div>"
      ],
      "text/plain": [
       "                                  customer_id_hashed  pre_order\n",
       "0  0000141dbeb91820de94321c672f0a4cf3b763e31739ce...        9.0\n",
       "1  00001ed4962579d15869b5ec21ee8ecfa136d13b07c3f8...       23.0"
      ]
     },
     "execution_count": 9,
     "metadata": {},
     "output_type": "execute_result"
    }
   ],
   "source": [
    "df_pre_max_order=pd.merge(df_wrong_ids,df_pre_max_order,on=\"customer_id_hashed\",how=\"left\")\n",
    "df_pre_max_order['pre_order']=df_pre_max_order['pre_order'].fillna(0)\n",
    "print(df_pre_max_order.shape)\n",
    "df_pre_max_order.head(2)"
   ]
  },
  {
   "cell_type": "code",
   "execution_count": 8,
   "metadata": {},
   "outputs": [],
   "source": [
    "df_pre_max_order.to_csv(\"./df_pre_max_order.csv\",index=False)"
   ]
  },
  {
   "cell_type": "code",
   "execution_count": 10,
   "metadata": {},
   "outputs": [
    {
     "name": "stdout",
     "output_type": "stream",
     "text": [
      "1 2020-08-11 22:17:44.555195\n",
      "11 2020-08-11 22:21:55.999707\n",
      "21 2020-08-11 22:28:03.141644\n",
      "31 2020-08-11 22:34:15.477683\n",
      "41 2020-08-11 22:40:39.956927\n",
      "51 2020-08-11 22:46:51.434586\n",
      "61 2020-08-11 22:53:09.967408\n",
      "71 2020-08-11 22:59:30.968156\n",
      "81 2020-08-11 23:05:51.076620\n",
      "91 2020-08-11 23:12:19.000458\n",
      "101 2020-08-11 23:18:45.437492\n",
      "111 2020-08-11 23:25:00.710028\n",
      "121 2020-08-11 23:31:17.758165\n",
      "131 2020-08-11 23:37:39.585977\n"
     ]
    },
    {
     "data": {
      "text/plain": [
       "(11972429, 8)"
      ]
     },
     "execution_count": 10,
     "metadata": {},
     "output_type": "execute_result"
    }
   ],
   "source": [
    "chunck_size=10**4\n",
    "chunck_count=int(np.ceil(len(list_wrong_ids)/chunck_size))\n",
    "df_wrong_trans=pd.DataFrame()\n",
    "for i in range(chunck_count):\n",
    "    chunck_list=list_wrong_ids[i*chunck_size:(i+1)*chunck_size]\n",
    "    str_list_wrong_ids=str(chunck_list).replace(\"[\",\"(\").replace(\"]\",\")\")\n",
    "    query_to_delete_in=\"select * from Pred_POS_Department where transaction_dt >= '2020-06-07' and customer_id_hashed in %s\"%str_list_wrong_ids\n",
    "    df=pd.read_sql(query_to_delete_in,con=BL_engine)\n",
    "    df_wrong_trans=df_wrong_trans.append(df)\n",
    "    if i%10==1:\n",
    "        print(i,datetime.datetime.now())\n",
    "df_wrong_trans.shape"
   ]
  },
  {
   "cell_type": "code",
   "execution_count": 11,
   "metadata": {},
   "outputs": [
    {
     "data": {
      "text/html": [
       "<div>\n",
       "<style scoped>\n",
       "    .dataframe tbody tr th:only-of-type {\n",
       "        vertical-align: middle;\n",
       "    }\n",
       "\n",
       "    .dataframe tbody tr th {\n",
       "        vertical-align: top;\n",
       "    }\n",
       "\n",
       "    .dataframe thead th {\n",
       "        text-align: right;\n",
       "    }\n",
       "</style>\n",
       "<table border=\"1\" class=\"dataframe\">\n",
       "  <thead>\n",
       "    <tr style=\"text-align: right;\">\n",
       "      <th></th>\n",
       "      <th>location_id</th>\n",
       "      <th>transaction_dt</th>\n",
       "      <th>transaction_id</th>\n",
       "      <th>customer_id_hashed</th>\n",
       "      <th>department_id</th>\n",
       "      <th>sales</th>\n",
       "      <th>units</th>\n",
       "      <th>trans_order_since_18Q1</th>\n",
       "    </tr>\n",
       "  </thead>\n",
       "  <tbody>\n",
       "    <tr>\n",
       "      <th>0</th>\n",
       "      <td>5383</td>\n",
       "      <td>2020-06-08</td>\n",
       "      <td>9296</td>\n",
       "      <td>0000141dbeb91820de94321c672f0a4cf3b763e31739ce...</td>\n",
       "      <td>353</td>\n",
       "      <td>5.0</td>\n",
       "      <td>2</td>\n",
       "      <td>11</td>\n",
       "    </tr>\n",
       "    <tr>\n",
       "      <th>1</th>\n",
       "      <td>1532</td>\n",
       "      <td>2020-06-12</td>\n",
       "      <td>6125</td>\n",
       "      <td>00001ed4962579d15869b5ec21ee8ecfa136d13b07c3f8...</td>\n",
       "      <td>110</td>\n",
       "      <td>3.0</td>\n",
       "      <td>1</td>\n",
       "      <td>25</td>\n",
       "    </tr>\n",
       "    <tr>\n",
       "      <th>2</th>\n",
       "      <td>1532</td>\n",
       "      <td>2020-06-12</td>\n",
       "      <td>6125</td>\n",
       "      <td>00001ed4962579d15869b5ec21ee8ecfa136d13b07c3f8...</td>\n",
       "      <td>111</td>\n",
       "      <td>1.9</td>\n",
       "      <td>1</td>\n",
       "      <td>25</td>\n",
       "    </tr>\n",
       "    <tr>\n",
       "      <th>3</th>\n",
       "      <td>1532</td>\n",
       "      <td>2020-06-12</td>\n",
       "      <td>6125</td>\n",
       "      <td>00001ed4962579d15869b5ec21ee8ecfa136d13b07c3f8...</td>\n",
       "      <td>140</td>\n",
       "      <td>3.0</td>\n",
       "      <td>3</td>\n",
       "      <td>25</td>\n",
       "    </tr>\n",
       "  </tbody>\n",
       "</table>\n",
       "</div>"
      ],
      "text/plain": [
       "   location_id transaction_dt transaction_id  \\\n",
       "0         5383     2020-06-08           9296   \n",
       "1         1532     2020-06-12           6125   \n",
       "2         1532     2020-06-12           6125   \n",
       "3         1532     2020-06-12           6125   \n",
       "\n",
       "                                  customer_id_hashed department_id  sales  \\\n",
       "0  0000141dbeb91820de94321c672f0a4cf3b763e31739ce...           353    5.0   \n",
       "1  00001ed4962579d15869b5ec21ee8ecfa136d13b07c3f8...           110    3.0   \n",
       "2  00001ed4962579d15869b5ec21ee8ecfa136d13b07c3f8...           111    1.9   \n",
       "3  00001ed4962579d15869b5ec21ee8ecfa136d13b07c3f8...           140    3.0   \n",
       "\n",
       "   units  trans_order_since_18Q1  \n",
       "0      2                      11  \n",
       "1      1                      25  \n",
       "2      1                      25  \n",
       "3      3                      25  "
      ]
     },
     "execution_count": 11,
     "metadata": {},
     "output_type": "execute_result"
    }
   ],
   "source": [
    "df_wrong_trans.head(4)"
   ]
  },
  {
   "cell_type": "code",
   "execution_count": 20,
   "metadata": {},
   "outputs": [
    {
     "data": {
      "text/plain": [
       "1404642"
      ]
     },
     "execution_count": 20,
     "metadata": {},
     "output_type": "execute_result"
    }
   ],
   "source": [
    "df_wrong_trans['customer_id_hashed'].nunique()"
   ]
  },
  {
   "cell_type": "code",
   "execution_count": 12,
   "metadata": {},
   "outputs": [],
   "source": [
    "df_wrong_id_pre_order=pd.merge(df_wrong_ids,df_pre_max_order,on=\"customer_id_hashed\",how=\"left\")\n",
    "df_wrong_id_pre_order['pre_order']=df_wrong_id_pre_order['pre_order'].fillna(0)"
   ]
  },
  {
   "cell_type": "code",
   "execution_count": 14,
   "metadata": {},
   "outputs": [],
   "source": [
    "df_wrong_trans.to_csv(\"./df_wrong_trans.csv\",index=False)\n",
    "df_wrong_id_pre_order.to_csv(\"./df_wrong_id_pre_order.csv\",index=False)"
   ]
  },
  {
   "cell_type": "code",
   "execution_count": 15,
   "metadata": {},
   "outputs": [],
   "source": [
    "df_wrong_trans=pd.merge(df_wrong_trans,df_wrong_id_pre_order,on=\"customer_id_hashed\",how=\"left\")\n",
    "\n",
    "df_delta=df_wrong_trans[['customer_id_hashed','trans_order_since_18Q1','pre_order']].drop_duplicates()\n",
    "df_delta=df_delta.sort_values(['customer_id_hashed','trans_order_since_18Q1']).drop_duplicates(\"customer_id_hashed\")\n",
    "df_delta['delta']=df_delta['trans_order_since_18Q1']-df_delta['pre_order']\n",
    "df_delta=df_delta[['customer_id_hashed','delta']]"
   ]
  },
  {
   "cell_type": "code",
   "execution_count": 16,
   "metadata": {},
   "outputs": [],
   "source": [
    "df_wrong_trans=pd.merge(df_wrong_trans,df_delta,on=\"customer_id_hashed\",how=\"left\")\n",
    "df_wrong_trans['fixed_order']=df_wrong_trans['trans_order_since_18Q1']-df_wrong_trans['delta']+1"
   ]
  },
  {
   "cell_type": "code",
   "execution_count": 17,
   "metadata": {},
   "outputs": [],
   "source": [
    "df_wrong_trans.to_csv(\"./df_wrong_trans_corrected.csv\",index=False)"
   ]
  },
  {
   "cell_type": "code",
   "execution_count": 21,
   "metadata": {},
   "outputs": [
    {
     "data": {
      "text/html": [
       "<div>\n",
       "<style scoped>\n",
       "    .dataframe tbody tr th:only-of-type {\n",
       "        vertical-align: middle;\n",
       "    }\n",
       "\n",
       "    .dataframe tbody tr th {\n",
       "        vertical-align: top;\n",
       "    }\n",
       "\n",
       "    .dataframe thead th {\n",
       "        text-align: right;\n",
       "    }\n",
       "</style>\n",
       "<table border=\"1\" class=\"dataframe\">\n",
       "  <thead>\n",
       "    <tr style=\"text-align: right;\">\n",
       "      <th></th>\n",
       "      <th>location_id</th>\n",
       "      <th>transaction_dt</th>\n",
       "      <th>transaction_id</th>\n",
       "      <th>customer_id_hashed</th>\n",
       "      <th>department_id</th>\n",
       "      <th>sales</th>\n",
       "      <th>units</th>\n",
       "      <th>trans_order_since_18Q1</th>\n",
       "      <th>pre_order</th>\n",
       "      <th>delta</th>\n",
       "      <th>fixed_order</th>\n",
       "    </tr>\n",
       "  </thead>\n",
       "  <tbody>\n",
       "    <tr>\n",
       "      <th>12</th>\n",
       "      <td>1597</td>\n",
       "      <td>2020-06-11</td>\n",
       "      <td>201</td>\n",
       "      <td>000027c1ec87c7ef710fe659c42190ce6dcf921e530912...</td>\n",
       "      <td>364</td>\n",
       "      <td>30.0</td>\n",
       "      <td>1</td>\n",
       "      <td>12</td>\n",
       "      <td>10.0</td>\n",
       "      <td>2.0</td>\n",
       "      <td>11.0</td>\n",
       "    </tr>\n",
       "  </tbody>\n",
       "</table>\n",
       "</div>"
      ],
      "text/plain": [
       "    location_id transaction_dt transaction_id  \\\n",
       "12         1597     2020-06-11            201   \n",
       "\n",
       "                                   customer_id_hashed department_id  sales  \\\n",
       "12  000027c1ec87c7ef710fe659c42190ce6dcf921e530912...           364   30.0   \n",
       "\n",
       "    units  trans_order_since_18Q1  pre_order  delta  fixed_order  \n",
       "12      1                      12       10.0    2.0         11.0  "
      ]
     },
     "execution_count": 21,
     "metadata": {},
     "output_type": "execute_result"
    }
   ],
   "source": [
    "df_wrong_trans[df_wrong_trans['customer_id_hashed']==\"000027c1ec87c7ef710fe659c42190ce6dcf921e5309126a8cd20c401c55a600\"]"
   ]
  },
  {
   "cell_type": "code",
   "execution_count": 23,
   "metadata": {},
   "outputs": [],
   "source": [
    "df_wrong_trans['fixed_order']=df_wrong_trans['fixed_order'].astype(int)\n",
    "\n",
    "del df_wrong_trans['trans_order_since_18Q1']\n",
    "del df_wrong_trans['pre_order']\n",
    "del df_wrong_trans['delta']\n",
    "df_wrong_trans=df_wrong_trans.rename(columns={\"fixed_order\":\"trans_order_since_18Q1\"})"
   ]
  },
  {
   "cell_type": "code",
   "execution_count": 24,
   "metadata": {},
   "outputs": [
    {
     "data": {
      "text/plain": [
       "2355"
      ]
     },
     "execution_count": 24,
     "metadata": {},
     "output_type": "execute_result"
    }
   ],
   "source": [
    "import gc\n",
    "gc.collect()"
   ]
  },
  {
   "cell_type": "code",
   "execution_count": 25,
   "metadata": {},
   "outputs": [],
   "source": [
    "df_wrong_trans.to_csv(\"good_full_to_revise_write_in.csv\",index=False)"
   ]
  },
  {
   "cell_type": "code",
   "execution_count": 27,
   "metadata": {},
   "outputs": [
    {
     "data": {
      "text/html": [
       "<div>\n",
       "<style scoped>\n",
       "    .dataframe tbody tr th:only-of-type {\n",
       "        vertical-align: middle;\n",
       "    }\n",
       "\n",
       "    .dataframe tbody tr th {\n",
       "        vertical-align: top;\n",
       "    }\n",
       "\n",
       "    .dataframe thead th {\n",
       "        text-align: right;\n",
       "    }\n",
       "</style>\n",
       "<table border=\"1\" class=\"dataframe\">\n",
       "  <thead>\n",
       "    <tr style=\"text-align: right;\">\n",
       "      <th></th>\n",
       "      <th>Field</th>\n",
       "      <th>Type</th>\n",
       "      <th>Null</th>\n",
       "      <th>Key</th>\n",
       "      <th>Default</th>\n",
       "      <th>Extra</th>\n",
       "    </tr>\n",
       "  </thead>\n",
       "  <tbody>\n",
       "    <tr>\n",
       "      <th>0</th>\n",
       "      <td>location_id</td>\n",
       "      <td>int(11)</td>\n",
       "      <td>YES</td>\n",
       "      <td>MUL</td>\n",
       "      <td>None</td>\n",
       "      <td></td>\n",
       "    </tr>\n",
       "    <tr>\n",
       "      <th>1</th>\n",
       "      <td>transaction_dt</td>\n",
       "      <td>date</td>\n",
       "      <td>YES</td>\n",
       "      <td>MUL</td>\n",
       "      <td>None</td>\n",
       "      <td></td>\n",
       "    </tr>\n",
       "    <tr>\n",
       "      <th>2</th>\n",
       "      <td>transaction_id</td>\n",
       "      <td>varchar(16)</td>\n",
       "      <td>YES</td>\n",
       "      <td></td>\n",
       "      <td>None</td>\n",
       "      <td></td>\n",
       "    </tr>\n",
       "    <tr>\n",
       "      <th>3</th>\n",
       "      <td>customer_id_hashed</td>\n",
       "      <td>char(64)</td>\n",
       "      <td>YES</td>\n",
       "      <td>MUL</td>\n",
       "      <td>None</td>\n",
       "      <td></td>\n",
       "    </tr>\n",
       "    <tr>\n",
       "      <th>4</th>\n",
       "      <td>department_id</td>\n",
       "      <td>varchar(16)</td>\n",
       "      <td>YES</td>\n",
       "      <td>MUL</td>\n",
       "      <td>None</td>\n",
       "      <td></td>\n",
       "    </tr>\n",
       "    <tr>\n",
       "      <th>5</th>\n",
       "      <td>sales</td>\n",
       "      <td>decimal(10,2)</td>\n",
       "      <td>YES</td>\n",
       "      <td></td>\n",
       "      <td>None</td>\n",
       "      <td></td>\n",
       "    </tr>\n",
       "    <tr>\n",
       "      <th>6</th>\n",
       "      <td>units</td>\n",
       "      <td>int(11)</td>\n",
       "      <td>YES</td>\n",
       "      <td></td>\n",
       "      <td>None</td>\n",
       "      <td></td>\n",
       "    </tr>\n",
       "    <tr>\n",
       "      <th>7</th>\n",
       "      <td>trans_order_since_18Q1</td>\n",
       "      <td>int(11)</td>\n",
       "      <td>YES</td>\n",
       "      <td>MUL</td>\n",
       "      <td>None</td>\n",
       "      <td></td>\n",
       "    </tr>\n",
       "  </tbody>\n",
       "</table>\n",
       "</div>"
      ],
      "text/plain": [
       "                    Field           Type Null  Key Default Extra\n",
       "0             location_id        int(11)  YES  MUL    None      \n",
       "1          transaction_dt           date  YES  MUL    None      \n",
       "2          transaction_id    varchar(16)  YES         None      \n",
       "3      customer_id_hashed       char(64)  YES  MUL    None      \n",
       "4           department_id    varchar(16)  YES  MUL    None      \n",
       "5                   sales  decimal(10,2)  YES         None      \n",
       "6                   units        int(11)  YES         None      \n",
       "7  trans_order_since_18Q1        int(11)  YES  MUL    None      "
      ]
     },
     "execution_count": 27,
     "metadata": {},
     "output_type": "execute_result"
    }
   ],
   "source": [
    "a=pd.read_sql(\"desc Pred_POS_Department\",con=BL_engine)\n",
    "a"
   ]
  },
  {
   "cell_type": "code",
   "execution_count": 28,
   "metadata": {},
   "outputs": [
    {
     "data": {
      "text/plain": [
       "True"
      ]
     },
     "execution_count": 28,
     "metadata": {},
     "output_type": "execute_result"
    }
   ],
   "source": [
    "df_wrong_trans.columns.tolist()==a['Field'].values.tolist()"
   ]
  },
  {
   "cell_type": "code",
   "execution_count": 29,
   "metadata": {},
   "outputs": [
    {
     "data": {
      "text/plain": [
       "1404642"
      ]
     },
     "execution_count": 29,
     "metadata": {},
     "output_type": "execute_result"
    }
   ],
   "source": [
    "len(list_wrong_ids)"
   ]
  },
  {
   "cell_type": "code",
   "execution_count": 31,
   "metadata": {},
   "outputs": [],
   "source": [
    "import os\n",
    "writer_folder=\"./updated_sql_rows/\"\n",
    "os.mkdir(writer_folder)"
   ]
  },
  {
   "cell_type": "code",
   "execution_count": 37,
   "metadata": {},
   "outputs": [
    {
     "name": "stdout",
     "output_type": "stream",
     "text": [
      "1 2020-08-12 01:06:15.549081\n",
      "11 2020-08-12 01:32:09.496497\n",
      "21 2020-08-12 01:46:31.316542\n",
      "31 2020-08-12 01:59:56.116229\n",
      "41 2020-08-12 02:12:35.024641\n",
      "51 2020-08-12 02:22:04.639853\n",
      "61 2020-08-12 02:31:15.072136\n",
      "71 2020-08-12 02:40:28.192514\n",
      "81 2020-08-12 02:49:46.082262\n",
      "91 2020-08-12 02:59:08.023705\n",
      "101 2020-08-12 03:08:22.475781\n",
      "111 2020-08-12 03:18:11.411778\n",
      "121 2020-08-12 03:27:42.578334\n",
      "131 2020-08-12 03:36:56.257849\n"
     ]
    }
   ],
   "source": [
    "for i in range(chunck_count):\n",
    "    chunck_list=list_wrong_ids[i*chunck_size:(i+1)*chunck_size]\n",
    "    str_list_wrong_ids=str(chunck_list).replace(\"[\",\"(\").replace(\"]\",\")\")\n",
    "    query_to_delete_in=\"delete from Pred_POS_Department where transaction_dt >= '2020-06-07' and customer_id_hashed in %s\"%str_list_wrong_ids\n",
    "    with BL_engine.connect() as connection:\n",
    "        result = connection.execute(query_to_delete_in)\n",
    "    \n",
    "    df=df_wrong_trans[df_wrong_trans['customer_id_hashed'].isin(chunck_list)]\n",
    "    df.to_sql(\"Pred_POS_Department\",if_exists='append', con=BL_engine, index=False,chunksize=300000,\n",
    "                    dtype={\n",
    "                        'location_id':sqlalchemy.types.INTEGER(),\n",
    "                        'transaction_dt':sqlalchemy.Date(), \n",
    "                        'transaction_id':sqlalchemy.types.VARCHAR(length=16),\n",
    "                        'customer_id_hashed':sqlalchemy.types.VARCHAR(length=64),\n",
    "                        'department_id':sqlalchemy.types.VARCHAR(length=16),\n",
    "                        'sales':sqlalchemy.types.DECIMAL(precision=10,scale=2,asdecimal=True),\n",
    "                        'units':sqlalchemy.types.INTEGER(),\n",
    "                        'trans_order_since_18Q1':sqlalchemy.types.INTEGER()\n",
    "                    })\n",
    "    df.to_csv(writer_folder+\"chunck_updated_%d.csv\"%i,index=False)\n",
    "    if i%10==1:\n",
    "        print(i,datetime.datetime.now())"
   ]
  },
  {
   "cell_type": "code",
   "execution_count": null,
   "metadata": {},
   "outputs": [],
   "source": []
  }
 ],
 "metadata": {
  "kernelspec": {
   "display_name": "Python 3",
   "language": "python",
   "name": "python3"
  },
  "language_info": {
   "codemirror_mode": {
    "name": "ipython",
    "version": 3
   },
   "file_extension": ".py",
   "mimetype": "text/x-python",
   "name": "python",
   "nbconvert_exporter": "python",
   "pygments_lexer": "ipython3",
   "version": "3.6.1"
  }
 },
 "nbformat": 4,
 "nbformat_minor": 2
}
