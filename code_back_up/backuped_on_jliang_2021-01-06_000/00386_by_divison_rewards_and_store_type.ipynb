{
 "cells": [
  {
   "cell_type": "code",
   "execution_count": 1,
   "metadata": {},
   "outputs": [],
   "source": [
    "import pandas as pd\n",
    "import numpy as np\n",
    "import datetime\n",
    "import os\n",
    "import glob\n",
    "import logging\n",
    "logging.basicConfig(filename=\"./sales_table_log.log\", level=logging.INFO)\n",
    "\n",
    "def recursive_file_gen(my_root_dir):\n",
    "    for root, dirs, files in os.walk(my_root_dir):\n",
    "        for file in files:\n",
    "            yield os.path.join(root, file)\n",
    "            \n",
    "last_sturday_ty = (datetime.datetime.now()-datetime.timedelta(days=(datetime.datetime.now().weekday()+2))).date()\n",
    "first_week_ty=datetime.date(2020,3,1)\n",
    "\n",
    "last_sturday_ly = last_sturday_ty-datetime.timedelta(days=52*7)\n",
    "first_week_ly=first_week_ty-datetime.timedelta(days=52*7)\n",
    "\n"
   ]
  },
  {
   "cell_type": "code",
   "execution_count": 2,
   "metadata": {},
   "outputs": [
    {
     "data": {
      "text/plain": [
       "(datetime.date(2020, 4, 18),\n",
       " datetime.date(2020, 3, 1),\n",
       " datetime.date(2019, 4, 20),\n",
       " datetime.date(2019, 3, 3))"
      ]
     },
     "execution_count": 2,
     "metadata": {},
     "output_type": "execute_result"
    }
   ],
   "source": [
    "last_sturday_ty,first_week_ty,last_sturday_ly,first_week_ly"
   ]
  },
  {
   "cell_type": "code",
   "execution_count": 3,
   "metadata": {},
   "outputs": [],
   "source": [
    "list_POS_this_year=list(recursive_file_gen(\"/home/jian/BigLots/2020_by_weeks/\"))\n",
    "list_POS_this_year=[x for x in list_POS_this_year if \"daily\" in x.lower()]\n",
    "\n",
    "list_POS_this_year=[x for x in list_POS_this_year if x.split(\"/MediaStorm_\")[1][:10]>=str(first_week_ty)]\n",
    "list_POS_this_year=[x for x in list_POS_this_year if x.split(\"/MediaStorm_\")[1][:10]<=str(last_sturday_ty)]\n",
    "\n",
    "# \n",
    "list_POS_last_year=list(recursive_file_gen(\"/home/jian/BigLots/2019_by_weeks/\"))\n",
    "list_POS_last_year=[x for x in list_POS_last_year if \"daily\" in x.lower()]\n",
    "\n",
    "list_POS_last_year=[x for x in list_POS_last_year if x.split(\"/MediaStorm_\")[1][:10]>=str(first_week_ly)]\n",
    "list_POS_last_year=[x for x in list_POS_last_year if x.split(\"/MediaStorm_\")[1][:10]<=str(last_sturday_ly)]"
   ]
  },
  {
   "cell_type": "code",
   "execution_count": 4,
   "metadata": {},
   "outputs": [
    {
     "name": "stdout",
     "output_type": "stream",
     "text": [
      "2020-03-07 2020-04-24 10:13:38.652580\n",
      "2020-03-28 2020-04-24 10:14:18.588863\n",
      "2020-03-14 2020-04-24 10:17:19.249429\n",
      "2020-03-21 2020-04-24 10:18:46.665763\n",
      "2020-04-04 2020-04-24 10:19:31.808030\n",
      "2020-04-11 2020-04-24 10:20:20.902391\n",
      "2020-04-18 2020-04-24 10:21:08.231192\n"
     ]
    }
   ],
   "source": [
    "df_2020=pd.DataFrame()\n",
    "df_prod_mapping=pd.read_csv(\"/home/jian/BigLots/static_files/ProductTaxonomy/MediaStormProductTaxonomy20200401-135137-346.txt\",\n",
    "                            sep=\"|\",dtype=str,usecols=['division_id','class_code_id','subclass_id'])\n",
    "for file in list_POS_this_year:\n",
    "    df=pd.read_csv(file,dtype=str,sep=\"|\")\n",
    "    df=pd.merge(df,df_prod_mapping,on=['class_code_id','subclass_id'],how=\"left\")\n",
    "    df['item_transaction_amt']=df['item_transaction_amt'].astype(float)\n",
    "    df['division_id']=df['division_id'].fillna(\"-1\")\n",
    "    df['rewards_label']=np.where(pd.isnull(df['customer_id_hashed']),\"non_rewards\",\"rewards\")\n",
    "    df['store_label']=np.where(df['location_id']==\"6990\",\"online\",\"instore\")\n",
    "    week_end_dt=df['transaction_dt'].max()\n",
    "    \n",
    "    df=df.groupby(['division_id','rewards_label','store_label'])['item_transaction_amt'].sum().to_frame().reset_index()\n",
    "    df['week_end_dt']=week_end_dt\n",
    "    df_2020=df_2020.append(df)\n",
    "    print(week_end_dt,datetime.datetime.now())\n",
    "    "
   ]
  },
  {
   "cell_type": "code",
   "execution_count": 5,
   "metadata": {},
   "outputs": [
    {
     "name": "stdout",
     "output_type": "stream",
     "text": [
      "2019-03-09 2020-04-24 10:21:54.039816\n",
      "2019-03-16 2020-04-24 10:22:38.982718\n",
      "2019-03-23 2020-04-24 10:23:23.690743\n",
      "2019-03-30 2020-04-24 10:24:08.143393\n",
      "2019-04-06 2020-04-24 10:25:04.441372\n",
      "2019-04-13 2020-04-24 10:26:00.711965\n",
      "2019-04-20 2020-04-24 10:26:49.717713\n"
     ]
    }
   ],
   "source": [
    "df_2019=pd.DataFrame()\n",
    "df_prod_mapping=pd.read_csv(\"/home/jian/BigLots/static_files/ProductTaxonomy/MediaStormProductTaxonomy20190401-134939-109.txt\",\n",
    "                            sep=\"|\",dtype=str,usecols=['division_id','class_code_id','subclass_id'])\n",
    "for file in list_POS_last_year:\n",
    "    df=pd.read_csv(file,dtype=str,sep=\"|\")\n",
    "    df=pd.merge(df,df_prod_mapping,on=['class_code_id','subclass_id'],how=\"left\")\n",
    "    df['item_transaction_amt']=df['item_transaction_amt'].astype(float)\n",
    "    df['division_id']=df['division_id'].fillna(\"-1\")\n",
    "    df['rewards_label']=np.where(pd.isnull(df['customer_id_hashed']),\"non_rewards\",\"rewards\")\n",
    "    df['store_label']=np.where(df['location_id']==\"6990\",\"online\",\"instore\")\n",
    "    week_end_dt=df['transaction_dt'].max()\n",
    "    \n",
    "    df=df.groupby(['division_id','rewards_label','store_label'])['item_transaction_amt'].sum().to_frame().reset_index()\n",
    "    df['week_end_dt']=week_end_dt\n",
    "    df_2019=df_2019.append(df)\n",
    "    print(week_end_dt,datetime.datetime.now())\n",
    "    "
   ]
  },
  {
   "cell_type": "code",
   "execution_count": 17,
   "metadata": {},
   "outputs": [
    {
     "name": "stdout",
     "output_type": "stream",
     "text": [
      "df_2019.shape (218, 5)\n",
      "df_2020.shape (224, 5)\n"
     ]
    }
   ],
   "source": [
    "print(\"df_2019.shape\",df_2019.shape)\n",
    "print(\"df_2020.shape\",df_2020.shape)\n",
    "\n",
    "df_2019['division_id']=df_2019['division_id'].astype(int)\n",
    "df_2020['division_id']=df_2020['division_id'].astype(int)\n",
    "\n",
    "df_2019=df_2019.sort_values(['division_id','rewards_label','store_label'])\n",
    "df_2020=df_2020.sort_values(['division_id','rewards_label','store_label'])\n"
   ]
  },
  {
   "cell_type": "code",
   "execution_count": 22,
   "metadata": {},
   "outputs": [],
   "source": [
    "df_2019_wide=df_2019.pivot_table(index=['division_id','rewards_label','store_label'],columns=\"week_end_dt\",values=\"item_transaction_amt\").reset_index()\n",
    "df_2020_wide=df_2020.pivot_table(index=['division_id','rewards_label','store_label'],columns=\"week_end_dt\",values=\"item_transaction_amt\").reset_index()\n",
    "df_2019_wide.insert(0,'year',\"2019\")\n",
    "df_2020_wide.insert(0,'year',\"2020\")"
   ]
  },
  {
   "cell_type": "code",
   "execution_count": 41,
   "metadata": {},
   "outputs": [
    {
     "data": {
      "text/html": [
       "<div>\n",
       "<style scoped>\n",
       "    .dataframe tbody tr th:only-of-type {\n",
       "        vertical-align: middle;\n",
       "    }\n",
       "\n",
       "    .dataframe tbody tr th {\n",
       "        vertical-align: top;\n",
       "    }\n",
       "\n",
       "    .dataframe thead th {\n",
       "        text-align: right;\n",
       "    }\n",
       "</style>\n",
       "<table border=\"1\" class=\"dataframe\">\n",
       "  <thead>\n",
       "    <tr style=\"text-align: right;\">\n",
       "      <th></th>\n",
       "      <th>division_id</th>\n",
       "      <th>division_desc</th>\n",
       "    </tr>\n",
       "  </thead>\n",
       "  <tbody>\n",
       "    <tr>\n",
       "      <th>0</th>\n",
       "      <td>1</td>\n",
       "      <td>FOOD</td>\n",
       "    </tr>\n",
       "    <tr>\n",
       "      <th>1</th>\n",
       "      <td>2</td>\n",
       "      <td>CONSUMABLES</td>\n",
       "    </tr>\n",
       "    <tr>\n",
       "      <th>2</th>\n",
       "      <td>3</td>\n",
       "      <td>SEASONAL</td>\n",
       "    </tr>\n",
       "    <tr>\n",
       "      <th>3</th>\n",
       "      <td>4</td>\n",
       "      <td>SOFTHOME</td>\n",
       "    </tr>\n",
       "    <tr>\n",
       "      <th>4</th>\n",
       "      <td>5</td>\n",
       "      <td>HARDHOME</td>\n",
       "    </tr>\n",
       "    <tr>\n",
       "      <th>5</th>\n",
       "      <td>6</td>\n",
       "      <td>ELECNACCES</td>\n",
       "    </tr>\n",
       "    <tr>\n",
       "      <th>6</th>\n",
       "      <td>7</td>\n",
       "      <td>Division 7</td>\n",
       "    </tr>\n",
       "    <tr>\n",
       "      <th>7</th>\n",
       "      <td>8</td>\n",
       "      <td>DIVISION 8 (EMP DISCOUNT)</td>\n",
       "    </tr>\n",
       "    <tr>\n",
       "      <th>8</th>\n",
       "      <td>9</td>\n",
       "      <td>FURNITURE</td>\n",
       "    </tr>\n",
       "    <tr>\n",
       "      <th>9</th>\n",
       "      <td>10</td>\n",
       "      <td>DIVISION 10</td>\n",
       "    </tr>\n",
       "    <tr>\n",
       "      <th>10</th>\n",
       "      <td>999</td>\n",
       "      <td>Wildcard</td>\n",
       "    </tr>\n",
       "  </tbody>\n",
       "</table>\n",
       "</div>"
      ],
      "text/plain": [
       "    division_id              division_desc\n",
       "0             1                       FOOD\n",
       "1             2                CONSUMABLES\n",
       "2             3                   SEASONAL\n",
       "3             4                   SOFTHOME\n",
       "4             5                   HARDHOME\n",
       "5             6                 ELECNACCES\n",
       "6             7                 Division 7\n",
       "7             8  DIVISION 8 (EMP DISCOUNT)\n",
       "8             9                  FURNITURE\n",
       "9            10                DIVISION 10\n",
       "10          999                   Wildcard"
      ]
     },
     "execution_count": 41,
     "metadata": {},
     "output_type": "execute_result"
    }
   ],
   "source": [
    "division_name=pd.read_table(\"/home/jian/BigLots/static_files/MediaStorm Data Extract - Division Names.txt\",sep=\"|\")\n",
    "division_name"
   ]
  },
  {
   "cell_type": "code",
   "execution_count": 42,
   "metadata": {},
   "outputs": [],
   "source": [
    "writer=pd.ExcelWriter(\"./BL_sales_by_division_week_JL_\"+str(datetime.datetime.now().date())+\".xlsx\",engine=\"xlsxwriter\")\n",
    "df_2019_wide.to_excel(writer,\"2019_wide_all\",index=False)\n",
    "df_2020_wide.to_excel(writer,\"2020_wide_all\",index=False)\n",
    "division_name.to_excel(writer,\"div_name\",index=False)\n",
    "df_2019.to_excel(writer,\"2019_long_all\",index=False)\n",
    "df_2020.to_excel(writer,\"2020_long_all\",index=False)\n",
    "for comb,group in df_2019_wide.groupby(['rewards_label','store_label']):\n",
    "    year=group['year'].unique().tolist()[0]\n",
    "    tab_name=\"_\".join(comb)+\"_\"+year\n",
    "    group.to_excel(writer,tab_name,index=False)\n",
    "    \n",
    "for comb,group in df_2020_wide.groupby(['rewards_label','store_label']):\n",
    "    year=group['year'].unique().tolist()[0]\n",
    "    tab_name=\"_\".join(comb)+\"_\"+year\n",
    "    group.to_excel(writer,tab_name,index=False)\n",
    "writer.save()"
   ]
  },
  {
   "cell_type": "code",
   "execution_count": null,
   "metadata": {},
   "outputs": [],
   "source": []
  }
 ],
 "metadata": {
  "kernelspec": {
   "display_name": "Python 3",
   "language": "python",
   "name": "python3"
  },
  "language_info": {
   "codemirror_mode": {
    "name": "ipython",
    "version": 3
   },
   "file_extension": ".py",
   "mimetype": "text/x-python",
   "name": "python",
   "nbconvert_exporter": "python",
   "pygments_lexer": "ipython3",
   "version": "3.6.1"
  }
 },
 "nbformat": 4,
 "nbformat_minor": 2
}
