{
 "cells": [
  {
   "cell_type": "code",
   "execution_count": 1,
   "metadata": {},
   "outputs": [
    {
     "name": "stdout",
     "output_type": "stream",
     "text": [
      "2019-12-03 15:08:21.386175\n"
     ]
    },
    {
     "data": {
      "text/plain": [
       "'/home/jian/Projects/Big_Lots/Analysis/2019_Q3/Slice_ids_FB_Rewards_offers/ID_level_report_of_redeemers'"
      ]
     },
     "execution_count": 1,
     "metadata": {},
     "output_type": "execute_result"
    }
   ],
   "source": [
    "import pandas as pd\n",
    "import os\n",
    "import datetime\n",
    "import numpy as np\n",
    "import gc\n",
    "import glob\n",
    "gc.collect()\n",
    "\n",
    "datetime.datetime.now()\n",
    "\n",
    "print(datetime.datetime.now())\n",
    "os.getcwd()"
   ]
  },
  {
   "cell_type": "code",
   "execution_count": 2,
   "metadata": {},
   "outputs": [
    {
     "name": "stdout",
     "output_type": "stream",
     "text": [
      "(262870, 2) 262870 262821\n"
     ]
    },
    {
     "data": {
      "text/html": [
       "<div>\n",
       "<style scoped>\n",
       "    .dataframe tbody tr th:only-of-type {\n",
       "        vertical-align: middle;\n",
       "    }\n",
       "\n",
       "    .dataframe tbody tr th {\n",
       "        vertical-align: top;\n",
       "    }\n",
       "\n",
       "    .dataframe thead th {\n",
       "        text-align: right;\n",
       "    }\n",
       "</style>\n",
       "<table border=\"1\" class=\"dataframe\">\n",
       "  <thead>\n",
       "    <tr style=\"text-align: right;\">\n",
       "      <th></th>\n",
       "      <th>hashed_customer_num</th>\n",
       "      <th>hashed_email_address</th>\n",
       "    </tr>\n",
       "  </thead>\n",
       "  <tbody>\n",
       "    <tr>\n",
       "      <th>0</th>\n",
       "      <td>41448b7946e03d434fb9efe139eff9d64d0a97b58ca15b...</td>\n",
       "      <td>2b575b29eb1a236c2e43ea4b8d07c09391773e401535e9...</td>\n",
       "    </tr>\n",
       "    <tr>\n",
       "      <th>1</th>\n",
       "      <td>dad71dc369858e4d71755b3b88701a3dea4de62eef8ac7...</td>\n",
       "      <td>28bb15e7436c23796ebf07a42e3787bfabf1ed8ad9eb3a...</td>\n",
       "    </tr>\n",
       "  </tbody>\n",
       "</table>\n",
       "</div>"
      ],
      "text/plain": [
       "                                 hashed_customer_num  \\\n",
       "0  41448b7946e03d434fb9efe139eff9d64d0a97b58ca15b...   \n",
       "1  dad71dc369858e4d71755b3b88701a3dea4de62eef8ac7...   \n",
       "\n",
       "                                hashed_email_address  \n",
       "0  2b575b29eb1a236c2e43ea4b8d07c09391773e401535e9...  \n",
       "1  28bb15e7436c23796ebf07a42e3787bfabf1ed8ad9eb3a...  "
      ]
     },
     "execution_count": 2,
     "metadata": {},
     "output_type": "execute_result"
    }
   ],
   "source": [
    "df_redeemers=pd.read_csv(\"/home/jian/Projects/Big_Lots/Analysis/2019_Q3/Slice_ids_FB_Rewards_offers/ID_level_report_of_redeemers/hash_full_file_redeemers_1201.zip\",\n",
    "                        dtype=str,sep=\"|\",compression=\"zip\")\n",
    "print(df_redeemers.shape,df_redeemers['hashed_customer_num'].nunique(),df_redeemers['hashed_email_address'].nunique())\n",
    "df_redeemers.head(2)"
   ]
  },
  {
   "cell_type": "code",
   "execution_count": 3,
   "metadata": {},
   "outputs": [
    {
     "data": {
      "text/plain": [
       "(21505499, 2)"
      ]
     },
     "execution_count": 3,
     "metadata": {},
     "output_type": "execute_result"
    }
   ],
   "source": [
    "df_FB_id_email_all=pd.read_csv(\"/home/jian/Projects/Big_Lots/Analysis/2019_Q3/Slice_ids_FB_Rewards_offers/BL_all_ids_shopped_in_18_or_signed_in_12_with_emails_JL_2019-10-17.csv\",dtype=str)\n",
    "df_FB_id_email_all.shape\n"
   ]
  },
  {
   "cell_type": "code",
   "execution_count": 4,
   "metadata": {},
   "outputs": [
    {
     "name": "stdout",
     "output_type": "stream",
     "text": [
      "21503336\n"
     ]
    }
   ],
   "source": [
    "print(df_FB_id_email_all['email_address_hash'].nunique())"
   ]
  },
  {
   "cell_type": "code",
   "execution_count": 5,
   "metadata": {},
   "outputs": [
    {
     "name": "stdout",
     "output_type": "stream",
     "text": [
      "(21503357, 2)\n"
     ]
    },
    {
     "data": {
      "text/html": [
       "<div>\n",
       "<style scoped>\n",
       "    .dataframe tbody tr th:only-of-type {\n",
       "        vertical-align: middle;\n",
       "    }\n",
       "\n",
       "    .dataframe tbody tr th {\n",
       "        vertical-align: top;\n",
       "    }\n",
       "\n",
       "    .dataframe thead th {\n",
       "        text-align: right;\n",
       "    }\n",
       "</style>\n",
       "<table border=\"1\" class=\"dataframe\">\n",
       "  <thead>\n",
       "    <tr style=\"text-align: right;\">\n",
       "      <th></th>\n",
       "      <th>Email</th>\n",
       "      <th>Group</th>\n",
       "    </tr>\n",
       "  </thead>\n",
       "  <tbody>\n",
       "    <tr>\n",
       "      <th>0</th>\n",
       "      <td>089bc373eda16a771e023d87ee368fb961c4ff9b36c7d6...</td>\n",
       "      <td>test</td>\n",
       "    </tr>\n",
       "    <tr>\n",
       "      <th>1</th>\n",
       "      <td>065edf59d0ed26bea352be5f44fd7a6f688a0fa28cddb3...</td>\n",
       "      <td>test</td>\n",
       "    </tr>\n",
       "  </tbody>\n",
       "</table>\n",
       "</div>"
      ],
      "text/plain": [
       "                                               Email Group\n",
       "0  089bc373eda16a771e023d87ee368fb961c4ff9b36c7d6...  test\n",
       "1  065edf59d0ed26bea352be5f44fd7a6f688a0fa28cddb3...  test"
      ]
     },
     "execution_count": 5,
     "metadata": {},
     "output_type": "execute_result"
    }
   ],
   "source": [
    "df_test=pd.read_csv(\"/home/jian/Projects/Big_Lots/Analysis/2019_Q3/Slice_ids_FB_Rewards_offers/BL_FB_5_offer_test_emails_JL_2019-10-17.csv\",dtype=str)\n",
    "df_control=pd.read_csv(\"/home/jian/Projects/Big_Lots/Analysis/2019_Q3/Slice_ids_FB_Rewards_offers/BL_FB_5_offer_control_emails_JL_2019-10-17.csv\",dtype=str)\n",
    "\n",
    "df_test['Group']=\"test\"\n",
    "df_control['Group']=\"control\"\n",
    "\n",
    "df_email_group=df_test.append(df_control)\n",
    "del df_test\n",
    "del df_control\n",
    "print(df_email_group.shape)\n",
    "\n",
    "df_email_group.head(2)"
   ]
  },
  {
   "cell_type": "code",
   "execution_count": 6,
   "metadata": {
    "collapsed": true
   },
   "outputs": [],
   "source": [
    "df_qc_duplicate=df_email_group.groupby(\"Email\")['Group'].count().to_frame().sort_values(\"Group\",ascending=False)\n",
    "\n",
    "# 2 the max"
   ]
  },
  {
   "cell_type": "code",
   "execution_count": 7,
   "metadata": {},
   "outputs": [
    {
     "data": {
      "text/plain": [
       "(21, 1)"
      ]
     },
     "execution_count": 7,
     "metadata": {},
     "output_type": "execute_result"
    }
   ],
   "source": [
    "df_qc_duplicate[df_qc_duplicate['Group']==2].shape "
   ]
  },
  {
   "cell_type": "code",
   "execution_count": 8,
   "metadata": {},
   "outputs": [
    {
     "data": {
      "text/html": [
       "<div>\n",
       "<style scoped>\n",
       "    .dataframe tbody tr th:only-of-type {\n",
       "        vertical-align: middle;\n",
       "    }\n",
       "\n",
       "    .dataframe tbody tr th {\n",
       "        vertical-align: top;\n",
       "    }\n",
       "\n",
       "    .dataframe thead th {\n",
       "        text-align: right;\n",
       "    }\n",
       "</style>\n",
       "<table border=\"1\" class=\"dataframe\">\n",
       "  <thead>\n",
       "    <tr style=\"text-align: right;\">\n",
       "      <th></th>\n",
       "      <th>Email</th>\n",
       "      <th>Group</th>\n",
       "    </tr>\n",
       "  </thead>\n",
       "  <tbody>\n",
       "    <tr>\n",
       "      <th>95446</th>\n",
       "      <td>1152cb7e6f7bba4aea1a4a9543cefeb4e5f5fccd92a0c5...</td>\n",
       "      <td>control</td>\n",
       "    </tr>\n",
       "    <tr>\n",
       "      <th>2118993</th>\n",
       "      <td>1152cb7e6f7bba4aea1a4a9543cefeb4e5f5fccd92a0c5...</td>\n",
       "      <td>test</td>\n",
       "    </tr>\n",
       "    <tr>\n",
       "      <th>15843</th>\n",
       "      <td>12d0aded1a1810dd08e60ea3bb1d0b0d46b1a2c224a1e0...</td>\n",
       "      <td>control</td>\n",
       "    </tr>\n",
       "    <tr>\n",
       "      <th>14076876</th>\n",
       "      <td>12d0aded1a1810dd08e60ea3bb1d0b0d46b1a2c224a1e0...</td>\n",
       "      <td>test</td>\n",
       "    </tr>\n",
       "    <tr>\n",
       "      <th>30196</th>\n",
       "      <td>2b5aadd1188c83cfcd23d14e2578a1af92e41a7198ca1f...</td>\n",
       "      <td>control</td>\n",
       "    </tr>\n",
       "    <tr>\n",
       "      <th>19978211</th>\n",
       "      <td>2b5aadd1188c83cfcd23d14e2578a1af92e41a7198ca1f...</td>\n",
       "      <td>test</td>\n",
       "    </tr>\n",
       "    <tr>\n",
       "      <th>25126</th>\n",
       "      <td>33c21258cdfeaae52ea857b0af6a72975fb4963ee9f065...</td>\n",
       "      <td>control</td>\n",
       "    </tr>\n",
       "    <tr>\n",
       "      <th>20562300</th>\n",
       "      <td>33c21258cdfeaae52ea857b0af6a72975fb4963ee9f065...</td>\n",
       "      <td>test</td>\n",
       "    </tr>\n",
       "    <tr>\n",
       "      <th>85183</th>\n",
       "      <td>3f0373fa1412044927d83a5bd105abc584ee8a423607fc...</td>\n",
       "      <td>control</td>\n",
       "    </tr>\n",
       "    <tr>\n",
       "      <th>20870886</th>\n",
       "      <td>3f0373fa1412044927d83a5bd105abc584ee8a423607fc...</td>\n",
       "      <td>test</td>\n",
       "    </tr>\n",
       "    <tr>\n",
       "      <th>11507</th>\n",
       "      <td>4402ca627f1869163ece462532bd44f974f80c51d0c8dd...</td>\n",
       "      <td>control</td>\n",
       "    </tr>\n",
       "    <tr>\n",
       "      <th>11466462</th>\n",
       "      <td>4402ca627f1869163ece462532bd44f974f80c51d0c8dd...</td>\n",
       "      <td>test</td>\n",
       "    </tr>\n",
       "    <tr>\n",
       "      <th>10023</th>\n",
       "      <td>50d794aa359942f1706d37cac1215dc624b13abc45b975...</td>\n",
       "      <td>control</td>\n",
       "    </tr>\n",
       "    <tr>\n",
       "      <th>20925122</th>\n",
       "      <td>50d794aa359942f1706d37cac1215dc624b13abc45b975...</td>\n",
       "      <td>test</td>\n",
       "    </tr>\n",
       "    <tr>\n",
       "      <th>41303</th>\n",
       "      <td>7d0abaaa0ab532f58f8cd5d47394893ed73a22eb185d22...</td>\n",
       "      <td>control</td>\n",
       "    </tr>\n",
       "    <tr>\n",
       "      <th>4435661</th>\n",
       "      <td>7d0abaaa0ab532f58f8cd5d47394893ed73a22eb185d22...</td>\n",
       "      <td>test</td>\n",
       "    </tr>\n",
       "    <tr>\n",
       "      <th>889</th>\n",
       "      <td>867b3c78faf6860cb386795b358b80e2e9dc66fa587e71...</td>\n",
       "      <td>control</td>\n",
       "    </tr>\n",
       "    <tr>\n",
       "      <th>15194080</th>\n",
       "      <td>867b3c78faf6860cb386795b358b80e2e9dc66fa587e71...</td>\n",
       "      <td>test</td>\n",
       "    </tr>\n",
       "    <tr>\n",
       "      <th>16847</th>\n",
       "      <td>952f8098b11238ad2bf39b96a3b80d93f9515973835161...</td>\n",
       "      <td>control</td>\n",
       "    </tr>\n",
       "    <tr>\n",
       "      <th>8203810</th>\n",
       "      <td>952f8098b11238ad2bf39b96a3b80d93f9515973835161...</td>\n",
       "      <td>test</td>\n",
       "    </tr>\n",
       "    <tr>\n",
       "      <th>12861</th>\n",
       "      <td>9881444aff61ae7f80aa64e102ac1b605eb00b0721f620...</td>\n",
       "      <td>control</td>\n",
       "    </tr>\n",
       "    <tr>\n",
       "      <th>15010312</th>\n",
       "      <td>9881444aff61ae7f80aa64e102ac1b605eb00b0721f620...</td>\n",
       "      <td>test</td>\n",
       "    </tr>\n",
       "    <tr>\n",
       "      <th>28958</th>\n",
       "      <td>9a19a44e2c73da182a83c72f1b257ee63a52fa4bb4b4d4...</td>\n",
       "      <td>control</td>\n",
       "    </tr>\n",
       "    <tr>\n",
       "      <th>18469496</th>\n",
       "      <td>9a19a44e2c73da182a83c72f1b257ee63a52fa4bb4b4d4...</td>\n",
       "      <td>test</td>\n",
       "    </tr>\n",
       "    <tr>\n",
       "      <th>80143</th>\n",
       "      <td>9e9ee7a65738b02c17563dd34dd680587d0410b0e213e2...</td>\n",
       "      <td>control</td>\n",
       "    </tr>\n",
       "    <tr>\n",
       "      <th>3516350</th>\n",
       "      <td>9e9ee7a65738b02c17563dd34dd680587d0410b0e213e2...</td>\n",
       "      <td>test</td>\n",
       "    </tr>\n",
       "    <tr>\n",
       "      <th>21759</th>\n",
       "      <td>9ffa5c0e186cb71cf52a131c2b84d028deda2fc954cffa...</td>\n",
       "      <td>control</td>\n",
       "    </tr>\n",
       "    <tr>\n",
       "      <th>18657548</th>\n",
       "      <td>9ffa5c0e186cb71cf52a131c2b84d028deda2fc954cffa...</td>\n",
       "      <td>test</td>\n",
       "    </tr>\n",
       "    <tr>\n",
       "      <th>16606</th>\n",
       "      <td>cc227cd9db26773714bf6f2144719abdb647f90fbce775...</td>\n",
       "      <td>control</td>\n",
       "    </tr>\n",
       "    <tr>\n",
       "      <th>20885930</th>\n",
       "      <td>cc227cd9db26773714bf6f2144719abdb647f90fbce775...</td>\n",
       "      <td>test</td>\n",
       "    </tr>\n",
       "    <tr>\n",
       "      <th>79913</th>\n",
       "      <td>d692be9449bb6940fa114d77e5942fae261e176def3026...</td>\n",
       "      <td>control</td>\n",
       "    </tr>\n",
       "    <tr>\n",
       "      <th>4438880</th>\n",
       "      <td>d692be9449bb6940fa114d77e5942fae261e176def3026...</td>\n",
       "      <td>test</td>\n",
       "    </tr>\n",
       "    <tr>\n",
       "      <th>22182</th>\n",
       "      <td>e7956b4f1167ae6626c02266db8e7da931c94ad94b0bf2...</td>\n",
       "      <td>control</td>\n",
       "    </tr>\n",
       "    <tr>\n",
       "      <th>17059013</th>\n",
       "      <td>e7956b4f1167ae6626c02266db8e7da931c94ad94b0bf2...</td>\n",
       "      <td>test</td>\n",
       "    </tr>\n",
       "    <tr>\n",
       "      <th>16765</th>\n",
       "      <td>eb5cc7896ca68745d57a466889c60198307e4a87641e4b...</td>\n",
       "      <td>control</td>\n",
       "    </tr>\n",
       "    <tr>\n",
       "      <th>5426532</th>\n",
       "      <td>eb5cc7896ca68745d57a466889c60198307e4a87641e4b...</td>\n",
       "      <td>test</td>\n",
       "    </tr>\n",
       "    <tr>\n",
       "      <th>77489</th>\n",
       "      <td>f1d05452c81554316589ec3740564d13921712c6216932...</td>\n",
       "      <td>control</td>\n",
       "    </tr>\n",
       "    <tr>\n",
       "      <th>757133</th>\n",
       "      <td>f1d05452c81554316589ec3740564d13921712c6216932...</td>\n",
       "      <td>test</td>\n",
       "    </tr>\n",
       "    <tr>\n",
       "      <th>18594</th>\n",
       "      <td>fb205f9e3a19ff047cbf571f767ce79d2c24acd8d751d8...</td>\n",
       "      <td>control</td>\n",
       "    </tr>\n",
       "    <tr>\n",
       "      <th>9676211</th>\n",
       "      <td>fb205f9e3a19ff047cbf571f767ce79d2c24acd8d751d8...</td>\n",
       "      <td>test</td>\n",
       "    </tr>\n",
       "    <tr>\n",
       "      <th>30594</th>\n",
       "      <td>fcbdcaa8fe139cb943ddbf56184dde05d63597230e1c97...</td>\n",
       "      <td>control</td>\n",
       "    </tr>\n",
       "    <tr>\n",
       "      <th>16056437</th>\n",
       "      <td>fcbdcaa8fe139cb943ddbf56184dde05d63597230e1c97...</td>\n",
       "      <td>test</td>\n",
       "    </tr>\n",
       "  </tbody>\n",
       "</table>\n",
       "</div>"
      ],
      "text/plain": [
       "                                                      Email    Group\n",
       "95446     1152cb7e6f7bba4aea1a4a9543cefeb4e5f5fccd92a0c5...  control\n",
       "2118993   1152cb7e6f7bba4aea1a4a9543cefeb4e5f5fccd92a0c5...     test\n",
       "15843     12d0aded1a1810dd08e60ea3bb1d0b0d46b1a2c224a1e0...  control\n",
       "14076876  12d0aded1a1810dd08e60ea3bb1d0b0d46b1a2c224a1e0...     test\n",
       "30196     2b5aadd1188c83cfcd23d14e2578a1af92e41a7198ca1f...  control\n",
       "19978211  2b5aadd1188c83cfcd23d14e2578a1af92e41a7198ca1f...     test\n",
       "25126     33c21258cdfeaae52ea857b0af6a72975fb4963ee9f065...  control\n",
       "20562300  33c21258cdfeaae52ea857b0af6a72975fb4963ee9f065...     test\n",
       "85183     3f0373fa1412044927d83a5bd105abc584ee8a423607fc...  control\n",
       "20870886  3f0373fa1412044927d83a5bd105abc584ee8a423607fc...     test\n",
       "11507     4402ca627f1869163ece462532bd44f974f80c51d0c8dd...  control\n",
       "11466462  4402ca627f1869163ece462532bd44f974f80c51d0c8dd...     test\n",
       "10023     50d794aa359942f1706d37cac1215dc624b13abc45b975...  control\n",
       "20925122  50d794aa359942f1706d37cac1215dc624b13abc45b975...     test\n",
       "41303     7d0abaaa0ab532f58f8cd5d47394893ed73a22eb185d22...  control\n",
       "4435661   7d0abaaa0ab532f58f8cd5d47394893ed73a22eb185d22...     test\n",
       "889       867b3c78faf6860cb386795b358b80e2e9dc66fa587e71...  control\n",
       "15194080  867b3c78faf6860cb386795b358b80e2e9dc66fa587e71...     test\n",
       "16847     952f8098b11238ad2bf39b96a3b80d93f9515973835161...  control\n",
       "8203810   952f8098b11238ad2bf39b96a3b80d93f9515973835161...     test\n",
       "12861     9881444aff61ae7f80aa64e102ac1b605eb00b0721f620...  control\n",
       "15010312  9881444aff61ae7f80aa64e102ac1b605eb00b0721f620...     test\n",
       "28958     9a19a44e2c73da182a83c72f1b257ee63a52fa4bb4b4d4...  control\n",
       "18469496  9a19a44e2c73da182a83c72f1b257ee63a52fa4bb4b4d4...     test\n",
       "80143     9e9ee7a65738b02c17563dd34dd680587d0410b0e213e2...  control\n",
       "3516350   9e9ee7a65738b02c17563dd34dd680587d0410b0e213e2...     test\n",
       "21759     9ffa5c0e186cb71cf52a131c2b84d028deda2fc954cffa...  control\n",
       "18657548  9ffa5c0e186cb71cf52a131c2b84d028deda2fc954cffa...     test\n",
       "16606     cc227cd9db26773714bf6f2144719abdb647f90fbce775...  control\n",
       "20885930  cc227cd9db26773714bf6f2144719abdb647f90fbce775...     test\n",
       "79913     d692be9449bb6940fa114d77e5942fae261e176def3026...  control\n",
       "4438880   d692be9449bb6940fa114d77e5942fae261e176def3026...     test\n",
       "22182     e7956b4f1167ae6626c02266db8e7da931c94ad94b0bf2...  control\n",
       "17059013  e7956b4f1167ae6626c02266db8e7da931c94ad94b0bf2...     test\n",
       "16765     eb5cc7896ca68745d57a466889c60198307e4a87641e4b...  control\n",
       "5426532   eb5cc7896ca68745d57a466889c60198307e4a87641e4b...     test\n",
       "77489     f1d05452c81554316589ec3740564d13921712c6216932...  control\n",
       "757133    f1d05452c81554316589ec3740564d13921712c6216932...     test\n",
       "18594     fb205f9e3a19ff047cbf571f767ce79d2c24acd8d751d8...  control\n",
       "9676211   fb205f9e3a19ff047cbf571f767ce79d2c24acd8d751d8...     test\n",
       "30594     fcbdcaa8fe139cb943ddbf56184dde05d63597230e1c97...  control\n",
       "16056437  fcbdcaa8fe139cb943ddbf56184dde05d63597230e1c97...     test"
      ]
     },
     "execution_count": 8,
     "metadata": {},
     "output_type": "execute_result"
    }
   ],
   "source": [
    "df_qc_duplicate=df_qc_duplicate.reset_index()\n",
    "Emails_list_21_in_both=df_qc_duplicate[df_qc_duplicate['Group']==2]['Email'].tolist()\n",
    "df_email_group[df_email_group['Email'].isin(Emails_list_21_in_both)].sort_values([\"Email\",\"Group\"])"
   ]
  },
  {
   "cell_type": "code",
   "execution_count": 9,
   "metadata": {},
   "outputs": [
    {
     "name": "stdout",
     "output_type": "stream",
     "text": [
      "2019-12-03 15:12:44.104198 (21505499, 2)\n",
      "2019-12-03 15:13:49.773511 (21505499, 3)\n"
     ]
    }
   ],
   "source": [
    "# The 21 emails are excluded from both test and control\n",
    "\n",
    "del df_qc_duplicate\n",
    "df_email_group=df_email_group[~df_email_group['Email'].isin(Emails_list_21_in_both)]\n",
    "df_email_group=df_email_group.rename(columns={\"Email\":\"email_address_hash\"})\n",
    "\n",
    "print(datetime.datetime.now(),df_FB_id_email_all.shape)\n",
    "df_FB_id_email_all=pd.merge(df_FB_id_email_all,df_email_group,on=\"email_address_hash\",how=\"left\")\n",
    "print(datetime.datetime.now(),df_FB_id_email_all.shape)"
   ]
  },
  {
   "cell_type": "code",
   "execution_count": 10,
   "metadata": {},
   "outputs": [
    {
     "name": "stdout",
     "output_type": "stream",
     "text": [
      "(21505499, 3) 21505499\n"
     ]
    }
   ],
   "source": [
    "print(df_FB_id_email_all.shape,df_FB_id_email_all['customer_id_hashed'].nunique())"
   ]
  },
  {
   "cell_type": "code",
   "execution_count": 11,
   "metadata": {},
   "outputs": [],
   "source": [
    "list_redeamer_id=df_redeemers['hashed_customer_num'].tolist()\n",
    "list_redeamer_email=df_redeemers['hashed_email_address'].tolist()\n",
    "df_FB_id_email_all['redemption']=np.where((df_FB_id_email_all['customer_id_hashed'].isin(list_redeamer_id) | df_FB_id_email_all['email_address_hash'].isin(list_redeamer_id)),\"redeemers\",\"others\" )"
   ]
  },
  {
   "cell_type": "code",
   "execution_count": 12,
   "metadata": {},
   "outputs": [
    {
     "data": {
      "text/plain": [
       "(21505499, 4)"
      ]
     },
     "execution_count": 12,
     "metadata": {},
     "output_type": "execute_result"
    }
   ],
   "source": [
    "df_FB_id_email_all.shape"
   ]
  },
  {
   "cell_type": "code",
   "execution_count": 13,
   "metadata": {},
   "outputs": [],
   "source": [
    "df_redeemers_others=df_redeemers[~df_redeemers['hashed_customer_num'].isin(df_FB_id_email_all['customer_id_hashed'].tolist())]\n",
    "df_redeemers_others=df_redeemers_others[~df_redeemers_others['hashed_email_address'].isin(df_FB_id_email_all['email_address_hash'].tolist())]\n",
    "df_redeemers_others['Group']=\"Others_not_uploaded\"\n",
    "df_redeemers_others['redemption']=\"redeemers\"\n",
    "\n",
    "df_redeemers_others=df_redeemers_others.rename(columns={\"hashed_customer_num\":\"customer_id_hashed\",\"hashed_email_address\":\"email_address_hash\"})\n",
    "df_FB_id_email_all=df_FB_id_email_all.append(df_redeemers_others)"
   ]
  },
  {
   "cell_type": "code",
   "execution_count": 14,
   "metadata": {},
   "outputs": [
    {
     "data": {
      "text/plain": [
       "(21527083, 4)"
      ]
     },
     "execution_count": 14,
     "metadata": {},
     "output_type": "execute_result"
    }
   ],
   "source": [
    "df_FB_id_email_all.shape"
   ]
  },
  {
   "cell_type": "code",
   "execution_count": 15,
   "metadata": {},
   "outputs": [
    {
     "data": {
      "text/html": [
       "<div>\n",
       "<style scoped>\n",
       "    .dataframe tbody tr th:only-of-type {\n",
       "        vertical-align: middle;\n",
       "    }\n",
       "\n",
       "    .dataframe tbody tr th {\n",
       "        vertical-align: top;\n",
       "    }\n",
       "\n",
       "    .dataframe thead th {\n",
       "        text-align: right;\n",
       "    }\n",
       "</style>\n",
       "<table border=\"1\" class=\"dataframe\">\n",
       "  <thead>\n",
       "    <tr style=\"text-align: right;\">\n",
       "      <th></th>\n",
       "      <th>customer_id_hashed</th>\n",
       "      <th>email_address_hash</th>\n",
       "      <th>Group</th>\n",
       "      <th>redemption</th>\n",
       "    </tr>\n",
       "  </thead>\n",
       "  <tbody>\n",
       "    <tr>\n",
       "      <th>0</th>\n",
       "      <td>9b7f9a1ba51dbae2a393c273ce8c9aa9bf610dc03410fd...</td>\n",
       "      <td>089bc373eda16a771e023d87ee368fb961c4ff9b36c7d6...</td>\n",
       "      <td>test</td>\n",
       "      <td>others</td>\n",
       "    </tr>\n",
       "    <tr>\n",
       "      <th>1</th>\n",
       "      <td>c2c5bd862113c4e77c918dd22a25744f2e1224ea63b166...</td>\n",
       "      <td>065edf59d0ed26bea352be5f44fd7a6f688a0fa28cddb3...</td>\n",
       "      <td>test</td>\n",
       "      <td>others</td>\n",
       "    </tr>\n",
       "  </tbody>\n",
       "</table>\n",
       "</div>"
      ],
      "text/plain": [
       "                                  customer_id_hashed  \\\n",
       "0  9b7f9a1ba51dbae2a393c273ce8c9aa9bf610dc03410fd...   \n",
       "1  c2c5bd862113c4e77c918dd22a25744f2e1224ea63b166...   \n",
       "\n",
       "                                  email_address_hash Group redemption  \n",
       "0  089bc373eda16a771e023d87ee368fb961c4ff9b36c7d6...  test     others  \n",
       "1  065edf59d0ed26bea352be5f44fd7a6f688a0fa28cddb3...  test     others  "
      ]
     },
     "execution_count": 15,
     "metadata": {},
     "output_type": "execute_result"
    }
   ],
   "source": [
    "df_FB_id_email_all.head(2)"
   ]
  },
  {
   "cell_type": "code",
   "execution_count": 16,
   "metadata": {},
   "outputs": [
    {
     "name": "stdout",
     "output_type": "stream",
     "text": [
      "(21527083, 4) 21527083 21524913\n"
     ]
    }
   ],
   "source": [
    "# del df_FB_id_email_all['hashed_customer_num']\n",
    "# del df_FB_id_email_all['hashed_email_address']\n",
    "gc.collect()\n",
    "\n",
    "print(df_FB_id_email_all.shape,df_FB_id_email_all['customer_id_hashed'].nunique(),df_FB_id_email_all['email_address_hash'].nunique())\n"
   ]
  },
  {
   "cell_type": "code",
   "execution_count": 20,
   "metadata": {},
   "outputs": [
    {
     "data": {
      "text/plain": [
       "(21527083, 4)"
      ]
     },
     "execution_count": 20,
     "metadata": {},
     "output_type": "execute_result"
    }
   ],
   "source": [
    "df_FB_id_email_all=df_FB_id_email_all.drop_duplicates()\n",
    "df_FB_id_email_all.shape"
   ]
  },
  {
   "cell_type": "code",
   "execution_count": 21,
   "metadata": {},
   "outputs": [
    {
     "data": {
      "text/plain": [
       "(262852, 4)"
      ]
     },
     "execution_count": 21,
     "metadata": {},
     "output_type": "execute_result"
    }
   ],
   "source": [
    "df_test=df_FB_id_email_all[df_FB_id_email_all['redemption']==\"redeemers\"]\n",
    "df_test.shape"
   ]
  },
  {
   "cell_type": "code",
   "execution_count": 22,
   "metadata": {},
   "outputs": [
    {
     "name": "stdout",
     "output_type": "stream",
     "text": [
      "2019-12-03 15:18:37.024166 (1409778, 6)\n",
      "2019-12-03 15:19:48.940125 (2907343, 6)\n",
      "2019-12-03 15:21:01.076359 (4388465, 6)\n"
     ]
    },
    {
     "data": {
      "text/plain": [
       "(4388465, 6)"
      ]
     },
     "execution_count": 22,
     "metadata": {},
     "output_type": "execute_result"
    }
   ],
   "source": [
    "# Sales\n",
    "\n",
    "# POS data range\n",
    "file_week_1=\"/home/jian/BigLots/2019_by_weeks/MediaStorm_2019-10-26/MediaStormDailySales20191029-111155-920.txt\"\n",
    "file_week_2=\"/home/jian/BigLots/2019_by_weeks/MediaStorm_2019-11-02/MediaStormDailySales20191105-111212-139.txt\"\n",
    "file_week_3=\"/home/jian/BigLots/2019_by_weeks/MediaStorm_2019-11-09/MediaStormDailySales20191112-115210-002.txt\"\n",
    "\n",
    "POS_file_list=[file_week_1,file_week_2,file_week_3]\n",
    "\n",
    "df_POS_all=pd.DataFrame()\n",
    "\n",
    "for file in POS_file_list:\n",
    "    df=pd.read_table(file,dtype=str,sep=\"|\")\n",
    "    df=df[pd.notnull(df['customer_id_hashed'])]\n",
    "    df['item_transaction_amt']=df['item_transaction_amt'].astype(float)\n",
    "    df['sales_instore']=np.where(df['location_id']!=\"6990\",df['item_transaction_amt'],0)\n",
    "    df['sales_online']=np.where(df['location_id']==\"6990\",df['item_transaction_amt'],0)\n",
    "    \n",
    "    df_trans=df[['location_id','transaction_dt','transaction_id','customer_id_hashed']].drop_duplicates()\n",
    "    df_trans['trans_instore']=np.where(df_trans['location_id']!=\"6990\",1,0)\n",
    "    df_trans['trans_online']=np.where(df_trans['location_id']==\"6990\",1,0)\n",
    "    \n",
    "    df_trans=df_trans.groupby([\"customer_id_hashed\",\"transaction_dt\"])['trans_instore','trans_online'].sum().reset_index()\n",
    "    \n",
    "    df_sales=df.groupby([\"customer_id_hashed\",\"transaction_dt\"])['sales_instore','sales_online'].sum().reset_index()\n",
    "    \n",
    "    df=pd.merge(df_sales,df_trans,on=[\"customer_id_hashed\",\"transaction_dt\"],how=\"outer\")\n",
    "    df_POS_all=df_POS_all.append(df)\n",
    "    print(datetime.datetime.now(),df_POS_all.shape)\n",
    "    \n",
    "df_POS_all.shape\n",
    "# earlier version doesn't devide the online vs instore"
   ]
  },
  {
   "cell_type": "code",
   "execution_count": 23,
   "metadata": {
    "collapsed": true
   },
   "outputs": [],
   "source": [
    "P1_range=[\"2019-10-21\",\"2019-11-02\"]\n",
    "P2_range=[\"2019-11-03\",\"2019-11-07\"]"
   ]
  },
  {
   "cell_type": "code",
   "execution_count": 24,
   "metadata": {},
   "outputs": [
    {
     "name": "stdout",
     "output_type": "stream",
     "text": [
      "2019-10-20 2019-11-09\n"
     ]
    }
   ],
   "source": [
    "print(df_POS_all['transaction_dt'].min(),df_POS_all['transaction_dt'].max())"
   ]
  },
  {
   "cell_type": "code",
   "execution_count": 26,
   "metadata": {},
   "outputs": [
    {
     "name": "stdout",
     "output_type": "stream",
     "text": [
      "(21527083, 4)\n"
     ]
    },
    {
     "data": {
      "text/html": [
       "<div>\n",
       "<style scoped>\n",
       "    .dataframe tbody tr th:only-of-type {\n",
       "        vertical-align: middle;\n",
       "    }\n",
       "\n",
       "    .dataframe tbody tr th {\n",
       "        vertical-align: top;\n",
       "    }\n",
       "\n",
       "    .dataframe thead th {\n",
       "        text-align: right;\n",
       "    }\n",
       "</style>\n",
       "<table border=\"1\" class=\"dataframe\">\n",
       "  <thead>\n",
       "    <tr style=\"text-align: right;\">\n",
       "      <th></th>\n",
       "      <th>customer_id_hashed</th>\n",
       "      <th>email_address_hash</th>\n",
       "      <th>Group</th>\n",
       "      <th>redemption</th>\n",
       "    </tr>\n",
       "  </thead>\n",
       "  <tbody>\n",
       "    <tr>\n",
       "      <th>0</th>\n",
       "      <td>9b7f9a1ba51dbae2a393c273ce8c9aa9bf610dc03410fd...</td>\n",
       "      <td>089bc373eda16a771e023d87ee368fb961c4ff9b36c7d6...</td>\n",
       "      <td>test</td>\n",
       "      <td>others</td>\n",
       "    </tr>\n",
       "    <tr>\n",
       "      <th>1</th>\n",
       "      <td>c2c5bd862113c4e77c918dd22a25744f2e1224ea63b166...</td>\n",
       "      <td>065edf59d0ed26bea352be5f44fd7a6f688a0fa28cddb3...</td>\n",
       "      <td>test</td>\n",
       "      <td>others</td>\n",
       "    </tr>\n",
       "  </tbody>\n",
       "</table>\n",
       "</div>"
      ],
      "text/plain": [
       "                                  customer_id_hashed  \\\n",
       "0  9b7f9a1ba51dbae2a393c273ce8c9aa9bf610dc03410fd...   \n",
       "1  c2c5bd862113c4e77c918dd22a25744f2e1224ea63b166...   \n",
       "\n",
       "                                  email_address_hash Group redemption  \n",
       "0  089bc373eda16a771e023d87ee368fb961c4ff9b36c7d6...  test     others  \n",
       "1  065edf59d0ed26bea352be5f44fd7a6f688a0fa28cddb3...  test     others  "
      ]
     },
     "execution_count": 26,
     "metadata": {},
     "output_type": "execute_result"
    }
   ],
   "source": [
    "print(df_FB_id_email_all.shape)\n",
    "df_FB_id_email_all.head(2)"
   ]
  },
  {
   "cell_type": "code",
   "execution_count": 28,
   "metadata": {},
   "outputs": [
    {
     "data": {
      "text/plain": [
       "((21527083, 4), 21527083)"
      ]
     },
     "execution_count": 28,
     "metadata": {},
     "output_type": "execute_result"
    }
   ],
   "source": [
    "df_FB_id_email_all.shape, df_FB_id_email_all['customer_id_hashed'].nunique()"
   ]
  },
  {
   "cell_type": "code",
   "execution_count": 29,
   "metadata": {},
   "outputs": [
    {
     "name": "stdout",
     "output_type": "stream",
     "text": [
      "(4388465, 9)\n"
     ]
    },
    {
     "data": {
      "text/html": [
       "<div>\n",
       "<style scoped>\n",
       "    .dataframe tbody tr th:only-of-type {\n",
       "        vertical-align: middle;\n",
       "    }\n",
       "\n",
       "    .dataframe tbody tr th {\n",
       "        vertical-align: top;\n",
       "    }\n",
       "\n",
       "    .dataframe thead th {\n",
       "        text-align: right;\n",
       "    }\n",
       "</style>\n",
       "<table border=\"1\" class=\"dataframe\">\n",
       "  <thead>\n",
       "    <tr style=\"text-align: right;\">\n",
       "      <th></th>\n",
       "      <th>customer_id_hashed</th>\n",
       "      <th>transaction_dt</th>\n",
       "      <th>sales_instore</th>\n",
       "      <th>sales_online</th>\n",
       "      <th>trans_instore</th>\n",
       "      <th>trans_online</th>\n",
       "      <th>email_address_hash</th>\n",
       "      <th>Group</th>\n",
       "      <th>redemption</th>\n",
       "    </tr>\n",
       "  </thead>\n",
       "  <tbody>\n",
       "    <tr>\n",
       "      <th>0</th>\n",
       "      <td>00000950dea4a869e9fe70d823444d418c5abebbd8e830...</td>\n",
       "      <td>2019-10-20</td>\n",
       "      <td>13.9</td>\n",
       "      <td>0.0</td>\n",
       "      <td>2</td>\n",
       "      <td>0</td>\n",
       "      <td>3ec23725736314cdfdd3fec2dc33de427da23104623312...</td>\n",
       "      <td>test</td>\n",
       "      <td>redeemers</td>\n",
       "    </tr>\n",
       "    <tr>\n",
       "      <th>1</th>\n",
       "      <td>00000950dea4a869e9fe70d823444d418c5abebbd8e830...</td>\n",
       "      <td>2019-10-24</td>\n",
       "      <td>0.0</td>\n",
       "      <td>0.0</td>\n",
       "      <td>1</td>\n",
       "      <td>0</td>\n",
       "      <td>3ec23725736314cdfdd3fec2dc33de427da23104623312...</td>\n",
       "      <td>test</td>\n",
       "      <td>redeemers</td>\n",
       "    </tr>\n",
       "  </tbody>\n",
       "</table>\n",
       "</div>"
      ],
      "text/plain": [
       "                                  customer_id_hashed transaction_dt  \\\n",
       "0  00000950dea4a869e9fe70d823444d418c5abebbd8e830...     2019-10-20   \n",
       "1  00000950dea4a869e9fe70d823444d418c5abebbd8e830...     2019-10-24   \n",
       "\n",
       "   sales_instore  sales_online  trans_instore  trans_online  \\\n",
       "0           13.9           0.0              2             0   \n",
       "1            0.0           0.0              1             0   \n",
       "\n",
       "                                  email_address_hash Group redemption  \n",
       "0  3ec23725736314cdfdd3fec2dc33de427da23104623312...  test  redeemers  \n",
       "1  3ec23725736314cdfdd3fec2dc33de427da23104623312...  test  redeemers  "
      ]
     },
     "execution_count": 29,
     "metadata": {},
     "output_type": "execute_result"
    }
   ],
   "source": [
    "# left merge into the POS\n",
    "df_POS_all=pd.merge(df_POS_all,df_FB_id_email_all,on=\"customer_id_hashed\",how=\"left\")\n",
    "print(df_POS_all.shape)\n",
    "df_POS_all.head(2)"
   ]
  },
  {
   "cell_type": "code",
   "execution_count": 30,
   "metadata": {
    "collapsed": true
   },
   "outputs": [],
   "source": [
    "df_POS_all['Period']=np.where(((df_POS_all['transaction_dt']>=P1_range[0]) & (df_POS_all['transaction_dt']<=P1_range[1])),\"P1: 10/21-11/2\",\n",
    "                              np.where(((df_POS_all['transaction_dt']>=P2_range[0]) & (df_POS_all['transaction_dt']<=P2_range[1])),\"P2: 11/3-11/7\",\"Others\")\n",
    "                             )"
   ]
  },
  {
   "cell_type": "code",
   "execution_count": 31,
   "metadata": {
    "collapsed": true
   },
   "outputs": [],
   "source": [
    "df_POS_all.to_csv(\"./BL_df_detail_3_weeks_POS_instore_and_online_with_redeemers_JL_\"+str(datetime.datetime.now().date())+\".csv\",index=\"False\")\n",
    "\n"
   ]
  },
  {
   "cell_type": "code",
   "execution_count": 32,
   "metadata": {},
   "outputs": [
    {
     "data": {
      "text/plain": [
       "(15, 8)"
      ]
     },
     "execution_count": 32,
     "metadata": {},
     "output_type": "execute_result"
    }
   ],
   "source": [
    "agg_func={\"email_address_hash\":\"nunique\",\"sales_instore\":\"sum\",\"sales_online\":\"sum\",\"trans_instore\":\"sum\",\"trans_online\":\"sum\"}\n",
    "df_summary=df_POS_all.groupby([\"Group\",\"Period\",\"redemption\"]).agg(agg_func).reset_index()\n",
    "df_summary.shape"
   ]
  },
  {
   "cell_type": "code",
   "execution_count": 33,
   "metadata": {},
   "outputs": [
    {
     "data": {
      "text/html": [
       "<div>\n",
       "<style scoped>\n",
       "    .dataframe tbody tr th:only-of-type {\n",
       "        vertical-align: middle;\n",
       "    }\n",
       "\n",
       "    .dataframe tbody tr th {\n",
       "        vertical-align: top;\n",
       "    }\n",
       "\n",
       "    .dataframe thead th {\n",
       "        text-align: right;\n",
       "    }\n",
       "</style>\n",
       "<table border=\"1\" class=\"dataframe\">\n",
       "  <thead>\n",
       "    <tr style=\"text-align: right;\">\n",
       "      <th></th>\n",
       "      <th>Group</th>\n",
       "      <th>redemption</th>\n",
       "      <th>email_address_hash</th>\n",
       "    </tr>\n",
       "  </thead>\n",
       "  <tbody>\n",
       "    <tr>\n",
       "      <th>0</th>\n",
       "      <td>Others_not_uploaded</td>\n",
       "      <td>redeemers</td>\n",
       "      <td>21577</td>\n",
       "    </tr>\n",
       "    <tr>\n",
       "      <th>1</th>\n",
       "      <td>control</td>\n",
       "      <td>others</td>\n",
       "      <td>98897</td>\n",
       "    </tr>\n",
       "    <tr>\n",
       "      <th>2</th>\n",
       "      <td>control</td>\n",
       "      <td>redeemers</td>\n",
       "      <td>1082</td>\n",
       "    </tr>\n",
       "    <tr>\n",
       "      <th>3</th>\n",
       "      <td>test</td>\n",
       "      <td>others</td>\n",
       "      <td>21163300</td>\n",
       "    </tr>\n",
       "    <tr>\n",
       "      <th>4</th>\n",
       "      <td>test</td>\n",
       "      <td>redeemers</td>\n",
       "      <td>240181</td>\n",
       "    </tr>\n",
       "  </tbody>\n",
       "</table>\n",
       "</div>"
      ],
      "text/plain": [
       "                 Group redemption  email_address_hash\n",
       "0  Others_not_uploaded  redeemers               21577\n",
       "1              control     others               98897\n",
       "2              control  redeemers                1082\n",
       "3                 test     others            21163300\n",
       "4                 test  redeemers              240181"
      ]
     },
     "execution_count": 33,
     "metadata": {},
     "output_type": "execute_result"
    }
   ],
   "source": [
    "df_total_id=df_FB_id_email_all.groupby([\"Group\",\"redemption\"])['email_address_hash'].nunique().to_frame().reset_index()\n",
    "df_total_id"
   ]
  },
  {
   "cell_type": "code",
   "execution_count": 35,
   "metadata": {},
   "outputs": [
    {
     "data": {
      "text/plain": [
       "(5, 3)"
      ]
     },
     "execution_count": 35,
     "metadata": {},
     "output_type": "execute_result"
    }
   ],
   "source": [
    "df_unique_shoppers_both_periods=df_POS_all[df_POS_all['Period']!=\"Others\"]\n",
    "df_unique_shoppers_both_periods=df_unique_shoppers_both_periods.groupby([\"Group\",\"redemption\"])['email_address_hash'].nunique().to_frame().reset_index()\n",
    "df_unique_shoppers_both_periods.shape"
   ]
  },
  {
   "cell_type": "code",
   "execution_count": 36,
   "metadata": {
    "collapsed": true
   },
   "outputs": [],
   "source": [
    "writer=pd.ExcelWriter(\"./BL_output_FB_offer_result_by_store_type_redemption_JL_\"+str(datetime.datetime.now().date())+\".xlsx\",engine=\"xlsxwriter\")\n",
    "df_summary.to_excel(writer,\"performance\",index=False)\n",
    "df_total_id.to_excel(writer,\"total_id\",index=False)\n",
    "df_unique_shoppers_both_periods.to_excel(writer,\"total_shoppers_both_P\",index=False)\n",
    "writer.save()"
   ]
  },
  {
   "cell_type": "code",
   "execution_count": 37,
   "metadata": {},
   "outputs": [
    {
     "data": {
      "text/html": [
       "<div>\n",
       "<style scoped>\n",
       "    .dataframe tbody tr th:only-of-type {\n",
       "        vertical-align: middle;\n",
       "    }\n",
       "\n",
       "    .dataframe tbody tr th {\n",
       "        vertical-align: top;\n",
       "    }\n",
       "\n",
       "    .dataframe thead th {\n",
       "        text-align: right;\n",
       "    }\n",
       "</style>\n",
       "<table border=\"1\" class=\"dataframe\">\n",
       "  <thead>\n",
       "    <tr style=\"text-align: right;\">\n",
       "      <th></th>\n",
       "      <th>customer_id_hashed</th>\n",
       "      <th>transaction_dt</th>\n",
       "      <th>sales_instore</th>\n",
       "      <th>sales_online</th>\n",
       "      <th>trans_instore</th>\n",
       "      <th>trans_online</th>\n",
       "      <th>email_address_hash</th>\n",
       "      <th>Group</th>\n",
       "      <th>redemption</th>\n",
       "      <th>Period</th>\n",
       "    </tr>\n",
       "  </thead>\n",
       "  <tbody>\n",
       "    <tr>\n",
       "      <th>0</th>\n",
       "      <td>00000950dea4a869e9fe70d823444d418c5abebbd8e830...</td>\n",
       "      <td>2019-10-20</td>\n",
       "      <td>13.9</td>\n",
       "      <td>0.0</td>\n",
       "      <td>2</td>\n",
       "      <td>0</td>\n",
       "      <td>3ec23725736314cdfdd3fec2dc33de427da23104623312...</td>\n",
       "      <td>test</td>\n",
       "      <td>redeemers</td>\n",
       "      <td>Others</td>\n",
       "    </tr>\n",
       "    <tr>\n",
       "      <th>1</th>\n",
       "      <td>00000950dea4a869e9fe70d823444d418c5abebbd8e830...</td>\n",
       "      <td>2019-10-24</td>\n",
       "      <td>0.0</td>\n",
       "      <td>0.0</td>\n",
       "      <td>1</td>\n",
       "      <td>0</td>\n",
       "      <td>3ec23725736314cdfdd3fec2dc33de427da23104623312...</td>\n",
       "      <td>test</td>\n",
       "      <td>redeemers</td>\n",
       "      <td>P1: 10/21-11/2</td>\n",
       "    </tr>\n",
       "  </tbody>\n",
       "</table>\n",
       "</div>"
      ],
      "text/plain": [
       "                                  customer_id_hashed transaction_dt  \\\n",
       "0  00000950dea4a869e9fe70d823444d418c5abebbd8e830...     2019-10-20   \n",
       "1  00000950dea4a869e9fe70d823444d418c5abebbd8e830...     2019-10-24   \n",
       "\n",
       "   sales_instore  sales_online  trans_instore  trans_online  \\\n",
       "0           13.9           0.0              2             0   \n",
       "1            0.0           0.0              1             0   \n",
       "\n",
       "                                  email_address_hash Group redemption  \\\n",
       "0  3ec23725736314cdfdd3fec2dc33de427da23104623312...  test  redeemers   \n",
       "1  3ec23725736314cdfdd3fec2dc33de427da23104623312...  test  redeemers   \n",
       "\n",
       "           Period  \n",
       "0          Others  \n",
       "1  P1: 10/21-11/2  "
      ]
     },
     "execution_count": 37,
     "metadata": {},
     "output_type": "execute_result"
    }
   ],
   "source": [
    "# QC\n",
    "\n",
    "df_POS_all.head(2)"
   ]
  },
  {
   "cell_type": "code",
   "execution_count": 40,
   "metadata": {},
   "outputs": [],
   "source": [
    "file_week_1=\"/home/jian/BigLots/2019_by_weeks/MediaStorm_2019-10-26/MediaStormDailySales20191029-111155-920.txt\"\n",
    "df_week1_POS=pd.read_table(file_week_1,dtype=str,sep=\"|\")\n",
    "df_week1_POS=df_week1_POS[pd.notnull(df_week1_POS['customer_id_hashed'])]\n",
    "df_week1_POS['item_transaction_amt']=df_week1_POS['item_transaction_amt'].astype(float)"
   ]
  },
  {
   "cell_type": "code",
   "execution_count": 43,
   "metadata": {},
   "outputs": [
    {
     "data": {
      "text/plain": [
       "(1028688, 9)"
      ]
     },
     "execution_count": 43,
     "metadata": {},
     "output_type": "execute_result"
    }
   ],
   "source": [
    "df_week1_POS_redeemers=df_week1_POS[df_week1_POS['customer_id_hashed'].isin(list_redeamer_id)]\n",
    "df_week1_POS_redeemers.shape"
   ]
  },
  {
   "cell_type": "code",
   "execution_count": 64,
   "metadata": {},
   "outputs": [
    {
     "data": {
      "text/html": [
       "<div>\n",
       "<style scoped>\n",
       "    .dataframe tbody tr th:only-of-type {\n",
       "        vertical-align: middle;\n",
       "    }\n",
       "\n",
       "    .dataframe tbody tr th {\n",
       "        vertical-align: top;\n",
       "    }\n",
       "\n",
       "    .dataframe thead th {\n",
       "        text-align: right;\n",
       "    }\n",
       "</style>\n",
       "<table border=\"1\" class=\"dataframe\">\n",
       "  <thead>\n",
       "    <tr style=\"text-align: right;\">\n",
       "      <th></th>\n",
       "      <th>location_id</th>\n",
       "      <th>transaction_dt</th>\n",
       "      <th>transaction_id</th>\n",
       "      <th>customer_id_hashed</th>\n",
       "      <th>class_code_id</th>\n",
       "      <th>subclass_id</th>\n",
       "      <th>item_id</th>\n",
       "      <th>item_transaction_units</th>\n",
       "      <th>item_transaction_amt</th>\n",
       "    </tr>\n",
       "  </thead>\n",
       "  <tbody>\n",
       "    <tr>\n",
       "      <th>11</th>\n",
       "      <td>1474</td>\n",
       "      <td>2019-10-26</td>\n",
       "      <td>4680</td>\n",
       "      <td>c2b13c2b848338ed0995d38410cfbc099c4015607d348b...</td>\n",
       "      <td>34013</td>\n",
       "      <td>1</td>\n",
       "      <td>810433518</td>\n",
       "      <td>1</td>\n",
       "      <td>4.50</td>\n",
       "    </tr>\n",
       "    <tr>\n",
       "      <th>18</th>\n",
       "      <td>4261</td>\n",
       "      <td>2019-10-26</td>\n",
       "      <td>4395</td>\n",
       "      <td>ab45b438d450bb4e982161fd42cbcef37e2db91711a985...</td>\n",
       "      <td>11002</td>\n",
       "      <td>4</td>\n",
       "      <td>810446092</td>\n",
       "      <td>1</td>\n",
       "      <td>1.41</td>\n",
       "    </tr>\n",
       "  </tbody>\n",
       "</table>\n",
       "</div>"
      ],
      "text/plain": [
       "   location_id transaction_dt transaction_id  \\\n",
       "11        1474     2019-10-26           4680   \n",
       "18        4261     2019-10-26           4395   \n",
       "\n",
       "                                   customer_id_hashed class_code_id  \\\n",
       "11  c2b13c2b848338ed0995d38410cfbc099c4015607d348b...         34013   \n",
       "18  ab45b438d450bb4e982161fd42cbcef37e2db91711a985...         11002   \n",
       "\n",
       "   subclass_id    item_id item_transaction_units  item_transaction_amt  \n",
       "11           1  810433518                      1                  4.50  \n",
       "18           4  810446092                      1                  1.41  "
      ]
     },
     "execution_count": 64,
     "metadata": {},
     "output_type": "execute_result"
    }
   ],
   "source": [
    "df_week1_POS_redeemers"
   ]
  },
  {
   "cell_type": "code",
   "execution_count": 44,
   "metadata": {},
   "outputs": [
    {
     "data": {
      "text/html": [
       "<div>\n",
       "<style scoped>\n",
       "    .dataframe tbody tr th:only-of-type {\n",
       "        vertical-align: middle;\n",
       "    }\n",
       "\n",
       "    .dataframe tbody tr th {\n",
       "        vertical-align: top;\n",
       "    }\n",
       "\n",
       "    .dataframe thead th {\n",
       "        text-align: right;\n",
       "    }\n",
       "</style>\n",
       "<table border=\"1\" class=\"dataframe\">\n",
       "  <thead>\n",
       "    <tr style=\"text-align: right;\">\n",
       "      <th></th>\n",
       "      <th>location_id</th>\n",
       "      <th>transaction_dt</th>\n",
       "      <th>transaction_id</th>\n",
       "      <th>customer_id_hashed</th>\n",
       "      <th>class_code_id</th>\n",
       "      <th>subclass_id</th>\n",
       "      <th>item_id</th>\n",
       "      <th>item_transaction_units</th>\n",
       "      <th>item_transaction_amt</th>\n",
       "    </tr>\n",
       "  </thead>\n",
       "  <tbody>\n",
       "    <tr>\n",
       "      <th>11</th>\n",
       "      <td>1474</td>\n",
       "      <td>2019-10-26</td>\n",
       "      <td>4680</td>\n",
       "      <td>c2b13c2b848338ed0995d38410cfbc099c4015607d348b...</td>\n",
       "      <td>34013</td>\n",
       "      <td>1</td>\n",
       "      <td>810433518</td>\n",
       "      <td>1</td>\n",
       "      <td>4.50</td>\n",
       "    </tr>\n",
       "    <tr>\n",
       "      <th>18</th>\n",
       "      <td>4261</td>\n",
       "      <td>2019-10-26</td>\n",
       "      <td>4395</td>\n",
       "      <td>ab45b438d450bb4e982161fd42cbcef37e2db91711a985...</td>\n",
       "      <td>11002</td>\n",
       "      <td>4</td>\n",
       "      <td>810446092</td>\n",
       "      <td>1</td>\n",
       "      <td>1.41</td>\n",
       "    </tr>\n",
       "  </tbody>\n",
       "</table>\n",
       "</div>"
      ],
      "text/plain": [
       "   location_id transaction_dt transaction_id  \\\n",
       "11        1474     2019-10-26           4680   \n",
       "18        4261     2019-10-26           4395   \n",
       "\n",
       "                                   customer_id_hashed class_code_id  \\\n",
       "11  c2b13c2b848338ed0995d38410cfbc099c4015607d348b...         34013   \n",
       "18  ab45b438d450bb4e982161fd42cbcef37e2db91711a985...         11002   \n",
       "\n",
       "   subclass_id    item_id item_transaction_units  item_transaction_amt  \n",
       "11           1  810433518                      1                  4.50  \n",
       "18           4  810446092                      1                  1.41  "
      ]
     },
     "execution_count": 44,
     "metadata": {},
     "output_type": "execute_result"
    }
   ],
   "source": [
    "df_week1_POS_redeemers.head(2)"
   ]
  },
  {
   "cell_type": "code",
   "execution_count": 68,
   "metadata": {},
   "outputs": [
    {
     "data": {
      "text/html": [
       "<div>\n",
       "<style scoped>\n",
       "    .dataframe tbody tr th:only-of-type {\n",
       "        vertical-align: middle;\n",
       "    }\n",
       "\n",
       "    .dataframe tbody tr th {\n",
       "        vertical-align: top;\n",
       "    }\n",
       "\n",
       "    .dataframe thead th {\n",
       "        text-align: right;\n",
       "    }\n",
       "</style>\n",
       "<table border=\"1\" class=\"dataframe\">\n",
       "  <thead>\n",
       "    <tr style=\"text-align: right;\">\n",
       "      <th></th>\n",
       "      <th>subclass_id</th>\n",
       "      <th>class_code_id</th>\n",
       "      <th>transaction_id</th>\n",
       "    </tr>\n",
       "  </thead>\n",
       "  <tbody>\n",
       "    <tr>\n",
       "      <th>106</th>\n",
       "      <td>4</td>\n",
       "      <td>55006</td>\n",
       "      <td>19800</td>\n",
       "    </tr>\n",
       "    <tr>\n",
       "      <th>127</th>\n",
       "      <td>7</td>\n",
       "      <td>55006</td>\n",
       "      <td>9778</td>\n",
       "    </tr>\n",
       "    <tr>\n",
       "      <th>69</th>\n",
       "      <td>2</td>\n",
       "      <td>55006</td>\n",
       "      <td>5442</td>\n",
       "    </tr>\n",
       "    <tr>\n",
       "      <th>124</th>\n",
       "      <td>7</td>\n",
       "      <td>11001</td>\n",
       "      <td>1568</td>\n",
       "    </tr>\n",
       "    <tr>\n",
       "      <th>129</th>\n",
       "      <td>8</td>\n",
       "      <td>11001</td>\n",
       "      <td>1295</td>\n",
       "    </tr>\n",
       "    <tr>\n",
       "      <th>123</th>\n",
       "      <td>6</td>\n",
       "      <td>55006</td>\n",
       "      <td>669</td>\n",
       "    </tr>\n",
       "    <tr>\n",
       "      <th>52</th>\n",
       "      <td>2</td>\n",
       "      <td>11001</td>\n",
       "      <td>144</td>\n",
       "    </tr>\n",
       "    <tr>\n",
       "      <th>128</th>\n",
       "      <td>709</td>\n",
       "      <td>71010</td>\n",
       "      <td>76</td>\n",
       "    </tr>\n",
       "    <tr>\n",
       "      <th>90</th>\n",
       "      <td>4</td>\n",
       "      <td>11002</td>\n",
       "      <td>43</td>\n",
       "    </tr>\n",
       "    <tr>\n",
       "      <th>138</th>\n",
       "      <td>9</td>\n",
       "      <td>60801</td>\n",
       "      <td>5</td>\n",
       "    </tr>\n",
       "  </tbody>\n",
       "</table>\n",
       "</div>"
      ],
      "text/plain": [
       "    subclass_id class_code_id  transaction_id\n",
       "106           4         55006           19800\n",
       "127           7         55006            9778\n",
       "69            2         55006            5442\n",
       "124           7         11001            1568\n",
       "129           8         11001            1295\n",
       "123           6         55006             669\n",
       "52            2         11001             144\n",
       "128         709         71010              76\n",
       "90            4         11002              43\n",
       "138           9         60801               5"
      ]
     },
     "execution_count": 68,
     "metadata": {},
     "output_type": "execute_result"
    }
   ],
   "source": [
    "df_qc=df_week1_POS_redeemers[df_week1_POS_redeemers['item_transaction_amt']==0]\n",
    "df_qc=df_qc[['location_id','transaction_dt','transaction_id','subclass_id','class_code_id']].drop_duplicates()\n",
    "df_qc=df_qc.groupby(['subclass_id','class_code_id'])['transaction_id'].count().to_frame().reset_index().sort_values(\"transaction_id\",ascending=False)\n",
    "\n",
    "df_qc.head(10)"
   ]
  },
  {
   "cell_type": "code",
   "execution_count": 69,
   "metadata": {},
   "outputs": [],
   "source": [
    "subclass_name=pd.read_csv(\"/home/jian/BigLots/static_files/ProductTaxonomy/MediaStormProductTaxonomy20191201-133313-648.txt\",\n",
    "                         dtype=str,sep=\"|\").drop_duplicates()"
   ]
  },
  {
   "cell_type": "code",
   "execution_count": 71,
   "metadata": {},
   "outputs": [
    {
     "data": {
      "text/html": [
       "<div>\n",
       "<style scoped>\n",
       "    .dataframe tbody tr th:only-of-type {\n",
       "        vertical-align: middle;\n",
       "    }\n",
       "\n",
       "    .dataframe tbody tr th {\n",
       "        vertical-align: top;\n",
       "    }\n",
       "\n",
       "    .dataframe thead th {\n",
       "        text-align: right;\n",
       "    }\n",
       "</style>\n",
       "<table border=\"1\" class=\"dataframe\">\n",
       "  <thead>\n",
       "    <tr style=\"text-align: right;\">\n",
       "      <th></th>\n",
       "      <th>division_id</th>\n",
       "      <th>department_id</th>\n",
       "      <th>class_code_id</th>\n",
       "      <th>subclass_id</th>\n",
       "      <th>subclass_desc</th>\n",
       "    </tr>\n",
       "  </thead>\n",
       "  <tbody>\n",
       "    <tr>\n",
       "      <th>2184</th>\n",
       "      <td>6</td>\n",
       "      <td>550</td>\n",
       "      <td>55006</td>\n",
       "      <td>2</td>\n",
       "      <td>$3 DVDS</td>\n",
       "    </tr>\n",
       "    <tr>\n",
       "      <th>2185</th>\n",
       "      <td>6</td>\n",
       "      <td>550</td>\n",
       "      <td>55006</td>\n",
       "      <td>4</td>\n",
       "      <td>$5 DVD'S</td>\n",
       "    </tr>\n",
       "    <tr>\n",
       "      <th>2186</th>\n",
       "      <td>6</td>\n",
       "      <td>550</td>\n",
       "      <td>55006</td>\n",
       "      <td>6</td>\n",
       "      <td>TV ON DVD</td>\n",
       "    </tr>\n",
       "    <tr>\n",
       "      <th>2187</th>\n",
       "      <td>6</td>\n",
       "      <td>550</td>\n",
       "      <td>55006</td>\n",
       "      <td>999</td>\n",
       "      <td>Finance Use Only</td>\n",
       "    </tr>\n",
       "    <tr>\n",
       "      <th>2657</th>\n",
       "      <td>6</td>\n",
       "      <td>550</td>\n",
       "      <td>55006</td>\n",
       "      <td>1</td>\n",
       "      <td>Audio</td>\n",
       "    </tr>\n",
       "    <tr>\n",
       "      <th>2658</th>\n",
       "      <td>6</td>\n",
       "      <td>550</td>\n",
       "      <td>55006</td>\n",
       "      <td>3</td>\n",
       "      <td>$8 DVDS</td>\n",
       "    </tr>\n",
       "    <tr>\n",
       "      <th>2659</th>\n",
       "      <td>6</td>\n",
       "      <td>550</td>\n",
       "      <td>55006</td>\n",
       "      <td>5</td>\n",
       "      <td>Video Games</td>\n",
       "    </tr>\n",
       "    <tr>\n",
       "      <th>2660</th>\n",
       "      <td>6</td>\n",
       "      <td>550</td>\n",
       "      <td>55006</td>\n",
       "      <td>7</td>\n",
       "      <td>PROMO DVDS</td>\n",
       "    </tr>\n",
       "  </tbody>\n",
       "</table>\n",
       "</div>"
      ],
      "text/plain": [
       "     division_id department_id class_code_id subclass_id     subclass_desc\n",
       "2184           6           550         55006           2           $3 DVDS\n",
       "2185           6           550         55006           4          $5 DVD'S\n",
       "2186           6           550         55006           6         TV ON DVD\n",
       "2187           6           550         55006         999  Finance Use Only\n",
       "2657           6           550         55006           1             Audio\n",
       "2658           6           550         55006           3           $8 DVDS\n",
       "2659           6           550         55006           5       Video Games\n",
       "2660           6           550         55006           7        PROMO DVDS"
      ]
     },
     "execution_count": 71,
     "metadata": {},
     "output_type": "execute_result"
    }
   ],
   "source": [
    "subclass_name[subclass_name['class_code_id']==\"55006\"]"
   ]
  },
  {
   "cell_type": "code",
   "execution_count": null,
   "metadata": {
    "collapsed": true
   },
   "outputs": [],
   "source": []
  }
 ],
 "metadata": {
  "kernelspec": {
   "display_name": "Python 3",
   "language": "python",
   "name": "python3"
  },
  "language_info": {
   "codemirror_mode": {
    "name": "ipython",
    "version": 3
   },
   "file_extension": ".py",
   "mimetype": "text/x-python",
   "name": "python",
   "nbconvert_exporter": "python",
   "pygments_lexer": "ipython3",
   "version": "3.6.1"
  }
 },
 "nbformat": 4,
 "nbformat_minor": 2
}
