{
 "cells": [
  {
   "cell_type": "code",
   "execution_count": 1,
   "metadata": {
    "collapsed": true
   },
   "outputs": [],
   "source": [
    "import pandas as pd"
   ]
  },
  {
   "cell_type": "code",
   "execution_count": 2,
   "metadata": {
    "collapsed": true
   },
   "outputs": [],
   "source": [
    "store_list_1C=pd.read_excel(\"/home/jian/Projects/Big_Lots/New_TA/Store_Level_Zip_Selection/Test_Stores_1C_2C_Aug.xlsx\",sheetname=\"1C\",dtype=str)\n",
    "store_list_2C=pd.read_excel(\"/home/jian/Projects/Big_Lots/New_TA/Store_Level_Zip_Selection/Test_Stores_1C_2C_Aug.xlsx\",sheetname=\"2C\",dtype=str)\n",
    "store_list_1C=store_list_1C['location_id'].unique().tolist()\n",
    "store_list_2C=store_list_2C['location_id'].unique().tolist()"
   ]
  },
  {
   "cell_type": "code",
   "execution_count": 3,
   "metadata": {
    "collapsed": true
   },
   "outputs": [],
   "source": [
    "store_level_zips=pd.read_csv(\"/home/jian/Projects/Big_Lots/New_TA/zips_in_new_ta/sales_by_zip (Store level).csv\",dtype=str)\n",
    "store_level_zips['zip_cd']=store_level_zips['zip'].apply(lambda x: str(x).zfill(5))\n",
    "store_level_zips['net_transaction_amt']=store_level_zips['net_transaction_amt'].astype(float)"
   ]
  },
  {
   "cell_type": "markdown",
   "metadata": {},
   "source": [
    "# 1C"
   ]
  },
  {
   "cell_type": "code",
   "execution_count": 4,
   "metadata": {},
   "outputs": [
    {
     "data": {
      "text/plain": [
       "(20391, 7)"
      ]
     },
     "execution_count": 4,
     "metadata": {},
     "output_type": "execute_result"
    }
   ],
   "source": [
    "df_agg_1C=store_level_zips[store_level_zips['location_id'].isin(store_list_1C)]\n",
    "df_agg_1C.shape"
   ]
  },
  {
   "cell_type": "code",
   "execution_count": 5,
   "metadata": {
    "collapsed": true
   },
   "outputs": [],
   "source": [
    "df_agg_1C_output=pd.DataFrame()\n",
    "for zip_cd,group in df_agg_1C.groupby(['zip_cd']):\n",
    "    \n",
    "    if \"P\" in group['revenue_flag'].tolist():\n",
    "        label=\"P\"\n",
    "    elif \"S\" in group['revenue_flag'].tolist():\n",
    "        label=\"S\"\n",
    "    elif \"T\" in group['revenue_flag'].tolist():\n",
    "        label=\"T\"\n",
    "    df=pd.DataFrame({\"zip_cd\":zip_cd,\"revenue_flag\":label},index=[zip_cd])\n",
    "    df_agg_1C_output=df_agg_1C_output.append(df)\n",
    "df_agg_1C_output=df_agg_1C_output.sort_values('revenue_flag')"
   ]
  },
  {
   "cell_type": "code",
   "execution_count": 6,
   "metadata": {
    "collapsed": true
   },
   "outputs": [],
   "source": [
    "writer=pd.ExcelWriter(\"/home/jian/Projects/Big_Lots/New_TA/Store_Level_Zip_Selection/Aug_Test_1C_zips_by_store.xlsx\",engine=\"xlsxwriter\")\n",
    "df_agg_1C_output.to_excel(writer,\"1C_deduplicated_zips\",index=False)\n",
    "\n",
    "for store in store_list_1C:\n",
    "    df=store_level_zips[store_level_zips['location_id']==store][['net_transaction_amt','location_id','zip_cd','revenue_flag']]\n",
    "    df=df.sort_values('net_transaction_amt',ascending=False)\n",
    "    df.to_excel(writer,str(store),index=False)\n",
    "\n",
    "writer.save()"
   ]
  },
  {
   "cell_type": "markdown",
   "metadata": {},
   "source": [
    "# 2C"
   ]
  },
  {
   "cell_type": "code",
   "execution_count": 7,
   "metadata": {},
   "outputs": [
    {
     "data": {
      "text/plain": [
       "(25520, 7)"
      ]
     },
     "execution_count": 7,
     "metadata": {},
     "output_type": "execute_result"
    }
   ],
   "source": [
    "df_agg_2C=store_level_zips[store_level_zips['location_id'].isin(store_list_2C)]\n",
    "df_agg_2C.shape"
   ]
  },
  {
   "cell_type": "code",
   "execution_count": 8,
   "metadata": {
    "collapsed": true
   },
   "outputs": [],
   "source": [
    "df_agg_2C_output=pd.DataFrame()\n",
    "for zip_cd,group in df_agg_2C.groupby(['zip_cd']):\n",
    "    \n",
    "    if \"P\" in group['revenue_flag'].tolist():\n",
    "        label=\"P\"\n",
    "    elif \"S\" in group['revenue_flag'].tolist():\n",
    "        label=\"S\"\n",
    "    elif \"T\" in group['revenue_flag'].tolist():\n",
    "        label=\"T\"\n",
    "    df=pd.DataFrame({\"zip_cd\":zip_cd,\"revenue_flag\":label},index=[zip_cd])\n",
    "    df_agg_2C_output=df_agg_2C_output.append(df)\n",
    "df_agg_2C_output=df_agg_2C_output.sort_values('revenue_flag')"
   ]
  },
  {
   "cell_type": "code",
   "execution_count": 9,
   "metadata": {
    "collapsed": true
   },
   "outputs": [],
   "source": [
    "writer=pd.ExcelWriter(\"/home/jian/Projects/Big_Lots/New_TA/Store_Level_Zip_Selection/Aug_Test_2C_zips_by_store.xlsx\",engine=\"xlsxwriter\")\n",
    "df_agg_2C_output.to_excel(writer,\"2C_deduplicated_zips\",index=False)\n",
    "\n",
    "for store in store_list_2C:\n",
    "    df=store_level_zips[store_level_zips['location_id']==store][['net_transaction_amt','location_id','zip_cd','revenue_flag']]\n",
    "    df=df.sort_values('net_transaction_amt',ascending=False)\n",
    "    df.to_excel(writer,str(store),index=False)\n",
    "\n",
    "writer.save()"
   ]
  },
  {
   "cell_type": "markdown",
   "metadata": {},
   "source": [
    "# Both"
   ]
  },
  {
   "cell_type": "code",
   "execution_count": 10,
   "metadata": {
    "collapsed": true
   },
   "outputs": [],
   "source": [
    "writer=pd.ExcelWriter(\"/home/jian/Projects/Big_Lots/New_TA/Store_Level_Zip_Selection/BL_Circ_Test_2C_and_1C_zips_by_store_JL_20180822.xlsx\",engine=\"xlsxwriter\")\n",
    "df_agg_1C_output.to_excel(writer,\"1C\",index=False)\n",
    "df_agg_2C_output.to_excel(writer,\"2C\",index=False)\n",
    "writer.save()"
   ]
  }
 ],
 "metadata": {
  "kernelspec": {
   "display_name": "Python 3",
   "language": "python",
   "name": "python3"
  },
  "language_info": {
   "codemirror_mode": {
    "name": "ipython",
    "version": 3
   },
   "file_extension": ".py",
   "mimetype": "text/x-python",
   "name": "python",
   "nbconvert_exporter": "python",
   "pygments_lexer": "ipython3",
   "version": "3.6.1"
  }
 },
 "nbformat": 4,
 "nbformat_minor": 2
}
