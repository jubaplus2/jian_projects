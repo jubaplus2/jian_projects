{
 "cells": [
  {
   "cell_type": "code",
   "execution_count": 1,
   "metadata": {},
   "outputs": [
    {
     "data": {
      "text/plain": [
       "'/home/jian/Projects/Big_Lots/Analysis/2019_Q2/Big_Lots_2019Q2_DCM_Frequency/mapping_GID_IDL'"
      ]
     },
     "execution_count": 1,
     "metadata": {},
     "output_type": "execute_result"
    }
   ],
   "source": [
    "import pandas as pd\n",
    "import numpy as np\n",
    "import datetime\n",
    "import paramiko\n",
    "import os\n",
    "\n",
    "os.getcwd()"
   ]
  },
  {
   "cell_type": "code",
   "execution_count": 2,
   "metadata": {
    "collapsed": true
   },
   "outputs": [],
   "source": [
    "host = \"64.237.51.251\" #hard-coded\n",
    "port = 22\n",
    "transport = paramiko.Transport((host, port))\n",
    "\n",
    "password = \"jian@juba2017\" #hard-coded\n",
    "username = \"jian\" #hard-coded\n",
    "transport.connect(username = username, password = password)\n",
    "sftp = paramiko.SFTPClient.from_transport(transport)"
   ]
  },
  {
   "cell_type": "code",
   "execution_count": 4,
   "metadata": {},
   "outputs": [],
   "source": [
    "remote_path=\"/mnt/drv5/lr_biglots_data/download_logs/others/CL_BigLots_BL_mapping_file_2019Q1_JL_2019-05-14_20190516_111931_0000.psv.gz\"\n",
    "local_path='/home/jian/Projects/Big_Lots/Analysis/2019_Q2/Big_Lots_2019Q2_DCM_Frequency/mapping_2019Q1_BL_LR/CL_BigLots_BL_mapping_file_2019Q1_JL_2019-05-14_20190516_111931_0000.psv.gz'\n",
    "sftp.get(remote_path,local_path)\n",
    "sftp.close()\n",
    "transport.close()"
   ]
  },
  {
   "cell_type": "code",
   "execution_count": null,
   "metadata": {
    "collapsed": true
   },
   "outputs": [],
   "source": []
  },
  {
   "cell_type": "code",
   "execution_count": null,
   "metadata": {
    "collapsed": true
   },
   "outputs": [],
   "source": []
  },
  {
   "cell_type": "code",
   "execution_count": null,
   "metadata": {
    "collapsed": true
   },
   "outputs": [],
   "source": []
  },
  {
   "cell_type": "code",
   "execution_count": null,
   "metadata": {
    "collapsed": true
   },
   "outputs": [],
   "source": []
  },
  {
   "cell_type": "code",
   "execution_count": null,
   "metadata": {
    "collapsed": true
   },
   "outputs": [],
   "source": []
  },
  {
   "cell_type": "code",
   "execution_count": null,
   "metadata": {
    "collapsed": true
   },
   "outputs": [],
   "source": []
  },
  {
   "cell_type": "code",
   "execution_count": 3,
   "metadata": {},
   "outputs": [
    {
     "data": {
      "text/plain": [
       "['BL_merged_mapping_both_20190203_20190623_JL_2019-06-29.csv',\n",
       " 'BL_merged_mapping_click_20190203_20190623_JL_2019-06-29.csv',\n",
       " 'BL_merged_mapping_impr_20190203_20190623_JL_2019-06-29.csv']"
      ]
     },
     "execution_count": 3,
     "metadata": {},
     "output_type": "execute_result"
    }
   ],
   "source": [
    "remote_file_list=sftp.listdir(\"/mnt/drv5/jian/Big_Lots/BL_Frequency_2019Q2/output_GID_IDL/\")\n",
    "remote_file_list"
   ]
  },
  {
   "cell_type": "code",
   "execution_count": 4,
   "metadata": {
    "collapsed": true
   },
   "outputs": [],
   "source": [
    "for remote_base_name in remote_file_list:\n",
    "    remote_path=\"/mnt/drv5/jian/Big_Lots/BL_Frequency_2019Q2/output_GID_IDL/\"+remote_base_name\n",
    "    local_path='/home/jian/Projects/Big_Lots/Analysis/2019_Q2/Big_Lots_2019Q2_DCM_Frequency/mapping_GID_IDL/'+remote_base_name\n",
    "    sftp.get(remote_path,local_path)\n",
    "sftp.close()\n",
    "transport.close()"
   ]
  },
  {
   "cell_type": "code",
   "execution_count": null,
   "metadata": {
    "collapsed": true
   },
   "outputs": [],
   "source": []
  }
 ],
 "metadata": {
  "kernelspec": {
   "display_name": "Python 3",
   "language": "python",
   "name": "python3"
  },
  "language_info": {
   "codemirror_mode": {
    "name": "ipython",
    "version": 3
   },
   "file_extension": ".py",
   "mimetype": "text/x-python",
   "name": "python",
   "nbconvert_exporter": "python",
   "pygments_lexer": "ipython3",
   "version": "3.6.1"
  }
 },
 "nbformat": 4,
 "nbformat_minor": 2
}
