{
 "cells": [
  {
   "cell_type": "code",
   "execution_count": 1,
   "metadata": {
    "collapsed": true
   },
   "outputs": [],
   "source": [
    "import pandas as pd\n",
    "import numpy as np\n",
    "import datetime\n",
    "import os\n"
   ]
  },
  {
   "cell_type": "code",
   "execution_count": 2,
   "metadata": {},
   "outputs": [
    {
     "data": {
      "text/plain": [
       "1"
      ]
     },
     "execution_count": 2,
     "metadata": {},
     "output_type": "execute_result"
    }
   ],
   "source": [
    "datetime.datetime.now().date().weekday()"
   ]
  },
  {
   "cell_type": "code",
   "execution_count": 3,
   "metadata": {},
   "outputs": [
    {
     "data": {
      "text/plain": [
       "datetime.date(2019, 6, 1)"
      ]
     },
     "execution_count": 3,
     "metadata": {},
     "output_type": "execute_result"
    }
   ],
   "source": [
    "def recursive_file_gen(root_path):\n",
    "    for root, dirs, files in os.walk(root_path):\n",
    "        for file in files:\n",
    "            yield os.path.join(root,file)\n",
    "            \n",
    "last_sturday = (datetime.datetime.now()-datetime.timedelta(days=(datetime.datetime.now().weekday()+2))).date()\n",
    "last_sturday"
   ]
  },
  {
   "cell_type": "code",
   "execution_count": 4,
   "metadata": {},
   "outputs": [
    {
     "name": "stdout",
     "output_type": "stream",
     "text": [
      "Year 2019\n",
      "Quarter 2\n",
      "2019_Q2\n",
      "current_week 4\n"
     ]
    }
   ],
   "source": [
    "last_day_of_2018Q4=datetime.date(2019,2,2)\n",
    "\n",
    "year_of_quarter=(last_sturday-last_day_of_2018Q4).days/(52*7)\n",
    "year_of_quarter=str(int(2019+np.floor(year_of_quarter)))\n",
    "print(\"Year\",year_of_quarter)\n",
    "\n",
    "\n",
    "quarter_of_quarter=(last_sturday-last_day_of_2018Q4).days/7\n",
    "quarter_of_quarter=np.floor(quarter_of_quarter/13)%4\n",
    "quarter_of_quarter=str(int(1+quarter_of_quarter))\n",
    "print(\"Quarter\",quarter_of_quarter)\n",
    "\n",
    "str_current_quarter=year_of_quarter+\"_Q\"+quarter_of_quarter\n",
    "\n",
    "print(str_current_quarter)\n",
    "\n",
    "current_week=int((last_sturday-last_day_of_2018Q4).days/7%13)\n",
    "print(\"current_week\",current_week)"
   ]
  },
  {
   "cell_type": "code",
   "execution_count": 5,
   "metadata": {},
   "outputs": [
    {
     "name": "stdout",
     "output_type": "stream",
     "text": [
      "current_quarter_beginning 2019-05-05\n",
      "year_start 2019-01-01\n"
     ]
    }
   ],
   "source": [
    "current_quarter_beginning=last_day_of_2018Q4+datetime.timedelta(days=(int(year_of_quarter)-2019)*52*7+\\\n",
    "                                                                (int(quarter_of_quarter)-1)*13*7+1)\n",
    "year_start=datetime.date(last_sturday.year,1,1)  \n",
    "\n",
    "print(\"current_quarter_beginning\",current_quarter_beginning)\n",
    "print(\"year_start\",year_start)"
   ]
  },
  {
   "cell_type": "code",
   "execution_count": null,
   "metadata": {
    "collapsed": true
   },
   "outputs": [],
   "source": []
  },
  {
   "cell_type": "code",
   "execution_count": 6,
   "metadata": {},
   "outputs": [
    {
     "data": {
      "text/plain": [
       "(20, 2)"
      ]
     },
     "execution_count": 6,
     "metadata": {},
     "output_type": "execute_result"
    }
   ],
   "source": [
    "all_2019_new_sign_ups=list(recursive_file_gen(\"/home/jian/BigLots/\"))\n",
    "all_2019_new_sign_ups=[x for x in all_2019_new_sign_ups if \"aster\" in x]\n",
    "all_2019_new_sign_ups=[x for x in all_2019_new_sign_ups if \"MediaStorm_\"+str(last_sturday.year) in x]\n",
    "\n",
    "df_all_2019_new_sign_ups=pd.DataFrame({\"file_path\":all_2019_new_sign_ups})\n",
    "df_all_2019_new_sign_ups['week_end_dt']=df_all_2019_new_sign_ups['file_path'].apply(lambda x: x.split(\"/MediaStorm_\")[1][:10])\n",
    "df_all_2019_new_sign_ups=df_all_2019_new_sign_ups.sort_values(\"week_end_dt\",ascending=True)\n",
    "\n",
    "df_all_2019_new_sign_ups.shape"
   ]
  },
  {
   "cell_type": "code",
   "execution_count": 7,
   "metadata": {},
   "outputs": [
    {
     "data": {
      "text/plain": [
       "(22, 2)"
      ]
     },
     "execution_count": 7,
     "metadata": {},
     "output_type": "execute_result"
    }
   ],
   "source": [
    "all_2019_daily_sales=list(recursive_file_gen(\"/home/jian/BigLots/\"))\n",
    "all_2019_daily_sales=[x for x in all_2019_daily_sales if \"aily\" in x]\n",
    "all_2019_daily_sales=[x for x in all_2019_daily_sales if \"MediaStorm_\"+str(last_sturday.year) in x]\n",
    "\n",
    "df_all_2019_daily_sales=pd.DataFrame({\"file_path\":all_2019_daily_sales})\n",
    "df_all_2019_daily_sales['week_end_dt']=df_all_2019_daily_sales['file_path'].apply(lambda x: x.split(\"/MediaStorm_\")[1][:10])\n",
    "df_all_2019_daily_sales=df_all_2019_daily_sales.sort_values(\"week_end_dt\",ascending=True)\n",
    "\n",
    "df_all_2019_daily_sales.shape"
   ]
  },
  {
   "cell_type": "code",
   "execution_count": 8,
   "metadata": {
    "collapsed": true
   },
   "outputs": [],
   "source": [
    "df_cum_new_rewards_year=pd.DataFrame()\n",
    "df_cum_new_rewards_quarter=pd.DataFrame()\n",
    "\n",
    "for file_new_sign_ups in df_all_2019_new_sign_ups['file_path'].tolist():\n",
    "    df=pd.read_csv(file_new_sign_ups,dtype=str,sep=\"|\",usecols=['customer_id_hashed','sign_up_date'])\n",
    "    df=df[df['sign_up_date'].apply(lambda x: x[:4]==str(last_sturday.year))]\n",
    "    df_cum_new_rewards_year=df_cum_new_rewards_year.append(df)\n",
    "    \n",
    "    df=df[df['sign_up_date']>=str(current_quarter_beginning)]\n",
    "    df_cum_new_rewards_quarter=df_cum_new_rewards_quarter.append(df)\n",
    "    \n",
    "df_new_rewards_week=df.copy()\n"
   ]
  },
  {
   "cell_type": "code",
   "execution_count": 9,
   "metadata": {},
   "outputs": [
    {
     "name": "stdout",
     "output_type": "stream",
     "text": [
      "1 2019-06-04 16:37:13.053779\n",
      "6 2019-06-04 16:40:53.016194\n",
      "11 2019-06-04 16:45:19.419553\n",
      "16 2019-06-04 16:48:59.703033\n",
      "21 2019-06-04 16:51:52.266709\n"
     ]
    }
   ],
   "source": [
    "# Rewards Only\n",
    "\n",
    "df_cum_daily_sales_year=pd.DataFrame()\n",
    "df_cum_daily_sales_quarter=pd.DataFrame()\n",
    "\n",
    "i_counter=0\n",
    "for file_daily_sales in df_all_2019_daily_sales['file_path'].tolist():\n",
    "    df=pd.read_csv(file_daily_sales,dtype=str,sep=\"|\",usecols=['customer_id_hashed','transaction_dt']).drop_duplicates()\n",
    "    df=df[pd.notnull(df['customer_id_hashed'])]\n",
    "    df=df[df['transaction_dt'].apply(lambda x: x[:4]==str(last_sturday.year))]\n",
    "    df_cum_daily_sales_year=df_cum_daily_sales_year.append(df)\n",
    "    del df_cum_daily_sales_year['transaction_dt']\n",
    "    \n",
    "    df=df[df['transaction_dt']>=str(current_quarter_beginning)]\n",
    "    df_cum_daily_sales_quarter=df_cum_daily_sales_quarter.append(df)\n",
    "    del df_cum_daily_sales_quarter['transaction_dt']\n",
    "    i_counter+=1\n",
    "    \n",
    "    if i_counter%5==1:\n",
    "        print(i_counter,datetime.datetime.now())\n",
    "df_cum_daily_sales_year=df_cum_daily_sales_year.drop_duplicates()\n",
    "df_cum_daily_sales_quarter=df_cum_daily_sales_quarter.drop_duplicates()\n",
    "\n",
    "df_daily_sales_week=df[['customer_id_hashed']].drop_duplicates()\n"
   ]
  },
  {
   "cell_type": "code",
   "execution_count": 10,
   "metadata": {},
   "outputs": [
    {
     "data": {
      "text/html": [
       "<div>\n",
       "<style>\n",
       "    .dataframe thead tr:only-child th {\n",
       "        text-align: right;\n",
       "    }\n",
       "\n",
       "    .dataframe thead th {\n",
       "        text-align: left;\n",
       "    }\n",
       "\n",
       "    .dataframe tbody tr th {\n",
       "        vertical-align: top;\n",
       "    }\n",
       "</style>\n",
       "<table border=\"1\" class=\"dataframe\">\n",
       "  <thead>\n",
       "    <tr style=\"text-align: right;\">\n",
       "      <th></th>\n",
       "      <th>customer_id_hashed</th>\n",
       "    </tr>\n",
       "  </thead>\n",
       "  <tbody>\n",
       "    <tr>\n",
       "      <th>0</th>\n",
       "      <td>3ea01138bc00e68a5115a81574bcfbc5d30e407ea9f954...</td>\n",
       "    </tr>\n",
       "    <tr>\n",
       "      <th>1</th>\n",
       "      <td>aff71f09a856d7a5aba235ec3b4d9d43cd3815275c1eda...</td>\n",
       "    </tr>\n",
       "  </tbody>\n",
       "</table>\n",
       "</div>"
      ],
      "text/plain": [
       "                                  customer_id_hashed\n",
       "0  3ea01138bc00e68a5115a81574bcfbc5d30e407ea9f954...\n",
       "1  aff71f09a856d7a5aba235ec3b4d9d43cd3815275c1eda..."
      ]
     },
     "execution_count": 10,
     "metadata": {},
     "output_type": "execute_result"
    }
   ],
   "source": [
    "df_cum_daily_sales_quarter.head(2)"
   ]
  },
  {
   "cell_type": "code",
   "execution_count": 11,
   "metadata": {
    "collapsed": true
   },
   "outputs": [],
   "source": [
    "df_cum_daily_sales_year['Shoppers']=\"Purchased\"\n",
    "df_cum_daily_sales_quarter['Shoppers']=\"Purchased\"\n",
    "df_daily_sales_week['Shoppers']=\"Purchased\"\n",
    "\n",
    "df_cum_new_rewards_year=pd.merge(df_cum_new_rewards_year,df_cum_daily_sales_year,on=\"customer_id_hashed\",how=\"left\")\n",
    "df_cum_new_rewards_quarter=pd.merge(df_cum_new_rewards_quarter,df_cum_daily_sales_quarter,on=\"customer_id_hashed\",how=\"left\")\n",
    "df_new_rewards_week=pd.merge(df_new_rewards_week,df_daily_sales_week,on=\"customer_id_hashed\",how=\"left\")\n"
   ]
  },
  {
   "cell_type": "code",
   "execution_count": 12,
   "metadata": {
    "collapsed": true
   },
   "outputs": [],
   "source": [
    "week_end_dt=str(last_sturday)\n",
    "\n",
    "rewards_shoppers_in_week=df_daily_sales_week.shape[0]\n",
    "rewards_shoppers_cum_quarter=df_cum_daily_sales_quarter.shape[0]\n",
    "rewards_shoppers_cum_year=df_cum_daily_sales_year.shape[0]\n",
    "\n",
    "new_sign_ups_cum_year=df_cum_new_rewards_year.shape[0]\n",
    "new_signed_shoppers_cum_year=df_cum_new_rewards_year[pd.notnull(df_cum_new_rewards_year['Shoppers'])].shape[0]\n",
    "\n",
    "new_sign_ups_cum_quarter=df_cum_new_rewards_quarter.shape[0]\n",
    "new_signed_shoppers_cum_quarter=df_cum_new_rewards_quarter[pd.notnull(df_cum_new_rewards_quarter['Shoppers'])].shape[0]\n",
    "\n",
    "new_signed_week=df_new_rewards_week.shape[0]\n",
    "new_signed_shoppers_week=df_new_rewards_week[pd.notnull(df_new_rewards_week['Shoppers'])].shape[0]\n",
    "\n",
    "date_begin_year=str(year_start)\n",
    "date_begin_quarter=str(current_quarter_beginning)\n",
    "Current_Quarter=str_current_quarter\n",
    "\n",
    "\n"
   ]
  },
  {
   "cell_type": "code",
   "execution_count": 13,
   "metadata": {
    "collapsed": true
   },
   "outputs": [],
   "source": [
    "df_output_this_week=pd.DataFrame({\"week_end_dt\":week_end_dt,\n",
    "                                 \"rewards_shoppers_in_week\":rewards_shoppers_in_week,\n",
    "                                 \"rewards_shoppers_cum_quarter\":rewards_shoppers_cum_quarter,\n",
    "                                 \"rewards_shoppers_cum_year\":rewards_shoppers_cum_year,\n",
    "                                 \"new_sign_ups_cum_year\":new_sign_ups_cum_year,\n",
    "                                 \"new_signed_shoppers_cum_year\":new_signed_shoppers_cum_year,\n",
    "                                 \"new_sign_ups_cum_quarter\":new_sign_ups_cum_quarter,\n",
    "                                 \"new_signed_shoppers_cum_quarter\":new_signed_shoppers_cum_quarter,\n",
    "                                 \"new_signed_week\":new_signed_week,\n",
    "                                 \"new_signed_shoppers_week\":new_signed_shoppers_week,\n",
    "                                 \"date_begin_year\":date_begin_year,\n",
    "                                 \"date_begin_quarter\":date_begin_quarter,\n",
    "                                 \"Current_Quarter\":Current_Quarter},index=[0])\n",
    "df_output_this_week=df_output_this_week[['week_end_dt','rewards_shoppers_in_week','rewards_shoppers_cum_quarter','rewards_shoppers_cum_year',\n",
    "                                        'new_sign_ups_cum_year','new_signed_shoppers_cum_year','new_sign_ups_cum_quarter','new_signed_shoppers_cum_quarter',\n",
    "                                        'new_signed_week','new_signed_shoppers_week','date_begin_year','date_begin_quarter','Current_Quarter']]"
   ]
  },
  {
   "cell_type": "code",
   "execution_count": 14,
   "metadata": {},
   "outputs": [
    {
     "data": {
      "text/plain": [
       "'2019-05-25'"
      ]
     },
     "execution_count": 14,
     "metadata": {},
     "output_type": "execute_result"
    }
   ],
   "source": [
    "previous_week_end_dt=(datetime.datetime.strptime(week_end_dt,\"%Y-%m-%d\")-datetime.timedelta(days=7)).date()\n",
    "previous_week_end_dt=str(previous_week_end_dt)\n",
    "previous_week_end_dt"
   ]
  },
  {
   "cell_type": "code",
   "execution_count": 15,
   "metadata": {},
   "outputs": [
    {
     "data": {
      "text/html": [
       "<div>\n",
       "<style>\n",
       "    .dataframe thead tr:only-child th {\n",
       "        text-align: right;\n",
       "    }\n",
       "\n",
       "    .dataframe thead th {\n",
       "        text-align: left;\n",
       "    }\n",
       "\n",
       "    .dataframe tbody tr th {\n",
       "        vertical-align: top;\n",
       "    }\n",
       "</style>\n",
       "<table border=\"1\" class=\"dataframe\">\n",
       "  <thead>\n",
       "    <tr style=\"text-align: right;\">\n",
       "      <th></th>\n",
       "      <th>week_end_dt</th>\n",
       "      <th>rewards_shoppers_in_week</th>\n",
       "      <th>rewards_shoppers_cum_quarter</th>\n",
       "      <th>rewards_shoppers_cum_year</th>\n",
       "      <th>new_sign_ups_cum_year</th>\n",
       "      <th>new_signed_shoppers_cum_year</th>\n",
       "      <th>new_sign_ups_cum_quarter</th>\n",
       "      <th>new_signed_shoppers_cum_quarter</th>\n",
       "      <th>new_signed_week</th>\n",
       "      <th>new_signed_shoppers_week</th>\n",
       "      <th>date_begin_year</th>\n",
       "      <th>date_begin_quarter</th>\n",
       "      <th>Current_Quarter</th>\n",
       "    </tr>\n",
       "  </thead>\n",
       "  <tbody>\n",
       "    <tr>\n",
       "      <th>0</th>\n",
       "      <td>2019-05-18</td>\n",
       "      <td>1129115</td>\n",
       "      <td>2094109</td>\n",
       "      <td>10518161</td>\n",
       "      <td>1601373</td>\n",
       "      <td>1581323</td>\n",
       "      <td>147779</td>\n",
       "      <td>145050</td>\n",
       "      <td>73460</td>\n",
       "      <td>71931</td>\n",
       "      <td>2019-01-01</td>\n",
       "      <td>2019-05-05</td>\n",
       "      <td>2019_Q2</td>\n",
       "    </tr>\n",
       "    <tr>\n",
       "      <th>1</th>\n",
       "      <td>2019-05-25</td>\n",
       "      <td>1251796</td>\n",
       "      <td>3001086</td>\n",
       "      <td>10851684</td>\n",
       "      <td>1686955</td>\n",
       "      <td>1665886</td>\n",
       "      <td>233361</td>\n",
       "      <td>229366</td>\n",
       "      <td>85582</td>\n",
       "      <td>84031</td>\n",
       "      <td>2019-01-01</td>\n",
       "      <td>2019-05-05</td>\n",
       "      <td>2019_Q2</td>\n",
       "    </tr>\n",
       "    <tr>\n",
       "      <th>0</th>\n",
       "      <td>2019-06-01</td>\n",
       "      <td>1251328</td>\n",
       "      <td>3801919</td>\n",
       "      <td>11179929</td>\n",
       "      <td>1773934</td>\n",
       "      <td>1751937</td>\n",
       "      <td>320340</td>\n",
       "      <td>315194</td>\n",
       "      <td>86979</td>\n",
       "      <td>85525</td>\n",
       "      <td>2019-01-01</td>\n",
       "      <td>2019-05-05</td>\n",
       "      <td>2019_Q2</td>\n",
       "    </tr>\n",
       "  </tbody>\n",
       "</table>\n",
       "</div>"
      ],
      "text/plain": [
       "  week_end_dt  rewards_shoppers_in_week  rewards_shoppers_cum_quarter  \\\n",
       "0  2019-05-18                   1129115                       2094109   \n",
       "1  2019-05-25                   1251796                       3001086   \n",
       "0  2019-06-01                   1251328                       3801919   \n",
       "\n",
       "   rewards_shoppers_cum_year  new_sign_ups_cum_year  \\\n",
       "0                   10518161                1601373   \n",
       "1                   10851684                1686955   \n",
       "0                   11179929                1773934   \n",
       "\n",
       "   new_signed_shoppers_cum_year  new_sign_ups_cum_quarter  \\\n",
       "0                       1581323                    147779   \n",
       "1                       1665886                    233361   \n",
       "0                       1751937                    320340   \n",
       "\n",
       "   new_signed_shoppers_cum_quarter  new_signed_week  new_signed_shoppers_week  \\\n",
       "0                           145050            73460                     71931   \n",
       "1                           229366            85582                     84031   \n",
       "0                           315194            86979                     85525   \n",
       "\n",
       "  date_begin_year date_begin_quarter Current_Quarter  \n",
       "0      2019-01-01         2019-05-05         2019_Q2  \n",
       "1      2019-01-01         2019-05-05         2019_Q2  \n",
       "0      2019-01-01         2019-05-05         2019_Q2  "
      ]
     },
     "execution_count": 15,
     "metadata": {},
     "output_type": "execute_result"
    }
   ],
   "source": [
    "df_output_previous_week=pd.read_csv(\"/home/simeng/outputs_\"+previous_week_end_dt+\"/\"+\"New_rewards_df_this_week_\"+previous_week_end_dt+\".csv\")\n",
    "\n",
    "cum_this_week_output=df_output_previous_week.append(df_output_this_week)               \n",
    "\n",
    "cum_this_week_output"
   ]
  },
  {
   "cell_type": "code",
   "execution_count": 16,
   "metadata": {
    "collapsed": true
   },
   "outputs": [],
   "source": [
    "cum_this_week_output.to_csv(\"/home/simeng/outputs_\"+week_end_dt+\"/\"+\"New_rewards_df_this_week_\"+week_end_dt+\".csv\",index=False)\n",
    "cum_this_week_output.to_csv(\"/home/jian/Projects/Big_Lots/Analysis/2019_Q2/Planner_Requests/JT_2_rolling_new_sign_ups_count/output_table_1/\"+\"New_rewards_df_this_week_\"+week_end_dt+\".csv\",index=False)\n"
   ]
  },
  {
   "cell_type": "code",
   "execution_count": 17,
   "metadata": {},
   "outputs": [
    {
     "data": {
      "text/html": [
       "<div>\n",
       "<style>\n",
       "    .dataframe thead tr:only-child th {\n",
       "        text-align: right;\n",
       "    }\n",
       "\n",
       "    .dataframe thead th {\n",
       "        text-align: left;\n",
       "    }\n",
       "\n",
       "    .dataframe tbody tr th {\n",
       "        vertical-align: top;\n",
       "    }\n",
       "</style>\n",
       "<table border=\"1\" class=\"dataframe\">\n",
       "  <thead>\n",
       "    <tr style=\"text-align: right;\">\n",
       "      <th></th>\n",
       "      <th>week_end_dt</th>\n",
       "      <th>rewards_shoppers_in_week</th>\n",
       "      <th>rewards_shoppers_cum_quarter</th>\n",
       "      <th>rewards_shoppers_cum_year</th>\n",
       "      <th>new_sign_ups_cum_year</th>\n",
       "      <th>new_signed_shoppers_cum_year</th>\n",
       "      <th>new_sign_ups_cum_quarter</th>\n",
       "      <th>new_signed_shoppers_cum_quarter</th>\n",
       "      <th>new_signed_week</th>\n",
       "      <th>new_signed_shoppers_week</th>\n",
       "      <th>date_begin_year</th>\n",
       "      <th>date_begin_quarter</th>\n",
       "      <th>Current_Quarter</th>\n",
       "    </tr>\n",
       "  </thead>\n",
       "  <tbody>\n",
       "    <tr>\n",
       "      <th>0</th>\n",
       "      <td>2019-05-18</td>\n",
       "      <td>1129115</td>\n",
       "      <td>2094109</td>\n",
       "      <td>10518161</td>\n",
       "      <td>1601373</td>\n",
       "      <td>1581323</td>\n",
       "      <td>147779</td>\n",
       "      <td>145050</td>\n",
       "      <td>73460</td>\n",
       "      <td>71931</td>\n",
       "      <td>2019-01-01</td>\n",
       "      <td>2019-05-05</td>\n",
       "      <td>2019_Q2</td>\n",
       "    </tr>\n",
       "    <tr>\n",
       "      <th>1</th>\n",
       "      <td>2019-05-25</td>\n",
       "      <td>1251796</td>\n",
       "      <td>3001086</td>\n",
       "      <td>10851684</td>\n",
       "      <td>1686955</td>\n",
       "      <td>1665886</td>\n",
       "      <td>233361</td>\n",
       "      <td>229366</td>\n",
       "      <td>85582</td>\n",
       "      <td>84031</td>\n",
       "      <td>2019-01-01</td>\n",
       "      <td>2019-05-05</td>\n",
       "      <td>2019_Q2</td>\n",
       "    </tr>\n",
       "    <tr>\n",
       "      <th>0</th>\n",
       "      <td>2019-06-01</td>\n",
       "      <td>1251328</td>\n",
       "      <td>3801919</td>\n",
       "      <td>11179929</td>\n",
       "      <td>1773934</td>\n",
       "      <td>1751937</td>\n",
       "      <td>320340</td>\n",
       "      <td>315194</td>\n",
       "      <td>86979</td>\n",
       "      <td>85525</td>\n",
       "      <td>2019-01-01</td>\n",
       "      <td>2019-05-05</td>\n",
       "      <td>2019_Q2</td>\n",
       "    </tr>\n",
       "  </tbody>\n",
       "</table>\n",
       "</div>"
      ],
      "text/plain": [
       "  week_end_dt  rewards_shoppers_in_week  rewards_shoppers_cum_quarter  \\\n",
       "0  2019-05-18                   1129115                       2094109   \n",
       "1  2019-05-25                   1251796                       3001086   \n",
       "0  2019-06-01                   1251328                       3801919   \n",
       "\n",
       "   rewards_shoppers_cum_year  new_sign_ups_cum_year  \\\n",
       "0                   10518161                1601373   \n",
       "1                   10851684                1686955   \n",
       "0                   11179929                1773934   \n",
       "\n",
       "   new_signed_shoppers_cum_year  new_sign_ups_cum_quarter  \\\n",
       "0                       1581323                    147779   \n",
       "1                       1665886                    233361   \n",
       "0                       1751937                    320340   \n",
       "\n",
       "   new_signed_shoppers_cum_quarter  new_signed_week  new_signed_shoppers_week  \\\n",
       "0                           145050            73460                     71931   \n",
       "1                           229366            85582                     84031   \n",
       "0                           315194            86979                     85525   \n",
       "\n",
       "  date_begin_year date_begin_quarter Current_Quarter  \n",
       "0      2019-01-01         2019-05-05         2019_Q2  \n",
       "1      2019-01-01         2019-05-05         2019_Q2  \n",
       "0      2019-01-01         2019-05-05         2019_Q2  "
      ]
     },
     "execution_count": 17,
     "metadata": {},
     "output_type": "execute_result"
    }
   ],
   "source": [
    "cum_this_week_output"
   ]
  },
  {
   "cell_type": "code",
   "execution_count": null,
   "metadata": {
    "collapsed": true
   },
   "outputs": [],
   "source": []
  }
 ],
 "metadata": {
  "kernelspec": {
   "display_name": "Python 3",
   "language": "python",
   "name": "python3"
  },
  "language_info": {
   "codemirror_mode": {
    "name": "ipython",
    "version": 3
   },
   "file_extension": ".py",
   "mimetype": "text/x-python",
   "name": "python",
   "nbconvert_exporter": "python",
   "pygments_lexer": "ipython3",
   "version": "3.6.1"
  }
 },
 "nbformat": 4,
 "nbformat_minor": 2
}
