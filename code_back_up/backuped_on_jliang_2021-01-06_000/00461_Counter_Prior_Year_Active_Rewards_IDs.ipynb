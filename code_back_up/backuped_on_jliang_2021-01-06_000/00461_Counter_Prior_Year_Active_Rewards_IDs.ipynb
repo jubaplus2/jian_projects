{
 "cells": [
  {
   "cell_type": "code",
   "execution_count": 1,
   "metadata": {},
   "outputs": [
    {
     "data": {
      "text/plain": [
       "'/home/jian/Projects/Big_Lots/Analysis/2019_Q2/ID_Migration'"
      ]
     },
     "execution_count": 1,
     "metadata": {},
     "output_type": "execute_result"
    }
   ],
   "source": [
    "import datetime\n",
    "import pandas as pd\n",
    "import os\n",
    "import numpy as np\n",
    "import glob\n",
    "\n",
    "os.getcwd()"
   ]
  },
  {
   "cell_type": "code",
   "execution_count": 2,
   "metadata": {
    "collapsed": true
   },
   "outputs": [],
   "source": [
    "def recursive_file_gen(root_path):\n",
    "    for root, dirs, files in os.walk(root_path):\n",
    "        for file in file:\n",
    "            yield os.path.join(root,file)\n"
   ]
  },
  {
   "cell_type": "code",
   "execution_count": 3,
   "metadata": {},
   "outputs": [
    {
     "name": "stdout",
     "output_type": "stream",
     "text": [
      "1 2019-05-20 10:57:52.449725\n",
      "2 2019-05-20 10:58:40.921403\n",
      "3 2019-05-20 10:59:17.990653\n",
      "4 2019-05-20 11:00:14.339865\n",
      "5 2019-05-20 11:00:57.265452\n",
      "6 2019-05-20 11:01:44.332685\n",
      "7 2019-05-20 11:02:29.923540\n",
      "8 2019-05-20 11:03:12.621100\n",
      "9 2019-05-20 11:03:42.866887\n",
      "10 2019-05-20 11:04:13.337456\n",
      "11 2019-05-20 11:04:44.038568\n",
      "12 2019-05-20 11:05:17.588390\n",
      "13 2019-05-20 11:05:51.871385\n",
      "14 2019-05-20 11:06:26.521830\n",
      "15 2019-05-20 11:06:58.613787\n",
      "min_date 2016-06-26\n",
      "max_date 2018-09-22\n"
     ]
    }
   ],
   "source": [
    "chunksize_num = 10**7\n",
    "filename='/home/jian/Projects/Big_Lots/Live_Ramp/Quarterly_Update_2019Q1/crm_newscore_0922/combinedtransactions_0922.csv'\n",
    "dftrans_before_20180922=pd.DataFrame()\n",
    "count_i=0\n",
    "\n",
    "for chunk in pd.read_csv(filename, chunksize=chunksize_num,dtype=str,usecols=['customer_id_hashed','transaction_date']):\n",
    "    chunk = chunk.drop_duplicates()\n",
    "    # chunk=chunk[chunk['transaction_date']>=str(lapsed_date_begin)]\n",
    "    dftrans_before_20180922=dftrans_before_20180922.append(chunk)\n",
    "    count_i+=1\n",
    "    print(count_i,datetime.datetime.now())\n",
    "dftrans_before_20180922=dftrans_before_20180922.drop_duplicates()    \n",
    "\n",
    "print(\"min_date\",dftrans_before_20180922['transaction_date'].min())\n",
    "print(\"max_date\",dftrans_before_20180922['transaction_date'].max())\n"
   ]
  },
  {
   "cell_type": "code",
   "execution_count": 4,
   "metadata": {},
   "outputs": [
    {
     "name": "stdout",
     "output_type": "stream",
     "text": [
      "min_date 2016-06-26\n",
      "max_date 2018-09-22\n"
     ]
    }
   ],
   "source": [
    "print(\"min_date\",dftrans_before_20180922['transaction_date'].min())\n",
    "print(\"max_date\",dftrans_before_20180922['transaction_date'].max())"
   ]
  },
  {
   "cell_type": "code",
   "execution_count": 7,
   "metadata": {},
   "outputs": [
    {
     "name": "stdout",
     "output_type": "stream",
     "text": [
      "2017-02-04\n",
      "2018-02-03\n",
      "2017-05-06\n",
      "2018-05-05\n"
     ]
    }
   ],
   "source": [
    "Quarter_Start_Date_2017_Q4=\"2017-11-05\"\n",
    "End_Date_2017_Q4=\"2018-02-03\"\n",
    "Year_Start_Date_2017_Q4=str((datetime.datetime.strptime(End_Date_2017_Q4,\"%Y-%m-%d\")-datetime.timedelta(days=364)).date())\n",
    "\n",
    "\n",
    "Start_Date_2018_Q1=\"2018-02-04\"\n",
    "End_Date_2018_Q1=\"2018-05-05\"\n",
    "Year_Start_Date_2018_Q1=str((datetime.datetime.strptime(End_Date_2018_Q1,\"%Y-%m-%d\")-datetime.timedelta(days=364)).date())\n",
    "\n",
    "print(Year_Start_Date_2017_Q4)\n",
    "print(End_Date_2017_Q4)\n",
    "\n",
    "print(Year_Start_Date_2018_Q1)\n",
    "print(End_Date_2018_Q1)"
   ]
  },
  {
   "cell_type": "code",
   "execution_count": 8,
   "metadata": {},
   "outputs": [
    {
     "data": {
      "text/html": [
       "<div>\n",
       "<style>\n",
       "    .dataframe thead tr:only-child th {\n",
       "        text-align: right;\n",
       "    }\n",
       "\n",
       "    .dataframe thead th {\n",
       "        text-align: left;\n",
       "    }\n",
       "\n",
       "    .dataframe tbody tr th {\n",
       "        vertical-align: top;\n",
       "    }\n",
       "</style>\n",
       "<table border=\"1\" class=\"dataframe\">\n",
       "  <thead>\n",
       "    <tr style=\"text-align: right;\">\n",
       "      <th></th>\n",
       "      <th>customer_id_hashed</th>\n",
       "      <th>transaction_date</th>\n",
       "    </tr>\n",
       "  </thead>\n",
       "  <tbody>\n",
       "    <tr>\n",
       "      <th>0</th>\n",
       "      <td>bc45d2747297addd8bcad579da77756b007d27cd634c71...</td>\n",
       "      <td>2018-03-20</td>\n",
       "    </tr>\n",
       "    <tr>\n",
       "      <th>1</th>\n",
       "      <td>f627e56e080cb699864d9c488345aee82c98fa66ebc2f2...</td>\n",
       "      <td>2018-03-10</td>\n",
       "    </tr>\n",
       "  </tbody>\n",
       "</table>\n",
       "</div>"
      ],
      "text/plain": [
       "                                  customer_id_hashed transaction_date\n",
       "0  bc45d2747297addd8bcad579da77756b007d27cd634c71...       2018-03-20\n",
       "1  f627e56e080cb699864d9c488345aee82c98fa66ebc2f2...       2018-03-10"
      ]
     },
     "execution_count": 8,
     "metadata": {},
     "output_type": "execute_result"
    }
   ],
   "source": [
    "dftrans_before_20180922.head(2)"
   ]
  },
  {
   "cell_type": "code",
   "execution_count": 9,
   "metadata": {},
   "outputs": [
    {
     "name": "stdout",
     "output_type": "stream",
     "text": [
      "End of 2017 Q4 - 12 Month active count ONLY: 14874345\n",
      "End of 2018 Q1 - 12 Month active count ONLY: 15262456\n"
     ]
    }
   ],
   "source": [
    "Act_count_2017Q4=dftrans_before_20180922[(dftrans_before_20180922['transaction_date']>=Year_Start_Date_2017_Q4) & (dftrans_before_20180922['transaction_date']<=End_Date_2017_Q4)]\n",
    "Act_count_2018Q1=dftrans_before_20180922[(dftrans_before_20180922['transaction_date']>=Year_Start_Date_2018_Q1) & (dftrans_before_20180922['transaction_date']<=End_Date_2018_Q1)]\n",
    "\n",
    "print(\"End of 2017 Q4 - 12 Month active count ONLY: \"+str(Act_count_2017Q4['customer_id_hashed'].nunique()))\n",
    "print(\"End of 2018 Q1 - 12 Month active count ONLY: \"+str(Act_count_2018Q1['customer_id_hashed'].nunique()))"
   ]
  },
  {
   "cell_type": "code",
   "execution_count": null,
   "metadata": {
    "collapsed": true
   },
   "outputs": [],
   "source": []
  }
 ],
 "metadata": {
  "kernelspec": {
   "display_name": "Python 3",
   "language": "python",
   "name": "python3"
  },
  "language_info": {
   "codemirror_mode": {
    "name": "ipython",
    "version": 3
   },
   "file_extension": ".py",
   "mimetype": "text/x-python",
   "name": "python",
   "nbconvert_exporter": "python",
   "pygments_lexer": "ipython3",
   "version": "3.6.1"
  }
 },
 "nbformat": 4,
 "nbformat_minor": 2
}
