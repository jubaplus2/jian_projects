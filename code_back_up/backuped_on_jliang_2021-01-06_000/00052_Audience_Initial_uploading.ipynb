{
 "cells": [
  {
   "cell_type": "code",
   "execution_count": 1,
   "metadata": {},
   "outputs": [],
   "source": [
    "from facebookads.adobjects.customaudience import CustomAudience\n",
    "from facebookads.adobjects.adaccount import AdAccount\n",
    "from facebookads.api import FacebookAdsApi\n",
    "import json\n",
    "import pandas as pd\n",
    "import os\n",
    "import datetime\n",
    "import numpy as np\n",
    "import glob\n",
    "import sqlalchemy\n",
    "\n",
    "dict_config=json.load(open(\"/mnt/clients/juba/hqjubaapp02/jliang/Projects/Big_Lots/Predictive_Model/Model_Scripts/config.json\"))\n",
    "high_date=dict_config['pos_end_date']\n",
    "username=dict_config['username']\n",
    "password=dict_config['password']\n",
    "database=dict_config['database']\n",
    "BL_engine=sqlalchemy.create_engine(\"mysql+pymysql://%s:%s@localhost/%s\" % (username, password, database))\n",
    "output_folder=dict_config['model_output_folder']\n",
    "\n",
    "\n",
    "BigLotsAccount_id=\"act_271491453638620\"\n",
    "BigLotsDcart10_id=\"act_2449979771956630\"\n",
    "\n",
    "list_account_id=[BigLotsAccount_id,BigLotsDcart10_id]\n",
    "# jian_APP_ID=\"2537704939796694\"# jian's fb marketing app id\n",
    "jian_token=json.load(open(\"/mnt/clients/juba/hqjubaapp02/sharefolder/Docs/FB_token/lasest_FB_token_jian.json\",\"r\"))['latest_FB_token']\n",
    "\n"
   ]
  },
  {
   "cell_type": "code",
   "execution_count": 3,
   "metadata": {},
   "outputs": [],
   "source": [
    "high_date=\"2020-12-19\" # The first audience output week\n",
    "\n",
    "df_id_email=pd.read_sql(\"select customer_id_hashed,email_address_hash from BL_Rewards_Master order by sign_up_date desc;\",con=BL_engine)\n",
    "df_id_email=df_id_email.drop_duplicates(\"customer_id_hashed\")\n"
   ]
  },
  {
   "cell_type": "code",
   "execution_count": 4,
   "metadata": {},
   "outputs": [],
   "source": [
    "# create new adueince and add the new users to the audiecne, 1 step\n",
    "# Please note the change of the CustomAudience.Schema (row 41 based on the user list format)\n",
    "def creatfbaudience(AudienceName,\n",
    "                    AudienceDescription,\n",
    "                    df,\n",
    "                    ACCESS_TOKEN,\n",
    "                    accountid,\n",
    "                    df_use_col_name,\n",
    "                    fb_schema=CustomAudience.Schema.email_hash):\n",
    "    FacebookAdsApi.init(access_token=ACCESS_TOKEN, api_version='v8.0')\n",
    "    \n",
    "    '''\n",
    "    AudienceName: str, the name shown on FB\n",
    "    AudienceDescription: str, the description shown on FB\n",
    "    df: pd.Dataframe, input with the identifier col\n",
    "    ACCESS_TOKEN: str, access to FB marketing api\n",
    "    accountid: str, account to uplaod\n",
    "    df_use_col_name: str, col name in the df\n",
    "    fb_schema: available schema attribution in the CustomAudience.Schema class. Default for us CustomAudience.Schema.email_hash  \n",
    "    https://github.com/facebook/facebook-python-business-sdk/blob/ac390147132101763a99a917bb59bdc8a374a7ce/facebook_business/adobjects/helpers/customaudiencemixin.py\n",
    "    '''\n",
    "    \n",
    "    myAccount = AdAccount(accountid)\n",
    "    fields = [\n",
    "    ]\n",
    "    params = {\n",
    "      'name': AudienceName,\n",
    "      'subtype': 'CUSTOM',\n",
    "      'description': AudienceDescription,\n",
    "      'customer_file_source': 'PARTNER_PROVIDED_ONLY',\n",
    "    }\n",
    "    fbname = myAccount.create_custom_audience(\n",
    "      fields=fields,\n",
    "      params=params,\n",
    "    )['id']\n",
    "    print(\"Audience ID:\",fbname)\n",
    "    audience = CustomAudience(fbname)\n",
    "    users = list(df[df_use_col_name])\n",
    "    listlen = len(users)\n",
    "    chunck_size=50000\n",
    "    count_uploaded=0\n",
    "    for i in range(int(np.ceil(listlen/chunck_size))):\n",
    "        starti = i*50000\n",
    "        if (i+1)*50000<listlen:\n",
    "            endi = (i+1)*50000\n",
    "        else:\n",
    "            endi = listlen\n",
    "        list0 = users[starti:endi]\n",
    "        \n",
    "        count_uploaded+=len(list0)\n",
    "        audience.add_users(fb_schema, list0)\n",
    "        #print len(list0)   \n",
    "    print(datetime.datetime.now(),AudienceName,\"uploaded\",count_uploaded)\n"
   ]
  },
  {
   "cell_type": "code",
   "execution_count": 17,
   "metadata": {},
   "outputs": [],
   "source": [
    "list_all_output_weekly_folder=os.listdir(output_folder)\n",
    "folder_weekly_output=[x for x in list_all_output_weekly_folder if \"output_LastWeek_NoDCM_%s\"%high_date in x]\n",
    "if len(folder_weekly_output)==1:\n",
    "    folder_weekly_output=output_folder+folder_weekly_output[0]\n",
    "    list_weekly_output=glob.glob(folder_weekly_output+\"/*.csv\")\n",
    "else:\n",
    "    raise ValueError(\"weekly output folder count is not 1\")\n"
   ]
  },
  {
   "cell_type": "code",
   "execution_count": 18,
   "metadata": {},
   "outputs": [],
   "source": [
    "def find_cutoff_from_outputs(key_df_type,weekly_output_folder):\n",
    "    # key_df_type: \"trans_1_only\" or \"trans_2_plus\" in the keys of dict_df_type\n",
    "    list_all_weekly_summary=glob.glob(weekly_output_folder+\"/*.xlsx\")\n",
    "    list_type_excel=[x for x in list_all_weekly_summary if key_df_type in x]\n",
    "    if len(list_type_excel)==1:\n",
    "        file=list_type_excel[0]\n",
    "    else:\n",
    "        raise ValueError(\"excel output file count is not 1\")\n",
    "    excel=pd.ExcelFile(file)\n",
    "    best_cutoff=excel.parse(\"select_score_matrix\")['index'][0]\n",
    "    return best_cutoff"
   ]
  },
  {
   "cell_type": "code",
   "execution_count": 19,
   "metadata": {},
   "outputs": [],
   "source": [
    "def load_targeting_df(key_df_type,weekly_output_folder):\n",
    "    # The targeting label is already wrote in the csv file\n",
    "    # If new changes needed, we can overwrite based on the y_hat value\n",
    "    list_weekly_output=glob.glob(weekly_output_folder+\"/*.csv\")\n",
    "    file_id_list=[x for x in list_weekly_output if \"df_target_ids_labeled_20\" in x and key_df_type in x]\n",
    "    if len(file_id_list)==1:\n",
    "        file_id_list=file_id_list[0]\n",
    "    else:\n",
    "        raise ValueError(\"file_id_list file count is not 1 for %s\"%key_df_type)\n",
    "    df=pd.read_csv(file_id_list)\n",
    "    df=df[(df['selection_label']==\"target\") | (df['sign_up_label']==\"new_signs\") | (df['email_subscription_label']==\"unsub\")]\n",
    "    return df\n",
    "\n",
    "\n",
    "    "
   ]
  },
  {
   "cell_type": "code",
   "execution_count": 20,
   "metadata": {},
   "outputs": [
    {
     "name": "stdout",
     "output_type": "stream",
     "text": [
      "total rows of target selected with overwrite: 1814996\n",
      "total unique emails of target selected with overwrite: 1814996\n",
      "Audience ID: 23846273583640265\n",
      "2021-01-04 22:32:35.399720 aud_Rewards_Predictive_Buyers_trans_1_only uploaded 1814996\n",
      "total rows of target selected with overwrite: 1814996\n",
      "total unique emails of target selected with overwrite: 1814996\n",
      "Audience ID: 23846635244320632\n",
      "2021-01-04 22:35:41.026008 aud_Rewards_Predictive_Buyers_trans_1_only uploaded 1814996\n"
     ]
    }
   ],
   "source": [
    "# Initiate trans_1_only\n",
    "key_df_type=\"trans_1_only\"\n",
    "weekly_output_folder=folder_weekly_output\n",
    "\n",
    "for fb_account_id in list_account_id:\n",
    "    audience_name = \"Rewards_Predictive_Buyers_%s\"%key_df_type\n",
    "    description=\"The upcoming 3 weeks buyers from %s predictive model\"%key_df_type\n",
    "    \n",
    "    df = load_targeting_df(key_df_type,weekly_output_folder)\n",
    "    print(\"total rows of target selected with overwrite: %i\"%df.shape[0])\n",
    "    df=pd.merge(df,df_id_email,on=\"customer_id_hashed\",how=\"left\")\n",
    "    df=df[pd.notnull(df['customer_id_hashed'])]\n",
    "    df=df.drop_duplicates(\"customer_id_hashed\")\n",
    "    df=df[df['customer_id_hashed'].apply(len)==64]\n",
    "    print(\"total unique emails of target selected with overwrite: %i\"%df.shape[0])\n",
    "    \n",
    "    creatfbaudience(AudienceName=\"aud_\"+audience_name,\n",
    "                    AudienceDescription=description,\n",
    "                    df=df,\n",
    "                    df_use_col_name='email_address_hash',\n",
    "                    ACCESS_TOKEN=jian_token,\n",
    "                    accountid=fb_account_id)"
   ]
  },
  {
   "cell_type": "code",
   "execution_count": 21,
   "metadata": {},
   "outputs": [
    {
     "name": "stdout",
     "output_type": "stream",
     "text": [
      "total rows of target selected with overwrite: 10234701\n",
      "total unique emails of target selected with overwrite: 10234701\n",
      "Audience ID: 23846273655130265\n",
      "2021-01-04 22:48:00.822879 aud_Rewards_Predictive_Buyers_trans_2_plus uploaded 10234701\n",
      "total rows of target selected with overwrite: 10234701\n",
      "total unique emails of target selected with overwrite: 10234701\n",
      "Audience ID: 23846635282950632\n",
      "2021-01-04 23:01:18.055142 aud_Rewards_Predictive_Buyers_trans_2_plus uploaded 10234701\n"
     ]
    }
   ],
   "source": [
    "# Initiate trans_2_plus\n",
    "key_df_type=\"trans_2_plus\"\n",
    "weekly_output_folder=folder_weekly_output\n",
    "\n",
    "for fb_account_id in list_account_id:\n",
    "    audience_name = \"Rewards_Predictive_Buyers_%s\"%key_df_type\n",
    "    description=\"The upcoming 3 weeks buyers from %s predictive model\"%key_df_type\n",
    "    \n",
    "    df = load_targeting_df(key_df_type,weekly_output_folder)\n",
    "    print(\"total rows of target selected with overwrite: %i\"%df.shape[0])\n",
    "    df=pd.merge(df,df_id_email,on=\"customer_id_hashed\",how=\"left\")\n",
    "    df=df[pd.notnull(df['customer_id_hashed'])]\n",
    "    df=df.drop_duplicates(\"customer_id_hashed\")\n",
    "    df=df[df['customer_id_hashed'].apply(len)==64]\n",
    "    print(\"total unique emails of target selected with overwrite: %i\"%df.shape[0])\n",
    "    \n",
    "    creatfbaudience(AudienceName=\"aud_\"+audience_name,\n",
    "                    AudienceDescription=description,\n",
    "                    df=df,\n",
    "                    df_use_col_name='email_address_hash',\n",
    "                    ACCESS_TOKEN=jian_token,\n",
    "                    accountid=fb_account_id)"
   ]
  },
  {
   "cell_type": "code",
   "execution_count": null,
   "metadata": {},
   "outputs": [],
   "source": []
  }
 ],
 "metadata": {
  "kernelspec": {
   "display_name": "Python 3",
   "language": "python",
   "name": "python3"
  },
  "language_info": {
   "codemirror_mode": {
    "name": "ipython",
    "version": 3
   },
   "file_extension": ".py",
   "mimetype": "text/x-python",
   "name": "python",
   "nbconvert_exporter": "python",
   "pygments_lexer": "ipython3",
   "version": "3.7.6"
  }
 },
 "nbformat": 4,
 "nbformat_minor": 4
}
