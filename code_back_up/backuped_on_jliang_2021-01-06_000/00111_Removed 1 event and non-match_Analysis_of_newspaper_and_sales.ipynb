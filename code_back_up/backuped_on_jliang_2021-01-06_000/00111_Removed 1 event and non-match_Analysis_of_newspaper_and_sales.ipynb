{
 "cells": [
  {
   "cell_type": "code",
   "execution_count": 1,
   "metadata": {
    "collapsed": true
   },
   "outputs": [],
   "source": [
    "import pandas as pd\n",
    "import datetime\n",
    "import numpy as np\n",
    "import glob\n",
    "import logging\n",
    "import os\n",
    "import gc"
   ]
  },
  {
   "cell_type": "code",
   "execution_count": 2,
   "metadata": {},
   "outputs": [
    {
     "name": "stderr",
     "output_type": "stream",
     "text": [
      "/usr/local/lib/python3.6/site-packages/ipykernel_launcher.py:39: SettingWithCopyWarning: \n",
      "A value is trying to be set on a copy of a slice from a DataFrame.\n",
      "Try using .loc[row_indexer,col_indexer] = value instead\n",
      "\n",
      "See the caveats in the documentation: http://pandas.pydata.org/pandas-docs/stable/indexing.html#indexing-view-versus-copy\n"
     ]
    }
   ],
   "source": [
    "today_str=str(datetime.datetime.now().date())\n",
    "writer_folder=\"/home/jian/Projects/Big_Lots/Newspaper/output_\"+today_str+\"/\"\n",
    "try:\n",
    "    os.stat(writer_folder)\n",
    "except:\n",
    "    os.mkdir(writer_folder)\n",
    "    \n",
    "sales_data=pd.read_excel(\"/home/jian/BiglotsCode/outputs/Output_2018-05-05/wide_sales_date2018-05-05.xlsx\")\n",
    "'''\n",
    "# Any one week sales >0 in the most recent month, it indicated an \"Open\" status up to 2018-05-05\n",
    "recent_month=sales_data.columns.tolist()[len(sales_data.columns.tolist())-4:len(sales_data.columns.tolist())]\n",
    "most_recent_open_stores=sales_data[['location_id']+recent_month]\n",
    "most_recent_open_stores['4_week_total_sales']=most_recent_open_stores[most_recent_open_stores.columns[1]]+most_recent_open_stores[most_recent_open_stores.columns[2]]+\\\n",
    "                                                                  most_recent_open_stores[most_recent_open_stores.columns[3]]+most_recent_open_stores[most_recent_open_stores.columns[4]]\n",
    "\n",
    "\n",
    "most_recent_open_stores=most_recent_open_stores[most_recent_open_stores['4_week_total_sales']>0]\n",
    "'''\n",
    "\n",
    "store_list_df_Dom=pd.read_excel(\"/home/jian/Projects/Big_Lots/Newspaper/Analysis/Store list 5-4-18 215p.xlsx\",sheetname=\"oepn_stores\",dtype=str) \n",
    "recent_open_stores=store_list_df_Dom['Store_list_recent_open'].astype(int)\n",
    "\n",
    "\n",
    "store_latest_non_zero_week=pd.read_csv(\"/home/jian/BiglotsCode/outputs/combined_sales_long_2018-05-12.csv\")\n",
    "store_latest_non_zero_week=store_latest_non_zero_week[['location_id','week_end_date','sales']]\n",
    "store_latest_non_zero_week['week_end_date']=store_latest_non_zero_week['week_end_date'].apply(lambda x:datetime.datetime.strptime(x,\"%Y-%m-%d\").date())\n",
    "store_latest_non_zero_week=store_latest_non_zero_week[store_latest_non_zero_week['sales']!=0]\n",
    "store_latest_non_zero_week=store_latest_non_zero_week.sort_values([\"location_id\",'week_end_date'],ascending=[True,False]).drop_duplicates(['location_id'])\n",
    "del store_latest_non_zero_week['sales']\n",
    "store_latest_non_zero_week.columns=['storeid','latest_date']\n",
    "store_latest_non_zero_week['storeid']=store_latest_non_zero_week['storeid'].astype(str)\n",
    "store_latest_non_zero_week.reset_index(inplace=True)\n",
    "store_latest_non_zero_week['storeid']=store_latest_non_zero_week['storeid'].astype(int)\n",
    "store_latest_non_zero_week=store_latest_non_zero_week.rename(columns={'storeid':'location_id'})\n",
    "del store_latest_non_zero_week['index']\n",
    "\n",
    "store_latest_non_zero_week_in=store_latest_non_zero_week[store_latest_non_zero_week['location_id'].isin(recent_open_stores)]\n",
    "store_latest_non_zero_week_out=store_latest_non_zero_week[~store_latest_non_zero_week['location_id'].isin(recent_open_stores)]\n",
    "store_latest_non_zero_week_in['latest_date']=datetime.datetime(2020,12,31).date() # if in the list from Dom 5-24, it is labeled as 2020-12-31\n",
    "\n",
    "store_latest_non_zero_week=store_latest_non_zero_week_in.append(store_latest_non_zero_week_out).sort_values('location_id').reset_index()\n",
    "del store_latest_non_zero_week['index']\n"
   ]
  },
  {
   "cell_type": "code",
   "execution_count": 5,
   "metadata": {
    "collapsed": true
   },
   "outputs": [],
   "source": [
    "all_week_list=[datetime.datetime.strptime(x,\"%Y-%m-%d\").date() for x in sales_data.columns.tolist()[1:]]\n",
    "year_2017_weeks=[str(x) for x in all_week_list if (x>=datetime.datetime(2016,5,8).date()) & (x<datetime.datetime(2017,5,8).date())]\n",
    "year_2018_weeks=[str(x) for x in all_week_list if (x>=datetime.datetime(2017,5,8).date()) & (x<datetime.datetime(2018,5,8).date())]\n",
    "\n",
    "sales_data_2017=sales_data[['location_id']+year_2017_weeks]\n",
    "sales_data_2018=sales_data[['location_id']+year_2018_weeks]\n",
    "sales_data_2017_existing=sales_data_2017[sales_data_2017['location_id'].isin(recent_open_stores)].sort_values('location_id')\n",
    "sales_data_2018_existing=sales_data_2018[sales_data_2018['location_id'].isin(recent_open_stores)].sort_values('location_id')\n",
    "sales_data_2017_existing.reset_index(inplace=True)\n",
    "sales_data_2018_existing.reset_index(inplace=True)\n",
    "del sales_data_2017_existing['index']\n",
    "del sales_data_2018_existing['index']\n",
    "\n",
    "for i in range(len(sales_data_2018_existing)):\n",
    "    for j in range(1,53):\n",
    "            if sales_data_2018_existing.iloc[i,j]==0:\n",
    "                sales_data_2017_existing.iloc[i,j]=0\n",
    "            if sales_data_2017_existing.iloc[i,j]==0:\n",
    "                sales_data_2018_existing.iloc[i,j]=0\n",
    "  \n",
    "sales_wide_2_years=pd.merge(sales_data_2017_existing,sales_data_2018_existing,on='location_id',how='left')\n",
    "\n",
    "sales_data_2017_existing['sales_2017']=sales_data_2017_existing[year_2017_weeks].sum(axis=1)\n",
    "sales_data_2018_existing['sales_2018']=sales_data_2018_existing[year_2018_weeks].sum(axis=1)\n",
    "df_2017_sales=sales_data_2017_existing[['location_id','sales_2017']]\n",
    "df_2018_sales=sales_data_2018_existing[['location_id','sales_2018']]\n",
    "df_2_year_sales=pd.merge(df_2017_sales,df_2018_sales,on='location_id',how='left')\n",
    "df_2_year_sales=df_2_year_sales[df_2_year_sales['sales_2017']!=0]\n",
    "df_2_year_sales=df_2_year_sales[df_2_year_sales['sales_2018']!=0]\n",
    "\n",
    "writer=pd.ExcelWriter(writer_folder+\"sales_data_2_year_compariable_0525.xlsx\",engine='xlsxwriter')\n",
    "\n",
    "df_2_year_sales.to_excel(writer,\"rencet_open_stores_compariable\",index=False)\n",
    "sales_wide_2_years.to_excel(writer,\"yearly_sales\",index=False)\n",
    "writer.save()   "
   ]
  },
  {
   "cell_type": "code",
   "execution_count": 6,
   "metadata": {},
   "outputs": [
    {
     "data": {
      "text/html": [
       "<div>\n",
       "<style>\n",
       "    .dataframe thead tr:only-child th {\n",
       "        text-align: right;\n",
       "    }\n",
       "\n",
       "    .dataframe thead th {\n",
       "        text-align: left;\n",
       "    }\n",
       "\n",
       "    .dataframe tbody tr th {\n",
       "        vertical-align: top;\n",
       "    }\n",
       "</style>\n",
       "<table border=\"1\" class=\"dataframe\">\n",
       "  <thead>\n",
       "    <tr style=\"text-align: right;\">\n",
       "      <th></th>\n",
       "      <th>location_id</th>\n",
       "      <th>2017-05-13</th>\n",
       "      <th>2017-05-20</th>\n",
       "      <th>2017-05-27</th>\n",
       "      <th>2017-06-03</th>\n",
       "      <th>2017-06-10</th>\n",
       "      <th>2017-06-17</th>\n",
       "      <th>2017-06-24</th>\n",
       "      <th>2017-07-01</th>\n",
       "      <th>2017-07-08</th>\n",
       "      <th>...</th>\n",
       "      <th>2018-03-03</th>\n",
       "      <th>2018-03-10</th>\n",
       "      <th>2018-03-17</th>\n",
       "      <th>2018-03-24</th>\n",
       "      <th>2018-03-31</th>\n",
       "      <th>2018-04-07</th>\n",
       "      <th>2018-04-14</th>\n",
       "      <th>2018-04-21</th>\n",
       "      <th>2018-04-28</th>\n",
       "      <th>2018-05-05</th>\n",
       "    </tr>\n",
       "  </thead>\n",
       "  <tbody>\n",
       "    <tr>\n",
       "      <th>0</th>\n",
       "      <td>1</td>\n",
       "      <td>82420.48</td>\n",
       "      <td>74072.40</td>\n",
       "      <td>88270.91</td>\n",
       "      <td>91990.34</td>\n",
       "      <td>77190.27</td>\n",
       "      <td>76737.68</td>\n",
       "      <td>70746.61</td>\n",
       "      <td>84674.98</td>\n",
       "      <td>98495.28</td>\n",
       "      <td>...</td>\n",
       "      <td>110956.73</td>\n",
       "      <td>100013.22</td>\n",
       "      <td>99194.00</td>\n",
       "      <td>91914.46</td>\n",
       "      <td>78716.28</td>\n",
       "      <td>99790.03</td>\n",
       "      <td>112517.34</td>\n",
       "      <td>71202.97</td>\n",
       "      <td>83309.33</td>\n",
       "      <td>92893.51</td>\n",
       "    </tr>\n",
       "    <tr>\n",
       "      <th>1</th>\n",
       "      <td>3</td>\n",
       "      <td>65171.78</td>\n",
       "      <td>64123.69</td>\n",
       "      <td>68969.28</td>\n",
       "      <td>78738.19</td>\n",
       "      <td>60562.76</td>\n",
       "      <td>63397.87</td>\n",
       "      <td>59027.22</td>\n",
       "      <td>70775.20</td>\n",
       "      <td>86746.63</td>\n",
       "      <td>...</td>\n",
       "      <td>107881.07</td>\n",
       "      <td>98716.61</td>\n",
       "      <td>73944.82</td>\n",
       "      <td>69992.44</td>\n",
       "      <td>67088.99</td>\n",
       "      <td>79300.64</td>\n",
       "      <td>76779.62</td>\n",
       "      <td>57830.55</td>\n",
       "      <td>60531.27</td>\n",
       "      <td>64324.36</td>\n",
       "    </tr>\n",
       "  </tbody>\n",
       "</table>\n",
       "<p>2 rows × 53 columns</p>\n",
       "</div>"
      ],
      "text/plain": [
       "   location_id  2017-05-13  2017-05-20  2017-05-27  2017-06-03  2017-06-10  \\\n",
       "0            1    82420.48    74072.40    88270.91    91990.34    77190.27   \n",
       "1            3    65171.78    64123.69    68969.28    78738.19    60562.76   \n",
       "\n",
       "   2017-06-17  2017-06-24  2017-07-01  2017-07-08     ...      2018-03-03  \\\n",
       "0    76737.68    70746.61    84674.98    98495.28     ...       110956.73   \n",
       "1    63397.87    59027.22    70775.20    86746.63     ...       107881.07   \n",
       "\n",
       "   2018-03-10  2018-03-17  2018-03-24  2018-03-31  2018-04-07  2018-04-14  \\\n",
       "0   100013.22    99194.00    91914.46    78716.28    99790.03   112517.34   \n",
       "1    98716.61    73944.82    69992.44    67088.99    79300.64    76779.62   \n",
       "\n",
       "   2018-04-21  2018-04-28  2018-05-05  \n",
       "0    71202.97    83309.33    92893.51  \n",
       "1    57830.55    60531.27    64324.36  \n",
       "\n",
       "[2 rows x 53 columns]"
      ]
     },
     "execution_count": 6,
     "metadata": {},
     "output_type": "execute_result"
    }
   ],
   "source": [
    "sales_data_2018.head(2)"
   ]
  },
  {
   "cell_type": "markdown",
   "metadata": {},
   "source": [
    "# Newspaper"
   ]
  },
  {
   "cell_type": "markdown",
   "metadata": {},
   "source": [
    "## Cost"
   ]
  },
  {
   "cell_type": "code",
   "execution_count": 7,
   "metadata": {},
   "outputs": [
    {
     "name": "stderr",
     "output_type": "stream",
     "text": [
      "/usr/local/lib/python3.6/site-packages/ipykernel_launcher.py:4: SettingWithCopyWarning: \n",
      "A value is trying to be set on a copy of a slice from a DataFrame.\n",
      "Try using .loc[row_indexer,col_indexer] = value instead\n",
      "\n",
      "See the caveats in the documentation: http://pandas.pydata.org/pandas-docs/stable/indexing.html#indexing-view-versus-copy\n",
      "  after removing the cwd from sys.path.\n",
      "/usr/local/lib/python3.6/site-packages/ipykernel_launcher.py:9: SettingWithCopyWarning: \n",
      "A value is trying to be set on a copy of a slice from a DataFrame.\n",
      "Try using .loc[row_indexer,col_indexer] = value instead\n",
      "\n",
      "See the caveats in the documentation: http://pandas.pydata.org/pandas-docs/stable/indexing.html#indexing-view-versus-copy\n",
      "  if __name__ == '__main__':\n",
      "/usr/local/lib/python3.6/site-packages/ipykernel_launcher.py:10: SettingWithCopyWarning: \n",
      "A value is trying to be set on a copy of a slice from a DataFrame.\n",
      "Try using .loc[row_indexer,col_indexer] = value instead\n",
      "\n",
      "See the caveats in the documentation: http://pandas.pydata.org/pandas-docs/stable/indexing.html#indexing-view-versus-copy\n",
      "  # Remove the CWD from sys.path while we load stuff.\n",
      "/usr/local/lib/python3.6/site-packages/ipykernel_launcher.py:12: SettingWithCopyWarning: \n",
      "A value is trying to be set on a copy of a slice from a DataFrame.\n",
      "Try using .loc[row_indexer,col_indexer] = value instead\n",
      "\n",
      "See the caveats in the documentation: http://pandas.pydata.org/pandas-docs/stable/indexing.html#indexing-view-versus-copy\n",
      "  if sys.path[0] == '':\n",
      "/usr/local/lib/python3.6/site-packages/ipykernel_launcher.py:13: SettingWithCopyWarning: \n",
      "A value is trying to be set on a copy of a slice from a DataFrame.\n",
      "Try using .loc[row_indexer,col_indexer] = value instead\n",
      "\n",
      "See the caveats in the documentation: http://pandas.pydata.org/pandas-docs/stable/indexing.html#indexing-view-versus-copy\n",
      "  del sys.path[0]\n"
     ]
    },
    {
     "data": {
      "text/plain": [
       "(1223586, 5)"
      ]
     },
     "execution_count": 7,
     "metadata": {},
     "output_type": "execute_result"
    }
   ],
   "source": [
    "newspaper_detail=pd.read_csv(\"/home/jian/Projects/Big_Lots/Newspaper/output_2018-05-22/BL_combined newspaper final detailed_JL_2018-05-22.csv\",dtype=str)\n",
    "newspaper_detail['adjusted_circ_with_list']=newspaper_detail['adjusted_circ_with_list'].astype(float)\n",
    "newspaper_detail_long=newspaper_detail[['Date','adjusted_circ_with_list','storeid','zip_cd','productid']]\n",
    "newspaper_detail_long['Date']=newspaper_detail_long['Date'].apply(lambda x: datetime.datetime.strptime(x,\"%Y-%m-%d\").date())\n",
    "\n",
    "# Replace the date for 2017-11-22 with 2017-11-23\n",
    "# Replace the date for 2016-11-23 with 2016-11-24\n",
    "\n",
    "newspaper_detail_long['Date']=newspaper_detail_long['Date'].replace(datetime.datetime(2017,11,22).date(),datetime.datetime(2017,11,23).date())\n",
    "newspaper_detail_long['Date']=newspaper_detail_long['Date'].replace(datetime.datetime(2016,11,23).date(),datetime.datetime(2016,11,24).date())\n",
    "\n",
    "newspaper_detail_long['storeid']=newspaper_detail_long['storeid'].astype(int)\n",
    "newspaper_detail_long['productid']=newspaper_detail_long['productid'].astype(int)\n",
    "newspaper_detail_long.shape"
   ]
  },
  {
   "cell_type": "code",
   "execution_count": 8,
   "metadata": {
    "collapsed": true
   },
   "outputs": [],
   "source": [
    "# Extrac the cost PM from the RecbyStore\n",
    "RecbyStore_folder=\"/home/jian/Projects/Big_Lots/Newspaper/RecbyStore/\"\n",
    "file_list=glob.glob(RecbyStore_folder+\"*\")"
   ]
  },
  {
   "cell_type": "code",
   "execution_count": 9,
   "metadata": {
    "collapsed": true
   },
   "outputs": [],
   "source": [
    "cost_df=pd.DataFrame()\n",
    "check_cost_df=pd.DataFrame()\n",
    "for file in file_list:\n",
    "    df=pd.read_excel(file,sheetname=None,dtype=str)\n",
    "    date_name=file.split(\"/\")[len(file.split(\"/\"))-1].split(\" \")[0]+\" \"+file.split(\"/\")[len(file.split(\"/\"))-1].split(\" \")[1]+\" \"+\\\n",
    "    file.split(\"/\")[len(file.split(\"/\"))-1].split(\" \")[2]\n",
    "    if len(date_name.split(\" \")[0])==3:\n",
    "        date_name=datetime.datetime.strptime(date_name,\"%b %d %Y\").date()\n",
    "    else:\n",
    "        date_name=datetime.datetime.strptime(date_name,\"%B %d %Y\").date()\n",
    "    \n",
    "    # print(str(date_name),df.keys())\n",
    "    \n",
    "    try:\n",
    "        df=df[list(df.keys())[0]]\n",
    "        df=df[~pd.isnull(df['DMA'])]\n",
    "        df=df[~pd.isnull(df['PRODUCT ID'])]\n",
    "        df=df[df['DMA']!='nan']\n",
    "        df=df[df['PRODUCT ID']!='nan']\n",
    "        df=df[['PRODUCT ID','STORE','CONFIRM MEDIA CPM','PRINT CPM']].drop_duplicates()\n",
    "        df['Date']=date_name\n",
    "    except:\n",
    "        print(str(date_name))\n",
    "    cost_df=cost_df.append(df)\n",
    "    \n",
    "    \n",
    "    check_cost_df_app=pd.read_excel(file,sheetname=None,dtype=str)\n",
    "    check_cost_df_app=check_cost_df_app[list(check_cost_df_app.keys())[0]]\n",
    "    check_cost_df_app=check_cost_df_app[~pd.isnull(check_cost_df_app['DMA'])]\n",
    "    check_cost_df_app=check_cost_df_app[~pd.isnull(check_cost_df_app['PRODUCT ID'])]\n",
    "    check_cost_df_app=check_cost_df_app[check_cost_df_app['DMA']!='nan']\n",
    "    check_cost_df_app=check_cost_df_app[check_cost_df_app['PRODUCT ID']!='nan']\n",
    "    check_cost_df_app=check_cost_df_app[['PRODUCT ID','STORE','MEDIA COST','PRINT COST']]\n",
    "    check_cost_df_app['Date']=date_name\n",
    "    check_cost_df=check_cost_df.append(check_cost_df_app)\n",
    "    \n",
    "cost_df=cost_df.rename(columns={\"PRODUCT ID\":\"productid\",'STORE':'storeid',\"CONFIRM MEDIA CPM\":\"media_cpm\",\"PRINT CPM\":\"print_cpm\"})\n",
    "cost_df['media_cpm']=cost_df['media_cpm'].astype(float)\n",
    "cost_df['print_cpm']=cost_df['print_cpm'].astype(float)\n",
    "cost_df['productid']=cost_df['productid'].astype(int)\n",
    "cost_df['storeid']=cost_df['storeid'].astype(int)\n",
    "cost_df.shape\n",
    "\n",
    "check_cost_df['MEDIA COST']=check_cost_df['MEDIA COST'].astype(float)\n",
    "check_cost_df['PRINT COST']=check_cost_df['PRINT COST'].astype(float)\n",
    "check_cost_df['cost']=check_cost_df['MEDIA COST']+check_cost_df['PRINT COST']"
   ]
  },
  {
   "cell_type": "code",
   "execution_count": null,
   "metadata": {
    "collapsed": true
   },
   "outputs": [],
   "source": []
  },
  {
   "cell_type": "code",
   "execution_count": 10,
   "metadata": {
    "collapsed": true
   },
   "outputs": [],
   "source": [
    "# Deal with one duplication with different media cost\n",
    "cost_df_1=cost_df[(cost_df['productid']!=400) | (cost_df['storeid']!=555) | (cost_df['Date']!=datetime.datetime(2017,11,23).date())]\n",
    "cost_df_2=cost_df[(cost_df['productid']==400) & (cost_df['storeid']==555) & (cost_df['Date']==datetime.datetime(2017,11,23).date())]\n",
    "\n",
    "cost_df_2=pd.read_excel(\"/home/jian/Projects/Big_Lots/Newspaper/RecbyStore/November 23 2017 RecByStore 6 STD for BL REPORTS.xlsx\",dtype=str)\n",
    "cost_df_2=cost_df_2[['PRODUCT ID','STORE','CONFIRMED CIRCULATION','MEDIA COST',\"PRINT CPM\"]]\n",
    "cost_df_2=cost_df_2[(cost_df_2['PRODUCT ID']==\"400\") & (cost_df_2['STORE']==\"555\")]\n",
    "cost_df_2['STORE']=cost_df_2['STORE'].astype(int)\n",
    "cost_df_2['PRODUCT ID']=cost_df_2['PRODUCT ID'].astype(int)\n",
    "cost_df_2['MEDIA COST']=cost_df_2['MEDIA COST'].astype(float)\n",
    "cost_df_2['PRINT CPM']=cost_df_2['PRINT CPM'].astype(float)\n",
    "cost_df_2['CONFIRMED CIRCULATION']=cost_df_2['CONFIRMED CIRCULATION'].astype(float)\n",
    "cost_df_2['media_cpm']=cost_df_2['MEDIA COST'].sum()/cost_df_2['CONFIRMED CIRCULATION'].sum()*1000\n",
    "cost_df_2=cost_df_2.rename(columns={\"PRODUCT ID\":\"productid\",'STORE':'storeid',\"PRINT CPM\":\"print_cpm\"})\n",
    "cost_df_2=cost_df_2[['productid','storeid','media_cpm','print_cpm']].drop_duplicates()\n",
    "cost_df_2['Date']=datetime.datetime(2017,11,23).date()\n",
    "\n",
    "cost_df_adjusted=cost_df_1.append(cost_df_2).sort_values(['Date','storeid','productid']).reset_index()\n",
    "del cost_df_adjusted['index']"
   ]
  },
  {
   "cell_type": "code",
   "execution_count": 11,
   "metadata": {
    "collapsed": true
   },
   "outputs": [],
   "source": [
    "newspaper_detail_long=pd.merge(newspaper_detail_long,cost_df_adjusted,on=['productid','storeid','Date'],how=\"left\")"
   ]
  },
  {
   "cell_type": "code",
   "execution_count": 12,
   "metadata": {
    "collapsed": true,
    "scrolled": true
   },
   "outputs": [],
   "source": [
    "nan_cpm=newspaper_detail_long[pd.isnull(newspaper_detail_long['media_cpm']) | pd.isnull(newspaper_detail_long['print_cpm'])]\n",
    "newspaper_detail_long=newspaper_detail_long[~pd.isnull(newspaper_detail_long['media_cpm']) & ~pd.isnull(newspaper_detail_long['print_cpm'])]\n",
    "nan_cpm_key=nan_cpm[['Date','productid']].drop_duplicates().reset_index()\n",
    "cost_df_for_nan_agg=pd.DataFrame()\n",
    "del nan_cpm_key['index']\n",
    "for i in range(len(nan_cpm_key)):\n",
    "    df_i=nan_cpm_key.iloc[i,:].to_frame().T.reset_index()\n",
    "    del df_i['index']\n",
    "    cost_df_for_nan=cost_df_adjusted[(cost_df_adjusted['Date']==df_i['Date'][0]) & (cost_df_adjusted['productid']==df_i['productid'][0])]\n",
    "    cost_df_for_nan=cost_df_for_nan.groupby(['Date','productid','media_cpm','print_cpm'])['storeid'].count().reset_index()\n",
    "    cost_df_for_nan=cost_df_for_nan.sort_values('storeid',ascending=False).reset_index()\n",
    "    del cost_df_for_nan['index']\n",
    "    try:\n",
    "        cost_df_for_nan=cost_df_for_nan.iloc[0,:].to_frame().T.reset_index()    \n",
    "        del cost_df_for_nan['index']\n",
    "\n",
    "        del cost_df_for_nan['storeid']\n",
    "        cost_df_for_nan_agg=cost_df_for_nan_agg.append(cost_df_for_nan)\n",
    "    except:\n",
    "        print(nan_cpm_key['Date'][i],nan_cpm_key['productid'][i])"
   ]
  },
  {
   "cell_type": "code",
   "execution_count": 13,
   "metadata": {
    "collapsed": true
   },
   "outputs": [],
   "source": [
    "del nan_cpm['media_cpm']\n",
    "del nan_cpm['print_cpm']\n",
    "nan_cpm=pd.merge(nan_cpm,cost_df_for_nan_agg,on=[\"Date\",\"productid\"],how=\"left\")\n",
    "newspaper_detail_long=newspaper_detail_long.append(nan_cpm).reset_index()\n",
    "del newspaper_detail_long['index']\n",
    "newspaper_detail_long=newspaper_detail_long.sort_values(['Date','storeid','productid']).reset_index()\n",
    "del newspaper_detail_long['index']"
   ]
  },
  {
   "cell_type": "code",
   "execution_count": 14,
   "metadata": {
    "collapsed": true
   },
   "outputs": [],
   "source": [
    "newspaper_detail_long['media_cpm']=newspaper_detail_long['media_cpm'].astype(float)\n",
    "newspaper_detail_long['print_cpm']=newspaper_detail_long['print_cpm'].astype(float)\n",
    "newspaper_detail_long['cost']=newspaper_detail_long['adjusted_circ_with_list']*(newspaper_detail_long['media_cpm']+newspaper_detail_long['print_cpm'])/1000"
   ]
  },
  {
   "cell_type": "code",
   "execution_count": 15,
   "metadata": {},
   "outputs": [
    {
     "data": {
      "text/plain": [
       "49723756.457277581"
      ]
     },
     "execution_count": 15,
     "metadata": {},
     "output_type": "execute_result"
    }
   ],
   "source": [
    "newspaper_detail_long['cost'].sum()"
   ]
  },
  {
   "cell_type": "code",
   "execution_count": 16,
   "metadata": {
    "collapsed": true
   },
   "outputs": [],
   "source": [
    "check_cost_df=check_cost_df[check_cost_df['Date'].isin(newspaper_detail_long['Date'])]"
   ]
  },
  {
   "cell_type": "code",
   "execution_count": 17,
   "metadata": {},
   "outputs": [
    {
     "data": {
      "text/plain": [
       "51091062.480928898"
      ]
     },
     "execution_count": 17,
     "metadata": {},
     "output_type": "execute_result"
    }
   ],
   "source": [
    "check_cost_df['cost'].sum()"
   ]
  },
  {
   "cell_type": "code",
   "execution_count": 18,
   "metadata": {},
   "outputs": [
    {
     "data": {
      "text/plain": [
       "97.323786280307445"
      ]
     },
     "execution_count": 18,
     "metadata": {},
     "output_type": "execute_result"
    }
   ],
   "source": [
    "newspaper_detail_long['cost'].sum()/check_cost_df['cost'].sum()*100 # in %"
   ]
  },
  {
   "cell_type": "markdown",
   "metadata": {},
   "source": [
    "## Recent 1 year (digged holes)"
   ]
  },
  {
   "cell_type": "code",
   "execution_count": 19,
   "metadata": {
    "collapsed": true
   },
   "outputs": [],
   "source": [
    "sales_data_with_wholes=pd.read_excel(\"/home/jian/Projects/Big_Lots/Newspaper/output_2018-05-25/sales_data_2_year_compariable_0525.xlsx\",sheetname=None,dtype=str)\n",
    "compariable_all_sales=sales_data_with_wholes[list(sales_data_with_wholes.keys())[0]]\n",
    "compariable_store_week_sales=sales_data_with_wholes[list(sales_data_with_wholes.keys())[1]]\n",
    "compariable_store_week_sales['location_id']=compariable_store_week_sales['location_id'].astype(int)\n",
    "for col in compariable_store_week_sales.columns.tolist()[1:]:\n",
    "    compariable_store_week_sales[col]=compariable_store_week_sales[col].astype(float)\n",
    "    "
   ]
  },
  {
   "cell_type": "code",
   "execution_count": 20,
   "metadata": {
    "collapsed": true
   },
   "outputs": [],
   "source": [
    "compariable_all_sales['location_id']=compariable_all_sales['location_id'].astype(int)\n",
    "compariable_all_sales['sales_2017']=compariable_all_sales['sales_2017'].astype(float)\n",
    "compariable_all_sales['sales_2018']=compariable_all_sales['sales_2018'].astype(float)"
   ]
  },
  {
   "cell_type": "code",
   "execution_count": 21,
   "metadata": {},
   "outputs": [
    {
     "data": {
      "text/plain": [
       "(1414, 105)"
      ]
     },
     "execution_count": 21,
     "metadata": {},
     "output_type": "execute_result"
    }
   ],
   "source": [
    "compariable_store_week_sales.shape"
   ]
  },
  {
   "cell_type": "markdown",
   "metadata": {},
   "source": [
    "## Loyalty Sales by Store"
   ]
  },
  {
   "cell_type": "code",
   "execution_count": 22,
   "metadata": {
    "collapsed": true
   },
   "outputs": [],
   "source": [
    "loyalty_sales=pd.read_csv(\"/home/jian/Projects/Big_Lots/Loyal_members/sales_of_loyalty_member/output_of_loyalty_consumption_by_location.csv\",dtype=str)"
   ]
  },
  {
   "cell_type": "code",
   "execution_count": 23,
   "metadata": {
    "collapsed": true
   },
   "outputs": [],
   "source": [
    "loyalty_sales['transaction_date']=loyalty_sales['transaction_date'].apply(lambda x: datetime.datetime.strptime(x,\"%Y-%m-%d\").date())\n",
    "loyalty_sales['total_transaction_amt']=loyalty_sales['total_transaction_amt'].astype(float)\n",
    "loyalty_sales['location_id']=loyalty_sales['location_id'].astype(int)\n",
    "loyalty_sales['weekday']=loyalty_sales['transaction_date'].apply(lambda x: x.weekday()) # Sunday=6 ; Monday=0"
   ]
  },
  {
   "cell_type": "code",
   "execution_count": 24,
   "metadata": {
    "collapsed": true
   },
   "outputs": [],
   "source": [
    "loyalty_sales['weekday']=loyalty_sales['transaction_date'].apply(lambda x: x.weekday())\n",
    "loyalty_sales['week_end_date']=np.where(loyalty_sales['weekday']==6,\n",
    "                                        loyalty_sales['transaction_date']+datetime.timedelta(days=6),\n",
    "                                        loyalty_sales['transaction_date'].apply(lambda x: x+datetime.timedelta(days=5-(x.weekday())))\n",
    "                                        )\n",
    "count_weekdays=loyalty_sales[['transaction_date','week_end_date']]\n",
    "\n",
    "count_weekdays=count_weekdays.drop_duplicates().reset_index()\n",
    "del count_weekdays['index']\n",
    "count_weekdays=count_weekdays.groupby(['week_end_date'])['transaction_date'].count().to_frame().reset_index()\n",
    "count_weekdays=count_weekdays[count_weekdays['transaction_date']==7]"
   ]
  },
  {
   "cell_type": "code",
   "execution_count": 25,
   "metadata": {
    "collapsed": true
   },
   "outputs": [],
   "source": [
    "recent_1_year_weekends=compariable_store_week_sales.columns.tolist()\n",
    "recent_1_year_weekends.remove(\"location_id\")                                       \n",
    "cols=[datetime.datetime.strptime(x,\"%Y-%m-%d\").date() for x in recent_1_year_weekends]                                  \n",
    "cols_date=[x for x in cols if x>=datetime.datetime(2017,5,13).date()]\n",
    "count_weekdays=count_weekdays[count_weekdays['week_end_date'].isin(cols_date)]\n",
    "loyal_dates=sorted(count_weekdays['week_end_date'].unique().tolist())"
   ]
  },
  {
   "cell_type": "code",
   "execution_count": 26,
   "metadata": {
    "collapsed": true
   },
   "outputs": [],
   "source": [
    "loyalty_sales_full_weeks_1_year=loyalty_sales[loyalty_sales['week_end_date'].isin(loyal_dates)] # 46 weeks in total\n",
    "loyalty_sales_full_weeks_1_year=loyalty_sales_full_weeks_1_year[loyalty_sales_full_weeks_1_year['location_id'].isin(compariable_all_sales['location_id'])]\n",
    "loyalty_sales_full_weeks_46_weeks=loyalty_sales_full_weeks_1_year.groupby(['location_id','week_end_date'])['total_transaction_amt'].sum().to_frame().reset_index()\n",
    "loyalty_sales_full_weeks_46_weeks.columns=['location_id','week_end_date','loyalty_sales_46_weeks']"
   ]
  },
  {
   "cell_type": "code",
   "execution_count": 27,
   "metadata": {},
   "outputs": [
    {
     "data": {
      "text/plain": [
       "\"\\ntotal_sales_full_weeks_46_weeks['total_sales_46_weeks']=total_sales_full_weeks_46_weeks[[str(x) for x in loyal_dates]].sum(axis=1)\\n\""
      ]
     },
     "execution_count": 27,
     "metadata": {},
     "output_type": "execute_result"
    }
   ],
   "source": [
    "'''\n",
    "total_sales_full_weeks_46_weeks['total_sales_46_weeks']=total_sales_full_weeks_46_weeks[[str(x) for x in loyal_dates]].sum(axis=1)\n",
    "'''\n"
   ]
  },
  {
   "cell_type": "code",
   "execution_count": 28,
   "metadata": {
    "collapsed": true
   },
   "outputs": [],
   "source": [
    "total_sales_no_exclusion=pd.read_csv(\"/home/jian/BiglotsCode/outputs/combined_sales_long_2018-05-19.csv\",dtype=str)\n",
    "total_sales_no_exclusion=total_sales_no_exclusion[['location_id','week_end_date','sales']]\n",
    "total_sales_no_exclusion['location_id']=total_sales_no_exclusion['location_id'].astype(int)\n",
    "total_sales_no_exclusion['week_end_date']=total_sales_no_exclusion['week_end_date'].apply(lambda x:datetime.datetime.strptime(x,\"%Y-%m-%d\").date())\n",
    "total_sales_no_exclusion['sales']=total_sales_no_exclusion['sales'].astype(float)\n",
    "total_sales_no_exclusion=total_sales_no_exclusion.rename(columns={\"sales\":\"total_sales_46_weeks\"})"
   ]
  },
  {
   "cell_type": "code",
   "execution_count": 29,
   "metadata": {
    "collapsed": true
   },
   "outputs": [],
   "source": [
    "loyal_total_sales_long_by_week=pd.merge(loyalty_sales_full_weeks_46_weeks,total_sales_no_exclusion,on=['location_id','week_end_date'],how='left')\n",
    "loyal_total_sales_long_by_week=loyal_total_sales_long_by_week.fillna(0)\n",
    "loyal_total_sales_long_by_week['loyalty_sales_Pctg']=loyal_total_sales_long_by_week['loyalty_sales_46_weeks']/loyal_total_sales_long_by_week['total_sales_46_weeks']"
   ]
  },
  {
   "cell_type": "code",
   "execution_count": 30,
   "metadata": {},
   "outputs": [
    {
     "data": {
      "text/plain": [
       "1391"
      ]
     },
     "execution_count": 30,
     "metadata": {},
     "output_type": "execute_result"
    }
   ],
   "source": [
    "len(loyal_total_sales_long_by_week['location_id'].unique())"
   ]
  },
  {
   "cell_type": "code",
   "execution_count": 31,
   "metadata": {
    "collapsed": true
   },
   "outputs": [],
   "source": [
    "loyal_total_sales_by_store=loyal_total_sales_long_by_week.groupby('location_id')['loyalty_sales_46_weeks','total_sales_46_weeks'].sum().reset_index()\n",
    "loyal_total_sales_by_store['loyalty_overall_46_weeks_pctg']=loyal_total_sales_by_store['loyalty_sales_46_weeks']/loyal_total_sales_by_store['total_sales_46_weeks']\n",
    "loyal_total_sales_by_store=pd.merge(compariable_all_sales,loyal_total_sales_by_store,on=\"location_id\",how=\"left\")"
   ]
  },
  {
   "cell_type": "code",
   "execution_count": 32,
   "metadata": {},
   "outputs": [
    {
     "data": {
      "text/html": [
       "<div>\n",
       "<style>\n",
       "    .dataframe thead tr:only-child th {\n",
       "        text-align: right;\n",
       "    }\n",
       "\n",
       "    .dataframe thead th {\n",
       "        text-align: left;\n",
       "    }\n",
       "\n",
       "    .dataframe tbody tr th {\n",
       "        vertical-align: top;\n",
       "    }\n",
       "</style>\n",
       "<table border=\"1\" class=\"dataframe\">\n",
       "  <thead>\n",
       "    <tr style=\"text-align: right;\">\n",
       "      <th></th>\n",
       "      <th>location_id</th>\n",
       "      <th>sales_2017</th>\n",
       "      <th>sales_2018</th>\n",
       "      <th>loyalty_sales_46_weeks</th>\n",
       "      <th>total_sales_46_weeks</th>\n",
       "      <th>loyalty_overall_46_weeks_pctg</th>\n",
       "    </tr>\n",
       "  </thead>\n",
       "  <tbody>\n",
       "    <tr>\n",
       "      <th>0</th>\n",
       "      <td>1</td>\n",
       "      <td>4520480.62</td>\n",
       "      <td>4509098.17</td>\n",
       "      <td>2371595.45</td>\n",
       "      <td>4064542.53</td>\n",
       "      <td>0.583484</td>\n",
       "    </tr>\n",
       "    <tr>\n",
       "      <th>1</th>\n",
       "      <td>3</td>\n",
       "      <td>3636280.73</td>\n",
       "      <td>3613559.72</td>\n",
       "      <td>1140813.32</td>\n",
       "      <td>3267454.33</td>\n",
       "      <td>0.349144</td>\n",
       "    </tr>\n",
       "    <tr>\n",
       "      <th>2</th>\n",
       "      <td>29</td>\n",
       "      <td>3586021.84</td>\n",
       "      <td>3458560.00</td>\n",
       "      <td>1886097.17</td>\n",
       "      <td>3133011.24</td>\n",
       "      <td>0.602008</td>\n",
       "    </tr>\n",
       "  </tbody>\n",
       "</table>\n",
       "</div>"
      ],
      "text/plain": [
       "   location_id  sales_2017  sales_2018  loyalty_sales_46_weeks  \\\n",
       "0            1  4520480.62  4509098.17              2371595.45   \n",
       "1            3  3636280.73  3613559.72              1140813.32   \n",
       "2           29  3586021.84  3458560.00              1886097.17   \n",
       "\n",
       "   total_sales_46_weeks  loyalty_overall_46_weeks_pctg  \n",
       "0            4064542.53                       0.583484  \n",
       "1            3267454.33                       0.349144  \n",
       "2            3133011.24                       0.602008  "
      ]
     },
     "execution_count": 32,
     "metadata": {},
     "output_type": "execute_result"
    }
   ],
   "source": [
    "loyal_total_sales_by_store.head(3)"
   ]
  },
  {
   "cell_type": "code",
   "execution_count": 33,
   "metadata": {
    "collapsed": true
   },
   "outputs": [],
   "source": [
    "# By store By week"
   ]
  },
  {
   "cell_type": "code",
   "execution_count": 34,
   "metadata": {
    "collapsed": true
   },
   "outputs": [],
   "source": [
    "total_sales_52_weeks=compariable_store_week_sales[compariable_store_week_sales['location_id'].isin(compariable_all_sales['location_id'])]\n",
    "total_sales_52_weeks=total_sales_52_weeks.set_index('location_id').stack().to_frame().reset_index()\n",
    "total_sales_52_weeks.columns=['location_id','week_end_date','total_sales']\n",
    "total_sales_52_weeks['week_end_date']=total_sales_52_weeks['week_end_date'].apply(lambda x:datetime.datetime.strptime(x,'%Y-%m-%d').date())\n",
    "total_sales_52_weeks_2017=total_sales_52_weeks[total_sales_52_weeks['week_end_date']<datetime.datetime(2017,5,10).date()]\n",
    "total_sales_52_weeks_2018=total_sales_52_weeks[total_sales_52_weeks['week_end_date']>datetime.datetime(2017,5,10).date()]"
   ]
  },
  {
   "cell_type": "code",
   "execution_count": 35,
   "metadata": {
    "collapsed": true
   },
   "outputs": [],
   "source": [
    "total_sales_52_weeks_2017=total_sales_52_weeks_2017.rename(columns={\"total_sales\":\"sales_compariable_2017\"})\n",
    "total_sales_52_weeks_2018=total_sales_52_weeks_2018.rename(columns={\"total_sales\":\"sales_compariable_2018\"})\n",
    "total_sales_52_weeks_2017['week_end_date']=total_sales_52_weeks_2017['week_end_date'].apply(lambda x: x+datetime.timedelta(days=52*7))\n",
    "total_sales_52_weeks_compariable=pd.merge(total_sales_52_weeks_2017,total_sales_52_weeks_2018,on=['location_id','week_end_date'],how=\"left\")\n"
   ]
  },
  {
   "cell_type": "code",
   "execution_count": 36,
   "metadata": {
    "collapsed": true
   },
   "outputs": [],
   "source": [
    "total_sales_52_weeks_compariable=pd.merge(total_sales_52_weeks_compariable,loyal_total_sales_long_by_week,on=['location_id','week_end_date'],how=\"left\")"
   ]
  },
  {
   "cell_type": "code",
   "execution_count": 37,
   "metadata": {},
   "outputs": [
    {
     "data": {
      "text/plain": [
       "datetime.date(2017, 5, 13)"
      ]
     },
     "execution_count": 37,
     "metadata": {},
     "output_type": "execute_result"
    }
   ],
   "source": [
    "total_sales_52_weeks_compariable['week_end_date'][0]"
   ]
  },
  {
   "cell_type": "code",
   "execution_count": 38,
   "metadata": {
    "collapsed": true
   },
   "outputs": [],
   "source": [
    "writer_store_level=pd.ExcelWriter(\"/home/jian/Projects/Big_Lots/Newspaper/Analysis/store_level_information.xlsx\",engine=\"xlsxwriter\")"
   ]
  },
  {
   "cell_type": "code",
   "execution_count": 39,
   "metadata": {
    "collapsed": true
   },
   "outputs": [],
   "source": [
    "zip_ta=pd.read_excel(\"/home/jian/Projects/Big_Lots/Newspaper/Analysis/BL_Zips in new TA (TA level)_JL_20180330.xlsx\",dtype=str)\n",
    "zip_ta=zip_ta[['location_id','zip_cd','trade_area_code','TA_of_zip','TA_of_store']].drop_duplicates()"
   ]
  },
  {
   "cell_type": "code",
   "execution_count": 40,
   "metadata": {
    "collapsed": true
   },
   "outputs": [],
   "source": [
    "ta_store_zip=zip_ta[zip_ta['location_id']!=\"nan\"][['location_id','zip_cd','trade_area_code','TA_of_store']].drop_duplicates()\n",
    "ta_store_zip['location_id']=ta_store_zip['location_id'].astype(int)"
   ]
  },
  {
   "cell_type": "code",
   "execution_count": 41,
   "metadata": {
    "collapsed": true
   },
   "outputs": [],
   "source": [
    "total_sales_52_weeks_compariable=pd.merge(total_sales_52_weeks_compariable,ta_store_zip,on=\"location_id\",how=\"left\")\n",
    "loyal_total_sales_by_store=pd.merge(loyal_total_sales_by_store,ta_store_zip,on=\"location_id\",how=\"left\")"
   ]
  },
  {
   "cell_type": "code",
   "execution_count": 42,
   "metadata": {
    "collapsed": true
   },
   "outputs": [],
   "source": [
    "loyal_total_sales_by_store.to_excel(writer_store_level,\"sales_by_store\",index=False)\n",
    "total_sales_52_weeks_compariable.to_excel(writer_store_level,\"sales_by_store_by_week\",index=False)\n",
    "compariable_store_week_sales.to_excel(writer_store_level,\"compariable_sales_data\",index=False)"
   ]
  },
  {
   "cell_type": "code",
   "execution_count": 43,
   "metadata": {
    "collapsed": true
   },
   "outputs": [],
   "source": [
    "writer_store_level.save()"
   ]
  },
  {
   "cell_type": "code",
   "execution_count": 44,
   "metadata": {},
   "outputs": [
    {
     "data": {
      "text/plain": [
       "188"
      ]
     },
     "execution_count": 44,
     "metadata": {},
     "output_type": "execute_result"
    }
   ],
   "source": [
    "gc.collect()"
   ]
  },
  {
   "cell_type": "markdown",
   "metadata": {},
   "source": [
    "# Zip_Level_Data"
   ]
  },
  {
   "cell_type": "code",
   "execution_count": 45,
   "metadata": {
    "collapsed": true
   },
   "outputs": [],
   "source": [
    "newspaper_detail_long_1year=newspaper_detail_long[newspaper_detail_long['Date']>datetime.datetime(2017,5,10).date()].reset_index()"
   ]
  },
  {
   "cell_type": "code",
   "execution_count": 46,
   "metadata": {
    "collapsed": true
   },
   "outputs": [],
   "source": [
    "newspaper_zip_total_circ=newspaper_detail_long_1year.groupby(['zip_cd'])['adjusted_circ_with_list'].sum().to_frame().reset_index()"
   ]
  },
  {
   "cell_type": "code",
   "execution_count": 47,
   "metadata": {
    "collapsed": true
   },
   "outputs": [],
   "source": [
    "newspaper_zip_total_week_count=newspaper_detail_long_1year[['zip_cd','Date']].drop_duplicates().groupby(['zip_cd'])['Date'].count().to_frame().reset_index()"
   ]
  },
  {
   "cell_type": "code",
   "execution_count": 48,
   "metadata": {
    "collapsed": true
   },
   "outputs": [],
   "source": [
    "newspaper_zip_total_cost=newspaper_detail_long_1year.groupby(['zip_cd'])['cost'].sum().to_frame().reset_index()"
   ]
  },
  {
   "cell_type": "code",
   "execution_count": 49,
   "metadata": {
    "collapsed": true
   },
   "outputs": [],
   "source": [
    "newspaper_zip_total_traget_store=newspaper_detail_long_1year[['zip_cd','storeid']].drop_duplicates().groupby(['zip_cd'])['storeid'].apply(list).to_frame().reset_index()\n",
    "newspaper_zip_total_traget_store['len']=[len(x) for x in newspaper_zip_total_traget_store['storeid']]\n",
    "newspaper_zip_total_traget_store.reset_index(inplace=True)\n",
    "del newspaper_zip_total_traget_store['index']"
   ]
  },
  {
   "cell_type": "code",
   "execution_count": 50,
   "metadata": {},
   "outputs": [
    {
     "data": {
      "text/html": [
       "<div>\n",
       "<style>\n",
       "    .dataframe thead tr:only-child th {\n",
       "        text-align: right;\n",
       "    }\n",
       "\n",
       "    .dataframe thead th {\n",
       "        text-align: left;\n",
       "    }\n",
       "\n",
       "    .dataframe tbody tr th {\n",
       "        vertical-align: top;\n",
       "    }\n",
       "</style>\n",
       "<table border=\"1\" class=\"dataframe\">\n",
       "  <thead>\n",
       "    <tr style=\"text-align: right;\">\n",
       "      <th></th>\n",
       "      <th>zip_cd</th>\n",
       "      <th>storeid</th>\n",
       "      <th>len</th>\n",
       "    </tr>\n",
       "  </thead>\n",
       "  <tbody>\n",
       "    <tr>\n",
       "      <th>18</th>\n",
       "      <td>01040</td>\n",
       "      <td>[1493, 1863]</td>\n",
       "      <td>2</td>\n",
       "    </tr>\n",
       "  </tbody>\n",
       "</table>\n",
       "</div>"
      ],
      "text/plain": [
       "   zip_cd       storeid len\n",
       "18  01040  [1493, 1863]   2"
      ]
     },
     "execution_count": 50,
     "metadata": {},
     "output_type": "execute_result"
    }
   ],
   "source": [
    "newspaper_zip_total_traget_store.iloc[18,:].to_frame().T"
   ]
  },
  {
   "cell_type": "code",
   "execution_count": null,
   "metadata": {},
   "outputs": [
    {
     "data": {
      "text/plain": [
       "120"
      ]
     },
     "execution_count": 51,
     "metadata": {},
     "output_type": "execute_result"
    }
   ],
   "source": [
    "gc.collect()"
   ]
  },
  {
   "cell_type": "code",
   "execution_count": null,
   "metadata": {},
   "outputs": [
    {
     "name": "stderr",
     "output_type": "stream",
     "text": [
      "/usr/local/lib/python3.6/site-packages/ipykernel_launcher.py:8: SettingWithCopyWarning: \n",
      "A value is trying to be set on a copy of a slice from a DataFrame.\n",
      "Try using .loc[row_indexer,col_indexer] = value instead\n",
      "\n",
      "See the caveats in the documentation: http://pandas.pydata.org/pandas-docs/stable/indexing.html#indexing-view-versus-copy\n",
      "  \n"
     ]
    },
    {
     "name": "stdout",
     "output_type": "stream",
     "text": [
      "1\n",
      "1001\n",
      "2001\n",
      "3001\n",
      "4001\n"
     ]
    }
   ],
   "source": [
    "loyalty_sales=loyal_total_sales_by_store[['location_id','loyalty_sales_46_weeks','total_sales_46_weeks']]\n",
    "loyalty_sales_pctg_result=pd.DataFrame()\n",
    "for i in range(len(newspaper_zip_total_traget_store)): \n",
    "    df=newspaper_zip_total_traget_store.iloc[i,:].to_frame().T.reset_index()\n",
    "    zipcode=df['zip_cd'][0]\n",
    "    store_list=df['storeid'][0]\n",
    "    loyalty_pctg_df=loyalty_sales[loyalty_sales['location_id'].isin(store_list)]\n",
    "    loyalty_pctg_df['zip_cd']=zipcode\n",
    "    \n",
    "    loyalty_pctg_df=loyalty_pctg_df.groupby(['zip_cd'])['loyalty_sales_46_weeks','total_sales_46_weeks'].sum().reset_index()\n",
    "    loyalty_pctg_df['loyalty_pctg_zip_sales']=loyalty_pctg_df['loyalty_sales_46_weeks']/loyalty_pctg_df['total_sales_46_weeks']\n",
    "    loyalty_pctg_df=loyalty_pctg_df[['zip_cd','loyalty_pctg_zip_sales']]\n",
    "    loyalty_sales_pctg_result=loyalty_sales_pctg_result.append(loyalty_pctg_df)   \n",
    "    if i %1000 ==1:\n",
    "        print(i)\n"
   ]
  },
  {
   "cell_type": "code",
   "execution_count": null,
   "metadata": {},
   "outputs": [],
   "source": [
    "loyalty_sales_pctg_result.shape"
   ]
  },
  {
   "cell_type": "code",
   "execution_count": null,
   "metadata": {},
   "outputs": [],
   "source": [
    "loyalty_sales_pctg_result.head(2)"
   ]
  },
  {
   "cell_type": "code",
   "execution_count": null,
   "metadata": {},
   "outputs": [],
   "source": [
    "gc.collect()"
   ]
  },
  {
   "cell_type": "markdown",
   "metadata": {},
   "source": [
    "## Demo F25-54"
   ]
  },
  {
   "cell_type": "code",
   "execution_count": 54,
   "metadata": {
    "collapsed": true
   },
   "outputs": [],
   "source": [
    "demo_data=pd.read_csv(\"/home/jian/Projects/Big_Lots/Newspaper/Analysis/Demo_Dataset.csv\",dtype=str)"
   ]
  },
  {
   "cell_type": "code",
   "execution_count": 55,
   "metadata": {
    "collapsed": true
   },
   "outputs": [],
   "source": [
    "demo_data=demo_data[['ZIP_CODE','HH15','Estimate; SEX AND AGE - Total population','Estimate; Female: - 25 to 29 years','Estimate; Female: - 30 to 34 years',\n",
    "                    'Estimate; Female: - 35 to 39 years','Estimate; Female: - 40 to 44 years','Estimate; Female: - 45 to 49 years','Estimate; Female: - 50 to 54 years']]\n",
    "for col in demo_data.columns.tolist()[1:]:\n",
    "    demo_data[col]=demo_data[col].astype(float)\n",
    "demo_data['ZIP_CODE']=demo_data['ZIP_CODE'].apply(lambda x:x.zfill(5))\n",
    "\n",
    "demo_data['F_25to54']=demo_data[['Estimate; Female: - 25 to 29 years','Estimate; Female: - 30 to 34 years',\n",
    "                    'Estimate; Female: - 35 to 39 years','Estimate; Female: - 40 to 44 years','Estimate; Female: - 45 to 49 years','Estimate; Female: - 50 to 54 years']].sum(axis=1)\n",
    "demo_data=demo_data[['ZIP_CODE','HH15','Estimate; SEX AND AGE - Total population','F_25to54']]"
   ]
  },
  {
   "cell_type": "code",
   "execution_count": 56,
   "metadata": {
    "collapsed": true
   },
   "outputs": [],
   "source": [
    "demo_data=demo_data.rename(columns={\"ZIP_CODE\":\"zip_cd\",\"Estimate; SEX AND AGE - Total population\":\"total_pop\"})"
   ]
  },
  {
   "cell_type": "code",
   "execution_count": 57,
   "metadata": {},
   "outputs": [
    {
     "data": {
      "text/html": [
       "<div>\n",
       "<style>\n",
       "    .dataframe thead tr:only-child th {\n",
       "        text-align: right;\n",
       "    }\n",
       "\n",
       "    .dataframe thead th {\n",
       "        text-align: left;\n",
       "    }\n",
       "\n",
       "    .dataframe tbody tr th {\n",
       "        vertical-align: top;\n",
       "    }\n",
       "</style>\n",
       "<table border=\"1\" class=\"dataframe\">\n",
       "  <thead>\n",
       "    <tr style=\"text-align: right;\">\n",
       "      <th></th>\n",
       "      <th>zip_cd</th>\n",
       "      <th>HH15</th>\n",
       "      <th>total_pop</th>\n",
       "      <th>F_25to54</th>\n",
       "    </tr>\n",
       "  </thead>\n",
       "  <tbody>\n",
       "    <tr>\n",
       "      <th>0</th>\n",
       "      <td>00501</td>\n",
       "      <td>0.0</td>\n",
       "      <td>0.0</td>\n",
       "      <td>0.0</td>\n",
       "    </tr>\n",
       "    <tr>\n",
       "      <th>1</th>\n",
       "      <td>01001</td>\n",
       "      <td>6872.6</td>\n",
       "      <td>17423.0</td>\n",
       "      <td>3604.0</td>\n",
       "    </tr>\n",
       "  </tbody>\n",
       "</table>\n",
       "</div>"
      ],
      "text/plain": [
       "  zip_cd    HH15  total_pop  F_25to54\n",
       "0  00501     0.0        0.0       0.0\n",
       "1  01001  6872.6    17423.0    3604.0"
      ]
     },
     "execution_count": 57,
     "metadata": {},
     "output_type": "execute_result"
    }
   ],
   "source": [
    "demo_data.head(2)"
   ]
  },
  {
   "cell_type": "markdown",
   "metadata": {},
   "source": [
    "# Final Zip Level Data"
   ]
  },
  {
   "cell_type": "code",
   "execution_count": 58,
   "metadata": {
    "collapsed": true
   },
   "outputs": [],
   "source": [
    "newspaper_zip_total_circ=newspaper_zip_total_circ.rename(columns={\"adjusted_circ_with_list\":\"total_circ\"})\n",
    "newspaper_zip_total_week_count=newspaper_zip_total_week_count.rename(columns={\"Date\":\"Event_Count\"})\n",
    "result_zip_level=pd.merge(newspaper_zip_total_circ,newspaper_zip_total_week_count,on=\"zip_cd\",how=\"left\")\n",
    "result_zip_level['Circ per Event']=result_zip_level['total_circ']/result_zip_level['Event_Count']\n",
    "result_zip_level=pd.merge(result_zip_level,newspaper_zip_total_cost,on=\"zip_cd\",how=\"left\")\n",
    "result_zip_level=pd.merge(result_zip_level,loyalty_sales_pctg_result,on=\"zip_cd\",how=\"left\")\n",
    "result_zip_level=pd.merge(result_zip_level,demo_data,on='zip_cd',how=\"left\")\n",
    "result_zip_level['Circ Penetration of F25_54']=result_zip_level['Circ per Event']/result_zip_level['F_25to54']"
   ]
  },
  {
   "cell_type": "code",
   "execution_count": null,
   "metadata": {
    "collapsed": true
   },
   "outputs": [],
   "source": []
  },
  {
   "cell_type": "code",
   "execution_count": 59,
   "metadata": {
    "collapsed": true
   },
   "outputs": [],
   "source": [
    "zip_ta_dedup_store=ta_store_zip[['zip_cd','TA_of_store','trade_area_code']]\n",
    "zip_ta_dedup_store=zip_ta_dedup_store.rename(columns={\"TA_of_store\":\"selected_TA\"})\n",
    "zip_ta_dedup_store=zip_ta_dedup_store[['zip_cd','selected_TA','trade_area_code']].drop_duplicates()\n",
    "\n",
    "zip_ta_dedup=zip_ta[['zip_cd','trade_area_code','TA_of_zip']].drop_duplicates().reset_index()\n",
    "del zip_ta_dedup['index']\n",
    "zip_ta_dedup=zip_ta_dedup.drop_duplicates(['zip_cd'])\n",
    "zip_ta_dedup_non_store=zip_ta_dedup[~zip_ta_dedup['zip_cd'].isin(zip_ta_dedup_store['zip_cd'])]\n",
    "zip_ta_dedup_non_store=zip_ta_dedup_non_store.rename(columns={\"TA_of_zip\":\"selected_TA\"})\n",
    "zip_ta_dedup_non_store=zip_ta_dedup_non_store[['zip_cd','selected_TA','trade_area_code']]\n",
    "zip_ta_dedup=zip_ta_dedup_store.append(zip_ta_dedup_non_store)"
   ]
  },
  {
   "cell_type": "code",
   "execution_count": null,
   "metadata": {
    "collapsed": true
   },
   "outputs": [],
   "source": []
  },
  {
   "cell_type": "code",
   "execution_count": 60,
   "metadata": {
    "collapsed": true
   },
   "outputs": [],
   "source": [
    "result_zip_level_left_merge=pd.merge(result_zip_level,zip_ta_dedup,on=\"zip_cd\",how=\"left\")\n",
    "result_zip_level_keep_all_zip_in_TA=pd.merge(result_zip_level,zip_ta_dedup,on=\"zip_cd\",how=\"outer\")"
   ]
  },
  {
   "cell_type": "markdown",
   "metadata": {},
   "source": [
    "# Loyalty members"
   ]
  },
  {
   "cell_type": "code",
   "execution_count": 61,
   "metadata": {
    "collapsed": true
   },
   "outputs": [],
   "source": [
    "loyalty_member_by_zip=pd.read_csv(\"/home/jian/Projects/Big_Lots/Loyal_members/Idsbyzipcode.csv\",dtype=str)"
   ]
  },
  {
   "cell_type": "code",
   "execution_count": 62,
   "metadata": {
    "collapsed": true
   },
   "outputs": [],
   "source": [
    "loyalty_member_by_zip.columns=['zip_cd','loyalty_mem_count']\n",
    "loyalty_member_by_zip['zip_cd']=loyalty_member_by_zip['zip_cd'].apply(lambda x:x.zfill(5))\n",
    "loyalty_member_by_zip['loyalty_mem_count']=loyalty_member_by_zip['loyalty_mem_count'].astype(int)"
   ]
  },
  {
   "cell_type": "code",
   "execution_count": 63,
   "metadata": {
    "collapsed": true
   },
   "outputs": [],
   "source": [
    "result_zip_level_left_merge=pd.merge(result_zip_level_left_merge,loyalty_member_by_zip,on=\"zip_cd\",how=\"left\")"
   ]
  },
  {
   "cell_type": "code",
   "execution_count": 64,
   "metadata": {
    "collapsed": true
   },
   "outputs": [],
   "source": [
    "result_zip_level_left_merge['loyalty_mem_count']=result_zip_level_left_merge['loyalty_mem_count'].fillna(0)\n",
    "result_zip_level_left_merge['loyalty_mem_count']=result_zip_level_left_merge['loyalty_mem_count'].astype(int)"
   ]
  },
  {
   "cell_type": "code",
   "execution_count": 65,
   "metadata": {
    "collapsed": true
   },
   "outputs": [],
   "source": [
    "result_zip_level_left_merge['loyalty_mem_penetration_F25_54']=result_zip_level_left_merge['loyalty_mem_count']/result_zip_level_left_merge['F_25to54']\n"
   ]
  },
  {
   "cell_type": "code",
   "execution_count": 66,
   "metadata": {
    "collapsed": true
   },
   "outputs": [],
   "source": [
    "store_zip=ta_store_zip[['location_id','zip_cd']].drop_duplicates().reset_index()\n",
    "del store_zip['index']\n",
    "\n",
    "compariable_store_week_sales['sum']=compariable_store_week_sales[compariable_store_week_sales.columns.tolist()[1:]].sum(axis=1)\n",
    "compariable_store_week_sales=compariable_store_week_sales[compariable_store_week_sales['sum']!=0]\n",
    "del compariable_store_week_sales['sum']\n",
    "compariable_store_week_sales.shape\n",
    "columns_dates=[datetime.datetime.strptime(x,\"%Y-%m-%d\").date() for x in compariable_store_week_sales.columns.tolist()[1:]]\n",
    "columns_dates_2017=[str(x) for x in columns_dates if x<datetime.datetime(2017,5,10).date()]\n",
    "columns_dates_2018=[str(x) for x in columns_dates if x>=datetime.datetime(2017,5,10).date()]\n",
    "df_sales_2017=compariable_store_week_sales[['location_id']+columns_dates_2017]\n",
    "df_sales_2018=compariable_store_week_sales[['location_id']+columns_dates_2018]\n",
    "df_sales_2017=pd.merge(df_sales_2017,store_zip,on=\"location_id\",how=\"left\")\n",
    "df_sales_2018=pd.merge(df_sales_2018,store_zip,on=\"location_id\",how=\"left\")\n",
    "\n",
    "\n",
    "df_sales_2017=df_sales_2017[['location_id','zip_cd']+columns_dates_2017]\n",
    "df_sales_2018=df_sales_2018[['location_id','zip_cd']+columns_dates_2018]\n",
    "df_sales_2017['2017_compariable_sales']=df_sales_2017[columns_dates_2017].sum(axis=1)\n",
    "df_sales_2018['2018_compariable_sales']=df_sales_2018[columns_dates_2018].sum(axis=1)\n",
    "df_sales_2017_store=df_sales_2017.groupby('zip_cd')['location_id'].apply(list).to_frame().reset_index()\n",
    "# df_sales_2018_store=df_sales_2018.groupby('zip_cd')['location_id'].apply(list).to_frame().reset_index() #The same\n",
    "df_sales_2017_sales=df_sales_2017.groupby('zip_cd')['2017_compariable_sales'].sum().to_frame().reset_index()\n",
    "df_sales_2018_sales=df_sales_2018.groupby('zip_cd')['2018_compariable_sales'].sum().to_frame().reset_index()\n",
    "sales_by_zip_df=pd.merge(df_sales_2017_store,df_sales_2017_sales,on=\"zip_cd\",how=\"left\")\n",
    "sales_by_zip_df=pd.merge(sales_by_zip_df,df_sales_2018_sales,on=\"zip_cd\",how=\"left\")\n",
    "sales_by_zip_df['YoY']=(sales_by_zip_df['2018_compariable_sales']-sales_by_zip_df['2017_compariable_sales'])/sales_by_zip_df['2017_compariable_sales']"
   ]
  },
  {
   "cell_type": "code",
   "execution_count": 67,
   "metadata": {
    "collapsed": true
   },
   "outputs": [],
   "source": [
    "result_zip_level_left_merge=pd.merge(result_zip_level_left_merge,sales_by_zip_df,on=\"zip_cd\",how=\"left\")"
   ]
  },
  {
   "cell_type": "code",
   "execution_count": 68,
   "metadata": {
    "collapsed": true
   },
   "outputs": [],
   "source": [
    "# Add Loyalty transactions and TA labels and store list (store level ta)"
   ]
  },
  {
   "cell_type": "code",
   "execution_count": 69,
   "metadata": {
    "collapsed": true
   },
   "outputs": [],
   "source": [
    "Revenue_Label=pd.read_excel(\"/home/jian/Projects/Big_Lots/Newspaper/Analysis/BL_Zips in new TA (TA level)_JL_20180330.xlsx\",dtype=str)\n",
    "Revenue_Label=Revenue_Label[['zip_cd','revenue_flag']].drop_duplicates().reset_index()\n",
    "del Revenue_Label['index']\n",
    "result_zip_level_left_merge=pd.merge(result_zip_level_left_merge,Revenue_Label,on=\"zip_cd\",how=\"left\")"
   ]
  },
  {
   "cell_type": "code",
   "execution_count": 70,
   "metadata": {
    "collapsed": true
   },
   "outputs": [],
   "source": [
    "store_list_for_zip=pd.read_csv(\"/home/jian/Projects/Big_Lots/New_TA/zips in new ta/sales_by_zip (Store level).csv\",dtype=str,na_values=[\"\"])\n",
    "store_list_for_zip=store_list_for_zip[['zip','location_id']].drop_duplicates().reset_index()\n",
    "del store_list_for_zip['index']\n",
    "store_list_for_zip=store_list_for_zip.groupby(['zip'])['location_id'].apply(set).to_frame().reset_index()\n",
    "store_list_for_zip=store_list_for_zip.rename(columns={\"zip\":\"zip_cd\",\"location_id\":\"store_list\"})\n",
    "result_zip_level_left_merge=pd.merge(result_zip_level_left_merge,store_list_for_zip,on=\"zip_cd\",how=\"left\")"
   ]
  },
  {
   "cell_type": "markdown",
   "metadata": {
    "collapsed": true
   },
   "source": [
    "##### Add Sales by Zip for Loyalty Member"
   ]
  },
  {
   "cell_type": "code",
   "execution_count": 83,
   "metadata": {
    "collapsed": true
   },
   "outputs": [],
   "source": [
    "sales_by_zip_matched=pd.read_csv(\"/home/jian/Projects/Big_Lots/Loyal_members/sales_of_loyalty_member/sales_by_zip_agg_20180529.csv\",dtype=str)\n",
    "sales_by_zip_matched['customer_zip_code']=sales_by_zip_matched['customer_zip_code'].apply(lambda x: x.replace(\" \",\"\"))\n",
    "sales_by_zip_matched['customer_zip_code']=sales_by_zip_matched['customer_zip_code'].apply(lambda x: x.replace(\" \",\"\"))\n",
    "sales_by_zip_matched['customer_zip_code']=sales_by_zip_matched['customer_zip_code'].apply(lambda x: x.replace(\" \",\"\"))\n",
    "sales_by_zip_matched['customer_zip_code']=sales_by_zip_matched['customer_zip_code'].apply(lambda x: x.zfill(5))\n",
    "sales_by_zip_matched['total_transaction_amt']=sales_by_zip_matched['total_transaction_amt'].astype(float)\n",
    "sales_by_zip_matched['total_transaction_count']=sales_by_zip_matched['total_transaction_count'].astype(int)\n",
    "sales_by_zip_matched['week_end_date']=sales_by_zip_matched['week_end_date'].apply(lambda x: datetime.datetime.strptime(x,\"%Y-%m-%d\").date())\n",
    "sales_by_zip_matched=sales_by_zip_matched[sales_by_zip_matched['week_end_date'].isin(loyalty_sales_full_weeks_46_weeks['week_end_date'].unique().tolist())]"
   ]
  },
  {
   "cell_type": "code",
   "execution_count": 87,
   "metadata": {
    "collapsed": true
   },
   "outputs": [],
   "source": [
    "sales_by_zip_matched=sales_by_zip_matched.rename(columns={\"customer_zip_code\":\"zip_cd\",\"total_transaction_amt\":\"loyalty_sales_by_zip\",\"total_transaction_count\":\"loyalty_transactions_by_zip\"})\n",
    "sales_by_zip_matched_agg=sales_by_zip_matched.groupby(['zip_cd'])['loyalty_sales_by_zip','loyalty_transactions_by_zip'].sum().reset_index()\n",
    "result_zip_level_left_merge=pd.merge(result_zip_level_left_merge,sales_by_zip_matched_agg,on='zip_cd',how=\"left\")\n",
    "# The sum is not all loyalty sales/trans because of the zips of loyalty not in the circ"
   ]
  },
  {
   "cell_type": "code",
   "execution_count": 88,
   "metadata": {
    "collapsed": true
   },
   "outputs": [],
   "source": [
    "result_zip_level_left_merge['loyalty_label']=np.where(result_zip_level_left_merge['loyalty_mem_count']>np.percentile(result_zip_level_left_merge['loyalty_mem_count'], 80),\"Loyalty_5\",\n",
    "                                                     np.where(result_zip_level_left_merge['loyalty_mem_count']>np.percentile(result_zip_level_left_merge['loyalty_mem_count'], 60),\"Loyalty_4\",\n",
    "                                                              np.where(result_zip_level_left_merge['loyalty_mem_count']>np.percentile(result_zip_level_left_merge['loyalty_mem_count'], 40),\"Loyalty_3\",\n",
    "                                                                       np.where(result_zip_level_left_merge['loyalty_mem_count']>np.percentile(result_zip_level_left_merge['loyalty_mem_count'], 20),\"Loyalty_2\",\n",
    "                                                                                \"Loyalty_1\")\n",
    "                                                                      )\n",
    "                                                             )\n",
    "                                                     )\n",
    "result_zip_level_left_merge['circ_label']=np.where(result_zip_level_left_merge['total_circ']>np.percentile(result_zip_level_left_merge['total_circ'], 80),\"Total_Circ_5\",\n",
    "                                                     np.where(result_zip_level_left_merge['total_circ']>np.percentile(result_zip_level_left_merge['total_circ'], 60),\"Total_Circ_4\",\n",
    "                                                              np.where(result_zip_level_left_merge['total_circ']>np.percentile(result_zip_level_left_merge['total_circ'], 40),\"Total_Circ_3\",\n",
    "                                                                       np.where(result_zip_level_left_merge['total_circ']>np.percentile(result_zip_level_left_merge['total_circ'], 20),\"Total_Circ_2\",\n",
    "                                                                                \"Total_Circ_1\")\n",
    "                                                                      )\n",
    "                                                             )\n",
    "                                                     )"
   ]
  },
  {
   "cell_type": "code",
   "execution_count": 89,
   "metadata": {
    "collapsed": true
   },
   "outputs": [],
   "source": [
    "result_zip_level_left_merge['Split_of_weekly_circ']=np.nan\n",
    "newspaper_wide=newspaper_detail_long_1year.groupby(['zip_cd','Date'])['adjusted_circ_with_list'].sum().to_frame().reset_index()\n",
    "newspaper_wide=newspaper_wide.sort_values(['zip_cd','Date']).reset_index()\n",
    "newspaper_wide['Date']=newspaper_wide['Date'].apply(lambda x:str(x))\n",
    "del newspaper_wide['index']\n",
    "newspaper_wide=newspaper_wide.pivot(index=\"zip_cd\",columns=\"Date\",values=\"adjusted_circ_with_list\").reset_index()\n",
    "result_zip_level_left_merge=pd.merge(result_zip_level_left_merge,newspaper_wide,on=\"zip_cd\",how=\"left\")"
   ]
  },
  {
   "cell_type": "code",
   "execution_count": 90,
   "metadata": {
    "collapsed": true
   },
   "outputs": [],
   "source": [
    "result_zip_level_left_merge.to_csv(\"/home/jian/Projects/Big_Lots/Newspaper/Analysis/zip_level_information.csv\",index=False)"
   ]
  },
  {
   "cell_type": "markdown",
   "metadata": {},
   "source": [
    "# QC and Check"
   ]
  },
  {
   "cell_type": "code",
   "execution_count": 183,
   "metadata": {
    "collapsed": true
   },
   "outputs": [],
   "source": [
    "x=newspaper_detail_long_1year[newspaper_detail_long_1year['storeid']==4677]"
   ]
  },
  {
   "cell_type": "code",
   "execution_count": 181,
   "metadata": {},
   "outputs": [
    {
     "data": {
      "text/html": [
       "<div>\n",
       "<style>\n",
       "    .dataframe thead tr:only-child th {\n",
       "        text-align: right;\n",
       "    }\n",
       "\n",
       "    .dataframe thead th {\n",
       "        text-align: left;\n",
       "    }\n",
       "\n",
       "    .dataframe tbody tr th {\n",
       "        vertical-align: top;\n",
       "    }\n",
       "</style>\n",
       "<table border=\"1\" class=\"dataframe\">\n",
       "  <thead>\n",
       "    <tr style=\"text-align: right;\">\n",
       "      <th></th>\n",
       "      <th>index</th>\n",
       "      <th>Date</th>\n",
       "      <th>adjusted_circ_with_list</th>\n",
       "      <th>storeid</th>\n",
       "      <th>zip_cd</th>\n",
       "      <th>productid</th>\n",
       "      <th>media_cpm</th>\n",
       "      <th>print_cpm</th>\n",
       "      <th>cost</th>\n",
       "    </tr>\n",
       "  </thead>\n",
       "  <tbody>\n",
       "  </tbody>\n",
       "</table>\n",
       "</div>"
      ],
      "text/plain": [
       "Empty DataFrame\n",
       "Columns: [index, Date, adjusted_circ_with_list, storeid, zip_cd, productid, media_cpm, print_cpm, cost]\n",
       "Index: []"
      ]
     },
     "execution_count": 181,
     "metadata": {},
     "output_type": "execute_result"
    }
   ],
   "source": [
    "x"
   ]
  },
  {
   "cell_type": "markdown",
   "metadata": {},
   "source": [
    "# Matrix Building"
   ]
  },
  {
   "cell_type": "code",
   "execution_count": 103,
   "metadata": {
    "collapsed": true
   },
   "outputs": [],
   "source": [
    "matrix_excel_writer=pd.ExcelWriter(\"/home/jian/Projects/Big_Lots/Newspaper/Analysis/BL_Newspaper Matrix_JL_20180525.xlsx\",engine=\"xlsxwriter\")"
   ]
  },
  {
   "cell_type": "code",
   "execution_count": 104,
   "metadata": {
    "collapsed": true
   },
   "outputs": [],
   "source": [
    "matrix_of_zip_list=result_zip_level_left_merge[['zip_cd','loyalty_label','circ_label']].groupby(['loyalty_label','circ_label'])['zip_cd'].apply(list).to_frame().reset_index()\n",
    "matrix_of_zip_list.columns=matrix_of_zip_list.columns.tolist()[0:2]+[\"zip_cd_list\"]\n",
    "matrix_of_zip_list=matrix_of_zip_list.pivot(index=\"loyalty_label\",columns=\"circ_label\",values=\"zip_cd_list\").reset_index()\n",
    "\n",
    "matrix_of_zip_list.to_excel(matrix_excel_writer,\"zip_list\",index=False)"
   ]
  },
  {
   "cell_type": "code",
   "execution_count": 105,
   "metadata": {
    "collapsed": true
   },
   "outputs": [],
   "source": [
    "matrix_of_totol_zip_count=matrix_of_zip_list.copy()\n",
    "for col in matrix_of_totol_zip_count.columns.tolist()[1:]:\n",
    "    matrix_of_totol_zip_count[col]=[len(x) for x in matrix_of_totol_zip_count[col]]\n",
    "matrix_of_totol_zip_count.to_excel(matrix_excel_writer,\"zip_count\",index=False)"
   ]
  },
  {
   "cell_type": "code",
   "execution_count": 106,
   "metadata": {},
   "outputs": [
    {
     "data": {
      "text/html": [
       "<div>\n",
       "<style>\n",
       "    .dataframe thead tr:only-child th {\n",
       "        text-align: right;\n",
       "    }\n",
       "\n",
       "    .dataframe thead th {\n",
       "        text-align: left;\n",
       "    }\n",
       "\n",
       "    .dataframe tbody tr th {\n",
       "        vertical-align: top;\n",
       "    }\n",
       "</style>\n",
       "<table border=\"1\" class=\"dataframe\">\n",
       "  <thead>\n",
       "    <tr style=\"text-align: right;\">\n",
       "      <th>circ_label</th>\n",
       "      <th>loyalty_label</th>\n",
       "      <th>Total_Circ_1</th>\n",
       "      <th>Total_Circ_2</th>\n",
       "      <th>Total_Circ_3</th>\n",
       "      <th>Total_Circ_4</th>\n",
       "      <th>Total_Circ_5</th>\n",
       "    </tr>\n",
       "  </thead>\n",
       "  <tbody>\n",
       "    <tr>\n",
       "      <th>0</th>\n",
       "      <td>Loyalty_1</td>\n",
       "      <td>2696</td>\n",
       "      <td>957</td>\n",
       "      <td>376</td>\n",
       "      <td>40</td>\n",
       "      <td>2</td>\n",
       "    </tr>\n",
       "    <tr>\n",
       "      <th>1</th>\n",
       "      <td>Loyalty_2</td>\n",
       "      <td>981</td>\n",
       "      <td>1391</td>\n",
       "      <td>1287</td>\n",
       "      <td>313</td>\n",
       "      <td>5</td>\n",
       "    </tr>\n",
       "    <tr>\n",
       "      <th>2</th>\n",
       "      <td>Loyalty_3</td>\n",
       "      <td>281</td>\n",
       "      <td>1086</td>\n",
       "      <td>1413</td>\n",
       "      <td>1167</td>\n",
       "      <td>72</td>\n",
       "    </tr>\n",
       "    <tr>\n",
       "      <th>3</th>\n",
       "      <td>Loyalty_4</td>\n",
       "      <td>57</td>\n",
       "      <td>543</td>\n",
       "      <td>807</td>\n",
       "      <td>1850</td>\n",
       "      <td>758</td>\n",
       "    </tr>\n",
       "    <tr>\n",
       "      <th>4</th>\n",
       "      <td>Loyalty_5</td>\n",
       "      <td>6</td>\n",
       "      <td>43</td>\n",
       "      <td>138</td>\n",
       "      <td>650</td>\n",
       "      <td>3184</td>\n",
       "    </tr>\n",
       "  </tbody>\n",
       "</table>\n",
       "</div>"
      ],
      "text/plain": [
       "circ_label loyalty_label  Total_Circ_1  Total_Circ_2  Total_Circ_3  \\\n",
       "0              Loyalty_1          2696           957           376   \n",
       "1              Loyalty_2           981          1391          1287   \n",
       "2              Loyalty_3           281          1086          1413   \n",
       "3              Loyalty_4            57           543           807   \n",
       "4              Loyalty_5             6            43           138   \n",
       "\n",
       "circ_label  Total_Circ_4  Total_Circ_5  \n",
       "0                     40             2  \n",
       "1                    313             5  \n",
       "2                   1167            72  \n",
       "3                   1850           758  \n",
       "4                    650          3184  "
      ]
     },
     "execution_count": 106,
     "metadata": {},
     "output_type": "execute_result"
    }
   ],
   "source": [
    "matrix_of_totol_zip_count"
   ]
  },
  {
   "cell_type": "code",
   "execution_count": 107,
   "metadata": {
    "collapsed": true
   },
   "outputs": [],
   "source": [
    "matrix_of_store_sales_2017=result_zip_level_left_merge[['circ_label','loyalty_label','2017_compariable_sales']].groupby(['loyalty_label','circ_label'])['2017_compariable_sales'].sum().to_frame().reset_index()\n",
    "matrix_of_store_sales_2017=matrix_of_store_sales_2017.pivot(index=\"loyalty_label\",columns=\"circ_label\",values=\"2017_compariable_sales\").reset_index()\n",
    "matrix_of_store_sales_2017.to_excel(matrix_excel_writer,\"store_sales_2017\",index=False)"
   ]
  },
  {
   "cell_type": "code",
   "execution_count": 108,
   "metadata": {
    "collapsed": true
   },
   "outputs": [],
   "source": [
    "matrix_of_store_sales_2018=result_zip_level_left_merge[['circ_label','loyalty_label','2018_compariable_sales']].groupby(['loyalty_label','circ_label'])['2018_compariable_sales'].sum().to_frame().reset_index()\n",
    "matrix_of_store_sales_2018=matrix_of_store_sales_2018.pivot(index=\"loyalty_label\",columns=\"circ_label\",values=\"2018_compariable_sales\").reset_index()\n",
    "matrix_of_store_sales_2018.to_excel(matrix_excel_writer,\"store_sales_2018\",index=False)\n",
    "\n"
   ]
  },
  {
   "cell_type": "code",
   "execution_count": 109,
   "metadata": {},
   "outputs": [
    {
     "name": "stderr",
     "output_type": "stream",
     "text": [
      "/usr/local/lib/python3.6/site-packages/ipykernel_launcher.py:6: SettingWithCopyWarning: \n",
      "A value is trying to be set on a copy of a slice from a DataFrame\n",
      "\n",
      "See the caveats in the documentation: http://pandas.pydata.org/pandas-docs/stable/indexing.html#indexing-view-versus-copy\n",
      "  \n"
     ]
    }
   ],
   "source": [
    "matrix_of_store_sales_YoY=pd.DataFrame({\"Total_Circ_1\":[np.nan]*5,\"Total_Circ_2\":[np.nan]*5,\"Total_Circ_3\":[np.nan]*5,\n",
    "                                       \"Total_Circ_4\":[np.nan]*5,\"Total_Circ_5\":[np.nan]*5},index=matrix_of_store_sales_2018['loyalty_label']).reset_index()\n",
    "\n",
    "for i in range(5):\n",
    "    for col in matrix_of_store_sales_2018.columns.tolist()[1:]:\n",
    "        matrix_of_store_sales_YoY[col][i]=(matrix_of_store_sales_2018[col][i]-matrix_of_store_sales_2017[col][i])/matrix_of_store_sales_2017[col][i]\n",
    "matrix_of_store_sales_YoY.to_excel(matrix_excel_writer,\"store_sales_YoY\",index=False)\n",
    "\n"
   ]
  },
  {
   "cell_type": "code",
   "execution_count": 110,
   "metadata": {
    "collapsed": true
   },
   "outputs": [],
   "source": [
    "def matrix_of_sum(df,col):\n",
    "    df_pivot=df[['circ_label','loyalty_label',col]].groupby(['loyalty_label','circ_label'])[col].sum().to_frame().reset_index()\n",
    "    result=df_pivot.pivot(index=\"loyalty_label\",columns=\"circ_label\",values=col).reset_index()\n",
    "    return result\n"
   ]
  },
  {
   "cell_type": "code",
   "execution_count": 111,
   "metadata": {
    "collapsed": true
   },
   "outputs": [],
   "source": [
    "matrix_of_total_pop=matrix_of_sum(result_zip_level_left_merge,\"total_pop\")\n",
    "matrix_of_total_female25_54=matrix_of_sum(result_zip_level_left_merge,\"F_25to54\")\n",
    "matrix_of_total_households=matrix_of_sum(result_zip_level_left_merge,\"HH15\")\n",
    "matrix_of_total_loyalty_mem=matrix_of_sum(result_zip_level_left_merge,\"loyalty_mem_count\")\n",
    "matrix_of_circ_per_event=matrix_of_sum(result_zip_level_left_merge,\"Circ per Event\")\n",
    "matrix_of_lotyalty_sales=matrix_of_sum(result_zip_level_left_merge,\"loyalty_sales_by_zip\")\n",
    "matrix_of_lotyalty_trans=matrix_of_sum(result_zip_level_left_merge,\"loyalty_transactions_by_zip\")\n",
    "matrix_of_lotyalty_cost=matrix_of_sum(result_zip_level_left_merge,\"cost\")"
   ]
  },
  {
   "cell_type": "code",
   "execution_count": 112,
   "metadata": {
    "collapsed": true
   },
   "outputs": [],
   "source": [
    "matrix_of_total_pop.to_excel(matrix_excel_writer,\"total_population\",index=False)\n",
    "matrix_of_total_female25_54.to_excel(matrix_excel_writer,\"female_25_54\",index=False)\n",
    "matrix_of_total_households.to_excel(matrix_excel_writer,\"total_households\",index=False)\n",
    "matrix_of_total_loyalty_mem.to_excel(matrix_excel_writer,\"loyalty_members\",index=False)\n",
    "matrix_of_circ_per_event.to_excel(matrix_excel_writer,\"circ_per_event\",index=False)\n",
    "matrix_of_lotyalty_sales.to_excel(matrix_excel_writer,\"loyalty_sales\",index=False)\n",
    "matrix_of_lotyalty_trans.to_excel(matrix_excel_writer,\"loyalty_transaction\",index=False)\n",
    "matrix_of_lotyalty_cost.to_excel(matrix_excel_writer,\"circ_cost\",index=False)"
   ]
  },
  {
   "cell_type": "code",
   "execution_count": 113,
   "metadata": {
    "collapsed": true
   },
   "outputs": [],
   "source": [
    "matrix_excel_writer.save()"
   ]
  },
  {
   "cell_type": "code",
   "execution_count": null,
   "metadata": {
    "collapsed": true
   },
   "outputs": [],
   "source": []
  }
 ],
 "metadata": {
  "kernelspec": {
   "display_name": "Python 3",
   "language": "python",
   "name": "python3"
  },
  "language_info": {
   "codemirror_mode": {
    "name": "ipython",
    "version": 3
   },
   "file_extension": ".py",
   "mimetype": "text/x-python",
   "name": "python",
   "nbconvert_exporter": "python",
   "pygments_lexer": "ipython3",
   "version": "3.6.1"
  }
 },
 "nbformat": 4,
 "nbformat_minor": 2
}
