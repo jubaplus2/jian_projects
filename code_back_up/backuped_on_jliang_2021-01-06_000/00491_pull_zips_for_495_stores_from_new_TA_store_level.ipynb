{
 "cells": [
  {
   "cell_type": "code",
   "execution_count": 1,
   "metadata": {},
   "outputs": [
    {
     "data": {
      "text/plain": [
       "'/home/jian/Projects/Big_Lots/Analysis/2019_Q2/Planner_Requests/zips_Kayla_F_F_20190726'"
      ]
     },
     "execution_count": 1,
     "metadata": {},
     "output_type": "execute_result"
    }
   ],
   "source": [
    "import pandas as pd\n",
    "import numpy as np\n",
    "import datetime\n",
    "import os\n",
    "import json\n",
    "from haversine import haversine\n",
    "\n",
    "\n",
    "zip_center=json.load(open(\"/home/jian/Docs/Geo_mapping/updated_zip_centers_JL_2019-05-23.json\",\"r\"))\n",
    "\n",
    "os.getcwd()"
   ]
  },
  {
   "cell_type": "code",
   "execution_count": 2,
   "metadata": {
    "collapsed": true
   },
   "outputs": [],
   "source": [
    "def get_dist(store_lat,store_lng,zip_cd):\n",
    "    if zip_cd in zip_center.keys():\n",
    "        dist_return=haversine([store_lat,store_lng],zip_center[zip_cd],miles=True)\n",
    "    else:\n",
    "        dist_return=99999\n",
    "\n",
    "    return dist_return\n"
   ]
  },
  {
   "cell_type": "code",
   "execution_count": 3,
   "metadata": {},
   "outputs": [
    {
     "name": "stdout",
     "output_type": "stream",
     "text": [
      "494\n",
      "494\n"
     ]
    }
   ],
   "source": [
    "store_list=pd.read_excel(\"./F&F Store List 7-27 and 7-28.xlsx\",dtype=str,usecols=[0,9])\n",
    "new_store_list_Kayla=store_list['New Store List'].tolist()\n",
    "new_store_list_Kayla=[x for x in new_store_list_Kayla if x!=\"nan\"]\n",
    "\n",
    "original_store_list_Kayla=store_list['Original Store List'].tolist()\n",
    "original_store_list_Kayla=[x for x in original_store_list_Kayla if x!=\"nan\"]\n",
    "\n",
    "store_list=new_store_list_Kayla+original_store_list_Kayla\n",
    "print(len(store_list))\n",
    "print(len(set(store_list)))\n"
   ]
  },
  {
   "cell_type": "code",
   "execution_count": 4,
   "metadata": {},
   "outputs": [
    {
     "data": {
      "text/plain": [
       "(29386, 3)"
      ]
     },
     "execution_count": 4,
     "metadata": {},
     "output_type": "execute_result"
    }
   ],
   "source": [
    "store_level_zips=pd.read_csv(\"/home/jian/Projects/Big_Lots/New_TA/TA_created_in_201906/final_output_20190718/output_by_store_zip_sales_cum_60Plus_only_JL_2019-07-26.csv\",\n",
    "                               dtype=str,usecols=['location_id','customer_zip_code','trans_flag']).rename(columns={\"customer_zip_code\":\"zip_cd\"})\n",
    "\n",
    "# store_level_zips['trans']=store_level_zips['trans'].astype(float).astype(int)\n",
    "store_level_zips['zip_cd']=store_level_zips['zip_cd'].fillna(\"00000\")\n",
    "\n",
    "store_level_zips=store_level_zips[store_level_zips['trans_flag'].isin(['P', 'S'])]\n",
    "# store_level_zips['transaction_dt_nunique']=store_level_zips['transaction_dt_nunique'].astype(float).astype(int)\n",
    "# store_level_zips=store_level_zips[store_level_zips['transaction_dt_nunique']>=60]\n",
    "store_level_zips.shape"
   ]
  },
  {
   "cell_type": "code",
   "execution_count": 5,
   "metadata": {},
   "outputs": [
    {
     "data": {
      "text/plain": [
       "(494, 4)"
      ]
     },
     "execution_count": 5,
     "metadata": {},
     "output_type": "execute_result"
    }
   ],
   "source": [
    "df_store_list=pd.read_table(\"/home/jian/BigLots/static_files/Store_list/MediaStormStores20190701-134908-815.txt\",\n",
    "                            sep=\"|\",dtype=str)\n",
    "df_store_list=df_store_list[['location_id','latitude_meas','longitude_meas',\"zip_cd\"]].rename(columns={\"zip_cd\":\"store_zip\"})\n",
    "df_store_list['store_zip']=df_store_list['store_zip'].apply(lambda x: x.split(\"-\")[0].zfill(5))\n",
    "\n",
    "df_store_list['latitude_meas']=df_store_list['latitude_meas'].astype(float)\n",
    "df_store_list['longitude_meas']=df_store_list['longitude_meas'].astype(float)\n",
    "df_store_list=df_store_list[df_store_list['location_id'].isin(store_list)]\n",
    "df_store_list.shape"
   ]
  },
  {
   "cell_type": "code",
   "execution_count": 6,
   "metadata": {},
   "outputs": [
    {
     "data": {
      "text/plain": [
       "[]"
      ]
     },
     "execution_count": 6,
     "metadata": {},
     "output_type": "execute_result"
    }
   ],
   "source": [
    "new_store=[x for x in store_list if x not in df_store_list['location_id'].tolist()]\n",
    "new_store"
   ]
  },
  {
   "cell_type": "code",
   "execution_count": 7,
   "metadata": {},
   "outputs": [
    {
     "data": {
      "text/plain": [
       "(7576, 6)"
      ]
     },
     "execution_count": 7,
     "metadata": {},
     "output_type": "execute_result"
    }
   ],
   "source": [
    "df_store_list=pd.merge(df_store_list,store_level_zips,on=\"location_id\",how=\"left\")\n",
    "df_store_list.shape"
   ]
  },
  {
   "cell_type": "code",
   "execution_count": 8,
   "metadata": {},
   "outputs": [
    {
     "data": {
      "text/plain": [
       "(6, 6)"
      ]
     },
     "execution_count": 8,
     "metadata": {},
     "output_type": "execute_result"
    }
   ],
   "source": [
    "df_store_list_old=df_store_list[pd.notnull(df_store_list['trans_flag'])]\n",
    "df_store_list_new=df_store_list[pd.isnull(df_store_list['trans_flag'])]\n",
    "df_store_list_new.shape"
   ]
  },
  {
   "cell_type": "code",
   "execution_count": 9,
   "metadata": {},
   "outputs": [
    {
     "name": "stderr",
     "output_type": "stream",
     "text": [
      "/usr/local/lib/python3.6/site-packages/ipykernel_launcher.py:1: SettingWithCopyWarning: \n",
      "A value is trying to be set on a copy of a slice from a DataFrame.\n",
      "Try using .loc[row_indexer,col_indexer] = value instead\n",
      "\n",
      "See the caveats in the documentation: http://pandas.pydata.org/pandas-docs/stable/indexing.html#indexing-view-versus-copy\n",
      "  \"\"\"Entry point for launching an IPython kernel.\n"
     ]
    }
   ],
   "source": [
    "df_store_list_old['dist_miles']=df_store_list_old.apply(lambda df: get_dist(df['latitude_meas'],df['longitude_meas'],df['zip_cd']),axis=1)\n",
    "df_store_list_old=df_store_list_old[(df_store_list_old['dist_miles']<=20) | (df_store_list_old['trans_flag']==\"P\")]\n"
   ]
  },
  {
   "cell_type": "code",
   "execution_count": 10,
   "metadata": {},
   "outputs": [
    {
     "data": {
      "text/html": [
       "<div>\n",
       "<style>\n",
       "    .dataframe thead tr:only-child th {\n",
       "        text-align: right;\n",
       "    }\n",
       "\n",
       "    .dataframe thead th {\n",
       "        text-align: left;\n",
       "    }\n",
       "\n",
       "    .dataframe tbody tr th {\n",
       "        vertical-align: top;\n",
       "    }\n",
       "</style>\n",
       "<table border=\"1\" class=\"dataframe\">\n",
       "  <thead>\n",
       "    <tr style=\"text-align: right;\">\n",
       "      <th></th>\n",
       "      <th>location_id</th>\n",
       "      <th>latitude_meas</th>\n",
       "      <th>longitude_meas</th>\n",
       "      <th>store_zip</th>\n",
       "      <th>zip_cd</th>\n",
       "      <th>trans_flag</th>\n",
       "      <th>dist_miles</th>\n",
       "    </tr>\n",
       "  </thead>\n",
       "  <tbody>\n",
       "    <tr>\n",
       "      <th>0</th>\n",
       "      <td>375</td>\n",
       "      <td>34.161278</td>\n",
       "      <td>-86.836922</td>\n",
       "      <td>35055</td>\n",
       "      <td>35055</td>\n",
       "      <td>P</td>\n",
       "      <td>1.696242</td>\n",
       "    </tr>\n",
       "    <tr>\n",
       "      <th>1</th>\n",
       "      <td>375</td>\n",
       "      <td>34.161278</td>\n",
       "      <td>-86.836922</td>\n",
       "      <td>35055</td>\n",
       "      <td>35057</td>\n",
       "      <td>P</td>\n",
       "      <td>6.392634</td>\n",
       "    </tr>\n",
       "  </tbody>\n",
       "</table>\n",
       "</div>"
      ],
      "text/plain": [
       "  location_id  latitude_meas  longitude_meas store_zip zip_cd trans_flag  \\\n",
       "0         375      34.161278      -86.836922     35055  35055          P   \n",
       "1         375      34.161278      -86.836922     35055  35057          P   \n",
       "\n",
       "   dist_miles  \n",
       "0    1.696242  \n",
       "1    6.392634  "
      ]
     },
     "execution_count": 10,
     "metadata": {},
     "output_type": "execute_result"
    }
   ],
   "source": [
    "df_store_list_old.head(2)"
   ]
  },
  {
   "cell_type": "code",
   "execution_count": 11,
   "metadata": {},
   "outputs": [
    {
     "data": {
      "text/html": [
       "<div>\n",
       "<style>\n",
       "    .dataframe thead tr:only-child th {\n",
       "        text-align: right;\n",
       "    }\n",
       "\n",
       "    .dataframe thead th {\n",
       "        text-align: left;\n",
       "    }\n",
       "\n",
       "    .dataframe tbody tr th {\n",
       "        vertical-align: top;\n",
       "    }\n",
       "</style>\n",
       "<table border=\"1\" class=\"dataframe\">\n",
       "  <thead>\n",
       "    <tr style=\"text-align: right;\">\n",
       "      <th></th>\n",
       "      <th>location_id</th>\n",
       "      <th>latitude_meas</th>\n",
       "      <th>longitude_meas</th>\n",
       "      <th>store_zip</th>\n",
       "    </tr>\n",
       "  </thead>\n",
       "  <tbody>\n",
       "    <tr>\n",
       "      <th>1596</th>\n",
       "      <td>1918</td>\n",
       "      <td>38.563259</td>\n",
       "      <td>-121.380165</td>\n",
       "      <td>95826</td>\n",
       "    </tr>\n",
       "    <tr>\n",
       "      <th>6078</th>\n",
       "      <td>4697</td>\n",
       "      <td>30.128432</td>\n",
       "      <td>-94.157048</td>\n",
       "      <td>77708</td>\n",
       "    </tr>\n",
       "    <tr>\n",
       "      <th>7261</th>\n",
       "      <td>4683</td>\n",
       "      <td>37.955826</td>\n",
       "      <td>-122.333660</td>\n",
       "      <td>94806</td>\n",
       "    </tr>\n",
       "    <tr>\n",
       "      <th>7268</th>\n",
       "      <td>4694</td>\n",
       "      <td>32.677142</td>\n",
       "      <td>-97.413888</td>\n",
       "      <td>76132</td>\n",
       "    </tr>\n",
       "    <tr>\n",
       "      <th>7269</th>\n",
       "      <td>4699</td>\n",
       "      <td>34.086000</td>\n",
       "      <td>-118.150738</td>\n",
       "      <td>91803</td>\n",
       "    </tr>\n",
       "    <tr>\n",
       "      <th>7575</th>\n",
       "      <td>5385</td>\n",
       "      <td>36.748185</td>\n",
       "      <td>-95.931540</td>\n",
       "      <td>74006</td>\n",
       "    </tr>\n",
       "  </tbody>\n",
       "</table>\n",
       "</div>"
      ],
      "text/plain": [
       "     location_id  latitude_meas  longitude_meas store_zip\n",
       "1596        1918      38.563259     -121.380165     95826\n",
       "6078        4697      30.128432      -94.157048     77708\n",
       "7261        4683      37.955826     -122.333660     94806\n",
       "7268        4694      32.677142      -97.413888     76132\n",
       "7269        4699      34.086000     -118.150738     91803\n",
       "7575        5385      36.748185      -95.931540     74006"
      ]
     },
     "execution_count": 11,
     "metadata": {},
     "output_type": "execute_result"
    }
   ],
   "source": [
    "del df_store_list_new['zip_cd']\n",
    "del df_store_list_new['trans_flag']\n",
    "df_store_list_new"
   ]
  },
  {
   "cell_type": "code",
   "execution_count": 12,
   "metadata": {
    "collapsed": true
   },
   "outputs": [],
   "source": [
    "df_store_list_new=df_store_list_new.reset_index()\n",
    "del df_store_list_new['index']\n",
    "\n",
    "all_zips_in_10=pd.DataFrame()\n",
    "for ind,row in df_store_list_new.iterrows():\n",
    "    store_numer=row['location_id']\n",
    "    store_center=[row['latitude_meas'],row['longitude_meas']]\n",
    "    \n",
    "    for zip_cd in zip_center.keys():\n",
    "        dist=haversine(store_center,zip_center[zip_cd],miles=True)\n",
    "        if dist<=10:\n",
    "            df=pd.DataFrame({\"location_id\":store_numer,\"zip_cd\":zip_cd,\"trans_flag\":\"zips_in_10\",\"dist_miles\":dist},index=[0])\n",
    "            all_zips_in_10=all_zips_in_10.append(df)\n",
    "\n",
    "df_store_list_new=pd.merge(df_store_list_new,all_zips_in_10,on=\"location_id\",how=\"left\")"
   ]
  },
  {
   "cell_type": "code",
   "execution_count": 13,
   "metadata": {
    "collapsed": true
   },
   "outputs": [],
   "source": [
    "output=df_store_list_new.append(df_store_list_old)\n",
    "\n",
    "output=output[df_store_list_old.columns.tolist()]"
   ]
  },
  {
   "cell_type": "code",
   "execution_count": 14,
   "metadata": {},
   "outputs": [
    {
     "name": "stdout",
     "output_type": "stream",
     "text": [
      "494\n",
      "(6722, 8)\n"
     ]
    }
   ],
   "source": [
    "output['store_type']=np.where(output['location_id'].isin(new_store_list_Kayla),\"New Store\",\"Original Store\")\n",
    "output=output[output['zip_cd'].isin(zip_center.keys())]\n",
    "print(output['location_id'].nunique())\n",
    "print(output.shape)"
   ]
  },
  {
   "cell_type": "code",
   "execution_count": 15,
   "metadata": {
    "collapsed": true
   },
   "outputs": [],
   "source": [
    "df_unique_zip=output[['zip_cd','trans_flag']].sort_values(['trans_flag','zip_cd'])"
   ]
  },
  {
   "cell_type": "code",
   "execution_count": 16,
   "metadata": {
    "collapsed": true
   },
   "outputs": [],
   "source": [
    "writer=pd.ExcelWriter(\"./BL_zips_494_stores_JL_\"+str(datetime.datetime.now().date())+\".xlsx\",engine=\"xlsxwriter\")\n",
    "df_unique_zip.to_excel(writer,\"df_unique_zip\",index=False)\n",
    "output.to_excel(writer,\"zip_by_store\",index=False)\n",
    "writer.save()"
   ]
  },
  {
   "cell_type": "code",
   "execution_count": 17,
   "metadata": {},
   "outputs": [
    {
     "data": {
      "text/plain": [
       "'\\nstore_level_zips_update_60Plus_Only=pd.DataFrame()\\n\\nfor store,df_store in store_level_zips.groupby(\"location_id\"):\\n    total_valid_sales=df_store[\\'sales\\'].sum()\\n    total_valid_trans=df_store[\\'trans\\'].sum()\\n    \\n    df_store=df_store.sort_values(\"sales\",ascending=False)\\n    df_store[\\'cumulative_sales\\']=df_store[\\'sales\\'].cumsum()\\n    df_store[\\'cumu_pctg_sales\\']=df_store[\\'cumulative_sales\\']/total_valid_sales\\n    df_store=df_store.reset_index()\\n    del df_store[\\'index\\']\\n    \\n    df_store_1st=df_store.iloc[0,].to_frame().T\\n    df_store_1st[\\'revenue_flag\\']=\"P\"\\n    \\n    df_store_others=df_store.iloc[1:,]\\n    df_store_others[\\'revenue_flag\\']=np.where(df_store_others[\\'cumu_pctg_sales\\']>=0.8,\"T\",\\n                                  np.where(df_store_others[\\'cumu_pctg_sales\\']>=0.6,\"S\",\"P\"))\\n    df_store=df_store_1st.append(df_store_others)\\n    ######### \\n    df_store=df_store.sort_values(\"trans\",ascending=False)\\n    df_store[\\'cumulative_trans\\']=df_store[\\'trans\\'].cumsum()\\n    df_store[\\'cumu_pctg_trans\\']=df_store[\\'cumulative_trans\\']/total_valid_trans\\n    df_store=df_store.reset_index()\\n    del df_store[\\'index\\']\\n    \\n    df_store_1st=df_store.iloc[0,].to_frame().T\\n    df_store_1st[\\'trans_flag\\']=\"P\"\\n    \\n    df_store_others=df_store.iloc[1:,]\\n    df_store_others[\\'trans_flag\\']=np.where(df_store_others[\\'cumu_pctg_trans\\']>=0.8,\"T\",\\n                                  np.where(df_store_others[\\'cumu_pctg_trans\\']>=0.6,\"S\",\"P\"))\\n    df_store=df_store_1st.append(df_store_others)\\n\\n    store_level_zips_update_60Plus_Only=store_level_zips_update_60Plus_Only.append(df_store)\\n    \\nstore_level_zips_update_60Plus_Only.to_csv(\"/home/jian/Projects/Big_Lots/New_TA/TA_created_in_201906/final_output_20190718/output_by_store_zip_sales_cum_60Plus_only_JL_2019-07-26.csv\",index=False)\\n\\n'"
      ]
     },
     "execution_count": 17,
     "metadata": {},
     "output_type": "execute_result"
    }
   ],
   "source": [
    "'''\n",
    "store_level_zips_update_60Plus_Only=pd.DataFrame()\n",
    "\n",
    "for store,df_store in store_level_zips.groupby(\"location_id\"):\n",
    "    total_valid_sales=df_store['sales'].sum()\n",
    "    total_valid_trans=df_store['trans'].sum()\n",
    "    \n",
    "    df_store=df_store.sort_values(\"sales\",ascending=False)\n",
    "    df_store['cumulative_sales']=df_store['sales'].cumsum()\n",
    "    df_store['cumu_pctg_sales']=df_store['cumulative_sales']/total_valid_sales\n",
    "    df_store=df_store.reset_index()\n",
    "    del df_store['index']\n",
    "    \n",
    "    df_store_1st=df_store.iloc[0,].to_frame().T\n",
    "    df_store_1st['revenue_flag']=\"P\"\n",
    "    \n",
    "    df_store_others=df_store.iloc[1:,]\n",
    "    df_store_others['revenue_flag']=np.where(df_store_others['cumu_pctg_sales']>=0.8,\"T\",\n",
    "                                  np.where(df_store_others['cumu_pctg_sales']>=0.6,\"S\",\"P\"))\n",
    "    df_store=df_store_1st.append(df_store_others)\n",
    "    ######### \n",
    "    df_store=df_store.sort_values(\"trans\",ascending=False)\n",
    "    df_store['cumulative_trans']=df_store['trans'].cumsum()\n",
    "    df_store['cumu_pctg_trans']=df_store['cumulative_trans']/total_valid_trans\n",
    "    df_store=df_store.reset_index()\n",
    "    del df_store['index']\n",
    "    \n",
    "    df_store_1st=df_store.iloc[0,].to_frame().T\n",
    "    df_store_1st['trans_flag']=\"P\"\n",
    "    \n",
    "    df_store_others=df_store.iloc[1:,]\n",
    "    df_store_others['trans_flag']=np.where(df_store_others['cumu_pctg_trans']>=0.8,\"T\",\n",
    "                                  np.where(df_store_others['cumu_pctg_trans']>=0.6,\"S\",\"P\"))\n",
    "    df_store=df_store_1st.append(df_store_others)\n",
    "\n",
    "    store_level_zips_update_60Plus_Only=store_level_zips_update_60Plus_Only.append(df_store)\n",
    "    \n",
    "store_level_zips_update_60Plus_Only.to_csv(\"/home/jian/Projects/Big_Lots/New_TA/TA_created_in_201906/final_output_20190718/output_by_store_zip_sales_cum_60Plus_only_JL_2019-07-26.csv\",index=False)\n",
    "\n",
    "'''"
   ]
  },
  {
   "cell_type": "code",
   "execution_count": null,
   "metadata": {
    "collapsed": true
   },
   "outputs": [],
   "source": []
  }
 ],
 "metadata": {
  "kernelspec": {
   "display_name": "Python 3",
   "language": "python",
   "name": "python3"
  },
  "language_info": {
   "codemirror_mode": {
    "name": "ipython",
    "version": 3
   },
   "file_extension": ".py",
   "mimetype": "text/x-python",
   "name": "python",
   "nbconvert_exporter": "python",
   "pygments_lexer": "ipython3",
   "version": "3.6.1"
  }
 },
 "nbformat": 4,
 "nbformat_minor": 2
}
