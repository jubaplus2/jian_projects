{
 "cells": [
  {
   "cell_type": "code",
   "execution_count": 1,
   "metadata": {
    "collapsed": true
   },
   "outputs": [],
   "source": [
    "import pandas as pd\n",
    "import datetime\n",
    "import numpy as np\n",
    "import gc"
   ]
  },
  {
   "cell_type": "code",
   "execution_count": 2,
   "metadata": {
    "collapsed": true
   },
   "outputs": [],
   "source": [
    "SOTF_df=pd.read_excel(\"/home/jian/Projects/Big_Lots/Analysis/2019_Q1/Planner_Request/Compare_Q4_Before_After_Groups_JT_20190327/Q4 SOTF Master Zip Doc.xlsx\",\n",
    "                      dtype=str,sheet_name=\"Store ID List\",header=None)\n",
    "SOTF_df.columns=['location_id']\n",
    "SOTF_df['store_type']=\"SOTF\"\n",
    "\n",
    "SOTF_df=SOTF_df.append(pd.DataFrame({\"location_id\":\"6990\",\"store_type\":\"Ecommerce\"},index=[0]))\n",
    "SOTF_df=SOTF_df.reset_index()\n",
    "del SOTF_df['index']"
   ]
  },
  {
   "cell_type": "code",
   "execution_count": 3,
   "metadata": {
    "collapsed": true
   },
   "outputs": [],
   "source": [
    "product_taxonomy=pd.read_table(\"/home/jian/BigLots/static_files/ProductTaxonomy/MediaStormProductTaxonomy20190501-135142-836.txt\",dtype=str,sep=\"|\")\n",
    "product_taxonomy=product_taxonomy[['division_id','class_code_id','subclass_id']].drop_duplicates()\n",
    "division_table=product_taxonomy.copy()\n",
    "\n",
    "divison_name=pd.read_table(\"/home/jian/BigLots/static_files/MediaStorm Data Extract - Division Names.txt\",dtype=str,sep=\"|\")\n"
   ]
  },
  {
   "cell_type": "code",
   "execution_count": 4,
   "metadata": {},
   "outputs": [
    {
     "data": {
      "text/html": [
       "<div>\n",
       "<style>\n",
       "    .dataframe thead tr:only-child th {\n",
       "        text-align: right;\n",
       "    }\n",
       "\n",
       "    .dataframe thead th {\n",
       "        text-align: left;\n",
       "    }\n",
       "\n",
       "    .dataframe tbody tr th {\n",
       "        vertical-align: top;\n",
       "    }\n",
       "</style>\n",
       "<table border=\"1\" class=\"dataframe\">\n",
       "  <thead>\n",
       "    <tr style=\"text-align: right;\">\n",
       "      <th></th>\n",
       "      <th>location_id</th>\n",
       "      <th>transaction_dt</th>\n",
       "      <th>transaction_id</th>\n",
       "      <th>customer_id_hashed</th>\n",
       "      <th>class_code_id</th>\n",
       "      <th>subclass_id</th>\n",
       "      <th>item_transaction_units</th>\n",
       "      <th>item_transaction_amt</th>\n",
       "      <th>division_id</th>\n",
       "    </tr>\n",
       "  </thead>\n",
       "  <tbody>\n",
       "    <tr>\n",
       "      <th>0</th>\n",
       "      <td>4621</td>\n",
       "      <td>2018-11-10</td>\n",
       "      <td>3371</td>\n",
       "      <td>34e22ad0c4e216b4983bc2978770b3dbd7301213f8ebfd...</td>\n",
       "      <td>12006</td>\n",
       "      <td>1</td>\n",
       "      <td>2</td>\n",
       "      <td>3.0</td>\n",
       "      <td>2</td>\n",
       "    </tr>\n",
       "    <tr>\n",
       "      <th>1</th>\n",
       "      <td>4642</td>\n",
       "      <td>2018-11-10</td>\n",
       "      <td>3249</td>\n",
       "      <td>049f7c29a72fd252a880b32912fa49adc5dc55f3047193...</td>\n",
       "      <td>36007</td>\n",
       "      <td>1</td>\n",
       "      <td>1</td>\n",
       "      <td>32.0</td>\n",
       "      <td>3</td>\n",
       "    </tr>\n",
       "  </tbody>\n",
       "</table>\n",
       "</div>"
      ],
      "text/plain": [
       "  location_id transaction_dt transaction_id  \\\n",
       "0        4621     2018-11-10           3371   \n",
       "1        4642     2018-11-10           3249   \n",
       "\n",
       "                                  customer_id_hashed class_code_id  \\\n",
       "0  34e22ad0c4e216b4983bc2978770b3dbd7301213f8ebfd...         12006   \n",
       "1  049f7c29a72fd252a880b32912fa49adc5dc55f3047193...         36007   \n",
       "\n",
       "  subclass_id  item_transaction_units  item_transaction_amt division_id  \n",
       "0           1                       2                   3.0           2  \n",
       "1           1                       1                  32.0           3  "
      ]
     },
     "execution_count": 4,
     "metadata": {},
     "output_type": "execute_result"
    }
   ],
   "source": [
    "df_2018Q4_sales_all=pd.read_csv(\"/home/jian/Projects/Big_Lots/Analysis/2019_Q1/Planner_Request/Compare_Q4_Before_After_Groups_JT_20190327/Q4_rewards_sales_trans.csv\",dtype=str)\n",
    "df_2018Q4_sales_all['item_transaction_units']=df_2018Q4_sales_all['item_transaction_units'].astype(int)\n",
    "df_2018Q4_sales_all['item_transaction_amt']=df_2018Q4_sales_all['item_transaction_amt'].astype(float)\n",
    "df_2018Q4_sales_all=pd.merge(df_2018Q4_sales_all,product_taxonomy,on=[\"class_code_id\",'subclass_id'],how=\"left\")\n",
    "df_2018Q4_sales_all.head(2)"
   ]
  },
  {
   "cell_type": "code",
   "execution_count": 5,
   "metadata": {},
   "outputs": [
    {
     "name": "stdout",
     "output_type": "stream",
     "text": [
      "(135159718, 10)\n"
     ]
    },
    {
     "data": {
      "text/plain": [
       "3748"
      ]
     },
     "execution_count": 5,
     "metadata": {},
     "output_type": "execute_result"
    }
   ],
   "source": [
    "df_2018Q4_sales_all=pd.merge(df_2018Q4_sales_all,SOTF_df,on=\"location_id\",how=\"left\")\n",
    "df_2018Q4_sales_all['store_type']=df_2018Q4_sales_all['store_type'].fillna(\"Legacy\")\n",
    "print(df_2018Q4_sales_all.shape)\n",
    "import gc\n",
    "gc.collect()"
   ]
  },
  {
   "cell_type": "code",
   "execution_count": 6,
   "metadata": {},
   "outputs": [
    {
     "name": "stdout",
     "output_type": "stream",
     "text": [
      "(135159718, 12)\n"
     ]
    },
    {
     "data": {
      "text/plain": [
       "21"
      ]
     },
     "execution_count": 6,
     "metadata": {},
     "output_type": "execute_result"
    }
   ],
   "source": [
    "id_groups=pd.read_csv(\"/home/jian/Projects/Big_Lots/Analysis/2019_Q1/Planner_Request/Compare_Q4_Before_After_Groups_JT_20190327/BL_Q4_rewards_migration_rewards_data_JL_2019-03-30.csv\",\n",
    "                     dtype=str,usecols=['customer_id_hashed','Group_before_Q4','Q4_Shopping_Group','NewRewards'])\n",
    "\n",
    "id_groups=id_groups[id_groups['Q4_Shopping_Group']==\"Q4_Shopped\"]\n",
    "del id_groups['Q4_Shopping_Group']\n",
    "gc.collect()\n",
    "\n",
    "\n",
    "df_2018Q4_sales_all=pd.merge(df_2018Q4_sales_all,id_groups,on=\"customer_id_hashed\",how=\"left\")\n",
    "print(df_2018Q4_sales_all.shape)\n",
    "del id_groups\n",
    "gc.collect()"
   ]
  },
  {
   "cell_type": "code",
   "execution_count": 7,
   "metadata": {},
   "outputs": [
    {
     "data": {
      "text/html": [
       "<div>\n",
       "<style>\n",
       "    .dataframe thead tr:only-child th {\n",
       "        text-align: right;\n",
       "    }\n",
       "\n",
       "    .dataframe thead th {\n",
       "        text-align: left;\n",
       "    }\n",
       "\n",
       "    .dataframe tbody tr th {\n",
       "        vertical-align: top;\n",
       "    }\n",
       "</style>\n",
       "<table border=\"1\" class=\"dataframe\">\n",
       "  <thead>\n",
       "    <tr style=\"text-align: right;\">\n",
       "      <th></th>\n",
       "      <th>location_id</th>\n",
       "      <th>transaction_dt</th>\n",
       "      <th>transaction_id</th>\n",
       "      <th>customer_id_hashed</th>\n",
       "      <th>class_code_id</th>\n",
       "      <th>subclass_id</th>\n",
       "      <th>item_transaction_units</th>\n",
       "      <th>item_transaction_amt</th>\n",
       "      <th>division_id</th>\n",
       "      <th>store_type</th>\n",
       "      <th>Group_before_Q4</th>\n",
       "      <th>NewRewards</th>\n",
       "    </tr>\n",
       "  </thead>\n",
       "  <tbody>\n",
       "    <tr>\n",
       "      <th>0</th>\n",
       "      <td>4621</td>\n",
       "      <td>2018-11-10</td>\n",
       "      <td>3371</td>\n",
       "      <td>34e22ad0c4e216b4983bc2978770b3dbd7301213f8ebfd...</td>\n",
       "      <td>12006</td>\n",
       "      <td>1</td>\n",
       "      <td>2</td>\n",
       "      <td>3.0</td>\n",
       "      <td>2</td>\n",
       "      <td>Legacy</td>\n",
       "      <td>Active</td>\n",
       "      <td>Old_Rewards_Members</td>\n",
       "    </tr>\n",
       "    <tr>\n",
       "      <th>1</th>\n",
       "      <td>4642</td>\n",
       "      <td>2018-11-10</td>\n",
       "      <td>3249</td>\n",
       "      <td>049f7c29a72fd252a880b32912fa49adc5dc55f3047193...</td>\n",
       "      <td>36007</td>\n",
       "      <td>1</td>\n",
       "      <td>1</td>\n",
       "      <td>32.0</td>\n",
       "      <td>3</td>\n",
       "      <td>Legacy</td>\n",
       "      <td>Active</td>\n",
       "      <td>Old_Rewards_Members</td>\n",
       "    </tr>\n",
       "  </tbody>\n",
       "</table>\n",
       "</div>"
      ],
      "text/plain": [
       "  location_id transaction_dt transaction_id  \\\n",
       "0        4621     2018-11-10           3371   \n",
       "1        4642     2018-11-10           3249   \n",
       "\n",
       "                                  customer_id_hashed class_code_id  \\\n",
       "0  34e22ad0c4e216b4983bc2978770b3dbd7301213f8ebfd...         12006   \n",
       "1  049f7c29a72fd252a880b32912fa49adc5dc55f3047193...         36007   \n",
       "\n",
       "  subclass_id  item_transaction_units  item_transaction_amt division_id  \\\n",
       "0           1                       2                   3.0           2   \n",
       "1           1                       1                  32.0           3   \n",
       "\n",
       "  store_type Group_before_Q4           NewRewards  \n",
       "0     Legacy          Active  Old_Rewards_Members  \n",
       "1     Legacy          Active  Old_Rewards_Members  "
      ]
     },
     "execution_count": 7,
     "metadata": {},
     "output_type": "execute_result"
    }
   ],
   "source": [
    "df_2018Q4_sales_all.head(2)"
   ]
  },
  {
   "cell_type": "code",
   "execution_count": 8,
   "metadata": {},
   "outputs": [
    {
     "data": {
      "text/plain": [
       "['location_id',\n",
       " 'transaction_dt',\n",
       " 'transaction_id',\n",
       " 'customer_id_hashed',\n",
       " 'class_code_id',\n",
       " 'subclass_id',\n",
       " 'item_transaction_units',\n",
       " 'item_transaction_amt',\n",
       " 'division_id',\n",
       " 'store_type',\n",
       " 'Group_before_Q4',\n",
       " 'NewRewards']"
      ]
     },
     "execution_count": 8,
     "metadata": {},
     "output_type": "execute_result"
    }
   ],
   "source": [
    "df_2018Q4_sales_all.columns.tolist()"
   ]
  },
  {
   "cell_type": "code",
   "execution_count": 9,
   "metadata": {},
   "outputs": [
    {
     "data": {
      "text/plain": [
       "272"
      ]
     },
     "execution_count": 9,
     "metadata": {},
     "output_type": "execute_result"
    }
   ],
   "source": [
    "# print(df_2018Q4_sales_all['Group_after_Q4'].unique())\n",
    "# del df_2018Q4_sales_all['Group_after_Q4']\n",
    "del df_2018Q4_sales_all['class_code_id']\n",
    "del df_2018Q4_sales_all['subclass_id']\n",
    "gc.collect()"
   ]
  },
  {
   "cell_type": "code",
   "execution_count": 10,
   "metadata": {},
   "outputs": [
    {
     "data": {
      "text/html": [
       "<div>\n",
       "<style>\n",
       "    .dataframe thead tr:only-child th {\n",
       "        text-align: right;\n",
       "    }\n",
       "\n",
       "    .dataframe thead th {\n",
       "        text-align: left;\n",
       "    }\n",
       "\n",
       "    .dataframe tbody tr th {\n",
       "        vertical-align: top;\n",
       "    }\n",
       "</style>\n",
       "<table border=\"1\" class=\"dataframe\">\n",
       "  <thead>\n",
       "    <tr style=\"text-align: right;\">\n",
       "      <th></th>\n",
       "      <th>location_id</th>\n",
       "      <th>transaction_dt</th>\n",
       "      <th>transaction_id</th>\n",
       "      <th>customer_id_hashed</th>\n",
       "      <th>item_transaction_units</th>\n",
       "      <th>item_transaction_amt</th>\n",
       "      <th>division_id</th>\n",
       "      <th>store_type</th>\n",
       "      <th>Group_before_Q4</th>\n",
       "      <th>NewRewards</th>\n",
       "    </tr>\n",
       "  </thead>\n",
       "  <tbody>\n",
       "    <tr>\n",
       "      <th>0</th>\n",
       "      <td>4621</td>\n",
       "      <td>2018-11-10</td>\n",
       "      <td>3371</td>\n",
       "      <td>34e22ad0c4e216b4983bc2978770b3dbd7301213f8ebfd...</td>\n",
       "      <td>2</td>\n",
       "      <td>3.0</td>\n",
       "      <td>2</td>\n",
       "      <td>Legacy</td>\n",
       "      <td>Active</td>\n",
       "      <td>Old_Rewards_Members</td>\n",
       "    </tr>\n",
       "    <tr>\n",
       "      <th>1</th>\n",
       "      <td>4642</td>\n",
       "      <td>2018-11-10</td>\n",
       "      <td>3249</td>\n",
       "      <td>049f7c29a72fd252a880b32912fa49adc5dc55f3047193...</td>\n",
       "      <td>1</td>\n",
       "      <td>32.0</td>\n",
       "      <td>3</td>\n",
       "      <td>Legacy</td>\n",
       "      <td>Active</td>\n",
       "      <td>Old_Rewards_Members</td>\n",
       "    </tr>\n",
       "  </tbody>\n",
       "</table>\n",
       "</div>"
      ],
      "text/plain": [
       "  location_id transaction_dt transaction_id  \\\n",
       "0        4621     2018-11-10           3371   \n",
       "1        4642     2018-11-10           3249   \n",
       "\n",
       "                                  customer_id_hashed  item_transaction_units  \\\n",
       "0  34e22ad0c4e216b4983bc2978770b3dbd7301213f8ebfd...                       2   \n",
       "1  049f7c29a72fd252a880b32912fa49adc5dc55f3047193...                       1   \n",
       "\n",
       "   item_transaction_amt division_id store_type Group_before_Q4  \\\n",
       "0                   3.0           2     Legacy          Active   \n",
       "1                  32.0           3     Legacy          Active   \n",
       "\n",
       "            NewRewards  \n",
       "0  Old_Rewards_Members  \n",
       "1  Old_Rewards_Members  "
      ]
     },
     "execution_count": 10,
     "metadata": {},
     "output_type": "execute_result"
    }
   ],
   "source": [
    "df_2018Q4_sales_all.head(2)"
   ]
  },
  {
   "cell_type": "code",
   "execution_count": 11,
   "metadata": {},
   "outputs": [
    {
     "data": {
      "text/plain": [
       "221"
      ]
     },
     "execution_count": 11,
     "metadata": {},
     "output_type": "execute_result"
    }
   ],
   "source": [
    "gc.collect()"
   ]
  },
  {
   "cell_type": "code",
   "execution_count": 12,
   "metadata": {},
   "outputs": [
    {
     "name": "stdout",
     "output_type": "stream",
     "text": [
      "9777953\n"
     ]
    },
    {
     "data": {
      "text/plain": [
       "0"
      ]
     },
     "execution_count": 12,
     "metadata": {},
     "output_type": "execute_result"
    }
   ],
   "source": [
    "print(len(df_2018Q4_sales_all['customer_id_hashed'].unique()))\n",
    "gc.collect()"
   ]
  },
  {
   "cell_type": "code",
   "execution_count": 13,
   "metadata": {},
   "outputs": [
    {
     "name": "stdout",
     "output_type": "stream",
     "text": [
      "(40, 7)\n"
     ]
    },
    {
     "data": {
      "text/html": [
       "<div>\n",
       "<style>\n",
       "    .dataframe thead tr:only-child th {\n",
       "        text-align: right;\n",
       "    }\n",
       "\n",
       "    .dataframe thead th {\n",
       "        text-align: left;\n",
       "    }\n",
       "\n",
       "    .dataframe tbody tr th {\n",
       "        vertical-align: top;\n",
       "    }\n",
       "</style>\n",
       "<table border=\"1\" class=\"dataframe\">\n",
       "  <thead>\n",
       "    <tr style=\"text-align: right;\">\n",
       "      <th></th>\n",
       "      <th>Group_before_Q4</th>\n",
       "      <th>NewRewards</th>\n",
       "      <th>division_id</th>\n",
       "      <th>sales</th>\n",
       "      <th>units</th>\n",
       "      <th>transactions</th>\n",
       "      <th>id_count</th>\n",
       "    </tr>\n",
       "  </thead>\n",
       "  <tbody>\n",
       "    <tr>\n",
       "      <th>0</th>\n",
       "      <td>Active</td>\n",
       "      <td>Old_Rewards_Members</td>\n",
       "      <td>1</td>\n",
       "      <td>1.172652e+08</td>\n",
       "      <td>53981704</td>\n",
       "      <td>11099948</td>\n",
       "      <td>5248593</td>\n",
       "    </tr>\n",
       "    <tr>\n",
       "      <th>1</th>\n",
       "      <td>Active</td>\n",
       "      <td>Old_Rewards_Members</td>\n",
       "      <td>10</td>\n",
       "      <td>1.760110e+05</td>\n",
       "      <td>733207</td>\n",
       "      <td>545998</td>\n",
       "      <td>337949</td>\n",
       "    </tr>\n",
       "    <tr>\n",
       "      <th>2</th>\n",
       "      <td>Active</td>\n",
       "      <td>Old_Rewards_Members</td>\n",
       "      <td>2</td>\n",
       "      <td>1.148151e+08</td>\n",
       "      <td>33546777</td>\n",
       "      <td>9323470</td>\n",
       "      <td>4781047</td>\n",
       "    </tr>\n",
       "    <tr>\n",
       "      <th>3</th>\n",
       "      <td>Active</td>\n",
       "      <td>Old_Rewards_Members</td>\n",
       "      <td>3</td>\n",
       "      <td>1.160921e+08</td>\n",
       "      <td>20595435</td>\n",
       "      <td>5764876</td>\n",
       "      <td>3461013</td>\n",
       "    </tr>\n",
       "  </tbody>\n",
       "</table>\n",
       "</div>"
      ],
      "text/plain": [
       "  Group_before_Q4           NewRewards division_id         sales     units  \\\n",
       "0          Active  Old_Rewards_Members           1  1.172652e+08  53981704   \n",
       "1          Active  Old_Rewards_Members          10  1.760110e+05    733207   \n",
       "2          Active  Old_Rewards_Members           2  1.148151e+08  33546777   \n",
       "3          Active  Old_Rewards_Members           3  1.160921e+08  20595435   \n",
       "\n",
       "   transactions  id_count  \n",
       "0      11099948   5248593  \n",
       "1        545998    337949  \n",
       "2       9323470   4781047  \n",
       "3       5764876   3461013  "
      ]
     },
     "execution_count": 13,
     "metadata": {},
     "output_type": "execute_result"
    }
   ],
   "source": [
    "# 1. by by division, by id group\n",
    "\n",
    "# Sales & Units\n",
    "df_2018Q4_sales_div_agg=df_2018Q4_sales_all.groupby(['Group_before_Q4','NewRewards','division_id'])['item_transaction_amt','item_transaction_units'].sum().reset_index().rename(columns={\"item_transaction_amt\":\"sales\",'item_transaction_units':\"units\"})\n",
    "# Trans\n",
    "df_2018Q4_trans_div_agg=df_2018Q4_sales_all[['location_id','transaction_dt','transaction_id','customer_id_hashed','division_id','Group_before_Q4','NewRewards']].drop_duplicates()\n",
    "df_2018Q4_trans_div_agg=df_2018Q4_trans_div_agg.groupby(['Group_before_Q4','NewRewards','division_id'])['transaction_id'].count().to_frame().reset_index().rename(columns={\"transaction_id\":\"transactions\"})\n",
    "# Ids\n",
    "df_2018Q4_ids_div_agg=df_2018Q4_sales_all[['division_id','Group_before_Q4','NewRewards','customer_id_hashed']].drop_duplicates()\n",
    "df_2018Q4_ids_div_agg=df_2018Q4_ids_div_agg.groupby(['Group_before_Q4','NewRewards','division_id'])['customer_id_hashed'].count().to_frame().reset_index().rename(columns={\"customer_id_hashed\":\"id_count\"})\n",
    "\n",
    "\n",
    "output_division_with_id=pd.merge(df_2018Q4_sales_div_agg,df_2018Q4_trans_div_agg,on=['Group_before_Q4','NewRewards','division_id'],how=\"outer\")\n",
    "output_division_with_id=pd.merge(output_division_with_id,df_2018Q4_ids_div_agg,on=['Group_before_Q4','NewRewards','division_id'],how=\"outer\")\n",
    "\n",
    "print(output_division_with_id.shape)\n",
    "output_division_with_id.head(4)\n"
   ]
  },
  {
   "cell_type": "code",
   "execution_count": 14,
   "metadata": {},
   "outputs": [
    {
     "name": "stdout",
     "output_type": "stream",
     "text": [
      "(15, 7)\n"
     ]
    },
    {
     "data": {
      "text/html": [
       "<div>\n",
       "<style>\n",
       "    .dataframe thead tr:only-child th {\n",
       "        text-align: right;\n",
       "    }\n",
       "\n",
       "    .dataframe thead th {\n",
       "        text-align: left;\n",
       "    }\n",
       "\n",
       "    .dataframe tbody tr th {\n",
       "        vertical-align: top;\n",
       "    }\n",
       "</style>\n",
       "<table border=\"1\" class=\"dataframe\">\n",
       "  <thead>\n",
       "    <tr style=\"text-align: right;\">\n",
       "      <th></th>\n",
       "      <th>Group_before_Q4</th>\n",
       "      <th>NewRewards</th>\n",
       "      <th>store_type</th>\n",
       "      <th>sales</th>\n",
       "      <th>units</th>\n",
       "      <th>transactions</th>\n",
       "      <th>id_count</th>\n",
       "    </tr>\n",
       "  </thead>\n",
       "  <tbody>\n",
       "    <tr>\n",
       "      <th>0</th>\n",
       "      <td>Active</td>\n",
       "      <td>Old_Rewards_Members</td>\n",
       "      <td>Ecommerce</td>\n",
       "      <td>3.666583e+06</td>\n",
       "      <td>163921</td>\n",
       "      <td>47563</td>\n",
       "      <td>33156</td>\n",
       "    </tr>\n",
       "    <tr>\n",
       "      <th>1</th>\n",
       "      <td>Active</td>\n",
       "      <td>Old_Rewards_Members</td>\n",
       "      <td>Legacy</td>\n",
       "      <td>5.879497e+08</td>\n",
       "      <td>120484391</td>\n",
       "      <td>16360803</td>\n",
       "      <td>6214751</td>\n",
       "    </tr>\n",
       "    <tr>\n",
       "      <th>2</th>\n",
       "      <td>Active</td>\n",
       "      <td>Old_Rewards_Members</td>\n",
       "      <td>SOTF</td>\n",
       "      <td>1.039564e+08</td>\n",
       "      <td>20056035</td>\n",
       "      <td>2697974</td>\n",
       "      <td>1105207</td>\n",
       "    </tr>\n",
       "    <tr>\n",
       "      <th>3</th>\n",
       "      <td>Active</td>\n",
       "      <td>Q4_New_Sign_Ups</td>\n",
       "      <td>Ecommerce</td>\n",
       "      <td>2.999000e+01</td>\n",
       "      <td>1</td>\n",
       "      <td>1</td>\n",
       "      <td>1</td>\n",
       "    </tr>\n",
       "  </tbody>\n",
       "</table>\n",
       "</div>"
      ],
      "text/plain": [
       "  Group_before_Q4           NewRewards store_type         sales      units  \\\n",
       "0          Active  Old_Rewards_Members  Ecommerce  3.666583e+06     163921   \n",
       "1          Active  Old_Rewards_Members     Legacy  5.879497e+08  120484391   \n",
       "2          Active  Old_Rewards_Members       SOTF  1.039564e+08   20056035   \n",
       "3          Active      Q4_New_Sign_Ups  Ecommerce  2.999000e+01          1   \n",
       "\n",
       "   transactions  id_count  \n",
       "0         47563     33156  \n",
       "1      16360803   6214751  \n",
       "2       2697974   1105207  \n",
       "3             1         1  "
      ]
     },
     "execution_count": 14,
     "metadata": {},
     "output_type": "execute_result"
    }
   ],
   "source": [
    "# 2. by by store types, by id group\n",
    "# Sales & Units\n",
    "df_2018Q4_sales_store_agg=df_2018Q4_sales_all.groupby(['Group_before_Q4','NewRewards','store_type'])['item_transaction_amt','item_transaction_units'].sum().reset_index().rename(columns={\"item_transaction_amt\":\"sales\",'item_transaction_units':\"units\"})\n",
    "# Trans\n",
    "df_2018Q4_trans_store_agg=df_2018Q4_sales_all[['location_id','transaction_dt','transaction_id','customer_id_hashed','store_type','Group_before_Q4','NewRewards']].drop_duplicates()\n",
    "df_2018Q4_trans_store_agg=df_2018Q4_trans_store_agg.groupby(['Group_before_Q4','NewRewards','store_type'])['transaction_id'].count().to_frame().reset_index().rename(columns={\"transaction_id\":\"transactions\"})\n",
    "# Ids\n",
    "df_2018Q4_ids_store_agg=df_2018Q4_sales_all[['customer_id_hashed','store_type','Group_before_Q4','NewRewards']].drop_duplicates()\n",
    "df_2018Q4_ids_store_agg=df_2018Q4_ids_store_agg.groupby(['Group_before_Q4','NewRewards','store_type'])['customer_id_hashed'].count().to_frame().reset_index().rename(columns={\"customer_id_hashed\":\"id_count\"})\n",
    "\n",
    "\n",
    "output_store_with_id=pd.merge(df_2018Q4_sales_store_agg,df_2018Q4_trans_store_agg,on=['Group_before_Q4','NewRewards','store_type'],how=\"outer\")\n",
    "output_store_with_id=pd.merge(output_store_with_id,df_2018Q4_ids_store_agg,on=['Group_before_Q4','NewRewards','store_type'],how=\"outer\")\n",
    "\n",
    "print(output_store_with_id.shape)\n",
    "output_store_with_id.head(4)"
   ]
  },
  {
   "cell_type": "code",
   "execution_count": 15,
   "metadata": {},
   "outputs": [
    {
     "name": "stdout",
     "output_type": "stream",
     "text": [
      "(108, 8)\n"
     ]
    },
    {
     "data": {
      "text/html": [
       "<div>\n",
       "<style>\n",
       "    .dataframe thead tr:only-child th {\n",
       "        text-align: right;\n",
       "    }\n",
       "\n",
       "    .dataframe thead th {\n",
       "        text-align: left;\n",
       "    }\n",
       "\n",
       "    .dataframe tbody tr th {\n",
       "        vertical-align: top;\n",
       "    }\n",
       "</style>\n",
       "<table border=\"1\" class=\"dataframe\">\n",
       "  <thead>\n",
       "    <tr style=\"text-align: right;\">\n",
       "      <th></th>\n",
       "      <th>Group_before_Q4</th>\n",
       "      <th>NewRewards</th>\n",
       "      <th>division_id</th>\n",
       "      <th>store_type</th>\n",
       "      <th>sales</th>\n",
       "      <th>units</th>\n",
       "      <th>transactions</th>\n",
       "      <th>id_count</th>\n",
       "    </tr>\n",
       "  </thead>\n",
       "  <tbody>\n",
       "    <tr>\n",
       "      <th>0</th>\n",
       "      <td>Active</td>\n",
       "      <td>Old_Rewards_Members</td>\n",
       "      <td>1</td>\n",
       "      <td>Ecommerce</td>\n",
       "      <td>1.607292e+05</td>\n",
       "      <td>6694</td>\n",
       "      <td>2548</td>\n",
       "      <td>2289</td>\n",
       "    </tr>\n",
       "    <tr>\n",
       "      <th>1</th>\n",
       "      <td>Active</td>\n",
       "      <td>Old_Rewards_Members</td>\n",
       "      <td>1</td>\n",
       "      <td>Legacy</td>\n",
       "      <td>1.008324e+08</td>\n",
       "      <td>46533014</td>\n",
       "      <td>9569293</td>\n",
       "      <td>4538361</td>\n",
       "    </tr>\n",
       "    <tr>\n",
       "      <th>2</th>\n",
       "      <td>Active</td>\n",
       "      <td>Old_Rewards_Members</td>\n",
       "      <td>1</td>\n",
       "      <td>SOTF</td>\n",
       "      <td>1.627212e+07</td>\n",
       "      <td>7441996</td>\n",
       "      <td>1528107</td>\n",
       "      <td>784631</td>\n",
       "    </tr>\n",
       "    <tr>\n",
       "      <th>3</th>\n",
       "      <td>Active</td>\n",
       "      <td>Old_Rewards_Members</td>\n",
       "      <td>10</td>\n",
       "      <td>Legacy</td>\n",
       "      <td>1.577825e+05</td>\n",
       "      <td>668565</td>\n",
       "      <td>498155</td>\n",
       "      <td>307532</td>\n",
       "    </tr>\n",
       "  </tbody>\n",
       "</table>\n",
       "</div>"
      ],
      "text/plain": [
       "  Group_before_Q4           NewRewards division_id store_type         sales  \\\n",
       "0          Active  Old_Rewards_Members           1  Ecommerce  1.607292e+05   \n",
       "1          Active  Old_Rewards_Members           1     Legacy  1.008324e+08   \n",
       "2          Active  Old_Rewards_Members           1       SOTF  1.627212e+07   \n",
       "3          Active  Old_Rewards_Members          10     Legacy  1.577825e+05   \n",
       "\n",
       "      units  transactions  id_count  \n",
       "0      6694          2548      2289  \n",
       "1  46533014       9569293   4538361  \n",
       "2   7441996       1528107    784631  \n",
       "3    668565        498155    307532  "
      ]
     },
     "execution_count": 15,
     "metadata": {},
     "output_type": "execute_result"
    }
   ],
   "source": [
    "# 3. by store type, by division, by id group\n",
    "df_2018Q4_sales_div_store_agg=df_2018Q4_sales_all.groupby(['Group_before_Q4','NewRewards','division_id','store_type'])['item_transaction_amt','item_transaction_units'].sum().reset_index().rename(columns={\"item_transaction_amt\":\"sales\",'item_transaction_units':\"units\"})\n",
    "# Trans\n",
    "df_2018Q4_trans_div_store_agg=df_2018Q4_sales_all[['location_id','transaction_dt','transaction_id','customer_id_hashed','division_id','store_type','Group_before_Q4','NewRewards']].drop_duplicates()\n",
    "df_2018Q4_trans_div_store_agg=df_2018Q4_trans_div_store_agg.groupby(['Group_before_Q4','NewRewards','division_id','store_type'])['transaction_id'].count().to_frame().reset_index().rename(columns={\"transaction_id\":\"transactions\"})\n",
    "# Ids\n",
    "df_2018Q4_ids_div_store_agg=df_2018Q4_sales_all[['customer_id_hashed','division_id','store_type','Group_before_Q4','NewRewards']].drop_duplicates()\n",
    "df_2018Q4_ids_div_store_agg=df_2018Q4_ids_div_store_agg.groupby(['Group_before_Q4','NewRewards','division_id','store_type'])['customer_id_hashed'].count().to_frame().reset_index().rename(columns={\"customer_id_hashed\":\"id_count\"})\n",
    "\n",
    "\n",
    "output_div_store_with_id=pd.merge(df_2018Q4_sales_div_store_agg,df_2018Q4_trans_div_store_agg,on=['Group_before_Q4','NewRewards','division_id','store_type'],how=\"outer\")\n",
    "output_div_store_with_id=pd.merge(output_div_store_with_id,df_2018Q4_ids_div_store_agg,on=['Group_before_Q4','NewRewards','division_id','store_type'],how=\"outer\")\n",
    "\n",
    "print(output_div_store_with_id.shape)\n",
    "output_div_store_with_id.head(4)"
   ]
  },
  {
   "cell_type": "code",
   "execution_count": 25,
   "metadata": {
    "collapsed": true
   },
   "outputs": [],
   "source": [
    "output_division_with_id=pd.merge(output_division_with_id,divison_name,on=\"division_id\",how=\"left\")\n",
    "output_div_store_with_id=pd.merge(output_div_store_with_id,divison_name,on=\"division_id\",how=\"left\")\n",
    "\n",
    "\n"
   ]
  },
  {
   "cell_type": "code",
   "execution_count": 26,
   "metadata": {
    "collapsed": true
   },
   "outputs": [],
   "source": [
    "writer=pd.ExcelWriter(\"/home/jian/Projects/Big_Lots/Analysis/2019_Q1/Planner_Request/Compare_Q4_Before_After_Groups_JT_20190327/BL_Q4_rewards_summary_div_store_type_groups_data_JL_\"+str(datetime.datetime.now().date())+\".xlsx\",engine=\"xlsxwriter\")\n",
    "output_division_with_id.to_excel(writer,\"output_division_with_id\",index=False)\n",
    "output_store_with_id.to_excel(writer,\"output_store_with_id\",index=False)\n",
    "output_div_store_with_id.to_excel(writer,\"output_div_store_with_id\",index=False)\n",
    "writer.save()\n"
   ]
  },
  {
   "cell_type": "code",
   "execution_count": null,
   "metadata": {},
   "outputs": [],
   "source": []
  },
  {
   "cell_type": "code",
   "execution_count": null,
   "metadata": {
    "collapsed": true
   },
   "outputs": [],
   "source": []
  }
 ],
 "metadata": {
  "kernelspec": {
   "display_name": "Python 3",
   "language": "python",
   "name": "python3"
  },
  "language_info": {
   "codemirror_mode": {
    "name": "ipython",
    "version": 3
   },
   "file_extension": ".py",
   "mimetype": "text/x-python",
   "name": "python",
   "nbconvert_exporter": "python",
   "pygments_lexer": "ipython3",
   "version": "3.6.1"
  }
 },
 "nbformat": 4,
 "nbformat_minor": 2
}
