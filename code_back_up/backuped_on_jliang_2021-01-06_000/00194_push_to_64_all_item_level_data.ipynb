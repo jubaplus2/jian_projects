{
 "cells": [
  {
   "cell_type": "code",
   "execution_count": 1,
   "metadata": {},
   "outputs": [
    {
     "data": {
      "text/plain": [
       "'/home/jian/Projects/Big_Lots/Analysis/2019_Q3/Planner_request/Spence_All_Item_Level_data_push_to_64_20190910'"
      ]
     },
     "execution_count": 1,
     "metadata": {},
     "output_type": "execute_result"
    }
   ],
   "source": [
    "import pandas as pd\n",
    "import datetime\n",
    "import os\n",
    "import numpy as np\n",
    "\n",
    "os.getcwd()"
   ]
  },
  {
   "cell_type": "code",
   "execution_count": 2,
   "metadata": {
    "collapsed": true
   },
   "outputs": [],
   "source": [
    "def recursive_file_gen(root_path):\n",
    "    for root, dirs, files in os.walk(root_path):\n",
    "        for file in files:\n",
    "            yield os.path.join(root,file)"
   ]
  },
  {
   "cell_type": "code",
   "execution_count": 3,
   "metadata": {},
   "outputs": [
    {
     "data": {
      "text/plain": [
       "27"
      ]
     },
     "execution_count": 3,
     "metadata": {},
     "output_type": "execute_result"
    }
   ],
   "source": [
    "historical_items=list(recursive_file_gen(\"/home/jian/BigLots/hist_daily_data_itemlevel_decompressed/\"))\n",
    "historical_items=[x for x in historical_items if x[-4:]==\".txt\"]\n",
    "historical_items.sort()\n",
    "len(historical_items)"
   ]
  },
  {
   "cell_type": "code",
   "execution_count": 4,
   "metadata": {},
   "outputs": [
    {
     "data": {
      "text/plain": [
       "29"
      ]
     },
     "execution_count": 4,
     "metadata": {},
     "output_type": "execute_result"
    }
   ],
   "source": [
    "weekly_files=list(recursive_file_gen(\"/home/jian/BigLots/2019_by_weeks/\"))\n",
    "weekly_files=[x for x in weekly_files if \"Daily\" in x and x[-4:]==\".txt\"]\n",
    "weekly_files=[x for x in weekly_files if x.split(\"MediaStorm_\")[1][:10]>\"2019-02-10\"]\n",
    "weekly_files.sort()\n",
    "len(weekly_files)\n"
   ]
  },
  {
   "cell_type": "code",
   "execution_count": 5,
   "metadata": {},
   "outputs": [
    {
     "name": "stdout",
     "output_type": "stream",
     "text": [
      "56\n"
     ]
    }
   ],
   "source": [
    "all_files_list=historical_items+weekly_files\n",
    "print(len(all_files_list))"
   ]
  },
  {
   "cell_type": "code",
   "execution_count": 6,
   "metadata": {},
   "outputs": [],
   "source": [
    "import paramiko\n",
    "\n",
    "host = \"64.237.51.251\" #hard-coded\n",
    "port = 22\n",
    "transport = paramiko.Transport((host, port))\n",
    "\n",
    "password = \"jian@juba2017\" #hard-coded\n",
    "username = \"jian\" #hard-coded\n",
    "transport.connect(username = username, password = password)\n",
    "sftp = paramiko.SFTPClient.from_transport(transport)"
   ]
  },
  {
   "cell_type": "code",
   "execution_count": 8,
   "metadata": {},
   "outputs": [
    {
     "name": "stdout",
     "output_type": "stream",
     "text": [
      "2019-09-10 14:09:56.224212 1\n",
      "2019-09-10 14:19:52.761023 6\n",
      "2019-09-10 14:30:25.095824 11\n",
      "2019-09-10 14:44:48.038094 16\n",
      "2019-09-10 15:01:47.220871 21\n",
      "2019-09-10 15:11:26.265577 26\n",
      "2019-09-10 15:20:28.946155 31\n",
      "2019-09-10 15:30:59.245843 36\n",
      "2019-09-10 15:42:06.747823 41\n",
      "2019-09-10 15:51:34.610703 46\n",
      "2019-09-10 16:02:17.525521 51\n",
      "2019-09-10 16:12:00.965420 56\n"
     ]
    }
   ],
   "source": [
    "counter=0\n",
    "\n",
    "remote_folder=\"/mnt/drv5/lr_biglots_data/BL_all_item_level_POS_data/\"\n",
    "    \n",
    "for local_file in all_files_list:\n",
    "    basename=os.path.basename(local_file)\n",
    "    remote_path=remote_folder+basename\n",
    "    sftp.put(local_file,remote_path)\n",
    "    counter+=1\n",
    "    if counter%5==1:\n",
    "        print(datetime.datetime.now(),counter)\n",
    "sftp.close()\n",
    "transport.close()"
   ]
  },
  {
   "cell_type": "code",
   "execution_count": null,
   "metadata": {
    "collapsed": true
   },
   "outputs": [],
   "source": []
  }
 ],
 "metadata": {
  "kernelspec": {
   "display_name": "Python 3",
   "language": "python",
   "name": "python3"
  },
  "language_info": {
   "codemirror_mode": {
    "name": "ipython",
    "version": 3
   },
   "file_extension": ".py",
   "mimetype": "text/x-python",
   "name": "python",
   "nbconvert_exporter": "python",
   "pygments_lexer": "ipython3",
   "version": "3.6.1"
  }
 },
 "nbformat": 4,
 "nbformat_minor": 2
}
