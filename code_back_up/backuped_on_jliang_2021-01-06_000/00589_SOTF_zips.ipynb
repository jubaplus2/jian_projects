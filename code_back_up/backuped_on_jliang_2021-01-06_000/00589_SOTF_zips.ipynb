{
 "cells": [
  {
   "cell_type": "code",
   "execution_count": 1,
   "metadata": {
    "collapsed": true
   },
   "outputs": [],
   "source": [
    "import pandas as pd\n",
    "import numpy as np\n",
    "from haversine import haversine\n",
    "import datetime\n",
    "import os\n",
    "import json\n",
    "zip_centers=json.load(open(\"/home/jian/Docs/Geo_mapping/center_of_rentrak_zip.json\",\"r\"))"
   ]
  },
  {
   "cell_type": "code",
   "execution_count": 2,
   "metadata": {},
   "outputs": [
    {
     "data": {
      "text/plain": [
       "['BL_3.29 Zips_2 Stores ', 'BL_4.26 Zips_5 Stores']"
      ]
     },
     "execution_count": 2,
     "metadata": {},
     "output_type": "execute_result"
    }
   ],
   "source": [
    "SOTF_list=pd.ExcelFile(\"/home/jian/Projects/Big_Lots/Analysis/2019_Q1/Planner_Request/Zips_SOTF_Faith_20190311/BL_3.29 and 4.26 Zips Codes Updated 3.11.19 (1).xlsx\")\n",
    "SOTF_list.sheet_names"
   ]
  },
  {
   "cell_type": "code",
   "execution_count": 3,
   "metadata": {},
   "outputs": [
    {
     "data": {
      "text/plain": [
       "(8, 9)"
      ]
     },
     "execution_count": 3,
     "metadata": {},
     "output_type": "execute_result"
    }
   ],
   "source": [
    "list_1=SOTF_list.parse('BL_3.29 Zips_2 Stores ',dtype=str)\n",
    "list_2=SOTF_list.parse('BL_4.26 Zips_5 Stores',dtype=str)\n",
    "\n",
    "SOTF_store_list=list_1.append(list_2)\n",
    "SOTF_store_list.shape"
   ]
  },
  {
   "cell_type": "code",
   "execution_count": 4,
   "metadata": {},
   "outputs": [
    {
     "data": {
      "text/plain": [
       "['1243', '4555']"
      ]
     },
     "execution_count": 4,
     "metadata": {},
     "output_type": "execute_result"
    }
   ],
   "source": [
    "store_level_zips=pd.read_csv(\"/home/jian/Projects/Big_Lots/New_TA/zips_in_new_ta/sales_by_zip (Store level).csv\",\n",
    "                             dtype=str,usecols=['location_id','zip','revenue_flag'])\n",
    "store_level_zips=store_level_zips[store_level_zips['location_id'].isin(SOTF_store_list['Store ID'].tolist())]\n",
    "store_level_zips=store_level_zips[store_level_zips['revenue_flag'].isin(['P','S'])]\n",
    "store_level_zips['location_id'].unique().tolist()"
   ]
  },
  {
   "cell_type": "code",
   "execution_count": 5,
   "metadata": {
    "collapsed": true
   },
   "outputs": [],
   "source": [
    "store_list=pd.read_table(\"/home/jian/BigLots/static_files/Store_list/MediaStormStores20190301-134800-131.txt\",dtype=str,sep=\"|\")\n",
    "store_list=store_list[store_list['location_id'].isin(SOTF_store_list['Store ID'])]\n",
    "# All new stores for the others\n",
    "store_list=store_list[['location_id','zip_cd','latitude_meas','longitude_meas']].rename(columns={\"zip_cd\":\"Store_Zip\",\"latitude_meas\":\"Latitude_meas\",\"longitude_meas\":\"Longitude_meas\"})\n",
    "store_list['Latitude_meas']=store_list['Latitude_meas'].astype(float)\n",
    "store_list['Longitude_meas']=store_list['Longitude_meas'].astype(float)\n",
    "store_list['Store_Zip']=store_list['Store_Zip'].apply(lambda x: x.split(\"-\")[0])"
   ]
  },
  {
   "cell_type": "code",
   "execution_count": 6,
   "metadata": {},
   "outputs": [
    {
     "data": {
      "text/html": [
       "<div>\n",
       "<style>\n",
       "    .dataframe thead tr:only-child th {\n",
       "        text-align: right;\n",
       "    }\n",
       "\n",
       "    .dataframe thead th {\n",
       "        text-align: left;\n",
       "    }\n",
       "\n",
       "    .dataframe tbody tr th {\n",
       "        vertical-align: top;\n",
       "    }\n",
       "</style>\n",
       "<table border=\"1\" class=\"dataframe\">\n",
       "  <thead>\n",
       "    <tr style=\"text-align: right;\">\n",
       "      <th></th>\n",
       "      <th>Zip</th>\n",
       "      <th>revenue_flag</th>\n",
       "      <th>location_id</th>\n",
       "      <th>Store_Zip</th>\n",
       "      <th>Latitude_meas</th>\n",
       "      <th>Longitude_meas</th>\n",
       "    </tr>\n",
       "  </thead>\n",
       "  <tbody>\n",
       "    <tr>\n",
       "      <th>0</th>\n",
       "      <td>47025</td>\n",
       "      <td>P</td>\n",
       "      <td>1243</td>\n",
       "      <td>47001</td>\n",
       "      <td>39.075299</td>\n",
       "      <td>-84.894435</td>\n",
       "    </tr>\n",
       "    <tr>\n",
       "      <th>1</th>\n",
       "      <td>47001</td>\n",
       "      <td>P</td>\n",
       "      <td>1243</td>\n",
       "      <td>47001</td>\n",
       "      <td>39.075299</td>\n",
       "      <td>-84.894435</td>\n",
       "    </tr>\n",
       "    <tr>\n",
       "      <th>2</th>\n",
       "      <td>47018</td>\n",
       "      <td>P</td>\n",
       "      <td>1243</td>\n",
       "      <td>47001</td>\n",
       "      <td>39.075299</td>\n",
       "      <td>-84.894435</td>\n",
       "    </tr>\n",
       "    <tr>\n",
       "      <th>3</th>\n",
       "      <td>47032</td>\n",
       "      <td>S</td>\n",
       "      <td>1243</td>\n",
       "      <td>47001</td>\n",
       "      <td>39.075299</td>\n",
       "      <td>-84.894435</td>\n",
       "    </tr>\n",
       "  </tbody>\n",
       "</table>\n",
       "</div>"
      ],
      "text/plain": [
       "     Zip revenue_flag location_id Store_Zip  Latitude_meas  Longitude_meas\n",
       "0  47025            P        1243     47001      39.075299      -84.894435\n",
       "1  47001            P        1243     47001      39.075299      -84.894435\n",
       "2  47018            P        1243     47001      39.075299      -84.894435\n",
       "3  47032            S        1243     47001      39.075299      -84.894435"
      ]
     },
     "execution_count": 6,
     "metadata": {},
     "output_type": "execute_result"
    }
   ],
   "source": [
    "store_level_zips=pd.merge(store_level_zips,store_list,on=\"location_id\",how=\"left\")\n",
    "store_level_zips=store_level_zips.rename(columns={\"zip\":\"Zip\"})\n",
    "store_level_zips.head(4)"
   ]
  },
  {
   "cell_type": "code",
   "execution_count": 7,
   "metadata": {},
   "outputs": [
    {
     "name": "stderr",
     "output_type": "stream",
     "text": [
      "/usr/local/lib/python3.6/site-packages/ipykernel_launcher.py:8: SettingWithCopyWarning: \n",
      "A value is trying to be set on a copy of a slice from a DataFrame\n",
      "\n",
      "See the caveats in the documentation: http://pandas.pydata.org/pandas-docs/stable/indexing.html#indexing-view-versus-copy\n",
      "  \n"
     ]
    }
   ],
   "source": [
    "store_level_zips=store_level_zips.reset_index()\n",
    "del store_level_zips['index']\n",
    "store_level_zips['Distance (mile)']=np.nan\n",
    "\n",
    "for i in range(len(store_level_zips)):\n",
    "    zip_center=zip_centers[store_level_zips['Zip'][i]]\n",
    "    store_center=[store_level_zips['Latitude_meas'][i],store_level_zips['Longitude_meas'][i]]\n",
    "    store_level_zips['Distance (mile)'][i]=haversine(zip_center,store_center,miles=True)\n",
    "    \n",
    "store_level_zips=store_level_zips[(store_level_zips['revenue_flag']==\"P\") | (store_level_zips['Distance (mile)']<=20)]\n",
    "store_level_zips=store_level_zips.rename(columns={\"location_id\":\"Store ID\",\"revenue_flag\":\"Revenue_flag\"})\n",
    "store_level_zips.head(2)\n",
    "\n",
    "df_1_old_stores=store_level_zips.copy()"
   ]
  },
  {
   "cell_type": "code",
   "execution_count": 8,
   "metadata": {},
   "outputs": [
    {
     "name": "stdout",
     "output_type": "stream",
     "text": [
      "(6, 9)\n"
     ]
    },
    {
     "data": {
      "text/html": [
       "<div>\n",
       "<style>\n",
       "    .dataframe thead tr:only-child th {\n",
       "        text-align: right;\n",
       "    }\n",
       "\n",
       "    .dataframe thead th {\n",
       "        text-align: left;\n",
       "    }\n",
       "\n",
       "    .dataframe tbody tr th {\n",
       "        vertical-align: top;\n",
       "    }\n",
       "</style>\n",
       "<table border=\"1\" class=\"dataframe\">\n",
       "  <thead>\n",
       "    <tr style=\"text-align: right;\">\n",
       "      <th></th>\n",
       "      <th>Store ID</th>\n",
       "      <th>Market</th>\n",
       "      <th>G.O.</th>\n",
       "      <th>Longitude_meas</th>\n",
       "      <th>Latitude_meas</th>\n",
       "      <th>Revenue_flag</th>\n",
       "      <th>Zip</th>\n",
       "      <th>Store_Zip</th>\n",
       "      <th>Distance (mile)</th>\n",
       "    </tr>\n",
       "  </thead>\n",
       "  <tbody>\n",
       "    <tr>\n",
       "      <th>0</th>\n",
       "      <td>5390</td>\n",
       "      <td>NILES, OH</td>\n",
       "      <td>2019-03-29 00:00:00</td>\n",
       "      <td>nan</td>\n",
       "      <td>nan</td>\n",
       "      <td>nan</td>\n",
       "      <td>nan</td>\n",
       "      <td>nan</td>\n",
       "      <td>nan</td>\n",
       "    </tr>\n",
       "    <tr>\n",
       "      <th>1</th>\n",
       "      <td>4685</td>\n",
       "      <td>LONGMONT, CO</td>\n",
       "      <td>2019-03-29 00:00:00</td>\n",
       "      <td>nan</td>\n",
       "      <td>nan</td>\n",
       "      <td>nan</td>\n",
       "      <td>nan</td>\n",
       "      <td>nan</td>\n",
       "      <td>nan</td>\n",
       "    </tr>\n",
       "    <tr>\n",
       "      <th>1</th>\n",
       "      <td>4690</td>\n",
       "      <td>HUNTINGTON, WV</td>\n",
       "      <td>2019-04-26 00:00:00</td>\n",
       "      <td>nan</td>\n",
       "      <td>nan</td>\n",
       "      <td>nan</td>\n",
       "      <td>nan</td>\n",
       "      <td>nan</td>\n",
       "      <td>nan</td>\n",
       "    </tr>\n",
       "    <tr>\n",
       "      <th>2</th>\n",
       "      <td>5383</td>\n",
       "      <td>MOUNT PLEASANT, PA</td>\n",
       "      <td>2019-04-26 00:00:00</td>\n",
       "      <td>nan</td>\n",
       "      <td>nan</td>\n",
       "      <td>nan</td>\n",
       "      <td>nan</td>\n",
       "      <td>nan</td>\n",
       "      <td>nan</td>\n",
       "    </tr>\n",
       "    <tr>\n",
       "      <th>3</th>\n",
       "      <td>4674</td>\n",
       "      <td>CITRUS HEIGHTS, CA</td>\n",
       "      <td>2019-04-26 00:00:00</td>\n",
       "      <td>nan</td>\n",
       "      <td>nan</td>\n",
       "      <td>nan</td>\n",
       "      <td>nan</td>\n",
       "      <td>nan</td>\n",
       "      <td>nan</td>\n",
       "    </tr>\n",
       "    <tr>\n",
       "      <th>4</th>\n",
       "      <td>4693</td>\n",
       "      <td>VANCOUVER, WA</td>\n",
       "      <td>2019-04-26 00:00:00</td>\n",
       "      <td>nan</td>\n",
       "      <td>nan</td>\n",
       "      <td>nan</td>\n",
       "      <td>nan</td>\n",
       "      <td>nan</td>\n",
       "      <td>nan</td>\n",
       "    </tr>\n",
       "  </tbody>\n",
       "</table>\n",
       "</div>"
      ],
      "text/plain": [
       "  Store ID              Market                 G.O. Longitude_meas  \\\n",
       "0     5390           NILES, OH  2019-03-29 00:00:00            nan   \n",
       "1     4685        LONGMONT, CO  2019-03-29 00:00:00            nan   \n",
       "1     4690      HUNTINGTON, WV  2019-04-26 00:00:00            nan   \n",
       "2     5383  MOUNT PLEASANT, PA  2019-04-26 00:00:00            nan   \n",
       "3     4674  CITRUS HEIGHTS, CA  2019-04-26 00:00:00            nan   \n",
       "4     4693       VANCOUVER, WA  2019-04-26 00:00:00            nan   \n",
       "\n",
       "  Latitude_meas Revenue_flag  Zip Store_Zip Distance (mile)  \n",
       "0           nan          nan  nan       nan             nan  \n",
       "1           nan          nan  nan       nan             nan  \n",
       "1           nan          nan  nan       nan             nan  \n",
       "2           nan          nan  nan       nan             nan  \n",
       "3           nan          nan  nan       nan             nan  \n",
       "4           nan          nan  nan       nan             nan  "
      ]
     },
     "execution_count": 8,
     "metadata": {},
     "output_type": "execute_result"
    }
   ],
   "source": [
    "new_SOTF_store_list=SOTF_store_list[~SOTF_store_list['Store ID'].isin(store_level_zips['Store ID'])]\n",
    "print(new_SOTF_store_list.shape)\n",
    "new_SOTF_store_list"
   ]
  },
  {
   "cell_type": "code",
   "execution_count": 9,
   "metadata": {
    "collapsed": true
   },
   "outputs": [],
   "source": [
    "# Google Store Locations\n",
    "store_locations={}\n",
    "store_locations.update({\"5390\":{\"Google_Address\":\"5555 Youngstown Warren Rd #970, Niles, OH 44446\",\"Google_Coor\":[41.2152114,-80.7497981],\"Store_Zip\":\"44446\"}})\n",
    "store_locations.update({\"4685\":{\"Google_Address\":\"2225 Main St,Longmont, CO 80501\",\"Google_Coor\":[40.1982203,-105.1025797],\"Store_Zip\":\"80501\"}})\n",
    "store_locations.update({\"4690\":{\"Google_Address\":\"Pea Ridge Plaza Shopping Center, Huntington, WV 25705\",\"Google_Coor\":[38.4098684,-82.3246742],\"Store_Zip\":\"25705\"}})\n",
    "store_locations.update({\"5383\":{\"Google_Address\":\"100 Crossroads Plaza, Mt Pleasant, PA 15666\",\"Google_Coor\":[40.1252354,-79.5509667],\"Store_Zip\":\"15666\"}})\n",
    "store_locations.update({\"4674\":{\"Google_Address\":\"8501 Auburn Blvd, Citrus Heights, CA 95610\",\"Google_Coor\":[38.7211604,-121.2927663],\"Store_Zip\":\"95610\"}})\n",
    "store_locations.update({\"4693\":{\"Google_Address\":\"11696 NE 76th St,Vancouver, WA 98662\",\"Google_Coor\":[45.6788241,-122.5536851],\"Store_Zip\":\"98662\"}})\n",
    "\n"
   ]
  },
  {
   "cell_type": "code",
   "execution_count": 10,
   "metadata": {
    "collapsed": true
   },
   "outputs": [],
   "source": [
    "df_2_all_new_stores=pd.DataFrame()\n",
    "for store_id in new_SOTF_store_list['Store ID'].tolist():\n",
    "    i_counter=1\n",
    "    store_center=store_locations[store_id]['Google_Coor']\n",
    "    for zip_cd in zip_centers.keys():\n",
    "        dist=haversine(store_center,zip_centers[zip_cd],miles=True)\n",
    "        if dist<=10:\n",
    "            df=pd.DataFrame({\"Store ID\":store_id,\"Longitude_meas\":store_center[0],\"Latitude_meas\":store_center[1],\n",
    "                             \"Revenue_flag\":\"zips_in_10_miles\",\"Zip\":zip_cd,\"Store_Zip\":store_locations[store_id]['Store_Zip'],\n",
    "                            \"Distance (mile)\":dist},index=[i_counter])\n",
    "            i_counter+=1\n",
    "            df_2_all_new_stores=df_2_all_new_stores.append(df)\n",
    "    "
   ]
  },
  {
   "cell_type": "code",
   "execution_count": 11,
   "metadata": {
    "collapsed": true
   },
   "outputs": [],
   "source": [
    "df_zips=df_1_old_stores.append(df_2_all_new_stores)"
   ]
  },
  {
   "cell_type": "code",
   "execution_count": 12,
   "metadata": {
    "collapsed": true
   },
   "outputs": [],
   "source": [
    "SOTF_list=pd.ExcelFile(\"/home/jian/Projects/Big_Lots/Analysis/2019_Q1/Planner_Request/Zips_SOTF_Faith_20190311/BL_3.29 and 4.26 Zips Codes Updated 3.11.19 (1).xlsx\")\n",
    "list_1=SOTF_list.parse('BL_3.29 Zips_2 Stores ',dtype=str)\n",
    "list_2=SOTF_list.parse('BL_4.26 Zips_5 Stores',dtype=str)\n",
    "\n",
    "cols=list_1.columns.tolist()\n",
    "\n",
    "list_1=list_1[['Store ID',\"Market\",\"G.O.\"]]\n",
    "list_2=list_2[['Store ID',\"Market\",\"G.O.\"]]\n",
    "\n",
    "\n",
    "list_1=pd.merge(list_1,df_zips,on=\"Store ID\",how=\"left\")\n",
    "list_2=pd.merge(list_2,df_zips,on=\"Store ID\",how=\"left\")\n",
    "list_1=list_1[cols]\n",
    "list_2=list_2[cols]\n"
   ]
  },
  {
   "cell_type": "code",
   "execution_count": 13,
   "metadata": {
    "collapsed": true
   },
   "outputs": [],
   "source": [
    "writer=pd.ExcelWriter(\"/home/jian/Projects/Big_Lots/Analysis/2019_Q1/Planner_Request/Zips_SOTF_Faith_20190311/BL_3.29 and 4.26 Zips Codes Updated 3.11.19_JL_\"+str(datetime.datetime.now().date())+\".xlsx\",engine=\"xlsxwriter\")\n",
    "\n",
    "list_1.to_excel(writer,\"BL_3.29 Zips_3 Stores\",index=False)\n",
    "\n",
    "list_2.to_excel(writer,'BL_4.26 Zips_5 Stores',index=False)\n",
    "\n",
    "writer.save()"
   ]
  },
  {
   "cell_type": "code",
   "execution_count": null,
   "metadata": {
    "collapsed": true
   },
   "outputs": [],
   "source": []
  },
  {
   "cell_type": "code",
   "execution_count": null,
   "metadata": {
    "collapsed": true
   },
   "outputs": [],
   "source": []
  }
 ],
 "metadata": {
  "kernelspec": {
   "display_name": "Python 3",
   "language": "python",
   "name": "python3"
  },
  "language_info": {
   "codemirror_mode": {
    "name": "ipython",
    "version": 3
   },
   "file_extension": ".py",
   "mimetype": "text/x-python",
   "name": "python",
   "nbconvert_exporter": "python",
   "pygments_lexer": "ipython3",
   "version": "3.6.1"
  }
 },
 "nbformat": 4,
 "nbformat_minor": 2
}
