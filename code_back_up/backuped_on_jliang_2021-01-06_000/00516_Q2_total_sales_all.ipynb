{
 "cells": [
  {
   "cell_type": "code",
   "execution_count": 1,
   "metadata": {
    "collapsed": true
   },
   "outputs": [],
   "source": [
    "import pandas as pd\n",
    "import numpy as np\n",
    "import os\n",
    "import datetime\n",
    "import gc\n",
    "import glob"
   ]
  },
  {
   "cell_type": "code",
   "execution_count": 2,
   "metadata": {
    "collapsed": true
   },
   "outputs": [],
   "source": [
    "def recursive_file_gen(root_folder):\n",
    "    for root, dirs, files in os.walk(root_folder):\n",
    "        for file in files:\n",
    "            yield os.path.join(root, file)"
   ]
  },
  {
   "cell_type": "code",
   "execution_count": 3,
   "metadata": {},
   "outputs": [
    {
     "name": "stdout",
     "output_type": "stream",
     "text": [
      "13\n"
     ]
    },
    {
     "data": {
      "text/plain": [
       "['/home/jian/BigLots/2019_by_weeks/MediaStorm_2019-05-11/MediaStormDailySales20190514-121223-405.txt',\n",
       " '/home/jian/BigLots/2019_by_weeks/MediaStorm_2019-05-18/MediaStormDailySales20190521-111232-391.txt',\n",
       " '/home/jian/BigLots/2019_by_weeks/MediaStorm_2019-05-25/MediaStormDailySales20190528-111211-863.txt',\n",
       " '/home/jian/BigLots/2019_by_weeks/MediaStorm_2019-06-01/MediaStormDailySales20190604-111936-950.txt',\n",
       " '/home/jian/BigLots/2019_by_weeks/MediaStorm_2019-06-08/MediaStormDailySales20190611-122013-442.txt',\n",
       " '/home/jian/BigLots/2019_by_weeks/MediaStorm_2019-06-15/MediaStormDailySales20190618-112500-846.txt',\n",
       " '/home/jian/BigLots/2019_by_weeks/MediaStorm_2019-06-22/MediaStormDailySales20190625-111927-257.txt',\n",
       " '/home/jian/BigLots/2019_by_weeks/MediaStorm_2019-06-29/MediaStormDailySales20190702-113523-928.txt',\n",
       " '/home/jian/BigLots/2019_by_weeks/MediaStorm_2019-07-06/MediaStormDailySales20190709-115715-409.txt',\n",
       " '/home/jian/BigLots/2019_by_weeks/MediaStorm_2019-07-13/MediaStormDailySales20190716-122903-926.txt',\n",
       " '/home/jian/BigLots/2019_by_weeks/MediaStorm_2019-07-20/MediaStormDailySales20190723-112837-593.txt',\n",
       " '/home/jian/BigLots/2019_by_weeks/MediaStorm_2019-07-27/MediaStormDailySales20190730-113653-224.txt',\n",
       " '/home/jian/BigLots/2019_by_weeks/MediaStorm_2019-08-03/MediaStormDailySales20190806-113917-862.txt']"
      ]
     },
     "execution_count": 3,
     "metadata": {},
     "output_type": "execute_result"
    }
   ],
   "source": [
    "Q2_start=\"2019-05-05\"\n",
    "Q2_end=\"2019-08-03\"\n",
    "\n",
    "daily_item_files_2019Q2=list(recursive_file_gen(\"/home/jian/BigLots/2019_by_weeks/\"))\n",
    "daily_item_files_2019Q2=[x for x in daily_item_files_2019Q2 if x[-4:]==\".txt\" and \"daily\" in x.lower()]\n",
    "daily_item_files_2019Q2=[x for x in daily_item_files_2019Q2 if x.split(\"s/MediaStorm_\")[1][:10]>=Q2_start]\n",
    "daily_item_files_2019Q2=[x for x in daily_item_files_2019Q2 if x.split(\"s/MediaStorm_\")[1][:10]<=Q2_end]\n",
    "\n",
    "print(len(daily_item_files_2019Q2))\n",
    "\n",
    "daily_item_files_2019Q2"
   ]
  },
  {
   "cell_type": "code",
   "execution_count": 4,
   "metadata": {},
   "outputs": [
    {
     "name": "stdout",
     "output_type": "stream",
     "text": [
      "2019-10-18 18:07:31.274347 /home/jian/BigLots/2019_by_weeks/MediaStorm_2019-05-11/MediaStormDailySales20190514-121223-405.txt\n",
      "2019-10-18 18:08:05.087358 /home/jian/BigLots/2019_by_weeks/MediaStorm_2019-05-18/MediaStormDailySales20190521-111232-391.txt\n",
      "2019-10-18 18:08:42.116088 /home/jian/BigLots/2019_by_weeks/MediaStorm_2019-05-25/MediaStormDailySales20190528-111211-863.txt\n",
      "2019-10-18 18:09:17.725537 /home/jian/BigLots/2019_by_weeks/MediaStorm_2019-06-01/MediaStormDailySales20190604-111936-950.txt\n",
      "2019-10-18 18:09:52.486045 /home/jian/BigLots/2019_by_weeks/MediaStorm_2019-06-08/MediaStormDailySales20190611-122013-442.txt\n",
      "2019-10-18 18:10:27.339252 /home/jian/BigLots/2019_by_weeks/MediaStorm_2019-06-15/MediaStormDailySales20190618-112500-846.txt\n",
      "2019-10-18 18:10:58.822838 /home/jian/BigLots/2019_by_weeks/MediaStorm_2019-06-22/MediaStormDailySales20190625-111927-257.txt\n",
      "2019-10-18 18:11:33.145188 /home/jian/BigLots/2019_by_weeks/MediaStorm_2019-06-29/MediaStormDailySales20190702-113523-928.txt\n",
      "2019-10-18 18:12:10.849264 /home/jian/BigLots/2019_by_weeks/MediaStorm_2019-07-06/MediaStormDailySales20190709-115715-409.txt\n",
      "2019-10-18 18:12:56.635596 /home/jian/BigLots/2019_by_weeks/MediaStorm_2019-07-13/MediaStormDailySales20190716-122903-926.txt\n",
      "2019-10-18 18:13:40.699830 /home/jian/BigLots/2019_by_weeks/MediaStorm_2019-07-20/MediaStormDailySales20190723-112837-593.txt\n",
      "2019-10-18 18:14:15.375989 /home/jian/BigLots/2019_by_weeks/MediaStorm_2019-07-27/MediaStormDailySales20190730-113653-224.txt\n",
      "2019-10-18 18:14:50.970705 /home/jian/BigLots/2019_by_weeks/MediaStorm_2019-08-03/MediaStormDailySales20190806-113917-862.txt\n"
     ]
    }
   ],
   "source": [
    "df_output_Q2_sales=pd.DataFrame()\n",
    "for file in daily_item_files_2019Q2:\n",
    "    week_end_dt=file.split(\"s/MediaStorm_\")[1][:10]\n",
    "    df=pd.read_table(file,dtype=str,sep=\"|\",usecols=['location_id','transaction_dt', 'transaction_id',\n",
    "                                                              'customer_id_hashed', 'item_transaction_amt'])\n",
    "    df['item_transaction_amt']=df['item_transaction_amt'].astype(float)\n",
    "    # Rewards\n",
    "    df_rewards=df[pd.notnull(df['customer_id_hashed'])]\n",
    "    df_rewards_sales=df_rewards.groupby([\"location_id\"])['item_transaction_amt'].sum().to_frame().reset_index()\n",
    "    df_rewards_sales=df_rewards_sales.rename(columns={\"item_transaction_amt\":\"sales\"})\n",
    "    df_rewards_trans=df_rewards[['location_id','transaction_dt', 'transaction_id','customer_id_hashed']].drop_duplicates()\n",
    "    df_rewards_trans['trans']=1\n",
    "    df_rewards_trans=df_rewards_trans.groupby([\"location_id\"])['trans'].sum().to_frame().reset_index()\n",
    "    \n",
    "    df_rewards=pd.merge(df_rewards_trans,df_rewards_sales,on=\"location_id\",how=\"outer\")\n",
    "    df_rewards['rewards_label']=\"rewards\"\n",
    "    \n",
    "    # Non Rewards\n",
    "    df_non_rewards=df[pd.isnull(df['customer_id_hashed'])]\n",
    "    df_non_rewards_sales=df_non_rewards.groupby([\"location_id\"])['item_transaction_amt'].sum().to_frame().reset_index()\n",
    "    df_non_rewards_sales=df_non_rewards_sales.rename(columns={\"item_transaction_amt\":\"sales\"})\n",
    "    df_non_rewards_trans=df_non_rewards[['location_id','transaction_dt', 'transaction_id']].drop_duplicates()\n",
    "    df_non_rewards_trans['trans']=1\n",
    "    df_non_rewards_trans=df_non_rewards_trans.groupby([\"location_id\"])['trans'].sum().to_frame().reset_index()  \n",
    "    \n",
    "    df_non_rewards=pd.merge(df_non_rewards_sales,df_non_rewards_trans,on=\"location_id\",how=\"outer\")\n",
    "    df_non_rewards['rewards_label']=\"non_rewards\"\n",
    "    \n",
    "    df=df_rewards.append(df_non_rewards)\n",
    "    df['store_type']=np.where(df['location_id']==\"6990\",\"online\",\"instre\")\n",
    "    df=df.groupby([\"rewards_label\",\"store_type\"])['sales','trans'].sum().reset_index()\n",
    "    df['week_end_dt']=week_end_dt\n",
    "    \n",
    "    df_output_Q2_sales=df_output_Q2_sales.append(df)\n",
    "    print(datetime.datetime.now(),file)"
   ]
  },
  {
   "cell_type": "code",
   "execution_count": 5,
   "metadata": {
    "collapsed": true
   },
   "outputs": [],
   "source": [
    "writer=pd.ExcelWriter(\"./BL_Q2_total_sales_JL_\"+str(datetime.datetime.now().date())+\".xlsx\",engine=\"xlsxwriter\")\n",
    "df_output_Q2_sales.to_excel(writer,\"Q2_total_sales\",index=False)\n",
    "writer.save()"
   ]
  },
  {
   "cell_type": "code",
   "execution_count": 6,
   "metadata": {},
   "outputs": [
    {
     "data": {
      "text/plain": [
       "(52, 5)"
      ]
     },
     "execution_count": 6,
     "metadata": {},
     "output_type": "execute_result"
    }
   ],
   "source": [
    "df_output_Q2_sales.shape"
   ]
  },
  {
   "cell_type": "code",
   "execution_count": 13,
   "metadata": {},
   "outputs": [
    {
     "data": {
      "text/plain": [
       "32784381.150000036"
      ]
     },
     "execution_count": 13,
     "metadata": {},
     "output_type": "execute_result"
    }
   ],
   "source": [
    "df_non_rewards_sales['sales'].sum()"
   ]
  },
  {
   "cell_type": "code",
   "execution_count": 12,
   "metadata": {},
   "outputs": [
    {
     "data": {
      "text/plain": [
       "1301872"
      ]
     },
     "execution_count": 12,
     "metadata": {},
     "output_type": "execute_result"
    }
   ],
   "source": [
    "df_non_rewards_trans['trans'].sum()"
   ]
  },
  {
   "cell_type": "code",
   "execution_count": null,
   "metadata": {
    "collapsed": true
   },
   "outputs": [],
   "source": []
  }
 ],
 "metadata": {
  "kernelspec": {
   "display_name": "Python 3",
   "language": "python",
   "name": "python3"
  },
  "language_info": {
   "codemirror_mode": {
    "name": "ipython",
    "version": 3
   },
   "file_extension": ".py",
   "mimetype": "text/x-python",
   "name": "python",
   "nbconvert_exporter": "python",
   "pygments_lexer": "ipython3",
   "version": "3.6.1"
  }
 },
 "nbformat": 4,
 "nbformat_minor": 2
}
