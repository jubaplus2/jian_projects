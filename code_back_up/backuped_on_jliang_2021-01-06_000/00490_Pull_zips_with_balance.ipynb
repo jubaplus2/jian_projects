{
 "cells": [
  {
   "cell_type": "code",
   "execution_count": 1,
   "metadata": {},
   "outputs": [
    {
     "data": {
      "text/plain": [
       "'/home/jian/Projects/Big_Lots/Analysis/2019_Q2/Planner_Requests/zips_test_balance_Bruce_20190605'"
      ]
     },
     "execution_count": 1,
     "metadata": {},
     "output_type": "execute_result"
    }
   ],
   "source": [
    "import pandas as pd\n",
    "import numpy as np\n",
    "import datetime\n",
    "import os\n",
    "from haversine import haversine\n",
    "import json\n",
    "import zipcodes\n",
    "zip_centers=json.load(open(\"/home/jian/Docs/Geo_mapping/updated_zip_centers_JL_2019-05-23.json\"))\n",
    "os.getcwd()\n"
   ]
  },
  {
   "cell_type": "code",
   "execution_count": 2,
   "metadata": {},
   "outputs": [
    {
     "data": {
      "text/plain": [
       "['BL_2019Q2 Circ Test zips_7_markets JL_2019-05-24.xlsx',\n",
       " 'BL 2019Q2 Circ and Existing SOTF Test All Zips 20190605 BR.xlsx',\n",
       " 'BL_store SOTF existing no TV test 20190531 Test 2 of 3 XT.xlsx',\n",
       " '.ipynb_checkpoints',\n",
       " 'Pull_zips_with_balance.ipynb',\n",
       " 'BL_zips_stores_of_the_test_JL_2019-06-06.xlsx']"
      ]
     },
     "execution_count": 2,
     "metadata": {},
     "output_type": "execute_result"
    }
   ],
   "source": [
    "os.listdir(os.getcwd())"
   ]
  },
  {
   "cell_type": "code",
   "execution_count": 3,
   "metadata": {},
   "outputs": [
    {
     "name": "stdout",
     "output_type": "stream",
     "text": [
      "['unique_per_DMA', 'Circ Test 2019Q2 Zips DeDuped', 'DETROIT', 'GREENSBORO-H.POINT-W.SALEM', 'HARTFORD & NEW HAVEN', 'JACKSONVILLE', 'KANSAS CITY', 'OKLAHOMA CITY', 'PORTLAND, OR']\n",
      "87\n"
     ]
    }
   ],
   "source": [
    "excel_7_mkts=pd.ExcelFile(\"BL_2019Q2 Circ Test zips_7_markets JL_2019-05-24.xlsx\")\n",
    "print(excel_7_mkts.sheet_names)\n",
    "\n",
    "\n",
    "df_all_7_store_mkt=pd.DataFrame()\n",
    "for mkt in excel_7_mkts.sheet_names[2:]:\n",
    "    df=excel_7_mkts.parse(mkt,dtype=str)\n",
    "    df_all_7_store_mkt=df_all_7_store_mkt.append(df)\n",
    "list_stores_of_7_mkt=df_all_7_store_mkt['location_id'].unique().tolist()\n",
    "print(len(list_stores_of_7_mkt))\n",
    "\n",
    "# Re-read later because of the store"
   ]
  },
  {
   "cell_type": "code",
   "execution_count": null,
   "metadata": {},
   "outputs": [],
   "source": []
  },
  {
   "cell_type": "code",
   "execution_count": 4,
   "metadata": {},
   "outputs": [
    {
     "name": "stdout",
     "output_type": "stream",
     "text": [
      "['df_1_3_Mkts', 'austin_A', 'austin_A overlap analysis', 'austin_B', 'austin_B overlap analysis', 'phoenix', 'phoenix overlap analysis', 'longisland_A', 'df_1_3_Mkts (2)', 'long island_A overlap analysis', 'longisland_B', 'long island_B overlap analysis', 'longisland_C', 'long island_C overlap analysis', 'df_2_GO_SOTF_0726', 'wide_by_store']\n",
      "15\n"
     ]
    }
   ],
   "source": [
    "excel_3_mkts=pd.ExcelFile(\"BL_store SOTF existing no TV test 20190531 Test 2 of 3 XT.xlsx\")\n",
    "print(excel_3_mkts.sheet_names)\n",
    "\n",
    "df_all_3_stores_mkt=excel_3_mkts.parse(\"df_1_3_Mkts\",dtype=str)\n",
    "\n",
    "list_test_stores_of_3_mkt=df_all_3_stores_mkt[df_all_3_stores_mkt['group']==\"Test\"]['location_id'].unique().tolist()\n",
    "print(len(list_test_stores_of_3_mkt))"
   ]
  },
  {
   "cell_type": "code",
   "execution_count": 5,
   "metadata": {},
   "outputs": [
    {
     "data": {
      "text/html": [
       "<div>\n",
       "<style>\n",
       "    .dataframe thead tr:only-child th {\n",
       "        text-align: right;\n",
       "    }\n",
       "\n",
       "    .dataframe thead th {\n",
       "        text-align: left;\n",
       "    }\n",
       "\n",
       "    .dataframe tbody tr th {\n",
       "        vertical-align: top;\n",
       "    }\n",
       "</style>\n",
       "<table border=\"1\" class=\"dataframe\">\n",
       "  <thead>\n",
       "    <tr style=\"text-align: right;\">\n",
       "      <th></th>\n",
       "      <th>location_id</th>\n",
       "      <th>location_int</th>\n",
       "      <th>Market</th>\n",
       "      <th>ST</th>\n",
       "      <th>SOTF</th>\n",
       "      <th>store_zip</th>\n",
       "      <th>latitude_meas</th>\n",
       "      <th>longitude_meas</th>\n",
       "      <th>revenue_flag</th>\n",
       "      <th>zip</th>\n",
       "      <th>dist_miles</th>\n",
       "      <th>group</th>\n",
       "    </tr>\n",
       "  </thead>\n",
       "  <tbody>\n",
       "    <tr>\n",
       "      <th>0</th>\n",
       "      <td>1154</td>\n",
       "      <td>1154</td>\n",
       "      <td>AUSTIN</td>\n",
       "      <td>TX</td>\n",
       "      <td>Yes</td>\n",
       "      <td>78130</td>\n",
       "      <td>29.6896</td>\n",
       "      <td>-98.1105</td>\n",
       "      <td>P</td>\n",
       "      <td>78130</td>\n",
       "      <td>0.5646947075090354</td>\n",
       "      <td>Control</td>\n",
       "    </tr>\n",
       "    <tr>\n",
       "      <th>1</th>\n",
       "      <td>1154</td>\n",
       "      <td>1154</td>\n",
       "      <td>AUSTIN</td>\n",
       "      <td>TX</td>\n",
       "      <td>Yes</td>\n",
       "      <td>78130</td>\n",
       "      <td>29.6896</td>\n",
       "      <td>-98.1105</td>\n",
       "      <td>P</td>\n",
       "      <td>78132</td>\n",
       "      <td>5.995359069896744</td>\n",
       "      <td>Control</td>\n",
       "    </tr>\n",
       "  </tbody>\n",
       "</table>\n",
       "</div>"
      ],
      "text/plain": [
       "  location_id location_int  Market  ST SOTF store_zip latitude_meas  \\\n",
       "0        1154         1154  AUSTIN  TX  Yes     78130       29.6896   \n",
       "1        1154         1154  AUSTIN  TX  Yes     78130       29.6896   \n",
       "\n",
       "  longitude_meas revenue_flag    zip          dist_miles    group  \n",
       "0       -98.1105            P  78130  0.5646947075090354  Control  \n",
       "1       -98.1105            P  78132   5.995359069896744  Control  "
      ]
     },
     "execution_count": 5,
     "metadata": {},
     "output_type": "execute_result"
    }
   ],
   "source": [
    "df_all_3_stores_mkt.head(2)"
   ]
  },
  {
   "cell_type": "code",
   "execution_count": null,
   "metadata": {},
   "outputs": [],
   "source": []
  },
  {
   "cell_type": "code",
   "execution_count": 6,
   "metadata": {},
   "outputs": [
    {
     "name": "stdout",
     "output_type": "stream",
     "text": [
      "1\n"
     ]
    }
   ],
   "source": [
    "all_open_stores=pd.read_csv(\"/home/jian/BiglotsCode/outputs/combined_sales_long_2019-06-01.csv\",\n",
    "                            usecols=['location_id','week_end_date','sales'],dtype=str)\n",
    "all_open_stores=all_open_stores[all_open_stores['location_id']!=\"6990\"]\n",
    "all_open_stores=all_open_stores[all_open_stores['week_end_date']==\"2019-06-01\"]\n",
    "all_open_stores['sales']=all_open_stores['sales'].astype(float)\n",
    "all_open_stores=all_open_stores[all_open_stores['sales']>0]\n",
    "print(all_open_stores['week_end_date'].nunique())\n",
    "all_opening_stores=all_open_stores['location_id'].unique().tolist()\n"
   ]
  },
  {
   "cell_type": "code",
   "execution_count": 7,
   "metadata": {},
   "outputs": [
    {
     "data": {
      "text/plain": [
       "(1407, 4)"
      ]
     },
     "execution_count": 7,
     "metadata": {},
     "output_type": "execute_result"
    }
   ],
   "source": [
    "store_list=pd.read_table(\"/home/jian/BigLots/static_files/Store_list/MediaStormStores20190601-134302-813.txt\",\n",
    "                         dtype=str,sep=\"|\")\n",
    "store_list=store_list[['location_id','zip_cd','latitude_meas','longitude_meas']]\n",
    "store_list['zip_cd']=store_list['zip_cd'].apply(lambda x: x.split(\"-\")[0].zfill(5))\n",
    "store_list=store_list[~store_list['location_id'].isin([\"6990\",'145'])]\n",
    "store_list=store_list.rename(columns={\"zip_cd\":\"store_zip\"})\n",
    "store_list.shape"
   ]
  },
  {
   "cell_type": "code",
   "execution_count": 8,
   "metadata": {},
   "outputs": [
    {
     "data": {
      "text/html": [
       "<div>\n",
       "<style>\n",
       "    .dataframe thead tr:only-child th {\n",
       "        text-align: right;\n",
       "    }\n",
       "\n",
       "    .dataframe thead th {\n",
       "        text-align: left;\n",
       "    }\n",
       "\n",
       "    .dataframe tbody tr th {\n",
       "        vertical-align: top;\n",
       "    }\n",
       "</style>\n",
       "<table border=\"1\" class=\"dataframe\">\n",
       "  <thead>\n",
       "    <tr style=\"text-align: right;\">\n",
       "      <th></th>\n",
       "      <th>location_id</th>\n",
       "      <th>store_zip</th>\n",
       "      <th>latitude_meas</th>\n",
       "      <th>longitude_meas</th>\n",
       "    </tr>\n",
       "  </thead>\n",
       "  <tbody>\n",
       "    <tr>\n",
       "      <th>632</th>\n",
       "      <td>1840</td>\n",
       "      <td>32446</td>\n",
       "      <td>000000000030.764395</td>\n",
       "      <td>-000000000085.203110</td>\n",
       "    </tr>\n",
       "    <tr>\n",
       "      <th>659</th>\n",
       "      <td>1918</td>\n",
       "      <td>95826</td>\n",
       "      <td>000000000038.563259</td>\n",
       "      <td>-000000000121.380165</td>\n",
       "    </tr>\n",
       "    <tr>\n",
       "      <th>1306</th>\n",
       "      <td>5372</td>\n",
       "      <td>29485</td>\n",
       "      <td>000000000032.954195</td>\n",
       "      <td>-000000000080.167586</td>\n",
       "    </tr>\n",
       "  </tbody>\n",
       "</table>\n",
       "</div>"
      ],
      "text/plain": [
       "     location_id store_zip         latitude_meas        longitude_meas\n",
       "632         1840     32446   000000000030.764395  -000000000085.203110\n",
       "659         1918     95826   000000000038.563259  -000000000121.380165\n",
       "1306        5372     29485   000000000032.954195  -000000000080.167586"
      ]
     },
     "execution_count": 8,
     "metadata": {},
     "output_type": "execute_result"
    }
   ],
   "source": [
    "store_list[~store_list['location_id'].isin(all_opening_stores)]\n",
    "\n",
    "# Not included, as the sales recently is nan\n",
    "# 1840 \"CLOSED DUE TO HURRICANE - REOPEN 9/19/19\" in the Dom's list (planner request folder as Xiao)\n",
    "# 1918 \"TEMP CLOSE SOTF ABATE REOPEN 5/9/19\", but no sales observed, in the Dom's list (planner request folder as Xiao)\n",
    "# 5372 in the tab \"2019 SOTF Lists by Wave\", same file, wave 2B SOTF G.O. 5/17"
   ]
  },
  {
   "cell_type": "code",
   "execution_count": 9,
   "metadata": {},
   "outputs": [
    {
     "data": {
      "text/html": [
       "<div>\n",
       "<style>\n",
       "    .dataframe thead tr:only-child th {\n",
       "        text-align: right;\n",
       "    }\n",
       "\n",
       "    .dataframe thead th {\n",
       "        text-align: left;\n",
       "    }\n",
       "\n",
       "    .dataframe tbody tr th {\n",
       "        vertical-align: top;\n",
       "    }\n",
       "</style>\n",
       "<table border=\"1\" class=\"dataframe\">\n",
       "  <thead>\n",
       "    <tr style=\"text-align: right;\">\n",
       "      <th></th>\n",
       "      <th>location_id</th>\n",
       "      <th>store_zip</th>\n",
       "      <th>latitude_meas</th>\n",
       "      <th>longitude_meas</th>\n",
       "    </tr>\n",
       "  </thead>\n",
       "  <tbody>\n",
       "    <tr>\n",
       "      <th>0</th>\n",
       "      <td>3</td>\n",
       "      <td>30906</td>\n",
       "      <td>33.421570</td>\n",
       "      <td>-82.018921</td>\n",
       "    </tr>\n",
       "    <tr>\n",
       "      <th>1</th>\n",
       "      <td>30</td>\n",
       "      <td>43402</td>\n",
       "      <td>41.363132</td>\n",
       "      <td>-83.650909</td>\n",
       "    </tr>\n",
       "  </tbody>\n",
       "</table>\n",
       "</div>"
      ],
      "text/plain": [
       "  location_id store_zip  latitude_meas  longitude_meas\n",
       "0           3     30906      33.421570      -82.018921\n",
       "1          30     43402      41.363132      -83.650909"
      ]
     },
     "execution_count": 9,
     "metadata": {},
     "output_type": "execute_result"
    }
   ],
   "source": [
    "store_list=store_list[store_list['location_id'].isin(all_opening_stores)]\n",
    "store_list['latitude_meas']=store_list['latitude_meas'].astype(float)\n",
    "store_list['longitude_meas']=store_list['longitude_meas'].astype(float)\n",
    "store_list.head(2)"
   ]
  },
  {
   "cell_type": "code",
   "execution_count": 10,
   "metadata": {},
   "outputs": [],
   "source": [
    "Nielsen_DMA=pd.read_excel(\"/home/jian/Docs/Geo_mapping/Zips by DMA by County16-17 nielsen.xlsx\",dtype=str,skiprows=1,usecols=[0,2])\n",
    "Nielsen_DMA.columns=['store_zip','DMA']\n",
    "Nielsen_DMA=Nielsen_DMA.drop_duplicates()"
   ]
  },
  {
   "cell_type": "code",
   "execution_count": null,
   "metadata": {
    "collapsed": true
   },
   "outputs": [],
   "source": []
  },
  {
   "cell_type": "code",
   "execution_count": 11,
   "metadata": {},
   "outputs": [
    {
     "data": {
      "text/plain": [
       "(37, 5)"
      ]
     },
     "execution_count": 11,
     "metadata": {},
     "output_type": "execute_result"
    }
   ],
   "source": [
    "store_list_all_DMA=pd.merge(store_list,Nielsen_DMA,on=\"store_zip\",how=\"left\")\n",
    "\n",
    "\n",
    "list_2_full_DMA=['CHARLOTTE','BUFFALO']\n",
    "store_list_2_full_DMA=store_list_all_DMA[store_list_all_DMA['DMA'].isin(list_2_full_DMA)]\n",
    "store_list_2_full_DMA.shape"
   ]
  },
  {
   "cell_type": "code",
   "execution_count": null,
   "metadata": {
    "collapsed": true
   },
   "outputs": [],
   "source": []
  },
  {
   "cell_type": "code",
   "execution_count": 12,
   "metadata": {},
   "outputs": [
    {
     "name": "stdout",
     "output_type": "stream",
     "text": [
      "1977 ['COLUMBIA-JEFFERSON CITY', 'KANSAS CITY'] 1\n",
      "4556 ['BEND, OR', 'PORTLAND, OR'] 1\n",
      "5205 ['BUFFALO', 'ELMIRA (CORNING)', 'ROCHESTER, NY'] 1\n",
      "5226 ['CHARLOTTE', 'COLUMBIA, SC', 'MYRTLE BEACH-FLORENCE'] 1\n",
      "5371 ['CHARLOTTE', 'GREENSBORO-H.POINT-W.SALEM'] 2\n",
      "5391 ['CHARLOTTE', 'GREENVLL-SPART-ASHEVLL-AND'] 1\n"
     ]
    }
   ],
   "source": [
    "mkt_7=['DETROIT', 'GREENSBORO-H.POINT-W.SALEM', 'HARTFORD & NEW HAVEN', 'JACKSONVILLE', 'KANSAS CITY', 'OKLAHOMA CITY', 'PORTLAND, OR']\n",
    "mkt_3=['AUSTIN','PHOENIX (PRESCOTT)','Long Island']\n",
    "mkt_2=['BUFFALO','CHARLOTTE']\n",
    "all_test_mkts=mkt_7+mkt_3+mkt_2\n",
    "\n",
    "test_stores_multiple_mkts=store_list_all_DMA[store_list_all_DMA['location_id'].isin(store_list_2_full_DMA['location_id'].tolist()+list_stores_of_7_mkt+list_test_stores_of_3_mkt)]\n",
    "\n",
    "df_stoes_overlapped=test_stores_multiple_mkts.groupby(['location_id'])['DMA'].count().to_frame().reset_index()\n",
    "df_stoes_overlapped=df_stoes_overlapped[df_stoes_overlapped['DMA']>=2]\n",
    "df_stoes_overlapped.shape\n",
    "\n",
    "test_stores_multiple_mkts=test_stores_multiple_mkts[test_stores_multiple_mkts['location_id'].isin(df_stoes_overlapped['location_id'].tolist())]\n",
    "for loc,group in test_stores_multiple_mkts.groupby(['location_id']):\n",
    "    print(loc,group['DMA'].tolist(),len([x for x in group['DMA'].tolist() if x in all_test_mkts]))\n",
    "    \n",
    "# 5371 only\n",
    "\n"
   ]
  },
  {
   "cell_type": "code",
   "execution_count": 13,
   "metadata": {},
   "outputs": [
    {
     "name": "stdout",
     "output_type": "stream",
     "text": [
      "['unique_per_DMA', 'Circ Test 2019Q2 Zips DeDuped', 'DETROIT', 'GREENSBORO-H.POINT-W.SALEM', 'HARTFORD & NEW HAVEN', 'JACKSONVILLE', 'KANSAS CITY', 'OKLAHOMA CITY', 'PORTLAND, OR']\n",
      "86\n"
     ]
    }
   ],
   "source": [
    "excel_7_mkts=pd.ExcelFile(\"BL_2019Q2 Circ Test zips_7_markets JL_2019-05-24.xlsx\")\n",
    "print(excel_7_mkts.sheet_names)\n",
    "\n",
    "\n",
    "df_all_7_store_mkt=pd.DataFrame()\n",
    "for mkt in excel_7_mkts.sheet_names[2:]:\n",
    "    df=excel_7_mkts.parse(mkt,dtype=str)\n",
    "    df=df[df['location_id']!=\"5371\"]\n",
    "    df_all_7_store_mkt=df_all_7_store_mkt.append(df)\n",
    "list_stores_of_7_mkt=df_all_7_store_mkt['location_id'].unique().tolist()\n",
    "print(len(list_stores_of_7_mkt))"
   ]
  },
  {
   "cell_type": "code",
   "execution_count": 14,
   "metadata": {},
   "outputs": [],
   "source": [
    "store_list_all_DMA=pd.merge(store_list,Nielsen_DMA,on=\"store_zip\",how=\"left\")\n",
    "\n",
    "list_2_full_DMA=['CHARLOTTE','BUFFALO']\n",
    "store_list_2_full_DMA=store_list_all_DMA[store_list_all_DMA['DMA'].isin(list_2_full_DMA)]\n",
    "store_list_2_full_DMA=store_list_2_full_DMA[store_list_2_full_DMA['location_id']!=\"5371\"]"
   ]
  },
  {
   "cell_type": "code",
   "execution_count": 15,
   "metadata": {
    "collapsed": true
   },
   "outputs": [],
   "source": [
    "store_zips=pd.read_csv(\"/home/jian/Projects/Big_Lots/New_TA/zips_in_new_ta/sales_by_zip (Store level).csv\",\n",
    "                       dtype=str,usecols=['location_id','zip','revenue_flag'])\n",
    "store_zips=store_zips[store_zips['revenue_flag'].isin(['P','S'])]\n",
    "store_list_2_full_DMA=pd.merge(store_list_2_full_DMA,store_zips,on=\"location_id\",how=\"left\")"
   ]
  },
  {
   "cell_type": "code",
   "execution_count": 16,
   "metadata": {},
   "outputs": [
    {
     "name": "stderr",
     "output_type": "stream",
     "text": [
      "/usr/local/lib/python3.6/site-packages/ipykernel_launcher.py:2: UserWarning: Boolean Series key will be reindexed to match DataFrame index.\n",
      "  \n",
      "/usr/local/lib/python3.6/site-packages/ipykernel_launcher.py:3: UserWarning: Boolean Series key will be reindexed to match DataFrame index.\n",
      "  This is separate from the ipykernel package so we can avoid doing imports until\n"
     ]
    }
   ],
   "source": [
    "balance_stores=store_list[~store_list['location_id'].isin(list_stores_of_7_mkt)]\n",
    "balance_stores=balance_stores[~store_list['location_id'].isin(list_test_stores_of_3_mkt)]\n",
    "balance_stores=balance_stores[~store_list['location_id'].isin(store_list_2_full_DMA['location_id'].tolist())]\n",
    "\n",
    "df_balance_stores_zips=pd.merge(balance_stores,store_zips,on=\"location_id\",how=\"left\")\n",
    "\n",
    "cols_list=store_list_2_full_DMA.columns.tolist()+['dist_miles']"
   ]
  },
  {
   "cell_type": "code",
   "execution_count": 17,
   "metadata": {},
   "outputs": [],
   "source": [
    "store_list_2_full_DMA_1=store_list_2_full_DMA[pd.notnull(store_list_2_full_DMA['revenue_flag'])]\n",
    "store_list_2_full_DMA_2=store_list_2_full_DMA[pd.isnull(store_list_2_full_DMA['revenue_flag'])]\n",
    "\n",
    "\n",
    "del store_list_2_full_DMA_2['zip']\n",
    "del store_list_2_full_DMA_2['revenue_flag']\n",
    "\n"
   ]
  },
  {
   "cell_type": "code",
   "execution_count": 18,
   "metadata": {},
   "outputs": [],
   "source": [
    "store_list_2_full_DMA_1=store_list_2_full_DMA_1.reset_index()\n",
    "del store_list_2_full_DMA_1['index']\n",
    "store_list_2_full_DMA_1['dist_miles']=np.nan\n",
    "\n",
    "for ind,row in store_list_2_full_DMA_1.iterrows():\n",
    "    store_center=(row['latitude_meas'],row['longitude_meas'])\n",
    "    try:\n",
    "        zip_center=zip_centers[row['zip']]\n",
    "    except:\n",
    "        try:\n",
    "            zip_center=[zipcodes.matching(\"10044\")[0]['lat'],zipcodes.matching(\"10044\")[0]['long']]\n",
    "        except:\n",
    "            zip_center=np.nan\n",
    "    dist=haversine(zip_center,store_center,miles=True)\n",
    "    store_list_2_full_DMA_1.loc[ind,'dist_miles']=dist\n",
    "store_list_2_full_DMA_1=store_list_2_full_DMA_1[(store_list_2_full_DMA_1['revenue_flag']==\"P\") | (store_list_2_full_DMA_1['dist_miles']<=20)]"
   ]
  },
  {
   "cell_type": "code",
   "execution_count": 19,
   "metadata": {},
   "outputs": [],
   "source": [
    "store_list_2_full_DMA_2=store_list_2_full_DMA_2.reset_index()\n",
    "del store_list_2_full_DMA_2['index']\n",
    "\n",
    "df_new_stores_zips=pd.DataFrame()\n",
    "for ind,row in store_list_2_full_DMA_2.iterrows():\n",
    "    location_id=row['location_id']\n",
    "    store_center=[row['latitude_meas'],row['longitude_meas']]\n",
    "    for zip_cd in zip_centers.keys():\n",
    "        dist=haversine(store_center,zip_centers[zip_cd],miles=True)\n",
    "        if dist<=10:\n",
    "            df=pd.DataFrame({\"location_id\":location_id,\"zip\":zip_cd,\"revenue_flag\":\"zip_in_10\",\"dist_miles\":dist},index=[0])\n",
    "            df_new_stores_zips=df_new_stores_zips.append(df)\n",
    "            \n",
    "store_list_2_full_DMA_2=pd.merge(store_list_2_full_DMA_2,df_new_stores_zips,on=\"location_id\",how=\"left\")            \n",
    "\n",
    "\n",
    "store_list_2_full_DMA=store_list_2_full_DMA_2.append(store_list_2_full_DMA_1)[cols_list]"
   ]
  },
  {
   "cell_type": "code",
   "execution_count": null,
   "metadata": {},
   "outputs": [],
   "source": []
  },
  {
   "cell_type": "code",
   "execution_count": 20,
   "metadata": {},
   "outputs": [],
   "source": [
    "df_balance_stores_zips_1=df_balance_stores_zips[pd.notnull(df_balance_stores_zips['revenue_flag'])]\n",
    "df_balance_stores_zips_2=df_balance_stores_zips[pd.isnull(df_balance_stores_zips['revenue_flag'])]\n",
    "\n",
    "\n",
    "del df_balance_stores_zips_2['zip']\n",
    "del df_balance_stores_zips_2['revenue_flag']\n"
   ]
  },
  {
   "cell_type": "code",
   "execution_count": 21,
   "metadata": {},
   "outputs": [],
   "source": [
    "df_balance_stores_zips_1=df_balance_stores_zips_1.reset_index()\n",
    "del df_balance_stores_zips_1['index']\n",
    "df_balance_stores_zips_1['dist_miles']=np.nan\n",
    "\n",
    "for ind,row in df_balance_stores_zips_1.iterrows():\n",
    "    store_center=(row['latitude_meas'],row['longitude_meas'])\n",
    "    try:\n",
    "        zip_center=zip_centers[row['zip']]\n",
    "    except:\n",
    "        try:\n",
    "            zip_center=[zipcodes.matching(\"10044\")[0]['lat'],zipcodes.matching(\"10044\")[0]['long']]\n",
    "        except:\n",
    "            zip_center=np.nan\n",
    "    dist=haversine(zip_center,store_center,miles=True)\n",
    "    df_balance_stores_zips_1.loc[ind,'dist_miles']=dist\n",
    "df_balance_stores_zips_1=df_balance_stores_zips_1[(df_balance_stores_zips_1['revenue_flag']==\"P\") | (df_balance_stores_zips_1['dist_miles']<=20)]"
   ]
  },
  {
   "cell_type": "code",
   "execution_count": 22,
   "metadata": {},
   "outputs": [],
   "source": [
    "df_balance_stores_zips_2=df_balance_stores_zips_2.reset_index()\n",
    "del df_balance_stores_zips_2['index']\n",
    "\n",
    "df_new_stores_zips=pd.DataFrame()\n",
    "for ind,row in df_balance_stores_zips_2.iterrows():\n",
    "    location_id=row['location_id']\n",
    "    store_center=[row['latitude_meas'],row['longitude_meas']]\n",
    "    for zip_cd in zip_centers.keys():\n",
    "        dist=haversine(store_center,zip_centers[zip_cd],miles=True)\n",
    "        if dist<=10:\n",
    "            df=pd.DataFrame({\"location_id\":location_id,\"zip\":zip_cd,\"revenue_flag\":\"zip_in_10\",\"dist_miles\":dist},index=[0])\n",
    "            df_new_stores_zips=df_new_stores_zips.append(df)\n",
    "            \n",
    "df_balance_stores_zips_2=pd.merge(df_balance_stores_zips_2,df_new_stores_zips,on=\"location_id\",how=\"left\")            \n",
    "\n",
    "balance_cols=cols_list.copy()\n",
    "cols_list.remove(\"DMA\")\n",
    "df_balance_stores_zips=df_balance_stores_zips_2.append(df_balance_stores_zips_1)[cols_list]"
   ]
  },
  {
   "cell_type": "code",
   "execution_count": 23,
   "metadata": {},
   "outputs": [],
   "source": [
    "zip_list_7_mkts_test=df_all_7_store_mkt['zip'].unique().tolist()\n",
    "\n",
    "zip_list_Austin_test=df_all_3_stores_mkt[(df_all_3_stores_mkt['Market']==\"AUSTIN\") & (df_all_3_stores_mkt['group']==\"Test\")]['zip'].unique().tolist()\n",
    "zip_list_Phoenix_test=df_all_3_stores_mkt[(df_all_3_stores_mkt['Market']==\"PHOENIX (PRESCOTT)\") & (df_all_3_stores_mkt['group']==\"Test\")]['zip'].unique().tolist()\n",
    "zip_list_LongIsland_test=df_all_3_stores_mkt[(df_all_3_stores_mkt['Market']==\"Long Island\") & (df_all_3_stores_mkt['group']==\"Test\")]['zip'].unique().tolist()\n",
    "\n",
    "zip_list_Charlotte_test=store_list_2_full_DMA[store_list_2_full_DMA['DMA']==\"CHARLOTTE\"]['zip'].unique().tolist()\n",
    "zip_list_BUFFALO_test=store_list_2_full_DMA[store_list_2_full_DMA['DMA']==\"BUFFALO\"]['zip'].unique().tolist()\n",
    "\n",
    "zip_list_balance=df_balance_stores_zips['zip'].unique().tolist()\n",
    "###\n",
    "list_of_list_zip=[zip_list_7_mkts_test,zip_list_Austin_test,zip_list_Phoenix_test,zip_list_LongIsland_test,\n",
    "                          zip_list_Charlotte_test,zip_list_BUFFALO_test,zip_list_balance]\n",
    "max_rows=max([len(x) for x in list_of_list_zip])\n",
    "\n",
    "zip_list_7_mkts_test=zip_list_7_mkts_test+[np.nan]*(max_rows-len(zip_list_7_mkts_test))\n",
    "\n",
    "zip_list_Austin_test=zip_list_Austin_test+[np.nan]*(max_rows-len(zip_list_Austin_test))\n",
    "zip_list_Phoenix_test=zip_list_Phoenix_test+[np.nan]*(max_rows-len(zip_list_Phoenix_test))\n",
    "zip_list_LongIsland_test=zip_list_LongIsland_test+[np.nan]*(max_rows-len(zip_list_LongIsland_test))\n",
    "\n",
    "zip_list_Charlotte_test=zip_list_Charlotte_test+[np.nan]*(max_rows-len(zip_list_Charlotte_test))\n",
    "zip_list_BUFFALO_test=zip_list_BUFFALO_test+[np.nan]*(max_rows-len(zip_list_BUFFALO_test))\n",
    "\n",
    "zip_list_balance=zip_list_balance+[np.nan]*(max_rows-len(zip_list_balance))\n",
    "\n",
    "\n",
    "df_zips=pd.DataFrame({\"7 DMAs Full\":zip_list_7_mkts_test,\"Austin Test only\":zip_list_Austin_test,\"Phoenix Test only\":zip_list_Phoenix_test,\n",
    "                     \"Long Island Test only\":zip_list_LongIsland_test,\"Charlotte Full DMA\":zip_list_Charlotte_test,\n",
    "                     \"Buffalo Full DMA\":zip_list_BUFFALO_test,\"Balance of the USA\":zip_list_balance})\n",
    "\n",
    "\n",
    "df_zips=df_zips[[\"7 DMAs Full\",\"Austin Test only\",\"Phoenix Test only\",\"Long Island Test only\",\n",
    "                     \"Charlotte Full DMA\",\"Buffalo Full DMA\",\"Balance of the USA\"]]"
   ]
  },
  {
   "cell_type": "code",
   "execution_count": 24,
   "metadata": {},
   "outputs": [],
   "source": [
    "store_list_7_mkts_test=df_all_7_store_mkt['location_id'].unique().tolist()\n",
    "\n",
    "store_list_Austin_test=df_all_3_stores_mkt[(df_all_3_stores_mkt['Market']==\"AUSTIN\") & (df_all_3_stores_mkt['group']==\"Test\")]['location_id'].unique().tolist()\n",
    "store_list_Phoenix_test=df_all_3_stores_mkt[(df_all_3_stores_mkt['Market']==\"PHOENIX (PRESCOTT)\") & (df_all_3_stores_mkt['group']==\"Test\")]['location_id'].unique().tolist()\n",
    "store_list_LongIsland_test=df_all_3_stores_mkt[(df_all_3_stores_mkt['Market']==\"Long Island\") & (df_all_3_stores_mkt['group']==\"Test\")]['location_id'].unique().tolist()\n",
    "\n",
    "store_list_Charlotte_test=store_list_2_full_DMA[store_list_2_full_DMA['DMA']==\"CHARLOTTE\"]['location_id'].unique().tolist()\n",
    "store_list_BUFFALO_test=store_list_2_full_DMA[store_list_2_full_DMA['DMA']==\"BUFFALO\"]['location_id'].unique().tolist()\n",
    "\n",
    "store_list_balance=df_balance_stores_zips['location_id'].unique().tolist()\n",
    "\n",
    "store_list_Austin_control=df_all_3_stores_mkt[(df_all_3_stores_mkt['Market']==\"AUSTIN\") & (df_all_3_stores_mkt['group']==\"Control\")]['location_id'].unique().tolist()\n",
    "store_list_Phoenix_control=df_all_3_stores_mkt[(df_all_3_stores_mkt['Market']==\"PHOENIX (PRESCOTT)\") & (df_all_3_stores_mkt['group']==\"Control\")]['location_id'].unique().tolist()\n",
    "store_list_LongIsland_control=df_all_3_stores_mkt[(df_all_3_stores_mkt['Market']==\"Long Island\") & (df_all_3_stores_mkt['group']==\"Control\")]['location_id'].unique().tolist()\n",
    "\n",
    "###\n",
    "list_of_list_store=[store_list_7_mkts_test,store_list_Austin_test,store_list_Phoenix_test,store_list_LongIsland_test,\n",
    "                    store_list_Charlotte_test,store_list_BUFFALO_test,store_list_balance,\n",
    "                    store_list_Austin_control,store_list_Phoenix_control,store_list_LongIsland_control]\n",
    "max_rows=max([len(x) for x in list_of_list_store])\n",
    "\n",
    "store_list_7_mkts_test=store_list_7_mkts_test+[np.nan]*(max_rows-len(store_list_7_mkts_test))\n",
    "\n",
    "store_list_Austin_test=store_list_Austin_test+[np.nan]*(max_rows-len(store_list_Austin_test))\n",
    "store_list_Phoenix_test=store_list_Phoenix_test+[np.nan]*(max_rows-len(store_list_Phoenix_test))\n",
    "store_list_LongIsland_test=store_list_LongIsland_test+[np.nan]*(max_rows-len(store_list_LongIsland_test))\n",
    "\n",
    "store_list_Charlotte_test=store_list_Charlotte_test+[np.nan]*(max_rows-len(store_list_Charlotte_test))\n",
    "store_list_BUFFALO_test=store_list_BUFFALO_test+[np.nan]*(max_rows-len(store_list_BUFFALO_test))\n",
    "\n",
    "store_list_balance=store_list_balance+[np.nan]*(max_rows-len(store_list_balance))\n",
    "\n",
    "store_list_Austin_control=store_list_Austin_control+[np.nan]*(max_rows-len(store_list_Austin_control))\n",
    "store_list_Phoenix_control=store_list_Phoenix_control+[np.nan]*(max_rows-len(store_list_Phoenix_control))\n",
    "store_list_LongIsland_control=store_list_LongIsland_control+[np.nan]*(max_rows-len(store_list_LongIsland_control))\n",
    "\n",
    "\n",
    "df_stores=pd.DataFrame({\"7 DMAs Full\":store_list_7_mkts_test,\"Austin Test only\":store_list_Austin_test,\"Phoenix Test only\":store_list_Phoenix_test,\n",
    "                        \"Long Island Test only\":store_list_LongIsland_test,\"Charlotte Full DMA\":store_list_Charlotte_test,\n",
    "                        \"Buffalo Full DMA\":store_list_BUFFALO_test,\"Balance of the USA\":store_list_balance,\n",
    "                        \"Austin Control only\":store_list_Austin_control,\"Phoenix Control only\":store_list_Phoenix_control,\n",
    "                        \"Long Island Control only\":store_list_LongIsland_control},index=[x for x in range(max_rows)])\n",
    "df_stores=df_stores[[\"7 DMAs Full\",\"Austin Test only\",\"Phoenix Test only\",\"Long Island Test only\",\n",
    "                     \"Charlotte Full DMA\",\"Buffalo Full DMA\",\"Balance of the USA\",\n",
    "                     \"Austin Control only\",\"Phoenix Control only\",\"Long Island Control only\"]]"
   ]
  },
  {
   "cell_type": "code",
   "execution_count": 25,
   "metadata": {},
   "outputs": [
    {
     "data": {
      "text/plain": [
       "['Austin Control only', 'Phoenix Control only', 'Long Island Control only']"
      ]
     },
     "execution_count": 25,
     "metadata": {},
     "output_type": "execute_result"
    }
   ],
   "source": [
    "df_stores.columns.tolist()[-3:]"
   ]
  },
  {
   "cell_type": "code",
   "execution_count": 26,
   "metadata": {},
   "outputs": [],
   "source": [
    "all_values_zip=[]\n",
    "for col in df_zips.columns.tolist():\n",
    "    all_values_zip=all_values_zip+df_zips[col].unique().tolist()\n",
    "all_values_zip = [x for x in all_values_zip if str(x) != 'nan']\n",
    "all_values_zip=list(set(all_values_zip))\n"
   ]
  },
  {
   "cell_type": "code",
   "execution_count": 27,
   "metadata": {},
   "outputs": [],
   "source": [
    "df_all_zips_in=pd.DataFrame({\"all_zips\":all_values_zip})\n",
    "df_all_zips_in=df_all_zips_in.reset_index()\n",
    "del df_all_zips_in['index']\n",
    "\n",
    "for col in df_zips.columns.tolist():\n",
    "    df_all_zips_in[col]=np.nan\n",
    "    df_all_zips_in[col]=df_all_zips_in[\"all_zips\"].apply(lambda x: str(x in df_zips[col].tolist()).replace(\"True\",\"1\").replace(\"False\",\"0\"))\n",
    "    df_all_zips_in[col]=df_all_zips_in[col].astype(int)\n",
    "    "
   ]
  },
  {
   "cell_type": "code",
   "execution_count": 28,
   "metadata": {
    "collapsed": true
   },
   "outputs": [],
   "source": [
    "all_values_store=[]\n",
    "for col in df_stores.columns.tolist():\n",
    "    all_values_store=all_values_store+df_stores[col].unique().tolist()\n",
    "all_values_store = [x for x in all_values_store if str(x) != 'nan']\n",
    "all_values_store=list(set(all_values_store))\n",
    "\n",
    "df_all_stores_in=pd.DataFrame({\"all_stores\":all_values_store})\n",
    "df_all_stores_in=df_all_stores_in.reset_index()\n",
    "del df_all_stores_in['index']\n",
    "\n",
    "for col in df_stores.columns.tolist():\n",
    "    df_all_stores_in[col]=np.nan\n",
    "    df_all_stores_in[col]=df_all_stores_in[\"all_stores\"].apply(lambda x: str(x in df_stores[col].tolist()).replace(\"True\",\"1\").replace(\"False\",\"0\"))\n",
    "    df_all_stores_in[col]=df_all_stores_in[col].astype(int)\n",
    "df_all_stores_in['sum']=df_all_stores_in[df_all_stores_in.columns.tolist()[1:]].sum(axis=1)"
   ]
  },
  {
   "cell_type": "code",
   "execution_count": 29,
   "metadata": {},
   "outputs": [],
   "source": [
    "writer=pd.ExcelWriter(\"/home/jian/Projects/Big_Lots/Analysis/2019_Q2/Planner_Requests/zips_test_balance_Bruce_20190605/BL_zips_stores_of_the_test_JL_\"+str(datetime.datetime.now().date())+\".xlsx\",engine=\"xlsxwriter\")\n",
    "df_zips.to_excel(writer,\"zip_codes\",index=False)\n",
    "df_stores.to_excel(writer,\"df_stores\",index=False)\n",
    "df_all_zips_in.to_excel(writer,\"df_all_zips_compare\",index=False)\n",
    "df_all_stores_in.to_excel(writer,\"df_all_stores_compare\",index=False)\n",
    "\n",
    "df_all_7_store_mkt.to_excel(writer,\"df_7_mkts\",index=False)\n",
    "df_all_3_stores_mkt.to_excel(writer,\"df_3_mkts\",index=False)\n",
    "store_list_2_full_DMA.to_excel(writer,\"df_2_DMAs\",index=False)\n",
    "df_balance_stores_zips.to_excel(writer,\"df_balance\",index=False)\n",
    "\n",
    "writer.save()\n"
   ]
  },
  {
   "cell_type": "code",
   "execution_count": null,
   "metadata": {
    "collapsed": true
   },
   "outputs": [],
   "source": []
  }
 ],
 "metadata": {
  "kernelspec": {
   "display_name": "Python 3",
   "language": "python",
   "name": "python3"
  },
  "language_info": {
   "codemirror_mode": {
    "name": "ipython",
    "version": 3
   },
   "file_extension": ".py",
   "mimetype": "text/x-python",
   "name": "python",
   "nbconvert_exporter": "python",
   "pygments_lexer": "ipython3",
   "version": "3.6.1"
  }
 },
 "nbformat": 4,
 "nbformat_minor": 2
}
