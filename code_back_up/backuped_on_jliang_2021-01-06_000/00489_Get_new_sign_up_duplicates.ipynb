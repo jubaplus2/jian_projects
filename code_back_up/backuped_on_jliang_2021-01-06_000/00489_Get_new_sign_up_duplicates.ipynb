{
 "cells": [
  {
   "cell_type": "code",
   "execution_count": 1,
   "metadata": {
    "collapsed": true
   },
   "outputs": [],
   "source": [
    "import pandas as pd\n",
    "import numpy as np\n",
    "import datetime\n",
    "import os\n",
    "\n",
    "def recursive_file_gen(root_path):\n",
    "    for root,dirs,files in os.walk(root_path):\n",
    "        for file in files:\n",
    "            yield os.path.join(root,file)"
   ]
  },
  {
   "cell_type": "code",
   "execution_count": 2,
   "metadata": {},
   "outputs": [
    {
     "data": {
      "text/plain": [
       "'\\nprevious_id_files_lists=list(recursive_file_gen(\"/home/jian/Projects/Big_Lots/Live_Ramp/Quarterly_Update_2019Q1/crm_newscore_20190107/by_group_quadrant_24/\"))\\n\\n# previous_id_files_lists=[x for x in previous_id_files_lists if \"Copy of 48 Stores_727.csv\" not in x]\\nprevious_id_files_lists=[x for x in previous_id_files_lists if \".csv\" in x]\\nprint(len(previous_id_files_lists))\\n\\n\\nimport glob\\nuploaded_new_seg=list(recursive_file_gen(\"/home/jian/celery/Append_to_celery_LiveRamp/monthly_update/\"))\\nuploaded_new_seg=[x for x in uploaded_new_seg if \".csv\" in x]\\n\\nprevious_id_files_lists=previous_id_files_lists+uploaded_new_seg\\n'"
      ]
     },
     "execution_count": 2,
     "metadata": {},
     "output_type": "execute_result"
    }
   ],
   "source": [
    "'''\n",
    "previous_id_files_lists=list(recursive_file_gen(\"/home/jian/Projects/Big_Lots/Live_Ramp/Quarterly_Update_2019Q1/crm_newscore_20190107/by_group_quadrant_24/\"))\n",
    "\n",
    "# previous_id_files_lists=[x for x in previous_id_files_lists if \"Copy of 48 Stores_727.csv\" not in x]\n",
    "previous_id_files_lists=[x for x in previous_id_files_lists if \".csv\" in x]\n",
    "print(len(previous_id_files_lists))\n",
    "\n",
    "\n",
    "import glob\n",
    "uploaded_new_seg=list(recursive_file_gen(\"/home/jian/celery/Append_to_celery_LiveRamp/monthly_update/\"))\n",
    "uploaded_new_seg=[x for x in uploaded_new_seg if \".csv\" in x]\n",
    "\n",
    "previous_id_files_lists=previous_id_files_lists+uploaded_new_seg\n",
    "'''"
   ]
  },
  {
   "cell_type": "code",
   "execution_count": 3,
   "metadata": {},
   "outputs": [
    {
     "data": {
      "text/plain": [
       "34"
      ]
     },
     "execution_count": 3,
     "metadata": {},
     "output_type": "execute_result"
    }
   ],
   "source": [
    "new_sign_ups_file_list_2019=list(recursive_file_gen(\"/home/jian/BigLots/2019_by_weeks/\"))\n",
    "new_sign_ups_file_list_2019=[x for x in new_sign_ups_file_list_2019 if \"aster\" in x]\n",
    "new_sign_ups_file_list_2019=[x for x in new_sign_ups_file_list_2019 if \".txt\" in x]\n",
    "\n",
    "new_sign_ups_file_list_2018=list(recursive_file_gen(\"/home/jian/BigLots/2018_by_weeks/\"))\n",
    "new_sign_ups_file_list_2018=[x for x in new_sign_ups_file_list_2018 if \"aster\" in x]\n",
    "new_sign_ups_file_list_2018=[x for x in new_sign_ups_file_list_2018 if \".txt\" in x]\n",
    "\n",
    "\n",
    "new_sign_ups_file_list=new_sign_ups_file_list_2019+new_sign_ups_file_list_2018\n",
    "len(new_sign_ups_file_list)"
   ]
  },
  {
   "cell_type": "code",
   "execution_count": 5,
   "metadata": {},
   "outputs": [
    {
     "name": "stdout",
     "output_type": "stream",
     "text": [
      "1 2019-06-06 15:04:55.031876\n",
      "6 2019-06-06 15:04:57.551941\n",
      "11 2019-06-06 15:04:59.897136\n",
      "16 2019-06-06 15:05:02.567161\n",
      "21 2019-06-06 15:05:06.392324\n",
      "26 2019-06-06 15:05:11.709437\n",
      "31 2019-06-06 15:05:17.415687\n"
     ]
    }
   ],
   "source": [
    "all_new_sign_ups=pd.DataFrame()\n",
    "i_counter=0\n",
    "for file_path in new_sign_ups_file_list:\n",
    "    week_end_dt=file_path.split(\"_by_weeks/MediaStorm_\")[1][:10]\n",
    "    df=pd.read_table(file_path,dtype=str,sep=\"|\",usecols=['customer_id_hashed','email_address_hash'])\n",
    "    df=df.drop_duplicates()\n",
    "    df['file_date']=week_end_dt\n",
    "    df['file_path']=file_path\n",
    "    \n",
    "    all_new_sign_ups=all_new_sign_ups.append(df)\n",
    "    i_counter+=1\n",
    "    if i_counter%5==1:\n",
    "        print(i_counter,datetime.datetime.now())\n",
    "    "
   ]
  },
  {
   "cell_type": "code",
   "execution_count": 8,
   "metadata": {},
   "outputs": [],
   "source": [
    "# pd.read_table(file_path,dtype=str,sep=\"|\",nrows=5)"
   ]
  },
  {
   "cell_type": "code",
   "execution_count": 6,
   "metadata": {},
   "outputs": [
    {
     "data": {
      "text/html": [
       "<div>\n",
       "<style>\n",
       "    .dataframe thead tr:only-child th {\n",
       "        text-align: right;\n",
       "    }\n",
       "\n",
       "    .dataframe thead th {\n",
       "        text-align: left;\n",
       "    }\n",
       "\n",
       "    .dataframe tbody tr th {\n",
       "        vertical-align: top;\n",
       "    }\n",
       "</style>\n",
       "<table border=\"1\" class=\"dataframe\">\n",
       "  <thead>\n",
       "    <tr style=\"text-align: right;\">\n",
       "      <th></th>\n",
       "      <th>email_address_hash</th>\n",
       "      <th>file_date</th>\n",
       "    </tr>\n",
       "  </thead>\n",
       "  <tbody>\n",
       "    <tr>\n",
       "      <th>4186969</th>\n",
       "      <td>f1d8759f8d58d3c9451482ae8c8db3a373f6a597b810ad...</td>\n",
       "      <td>5</td>\n",
       "    </tr>\n",
       "    <tr>\n",
       "      <th>948690</th>\n",
       "      <td>36c86b75747a319962dfcf341b1e0cd35cb08ad6931bd7...</td>\n",
       "      <td>3</td>\n",
       "    </tr>\n",
       "    <tr>\n",
       "      <th>724580</th>\n",
       "      <td>29d59580963de60bcf81a784b8a6933d0843b33bf7145f...</td>\n",
       "      <td>2</td>\n",
       "    </tr>\n",
       "    <tr>\n",
       "      <th>879990</th>\n",
       "      <td>32d1cf4aaf4d97f08a639d78a881c9de30cd1ae4287613...</td>\n",
       "      <td>2</td>\n",
       "    </tr>\n",
       "    <tr>\n",
       "      <th>3006017</th>\n",
       "      <td>ada07a8ce2773e0fdbe221a8ad124a8c99934ed0475d7f...</td>\n",
       "      <td>2</td>\n",
       "    </tr>\n",
       "    <tr>\n",
       "      <th>3430459</th>\n",
       "      <td>c61fe6fed0e03f9a34c9389c645ac8c8bb5ffba08ec1df...</td>\n",
       "      <td>2</td>\n",
       "    </tr>\n",
       "    <tr>\n",
       "      <th>657112</th>\n",
       "      <td>25f3d56fd9beaa5a76692301e3f733eedb72634372d22d...</td>\n",
       "      <td>2</td>\n",
       "    </tr>\n",
       "    <tr>\n",
       "      <th>2378030</th>\n",
       "      <td>89526e0484a833bc18a12276afac8def6391ef94500fa5...</td>\n",
       "      <td>2</td>\n",
       "    </tr>\n",
       "    <tr>\n",
       "      <th>2980977</th>\n",
       "      <td>ac2f236536f163644d422de5343e56dfef3049d63d28d9...</td>\n",
       "      <td>2</td>\n",
       "    </tr>\n",
       "    <tr>\n",
       "      <th>2761867</th>\n",
       "      <td>9f843a504ece8e28f35225693c5befdb34fb5a321837ca...</td>\n",
       "      <td>2</td>\n",
       "    </tr>\n",
       "  </tbody>\n",
       "</table>\n",
       "</div>"
      ],
      "text/plain": [
       "                                        email_address_hash  file_date\n",
       "4186969  f1d8759f8d58d3c9451482ae8c8db3a373f6a597b810ad...          5\n",
       "948690   36c86b75747a319962dfcf341b1e0cd35cb08ad6931bd7...          3\n",
       "724580   29d59580963de60bcf81a784b8a6933d0843b33bf7145f...          2\n",
       "879990   32d1cf4aaf4d97f08a639d78a881c9de30cd1ae4287613...          2\n",
       "3006017  ada07a8ce2773e0fdbe221a8ad124a8c99934ed0475d7f...          2\n",
       "3430459  c61fe6fed0e03f9a34c9389c645ac8c8bb5ffba08ec1df...          2\n",
       "657112   25f3d56fd9beaa5a76692301e3f733eedb72634372d22d...          2\n",
       "2378030  89526e0484a833bc18a12276afac8def6391ef94500fa5...          2\n",
       "2980977  ac2f236536f163644d422de5343e56dfef3049d63d28d9...          2\n",
       "2761867  9f843a504ece8e28f35225693c5befdb34fb5a321837ca...          2"
      ]
     },
     "execution_count": 6,
     "metadata": {},
     "output_type": "execute_result"
    }
   ],
   "source": [
    "df_dup=all_new_sign_ups.groupby(['email_address_hash'])['file_date'].count().to_frame().reset_index().sort_values(\"file_date\",ascending=False)\n",
    "df_dup.head(10)"
   ]
  },
  {
   "cell_type": "code",
   "execution_count": 7,
   "metadata": {},
   "outputs": [
    {
     "data": {
      "text/plain": [
       "'f1d8759f8d58d3c9451482ae8c8db3a373f6a597b810adf42d64dce3a8664a76'"
      ]
     },
     "execution_count": 7,
     "metadata": {},
     "output_type": "execute_result"
    }
   ],
   "source": [
    "df_dup['email_address_hash'].tolist()[0]"
   ]
  },
  {
   "cell_type": "code",
   "execution_count": 12,
   "metadata": {},
   "outputs": [],
   "source": [
    "example_dup_emails=all_new_sign_ups[all_new_sign_ups['email_address_hash']==\"f1d8759f8d58d3c9451482ae8c8db3a373f6a597b810adf42d64dce3a8664a76\"]\n",
    "\n",
    "df_example_dup_emails=pd.DataFrame()\n",
    "for file in example_dup_emails['file_path'].tolist():\n",
    "    df=pd.read_table(file,dtype=str,sep=\"|\")\n",
    "    df=df[df['email_address_hash']==\"f1d8759f8d58d3c9451482ae8c8db3a373f6a597b810adf42d64dce3a8664a76\"]\n",
    "    df_example_dup_emails=df_example_dup_emails.append(df)"
   ]
  },
  {
   "cell_type": "code",
   "execution_count": 14,
   "metadata": {},
   "outputs": [],
   "source": [
    "df_example_dup_emails.to_csv(\"./example_of_duplicate_email.csv\",index=False)"
   ]
  },
  {
   "cell_type": "code",
   "execution_count": 15,
   "metadata": {},
   "outputs": [
    {
     "data": {
      "text/plain": [
       "(4432048, 2)"
      ]
     },
     "execution_count": 15,
     "metadata": {},
     "output_type": "execute_result"
    }
   ],
   "source": [
    "df_dup[df_dup['file_date']>0].shape"
   ]
  },
  {
   "cell_type": "code",
   "execution_count": 16,
   "metadata": {},
   "outputs": [
    {
     "data": {
      "text/plain": [
       "(26, 2)"
      ]
     },
     "execution_count": 16,
     "metadata": {},
     "output_type": "execute_result"
    }
   ],
   "source": [
    "df_dup[df_dup['file_date']>1].shape"
   ]
  },
  {
   "cell_type": "code",
   "execution_count": 17,
   "metadata": {},
   "outputs": [
    {
     "data": {
      "text/plain": [
       "5.8663624581683235e-06"
      ]
     },
     "execution_count": 17,
     "metadata": {},
     "output_type": "execute_result"
    }
   ],
   "source": [
    "26/4432048"
   ]
  },
  {
   "cell_type": "code",
   "execution_count": null,
   "metadata": {
    "collapsed": true
   },
   "outputs": [],
   "source": [
    "dfiddetail = pd.read_csv('/home/jian/Projects/Big_Lots/Loyal_members/loyalty_register_data/combined_masterids_up_to_20181229_JL.csv',nrows = samplerows)\n"
   ]
  },
  {
   "cell_type": "code",
   "execution_count": 19,
   "metadata": {},
   "outputs": [
    {
     "data": {
      "text/html": [
       "<div>\n",
       "<style>\n",
       "    .dataframe thead tr:only-child th {\n",
       "        text-align: right;\n",
       "    }\n",
       "\n",
       "    .dataframe thead th {\n",
       "        text-align: left;\n",
       "    }\n",
       "\n",
       "    .dataframe tbody tr th {\n",
       "        vertical-align: top;\n",
       "    }\n",
       "</style>\n",
       "<table border=\"1\" class=\"dataframe\">\n",
       "  <thead>\n",
       "    <tr style=\"text-align: right;\">\n",
       "      <th></th>\n",
       "      <th>customer_id_hashed</th>\n",
       "      <th>email_address_hash</th>\n",
       "      <th>customer_zip_code</th>\n",
       "    </tr>\n",
       "  </thead>\n",
       "  <tbody>\n",
       "    <tr>\n",
       "      <th>0</th>\n",
       "      <td>9b7f9a1ba51dbae2a393c273ce8c9aa9bf610dc03410fd...</td>\n",
       "      <td>089bc373eda16a771e023d87ee368fb961c4ff9b36c7d6...</td>\n",
       "      <td>44402</td>\n",
       "    </tr>\n",
       "    <tr>\n",
       "      <th>1</th>\n",
       "      <td>c2c5bd862113c4e77c918dd22a25744f2e1224ea63b166...</td>\n",
       "      <td>065edf59d0ed26bea352be5f44fd7a6f688a0fa28cddb3...</td>\n",
       "      <td>37066</td>\n",
       "    </tr>\n",
       "    <tr>\n",
       "      <th>2</th>\n",
       "      <td>d1d5e857a51c2d795f07f08d600c1fda1eeb85388d02ef...</td>\n",
       "      <td>310e51ebfe35397b827828c4fe40faf4f9b0336aecf2f7...</td>\n",
       "      <td>94087</td>\n",
       "    </tr>\n",
       "    <tr>\n",
       "      <th>3</th>\n",
       "      <td>a5879872bfdf0b1ced681739a58dec90b19cd96b21456d...</td>\n",
       "      <td>790b7ad5b7d7c1ecfb974a6174e1e814be93ab26f4e459...</td>\n",
       "      <td>30165</td>\n",
       "    </tr>\n",
       "    <tr>\n",
       "      <th>4</th>\n",
       "      <td>b9792370f5f7e061b85bfa1bc0fbcdd7c0d7b83ce153b8...</td>\n",
       "      <td>25ec4dd616563a3a675c500bedf4a590dfe43d27b636e3...</td>\n",
       "      <td>29678</td>\n",
       "    </tr>\n",
       "    <tr>\n",
       "      <th>5</th>\n",
       "      <td>90bdb1f32f7218e47dbda4b172d6699a83ca1acd55807c...</td>\n",
       "      <td>b46379e076e803248c2bb4fd633c0c0516c2b365bc788f...</td>\n",
       "      <td>60016</td>\n",
       "    </tr>\n",
       "    <tr>\n",
       "      <th>6</th>\n",
       "      <td>2503e61c18f6afe7e39ed35c104b29ce42a49b2596d852...</td>\n",
       "      <td>4e2e478de0c75e5a29a7dd1fb23b6097f099e3990caedc...</td>\n",
       "      <td>32177</td>\n",
       "    </tr>\n",
       "    <tr>\n",
       "      <th>7</th>\n",
       "      <td>ea1c21e8dfacde8b28a447bc69121a938553ddc5aaf2f9...</td>\n",
       "      <td>7a5d0fc07eb535601900792baf5d8c3c8df47e83fd4b9d...</td>\n",
       "      <td>90230</td>\n",
       "    </tr>\n",
       "    <tr>\n",
       "      <th>8</th>\n",
       "      <td>530644109eb76309b1e622e518ad62d1fa70667f907642...</td>\n",
       "      <td>d155983f9fe2fee5b22d7312254ffafb9686cdc508c1df...</td>\n",
       "      <td>11742</td>\n",
       "    </tr>\n",
       "    <tr>\n",
       "      <th>9</th>\n",
       "      <td>577367192bd833280d83c811ca172cf6a5a35e7fa0986d...</td>\n",
       "      <td>396417fffe0573bf4b1ef51c30e9a658239a3a9daf530f...</td>\n",
       "      <td>70816</td>\n",
       "    </tr>\n",
       "  </tbody>\n",
       "</table>\n",
       "</div>"
      ],
      "text/plain": [
       "                                  customer_id_hashed  \\\n",
       "0  9b7f9a1ba51dbae2a393c273ce8c9aa9bf610dc03410fd...   \n",
       "1  c2c5bd862113c4e77c918dd22a25744f2e1224ea63b166...   \n",
       "2  d1d5e857a51c2d795f07f08d600c1fda1eeb85388d02ef...   \n",
       "3  a5879872bfdf0b1ced681739a58dec90b19cd96b21456d...   \n",
       "4  b9792370f5f7e061b85bfa1bc0fbcdd7c0d7b83ce153b8...   \n",
       "5  90bdb1f32f7218e47dbda4b172d6699a83ca1acd55807c...   \n",
       "6  2503e61c18f6afe7e39ed35c104b29ce42a49b2596d852...   \n",
       "7  ea1c21e8dfacde8b28a447bc69121a938553ddc5aaf2f9...   \n",
       "8  530644109eb76309b1e622e518ad62d1fa70667f907642...   \n",
       "9  577367192bd833280d83c811ca172cf6a5a35e7fa0986d...   \n",
       "\n",
       "                                  email_address_hash  customer_zip_code  \n",
       "0  089bc373eda16a771e023d87ee368fb961c4ff9b36c7d6...              44402  \n",
       "1  065edf59d0ed26bea352be5f44fd7a6f688a0fa28cddb3...              37066  \n",
       "2  310e51ebfe35397b827828c4fe40faf4f9b0336aecf2f7...              94087  \n",
       "3  790b7ad5b7d7c1ecfb974a6174e1e814be93ab26f4e459...              30165  \n",
       "4  25ec4dd616563a3a675c500bedf4a590dfe43d27b636e3...              29678  \n",
       "5  b46379e076e803248c2bb4fd633c0c0516c2b365bc788f...              60016  \n",
       "6  4e2e478de0c75e5a29a7dd1fb23b6097f099e3990caedc...              32177  \n",
       "7  7a5d0fc07eb535601900792baf5d8c3c8df47e83fd4b9d...              90230  \n",
       "8  d155983f9fe2fee5b22d7312254ffafb9686cdc508c1df...              11742  \n",
       "9  396417fffe0573bf4b1ef51c30e9a658239a3a9daf530f...              70816  "
      ]
     },
     "execution_count": 19,
     "metadata": {},
     "output_type": "execute_result"
    }
   ],
   "source": [
    "dfiddetail = pd.read_csv('/home/jian/Projects/Big_Lots/Loyal_members/loyalty_register_data/combined_masterids_up_to_20181229_JL.csv',nrows = 10)\n",
    "dfiddetail"
   ]
  },
  {
   "cell_type": "code",
   "execution_count": 22,
   "metadata": {},
   "outputs": [
    {
     "data": {
      "text/plain": [
       "(1983373, 3)"
      ]
     },
     "execution_count": 22,
     "metadata": {},
     "output_type": "execute_result"
    }
   ],
   "source": [
    "dfiddetail2 = pd.read_csv('/home/jian/Projects/Big_Lots/Loyal_members/loyalty_register_data/MediaStorm_Lapsed_Reward_Member_Master_from2014-08-26to2017-02-26.zip',\n",
    "                          dtype = 'str',sep = '|',usecols=['customer_id_hashed','email_address_hash','sign_up_date'])\n",
    "\n",
    "dfiddetail2.shape"
   ]
  },
  {
   "cell_type": "code",
   "execution_count": 25,
   "metadata": {},
   "outputs": [
    {
     "data": {
      "text/plain": [
       "(0, 3)"
      ]
     },
     "execution_count": 25,
     "metadata": {},
     "output_type": "execute_result"
    }
   ],
   "source": [
    "df_lapsed_in_new=dfiddetail2[dfiddetail2['customer_id_hashed'].isin(all_new_sign_ups['customer_id_hashed'].tolist())]\n",
    "df_lapsed_in_new.shape"
   ]
  },
  {
   "cell_type": "code",
   "execution_count": 26,
   "metadata": {},
   "outputs": [
    {
     "data": {
      "text/html": [
       "<div>\n",
       "<style>\n",
       "    .dataframe thead tr:only-child th {\n",
       "        text-align: right;\n",
       "    }\n",
       "\n",
       "    .dataframe thead th {\n",
       "        text-align: left;\n",
       "    }\n",
       "\n",
       "    .dataframe tbody tr th {\n",
       "        vertical-align: top;\n",
       "    }\n",
       "</style>\n",
       "<table border=\"1\" class=\"dataframe\">\n",
       "  <thead>\n",
       "    <tr style=\"text-align: right;\">\n",
       "      <th></th>\n",
       "      <th>customer_id_hashed</th>\n",
       "      <th>email_address_hash</th>\n",
       "      <th>sign_up_date</th>\n",
       "    </tr>\n",
       "  </thead>\n",
       "  <tbody>\n",
       "  </tbody>\n",
       "</table>\n",
       "</div>"
      ],
      "text/plain": [
       "Empty DataFrame\n",
       "Columns: [customer_id_hashed, email_address_hash, sign_up_date]\n",
       "Index: []"
      ]
     },
     "execution_count": 26,
     "metadata": {},
     "output_type": "execute_result"
    }
   ],
   "source": [
    "df_lapsed_in_new.head(4)"
   ]
  },
  {
   "cell_type": "code",
   "execution_count": null,
   "metadata": {
    "collapsed": true
   },
   "outputs": [],
   "source": []
  }
 ],
 "metadata": {
  "kernelspec": {
   "display_name": "Python 3",
   "language": "python",
   "name": "python3"
  }
 },
 "nbformat": 4,
 "nbformat_minor": 2
}
