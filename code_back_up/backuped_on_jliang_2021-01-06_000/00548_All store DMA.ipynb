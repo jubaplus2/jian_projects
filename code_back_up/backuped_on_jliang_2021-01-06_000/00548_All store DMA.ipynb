{
 "cells": [
  {
   "cell_type": "code",
   "execution_count": 1,
   "metadata": {
    "collapsed": true
   },
   "outputs": [],
   "source": [
    "import pandas as pd\n",
    "import numpy as np\n",
    "import datetime\n",
    "import os"
   ]
  },
  {
   "cell_type": "code",
   "execution_count": 6,
   "metadata": {},
   "outputs": [],
   "source": [
    "store_list_1=pd.read_table(\"/home/jian/BigLots/static_files/Store_list/MediaStormStores20181101-134628-331.txt\",dtype=str,sep=\"|\")\n",
    "store_list_1=store_list_1[['location_id','zip_cd']].drop_duplicates()\n",
    "\n",
    "store_list_2=pd.read_table(\"/home/jian/BigLots/static_files/Store_list/MediaStormStores20181001-135417-132.txt\",dtype=str,sep=\"|\")\n",
    "store_list_2=store_list_2[['location_id','zip_cd']].drop_duplicates()\n",
    "store_list_2=store_list_2[~store_list_2['location_id'].isin(store_list_1['location_id'])]\n",
    "store_list_1=store_list_1.append(store_list_2)\n",
    "\n",
    "store_list_2=pd.read_table(\"/home/jian/BigLots/static_files/Store_list/MediaStormStores20180901-133640-935.txt\",dtype=str,sep=\"|\")\n",
    "store_list_2=store_list_2[['location_id','zip_cd']].drop_duplicates()\n",
    "store_list_2=store_list_2[~store_list_2['location_id'].isin(store_list_1['location_id'])]\n",
    "store_list_1=store_list_1.append(store_list_2)\n",
    "\n",
    "store_list_2=pd.read_table(\"/home/jian/BigLots/static_files/Store_list/MediaStormStores20180801-133641-576.txt\",dtype=str,sep=\"|\")\n",
    "store_list_2=store_list_2[['location_id','zip_cd']].drop_duplicates()\n",
    "store_list_2=store_list_2[~store_list_2['location_id'].isin(store_list_1['location_id'])]\n",
    "store_list_1=store_list_1.append(store_list_2)\n",
    "\n",
    "store_list_2=pd.read_table(\"/home/jian/BigLots/static_files/Store_list/MediaStormStores20180703.txt\",dtype=str,sep=\"|\")\n",
    "store_list_2=store_list_2[['location_id','zip_cd']].drop_duplicates()\n",
    "store_list_2=store_list_2[~store_list_2['location_id'].isin(store_list_1['location_id'])]\n",
    "store_list_1=store_list_1.append(store_list_2)\n",
    "\n",
    "store_list_2=pd.read_table(\"/home/jian/BigLots/static_files/Store_list/MediaStormStores20171115.txt\",dtype=str,sep=\"|\")\n",
    "store_list_2=store_list_2[['location_id','zip_cd']].drop_duplicates()\n",
    "store_list_2=store_list_2[~store_list_2['location_id'].isin(store_list_1['location_id'])]\n",
    "store_list_1=store_list_1.append(store_list_2)\n",
    "\n",
    "store_list_2=pd.read_table(\"/home/jian/BigLots/static_files/Store_list/MediaStormStores20170913.txt\",dtype=str,sep=\"|\")\n",
    "store_list_2=store_list_2[['location_id','zip_cd']].drop_duplicates()\n",
    "store_list_2=store_list_2[~store_list_2['location_id'].isin(store_list_1['location_id'])]\n",
    "store_list_1=store_list_1.append(store_list_2)"
   ]
  },
  {
   "cell_type": "code",
   "execution_count": 9,
   "metadata": {},
   "outputs": [],
   "source": [
    "store_list_1['zip_cd']=store_list_1['zip_cd'].apply(lambda x: x.split(\"-\")[0].zfill(5))"
   ]
  },
  {
   "cell_type": "code",
   "execution_count": 12,
   "metadata": {},
   "outputs": [],
   "source": [
    "DMA_Zip=pd.read_excel(\"/home/jian/Docs/Geo_mapping/Zips by DMA by County16-17 nielsen.xlsx\",dtype=str,skiprows=1)\n",
    "DMA_Zip=DMA_Zip.iloc[:,[0,2]]\n",
    "DMA_Zip.columns=['zip_cd','DMA']\n",
    "DMA_Zip=DMA_Zip.drop_duplicates(['zip_cd'])"
   ]
  },
  {
   "cell_type": "code",
   "execution_count": 13,
   "metadata": {},
   "outputs": [
    {
     "data": {
      "text/plain": [
       "(40812, 2)"
      ]
     },
     "execution_count": 13,
     "metadata": {},
     "output_type": "execute_result"
    }
   ],
   "source": [
    "DMA_Zip.shape"
   ]
  },
  {
   "cell_type": "code",
   "execution_count": 14,
   "metadata": {},
   "outputs": [
    {
     "data": {
      "text/plain": [
       "40812"
      ]
     },
     "execution_count": 14,
     "metadata": {},
     "output_type": "execute_result"
    }
   ],
   "source": [
    "len(DMA_Zip['zip_cd'].unique())"
   ]
  },
  {
   "cell_type": "code",
   "execution_count": 15,
   "metadata": {
    "collapsed": true
   },
   "outputs": [],
   "source": [
    "store_list_1=pd.merge(store_list_1,DMA_Zip,on=\"zip_cd\",how=\"left\")"
   ]
  },
  {
   "cell_type": "code",
   "execution_count": 16,
   "metadata": {},
   "outputs": [
    {
     "data": {
      "text/html": [
       "<div>\n",
       "<style>\n",
       "    .dataframe thead tr:only-child th {\n",
       "        text-align: right;\n",
       "    }\n",
       "\n",
       "    .dataframe thead th {\n",
       "        text-align: left;\n",
       "    }\n",
       "\n",
       "    .dataframe tbody tr th {\n",
       "        vertical-align: top;\n",
       "    }\n",
       "</style>\n",
       "<table border=\"1\" class=\"dataframe\">\n",
       "  <thead>\n",
       "    <tr style=\"text-align: right;\">\n",
       "      <th></th>\n",
       "      <th>location_id</th>\n",
       "      <th>zip_cd</th>\n",
       "      <th>DMA</th>\n",
       "    </tr>\n",
       "  </thead>\n",
       "  <tbody>\n",
       "    <tr>\n",
       "      <th>0</th>\n",
       "      <td>3</td>\n",
       "      <td>30906</td>\n",
       "      <td>AUGUSTA-AIKEN</td>\n",
       "    </tr>\n",
       "    <tr>\n",
       "      <th>1</th>\n",
       "      <td>30</td>\n",
       "      <td>43402</td>\n",
       "      <td>TOLEDO</td>\n",
       "    </tr>\n",
       "  </tbody>\n",
       "</table>\n",
       "</div>"
      ],
      "text/plain": [
       "  location_id zip_cd            DMA\n",
       "0           3  30906  AUGUSTA-AIKEN\n",
       "1          30  43402         TOLEDO"
      ]
     },
     "execution_count": 16,
     "metadata": {},
     "output_type": "execute_result"
    }
   ],
   "source": [
    "store_list_1.to_csv(\"\")"
   ]
  },
  {
   "cell_type": "code",
   "execution_count": null,
   "metadata": {
    "collapsed": true
   },
   "outputs": [],
   "source": []
  }
 ],
 "metadata": {
  "kernelspec": {
   "display_name": "Python 3",
   "language": "python",
   "name": "python3"
  },
  "language_info": {
   "codemirror_mode": {
    "name": "ipython",
    "version": 3
   },
   "file_extension": ".py",
   "mimetype": "text/x-python",
   "name": "python",
   "nbconvert_exporter": "python",
   "pygments_lexer": "ipython3",
   "version": "3.6.1"
  }
 },
 "nbformat": 4,
 "nbformat_minor": 2
}
