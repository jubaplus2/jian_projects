{
 "cells": [
  {
   "cell_type": "code",
   "execution_count": 1,
   "metadata": {},
   "outputs": [
    {
     "data": {
      "text/plain": [
       "'/home/jian/Projects/Big_Lots/Analysis/2019_Q2/ID_Migration/By_Division'"
      ]
     },
     "execution_count": 1,
     "metadata": {},
     "output_type": "execute_result"
    }
   ],
   "source": [
    "import pandas as pd\n",
    "import numpy as np\n",
    "import datetime\n",
    "import os\n",
    "import gc\n",
    "\n",
    "os.getcwd()"
   ]
  },
  {
   "cell_type": "code",
   "execution_count": 3,
   "metadata": {},
   "outputs": [],
   "source": [
    "ID_group_2019Q1=pd.read_csv(\"/home/jian/Projects/Big_Lots/Analysis/2019_Q2/ID_Migration/BL_2019Q1_rewards_migration_rewards_data_JL_2019-05-17.csv\",\n",
    "                           dtype=str,usecols=['customer_id_hashed','Group_before_the_Quarter','Group_after_the_Quarter','Recent_Quarter_Shopping_Group','NewRewards','sales_recent_Quarter'])\n",
    "ID_group_2019Q1['sales_recent_Quarter']=ID_group_2019Q1['sales_recent_Quarter'].astype(float)\n",
    "\n"
   ]
  },
  {
   "cell_type": "code",
   "execution_count": 5,
   "metadata": {
    "collapsed": true
   },
   "outputs": [],
   "source": [
    "product_taxonomy=pd.read_table(\"/home/jian/BigLots/static_files/ProductTaxonomy/MediaStormProductTaxonomy20190701-134908-900.txt\",dtype=str,sep=\"|\")\n",
    "product_taxonomy=product_taxonomy[['division_id','class_code_id','subclass_id']].drop_duplicates()\n",
    "division_table=product_taxonomy.copy()\n",
    "\n",
    "divison_name=pd.read_table(\"/home/jian/BigLots/static_files/MediaStorm Data Extract - Division Names.txt\",dtype=str,sep=\"|\")\n",
    "product_taxonomy=pd.merge(product_taxonomy,divison_name,on=\"division_id\",how=\"left\")"
   ]
  },
  {
   "cell_type": "code",
   "execution_count": 4,
   "metadata": {
    "collapsed": true
   },
   "outputs": [],
   "source": [
    "def recursive_file_gen(root_path):\n",
    "    for root, dirs, files in os.walk(root_path):\n",
    "        for file in files:\n",
    "            yield os.path.join(root, file)"
   ]
  },
  {
   "cell_type": "code",
   "execution_count": 26,
   "metadata": {},
   "outputs": [
    {
     "data": {
      "text/plain": [
       "(12, 2)"
      ]
     },
     "execution_count": 26,
     "metadata": {},
     "output_type": "execute_result"
    }
   ],
   "source": [
    "file_list_daily_sales_2019Q1=list(recursive_file_gen(\"/home/jian/BigLots/2019_by_weeks/\"))\n",
    "file_list_daily_sales_2019Q1=[x for x in file_list_daily_sales_2019Q1 if \"2019-02-09\" not in x]\n",
    "file_list_daily_sales_2019Q1=sorted([x for x in file_list_daily_sales_2019Q1 if \"aily\" in x])\n",
    "\n",
    "\n",
    "\n",
    "df_files_2019Q1_daily=pd.DataFrame({\"file_path\":file_list_daily_sales_2019Q1})\n",
    "df_files_2019Q1_daily['week_end_dt']=df_files_2019Q1_daily['file_path'].apply(lambda x: x.split(\"ks/MediaStorm_\")[1][:10])\n",
    "\n",
    "df_files_2019Q1_daily=df_files_2019Q1_daily[((df_files_2019Q1_daily['week_end_dt']>=\"2019-02-03\") & (df_files_2019Q1_daily['week_end_dt']<=\"2019-05-04\"))]\n",
    "df_files_2019Q1_daily.shape\n"
   ]
  },
  {
   "cell_type": "code",
   "execution_count": 27,
   "metadata": {},
   "outputs": [
    {
     "data": {
      "text/plain": [
       "(13, 2)"
      ]
     },
     "execution_count": 27,
     "metadata": {},
     "output_type": "execute_result"
    }
   ],
   "source": [
    "df=pd.DataFrame({\"file_path\":\"/home/jian/BigLots/hist_daily_data_itemlevel_decompressed/MediaStormDailySalesHistory20190209.txt\",\"week_end_dt\":\"2019-02-09\"},index=[0])\n",
    "\n",
    "df_files_2019Q1_daily=df_files_2019Q1_daily.append(df)\n",
    "df_files_2019Q1_daily=df_files_2019Q1_daily.sort_values(\"week_end_dt\")\n",
    "df_files_2019Q1_daily=df_files_2019Q1_daily.reset_index()\n",
    "del df_files_2019Q1_daily['index']\n",
    "df_files_2019Q1_daily.shape"
   ]
  },
  {
   "cell_type": "code",
   "execution_count": 30,
   "metadata": {},
   "outputs": [
    {
     "name": "stdout",
     "output_type": "stream",
     "text": [
      "2019-07-29 12:04:01.674344 1 /home/jian/BigLots/hist_daily_data_itemlevel_decompressed/MediaStormDailySalesHistory20190209.txt\n",
      "2019-07-29 12:06:40.557051 2 /home/jian/BigLots/2019_by_weeks/MediaStorm_2019-02-16/MediaStormDailySales20190219-113605-481.txt\n",
      "2019-07-29 12:08:20.382560 3 /home/jian/BigLots/2019_by_weeks/MediaStorm_2019-02-23/MediaStormDailySales20190226-112611-940.txt\n",
      "2019-07-29 12:10:37.514881 4 /home/jian/BigLots/2019_by_weeks/MediaStorm_2019-03-02/MediaStormDailySales20190305-112738-899.txt\n",
      "2019-07-29 12:12:49.078038 5 /home/jian/BigLots/2019_by_weeks/MediaStorm_2019-03-09/MediaStormDailySales20190312-121205-996.txt\n",
      "2019-07-29 12:15:17.367642 6 /home/jian/BigLots/2019_by_weeks/MediaStorm_2019-03-16/MediaStormDailySales20190319-112334-057.txt\n",
      "2019-07-29 12:17:51.119534 7 /home/jian/BigLots/2019_by_weeks/MediaStorm_2019-03-23/MediaStormDailySales20190326-112740-903.txt\n",
      "2019-07-29 12:20:26.833379 8 /home/jian/BigLots/2019_by_weeks/MediaStorm_2019-03-30/MediaStormDailySales20190402-112556-551.txt\n",
      "2019-07-29 12:23:46.465322 9 /home/jian/BigLots/2019_by_weeks/MediaStorm_2019-04-06/MediaStormDailySales20190409-122759-093.txt\n",
      "2019-07-29 12:28:01.102373 10 /home/jian/BigLots/2019_by_weeks/MediaStorm_2019-04-13/MediaStormDailySales20190416-112824-908.txt\n",
      "2019-07-29 12:29:52.181731 11 /home/jian/BigLots/2019_by_weeks/MediaStorm_2019-04-20/MediaStormDailySales20190423-112124-771.txt\n",
      "2019-07-29 12:31:49.736243 12 /home/jian/BigLots/2019_by_weeks/MediaStorm_2019-04-27/MediaStormDailySales20190430-112453-448.txt\n",
      "2019-07-29 12:34:19.847688 13 /home/jian/BigLots/2019_by_weeks/MediaStorm_2019-05-04/MediaStormDailySales20190507-113110-141.txt\n"
     ]
    },
    {
     "data": {
      "text/plain": [
       "189"
      ]
     },
     "execution_count": 30,
     "metadata": {},
     "output_type": "execute_result"
    }
   ],
   "source": [
    "samplerows=None\n",
    "df_2019Q1_sales_all=pd.DataFrame()\n",
    "df_2019Q1_sales_div=pd.DataFrame()\n",
    "i_counter=0\n",
    "for file in df_files_2019Q1_daily['file_path'].tolist():\n",
    "    df=pd.read_table(file,sep=\"|\",dtype=str,nrows=samplerows,usecols=['location_id','transaction_dt','transaction_id','customer_id_hashed','class_code_id','subclass_id','item_transaction_units','item_transaction_amt'])\n",
    "    df=df[~pd.isnull(df['customer_id_hashed'])]\n",
    "    \n",
    "    df['item_transaction_amt']=df['item_transaction_amt'].astype(float)\n",
    "    df['item_transaction_units']=df['item_transaction_units'].astype(int)\n",
    "    # Negative sales included in the transction count\n",
    "    \n",
    "    df_trans_all=df[['location_id','transaction_dt','transaction_id','customer_id_hashed']].drop_duplicates()\n",
    "    df_trans_all=df_trans_all.groupby(['location_id','transaction_dt','customer_id_hashed'])['transaction_id'].count().to_frame().reset_index().rename(columns={\"transaction_id\":\"trans\"})\n",
    "    \n",
    "    df_sales_all=df.groupby(['location_id','transaction_dt','customer_id_hashed'])['item_transaction_amt','item_transaction_units'].sum().reset_index().rename(columns={\"item_transaction_amt\":\"sales\",\"item_transaction_units\":\"units\"})\n",
    "    df_all=pd.merge(df_sales_all,df_trans_all,on=['location_id','transaction_dt','customer_id_hashed'])\n",
    "    \n",
    "    df_2019Q1_sales_all=df_2019Q1_sales_all.append(df)\n",
    "  \n",
    "    \n",
    "    # division level\n",
    "    df=pd.merge(df,division_table,on=['class_code_id','subclass_id'],how=\"left\")\n",
    "    df_trans_div=df[['location_id','transaction_dt','transaction_id','customer_id_hashed','division_id']].drop_duplicates()\n",
    "    df_trans_div=df_trans_div.groupby(['location_id','transaction_dt','customer_id_hashed','division_id'])['transaction_id'].count().to_frame().reset_index().rename(columns={\"transaction_id\":\"trans\"})\n",
    "    \n",
    "    df_sales_div=df.groupby(['location_id','transaction_dt','customer_id_hashed','division_id'])['item_transaction_amt','item_transaction_units'].sum().reset_index().rename(columns={\"item_transaction_amt\":\"sales\",'item_transaction_units':'units'})\n",
    "    df_div=pd.merge(df_sales_div,df_trans_div,on=['location_id','transaction_dt','customer_id_hashed','division_id'])\n",
    "    \n",
    "    df_2019Q1_sales_div=df_2019Q1_sales_div.append(df_div)\n",
    "    i_counter+=1\n",
    "    print(datetime.datetime.now(),i_counter,file)\n",
    "    \n",
    "del df\n",
    "del df_all\n",
    "del df_div\n",
    "gc.collect()"
   ]
  },
  {
   "cell_type": "code",
   "execution_count": 42,
   "metadata": {},
   "outputs": [
    {
     "name": "stdout",
     "output_type": "stream",
     "text": [
      "8392050\n",
      "8392050\n",
      "(104376916, 8)\n",
      "(36899319, 7)\n"
     ]
    },
    {
     "data": {
      "text/html": [
       "<div>\n",
       "<style>\n",
       "    .dataframe thead tr:only-child th {\n",
       "        text-align: right;\n",
       "    }\n",
       "\n",
       "    .dataframe thead th {\n",
       "        text-align: left;\n",
       "    }\n",
       "\n",
       "    .dataframe tbody tr th {\n",
       "        vertical-align: top;\n",
       "    }\n",
       "</style>\n",
       "<table border=\"1\" class=\"dataframe\">\n",
       "  <thead>\n",
       "    <tr style=\"text-align: right;\">\n",
       "      <th></th>\n",
       "      <th>location_id</th>\n",
       "      <th>transaction_dt</th>\n",
       "      <th>transaction_id</th>\n",
       "      <th>customer_id_hashed</th>\n",
       "      <th>class_code_id</th>\n",
       "      <th>subclass_id</th>\n",
       "      <th>item_transaction_units</th>\n",
       "      <th>item_transaction_amt</th>\n",
       "    </tr>\n",
       "  </thead>\n",
       "  <tbody>\n",
       "    <tr>\n",
       "      <th>2</th>\n",
       "      <td>1524</td>\n",
       "      <td>2019-02-04</td>\n",
       "      <td>6937</td>\n",
       "      <td>e61a8cb799cf05226370da0c38c421445de550174621e5...</td>\n",
       "      <td>11009</td>\n",
       "      <td>11</td>\n",
       "      <td>1</td>\n",
       "      <td>2.8</td>\n",
       "    </tr>\n",
       "    <tr>\n",
       "      <th>4</th>\n",
       "      <td>4687</td>\n",
       "      <td>2019-02-09</td>\n",
       "      <td>1447</td>\n",
       "      <td>e82a54b631ca4a5dc1f2d1f946fe216387e186f4518cde...</td>\n",
       "      <td>12004</td>\n",
       "      <td>17</td>\n",
       "      <td>1</td>\n",
       "      <td>1.0</td>\n",
       "    </tr>\n",
       "  </tbody>\n",
       "</table>\n",
       "</div>"
      ],
      "text/plain": [
       "  location_id transaction_dt transaction_id  \\\n",
       "2        1524     2019-02-04           6937   \n",
       "4        4687     2019-02-09           1447   \n",
       "\n",
       "                                  customer_id_hashed class_code_id  \\\n",
       "2  e61a8cb799cf05226370da0c38c421445de550174621e5...         11009   \n",
       "4  e82a54b631ca4a5dc1f2d1f946fe216387e186f4518cde...         12004   \n",
       "\n",
       "  subclass_id  item_transaction_units  item_transaction_amt  \n",
       "2          11                       1                   2.8  \n",
       "4          17                       1                   1.0  "
      ]
     },
     "execution_count": 42,
     "metadata": {},
     "output_type": "execute_result"
    }
   ],
   "source": [
    "print(len(df_2019Q1_sales_all['customer_id_hashed'].unique()))\n",
    "print(len(df_2019Q1_sales_div['customer_id_hashed'].unique()))\n",
    "print(df_2019Q1_sales_all.shape)\n",
    "print(df_2019Q1_sales_div.shape)\n",
    "\n",
    "df_2019Q1_sales_all.head(2)"
   ]
  },
  {
   "cell_type": "code",
   "execution_count": 43,
   "metadata": {},
   "outputs": [
    {
     "data": {
      "text/plain": [
       "'/home/jian/Projects/Big_Lots/Analysis/2019_Q2/ID_Migration/By_Division'"
      ]
     },
     "execution_count": 43,
     "metadata": {},
     "output_type": "execute_result"
    }
   ],
   "source": [
    "os.getcwd()"
   ]
  },
  {
   "cell_type": "code",
   "execution_count": 45,
   "metadata": {},
   "outputs": [
    {
     "data": {
      "text/plain": [
       "1085"
      ]
     },
     "execution_count": 45,
     "metadata": {},
     "output_type": "execute_result"
    }
   ],
   "source": [
    "\n",
    "df_2019Q1_sales_all.to_csv(\"./Q4_rewards_sales_trans.csv\",index=False)\n",
    "del df_2019Q1_sales_all\n",
    "gc.collect()"
   ]
  },
  {
   "cell_type": "code",
   "execution_count": 49,
   "metadata": {
    "collapsed": true
   },
   "outputs": [],
   "source": [
    "ID_group_2019Q1_shopped=ID_group_2019Q1[ID_group_2019Q1['Recent_Quarter_Shopping_Group']==\"Recent_Quarter_Shopped\"]"
   ]
  },
  {
   "cell_type": "code",
   "execution_count": 65,
   "metadata": {},
   "outputs": [
    {
     "data": {
      "text/plain": [
       "(8392050, 6)"
      ]
     },
     "execution_count": 65,
     "metadata": {},
     "output_type": "execute_result"
    }
   ],
   "source": [
    "ID_group_2019Q1_shopped.shape"
   ]
  },
  {
   "cell_type": "code",
   "execution_count": 67,
   "metadata": {},
   "outputs": [
    {
     "data": {
      "text/plain": [
       "8392050"
      ]
     },
     "execution_count": 67,
     "metadata": {},
     "output_type": "execute_result"
    }
   ],
   "source": [
    "ID_group_2019Q1_shopped['customer_id_hashed'].nunique()"
   ]
  },
  {
   "cell_type": "code",
   "execution_count": 60,
   "metadata": {},
   "outputs": [],
   "source": [
    "df_2019Q1_sales_div_agg=df_2019Q1_sales_div.groupby(['customer_id_hashed','location_id','division_id'])['sales','units','trans'].sum().reset_index()\n",
    "df_2019Q1_sales_div_agg['store_type']=np.where(df_2019Q1_sales_div_agg['location_id']==\"6990\",\"Online\",\"Instore\")\n",
    "df_2019Q1_sales_div_agg=df_2019Q1_sales_div_agg.groupby(['customer_id_hashed','store_type','division_id'])['sales','units','trans'].sum().reset_index()"
   ]
  },
  {
   "cell_type": "code",
   "execution_count": 63,
   "metadata": {},
   "outputs": [
    {
     "data": {
      "text/plain": [
       "array(['Instore', 'Online'], dtype=object)"
      ]
     },
     "execution_count": 63,
     "metadata": {},
     "output_type": "execute_result"
    }
   ],
   "source": [
    "df_2019Q1_sales_div_agg['store_type'].unique()"
   ]
  },
  {
   "cell_type": "code",
   "execution_count": 69,
   "metadata": {},
   "outputs": [
    {
     "data": {
      "text/plain": [
       "8392050"
      ]
     },
     "execution_count": 69,
     "metadata": {},
     "output_type": "execute_result"
    }
   ],
   "source": [
    "output_division_with_id['customer_id_hashed'].nunique()"
   ]
  },
  {
   "cell_type": "code",
   "execution_count": 90,
   "metadata": {},
   "outputs": [
    {
     "name": "stdout",
     "output_type": "stream",
     "text": [
      "(23846961, 10)\n"
     ]
    },
    {
     "data": {
      "text/html": [
       "<div>\n",
       "<style>\n",
       "    .dataframe thead tr:only-child th {\n",
       "        text-align: right;\n",
       "    }\n",
       "\n",
       "    .dataframe thead th {\n",
       "        text-align: left;\n",
       "    }\n",
       "\n",
       "    .dataframe tbody tr th {\n",
       "        vertical-align: top;\n",
       "    }\n",
       "</style>\n",
       "<table border=\"1\" class=\"dataframe\">\n",
       "  <thead>\n",
       "    <tr style=\"text-align: right;\">\n",
       "      <th></th>\n",
       "      <th>customer_id_hashed</th>\n",
       "      <th>division_id</th>\n",
       "      <th>sales</th>\n",
       "      <th>units</th>\n",
       "      <th>trans</th>\n",
       "      <th>Group_before_the_Quarter</th>\n",
       "      <th>Group_after_the_Quarter</th>\n",
       "      <th>sales_recent_Quarter</th>\n",
       "      <th>Recent_Quarter_Shopping_Group</th>\n",
       "      <th>NewRewards</th>\n",
       "    </tr>\n",
       "  </thead>\n",
       "  <tbody>\n",
       "    <tr>\n",
       "      <th>0</th>\n",
       "      <td>00000435bfb3bf42e3beb4c9b3942c552d09f0e49e5a75...</td>\n",
       "      <td>1</td>\n",
       "      <td>8.81</td>\n",
       "      <td>11</td>\n",
       "      <td>3</td>\n",
       "      <td>Active</td>\n",
       "      <td>Active</td>\n",
       "      <td>31.59</td>\n",
       "      <td>Recent_Quarter_Shopped</td>\n",
       "      <td>Old_Rewards_Members</td>\n",
       "    </tr>\n",
       "    <tr>\n",
       "      <th>1</th>\n",
       "      <td>00000435bfb3bf42e3beb4c9b3942c552d09f0e49e5a75...</td>\n",
       "      <td>2</td>\n",
       "      <td>14.38</td>\n",
       "      <td>10</td>\n",
       "      <td>3</td>\n",
       "      <td>Active</td>\n",
       "      <td>Active</td>\n",
       "      <td>31.59</td>\n",
       "      <td>Recent_Quarter_Shopped</td>\n",
       "      <td>Old_Rewards_Members</td>\n",
       "    </tr>\n",
       "    <tr>\n",
       "      <th>2</th>\n",
       "      <td>00000435bfb3bf42e3beb4c9b3942c552d09f0e49e5a75...</td>\n",
       "      <td>6</td>\n",
       "      <td>8.40</td>\n",
       "      <td>3</td>\n",
       "      <td>1</td>\n",
       "      <td>Active</td>\n",
       "      <td>Active</td>\n",
       "      <td>31.59</td>\n",
       "      <td>Recent_Quarter_Shopped</td>\n",
       "      <td>Old_Rewards_Members</td>\n",
       "    </tr>\n",
       "    <tr>\n",
       "      <th>3</th>\n",
       "      <td>000007eccbfdc528a745aea90d34404b4fae9fbad2525f...</td>\n",
       "      <td>1</td>\n",
       "      <td>2.79</td>\n",
       "      <td>2</td>\n",
       "      <td>1</td>\n",
       "      <td>NotAvailable_Before_Quarter</td>\n",
       "      <td>Active</td>\n",
       "      <td>15.44</td>\n",
       "      <td>Recent_Quarter_Shopped</td>\n",
       "      <td>Recent_Quarter_New_Sign_Ups</td>\n",
       "    </tr>\n",
       "  </tbody>\n",
       "</table>\n",
       "</div>"
      ],
      "text/plain": [
       "                                  customer_id_hashed division_id  sales  \\\n",
       "0  00000435bfb3bf42e3beb4c9b3942c552d09f0e49e5a75...           1   8.81   \n",
       "1  00000435bfb3bf42e3beb4c9b3942c552d09f0e49e5a75...           2  14.38   \n",
       "2  00000435bfb3bf42e3beb4c9b3942c552d09f0e49e5a75...           6   8.40   \n",
       "3  000007eccbfdc528a745aea90d34404b4fae9fbad2525f...           1   2.79   \n",
       "\n",
       "   units  trans     Group_before_the_Quarter Group_after_the_Quarter  \\\n",
       "0     11      3                       Active                  Active   \n",
       "1     10      3                       Active                  Active   \n",
       "2      3      1                       Active                  Active   \n",
       "3      2      1  NotAvailable_Before_Quarter                  Active   \n",
       "\n",
       "   sales_recent_Quarter Recent_Quarter_Shopping_Group  \\\n",
       "0                 31.59        Recent_Quarter_Shopped   \n",
       "1                 31.59        Recent_Quarter_Shopped   \n",
       "2                 31.59        Recent_Quarter_Shopped   \n",
       "3                 15.44        Recent_Quarter_Shopped   \n",
       "\n",
       "                    NewRewards  \n",
       "0          Old_Rewards_Members  \n",
       "1          Old_Rewards_Members  \n",
       "2          Old_Rewards_Members  \n",
       "3  Recent_Quarter_New_Sign_Ups  "
      ]
     },
     "execution_count": 90,
     "metadata": {},
     "output_type": "execute_result"
    }
   ],
   "source": [
    "# 1. by by division, by id group\n",
    "\n",
    "output_division_with_id=df_2019Q1_sales_div_agg.groupby(['customer_id_hashed','division_id'])['sales','units','trans'].sum().reset_index()\n",
    "\n",
    "output_division_with_id=pd.merge(output_division_with_id,ID_group_2019Q1_shopped,on=\"customer_id_hashed\",how=\"outer\")\n",
    "\n",
    "print(output_division_with_id.shape)\n",
    "output_division_with_id.head(4)\n"
   ]
  },
  {
   "cell_type": "code",
   "execution_count": 91,
   "metadata": {},
   "outputs": [
    {
     "name": "stdout",
     "output_type": "stream",
     "text": [
      "(52, 9)\n"
     ]
    },
    {
     "data": {
      "text/html": [
       "<div>\n",
       "<style>\n",
       "    .dataframe thead tr:only-child th {\n",
       "        text-align: right;\n",
       "    }\n",
       "\n",
       "    .dataframe thead th {\n",
       "        text-align: left;\n",
       "    }\n",
       "\n",
       "    .dataframe tbody tr th {\n",
       "        vertical-align: top;\n",
       "    }\n",
       "</style>\n",
       "<table border=\"1\" class=\"dataframe\">\n",
       "  <thead>\n",
       "    <tr style=\"text-align: right;\">\n",
       "      <th></th>\n",
       "      <th>Group_before_the_Quarter</th>\n",
       "      <th>Group_after_the_Quarter</th>\n",
       "      <th>Recent_Quarter_Shopping_Group</th>\n",
       "      <th>NewRewards</th>\n",
       "      <th>division_id</th>\n",
       "      <th>sales</th>\n",
       "      <th>units</th>\n",
       "      <th>trans</th>\n",
       "      <th>customer_id_hashed</th>\n",
       "    </tr>\n",
       "  </thead>\n",
       "  <tbody>\n",
       "    <tr>\n",
       "      <th>0</th>\n",
       "      <td>Active</td>\n",
       "      <td>Active</td>\n",
       "      <td>Recent_Quarter_Shopped</td>\n",
       "      <td>Old_Rewards_Members</td>\n",
       "      <td>1</td>\n",
       "      <td>9.873832e+07</td>\n",
       "      <td>50234361</td>\n",
       "      <td>9821063</td>\n",
       "      <td>4677595</td>\n",
       "    </tr>\n",
       "    <tr>\n",
       "      <th>1</th>\n",
       "      <td>Active</td>\n",
       "      <td>Active</td>\n",
       "      <td>Recent_Quarter_Shopped</td>\n",
       "      <td>Old_Rewards_Members</td>\n",
       "      <td>10</td>\n",
       "      <td>1.714465e+05</td>\n",
       "      <td>587518</td>\n",
       "      <td>452241</td>\n",
       "      <td>284875</td>\n",
       "    </tr>\n",
       "    <tr>\n",
       "      <th>2</th>\n",
       "      <td>Active</td>\n",
       "      <td>Active</td>\n",
       "      <td>Recent_Quarter_Shopped</td>\n",
       "      <td>Old_Rewards_Members</td>\n",
       "      <td>2</td>\n",
       "      <td>1.024063e+08</td>\n",
       "      <td>30493135</td>\n",
       "      <td>8192600</td>\n",
       "      <td>4270441</td>\n",
       "    </tr>\n",
       "    <tr>\n",
       "      <th>3</th>\n",
       "      <td>Active</td>\n",
       "      <td>Active</td>\n",
       "      <td>Recent_Quarter_Shopped</td>\n",
       "      <td>Old_Rewards_Members</td>\n",
       "      <td>3</td>\n",
       "      <td>8.560242e+07</td>\n",
       "      <td>6128308</td>\n",
       "      <td>2578312</td>\n",
       "      <td>1833239</td>\n",
       "    </tr>\n",
       "    <tr>\n",
       "      <th>4</th>\n",
       "      <td>Active</td>\n",
       "      <td>Active</td>\n",
       "      <td>Recent_Quarter_Shopped</td>\n",
       "      <td>Old_Rewards_Members</td>\n",
       "      <td>4</td>\n",
       "      <td>9.858662e+07</td>\n",
       "      <td>10937798</td>\n",
       "      <td>4348621</td>\n",
       "      <td>2829381</td>\n",
       "    </tr>\n",
       "  </tbody>\n",
       "</table>\n",
       "</div>"
      ],
      "text/plain": [
       "  Group_before_the_Quarter Group_after_the_Quarter  \\\n",
       "0                   Active                  Active   \n",
       "1                   Active                  Active   \n",
       "2                   Active                  Active   \n",
       "3                   Active                  Active   \n",
       "4                   Active                  Active   \n",
       "\n",
       "  Recent_Quarter_Shopping_Group           NewRewards division_id  \\\n",
       "0        Recent_Quarter_Shopped  Old_Rewards_Members           1   \n",
       "1        Recent_Quarter_Shopped  Old_Rewards_Members          10   \n",
       "2        Recent_Quarter_Shopped  Old_Rewards_Members           2   \n",
       "3        Recent_Quarter_Shopped  Old_Rewards_Members           3   \n",
       "4        Recent_Quarter_Shopped  Old_Rewards_Members           4   \n",
       "\n",
       "          sales     units    trans  customer_id_hashed  \n",
       "0  9.873832e+07  50234361  9821063             4677595  \n",
       "1  1.714465e+05    587518   452241              284875  \n",
       "2  1.024063e+08  30493135  8192600             4270441  \n",
       "3  8.560242e+07   6128308  2578312             1833239  \n",
       "4  9.858662e+07  10937798  4348621             2829381  "
      ]
     },
     "execution_count": 91,
     "metadata": {},
     "output_type": "execute_result"
    }
   ],
   "source": [
    "output_division_with_id_nunique=output_division_with_id.groupby(['Group_before_the_Quarter','Group_after_the_Quarter','Recent_Quarter_Shopping_Group','NewRewards','division_id'])['customer_id_hashed'].count().reset_index()\n",
    "\n",
    "output_division_with_id_sum=output_division_with_id.groupby(['Group_before_the_Quarter','Group_after_the_Quarter','Recent_Quarter_Shopping_Group','NewRewards','division_id'])['sales','units','trans'].sum().reset_index()\n",
    "\n",
    "output_division_with_id=pd.merge(output_division_with_id_sum,output_division_with_id_nunique,on=['Group_before_the_Quarter','Group_after_the_Quarter','Recent_Quarter_Shopping_Group','NewRewards','division_id'],how=\"outer\")\n",
    "print(output_division_with_id.shape)\n",
    "output_division_with_id.head(5)"
   ]
  },
  {
   "cell_type": "code",
   "execution_count": 92,
   "metadata": {},
   "outputs": [
    {
     "name": "stdout",
     "output_type": "stream",
     "text": [
      "(8418891, 10)\n"
     ]
    },
    {
     "data": {
      "text/html": [
       "<div>\n",
       "<style>\n",
       "    .dataframe thead tr:only-child th {\n",
       "        text-align: right;\n",
       "    }\n",
       "\n",
       "    .dataframe thead th {\n",
       "        text-align: left;\n",
       "    }\n",
       "\n",
       "    .dataframe tbody tr th {\n",
       "        vertical-align: top;\n",
       "    }\n",
       "</style>\n",
       "<table border=\"1\" class=\"dataframe\">\n",
       "  <thead>\n",
       "    <tr style=\"text-align: right;\">\n",
       "      <th></th>\n",
       "      <th>customer_id_hashed</th>\n",
       "      <th>store_type</th>\n",
       "      <th>sales</th>\n",
       "      <th>units</th>\n",
       "      <th>trans</th>\n",
       "      <th>Group_before_the_Quarter</th>\n",
       "      <th>Group_after_the_Quarter</th>\n",
       "      <th>sales_recent_Quarter</th>\n",
       "      <th>Recent_Quarter_Shopping_Group</th>\n",
       "      <th>NewRewards</th>\n",
       "    </tr>\n",
       "  </thead>\n",
       "  <tbody>\n",
       "    <tr>\n",
       "      <th>0</th>\n",
       "      <td>00000435bfb3bf42e3beb4c9b3942c552d09f0e49e5a75...</td>\n",
       "      <td>Instore</td>\n",
       "      <td>31.59</td>\n",
       "      <td>24</td>\n",
       "      <td>7</td>\n",
       "      <td>Active</td>\n",
       "      <td>Active</td>\n",
       "      <td>31.59</td>\n",
       "      <td>Recent_Quarter_Shopped</td>\n",
       "      <td>Old_Rewards_Members</td>\n",
       "    </tr>\n",
       "    <tr>\n",
       "      <th>1</th>\n",
       "      <td>000007eccbfdc528a745aea90d34404b4fae9fbad2525f...</td>\n",
       "      <td>Instore</td>\n",
       "      <td>15.44</td>\n",
       "      <td>9</td>\n",
       "      <td>3</td>\n",
       "      <td>NotAvailable_Before_Quarter</td>\n",
       "      <td>Active</td>\n",
       "      <td>15.44</td>\n",
       "      <td>Recent_Quarter_Shopped</td>\n",
       "      <td>Recent_Quarter_New_Sign_Ups</td>\n",
       "    </tr>\n",
       "    <tr>\n",
       "      <th>2</th>\n",
       "      <td>000008374518306e87838f387eedc47d49a447707dc6da...</td>\n",
       "      <td>Instore</td>\n",
       "      <td>49.77</td>\n",
       "      <td>7</td>\n",
       "      <td>3</td>\n",
       "      <td>Active</td>\n",
       "      <td>Active</td>\n",
       "      <td>49.77</td>\n",
       "      <td>Recent_Quarter_Shopped</td>\n",
       "      <td>Old_Rewards_Members</td>\n",
       "    </tr>\n",
       "    <tr>\n",
       "      <th>3</th>\n",
       "      <td>0000095241ba6a94ec0d4b481d2fafd22598cf8cad3399...</td>\n",
       "      <td>Instore</td>\n",
       "      <td>875.50</td>\n",
       "      <td>6</td>\n",
       "      <td>2</td>\n",
       "      <td>NotAvailable_Before_Quarter</td>\n",
       "      <td>Active</td>\n",
       "      <td>875.50</td>\n",
       "      <td>Recent_Quarter_Shopped</td>\n",
       "      <td>Old_Rewards_Members</td>\n",
       "    </tr>\n",
       "  </tbody>\n",
       "</table>\n",
       "</div>"
      ],
      "text/plain": [
       "                                  customer_id_hashed store_type   sales  \\\n",
       "0  00000435bfb3bf42e3beb4c9b3942c552d09f0e49e5a75...    Instore   31.59   \n",
       "1  000007eccbfdc528a745aea90d34404b4fae9fbad2525f...    Instore   15.44   \n",
       "2  000008374518306e87838f387eedc47d49a447707dc6da...    Instore   49.77   \n",
       "3  0000095241ba6a94ec0d4b481d2fafd22598cf8cad3399...    Instore  875.50   \n",
       "\n",
       "   units  trans     Group_before_the_Quarter Group_after_the_Quarter  \\\n",
       "0     24      7                       Active                  Active   \n",
       "1      9      3  NotAvailable_Before_Quarter                  Active   \n",
       "2      7      3                       Active                  Active   \n",
       "3      6      2  NotAvailable_Before_Quarter                  Active   \n",
       "\n",
       "   sales_recent_Quarter Recent_Quarter_Shopping_Group  \\\n",
       "0                 31.59        Recent_Quarter_Shopped   \n",
       "1                 15.44        Recent_Quarter_Shopped   \n",
       "2                 49.77        Recent_Quarter_Shopped   \n",
       "3                875.50        Recent_Quarter_Shopped   \n",
       "\n",
       "                    NewRewards  \n",
       "0          Old_Rewards_Members  \n",
       "1  Recent_Quarter_New_Sign_Ups  \n",
       "2          Old_Rewards_Members  \n",
       "3          Old_Rewards_Members  "
      ]
     },
     "execution_count": 92,
     "metadata": {},
     "output_type": "execute_result"
    }
   ],
   "source": [
    "# 2. by by store types, by id group\n",
    "\n",
    "output_storetype_with_id=df_2019Q1_sales_div_agg.groupby(['customer_id_hashed','store_type'])['sales','units','trans'].sum().reset_index()\n",
    "\n",
    "output_storetype_with_id=pd.merge(output_storetype_with_id,ID_group_2019Q1_shopped,on=\"customer_id_hashed\",how=\"outer\")\n",
    "\n",
    "print(output_storetype_with_id.shape)\n",
    "output_storetype_with_id.head(4)\n"
   ]
  },
  {
   "cell_type": "code",
   "execution_count": 93,
   "metadata": {},
   "outputs": [
    {
     "name": "stdout",
     "output_type": "stream",
     "text": [
      "(12, 9)\n"
     ]
    },
    {
     "data": {
      "text/html": [
       "<div>\n",
       "<style>\n",
       "    .dataframe thead tr:only-child th {\n",
       "        text-align: right;\n",
       "    }\n",
       "\n",
       "    .dataframe thead th {\n",
       "        text-align: left;\n",
       "    }\n",
       "\n",
       "    .dataframe tbody tr th {\n",
       "        vertical-align: top;\n",
       "    }\n",
       "</style>\n",
       "<table border=\"1\" class=\"dataframe\">\n",
       "  <thead>\n",
       "    <tr style=\"text-align: right;\">\n",
       "      <th></th>\n",
       "      <th>Group_before_the_Quarter</th>\n",
       "      <th>Group_after_the_Quarter</th>\n",
       "      <th>Recent_Quarter_Shopping_Group</th>\n",
       "      <th>NewRewards</th>\n",
       "      <th>store_type</th>\n",
       "      <th>sales</th>\n",
       "      <th>units</th>\n",
       "      <th>trans</th>\n",
       "      <th>customer_id_hashed</th>\n",
       "    </tr>\n",
       "  </thead>\n",
       "  <tbody>\n",
       "    <tr>\n",
       "      <th>0</th>\n",
       "      <td>Active</td>\n",
       "      <td>Active</td>\n",
       "      <td>Recent_Quarter_Shopped</td>\n",
       "      <td>Old_Rewards_Members</td>\n",
       "      <td>Instore</td>\n",
       "      <td>5.795814e+08</td>\n",
       "      <td>109951592</td>\n",
       "      <td>31793738</td>\n",
       "      <td>6319442</td>\n",
       "    </tr>\n",
       "    <tr>\n",
       "      <th>1</th>\n",
       "      <td>Active</td>\n",
       "      <td>Active</td>\n",
       "      <td>Recent_Quarter_Shopped</td>\n",
       "      <td>Old_Rewards_Members</td>\n",
       "      <td>Online</td>\n",
       "      <td>5.099926e+06</td>\n",
       "      <td>132598</td>\n",
       "      <td>49604</td>\n",
       "      <td>29496</td>\n",
       "    </tr>\n",
       "    <tr>\n",
       "      <th>2</th>\n",
       "      <td>Active</td>\n",
       "      <td>Active</td>\n",
       "      <td>Recent_Quarter_Shopped</td>\n",
       "      <td>Recent_Quarter_New_Sign_Ups</td>\n",
       "      <td>Instore</td>\n",
       "      <td>3.211113e+04</td>\n",
       "      <td>4407</td>\n",
       "      <td>1266</td>\n",
       "      <td>173</td>\n",
       "    </tr>\n",
       "    <tr>\n",
       "      <th>3</th>\n",
       "      <td>Active</td>\n",
       "      <td>Active</td>\n",
       "      <td>Recent_Quarter_Shopped</td>\n",
       "      <td>Recent_Quarter_New_Sign_Ups</td>\n",
       "      <td>Online</td>\n",
       "      <td>1.499700e+02</td>\n",
       "      <td>4</td>\n",
       "      <td>1</td>\n",
       "      <td>1</td>\n",
       "    </tr>\n",
       "    <tr>\n",
       "      <th>4</th>\n",
       "      <td>Lapsed_13_48</td>\n",
       "      <td>Active</td>\n",
       "      <td>Recent_Quarter_Shopped</td>\n",
       "      <td>Old_Rewards_Members</td>\n",
       "      <td>Instore</td>\n",
       "      <td>5.044978e+07</td>\n",
       "      <td>5829584</td>\n",
       "      <td>1843886</td>\n",
       "      <td>595549</td>\n",
       "    </tr>\n",
       "  </tbody>\n",
       "</table>\n",
       "</div>"
      ],
      "text/plain": [
       "  Group_before_the_Quarter Group_after_the_Quarter  \\\n",
       "0                   Active                  Active   \n",
       "1                   Active                  Active   \n",
       "2                   Active                  Active   \n",
       "3                   Active                  Active   \n",
       "4             Lapsed_13_48                  Active   \n",
       "\n",
       "  Recent_Quarter_Shopping_Group                   NewRewards store_type  \\\n",
       "0        Recent_Quarter_Shopped          Old_Rewards_Members    Instore   \n",
       "1        Recent_Quarter_Shopped          Old_Rewards_Members     Online   \n",
       "2        Recent_Quarter_Shopped  Recent_Quarter_New_Sign_Ups    Instore   \n",
       "3        Recent_Quarter_Shopped  Recent_Quarter_New_Sign_Ups     Online   \n",
       "4        Recent_Quarter_Shopped          Old_Rewards_Members    Instore   \n",
       "\n",
       "          sales      units     trans  customer_id_hashed  \n",
       "0  5.795814e+08  109951592  31793738             6319442  \n",
       "1  5.099926e+06     132598     49604               29496  \n",
       "2  3.211113e+04       4407      1266                 173  \n",
       "3  1.499700e+02          4         1                   1  \n",
       "4  5.044978e+07    5829584   1843886              595549  "
      ]
     },
     "execution_count": 93,
     "metadata": {},
     "output_type": "execute_result"
    }
   ],
   "source": [
    "output_storetype_with_id_nunique=output_storetype_with_id.groupby(['Group_before_the_Quarter','Group_after_the_Quarter','Recent_Quarter_Shopping_Group','NewRewards','store_type'])['customer_id_hashed'].count().reset_index()\n",
    "\n",
    "output_storetype_with_id_sum=output_storetype_with_id.groupby(['Group_before_the_Quarter','Group_after_the_Quarter','Recent_Quarter_Shopping_Group','NewRewards','store_type'])['sales','units','trans'].sum().reset_index()\n",
    "\n",
    "output_storetype_with_id=pd.merge(output_storetype_with_id_sum,output_storetype_with_id_nunique,on=['Group_before_the_Quarter','Group_after_the_Quarter','Recent_Quarter_Shopping_Group','NewRewards','store_type'],how=\"outer\")\n",
    "print(output_storetype_with_id.shape)\n",
    "output_storetype_with_id.head(5)"
   ]
  },
  {
   "cell_type": "code",
   "execution_count": 94,
   "metadata": {},
   "outputs": [
    {
     "name": "stdout",
     "output_type": "stream",
     "text": [
      "(23869633, 11)\n"
     ]
    },
    {
     "data": {
      "text/html": [
       "<div>\n",
       "<style>\n",
       "    .dataframe thead tr:only-child th {\n",
       "        text-align: right;\n",
       "    }\n",
       "\n",
       "    .dataframe thead th {\n",
       "        text-align: left;\n",
       "    }\n",
       "\n",
       "    .dataframe tbody tr th {\n",
       "        vertical-align: top;\n",
       "    }\n",
       "</style>\n",
       "<table border=\"1\" class=\"dataframe\">\n",
       "  <thead>\n",
       "    <tr style=\"text-align: right;\">\n",
       "      <th></th>\n",
       "      <th>customer_id_hashed</th>\n",
       "      <th>store_type</th>\n",
       "      <th>division_id</th>\n",
       "      <th>sales</th>\n",
       "      <th>units</th>\n",
       "      <th>trans</th>\n",
       "      <th>Group_before_the_Quarter</th>\n",
       "      <th>Group_after_the_Quarter</th>\n",
       "      <th>sales_recent_Quarter</th>\n",
       "      <th>Recent_Quarter_Shopping_Group</th>\n",
       "      <th>NewRewards</th>\n",
       "    </tr>\n",
       "  </thead>\n",
       "  <tbody>\n",
       "    <tr>\n",
       "      <th>0</th>\n",
       "      <td>00000435bfb3bf42e3beb4c9b3942c552d09f0e49e5a75...</td>\n",
       "      <td>Instore</td>\n",
       "      <td>1</td>\n",
       "      <td>8.81</td>\n",
       "      <td>11</td>\n",
       "      <td>3</td>\n",
       "      <td>Active</td>\n",
       "      <td>Active</td>\n",
       "      <td>31.59</td>\n",
       "      <td>Recent_Quarter_Shopped</td>\n",
       "      <td>Old_Rewards_Members</td>\n",
       "    </tr>\n",
       "    <tr>\n",
       "      <th>1</th>\n",
       "      <td>00000435bfb3bf42e3beb4c9b3942c552d09f0e49e5a75...</td>\n",
       "      <td>Instore</td>\n",
       "      <td>2</td>\n",
       "      <td>14.38</td>\n",
       "      <td>10</td>\n",
       "      <td>3</td>\n",
       "      <td>Active</td>\n",
       "      <td>Active</td>\n",
       "      <td>31.59</td>\n",
       "      <td>Recent_Quarter_Shopped</td>\n",
       "      <td>Old_Rewards_Members</td>\n",
       "    </tr>\n",
       "    <tr>\n",
       "      <th>2</th>\n",
       "      <td>00000435bfb3bf42e3beb4c9b3942c552d09f0e49e5a75...</td>\n",
       "      <td>Instore</td>\n",
       "      <td>6</td>\n",
       "      <td>8.40</td>\n",
       "      <td>3</td>\n",
       "      <td>1</td>\n",
       "      <td>Active</td>\n",
       "      <td>Active</td>\n",
       "      <td>31.59</td>\n",
       "      <td>Recent_Quarter_Shopped</td>\n",
       "      <td>Old_Rewards_Members</td>\n",
       "    </tr>\n",
       "    <tr>\n",
       "      <th>3</th>\n",
       "      <td>000007eccbfdc528a745aea90d34404b4fae9fbad2525f...</td>\n",
       "      <td>Instore</td>\n",
       "      <td>1</td>\n",
       "      <td>2.79</td>\n",
       "      <td>2</td>\n",
       "      <td>1</td>\n",
       "      <td>NotAvailable_Before_Quarter</td>\n",
       "      <td>Active</td>\n",
       "      <td>15.44</td>\n",
       "      <td>Recent_Quarter_Shopped</td>\n",
       "      <td>Recent_Quarter_New_Sign_Ups</td>\n",
       "    </tr>\n",
       "  </tbody>\n",
       "</table>\n",
       "</div>"
      ],
      "text/plain": [
       "                                  customer_id_hashed store_type division_id  \\\n",
       "0  00000435bfb3bf42e3beb4c9b3942c552d09f0e49e5a75...    Instore           1   \n",
       "1  00000435bfb3bf42e3beb4c9b3942c552d09f0e49e5a75...    Instore           2   \n",
       "2  00000435bfb3bf42e3beb4c9b3942c552d09f0e49e5a75...    Instore           6   \n",
       "3  000007eccbfdc528a745aea90d34404b4fae9fbad2525f...    Instore           1   \n",
       "\n",
       "   sales  units  trans     Group_before_the_Quarter Group_after_the_Quarter  \\\n",
       "0   8.81     11      3                       Active                  Active   \n",
       "1  14.38     10      3                       Active                  Active   \n",
       "2   8.40      3      1                       Active                  Active   \n",
       "3   2.79      2      1  NotAvailable_Before_Quarter                  Active   \n",
       "\n",
       "   sales_recent_Quarter Recent_Quarter_Shopping_Group  \\\n",
       "0                 31.59        Recent_Quarter_Shopped   \n",
       "1                 31.59        Recent_Quarter_Shopped   \n",
       "2                 31.59        Recent_Quarter_Shopped   \n",
       "3                 15.44        Recent_Quarter_Shopped   \n",
       "\n",
       "                    NewRewards  \n",
       "0          Old_Rewards_Members  \n",
       "1          Old_Rewards_Members  \n",
       "2          Old_Rewards_Members  \n",
       "3  Recent_Quarter_New_Sign_Ups  "
      ]
     },
     "execution_count": 94,
     "metadata": {},
     "output_type": "execute_result"
    }
   ],
   "source": [
    "# 3. by by store types, by division, by id group\n",
    "\n",
    "output_storetype_division_with_id=df_2019Q1_sales_div_agg.groupby(['customer_id_hashed','store_type','division_id'])['sales','units','trans'].sum().reset_index()\n",
    "\n",
    "output_storetype_division_with_id=pd.merge(output_storetype_division_with_id,ID_group_2019Q1_shopped,on=\"customer_id_hashed\",how=\"outer\")\n",
    "\n",
    "print(output_storetype_division_with_id.shape)\n",
    "output_storetype_division_with_id.head(4)\n"
   ]
  },
  {
   "cell_type": "code",
   "execution_count": 95,
   "metadata": {},
   "outputs": [
    {
     "name": "stdout",
     "output_type": "stream",
     "text": [
      "(83, 10)\n"
     ]
    },
    {
     "data": {
      "text/html": [
       "<div>\n",
       "<style>\n",
       "    .dataframe thead tr:only-child th {\n",
       "        text-align: right;\n",
       "    }\n",
       "\n",
       "    .dataframe thead th {\n",
       "        text-align: left;\n",
       "    }\n",
       "\n",
       "    .dataframe tbody tr th {\n",
       "        vertical-align: top;\n",
       "    }\n",
       "</style>\n",
       "<table border=\"1\" class=\"dataframe\">\n",
       "  <thead>\n",
       "    <tr style=\"text-align: right;\">\n",
       "      <th></th>\n",
       "      <th>Group_before_the_Quarter</th>\n",
       "      <th>Group_after_the_Quarter</th>\n",
       "      <th>Recent_Quarter_Shopping_Group</th>\n",
       "      <th>NewRewards</th>\n",
       "      <th>store_type</th>\n",
       "      <th>division_id</th>\n",
       "      <th>sales</th>\n",
       "      <th>units</th>\n",
       "      <th>trans</th>\n",
       "      <th>customer_id_hashed</th>\n",
       "    </tr>\n",
       "  </thead>\n",
       "  <tbody>\n",
       "    <tr>\n",
       "      <th>0</th>\n",
       "      <td>Active</td>\n",
       "      <td>Active</td>\n",
       "      <td>Recent_Quarter_Shopped</td>\n",
       "      <td>Old_Rewards_Members</td>\n",
       "      <td>Instore</td>\n",
       "      <td>1</td>\n",
       "      <td>9.862407e+07</td>\n",
       "      <td>50230719</td>\n",
       "      <td>9819596</td>\n",
       "      <td>4676893</td>\n",
       "    </tr>\n",
       "    <tr>\n",
       "      <th>1</th>\n",
       "      <td>Active</td>\n",
       "      <td>Active</td>\n",
       "      <td>Recent_Quarter_Shopped</td>\n",
       "      <td>Old_Rewards_Members</td>\n",
       "      <td>Instore</td>\n",
       "      <td>10</td>\n",
       "      <td>1.714465e+05</td>\n",
       "      <td>587518</td>\n",
       "      <td>452241</td>\n",
       "      <td>284875</td>\n",
       "    </tr>\n",
       "    <tr>\n",
       "      <th>2</th>\n",
       "      <td>Active</td>\n",
       "      <td>Active</td>\n",
       "      <td>Recent_Quarter_Shopped</td>\n",
       "      <td>Old_Rewards_Members</td>\n",
       "      <td>Instore</td>\n",
       "      <td>2</td>\n",
       "      <td>1.023910e+08</td>\n",
       "      <td>30491813</td>\n",
       "      <td>8192075</td>\n",
       "      <td>4270206</td>\n",
       "    </tr>\n",
       "    <tr>\n",
       "      <th>3</th>\n",
       "      <td>Active</td>\n",
       "      <td>Active</td>\n",
       "      <td>Recent_Quarter_Shopped</td>\n",
       "      <td>Old_Rewards_Members</td>\n",
       "      <td>Instore</td>\n",
       "      <td>3</td>\n",
       "      <td>8.302622e+07</td>\n",
       "      <td>6083013</td>\n",
       "      <td>2558605</td>\n",
       "      <td>1826092</td>\n",
       "    </tr>\n",
       "    <tr>\n",
       "      <th>4</th>\n",
       "      <td>Active</td>\n",
       "      <td>Active</td>\n",
       "      <td>Recent_Quarter_Shopped</td>\n",
       "      <td>Old_Rewards_Members</td>\n",
       "      <td>Instore</td>\n",
       "      <td>4</td>\n",
       "      <td>9.775929e+07</td>\n",
       "      <td>10881490</td>\n",
       "      <td>4332178</td>\n",
       "      <td>2823183</td>\n",
       "    </tr>\n",
       "  </tbody>\n",
       "</table>\n",
       "</div>"
      ],
      "text/plain": [
       "  Group_before_the_Quarter Group_after_the_Quarter  \\\n",
       "0                   Active                  Active   \n",
       "1                   Active                  Active   \n",
       "2                   Active                  Active   \n",
       "3                   Active                  Active   \n",
       "4                   Active                  Active   \n",
       "\n",
       "  Recent_Quarter_Shopping_Group           NewRewards store_type division_id  \\\n",
       "0        Recent_Quarter_Shopped  Old_Rewards_Members    Instore           1   \n",
       "1        Recent_Quarter_Shopped  Old_Rewards_Members    Instore          10   \n",
       "2        Recent_Quarter_Shopped  Old_Rewards_Members    Instore           2   \n",
       "3        Recent_Quarter_Shopped  Old_Rewards_Members    Instore           3   \n",
       "4        Recent_Quarter_Shopped  Old_Rewards_Members    Instore           4   \n",
       "\n",
       "          sales     units    trans  customer_id_hashed  \n",
       "0  9.862407e+07  50230719  9819596             4676893  \n",
       "1  1.714465e+05    587518   452241              284875  \n",
       "2  1.023910e+08  30491813  8192075             4270206  \n",
       "3  8.302622e+07   6083013  2558605             1826092  \n",
       "4  9.775929e+07  10881490  4332178             2823183  "
      ]
     },
     "execution_count": 95,
     "metadata": {},
     "output_type": "execute_result"
    }
   ],
   "source": [
    "output_storetype_division_with_id_nunique=output_storetype_division_with_id.groupby(['Group_before_the_Quarter','Group_after_the_Quarter','Recent_Quarter_Shopping_Group','NewRewards','store_type','division_id'])['customer_id_hashed'].count().reset_index()\n",
    "\n",
    "output_storetype_division_with_id_sum=output_storetype_division_with_id.groupby(['Group_before_the_Quarter','Group_after_the_Quarter','Recent_Quarter_Shopping_Group','NewRewards','store_type','division_id'])['sales','units','trans'].sum().reset_index()\n",
    "\n",
    "output_storetype_division=pd.merge(output_storetype_division_with_id_sum,output_storetype_division_with_id_nunique,on=['Group_before_the_Quarter','Group_after_the_Quarter','Recent_Quarter_Shopping_Group','NewRewards','store_type','division_id'],how=\"outer\")\n",
    "print(output_storetype_division.shape)\n",
    "output_storetype_division.head(5)"
   ]
  },
  {
   "cell_type": "code",
   "execution_count": 96,
   "metadata": {},
   "outputs": [
    {
     "data": {
      "text/plain": [
       "(83, 10)"
      ]
     },
     "execution_count": 96,
     "metadata": {},
     "output_type": "execute_result"
    }
   ],
   "source": [
    "output_storetype_division.shape"
   ]
  },
  {
   "cell_type": "code",
   "execution_count": 97,
   "metadata": {},
   "outputs": [],
   "source": [
    "#### \n",
    "writer=pd.ExcelWriter(\"./BL_2019Q1_rewards_summary_div_store_type_groups_data_JL_\"+str(datetime.datetime.now().date())+\".xlsx\",engine=\"xlsxwriter\")\n",
    "output_division_with_id.to_excel(writer,\"output_division\",index=False)\n",
    "output_storetype_with_id.to_excel(writer,\"output_store\",index=False)\n",
    "output_storetype_division.to_excel(writer,\"output_storetype_division\",index=False)\n",
    "writer.save()"
   ]
  },
  {
   "cell_type": "code",
   "execution_count": null,
   "metadata": {
    "collapsed": true
   },
   "outputs": [],
   "source": []
  }
 ],
 "metadata": {
  "kernelspec": {
   "display_name": "Python 3",
   "language": "python",
   "name": "python3"
  },
  "language_info": {
   "codemirror_mode": {
    "name": "ipython",
    "version": 3
   },
   "file_extension": ".py",
   "mimetype": "text/x-python",
   "name": "python",
   "nbconvert_exporter": "python",
   "pygments_lexer": "ipython3",
   "version": "3.6.1"
  }
 },
 "nbformat": 4,
 "nbformat_minor": 2
}
