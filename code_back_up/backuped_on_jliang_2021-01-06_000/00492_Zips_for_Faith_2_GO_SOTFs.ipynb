{
 "cells": [
  {
   "cell_type": "code",
   "execution_count": 1,
   "metadata": {},
   "outputs": [
    {
     "data": {
      "text/plain": [
       "'/home/jian/Projects/Big_Lots/Analysis/2019_Q2/Planner_Requests/Zips_for_SOTF_Faith_20190522'"
      ]
     },
     "execution_count": 1,
     "metadata": {},
     "output_type": "execute_result"
    }
   ],
   "source": [
    "import pandas as pd\n",
    "import json\n",
    "import numpy as np\n",
    "from haversine import haversine\n",
    "import os\n",
    "import datetime\n",
    "zip_centers=json.load(open(\"/home/jian/Docs/Geo_mapping/center_of_rentrak_zip.json\",\"r\"))\n",
    "os.getcwd()"
   ]
  },
  {
   "cell_type": "code",
   "execution_count": 2,
   "metadata": {},
   "outputs": [
    {
     "data": {
      "text/plain": [
       "['BL_6.7 Zips_7 Stores', 'BL_6.21 Zips_15 Stores']"
      ]
     },
     "execution_count": 2,
     "metadata": {},
     "output_type": "execute_result"
    }
   ],
   "source": [
    "store_list_excel=pd.ExcelFile(\"/home/jian/Projects/Big_Lots/Analysis/2019_Q2/Planner_Requests/Zips_for_SOTF_Faith_20190522/BL_6.7 and 6.21 Zip Codes Updated 5.14.2019.xlsx\")\n",
    "store_list_excel.sheet_names\n"
   ]
  },
  {
   "cell_type": "code",
   "execution_count": 3,
   "metadata": {},
   "outputs": [
    {
     "name": "stdout",
     "output_type": "stream",
     "text": [
      "(7, 8)\n",
      "(15, 8)\n"
     ]
    }
   ],
   "source": [
    "store_list_0607=store_list_excel.parse(\"BL_6.7 Zips_7 Stores\",dtype=str)\n",
    "store_list_0621=store_list_excel.parse(\"BL_6.21 Zips_15 Stores\",dtype=str)\n",
    "col_list=store_list_0607.columns.tolist()\n",
    "\n",
    "print(store_list_0607.shape)\n",
    "print(store_list_0621.shape)\n",
    "store_list_0607['G.O.']=\"2019-06-07\"\n",
    "store_list_0621['G.O.']=\"2019-06-15\"\n",
    "\n",
    "store_list_0607=store_list_0607[['Store ID','G.O.']]\n",
    "store_list_0621=store_list_0621[['Store ID','G.O.']]\n"
   ]
  },
  {
   "cell_type": "code",
   "execution_count": null,
   "metadata": {
    "collapsed": true
   },
   "outputs": [],
   "source": []
  },
  {
   "cell_type": "code",
   "execution_count": 4,
   "metadata": {
    "collapsed": true
   },
   "outputs": [],
   "source": [
    "store_list_SFTP=pd.read_csv(\"/home/jian/BigLots/static_files/Store_list/MediaStormStores20190501-135143-036.txt\",\n",
    "                            dtype=str,sep=\"|\")\n",
    "store_list_SFTP=store_list_SFTP[['location_id','zip_cd','latitude_meas','longitude_meas']]\n",
    "store_list_SFTP['latitude_meas']=store_list_SFTP['latitude_meas'].astype(float)\n",
    "store_list_SFTP['longitude_meas']=store_list_SFTP['longitude_meas'].astype(float)\n",
    "\n",
    "\n",
    "store_list_SFTP['zip_cd']=store_list_SFTP['zip_cd'].apply(lambda x: x.split(\"-\")[0].zfill(5))\n",
    "store_list_SFTP=store_list_SFTP.rename(columns={\"location_id\":\"Store ID\",\"zip_cd\":\"store_zip\",\"latitude_meas\":\"Latitude_meas\",\"longitude_meas\":\"Longitude_meas\"})\n",
    "store_list_0607=pd.merge(store_list_0607,store_list_SFTP,on=\"Store ID\",how=\"left\")\n",
    "store_list_0621=pd.merge(store_list_0621,store_list_SFTP,on=\"Store ID\",how=\"left\")\n",
    "\n",
    "store_list_0607_no_lag_lng=store_list_0607[pd.isnull(store_list_0607['store_zip'])]\n",
    "store_list_0621_no_lag_lng=store_list_0621[pd.isnull(store_list_0621['store_zip'])]\n"
   ]
  },
  {
   "cell_type": "code",
   "execution_count": 20,
   "metadata": {
    "collapsed": true
   },
   "outputs": [],
   "source": [
    "new_store_update_dict={}\n",
    "\n",
    "# 5385, 564 SE WASHINGTON BLVD\tEASTLAND SHOPPING CENTER\tBARTLESVILLE\tOK\t74006-8231\n",
    "new_store_update_dict.update({\"5385\":{\"Google_Address\":\"500 SE Washington Blvd, Bartlesville, OK 74006\",\"Google_Coor\":[36.7495305,-95.934563]}})\n",
    "\n",
    "# 4697, 5910 EASTEX FREEWAY\t\tBEAUMONT\tTX\t77708\n",
    "new_store_update_dict.update({\"4697\":{\"Google_Address\":\"5910 Eastex Fwy, Beaumont, TX 77708\",\"Google_Coor\":[30.1285512,-94.1571269]}})\n",
    "\n",
    "# 5389, 15271 MCGREGOR BOULEVARD\tISLAND PLAZA SHOPPING CENTER\tFORT MYERS\tFL\t33908\n",
    "new_store_update_dict.update({\"5389\":{\"Google_Address\":\"15271 McGregor Blvd, Fort Myers, FL 33908\",\"Google_Coor\":[26.5187718,-81.9426948]}})\n",
    "\n",
    "# 4694, 5800 OVERTON RIDGE BOULEVARD\tCITY VIEW TOWNE CENTER\tFORT WORTH\tTX\t76132\n",
    "new_store_update_dict.update({\"4694\":{\"Google_Address\":\"5800 Overton Ridge Blvd, Fort Worth, TX 76132\",\"Google_Coor\":[32.677144,-97.4140692]}})\n",
    "\n",
    "# 5395, 1308 WEST PATRICK STREET\tGOLDEN MILE MARKETPLACE\tFREDERICK\tMD\t21703\n",
    "new_store_update_dict.update({\"5395\":{\"Google_Address\":\"1308 W Patrick St, Frederick, MD 21703\",\"Google_Coor\":[39.4171998,-77.4570229]}})\n",
    "\n",
    "# 4695, 6207 SOUTH WESTNEDGE AVENUE\tTOYS R US CENTER\tPORTAGE\tMI\t49002\n",
    "new_store_update_dict.update({\"4695\":{\"Google_Address\":\"6207 S Westnedge Ave, Portage, MI 49002\",\"Google_Coor\":[42.2271103,-85.5868421]}})\n",
    "\n",
    "# 5372, 10150 DORCHESTER ROAD\tDORCHESTER VILLAGE\tSUMMERVILLE\tSC\t29485-8536\n",
    "new_store_update_dict.update({\"5372\":{\"Google_Address\":\"10150 Dorchester Rd, Summerville, SC 29485\",\"Google_Coor\":[32.9540632,-80.168855]}})\n",
    "\n",
    "########\n",
    "########\n",
    "\n",
    "# 4699, 2500 WEST COMMONWEALTH AVENUE\tFREMONT PLAZA\tALHAMBRA\tCA\t91803\n",
    "new_store_update_dict.update({\"4699\":{\"Google_Address\":\"2500 W Commonwealth Ave, Alhambra, CA 91803\",\"Google_Coor\":[34.0860875,-118.1510029]}})\n",
    "\n",
    "# 5396, 2750 NORTH ROBERTS AVENUE\tCENTER STAGE OF LUMBERTON\tLUMBERTON\tNC\t28358\n",
    "new_store_update_dict.update({\"5396\":{\"Google_Address\":\"2750 N Roberts Ave, Lumberton, NC 28358\",\"Google_Coor\":[34.6462145,-79.0104622]}})\n",
    "\n",
    "# 4696, 4555 16th STREET\tTOYS R US CENTER\tMOLINE\tIL\t61265\n",
    "new_store_update_dict.update({\"4696\":{\"Google_Address\":\"4555 16th St, Moline, IL 61265\",\"Google_Coor\":[41.468197,-90.5084496]}})\n",
    "\n",
    "# 5393, 5484 ATLANTA HIGHWAY\t\tMONTGOMERY\tAL\t36109\n",
    "new_store_update_dict.update({\"5393\":{\"Google_Address\":\"5484 Atlanta Hwy, Montgomery, AL 36109\",\"Google_Coor\":[32.3800155,-86.211963]}})\n",
    "\n",
    "# 4683, 2415 SAN PABLO DAM ROAD, SUITE 300\tSAN PABLO TOWN CENTER\tSAN PABLO\tCA\t94806-3940\n",
    "new_store_update_dict.update({\"4683\":{\"Google_Address\":\"2415 San Pablo Dam Rd #300, San Pablo, CA 94806\",\"Google_Coor\":[37.9560253,-122.3327502]}})\n"
   ]
  },
  {
   "cell_type": "code",
   "execution_count": 21,
   "metadata": {
    "collapsed": true
   },
   "outputs": [],
   "source": [
    "def allocate_lat(x):\n",
    "    if x in new_store_update_dict.keys():\n",
    "        y=new_store_update_dict[x]['Google_Coor'][0]\n",
    "    else:\n",
    "        y=np.nan\n",
    "    return y\n",
    "\n",
    "def allocate_lng(x):\n",
    "    if x in new_store_update_dict.keys():\n",
    "        y=new_store_update_dict[x]['Google_Coor'][1]\n",
    "    else:\n",
    "        y=np.nan\n",
    "    return y\n",
    "\n",
    "def allocate_zip(x):\n",
    "    if x in new_store_update_dict.keys():\n",
    "        y=new_store_update_dict[x]['Google_Address'][-5:]\n",
    "    else:\n",
    "        y=np.nan\n",
    "    return y"
   ]
  },
  {
   "cell_type": "code",
   "execution_count": 25,
   "metadata": {
    "collapsed": true
   },
   "outputs": [],
   "source": [
    "store_list_0607['Google_Lat']=store_list_0607['Store ID'].apply(lambda x: allocate_lat(x))\n",
    "store_list_0607['Google_Lng']=store_list_0607['Store ID'].apply(lambda x: allocate_lng(x))\n",
    "store_list_0607['Google_Zip']=store_list_0607['Store ID'].apply(lambda x: allocate_zip(x))\n",
    "\n",
    "store_list_0621['Google_Lat']=store_list_0621['Store ID'].apply(lambda x: allocate_lat(x))\n",
    "store_list_0621['Google_Lng']=store_list_0621['Store ID'].apply(lambda x: allocate_lng(x))\n",
    "store_list_0621['Google_Zip']=store_list_0621['Store ID'].apply(lambda x: allocate_zip(x))\n",
    "\n"
   ]
  },
  {
   "cell_type": "code",
   "execution_count": 8,
   "metadata": {
    "collapsed": true
   },
   "outputs": [],
   "source": [
    "store_list_0607['store_zip']=np.where(pd.isnull(store_list_0607['store_zip']), store_list_0607['Google_Zip'],store_list_0607['store_zip'])\n",
    "store_list_0607['Latitude_meas']=np.where(pd.isnull(store_list_0607['Latitude_meas']), store_list_0607['Google_Lat'],store_list_0607['Latitude_meas'])\n",
    "store_list_0607['Longitude_meas']=np.where(pd.isnull(store_list_0607['Longitude_meas']), store_list_0607['Google_Lng'],store_list_0607['Longitude_meas'])\n",
    "\n",
    "store_list_0621['store_zip']=np.where(pd.isnull(store_list_0621['store_zip']), store_list_0621['Google_Zip'],store_list_0621['store_zip'])\n",
    "store_list_0621['Latitude_meas']=np.where(pd.isnull(store_list_0621['Latitude_meas']), store_list_0621['Google_Lat'],store_list_0621['Latitude_meas'])\n",
    "store_list_0621['Longitude_meas']=np.where(pd.isnull(store_list_0621['Longitude_meas']), store_list_0621['Google_Lng'],store_list_0621['Longitude_meas'])\n",
    "\n",
    "store_list_0607=store_list_0607[['Store ID','G.O.','store_zip','Latitude_meas','Longitude_meas']]\n",
    "store_list_0621=store_list_0621[['Store ID','G.O.','store_zip','Latitude_meas','Longitude_meas']]\n"
   ]
  },
  {
   "cell_type": "code",
   "execution_count": 9,
   "metadata": {},
   "outputs": [
    {
     "name": "stdout",
     "output_type": "stream",
     "text": [
      "(176, 3)\n",
      "['1192' '1286' '1861' '1890' '1918' '1998' '4134' '4527' '4532' '4606']\n"
     ]
    }
   ],
   "source": [
    "store_PST=pd.read_csv(\"/home/jian/Projects/Big_Lots/New_TA/zips_in_new_ta/sales_by_zip (Store level).csv\",\n",
    "                      dtype=str,usecols=['location_id','zip','revenue_flag'])\n",
    "store_PST=store_PST[store_PST['location_id'].isin(store_list_0607['Store ID'].tolist() + store_list_0621['Store ID'].tolist())]\n",
    "store_PST=store_PST[store_PST['revenue_flag'].isin(['P','S'])]\n",
    "print(store_PST.shape)\n",
    "print(store_PST['location_id'].unique())\n",
    "store_PST=store_PST.rename(columns={\"location_id\":\"Store ID\"})"
   ]
  },
  {
   "cell_type": "code",
   "execution_count": 10,
   "metadata": {
    "collapsed": true
   },
   "outputs": [],
   "source": [
    "store_list_0607=pd.merge(store_list_0607,store_PST,on=\"Store ID\",how=\"left\")\n",
    "store_list_0621=pd.merge(store_list_0621,store_PST,on=\"Store ID\",how=\"left\")\n"
   ]
  },
  {
   "cell_type": "markdown",
   "metadata": {},
   "source": [
    "# 0607"
   ]
  },
  {
   "cell_type": "code",
   "execution_count": 11,
   "metadata": {},
   "outputs": [
    {
     "name": "stdout",
     "output_type": "stream",
     "text": [
      "store_list_0607_old:  (0, 7)\n"
     ]
    }
   ],
   "source": [
    "store_list_0607_new=store_list_0607[pd.isnull(store_list_0607['zip'])]\n",
    "store_list_0607_old=store_list_0607[pd.notnull(store_list_0607['zip'])]\n",
    "print(\"store_list_0607_old: \",store_list_0607_old.shape )\n",
    "del store_list_0607_new['zip']\n",
    "del store_list_0607_new['revenue_flag']\n",
    "\n",
    "df_new_zip_10_miles=pd.DataFrame()\n",
    "for index,row in store_list_0607_new.iterrows():\n",
    "    store_number=row['Store ID']\n",
    "    store_center=(row['Latitude_meas'],row['Longitude_meas'])\n",
    "    store_zip=row['store_zip']\n",
    "    \n",
    "    df_store=pd.DataFrame({\"Store ID\":store_number,\"zip\":store_zip,\"Revenue_flag\":\"store_zip\",\"Distance (mile)\":\"store_zip\"},index=[0])\n",
    "    \n",
    "    for zip_cd in zip_centers.keys():\n",
    "        dist=haversine(store_center,zip_centers[zip_cd])\n",
    "        if dist<=10:\n",
    "            df=pd.DataFrame({\"Store ID\":store_number,\"zip\":zip_cd,\"Revenue_flag\":\"zips_in_10\",\"Distance (mile)\":dist},index=[0])\n",
    "            df_store=df.append(df_store)\n",
    "    df_store=df_store.drop_duplicates(\"zip\")\n",
    "    df_new_zip_10_miles=df_new_zip_10_miles.append(df_store)\n",
    "    "
   ]
  },
  {
   "cell_type": "code",
   "execution_count": 12,
   "metadata": {
    "collapsed": true
   },
   "outputs": [],
   "source": [
    "# store_list_0607_old 0 row\n",
    "output_0607=pd.merge(store_list_0607_new,df_new_zip_10_miles,on=\"Store ID\",how=\"left\")"
   ]
  },
  {
   "cell_type": "markdown",
   "metadata": {},
   "source": [
    "# 0621"
   ]
  },
  {
   "cell_type": "code",
   "execution_count": 13,
   "metadata": {},
   "outputs": [
    {
     "name": "stdout",
     "output_type": "stream",
     "text": [
      "store_list_0621_new (5, 7)\n",
      "store_list_0621_new (176, 7)\n"
     ]
    }
   ],
   "source": [
    "store_list_0621_new=store_list_0621[pd.isnull(store_list_0621['zip'])]\n",
    "store_list_0621_old=store_list_0621[pd.notnull(store_list_0621['zip'])].rename(columns={\"revenue_flag\":\"Revenue_flag\"})\n",
    "\n",
    "print(\"store_list_0621_new\",store_list_0621_new.shape)\n",
    "print(\"store_list_0621_new\",store_list_0621_old.shape)"
   ]
  },
  {
   "cell_type": "code",
   "execution_count": 14,
   "metadata": {
    "collapsed": true
   },
   "outputs": [],
   "source": [
    "del store_list_0621_new['zip']\n",
    "del store_list_0621_new['revenue_flag']\n",
    "\n",
    "df_new_zip_10_miles=pd.DataFrame()\n",
    "for index,row in store_list_0621_new.iterrows():\n",
    "    store_number=row['Store ID']\n",
    "    store_center=(row['Latitude_meas'],row['Longitude_meas'])\n",
    "    store_zip=row['store_zip']\n",
    "    \n",
    "    df_store=pd.DataFrame({\"Store ID\":store_number,\"zip\":store_zip,\"Revenue_flag\":\"store_zip\",\"Distance (mile)\":\"store_zip\"},index=[0])\n",
    "    \n",
    "    for zip_cd in zip_centers.keys():\n",
    "        dist=haversine(store_center,zip_centers[zip_cd])\n",
    "        if dist<=10:\n",
    "            df=pd.DataFrame({\"Store ID\":store_number,\"zip\":zip_cd,\"Revenue_flag\":\"zips_in_10\",\"Distance (mile)\":dist},index=[0])\n",
    "            df_store=df.append(df_store)\n",
    "    df_store=df_store.drop_duplicates(\"zip\")\n",
    "    df_new_zip_10_miles=df_new_zip_10_miles.append(df_store)\n",
    "    \n",
    "output_0621_new=pd.merge(store_list_0621_new,df_new_zip_10_miles,on=\"Store ID\",how=\"left\")\n",
    "output_0621_new=output_0621_new[col_list]"
   ]
  },
  {
   "cell_type": "code",
   "execution_count": 15,
   "metadata": {
    "collapsed": true
   },
   "outputs": [],
   "source": [
    "store_list_0621_old['Distance (mile)']=np.nan\n",
    "\n",
    "store_list_0621_old=store_list_0621_old.reset_index()\n",
    "del store_list_0621_old['index']\n",
    "\n",
    "for index,row in store_list_0621_old.iterrows():\n",
    "    store_center=(row['Latitude_meas'],row['Longitude_meas'])\n",
    "    zip_cd=row['zip']\n",
    "    dist=haversine(store_center,zip_centers[zip_cd],miles=True)\n",
    "    # No exception above\n",
    "    \n",
    "    store_list_0621_old.loc[index,\"Distance (mile)\"]=dist\n",
    "store_list_0621_old=store_list_0621_old[(store_list_0621_old['Revenue_flag']==\"P\") | (store_list_0621_old['Distance (mile)']<=20)]    "
   ]
  },
  {
   "cell_type": "code",
   "execution_count": 16,
   "metadata": {
    "collapsed": true
   },
   "outputs": [],
   "source": [
    "output_0621=store_list_0621_old.append(output_0621_new)\n",
    "output_0621=output_0621[col_list]"
   ]
  },
  {
   "cell_type": "code",
   "execution_count": 18,
   "metadata": {
    "collapsed": true
   },
   "outputs": [],
   "source": [
    "writer=pd.ExcelWriter(\"/home/jian/Projects/Big_Lots/Analysis/2019_Q2/Planner_Requests/Zips_for_SOTF_Faith_20190522/BL_6.7 and 6.21 Zip Codes Updated 5.14.2019_JL_\"+str(datetime.datetime.now().date())+\".xlsx\",engine=\"xlsxwriter\")\n",
    "output_0607.to_excel(writer,'BL_6.7 Zips_7 Stores',index=False)\n",
    "output_0621.to_excel(writer,'BL_6.21 Zips_15 Stores',index=False)\n",
    "writer.save()\n"
   ]
  },
  {
   "cell_type": "code",
   "execution_count": null,
   "metadata": {
    "collapsed": true
   },
   "outputs": [],
   "source": []
  }
 ],
 "metadata": {
  "kernelspec": {
   "display_name": "Python 3",
   "language": "python",
   "name": "python3"
  },
  "language_info": {
   "codemirror_mode": {
    "name": "ipython",
    "version": 3
   },
   "file_extension": ".py",
   "mimetype": "text/x-python",
   "name": "python",
   "nbconvert_exporter": "python",
   "pygments_lexer": "ipython3",
   "version": "3.6.1"
  }
 },
 "nbformat": 4,
 "nbformat_minor": 2
}
