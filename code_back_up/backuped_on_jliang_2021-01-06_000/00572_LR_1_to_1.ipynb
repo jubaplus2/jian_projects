{
 "cells": [
  {
   "cell_type": "code",
   "execution_count": 3,
   "metadata": {},
   "outputs": [
    {
     "data": {
      "text/plain": [
       "'/home/jian/Projects/Big_Lots/Analysis/2019_Q1/RL_1_to_1'"
      ]
     },
     "execution_count": 3,
     "metadata": {},
     "output_type": "execute_result"
    }
   ],
   "source": [
    "import pandas as pd\n",
    "import numpy as np\n",
    "import datetime\n",
    "import paramiko\n",
    "import os\n",
    "\n",
    "os.getcwd()"
   ]
  },
  {
   "cell_type": "code",
   "execution_count": 2,
   "metadata": {
    "collapsed": true
   },
   "outputs": [],
   "source": [
    "host = \"64.237.51.251\" #hard-coded\n",
    "port = 22\n",
    "transport = paramiko.Transport((host, port))\n",
    "\n",
    "password = \"jian@juba2017\" #hard-coded\n",
    "username = \"jian\" #hard-coded\n",
    "transport.connect(username = username, password = password)\n",
    "sftp = paramiko.SFTPClient.from_transport(transport)"
   ]
  },
  {
   "cell_type": "code",
   "execution_count": 4,
   "metadata": {
    "collapsed": true
   },
   "outputs": [],
   "source": [
    "remote_path=\"/mnt/drv5/jian/Big_Lots/BL_1_to_1_2019Q1/output_aggregate_DCM_LR_BL_files/BL_agg_DCM_activities_JL_2019-06-11.tsv.gz\"\n",
    "local_path='/home/jian/Projects/Big_Lots/Analysis/2019_Q1/RL_1_to_1/'+os.path.basename(remote_path)\n",
    "sftp.get(remote_path,local_path)"
   ]
  },
  {
   "cell_type": "code",
   "execution_count": 5,
   "metadata": {
    "collapsed": true
   },
   "outputs": [],
   "source": [
    "remote_path=\"/mnt/drv5/jian/Big_Lots/BL_1_to_1_2019Q1/output_aggregate_DCM_LR_BL_files/BL_agg_DCM_clicks_JL_2019-06-11.tsv.gz\"\n",
    "local_path='/home/jian/Projects/Big_Lots/Analysis/2019_Q1/RL_1_to_1/'+os.path.basename(remote_path)\n",
    "sftp.get(remote_path,local_path)"
   ]
  },
  {
   "cell_type": "code",
   "execution_count": 6,
   "metadata": {
    "collapsed": true
   },
   "outputs": [],
   "source": [
    "remote_path=\"/mnt/drv5/jian/Big_Lots/BL_1_to_1_2019Q1/output_aggregate_DCM_LR_BL_files/BL_agg_DCM_impressions_JL_2019-06-11.tsv.gz\"\n",
    "local_path='/home/jian/Projects/Big_Lots/Analysis/2019_Q1/RL_1_to_1/'+os.path.basename(remote_path)\n",
    "sftp.get(remote_path,local_path)"
   ]
  },
  {
   "cell_type": "code",
   "execution_count": 7,
   "metadata": {
    "collapsed": true
   },
   "outputs": [],
   "source": [
    "remote_path=\"/mnt/drv5/jian/Big_Lots/BL_1_to_1_2019Q1/BL_2019Q1_LiveRamp_Placement_JL_2019-06-12.csv\"\n",
    "local_path='/home/jian/Projects/Big_Lots/Analysis/2019_Q1/RL_1_to_1/'+os.path.basename(remote_path)\n",
    "sftp.get(remote_path,local_path)"
   ]
  },
  {
   "cell_type": "code",
   "execution_count": 8,
   "metadata": {
    "collapsed": true
   },
   "outputs": [],
   "source": [
    "remote_path='/mnt/drv5/jian/Big_Lots/BL_1_to_1_2019Q1/output/allactivity_id.csv'\n",
    "local_path='/home/jian/Projects/Big_Lots/Analysis/2019_Q1/RL_1_to_1/'+os.path.basename(remote_path)\n",
    "sftp.get(remote_path,local_path)"
   ]
  },
  {
   "cell_type": "code",
   "execution_count": 9,
   "metadata": {
    "collapsed": true
   },
   "outputs": [],
   "source": [
    "remote_path='/mnt/drv5/jian/Big_Lots/BL_1_to_1_2019Q1/Aggregated_all_2019Q1_LR_segments/BL_2019Q1_all_segments_aggregated_JL_2019-06-11.csv'\n",
    "local_path='/home/jian/Projects/Big_Lots/Analysis/2019_Q1/RL_1_to_1/'+os.path.basename(remote_path)\n",
    "sftp.get(remote_path,local_path)\n"
   ]
  },
  {
   "cell_type": "code",
   "execution_count": null,
   "metadata": {
    "collapsed": true
   },
   "outputs": [],
   "source": []
  },
  {
   "cell_type": "code",
   "execution_count": 10,
   "metadata": {},
   "outputs": [
    {
     "ename": "SyntaxError",
     "evalue": "EOL while scanning string literal (<ipython-input-10-05e0f2ebb11c>, line 1)",
     "output_type": "error",
     "traceback": [
      "\u001b[0;36m  File \u001b[0;32m\"<ipython-input-10-05e0f2ebb11c>\"\u001b[0;36m, line \u001b[0;32m1\u001b[0m\n\u001b[0;31m    idlist = pd.read_csv(\"./allactivity_id.csv')\u001b[0m\n\u001b[0m                                                ^\u001b[0m\n\u001b[0;31mSyntaxError\u001b[0m\u001b[0;31m:\u001b[0m EOL while scanning string literal\n"
     ]
    }
   ],
   "source": [
    "idlist = pd.read_csv(\"./allactivity_id.csv')\n",
    "idlist['uniquetrans'] = np.where(idlist['total_transactions']>0,1,0)\n",
    "\n",
    "idlistwseg = pd.read_csv('/mnt/drv5/jian/Big_Lots/BL_1_to_1_2019Q1/Aggregated_all_2019Q1_LR_segments/BL_2019Q1_all_segments_aggregated_JL_2019-06-11.csv',\n",
    "                         usecols=['customer_id_hashed','segment']).drop_duplicates()\n",
    "                     \n",
    "                     "
   ]
  },
  {
   "cell_type": "code",
   "execution_count": null,
   "metadata": {
    "collapsed": true
   },
   "outputs": [],
   "source": [
    "idlistwseg_c = idlistwseg[(idlistwseg['segment'].str.contains('C_') | (idlistwseg['segment'].str.contains('Control')))]\n",
    "idlistwseg_c_df=idlistwseg_c.copy()\n",
    "idlistwseg_c = list(idlistwseg_c['customer_id_hashed'].unique())\n",
    "print(len(idlistwseg_c))"
   ]
  },
  {
   "cell_type": "code",
   "execution_count": null,
   "metadata": {
    "collapsed": true
   },
   "outputs": [],
   "source": []
  }
 ],
 "metadata": {
  "kernelspec": {
   "display_name": "Python 3",
   "language": "python",
   "name": "python3"
  },
  "language_info": {
   "codemirror_mode": {
    "name": "ipython",
    "version": 3
   },
   "file_extension": ".py",
   "mimetype": "text/x-python",
   "name": "python",
   "nbconvert_exporter": "python",
   "pygments_lexer": "ipython3",
   "version": "3.6.1"
  }
 },
 "nbformat": 4,
 "nbformat_minor": 2
}
