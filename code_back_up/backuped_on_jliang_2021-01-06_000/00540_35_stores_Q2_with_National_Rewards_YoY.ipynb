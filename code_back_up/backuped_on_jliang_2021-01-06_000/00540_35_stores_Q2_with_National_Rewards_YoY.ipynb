{
 "cells": [
  {
   "cell_type": "code",
   "execution_count": 1,
   "metadata": {
    "collapsed": true
   },
   "outputs": [],
   "source": [
    "import pandas as pd\n",
    "import datetime\n",
    "import os\n",
    "import numpy as np"
   ]
  },
  {
   "cell_type": "code",
   "execution_count": 2,
   "metadata": {},
   "outputs": [
    {
     "data": {
      "text/plain": [
       "'/home/jian/Projects/Big_Lots/Analysis/2018_Q2_Post/SOTF_Post'"
      ]
     },
     "execution_count": 2,
     "metadata": {},
     "output_type": "execute_result"
    }
   ],
   "source": [
    "os.getcwd()"
   ]
  },
  {
   "cell_type": "code",
   "execution_count": 3,
   "metadata": {
    "collapsed": true
   },
   "outputs": [],
   "source": [
    "store_list=pd.read_excel('/home/jian/Projects/Big_Lots/Analysis/2018_Q2_Post/SOTF_Post/SOTF Wave 1 Store IDs_8.20.xlsx',\n",
    "                         dtype=str,sheetname=\"Stores_6_8\")\n",
    "store_set_wave_1=set(store_list['SOTF'].unique().tolist())"
   ]
  },
  {
   "cell_type": "code",
   "execution_count": 4,
   "metadata": {
    "collapsed": true
   },
   "outputs": [],
   "source": [
    "store_wide_sales=pd.read_excel(\"/home/jian/Projects/Big_Lots/Analysis/2018_Q2_Post/SOTF_Post/wide_sales_date2018-09-01.xlsx\",\n",
    "                               dtype=str,sheetname=\"sales\")"
   ]
  },
  {
   "cell_type": "code",
   "execution_count": 5,
   "metadata": {
    "collapsed": true
   },
   "outputs": [],
   "source": [
    "store_wide_trans=pd.read_excel(\"/home/jian/Projects/Big_Lots/Analysis/2018_Q2_Post/SOTF_Post/wide_sales_date2018-09-01.xlsx\",\n",
    "                               dtype=str,sheetname=\"transactions\")"
   ]
  },
  {
   "cell_type": "code",
   "execution_count": 6,
   "metadata": {
    "collapsed": true
   },
   "outputs": [],
   "source": [
    "First_week_2018=datetime.date(2018,5,19)\n",
    "First_week_2017=datetime.date(2017,5,20)\n",
    "\n",
    "weeks_2018=[str(First_week_2018+datetime.timedelta(days=i*7)) for i in range(8)]\n",
    "weeks_2017=[str(First_week_2017+datetime.timedelta(days=i*7)) for i in range(8)]"
   ]
  },
  {
   "cell_type": "code",
   "execution_count": 7,
   "metadata": {},
   "outputs": [
    {
     "name": "stderr",
     "output_type": "stream",
     "text": [
      "/usr/local/lib/python3.6/site-packages/ipykernel_launcher.py:2: SettingWithCopyWarning: \n",
      "A value is trying to be set on a copy of a slice from a DataFrame.\n",
      "Try using .loc[row_indexer,col_indexer] = value instead\n",
      "\n",
      "See the caveats in the documentation: http://pandas.pydata.org/pandas-docs/stable/indexing.html#indexing-view-versus-copy\n",
      "  \n",
      "/usr/local/lib/python3.6/site-packages/ipykernel_launcher.py:5: SettingWithCopyWarning: \n",
      "A value is trying to be set on a copy of a slice from a DataFrame.\n",
      "Try using .loc[row_indexer,col_indexer] = value instead\n",
      "\n",
      "See the caveats in the documentation: http://pandas.pydata.org/pandas-docs/stable/indexing.html#indexing-view-versus-copy\n",
      "  \"\"\"\n"
     ]
    }
   ],
   "source": [
    "SOTF_sales=store_wide_sales[['location_id']+weeks_2017+weeks_2018]\n",
    "SOTF_sales['Wave_1']=SOTF_sales['location_id'].apply(lambda x: x in store_set_wave_1)\n",
    "\n",
    "SOTF_trans=store_wide_trans[['location_id']+weeks_2017+weeks_2018]\n",
    "SOTF_sales['Wave_1']=SOTF_sales['location_id'].apply(lambda x: x in store_set_wave_1)"
   ]
  },
  {
   "cell_type": "code",
   "execution_count": 8,
   "metadata": {},
   "outputs": [
    {
     "name": "stderr",
     "output_type": "stream",
     "text": [
      "/usr/local/lib/python3.6/site-packages/ipykernel_launcher.py:2: SettingWithCopyWarning: \n",
      "A value is trying to be set on a copy of a slice from a DataFrame.\n",
      "Try using .loc[row_indexer,col_indexer] = value instead\n",
      "\n",
      "See the caveats in the documentation: http://pandas.pydata.org/pandas-docs/stable/indexing.html#indexing-view-versus-copy\n",
      "  \n",
      "/usr/local/lib/python3.6/site-packages/ipykernel_launcher.py:5: SettingWithCopyWarning: \n",
      "A value is trying to be set on a copy of a slice from a DataFrame.\n",
      "Try using .loc[row_indexer,col_indexer] = value instead\n",
      "\n",
      "See the caveats in the documentation: http://pandas.pydata.org/pandas-docs/stable/indexing.html#indexing-view-versus-copy\n",
      "  \"\"\"\n"
     ]
    }
   ],
   "source": [
    "for col in SOTF_trans.columns.tolist()[1:]:\n",
    "    SOTF_trans[col]=SOTF_trans[col].astype(int)\n",
    "    \n",
    "for col in SOTF_sales.columns.tolist()[1:]:\n",
    "    SOTF_sales[col]=SOTF_sales[col].apply(lambda x: np.round(float(x),2))"
   ]
  },
  {
   "cell_type": "code",
   "execution_count": 9,
   "metadata": {},
   "outputs": [
    {
     "name": "stderr",
     "output_type": "stream",
     "text": [
      "/usr/local/lib/python3.6/site-packages/ipykernel_launcher.py:1: SettingWithCopyWarning: \n",
      "A value is trying to be set on a copy of a slice from a DataFrame.\n",
      "Try using .loc[row_indexer,col_indexer] = value instead\n",
      "\n",
      "See the caveats in the documentation: http://pandas.pydata.org/pandas-docs/stable/indexing.html#indexing-view-versus-copy\n",
      "  \"\"\"Entry point for launching an IPython kernel.\n",
      "/usr/local/lib/python3.6/site-packages/ipykernel_launcher.py:8: SettingWithCopyWarning: \n",
      "A value is trying to be set on a copy of a slice from a DataFrame\n",
      "\n",
      "See the caveats in the documentation: http://pandas.pydata.org/pandas-docs/stable/indexing.html#indexing-view-versus-copy\n",
      "  \n",
      "/usr/local/lib/python3.6/site-packages/IPython/core/interactiveshell.py:2847: SettingWithCopyWarning: \n",
      "A value is trying to be set on a copy of a slice from a DataFrame\n",
      "\n",
      "See the caveats in the documentation: http://pandas.pydata.org/pandas-docs/stable/indexing.html#indexing-view-versus-copy\n",
      "  exec(code_obj, self.user_global_ns, self.user_ns)\n"
     ]
    }
   ],
   "source": [
    "SOTF_sales['inclusion']=np.nan\n",
    "\n",
    "for i in range(len(SOTF_sales)):\n",
    "    ind=1\n",
    "    for j in range(1,17):\n",
    "        if SOTF_sales.iloc[i,j]==0:\n",
    "            ind=0\n",
    "    SOTF_sales['inclusion'][i]=ind"
   ]
  },
  {
   "cell_type": "code",
   "execution_count": 10,
   "metadata": {
    "scrolled": true
   },
   "outputs": [
    {
     "data": {
      "text/plain": [
       "(1513, 19)"
      ]
     },
     "execution_count": 10,
     "metadata": {},
     "output_type": "execute_result"
    }
   ],
   "source": [
    "SOTF_sales.shape"
   ]
  },
  {
   "cell_type": "markdown",
   "metadata": {},
   "source": [
    "# Rewards"
   ]
  },
  {
   "cell_type": "code",
   "execution_count": 11,
   "metadata": {
    "collapsed": true
   },
   "outputs": [],
   "source": [
    "start_2017=datetime.datetime.strptime(weeks_2017[0],\"%Y-%m-%d\").date()-datetime.timedelta(days=6)\n",
    "start_2018=datetime.datetime.strptime(weeks_2018[0],\"%Y-%m-%d\").date()-datetime.timedelta(days=6)\n",
    "end_2017=datetime.datetime.strptime(weeks_2017[7],\"%Y-%m-%d\").date()\n",
    "end_2018=datetime.datetime.strptime(weeks_2018[7],\"%Y-%m-%d\").date()"
   ]
  },
  {
   "cell_type": "code",
   "execution_count": 12,
   "metadata": {
    "collapsed": true
   },
   "outputs": [],
   "source": [
    "data_from_SP=pd.read_csv(\"/home/jian/Projects/Big_Lots/Loyal_members/loyalty_sales_data/From_Sp/combinedtransactions_0811.csv\",\n",
    "                        dtype=str,usecols=['customer_id_hashed','transaction_date','transaction_id','location_id','total_transaction_amt'])\n",
    "data_from_SP['transaction_date']=data_from_SP['transaction_date'].apply(lambda x: datetime.datetime.strptime(x,\"%Y-%m-%d\").date())\n",
    "data_from_SP=data_from_SP[(data_from_SP['transaction_date']>=start_2017) & (data_from_SP['transaction_date']<=end_2017) |\\\n",
    "                         (data_from_SP['transaction_date']>=start_2018) & (data_from_SP['transaction_date']<=end_2018)]\n",
    "data_from_SP=data_from_SP.drop_duplicates()"
   ]
  },
  {
   "cell_type": "code",
   "execution_count": 13,
   "metadata": {
    "collapsed": true
   },
   "outputs": [],
   "source": [
    "def week_end_func(x):\n",
    "    if x.weekday()==6:\n",
    "        week=x+datetime.timedelta(days=6)\n",
    "    else:\n",
    "        diff=x.weekday()\n",
    "        week=x+datetime.timedelta(days=5-diff)\n",
    "    return week\n"
   ]
  },
  {
   "cell_type": "code",
   "execution_count": 14,
   "metadata": {
    "collapsed": true
   },
   "outputs": [],
   "source": [
    "data_from_SP['week_end_date']=data_from_SP['transaction_date'].apply(lambda x: week_end_func(x))\n",
    "# data_from_SP=data_from_SP[data_from_SP['location_id'].isin(inclusions_stores)]\n",
    "data_from_SP['total_transaction_amt']=data_from_SP['total_transaction_amt'].astype(float)"
   ]
  },
  {
   "cell_type": "code",
   "execution_count": 15,
   "metadata": {
    "collapsed": true
   },
   "outputs": [],
   "source": [
    "rewards_by_week_sales=data_from_SP.groupby(['location_id','week_end_date'])['total_transaction_amt'].sum().to_frame().reset_index()\n",
    "rewards_by_week_trans=data_from_SP.groupby(['location_id','week_end_date'])['total_transaction_amt'].count().to_frame().reset_index()\n"
   ]
  },
  {
   "cell_type": "code",
   "execution_count": 26,
   "metadata": {},
   "outputs": [
    {
     "data": {
      "text/plain": [
       "112"
      ]
     },
     "execution_count": 26,
     "metadata": {},
     "output_type": "execute_result"
    }
   ],
   "source": [
    "len(data_from_SP['transaction_date'].unique())"
   ]
  },
  {
   "cell_type": "code",
   "execution_count": 29,
   "metadata": {},
   "outputs": [
    {
     "data": {
      "text/plain": [
       "datetime.date(2018, 7, 7)"
      ]
     },
     "execution_count": 29,
     "metadata": {},
     "output_type": "execute_result"
    }
   ],
   "source": [
    "data_from_SP['transaction_date'].max()"
   ]
  },
  {
   "cell_type": "code",
   "execution_count": 30,
   "metadata": {},
   "outputs": [
    {
     "data": {
      "text/plain": [
       "datetime.date(2017, 5, 14)"
      ]
     },
     "execution_count": 30,
     "metadata": {},
     "output_type": "execute_result"
    }
   ],
   "source": [
    "data_from_SP['transaction_date'].min()"
   ]
  },
  {
   "cell_type": "markdown",
   "metadata": {},
   "source": [
    "# Combine"
   ]
  },
  {
   "cell_type": "code",
   "execution_count": 17,
   "metadata": {},
   "outputs": [
    {
     "data": {
      "text/html": [
       "<div>\n",
       "<style>\n",
       "    .dataframe thead tr:only-child th {\n",
       "        text-align: right;\n",
       "    }\n",
       "\n",
       "    .dataframe thead th {\n",
       "        text-align: left;\n",
       "    }\n",
       "\n",
       "    .dataframe tbody tr th {\n",
       "        vertical-align: top;\n",
       "    }\n",
       "</style>\n",
       "<table border=\"1\" class=\"dataframe\">\n",
       "  <thead>\n",
       "    <tr style=\"text-align: right;\">\n",
       "      <th></th>\n",
       "      <th>location_id</th>\n",
       "      <th>2017-05-20</th>\n",
       "      <th>2017-05-27</th>\n",
       "      <th>2017-06-03</th>\n",
       "      <th>2017-06-10</th>\n",
       "      <th>2017-06-17</th>\n",
       "      <th>2017-06-24</th>\n",
       "      <th>2017-07-01</th>\n",
       "      <th>2017-07-08</th>\n",
       "      <th>2018-05-19</th>\n",
       "      <th>2018-05-26</th>\n",
       "      <th>2018-06-02</th>\n",
       "      <th>2018-06-09</th>\n",
       "      <th>2018-06-16</th>\n",
       "      <th>2018-06-23</th>\n",
       "      <th>2018-06-30</th>\n",
       "      <th>2018-07-07</th>\n",
       "      <th>Wave_1</th>\n",
       "      <th>inclusion</th>\n",
       "    </tr>\n",
       "  </thead>\n",
       "  <tbody>\n",
       "    <tr>\n",
       "      <th>0</th>\n",
       "      <td>0</td>\n",
       "      <td>0.0</td>\n",
       "      <td>0.00</td>\n",
       "      <td>0.00</td>\n",
       "      <td>0.00</td>\n",
       "      <td>0.00</td>\n",
       "      <td>0.00</td>\n",
       "      <td>0.00</td>\n",
       "      <td>0.00</td>\n",
       "      <td>0.0</td>\n",
       "      <td>0.00</td>\n",
       "      <td>0.00</td>\n",
       "      <td>0.00</td>\n",
       "      <td>0.00</td>\n",
       "      <td>0.0</td>\n",
       "      <td>0.0</td>\n",
       "      <td>0.00</td>\n",
       "      <td>0.0</td>\n",
       "      <td>0.0</td>\n",
       "    </tr>\n",
       "    <tr>\n",
       "      <th>1</th>\n",
       "      <td>1</td>\n",
       "      <td>74072.4</td>\n",
       "      <td>88270.91</td>\n",
       "      <td>91990.34</td>\n",
       "      <td>77190.27</td>\n",
       "      <td>76737.68</td>\n",
       "      <td>70746.61</td>\n",
       "      <td>84674.98</td>\n",
       "      <td>98495.28</td>\n",
       "      <td>72280.5</td>\n",
       "      <td>92486.88</td>\n",
       "      <td>106743.71</td>\n",
       "      <td>88619.43</td>\n",
       "      <td>87176.25</td>\n",
       "      <td>82495.4</td>\n",
       "      <td>82604.5</td>\n",
       "      <td>102354.41</td>\n",
       "      <td>1.0</td>\n",
       "      <td>1.0</td>\n",
       "    </tr>\n",
       "  </tbody>\n",
       "</table>\n",
       "</div>"
      ],
      "text/plain": [
       "  location_id  2017-05-20  2017-05-27  2017-06-03  2017-06-10  2017-06-17  \\\n",
       "0           0         0.0        0.00        0.00        0.00        0.00   \n",
       "1           1     74072.4    88270.91    91990.34    77190.27    76737.68   \n",
       "\n",
       "   2017-06-24  2017-07-01  2017-07-08  2018-05-19  2018-05-26  2018-06-02  \\\n",
       "0        0.00        0.00        0.00         0.0        0.00        0.00   \n",
       "1    70746.61    84674.98    98495.28     72280.5    92486.88   106743.71   \n",
       "\n",
       "   2018-06-09  2018-06-16  2018-06-23  2018-06-30  2018-07-07  Wave_1  \\\n",
       "0        0.00        0.00         0.0         0.0        0.00     0.0   \n",
       "1    88619.43    87176.25     82495.4     82604.5   102354.41     1.0   \n",
       "\n",
       "   inclusion  \n",
       "0        0.0  \n",
       "1        1.0  "
      ]
     },
     "execution_count": 17,
     "metadata": {},
     "output_type": "execute_result"
    }
   ],
   "source": [
    "output=SOTF_sales[['location_id']]\n",
    "output=output.rename(columns={\"SOTF\":\"location_id\"})\n",
    "SOTF_sales.head(2)"
   ]
  },
  {
   "cell_type": "code",
   "execution_count": 18,
   "metadata": {
    "collapsed": true
   },
   "outputs": [],
   "source": [
    "output_store_total_sales=pd.merge(output,SOTF_sales,on=\"location_id\",how=\"left\")\n",
    "output_store_total_trans=pd.merge(output,SOTF_trans,on=\"location_id\",how=\"left\")"
   ]
  },
  {
   "cell_type": "code",
   "execution_count": 19,
   "metadata": {},
   "outputs": [
    {
     "data": {
      "text/plain": [
       "(1513, 17)"
      ]
     },
     "execution_count": 19,
     "metadata": {},
     "output_type": "execute_result"
    }
   ],
   "source": [
    "output_store_total_trans.shape"
   ]
  },
  {
   "cell_type": "code",
   "execution_count": 20,
   "metadata": {
    "collapsed": true
   },
   "outputs": [],
   "source": [
    "rewards_by_week_trans=rewards_by_week_trans.pivot(index=\"location_id\",columns=\"week_end_date\",values=\"total_transaction_amt\").reset_index()\n",
    "rewards_by_week_sales=rewards_by_week_sales.pivot(index=\"location_id\",columns=\"week_end_date\",values=\"total_transaction_amt\").reset_index()\n"
   ]
  },
  {
   "cell_type": "code",
   "execution_count": 21,
   "metadata": {
    "collapsed": true
   },
   "outputs": [],
   "source": [
    "output_store_rewards_sales=pd.merge(output,rewards_by_week_sales,on=\"location_id\",how=\"left\")\n",
    "output_store_rewards_trans=pd.merge(output,rewards_by_week_trans,on=\"location_id\",how=\"left\")"
   ]
  },
  {
   "cell_type": "code",
   "execution_count": 22,
   "metadata": {
    "collapsed": true
   },
   "outputs": [],
   "source": [
    "output_store_rewards_sales=output_store_rewards_sales.fillna(0)\n",
    "output_store_rewards_trans=output_store_rewards_trans.fillna(0)"
   ]
  },
  {
   "cell_type": "code",
   "execution_count": 23,
   "metadata": {
    "collapsed": true
   },
   "outputs": [],
   "source": [
    "writer=pd.ExcelWriter(\"/home/jian/Projects/Big_Lots/Analysis/2018_Q2_Post/SOTF_Post/\"+\"BL_35_stores_opened_20180608_Inclusions_JL_\"+str(datetime.datetime.now().date())+\".xlsx\",engine=\"xlsxwriter\")\n"
   ]
  },
  {
   "cell_type": "code",
   "execution_count": 24,
   "metadata": {
    "collapsed": true
   },
   "outputs": [],
   "source": [
    "output_store_total_sales.to_excel(writer,\"store_total_sales\",index=False)\n",
    "output_store_total_trans.to_excel(writer,\"store_total_trans\",index=False)\n",
    "output_store_rewards_sales.to_excel(writer,\"store_rewards_sales\",index=False)\n",
    "output_store_rewards_trans.to_excel(writer,\"store_rewards_trans\",index=False)\n",
    "writer.save()"
   ]
  }
 ],
 "metadata": {
  "kernelspec": {
   "display_name": "Python 3",
   "language": "python",
   "name": "python3"
  },
  "language_info": {
   "codemirror_mode": {
    "name": "ipython",
    "version": 3
   },
   "file_extension": ".py",
   "mimetype": "text/x-python",
   "name": "python",
   "nbconvert_exporter": "python",
   "pygments_lexer": "ipython3",
   "version": "3.6.1"
  }
 },
 "nbformat": 4,
 "nbformat_minor": 2
}
