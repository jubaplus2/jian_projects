{
 "cells": [
  {
   "cell_type": "code",
   "execution_count": 1,
   "metadata": {},
   "outputs": [
    {
     "data": {
      "text/plain": [
       "'/home/jian/Projects/Big_Lots/Analysis/2019_Q4/SOTF_vs_Legacy_performance'"
      ]
     },
     "execution_count": 1,
     "metadata": {},
     "output_type": "execute_result"
    }
   ],
   "source": [
    "# 2019 Q4\n",
    "import pandas as pd\n",
    "import numpy as np\n",
    "import datetime\n",
    "import os\n",
    "import glob\n",
    "import gc\n",
    "os.getcwd()"
   ]
  },
  {
   "cell_type": "code",
   "execution_count": 2,
   "metadata": {},
   "outputs": [
    {
     "data": {
      "text/plain": [
       "479"
      ]
     },
     "execution_count": 2,
     "metadata": {},
     "output_type": "execute_result"
    }
   ],
   "source": [
    "list_sotf=pd.read_excel(\"/home/jian/Projects/Big_Lots/Analysis/2019_Q4/SOTF_vs_Legacy_performance/BL Store List Report from Dom 12.20.19.xlsx\",\n",
    "                       dtype=str,usecols=['Store','SOTF'])\n",
    "list_sotf=list_sotf[list_sotf['SOTF']==\"Yes\"]\n",
    "list_sotf=list_sotf[list_sotf['Store'].apply(lambda x: x.isdigit())]['Store'].unique().tolist()\n",
    "len(list_sotf)"
   ]
  },
  {
   "cell_type": "code",
   "execution_count": 3,
   "metadata": {},
   "outputs": [
    {
     "name": "stdout",
     "output_type": "stream",
     "text": [
      "/home/jian/BigLots/static_files/Store_list/MediaStormStores20200201-134613-934.txt\n"
     ]
    },
    {
     "data": {
      "text/plain": [
       "['/home/jian/BigLots/static_files/Store_list/MediaStormStores20200101-135601-098.txt',\n",
       " '/home/jian/BigLots/static_files/Store_list/MediaStormStores20191201-133313-746.txt',\n",
       " '/home/jian/BigLots/static_files/Store_list/MediaStormStores20191101-134011-956.txt',\n",
       " '/home/jian/BigLots/static_files/Store_list/MediaStormStores20191001-134050-499.txt',\n",
       " '/home/jian/BigLots/static_files/Store_list/MediaStormStores20190901-135942-508.txt',\n",
       " '/home/jian/BigLots/static_files/Store_list/MediaStormStores20190801-135940-752.txt',\n",
       " '/home/jian/BigLots/static_files/Store_list/MediaStormStores20190701-134908-815.txt',\n",
       " '/home/jian/BigLots/static_files/Store_list/MediaStormStores20190601-134302-813.txt',\n",
       " '/home/jian/BigLots/static_files/Store_list/MediaStormStores20190501-135143-036.txt',\n",
       " '/home/jian/BigLots/static_files/Store_list/MediaStormStores20190401-134939-117.txt',\n",
       " '/home/jian/BigLots/static_files/Store_list/MediaStormStores20190301-134800-131.txt',\n",
       " '/home/jian/BigLots/static_files/Store_list/MediaStormStores20190201-133832-957.txt',\n",
       " '/home/jian/BigLots/static_files/Store_list/MediaStormStores20190101-135843-638.txt',\n",
       " '/home/jian/BigLots/static_files/Store_list/MediaStormStores20181201-135231-415.txt',\n",
       " '/home/jian/BigLots/static_files/Store_list/MediaStormStores20181101-134628-331.txt',\n",
       " '/home/jian/BigLots/static_files/Store_list/MediaStormStores20181001-135417-132.txt',\n",
       " '/home/jian/BigLots/static_files/Store_list/MediaStormStores20180901-133640-935.txt',\n",
       " '/home/jian/BigLots/static_files/Store_list/MediaStormStores20180801-133641-576.txt',\n",
       " '/home/jian/BigLots/static_files/Store_list/MediaStormStores20180703.txt',\n",
       " '/home/jian/BigLots/static_files/Store_list/MediaStormStores20171115.txt',\n",
       " '/home/jian/BigLots/static_files/Store_list/MediaStormStores20170913.txt']"
      ]
     },
     "execution_count": 3,
     "metadata": {},
     "output_type": "execute_result"
    }
   ],
   "source": [
    "store_list_files=glob.glob(\"/home/jian/BigLots/static_files/Store_list/MediaStormStores20*.txt\")\n",
    "store_list_files=sorted(store_list_files,reverse=True)\n",
    "latest_store_list=store_list_files[0]\n",
    "store_list_files.remove(latest_store_list)\n",
    "\n",
    "print(latest_store_list)\n",
    "store_list_files"
   ]
  },
  {
   "cell_type": "code",
   "execution_count": 4,
   "metadata": {},
   "outputs": [
    {
     "name": "stdout",
     "output_type": "stream",
     "text": [
      "13\n"
     ]
    },
    {
     "data": {
      "text/plain": [
       "['/home/jian/BigLots/2019_by_weeks/MediaStorm_2019-11-09/MediaStormDailySales20191112-115210-002.txt',\n",
       " '/home/jian/BigLots/2019_by_weeks/MediaStorm_2019-11-16/MediaStormDailySales20191119-112232-478.txt',\n",
       " '/home/jian/BigLots/2019_by_weeks/MediaStorm_2019-11-23/MediaStormDailySales20191126-112901-552.txt',\n",
       " '/home/jian/BigLots/2019_by_weeks/MediaStorm_2019-11-30/MediaStormDailySales20191203.txt',\n",
       " '/home/jian/BigLots/2019_by_weeks/MediaStorm_2019-12-07/MediaStormDailySales20191211.txt',\n",
       " '/home/jian/BigLots/2019_by_weeks/MediaStorm_2019-12-14/MediaStormDailySales20191217-195625-000.txt',\n",
       " '/home/jian/BigLots/2019_by_weeks/MediaStorm_2019-12-21/MediaStormDailySales20191226-122746-000.txt',\n",
       " '/home/jian/BigLots/2019_by_weeks/MediaStorm_2019-12-28/MediaStormDailySales20191231-112945-515.txt',\n",
       " '/home/jian/BigLots/2020_by_weeks/MediaStorm_2020-01-04/MediaStormDailySales20200107-112859-015.txt',\n",
       " '/home/jian/BigLots/2020_by_weeks/MediaStorm_2020-01-11/MediaStormDailySales20200114-115009-140.txt',\n",
       " '/home/jian/BigLots/2020_by_weeks/MediaStorm_2020-01-18/MediaStormDailySales20200121-111749-649.txt',\n",
       " '/home/jian/BigLots/2020_by_weeks/MediaStorm_2020-01-25/MediaStormDailySales20200128-111758-074.txt',\n",
       " '/home/jian/BigLots/2020_by_weeks/MediaStorm_2020-02-01/MediaStormDailySales20200204-111741-091.txt']"
      ]
     },
     "execution_count": 4,
     "metadata": {},
     "output_type": "execute_result"
    }
   ],
   "source": [
    "weeks_2019Q4=[datetime.date(2019,11,9)+datetime.timedelta(days=x*7) for x in range(13)]\n",
    "\n",
    "def recursive_file_gen(my_root_dir):\n",
    "    for root, dirs, files in os.walk(my_root_dir):\n",
    "        for file in files:\n",
    "            yield os.path.join(root, file)\n",
    "            \n",
    "folder_2019_by_week=\"/home/jian/BigLots/\"\n",
    "\n",
    "Q4_files_2019_all_types=list(recursive_file_gen(folder_2019_by_week))\n",
    "Q4_files_2019_all_types=[x for x in Q4_files_2019_all_types if \"aily\" in x]\n",
    "Q4_files_2019=[]\n",
    "for week_end_date in weeks_2019Q4:\n",
    "    file_path=[x for x in Q4_files_2019_all_types if str(week_end_date) in x]\n",
    "    Q4_files_2019=Q4_files_2019+file_path\n",
    "    \n",
    "print(len(Q4_files_2019))\n",
    "Q4_files_2019=sorted(Q4_files_2019)\n",
    "Q4_files_2019"
   ]
  },
  {
   "cell_type": "code",
   "execution_count": 5,
   "metadata": {},
   "outputs": [],
   "source": [
    "def week_end_dt(x):\n",
    "    if x.weekday()==6:\n",
    "        y=x+datetime.timedelta(days=6)\n",
    "    else:\n",
    "        y=x+datetime.timedelta(days=(5-x.weekday()))\n",
    "    return y\n"
   ]
  },
  {
   "cell_type": "code",
   "execution_count": 6,
   "metadata": {},
   "outputs": [],
   "source": [
    "def load_and_agg_df(file_list):\n",
    "    \n",
    "    i_counter=0\n",
    "\n",
    "    sales_agg_df=pd.DataFrame()\n",
    "    ids_by_week_store=pd.DataFrame()\n",
    "\n",
    "    for file_path in file_list:\n",
    "        df=pd.read_table(file_path,dtype=str,sep=\"|\",usecols=None,nrows=None)\n",
    "        df=df.drop_duplicates()            \n",
    "\n",
    "        df['transaction_dt']=df['transaction_dt'].apply(lambda x: datetime.datetime.strptime(x, \"%Y-%m-%d\").date())\n",
    "        df['item_transaction_amt']=df['item_transaction_amt'].astype(float)\n",
    "\n",
    "        df['rewards_label']=np.where(pd.isnull(df['customer_id_hashed']),\"Non_Rewards\",\"Rewards\")\n",
    "\n",
    "        date_max=df['transaction_dt'].max()\n",
    "        date_min=df['transaction_dt'].min()\n",
    "\n",
    "        # print(i_counter,date_max,date_min,datetime.datetime.now())\n",
    "\n",
    "        if ((date_max-date_min).days==6) & (date_max.weekday()==5):\n",
    "            df['week_end_dt']=date_max\n",
    "            df_agg_sales=df.groupby(['location_id','week_end_dt','rewards_label'])['item_transaction_amt'].sum().to_frame().reset_index()\n",
    "            df_agg_sales=df_agg_sales.rename(columns={\"item_transaction_amt\":\"sales\"})\n",
    "\n",
    "            df_agg_trans=df[['location_id','transaction_dt','week_end_dt','transaction_id','customer_id_hashed','rewards_label']].drop_duplicates()\n",
    "            df_agg_trans['transactions']=1\n",
    "            df_agg_trans=df_agg_trans.groupby(['location_id','week_end_dt','rewards_label'])['transactions'].sum().to_frame().reset_index()\n",
    "\n",
    "            df_agg_sales=pd.merge(df_agg_sales,df_agg_trans,on=['location_id','week_end_dt','rewards_label'],how=\"outer\")\n",
    "\n",
    "            df=df[df['rewards_label']==\"Rewards\"]\n",
    "            df=df[['location_id','week_end_dt','customer_id_hashed']].drop_duplicates()\n",
    "\n",
    "        else:\n",
    "            print(\"Date in the data not 7 days\",file_path)\n",
    "            df=pd.DataFrame()\n",
    "            df_agg_sales=pd.DataFrame()\n",
    "\n",
    "        sales_agg_df=sales_agg_df.append(df_agg_sales)\n",
    "        ids_by_week_store=ids_by_week_store.append(df)\n",
    "        i_counter+=1\n",
    "\n",
    "\n",
    "    return sales_agg_df,ids_by_week_store"
   ]
  },
  {
   "cell_type": "code",
   "execution_count": 7,
   "metadata": {},
   "outputs": [],
   "source": [
    "sales_agg_2019, ids_by_week_store_2019 = load_and_agg_df(Q4_files_2019)"
   ]
  },
  {
   "cell_type": "code",
   "execution_count": 8,
   "metadata": {},
   "outputs": [
    {
     "name": "stdout",
     "output_type": "stream",
     "text": [
      "13\n"
     ]
    }
   ],
   "source": [
    "list_new_sing_up_file=list(recursive_file_gen(\"/home/jian/BigLots/\"))\n",
    "list_new_sing_up_file=[x for x in list_new_sing_up_file if \"MasterWeekly\" in x]\n",
    "list_new_sing_up_file=[x for x in list_new_sing_up_file if \"/MediaStorm_\" in x]\n",
    "list_new_sing_up_file=[x for x in list_new_sing_up_file if x.split(\"/MediaStorm_\")[1][:10]>=\"2019-11-03\"]\n",
    "list_new_sing_up_file=[x for x in list_new_sing_up_file if x.split(\"/MediaStorm_\")[1][:10]<=\"2020-02-01\"]\n",
    "list_new_sing_up_file.sort()\n",
    "print(len(list_new_sing_up_file))"
   ]
  },
  {
   "cell_type": "code",
   "execution_count": 9,
   "metadata": {},
   "outputs": [
    {
     "data": {
      "text/plain": [
       "((1837901, 2), 1837901)"
      ]
     },
     "execution_count": 9,
     "metadata": {},
     "output_type": "execute_result"
    }
   ],
   "source": [
    "df_new_sign_ups=pd.DataFrame()\n",
    "for file in list_new_sing_up_file:\n",
    "    df=pd.read_table(file,dtype=str,sep=\"|\",usecols=['customer_id_hashed'])\n",
    "    df_new_sign_ups=df_new_sign_ups.append(df)\n",
    "df_new_sign_ups['id_new_sign_label']=\"new_sign_ups\"\n",
    "\n",
    "df_new_sign_ups=df_new_sign_ups.drop_duplicates()\n",
    "df_new_sign_ups.shape,df_new_sign_ups['customer_id_hashed'].nunique()"
   ]
  },
  {
   "cell_type": "code",
   "execution_count": 10,
   "metadata": {},
   "outputs": [],
   "source": [
    "ids_by_week_store_2019=pd.merge(ids_by_week_store_2019,df_new_sign_ups,on=\"customer_id_hashed\",how=\"left\")\n",
    "ids_by_week_store_2019['id_new_sign_label']=ids_by_week_store_2019['id_new_sign_label'].fillna(\"not_new_signed\")"
   ]
  },
  {
   "cell_type": "code",
   "execution_count": 61,
   "metadata": {},
   "outputs": [
    {
     "data": {
      "text/plain": [
       "10401633"
      ]
     },
     "execution_count": 61,
     "metadata": {},
     "output_type": "execute_result"
    }
   ],
   "source": [
    "ids_by_week_store_2019['customer_id_hashed'].nunique()"
   ]
  },
  {
   "cell_type": "code",
   "execution_count": 26,
   "metadata": {},
   "outputs": [
    {
     "data": {
      "text/plain": [
       "['Legacy', 'SOTF', 'Online']"
      ]
     },
     "execution_count": 26,
     "metadata": {},
     "output_type": "execute_result"
    }
   ],
   "source": [
    "ids_by_week_store_2019['Store_Type']=np.where(ids_by_week_store_2019['location_id']==\"6990\",\"Online\",\n",
    "                                    np.where(ids_by_week_store_2019['location_id'].isin(list_sotf),\"SOTF\",\"Legacy\")                                        \n",
    "                                    )\n",
    "ids_by_week_store_2019['Store_Type'].unique().tolist()"
   ]
  },
  {
   "cell_type": "code",
   "execution_count": 29,
   "metadata": {},
   "outputs": [
    {
     "data": {
      "text/plain": [
       "1423"
      ]
     },
     "execution_count": 29,
     "metadata": {},
     "output_type": "execute_result"
    }
   ],
   "source": [
    "df_store_count=ids_by_week_store_2019.groupby(\"Store_Type\")['location_id'].nunique().to_frame().reset_index()\n",
    "df_store_count['location_id'].sum()"
   ]
  },
  {
   "cell_type": "code",
   "execution_count": 32,
   "metadata": {},
   "outputs": [
    {
     "data": {
      "text/html": [
       "<div>\n",
       "<style scoped>\n",
       "    .dataframe tbody tr th:only-of-type {\n",
       "        vertical-align: middle;\n",
       "    }\n",
       "\n",
       "    .dataframe tbody tr th {\n",
       "        vertical-align: top;\n",
       "    }\n",
       "\n",
       "    .dataframe thead th {\n",
       "        text-align: right;\n",
       "    }\n",
       "</style>\n",
       "<table border=\"1\" class=\"dataframe\">\n",
       "  <thead>\n",
       "    <tr style=\"text-align: right;\">\n",
       "      <th></th>\n",
       "      <th>location_id</th>\n",
       "      <th>week_end_dt</th>\n",
       "      <th>rewards_label</th>\n",
       "      <th>sales</th>\n",
       "      <th>transactions</th>\n",
       "    </tr>\n",
       "  </thead>\n",
       "  <tbody>\n",
       "    <tr>\n",
       "      <th>0</th>\n",
       "      <td>1</td>\n",
       "      <td>2019-11-09</td>\n",
       "      <td>Non_Rewards</td>\n",
       "      <td>28304.05</td>\n",
       "      <td>860</td>\n",
       "    </tr>\n",
       "    <tr>\n",
       "      <th>1</th>\n",
       "      <td>1</td>\n",
       "      <td>2019-11-09</td>\n",
       "      <td>Rewards</td>\n",
       "      <td>48509.16</td>\n",
       "      <td>1156</td>\n",
       "    </tr>\n",
       "  </tbody>\n",
       "</table>\n",
       "</div>"
      ],
      "text/plain": [
       "  location_id week_end_dt rewards_label     sales  transactions\n",
       "0           1  2019-11-09   Non_Rewards  28304.05           860\n",
       "1           1  2019-11-09       Rewards  48509.16          1156"
      ]
     },
     "execution_count": 32,
     "metadata": {},
     "output_type": "execute_result"
    }
   ],
   "source": [
    "sales_agg_2019.head(2)"
   ]
  },
  {
   "cell_type": "code",
   "execution_count": 33,
   "metadata": {},
   "outputs": [
    {
     "data": {
      "text/plain": [
       "1604694585.9500022"
      ]
     },
     "execution_count": 33,
     "metadata": {},
     "output_type": "execute_result"
    }
   ],
   "source": [
    "sales_agg_2019['sales'].sum()"
   ]
  },
  {
   "cell_type": "code",
   "execution_count": 35,
   "metadata": {},
   "outputs": [
    {
     "data": {
      "text/plain": [
       "1.6046945859500021"
      ]
     },
     "execution_count": 35,
     "metadata": {},
     "output_type": "execute_result"
    }
   ],
   "source": [
    "1604694585.9500022/10**9"
   ]
  },
  {
   "cell_type": "code",
   "execution_count": 36,
   "metadata": {},
   "outputs": [
    {
     "name": "stdout",
     "output_type": "stream",
     "text": [
      "10401633\n"
     ]
    },
    {
     "data": {
      "text/html": [
       "<div>\n",
       "<style scoped>\n",
       "    .dataframe tbody tr th:only-of-type {\n",
       "        vertical-align: middle;\n",
       "    }\n",
       "\n",
       "    .dataframe tbody tr th {\n",
       "        vertical-align: top;\n",
       "    }\n",
       "\n",
       "    .dataframe thead th {\n",
       "        text-align: right;\n",
       "    }\n",
       "</style>\n",
       "<table border=\"1\" class=\"dataframe\">\n",
       "  <thead>\n",
       "    <tr style=\"text-align: right;\">\n",
       "      <th></th>\n",
       "      <th>Store_Type</th>\n",
       "      <th>customer_id_hashed</th>\n",
       "    </tr>\n",
       "  </thead>\n",
       "  <tbody>\n",
       "    <tr>\n",
       "      <th>0</th>\n",
       "      <td>Legacy</td>\n",
       "      <td>7019354</td>\n",
       "    </tr>\n",
       "    <tr>\n",
       "      <th>1</th>\n",
       "      <td>Online</td>\n",
       "      <td>60825</td>\n",
       "    </tr>\n",
       "    <tr>\n",
       "      <th>2</th>\n",
       "      <td>SOTF</td>\n",
       "      <td>3656217</td>\n",
       "    </tr>\n",
       "  </tbody>\n",
       "</table>\n",
       "</div>"
      ],
      "text/plain": [
       "  Store_Type  customer_id_hashed\n",
       "0     Legacy             7019354\n",
       "1     Online               60825\n",
       "2       SOTF             3656217"
      ]
     },
     "execution_count": 36,
     "metadata": {},
     "output_type": "execute_result"
    }
   ],
   "source": [
    "print(ids_by_week_store_2019['customer_id_hashed'].nunique())\n",
    "\n",
    "df_unique_shoppers_per_type=ids_by_week_store_2019.groupby(\"Store_Type\")['customer_id_hashed'].nunique().to_frame().reset_index()\n",
    "df_unique_shoppers_per_type"
   ]
  },
  {
   "cell_type": "code",
   "execution_count": 42,
   "metadata": {},
   "outputs": [
    {
     "data": {
      "text/html": [
       "<div>\n",
       "<style scoped>\n",
       "    .dataframe tbody tr th:only-of-type {\n",
       "        vertical-align: middle;\n",
       "    }\n",
       "\n",
       "    .dataframe tbody tr th {\n",
       "        vertical-align: top;\n",
       "    }\n",
       "\n",
       "    .dataframe thead th {\n",
       "        text-align: right;\n",
       "    }\n",
       "</style>\n",
       "<table border=\"1\" class=\"dataframe\">\n",
       "  <thead>\n",
       "    <tr style=\"text-align: right;\">\n",
       "      <th></th>\n",
       "      <th>Store_Type</th>\n",
       "      <th>customer_id_hashed</th>\n",
       "      <th>new_shopper_count</th>\n",
       "      <th>existing_shopper_count</th>\n",
       "    </tr>\n",
       "  </thead>\n",
       "  <tbody>\n",
       "    <tr>\n",
       "      <th>0</th>\n",
       "      <td>Legacy</td>\n",
       "      <td>7019354</td>\n",
       "      <td>761814</td>\n",
       "      <td>6257540</td>\n",
       "    </tr>\n",
       "    <tr>\n",
       "      <th>1</th>\n",
       "      <td>Online</td>\n",
       "      <td>60825</td>\n",
       "      <td>10492</td>\n",
       "      <td>50333</td>\n",
       "    </tr>\n",
       "    <tr>\n",
       "      <th>2</th>\n",
       "      <td>SOTF</td>\n",
       "      <td>3656217</td>\n",
       "      <td>409979</td>\n",
       "      <td>3246238</td>\n",
       "    </tr>\n",
       "  </tbody>\n",
       "</table>\n",
       "</div>"
      ],
      "text/plain": [
       "  Store_Type  customer_id_hashed  new_shopper_count  existing_shopper_count\n",
       "0     Legacy             7019354             761814                 6257540\n",
       "1     Online               60825              10492                   50333\n",
       "2       SOTF             3656217             409979                 3246238"
      ]
     },
     "execution_count": 42,
     "metadata": {},
     "output_type": "execute_result"
    }
   ],
   "source": [
    "df_unique_shoppers_per_type_2=ids_by_week_store_2019.groupby([\"Store_Type\",'id_new_sign_label'])['customer_id_hashed'].nunique().to_frame().reset_index()\n",
    "df_unique_shoppers_per_type_2=df_unique_shoppers_per_type_2.pivot_table(index=\"Store_Type\",columns=\"id_new_sign_label\",values=\"customer_id_hashed\").reset_index()\n",
    "df_unique_shoppers_per_type_2=df_unique_shoppers_per_type_2.rename(columns={\"new_sign_ups\":\"new_shopper_count\",\"not_new_signed\":\"existing_shopper_count\"})\n",
    "df_unique_shoppers_per_type=pd.merge(df_unique_shoppers_per_type,df_unique_shoppers_per_type_2,on=\"Store_Type\")\n",
    "df_unique_shoppers_per_type"
   ]
  },
  {
   "cell_type": "code",
   "execution_count": 39,
   "metadata": {},
   "outputs": [
    {
     "data": {
      "text/html": [
       "<div>\n",
       "<style scoped>\n",
       "    .dataframe tbody tr th:only-of-type {\n",
       "        vertical-align: middle;\n",
       "    }\n",
       "\n",
       "    .dataframe tbody tr th {\n",
       "        vertical-align: top;\n",
       "    }\n",
       "\n",
       "    .dataframe thead th {\n",
       "        text-align: right;\n",
       "    }\n",
       "</style>\n",
       "<table border=\"1\" class=\"dataframe\">\n",
       "  <thead>\n",
       "    <tr style=\"text-align: right;\">\n",
       "      <th></th>\n",
       "      <th>location_id</th>\n",
       "      <th>week_end_dt</th>\n",
       "      <th>rewards_label</th>\n",
       "      <th>sales</th>\n",
       "      <th>transactions</th>\n",
       "      <th>Store_Type</th>\n",
       "    </tr>\n",
       "  </thead>\n",
       "  <tbody>\n",
       "    <tr>\n",
       "      <th>0</th>\n",
       "      <td>1</td>\n",
       "      <td>2019-11-09</td>\n",
       "      <td>Non_Rewards</td>\n",
       "      <td>28304.05</td>\n",
       "      <td>860</td>\n",
       "      <td>SOTF</td>\n",
       "    </tr>\n",
       "    <tr>\n",
       "      <th>1</th>\n",
       "      <td>1</td>\n",
       "      <td>2019-11-09</td>\n",
       "      <td>Rewards</td>\n",
       "      <td>48509.16</td>\n",
       "      <td>1156</td>\n",
       "      <td>SOTF</td>\n",
       "    </tr>\n",
       "    <tr>\n",
       "      <th>2</th>\n",
       "      <td>1001</td>\n",
       "      <td>2019-11-09</td>\n",
       "      <td>Non_Rewards</td>\n",
       "      <td>22685.93</td>\n",
       "      <td>724</td>\n",
       "      <td>Legacy</td>\n",
       "    </tr>\n",
       "    <tr>\n",
       "      <th>3</th>\n",
       "      <td>1001</td>\n",
       "      <td>2019-11-09</td>\n",
       "      <td>Rewards</td>\n",
       "      <td>28111.85</td>\n",
       "      <td>627</td>\n",
       "      <td>Legacy</td>\n",
       "    </tr>\n",
       "    <tr>\n",
       "      <th>4</th>\n",
       "      <td>1003</td>\n",
       "      <td>2019-11-09</td>\n",
       "      <td>Non_Rewards</td>\n",
       "      <td>14093.81</td>\n",
       "      <td>673</td>\n",
       "      <td>Legacy</td>\n",
       "    </tr>\n",
       "  </tbody>\n",
       "</table>\n",
       "</div>"
      ],
      "text/plain": [
       "  location_id week_end_dt rewards_label     sales  transactions Store_Type\n",
       "0           1  2019-11-09   Non_Rewards  28304.05           860       SOTF\n",
       "1           1  2019-11-09       Rewards  48509.16          1156       SOTF\n",
       "2        1001  2019-11-09   Non_Rewards  22685.93           724     Legacy\n",
       "3        1001  2019-11-09       Rewards  28111.85           627     Legacy\n",
       "4        1003  2019-11-09   Non_Rewards  14093.81           673     Legacy"
      ]
     },
     "execution_count": 39,
     "metadata": {},
     "output_type": "execute_result"
    }
   ],
   "source": [
    "sales_agg_2019['Store_Type']=np.where(sales_agg_2019['location_id']==\"6990\",\"Online\",\n",
    "                                    np.where(sales_agg_2019['location_id'].isin(list_sotf),\"SOTF\",\"Legacy\")                                     \n",
    "                                    )\n",
    "\n",
    "sales_agg_2019.head(5)"
   ]
  },
  {
   "cell_type": "code",
   "execution_count": 58,
   "metadata": {},
   "outputs": [
    {
     "data": {
      "text/plain": [
       "(36882, 6)"
      ]
     },
     "execution_count": 58,
     "metadata": {},
     "output_type": "execute_result"
    }
   ],
   "source": [
    "sales_agg_2019.shape"
   ]
  },
  {
   "cell_type": "code",
   "execution_count": 52,
   "metadata": {},
   "outputs": [],
   "source": [
    "df_output_1_store_count=sales_agg_2019.groupby(\"Store_Type\")['location_id'].nunique().to_frame().reset_index()\n",
    "df_output_2_sales_rewards=sales_agg_2019[sales_agg_2019['rewards_label']==\"Rewards\"].groupby(\"Store_Type\")['sales','transactions'].sum().reset_index()\n",
    "df_output_2_sales_rewards=df_output_2_sales_rewards.rename(columns={\"sales\":\"rewards_sales\",\"transactions\":\"rewards_trans\"})\n",
    "df_output_2_sales_nonrewards=sales_agg_2019[sales_agg_2019['rewards_label']==\"Non_Rewards\"].groupby(\"Store_Type\")['sales','transactions'].sum().reset_index()\n",
    "df_output_2_sales_nonrewards=df_output_2_sales_nonrewards.rename(columns={\"sales\":\"Nonrewards_sales\",\"transactions\":\"Nonrewards_trans\"})\n",
    "df_output_2_sales=pd.merge(df_output_2_sales_rewards,df_output_2_sales_nonrewards,on=\"Store_Type\",how=\"outer\")"
   ]
  },
  {
   "cell_type": "code",
   "execution_count": 56,
   "metadata": {},
   "outputs": [
    {
     "data": {
      "text/html": [
       "<div>\n",
       "<style scoped>\n",
       "    .dataframe tbody tr th:only-of-type {\n",
       "        vertical-align: middle;\n",
       "    }\n",
       "\n",
       "    .dataframe tbody tr th {\n",
       "        vertical-align: top;\n",
       "    }\n",
       "\n",
       "    .dataframe thead th {\n",
       "        text-align: right;\n",
       "    }\n",
       "</style>\n",
       "<table border=\"1\" class=\"dataframe\">\n",
       "  <thead>\n",
       "    <tr style=\"text-align: right;\">\n",
       "      <th></th>\n",
       "      <th>Store_Type</th>\n",
       "      <th>location_id</th>\n",
       "      <th>rewards_sales</th>\n",
       "      <th>rewards_trans</th>\n",
       "      <th>Nonrewards_sales</th>\n",
       "      <th>Nonrewards_trans</th>\n",
       "      <th>customer_id_hashed</th>\n",
       "      <th>new_shopper_count</th>\n",
       "      <th>existing_shopper_count</th>\n",
       "    </tr>\n",
       "  </thead>\n",
       "  <tbody>\n",
       "    <tr>\n",
       "      <th>0</th>\n",
       "      <td>Legacy</td>\n",
       "      <td>958</td>\n",
       "      <td>6.598408e+08</td>\n",
       "      <td>16905174</td>\n",
       "      <td>3.696799e+08</td>\n",
       "      <td>13750826</td>\n",
       "      <td>7019354</td>\n",
       "      <td>761814</td>\n",
       "      <td>6257540</td>\n",
       "    </tr>\n",
       "    <tr>\n",
       "      <th>1</th>\n",
       "      <td>Online</td>\n",
       "      <td>1</td>\n",
       "      <td>7.152012e+06</td>\n",
       "      <td>83006</td>\n",
       "      <td>5.488623e+06</td>\n",
       "      <td>65095</td>\n",
       "      <td>60825</td>\n",
       "      <td>10492</td>\n",
       "      <td>50333</td>\n",
       "    </tr>\n",
       "    <tr>\n",
       "      <th>2</th>\n",
       "      <td>SOTF</td>\n",
       "      <td>464</td>\n",
       "      <td>3.597390e+08</td>\n",
       "      <td>8392235</td>\n",
       "      <td>2.027942e+08</td>\n",
       "      <td>6636078</td>\n",
       "      <td>3656217</td>\n",
       "      <td>409979</td>\n",
       "      <td>3246238</td>\n",
       "    </tr>\n",
       "  </tbody>\n",
       "</table>\n",
       "</div>"
      ],
      "text/plain": [
       "  Store_Type  location_id  rewards_sales  rewards_trans  Nonrewards_sales  \\\n",
       "0     Legacy          958   6.598408e+08       16905174      3.696799e+08   \n",
       "1     Online            1   7.152012e+06          83006      5.488623e+06   \n",
       "2       SOTF          464   3.597390e+08        8392235      2.027942e+08   \n",
       "\n",
       "   Nonrewards_trans  customer_id_hashed  new_shopper_count  \\\n",
       "0          13750826             7019354             761814   \n",
       "1             65095               60825              10492   \n",
       "2           6636078             3656217             409979   \n",
       "\n",
       "   existing_shopper_count  \n",
       "0                 6257540  \n",
       "1                   50333  \n",
       "2                 3246238  "
      ]
     },
     "execution_count": 56,
     "metadata": {},
     "output_type": "execute_result"
    }
   ],
   "source": [
    "df_output_final=pd.merge(df_output_1_store_count,df_output_2_sales,on=\"Store_Type\",how=\"outer\")\n",
    "df_output_final=pd.merge(df_output_final,df_unique_shoppers_per_type,on=\"Store_Type\",how=\"outer\")\n",
    "df_output_final"
   ]
  },
  {
   "cell_type": "code",
   "execution_count": 57,
   "metadata": {},
   "outputs": [
    {
     "data": {
      "text/html": [
       "<div>\n",
       "<style scoped>\n",
       "    .dataframe tbody tr th:only-of-type {\n",
       "        vertical-align: middle;\n",
       "    }\n",
       "\n",
       "    .dataframe tbody tr th {\n",
       "        vertical-align: top;\n",
       "    }\n",
       "\n",
       "    .dataframe thead th {\n",
       "        text-align: right;\n",
       "    }\n",
       "</style>\n",
       "<table border=\"1\" class=\"dataframe\">\n",
       "  <thead>\n",
       "    <tr style=\"text-align: right;\">\n",
       "      <th></th>\n",
       "      <th>Store_Type</th>\n",
       "      <th>store_count_Q4</th>\n",
       "      <th>total_sales</th>\n",
       "      <th>total_trans</th>\n",
       "      <th>rewards_sales</th>\n",
       "      <th>rewards_trans</th>\n",
       "      <th>Nonrewards_sales</th>\n",
       "      <th>Nonrewards_trans</th>\n",
       "      <th>total_shoppers</th>\n",
       "      <th>new_shopper_count</th>\n",
       "      <th>existing_shopper_count</th>\n",
       "    </tr>\n",
       "  </thead>\n",
       "  <tbody>\n",
       "    <tr>\n",
       "      <th>0</th>\n",
       "      <td>Legacy</td>\n",
       "      <td>958</td>\n",
       "      <td>1.029521e+09</td>\n",
       "      <td>30656000</td>\n",
       "      <td>6.598408e+08</td>\n",
       "      <td>16905174</td>\n",
       "      <td>3.696799e+08</td>\n",
       "      <td>13750826</td>\n",
       "      <td>7019354</td>\n",
       "      <td>761814</td>\n",
       "      <td>6257540</td>\n",
       "    </tr>\n",
       "    <tr>\n",
       "      <th>1</th>\n",
       "      <td>Online</td>\n",
       "      <td>1</td>\n",
       "      <td>1.264063e+07</td>\n",
       "      <td>148101</td>\n",
       "      <td>7.152012e+06</td>\n",
       "      <td>83006</td>\n",
       "      <td>5.488623e+06</td>\n",
       "      <td>65095</td>\n",
       "      <td>60825</td>\n",
       "      <td>10492</td>\n",
       "      <td>50333</td>\n",
       "    </tr>\n",
       "    <tr>\n",
       "      <th>2</th>\n",
       "      <td>SOTF</td>\n",
       "      <td>464</td>\n",
       "      <td>5.625332e+08</td>\n",
       "      <td>15028313</td>\n",
       "      <td>3.597390e+08</td>\n",
       "      <td>8392235</td>\n",
       "      <td>2.027942e+08</td>\n",
       "      <td>6636078</td>\n",
       "      <td>3656217</td>\n",
       "      <td>409979</td>\n",
       "      <td>3246238</td>\n",
       "    </tr>\n",
       "  </tbody>\n",
       "</table>\n",
       "</div>"
      ],
      "text/plain": [
       "  Store_Type  store_count_Q4   total_sales  total_trans  rewards_sales  \\\n",
       "0     Legacy             958  1.029521e+09     30656000   6.598408e+08   \n",
       "1     Online               1  1.264063e+07       148101   7.152012e+06   \n",
       "2       SOTF             464  5.625332e+08     15028313   3.597390e+08   \n",
       "\n",
       "   rewards_trans  Nonrewards_sales  Nonrewards_trans  total_shoppers  \\\n",
       "0       16905174      3.696799e+08          13750826         7019354   \n",
       "1          83006      5.488623e+06             65095           60825   \n",
       "2        8392235      2.027942e+08           6636078         3656217   \n",
       "\n",
       "   new_shopper_count  existing_shopper_count  \n",
       "0             761814                 6257540  \n",
       "1              10492                   50333  \n",
       "2             409979                 3246238  "
      ]
     },
     "execution_count": 57,
     "metadata": {},
     "output_type": "execute_result"
    }
   ],
   "source": [
    "df_output_final.insert(df_output_final.columns.tolist().index(\"location_id\")+1,\"total_sales\",df_output_final['rewards_sales']+df_output_final['Nonrewards_sales'])\n",
    "df_output_final.insert(df_output_final.columns.tolist().index(\"total_sales\")+1,\"total_trans\",df_output_final['rewards_trans']+df_output_final['Nonrewards_trans'])\n",
    "df_output_final=df_output_final.rename(columns={\"location_id\":\"store_count_Q4\",\"customer_id_hashed\":\"total_shoppers\"})\n",
    "df_output_final"
   ]
  },
  {
   "cell_type": "code",
   "execution_count": 59,
   "metadata": {},
   "outputs": [],
   "source": [
    "writer=pd.ExcelWriter(\"./BL_Q4_store_type_store_level_summary_JL_\"+str(datetime.datetime.now().date())+\".xlsx\",engine=\"xlsxwriter\")\n",
    "df_output_final.to_excel(writer,\"store_level_summary\",index=False)\n",
    "sales_agg_2019.to_excel(writer,\"Sales_data_by_Store\",index=False)\n",
    "writer.save()"
   ]
  },
  {
   "cell_type": "code",
   "execution_count": null,
   "metadata": {},
   "outputs": [],
   "source": []
  }
 ],
 "metadata": {
  "kernelspec": {
   "display_name": "Python 3",
   "language": "python",
   "name": "python3"
  },
  "language_info": {
   "codemirror_mode": {
    "name": "ipython",
    "version": 3
   },
   "file_extension": ".py",
   "mimetype": "text/x-python",
   "name": "python",
   "nbconvert_exporter": "python",
   "pygments_lexer": "ipython3",
   "version": "3.6.1"
  }
 },
 "nbformat": 4,
 "nbformat_minor": 2
}
