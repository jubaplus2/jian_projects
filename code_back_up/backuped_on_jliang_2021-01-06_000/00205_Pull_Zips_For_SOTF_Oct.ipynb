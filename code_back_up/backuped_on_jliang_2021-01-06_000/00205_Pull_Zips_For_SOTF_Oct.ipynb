{
 "cells": [
  {
   "cell_type": "code",
   "execution_count": 1,
   "metadata": {
    "collapsed": true
   },
   "outputs": [],
   "source": [
    "import datetime\n",
    "import os\n",
    "import pandas as pd\n",
    "import numpy \n",
    "from haversine import haversine\n",
    "import json\n",
    "import numpy as np\n",
    "zip_centers=json.load(open(\"/home/jian/Docs/Geo_mapping/updated_zip_centers_JL_2019-05-23.json\",\"r\"))"
   ]
  },
  {
   "cell_type": "code",
   "execution_count": 2,
   "metadata": {},
   "outputs": [
    {
     "data": {
      "text/plain": [
       "['BL_10.12 Zips_51 Stores', 'BL_10.26 Zips_3 Stores']"
      ]
     },
     "execution_count": 2,
     "metadata": {},
     "output_type": "execute_result"
    }
   ],
   "source": [
    "sotf_excel=pd.ExcelFile(\"./BL SOTF 10.12 Zips .xlsx\")\n",
    "sotf_excel.sheet_names"
   ]
  },
  {
   "cell_type": "code",
   "execution_count": 3,
   "metadata": {},
   "outputs": [],
   "source": [
    "df_sotf_1012=sotf_excel.parse('BL_10.12 Zips_51 Stores',dtype=str)\n",
    "df_sotf_1026=sotf_excel.parse('BL_10.26 Zips_3 Stores',dtype=str)\n"
   ]
  },
  {
   "cell_type": "code",
   "execution_count": 4,
   "metadata": {},
   "outputs": [
    {
     "data": {
      "text/plain": [
       "['unique_zips_full_footprint', 'view_by_TA', 'view_by_store', 'stores_removed']"
      ]
     },
     "execution_count": 4,
     "metadata": {},
     "output_type": "execute_result"
    }
   ],
   "source": [
    "TA_excel=pd.ExcelFile(\"/home/jian/Projects/Big_Lots/New_TA/TA_created_in_201906/final_output_20190718/BL_final_TA_updated_remove_8_and_22_stores_JL_2019-09-11.xlsx\")\n",
    "TA_excel.sheet_names"
   ]
  },
  {
   "cell_type": "code",
   "execution_count": 5,
   "metadata": {},
   "outputs": [
    {
     "data": {
      "text/plain": [
       "(1378, 17)"
      ]
     },
     "execution_count": 5,
     "metadata": {},
     "output_type": "execute_result"
    }
   ],
   "source": [
    "store_ta_zips=TA_excel.parse(\"view_by_store\",dtype=str)\n",
    "store_ta_zips.shape"
   ]
  },
  {
   "cell_type": "code",
   "execution_count": 6,
   "metadata": {},
   "outputs": [],
   "source": [
    "store_list_1012=df_sotf_1012['location_id'].unique().tolist()\n",
    "store_list_1026=df_sotf_1026['location_id'].unique().tolist()\n",
    "\n",
    "all_sotf=store_list_1012+store_list_1026"
   ]
  },
  {
   "cell_type": "code",
   "execution_count": 7,
   "metadata": {},
   "outputs": [],
   "source": [
    "df_existing=store_ta_zips[store_ta_zips['location_id'].isin(all_sotf)]\n"
   ]
  },
  {
   "cell_type": "code",
   "execution_count": 8,
   "metadata": {},
   "outputs": [
    {
     "name": "stdout",
     "output_type": "stream",
     "text": [
      "['4705', '4706', '4702', '4678', '5407', '5402', '5398', '5408']\n"
     ]
    }
   ],
   "source": [
    "store_list_new=[x for x in all_sotf if x not in df_existing['location_id'].tolist()]\n",
    "print(store_list_new)"
   ]
  },
  {
   "cell_type": "code",
   "execution_count": 9,
   "metadata": {},
   "outputs": [
    {
     "data": {
      "text/html": [
       "<div>\n",
       "<style>\n",
       "    .dataframe thead tr:only-child th {\n",
       "        text-align: right;\n",
       "    }\n",
       "\n",
       "    .dataframe thead th {\n",
       "        text-align: left;\n",
       "    }\n",
       "\n",
       "    .dataframe tbody tr th {\n",
       "        vertical-align: top;\n",
       "    }\n",
       "</style>\n",
       "<table border=\"1\" class=\"dataframe\">\n",
       "  <thead>\n",
       "    <tr style=\"text-align: right;\">\n",
       "      <th></th>\n",
       "      <th>location_id</th>\n",
       "      <th>location_desc</th>\n",
       "      <th>open_dt</th>\n",
       "      <th>close_dt</th>\n",
       "      <th>address_line_1</th>\n",
       "      <th>address_line_2</th>\n",
       "      <th>city_nm</th>\n",
       "      <th>state_nm</th>\n",
       "      <th>store_zip</th>\n",
       "      <th>longitude_meas</th>\n",
       "      <th>latitude_meas</th>\n",
       "      <th>sales_square_feet</th>\n",
       "      <th>furniture_sales_square_feet</th>\n",
       "    </tr>\n",
       "  </thead>\n",
       "  <tbody>\n",
       "  </tbody>\n",
       "</table>\n",
       "</div>"
      ],
      "text/plain": [
       "Empty DataFrame\n",
       "Columns: [location_id, location_desc, open_dt, close_dt, address_line_1, address_line_2, city_nm, state_nm, store_zip, longitude_meas, latitude_meas, sales_square_feet, furniture_sales_square_feet]\n",
       "Index: []"
      ]
     },
     "execution_count": 9,
     "metadata": {},
     "output_type": "execute_result"
    }
   ],
   "source": [
    "store_list=pd.read_table(\"/home/jian/BigLots/static_files/Store_list/MediaStormStores20190901-135942-508.txt\",dtype=str,sep=\"|\")\n",
    "store_list['latitude_meas']=store_list['latitude_meas'].astype(float)\n",
    "store_list['longitude_meas']=store_list['longitude_meas'].astype(float)\n",
    "store_list['zip_cd']=store_list['zip_cd'].apply(lambda x: x.strip().split(\"-\")[0].zfill(5))\n",
    "store_list=store_list.rename(columns={\"zip_cd\":\"store_zip\"})\n",
    "store_list[store_list['location_id'].isin(store_list_new)]\n",
    "# Empty df=all not opened stores"
   ]
  },
  {
   "cell_type": "code",
   "execution_count": 10,
   "metadata": {},
   "outputs": [],
   "source": [
    "# Google the location for new stores\n",
    "dict_new_store_address={}\n",
    "\n",
    "# 4705 \t370 AUTO CENTER CIRCLE\tNORTHRIDGE MALL\tSALINAS\tCA\t93907\n",
    "dict_new_store_address.update({\"4705\":{\"GoogleAddress\":\"370 Auto Center Cir, Salinas, CA 93906\",\"GoogleCoor\":[36.7148622,-121.6607234]}})\n",
    "\n",
    "# 4706 \t3170 CHILI AVE UNIT # T5\tCHILI PLAZA\tROCHESTER\tNY\t14624-5410\n",
    "dict_new_store_address.update({\"4706\":{\"GoogleAddress\":\"3170 Chili Ave T5, Rochester, NY 14624\",\"GoogleCoor\":[43.1085609,-77.7467213]}})\n",
    "\n",
    "# 4702 \t6375 MONTANA AVENUE\tKMART SHOPPING CENTER\tEL PASO\tTX\t79925-2044\n",
    "dict_new_store_address.update({\"4702\":{\"GoogleAddress\":\"6375 Montana Ave, El Paso, TX 79925\",\"GoogleCoor\":[31.7898616,-106.404997]}})\n",
    "\n",
    "# 4678 \t3501 EAST LINCOLNWAY\tCHEYENNE PLAZA\tCHEYENNE\tWY\t82001-6302\n",
    "dict_new_store_address.update({\"4678\":{\"GoogleAddress\":\"3501 E Lincolnway, Cheyenne, WY 82001\",\"GoogleCoor\":[41.1370675,-104.7674035]}})\n",
    "\n",
    "# 5407 \t14154 EAST WADE HAMPTON BLVD\tCOLLINS CENTER\tGREER\tSC\t29651-1554\n",
    "dict_new_store_address.update({\"5407\":{\"GoogleAddress\":\"14154 E Wade Hampton Blvd, Greer, SC 29651\",\"GoogleCoor\":[34.948923,-82.2118793]}})\n",
    "\n",
    "# 5402 \t14603 TELEGRAPH ROAD\tTOYS R US CENTER\tWOODBRIDGE\tVA\t22192-4601\n",
    "dict_new_store_address.update({\"5402\":{\"GoogleAddress\":\"14603 Telegraph Rd, Woodbridge, VA 22194\",\"GoogleCoor\":[38.6373899,-77.2914551]}})\n",
    "\n",
    "# 5398 \t275 ROUTE 18\tMIRACLE MALL\tEAST BRUNSWICK\tNJ\t08816-1904\n",
    "dict_new_store_address.update({\"5398\":{\"GoogleAddress\":\"275 NJ-18, East Brunswick, NJ 08816\",\"GoogleCoor\":[40.4592229,-74.4049486]}})\n",
    "\n",
    "# 5408 \t3420 SOUTHWEST DURHAM DRIVE\tPATTERSON PLACE\tDURHAM\tNC\t27707-3351\n",
    "dict_new_store_address.update({\"5408\":{\"GoogleAddress\":\"3420 SW Durham Dr, Durham, NC 27707\",\"GoogleCoor\":[35.9516434,-78.9887268]}})\n"
   ]
  },
  {
   "cell_type": "code",
   "execution_count": 11,
   "metadata": {},
   "outputs": [
    {
     "data": {
      "text/plain": [
       "{'4678': {'GoogleAddress': '3501 E Lincolnway, Cheyenne, WY 82001',\n",
       "  'GoogleCoor': [41.1370675, -104.7674035]},\n",
       " '4702': {'GoogleAddress': '6375 Montana Ave, El Paso, TX 79925',\n",
       "  'GoogleCoor': [31.7898616, -106.404997]},\n",
       " '4705': {'GoogleAddress': '370 Auto Center Cir, Salinas, CA 93906',\n",
       "  'GoogleCoor': [36.7148622, -121.6607234]},\n",
       " '4706': {'GoogleAddress': '3170 Chili Ave T5, Rochester, NY 14624',\n",
       "  'GoogleCoor': [43.1085609, -77.7467213]},\n",
       " '5398': {'GoogleAddress': '275 NJ-18, East Brunswick, NJ 08816',\n",
       "  'GoogleCoor': [40.4592229, -74.4049486]},\n",
       " '5402': {'GoogleAddress': '14603 Telegraph Rd, Woodbridge, VA 22194',\n",
       "  'GoogleCoor': [38.6373899, -77.2914551]},\n",
       " '5407': {'GoogleAddress': '14154 E Wade Hampton Blvd, Greer, SC 29651',\n",
       "  'GoogleCoor': [34.948923, -82.2118793]},\n",
       " '5408': {'GoogleAddress': '3420 SW Durham Dr, Durham, NC 27707',\n",
       "  'GoogleCoor': [35.9516434, -78.9887268]}}"
      ]
     },
     "execution_count": 11,
     "metadata": {},
     "output_type": "execute_result"
    }
   ],
   "source": [
    "dict_new_store_address"
   ]
  },
  {
   "cell_type": "code",
   "execution_count": 12,
   "metadata": {},
   "outputs": [],
   "source": [
    "df_output_existing=store_list[['location_id','state_nm','store_zip','latitude_meas','longitude_meas']]\n",
    "df_output_existing=df_output_existing[df_output_existing['location_id'].isin(df_existing['location_id'].unique().tolist())]\n",
    "df_zip_cd=pd.DataFrame()\n",
    "df_existing=df_existing.reset_index()\n",
    "del df_existing['index']\n",
    "for ind,row in df_existing.iterrows():\n",
    "    store_num=row['location_id']\n",
    "    zip_list_P=eval(row['trans_P_zips_70_within_TA'])\n",
    "    zip_list_S=eval(row['trans_S_zips_70_within_TA'])\n",
    "    zip_list_10=eval(row['zips_in_10'])\n",
    "    \n",
    "    df_P=pd.DataFrame({\"zip\":zip_list_P},index=[\"P\"]*len(zip_list_P))\n",
    "    df_S=pd.DataFrame({\"zip\":zip_list_S},index=[\"S\"]*len(zip_list_S))\n",
    "    df_10=pd.DataFrame({\"zip\":zip_list_10},index=[\"zip_in_10\"]*len(zip_list_10))\n",
    "    \n",
    "    df=pd.concat([df_P,df_S,df_10]).reset_index().rename(columns={\"index\":\"trans_flag\"})\n",
    "    df['location_id']=store_num\n",
    "    df_zip_cd=df_zip_cd.append(df)\n",
    "df_output_existing=pd.merge(df_output_existing,df_zip_cd,on=\"location_id\",how=\"left\")"
   ]
  },
  {
   "cell_type": "code",
   "execution_count": 13,
   "metadata": {},
   "outputs": [
    {
     "data": {
      "text/plain": [
       "[]"
      ]
     },
     "execution_count": 13,
     "metadata": {},
     "output_type": "execute_result"
    }
   ],
   "source": [
    "df_output_existing[(df_output_existing['latitude_meas']==0) | (df_output_existing['longitude_meas']==0)]['location_id'].unique().tolist()"
   ]
  },
  {
   "cell_type": "code",
   "execution_count": 15,
   "metadata": {},
   "outputs": [],
   "source": [
    "df_output_existing['Distance (mile)']=np.nan\n",
    "df_output_existing=df_output_existing.reset_index()\n",
    "del df_output_existing['index']\n",
    "\n",
    "for ind, row in df_output_existing.iterrows():\n",
    "    dist=haversine((row['latitude_meas'],row['longitude_meas']),zip_centers[row['zip']],miles=True)\n",
    "    df_output_existing.loc[ind,\"Distance (mile)\"]=dist\n",
    "    "
   ]
  },
  {
   "cell_type": "code",
   "execution_count": 20,
   "metadata": {},
   "outputs": [],
   "source": [
    "df_output_new=pd.DataFrame()\n",
    "for location_id in store_list_new:\n",
    "    state_nm=dict_new_store_address[location_id]['GoogleAddress'].split(\", \")[-1][:2]\n",
    "    store_zip=dict_new_store_address[location_id]['GoogleAddress'].split(\", \")[-1].split(\" \")[1]\n",
    "    latitude_meas=dict_new_store_address[location_id]['GoogleCoor'][0]\n",
    "    longitude_meas=dict_new_store_address[location_id]['GoogleCoor'][1]\n",
    "    df=pd.DataFrame()\n",
    "    for zip_cd,v in zip_centers.items():\n",
    "        dist=haversine((latitude_meas,longitude_meas),v,miles=True)\n",
    "        if dist<=10:\n",
    "            df=df.append(pd.DataFrame({\"zip\":zip_cd,\"Distance (mile)\":dist},index=[\"zip_in_10\"]))\n",
    "    df=df.reset_index().rename(columns={\"index\":\"trans_flag\"})\n",
    "    df['location_id']=location_id\n",
    "    df['state_nm']=state_nm\n",
    "    df['store_zip']=store_zip\n",
    "    df['latitude_meas']=latitude_meas\n",
    "    df['longitude_meas']=longitude_meas\n",
    "    df_output_new=df_output_new.append(df)\n",
    "    \n",
    "            "
   ]
  },
  {
   "cell_type": "code",
   "execution_count": 28,
   "metadata": {},
   "outputs": [],
   "source": [
    "df_output_all=df_output_existing.append(df_output_new)\n",
    "df_output_all['G.O.']=np.nan\n",
    "col_list=df_sotf_1012.columns.tolist()\n",
    "\n",
    "col_list_new=[]\n",
    "for col in col_list:\n",
    "    if col==\"revenue_flag\":\n",
    "        new_col=\"trans_flag\"\n",
    "    else:\n",
    "        new_col=col\n",
    "    col_list_new=col_list_new+[new_col]\n",
    "df_output_all=df_output_all[col_list_new]"
   ]
  },
  {
   "cell_type": "code",
   "execution_count": 30,
   "metadata": {},
   "outputs": [],
   "source": [
    "df_output_all['G.O.']=np.where(df_output_all['location_id'].isin(store_list_1012),\"1012\",\n",
    "                              np.where(df_output_all['location_id'].isin(store_list_1026),\"1026\",np.nan)\n",
    "                              )\n",
    "df_output_1012=df_output_all[df_output_all['G.O.']==\"1012\"]\n",
    "df_output_1026=df_output_all[df_output_all['G.O.']==\"1026\"]\n"
   ]
  },
  {
   "cell_type": "code",
   "execution_count": 37,
   "metadata": {
    "collapsed": true
   },
   "outputs": [],
   "source": [
    "df_unique_zips_1012=df_output_1012[['trans_flag','zip']].sort_values([\"zip\",\"trans_flag\"]).drop_duplicates(\"zip\")\n",
    "df_unique_zips_1026=df_output_1026[['trans_flag','zip']].sort_values([\"zip\",\"trans_flag\"]).drop_duplicates(\"zip\")"
   ]
  },
  {
   "cell_type": "code",
   "execution_count": null,
   "metadata": {
    "collapsed": true
   },
   "outputs": [],
   "source": []
  },
  {
   "cell_type": "code",
   "execution_count": 38,
   "metadata": {
    "collapsed": true
   },
   "outputs": [],
   "source": [
    "writer=pd.ExcelWriter(\"./BL_SOTF 10.12 Zips_JL_\"+str(datetime.datetime.now().date())+\".xlsx\",engine=\"xlsxwriter\")\n",
    "df_unique_zips_1012.to_excel(writer,'unique_zip_1012',index=False)\n",
    "df_unique_zips_1026.to_excel(writer,'unique_zip_1026',index=False)\n",
    "\n",
    "df_output_1012.to_excel(writer,'BL_10.12 Zips_51 Stores',index=False)\n",
    "df_output_1026.to_excel(writer,'BL_10.26 Zips_3 Stores',index=False)\n",
    "writer.save()"
   ]
  },
  {
   "cell_type": "code",
   "execution_count": null,
   "metadata": {
    "collapsed": true
   },
   "outputs": [],
   "source": []
  }
 ],
 "metadata": {
  "kernelspec": {
   "display_name": "Python 3",
   "language": "python",
   "name": "python3"
  },
  "language_info": {
   "codemirror_mode": {
    "name": "ipython",
    "version": 3
   },
   "file_extension": ".py",
   "mimetype": "text/x-python",
   "name": "python",
   "nbconvert_exporter": "python",
   "pygments_lexer": "ipython3",
   "version": "3.6.1"
  }
 },
 "nbformat": 4,
 "nbformat_minor": 2
}
