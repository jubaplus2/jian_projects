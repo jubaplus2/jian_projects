{
 "cells": [
  {
   "cell_type": "code",
   "execution_count": 2,
   "metadata": {},
   "outputs": [
    {
     "name": "stdout",
     "output_type": "stream",
     "text": [
      "last_sturday: 2019-11-09\n",
      "Year: 2019\n",
      "Quarter: 4\n",
      "Current_Quarter: 2019_Q4\n",
      "current_week: 1\n",
      "Final Quarter Name: 4\n",
      "current_quarter_beginning: 2019-11-03\n",
      "recent_complete_quarter_End: 2019-11-02\n",
      "recent_complete_quarter_Start: 2019-08-04\n"
     ]
    },
    {
     "data": {
      "text/plain": [
       "datetime.date(2019, 8, 4)"
      ]
     },
     "execution_count": 2,
     "metadata": {},
     "output_type": "execute_result"
    }
   ],
   "source": [
    "import datetime\n",
    "import numpy as np\n",
    "last_sturday = datetime.date(2019,11,9)\n",
    "print(\"last_sturday: \"+str(last_sturday))\n",
    "\n",
    "\n",
    "\n",
    "# In[3]:\n",
    "\n",
    "last_day_of_2018Q4=datetime.date(2019,2,2)\n",
    "\n",
    "year_of_quarter=(last_sturday-last_day_of_2018Q4).days/(52*7)\n",
    "year_of_quarter=str(int(2019+np.floor(year_of_quarter)))\n",
    "print(\"Year: \"+str(year_of_quarter))\n",
    "\n",
    "\n",
    "quarter_of_quarter=(last_sturday-last_day_of_2018Q4).days/7\n",
    "quarter_of_quarter=np.floor(quarter_of_quarter/13)%4\n",
    "quarter_of_quarter=str(int(1+quarter_of_quarter))\n",
    "print(\"Quarter: \"+str(quarter_of_quarter))\n",
    "\n",
    "str_current_quarter=year_of_quarter+\"_Q\"+quarter_of_quarter\n",
    "\n",
    "print(\"Current_Quarter: \"+str(str_current_quarter))\n",
    "\n",
    "current_week=int((last_sturday-last_day_of_2018Q4).days/7%13)\n",
    "print(\"current_week: \"+str(current_week))\n",
    "\n",
    "if current_week==0:\n",
    "    print(\"Need to change the 0th week to 13th week\")\n",
    "    quarter_of_quarter=int(quarter_of_quarter)-1\n",
    "    str_current_quarter=year_of_quarter+\"_Q\"+str(quarter_of_quarter)\n",
    "    current_week=13\n",
    "    print(\"Quarter: \"+str(quarter_of_quarter))\n",
    "    print(\"Current_Quarter: \"+str(str_current_quarter))\n",
    "    print(\"current_week: \"+str(current_week))\n",
    "    \n",
    "    \n",
    "print(\"Final Quarter Name: \"+str(quarter_of_quarter))\n",
    "\n",
    "\n",
    "# In[4]:\n",
    "\n",
    "'''\n",
    "Naming\n",
    "e.g. current is 2019Q3, 7th week\n",
    "Prior quarter: 2 quarter earlier, in example, 2019Q1\n",
    "Last/Recent quarter: 1 quarter earlier, in example, 2019Q2\n",
    "Current/Ongoing quarter: this quarter started but not end yet, in example, 2019Q3\n",
    "'''\n",
    "\n",
    "\n",
    "\n",
    "current_quarter_beginning=last_day_of_2018Q4+datetime.timedelta(days=(int(year_of_quarter)-2019)*52*7+                                                                (int(quarter_of_quarter)-1)*13*7+1)\n",
    "\n",
    "print(\"current_quarter_beginning: \"+str(current_quarter_beginning))\n",
    "\n",
    "\n",
    "recent_complete_quarter_End=current_quarter_beginning-datetime.timedelta(days=1)\n",
    "recent_complete_quarter_Start=recent_complete_quarter_End-datetime.timedelta(days=13*7-1)\n",
    "\n",
    "print(\"recent_complete_quarter_End: \"+str(recent_complete_quarter_End))\n",
    "print(\"recent_complete_quarter_Start: \"+str(recent_complete_quarter_Start))\n",
    "\n",
    "'''\n",
    "prior_quarter_End=recent_complete_quarter_End-datetime.timedelta(days=13*7)\n",
    "prior_quarter_Start=recent_complete_quarter_Start-datetime.timedelta(days=13*7)\n",
    "\n",
    "print(\"prior_quarter_End: \"+str(prior_quarter_End))\n",
    "print(\"prior_quarter_Start: \"+str(prior_quarter_Start))\n",
    "'''\n",
    "\n",
    "\n",
    "# In[5]:\n",
    "\n",
    "recent_complete_quarter_Start"
   ]
  },
  {
   "cell_type": "code",
   "execution_count": 3,
   "metadata": {},
   "outputs": [
    {
     "data": {
      "text/plain": [
       "datetime.date(2015, 7, 28)"
      ]
     },
     "execution_count": 3,
     "metadata": {},
     "output_type": "execute_result"
    }
   ],
   "source": [
    "lapsed_date_begin=recent_complete_quarter_Start-datetime.timedelta(days=1)-datetime.timedelta(days=(4*365+1+6)) # Prior quarter back 4years\n",
    "lapsed_date_begin"
   ]
  },
  {
   "cell_type": "code",
   "execution_count": null,
   "metadata": {
    "collapsed": true
   },
   "outputs": [],
   "source": []
  }
 ],
 "metadata": {
  "kernelspec": {
   "display_name": "Python 3",
   "language": "python",
   "name": "python3"
  },
  "language_info": {
   "codemirror_mode": {
    "name": "ipython",
    "version": 3
   },
   "file_extension": ".py",
   "mimetype": "text/x-python",
   "name": "python",
   "nbconvert_exporter": "python",
   "pygments_lexer": "ipython3",
   "version": "3.6.1"
  }
 },
 "nbformat": 4,
 "nbformat_minor": 2
}
