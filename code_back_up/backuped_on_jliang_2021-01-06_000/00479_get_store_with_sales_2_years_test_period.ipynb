{
 "cells": [
  {
   "cell_type": "code",
   "execution_count": 1,
   "metadata": {},
   "outputs": [
    {
     "data": {
      "text/plain": [
       "'/home/jian/Projects/Big_Lots/Analysis/2019_Q2/Planner_Requests/stores_in_2_DMA_20190701'"
      ]
     },
     "execution_count": 1,
     "metadata": {},
     "output_type": "execute_result"
    }
   ],
   "source": [
    "import pandas as pd\n",
    "import datetime\n",
    "import os\n",
    "\n",
    "os.getcwd()"
   ]
  },
  {
   "cell_type": "code",
   "execution_count": 2,
   "metadata": {},
   "outputs": [],
   "source": [
    "latest_agg_sales=pd.read_csv(\"/home/jian/BiglotsCode/outputs/combined_sales_long_2019-06-22.csv\",dtype=str,usecols=['location_id','sales','week_end_date'])\n",
    "latest_agg_sales['sales']=latest_agg_sales['sales'].astype(float)\n",
    "\n",
    "latest_agg_sales=latest_agg_sales[latest_agg_sales['sales']>0]\n"
   ]
  },
  {
   "cell_type": "code",
   "execution_count": 3,
   "metadata": {},
   "outputs": [],
   "source": [
    "week_end_dates_2019=[datetime.date(2019,6,22)+datetime.timedelta(days=7*x) for x in range(6)]\n",
    "week_end_dates_2018=[x - datetime.timedelta(days=52*7) for x in week_end_dates_2019]\n",
    "\n",
    "week_end_dates_2019=[str(x) for x in week_end_dates_2019]\n",
    "week_end_dates_2018=[str(x) for x in week_end_dates_2018]\n"
   ]
  },
  {
   "cell_type": "code",
   "execution_count": 4,
   "metadata": {},
   "outputs": [],
   "source": [
    "latest_agg_sales=latest_agg_sales[latest_agg_sales['week_end_date'].isin(week_end_dates_2019+week_end_dates_2018)]"
   ]
  },
  {
   "cell_type": "code",
   "execution_count": 5,
   "metadata": {},
   "outputs": [],
   "source": [
    "store_list_201906=pd.read_table(\"/home/jian/BigLots/static_files/Store_list/MediaStormStores20190601-134302-813.txt\",dtype=str,usecols=['location_id','zip_cd'],sep=\"|\")\n",
    "store_list_201907=pd.read_table(\"/home/jian/BigLots/static_files/Store_list/MediaStormStores20190701-134908-815.txt\",dtype=str,usecols=['location_id','zip_cd'],sep=\"|\")\n",
    "store_list_201807=pd.read_table(\"/home/jian/BigLots/static_files/Store_list/MediaStormStores20180703.txt\",dtype=str,usecols=['location_id','zip_cd'],sep=\"|\")\n",
    "\n",
    "all_store_list=[store_list_201906,store_list_201907,store_list_201807]\n",
    "\n",
    "all_store_df=pd.DataFrame()\n",
    "for df in all_store_list:\n",
    "    df['zip_cd']=df['zip_cd'].apply(lambda x: x.split(\"-\")[0].zfill(5))\n",
    "    all_store_df=all_store_df.append(df).drop_duplicates()"
   ]
  },
  {
   "cell_type": "code",
   "execution_count": 6,
   "metadata": {},
   "outputs": [
    {
     "name": "stdout",
     "output_type": "stream",
     "text": [
      "(1470, 2)\n",
      "1469\n"
     ]
    },
    {
     "data": {
      "text/html": [
       "<div>\n",
       "<style>\n",
       "    .dataframe thead tr:only-child th {\n",
       "        text-align: right;\n",
       "    }\n",
       "\n",
       "    .dataframe thead th {\n",
       "        text-align: left;\n",
       "    }\n",
       "\n",
       "    .dataframe tbody tr th {\n",
       "        vertical-align: top;\n",
       "    }\n",
       "</style>\n",
       "<table border=\"1\" class=\"dataframe\">\n",
       "  <thead>\n",
       "    <tr style=\"text-align: right;\">\n",
       "      <th></th>\n",
       "      <th>location_id</th>\n",
       "      <th>zip_cd</th>\n",
       "    </tr>\n",
       "  </thead>\n",
       "  <tbody>\n",
       "    <tr>\n",
       "      <th>1136</th>\n",
       "      <td>4604</td>\n",
       "      <td>85283</td>\n",
       "    </tr>\n",
       "    <tr>\n",
       "      <th>1002</th>\n",
       "      <td>4604</td>\n",
       "      <td>85282</td>\n",
       "    </tr>\n",
       "  </tbody>\n",
       "</table>\n",
       "</div>"
      ],
      "text/plain": [
       "     location_id zip_cd\n",
       "1136        4604  85283\n",
       "1002        4604  85282"
      ]
     },
     "execution_count": 6,
     "metadata": {},
     "output_type": "execute_result"
    }
   ],
   "source": [
    "print(all_store_df.shape)\n",
    "print(all_store_df['location_id'].nunique())\n",
    "\n",
    "all_store_df[all_store_df['location_id']==\"4604\"]"
   ]
  },
  {
   "cell_type": "code",
   "execution_count": 7,
   "metadata": {},
   "outputs": [],
   "source": [
    "Nielsen_DMA=pd.read_excel(\"/home/jian/Docs/Geo_mapping/Zips by DMA by County16-17 nielsen.xlsx\",skiprows=1,usecols=[0,2],dtype=str)\n",
    "Nielsen_DMA=Nielsen_DMA.drop_duplicates()\n",
    "Nielsen_DMA.columns=['zip_cd','DMA']\n",
    "# sorted(Nielsen_DMA['DMA'].unique().tolist())\n",
    "\n",
    "test_DMA_list=['CHARLOTTE','BUFFALO']\n",
    "Nielsen_DMA=Nielsen_DMA[Nielsen_DMA['DMA'].isin(test_DMA_list)].drop_duplicates()"
   ]
  },
  {
   "cell_type": "code",
   "execution_count": 8,
   "metadata": {},
   "outputs": [],
   "source": [
    "all_store_df=pd.merge(all_store_df,Nielsen_DMA,on=\"zip_cd\",how=\"left\")\n",
    "all_store_df=all_store_df[pd.notnull(all_store_df['DMA'])]"
   ]
  },
  {
   "cell_type": "code",
   "execution_count": 9,
   "metadata": {},
   "outputs": [
    {
     "data": {
      "text/plain": [
       "False"
      ]
     },
     "execution_count": 9,
     "metadata": {},
     "output_type": "execute_result"
    }
   ],
   "source": [
    "\"4604\" in all_store_df['location_id'].unique().tolist()"
   ]
  },
  {
   "cell_type": "code",
   "execution_count": 10,
   "metadata": {
    "collapsed": true
   },
   "outputs": [],
   "source": [
    "latest_agg_sales=pd.merge(latest_agg_sales,all_store_df,on=\"location_id\",how=\"left\")\n",
    "latest_agg_sales=latest_agg_sales[pd.notnull(latest_agg_sales['DMA'])]"
   ]
  },
  {
   "cell_type": "code",
   "execution_count": 12,
   "metadata": {
    "collapsed": true
   },
   "outputs": [],
   "source": [
    "latest_agg_sales=latest_agg_sales.sort_values([\"DMA\",\"location_id\",\"week_end_date\"])"
   ]
  },
  {
   "cell_type": "code",
   "execution_count": 11,
   "metadata": {},
   "outputs": [
    {
     "data": {
      "text/plain": [
       "'/home/jian/Projects/Big_Lots/Analysis/2019_Q2/Planner_Requests/stores_in_2_DMA_20190701'"
      ]
     },
     "execution_count": 11,
     "metadata": {},
     "output_type": "execute_result"
    }
   ],
   "source": [
    "os.getcwd()"
   ]
  },
  {
   "cell_type": "code",
   "execution_count": 16,
   "metadata": {},
   "outputs": [],
   "source": [
    "summary_store_weeks=latest_agg_sales.groupby(['DMA',\"location_id\"])['week_end_date'].count().to_frame().reset_index().sort_values([\"DMA\",\"location_id\",\"week_end_date\"])"
   ]
  },
  {
   "cell_type": "code",
   "execution_count": 17,
   "metadata": {},
   "outputs": [],
   "source": [
    "writer=pd.ExcelWriter('/home/jian/Projects/Big_Lots/Analysis/2019_Q2/Planner_Requests/stores_in_2_DMA_20190701/BL_stores_in_Charlotte_Buffalo_JL_'+str(datetime.datetime.now().date())+\".xlsx\",engine=\"xlsxwriter\")\n",
    "latest_agg_sales.to_excel(writer,\"sales_by_store_week\",index=False)\n",
    "summary_store_weeks.to_excel(writer,\"summary_count_of_weeks\",index=False)\n",
    "\n",
    "writer.save()"
   ]
  },
  {
   "cell_type": "code",
   "execution_count": null,
   "metadata": {
    "collapsed": true
   },
   "outputs": [],
   "source": []
  }
 ],
 "metadata": {
  "kernelspec": {
   "display_name": "Python 3",
   "language": "python",
   "name": "python3"
  },
  "language_info": {
   "codemirror_mode": {
    "name": "ipython",
    "version": 3
   },
   "file_extension": ".py",
   "mimetype": "text/x-python",
   "name": "python",
   "nbconvert_exporter": "python",
   "pygments_lexer": "ipython3",
   "version": "3.6.1"
  }
 },
 "nbformat": 4,
 "nbformat_minor": 2
}
