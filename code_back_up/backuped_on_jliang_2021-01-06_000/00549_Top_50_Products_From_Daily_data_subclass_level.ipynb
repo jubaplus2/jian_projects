{
 "cells": [
  {
   "cell_type": "code",
   "execution_count": 1,
   "metadata": {
    "collapsed": true
   },
   "outputs": [],
   "source": [
    "import pandas as pd\n",
    "import datetime\n",
    "import os\n",
    "import gc\n",
    "import glob\n",
    "import numpy as np"
   ]
  },
  {
   "cell_type": "code",
   "execution_count": 2,
   "metadata": {},
   "outputs": [
    {
     "name": "stdout",
     "output_type": "stream",
     "text": [
      "2018-06-16 2018-10-18 10:49:00.492525\n",
      "2018-06-23 2018-10-18 10:49:21.328301\n",
      "2018-06-30 2018-10-18 10:49:44.464228\n",
      "2018-07-07 2018-10-18 10:50:14.686604\n",
      "2018-07-14 2018-10-18 10:50:45.198653\n",
      "2018-07-21 2018-10-18 10:51:10.194605\n",
      "2018-07-28 2018-10-18 10:51:35.921820\n",
      "2018-08-04 2018-10-18 10:52:03.959453\n"
     ]
    }
   ],
   "source": [
    "start_week=datetime.date(2018,6,16)\n",
    "week_list=[]\n",
    "file_list=[]\n",
    "daily_data=pd.DataFrame()\n",
    "for i in range(8):\n",
    "    week=start_week+datetime.timedelta(days=7*i)\n",
    "    week_list=week_list+[str(week)]\n",
    "    folder=\"/home/jian/BigLots/2018 by weeks/MediaStorm_\"+str(week)+\"/*.txt\"\n",
    "    file=[x for x in glob.glob(folder) if \"Daily\" in x][0]\n",
    "    file_list=file_list+[file]\n",
    "    df=pd.read_table(file,sep=\"|\",dtype=str)\n",
    "    df=df[df['location_id']!=\"6990\"]\n",
    "    daily_data=daily_data.append(df)\n",
    "    print(week,datetime.datetime.now())\n",
    "    \n",
    "# can change to agg first and then app to make it faster\n",
    "daily_data['transaction_dt']=daily_data['transaction_dt'].apply(lambda x: datetime.datetime.strptime(x,\"%Y-%m-%d\").date())\n",
    "daily_data['Member_Type']=np.where(pd.isnull(daily_data['customer_id_hashed']),\"Non_Rewards\",\"Rewards\")\n",
    "daily_data['class_sub_class']=daily_data['class_code_id']+\"|\"+daily_data['subclass_id']\n",
    "daily_data['subclass_transaction_amt']=daily_data['subclass_transaction_amt'].astype(float)\n",
    "daily_data['subclass_transaction_units']=daily_data['subclass_transaction_units'].astype(int)"
   ]
  },
  {
   "cell_type": "code",
   "execution_count": null,
   "metadata": {
    "collapsed": true
   },
   "outputs": [],
   "source": []
  },
  {
   "cell_type": "code",
   "execution_count": 3,
   "metadata": {
    "collapsed": true
   },
   "outputs": [],
   "source": [
    "product_taxonomy=pd.read_table(\"/home/jian/BigLots/static_files/ProductTaxonomy/MediaStormProductTaxonomy20181001-135417-040.txt\",dtype=str,sep=\"|\")\n",
    "product_taxonomy['class_sub_class']=product_taxonomy['class_code_id']+\"|\"+product_taxonomy['subclass_id']\n",
    "product_taxonomy=product_taxonomy[['class_sub_class','subclass_desc']].drop_duplicates()"
   ]
  },
  {
   "cell_type": "code",
   "execution_count": 4,
   "metadata": {
    "collapsed": true
   },
   "outputs": [],
   "source": [
    "df_all_stores_sales_by_day=daily_data.groupby(['location_id','Member_Type','transaction_dt','class_sub_class'])['subclass_transaction_amt'].sum().to_frame().reset_index()\n",
    "df_all_stores_sales_by_day['weekday']=df_all_stores_sales_by_day['transaction_dt'].apply(lambda x: x.weekday())\n",
    "df_all_stores_sales_by_day['group']=np.where(df_all_stores_sales_by_day['weekday']==6,\"Sunday\",\n",
    "                                             np.where(df_all_stores_sales_by_day['weekday']==5,\"Saturday\",\n",
    "                                                      \"Mon_Fri\")\n",
    "                                            )\n",
    "\n",
    "\n",
    "df_all_stores_units_by_day=daily_data.groupby(['location_id','Member_Type','transaction_dt','class_sub_class'])['subclass_transaction_units'].sum().to_frame().reset_index()\n",
    "df_all_stores_units_by_day['weekday']=df_all_stores_units_by_day['transaction_dt'].apply(lambda x: x.weekday())\n",
    "df_all_stores_units_by_day['group']=np.where(df_all_stores_units_by_day['weekday']==6,\"Sunday\",\n",
    "                                             np.where(df_all_stores_units_by_day['weekday']==5,\"Saturday\",\n",
    "                                                      \"Mon_Fri\")\n",
    "                                            )"
   ]
  },
  {
   "cell_type": "code",
   "execution_count": 5,
   "metadata": {},
   "outputs": [
    {
     "data": {
      "text/plain": [
       "3"
      ]
     },
     "execution_count": 5,
     "metadata": {},
     "output_type": "execute_result"
    }
   ],
   "source": [
    "1+2"
   ]
  },
  {
   "cell_type": "code",
   "execution_count": null,
   "metadata": {
    "collapsed": true
   },
   "outputs": [],
   "source": [
    "# Pass the following due to momery limitation"
   ]
  },
  {
   "cell_type": "code",
   "execution_count": 6,
   "metadata": {
    "collapsed": true
   },
   "outputs": [],
   "source": [
    "df_all_stores_sales_by_day=pd.merge(df_all_stores_sales_by_day,product_taxonomy,on=\"class_sub_class\",how=\"left\")\n",
    "df_all_stores_units_by_day=pd.merge(df_all_stores_units_by_day,product_taxonomy,on=\"class_sub_class\",how=\"left\")\n"
   ]
  },
  {
   "cell_type": "code",
   "execution_count": 7,
   "metadata": {
    "collapsed": true
   },
   "outputs": [],
   "source": [
    "output_1_Saturday_Rewards_sales=df_all_stores_sales_by_day[(df_all_stores_sales_by_day['Member_Type']==\"Rewards\") & (df_all_stores_sales_by_day['group']==\"Saturday\")]\n",
    "output_1_Saturday_Rewards_sales=output_1_Saturday_Rewards_sales.groupby(['subclass_desc','class_sub_class','group'])['subclass_transaction_amt'].sum().to_frame().reset_index().sort_values(['subclass_transaction_amt'],ascending=False).reset_index()\n",
    "del output_1_Saturday_Rewards_sales['index']\n",
    "\n",
    "output_2_Sunday_Rewards_sales=df_all_stores_sales_by_day[(df_all_stores_sales_by_day['Member_Type']==\"Rewards\") & (df_all_stores_sales_by_day['group']==\"Sunday\")]\n",
    "output_2_Sunday_Rewards_sales=output_2_Sunday_Rewards_sales.groupby(['subclass_desc','class_sub_class','group'])['subclass_transaction_amt'].sum().to_frame().reset_index().sort_values(['subclass_transaction_amt'],ascending=False).reset_index()\n",
    "del output_2_Sunday_Rewards_sales['index']\n",
    "\n",
    "output_3_Mon_Fri_Rewards_sales=df_all_stores_sales_by_day[(df_all_stores_sales_by_day['Member_Type']==\"Rewards\") & (df_all_stores_sales_by_day['group']==\"Mon_Fri\")]\n",
    "output_3_Mon_Fri_Rewards_sales=output_3_Mon_Fri_Rewards_sales.groupby(['subclass_desc','class_sub_class','group'])['subclass_transaction_amt'].sum().to_frame().reset_index().sort_values(['subclass_transaction_amt'],ascending=False).reset_index()\n",
    "del output_3_Mon_Fri_Rewards_sales['index']\n",
    "\n",
    "output_4_Saturday_NonRewards_sales=df_all_stores_sales_by_day[(df_all_stores_sales_by_day['Member_Type']==\"Non_Rewards\") & (df_all_stores_sales_by_day['group']==\"Saturday\")]\n",
    "output_4_Saturday_NonRewards_sales=output_4_Saturday_NonRewards_sales.groupby(['subclass_desc','class_sub_class','group'])['subclass_transaction_amt'].sum().to_frame().reset_index().sort_values(['subclass_transaction_amt'],ascending=False).reset_index()\n",
    "del output_4_Saturday_NonRewards_sales['index']\n",
    "\n",
    "output_5_Sunday_NonRewards_sales=df_all_stores_sales_by_day[(df_all_stores_sales_by_day['Member_Type']==\"Non_Rewards\") & (df_all_stores_sales_by_day['group']==\"Sunday\")]\n",
    "output_5_Sunday_NonRewards_sales=output_5_Sunday_NonRewards_sales.groupby(['subclass_desc','class_sub_class','group'])['subclass_transaction_amt'].sum().to_frame().reset_index().sort_values(['subclass_transaction_amt'],ascending=False).reset_index()\n",
    "del output_5_Sunday_NonRewards_sales['index']\n",
    "\n",
    "output_6_Mon_Fri_NonRewards_sales=df_all_stores_sales_by_day[(df_all_stores_sales_by_day['Member_Type']==\"Non_Rewards\") & (df_all_stores_sales_by_day['group']==\"Mon_Fri\")]\n",
    "output_6_Mon_Fri_NonRewards_sales=output_6_Mon_Fri_NonRewards_sales.groupby(['subclass_desc','class_sub_class','group'])['subclass_transaction_amt'].sum().to_frame().reset_index().sort_values(['subclass_transaction_amt'],ascending=False).reset_index()\n",
    "del output_6_Mon_Fri_NonRewards_sales['index']"
   ]
  },
  {
   "cell_type": "code",
   "execution_count": 8,
   "metadata": {},
   "outputs": [
    {
     "data": {
      "text/html": [
       "<div>\n",
       "<style>\n",
       "    .dataframe thead tr:only-child th {\n",
       "        text-align: right;\n",
       "    }\n",
       "\n",
       "    .dataframe thead th {\n",
       "        text-align: left;\n",
       "    }\n",
       "\n",
       "    .dataframe tbody tr th {\n",
       "        vertical-align: top;\n",
       "    }\n",
       "</style>\n",
       "<table border=\"1\" class=\"dataframe\">\n",
       "  <thead>\n",
       "    <tr style=\"text-align: right;\">\n",
       "      <th></th>\n",
       "      <th>location_id</th>\n",
       "      <th>Member_Type</th>\n",
       "      <th>transaction_dt</th>\n",
       "      <th>class_sub_class</th>\n",
       "      <th>subclass_transaction_units</th>\n",
       "      <th>weekday</th>\n",
       "      <th>group</th>\n",
       "      <th>subclass_desc</th>\n",
       "    </tr>\n",
       "  </thead>\n",
       "  <tbody>\n",
       "    <tr>\n",
       "      <th>0</th>\n",
       "      <td>1</td>\n",
       "      <td>Non_Rewards</td>\n",
       "      <td>2018-06-10</td>\n",
       "      <td>11001|1</td>\n",
       "      <td>6</td>\n",
       "      <td>6</td>\n",
       "      <td>Sunday</td>\n",
       "      <td>Chocolate Bagged</td>\n",
       "    </tr>\n",
       "    <tr>\n",
       "      <th>1</th>\n",
       "      <td>1</td>\n",
       "      <td>Non_Rewards</td>\n",
       "      <td>2018-06-10</td>\n",
       "      <td>11001|10</td>\n",
       "      <td>8</td>\n",
       "      <td>6</td>\n",
       "      <td>Sunday</td>\n",
       "      <td>Gum And Mints</td>\n",
       "    </tr>\n",
       "  </tbody>\n",
       "</table>\n",
       "</div>"
      ],
      "text/plain": [
       "  location_id  Member_Type transaction_dt class_sub_class  \\\n",
       "0           1  Non_Rewards     2018-06-10         11001|1   \n",
       "1           1  Non_Rewards     2018-06-10        11001|10   \n",
       "\n",
       "   subclass_transaction_units  weekday   group     subclass_desc  \n",
       "0                           6        6  Sunday  Chocolate Bagged  \n",
       "1                           8        6  Sunday     Gum And Mints  "
      ]
     },
     "execution_count": 8,
     "metadata": {},
     "output_type": "execute_result"
    }
   ],
   "source": [
    "df_all_stores_units_by_day.head(2)"
   ]
  },
  {
   "cell_type": "code",
   "execution_count": 9,
   "metadata": {
    "collapsed": true
   },
   "outputs": [],
   "source": [
    "output_1_Saturday_Rewards_units=df_all_stores_units_by_day[(df_all_stores_units_by_day['Member_Type']==\"Rewards\") & (df_all_stores_units_by_day['group']==\"Saturday\")]\n",
    "output_1_Saturday_Rewards_units=output_1_Saturday_Rewards_units.groupby(['subclass_desc','class_sub_class','group'])['subclass_transaction_units'].sum().to_frame().reset_index().sort_values(['subclass_transaction_units'],ascending=False).reset_index()\n",
    "del output_1_Saturday_Rewards_units['index']\n",
    "\n",
    "output_2_Sunday_Rewards_units=df_all_stores_units_by_day[(df_all_stores_units_by_day['Member_Type']==\"Rewards\") & (df_all_stores_units_by_day['group']==\"Sunday\")]\n",
    "output_2_Sunday_Rewards_units=output_2_Sunday_Rewards_units.groupby(['subclass_desc','class_sub_class','group'])['subclass_transaction_units'].sum().to_frame().reset_index().sort_values(['subclass_transaction_units'],ascending=False).reset_index()\n",
    "del output_2_Sunday_Rewards_units['index']\n",
    "\n",
    "output_3_Mon_Fri_Rewards_units=df_all_stores_units_by_day[(df_all_stores_units_by_day['Member_Type']==\"Rewards\") & (df_all_stores_units_by_day['group']==\"Mon_Fri\")]\n",
    "output_3_Mon_Fri_Rewards_units=output_3_Mon_Fri_Rewards_units.groupby(['subclass_desc','class_sub_class','group'])['subclass_transaction_units'].sum().to_frame().reset_index().sort_values(['subclass_transaction_units'],ascending=False).reset_index()\n",
    "del output_3_Mon_Fri_Rewards_units['index']\n",
    "\n",
    "output_4_Saturday_NonRewards_units=df_all_stores_units_by_day[(df_all_stores_units_by_day['Member_Type']==\"Non_Rewards\") & (df_all_stores_units_by_day['group']==\"Saturday\")]\n",
    "output_4_Saturday_NonRewards_units=output_4_Saturday_NonRewards_units.groupby(['subclass_desc','class_sub_class','group'])['subclass_transaction_units'].sum().to_frame().reset_index().sort_values(['subclass_transaction_units'],ascending=False).reset_index()\n",
    "del output_4_Saturday_NonRewards_units['index']\n",
    "\n",
    "output_5_Sunday_NonRewards_units=df_all_stores_units_by_day[(df_all_stores_units_by_day['Member_Type']==\"Non_Rewards\") & (df_all_stores_units_by_day['group']==\"Sunday\")]\n",
    "output_5_Sunday_NonRewards_units=output_5_Sunday_NonRewards_units.groupby(['subclass_desc','class_sub_class','group'])['subclass_transaction_units'].sum().to_frame().reset_index().sort_values(['subclass_transaction_units'],ascending=False).reset_index()\n",
    "del output_5_Sunday_NonRewards_units['index']\n",
    "\n",
    "output_6_Mon_Fri_NonRewards_units=df_all_stores_units_by_day[(df_all_stores_units_by_day['Member_Type']==\"Non_Rewards\") & (df_all_stores_units_by_day['group']==\"Mon_Fri\")]\n",
    "output_6_Mon_Fri_NonRewards_units=output_6_Mon_Fri_NonRewards_units.groupby(['subclass_desc','class_sub_class','group'])['subclass_transaction_units'].sum().to_frame().reset_index().sort_values(['subclass_transaction_units'],ascending=False).reset_index()\n",
    "del output_6_Mon_Fri_NonRewards_units['index']\n"
   ]
  },
  {
   "cell_type": "code",
   "execution_count": 10,
   "metadata": {
    "collapsed": true
   },
   "outputs": [],
   "source": [
    "writer=pd.ExcelWriter(\"/home/jian/Projects/Big_Lots/Analysis/2018_Q3/Top_50_Products/BL_Products_Sales_by_rewards_mem_weekday_JL_\"+str(datetime.datetime.now().date())+\".xlsx\", engine=\"xlsxwriter\")\n",
    "output_1_Saturday_Rewards_sales.to_excel(writer,'output_1_Saturday_R_sales',index=False)\n",
    "output_2_Sunday_Rewards_sales.to_excel(writer,'output_2_Sunday_R_sales',index=False)\n",
    "output_3_Mon_Fri_Rewards_sales.to_excel(writer,'output_3_Mon_Fri_R_sales',index=False)\n",
    "output_4_Saturday_NonRewards_sales.to_excel(writer,'output_4_Saturday_NonR_sales',index=False)\n",
    "output_5_Sunday_NonRewards_sales.to_excel(writer,'output_5_Sunday_NonR_sales',index=False)\n",
    "output_6_Mon_Fri_NonRewards_sales.to_excel(writer,'output_6_Mon_Fri_NonR_sales',index=False)\n",
    "writer.save()\n",
    "\n",
    "del output_1_Saturday_Rewards_sales\n",
    "del output_2_Sunday_Rewards_sales\n",
    "del output_3_Mon_Fri_Rewards_sales\n",
    "del output_4_Saturday_NonRewards_sales\n",
    "del output_5_Sunday_NonRewards_sales\n",
    "del output_6_Mon_Fri_NonRewards_sales\n"
   ]
  },
  {
   "cell_type": "code",
   "execution_count": 11,
   "metadata": {
    "collapsed": true
   },
   "outputs": [],
   "source": [
    "writer=pd.ExcelWriter(\"/home/jian/Projects/Big_Lots/Analysis/2018_Q3/Top_50_Products/BL_Products_Units_by_rewards_mem_weekday_JL_\"+str(datetime.datetime.now().date())+\".xlsx\", engine=\"xlsxwriter\")\n",
    "output_1_Saturday_Rewards_units.to_excel(writer,'output_1_Saturday_R_units',index=False)\n",
    "output_2_Sunday_Rewards_units.to_excel(writer,'output_2_Sunday_R_units',index=False)\n",
    "output_3_Mon_Fri_Rewards_units.to_excel(writer,'output_3_Mon_Fri_R_units',index=False)\n",
    "output_4_Saturday_NonRewards_units.to_excel(writer,'output_4_Saturday_NonR_units',index=False)\n",
    "output_5_Sunday_NonRewards_units.to_excel(writer,'output_5_Sunday_NonR_units',index=False)\n",
    "output_6_Mon_Fri_NonRewards_units.to_excel(writer,'output_6_Mon_Fri_NonR_units',index=False)\n",
    "writer.save()\n",
    "\n",
    "del output_1_Saturday_Rewards_units\n",
    "del output_2_Sunday_Rewards_units\n",
    "del output_3_Mon_Fri_Rewards_units\n",
    "del output_4_Saturday_NonRewards_units\n",
    "del output_5_Sunday_NonRewards_units\n",
    "del output_6_Mon_Fri_NonRewards_units\n"
   ]
  },
  {
   "cell_type": "code",
   "execution_count": 12,
   "metadata": {},
   "outputs": [
    {
     "data": {
      "text/plain": [
       "237"
      ]
     },
     "execution_count": 12,
     "metadata": {},
     "output_type": "execute_result"
    }
   ],
   "source": [
    "del df_all_stores_units_by_day\n",
    "del df_all_stores_sales_by_day\n",
    "\n",
    "gc.collect()"
   ]
  },
  {
   "cell_type": "code",
   "execution_count": 7,
   "metadata": {
    "collapsed": true
   },
   "outputs": [],
   "source": [
    "# Keep rewards only to save memary \n",
    "daily_data=daily_data[~pd.isnull(daily_data['customer_id_hashed'])]\n",
    "daily_data=daily_data.reset_index()\n",
    "del daily_data['index']"
   ]
  },
  {
   "cell_type": "markdown",
   "metadata": {
    "collapsed": true
   },
   "source": [
    "# rewards by deciles"
   ]
  },
  {
   "cell_type": "code",
   "execution_count": 8,
   "metadata": {
    "collapsed": true
   },
   "outputs": [],
   "source": [
    "df_deciles_SP=pd.read_csv(\"/home/jian/Projects/Big_Lots/Loyal_members/Segment_Movement_analysis/Data_From_Sp/df_crm_finalscore_0922_data.csv\",\n",
    "                          dtype=str,usecols=['customer_id_hashed','frmindex','zipcodegroup'])\n",
    "df_deciles_SP=df_deciles_SP.drop_duplicates()"
   ]
  },
  {
   "cell_type": "code",
   "execution_count": 9,
   "metadata": {
    "collapsed": true
   },
   "outputs": [],
   "source": [
    "daily_data=pd.merge(daily_data,df_deciles_SP,on=\"customer_id_hashed\",how=\"left\")"
   ]
  },
  {
   "cell_type": "code",
   "execution_count": 10,
   "metadata": {
    "collapsed": true
   },
   "outputs": [],
   "source": [
    "daily_data_rewards_decile=daily_data[~pd.isnull(daily_data['frmindex'])]\n",
    "del daily_data"
   ]
  },
  {
   "cell_type": "code",
   "execution_count": 11,
   "metadata": {
    "collapsed": true
   },
   "outputs": [],
   "source": [
    "def count_unit(x):\n",
    "    y=len(set(x))\n",
    "    return y\n",
    "daily_data_rewards_decile_count_mem=daily_data_rewards_decile.groupby(['frmindex'])['customer_id_hashed'].apply(count_unit).to_frame().reset_index()\n",
    "daily_data_rewards_decile_count_mem=daily_data_rewards_decile_count_mem.rename(columns={\"customer_id_hashed\":\"members_count\"})\n",
    "\n",
    "daily_data_rewards_PST_count_mem=daily_data_rewards_decile.groupby(['zipcodegroup'])['customer_id_hashed'].apply(count_unit).to_frame().reset_index()\n",
    "daily_data_rewards_PST_count_mem=daily_data_rewards_PST_count_mem.rename(columns={\"customer_id_hashed\":\"members_count\"})\n"
   ]
  },
  {
   "cell_type": "code",
   "execution_count": null,
   "metadata": {
    "collapsed": true
   },
   "outputs": [],
   "source": [
    "daily_data_rewards_decile_by_day_pro_units=daily_data_rewards_decile.groupby(['location_id','frmindex','transaction_dt','class_sub_class'])['subclass_transaction_units'].sum().to_frame().reset_index()\n",
    "daily_data_rewards_decile_by_day_pro_sales=daily_data_rewards_decile.groupby(['location_id','frmindex','transaction_dt','class_sub_class'])['subclass_transaction_amt'].sum().to_frame().reset_index()\n",
    "\n",
    "daily_data_rewards_decile_by_day_pro_units=pd.merge(daily_data_rewards_decile_by_day_pro_units,product_taxonomy,on=\"class_sub_class\",how=\"left\")\n",
    "daily_data_rewards_decile_by_day_pro_sales=pd.merge(daily_data_rewards_decile_by_day_pro_sales,product_taxonomy,on=\"class_sub_class\",how=\"left\")\n"
   ]
  },
  {
   "cell_type": "code",
   "execution_count": null,
   "metadata": {
    "collapsed": true
   },
   "outputs": [],
   "source": [
    "daily_data_rewards_decile_by_day_pro_units['weekday']=daily_data_rewards_decile_by_day_pro_units['transaction_dt'].apply(lambda x: x.weekday())\n",
    "daily_data_rewards_decile_by_day_pro_units['group']=np.where(daily_data_rewards_decile_by_day_pro_units['weekday']==6,\"Sunday\",\n",
    "                                             np.where(daily_data_rewards_decile_by_day_pro_units['weekday']==5,\"Saturday\",\n",
    "                                                      \"Mon_Fri\")\n",
    "                                            )\n",
    "daily_data_rewards_decile_by_day_pro_sales['weekday']=daily_data_rewards_decile_by_day_pro_sales['transaction_dt'].apply(lambda x: x.weekday())\n",
    "daily_data_rewards_decile_by_day_pro_sales['group']=np.where(daily_data_rewards_decile_by_day_pro_sales['weekday']==6,\"Sunday\",\n",
    "                                             np.where(daily_data_rewards_decile_by_day_pro_sales['weekday']==5,\"Saturday\",\n",
    "                                                      \"Mon_Fri\")\n",
    "                                            )\n",
    "\n",
    "gc.collect()"
   ]
  },
  {
   "cell_type": "code",
   "execution_count": null,
   "metadata": {
    "collapsed": true
   },
   "outputs": [],
   "source": []
  },
  {
   "cell_type": "code",
   "execution_count": null,
   "metadata": {
    "collapsed": true
   },
   "outputs": [],
   "source": [
    "def get_df_by_decile_units(df_input,weekday_group):\n",
    "    df_output=df_input[df_input['group']==weekday_group]\n",
    "    df_output=df_output.groupby(['subclass_desc','class_sub_class','frmindex'])['subclass_transaction_units'].sum().to_frame().reset_index().sort_values(['frmindex','subclass_transaction_units'],ascending=[True,False]).reset_index()\n",
    "    del df_output['index']\n",
    "    output=pd.DataFrame()\n",
    "    for decile,group in df_output.groupby(['frmindex']):\n",
    "        group=group.reset_index()\n",
    "        del group['index']\n",
    "        group['order_in_group']=[str(x+1) for x in range(len(group))]    \n",
    "        output=output.append(group)\n",
    "    output=output.reset_index()\n",
    "    del output['index']\n",
    "    output['group_rank']=output['frmindex']+\"|\"+output['order_in_group']        \n",
    "    return output"
   ]
  },
  {
   "cell_type": "code",
   "execution_count": null,
   "metadata": {
    "collapsed": true
   },
   "outputs": [],
   "source": [
    "def get_df_by_decile_sales(df_input,weekday_group):\n",
    "    df_output=df_input[df_input['group']==weekday_group]\n",
    "    df_output=df_output.groupby(['subclass_desc','class_sub_class','frmindex'])['subclass_transaction_amt'].sum().to_frame().reset_index().sort_values(['frmindex','subclass_transaction_amt'],ascending=[True,False]).reset_index()\n",
    "    del df_output['index']\n",
    "    output=pd.DataFrame()\n",
    "    for decile,group in df_output.groupby(['frmindex']):\n",
    "        group=group.reset_index()\n",
    "        del group['index']\n",
    "        group['order_in_group']=[str(x+1) for x in range(len(group))]    \n",
    "        output=output.append(group)\n",
    "    output=output.reset_index()\n",
    "    del output['index']\n",
    "    output['group_rank']=output['frmindex']+\"|\"+output['order_in_group']\n",
    "    \n",
    "    return output"
   ]
  },
  {
   "cell_type": "code",
   "execution_count": null,
   "metadata": {
    "collapsed": true
   },
   "outputs": [],
   "source": [
    "def get_df_by_PST_units(df_input,weekday_group):\n",
    "    df_output=df_input[df_input['group']==weekday_group]\n",
    "    df_output=df_output.groupby(['subclass_desc','class_sub_class','zipcodegroup'])['subclass_transaction_units'].sum().to_frame().reset_index().sort_values(['zipcodegroup','subclass_transaction_units'],ascending=[True,False]).reset_index()\n",
    "    del df_output['index']\n",
    "    output=pd.DataFrame()\n",
    "    for decile,group in df_output.groupby(['zipcodegroup']):\n",
    "        group=group.reset_index()\n",
    "        del group['index']\n",
    "        group['order_in_group']=[str(x+1) for x in range(len(group))]    \n",
    "        output=output.append(group)\n",
    "    output=output.reset_index()\n",
    "    del output['index']\n",
    "    output['group_rank']=output['zipcodegroup']+\"|\"+output['order_in_group'] \n",
    "    return output"
   ]
  },
  {
   "cell_type": "code",
   "execution_count": null,
   "metadata": {
    "collapsed": true
   },
   "outputs": [],
   "source": [
    "def get_df_by_PST_sales(df_input,weekday_group):\n",
    "    df_output=df_input[df_input['group']==weekday_group]\n",
    "    df_output=df_output.groupby(['subclass_desc','class_sub_class','zipcodegroup'])['subclass_transaction_amt'].sum().to_frame().reset_index().sort_values(['zipcodegroup','subclass_transaction_amt'],ascending=[True,False]).reset_index()\n",
    "    del df_output['index']\n",
    "    output=pd.DataFrame()\n",
    "    for decile,group in df_output.groupby(['zipcodegroup']):\n",
    "        group=group.reset_index()\n",
    "        del group['index']\n",
    "        group['order_in_group']=[str(x+1) for x in range(len(group))]    \n",
    "        output=output.append(group)\n",
    "    output=output.reset_index()\n",
    "    del output['index']\n",
    "    output['group_rank']=output['zipcodegroup']+\"|\"+output['order_in_group']\n",
    "    return output"
   ]
  },
  {
   "cell_type": "code",
   "execution_count": null,
   "metadata": {
    "collapsed": true
   },
   "outputs": [],
   "source": [
    "writer=pd.ExcelWriter(\"/home/jian/Projects/Big_Lots/Analysis/2018_Q3/Top_50_Products/BL_Products_by_Deciles_weekday_JL_\"+str(datetime.datetime.now().date())+\".xlsx\", engine=\"xlsxwriter\")\n",
    "\n",
    "daily_data_rewards_decile_count_mem.to_excel(writer,\"member_count_by_decile\",index=False)\n",
    "\n",
    "output_1_Saturday_Rewards_Decile_units=get_df_by_decile_units(daily_data_rewards_decile_by_day_pro_units,\"Saturday\")\n",
    "output_1_Saturday_Rewards_Decile_units.to_excel(writer,\"Saturday_Units\",index=False)\n",
    "del output_1_Saturday_Rewards_Decile_units\n",
    "\n",
    "output_2_Sunday_Rewards_Decile_units=get_df_by_decile_units(daily_data_rewards_decile_by_day_pro_units,\"Sunday\")\n",
    "output_2_Sunday_Rewards_Decile_units.to_excel(writer,\"Sunday_Units\",index=False)\n",
    "del output_2_Sunday_Rewards_Decile_units\n",
    "\n",
    "output_3_Mon_Fri_Rewards_Decile_units=get_df_by_decile_units(daily_data_rewards_decile_by_day_pro_units,\"Mon_Fri\")\n",
    "output_3_Mon_Fri_Rewards_Decile_units.to_excel(writer,\"Mon_Fri_Units\",index=False)\n",
    "del output_3_Mon_Fri_Rewards_Decile_units\n",
    "\n",
    "output_4_Saturday_Rewards_Decile_sales=get_df_by_decile_sales(daily_data_rewards_decile_by_day_pro_sales,\"Saturday\")\n",
    "output_4_Saturday_Rewards_Decile_sales.to_excel(writer,\"Saturday_sales\",index=False)\n",
    "del output_4_Saturday_Rewards_Decile_sales\n",
    "\n",
    "output_5_Sunday_Rewards_Decile_sales=get_df_by_decile_sales(daily_data_rewards_decile_by_day_pro_sales,\"Sunday\")\n",
    "output_5_Sunday_Rewards_Decile_sales.to_excel(writer,\"Sunday_sales\",index=False)\n",
    "del output_5_Sunday_Rewards_Decile_sales\n",
    "\n",
    "output_6_Mon_Fri_Rewards_Decile_sales=get_df_by_decile_sales(daily_data_rewards_decile_by_day_pro_sales,\"Mon_Fri\")\n",
    "output_6_Mon_Fri_Rewards_Decile_sales.to_excel(writer,\"Mon_Fri_sales\",index=False)\n",
    "del output_6_Mon_Fri_Rewards_Decile_sales\n",
    "\n",
    "writer.save()"
   ]
  },
  {
   "cell_type": "code",
   "execution_count": null,
   "metadata": {
    "collapsed": true
   },
   "outputs": [],
   "source": [
    "daily_data_rewards_PST_by_day_pro_units=daily_data_rewards_decile.groupby(['location_id','zipcodegroup','transaction_dt','class_sub_class'])['subclass_transaction_units'].sum().to_frame().reset_index()\n",
    "daily_data_rewards_PST_by_day_pro_sales=daily_data_rewards_decile.groupby(['location_id','zipcodegroup','transaction_dt','class_sub_class'])['subclass_transaction_amt'].sum().to_frame().reset_index()\n",
    "\n",
    "daily_data_rewards_PST_by_day_pro_units=pd.merge(daily_data_rewards_PST_by_day_pro_units,product_taxonomy,on=\"class_sub_class\",how=\"left\")\n",
    "daily_data_rewards_PST_by_day_pro_sales=pd.merge(daily_data_rewards_PST_by_day_pro_sales,product_taxonomy,on=\"class_sub_class\",how=\"left\")\n",
    "\n",
    "\n",
    "daily_data_rewards_PST_by_day_pro_units['weekday']=daily_data_rewards_PST_by_day_pro_units['transaction_dt'].apply(lambda x: x.weekday())\n",
    "daily_data_rewards_PST_by_day_pro_units['group']=np.where(daily_data_rewards_PST_by_day_pro_units['weekday']==6,\"Sunday\",\n",
    "                                             np.where(daily_data_rewards_PST_by_day_pro_units['weekday']==5,\"Saturday\",\n",
    "                                                      \"Mon_Fri\")\n",
    "                                            )\n",
    "daily_data_rewards_PST_by_day_pro_sales['weekday']=daily_data_rewards_PST_by_day_pro_sales['transaction_dt'].apply(lambda x: x.weekday())\n",
    "daily_data_rewards_PST_by_day_pro_sales['group']=np.where(daily_data_rewards_PST_by_day_pro_sales['weekday']==6,\"Sunday\",\n",
    "                                             np.where(daily_data_rewards_PST_by_day_pro_sales['weekday']==5,\"Saturday\",\n",
    "                                                      \"Mon_Fri\")\n",
    "                                            )\n",
    "\n",
    "gc.collect()\n"
   ]
  },
  {
   "cell_type": "code",
   "execution_count": null,
   "metadata": {
    "collapsed": true
   },
   "outputs": [],
   "source": [
    "writer=pd.ExcelWriter(\"/home/jian/Projects/Big_Lots/Analysis/2018_Q3/Top_50_Products/BL_Products_by_Zip_Group_weekday_JL_\"+str(datetime.datetime.now().date())+\".xlsx\", engine=\"xlsxwriter\")\n",
    "daily_data_rewards_PST_count_mem.to_excel(writer,\"member_count_by_PST\",index=False)\n",
    "\n",
    "output_1_Saturday_Rewards_PST_units=get_df_by_PST_units(daily_data_rewards_PST_by_day_pro_units,\"Saturday\")\n",
    "output_1_Saturday_Rewards_PST_units.to_excel(writer,\"Saturday_Units\",index=False)\n",
    "del output_1_Saturday_Rewards_PST_units\n",
    "\n",
    "output_2_Sunday_Rewards_PST_units=get_df_by_PST_units(daily_data_rewards_PST_by_day_pro_units,\"Sunday\")\n",
    "output_2_Sunday_Rewards_PST_units.to_excel(writer,\"Sunday_Units\",index=False)\n",
    "del output_2_Sunday_Rewards_PST_units\n",
    "\n",
    "output_3_Mon_Fri_Rewards_PST_units=get_df_by_PST_units(daily_data_rewards_PST_by_day_pro_units,\"Mon_Fri\")\n",
    "output_3_Mon_Fri_Rewards_PST_units.to_excel(writer,\"Mon_Fri_Units\",index=False)\n",
    "del output_3_Mon_Fri_Rewards_PST_units\n",
    "\n",
    "output_4_Saturday_Rewards_PST_sales=get_df_by_PST_sales(daily_data_rewards_PST_by_day_pro_sales,\"Saturday\")\n",
    "output_4_Saturday_Rewards_PST_sales.to_excel(writer,\"Saturday_sales\",index=False)\n",
    "del output_4_Saturday_Rewards_PST_sales\n",
    "\n",
    "output_5_Sunday_Rewards_PST_sales=get_df_by_PST_sales(daily_data_rewards_PST_by_day_pro_sales,\"Sunday\")\n",
    "output_5_Sunday_Rewards_PST_sales.to_excel(writer,\"Sunday_sales\",index=False)\n",
    "del output_5_Sunday_Rewards_PST_sales\n",
    "\n",
    "output_6_Mon_Fri_Rewards_PST_sales=get_df_by_PST_sales(daily_data_rewards_PST_by_day_pro_sales,\"Mon_Fri\")\n",
    "output_6_Mon_Fri_Rewards_PST_sales.to_excel(writer,\"Mon_Fri_sales\",index=False)\n",
    "del output_6_Mon_Fri_Rewards_PST_sales\n",
    "\n",
    "writer.save()"
   ]
  },
  {
   "cell_type": "code",
   "execution_count": null,
   "metadata": {
    "collapsed": true
   },
   "outputs": [],
   "source": []
  },
  {
   "cell_type": "code",
   "execution_count": null,
   "metadata": {
    "collapsed": true
   },
   "outputs": [],
   "source": []
  },
  {
   "cell_type": "code",
   "execution_count": null,
   "metadata": {
    "collapsed": true
   },
   "outputs": [],
   "source": [
    "'''\n",
    "writer=pd.ExcelWriter(\"/home/jian/Projects/Big_Lots/Analysis/2018_Q3/Top_50_Products/BL_Products_by_Deciles_weekday_JL_\"+str(datetime.datetime.now().date())+\".xlsx\", engine=\"xlsxwriter\")\n",
    "daily_data_rewards_decile_count_mem.to_excel(writer,\"member_count_by_decile\",index=False)\n",
    "\n",
    "output_1_Saturday_Rewards_Decile_units=daily_data_rewards_decile_by_day_pro_units[daily_data_rewards_decile_by_day_pro_units['group']==\"Saturday\"]\n",
    "output_1_Saturday_Rewards_Decile_units=output_1_Saturday_Rewards_Decile_units.groupby(['subclass_desc','class_sub_class','frmindex'])['subclass_transaction_units'].sum().to_frame().reset_index().sort_values(['frmindex','subclass_transaction_units'],ascending=[True,False]).reset_index()\n",
    "del output_1_Saturday_Rewards_Decile_units['index']\n",
    "output_1_Saturday_Rewards_Decile_units.to_excel(writer,\"Saturday_Units\",index=False)\n",
    "del output_1_Saturday_Rewards_Decile_units\n",
    "\n",
    "output_2_Sunday_Rewards_Decile_units=daily_data_rewards_decile_by_day_pro_units[daily_data_rewards_decile_by_day_pro_units['group']==\"Sunday\"]\n",
    "output_2_Sunday_Rewards_Decile_units=output_2_Sunday_Rewards_Decile_units.groupby(['subclass_desc','class_sub_class','frmindex'])['subclass_transaction_units'].sum().to_frame().reset_index().sort_values(['frmindex','subclass_transaction_units'],ascending=[True,False]).reset_index()\n",
    "del output_2_Sunday_Rewards_Decile_units['index']\n",
    "output_2_Sunday_Rewards_Decile_units.to_excel(writer,\"Sunday_Units\",index=False)\n",
    "del output_2_Sunday_Rewards_Decile_units\n",
    "\n",
    "output_3_Mon_Fri_Rewards_Decile_units=daily_data_rewards_decile_by_day_pro_units[daily_data_rewards_decile_by_day_pro_units['group']==\"Mon_Fri\"]\n",
    "output_3_Mon_Fri_Rewards_Decile_units=output_3_Mon_Fri_Rewards_Decile_units.groupby(['subclass_desc','class_sub_class','frmindex'])['subclass_transaction_units'].sum().to_frame().reset_index().sort_values(['frmindex','subclass_transaction_units'],ascending=[True,False]).reset_index()\n",
    "del output_3_Mon_Fri_Rewards_Decile_units['index']\n",
    "output_3_Mon_Fri_Rewards_Decile_units.to_excel(writer,\"Weekday_Units\",index=False)\n",
    "del output_3_Mon_Fri_Rewards_Decile_units\n",
    "\n",
    "output_4_Saturday_Rewards_Decile_sales=daily_data_rewards_decile_by_day_pro_sales[daily_data_rewards_decile_by_day_pro_sales['group']==\"Saturday\"]\n",
    "output_4_Saturday_Rewards_Decile_sales=output_4_Saturday_Rewards_Decile_sales.groupby(['subclass_desc','class_sub_class','frmindex'])['subclass_transaction_amt'].sum().to_frame().reset_index().sort_values(['frmindex','subclass_transaction_units'],ascending=[True,False]).reset_index()\n",
    "del output_4_Saturday_Rewards_Decile_sales['index']\n",
    "output_4_Saturday_Rewards_Decile_sales.to_excel(writer,\"Saturday_Sales\",index=False)\n",
    "del output_4_Saturday_Rewards_Decile_sales\n",
    "\n",
    "output_5_Sunday_Rewards_Decile_sales=daily_data_rewards_decile_by_day_pro_sales[daily_data_rewards_decile_by_day_pro_sales['group']==\"Sunday\"]\n",
    "output_5_Sunday_Rewards_Decile_sales=output_5_Sunday_Rewards_Decile_sales.groupby(['subclass_desc','class_sub_class','frmindex'])['subclass_transaction_amt'].sum().to_frame().reset_index().sort_values(['frmindex','subclass_transaction_units'],ascending=[True,False]).reset_index()\n",
    "del output_5_Sunday_Rewards_Decile_sales['index']\n",
    "output_5_Sunday_Rewards_Decile_sales.to_excel(writer,\"Sunday_Sales\",index=False)\n",
    "del output_5_Sunday_Rewards_Decile_sales\n",
    "\n",
    "output_6_Mon_Fri_Rewards_Decile_sales=daily_data_rewards_decile_by_day_pro_sales[daily_data_rewards_decile_by_day_pro_sales['group']==\"Mon_Fri\"]\n",
    "output_6_Mon_Fri_Rewards_Decile_sales=output_6_Mon_Fri_Rewards_Decile_sales.groupby(['subclass_desc','class_sub_class','frmindex'])['subclass_transaction_amt'].sum().to_frame().reset_index().sort_values(['frmindex','subclass_transaction_units'],ascending=[True,False]).reset_index()\n",
    "del output_6_Mon_Fri_Rewards_Decile_sales['index']\n",
    "output_6_Mon_Fri_Rewards_Decile_sales.to_excel(writer,\"Weekday_Sales\",index=False)\n",
    "del output_6_Mon_Fri_Rewards_Decile_sales\n",
    "writer.save()\n",
    "'''"
   ]
  },
  {
   "cell_type": "code",
   "execution_count": null,
   "metadata": {
    "collapsed": true
   },
   "outputs": [],
   "source": [
    "'''\n",
    "daily_data_rewards_PST_by_day_pro_units=daily_data_rewards_decile.groupby(['location_id','zipcodegroup','transaction_dt','class_sub_class'])['subclass_transaction_units'].sum().to_frame().reset_index()\n",
    "daily_data_rewards_decile_count_mem=daily_data_rewards_decile.groupby(['location_id','zipcodegroup','transaction_dt','class_sub_class'])['subclass_transaction_amt'].sum().to_frame().reset_index()\n",
    "\n",
    "daily_data_rewards_PST_by_day_pro_units=pd.merge(daily_data_rewards_PST_by_day_pro_units,product_taxonomy,on=\"class_sub_class\",how=\"left\")\n",
    "daily_data_rewards_PST_by_day_pro_sales=pd.merge(daily_data_rewards_PST_by_day_pro_sales,product_taxonomy,on=\"class_sub_class\",how=\"left\")\n",
    "\n",
    "\n",
    "daily_data_rewards_PST_by_day_pro_units['weekday']=daily_data_rewards_PST_by_day_pro_units['transaction_dt'].apply(lambda x: x.weekday())\n",
    "daily_data_rewards_PST_by_day_pro_units['group']=np.where(daily_data_rewards_PST_by_day_pro_units['weekday']==6,\"Sunday\",\n",
    "                                             np.where(daily_data_rewards_PST_by_day_pro_units['weekday']==5,\"Saturday\",\n",
    "                                                      \"Mon_Fri\")\n",
    "                                            )\n",
    "daily_data_rewards_PST_by_day_pro_sales['weekday']=daily_data_rewards_PST_by_day_pro_sales['transaction_dt'].apply(lambda x: x.weekday())\n",
    "daily_data_rewards_PST_by_day_pro_sales['group']=np.where(daily_data_rewards_PST_by_day_pro_sales['weekday']==6,\"Sunday\",\n",
    "                                             np.where(daily_data_rewards_PST_by_day_pro_sales['weekday']==5,\"Saturday\",\n",
    "                                                      \"Mon_Fri\")\n",
    "                                            )\n",
    "\n",
    "gc.collect()\n",
    "'''"
   ]
  },
  {
   "cell_type": "code",
   "execution_count": null,
   "metadata": {
    "collapsed": true
   },
   "outputs": [],
   "source": [
    "'''\n",
    "writer=pd.ExcelWriter(\"/home/jian/Projects/Big_Lots/Analysis/2018_Q3/Top_50_Products/BL_Products_by_Zip_Group_weekday_JL_\"+str(datetime.datetime.now().date())+\".xlsx\", engine=\"xlsxwriter\")\n",
    "daily_data_rewards_PST_count_mem.to_excel(writer,\"member_count_by_PST\",index=False)\n",
    "\n",
    "output_1_Saturday_Rewards_PST_units=daily_data_rewards_PST_by_day_pro_units[daily_data_rewards_PST_by_day_pro_units['group']==\"Saturday\"]\n",
    "output_1_Saturday_Rewards_PST_units=output_1_Saturday_Rewards_PST_units.groupby(['subclass_desc','class_sub_class','zipcodegroup'])['subclass_transaction_units'].sum().to_frame().reset_index().sort_values(['zipcodegroup','subclass_transaction_units'],ascending=[True,False]).reset_index()\n",
    "del output_1_Saturday_Rewards_PST_units['index']\n",
    "output_1_Saturday_Rewards_PST_units.to_excel(writer,\"Saturday_Units\",index=False)\n",
    "del output_1_Saturday_Rewards_PST_units\n",
    "\n",
    "output_2_Sunday_Rewards_PST_units=daily_data_rewards_PST_by_day_pro_units[daily_data_rewards_PST_by_day_pro_units['group']==\"Sunday\"]\n",
    "output_2_Sunday_Rewards_PST_units=output_2_Sunday_Rewards_PST_units.groupby(['subclass_desc','class_sub_class','zipcodegroup'])['subclass_transaction_units'].sum().to_frame().reset_index().sort_values(['zipcodegroup','subclass_transaction_units'],ascending=[True,False]).reset_index()\n",
    "del output_2_Sunday_Rewards_PST_units['index']\n",
    "output_2_Sunday_Rewards_PST_units.to_excel(writer,\"Sunday_Units\",index=False)\n",
    "del output_2_Sunday_Rewards_PST_units\n",
    "\n",
    "output_3_Mon_Fri_Rewards_PST_units=daily_data_rewards_PST_by_day_pro_units[daily_data_rewards_PST_by_day_pro_units['group']==\"Mon_Fri\"]\n",
    "output_3_Mon_Fri_Rewards_PST_units=output_3_Mon_Fri_Rewards_PST_units.groupby(['subclass_desc','class_sub_class','zipcodegroup'])['subclass_transaction_units'].sum().to_frame().reset_index().sort_values(['zipcodegroup','subclass_transaction_units'],ascending=[True,False]).reset_index()\n",
    "del output_3_Mon_Fri_Rewards_PST_units['index']\n",
    "output_3_Mon_Fri_Rewards_PST_units.to_excel(writer,\"Weekday_Units\",index=False)\n",
    "del output_3_Mon_Fri_Rewards_PST_units\n",
    "\n",
    "output_4_Saturday_Rewards_PST_sales=daily_data_rewards_PST_by_day_pro_sales[daily_data_rewards_PST_by_day_pro_sales['group']==\"Saturday\"]\n",
    "output_4_Saturday_Rewards_PST_sales=output_4_Saturday_Rewards_PST_sales.groupby(['subclass_desc','class_sub_class','zipcodegroup'])['subclass_transaction_amt'].sum().to_frame().reset_index().sort_values(['zipcodegroup','subclass_transaction_units'],ascending=[True,False]).reset_index()\n",
    "del output_4_Saturday_Rewards_PST_sales['index']\n",
    "output_4_Saturday_Rewards_PST_sales.to_excel(writer,\"Saturday_Sales\",index=False)\n",
    "del output_4_Saturday_Rewards_PST_sales\n",
    "\n",
    "output_5_Sunday_Rewards_PST_sales=daily_data_rewards_PST_by_day_pro_sales[daily_data_rewards_PST_by_day_pro_sales['group']==\"Sunday\"]\n",
    "output_5_Sunday_Rewards_PST_sales=output_5_Sunday_Rewards_PST_sales.groupby(['subclass_desc','class_sub_class','zipcodegroup'])['subclass_transaction_amt'].sum().to_frame().reset_index().sort_values(['zipcodegroup','subclass_transaction_units'],ascending=[True,False]).reset_index()\n",
    "del output_5_Sunday_Rewards_PST_sales['index']\n",
    "output_5_Sunday_Rewards_PST_sales.to_excel(writer,\"Sunday_Sales\",index=False)\n",
    "del output_5_Sunday_Rewards_PST_sales\n",
    "\n",
    "output_6_Mon_Fri_Rewards_PST_sales=daily_data_rewards_PST_by_day_pro_sales[daily_data_rewards_PST_by_day_pro_sales['group']==\"Mon_Fri\"]\n",
    "output_6_Mon_Fri_Rewards_PST_sales=output_6_Mon_Fri_Rewards_PST_sales.groupby(['subclass_desc','class_sub_class','zipcodegroup'])['subclass_transaction_amt'].sum().to_frame().reset_index().sort_values(['zipcodegroup','subclass_transaction_units'],ascending=[True,False]).reset_index()\n",
    "del output_6_Mon_Fri_Rewards_PST_sales['index']\n",
    "output_6_Mon_Fri_Rewards_PST_sales.to_excel(writer,\"Weekday_Sales\",index=False)\n",
    "del output_6_Mon_Fri_Rewards_PST_sales\n",
    "writer.save()\n",
    "'''"
   ]
  },
  {
   "cell_type": "code",
   "execution_count": null,
   "metadata": {
    "collapsed": true
   },
   "outputs": [],
   "source": []
  }
 ],
 "metadata": {
  "kernelspec": {
   "display_name": "Python 3",
   "language": "python",
   "name": "python3"
  },
  "language_info": {
   "codemirror_mode": {
    "name": "ipython",
    "version": 3
   },
   "file_extension": ".py",
   "mimetype": "text/x-python",
   "name": "python",
   "nbconvert_exporter": "python",
   "pygments_lexer": "ipython3",
   "version": "3.6.1"
  }
 },
 "nbformat": 4,
 "nbformat_minor": 2
}
