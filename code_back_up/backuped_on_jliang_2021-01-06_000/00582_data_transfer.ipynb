{
 "cells": [
  {
   "cell_type": "code",
   "execution_count": 1,
   "metadata": {
    "collapsed": true
   },
   "outputs": [],
   "source": [
    "import datetime\n",
    "import os\n",
    "import paramiko\n",
    "import pandas as pd"
   ]
  },
  {
   "cell_type": "code",
   "execution_count": 2,
   "metadata": {
    "collapsed": true
   },
   "outputs": [],
   "source": [
    "def recrusive_file_gen(root_folder):\n",
    "    for root, dirs, files in os.walk(root_folder):\n",
    "        for file in files:\n",
    "            yield os.path.join(root, file)"
   ]
  },
  {
   "cell_type": "code",
   "execution_count": 10,
   "metadata": {
    "collapsed": true
   },
   "outputs": [],
   "source": [
    "remote_server_root=\"/mnt/drv5/saatva/BL_data_for_Circ_analysis/\""
   ]
  },
  {
   "cell_type": "code",
   "execution_count": 13,
   "metadata": {},
   "outputs": [],
   "source": [
    "host = \"64.237.51.251\" #hard-coded\n",
    "port = 22\n",
    "transport = paramiko.Transport((host, port))\n",
    "\n",
    "password = \"jian@juba2017\" #hard-coded\n",
    "username = \"jian\" #hard-coded\n",
    "transport.connect(username = username, password = password)\n",
    "sftp = paramiko.SFTPClient.from_transport(transport)\n",
    "\n",
    "\n"
   ]
  },
  {
   "cell_type": "code",
   "execution_count": 14,
   "metadata": {},
   "outputs": [],
   "source": [
    "start_weekend_date_2019=\"2019-03-09\"\n",
    "\n",
    "data_2019=list(recrusive_file_gen(\"/home/jian/BigLots/2019_by_weeks/\"))\n",
    "data_2019=[x for x in data_2019 if \"DailySales\" in x]\n",
    "data_2019_df=pd.DataFrame({\"file_path\":data_2019})\n",
    "data_2019_df['week_end_dt']=data_2019_df['file_path'].apply(lambda x: x.split(\"y_weeks/MediaStorm_\")[1][:10])\n",
    "data_2019_df=data_2019_df[data_2019_df['week_end_dt']>=start_weekend_date_2019]\n",
    "\n",
    "for local_path in data_2019_df['file_path'].tolist():\n",
    "    remote_path=\"/mnt/drv5/saatva/BL_data_for_Circ_analysis/ItemLevel_2019/\"+os.path.basename(local_path)\n",
    "    sftp.put(local_path,remote_path)\n",
    "\n",
    "    "
   ]
  },
  {
   "cell_type": "code",
   "execution_count": 15,
   "metadata": {},
   "outputs": [
    {
     "data": {
      "text/html": [
       "<div>\n",
       "<style>\n",
       "    .dataframe thead tr:only-child th {\n",
       "        text-align: right;\n",
       "    }\n",
       "\n",
       "    .dataframe thead th {\n",
       "        text-align: left;\n",
       "    }\n",
       "\n",
       "    .dataframe tbody tr th {\n",
       "        vertical-align: top;\n",
       "    }\n",
       "</style>\n",
       "<table border=\"1\" class=\"dataframe\">\n",
       "  <thead>\n",
       "    <tr style=\"text-align: right;\">\n",
       "      <th></th>\n",
       "      <th>file_path</th>\n",
       "      <th>week_end_dt</th>\n",
       "    </tr>\n",
       "  </thead>\n",
       "  <tbody>\n",
       "    <tr>\n",
       "      <th>27</th>\n",
       "      <td>/home/jian/BigLots/hist_daily_data_subclasslev...</td>\n",
       "      <td>2018-03-31</td>\n",
       "    </tr>\n",
       "    <tr>\n",
       "      <th>32</th>\n",
       "      <td>/home/jian/BigLots/hist_daily_data_subclasslev...</td>\n",
       "      <td>2018-04-07</td>\n",
       "    </tr>\n",
       "    <tr>\n",
       "      <th>33</th>\n",
       "      <td>/home/jian/BigLots/hist_daily_data_subclasslev...</td>\n",
       "      <td>2018-04-21</td>\n",
       "    </tr>\n",
       "    <tr>\n",
       "      <th>34</th>\n",
       "      <td>/home/jian/BigLots/hist_daily_data_subclasslev...</td>\n",
       "      <td>2018-03-17</td>\n",
       "    </tr>\n",
       "    <tr>\n",
       "      <th>35</th>\n",
       "      <td>/home/jian/BigLots/hist_daily_data_subclasslev...</td>\n",
       "      <td>2018-03-10</td>\n",
       "    </tr>\n",
       "    <tr>\n",
       "      <th>36</th>\n",
       "      <td>/home/jian/BigLots/hist_daily_data_subclasslev...</td>\n",
       "      <td>2018-04-14</td>\n",
       "    </tr>\n",
       "    <tr>\n",
       "      <th>37</th>\n",
       "      <td>/home/jian/BigLots/hist_daily_data_subclasslev...</td>\n",
       "      <td>2018-05-05</td>\n",
       "    </tr>\n",
       "    <tr>\n",
       "      <th>38</th>\n",
       "      <td>/home/jian/BigLots/hist_daily_data_subclasslev...</td>\n",
       "      <td>2018-03-24</td>\n",
       "    </tr>\n",
       "    <tr>\n",
       "      <th>39</th>\n",
       "      <td>/home/jian/BigLots/hist_daily_data_subclasslev...</td>\n",
       "      <td>2018-04-28</td>\n",
       "    </tr>\n",
       "  </tbody>\n",
       "</table>\n",
       "</div>"
      ],
      "text/plain": [
       "                                            file_path week_end_dt\n",
       "27  /home/jian/BigLots/hist_daily_data_subclasslev...  2018-03-31\n",
       "32  /home/jian/BigLots/hist_daily_data_subclasslev...  2018-04-07\n",
       "33  /home/jian/BigLots/hist_daily_data_subclasslev...  2018-04-21\n",
       "34  /home/jian/BigLots/hist_daily_data_subclasslev...  2018-03-17\n",
       "35  /home/jian/BigLots/hist_daily_data_subclasslev...  2018-03-10\n",
       "36  /home/jian/BigLots/hist_daily_data_subclasslev...  2018-04-14\n",
       "37  /home/jian/BigLots/hist_daily_data_subclasslev...  2018-05-05\n",
       "38  /home/jian/BigLots/hist_daily_data_subclasslev...  2018-03-24\n",
       "39  /home/jian/BigLots/hist_daily_data_subclasslev...  2018-04-28"
      ]
     },
     "execution_count": 15,
     "metadata": {},
     "output_type": "execute_result"
    }
   ],
   "source": [
    "start_weekend_date_2018=\"2018-03-10\"\n",
    "end_weekend_date_2018=\"2018-05-05\"\n",
    "\n",
    "data_2018=list(recrusive_file_gen(\"/home/jian/BigLots/hist_daily_data_subclasslevel/\"))\n",
    "data_2018=[x for x in data_2018 if \"DailySales\" in x]\n",
    "data_2018_df=pd.DataFrame({\"file_path\":data_2018})\n",
    "\n",
    "\n",
    "data_2018_df['week_end_dt']=data_2018_df['file_path'].apply(lambda x: x.split(\"MediaStormDailySales_week_ending_\")[1][:10])\n",
    "data_2018_df=data_2018_df[data_2018_df['week_end_dt']>=start_weekend_date_2018]\n",
    "data_2018_df=data_2018_df[data_2018_df['week_end_dt']<=end_weekend_date_2018]\n",
    "data_2018_df"
   ]
  },
  {
   "cell_type": "code",
   "execution_count": 16,
   "metadata": {
    "collapsed": true
   },
   "outputs": [],
   "source": [
    "for local_path in data_2018_df['file_path'].tolist():\n",
    "    remote_path=\"/mnt/drv5/saatva/BL_data_for_Circ_analysis/SubclassLevel_2018/\"+os.path.basename(local_path)\n",
    "    sftp.put(local_path,remote_path)"
   ]
  },
  {
   "cell_type": "code",
   "execution_count": 17,
   "metadata": {
    "collapsed": true
   },
   "outputs": [],
   "source": [
    "sftp.put(\"/home/jian/BigLots/static_files/ProductTaxonomy/MediaStormProductTaxonomy20190401-134939-109.txt\",\n",
    "         \"/mnt/drv5/saatva/BL_data_for_Circ_analysis/Mapping_File/MediaStormProductTaxonomy20190401-134939-109.txt\")\n",
    "\n",
    "sftp.put(\"/home/jian/BigLots/static_files/MediaStorm Data Extract - Division Names.txt\",\n",
    "         \"/mnt/drv5/saatva/BL_data_for_Circ_analysis/Mapping_File/MediaStorm Data Extract - Division Names.txt\")\n",
    "\n",
    "sftp.put(\"/home/jian/BigLots/static_files/MediaStorm Data Extract - Product Taxonomy.txt\",\n",
    "         \"/mnt/drv5/saatva/BL_data_for_Circ_analysis/Mapping_File/MediaStorm Data Extract - Product Taxonomy.txt\")\n",
    "\n",
    "sftp.close()\n"
   ]
  },
  {
   "cell_type": "code",
   "execution_count": null,
   "metadata": {
    "collapsed": true
   },
   "outputs": [],
   "source": []
  }
 ],
 "metadata": {
  "kernelspec": {
   "display_name": "Python 3",
   "language": "python",
   "name": "python3"
  },
  "language_info": {
   "codemirror_mode": {
    "name": "ipython",
    "version": 3
   },
   "file_extension": ".py",
   "mimetype": "text/x-python",
   "name": "python",
   "nbconvert_exporter": "python",
   "pygments_lexer": "ipython3",
   "version": "3.6.1"
  }
 },
 "nbformat": 4,
 "nbformat_minor": 2
}
