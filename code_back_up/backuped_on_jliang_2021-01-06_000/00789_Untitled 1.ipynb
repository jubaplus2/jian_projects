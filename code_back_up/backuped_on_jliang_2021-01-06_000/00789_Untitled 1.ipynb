{
 "cells": [
  {
   "cell_type": "code",
   "execution_count": 1,
   "metadata": {},
   "outputs": [
    {
     "name": "stdout",
     "output_type": "stream",
     "text": [
      "(1426, 2) 1426\n",
      "(1438, 2) 1438\n"
     ]
    }
   ],
   "source": [
    "import pandas as pd\n",
    "import numpy as np\n",
    "\n",
    "file_furinture_sales_label=pd.ExcelFile(\"/home/jian/Projects/Big_Lots/Live_Ramp/Quarterly_Update_2020Q1/BL_output_store_type_furniture_3_months_JL_2020-01-16.xlsx\")\n",
    "df_store_furniture_label=file_furinture_sales_label.parse('store_type_recent_3_months',dtype=str)\n",
    "df_store_furniture_label=df_store_furniture_label[['location_id','store_furniture_group']]\n",
    "df_store_furniture_label['store_furniture_group']=\"Furniture\"+df_store_furniture_label['store_furniture_group']\n",
    "print(df_store_furniture_label.shape,df_store_furniture_label['location_id'].nunique())\n",
    "\n",
    "#######\n",
    "\n",
    "df_store_competition=pd.read_csv(\"/home/jian/Projects/Big_Lots/Live_Ramp/Quarterly_Update_2020Q1/Competitor_Label/BL_competitor_count_JL_2020-01-21.csv\",dtype=str)\n",
    "del df_store_competition['competitor_count']\n",
    "df_store_competition['competition_group']=\"Competitors\"+df_store_competition['competition_group']\n",
    "print(df_store_competition.shape,df_store_competition['location_id'].nunique())"
   ]
  },
  {
   "cell_type": "code",
   "execution_count": 2,
   "metadata": {},
   "outputs": [],
   "source": [
    "store_list=pd.read_table(\"/home/jian/BigLots/static_files/Store_list/MediaStormStores20200101-135601-098.txt\",\n",
    "                        dtype=str,sep=\"|\",usecols=['location_id'])\n",
    "store_list=store_list.drop_duplicates()\n",
    "store_list=store_list[store_list['location_id']!=\"145\"]\n",
    "store_list=store_list[store_list['location_id']!=\"6990\"]\n"
   ]
  },
  {
   "cell_type": "code",
   "execution_count": 3,
   "metadata": {},
   "outputs": [
    {
     "name": "stdout",
     "output_type": "stream",
     "text": [
      "['unique_zips', 'view_by_TA', 'view_by_store', 'view_by_store_and_zip', 'store_list_full_202001']\n"
     ]
    },
    {
     "data": {
      "text/plain": [
       "(23634, 3)"
      ]
     },
     "execution_count": 3,
     "metadata": {},
     "output_type": "execute_result"
    }
   ],
   "source": [
    "TA_excel=pd.ExcelFile(\"/home/jian/Projects/Big_Lots/Analysis/2019_Q4/Planner_Request/Ramiro_TA_request_20200124/BL_zips_in_TA_2020_updated_30_new_stores_JL_2020-01-27.xlsx\")\n",
    "print(TA_excel.sheet_names)\n",
    "\n",
    "df_zips_by_store=TA_excel.parse(\"view_by_store_and_zip\",dtype=str)\n",
    "df_zips_by_store=df_zips_by_store[['location_id','zip_cd','zip_type']]\n",
    "\n",
    "df_store_list_with_zip=pd.merge(store_list,df_zips_by_store,on=\"location_id\",how=\"left\")\n",
    "df_store_list_with_zip.shape"
   ]
  },
  {
   "cell_type": "code",
   "execution_count": 4,
   "metadata": {},
   "outputs": [
    {
     "data": {
      "text/plain": [
       "13324"
      ]
     },
     "execution_count": 4,
     "metadata": {},
     "output_type": "execute_result"
    }
   ],
   "source": [
    "df_store_list_with_zip=pd.merge(df_store_list_with_zip,df_store_furniture_label,on=\"location_id\",how=\"left\")\n",
    "df_store_list_with_zip=pd.merge(df_store_list_with_zip,df_store_competition,on=\"location_id\",how=\"left\")\n",
    "df_store_list_with_zip['zip_cd'].nunique()"
   ]
  },
  {
   "cell_type": "code",
   "execution_count": 5,
   "metadata": {},
   "outputs": [
    {
     "data": {
      "text/html": [
       "<div>\n",
       "<style scoped>\n",
       "    .dataframe tbody tr th:only-of-type {\n",
       "        vertical-align: middle;\n",
       "    }\n",
       "\n",
       "    .dataframe tbody tr th {\n",
       "        vertical-align: top;\n",
       "    }\n",
       "\n",
       "    .dataframe thead th {\n",
       "        text-align: right;\n",
       "    }\n",
       "</style>\n",
       "<table border=\"1\" class=\"dataframe\">\n",
       "  <thead>\n",
       "    <tr style=\"text-align: right;\">\n",
       "      <th></th>\n",
       "      <th>location_id</th>\n",
       "      <th>zip_cd</th>\n",
       "      <th>zip_type</th>\n",
       "      <th>store_furniture_group</th>\n",
       "      <th>competition_group</th>\n",
       "    </tr>\n",
       "  </thead>\n",
       "  <tbody>\n",
       "    <tr>\n",
       "      <th>0</th>\n",
       "      <td>1</td>\n",
       "      <td>43227</td>\n",
       "      <td>trans_P</td>\n",
       "      <td>FurnitureHigh</td>\n",
       "      <td>CompetitorsLow/No</td>\n",
       "    </tr>\n",
       "    <tr>\n",
       "      <th>1</th>\n",
       "      <td>1</td>\n",
       "      <td>43207</td>\n",
       "      <td>trans_P</td>\n",
       "      <td>FurnitureHigh</td>\n",
       "      <td>CompetitorsLow/No</td>\n",
       "    </tr>\n",
       "    <tr>\n",
       "      <th>2</th>\n",
       "      <td>1</td>\n",
       "      <td>43209</td>\n",
       "      <td>trans_P</td>\n",
       "      <td>FurnitureHigh</td>\n",
       "      <td>CompetitorsLow/No</td>\n",
       "    </tr>\n",
       "    <tr>\n",
       "      <th>3</th>\n",
       "      <td>1</td>\n",
       "      <td>43232</td>\n",
       "      <td>trans_P</td>\n",
       "      <td>FurnitureHigh</td>\n",
       "      <td>CompetitorsLow/No</td>\n",
       "    </tr>\n",
       "    <tr>\n",
       "      <th>4</th>\n",
       "      <td>1</td>\n",
       "      <td>43125</td>\n",
       "      <td>trans_S</td>\n",
       "      <td>FurnitureHigh</td>\n",
       "      <td>CompetitorsLow/No</td>\n",
       "    </tr>\n",
       "    <tr>\n",
       "      <th>5</th>\n",
       "      <td>1</td>\n",
       "      <td>43205</td>\n",
       "      <td>trans_S</td>\n",
       "      <td>FurnitureHigh</td>\n",
       "      <td>CompetitorsLow/No</td>\n",
       "    </tr>\n",
       "  </tbody>\n",
       "</table>\n",
       "</div>"
      ],
      "text/plain": [
       "  location_id zip_cd zip_type store_furniture_group  competition_group\n",
       "0           1  43227  trans_P         FurnitureHigh  CompetitorsLow/No\n",
       "1           1  43207  trans_P         FurnitureHigh  CompetitorsLow/No\n",
       "2           1  43209  trans_P         FurnitureHigh  CompetitorsLow/No\n",
       "3           1  43232  trans_P         FurnitureHigh  CompetitorsLow/No\n",
       "4           1  43125  trans_S         FurnitureHigh  CompetitorsLow/No\n",
       "5           1  43205  trans_S         FurnitureHigh  CompetitorsLow/No"
      ]
     },
     "execution_count": 5,
     "metadata": {},
     "output_type": "execute_result"
    }
   ],
   "source": [
    "df_store_list_with_zip.head(6)"
   ]
  },
  {
   "cell_type": "code",
   "execution_count": 6,
   "metadata": {},
   "outputs": [
    {
     "name": "stdout",
     "output_type": "stream",
     "text": [
      "FurnitureHigh (11024,)\n",
      "FurnitureLow (4031,)\n",
      "CompetitorsHigh (8853,)\n",
      "CompetitorsLow/No (6159,)\n"
     ]
    }
   ],
   "source": [
    "# writer=pd.ExcelWriter(\"./BL_zips_by_Furniture_and_Competitors_JL_\"+str(datetime.datetime.now().date())+\".xlsx\",engine=\"xlsxwriter\")\n",
    "len_max=0\n",
    "dict_list_zip={}\n",
    "for furniture_seg, df_group in df_store_list_with_zip.groupby(\"store_furniture_group\"):\n",
    "    df=df_group['zip_cd'].drop_duplicates()\n",
    "    df=df.rename(columns={\"zip_cd\":furniture_seg})\n",
    "    print(furniture_seg,df.shape)\n",
    "    if len(df)>len_max:\n",
    "        len_max=len(df)\n",
    "    dict_list_zip.update({furniture_seg:df[furniture_seg].unique().tolist()})\n",
    "    # df.to_excel(writer,furniture_seg,index=False)\n",
    "    \n",
    "for competition_seg, df_group in df_store_list_with_zip.groupby(\"competition_group\"):\n",
    "    df=df_group['zip_cd'].drop_duplicates()\n",
    "    df=df.rename(columns={\"zip_cd\":competition_seg})\n",
    "    print(competition_seg,df.shape)\n",
    "    if len(df)>len_max:\n",
    "        len_max=len(df)\n",
    "    dict_list_zip.update({competition_seg:df[competition_seg].unique().tolist()})\n",
    "    # df.to_excel(writer,furniture_seg,index=False)\n",
    "\n",
    "for k,v in  dict_list_zip:\n",
    "    v.sort()\n",
    "    new_v=v+[np.nan]*(len_max-len(v))\n",
    "    dict_list_zip.update({k:new_v})\n",
    "    \n",
    "df_unique_all_zips=pd.DataFrame(dict_list_zip)\n",
    "df_unique_all_zips.to_excel(writer,\"all_zips_by_seg\",index=False)\n",
    "# writer.save()"
   ]
  },
  {
   "cell_type": "code",
   "execution_count": 28,
   "metadata": {},
   "outputs": [
    {
     "data": {
      "text/html": [
       "<div>\n",
       "<style scoped>\n",
       "    .dataframe tbody tr th:only-of-type {\n",
       "        vertical-align: middle;\n",
       "    }\n",
       "\n",
       "    .dataframe tbody tr th {\n",
       "        vertical-align: top;\n",
       "    }\n",
       "\n",
       "    .dataframe thead th {\n",
       "        text-align: right;\n",
       "    }\n",
       "</style>\n",
       "<table border=\"1\" class=\"dataframe\">\n",
       "  <thead>\n",
       "    <tr style=\"text-align: right;\">\n",
       "      <th></th>\n",
       "      <th>location_id</th>\n",
       "      <th>zip_cd</th>\n",
       "      <th>zip_type</th>\n",
       "      <th>store_furniture_group</th>\n",
       "      <th>competitor_count</th>\n",
       "      <th>competition_group</th>\n",
       "    </tr>\n",
       "  </thead>\n",
       "  <tbody>\n",
       "    <tr>\n",
       "      <th>0</th>\n",
       "      <td>1</td>\n",
       "      <td>43227</td>\n",
       "      <td>trans_P</td>\n",
       "      <td>FurnitureHigh</td>\n",
       "      <td>49</td>\n",
       "      <td>Low/No</td>\n",
       "    </tr>\n",
       "    <tr>\n",
       "      <th>1</th>\n",
       "      <td>1</td>\n",
       "      <td>43207</td>\n",
       "      <td>trans_P</td>\n",
       "      <td>FurnitureHigh</td>\n",
       "      <td>49</td>\n",
       "      <td>Low/No</td>\n",
       "    </tr>\n",
       "  </tbody>\n",
       "</table>\n",
       "</div>"
      ],
      "text/plain": [
       "  location_id zip_cd zip_type store_furniture_group competitor_count  \\\n",
       "0           1  43227  trans_P         FurnitureHigh               49   \n",
       "1           1  43207  trans_P         FurnitureHigh               49   \n",
       "\n",
       "  competition_group  \n",
       "0            Low/No  \n",
       "1            Low/No  "
      ]
     },
     "execution_count": 28,
     "metadata": {},
     "output_type": "execute_result"
    }
   ],
   "source": [
    "df_store_list_with_zip.head(2)"
   ]
  },
  {
   "cell_type": "code",
   "execution_count": 19,
   "metadata": {},
   "outputs": [
    {
     "data": {
      "text/plain": [
       "13324"
      ]
     },
     "execution_count": 19,
     "metadata": {},
     "output_type": "execute_result"
    }
   ],
   "source": []
  },
  {
   "cell_type": "code",
   "execution_count": null,
   "metadata": {},
   "outputs": [],
   "source": []
  }
 ],
 "metadata": {
  "kernelspec": {
   "display_name": "Python 3",
   "language": "python",
   "name": "python3"
  },
  "language_info": {
   "codemirror_mode": {
    "name": "ipython",
    "version": 3
   },
   "file_extension": ".py",
   "mimetype": "text/x-python",
   "name": "python",
   "nbconvert_exporter": "python",
   "pygments_lexer": "ipython3",
   "version": "3.6.1"
  }
 },
 "nbformat": 4,
 "nbformat_minor": 2
}
