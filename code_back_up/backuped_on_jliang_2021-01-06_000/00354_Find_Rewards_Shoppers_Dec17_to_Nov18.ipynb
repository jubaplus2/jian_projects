{
 "cells": [
  {
   "cell_type": "code",
   "execution_count": 1,
   "metadata": {
    "collapsed": true
   },
   "outputs": [],
   "source": [
    "import pandas as pd\n",
    "import numpy as np\n",
    "import datetime\n",
    "import os\n",
    "import logging\n",
    "import json\n",
    "logging.basicConfig(filename='Extract_Dec17_Nov18_RewShoppers.log', level=logging.INFO)\n",
    "samplerows=None"
   ]
  },
  {
   "cell_type": "code",
   "execution_count": 2,
   "metadata": {
    "collapsed": true
   },
   "outputs": [],
   "source": [
    "def recursive_file_gen(my_root_dir):\n",
    "    for root, dirs, files in os.walk(my_root_dir):\n",
    "        for file in files:\n",
    "            yield os.path.join(root, file)"
   ]
  },
  {
   "cell_type": "code",
   "execution_count": 3,
   "metadata": {
    "collapsed": true
   },
   "outputs": [],
   "source": [
    "historical_daily_subclass_files=list(recursive_file_gen(\"/home/jian/BigLots/hist_daily_data_subclasslevel/\"))\n",
    "df_historical_daily_subclass_files=pd.DataFrame({\"file_path\":historical_daily_subclass_files})\n",
    "df_historical_daily_subclass_files['Week_Date']=df_historical_daily_subclass_files['file_path'].apply(lambda x: x.split(\"es_week_ending_\")[1][:10])\n",
    "df_historical_daily_subclass_files=df_historical_daily_subclass_files[df_historical_daily_subclass_files['Week_Date']>=\"2017-12-03\"]\n",
    "df_historical_daily_subclass_files=df_historical_daily_subclass_files.sort_values(\"Week_Date\",ascending=True)"
   ]
  },
  {
   "cell_type": "code",
   "execution_count": 4,
   "metadata": {
    "collapsed": true
   },
   "outputs": [],
   "source": [
    "_daily_2018_subclass_files=list(recursive_file_gen(\"/home/jian/BigLots/2018_by_weeks/\"))\n",
    "_daily_2018_subclass_files=[x for x in _daily_2018_subclass_files if \"aily\" in x]\n",
    "_daily_2018_subclass_files=[x for x in _daily_2018_subclass_files if \".txt\" in x]\n",
    "df_daily_2018_subclass_files=pd.DataFrame({\"file_path\":_daily_2018_subclass_files})\n",
    "\n",
    "df_daily_2018_subclass_files['Week_Date']=df_daily_2018_subclass_files['file_path'].apply(lambda x: x.split(\"2018_by_weeks/MediaStorm_\")[1][:10])\n",
    "df_daily_2018_subclass_files=df_daily_2018_subclass_files[df_daily_2018_subclass_files['Week_Date']>=df_historical_daily_subclass_files['Week_Date'].max()]\n",
    "df_daily_2018_subclass_files=df_daily_2018_subclass_files[df_daily_2018_subclass_files['Week_Date']<=\"2018-12-01\"]\n",
    "\n",
    "df_daily_2018_subclass_files=df_daily_2018_subclass_files.sort_values(\"Week_Date\",ascending=True)\n"
   ]
  },
  {
   "cell_type": "code",
   "execution_count": 5,
   "metadata": {
    "collapsed": true
   },
   "outputs": [],
   "source": [
    "all_12_month_sales=df_historical_daily_subclass_files.append(df_daily_2018_subclass_files).reset_index()\n",
    "del all_12_month_sales['index']\n",
    "logging.info(str(all_12_month_sales.shape))\n",
    "logging.info(all_12_month_sales['Week_Date'].min())\n",
    "logging.info(all_12_month_sales['Week_Date'].max())\n",
    "\n",
    "logging.info(\"Started: \"+str(datetime.datetime.now()))"
   ]
  },
  {
   "cell_type": "code",
   "execution_count": 18,
   "metadata": {},
   "outputs": [
    {
     "data": {
      "text/plain": [
       "'/home/jian/BigLots/hist_daily_data_subclasslevel/MediaStormDailySales_week_ending_2018-02-24.txt'"
      ]
     },
     "execution_count": 18,
     "metadata": {},
     "output_type": "execute_result"
    }
   ],
   "source": [
    "all_12_month_sales['file_path'][11]"
   ]
  },
  {
   "cell_type": "code",
   "execution_count": 19,
   "metadata": {},
   "outputs": [
    {
     "data": {
      "text/html": [
       "<div>\n",
       "<style>\n",
       "    .dataframe thead tr:only-child th {\n",
       "        text-align: right;\n",
       "    }\n",
       "\n",
       "    .dataframe thead th {\n",
       "        text-align: left;\n",
       "    }\n",
       "\n",
       "    .dataframe tbody tr th {\n",
       "        vertical-align: top;\n",
       "    }\n",
       "</style>\n",
       "<table border=\"1\" class=\"dataframe\">\n",
       "  <thead>\n",
       "    <tr style=\"text-align: right;\">\n",
       "      <th></th>\n",
       "      <th>location_id</th>\n",
       "      <th>transaction_dt</th>\n",
       "      <th>transaction_id</th>\n",
       "      <th>customer_id_hashed</th>\n",
       "      <th>class_code_id</th>\n",
       "      <th>subclass_id</th>\n",
       "      <th>subclass_transaction_units</th>\n",
       "      <th>subclass_transaction_amt</th>\n",
       "    </tr>\n",
       "  </thead>\n",
       "  <tbody>\n",
       "    <tr>\n",
       "      <th>0</th>\n",
       "      <td>5270</td>\n",
       "      <td>2018-02-21</td>\n",
       "      <td>8588</td>\n",
       "      <td>774d4d4a0aeda8120b1914e93ff1bdcf919abc1e60e8fa...</td>\n",
       "      <td>11003</td>\n",
       "      <td>8</td>\n",
       "      <td>2</td>\n",
       "      <td>1.2</td>\n",
       "    </tr>\n",
       "    <tr>\n",
       "      <th>1</th>\n",
       "      <td>1939</td>\n",
       "      <td>2018-02-19</td>\n",
       "      <td>3222</td>\n",
       "      <td>cc7fd8a2c5e7f8f50ec706d2b30823660ee98820990181...</td>\n",
       "      <td>13002</td>\n",
       "      <td>1</td>\n",
       "      <td>1</td>\n",
       "      <td>3.0</td>\n",
       "    </tr>\n",
       "  </tbody>\n",
       "</table>\n",
       "</div>"
      ],
      "text/plain": [
       "  location_id transaction_dt transaction_id  \\\n",
       "0        5270     2018-02-21           8588   \n",
       "1        1939     2018-02-19           3222   \n",
       "\n",
       "                                  customer_id_hashed class_code_id  \\\n",
       "0  774d4d4a0aeda8120b1914e93ff1bdcf919abc1e60e8fa...         11003   \n",
       "1  cc7fd8a2c5e7f8f50ec706d2b30823660ee98820990181...         13002   \n",
       "\n",
       "  subclass_id subclass_transaction_units  subclass_transaction_amt  \n",
       "0           8                          2                       1.2  \n",
       "1           1                          1                       3.0  "
      ]
     },
     "execution_count": 19,
     "metadata": {},
     "output_type": "execute_result"
    }
   ],
   "source": [
    "test=pd.read_table('/home/jian/BigLots/hist_daily_data_subclasslevel/MediaStormDailySales_week_ending_2018-02-24.txt',nrows=samplerows,dtype=str,sep=\"|\")\n",
    "test['subclass_transaction_amt']=test['subclass_transaction_amt'].astype(float)\n",
    "test.head(2)"
   ]
  },
  {
   "cell_type": "code",
   "execution_count": 23,
   "metadata": {},
   "outputs": [
    {
     "data": {
      "text/plain": [
       "112050489.7999998"
      ]
     },
     "execution_count": 23,
     "metadata": {},
     "output_type": "execute_result"
    }
   ],
   "source": [
    "test['subclass_transaction_amt'].sum()"
   ]
  },
  {
   "cell_type": "code",
   "execution_count": 25,
   "metadata": {},
   "outputs": [],
   "source": [
    "all_12_month_sales.to_csv(\"/home/jian/test.csv\")"
   ]
  },
  {
   "cell_type": "code",
   "execution_count": 9,
   "metadata": {},
   "outputs": [
    {
     "name": "stdout",
     "output_type": "stream",
     "text": [
      "0|2019-03-05 11:39:26.115268|2017-12-09\n",
      "1|2019-03-05 11:42:02.096263|2017-12-16\n",
      "2|2019-03-05 11:43:23.883880|2017-12-23\n",
      "3|2019-03-05 11:43:47.135987|2017-12-30\n",
      "4|2019-03-05 11:44:08.624007|2018-01-06\n",
      "5|2019-03-05 11:44:32.664567|2018-01-13\n",
      "6|2019-03-05 11:45:04.053614|2018-01-20\n",
      "7|2019-03-05 11:45:42.354270|2018-01-27\n",
      "8|2019-03-05 11:47:44.284181|2018-02-03\n",
      "9|2019-03-05 11:48:10.646829|2018-02-10\n",
      "10|2019-03-05 11:48:37.036333|2018-02-17\n",
      "11|2019-03-05 11:49:01.335206|2018-02-24\n",
      "12|2019-03-05 11:49:56.932930|2018-03-03\n",
      "13|2019-03-05 11:50:39.991610|2018-03-10\n",
      "14|2019-03-05 11:51:05.579779|2018-03-17\n",
      "15|2019-03-05 11:51:28.636289|2018-03-24\n",
      "16|2019-03-05 11:52:18.313553|2018-03-31\n",
      "17|2019-03-05 11:52:56.938215|2018-04-07\n",
      "18|2019-03-05 11:53:26.120130|2018-04-14\n",
      "19|2019-03-05 11:53:48.401725|2018-04-21\n",
      "20|2019-03-05 11:54:11.467436|2018-04-28\n",
      "21|2019-03-05 11:54:46.377685|2018-05-05\n",
      "22|2019-03-05 11:55:08.542151|2018-05-12\n",
      "23|2019-03-05 11:55:28.428907|2018-05-19\n",
      "24|2019-03-05 11:55:51.605393|2018-05-26\n",
      "25|2019-03-05 11:56:14.166708|2018-06-02\n",
      "26|2019-03-05 11:56:36.546332|2018-06-09\n",
      "27|2019-03-05 11:57:00.438600|2018-06-16\n",
      "28|2019-03-05 11:57:24.777914|2018-06-23\n",
      "29|2019-03-05 11:57:50.425546|2018-06-30\n",
      "30|2019-03-05 11:58:23.135405|2018-07-07\n",
      "31|2019-03-05 11:58:53.385104|2018-07-14\n",
      "32|2019-03-05 11:59:17.881477|2018-07-21\n",
      "33|2019-03-05 11:59:43.309153|2018-07-28\n",
      "34|2019-03-05 12:00:09.884313|2018-08-04\n",
      "35|2019-03-05 12:00:37.039966|2018-08-11\n",
      "36|2019-03-05 12:01:05.104289|2018-08-18\n",
      "37|2019-03-05 12:01:32.961498|2018-08-25\n",
      "38|2019-03-05 12:02:00.744525|2018-09-01\n",
      "39|2019-03-05 12:02:29.613804|2018-09-08\n",
      "40|2019-03-05 12:02:56.733938|2018-09-15\n",
      "41|2019-03-05 12:03:23.855007|2018-09-22\n",
      "42|2019-03-05 12:03:57.382046|2018-09-29\n",
      "43|2019-03-05 12:04:32.352810|2018-10-06\n",
      "44|2019-03-05 12:04:53.294167|2018-10-13\n",
      "45|2019-03-05 12:05:20.881040|2018-10-20\n",
      "46|2019-03-05 12:05:50.037235|2018-10-27\n",
      "47|2019-03-05 12:06:20.176417|2018-11-03\n",
      "48|2019-03-05 12:07:08.650802|2018-11-10\n",
      "49|2019-03-05 12:07:51.241247|2018-11-17\n",
      "50|2019-03-05 12:08:44.025967|2018-11-24\n",
      "51|2019-03-05 12:09:39.156075|2018-12-01\n"
     ]
    }
   ],
   "source": [
    "all_shopped_rewards_Dec17_Nov18=pd.DataFrame()\n",
    "\n",
    "for i in range(len(all_12_month_sales)):\n",
    "    week_end_date=all_12_month_sales['Week_Date'][i]\n",
    "    file=all_12_month_sales['file_path'][i]\n",
    "    df=pd.read_table(file,nrows=samplerows,dtype=str,sep=\"|\",usecols=[\"customer_id_hashed\",\"subclass_transaction_amt\"])\n",
    "    df=df[~pd.isnull(df['customer_id_hashed'])]\n",
    "    df['subclass_transaction_amt']=df['subclass_transaction_amt'].astype(float)\n",
    "    df=df[df['subclass_transaction_amt']>0]\n",
    "    del df['subclass_transaction_amt']\n",
    "    df=df.drop_duplicates()\n",
    "    df['week_end']=week_end_date\n",
    "    \n",
    "    all_shopped_rewards_Dec17_Nov18=all_shopped_rewards_Dec17_Nov18.append(df)\n",
    "    print(str(i)+\"|\"+str(datetime.datetime.now())+\"|\"+week_end_date)\n",
    "all_shopped_rewards_list=all_shopped_rewards_Dec17_Nov18['customer_id_hashed'].unique().tolist()\n"
   ]
  },
  {
   "cell_type": "code",
   "execution_count": 13,
   "metadata": {},
   "outputs": [
    {
     "data": {
      "text/plain": [
       "52"
      ]
     },
     "execution_count": 13,
     "metadata": {},
     "output_type": "execute_result"
    }
   ],
   "source": [
    "len(all_shopped_rewards_Dec17_Nov18['week_end'].unique())"
   ]
  },
  {
   "cell_type": "code",
   "execution_count": 86,
   "metadata": {
    "collapsed": true
   },
   "outputs": [],
   "source": [
    "with open(\"/home/jian/Projects/Big_Lots/Analysis/2018_Q4/URL_Pages/RewardsShoppersList_in_12_month_JL_\"+str(datetime.datetime.now().date())+\".json\", 'w') as outfile:\n",
    "    json.dump(all_shopped_rewards_list, outfile)"
   ]
  },
  {
   "cell_type": "code",
   "execution_count": 82,
   "metadata": {
    "collapsed": true
   },
   "outputs": [],
   "source": [
    "all_shopped_rewards_Dec17_Nov18.to_csv(\"/home/jian/Projects/Big_Lots/Analysis/2018_Q4/URL_Pages/RewardsShoppers_in_12_month_JL_\"+str(datetime.datetime.now().date())+\".csv\",index=False)\n",
    "\n"
   ]
  },
  {
   "cell_type": "code",
   "execution_count": 20,
   "metadata": {},
   "outputs": [
    {
     "data": {
      "text/plain": [
       "16635546"
      ]
     },
     "execution_count": 20,
     "metadata": {},
     "output_type": "execute_result"
    }
   ],
   "source": [
    "len(all_shopped_rewards_list)"
   ]
  },
  {
   "cell_type": "code",
   "execution_count": 21,
   "metadata": {},
   "outputs": [
    {
     "data": {
      "text/html": [
       "<div>\n",
       "<style>\n",
       "    .dataframe thead tr:only-child th {\n",
       "        text-align: right;\n",
       "    }\n",
       "\n",
       "    .dataframe thead th {\n",
       "        text-align: left;\n",
       "    }\n",
       "\n",
       "    .dataframe tbody tr th {\n",
       "        vertical-align: top;\n",
       "    }\n",
       "</style>\n",
       "<table border=\"1\" class=\"dataframe\">\n",
       "  <thead>\n",
       "    <tr style=\"text-align: right;\">\n",
       "      <th></th>\n",
       "      <th>customer_id_hashed</th>\n",
       "      <th>week_end</th>\n",
       "    </tr>\n",
       "  </thead>\n",
       "  <tbody>\n",
       "    <tr>\n",
       "      <th>2</th>\n",
       "      <td>51b0bcc411caf31a9b457aef532d60543d0be24f3820bd...</td>\n",
       "      <td>2017-12-09</td>\n",
       "    </tr>\n",
       "    <tr>\n",
       "      <th>4</th>\n",
       "      <td>ae4351cc7373b3780fc64587cba52d82b535009df4e688...</td>\n",
       "      <td>2017-12-09</td>\n",
       "    </tr>\n",
       "  </tbody>\n",
       "</table>\n",
       "</div>"
      ],
      "text/plain": [
       "                                  customer_id_hashed    week_end\n",
       "2  51b0bcc411caf31a9b457aef532d60543d0be24f3820bd...  2017-12-09\n",
       "4  ae4351cc7373b3780fc64587cba52d82b535009df4e688...  2017-12-09"
      ]
     },
     "execution_count": 21,
     "metadata": {},
     "output_type": "execute_result"
    }
   ],
   "source": [
    "all_shopped_rewards_Dec17_Nov18.head(2)"
   ]
  },
  {
   "cell_type": "code",
   "execution_count": 22,
   "metadata": {},
   "outputs": [
    {
     "data": {
      "text/plain": [
       "(57933793, 2)"
      ]
     },
     "execution_count": 22,
     "metadata": {},
     "output_type": "execute_result"
    }
   ],
   "source": [
    "all_shopped_rewards_Dec17_Nov18.shape"
   ]
  },
  {
   "cell_type": "code",
   "execution_count": null,
   "metadata": {
    "collapsed": true
   },
   "outputs": [],
   "source": []
  }
 ],
 "metadata": {
  "kernelspec": {
   "display_name": "Python 3",
   "language": "python",
   "name": "python3"
  },
  "language_info": {
   "codemirror_mode": {
    "name": "ipython",
    "version": 3
   },
   "file_extension": ".py",
   "mimetype": "text/x-python",
   "name": "python",
   "nbconvert_exporter": "python",
   "pygments_lexer": "ipython3",
   "version": "3.6.1"
  }
 },
 "nbformat": 4,
 "nbformat_minor": 2
}
